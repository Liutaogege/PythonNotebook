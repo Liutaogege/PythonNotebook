{
 "cells": [
  {
   "cell_type": "markdown",
   "metadata": {},
   "source": [
    "# 视图的继承\n",
    "- odoo不是通过覆盖来修改现有视图，而是通过视图继承，子视图不仅能够修改继承自父视图的内容，而且能够修改和删除父视图中的内容。其arch字段由任意数量的xpath元素组成，选择和修改父视图的内容\n",
    "- 格式如下：\n",
    "        <record id=\"china_city.res_county_tree_view\" model=\"ir.ui.view\">\n",
    "            <field name=\"name\">res_country_tree_view</field>\n",
    "            <field name=\"module\">res.country</field>\n",
    "            <field name=\"inherit_id\" ref=\"base.view_country_tree\"/>\n",
    "            <field name=\"arch\" type=\"xml\">\n",
    "                <xpath expr=\"//tree\" position=\"attributes\">\n",
    "                    <attribute name=\"create\">true</attribute>\n",
    "                </xpath>\n",
    "                <xpath expr=\"//tree/field[@name='code']\" position=\"after\">\n",
    "                    <field name=\"phone_code\"/>\n",
    "                </xpath>\n",
    "                <field name=\"code\" position=\"before\">\n",
    "                    <field name=\"currency_id\"/>\n",
    "                </field>\n",
    "            </field>\n",
    "        </record>\n",
    "- 在标签上直接使用position，其取值有以下几个：\n",
    "    - attribus：给当前查找到的标签添加属性\n",
    "    - replace：替换当前的标签\n",
    "    - after：在当前标签之后添加\n",
    "    - before：在当前标签之前添加\n",
    "    - inside：在当前标签内部直接添加一个"
   ]
  }
 ],
 "metadata": {
  "kernelspec": {
   "display_name": "Python 3",
   "language": "python",
   "name": "python3"
  },
  "language_info": {
   "codemirror_mode": {
    "name": "ipython",
    "version": 3
   },
   "file_extension": ".py",
   "mimetype": "text/x-python",
   "name": "python",
   "nbconvert_exporter": "python",
   "pygments_lexer": "ipython3",
   "version": "3.8.5"
  }
 },
 "nbformat": 4,
 "nbformat_minor": 4
}
