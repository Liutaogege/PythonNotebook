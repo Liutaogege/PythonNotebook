{
 "cells": [
  {
   "cell_type": "markdown",
   "metadata": {},
   "source": [
    "# 视图的继承\n",
    "- odoo不是通过覆盖来修改现有视图，而是通过视图继承，子视图不仅能够修改继承自父视图的内容，而且能够修改和删除父视图中的内容。其arch字段由任意数量的xpath元素组成，选择和修改父视图的内容\n",
    "- 继承是通过设置这两个字段定义：\n",
    "    - inherit_id, ref表示的是父视图的id\n",
    "    - mode：继承的模式：extension和primary。extension表示对现有视图进行扩展（默认），primary表示以现有视图为基础新建视图\n",
    "\n",
    "## 视图匹配规则\n",
    "- 如果某视图被以模型与类型的方式进行请求，那么就会匹配mode为primary，priority最小的且对应正确模型与类型的视图\n",
    "- 当某个视图被用id进行请求，如果他的mode不是primary，那么他就会，与他相邻最近的mode为primary的父视图（一直向上找父视图)就会进行匹配\n",
    "\n",
    "    \n",
    "## 视图的解析\n",
    "- 被请求的视图如果有父视图，则父视图被完全解析然后应用于当前视图的继承规范\n",
    "- 如果没有父视图，就使用arch里面的视图布局\n",
    "- 如果该视图有子视图（即使用extension模式的视图），则以深度优先的模式逐渐来应用其继承规范。最后就产生了其视图布局\n",
    "\n",
    "## 继承规范\n",
    "- 在标签上直接使用position，其取值有以下几个：\n",
    "    - attributes：给当前查找到的标签添加属性或删除属性\n",
    "        - 如果attributes有body，则表示新增属性，没有body表示删除\n",
    "        - attributes name=\"create\"/>  删除\n",
    "    - replace：替换当前的标签\n",
    "    - after：在当前标签之后添加\n",
    "    - before：在当前标签之前添加\n",
    "    - inside：在当前标签内部直接添加一个\n",
    "    - move:移除某一个标签，和inside, replace, after or before position搭配使用"
   ]
  },
  {
   "cell_type": "code",
   "execution_count": null,
   "metadata": {},
   "outputs": [],
   "source": []
  }
 ],
 "metadata": {
  "kernelspec": {
   "display_name": "Python 3",
   "language": "python",
   "name": "python3"
  },
  "language_info": {
   "codemirror_mode": {
    "name": "ipython",
    "version": 3
   },
   "file_extension": ".py",
   "mimetype": "text/x-python",
   "name": "python",
   "nbconvert_exporter": "python",
   "pygments_lexer": "ipython3",
   "version": "3.8.8"
  }
 },
 "nbformat": 4,
 "nbformat_minor": 4
}
