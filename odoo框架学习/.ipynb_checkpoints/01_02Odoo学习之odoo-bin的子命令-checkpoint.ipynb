{
 "cells": [
  {
   "cell_type": "markdown",
   "metadata": {},
   "source": [
    "# 子命令解释\n",
    "## 运行服务相关\n",
    "- -d database：表示数据库\n",
    "- -i modules / --init modules：运行服务器之前需要初始化的模型列表\n",
    "- -u modules / --update modules:更新模型，这个及以上都需要配置数据库\n",
    "- --addons-path dir:添加addons路径\n",
    "- -c config/ --config config:备用的配置文件\n",
    "- -s/--save:保存当前的配置到配置文件中\n",
    "- --without-demo:不加载demo\n",
    "- --test-enable:run tests after modules\n",
    "\n",
    "## 数据库相关\n",
    "- -r user, --db_user user\n",
    "- -w password, --db_password password\n",
    "- --db_host hostname\n",
    "- --db_port port\n",
    "- --db_filter\n",
    "- --db-template template\n",
    "- --pg_path\n",
    "- 更多详见于：https://www.odoo.com/documentation/14.0/reference/cmdline.html"
   ]
  },
  {
   "cell_type": "code",
   "execution_count": null,
   "metadata": {},
   "outputs": [],
   "source": []
  },
  {
   "cell_type": "code",
   "execution_count": null,
   "metadata": {},
   "outputs": [],
   "source": []
  },
  {
   "cell_type": "code",
   "execution_count": null,
   "metadata": {},
   "outputs": [],
   "source": []
  },
  {
   "cell_type": "code",
   "execution_count": null,
   "metadata": {},
   "outputs": [],
   "source": []
  }
 ],
 "metadata": {
  "kernelspec": {
   "display_name": "Python 3",
   "language": "python",
   "name": "python3"
  },
  "language_info": {
   "codemirror_mode": {
    "name": "ipython",
    "version": 3
   },
   "file_extension": ".py",
   "mimetype": "text/x-python",
   "name": "python",
   "nbconvert_exporter": "python",
   "pygments_lexer": "ipython3",
   "version": "3.8.5"
  }
 },
 "nbformat": 4,
 "nbformat_minor": 4
}
