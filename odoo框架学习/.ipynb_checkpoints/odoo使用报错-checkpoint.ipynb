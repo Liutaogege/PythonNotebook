{
 "cells": [
  {
   "cell_type": "markdown",
   "metadata": {},
   "source": [
    "# 错误一：\n",
    "### no-js\" argument is deprecated, as inline JavaScript is disabled by default\n",
    "- 解决方法：\n",
    "    - 使用node为v8.11.3,其中npm的版本为5.6.0\n",
    "    - npm install -g less@3.0.4， 然后npm install -g less-plugin-clean-css\n",
    "    - 在配置文件odoo.conf中写入：\n",
    "            limit_memory_hard = 2684354560\n",
    "            limit_memory_soft = 2147483648"
   ]
  },
  {
   "cell_type": "markdown",
   "metadata": {},
   "source": [
    "# 错误二：无法找到模块\n",
    "- 解决办法：\n",
    "    - https://blog.csdn.net/zpf_940810653842/article/details/81386319"
   ]
  },
  {
   "cell_type": "code",
   "execution_count": null,
   "metadata": {},
   "outputs": [],
   "source": []
  },
  {
   "cell_type": "code",
   "execution_count": null,
   "metadata": {},
   "outputs": [],
   "source": []
  },
  {
   "cell_type": "code",
   "execution_count": null,
   "metadata": {},
   "outputs": [],
   "source": []
  }
 ],
 "metadata": {
  "kernelspec": {
   "display_name": "Python 3",
   "language": "python",
   "name": "python3"
  },
  "language_info": {
   "codemirror_mode": {
    "name": "ipython",
    "version": 3
   },
   "file_extension": ".py",
   "mimetype": "text/x-python",
   "name": "python",
   "nbconvert_exporter": "python",
   "pygments_lexer": "ipython3",
   "version": "3.8.5"
  }
 },
 "nbformat": 4,
 "nbformat_minor": 2
}
