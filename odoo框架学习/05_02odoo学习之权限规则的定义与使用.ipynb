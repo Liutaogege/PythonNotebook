{
 "cells": [
  {
   "cell_type": "markdown",
   "metadata": {},
   "source": [
    "# 权限\n",
    "- 1.创建权限:\n",
    "        <record id=\"module_category\" model=\"ir.module.category\">\n",
    "            <field name=\"name\">疫情记录</field>\n",
    "            <field name=\"description\">疫情记录</field>\n",
    "            <field name=\"sequence\">1</field>\n",
    "        </record>\n",
    "        <!--    1PMO角色，全局可编辑，可查看-->\n",
    "            <record id=\"group_PMO\" model=\"res.groups\">\n",
    "                <field name=\"category_id\" ref=\"module_category\"/>\n",
    "                <field name=\"name\">PMO</field>\n",
    "                <field name=\"implied_ids\" eval=\"[(4, ref('base.user_root')), (4, ref('base.user_admin')), (4, ref('project.group_project_manager))]\"/>\n",
    "                <field name=\"comment\">PMO角色，全局可编辑，可查看</field>\n",
    "                <field name=\"users\" eval=\"[(4, ref('base.user_root)), (4, ref('base.user_admin'))]\"/>\n",
    "                <field name=\"category_id\" ref=\"module_category\"/>\n",
    "            </record>\n",
    "    - 使用ir.module.category来定义权限组的分类\n",
    "    - res.groups模型，定义权限角色\n",
    "    - 继承的权限implied_ids\n",
    "    - users默认指定\n",
    "    - ref属性，其值必须是有效的外部id，它将被查找并设置为该字段的值\n",
    "    - eval属性提供的python表达式并将结果设置为该字段的值\n",
    "    \n",
    "- 2.表级别权限\n",
    "    - security/ir.model.access.csv\n",
    "    - id,name,model_id:id,group_id:id,perm_read,perm_write,perm_create,perm_unlink\n",
    "    - 唯一标识符，名称，模型，权限，1/0,1/0,1/0,1/0\n",
    "\n",
    "- 3.记录级别权限（记录规则）\n",
    "        <record id=\"timesheet_group_tiemsheet_readonly_all_views\" model=\"ir.rule\">\n",
    "            <field name=\"name\">全局只读</field>\n",
    "            <field name=\"model_id\" ref=\"model_account_analytic_line\"/>\n",
    "            <field name=\"domain_force\">[(1, '=', 1)]</field>\n",
    "            <field name=\"groups\" eval=\"[(4, ref('group_timesheet_readonly')]\"/>\n",
    "            <field name=\"perm_read\" eval=\"True\"/>\n",
    "            <field name=\"perm_write\" eval=\"True\"/>\n",
    "            <field name=\"perm_create\" eval=\"True\"/>\n",
    "            <field name=\"perm_unlink\" eval=\"False\"/>\n",
    "        </record>\n",
    "    - name:记录规则名称\n",
    "    - model_id：模型id，ref可以理解为一个函数用来获取模型的id\n",
    "    - domain_force:记录规则查看条件\n",
    "    - groups:指定权限，可以是多个\n",
    "    - perm_read:读，后面依次是写，新增，删除\n",
    "    \n",
    "    \n",
    "- 4.菜单权限\n",
    "        <menuitem name=\"疫情记录\"\n",
    "                id=\"sec_epidemic_record_menu\"\n",
    "                parent=\"xxx\"\n",
    "                action=\"xxx\"\n",
    "                groups=\"base.group_user\"\n",
    "                sequence=\"10\"/>\n",
    "    - base.group_user,base.group_no_one\n",
    "    - 标签menuitem有一个groups属性，可以是一个或多个权限角色，多个权限角色使用逗号分隔，对拥有groups权限组的人可见\n",
    "    \n",
    "- 5.字段权限\n",
    "    - field标签有一个groups属性，可以是一个或者多个权限角色，多个权限角色使用逗号分隔，对拥有groups权限组的人可见"
   ]
  },
  {
   "cell_type": "markdown",
   "metadata": {},
   "source": [
    "## ir.access.csv文件详解\n",
    "        Odoo模块中权限配置文件ir.model.access.csv文件的对应的字段详细解析:\n",
    "                        id:权限id，默认规则是access_模块名_类名，还没发现有什么用\n",
    "                        name:权限名，默认规则是模块名.类名，还没发现有什么用\n",
    "                        model_id:id:这个是固定写法，规则是model_模块名_类名，其它地方引用权限会用这个id\n",
    "                        group_id:id:组id,这里的base.group_user是系统内置组，即员工.员工组，创建帐户时，默认属于这个组。所以给这个组赋权限，相当于给新帐户的默认权限。\n",
    "                        perm_read,perm_write,perm_create,perm_unlink:对应读、写、增加、删除权限，1是有权限，0是无权限，具体根据需要来设置权限"
   ]
  },
  {
   "cell_type": "code",
   "execution_count": null,
   "metadata": {},
   "outputs": [],
   "source": []
  },
  {
   "cell_type": "code",
   "execution_count": null,
   "metadata": {},
   "outputs": [],
   "source": []
  },
  {
   "cell_type": "code",
   "execution_count": null,
   "metadata": {},
   "outputs": [],
   "source": []
  },
  {
   "cell_type": "code",
   "execution_count": null,
   "metadata": {},
   "outputs": [],
   "source": []
  },
  {
   "cell_type": "code",
   "execution_count": null,
   "metadata": {},
   "outputs": [],
   "source": []
  }
 ],
 "metadata": {
  "kernelspec": {
   "display_name": "Python 3",
   "language": "python",
   "name": "python3"
  },
  "language_info": {
   "codemirror_mode": {
    "name": "ipython",
    "version": 3
   },
   "file_extension": ".py",
   "mimetype": "text/x-python",
   "name": "python",
   "nbconvert_exporter": "python",
   "pygments_lexer": "ipython3",
   "version": "3.8.5"
  }
 },
 "nbformat": 4,
 "nbformat_minor": 4
}
