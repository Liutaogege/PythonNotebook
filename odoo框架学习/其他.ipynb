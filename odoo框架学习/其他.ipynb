{
 "cells": [
  {
   "cell_type": "markdown",
   "metadata": {},
   "source": [
    "## 关于视图.xml文件中tag的解释\n",
    "- ir.actions.act_window它是一个模型，所有的窗口动作都存放在该模型中。常用属性如下：\n",
    "    - views ：一个(view_id, view_type)对的列表。每一对中的第二个元素是视图的类别(树、表单、图……)，第一个元素是一个可选的数据库id(或False)。如果没有提供id，客户机应该为请求的模型获取指定类型的默认视图(这是由fields_view_get()自动完成的)。列表的第一种类型是默认视图类型，在执行操作时默认打开。每种视图类型最多只能在列表中出现一次\n",
    "    - res_id (optional)：如果默认视图是form，指定要加载的记录(否则应该创建一个新记录)\n",
    "    - search_view_id (optional)：id, name)对，id是加载操作的特定搜索视图的数据库标识符。默认获取模型的默认搜索视图\n",
    "    - name：是指通过本窗口动作打开的视图的标题\n",
    "    - res_model：是窗体动作的模型名称\n",
    "    - view_mode：用于声明可用的视图类型及其顺序名称，第一个是执行动作时默认打开的视图\n",
    "    - target：如果设置为new，则将在弹出的对话框窗口中打开视图，默认情况下是current，表示在主内容区域中打开新视图\n",
    "    - context设置目标视图的上下文信息，可用设置默认值或激活过滤器等\n",
    "    - domain：域表达式，可强制对打开的视图中可浏览的记录进行过滤\n",
    "    - limit：是列表视图中每个页面的记录数\n",
    "- 同理，视图数据都是存储在数据库的ir.ui.view模型中的\n",
    "- 菜单数据都是存储在ir.ui.menu模型中的\n",
    "- res_model代表视图取数的模型，view_mode代表按顺序展示的视图类型\n",
    "- arch元素内部包含的类型可以是tree/form或search,arch后面必须要跟上type=\"xml\""
   ]
  }
 ],
 "metadata": {
  "kernelspec": {
   "display_name": "Python 3",
   "language": "python",
   "name": "python3"
  },
  "language_info": {
   "codemirror_mode": {
    "name": "ipython",
    "version": 3
   },
   "file_extension": ".py",
   "mimetype": "text/x-python",
   "name": "python",
   "nbconvert_exporter": "python",
   "pygments_lexer": "ipython3",
   "version": "3.8.5"
  }
 },
 "nbformat": 4,
 "nbformat_minor": 4
}
