{
 "cells": [
  {
   "cell_type": "markdown",
   "metadata": {},
   "source": [
    "# 模板的继承\n",
    "- 可以通过两个指令来完成\n",
    "    - t-inherit：继承的对象\n",
    "    - t-inherit-mode：继承的模式\n",
    "        - primary：表示新建一个子模版\n",
    "        - extension：表示对现有模板进行更改\n",
    "    - t-name：是可选的，如果模式是primary，则它是新模板的名字，如果不是，则是对继承的注释"
   ]
  }
 ],
 "metadata": {
  "kernelspec": {
   "display_name": "Python 3",
   "language": "python",
   "name": "python3"
  },
  "language_info": {
   "codemirror_mode": {
    "name": "ipython",
    "version": 3
   },
   "file_extension": ".py",
   "mimetype": "text/x-python",
   "name": "python",
   "nbconvert_exporter": "python",
   "pygments_lexer": "ipython3",
   "version": "3.8.8"
  }
 },
 "nbformat": 4,
 "nbformat_minor": 4
}
