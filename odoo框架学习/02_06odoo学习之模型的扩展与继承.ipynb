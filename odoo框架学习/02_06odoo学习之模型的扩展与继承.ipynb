{
 "cells": [
  {
   "cell_type": "markdown",
   "metadata": {},
   "source": [
    "# 继承与扩展\n",
    "- odoo提供了三种不同的机制以模块化方式扩展模型\n",
    "    - 扩展已经存在的模型，替换以前的模型版本内容\n",
    "    - 从已存在的模型创建新的模型，在新的模型添加一些信息，原模型保持不变\n",
    "    - 创建新的模型，默认新建继承中模型的字段和方法\n",
    "    \n",
    "## 扩展\n",
    "- 当使用_inherit但不使用_name时，新模型将替换现有模型，本质上将其扩展。一般是使用增加新字段或方法添加，或者自定义现有方法的内容。格式如下：\n",
    "- 新模型不会使用_name参数\n",
    "        _name = \"extension.0\"\n",
    "        _description = \"Extension zero\"\n",
    "        \n",
    "        name = fields.Char(string=\"xxx\")\n",
    "        \n",
    "        class Extension(models.Model):\n",
    "            _inherit = 'extension.0\"\n",
    "            description = fields.Char(default=\"extended\")\n",
    "            \n",
    "## 模型继承\n",
    "- 从已存在的模型创建新的模型，在新的模型添加一些信息，原模型保持不变\n",
    "- 新模型拥有被继承模型的属性和方法，如果字段或方法名称相同则替换旧模型中的属性和方法，但旧模型不变\n",
    "- 新模型要使用_name参数，且和原模型不能一样\n",
    "\n",
    "## Delegation\n",
    "- 第三种继承机制提供了更大的灵活性（可以在运行时进行更改），但功能更少：使用继承模型将当前模型上找不到的任何字段的查找委托给子模型，委托通过在父模型上自动设置的引用字段执行\n",
    "- 使用_inherits参数"
   ]
  },
  {
   "cell_type": "markdown",
   "metadata": {},
   "source": []
  },
  {
   "cell_type": "code",
   "execution_count": null,
   "metadata": {},
   "outputs": [],
   "source": []
  },
  {
   "cell_type": "code",
   "execution_count": null,
   "metadata": {},
   "outputs": [],
   "source": []
  },
  {
   "cell_type": "code",
   "execution_count": null,
   "metadata": {},
   "outputs": [],
   "source": []
  },
  {
   "cell_type": "code",
   "execution_count": null,
   "metadata": {},
   "outputs": [],
   "source": []
  },
  {
   "cell_type": "code",
   "execution_count": null,
   "metadata": {},
   "outputs": [],
   "source": []
  }
 ],
 "metadata": {
  "kernelspec": {
   "display_name": "Python 3",
   "language": "python",
   "name": "python3"
  },
  "language_info": {
   "codemirror_mode": {
    "name": "ipython",
    "version": 3
   },
   "file_extension": ".py",
   "mimetype": "text/x-python",
   "name": "python",
   "nbconvert_exporter": "python",
   "pygments_lexer": "ipython3",
   "version": "3.8.5"
  }
 },
 "nbformat": 4,
 "nbformat_minor": 4
}
