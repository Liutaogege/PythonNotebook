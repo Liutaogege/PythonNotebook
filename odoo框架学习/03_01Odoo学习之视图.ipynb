{
 "cells": [
  {
   "cell_type": "markdown",
   "metadata": {},
   "source": [
    "# 视图view\n",
    "- 用来定义记录如何呈现到终端使用者的，有list，form,kanban,calendar,\n",
    "\n",
    "# 通用结构\n",
    "- 所有视图的通用结构如下：大写的表示占位符\n",
    "        <record id=\"MODEL_view_TYPE\" model=\"ir.ui.view\">\n",
    "          <field name=\"name\">NAME</field>\n",
    "          <field name=\"model\">MODEL</field>\n",
    "          <field name=\"arch\" type=\"xml\">\n",
    "            <VIEW_TYPE>\n",
    "              <VIEW_SPECIFICATIONS/>\n",
    "            </VIEW_TYPE>\n",
    "          </field>\n",
    "        </record>\n",
    "\n",
    "\n",
    "## 字段fields\n",
    "- 视图对象公开了许多字段。它们是可选的，除非另有说明。\n",
    "- 具体如下：\n",
    "    - name：char类型，名字，必须设置，不过仅作为视图的助记符或描述\n",
    "    - model：char类型：链接到视图的模型（如果该模型可用）\n",
    "    - priority：int，视图被请求时返回的优先级，越小越先返回\n",
    "    - groups_id:Many2many类型，可以使用或访问该视图的权限组，如果视图被继承或拓展，这个也会被跟着继承\n",
    "    - arch：text类型，视图的具体布局\n",
    "\n",
    "## 属性attributes\n",
    "- 不同种类的视图具有不同的属性\n",
    "- 一些主要的属性如下：\n",
    "    - create：该记录能否被创建，所有视图\n",
    "    - edit：是否可编辑，form,list,gantt\n",
    "    - delete:form,list\n",
    "    - duplicate:是否可复制, form,list\n",
    "    - decoration-{$name}:值是Python表达式。对每条记录，表达式将以记录的属性作为上下文值进行计算，如果为真，则将相应的样式应用于该行。list，gantt。Gantt：success, info, warning, danger and secondary displays.  list ：bf, it, success, info, warning, danger, muted and primary displays.$\n",
    "            tree delete=\"1\" create=\"1\" import=\"0\" decoration-danger=\"is_expired == True\",还可以用作上下文的有uid，today，now\n",
    "    - sample:\n",
    "        - kanban & list & gantt & graph & pivot & cohort & dashboard.\n",
    "        - 如果没有为当前模型找到任何记录，则用一组示例记录填充视图。该属性默认为false。这些假的示例记录会模仿那些记录字段的样式，不过用户和他们不能交互而且这些数据将会被删除当一些记录的动作被执行\n",
    "    - banner_route：\n",
    "        - 如果设置了这个属性，控制器路由url将被获取并显示在视图上方。来自控制器的json响应应该包含一个\" html \"标签。如果它含有一个link标签，它将被删除并附加到head标签中。\n",
    "        - 为了可以和后台交互，可以使用标签a type='action'.详情查阅_onActionClicked method of AbstractController (addons/web/static/src/js/views/abstract_controller.js)"
   ]
  }
 ],
 "metadata": {
  "kernelspec": {
   "display_name": "Python 3",
   "language": "python",
   "name": "python3"
  },
  "language_info": {
   "codemirror_mode": {
    "name": "ipython",
    "version": 3
   },
   "file_extension": ".py",
   "mimetype": "text/x-python",
   "name": "python",
   "nbconvert_exporter": "python",
   "pygments_lexer": "ipython3",
   "version": "3.8.5"
  }
 },
 "nbformat": 4,
 "nbformat_minor": 4
}
