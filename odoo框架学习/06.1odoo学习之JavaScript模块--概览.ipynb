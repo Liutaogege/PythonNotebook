{
 "cells": [
  {
   "cell_type": "markdown",
   "id": "d2fb9061",
   "metadata": {},
   "source": [
    "# 一些重要的js文件\n",
    "- 链接：https://www.odoo.com/documentation/14.0/developer/reference/javascript/javascript_reference.html#overview-of-web-client-js-code\n",
    "        boot.js: this is the file that defines the module system. It needs to be loaded first.\n",
    "        定义模块系统的文件夹，最先被加载\n",
    "\n",
    "        core/: this is a collection of lower level building blocks. Notably, it contains the class system, the widget system, concurrency utilities, and many other class/functions.\n",
    "        较低层次的构建块。值得注意的是，它包含类系统、小部件系统、并发实用程序和许多其他类/函数。\n",
    "\n",
    "        chrome/: in this folder, we have most large widgets which make up most of the user interface.\n",
    "\n",
    "        chrome/abstract_web_client.js and chrome/web_client.js: together, these files define the WebClient widget, which is the root widget for the web client.\n",
    "        这些文件定义了WebClient部件，它是web客户机的根部件\n",
    "\n",
    "        chrome/action_manager.js: this is the code that will convert an action into a widget (for example a kanban or a form view)\n",
    "        将各类动作转化为部件\n",
    "\n",
    "        chrome/search_X.js all these files define the search view (it is not a view in the point of view of the web client, only from the server point of view)\n",
    "        搜索视图\n",
    "\n",
    "        fields: all main view field widgets are defined here\n",
    "        所有主要视图的部件都是在这定义的\n",
    "\n",
    "        views: this is where the views are located\n",
    "        存放视图的地方\n",
    "        \n",
    "## 一些重要的包文件\n",
    "        web.assets_common: this bundle contains most assets which are common to the web client, the website, and also the point of sale. This is supposed to contain lower level building blocks for the odoo framework. Note that it contains the boot.js file, which defines the odoo module system.\n",
    "\n",
    "        web.assets_backend: this bundle contains the code specific to the web client (notably the web client/action manager/views)\n",
    "\n",
    "        web.assets_frontend: this bundle is about all that is specific to the public website: ecommerce, forum, blog, event management, …\n",
    "        \n",
    "## 定义一个模块\n",
    "Defining a module\n",
    "        The odoo.define method is given three arguments:\n",
    "\n",
    "        moduleName: the name of the javascript module. It should be a unique string. The convention is to have the name of the odoo addon followed by a specific description. For example, ‘web.Widget’ describes a module defined in the web addon, which exports a Widget class (because the first letter is capitalized)\n",
    "\n",
    "        If the name is not unique, an exception will be thrown and displayed in the console.\n",
    "\n",
    "        dependencies: the second argument is optional. If given, it should be a list of strings, each corresponding to a javascript module. This describes the dependencies that are required to be loaded before the module is executed. If the dependencies are not explicitly given here, then the module system will extract them from the function by calling toString on it, then using a regexp to find all require statements.\n",
    "\n",
    "          odoo.define('module.Something', ['web.ajax'], function (require) {\n",
    "            \"use strict\";\n",
    "\n",
    "            var ajax = require('web.ajax');\n",
    "\n",
    "            // some code here\n",
    "            return something;\n",
    "        });\n",
    "        finally, the last argument is a function which defines the module. Its return value is the value of the module, which may be passed to other modules requiring it. Note that there is a small exception for asynchronous modules, see the next section.\n",
    "\n",
    "\n",
    "- extend是继承一个类，继承多个类使用mixin， include是改写某个类的方法（此方法对所有继承该类的类都生效）"
   ]
  }
 ],
 "metadata": {
  "kernelspec": {
   "display_name": "Python 3",
   "language": "python",
   "name": "python3"
  },
  "language_info": {
   "codemirror_mode": {
    "name": "ipython",
    "version": 3
   },
   "file_extension": ".py",
   "mimetype": "text/x-python",
   "name": "python",
   "nbconvert_exporter": "python",
   "pygments_lexer": "ipython3",
   "version": "3.8.8"
  }
 },
 "nbformat": 4,
 "nbformat_minor": 5
}
