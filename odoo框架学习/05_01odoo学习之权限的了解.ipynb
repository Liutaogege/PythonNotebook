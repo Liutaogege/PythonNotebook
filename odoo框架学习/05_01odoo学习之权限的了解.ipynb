{
 "cells": [
  {
   "cell_type": "markdown",
   "metadata": {},
   "source": [
    "# odoo中的安全\n",
    "- odoo中采用两种数据驱动的机制来管理和限制对数据的访问，两种安全机制机制都是与权限组相关联，而用户可以归属于任一权限组，从而将安全机制应用到用户。\n",
    "\n",
    "## res.groups类\n",
    "- name：作为用户可读的组标识（指明角色或者该权限组的作用）\n",
    "- category_id：用户组所属的模块名，用于将组与Odoo App(一组相关的业务模型)关联起来，并将它们转换为用户表单中的独家选择。\n",
    "- implied_ids：基于哪个用户组，类似伪继承\n",
    "- users：预设用户属于这个用户组\n",
    "- comments:备注\n",
    "\n",
    "## 访问权限：ir.model.access类\n",
    "- name：这个角色组的作用\n",
    "- model_id：被控制访问的模型\n",
    "- group_id：被授予访问权限的权限组\n",
    "- perm_create:\n",
    "- perm_read:\n",
    "- perm_write:\n",
    "- perm_unlink:\n",
    "\n",
    "## 访问规则：ir.rule\n",
    "- record的rule是为了允许操作而必须满足的条件。record的rule按照访问权限逐条记录进行评估\n",
    "- name：rule的描述\n",
    "- model_id:规则应用的模型\n",
    "- groups：授予(或不授予)访问权限的res.groups。可以指定多个组。如果没有指定组，则该规则是全局规则，其处理方式与“组”规则不同(见下文)。\n",
    "- global：\n",
    "- domain_force:"
   ]
  },
  {
   "cell_type": "markdown",
   "metadata": {},
   "source": [
    "# 访问权限\n",
    "- "
   ]
  },
  {
   "cell_type": "code",
   "execution_count": null,
   "metadata": {},
   "outputs": [],
   "source": []
  },
  {
   "cell_type": "code",
   "execution_count": null,
   "metadata": {},
   "outputs": [],
   "source": []
  },
  {
   "cell_type": "code",
   "execution_count": null,
   "metadata": {},
   "outputs": [],
   "source": []
  },
  {
   "cell_type": "code",
   "execution_count": null,
   "metadata": {},
   "outputs": [],
   "source": []
  }
 ],
 "metadata": {
  "kernelspec": {
   "display_name": "Python 3",
   "language": "python",
   "name": "python3"
  },
  "language_info": {
   "codemirror_mode": {
    "name": "ipython",
    "version": 3
   },
   "file_extension": ".py",
   "mimetype": "text/x-python",
   "name": "python",
   "nbconvert_exporter": "python",
   "pygments_lexer": "ipython3",
   "version": "3.8.5"
  }
 },
 "nbformat": 4,
 "nbformat_minor": 4
}
