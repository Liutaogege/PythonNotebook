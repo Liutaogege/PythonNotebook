{
 "cells": [
  {
   "cell_type": "markdown",
   "metadata": {},
   "source": [
    "# environment\n",
    "- env存储ORM使用的各种上下文数据:\n",
    "    - self.env.cr或者self._cr是数据库游标对象，通常用于查询数据库\n",
    "    - self.env.uid或者self._uid是当前用户的数据库id\n",
    "    - self.env.user是当前用户记录\n",
    "    - self.env.su超级用户\n",
    "    - self.env.ref(xml_id)返回xmlid对应的记录\n",
    "    - self.env[model_name]:返回给定模型的实例\n",
    "    - self.lang:语言\n",
    "    - 环境可以被继承，当从其他记录创建记录集时\n",
    "    \n",
    "# 修改环境\n",
    "- 1.改变上下文：\n",
    "    - Model.with_context([context][, **overrides]) → records\n",
    "            # current context is {'key1': True}\n",
    "            r2 = records.with_context({}, key2=True)\n",
    "            # -> r2._context is {'key2': True}\n",
    "\n",
    "            r2 = records.with_context(key2=True)\n",
    "            # -> r2._context is {'key1': True, 'key2': True}\n",
    "- 2.改变用户；\n",
    "    - Model.with_user(user)，用户有啥权限就返回啥权限\n",
    "- 3.改变环境：\n",
    "    - Model.with_env(env)\n",
    "    - 返回在指定环境下的新版记录集合，但是新的集合不会依赖于原来环境的集合缓存\n",
    "- 4.改变权限\n",
    "    - Model.sudo(flag=True)\n",
    "    - 不改变用户，但是可以使得该用户绕过权限规则\n",
    "    \n",
    "# sql execution\n",
    "- 运行环境的cr属性指向当前数据库查询的游标，在需要进行ORM没有提供的复杂查询或性能优化时，可以通过它直接执行查询\n",
    "    - self.env.cr.execute(\"some_sql\", param1, param2, param3)\n",
    "- 但由于运行环境变量里同时存有大量缓存，所以在进行create/update,delete操作后需要使用invalidate_all()方法清除缓存: \n",
    "    - self.env.invalidate_cache(fnames=None, ids=None),如果fname为空，ids为空，那么所有的缓存都会被清空\n",
    "    - select方法是不需要更新缓存的，因为没有对数据进行更改"
   ]
  },
  {
   "cell_type": "code",
   "execution_count": 2,
   "metadata": {},
   "outputs": [
    {
     "name": "stdout",
     "output_type": "stream",
     "text": [
      "ha\n"
     ]
    }
   ],
   "source": [
    "a = {\"key\": 'ha'}\n",
    "b = a.pop('key')\n",
    "print(b)"
   ]
  }
 ],
 "metadata": {
  "kernelspec": {
   "display_name": "Python 3",
   "language": "python",
   "name": "python3"
  },
  "language_info": {
   "codemirror_mode": {
    "name": "ipython",
    "version": 3
   },
   "file_extension": ".py",
   "mimetype": "text/x-python",
   "name": "python",
   "nbconvert_exporter": "python",
   "pygments_lexer": "ipython3",
   "version": "3.8.8"
  }
 },
 "nbformat": 4,
 "nbformat_minor": 4
}
