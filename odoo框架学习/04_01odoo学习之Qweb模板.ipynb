{
 "cells": [
  {
   "cell_type": "markdown",
   "metadata": {},
   "source": [
    "# Qweb\n",
    "-  QWeb是Odoo使用的主要模板引擎。它是一个XML模板引擎，主要用于生成HTML片段和页面。\n",
    "\n",
    "# 模板标签认识\n",
    "- \\<templates\\>: 定义一个Qweb 模板\n",
    "- \n",
    "\n",
    "\n",
    "# Qweb模板引擎语法：t-标签\n",
    "- t-name 用于指明模板的名称,如果是在t标签内使用，则他只能有一个子元素\n",
    "- t-jquery 一个jQuery的选择器，后面指明选择器的定义，如：t-jquery=\".oe_logiin\"\n",
    "- t-operation 一般跟在t-jquery后面，指明选择器找到元素后执行的动作，其值有：append(追加)、replace(替换)- \n",
    "- t-esc：它执行一个表达式，当显示用户提供的内容时，它会自动转换其内容，限制XSS风险:esc。\n",
    "- t-raw:与esc很相似，但是不会进行转义\n",
    "- t-if,t-elif,t-else\n",
    "- t-js：表示他的body是js代码，可以带一个context参数，这个参数可以在js代码中使用\n",
    "    - 示例：\n",
    "            <t t-js=\"ctx\">\n",
    "                console.log(\"Foo is\", ctx.foo);\n",
    "            </t>\n",
    "- t-foreach:循环\n",
    "    - foreach不仅可以迭代列表还可以迭代映射，如果是映射，使用t-as表示当前item的key值，想要获取它的value使用t-value\n",
    "    - t-as除了可以赋值一个变量外，还可以有其他的变量形式：\n",
    "        - _value:同t-value\n",
    "        - _index:返回当前迭代值的索引\n",
    "        - _size:集合的大小，如果当前迭代值有\n",
    "        - _first:当前迭代对象的第一个值，等同于_index=0\n",
    "        - _last:\n",
    "        - 示例：t t-esc=\"item_index\"/\n",
    "- t-att-$name:创建一个名为$name的属性，计算属性值并将结果设置为属性的值:\n",
    "    - 其他形式：\n",
    "        - t-att=mapping\n",
    "                <div t-att=\"{'a': 1, 'b': 2}\"/>\n",
    "                <div a=\"1\" b=\"2\"></div>\n",
    "        - t-att=pair\n",
    "                <div t-att=\"['a', 'b']\"/>\n",
    "                <div a=\"b\"></div>\n",
    "- t-attf-$name:同上，但是形参是一个格式字符串而不是一个表达式，通常用于混合文字和非文字字符串(例如类)$:\n",
    "        <t t-foreach=\"[1, 2, 3]\" t-as=\"item\">\n",
    "            <li t-attf-class=\"row {{ (item_index % 2 === 0) ? 'even' : 'odd' }}\">\n",
    "                <t t-esc=\"item\"/>\n",
    "            </li>\n",
    "        </t>\n",
    "        <li class=\"row even\">1</li>\n",
    "        <li class=\"row odd\">2</li>\n",
    "        <li class=\"row even\">3</li>\n",
    "- t-attf=dict\n",
    "    - 如果t-attf等于的是一个字典，则根据字典的key，value设置属性\n",
    "    - 示例：p t-attf={'color': 'yellow'}\n",
    "- t-attf=tuple\n",
    "    - 如果是一个元祖，第一个表示key，第二个表示属性\n",
    "- t-set:设置变量\n",
    "    - 通过t-value进行赋值，如果没有t-value进行赋值，这个节点包含的主体将会被当成变量的值\n",
    "            <t t-set=\"foo\">\n",
    "                <li>ok</li>\n",
    "            </t>\n",
    "            <t t-esc=\"foo\"/>\n",
    "            产生的结果是&lt;li&gt;ok&lt;/li&gt;\n",
    "            应该想原生，使用t-raw\n",
    "- t-call：调用子模版\n",
    "    - 子模版使用的是父类模板的上下文\n",
    "    - t-call的调用方式很灵活，除了可以使用t-set的方式，还可以使用t-raw的方式\n",
    "    \n",
    "- t-field：和t-esc很类似，不过t-field指令只能在执行字段访问(只处理存储的字段)和根据字段类型格式化数据时使用。此外，t-field-options可用于自定义字段\n",
    "\n",
    "- t-options：用于定制字段，最常见的是widget，其他的有field-或者widget-dependent\n",
    "\n",
    "## 模板可以在Controller中被直接渲染\n",
    "        response = http.request.render('my-template', {\n",
    "            'context_value': 42\n",
    "        })\n",
    "- 可以在渲染时添加一些context参数：\n",
    "- request\n",
    "    - the current WebRequest object, if any\n",
    "\n",
    "- debug\n",
    "    - whether the current request (if any) is in debug mode\n",
    "\n",
    "- quote_plus\n",
    "    - url-encoding utility function\n",
    "\n",
    "- json\n",
    "    - the corresponding standard library module\n",
    "\n",
    "- time\n",
    "    - the corresponding standard library module\n",
    "\n",
    "- datetime\n",
    "    - the corresponding standard library module\n",
    "\n",
    "- relativedelta\n",
    "    - see module\n",
    "\n",
    "- keep_query\n",
    "    - the keep_query helper function"
   ]
  },
  {
   "cell_type": "markdown",
   "metadata": {},
   "source": [
    "# 模板继承\n",
    "- t-inherit:表示继承于哪个模板\n",
    "- t-inherit-mode:继承模式，primary新建一个字模板（应该要加上t-name指定新的名字），extension扩展父模板\n",
    "\n",
    "## 新增调试语法\n",
    "- t-log：指定某个参数，会记录错误信息在console.log中\n",
    "- t-debug：相当于打断点"
   ]
  },
  {
   "cell_type": "code",
   "execution_count": 4,
   "metadata": {},
   "outputs": [
    {
     "name": "stdout",
     "output_type": "stream",
     "text": [
      "37.47\n"
     ]
    }
   ],
   "source": [
    "working_hours = 8.9933\n",
    "job_hour = 24\n",
    "\n",
    "cost_proportion = '%.2f' % ((float(working_hours) / float(job_hour)) * 100)\n",
    "print(cost_proportion)"
   ]
  },
  {
   "cell_type": "code",
   "execution_count": null,
   "metadata": {},
   "outputs": [],
   "source": []
  }
 ],
 "metadata": {
  "kernelspec": {
   "display_name": "Python 3",
   "language": "python",
   "name": "python3"
  },
  "language_info": {
   "codemirror_mode": {
    "name": "ipython",
    "version": 3
   },
   "file_extension": ".py",
   "mimetype": "text/x-python",
   "name": "python",
   "nbconvert_exporter": "python",
   "pygments_lexer": "ipython3",
   "version": "3.8.8"
  }
 },
 "nbformat": 4,
 "nbformat_minor": 4
}
