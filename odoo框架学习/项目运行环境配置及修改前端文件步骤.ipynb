{
 "cells": [
  {
   "cell_type": "markdown",
   "metadata": {},
   "source": [
    "# 1.配置Java开发环境\n",
    "- https://blog.csdn.net/weixin_38381149/article/details/89913569?spm=1001.2014.3001.5501\n",
    "\n",
    "# 2，安装idea，并配置idea的开发环境\n",
    "- idea下载地址：https://www.jetbrains.com/idea/download/download-thanks.html?platform=windows\n",
    "- idea可能要使用的环境：https://blog.csdn.net/weixin_38381149/article/details/89668578\n",
    "- maven的下载和安装地址：https://blog.csdn.net/c_staunch/article/details/100981699"
   ]
  },
  {
   "cell_type": "markdown",
   "metadata": {},
   "source": [
    "# 修改前端文件具体步骤\n",
    "- 如果是第一次webpack，那么先使用npm install 安装所依赖的包\n",
    "- 修改webpack.config.js文件中的mode: \"production\",为development\n",
    "- 然后使用webpack解包，然后在E:\\odoo_different_edition\\odoo-11.0\\construction_dispatch_addons\\construction_dispatch\\static\\js\\pack\\main.js会改变，生成另外两个.js和.css文件，然后就可以进行更改调试了"
   ]
  }
 ],
 "metadata": {
  "kernelspec": {
   "display_name": "Python 3",
   "language": "python",
   "name": "python3"
  },
  "language_info": {
   "codemirror_mode": {
    "name": "ipython",
    "version": 3
   },
   "file_extension": ".py",
   "mimetype": "text/x-python",
   "name": "python",
   "nbconvert_exporter": "python",
   "pygments_lexer": "ipython3",
   "version": "3.8.5"
  }
 },
 "nbformat": 4,
 "nbformat_minor": 2
}
