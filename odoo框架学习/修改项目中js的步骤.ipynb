{
 "cells": [
  {
   "cell_type": "markdown",
   "metadata": {},
   "source": [
    "# 具体步骤\n",
    "- 如果是第一次webpack，那么先使用npm install 安装所依赖的包\n",
    "- 修改webpack.config.js文件中的mode: \"production\",为development\n",
    "- 然后使用webpack解包，然后在E:\\odoo_different_edition\\odoo-11.0\\construction_dispatch_addons\\construction_dispatch\\static\\js\\pack\\main.js会改变，生成另外两个.js和.css文件，然后就可以进行更改调试了"
   ]
  }
 ],
 "metadata": {
  "kernelspec": {
   "display_name": "Python 3",
   "language": "python",
   "name": "python3"
  },
  "language_info": {
   "codemirror_mode": {
    "name": "ipython",
    "version": 3
   },
   "file_extension": ".py",
   "mimetype": "text/x-python",
   "name": "python",
   "nbconvert_exporter": "python",
   "pygments_lexer": "ipython3",
   "version": "3.7.3"
  }
 },
 "nbformat": 4,
 "nbformat_minor": 2
}
