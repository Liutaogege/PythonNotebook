{
 "cells": [
  {
   "cell_type": "markdown",
   "id": "179e44c3",
   "metadata": {},
   "source": [
    "# 传递默认值\n",
    "- 通过ir.actions.act_window向视图的某个字段传递默认值：\n",
    "    - 在context中传，如果是在xml中，形如：\n",
    "            <record model=\"ir.actions.act_window\" id=\"action_open_collections\">\n",
    "              <field name=\"name\">巡检汇总</field>\n",
    "              <field name=\"res_model\">server_oms.collections</field>\n",
    "              <field name=\"view_mode\">tree,form</field>\n",
    "              <field name=\"context\">{'default_inventory_ids': 'inventory_id'}</field>\n",
    "            </record>\n",
    "    - 如果是在.py文件中\n",
    "            {\n",
    "                \"type\": \"ir.actions.act_window\",\n",
    "                \"view_mode\": \"form\",\n",
    "                \"res_model\": \"odoo_ledger.ledger\",\n",
    "                \"name\": \"导入向导\",\n",
    "                \"target\": \"new\",\n",
    "                \"views\": [[form_id, \"form\"]],\n",
    "                \"context\": {\"default_line_id\": params.get('id')}\n",
    "            }\n",
    "            \n",
    "    - button里面也可以传递字段值，line_id就是字段值\n",
    "            <div class=\"buttons-groups\">\n",
    "                <button type=\"object\"\n",
    "                        name=\"jump_upload_ledger_attrs_wizard\"\n",
    "                        string=\"上传文件\"\n",
    "                        class=\"btn btn-info\"\n",
    "                        context=\"{'enter_type':line_id}\"\n",
    "                />\n",
    "            </div>\n",
    "            \n",
    "# 如何使form里面嵌套的tree视图的不可再选子记录\n",
    "- 使用readonly，而不是\n",
    "        <field name=\"attachment_ids\" widget=\"many2many_list\" attrs=\"{'readonly': 1}\">\n",
    "            <tree>\n",
    "                <field name=\"name\" string=\"附件名称\" width=\"400\"/>\n",
    "                <button string=\"预览\"\n",
    "                    class=\"ant-btn btn-secondary o_form_button_cancel\"\n",
    "                    special=\"preview_attachment\"/>\n",
    "            </tree>\n",
    "        </field>\n",
    "        \n",
    "# action指定打开某个视图\n",
    "        <field name=\"view_ids\" eval=\"[(5, 0, 0),\n",
    "            (0, 0, {'view_mode': 'tree', 'view_id': ref('plan_tree_c2')}),\n",
    "            (0, 0, {'view_mode': 'form', 'view_id': ref('plan_form_c2')})]\"/>"
   ]
  }
 ],
 "metadata": {
  "kernelspec": {
   "display_name": "Python 3",
   "language": "python",
   "name": "python3"
  },
  "language_info": {
   "codemirror_mode": {
    "name": "ipython",
    "version": 3
   },
   "file_extension": ".py",
   "mimetype": "text/x-python",
   "name": "python",
   "nbconvert_exporter": "python",
   "pygments_lexer": "ipython3",
   "version": "3.8.8"
  }
 },
 "nbformat": 4,
 "nbformat_minor": 5
}
