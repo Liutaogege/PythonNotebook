{
 "cells": [
  {
   "cell_type": "markdown",
   "metadata": {},
   "source": [
    "# 各类装饰器\n",
    "## 记录集装饰器\n",
    "- @api.one\n",
    "    - 不是一个记录集，而self仅仅代表是一条数据，该装饰器无返回值\n",
    "    - 在odoo14中应该已经把它删除了，默认使用的就是@api.multi\n",
    "- @api.multi\n",
    "    - self表示的是一个记录集，使用for循环对self进行循环迭代处理\n",
    "    - 如果对某个方法不使用任何装饰器，那么会默认使用该装饰器\n",
    "    - @api.one的功能可以使用@api.multi实现，使用self.ensure_one()即可\n",
    "- @api.model\n",
    "    - self不是一个记录集，而是一个对象，使用该装饰器的方法不能用于用户界面的按钮\n",
    "    - 可以用来装饰定时任务\n",
    "    \n",
    "## 专有目的装饰器\n",
    "- @api.depends(字段1，字段2)\n",
    "    - 用于计算字段（computed field）,可用于标识需要被触发的计算\n",
    "    - 需要注意计算字段必须被赋值\n",
    "- @api.constraints(字段1，字段2）\n",
    "    - 用于评估和检查，当参数字段的值发生变化时，会进行检查，如果检查规则不通过，则字段值不会发生变化，并会报出异常\n",
    "- @api.onchange(字段1，字段2)\n",
    "    - 用于系统在于用户进行交互时自动更新相关联的字段，就是当字段发生改变时，触发绑定的函数。\n",
    "    - 仅在进行form视图交互的时候起作用\n",
    "- @api.returns(\n",
    "    - returns的用法主要是用来指定返回值的格式，它接受三个参数，第一个为返回值的model，第二个为向下兼容的method，第三个为向上兼容的method\n"
   ]
  }
 ],
 "metadata": {
  "kernelspec": {
   "display_name": "Python 3",
   "language": "python",
   "name": "python3"
  },
  "language_info": {
   "codemirror_mode": {
    "name": "ipython",
    "version": 3
   },
   "file_extension": ".py",
   "mimetype": "text/x-python",
   "name": "python",
   "nbconvert_exporter": "python",
   "pygments_lexer": "ipython3",
   "version": "3.7.3"
  }
 },
 "nbformat": 4,
 "nbformat_minor": 2
}
