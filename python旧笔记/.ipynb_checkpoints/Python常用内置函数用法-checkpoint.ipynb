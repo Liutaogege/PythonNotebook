{
 "cells": [
  {
   "cell_type": "code",
   "execution_count": 1,
   "metadata": {},
   "outputs": [
    {
     "name": "stdout",
     "output_type": "stream",
     "text": [
      "[('liu', 1), ('li', 2), ('zhao', 3)]\n",
      "[('liu', 'li', 'zhao'), (1, 2, 3)]\n",
      "{'liu': 1, 'li': 2, 'zhao': 3}\n",
      "(3, 'zhao')\n",
      "{1: 'liu', 2: 'li', 3: 'zhao'}\n",
      "0 1\n",
      "1 3\n",
      "2 4\n"
     ]
    }
   ],
   "source": [
    "#zip(iterable,iterable)它接受一系列可迭代的对象作为参数，将对象中对应的元素打包成一个个tuple（元组），然后返回由这些tuples组成的list（列表:\n",
    "one = (\"liu\", \"li\",\"zhao\")\n",
    "two = (1,2,3)\n",
    "ot = list(zip(one,two))\n",
    "print(ot)\n",
    "oto = zip(one, two)\n",
    "oto1 = list(zip(*oto)) # 解压，把每个列表化为一个元素\n",
    "print(oto1)\n",
    "f = dict(zip(one,two))\n",
    "print(f)\n",
    "num = zip(f.values(), f.keys())\n",
    "print(max(num))\n",
    "# print(min(num)) #zip()会创建一个迭代器，只能被消费一次，所以这句话会报错\n",
    "d = {k:v for v,k in f.items()}\n",
    "print(d)"
   ]
  },
  {
   "cell_type": "code",
   "execution_count": 2,
   "metadata": {},
   "outputs": [
    {
     "name": "stdout",
     "output_type": "stream",
     "text": [
      "p\n",
      "y\n",
      "t\n",
      "h\n",
      "o\n",
      "n\n",
      "<map object at 0x0000018132FEFE48>\n",
      "[1, 4, 9]\n"
     ]
    }
   ],
   "source": [
    "# map(func,iterable)的用法\n",
    "#它接收一个函数和可迭代对象，返回经过函数作用的可迭代对象(可迭代对象可用for循环遍历)\n",
    "one = \"python\"\n",
    "for i in map(str,one):\n",
    "    print(i)\n",
    "two = [1,2,3]\n",
    "t = map(lambda x:x**2,two)\n",
    "print(t) #t现在是可迭代的对象\n",
    "tt = list(t)\n",
    "print(tt) \n",
    "#list过后，t就为空，所以遍历为空\n",
    "for j in t:\n",
    "    print(j)\n",
    "#同zip()一样，map()创建的迭代器只能被消费一次，这就是为啥上面遍历为空的原因"
   ]
  },
  {
   "cell_type": "code",
   "execution_count": 3,
   "metadata": {},
   "outputs": [
    {
     "name": "stdout",
     "output_type": "stream",
     "text": [
      "0 1\n",
      "1 3\n",
      "2 4\n"
     ]
    }
   ],
   "source": [
    "#enumerate(sequence,start=0)\n",
    "#输入一个可遍历的数据对象(如列表)，返回一个可迭代对象(索引值和数据)。start可设置索引起始值\n",
    "one = [1,3,4]\n",
    "v = enumerate(one)\n",
    "for value,index in v:\n",
    "    print(value, index )\n"
   ]
  }
 ],
 "metadata": {
  "kernelspec": {
   "display_name": "Python 3",
   "language": "python",
   "name": "python3"
  },
  "language_info": {
   "codemirror_mode": {
    "name": "ipython",
    "version": 3
   },
   "file_extension": ".py",
   "mimetype": "text/x-python",
   "name": "python",
   "nbconvert_exporter": "python",
   "pygments_lexer": "ipython3",
   "version": "3.7.3"
  }
 },
 "nbformat": 4,
 "nbformat_minor": 2
}
