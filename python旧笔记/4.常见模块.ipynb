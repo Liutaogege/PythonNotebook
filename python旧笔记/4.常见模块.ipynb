{
 "cells": [
  {
   "cell_type": "markdown",
   "metadata": {},
   "source": [
    "# 常见模块\n",
    "- calendar,time,datetime,timeit,os,shutil,zip,math,string"
   ]
  },
  {
   "cell_type": "markdown",
   "metadata": {},
   "source": [
    "# calendar模块"
   ]
  },
  {
   "cell_type": "code",
   "execution_count": 7,
   "metadata": {},
   "outputs": [
    {
     "name": "stdout",
     "output_type": "stream",
     "text": [
      "                                  2019\n",
      "\n",
      "      January                   February                   March\n",
      "Mo Tu We Th Fr Sa Su      Mo Tu We Th Fr Sa Su      Mo Tu We Th Fr Sa Su\n",
      "    1  2  3  4  5  6                   1  2  3                   1  2  3\n",
      " 7  8  9 10 11 12 13       4  5  6  7  8  9 10       4  5  6  7  8  9 10\n",
      "14 15 16 17 18 19 20      11 12 13 14 15 16 17      11 12 13 14 15 16 17\n",
      "21 22 23 24 25 26 27      18 19 20 21 22 23 24      18 19 20 21 22 23 24\n",
      "28 29 30 31               25 26 27 28               25 26 27 28 29 30 31\n",
      "\n",
      "       April                      May                       June\n",
      "Mo Tu We Th Fr Sa Su      Mo Tu We Th Fr Sa Su      Mo Tu We Th Fr Sa Su\n",
      " 1  2  3  4  5  6  7             1  2  3  4  5                      1  2\n",
      " 8  9 10 11 12 13 14       6  7  8  9 10 11 12       3  4  5  6  7  8  9\n",
      "15 16 17 18 19 20 21      13 14 15 16 17 18 19      10 11 12 13 14 15 16\n",
      "22 23 24 25 26 27 28      20 21 22 23 24 25 26      17 18 19 20 21 22 23\n",
      "29 30                     27 28 29 30 31            24 25 26 27 28 29 30\n",
      "\n",
      "        July                     August                  September\n",
      "Mo Tu We Th Fr Sa Su      Mo Tu We Th Fr Sa Su      Mo Tu We Th Fr Sa Su\n",
      " 1  2  3  4  5  6  7                1  2  3  4                         1\n",
      " 8  9 10 11 12 13 14       5  6  7  8  9 10 11       2  3  4  5  6  7  8\n",
      "15 16 17 18 19 20 21      12 13 14 15 16 17 18       9 10 11 12 13 14 15\n",
      "22 23 24 25 26 27 28      19 20 21 22 23 24 25      16 17 18 19 20 21 22\n",
      "29 30 31                  26 27 28 29 30 31         23 24 25 26 27 28 29\n",
      "                                                    30\n",
      "\n",
      "      October                   November                  December\n",
      "Mo Tu We Th Fr Sa Su      Mo Tu We Th Fr Sa Su      Mo Tu We Th Fr Sa Su\n",
      "    1  2  3  4  5  6                   1  2  3                         1\n",
      " 7  8  9 10 11 12 13       4  5  6  7  8  9 10       2  3  4  5  6  7  8\n",
      "14 15 16 17 18 19 20      11 12 13 14 15 16 17       9 10 11 12 13 14 15\n",
      "21 22 23 24 25 26 27      18 19 20 21 22 23 24      16 17 18 19 20 21 22\n",
      "28 29 30 31               25 26 27 28 29 30         23 24 25 26 27 28 29\n",
      "                                                    30 31\n",
      "\n"
     ]
    }
   ],
   "source": [
    "import calendar\n",
    "# calendar：获取一年的日历字符串\n",
    "# 参数：\n",
    "# w = 每个日期之间的间隔字符数\n",
    "# l = 每周所占用的行数\n",
    "# c = 每个月之间的间隔字符数\n",
    "cal = calendar.calendar(2019,l=0,w=1)\n",
    "print(cal)"
   ]
  },
  {
   "cell_type": "code",
   "execution_count": 14,
   "metadata": {},
   "outputs": [
    {
     "name": "stdout",
     "output_type": "stream",
     "text": [
      "    August 2019\n",
      "Mo Tu We Th Fr Sa Su\n",
      "          1  2  3  4\n",
      " 5  6  7  8  9 10 11\n",
      "12 13 14 15 16 17 18\n",
      "19 20 21 22 23 24 25\n",
      "26 27 28 29 30 31\n",
      "\n"
     ]
    }
   ],
   "source": [
    "# isleap：判断某一年是否是闰年\n",
    "calendar.isleap(2001)\n",
    "# leapdays: 获取指定年份之间的闰年的个数\n",
    "calendar.leapdays(2001,2019)\n",
    "# month(): 获取某个月的日历字符串\n",
    "    # 格式：calendar.month(年，月)\n",
    "# 回值：月的日历的字符串\n",
    "m = calendar.month(2019, 8)\n",
    "print(m)"
   ]
  },
  {
   "cell_type": "code",
   "execution_count": 19,
   "metadata": {},
   "outputs": [
    {
     "name": "stdout",
     "output_type": "stream",
     "text": [
      "6 30\n"
     ]
    }
   ],
   "source": [
    "# monthrange() 获取某个月的第一天是周几和这个月的总天数\n",
    "# 格式: calendar.monthrange(年，月)\n",
    "# 返回值：元祖（周几，总天数）\n",
    "# 注意：周默认0-6表示周一到周天\n",
    "w,days = calendar.monthrange(2019, 9)\n",
    "print(w,days)"
   ]
  },
  {
   "cell_type": "code",
   "execution_count": 21,
   "metadata": {},
   "outputs": [
    {
     "name": "stdout",
     "output_type": "stream",
     "text": [
      "<class 'list'>\n",
      "[[0, 0, 0, 0, 0, 0, 1], [2, 3, 4, 5, 6, 7, 8], [9, 10, 11, 12, 13, 14, 15], [16, 17, 18, 19, 20, 21, 22], [23, 24, 25, 26, 27, 28, 29], [30, 0, 0, 0, 0, 0, 0]]\n"
     ]
    }
   ],
   "source": [
    "# monthcaledndar()返回一个月每天的矩阵列表\n",
    "# 格式：calendar.monthcalendar(年，月)\n",
    "# 返回值： 二级列表\n",
    "# 注意：矩阵中没有天数用0表示\n",
    "m = calendar.monthcalendar(2019, 9)\n",
    "print(type(m))\n",
    "print(m)"
   ]
  },
  {
   "cell_type": "code",
   "execution_count": 23,
   "metadata": {},
   "outputs": [
    {
     "name": "stdout",
     "output_type": "stream",
     "text": [
      "                                  2019\n",
      "\n",
      "      January                   February                   March\n",
      "Mo Tu We Th Fr Sa Su      Mo Tu We Th Fr Sa Su      Mo Tu We Th Fr Sa Su\n",
      "    1  2  3  4  5  6                   1  2  3                   1  2  3\n",
      " 7  8  9 10 11 12 13       4  5  6  7  8  9 10       4  5  6  7  8  9 10\n",
      "14 15 16 17 18 19 20      11 12 13 14 15 16 17      11 12 13 14 15 16 17\n",
      "21 22 23 24 25 26 27      18 19 20 21 22 23 24      18 19 20 21 22 23 24\n",
      "28 29 30 31               25 26 27 28               25 26 27 28 29 30 31\n",
      "\n",
      "       April                      May                       June\n",
      "Mo Tu We Th Fr Sa Su      Mo Tu We Th Fr Sa Su      Mo Tu We Th Fr Sa Su\n",
      " 1  2  3  4  5  6  7             1  2  3  4  5                      1  2\n",
      " 8  9 10 11 12 13 14       6  7  8  9 10 11 12       3  4  5  6  7  8  9\n",
      "15 16 17 18 19 20 21      13 14 15 16 17 18 19      10 11 12 13 14 15 16\n",
      "22 23 24 25 26 27 28      20 21 22 23 24 25 26      17 18 19 20 21 22 23\n",
      "29 30                     27 28 29 30 31            24 25 26 27 28 29 30\n",
      "\n",
      "        July                     August                  September\n",
      "Mo Tu We Th Fr Sa Su      Mo Tu We Th Fr Sa Su      Mo Tu We Th Fr Sa Su\n",
      " 1  2  3  4  5  6  7                1  2  3  4                         1\n",
      " 8  9 10 11 12 13 14       5  6  7  8  9 10 11       2  3  4  5  6  7  8\n",
      "15 16 17 18 19 20 21      12 13 14 15 16 17 18       9 10 11 12 13 14 15\n",
      "22 23 24 25 26 27 28      19 20 21 22 23 24 25      16 17 18 19 20 21 22\n",
      "29 30 31                  26 27 28 29 30 31         23 24 25 26 27 28 29\n",
      "                                                    30\n",
      "\n",
      "      October                   November                  December\n",
      "Mo Tu We Th Fr Sa Su      Mo Tu We Th Fr Sa Su      Mo Tu We Th Fr Sa Su\n",
      "    1  2  3  4  5  6                   1  2  3                         1\n",
      " 7  8  9 10 11 12 13       4  5  6  7  8  9 10       2  3  4  5  6  7  8\n",
      "14 15 16 17 18 19 20      11 12 13 14 15 16 17       9 10 11 12 13 14 15\n",
      "21 22 23 24 25 26 27      18 19 20 21 22 23 24      16 17 18 19 20 21 22\n",
      "28 29 30 31               25 26 27 28 29 30         23 24 25 26 27 28 29\n",
      "                                                    30 31\n",
      "Help on method pryear in module calendar:\n",
      "\n",
      "pryear(theyear, w=0, l=0, c=6, m=3) method of calendar.TextCalendar instance\n",
      "    Print a year's calendar.\n",
      "\n"
     ]
    }
   ],
   "source": [
    "# 直接打印日历\n",
    "calendar.prcal(2019)\n",
    "help(calendar.prcal)"
   ]
  },
  {
   "cell_type": "code",
   "execution_count": null,
   "metadata": {},
   "outputs": [],
   "source": [
    "# prmonth()直接打印整个月的日历\n",
    "# 格式： calendar.prmonth(年，月)\n",
    "# 返回值： 无\n",
    "calendar.prmonth(2019,9)"
   ]
  },
  {
   "cell_type": "code",
   "execution_count": 28,
   "metadata": {},
   "outputs": [
    {
     "data": {
      "text/plain": [
       "1"
      ]
     },
     "execution_count": 28,
     "metadata": {},
     "output_type": "execute_result"
    }
   ],
   "source": [
    "# weekday() 获取周几\n",
    "# 格式：calendar.weeekday(年，月，日)\n",
    "# 返回值：周几对应的数字\n",
    "calendar.weekday(2019,9,3)"
   ]
  },
  {
   "cell_type": "markdown",
   "metadata": {},
   "source": [
    "# time 模块\n",
    "## 时间戳\n",
    "    - 一个时间表示，根据不同语言，可以是整数或者浮点数\n",
    "    - 是从1970年1月1日0时0分0秒到现在经历的秒数\n",
    "    - 如果表示的时间是1970以前或者太遥远的未来，可能出现异常\n",
    "    - 32 =位操作系统能够支持到2038年\n",
    "### UTC时间\n",
    "    - UTC又称为世界协调时间，也叫世界标准shijian\n",
    "    - 中国时间是 UTC + 8东八区\n",
    "###  时间元祖\n",
    "    - 一个包含时间内容的普通元祖\n",
    "### 夏令时\n",
    "    - 就是在夏天的时候将时间调快一个小时，本意是督促大家早睡早起\n",
    "    \n",
    "    "
   ]
  },
  {
   "cell_type": "code",
   "execution_count": 3,
   "metadata": {},
   "outputs": [
    {
     "name": "stdout",
     "output_type": "stream",
     "text": [
      "0\n"
     ]
    }
   ],
   "source": [
    "import time\n",
    "# 时间模块的属性\n",
    "# timezone: 当前时区和UTC时间相差的秒数，在没有夏令时的情况下的间隔，东八区的是-28800\n",
    "# altzone： 获取当前时区与UTC时间相差的秒数，在有夏令时的情况下\n",
    "# daylight：测试当前是否是夏令时时间状态，0 表示是\n",
    "print(time.daylight)"
   ]
  },
  {
   "cell_type": "code",
   "execution_count": 16,
   "metadata": {},
   "outputs": [
    {
     "name": "stdout",
     "output_type": "stream",
     "text": [
      "1565486020.0387347\n",
      "time.struct_time(tm_year=2019, tm_mon=8, tm_mday=11, tm_hour=9, tm_min=13, tm_sec=40, tm_wday=6, tm_yday=223, tm_isdst=0)\n"
     ]
    }
   ],
   "source": [
    "# 得到时间戳\n",
    "print(time.time())\n",
    "# localtime得到当前时间结构\n",
    "t = time.localtime()\n",
    "print(t)"
   ]
  },
  {
   "cell_type": "code",
   "execution_count": 9,
   "metadata": {},
   "outputs": [
    {
     "name": "stdout",
     "output_type": "stream",
     "text": [
      "Sun Aug 11 09:09:03 2019\n",
      "<class 'str'>\n"
     ]
    }
   ],
   "source": [
    "# asctime（）返回元祖的正常字符串化后的时间格式\n",
    "# 格式： time.asctime(时间元祖)\n",
    "# 返回值：字符串 Tue Jun 6 11:11:00 2017\n",
    "t = time.asctime()\n",
    "print(t)\n",
    "print(type(t))"
   ]
  },
  {
   "cell_type": "code",
   "execution_count": 12,
   "metadata": {},
   "outputs": [
    {
     "name": "stdout",
     "output_type": "stream",
     "text": [
      "Sun Aug 11 09:10:14 2019\n",
      "<class 'str'>\n"
     ]
    }
   ],
   "source": [
    "# ctime:获取字符串化的当前时间\n",
    "t = time.ctime()\n",
    "print(t)\n",
    "print(type(t))"
   ]
  },
  {
   "cell_type": "code",
   "execution_count": 17,
   "metadata": {},
   "outputs": [
    {
     "name": "stdout",
     "output_type": "stream",
     "text": [
      "<class 'float'>\n",
      "1565486038.0\n",
      "time.struct_time(tm_year=2019, tm_mon=8, tm_mday=11, tm_hour=9, tm_min=13, tm_sec=58, tm_wday=6, tm_yday=223, tm_isdst=0)\n"
     ]
    }
   ],
   "source": [
    "# mktime()使用时间元祖获取对应的时间戳\n",
    "# 格式： time.mktime(时间元祖)\n",
    "# 返回值： 浮点数时间戳\n",
    "lt = time.localtime()\n",
    "ts = time.mktime(lt)\n",
    "print(type(ts))\n",
    "print(ts)\n",
    "print(lt)"
   ]
  },
  {
   "cell_type": "code",
   "execution_count": 19,
   "metadata": {},
   "outputs": [
    {
     "name": "stdout",
     "output_type": "stream",
     "text": [
      "0\n",
      "1\n",
      "2\n",
      "3\n",
      "4\n",
      "5\n",
      "6\n",
      "7\n",
      "8\n",
      "9\n"
     ]
    }
   ],
   "source": [
    "# clock: 获取cpu时间 3.6 不能使用\n",
    "# sleep： 使程序进入睡眠，n秒后继续\n",
    "for i in range(10):\n",
    "    print(i)\n",
    "    time.sleep(0.5)"
   ]
  },
  {
   "cell_type": "markdown",
   "metadata": {},
   "source": [
    "# strftime：将时间元祖转化为自定义的字符串格式\n",
    "'''\n",
    "格式             含义            备注  \n",
    "%a  本地（local）简化星期名称  \n",
    "%A  本地完整星期名称  \n",
    "%b 本地简化月份名称  \n",
    "%B  本地完整月份名称  \n",
    "%c  本地相应的日期和时间表示  \n",
    "%d   一个月中的第几天（01-31）  \n",
    "%H  一天中的第几个小时（24小时制00-23）  \n",
    "%I  一天中的第几个小时（12小时制01-12）  \n",
    "%j  一年中的第几天（001-366）  \n",
    "%m  月份（01-12）  \n",
    "%M  分钟数（00-59）  \n",
    "%p  本地am或pm的相应符  \n",
    "%S  秒（01-61）  \n",
    "%U  一年中的星期数（00-53  星期天是一个周的开始）  \n",
    "%w  一个星期中的第几天（001-366）  \n",
    "%W  和%U基本相同，不同的是是以星期一为开始第一天  \n",
    "%x  本地相应日期  \n",
    "%X  本地相应时间  \n",
    "%y  去掉时间的年份（00-99）  \n",
    "%Y  完整的年份  \n",
    "%z  用+HHMM 或 -HHMM 表示距离隔离格林威治的时区的篇移  \n",
    "%%  代表%本身  \n",
    "'''"
   ]
  },
  {
   "cell_type": "code",
   "execution_count": 34,
   "metadata": {},
   "outputs": [
    {
     "name": "stdout",
     "output_type": "stream",
     "text": [
      "time.struct_time(tm_year=2019, tm_mon=8, tm_mday=11, tm_hour=9, tm_min=43, tm_sec=44, tm_wday=6, tm_yday=223, tm_isdst=0)\n",
      "2019年08月11日  09:43\n",
      "2019年08月11日\n"
     ]
    }
   ],
   "source": [
    "import locale\n",
    "locale.setlocale(locale.LC_CTYPE,'chinese')\n",
    "'''\n",
    "“在Windows里，time.strftime使用C运行时的多字节字符串函数strftime，这个函数必须先根据当前locale配置来编码格式化字符串（使用PyUnicode_EncodeLocale）。”如果不设置好locale的话，根据默认的\"C\" locale，底层的wcstombs函数会使用latin-1编码（单字节编码）来编码格式化字符串，然后导致题主提供的多字节编码的字符串在编码时出错。\n",
    "'''\n",
    "t = time.localtime()\n",
    "\n",
    "print(t)\n",
    "ft = time.strftime(\"%Y年%m月%d日  %H:%M\",t)\n",
    "print(ft)\n",
    "# 另外一种解决办法\n",
    "print(time.strftime(\"%Y{}%m{}%d{}\").format('年','月','日'))"
   ]
  },
  {
   "cell_type": "markdown",
   "metadata": {},
   "source": [
    "# datetime 模块\n",
    "- datetime提供日期和时间的运算和表示\n"
   ]
  },
  {
   "cell_type": "code",
   "execution_count": 40,
   "metadata": {},
   "outputs": [
    {
     "name": "stdout",
     "output_type": "stream",
     "text": [
      "2019-08-11 11 2019 8\n"
     ]
    }
   ],
   "source": [
    "# datetime常见属性： year ,month, day属性\n",
    "import datetime\n",
    "dt = datetime.date(2019,8,11)\n",
    "print(dt,dt.day,dt.year,dt.month)\n",
    "\n",
    "# datetime.time 提供一个理想的时间，有hour,minute,sec,microsec等内置\n",
    "# datetime.datetime 提供日期和时间的组合\n",
    "# datetime。timedelta  时间差"
   ]
  },
  {
   "cell_type": "code",
   "execution_count": 45,
   "metadata": {},
   "outputs": [
    {
     "name": "stdout",
     "output_type": "stream",
     "text": [
      "2019-08-11 09:52:19.119663\n",
      "2019-08-11 09:52:19.119662\n",
      "2019-08-11 09:52:19.119663\n"
     ]
    }
   ],
   "source": [
    "from datetime import datetime\n",
    "# 常用方法：today,now,utcnow,fromtimestamp（从时间戳中返回本地时间）\n",
    "dt = datetime(2019,9,2)\n",
    "print(dt.today())\n",
    "print(dt.now())\n",
    "print(dt.fromtimestamp(time.time()))"
   ]
  },
  {
   "cell_type": "code",
   "execution_count": 49,
   "metadata": {},
   "outputs": [
    {
     "name": "stdout",
     "output_type": "stream",
     "text": [
      "2019-08-11 09:55:59.078462\n",
      "2019-08-11  09:55:59\n",
      "2019-08-11  10:55:59\n"
     ]
    }
   ],
   "source": [
    "# datetime.timedelta\n",
    "# 表示一个时间间隔\n",
    "from datetime import datetime, timedelta\n",
    "t1 = datetime.now()\n",
    "print(t1)\n",
    "print(t1.strftime(\"%Y-%m-%d  %H:%M:%S\"))\n",
    "td = timedelta(hours=1)  # 设置时间间隔\n",
    "print((t1 + td).strftime(\"%Y-%m-%d  %H:%M:%S\"))"
   ]
  },
  {
   "cell_type": "code",
   "execution_count": 51,
   "metadata": {},
   "outputs": [
    {
     "name": "stdout",
     "output_type": "stream",
     "text": [
      "0.5007338523864746\n"
     ]
    }
   ],
   "source": [
    "# timeit - 时间测量工具\n",
    "\n",
    "# 测量程序运行时间间隔\n",
    "def p():\n",
    "    time.sleep(0.5)\n",
    "t1 = time.time()\n",
    "p()\n",
    "print(time.time() - t1)"
   ]
  },
  {
   "cell_type": "code",
   "execution_count": 55,
   "metadata": {},
   "outputs": [
    {
     "name": "stdout",
     "output_type": "stream",
     "text": [
      "9.263340484999844\n"
     ]
    }
   ],
   "source": [
    "# 格式timeit(stmt = \"代码片段\"，number=运行次数)\n",
    "import timeit\n",
    "t1 = timeit.timeit(stmt=\"[i for i in range(10000)]\",number=10000)\n",
    "print(t1)"
   ]
  },
  {
   "cell_type": "code",
   "execution_count": 58,
   "metadata": {},
   "outputs": [
    {
     "name": "stdout",
     "output_type": "stream",
     "text": [
      "repeat for 0\n",
      "repeat for 1\n",
      "repeat for 2\n",
      "repeat for 0\n",
      "repeat for 1\n",
      "repeat for 2\n",
      "repeat for 0\n",
      "repeat for 1\n",
      "repeat for 2\n",
      "repeat for 0\n",
      "repeat for 1\n",
      "repeat for 2\n",
      "repeat for 0\n",
      "repeat for 1\n",
      "repeat for 2\n",
      "repeat for 0\n",
      "repeat for 1\n",
      "repeat for 2\n",
      "repeat for 0\n",
      "repeat for 1\n",
      "repeat for 2\n",
      "repeat for 0\n",
      "repeat for 1\n",
      "repeat for 2\n",
      "repeat for 0\n",
      "repeat for 1\n",
      "repeat for 2\n",
      "repeat for 0\n",
      "repeat for 1\n",
      "repeat for 2\n",
      "0.0011396269992474117\n"
     ]
    }
   ],
   "source": [
    "# timeit 还可以执行一个函数，来测量一个函数的执行时间\n",
    "def do():\n",
    "    num = 3 \n",
    "    for i in range(num):\n",
    "        print(\"repeat for {}\".format(i))\n",
    "t = timeit.timeit(stmt=do, number=10)\n",
    "print(t)"
   ]
  },
  {
   "cell_type": "code",
   "execution_count": 61,
   "metadata": {},
   "outputs": [
    {
     "name": "stdout",
     "output_type": "stream",
     "text": [
      "repeat for 0\n",
      "repeat for 1\n",
      "repeat for 2\n",
      "repeat for 0\n",
      "repeat for 1\n",
      "repeat for 2\n",
      "repeat for 0\n",
      "repeat for 1\n",
      "repeat for 2\n",
      "repeat for 0\n",
      "repeat for 1\n",
      "repeat for 2\n",
      "repeat for 0\n",
      "repeat for 1\n",
      "repeat for 2\n",
      "repeat for 0\n",
      "repeat for 1\n",
      "repeat for 2\n",
      "repeat for 0\n",
      "repeat for 1\n",
      "repeat for 2\n",
      "repeat for 0\n",
      "repeat for 1\n",
      "repeat for 2\n",
      "repeat for 0\n",
      "repeat for 1\n",
      "repeat for 2\n",
      "repeat for 0\n",
      "repeat for 1\n",
      "repeat for 2\n",
      "0.0015227740004775114\n"
     ]
    }
   ],
   "source": [
    "s = '''\n",
    "def do(num):\n",
    "    for i in range(num):\n",
    "        print(\"repeat for {}\".format(i))\n",
    "'''\n",
    "# 执行do(num)\n",
    "# setup 负责把环境变量准备好\n",
    "# 实际相当于给timeit创造了一个小环境\n",
    "\n",
    "t = timeit.timeit(\"do(num)\",setup=s+\"num=3\", number=10)\n",
    "print(t)"
   ]
  },
  {
   "cell_type": "markdown",
   "metadata": {},
   "source": [
    "# datetime.datetime模块\n",
    "- 提供比较好用的时间而已\n",
    "- 类定义\n"
   ]
  },
  {
   "cell_type": "markdown",
   "metadata": {},
   "source": [
    "# os - 操作系统相关\n",
    "- 主要是操作文件\n",
    "- 系统的操作包含在三个模块当中\n",
    "    - os, 操作系统目录相关\n",
    "    - os.path 系统路径\n",
    "    - shutil 高级文件操作，目录树的操作，文件赋值，删除，移动\n",
    "- 路径\n",
    "    - 相对路径：总是根目录开始\n",
    "    - 绝对路径：基本以当前环境为开始的一个相对的地方\n"
   ]
  },
  {
   "cell_type": "markdown",
   "metadata": {},
   "source": [
    "# os模块"
   ]
  },
  {
   "cell_type": "code",
   "execution_count": 65,
   "metadata": {},
   "outputs": [
    {
     "name": "stdout",
     "output_type": "stream",
     "text": [
      "C:\\Users\\acer\\Documents\\数据分析师学习\\python笔记\n"
     ]
    }
   ],
   "source": [
    "# getcwd() 获取当前的工作目录\n",
    "# 格式：os.getcwd()\n",
    "# 返回值： 当前工作目录的字符串\n",
    "# 当前工作目录就是程序在进行文件相关操作，默认查找文件的目录\n",
    "\n",
    "import os\n",
    "mydir = os.getcwd()\n",
    "print(mydir)"
   ]
  },
  {
   "cell_type": "code",
   "execution_count": 68,
   "metadata": {},
   "outputs": [
    {
     "name": "stdout",
     "output_type": "stream",
     "text": [
      "['.ipynb_checkpoints', '1.python基础笔记.ipynb', '2.异常.ipynb', '3.模块学习.ipynb', '4.常见模块.ipynb']\n"
     ]
    }
   ],
   "source": [
    "# chidr（）改变当前的工作路径\n",
    "# lisdir()获取一个目录中所有子目录和文件的名称列表\n",
    "   # 格式:os.listdir(路径)\n",
    "ld = os.listdir() # 可放路径也可不放\n",
    "print(ld)"
   ]
  },
  {
   "cell_type": "code",
   "execution_count": 71,
   "metadata": {},
   "outputs": [],
   "source": [
    "# makedirs（）递归创建文件夹\n",
    "# 格式： os.makedirs(递归lujing)，无返回值\n",
    "# 递归路径:多个文件夹层层包含的路径就是递归路径\n",
    "os.chdir(r'C:\\Users\\acer\\Desktop')\n",
    "os.makedirs(\"taotaog\")"
   ]
  },
  {
   "cell_type": "code",
   "execution_count": 3,
   "metadata": {},
   "outputs": [
    {
     "name": "stdout",
     "output_type": "stream",
     "text": [
      "1\n",
      "1\n"
     ]
    }
   ],
   "source": [
    "# system() 运行系统shell命令\n",
    "# 格式：os.system(系统命令)\n",
    "# 返回值：打开一个shell或者终端界面\n",
    "# 一般推荐使用subprocess代替\n",
    "# ls是列出当前文件和文件夹的系统命令\n",
    "import os \n",
    "rst = os.system(\"ls\")\n",
    "print(rst)\n",
    "\n",
    "# 在当前目录下创建一个dana.haha的文集\n",
    "os.chdir(r'C:\\Users\\acer\\Desktop')\n",
    "rst = os.system(\"touch dana.haha\")\n",
    "print(rst)"
   ]
  },
  {
   "cell_type": "code",
   "execution_count": 5,
   "metadata": {},
   "outputs": [
    {
     "name": "stdout",
     "output_type": "stream",
     "text": [
      "e:\\Users\\acer\\Anaconda3;e:\\Users\\acer\\Anaconda3\\Library\\mingw-w64\\bin;e:\\Users\\acer\\Anaconda3\\Library\\usr\\bin;e:\\Users\\acer\\Anaconda3\\Library\\bin;e:\\Users\\acer\\Anaconda3\\Scripts;C:\\ProgramData\\Oracle\\Java\\javapath;C:\\Program Files (x86)\\Common Files\\Oracle\\Java\\javapath%JAVA_HOME%\\bin;C:\\Program Files (x86)\\Common Files\\Intel\\Shared Libraries\\redist\\intel64\\compiler;C:\\Windows\\system32;C:\\Windows;C:\\Windows\\System32\\Wbem;C:\\Windows\\System32\\WindowsPowerShell\\v1.0\\;C:\\Windows\\System32\\OpenSSH\\;e:\\Users\\acer\\Anaconda3;e:\\Users\\acer\\Anaconda3\\Library\\mingw-w64\\bin;e:\\Users\\acer\\Anaconda3\\Library\\usr\\bin;e:\\Users\\acer\\Anaconda3\\Library\\bin;e:\\Users\\acer\\Anaconda3\\Scripts;C:\\Users\\acer\\Anaconda3;C:\\Users\\acer\\Anaconda3\\Scripts;C:\\Users\\acer\\Anaconda3\\Library\\bin;C:\\Users\\acer\\AppData\\Local\\Microsoft\\WindowsApps;d:\\Users\\acer\\AppData\\Local\\Programs\\Fiddler\n"
     ]
    }
   ],
   "source": [
    "# getenv()获取指定的系统环境变量\n",
    "# 格式：os.getenv(\"环境变量名\")\n",
    "# 返回值：指定环境变量名对应的值\n",
    "rst = os.getenv(\"PATH\")\n",
    "print(rst)"
   ]
  },
  {
   "cell_type": "code",
   "execution_count": 6,
   "metadata": {},
   "outputs": [],
   "source": [
    "# exit(退出当前程序)"
   ]
  },
  {
   "cell_type": "markdown",
   "metadata": {},
   "source": [
    "# 值部分\n",
    "- os.curdir: current dir ,当前目录\n",
    "- os.pardir: parent dir , 父亲目录\n",
    "- os.sep:当前系统的路径分隔符\n",
    "    - windows: \"\\\n",
    "- os.linesep: 当前系统的换行符号\n",
    "    - windows :\"\\r\\n\"\n",
    "    - Linux: \"\\n\n",
    "- os.name : 当前系统名称\n",
    "    - windows : nt"
   ]
  },
  {
   "cell_type": "code",
   "execution_count": 8,
   "metadata": {},
   "outputs": [
    {
     "name": "stdout",
     "output_type": "stream",
     "text": [
      "..\n",
      ".\n"
     ]
    }
   ],
   "source": [
    "print(os.pardir)\n",
    "print(os.curdir)"
   ]
  },
  {
   "cell_type": "code",
   "execution_count": 12,
   "metadata": {},
   "outputs": [
    {
     "name": "stdout",
     "output_type": "stream",
     "text": [
      "\\\n",
      "\r\n",
      "\n",
      "0000\n"
     ]
    }
   ],
   "source": [
    "# 在路径相关的操作中，不要手动拼写地址，因为不具有可移植性，建议os.path\n",
    "print(os.sep)\n",
    "print(os.linesep)\n",
    "print('0000')"
   ]
  },
  {
   "cell_type": "code",
   "execution_count": 14,
   "metadata": {},
   "outputs": [
    {
     "name": "stdout",
     "output_type": "stream",
     "text": [
      "nt\n"
     ]
    }
   ],
   "source": [
    "print(os.name)"
   ]
  },
  {
   "cell_type": "markdown",
   "metadata": {},
   "source": [
    "# 模块os.path，和路径相关的模块\n"
   ]
  },
  {
   "cell_type": "code",
   "execution_count": 16,
   "metadata": {},
   "outputs": [
    {
     "name": "stdout",
     "output_type": "stream",
     "text": [
      "C:\\Users\\acer\\Desktop\n"
     ]
    }
   ],
   "source": [
    "# abspath()将路径转为绝对路径\n",
    "# abselute绝对\n",
    "# 格式：os.path.abspath('路径')\n",
    "# 返回值： 路径的绝对路径形式\n",
    "import os.path as op\n",
    "absp = op.abspath(\".\")\n",
    "print(absp)"
   ]
  },
  {
   "cell_type": "code",
   "execution_count": 18,
   "metadata": {},
   "outputs": [
    {
     "name": "stdout",
     "output_type": "stream",
     "text": [
      "Desktop\n",
      "python\n"
     ]
    }
   ],
   "source": [
    "# basename（）获取路径中的文件名部分\n",
    "# 格式： os.path.basename(路径)\n",
    "# 返回值： 文件名字符串\n",
    "bn = op.basename(r'C:\\Users\\acer\\Desktop')\n",
    "print(bn)\n",
    "bn = op.basename(r'C:\\Users\\acer\\Desktop\\python')\n",
    "print(bn)"
   ]
  },
  {
   "cell_type": "code",
   "execution_count": 20,
   "metadata": {},
   "outputs": [
    {
     "name": "stdout",
     "output_type": "stream",
     "text": [
      "C:\\Users\\acer\\Desktop\\python\n"
     ]
    }
   ],
   "source": [
    "# join（）将多个路径拼合成一个路径\n",
    "# 格式：os.path.join(路径1，路径2)\n",
    "# 返回值： 组合之后的路径字符串\n",
    "load1 = r'C:\\Users\\acer\\Desktop'\n",
    "load2 = 'python'\n",
    "p = op.join(load1,load2)\n",
    "print(p)"
   ]
  },
  {
   "cell_type": "code",
   "execution_count": 23,
   "metadata": {},
   "outputs": [
    {
     "name": "stdout",
     "output_type": "stream",
     "text": [
      "('C:\\\\Users\\\\acer\\\\Desktop', 'python')\n",
      "C:\\Users\\acer\\Desktop python\n"
     ]
    }
   ],
   "source": [
    "# split()将路径切割为文件夹部分和当前文件部分\n",
    "# 格式： os.path.split(路径)\n",
    "# 返回值： 路径和文件名组成的元组\n",
    "l1,l2 = op.split(r'C:\\Users\\acer\\Desktop\\python')\n",
    "l = op.split(r'C:\\Users\\acer\\Desktop\\python')\n",
    "print(l)\n",
    "print(l1,l2)"
   ]
  },
  {
   "cell_type": "code",
   "execution_count": 27,
   "metadata": {},
   "outputs": [
    {
     "name": "stdout",
     "output_type": "stream",
     "text": [
      "True\n"
     ]
    }
   ],
   "source": [
    "# isdir() 检测是否是目录\n",
    "rst = op.isdir(r'C:\\Users\\acer\\Desktop\\python')\n",
    "print(rst)"
   ]
  },
  {
   "cell_type": "code",
   "execution_count": 28,
   "metadata": {},
   "outputs": [],
   "source": [
    "# exists()检测文件或目录是否存在\n"
   ]
  },
  {
   "cell_type": "markdown",
   "metadata": {},
   "source": [
    "# shutil模块\n"
   ]
  },
  {
   "cell_type": "code",
   "execution_count": 3,
   "metadata": {},
   "outputs": [],
   "source": [
    "# copy()复制文件\n",
    "# copy2()复制文件，尽量保留元数据\n",
    "# 格式：shutil.copy(来源于路径，目标路径)\n",
    "# 拷贝的同时，可以给文件重命名\n",
    "import shutil\n",
    "import os\n",
    "os.chdir(r'C:\\Users\\acer\\Desktop')\n",
    "#rst = shutil.copy(r'C:\\Users\\acer\\Desktop\\data',r'C:\\Users\\acer\\Desktop\\data1')\n",
    "#print(rst)"
   ]
  },
  {
   "cell_type": "code",
   "execution_count": 35,
   "metadata": {},
   "outputs": [],
   "source": [
    "# copyfilt()将一个文件中的内容复制到另一个文件当中\n",
    "#格式：shutil.copyfile(原路径，目标路径)\n",
    "# move（）移动文件\n",
    "# 格式：（源路径，目标路径）"
   ]
  },
  {
   "cell_type": "markdown",
   "metadata": {},
   "source": [
    "# 归档和压缩\n",
    "- 归档：把多个文件或者文件夹合并到一个文件当中 \n",
    "- 压缩：用算法把多个文件或者文件夹无损或者有损合并到一个文件当中\n"
   ]
  },
  {
   "cell_type": "code",
   "execution_count": 4,
   "metadata": {},
   "outputs": [
    {
     "name": "stdout",
     "output_type": "stream",
     "text": [
      "C:\\Users\\acer\\Desktop\\data.zip\n"
     ]
    }
   ],
   "source": [
    "# make_archive()归档操作\n",
    "# 格式：shutil.make_archive（归档之后的目录和文件名，后缀，需要归档的文件夹）\n",
    "# 返回值：归档之后的地址\n",
    "# 将python这个文件压缩到data文件中\n",
    "rst = shutil.make_archive(r\"C:\\Users\\acer\\Desktop\\data\",\"zip\",r\"C:\\Users\\acer\\Desktop\\python\")\n",
    "print(rst)"
   ]
  },
  {
   "cell_type": "code",
   "execution_count": 5,
   "metadata": {},
   "outputs": [],
   "source": [
    "# unpack_archive()解包操作\n",
    "#格式: shutil.unpack_archive(归档文件地址，解包之后的地址)\n"
   ]
  },
  {
   "cell_type": "markdown",
   "metadata": {},
   "source": [
    "# zip- 包\n",
    "- 模块名叫做zipfile`"
   ]
  },
  {
   "cell_type": "code",
   "execution_count": 7,
   "metadata": {},
   "outputs": [],
   "source": [
    "# zipfile.ZipFile(file[,model[,compression[,allowZip64]]])\n",
    "# 创建一个ZipFile对象，表示一个Zip文件，参数file表示文件的路径或类文件对象象\n",
    "import zipfile\n",
    "zf = zipfile.ZipFile(r\"C:\\Users\\acer\\Desktop\\data.zip\")"
   ]
  },
  {
   "cell_type": "code",
   "execution_count": 10,
   "metadata": {},
   "outputs": [
    {
     "name": "stdout",
     "output_type": "stream",
     "text": [
      "<ZipInfo filename='pyvenv.cfg' compress_type=deflate filemode='-rw-rw-rw-' file_size=87 compress_size=85>\n"
     ]
    }
   ],
   "source": [
    "# ZipFile.getinfo(name):\n",
    "# 获取zip文档内指定文件的信息，返回一个zipfile.ZipInfo对象，它包括文件的详细信息\n",
    "\n",
    "rst = zf.getinfo(\"pyvenv.cfg\")\n",
    "print(rst)"
   ]
  },
  {
   "cell_type": "code",
   "execution_count": 12,
   "metadata": {},
   "outputs": [
    {
     "name": "stdout",
     "output_type": "stream",
     "text": [
      "['Include/', 'Lib/', 'Scripts/', 'pyvenv.cfg', 'Lib/site-packages/', 'Lib/site-packages/pip-19.0.3-py3.7.egg/', 'Lib/site-packages/easy-install.pth', 'Lib/site-packages/setuptools-40.8.0-py3.7.egg', 'Lib/site-packages/setuptools.pth', 'Lib/site-packages/pip-19.0.3-py3.7.egg/EGG-INFO/', 'Lib/site-packages/pip-19.0.3-py3.7.egg/pip/', 'Lib/site-packages/pip-19.0.3-py3.7.egg/EGG-INFO/dependency_links.txt', 'Lib/site-packages/pip-19.0.3-py3.7.egg/EGG-INFO/entry_points.txt', 'Lib/site-packages/pip-19.0.3-py3.7.egg/EGG-INFO/not-zip-safe', 'Lib/site-packages/pip-19.0.3-py3.7.egg/EGG-INFO/PKG-INFO', 'Lib/site-packages/pip-19.0.3-py3.7.egg/EGG-INFO/SOURCES.txt', 'Lib/site-packages/pip-19.0.3-py3.7.egg/EGG-INFO/top_level.txt', 'Lib/site-packages/pip-19.0.3-py3.7.egg/pip/_internal/', 'Lib/site-packages/pip-19.0.3-py3.7.egg/pip/_vendor/', 'Lib/site-packages/pip-19.0.3-py3.7.egg/pip/__init__.py', 'Lib/site-packages/pip-19.0.3-py3.7.egg/pip/__main__.py', 'Lib/site-packages/pip-19.0.3-py3.7.egg/pip/_internal/cli/', 'Lib/site-packages/pip-19.0.3-py3.7.egg/pip/_internal/commands/', 'Lib/site-packages/pip-19.0.3-py3.7.egg/pip/_internal/models/', 'Lib/site-packages/pip-19.0.3-py3.7.egg/pip/_internal/operations/', 'Lib/site-packages/pip-19.0.3-py3.7.egg/pip/_internal/req/', 'Lib/site-packages/pip-19.0.3-py3.7.egg/pip/_internal/utils/', 'Lib/site-packages/pip-19.0.3-py3.7.egg/pip/_internal/vcs/', 'Lib/site-packages/pip-19.0.3-py3.7.egg/pip/_internal/build_env.py', 'Lib/site-packages/pip-19.0.3-py3.7.egg/pip/_internal/cache.py', 'Lib/site-packages/pip-19.0.3-py3.7.egg/pip/_internal/configuration.py', 'Lib/site-packages/pip-19.0.3-py3.7.egg/pip/_internal/download.py', 'Lib/site-packages/pip-19.0.3-py3.7.egg/pip/_internal/exceptions.py', 'Lib/site-packages/pip-19.0.3-py3.7.egg/pip/_internal/index.py', 'Lib/site-packages/pip-19.0.3-py3.7.egg/pip/_internal/locations.py', 'Lib/site-packages/pip-19.0.3-py3.7.egg/pip/_internal/pep425tags.py', 'Lib/site-packages/pip-19.0.3-py3.7.egg/pip/_internal/pyproject.py', 'Lib/site-packages/pip-19.0.3-py3.7.egg/pip/_internal/resolve.py', 'Lib/site-packages/pip-19.0.3-py3.7.egg/pip/_internal/wheel.py', 'Lib/site-packages/pip-19.0.3-py3.7.egg/pip/_internal/__init__.py', 'Lib/site-packages/pip-19.0.3-py3.7.egg/pip/_internal/cli/autocompletion.py', 'Lib/site-packages/pip-19.0.3-py3.7.egg/pip/_internal/cli/base_command.py', 'Lib/site-packages/pip-19.0.3-py3.7.egg/pip/_internal/cli/cmdoptions.py', 'Lib/site-packages/pip-19.0.3-py3.7.egg/pip/_internal/cli/main_parser.py', 'Lib/site-packages/pip-19.0.3-py3.7.egg/pip/_internal/cli/parser.py', 'Lib/site-packages/pip-19.0.3-py3.7.egg/pip/_internal/cli/status_codes.py', 'Lib/site-packages/pip-19.0.3-py3.7.egg/pip/_internal/cli/__init__.py', 'Lib/site-packages/pip-19.0.3-py3.7.egg/pip/_internal/commands/check.py', 'Lib/site-packages/pip-19.0.3-py3.7.egg/pip/_internal/commands/completion.py', 'Lib/site-packages/pip-19.0.3-py3.7.egg/pip/_internal/commands/configuration.py', 'Lib/site-packages/pip-19.0.3-py3.7.egg/pip/_internal/commands/download.py', 'Lib/site-packages/pip-19.0.3-py3.7.egg/pip/_internal/commands/freeze.py', 'Lib/site-packages/pip-19.0.3-py3.7.egg/pip/_internal/commands/hash.py', 'Lib/site-packages/pip-19.0.3-py3.7.egg/pip/_internal/commands/help.py', 'Lib/site-packages/pip-19.0.3-py3.7.egg/pip/_internal/commands/install.py', 'Lib/site-packages/pip-19.0.3-py3.7.egg/pip/_internal/commands/list.py', 'Lib/site-packages/pip-19.0.3-py3.7.egg/pip/_internal/commands/search.py', 'Lib/site-packages/pip-19.0.3-py3.7.egg/pip/_internal/commands/show.py', 'Lib/site-packages/pip-19.0.3-py3.7.egg/pip/_internal/commands/uninstall.py', 'Lib/site-packages/pip-19.0.3-py3.7.egg/pip/_internal/commands/wheel.py', 'Lib/site-packages/pip-19.0.3-py3.7.egg/pip/_internal/commands/__init__.py', 'Lib/site-packages/pip-19.0.3-py3.7.egg/pip/_internal/models/candidate.py', 'Lib/site-packages/pip-19.0.3-py3.7.egg/pip/_internal/models/format_control.py', 'Lib/site-packages/pip-19.0.3-py3.7.egg/pip/_internal/models/index.py', 'Lib/site-packages/pip-19.0.3-py3.7.egg/pip/_internal/models/link.py', 'Lib/site-packages/pip-19.0.3-py3.7.egg/pip/_internal/models/__init__.py', 'Lib/site-packages/pip-19.0.3-py3.7.egg/pip/_internal/operations/check.py', 'Lib/site-packages/pip-19.0.3-py3.7.egg/pip/_internal/operations/freeze.py', 'Lib/site-packages/pip-19.0.3-py3.7.egg/pip/_internal/operations/prepare.py', 'Lib/site-packages/pip-19.0.3-py3.7.egg/pip/_internal/operations/__init__.py', 'Lib/site-packages/pip-19.0.3-py3.7.egg/pip/_internal/req/constructors.py', 'Lib/site-packages/pip-19.0.3-py3.7.egg/pip/_internal/req/req_file.py', 'Lib/site-packages/pip-19.0.3-py3.7.egg/pip/_internal/req/req_install.py', 'Lib/site-packages/pip-19.0.3-py3.7.egg/pip/_internal/req/req_set.py', 'Lib/site-packages/pip-19.0.3-py3.7.egg/pip/_internal/req/req_tracker.py', 'Lib/site-packages/pip-19.0.3-py3.7.egg/pip/_internal/req/req_uninstall.py', 'Lib/site-packages/pip-19.0.3-py3.7.egg/pip/_internal/req/__init__.py', 'Lib/site-packages/pip-19.0.3-py3.7.egg/pip/_internal/utils/appdirs.py', 'Lib/site-packages/pip-19.0.3-py3.7.egg/pip/_internal/utils/compat.py', 'Lib/site-packages/pip-19.0.3-py3.7.egg/pip/_internal/utils/deprecation.py', 'Lib/site-packages/pip-19.0.3-py3.7.egg/pip/_internal/utils/encoding.py', 'Lib/site-packages/pip-19.0.3-py3.7.egg/pip/_internal/utils/filesystem.py', 'Lib/site-packages/pip-19.0.3-py3.7.egg/pip/_internal/utils/glibc.py', 'Lib/site-packages/pip-19.0.3-py3.7.egg/pip/_internal/utils/hashes.py', 'Lib/site-packages/pip-19.0.3-py3.7.egg/pip/_internal/utils/logging.py', 'Lib/site-packages/pip-19.0.3-py3.7.egg/pip/_internal/utils/misc.py', 'Lib/site-packages/pip-19.0.3-py3.7.egg/pip/_internal/utils/models.py', 'Lib/site-packages/pip-19.0.3-py3.7.egg/pip/_internal/utils/outdated.py', 'Lib/site-packages/pip-19.0.3-py3.7.egg/pip/_internal/utils/packaging.py', 'Lib/site-packages/pip-19.0.3-py3.7.egg/pip/_internal/utils/setuptools_build.py', 'Lib/site-packages/pip-19.0.3-py3.7.egg/pip/_internal/utils/temp_dir.py', 'Lib/site-packages/pip-19.0.3-py3.7.egg/pip/_internal/utils/typing.py', 'Lib/site-packages/pip-19.0.3-py3.7.egg/pip/_internal/utils/ui.py', 'Lib/site-packages/pip-19.0.3-py3.7.egg/pip/_internal/utils/__init__.py', 'Lib/site-packages/pip-19.0.3-py3.7.egg/pip/_internal/vcs/bazaar.py', 'Lib/site-packages/pip-19.0.3-py3.7.egg/pip/_internal/vcs/git.py', 'Lib/site-packages/pip-19.0.3-py3.7.egg/pip/_internal/vcs/mercurial.py', 'Lib/site-packages/pip-19.0.3-py3.7.egg/pip/_internal/vcs/subversion.py', 'Lib/site-packages/pip-19.0.3-py3.7.egg/pip/_internal/vcs/__init__.py', 'Lib/site-packages/pip-19.0.3-py3.7.egg/pip/_vendor/cachecontrol/', 'Lib/site-packages/pip-19.0.3-py3.7.egg/pip/_vendor/certifi/', 'Lib/site-packages/pip-19.0.3-py3.7.egg/pip/_vendor/chardet/', 'Lib/site-packages/pip-19.0.3-py3.7.egg/pip/_vendor/colorama/', 'Lib/site-packages/pip-19.0.3-py3.7.egg/pip/_vendor/distlib/', 'Lib/site-packages/pip-19.0.3-py3.7.egg/pip/_vendor/html5lib/', 'Lib/site-packages/pip-19.0.3-py3.7.egg/pip/_vendor/idna/', 'Lib/site-packages/pip-19.0.3-py3.7.egg/pip/_vendor/lockfile/', 'Lib/site-packages/pip-19.0.3-py3.7.egg/pip/_vendor/msgpack/', 'Lib/site-packages/pip-19.0.3-py3.7.egg/pip/_vendor/packaging/', 'Lib/site-packages/pip-19.0.3-py3.7.egg/pip/_vendor/pep517/', 'Lib/site-packages/pip-19.0.3-py3.7.egg/pip/_vendor/pkg_resources/', 'Lib/site-packages/pip-19.0.3-py3.7.egg/pip/_vendor/progress/', 'Lib/site-packages/pip-19.0.3-py3.7.egg/pip/_vendor/pytoml/', 'Lib/site-packages/pip-19.0.3-py3.7.egg/pip/_vendor/requests/', 'Lib/site-packages/pip-19.0.3-py3.7.egg/pip/_vendor/urllib3/', 'Lib/site-packages/pip-19.0.3-py3.7.egg/pip/_vendor/webencodings/', 'Lib/site-packages/pip-19.0.3-py3.7.egg/pip/_vendor/appdirs.py', 'Lib/site-packages/pip-19.0.3-py3.7.egg/pip/_vendor/distro.py', 'Lib/site-packages/pip-19.0.3-py3.7.egg/pip/_vendor/ipaddress.py', 'Lib/site-packages/pip-19.0.3-py3.7.egg/pip/_vendor/pyparsing.py', 'Lib/site-packages/pip-19.0.3-py3.7.egg/pip/_vendor/retrying.py', 'Lib/site-packages/pip-19.0.3-py3.7.egg/pip/_vendor/six.py', 'Lib/site-packages/pip-19.0.3-py3.7.egg/pip/_vendor/__init__.py', 'Lib/site-packages/pip-19.0.3-py3.7.egg/pip/_vendor/cachecontrol/caches/', 'Lib/site-packages/pip-19.0.3-py3.7.egg/pip/_vendor/cachecontrol/adapter.py', 'Lib/site-packages/pip-19.0.3-py3.7.egg/pip/_vendor/cachecontrol/cache.py', 'Lib/site-packages/pip-19.0.3-py3.7.egg/pip/_vendor/cachecontrol/compat.py', 'Lib/site-packages/pip-19.0.3-py3.7.egg/pip/_vendor/cachecontrol/controller.py', 'Lib/site-packages/pip-19.0.3-py3.7.egg/pip/_vendor/cachecontrol/filewrapper.py', 'Lib/site-packages/pip-19.0.3-py3.7.egg/pip/_vendor/cachecontrol/heuristics.py', 'Lib/site-packages/pip-19.0.3-py3.7.egg/pip/_vendor/cachecontrol/serialize.py', 'Lib/site-packages/pip-19.0.3-py3.7.egg/pip/_vendor/cachecontrol/wrapper.py', 'Lib/site-packages/pip-19.0.3-py3.7.egg/pip/_vendor/cachecontrol/_cmd.py', 'Lib/site-packages/pip-19.0.3-py3.7.egg/pip/_vendor/cachecontrol/__init__.py', 'Lib/site-packages/pip-19.0.3-py3.7.egg/pip/_vendor/cachecontrol/caches/file_cache.py', 'Lib/site-packages/pip-19.0.3-py3.7.egg/pip/_vendor/cachecontrol/caches/redis_cache.py', 'Lib/site-packages/pip-19.0.3-py3.7.egg/pip/_vendor/cachecontrol/caches/__init__.py', 'Lib/site-packages/pip-19.0.3-py3.7.egg/pip/_vendor/certifi/cacert.pem', 'Lib/site-packages/pip-19.0.3-py3.7.egg/pip/_vendor/certifi/core.py', 'Lib/site-packages/pip-19.0.3-py3.7.egg/pip/_vendor/certifi/__init__.py', 'Lib/site-packages/pip-19.0.3-py3.7.egg/pip/_vendor/certifi/__main__.py', 'Lib/site-packages/pip-19.0.3-py3.7.egg/pip/_vendor/chardet/cli/', 'Lib/site-packages/pip-19.0.3-py3.7.egg/pip/_vendor/chardet/big5freq.py', 'Lib/site-packages/pip-19.0.3-py3.7.egg/pip/_vendor/chardet/big5prober.py', 'Lib/site-packages/pip-19.0.3-py3.7.egg/pip/_vendor/chardet/chardistribution.py', 'Lib/site-packages/pip-19.0.3-py3.7.egg/pip/_vendor/chardet/charsetgroupprober.py', 'Lib/site-packages/pip-19.0.3-py3.7.egg/pip/_vendor/chardet/charsetprober.py', 'Lib/site-packages/pip-19.0.3-py3.7.egg/pip/_vendor/chardet/codingstatemachine.py', 'Lib/site-packages/pip-19.0.3-py3.7.egg/pip/_vendor/chardet/compat.py', 'Lib/site-packages/pip-19.0.3-py3.7.egg/pip/_vendor/chardet/cp949prober.py', 'Lib/site-packages/pip-19.0.3-py3.7.egg/pip/_vendor/chardet/enums.py', 'Lib/site-packages/pip-19.0.3-py3.7.egg/pip/_vendor/chardet/escprober.py', 'Lib/site-packages/pip-19.0.3-py3.7.egg/pip/_vendor/chardet/escsm.py', 'Lib/site-packages/pip-19.0.3-py3.7.egg/pip/_vendor/chardet/eucjpprober.py', 'Lib/site-packages/pip-19.0.3-py3.7.egg/pip/_vendor/chardet/euckrfreq.py', 'Lib/site-packages/pip-19.0.3-py3.7.egg/pip/_vendor/chardet/euckrprober.py', 'Lib/site-packages/pip-19.0.3-py3.7.egg/pip/_vendor/chardet/euctwfreq.py', 'Lib/site-packages/pip-19.0.3-py3.7.egg/pip/_vendor/chardet/euctwprober.py', 'Lib/site-packages/pip-19.0.3-py3.7.egg/pip/_vendor/chardet/gb2312freq.py', 'Lib/site-packages/pip-19.0.3-py3.7.egg/pip/_vendor/chardet/gb2312prober.py', 'Lib/site-packages/pip-19.0.3-py3.7.egg/pip/_vendor/chardet/hebrewprober.py', 'Lib/site-packages/pip-19.0.3-py3.7.egg/pip/_vendor/chardet/jisfreq.py', 'Lib/site-packages/pip-19.0.3-py3.7.egg/pip/_vendor/chardet/jpcntx.py', 'Lib/site-packages/pip-19.0.3-py3.7.egg/pip/_vendor/chardet/langbulgarianmodel.py', 'Lib/site-packages/pip-19.0.3-py3.7.egg/pip/_vendor/chardet/langcyrillicmodel.py', 'Lib/site-packages/pip-19.0.3-py3.7.egg/pip/_vendor/chardet/langgreekmodel.py', 'Lib/site-packages/pip-19.0.3-py3.7.egg/pip/_vendor/chardet/langhebrewmodel.py', 'Lib/site-packages/pip-19.0.3-py3.7.egg/pip/_vendor/chardet/langhungarianmodel.py', 'Lib/site-packages/pip-19.0.3-py3.7.egg/pip/_vendor/chardet/langthaimodel.py', 'Lib/site-packages/pip-19.0.3-py3.7.egg/pip/_vendor/chardet/langturkishmodel.py', 'Lib/site-packages/pip-19.0.3-py3.7.egg/pip/_vendor/chardet/latin1prober.py', 'Lib/site-packages/pip-19.0.3-py3.7.egg/pip/_vendor/chardet/mbcharsetprober.py', 'Lib/site-packages/pip-19.0.3-py3.7.egg/pip/_vendor/chardet/mbcsgroupprober.py', 'Lib/site-packages/pip-19.0.3-py3.7.egg/pip/_vendor/chardet/mbcssm.py', 'Lib/site-packages/pip-19.0.3-py3.7.egg/pip/_vendor/chardet/sbcharsetprober.py', 'Lib/site-packages/pip-19.0.3-py3.7.egg/pip/_vendor/chardet/sbcsgroupprober.py', 'Lib/site-packages/pip-19.0.3-py3.7.egg/pip/_vendor/chardet/sjisprober.py', 'Lib/site-packages/pip-19.0.3-py3.7.egg/pip/_vendor/chardet/universaldetector.py', 'Lib/site-packages/pip-19.0.3-py3.7.egg/pip/_vendor/chardet/utf8prober.py', 'Lib/site-packages/pip-19.0.3-py3.7.egg/pip/_vendor/chardet/version.py', 'Lib/site-packages/pip-19.0.3-py3.7.egg/pip/_vendor/chardet/__init__.py', 'Lib/site-packages/pip-19.0.3-py3.7.egg/pip/_vendor/chardet/cli/chardetect.py', 'Lib/site-packages/pip-19.0.3-py3.7.egg/pip/_vendor/chardet/cli/__init__.py', 'Lib/site-packages/pip-19.0.3-py3.7.egg/pip/_vendor/colorama/ansi.py', 'Lib/site-packages/pip-19.0.3-py3.7.egg/pip/_vendor/colorama/ansitowin32.py', 'Lib/site-packages/pip-19.0.3-py3.7.egg/pip/_vendor/colorama/initialise.py', 'Lib/site-packages/pip-19.0.3-py3.7.egg/pip/_vendor/colorama/win32.py', 'Lib/site-packages/pip-19.0.3-py3.7.egg/pip/_vendor/colorama/winterm.py', 'Lib/site-packages/pip-19.0.3-py3.7.egg/pip/_vendor/colorama/__init__.py', 'Lib/site-packages/pip-19.0.3-py3.7.egg/pip/_vendor/distlib/_backport/', 'Lib/site-packages/pip-19.0.3-py3.7.egg/pip/_vendor/distlib/compat.py', 'Lib/site-packages/pip-19.0.3-py3.7.egg/pip/_vendor/distlib/database.py', 'Lib/site-packages/pip-19.0.3-py3.7.egg/pip/_vendor/distlib/index.py', 'Lib/site-packages/pip-19.0.3-py3.7.egg/pip/_vendor/distlib/locators.py', 'Lib/site-packages/pip-19.0.3-py3.7.egg/pip/_vendor/distlib/manifest.py', 'Lib/site-packages/pip-19.0.3-py3.7.egg/pip/_vendor/distlib/markers.py', 'Lib/site-packages/pip-19.0.3-py3.7.egg/pip/_vendor/distlib/metadata.py', 'Lib/site-packages/pip-19.0.3-py3.7.egg/pip/_vendor/distlib/resources.py', 'Lib/site-packages/pip-19.0.3-py3.7.egg/pip/_vendor/distlib/scripts.py', 'Lib/site-packages/pip-19.0.3-py3.7.egg/pip/_vendor/distlib/t32.exe', 'Lib/site-packages/pip-19.0.3-py3.7.egg/pip/_vendor/distlib/t64.exe', 'Lib/site-packages/pip-19.0.3-py3.7.egg/pip/_vendor/distlib/util.py', 'Lib/site-packages/pip-19.0.3-py3.7.egg/pip/_vendor/distlib/version.py', 'Lib/site-packages/pip-19.0.3-py3.7.egg/pip/_vendor/distlib/w32.exe', 'Lib/site-packages/pip-19.0.3-py3.7.egg/pip/_vendor/distlib/w64.exe', 'Lib/site-packages/pip-19.0.3-py3.7.egg/pip/_vendor/distlib/wheel.py', 'Lib/site-packages/pip-19.0.3-py3.7.egg/pip/_vendor/distlib/__init__.py', 'Lib/site-packages/pip-19.0.3-py3.7.egg/pip/_vendor/distlib/_backport/misc.py', 'Lib/site-packages/pip-19.0.3-py3.7.egg/pip/_vendor/distlib/_backport/shutil.py', 'Lib/site-packages/pip-19.0.3-py3.7.egg/pip/_vendor/distlib/_backport/sysconfig.cfg', 'Lib/site-packages/pip-19.0.3-py3.7.egg/pip/_vendor/distlib/_backport/sysconfig.py', 'Lib/site-packages/pip-19.0.3-py3.7.egg/pip/_vendor/distlib/_backport/tarfile.py', 'Lib/site-packages/pip-19.0.3-py3.7.egg/pip/_vendor/distlib/_backport/__init__.py', 'Lib/site-packages/pip-19.0.3-py3.7.egg/pip/_vendor/html5lib/_trie/', 'Lib/site-packages/pip-19.0.3-py3.7.egg/pip/_vendor/html5lib/filters/', 'Lib/site-packages/pip-19.0.3-py3.7.egg/pip/_vendor/html5lib/treeadapters/', 'Lib/site-packages/pip-19.0.3-py3.7.egg/pip/_vendor/html5lib/treebuilders/', 'Lib/site-packages/pip-19.0.3-py3.7.egg/pip/_vendor/html5lib/treewalkers/', 'Lib/site-packages/pip-19.0.3-py3.7.egg/pip/_vendor/html5lib/constants.py', 'Lib/site-packages/pip-19.0.3-py3.7.egg/pip/_vendor/html5lib/html5parser.py', 'Lib/site-packages/pip-19.0.3-py3.7.egg/pip/_vendor/html5lib/serializer.py', 'Lib/site-packages/pip-19.0.3-py3.7.egg/pip/_vendor/html5lib/_ihatexml.py', 'Lib/site-packages/pip-19.0.3-py3.7.egg/pip/_vendor/html5lib/_inputstream.py', 'Lib/site-packages/pip-19.0.3-py3.7.egg/pip/_vendor/html5lib/_tokenizer.py', 'Lib/site-packages/pip-19.0.3-py3.7.egg/pip/_vendor/html5lib/_utils.py', 'Lib/site-packages/pip-19.0.3-py3.7.egg/pip/_vendor/html5lib/__init__.py', 'Lib/site-packages/pip-19.0.3-py3.7.egg/pip/_vendor/html5lib/filters/alphabeticalattributes.py', 'Lib/site-packages/pip-19.0.3-py3.7.egg/pip/_vendor/html5lib/filters/base.py', 'Lib/site-packages/pip-19.0.3-py3.7.egg/pip/_vendor/html5lib/filters/inject_meta_charset.py', 'Lib/site-packages/pip-19.0.3-py3.7.egg/pip/_vendor/html5lib/filters/lint.py', 'Lib/site-packages/pip-19.0.3-py3.7.egg/pip/_vendor/html5lib/filters/optionaltags.py', 'Lib/site-packages/pip-19.0.3-py3.7.egg/pip/_vendor/html5lib/filters/sanitizer.py', 'Lib/site-packages/pip-19.0.3-py3.7.egg/pip/_vendor/html5lib/filters/whitespace.py', 'Lib/site-packages/pip-19.0.3-py3.7.egg/pip/_vendor/html5lib/filters/__init__.py', 'Lib/site-packages/pip-19.0.3-py3.7.egg/pip/_vendor/html5lib/treeadapters/genshi.py', 'Lib/site-packages/pip-19.0.3-py3.7.egg/pip/_vendor/html5lib/treeadapters/sax.py', 'Lib/site-packages/pip-19.0.3-py3.7.egg/pip/_vendor/html5lib/treeadapters/__init__.py', 'Lib/site-packages/pip-19.0.3-py3.7.egg/pip/_vendor/html5lib/treebuilders/base.py', 'Lib/site-packages/pip-19.0.3-py3.7.egg/pip/_vendor/html5lib/treebuilders/dom.py', 'Lib/site-packages/pip-19.0.3-py3.7.egg/pip/_vendor/html5lib/treebuilders/etree.py', 'Lib/site-packages/pip-19.0.3-py3.7.egg/pip/_vendor/html5lib/treebuilders/etree_lxml.py', 'Lib/site-packages/pip-19.0.3-py3.7.egg/pip/_vendor/html5lib/treebuilders/__init__.py', 'Lib/site-packages/pip-19.0.3-py3.7.egg/pip/_vendor/html5lib/treewalkers/base.py', 'Lib/site-packages/pip-19.0.3-py3.7.egg/pip/_vendor/html5lib/treewalkers/dom.py', 'Lib/site-packages/pip-19.0.3-py3.7.egg/pip/_vendor/html5lib/treewalkers/etree.py', 'Lib/site-packages/pip-19.0.3-py3.7.egg/pip/_vendor/html5lib/treewalkers/etree_lxml.py', 'Lib/site-packages/pip-19.0.3-py3.7.egg/pip/_vendor/html5lib/treewalkers/genshi.py', 'Lib/site-packages/pip-19.0.3-py3.7.egg/pip/_vendor/html5lib/treewalkers/__init__.py', 'Lib/site-packages/pip-19.0.3-py3.7.egg/pip/_vendor/html5lib/_trie/datrie.py', 'Lib/site-packages/pip-19.0.3-py3.7.egg/pip/_vendor/html5lib/_trie/py.py', 'Lib/site-packages/pip-19.0.3-py3.7.egg/pip/_vendor/html5lib/_trie/_base.py', 'Lib/site-packages/pip-19.0.3-py3.7.egg/pip/_vendor/html5lib/_trie/__init__.py', 'Lib/site-packages/pip-19.0.3-py3.7.egg/pip/_vendor/idna/codec.py', 'Lib/site-packages/pip-19.0.3-py3.7.egg/pip/_vendor/idna/compat.py', 'Lib/site-packages/pip-19.0.3-py3.7.egg/pip/_vendor/idna/core.py', 'Lib/site-packages/pip-19.0.3-py3.7.egg/pip/_vendor/idna/idnadata.py', 'Lib/site-packages/pip-19.0.3-py3.7.egg/pip/_vendor/idna/intranges.py', 'Lib/site-packages/pip-19.0.3-py3.7.egg/pip/_vendor/idna/package_data.py', 'Lib/site-packages/pip-19.0.3-py3.7.egg/pip/_vendor/idna/uts46data.py', 'Lib/site-packages/pip-19.0.3-py3.7.egg/pip/_vendor/idna/__init__.py', 'Lib/site-packages/pip-19.0.3-py3.7.egg/pip/_vendor/lockfile/linklockfile.py', 'Lib/site-packages/pip-19.0.3-py3.7.egg/pip/_vendor/lockfile/mkdirlockfile.py', 'Lib/site-packages/pip-19.0.3-py3.7.egg/pip/_vendor/lockfile/pidlockfile.py', 'Lib/site-packages/pip-19.0.3-py3.7.egg/pip/_vendor/lockfile/sqlitelockfile.py', 'Lib/site-packages/pip-19.0.3-py3.7.egg/pip/_vendor/lockfile/symlinklockfile.py', 'Lib/site-packages/pip-19.0.3-py3.7.egg/pip/_vendor/lockfile/__init__.py', 'Lib/site-packages/pip-19.0.3-py3.7.egg/pip/_vendor/msgpack/exceptions.py', 'Lib/site-packages/pip-19.0.3-py3.7.egg/pip/_vendor/msgpack/fallback.py', 'Lib/site-packages/pip-19.0.3-py3.7.egg/pip/_vendor/msgpack/_version.py', 'Lib/site-packages/pip-19.0.3-py3.7.egg/pip/_vendor/msgpack/__init__.py', 'Lib/site-packages/pip-19.0.3-py3.7.egg/pip/_vendor/packaging/markers.py', 'Lib/site-packages/pip-19.0.3-py3.7.egg/pip/_vendor/packaging/requirements.py', 'Lib/site-packages/pip-19.0.3-py3.7.egg/pip/_vendor/packaging/specifiers.py', 'Lib/site-packages/pip-19.0.3-py3.7.egg/pip/_vendor/packaging/utils.py', 'Lib/site-packages/pip-19.0.3-py3.7.egg/pip/_vendor/packaging/version.py', 'Lib/site-packages/pip-19.0.3-py3.7.egg/pip/_vendor/packaging/_compat.py', 'Lib/site-packages/pip-19.0.3-py3.7.egg/pip/_vendor/packaging/_structures.py', 'Lib/site-packages/pip-19.0.3-py3.7.egg/pip/_vendor/packaging/__about__.py', 'Lib/site-packages/pip-19.0.3-py3.7.egg/pip/_vendor/packaging/__init__.py', 'Lib/site-packages/pip-19.0.3-py3.7.egg/pip/_vendor/pep517/build.py', 'Lib/site-packages/pip-19.0.3-py3.7.egg/pip/_vendor/pep517/check.py', 'Lib/site-packages/pip-19.0.3-py3.7.egg/pip/_vendor/pep517/colorlog.py', 'Lib/site-packages/pip-19.0.3-py3.7.egg/pip/_vendor/pep517/compat.py', 'Lib/site-packages/pip-19.0.3-py3.7.egg/pip/_vendor/pep517/envbuild.py', 'Lib/site-packages/pip-19.0.3-py3.7.egg/pip/_vendor/pep517/wrappers.py', 'Lib/site-packages/pip-19.0.3-py3.7.egg/pip/_vendor/pep517/_in_process.py', 'Lib/site-packages/pip-19.0.3-py3.7.egg/pip/_vendor/pep517/__init__.py', 'Lib/site-packages/pip-19.0.3-py3.7.egg/pip/_vendor/pkg_resources/py31compat.py', 'Lib/site-packages/pip-19.0.3-py3.7.egg/pip/_vendor/pkg_resources/__init__.py', 'Lib/site-packages/pip-19.0.3-py3.7.egg/pip/_vendor/progress/bar.py', 'Lib/site-packages/pip-19.0.3-py3.7.egg/pip/_vendor/progress/counter.py', 'Lib/site-packages/pip-19.0.3-py3.7.egg/pip/_vendor/progress/helpers.py', 'Lib/site-packages/pip-19.0.3-py3.7.egg/pip/_vendor/progress/spinner.py', 'Lib/site-packages/pip-19.0.3-py3.7.egg/pip/_vendor/progress/__init__.py', 'Lib/site-packages/pip-19.0.3-py3.7.egg/pip/_vendor/pytoml/core.py', 'Lib/site-packages/pip-19.0.3-py3.7.egg/pip/_vendor/pytoml/parser.py', 'Lib/site-packages/pip-19.0.3-py3.7.egg/pip/_vendor/pytoml/test.py', 'Lib/site-packages/pip-19.0.3-py3.7.egg/pip/_vendor/pytoml/utils.py', 'Lib/site-packages/pip-19.0.3-py3.7.egg/pip/_vendor/pytoml/writer.py', 'Lib/site-packages/pip-19.0.3-py3.7.egg/pip/_vendor/pytoml/__init__.py', 'Lib/site-packages/pip-19.0.3-py3.7.egg/pip/_vendor/requests/adapters.py', 'Lib/site-packages/pip-19.0.3-py3.7.egg/pip/_vendor/requests/api.py', 'Lib/site-packages/pip-19.0.3-py3.7.egg/pip/_vendor/requests/auth.py', 'Lib/site-packages/pip-19.0.3-py3.7.egg/pip/_vendor/requests/certs.py', 'Lib/site-packages/pip-19.0.3-py3.7.egg/pip/_vendor/requests/compat.py', 'Lib/site-packages/pip-19.0.3-py3.7.egg/pip/_vendor/requests/cookies.py', 'Lib/site-packages/pip-19.0.3-py3.7.egg/pip/_vendor/requests/exceptions.py', 'Lib/site-packages/pip-19.0.3-py3.7.egg/pip/_vendor/requests/help.py', 'Lib/site-packages/pip-19.0.3-py3.7.egg/pip/_vendor/requests/hooks.py', 'Lib/site-packages/pip-19.0.3-py3.7.egg/pip/_vendor/requests/models.py', 'Lib/site-packages/pip-19.0.3-py3.7.egg/pip/_vendor/requests/packages.py', 'Lib/site-packages/pip-19.0.3-py3.7.egg/pip/_vendor/requests/sessions.py', 'Lib/site-packages/pip-19.0.3-py3.7.egg/pip/_vendor/requests/status_codes.py', 'Lib/site-packages/pip-19.0.3-py3.7.egg/pip/_vendor/requests/structures.py', 'Lib/site-packages/pip-19.0.3-py3.7.egg/pip/_vendor/requests/utils.py', 'Lib/site-packages/pip-19.0.3-py3.7.egg/pip/_vendor/requests/_internal_utils.py', 'Lib/site-packages/pip-19.0.3-py3.7.egg/pip/_vendor/requests/__init__.py', 'Lib/site-packages/pip-19.0.3-py3.7.egg/pip/_vendor/requests/__version__.py', 'Lib/site-packages/pip-19.0.3-py3.7.egg/pip/_vendor/urllib3/contrib/', 'Lib/site-packages/pip-19.0.3-py3.7.egg/pip/_vendor/urllib3/packages/', 'Lib/site-packages/pip-19.0.3-py3.7.egg/pip/_vendor/urllib3/util/', 'Lib/site-packages/pip-19.0.3-py3.7.egg/pip/_vendor/urllib3/connection.py', 'Lib/site-packages/pip-19.0.3-py3.7.egg/pip/_vendor/urllib3/connectionpool.py', 'Lib/site-packages/pip-19.0.3-py3.7.egg/pip/_vendor/urllib3/exceptions.py', 'Lib/site-packages/pip-19.0.3-py3.7.egg/pip/_vendor/urllib3/fields.py', 'Lib/site-packages/pip-19.0.3-py3.7.egg/pip/_vendor/urllib3/filepost.py', 'Lib/site-packages/pip-19.0.3-py3.7.egg/pip/_vendor/urllib3/poolmanager.py', 'Lib/site-packages/pip-19.0.3-py3.7.egg/pip/_vendor/urllib3/request.py', 'Lib/site-packages/pip-19.0.3-py3.7.egg/pip/_vendor/urllib3/response.py', 'Lib/site-packages/pip-19.0.3-py3.7.egg/pip/_vendor/urllib3/_collections.py', 'Lib/site-packages/pip-19.0.3-py3.7.egg/pip/_vendor/urllib3/__init__.py', 'Lib/site-packages/pip-19.0.3-py3.7.egg/pip/_vendor/urllib3/contrib/_securetransport/', 'Lib/site-packages/pip-19.0.3-py3.7.egg/pip/_vendor/urllib3/contrib/appengine.py', 'Lib/site-packages/pip-19.0.3-py3.7.egg/pip/_vendor/urllib3/contrib/ntlmpool.py', 'Lib/site-packages/pip-19.0.3-py3.7.egg/pip/_vendor/urllib3/contrib/pyopenssl.py', 'Lib/site-packages/pip-19.0.3-py3.7.egg/pip/_vendor/urllib3/contrib/securetransport.py', 'Lib/site-packages/pip-19.0.3-py3.7.egg/pip/_vendor/urllib3/contrib/socks.py', 'Lib/site-packages/pip-19.0.3-py3.7.egg/pip/_vendor/urllib3/contrib/_appengine_environ.py', 'Lib/site-packages/pip-19.0.3-py3.7.egg/pip/_vendor/urllib3/contrib/__init__.py', 'Lib/site-packages/pip-19.0.3-py3.7.egg/pip/_vendor/urllib3/contrib/_securetransport/bindings.py', 'Lib/site-packages/pip-19.0.3-py3.7.egg/pip/_vendor/urllib3/contrib/_securetransport/low_level.py', 'Lib/site-packages/pip-19.0.3-py3.7.egg/pip/_vendor/urllib3/contrib/_securetransport/__init__.py', 'Lib/site-packages/pip-19.0.3-py3.7.egg/pip/_vendor/urllib3/packages/backports/', 'Lib/site-packages/pip-19.0.3-py3.7.egg/pip/_vendor/urllib3/packages/ssl_match_hostname/', 'Lib/site-packages/pip-19.0.3-py3.7.egg/pip/_vendor/urllib3/packages/six.py', 'Lib/site-packages/pip-19.0.3-py3.7.egg/pip/_vendor/urllib3/packages/__init__.py', 'Lib/site-packages/pip-19.0.3-py3.7.egg/pip/_vendor/urllib3/packages/backports/makefile.py', 'Lib/site-packages/pip-19.0.3-py3.7.egg/pip/_vendor/urllib3/packages/backports/__init__.py', 'Lib/site-packages/pip-19.0.3-py3.7.egg/pip/_vendor/urllib3/packages/ssl_match_hostname/_implementation.py', 'Lib/site-packages/pip-19.0.3-py3.7.egg/pip/_vendor/urllib3/packages/ssl_match_hostname/__init__.py', 'Lib/site-packages/pip-19.0.3-py3.7.egg/pip/_vendor/urllib3/util/connection.py', 'Lib/site-packages/pip-19.0.3-py3.7.egg/pip/_vendor/urllib3/util/queue.py', 'Lib/site-packages/pip-19.0.3-py3.7.egg/pip/_vendor/urllib3/util/request.py', 'Lib/site-packages/pip-19.0.3-py3.7.egg/pip/_vendor/urllib3/util/response.py', 'Lib/site-packages/pip-19.0.3-py3.7.egg/pip/_vendor/urllib3/util/retry.py', 'Lib/site-packages/pip-19.0.3-py3.7.egg/pip/_vendor/urllib3/util/ssl_.py', 'Lib/site-packages/pip-19.0.3-py3.7.egg/pip/_vendor/urllib3/util/timeout.py', 'Lib/site-packages/pip-19.0.3-py3.7.egg/pip/_vendor/urllib3/util/url.py', 'Lib/site-packages/pip-19.0.3-py3.7.egg/pip/_vendor/urllib3/util/wait.py', 'Lib/site-packages/pip-19.0.3-py3.7.egg/pip/_vendor/urllib3/util/__init__.py', 'Lib/site-packages/pip-19.0.3-py3.7.egg/pip/_vendor/webencodings/labels.py', 'Lib/site-packages/pip-19.0.3-py3.7.egg/pip/_vendor/webencodings/mklabels.py', 'Lib/site-packages/pip-19.0.3-py3.7.egg/pip/_vendor/webencodings/tests.py', 'Lib/site-packages/pip-19.0.3-py3.7.egg/pip/_vendor/webencodings/x_user_defined.py', 'Lib/site-packages/pip-19.0.3-py3.7.egg/pip/_vendor/webencodings/__init__.py', 'Scripts/activate', 'Scripts/activate.bat', 'Scripts/Activate.ps1', 'Scripts/deactivate.bat', 'Scripts/easy_install-3.7-script.py', 'Scripts/easy_install-3.7.exe', 'Scripts/easy_install-script.py', 'Scripts/easy_install.exe', 'Scripts/pip-script.py', 'Scripts/pip.exe', 'Scripts/pip3-script.py', 'Scripts/pip3.7-script.py', 'Scripts/pip3.7.exe', 'Scripts/pip3.exe', 'Scripts/python.exe', 'Scripts/pythonw.exe']\n"
     ]
    }
   ],
   "source": [
    "# ZipFile.naelist()\n",
    "nl = zf.namelist()\n",
    "print(nl)"
   ]
  },
  {
   "cell_type": "code",
   "execution_count": 14,
   "metadata": {},
   "outputs": [],
   "source": [
    "# ZipFile.extractall([path[,members[,pwd]]])\n",
    "# 解压zip文档中的所有文件到当前目录，参数members的默认值为zip文档内的所有文件名称列表\n",
    "rst = zf.extractall(r\"C:\\Users\\acer\\Desktop\\data\")"
   ]
  },
  {
   "cell_type": "markdown",
   "metadata": {},
   "source": [
    "# random\n",
    "- 随机模块都是伪随机\n",
    "- random.random():0-1之间的小数\n",
    "- random.choice(序列):随机返回序列中的某个值\n",
    "- shuffle()随机打乱列表，原列表被打乱后返回\n",
    "- random.randit():包括右边的值\n",
    "- "
   ]
  }
 ],
 "metadata": {
  "kernelspec": {
   "display_name": "Python 3",
   "language": "python",
   "name": "python3"
  },
  "language_info": {
   "codemirror_mode": {
    "name": "ipython",
    "version": 3
   },
   "file_extension": ".py",
   "mimetype": "text/x-python",
   "name": "python",
   "nbconvert_exporter": "python",
   "pygments_lexer": "ipython3",
   "version": "3.7.3"
  }
 },
 "nbformat": 4,
 "nbformat_minor": 2
}
