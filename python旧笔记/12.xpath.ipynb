{
 "cells": [
  {
   "cell_type": "markdown",
   "metadata": {},
   "source": [
    "# Xpath\n",
    "- 在xml文件中查找信息的一套规则或语言，根据xml的元素或者属性进行遍历\n",
    "# XPath开发工具\n",
    "- 开源的xpath表达式编辑工具\n",
    "- chore和Firefox插件\n",
    "\n",
    "# 选取节点\n",
    "- nodename:选取此节点的所有子节点\n",
    "- /:从根节点开始选取\n",
    "- //:选取节点，不考虑位置\n",
    "- .:选取当前节点\n",
    "- ..:选取当前节点的父亲节点\n",
    "- @：选取属性\n",
    "## 选取未知节点,即通配符\n",
    "        *\t匹配任何元素节点。\n",
    "        @*\t匹配任何属性节点。\n",
    "        node()\t匹配任何类型的节点。\n",
    "# 谓语-Predicates\n",
    "- 举例\n",
    "    - /School/Student[1]:选取是school县的第一个student节点\n",
    "    - /School/Student[last()]:选取school下面的最后一个student节点\n",
    "    - /School/Student[position()<3]:选取school下面的前两个节点\n",
    "    - //School/Studetn[@score]:选取带有属性score的student节点\n",
    "    - //School/Stuennt[@score='99']:选取带有score属性且属性值是99的student的节点\n",
    "    - //School/Student[@socre]/Age:选取带有属性score的Student节点的的子节点Age\n",
    "# 开发工具\n",
    "- 开源的Xpath表达式工具：XMLQuire\n",
    "- chorme插件：Xpath Helper\n",
    "- FireFox : Xpath Checker\n",
    "\n"
   ]
  },
  {
   "cell_type": "code",
   "execution_count": null,
   "metadata": {},
   "outputs": [],
   "source": []
  }
 ],
 "metadata": {
  "kernelspec": {
   "display_name": "Python 3",
   "language": "python",
   "name": "python3"
  },
  "language_info": {
   "codemirror_mode": {
    "name": "ipython",
    "version": 3
   },
   "file_extension": ".py",
   "mimetype": "text/x-python",
   "name": "python",
   "nbconvert_exporter": "python",
   "pygments_lexer": "ipython3",
   "version": "3.7.3"
  }
 },
 "nbformat": 4,
 "nbformat_minor": 2
}
