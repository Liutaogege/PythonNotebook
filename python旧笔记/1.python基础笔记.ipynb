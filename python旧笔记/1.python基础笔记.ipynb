{
 "cells": [
  {
   "cell_type": "code",
   "execution_count": 17,
   "metadata": {},
   "outputs": [
    {
     "name": "stdout",
     "output_type": "stream",
     "text": [
      "   woshi\n",
      "0    520\n",
      "2732745519792\n",
      "2732745313920\n",
      "False\n",
      "['7', '8']\n"
     ]
    }
   ],
   "source": [
    "import pandas as pd\n",
    "df1 = pd.DataFrame({'woshi':520},index=[0])\n",
    "\n",
    "df2 = df1.copy()\n",
    "print(df2)\n",
    "print(id(df1))\n",
    "print(id(df2))\n",
    "print('520' in df2)\n",
    "print(list('78'))"
   ]
  },
  {
   "cell_type": "markdown",
   "metadata": {},
   "source": [
    "# 复数"
   ]
  },
  {
   "cell_type": "code",
   "execution_count": 1,
   "metadata": {},
   "outputs": [
    {
     "name": "stdout",
     "output_type": "stream",
     "text": [
      "<class 'complex'>\n"
     ]
    }
   ],
   "source": [
    "print(type(4j))"
   ]
  },
  {
   "cell_type": "markdown",
   "metadata": {},
   "source": [
    "# 程序结构\n",
    "顺序，循环，分支\n"
   ]
  },
  {
   "cell_type": "code",
   "execution_count": 3,
   "metadata": {},
   "outputs": [
    {
     "name": "stdout",
     "output_type": "stream",
     "text": [
      "13\n",
      "<class 'tuple'>\n"
     ]
    }
   ],
   "source": [
    "def default_para(x,y,z=10):\n",
    "    print(x + y + z)\n",
    "    return None\n",
    "default_para(2,3,8)\n",
    "td = 100,\n",
    "print(type(td))"
   ]
  },
  {
   "cell_type": "markdown",
   "metadata": {},
   "source": [
    "##  变量作用域\n",
    "- 分类：按照作用域分类\n",
    "    - 全局（global):在函数外部定义\n",
    "    - 局部（local）：在函数内部定义\n",
    "- 变量的作用范围\n",
    "    - 全局变量：整个全局范围都有效，语法：global var\n",
    "    - 局部变量：局部范围使用\n",
    "# globals，locals函数\n",
    "- 可以通过globals函数和locals函数显示出局部变量和全局变量\n",
    "- 参看以下案例\n"
   ]
  },
  {
   "cell_type": "code",
   "execution_count": 17,
   "metadata": {},
   "outputs": [],
   "source": [
    "a = 1\n",
    "def fun(c):\n",
    "    b = 11\n",
    "    print(\"局部变量为{0}\".format(locals()))\n",
    "    print(\"全局变量为{0}\".format(globals()))\n",
    "    \n",
    "#fun(10)"
   ]
  },
  {
   "cell_type": "markdown",
   "metadata": {},
   "source": [
    "# python 中的可变对象和不可变对象\n",
    "- 不可变对象：该对象组·所指向的内存中的值不能被改变\n",
    "- 可变对象：指向的内存中的值可以被改变。简而言之就是内存地址可变\n",
    "    - 分类;\n",
    "        - 可变对象：列表list，字典dict，集合set\n",
    "        - 不可变对象：数值类型（int，float等），字符串str，元祖，直接赋值可以看成是不可变对象\n",
    "- 参看以下案例\n",
    "- 可变对象可以通过拷贝来进行改变\n",
    "    - 深拷贝：import copy\n",
    "     b = copy.deepcopy(a)\n",
    "    - 浅拷贝：直接a = b.copy(),当遇到嵌套列表的时候，地址就不会改变了"
   ]
  },
  {
   "cell_type": "code",
   "execution_count": 86,
   "metadata": {},
   "outputs": [
    {
     "name": "stdout",
     "output_type": "stream",
     "text": [
      "2733582475592\n",
      "2733582475528\n",
      "2733582475400\n",
      "2733582475400\n",
      "=======\n",
      "2733580565232\n",
      "2733582039440\n",
      "2733580565232\n",
      "===============\n",
      "2733582475528 2733582475528\n",
      "2733582475528\n",
      "2733582475528\n",
      "[13, 32, 35] [13, 32, 35, 3]\n"
     ]
    }
   ],
   "source": [
    "# 列表（经过切片后，内存地址已经发生了改变）\n",
    "t = [1,2,3,345,9]\n",
    "t1 = t[1:4]\n",
    "t2 = t[:]\n",
    "t3 = t2\n",
    "print(id(t))\n",
    "print(id(t1))\n",
    "print(id(t2))\n",
    "print(id(t3)) # 但是经过赋值其内存地址不会改变\n",
    "print(\"=======\")\n",
    "# 元祖（经过切片后地址不改变）\n",
    "t = (1,2,3,345,9)\n",
    "t1 = t[1:4]\n",
    "t2 = t[:]\n",
    "print(id(t))\n",
    "print(id(t1))\n",
    "print(id(t2))\n",
    "# 注意以下的例子\n",
    "print(\"===============\")\n",
    "a1 = [1,2,3]\n",
    "a2 = a1\n",
    "print(id(a1),id(a2))\n",
    "a2 += [4] #相当于a2.extend(4),所以地址不会发生改变\n",
    "print(id(a2))\n",
    "print(id(a1))\n",
    "# 深度拷贝\n",
    "import copy\n",
    "a = [13,32,35]\n",
    "b = copy.deepcopy(a)\n",
    "b.extend([3])\n",
    "print(a,b)"
   ]
  },
  {
   "cell_type": "code",
   "execution_count": 88,
   "metadata": {},
   "outputs": [
    {
     "name": "stdout",
     "output_type": "stream",
     "text": [
      "2733582390024\n",
      "2733582476680\n",
      "2733580945160\n",
      "2733580945160\n",
      "[1, 2, 3, [45, 100, 5]]\n",
      "[1, 2, 3, [45, 100, 5]]\n",
      "2733582340808\n",
      "2733582343240\n",
      "2733582342088\n",
      "2733582475336\n",
      "[1, 2, 3, [45, 100, 5]]\n",
      "[1, 2, 3, [45, 56, 5]]\n"
     ]
    }
   ],
   "source": [
    "# 浅拷贝举例：\n",
    "a = [1,2,3,[45,56,5]]\n",
    "b = a.copy()\n",
    "print(id(a))\n",
    "print(id(b))\n",
    "print(id(a[3]))\n",
    "print(id(b[3]))\n",
    "a[3][1] = 100\n",
    "print(a)\n",
    "print(b)\n",
    "# 深拷贝\n",
    "import copy \n",
    "a = [1,2,3,[45,56,5]]\n",
    "b = copy.deepcopy(a)\n",
    "print(id(a))\n",
    "print(id(b))\n",
    "print(id(a[3]))\n",
    "print(id(b[3]))\n",
    "a[3][1] = 100\n",
    "print(a)\n",
    "print(b)"
   ]
  },
  {
   "cell_type": "markdown",
   "metadata": {},
   "source": [
    "# 集合Set()：无序\n",
    "- 创建：可用大括号，但括号内必须有值，否则创建的就是字典，内部只可存放可哈希数据\n",
    "- a.add(var):添加元素\n",
    "- 删除元素\n",
    "    - a.remove(var):删除指定元素的值，若删除的元素不存在，则报错\n",
    "    - a.discard(var):也是删除指定元素的值，若删除的元素不存在，不报错\n",
    "    - a.clear():清楚元素\n",
    "    - a.pop()是删除随机的一个元素,而remover和clear以及del和列表一样\n",
    "- 拷贝：copy\n",
    "\n",
    "- 集合的交集、并集、差集、对称差集（即交集的补集）\n",
    "  - &， | , -， ^\n",
    "  - 另外的方法：a.intersection(b),union, difference\n",
    "- issuperset,询问某某是否是某某的父集\n",
    "- issubset,询问某某是否是某某的子集\n",
    "\n",
    "\n",
    "## 可哈希数据与不可哈希数据\n",
    "- 可哈希数据：指的是不可改变的数据类型对应不可改变对象\n",
    "- 不可哈希数据：与上相反（这个和可变对象类似）\n",
    "\n",
    "# 列表\n",
    "- 可以相加和相乘（重复元素）：+，*\n",
    "- 列表也可以求交集，并集和差集,将其转化成集合再求交集并集等\n",
    "- 列表添加元素\n",
    "    - append:只能一个一个的加\n",
    "    - extend：直接把一个列表拼接到另一个后面\n",
    "    - insert(插入位置，插入值)：插入元素\n",
    "- 删除元素；\n",
    "    - del: del var删除指定位置的元素\n",
    "    - pop: a;pop()删除最后一个元素\n",
    "    - remove: a.remove(var)删除指定元素的值，若要删除的值不存在，则会报错，所以使用remove时先判断。使用过后内存地址不变\n",
    "    - clear：清空元素,a.clear()，使用过后内存地址不变\n",
    "- 反转：reverse,反转后内存地址不变，说明是原物反转\n",
    "- a.count(var):计算列表中某个元素的个数\n",
    "    \n",
    "# 元祖\n",
    "- 对于元祖来说，删除只能使用del，且删除整个\n",
    "- 元祖可以相加和相乘\n",
    "- 创建只含一个元素的元祖，必须加个逗号\n",
    "- len()：计算元祖的长度，列表也行\n"
   ]
  },
  {
   "cell_type": "code",
   "execution_count": 99,
   "metadata": {},
   "outputs": [
    {
     "name": "stdout",
     "output_type": "stream",
     "text": [
      "True\n",
      "True\n",
      "[4, 5, 6]\n",
      "[1, 2, 3, 4]\n",
      "============\n",
      "[1, 2, 3, 4, [3, 35, 23]]\n",
      "==============\n",
      "[1, 2, 3, 4, [3, 35, 23], 4, 5, 7]\n",
      "===========\n",
      "[1, 2, 4, [3, 35, 23], 4, 5, 7]\n",
      "[1, 2, 4, [3, 35, 23], 4, 5]\n",
      "[1, 2, [3, 35, 23], 4, 5]\n",
      "1\n",
      "5\n"
     ]
    }
   ],
   "source": [
    "li = [9,89,9,384,283,83,92,9,0,9]\n",
    "lw = list(range(0,11))\n",
    "sc = set(li)\n",
    "se = set(lw)\n",
    "sb = {i for i in sc if i % 2 == 0}\n",
    "\n",
    "print(sc.issuperset(sb))#询问sc是否是sb的父集\n",
    "print(sb.issubset(sc))#询问sb是否是sc的子集\n",
    "#列表求交集\n",
    "a = {1,2,3,4,5,6}\n",
    "b = {4,5,6,7,8,9}\n",
    "print(list(a.intersection(b)))\n",
    "# 列表操作函数\n",
    "c = [1,2,3]\n",
    "c.append(4)#append只能一个一个的加进去\n",
    "print(c)\n",
    "print(\"============\")\n",
    "c.append([3,35,23])\n",
    "print(c)\n",
    "print(\"==============\")\n",
    "c.extend([4,5,7])#一群加进去\n",
    "print(c)\n",
    "print(\"===========\")\n",
    "# 删除元素\n",
    "del c[2]\n",
    "print(c)\n",
    "\n",
    "c.pop()\n",
    "print(c)\n",
    "c.remove(4)\n",
    "print(c)\n",
    "print(c.count(4))\n",
    "print(len(c))"
   ]
  },
  {
   "cell_type": "code",
   "execution_count": 98,
   "metadata": {},
   "outputs": [
    {
     "name": "stdout",
     "output_type": "stream",
     "text": [
      "(36, 14, 0, 3, 4)\n",
      "(1, 36, 14, 0, 3, 4, 57, 98)\n",
      "2733582431904\n",
      "2733582431904\n",
      "(1,)\n",
      "1 + 2\n",
      "xiaoming + xiaohong\n",
      "xiao + xiha\n"
     ]
    }
   ],
   "source": [
    "# 元祖举例\n",
    "b = (1,36,14,0,3,4)\n",
    "a = (57,98)\n",
    "c = b[1:190] #切片超标不会报错\n",
    "print(c)\n",
    "print(b + a)\n",
    "# 创建一个元素的元祖\n",
    "a = (1,)\n",
    "a = 1,\n",
    "# \n",
    "d = a\n",
    "print(id(a))\n",
    "print(id(d))\n",
    "del a\n",
    "print(d)\n",
    "# 双层元祖的遍历：\n",
    "a = ((1,2),(\"xiaoming\",\"xiaohong\"),('xiao',\"xiha\"))\n",
    "for m,n in a:\n",
    "    print(m,'+',n)"
   ]
  },
  {
   "cell_type": "markdown",
   "metadata": {},
   "source": [
    "### 冰冻集合frozenset()\n",
    "- 不能修改集合或操作\n",
    "- 除了不能修改的特点，集合的特性他都有"
   ]
  },
  {
   "cell_type": "code",
   "execution_count": 100,
   "metadata": {},
   "outputs": [
    {
     "name": "stdout",
     "output_type": "stream",
     "text": [
      "frozenset({1, 2, 3, 4, 5, 6})\n"
     ]
    }
   ],
   "source": [
    "s = frozenset([1,2,3,3,4,5,6])\n",
    "#s.extend(4)\n",
    "print(s)"
   ]
  },
  {
   "cell_type": "markdown",
   "metadata": {},
   "source": [
    "# 字典\n",
    "- 创建\n",
    "    - d = {}\n",
    "    - d = dict{}\n",
    "    - d = {\"one\":1,\"two\":2, \"three\":3}\n",
    "    - d = dict({\"one\":1,\"two\":2, \"three\":3})\n",
    "    - d = dict(one=1, two=2,three=3)\n",
    "    - d = dict([(\"one\",1),(\"two\",2),(\"three\",3)])\n",
    "- 特征；\n",
    "    - 由键值对组成\n",
    "        - key：必须是可哈希的数据\n",
    "        - value：任何值\n",
    "- 删除：del\n",
    "- get：根据设定键值返回相应的值，好处是，若无这个键值，则返回None，不报错，d.get(key,若无键值返回的默认值)\n",
    "- fromkeys：使用指定的序列作为键值，然后使用一个值作为所有键值对应的value值.注意fromkeys的调用主体"
   ]
  },
  {
   "cell_type": "code",
   "execution_count": 105,
   "metadata": {},
   "outputs": [
    {
     "name": "stdout",
     "output_type": "stream",
     "text": [
      "{'one': 1, 'two': 2, 'three': 3}\n",
      "{'one': 1, 'two': 2, 'three': 3}\n",
      "{'one': 1, 'two': 2, 'three': 3}\n",
      "1\n",
      "None\n",
      "don't have this value\n",
      "{'a': 'happy', 'b': 'happy', 'c': 'happy'}\n"
     ]
    }
   ],
   "source": [
    "# 字典的创建\n",
    "d = dict({\"one\":1,\"two\":2, \"three\":3})\n",
    "print(d)\n",
    "d = dict(one=1, two=2,three=3)\n",
    "print(d)\n",
    "d = dict([(\"one\",1),(\"two\",2),(\"three\",3)])\n",
    "print(d)\n",
    "# get的应用\n",
    "print(d.get(\"one\"))\n",
    "print(d.get(\"four\"))\n",
    "print(d.get(\"four\",\"don't have this value\"))\n",
    "# fromkeys\n",
    "k = ['a', 'b', 'c']\n",
    "d = dict.fromkeys(k,'happy')\n",
    "print(d)"
   ]
  },
  {
   "cell_type": "code",
   "execution_count": 72,
   "metadata": {},
   "outputs": [
    {
     "name": "stdout",
     "output_type": "stream",
     "text": [
      "6\n",
      "5\n",
      "4\n",
      "3\n",
      "2\n",
      "1\n"
     ]
    },
    {
     "data": {
      "text/plain": [
       "720"
      ]
     },
     "execution_count": 72,
     "metadata": {},
     "output_type": "execute_result"
    }
   ],
   "source": [
    "def fun_a(n):\n",
    "    print(n)\n",
    "    if n == 1:\n",
    "        return 1\n",
    "    return n * fun_a(n - 1)\n",
    "fun_a(6)"
   ]
  },
  {
   "cell_type": "markdown",
   "metadata": {},
   "source": [
    "# 递归函数\n",
    "- 直接或间接调用自身\n",
    "- 缺点：对递归深度有限制，消耗资源大，Python对递归超过深度会报错\n",
    "- 递归函数必须有结束条件\n",
    "- sys.getrecursionlimit()得到最大的递归深度\n",
    "- 如果希望修改递归深度，可以通过sys.setrecursionlimit(num)来设定递归深度的值为num\n",
    "\n",
    "# 汉诺塔\n",
    "- 递归函数应用\n"
   ]
  },
  {
   "cell_type": "code",
   "execution_count": 81,
   "metadata": {},
   "outputs": [],
   "source": [
    "def hanno(a,b,c,n):\n",
    "    if n == 1:\n",
    "        print(\"{}--->{}\".format(a,c))\n",
    "        return None\n",
    "    if n == 2:\n",
    "        print(\"{}--->{}\".format(a,b))\n",
    "        print(\"{}--->{}\".format(a,c))\n",
    "        print(\"{}--->{}\".format(b,c))\n",
    "        return None\n",
    "    \n",
    "    hanno(a,c,b,n-1)\n",
    "    print(\"{}--->{}\".format(a,c))\n",
    "    hanno(b,a,c,n-1)"
   ]
  },
  {
   "cell_type": "code",
   "execution_count": 77,
   "metadata": {},
   "outputs": [
    {
     "name": "stdout",
     "output_type": "stream",
     "text": [
      "A--->C\n"
     ]
    }
   ],
   "source": [
    "a = 'A'\n",
    "b = 'B'\n",
    "c = 'C'\n",
    "hanno(a,b,c,1)"
   ]
  },
  {
   "cell_type": "code",
   "execution_count": 79,
   "metadata": {},
   "outputs": [
    {
     "name": "stdout",
     "output_type": "stream",
     "text": [
      "A--->B\n",
      "A--->C\n",
      "B--->C\n"
     ]
    }
   ],
   "source": [
    "hanno(a,b,c,2)"
   ]
  },
  {
   "cell_type": "code",
   "execution_count": 83,
   "metadata": {},
   "outputs": [
    {
     "name": "stdout",
     "output_type": "stream",
     "text": [
      "A--->C\n",
      "A--->B\n",
      "C--->B\n",
      "A--->C\n",
      "B--->A\n",
      "B--->C\n",
      "A--->C\n",
      "A--->B\n",
      "C--->B\n",
      "C--->A\n",
      "B--->A\n",
      "C--->B\n",
      "A--->C\n",
      "A--->B\n",
      "C--->B\n",
      "A--->C\n",
      "B--->A\n",
      "B--->C\n",
      "A--->C\n",
      "B--->A\n",
      "C--->B\n",
      "C--->A\n",
      "B--->A\n",
      "B--->C\n",
      "A--->C\n",
      "A--->B\n",
      "C--->B\n",
      "A--->C\n",
      "B--->A\n",
      "B--->C\n",
      "A--->C\n"
     ]
    }
   ],
   "source": [
    "hanno(a,b,c,5)"
   ]
  },
  {
   "cell_type": "markdown",
   "metadata": {},
   "source": [
    "# Class 类"
   ]
  },
  {
   "cell_type": "code",
   "execution_count": 1,
   "metadata": {},
   "outputs": [
    {
     "name": "stdout",
     "output_type": "stream",
     "text": [
      "taotao liked Ma Xiaoxiao once\n"
     ]
    }
   ],
   "source": [
    "class PythonStudent():\n",
    "    name = 'liutao'\n",
    "    age = 22\n",
    "    add = 'Guizhou'\n",
    "    def cai(self,names):\n",
    "        self.name = names\n",
    "        print('{} liked Ma Xiaoxiao once'.format(self.name))\n",
    "\n",
    "saobai = PythonStudent()\n",
    "saobai.cai('taotao')"
   ]
  },
  {
   "cell_type": "code",
   "execution_count": 12,
   "metadata": {},
   "outputs": [],
   "source": [
    "class Student():\n",
    "    gender = 'fmale'\n",
    "    age = 22\n",
    "    job = 'professional prostitute'\n",
    "    def funk(self): # self是指代自己，并无特殊意义，可换成其它表示。\n",
    "        print(\"Hello! I'm a {}!\".format(self.job)) #self.job先从实例中寻找，后从类中寻找\n",
    "    def sos():\n",
    "        print(\"I'm not meant to do this job!I am {} year-old woman\".format(__class__.age)) # 访问类函数的方法：Student.age或__class__.age\n",
    "        \n",
    "        "
   ]
  },
  {
   "cell_type": "code",
   "execution_count": 15,
   "metadata": {},
   "outputs": [
    {
     "name": "stdout",
     "output_type": "stream",
     "text": [
      "Hello! I'm a professional prostitute!\n",
      "I'm not meant to do this job!I am 22 year-old woman\n"
     ]
    }
   ],
   "source": [
    "xiaobai = Student()\n",
    "xiaobai.funk()\n",
    "Student.sos()"
   ]
  },
  {
   "cell_type": "code",
   "execution_count": 20,
   "metadata": {},
   "outputs": [],
   "source": [
    "class Student2():\n",
    "    gender = 'fmale'\n",
    "    age = 22\n",
    "    job = 'professional prostitute'\n",
    "    def funk(self,n,j): # self是指代自己，并无特殊意义，可换成其它表示。\n",
    "        self.name = n\n",
    "        self.job = j\n",
    "        print(\"Hello!My name is {}, I'm a {}!\".format(self.name,self.job)) #self.job先从实例中寻找，后从类中寻找\n",
    "    def sos():\n",
    "        print(\"I'm not meant to do this job!I am {} year-old woman\".format(__class__.age)) # 访问类函数的方法：Student.age或__class__.age"
   ]
  },
  {
   "cell_type": "code",
   "execution_count": 22,
   "metadata": {},
   "outputs": [
    {
     "name": "stdout",
     "output_type": "stream",
     "text": [
      "Hello!My name is saobai, I'm a whore!\n"
     ]
    }
   ],
   "source": [
    "laobai  = Student2()\n",
    "laobai.funk('saobai','whore')"
   ]
  },
  {
   "cell_type": "markdown",
   "metadata": {},
   "source": [
    "# 构造函数\n",
    "- 实例化时进行初始化的工作\n",
    "- 有特殊的名称的写法\n",
    "- 是实例化时第一个被默认执行的函数（当然并不是真的第一个）\n",
    "- 第一个参数必须有，推荐self。参数写入放在括号中\n"
   ]
  },
  {
   "cell_type": "code",
   "execution_count": 31,
   "metadata": {},
   "outputs": [],
   "source": [
    "class People():\n",
    "    name = None\n",
    "    age = 21\n",
    "    def __init__(self):\n",
    "        print('Hello!World.')\n"
   ]
  },
  {
   "cell_type": "code",
   "execution_count": 33,
   "metadata": {},
   "outputs": [
    {
     "name": "stdout",
     "output_type": "stream",
     "text": [
      "Hello!World.\n"
     ]
    }
   ],
   "source": [
    "per = People()\n"
   ]
  },
  {
   "cell_type": "markdown",
   "metadata": {},
   "source": [
    "# 面向对象的三大特征\n",
    "- 继承\n",
    "- 封装\n",
    "- 多态\n",
    "# 继承\n",
    "- 有父类和子类\n",
    "- 所有类都有父类\n",
    "   - 如果没有给出，则默认是object的子类\n",
    "   - 父类写在类定义的括号里\n",
    "- 子类可以继承多个父类，但不建议\n",
    "- 继承变量函数的查找问题\n",
    "    - 优先从自己找起"
   ]
  },
  {
   "cell_type": "code",
   "execution_count": 93,
   "metadata": {},
   "outputs": [],
   "source": [
    "class People():\n",
    "    name = 'Noname'\n",
    "    age = 0\n",
    "    \n",
    "class Teachers(People):\n",
    "    def intro(self):\n",
    "        \n",
    "        print(\"I am a teacher!\")"
   ]
  },
  {
   "cell_type": "code",
   "execution_count": 94,
   "metadata": {},
   "outputs": [
    {
     "data": {
      "text/plain": [
       "'Noname'"
      ]
     },
     "execution_count": 94,
     "metadata": {},
     "output_type": "execute_result"
    }
   ],
   "source": [
    "xiaobai = Teachers()\n",
    "xiaobai.name"
   ]
  },
  {
   "cell_type": "markdown",
   "metadata": {},
   "source": [
    "# 关于多继承的MRO问题\n",
    "- MRO就是用于保存继承顺序的一个列表\n",
    "- MRO列表的计算原则\n",
    "    - 首先是自己，其次是父类。\n",
    "    - 多个父类时按定义父类时的书写顺序排列\n",
    "    - 然后就是爷爷类，爷爷类按照父类的父类顺序进行排列。如果父类的父类是同一个，则只写一个爷爷类\n",
    "    - 最后就是object类\n",
    "## __dict__:检查成员\n",
    "- classname.__dict__  : 检查类中的所有成员\n",
    "- obj.__dict__   检查对象的所有成员"
   ]
  },
  {
   "cell_type": "code",
   "execution_count": 100,
   "metadata": {},
   "outputs": [
    {
     "name": "stdout",
     "output_type": "stream",
     "text": [
      "(<class '__main__.Teachers'>, <class '__main__.People'>, <class 'object'>)\n",
      "{'__module__': '__main__', 'intro': <function Teachers.intro at 0x0000026A971DEAE8>, '__doc__': None}\n",
      "{}\n",
      "{'name': 'saobai'}\n"
     ]
    }
   ],
   "source": [
    "class People():\n",
    "    name = 'Noname'\n",
    "    age = 0\n",
    "    \n",
    "class Teachers(People):\n",
    "    def intro(self):\n",
    "        \n",
    "        print(\"I am a teacher!\")\n",
    "xiaobai = Teachers()\n",
    "print(Teachers.__mro__)\n",
    "print(Teachers.__dict__) \n",
    "print(xiaobai.__dict__)\n",
    "xiaobai.name = 'saobai'\n",
    "print(xiaobai.__dict__)"
   ]
  },
  {
   "cell_type": "code",
   "execution_count": null,
   "metadata": {},
   "outputs": [],
   "source": []
  },
  {
   "cell_type": "code",
   "execution_count": 42,
   "metadata": {},
   "outputs": [],
   "source": [
    "class Birds():\n",
    "    quote  = 'I can fly'\n",
    "    def sounds(self):\n",
    "        print('jajijaji')\n"
   ]
  },
  {
   "cell_type": "code",
   "execution_count": 43,
   "metadata": {},
   "outputs": [],
   "source": [
    "class FlyMan(People,Birds):\n",
    "    pass"
   ]
  },
  {
   "cell_type": "code",
   "execution_count": 85,
   "metadata": {},
   "outputs": [
    {
     "name": "stdout",
     "output_type": "stream",
     "text": [
      "Noname\n",
      "jajijaji\n"
     ]
    },
    {
     "data": {
      "text/plain": [
       "mappingproxy({'__module__': '__main__',\n",
       "              'quote': 'I can fly',\n",
       "              'sounds': <function __main__.Birds.sounds(self)>,\n",
       "              '__dict__': <attribute '__dict__' of 'Birds' objects>,\n",
       "              '__weakref__': <attribute '__weakref__' of 'Birds' objects>,\n",
       "              '__doc__': None})"
      ]
     },
     "execution_count": 85,
     "metadata": {},
     "output_type": "execute_result"
    }
   ],
   "source": [
    "# 继承多个父类\n",
    "flyman = FlyMan()\n",
    "print(flyman.name)\n",
    "flyman.sounds()\n",
    "Birds.__dict__"
   ]
  },
  {
   "cell_type": "markdown",
   "metadata": {},
   "source": [
    "# 子类可以对父类的功能进行拓展\n",
    "- super不是一个关键字\n",
    "-  不是父类，但可以通过他找到父类\n"
   ]
  },
  {
   "cell_type": "code",
   "execution_count": 90,
   "metadata": {},
   "outputs": [
    {
     "name": "stdout",
     "output_type": "stream",
     "text": [
      "I am a teacher!\n",
      "make some money\n",
      "We all can sing\n",
      "make money by lecturing\n"
     ]
    }
   ],
   "source": [
    "class People():\n",
    "    name = 'Noname'\n",
    "    age = 0\n",
    "    def __init__(self):\n",
    "        print('我是people的')\n",
    "    def work(self):\n",
    "        print('make some money')\n",
    "    def sing(self):\n",
    "        print('We all can sing')\n",
    "    \n",
    "class Teachers(People):\n",
    "    def __init__(self):\n",
    "        print('I am a teacher!')\n",
    "    def work(self):\n",
    "        People.work(self) # 注意self必须的有，还可以用super().work()\n",
    "        super().sing()\n",
    "        print('make money by lecturing')\n",
    "\n",
    "xiaom = Teachers()\n",
    "xiaom.work()"
   ]
  },
  {
   "cell_type": "markdown",
   "metadata": {},
   "source": [
    "# 构造函数（初始化函数）的继承\n",
    "- 如果子类没有构造函数，则构造函数默认继承父类的\n",
    "- 子类函数有构造函数时，则不再继承父类的\n",
    "- 构造函数是谁的，就要按照谁的样子来构造。"
   ]
  },
  {
   "cell_type": "code",
   "execution_count": 74,
   "metadata": {},
   "outputs": [],
   "source": [
    "class People():\n",
    "    name = 'Noname'\n",
    "    age = 0\n",
    "    def __init__(self):\n",
    "        print('我是people的')\n",
    "    \n",
    "class Teachers(People):\n",
    "    def __init__(self):\n",
    "        \n",
    "        print(\"I am a teacher!\")\n",
    "class Teachers1(People):\n",
    "    def intro(self):\n",
    "        \n",
    "        print(\"I am a teacher!\")"
   ]
  },
  {
   "cell_type": "code",
   "execution_count": 76,
   "metadata": {},
   "outputs": [
    {
     "name": "stdout",
     "output_type": "stream",
     "text": [
      "I am a teacher!\n",
      "我是people的\n"
     ]
    }
   ],
   "source": [
    "xiaobai = Teachers()\n",
    "xiaobai1 = Teachers1()"
   ]
  },
  {
   "cell_type": "markdown",
   "metadata": {},
   "source": [
    "# 封装\n",
    "- prviate:在定义名称前加上  两根__，最高级别的封装。\n",
    "            只能在类中访问，不是真私有，可以通过People.__dict__知道其属性进行访问\n",
    "- protected:保护性，加上一根_。\n",
    "            在类中或子类中都可以进行访问，外部不可以访问\n",
    "- public：公有的什么都"
   ]
  },
  {
   "cell_type": "code",
   "execution_count": 80,
   "metadata": {},
   "outputs": [],
   "source": [
    "class Students():\n",
    "    name = 'Noname'\n",
    "    _age = 0\n",
    "    __score = 60\n",
    "    def __init__(self):\n",
    "        print('别妄想知道我的分数和年龄！')"
   ]
  },
  {
   "cell_type": "code",
   "execution_count": 92,
   "metadata": {},
   "outputs": [
    {
     "name": "stdout",
     "output_type": "stream",
     "text": [
      "别妄想知道我的分数和年龄！\n",
      "Noname\n"
     ]
    }
   ],
   "source": [
    "xiaom = Students()\n",
    "print(xiaom.name)\n",
    "#print(xiaom.__socre)"
   ]
  },
  {
   "cell_type": "markdown",
   "metadata": {},
   "source": [
    "# 多态\n",
    "- 一类事物具有多种的形态\n",
    "- 在python中，多态不是语法，是一种设计思想\n",
    "- 多态性：一种调用方式，不同的调用结果。比如同一父类中的不同子类有同名的函数，但函数执行的结果不同\n",
    "- 多态和多态性的解释：https://www.cnblogs.com/luchuangao/p/6739557.html"
   ]
  },
  {
   "cell_type": "markdown",
   "metadata": {},
   "source": [
    "# 使用多继承语法来实现Mixin\n",
    "## 使用Mixin时需要注意的点\n",
    "- 必须表示某单一功能而不是某一物品\n",
    "- 职责必须单一，如果想实现多个功能，则写多个Mixin\n",
    "- 不能依赖于子类的实现\n",
    "- 子类即使没有继承这个Minxin这个类，也可以照样工作，只是缺少了这一功能而已\n",
    "### 优点\n",
    "- 可以在不更改类的情况下，扩展功能\n",
    "- 可以根据需要来组合任意的功能类\n",
    "- 可以避免创建很多新的类，避免多继承"
   ]
  },
  {
   "cell_type": "code",
   "execution_count": 107,
   "metadata": {},
   "outputs": [
    {
     "name": "stdout",
     "output_type": "stream",
     "text": [
      "(<class '__main__.People'>, <class '__main__.Dogs'>, <class '__main__.Cats'>, <class '__main__.Animals'>, <class 'object'>)\n",
      "{}\n",
      "{'__module__': '__main__', '__doc__': None}\n",
      "===============================\n",
      "(<class '__main__.PeopleM'>, <class '__main__.Animals'>, <class '__main__.DogsMixin'>, <class '__main__.CatsMixin'>, <class 'object'>)\n",
      "{}\n",
      "{'__module__': '__main__', '__doc__': None}\n"
     ]
    }
   ],
   "source": [
    "class Animals():\n",
    "    kinds = \"anonymity\"\n",
    "    age = 0\n",
    "    def capacity(self):\n",
    "        print('I have all kinds of capacities!')\n",
    "class Dogs(Animals):\n",
    "    def howl(self):\n",
    "        print('My voice is high enough that you can hear it wherever you are')\n",
    "class Cats(Animals):\n",
    "    def CatchMice(self):\n",
    "        print('I can catch any mouse no mater where it is')\n",
    "class People(Dogs,Cats):\n",
    "    pass\n",
    "\n",
    "xiaom = People()\n",
    "print(People.__mro__)\n",
    "print(xiaom.__dict__)\n",
    "print(People.__dict__)\n",
    "print(\"===============================\")\n",
    "\n",
    "class DogsMixin():\n",
    "    def howl(self):\n",
    "        print('My voice is high enough that you can hear it wherever you are')\n",
    "class CatsMixin():\n",
    "    def CatchMice(self):\n",
    "        print('I can catch any mouse no mater where it is')\n",
    "\n",
    "class PeopleM(Animals,DogsMixin,CatsMixin):\n",
    "    pass\n",
    "\n",
    "xiaob = PeopleM()\n",
    "print(PeopleM.__mro__)\n",
    "print(xiaob.__dict__)\n",
    "print(PeopleM.__dict__)"
   ]
  },
  {
   "cell_type": "markdown",
   "metadata": {},
   "source": [
    "# 关于类的一些函数\n",
    "-  issubclass检测是否是子类\n",
    "    可以用来检测两个类的父子关系\n",
    "- isintance()\n",
    "    用来判断一个对象是否是类的实例\n",
    "- hasattr()\n",
    "    检测一个对象是否有某个成员\n",
    "- getattr():get attribute\n",
    "- setattr():set attribute\n",
    "- delattr():delete attribute\n",
    "# dir（）\n",
    "    获取对象的成员列表\n",
    "# help()\n",
    "- 获取某成员的详细功能解释\n"
   ]
  },
  {
   "cell_type": "code",
   "execution_count": 130,
   "metadata": {},
   "outputs": [
    {
     "name": "stdout",
     "output_type": "stream",
     "text": [
      "I am a teacher!\n",
      "True\n",
      "True\n",
      "True\n",
      "False\n",
      "我是people的\n",
      "Noname\n",
      "['__class__', '__delattr__', '__dict__', '__dir__', '__doc__', '__eq__', '__format__', '__ge__', '__getattribute__', '__gt__', '__hash__', '__init__', '__init_subclass__', '__le__', '__lt__', '__module__', '__ne__', '__new__', '__reduce__', '__reduce_ex__', '__repr__', '__setattr__', '__sizeof__', '__str__', '__subclasshook__', '__weakref__', 'age', 'name']\n"
     ]
    }
   ],
   "source": [
    "class People():\n",
    "    name = 'Noname'\n",
    "    age = 0\n",
    "    def __init__(self):\n",
    "        print('我是people的')\n",
    "    \n",
    "class Teachers(People):\n",
    "    def __init__(self):\n",
    "        print(\"I am a teacher!\")\n",
    "\n",
    "xiao = Teachers()\n",
    "print( issubclass(Teachers,People))\n",
    "print(isinstance(xiao,Teachers))\n",
    "print(hasattr(xiao,\"name\"))\n",
    "print(hasattr(xiao,\"gender\"))\n",
    "laobai = People()\n",
    "print(laobai.name)\n",
    "print(dir(People))"
   ]
  },
  {
   "cell_type": "markdown",
   "metadata": {},
   "source": [
    "# 类的成员描述符（属性）\n",
    "- 成员描述符在类中对类的成员属性进行相关操作而创建的一种方式\n",
    "- get: 获取属性的操作\n",
    "- set:修改或添加属性操作\n",
    "- delete：删除属性操作\n",
    "## 如果想使用类的成员描述符，大概有三种方法\n",
    "- 使用类实现描述符:适用于多个类中的多个属性共用一个属性符\n",
    "- 使用属性修饰符：当前类使用，一个类对应一个属性\n",
    "- 使用property函数：可以控制一个类中的多个属性\n",
    "    - property函数很简单\n",
    "    - property（fget,fset,fdel,doc）"
   ]
  },
  {
   "cell_type": "code",
   "execution_count": 13,
   "metadata": {},
   "outputs": [
    {
     "name": "stdout",
     "output_type": "stream",
     "text": [
      "7\n"
     ]
    }
   ],
   "source": [
    "class People():\n",
    "    def fget(self):\n",
    "        return self._age\n",
    "    def fset(self, age):\n",
    "        self._age = int(age)\n",
    "    def fdel(self):\n",
    "        self._age = 0\n",
    "    age = property(fget, fset, fdel, 'work on age')\n",
    "    \n",
    "    \n",
    "xiaobai = People()\n",
    "\n",
    "xiaobai.age = 7.9\n",
    "print(xiaobai.age)"
   ]
  },
  {
   "cell_type": "markdown",
   "metadata": {},
   "source": [
    "# 类的内置属性(前后各自都有两条下划线\n",
    "- __dict__:以字典的方式显示类的成员组成\n",
    "- __doc__: 获取类的文档信息（编写文档用'''  '''）\n",
    "- __name__: 获取类的名称，如果在模块中使用，获取模块的名称\n",
    "- __bases__: 获取某个类的所有父类，以元祖的方式表示"
   ]
  },
  {
   "cell_type": "markdown",
   "metadata": {},
   "source": [
    "# 类的常用魔术方法\n",
    "- 魔术方法就是不需要认为调用的方法，基本是在特定的时刻自动触发\n",
    "- 魔术方法的统一的特征，方法名被前后各两个下划线包裹\n",
    "\n",
    "## 操作类\n",
    "- __new__：对象实例化方法,次函数比较特殊，一般不需要使用\n",
    "- __call__:对象当函数使用的时候触发\n",
    "        比如：class People()\n",
    "                def __class__(self):\n",
    "                    print('')\n",
    "        a = People()\n",
    "        a()\n",
    "- __str__:当对象被当做字符串调用的时候\n",
    "    比如：class People()\n",
    "                def __str__(self):\n",
    "                    return 'eoaini'\n",
    "        a = People()\n",
    "        print(a)\n",
    "- __repr__:返回字符串\n",
    "    \n",
    "## 描述符相关\n",
    "- __set__  __get__  __delete__\n",
    "\n",
    "## 属性操作相关\n",
    "- __getattr__: 描述一个不存在的对象时调用\n",
    "    比如：class People()\n",
    "                def __getattr__(self,name):\n",
    "                    print('找不到')\n",
    "        a = People()\n",
    "        print(a.addr) (addr在对象中不存在)\n",
    "- __setattr__: 对成员属性进行设置的时候触发\n",
    "    - 参数 :\n",
    "        - self用来获取当前对象\n",
    "        - 被设置的属性名称\n",
    "        - 需要对属性名称设置的值\n",
    "    - 作用：进行属性设置的时候进行验证或者修改\n",
    "    - 在该方法中不能对属性进行直接赋值操作，否则会死循环\n",
    "## 运算类相关\n",
    "- __gt__: 进行大于判断的时候触发的函数\n",
    "    - 参数：\n",
    "        - self\n",
    "        - 第二个参数是第二个对象\n",
    "        - 返回值可以是任意值，推荐返回布尔值"
   ]
  },
  {
   "cell_type": "code",
   "execution_count": 15,
   "metadata": {},
   "outputs": [
    {
     "name": "stdout",
     "output_type": "stream",
     "text": [
      "i am initial function\n",
      "please don't take me as function\n",
      "i am initial function\n",
      "please don't take me as string\n",
      "i am initial function\n",
      "please don't take me as function\n",
      "xiaobai\n",
      "None\n"
     ]
    }
   ],
   "source": [
    "# __call__\n",
    "class People():\n",
    "    def __init__(self):\n",
    "        print('i am initial function')\n",
    "    def __call__(self):\n",
    "        print(\"please don't take me as function\")\n",
    "    def __str__(self):\n",
    "        return \"please don't take me as string\"\n",
    "a = People()\n",
    "a()\n",
    "\n",
    "# __str__\n",
    "a = People()\n",
    "print(a)\n",
    "\n",
    "# __repr__\n",
    "class People():\n",
    "    def __init__(self):\n",
    "        print('i am initial function')\n",
    "    def __repr__(self):\n",
    "        return \"please don't take me as function\"\n",
    "a = People()\n",
    "print(a)\n",
    "\n",
    "# __getattr__\n",
    "class People():\n",
    "    name = 'xiaobai'\n",
    "    def __getattr__(self,name): # 找不到就会返回None\n",
    "        pass\n",
    "a = People()\n",
    "print(a.name)\n",
    "print(a.age)"
   ]
  },
  {
   "cell_type": "code",
   "execution_count": 19,
   "metadata": {},
   "outputs": [
    {
     "name": "stdout",
     "output_type": "stream",
     "text": [
      "设置属性：score\n",
      "hehe, can <__main__.People object at 0x000001903AA73C18> is bigger than <__main__.People object at 0x000001903AA73FD0>?\n",
      "False\n"
     ]
    }
   ],
   "source": [
    "# __setattr__\n",
    "class People():\n",
    "    name = 'taotao'\n",
    "    def __setattr__(self,name,value):\n",
    "        print('设置属性：{}'.format(name))\n",
    "        #self.name = value\n",
    "        # 为了避免死循环，规定统一调用父类魔法函数\n",
    "        super().__setattr__(name,value)\n",
    "p = People()\n",
    "p.score = 98\n",
    "\n",
    "# __gt__\n",
    "class People():\n",
    "    def __init__(self, name):\n",
    "        self.name = name\n",
    "    def __gt__(self,sec):\n",
    "        print(\"hehe, can {} is bigger than {}?\".format(self,sec))\n",
    "        return self.name > sec.name\n",
    "    \n",
    "s1 = People('tao')\n",
    "s2 = People('teo')\n",
    "print(s1 > s2)"
   ]
  },
  {
   "cell_type": "markdown",
   "metadata": {},
   "source": [
    "# 类和对象的三种方法\n",
    "- 实例方法\n",
    "    - 需要实例化对象才能使用的方法，使用过程小红可能需要截至对象的其它对象的方法完成\n",
    "- 静态方法\n",
    "    - 不需要实例化，通过类直接访问\n",
    "- 类方法\n",
    "    - 不需要实例化"
   ]
  },
  {
   "cell_type": "code",
   "execution_count": 25,
   "metadata": {},
   "outputs": [
    {
     "name": "stdout",
     "output_type": "stream",
     "text": [
      "<__main__.Person object at 0x000001903AA7B048>\n",
      "i am eating\n",
      "<class '__main__.Person'>\n",
      "playing\n",
      "<class '__main__.Person'>\n",
      "playing\n",
      "I am saying\n",
      "I am saying\n"
     ]
    }
   ],
   "source": [
    "class Person():\n",
    "    # 实例方法\n",
    "    def eat(self):\n",
    "        print(self)\n",
    "        print('i am eating')\n",
    "    # 类方法\n",
    "    # 类方法的第一个参数，一般命名为cls(cls可更改，但默认)\n",
    "    @classmethod\n",
    "    def play(cls):\n",
    "        print(cls)\n",
    "        print(\"playing\")\n",
    "    # 静态方法\n",
    "    # 不需要第一个参数表示自身\n",
    "    @staticmethod\n",
    "    def say():\n",
    "        print(\"I am saying\")\n",
    "yue = Person()\n",
    "yue.eat()\n",
    "# 类方法\n",
    "Person.play()\n",
    "yue.play()\n",
    "# 静态方法\n",
    "Person.say()\n",
    "yue.say()"
   ]
  },
  {
   "cell_type": "markdown",
   "metadata": {},
   "source": [
    "# 抽象类\n",
    "- 抽象方法： 没有具体实现内容方法的方法\n",
    "- 抽象方法的主要意义是规范了子类的行为和接口\n",
    "- 抽象类的使用需要借助abc模块 \n",
    "        import abc\n",
    "- 包含抽象方法的类叫抽象类，通常成为ABC类\n",
    "# 抽象类的使用\n",
    "- 抽象类可以包含抽象方法，也可以包含具体方法\n",
    "- 抽象类中可以有方法也可以有属性\n",
    "- 抽象类不允许直接实例化\n",
    "- 必须继承才可以使用，且继承的子类必须实现所有继承来的抽象方法\n",
    "- 假定子类没实现所有继承的抽象方法，则子类也不能将之实例化\n",
    "- 抽象类的注意力作用是设定类的标准，以便于开发的时候具有统一的规范"
   ]
  },
  {
   "cell_type": "code",
   "execution_count": 27,
   "metadata": {},
   "outputs": [],
   "source": [
    "# 伪抽象\n",
    "class Action():# 父类什么都不做\n",
    "        pass\n",
    "class Dogs(Action):\n",
    "    def howl(self):\n",
    "        print('I can bite everythign I want')\n",
    "class People(Action):\n",
    "    def union(slef):\n",
    "        print('we can organize thousands of people to work together and ever more')\n",
    "a = Action()"
   ]
  },
  {
   "cell_type": "code",
   "execution_count": 28,
   "metadata": {},
   "outputs": [],
   "source": [
    "# 真正的抽象类实现\n",
    "\n",
    "import abc \n",
    "# 声明一个类并且指定当前类的元类\n",
    "class Human(metaclass=abc.ABCMeta):\n",
    "    \n",
    "    # 定义一个抽象的方法\n",
    "    @abc.abstractmethod\n",
    "    def somoking(self):\n",
    "        pass\n",
    "    # 定义类抽象方法\n",
    "    @abc.abstractclassmethod\n",
    "    def drink():\n",
    "        pass\n",
    "    #定义静态抽象方法\n",
    "    @abc.abstractstaticmethod\n",
    "    def play():\n",
    "        pass\n",
    "    \n"
   ]
  },
  {
   "cell_type": "markdown",
   "metadata": {},
   "source": [
    "# 自定义类\n",
    "- 是一个类定义和各种方法的自由组合\n",
    "- 可以定义类和函数，然后自己通过类直接赋值\n",
    "- 可以借助于MethodType实现\n",
    "- 借助于type实现\n",
    "- 利用元类实现 - MetaClass\n",
    "    "
   ]
  },
  {
   "cell_type": "code",
   "execution_count": 35,
   "metadata": {},
   "outputs": [
    {
     "name": "stdout",
     "output_type": "stream",
     "text": [
      "hello!you\n",
      "hello!xiaom\n",
      "hello!<function sayhello at 0x000001903A734F28>\n"
     ]
    }
   ],
   "source": [
    "# 函数名可以当变量名使用\n",
    "def sayhello(name):\n",
    "    print('hello!{}'.format(name))\n",
    "sayhello('you')\n",
    "taotao = sayhello # 函数被当成变量\n",
    "taotao('xiaom')\n",
    "taotao(taotao)"
   ]
  },
  {
   "cell_type": "code",
   "execution_count": 46,
   "metadata": {},
   "outputs": [
    {
     "name": "stdout",
     "output_type": "stream",
     "text": [
      "please say something!9\n",
      "please say something!<__main__.A object at 0x000001903AA73CC0>\n",
      "please say something!<__main__.A object at 0x000001903AA73400>\n"
     ]
    }
   ],
   "source": [
    "# 自己定义类\n",
    "class A():\n",
    "    pass\n",
    "def say(name):\n",
    "    print(\"please say something!{}\".format(name))\n",
    "say(9)\n",
    "A.say = say\n",
    "A.say(A())\n",
    "# 效果和上面一样\n",
    "a = A()\n",
    "a.say() "
   ]
  },
  {
   "cell_type": "code",
   "execution_count": 52,
   "metadata": {},
   "outputs": [
    {
     "name": "stdout",
     "output_type": "stream",
     "text": [
      "Look,I'm tired of living in this kind of cosmos,so please let go of me\n"
     ]
    }
   ],
   "source": [
    "# 组装类例子，自己组装一个类\n",
    "from types import MethodType\n",
    "class A():\n",
    "    pass\n",
    "def say(self):\n",
    "    print(\"Look,I'm tired of living in this kind of cosmos,so please let go of me\")\n",
    "a = A()\n",
    "a.say = MethodType(say,A)\n",
    "a.say()"
   ]
  },
  {
   "cell_type": "code",
   "execution_count": 57,
   "metadata": {},
   "outputs": [
    {
     "name": "stdout",
     "output_type": "stream",
     "text": [
      "{'class_say': <function say at 0x000001903AA63510>, 'class_talk': <function talk at 0x000001903AA63400>, '__module__': '__main__', '__dict__': <attribute '__dict__' of 'Apeople' objects>, '__weakref__': <attribute '__weakref__' of 'Apeople' objects>, '__doc__': None}\n",
      "Sayign\n",
      "Talking\n"
     ]
    }
   ],
   "source": [
    "# 利用type造一个类\n",
    "\n",
    "# 先定义类应该具有的成员函数\n",
    "def say(self):\n",
    "    print('Sayign')\n",
    "def talk(self):\n",
    "    print(\"Talking\")\n",
    "# 用type造类\n",
    "A = type(\"Apeople\", (object, ), {\"class_say\":say,\"class_talk\":talk})\n",
    "print(A.__dict__)\n",
    "a = A()\n",
    "a.class_say()\n",
    "a.class_talk()"
   ]
  },
  {
   "cell_type": "code",
   "execution_count": 63,
   "metadata": {},
   "outputs": [
    {
     "name": "stdout",
     "output_type": "stream",
     "text": [
      "hehe , I am initial type\n"
     ]
    },
    {
     "data": {
      "text/plain": [
       "'00000'"
      ]
     },
     "execution_count": 63,
     "metadata": {},
     "output_type": "execute_result"
    }
   ],
   "source": [
    "# 元类：元类写法是固定的，必须继承自type\n",
    "# 元类一遍命名以MetaClass结尾\n",
    "class TulingMetaClass(type):\n",
    "    # 注意以下写法\n",
    "    def __new__(cls, name, bases, attrs):\n",
    "        # 自己的业务处理\n",
    "        print(\"hehe , I am initial type\")\n",
    "        attrs['id'] = '00000'\n",
    "        attrs['address'] = 'do not know'\n",
    "        return type.__new__(cls, name, bases, attrs)\n",
    "\n",
    "# 元类定义完成就可以使用，使用注意写法\n",
    "class Teacher(object, metaclass=TulingMetaClass):\n",
    "    pass\n",
    "t = Teacher()\n",
    "t.__dict__\n",
    "t.id = 9486"
   ]
  },
  {
   "cell_type": "code",
   "execution_count": null,
   "metadata": {},
   "outputs": [],
   "source": []
  }
 ],
 "metadata": {
  "kernelspec": {
   "display_name": "Python 3",
   "language": "python",
   "name": "python3"
  },
  "language_info": {
   "codemirror_mode": {
    "name": "ipython",
    "version": 3
   },
   "file_extension": ".py",
   "mimetype": "text/x-python",
   "name": "python",
   "nbconvert_exporter": "python",
   "pygments_lexer": "ipython3",
   "version": "3.7.3"
  }
 },
 "nbformat": 4,
 "nbformat_minor": 2
}
