{
 "cells": [
  {
   "cell_type": "markdown",
   "metadata": {},
   "source": [
    "# Python语言的高级特性\n"
   ]
  },
  {
   "cell_type": "markdown",
   "metadata": {},
   "source": [
    "## 函数式编程\n",
    "- 基于lambda演算的一种编程方式\n",
    "    - 程序中只有函数\n",
    "    - 函数可以作为参数，同样可以作为返回值\n",
    "    - 纯函数式编程语言： LISP Haskell\n",
    "- Python函数式编程知识借鉴函数式编程的一些特点，可以理解成一般函数一半python\n",
    "- 需要知识：\n",
    "    - 高阶函数\n",
    "    - 返回函数\n",
    "    - 匿名函数\n",
    "    - 装饰器\n",
    "    - 偏函数"
   ]
  },
  {
   "cell_type": "markdown",
   "metadata": {},
   "source": [
    "### lambda 表达式\n",
    "- 函数：最大程度复用代码\n",
    "    - 存在问题：如果函数很小，很短，则会造成啰嗦\n",
    "    - 如果函数被调用次数少， 则会造成浪费\n",
    "    - 对于阅读者来说，造成阅读流程被迫中断\n",
    "- lambda表示式\n",
    "    - 一个表达式\n",
    "    - 不是代码块\n",
    "    - 可以有参数，有多个参数也可以，用逗号隔开"
   ]
  },
  {
   "cell_type": "code",
   "execution_count": 3,
   "metadata": {},
   "outputs": [
    {
     "data": {
      "text/plain": [
       "6"
      ]
     },
     "execution_count": 3,
     "metadata": {},
     "output_type": "execute_result"
    }
   ],
   "source": [
    "# lambda表达式的用法\n",
    "# 1.亿lambda开头\n",
    "# 2. 紧跟一定的参数\n",
    "# 3. 参数后用冒号和表达式主题隔开\n",
    "# 4. 知识一个表达式，所以没有return\n",
    "\n",
    "num = lambda x: 100*x\n",
    "num(199)\n",
    "nums = lambda x,y,z: x+y+z\n",
    "nums(1,2,3)"
   ]
  },
  {
   "cell_type": "markdown",
   "metadata": {},
   "source": [
    "### 高阶函数\n",
    "- 把函数作为参数使用的函数"
   ]
  },
  {
   "cell_type": "code",
   "execution_count": 6,
   "metadata": {},
   "outputs": [
    {
     "name": "stdout",
     "output_type": "stream",
     "text": [
      "i am a funa\n"
     ]
    }
   ],
   "source": [
    "# 变量可以赋值\n",
    "# 函数名称也是一个变量\n",
    "def funa():\n",
    "    print(\"i am a funa\")\n",
    "funb = funa\n",
    "funb()"
   ]
  },
  {
   "cell_type": "markdown",
   "metadata": {},
   "source": [
    "### 以上代码得出的结论：\n",
    "- 函数名称是变量，则可以被当做参数传入另一个函数\n"
   ]
  },
  {
   "cell_type": "code",
   "execution_count": 13,
   "metadata": {},
   "outputs": [
    {
     "name": "stdout",
     "output_type": "stream",
     "text": [
      "900\n",
      "900\n"
     ]
    }
   ],
   "source": [
    "# 高阶函数举例\n",
    "# funa是普通函数\n",
    "def funa(n):\n",
    "    return n * 100\n",
    "def funb(n):\n",
    "    return funa(n) * 3\n",
    "print(funb(3))\n",
    "\n",
    "# 写一个高阶函数\n",
    "def func(n,f):\n",
    "    return f(n)*3\n",
    "print(func(3,funa))\n",
    "\n",
    "# 比较func和funb，func更优\n",
    "\n"
   ]
  },
  {
   "cell_type": "markdown",
   "metadata": {},
   "source": [
    "### 系统高阶函数-map\n",
    "- 即映射，把集合或者列表的元素，每一个元素都按照一定规则进行操作，生成一个新的列表或集合\n",
    "- map函数是系统提供的具有映射功能的函数，返回值是一个迭代对象"
   ]
  },
  {
   "cell_type": "code",
   "execution_count": 22,
   "metadata": {},
   "outputs": [
    {
     "name": "stdout",
     "output_type": "stream",
     "text": [
      "[0, 1, 2, 3, 4, 5, 6, 7, 8, 9]\n",
      "[0, 10, 20, 30, 40, 50, 60, 70, 80, 90]\n",
      "0 10 20 30 40 50 60 70 80 90 "
     ]
    }
   ],
   "source": [
    "# map举例\n",
    "li = [i for i in range(10)]\n",
    "print(li)\n",
    "l2 = [i*10 for i in li]\n",
    "print(l2)\n",
    "\n",
    "def mulTen(n):\n",
    "    return n*10\n",
    "l2 = map(mulTen,li)\n",
    "for i in l2:\n",
    "    print(i,end=' ')\n",
    "\n"
   ]
  },
  {
   "cell_type": "markdown",
   "metadata": {},
   "source": [
    "### reduce \n",
    "- 归并，缩减,格式reduce(函数，列表或集合)\n",
    "- 把一个可迭代对象最后归并成一个结果\n",
    "- 对于作为参数的函数要求：必须有两个参数，必须返回结果\n",
    "- reduce需要导入functools包\n"
   ]
  },
  {
   "cell_type": "code",
   "execution_count": 24,
   "metadata": {},
   "outputs": [
    {
     "name": "stdout",
     "output_type": "stream",
     "text": [
      "21\n"
     ]
    }
   ],
   "source": [
    "from functools import reduce\n",
    "\n",
    "def myAdd(x,y):\n",
    "    return x + y\n",
    "rst = reduce(myAdd,[1,2,3,4,5,6])\n",
    "print(rst)"
   ]
  },
  {
   "cell_type": "markdown",
   "metadata": {},
   "source": [
    "### filter函数\n",
    "- 过滤函数：对一组数据进行过滤，符合条件的数据会生成一个新的列表并返回\n",
    "- 与map比较：\n",
    "    - 相同：都会对列表每个元素进行操作\n",
    "    - 不同：\n",
    "        - map会生成一个和原来数据相对应的新队列\n",
    "        - fliter不一定\n",
    "    - fliter函数怎么写：\n",
    "        - 利用给定函数进行判断\n",
    "        - 返回值一定是一个布尔值\n",
    "        - 调用格式：filter(过滤func,data)"
   ]
  },
  {
   "cell_type": "code",
   "execution_count": 32,
   "metadata": {},
   "outputs": [
    {
     "name": "stdout",
     "output_type": "stream",
     "text": [
      "<class 'filter'>\n",
      "[2, 3534, 368]\n"
     ]
    }
   ],
   "source": [
    "# fliter\n",
    "# 过滤函数要求有输入，返回布尔值\n",
    "def isEven(a):\n",
    "    return a % 2 == 0\n",
    "\n",
    "l = [2,3534,53,321,368,97,345]\n",
    "rst = filter(isEven , l)\n",
    "# 返回的filter是一个可迭代对象\n",
    "print(type(rst))\n",
    "\n",
    "print([i for i in rst])"
   ]
  },
  {
   "cell_type": "markdown",
   "metadata": {},
   "source": [
    "### 高阶函数排序\n",
    "- 把一个序列按照给定的算法进行排序\n",
    "- key：在排序前对每一个元素进行key函数运算，可以理解成按照key函数定义的逻辑们进行排序"
   ]
  },
  {
   "cell_type": "code",
   "execution_count": 43,
   "metadata": {},
   "outputs": [
    {
     "name": "stdout",
     "output_type": "stream",
     "text": [
      "[6789, 99, 89, 76, 23, -990]\n",
      "[6789, -990, 99, 89, 76, 23]\n",
      "['and', 'hdi', 'he', 'is', 'jil']\n",
      "['and', 'hdi', 'he', 'is', 'jil']\n"
     ]
    }
   ],
   "source": [
    "# 排序案例\n",
    "a = [23,99,89,76,6789,-990]\n",
    "al = sorted(a, reverse=True)\n",
    "print(al)\n",
    "a2 = sorted(a, key=abs, reverse=True)\n",
    "print(a2)\n",
    "\n",
    "an = ['and','he','is','hdi','jil']\n",
    "print(sorted(an))\n",
    "\n",
    "print(sorted(an,key=str.upper))"
   ]
  },
  {
   "cell_type": "markdown",
   "metadata": {},
   "source": [
    "### 返回函数\n",
    "- 函数可返回具体的值\n",
    "- 也可以返回一个函数作为结果\n"
   ]
  },
  {
   "cell_type": "code",
   "execution_count": 45,
   "metadata": {},
   "outputs": [
    {
     "name": "stdout",
     "output_type": "stream",
     "text": [
      "my life\n"
     ]
    }
   ],
   "source": [
    "# 定义一个普通函数\n",
    "def my(a):\n",
    "    print(\"my life\")\n",
    "    return None\n",
    "a = my(8)\n",
    "\n"
   ]
  },
  {
   "cell_type": "code",
   "execution_count": 50,
   "metadata": {},
   "outputs": [
    {
     "name": "stdout",
     "output_type": "stream",
     "text": [
      "<class 'function'>\n",
      "<function my2.<locals>.my3 at 0x0000020446B67B70>\n",
      "my life 3\n"
     ]
    },
    {
     "data": {
      "text/plain": [
       "3"
      ]
     },
     "execution_count": 50,
     "metadata": {},
     "output_type": "execute_result"
    }
   ],
   "source": [
    "def my2():\n",
    "    def my3():\n",
    "        print(\"my life 3\")\n",
    "        return 3\n",
    "    return my3\n",
    "\n",
    "f3 = my2()\n",
    "print(type(f3))\n",
    "print(f3)\n",
    "f3()"
   ]
  },
  {
   "cell_type": "code",
   "execution_count": 53,
   "metadata": {},
   "outputs": [],
   "source": [
    "# 复杂一点返回函数的例子\n",
    "# args:参数列表\n",
    "# my4 定义函数，返回内部定义的函数my5\n",
    "# my5使用了外部变量，这个变量是my4的参数\n",
    "def my4(*args):\n",
    "    def my5():\n",
    "        rst = 0\n",
    "        for n in args:\n",
    "            rst += n\n",
    "        return rst\n",
    "    return my5\n"
   ]
  },
  {
   "cell_type": "code",
   "execution_count": 56,
   "metadata": {},
   "outputs": [
    {
     "name": "stdout",
     "output_type": "stream",
     "text": [
      "<function my4.<locals>.my5 at 0x0000020446B67D08>\n"
     ]
    },
    {
     "data": {
      "text/plain": [
       "34"
      ]
     },
     "execution_count": 56,
     "metadata": {},
     "output_type": "execute_result"
    }
   ],
   "source": [
    "f5 = my4(1,2,3,3,4,5,5,5,6)\n",
    "print(f5)\n",
    "# f5的调用方式\n",
    "f5()"
   ]
  },
  {
   "cell_type": "markdown",
   "metadata": {},
   "source": [
    "## 闭包（closure）\n",
    "- 当一个函数在内部定义函数，并且内部的函数应用外部函数的参数或者局部变量，当背部函数被当做返回值的时候，相关函数和变量保存在返回的函数中，这种结果就叫闭包\n",
    "- 上面的my4就是一个很好的闭包结构"
   ]
  },
  {
   "cell_type": "code",
   "execution_count": 62,
   "metadata": {},
   "outputs": [
    {
     "name": "stdout",
     "output_type": "stream",
     "text": [
      "[<function count.<locals>.f at 0x000002044692BB70>]\n",
      "[<function count.<locals>.f at 0x000002044692BB70>, <function count.<locals>.f at 0x0000020446B670D0>]\n",
      "[<function count.<locals>.f at 0x000002044692BB70>, <function count.<locals>.f at 0x0000020446B670D0>, <function count.<locals>.f at 0x0000020446B678C8>]\n",
      "9\n",
      "9\n",
      "9\n"
     ]
    }
   ],
   "source": [
    "# 闭包常见坑\n",
    "def count():\n",
    "    # 定义列表，列表里存放的是定义的函数\n",
    "    fs = []\n",
    "    for i in range(1,4):\n",
    "        def f():\n",
    "            return i * i\n",
    "        fs.append(f)\n",
    "        print(fs)\n",
    "    return fs\n",
    "f1,f2,f3 = count()\n",
    "print(f1())\n",
    "print(f2())\n",
    "print(f3())\n",
    "\n",
    "# 造成上述的原因是返回函数引用了变量i，i并非立即执行，而是等到三个函数都返回的时候才统一使用，\n",
    "# 此时已经i变成了3，最终调用的时候都返回的是3*3\n",
    "# 此问题的解决方式：返回闭包时，返回函数不能引用任何循环变量\n",
    "# 解决方案：再创建一个函数，用该函数的参数绑定循环变量的当前值，无论该循环变量以后如何改变，已经绑定的函数参数值不再改变\n"
   ]
  },
  {
   "cell_type": "code",
   "execution_count": 64,
   "metadata": {},
   "outputs": [
    {
     "name": "stdout",
     "output_type": "stream",
     "text": [
      "1\n",
      "4\n",
      "9\n"
     ]
    }
   ],
   "source": [
    "# 修改后的\n",
    "def count():\n",
    "    # 定义列表，列表里存放的是定义的函数\n",
    "    fs = []\n",
    "    def f(j):\n",
    "        def g():\n",
    "            return j * j\n",
    "        return g\n",
    "    for i in range(1,4):\n",
    "        fs.append(f(i))\n",
    "    return fs\n",
    "f1,f2,f3 = count()\n",
    "print(f1())\n",
    "print(f2())\n",
    "print(f3())"
   ]
  },
  {
   "cell_type": "markdown",
   "metadata": {},
   "source": [
    "### 装饰器\n",
    "- 在不改动函数代码的基础上无限制扩展函数功能的一种机制，本质上讲，装饰器是一个返回函数的高阶函数\n",
    "- 使用： 使用@语法，即每次扩展在函数定义前使用@+函数\n"
   ]
  },
  {
   "cell_type": "code",
   "execution_count": 70,
   "metadata": {},
   "outputs": [
    {
     "name": "stdout",
     "output_type": "stream",
     "text": [
      "hello\n",
      "2217389452688\n",
      "2217389452688\n",
      "hello\n",
      "hello\n"
     ]
    }
   ],
   "source": [
    "def hello():\n",
    "    print(\"hello\")\n",
    "f = hello\n",
    "f()\n",
    "print(id(f))\n",
    "print(id(hello))\n",
    "print(f.__name__)\n",
    "print(hello.__name__)"
   ]
  },
  {
   "cell_type": "code",
   "execution_count": 71,
   "metadata": {},
   "outputs": [],
   "source": [
    "# 现在有新需求\n",
    "# 对hello功能进行扩展：每次打印hello之前打印当前系统时间\n",
    "# 要求：不能改动现有代码\n",
    "# 解决方案：使用装饰器"
   ]
  },
  {
   "cell_type": "code",
   "execution_count": 73,
   "metadata": {},
   "outputs": [],
   "source": [
    "import time \n",
    "# 高阶函数，以函数作为参数，写法固定\n",
    "def printTime(f):\n",
    "    def wrapper(*args, **kwargs):\n",
    "        print(\"Time:\",time.ctime())\n",
    "        return f(*args, **kwargs)\n",
    "    return wrapper"
   ]
  },
  {
   "cell_type": "code",
   "execution_count": 75,
   "metadata": {},
   "outputs": [
    {
     "name": "stdout",
     "output_type": "stream",
     "text": [
      "Time: Mon Aug 12 10:48:29 2019\n",
      "hello\n"
     ]
    }
   ],
   "source": [
    "# 上面定义了装饰器，使用的时候需要用到@，次符号是python的语法糖\n",
    "@printTime\n",
    "def hello():\n",
    "    print(\"hello\")\n",
    "hello()"
   ]
  },
  {
   "cell_type": "code",
   "execution_count": 80,
   "metadata": {},
   "outputs": [
    {
     "name": "stdout",
     "output_type": "stream",
     "text": [
      "Time: Mon Aug 12 10:52:49 2019\n",
      "我是手动执行的\n"
     ]
    }
   ],
   "source": [
    "# 装饰器的好处是：一点定义，则可以装饰任意函数\n",
    "# 一旦被其装饰，则把装饰器的功能直接添加到定义函数的功能上\n",
    "# 手动执行装饰器\n",
    "def hello2():\n",
    "    print(\"我是手动执行的\")\n",
    "hello2 = printTime(hello2)\n",
    "hello2()"
   ]
  },
  {
   "cell_type": "markdown",
   "metadata": {},
   "source": [
    "### 偏函数\n",
    "- 参数固定的函数，相当于一个由特定参数的函数体\n",
    "- functools.partial的作用是，把一个函数某些参数固定，返回一个新函数"
   ]
  },
  {
   "cell_type": "code",
   "execution_count": 86,
   "metadata": {},
   "outputs": [
    {
     "data": {
      "text/plain": [
       "5402"
      ]
     },
     "execution_count": 86,
     "metadata": {},
     "output_type": "execute_result"
    }
   ],
   "source": [
    "# 把字符串转化成十进制\n",
    "int(\"12334\")\n",
    "# 球八进制的字符串12432，表示成十进制是多少\n",
    "int(\"12432\",base=8)"
   ]
  },
  {
   "cell_type": "code",
   "execution_count": 85,
   "metadata": {},
   "outputs": [
    {
     "data": {
      "text/plain": [
       "74565"
      ]
     },
     "execution_count": 85,
     "metadata": {},
     "output_type": "execute_result"
    }
   ],
   "source": [
    "# 新建一个类函数，次函数是默认输入字符的字符串是16进制数字\n",
    "# 让此字符串返回十进制的数字\n",
    "def int16(x, base=16):\n",
    "    return int(x, base)\n",
    "int16(\"12345\")"
   ]
  },
  {
   "cell_type": "code",
   "execution_count": 88,
   "metadata": {},
   "outputs": [
    {
     "data": {
      "text/plain": [
       "74565"
      ]
     },
     "execution_count": 88,
     "metadata": {},
     "output_type": "execute_result"
    }
   ],
   "source": [
    "import functools\n",
    "# 实现上面int16的功能\n",
    "int16 = functools.partial(int,base=16)\n",
    "int16(\"12345\")"
   ]
  },
  {
   "cell_type": "markdown",
   "metadata": {},
   "source": [
    "# 高级函数补充\n",
    "- zip\n",
    "    - 把两个可迭代内容生成一个可迭代的tuple元素类型组成的内容\n",
    "    "
   ]
  },
  {
   "cell_type": "code",
   "execution_count": 91,
   "metadata": {},
   "outputs": [
    {
     "name": "stdout",
     "output_type": "stream",
     "text": [
      "<class 'zip'>\n",
      "<zip object at 0x0000020446CAFB88>\n",
      "[(1, 22), (2, 34), (3, 45), (4, 54)]\n"
     ]
    }
   ],
   "source": [
    "# zip 案例\n",
    "l1 = [1,2,3,4]\n",
    "l2 = [22,34,45,54]\n",
    "\n",
    "z = zip(l1,l2)\n",
    "print(type(z))\n",
    "print(z)\n",
    "print([i for i in z])"
   ]
  },
  {
   "cell_type": "code",
   "execution_count": 94,
   "metadata": {},
   "outputs": [
    {
     "name": "stdout",
     "output_type": "stream",
     "text": [
      "[('wangwang', 23), ('mingyhue', 59), ('yyr', 98)]\n",
      "[]\n"
     ]
    }
   ],
   "source": [
    "l1 = [\"wangwang\",\"mingyhue\",\"yyr\"]\n",
    "l2 = [23,59,98]\n",
    "z = zip(l1,l2)\n",
    "print([i for i in z])\n",
    "l3 = [i for i in z]\n",
    "print(l3)\n",
    "# 第二个为空的原因是上面已经迭代完了"
   ]
  },
  {
   "cell_type": "markdown",
   "metadata": {},
   "source": [
    "# enumerate\n",
    "- zip和它很像\n",
    "- 对可迭代对象里的每一元素，配上一个索引，然后索引和内容构成tuple类型"
   ]
  },
  {
   "cell_type": "code",
   "execution_count": 98,
   "metadata": {},
   "outputs": [
    {
     "name": "stdout",
     "output_type": "stream",
     "text": [
      "[(0, 'wangwang'), (1, 'mingyhue'), (2, 'yyr')]\n",
      "[(100, 'wangwang'), (101, 'mingyhue'), (102, 'yyr')]\n"
     ]
    }
   ],
   "source": [
    "l1 = [\"wangwang\",\"mingyhue\",\"yyr\"]\n",
    "\n",
    "em = enumerate(l1)\n",
    "print([i for i in em])\n",
    "em1 = enumerate(l1,start=100)\n",
    "print([i for i in em1])"
   ]
  },
  {
   "cell_type": "markdown",
   "metadata": {},
   "source": [
    "# collections模块\n",
    "- namedtuple\n",
    "- deque\n"
   ]
  },
  {
   "cell_type": "markdown",
   "metadata": {},
   "source": [
    "### namedtuple\n",
    "- tuple类型\n",
    "- 是一个可命名的tuple\n"
   ]
  },
  {
   "cell_type": "code",
   "execution_count": 101,
   "metadata": {},
   "outputs": [
    {
     "name": "stdout",
     "output_type": "stream",
     "text": [
      "11\n",
      "11\n"
     ]
    }
   ],
   "source": [
    "import collections\n",
    "point = collections.namedtuple(\"Point\",['x','y'])\n",
    "p = point(11,222)\n",
    "print(p.x)\n",
    "print(p[0])\n",
    "# help(collections)"
   ]
  },
  {
   "cell_type": "code",
   "execution_count": 105,
   "metadata": {},
   "outputs": [
    {
     "name": "stdout",
     "output_type": "stream",
     "text": [
      "Circle(x=100, y=150, z=50)\n",
      "<class '__main__.Circle'>\n"
     ]
    }
   ],
   "source": [
    "Circle = collections.namedtuple(\"Circle\",['x','y','z'])\n",
    "p = Circle(100,150,50)\n",
    "print(p)\n",
    "print(type(p))\n"
   ]
  },
  {
   "cell_type": "markdown",
   "metadata": {},
   "source": [
    "# deque\n",
    "- 解决了频繁删除插入带来的效率问题\n"
   ]
  },
  {
   "cell_type": "code",
   "execution_count": 109,
   "metadata": {},
   "outputs": [
    {
     "name": "stdout",
     "output_type": "stream",
     "text": [
      "deque(['a', 'b', 'c'])\n",
      "deque(['a', 'b', 'c', 'd'])\n",
      "deque(['x', 'a', 'b', 'c', 'd'])\n"
     ]
    }
   ],
   "source": [
    "from collections import deque\n",
    "q = deque(['a','b','c'])\n",
    "print(q)\n",
    "q.append('d')\n",
    "print(q)\n",
    "q.appendleft('x')\n",
    "print(q)"
   ]
  },
  {
   "cell_type": "markdown",
   "metadata": {},
   "source": [
    "# defaultdict\n",
    "- 当直接读取dict不存在的属性时，直接返回默认值\n"
   ]
  },
  {
   "cell_type": "code",
   "execution_count": 111,
   "metadata": {},
   "outputs": [
    {
     "name": "stdout",
     "output_type": "stream",
     "text": [
      "1\n"
     ]
    },
    {
     "ename": "KeyError",
     "evalue": "'four'",
     "output_type": "error",
     "traceback": [
      "\u001b[1;31m---------------------------------------------------------------------------\u001b[0m",
      "\u001b[1;31mKeyError\u001b[0m                                  Traceback (most recent call last)",
      "\u001b[1;32m<ipython-input-111-1a72085c3d21>\u001b[0m in \u001b[0;36m<module>\u001b[1;34m\u001b[0m\n\u001b[0;32m      1\u001b[0m \u001b[0md1\u001b[0m \u001b[1;33m=\u001b[0m \u001b[1;33m{\u001b[0m\u001b[1;34m'one'\u001b[0m\u001b[1;33m:\u001b[0m\u001b[1;36m1\u001b[0m\u001b[1;33m,\u001b[0m\u001b[1;34m'two'\u001b[0m\u001b[1;33m:\u001b[0m\u001b[1;36m2\u001b[0m\u001b[1;33m}\u001b[0m\u001b[1;33m\u001b[0m\u001b[1;33m\u001b[0m\u001b[0m\n\u001b[0;32m      2\u001b[0m \u001b[0mprint\u001b[0m\u001b[1;33m(\u001b[0m\u001b[0md1\u001b[0m\u001b[1;33m[\u001b[0m\u001b[1;34m'one'\u001b[0m\u001b[1;33m]\u001b[0m\u001b[1;33m)\u001b[0m\u001b[1;33m\u001b[0m\u001b[1;33m\u001b[0m\u001b[0m\n\u001b[1;32m----> 3\u001b[1;33m \u001b[0mprint\u001b[0m\u001b[1;33m(\u001b[0m\u001b[0md1\u001b[0m\u001b[1;33m[\u001b[0m\u001b[1;34m'four'\u001b[0m\u001b[1;33m]\u001b[0m\u001b[1;33m)\u001b[0m\u001b[1;33m\u001b[0m\u001b[1;33m\u001b[0m\u001b[0m\n\u001b[0m",
      "\u001b[1;31mKeyError\u001b[0m: 'four'"
     ]
    }
   ],
   "source": [
    "d1 = {'one':1,'two':2}\n",
    "print(d1['one'])\n",
    "print(d1['four'])"
   ]
  },
  {
   "cell_type": "code",
   "execution_count": 115,
   "metadata": {},
   "outputs": [
    {
     "name": "stdout",
     "output_type": "stream",
     "text": [
      "1\n",
      "taotao\n"
     ]
    }
   ],
   "source": [
    "from collections import defaultdict\n",
    "# lambda表达式直接返回字符串\n",
    "\n",
    "func = lambda: \"taotao\"\n",
    "d2 = defaultdict(func)\n",
    "d2['one'] = 1\n",
    "d2['two'] = 2\n",
    "# 不能直接定义为d2 = {'one':1,'two':2}\n",
    "print(d2['one'])\n",
    "print(d2['four'])"
   ]
  },
  {
   "cell_type": "markdown",
   "metadata": {},
   "source": [
    "# Counter\n",
    "- 统计字符串个数\n"
   ]
  },
  {
   "cell_type": "code",
   "execution_count": 116,
   "metadata": {},
   "outputs": [
    {
     "name": "stdout",
     "output_type": "stream",
     "text": [
      "Counter({'d': 6, 'i': 5, 'f': 5, 'e': 3, 'j': 2, 'b': 2, 'a': 1, 'l': 1, 'n': 1, 'o': 1, 'w': 1})\n"
     ]
    }
   ],
   "source": [
    "from collections import Counter\n",
    "# 括号里的内容是可迭代的\n",
    "c = Counter(\"idfidfjdifdifjiefdalbnedobwe\")\n",
    "d = Counte\n",
    "print(c)"
   ]
  }
 ],
 "metadata": {
  "kernelspec": {
   "display_name": "Python 3",
   "language": "python",
   "name": "python3"
  },
  "language_info": {
   "codemirror_mode": {
    "name": "ipython",
    "version": 3
   },
   "file_extension": ".py",
   "mimetype": "text/x-python",
   "name": "python",
   "nbconvert_exporter": "python",
   "pygments_lexer": "ipython3",
   "version": "3.7.3"
  }
 },
 "nbformat": 4,
 "nbformat_minor": 2
}
