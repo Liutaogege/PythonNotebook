{
 "cells": [
  {
   "cell_type": "markdown",
   "metadata": {},
   "source": [
    "# GUI介绍\n",
    "- 图形用户界面(Graphical User Interface，简称 GUI，又称图形用户接口)是指采用图形方式显示的计算机操作用户界面。\n",
    "- GUI for python:Tkinter,wxPython, PyQt\n",
    "- Tkinter:\n",
    "        - 绑定的是TK GUI工具集，用途python包装的Tcl代码\n",
    "        - PyGTK:Tkinter的替代品\n",
    "        - wxPython: 跨平台的Python GUI\n",
    "        - PyQt\n",
    "            - 跨平台的\n",
    "            - 缺点：商业授权问题\n",
    "- 推荐书籍：辛星GUI,辛星python"
   ]
  },
  {
   "cell_type": "code",
   "execution_count": 2,
   "metadata": {},
   "outputs": [],
   "source": [
    "# 测试tkinter包：\n",
    "import tkinter\n",
    "tkinter._test()"
   ]
  },
  {
   "cell_type": "code",
   "execution_count": 10,
   "metadata": {},
   "outputs": [],
   "source": [
    "import tkinter\n",
    "base = tkinter.Tk()"
   ]
  },
  {
   "cell_type": "markdown",
   "metadata": {},
   "source": [
    "### Tkinter常用组件\n",
    "        Button      按钮控件；在程序中显示按钮。\n",
    "        Canvas\t    画布控件；显示图形元素如线条或文本\n",
    "        Checkbutton\t多选框控件；用于在程序中提供多项选择框\n",
    "        Entry\t    输入控件；用于显示简单的文本内容\n",
    "        Frame\t    框架控件；在屏幕上显示一个矩形区域，多用来作为容器\n",
    "        Label\t    标签控件；可以显示文本和位图\n",
    "        Listbox\t    列表框控件；在Listbox窗口小部件是用来显示一个字符串列表给用户\n",
    "        Menubutton\t菜单按钮控件，由于显示菜单项。\n",
    "        Menu\t    菜单控件；显示菜单栏,下拉菜单和弹出菜单\n",
    "        Message\t    消息控件；用来显示多行文本，与label比较类似\n",
    "        Radiobutton\t单选按钮控件；显示一个单选的按钮状态\n",
    "        Scale\t    范围控件；显示一个数值刻度，为输出限定范围的数字区间\n",
    "        Scrollbar\t滚动条控件，当内容超过可视化区域时使用，如列表框。.\n",
    "        Text\t    文本控件；用于显示多行文本\n",
    "        Toplevel\t容器控件；用来提供一个单独的对话框，和Frame比较类似\n",
    "        Spinbox\t    输入控件；与Entry类似，但是可以指定输入范围值\n",
    "        PanedWindow\t是一个窗口布局管理的插件，可以包含一个或者多个子控件。\n",
    "        LabelFrame\t是一个简单的容器控件。常用与复杂的窗口布局。\n",
    "        tkMessageBox\t用于显示你应用程序的消息框。\n",
    "- 组件的共同属性   \n",
    "    Dimension\t控件大小；\n",
    "    Color\t控件颜色；\n",
    "    Font\t控件字体；\n",
    "    Anchor\t锚点；\n",
    "    Relief\t控件样式；\n",
    "    Bitmap\t位图；\n",
    "    Cursor\t光标；\n",
    "### 组件的大致使用步骤\n",
    "- 1.创建总面板\n",
    "- 2.创建面板上的各种组件\n",
    "    - 1.指定组建的父组件，即依附关系\n",
    "    - 2.利用相应的属性对组件进行设置\n",
    "    - 3.给组件安排布局\n",
    "- 3.同步骤2相似，创建多个组件\n",
    "- 4.最后，启动总面板的消息循环"
   ]
  },
  {
   "cell_type": "code",
   "execution_count": 27,
   "metadata": {},
   "outputs": [
    {
     "data": {
      "text/plain": [
       "'\\nanchor:          设置按钮中文字的对其方式，相对于按钮的中心位置\\nbackground：     按钮的背景颜色\\nforeground:      按钮的前景色（文字的颜色）\\nborderwidth：    按钮边框宽度\\ncursor：          鼠标在按钮上的样式\\ncommand：        设定按钮点击时触发的函数\\nbitmap:          设置按钮上显示的位图\\nwidth：          按钮的宽度  height\\nstate:           设定按钮的状态\\ntext：           按钮上的文字\\nimage：          按钮上的图片\\n\\n'"
      ]
     },
     "execution_count": 27,
     "metadata": {},
     "output_type": "execute_result"
    }
   ],
   "source": [
    "# label例子\n",
    "import tkinter\n",
    "\n",
    "base = tkinter.Tk()\n",
    "# 负责标题\n",
    "base.wm_title(\"labek test\")\n",
    "lb = tkinter.Label(base, text=\"Python label\")\n",
    "# 给相应的组件指定布局\n",
    "lb.pack()\n",
    "\n",
    "lc = tkinter.Button(lb,text = 'woainni')\n",
    "lc.place()\n",
    "\n",
    "'''\n",
    "anchor:          设置按钮中文字的对其方式，相对于按钮的中心位置\n",
    "background：     按钮的背景颜色\n",
    "foreground:      按钮的前景色（文字的颜色）\n",
    "borderwidth：    按钮边框宽度\n",
    "cursor：          鼠标在按钮上的样式\n",
    "command：        设定按钮点击时触发的函数\n",
    "bitmap:          设置按钮上显示的位图\n",
    "width：          按钮的宽度  height\n",
    "state:           设定按钮的状态\n",
    "text：           按钮上的文字\n",
    "image：          按钮上的图片\n",
    "\n",
    "'''\n",
    "#help(tkinter.Button)"
   ]
  },
  {
   "cell_type": "markdown",
   "metadata": {},
   "source": [
    "### 组件布局\n",
    "- 控制组件的摆放方式\n",
    "- 三种布局：\n",
    "    - pack：按照方位布局\n",
    "    - place：按照坐标布局\n",
    "    - grid:网格布局\n",
    "- pack布局：\n",
    "    - 最简单，代码量少，挨个摆放，默认从上到下\n",
    "    - 通用使用方式：组件对象.pack（设置，，，，，）\n",
    "    - 设置内容有\n",
    "        - side:停靠方式：可选值为LEFT,TOP,RIGHT,TOTTON\n",
    "        - fill:填充方式，X,Y,BOTH,NONE\n",
    "        - expande:yes/no\n",
    "        - anchor:N,E,S,W,CENTER\n",
    "        - ipadx:x方向的内边距\n",
    "        - ipady:y\n",
    "        - padx：x方向外边界\n",
    "        - pady：y方向外边界\n",
    "- grid布局\n",
    "    - 通用使用方式：组件对象.grid(设置，，，，)\n",
    "    - 利用row，column编号，都是从0开始\n",
    "    - sticky：NESW表示上下左右，用来决定组件从哪开始\n",
    "    - 支持ipadx，padx等参数，跟pack函数一样\n",
    "    - 支持rowspan，columnspan，表示跨行，跨咧数量\n",
    "    \n",
    "- place布局\n",
    "    - 明确方位的摆放\n",
    "    - 相对位置布局，分为绝对布局和相对布局，绝对布局使用x，y参数\n",
    "    - 相对布局使用relx，rely，reheight，rewidth"
   ]
  },
  {
   "cell_type": "code",
   "execution_count": 5,
   "metadata": {},
   "outputs": [],
   "source": [
    "# button举例\n",
    "import tkinter\n",
    "baseFrame = tkinter.Tk()\n",
    "baseFrame.wm_title('this is title liu tao created')\n",
    "\n",
    "bn1 = tkinter.Button(baseFrame, text='A')\n",
    "bn1.pack(side=tkinter.LEFT, expand=tkinter.YES, fill=tkinter.Y)\n",
    "\n",
    "b2 = tkinter.Button(baseFrame, text='B')\n",
    "b2.pack(side=tkinter.TOP, expand=tkinter.YES, fill=tkinter.BOTH)\n",
    "\n",
    "b3 = tkinter.Button(baseFrame, text='C')\n",
    "b3.pack(side=tkinter.RIGHT, expand=tkinter.YES, fill=tkinter.NONE)\n",
    "\n",
    "b4 = tkinter.Button(baseFrame, text='D')\n",
    "b4.pack(side=tkinter.LEFT, expand=tkinter.NO, fill=tkinter.Y)\n",
    "\n",
    "b5 = tkinter.Button(baseFrame, text='E')\n",
    "b5.pack(side=tkinter.TOP, expand=tkinter.NO, fill=tkinter.BOTH)\n",
    "\n",
    "b6 = tkinter.Button(baseFrame, text='F')\n",
    "b6.pack(side=tkinter.BOTTOM, expand=tkinter.YES)\n",
    "\n",
    "b7 = tkinter.Button(baseFrame, text='G')\n",
    "b7.pack(anchor=tkinter.SE)\n",
    "\n",
    "baseFrame.mainloop()"
   ]
  },
  {
   "cell_type": "code",
   "execution_count": 8,
   "metadata": {},
   "outputs": [],
   "source": [
    "# Grid实例\n",
    "import tkinter\n",
    "baseFrame = tkinter.Tk()\n",
    "lb1 = tkinter.Label(baseFrame, text='账号：').grid(row=0, sticky= tkinter.S)\n",
    "tkinter.Entry(baseFrame).grid(row=0, column=1, sticky=tkinter.E)\n",
    "\n",
    "lb2 = tkinter.Label(baseFrame, text='密码：').grid(row=1, sticky=tkinter.S)\n",
    "tkinter.Entry(baseFrame).grid(row=1, column=1, sticky=tkinter.E)\n",
    "\n",
    "btn = tkinter.Button(baseFrame, text='登录').grid(row=2, column=1, sticky=tkinter.E)\n",
    "\n",
    "baseFrame.mainloop()"
   ]
  },
  {
   "cell_type": "markdown",
   "metadata": {},
   "source": [
    "### 消息机制\n",
    "- 消息的传递机制\n",
    "    - 自动发出事件/消息\n",
    "    - 消息由系统发送到队列\n",
    "    - 由相关组件进行绑定/设置\n",
    "    - 后端自动选择感兴趣的事件并作出相应反应\n",
    "- 消息格式：\n",
    "    - <[modifier-]---type-[-detail]>\n",
    "    - <Button-1>:button表示一个按钮事件，1代表的是鼠标左键，2代表中建\n",
    "    - <KeyPress-A>:键盘A键位\n",
    "    - <Control-Shift-KeyPress-A>:同时按下control，shift，A三个键位\n",
    "    - <F1>:F键盘\n",
    "    - [键位对应名称]\n",
    "    "
   ]
  },
  {
   "cell_type": "code",
   "execution_count": 1,
   "metadata": {},
   "outputs": [
    {
     "ename": "KeyboardInterrupt",
     "evalue": "",
     "output_type": "error",
     "traceback": [
      "\u001b[1;31m---------------------------------------------------------------------------\u001b[0m",
      "\u001b[1;31mKeyboardInterrupt\u001b[0m                         Traceback (most recent call last)",
      "\u001b[1;32m<ipython-input-1-820775b6d769>\u001b[0m in \u001b[0;36m<module>\u001b[1;34m\u001b[0m\n\u001b[0;32m     12\u001b[0m \u001b[0mlb\u001b[0m\u001b[1;33m.\u001b[0m\u001b[0mpack\u001b[0m\u001b[1;33m(\u001b[0m\u001b[1;33m)\u001b[0m\u001b[1;33m\u001b[0m\u001b[1;33m\u001b[0m\u001b[0m\n\u001b[0;32m     13\u001b[0m \u001b[1;33m\u001b[0m\u001b[0m\n\u001b[1;32m---> 14\u001b[1;33m \u001b[0mbaseFrame\u001b[0m\u001b[1;33m.\u001b[0m\u001b[0mmainloop\u001b[0m\u001b[1;33m(\u001b[0m\u001b[1;33m)\u001b[0m\u001b[1;33m\u001b[0m\u001b[1;33m\u001b[0m\u001b[0m\n\u001b[0m",
      "\u001b[1;32me:\\Users\\acer\\Anaconda3\\lib\\tkinter\\__init__.py\u001b[0m in \u001b[0;36mmainloop\u001b[1;34m(self, n)\u001b[0m\n\u001b[0;32m   1281\u001b[0m     \u001b[1;32mdef\u001b[0m \u001b[0mmainloop\u001b[0m\u001b[1;33m(\u001b[0m\u001b[0mself\u001b[0m\u001b[1;33m,\u001b[0m \u001b[0mn\u001b[0m\u001b[1;33m=\u001b[0m\u001b[1;36m0\u001b[0m\u001b[1;33m)\u001b[0m\u001b[1;33m:\u001b[0m\u001b[1;33m\u001b[0m\u001b[1;33m\u001b[0m\u001b[0m\n\u001b[0;32m   1282\u001b[0m         \u001b[1;34m\"\"\"Call the mainloop of Tk.\"\"\"\u001b[0m\u001b[1;33m\u001b[0m\u001b[1;33m\u001b[0m\u001b[0m\n\u001b[1;32m-> 1283\u001b[1;33m         \u001b[0mself\u001b[0m\u001b[1;33m.\u001b[0m\u001b[0mtk\u001b[0m\u001b[1;33m.\u001b[0m\u001b[0mmainloop\u001b[0m\u001b[1;33m(\u001b[0m\u001b[0mn\u001b[0m\u001b[1;33m)\u001b[0m\u001b[1;33m\u001b[0m\u001b[1;33m\u001b[0m\u001b[0m\n\u001b[0m\u001b[0;32m   1284\u001b[0m     \u001b[1;32mdef\u001b[0m \u001b[0mquit\u001b[0m\u001b[1;33m(\u001b[0m\u001b[0mself\u001b[0m\u001b[1;33m)\u001b[0m\u001b[1;33m:\u001b[0m\u001b[1;33m\u001b[0m\u001b[1;33m\u001b[0m\u001b[0m\n\u001b[0;32m   1285\u001b[0m         \u001b[1;34m\"\"\"Quit the Tcl interpreter. All widgets will be destroyed.\"\"\"\u001b[0m\u001b[1;33m\u001b[0m\u001b[1;33m\u001b[0m\u001b[0m\n",
      "\u001b[1;31mKeyboardInterrupt\u001b[0m: "
     ]
    }
   ],
   "source": [
    "import tkinter\n",
    "def baseLabel(event):\n",
    "    global baseFrame\n",
    "    lb = tkinter.Label(baseFrame, text='谢谢点击')\n",
    "    lb.pack()\n",
    "    \n",
    "# 画出程序的总框架\n",
    "baseFrame = tkinter.Tk()\n",
    "lb = tkinter.Label(baseFrame, text=\"这是按钮\")\n",
    "# label 绑定相应的消息和处理函数\n",
    "lb.bind(\"<Button-1>\", baseLabel)\n",
    "lb.pack()\n",
    "\n",
    "baseFrame.mainloop()"
   ]
  },
  {
   "cell_type": "markdown",
   "metadata": {},
   "source": [
    "### Tkinter的绑定\n",
    "- bind_all:全局范围的绑定，默认的是全局快捷键，比如F1是帮助文档\n",
    "- bind_class:接受三个参数，类名，时间，操作\n",
    "    - w.bind.class(\"Entry\", \"<Control-V>, my_paste>\n",
    "- bind:单独对某一个实例绑定\n",
    "- unbind：解绑，就只需一个需要解绑的事件参数\n",
    "\n",
    "### Entry\n",
    "- 输入框：功能单一\n",
    "- entry[\"show\"] = \"*\"，设置遮挡字符"
   ]
  },
  {
   "cell_type": "markdown",
   "metadata": {},
   "source": [
    "### 菜单\n",
    "### 1.普通菜单\n",
    "- 第一个Menu类定义的是parent\n",
    "- add_command 添加菜单项，如果菜单是顶层菜单，则从左向右添加，否则就是下拉菜单\n",
    "    - label：指定菜单项名称\n",
    "    - command:点击后相应的调用函数\n",
    "    - acceleteor：快捷键\n",
    "    - underline：指定菜单信息下是否有横线\n",
    "    - menu：属性制定使用哪一个作为顶级菜单\n",
    "    "
   ]
  },
  {
   "cell_type": "code",
   "execution_count": 14,
   "metadata": {},
   "outputs": [],
   "source": [
    "# 普通菜单的代码\n",
    "import tkinter\n",
    "baseFrame = tkinter.Tk()\n",
    "menubar = tkinter.Menu(baseFrame)\n",
    "\n",
    "for item in ['File', 'Edit', 'View', 'About', 'Help']:\n",
    "    menubar.add_command(label=item,underline=True)\n",
    "    \n",
    "baseFrame['menu'] = menubar\n",
    "baseFrame.mainloop()"
   ]
  },
  {
   "cell_type": "markdown",
   "metadata": {},
   "source": [
    "# 级联菜单\n",
    "- add_cascade:级联菜单，作用是引出后面的菜单\n",
    "- add_cascade的menu属性：指定把菜单级联到哪个菜单上\n",
    "- label:名称\n",
    "- 过程\n",
    "    - 1.建立menu实例\n",
    "    - 2. add_command\n",
    "    - 3.add_cascade"
   ]
  },
  {
   "cell_type": "code",
   "execution_count": 15,
   "metadata": {},
   "outputs": [],
   "source": [
    "import tkinter\n",
    "baseFrame = tkinter.Tk()\n",
    "\n",
    "menubar = tkinter.Menu(baseFrame)\n",
    "emenu = tkinter.Menu(menubar)\n",
    "for item in['copy', 'past', 'cut']:\n",
    "    emenu.add_command(label=item)\n",
    "for item in ['file', 'edit', 'help']:\n",
    "    menubar.add_cascade(label=item,menu=emenu)\n",
    "    \n",
    "baseFrame['menu'] = menubar\n",
    "baseFrame.mainloop()"
   ]
  },
  {
   "cell_type": "markdown",
   "metadata": {},
   "source": [
    "### 弹出式菜单\n",
    "- 也叫上下文菜单\n",
    "- 实现的大致思路\n",
    "    1.添加各种功能\n",
    "    2.监听鼠标右键\n",
    "    3.如果右键点击，则根据位置判断弹出\n",
    "    4.调用menu的pop方法\n",
    "- add_separator：添加分隔符\n"
   ]
  },
  {
   "cell_type": "code",
   "execution_count": 18,
   "metadata": {},
   "outputs": [],
   "source": [
    "import tkinter\n",
    "def makeLabel():\n",
    "    global baseFrame \n",
    "    tkinter.Label(baseFrame, text=\"I like using python\").pack()\n",
    "    \n",
    "baseFrame = tkinter.Tk()\n",
    "menubar = tkinter.Menu(baseFrame)\n",
    "for x in ['file','help', 'copy','cut']:\n",
    "    menubar.add_separator()\n",
    "    menubar.add_command(label=x)\n",
    "menubar.add_separator()  \n",
    "menubar.add_command(label=\"setting\", command=makeLabel)\n",
    "\n",
    "def pop(event):\n",
    "    # 注意使用event.x和event.x_root的区别\n",
    "    # menubar.post(event.x_root, event.y_root)\n",
    "    menubar.post(event.x_root, event.y_root)\n",
    "    \n",
    "baseFrame.bind(\"<Button-3>\", pop)\n",
    "baseFrame.mainloop()"
   ]
  },
  {
   "cell_type": "markdown",
   "metadata": {},
   "source": [
    "### canvas画布\n",
    "- 可以绘制图形的一个小舞台\n",
    "- 在画布上绘制对象，通常用creat_xxx,xxx=对象类型，例如line，rectangle\n",
    "- 画布的作用是把一定的组件画到画布上显示出来\n",
    "- 每次调用create_xxx都会返回一个创建的组件的ID， 同时也可以用tag属性指定其标签"
   ]
  },
  {
   "cell_type": "code",
   "execution_count": 25,
   "metadata": {},
   "outputs": [],
   "source": [
    "# 简单画布\n",
    "import tkinter\n",
    "baseFrame = tkinter.Tk()\n",
    "cvs = tkinter.Canvas(baseFrame, width=300, height=300)\n",
    "cvs.pack()\n",
    "\n",
    "# 一条线需要两个点指明起始\n",
    "# 参数数字的单位是px\n",
    "cvs.create_line(23,23, 190,234)\n",
    "cvs.create_text(57,67,text=\"I love you\")\n",
    "\n",
    "baseFrame.mainloop()"
   ]
  },
  {
   "cell_type": "code",
   "execution_count": 29,
   "metadata": {},
   "outputs": [],
   "source": [
    "import tkinter\n",
    "baseFrame = tkinter.Tk()\n",
    "\n",
    "def btnClick(event):\n",
    "    global w\n",
    "    w.move(id_ball, 12,5)\n",
    "    w.move(\"fall\", 0,5)\n",
    "    \n",
    "    \n",
    "w = tkinter.Canvas(baseFrame, width=200, height=400)\n",
    "w.pack()\n",
    "w.bind(\"<Button-1>\", btnClick)\n",
    "id_ball = w.create_oval(20,20,50,50,fill=\"yellow\")\n",
    "w.create_text(123,56, fill='red', text=\"I like MaXiaoxiao\",tag=\"fall\")\n",
    "id_rectangle = w.create_rectangle(56,78,173,110, fill='blue')\n",
    "w.addtag_withtag(\"fall\", id_rectangle)\n",
    "\n",
    "baseFrame.mainloop()"
   ]
  },
  {
   "cell_type": "code",
   "execution_count": null,
   "metadata": {},
   "outputs": [],
   "source": []
  }
 ],
 "metadata": {
  "kernelspec": {
   "display_name": "Python 3",
   "language": "python",
   "name": "python3"
  },
  "language_info": {
   "codemirror_mode": {
    "name": "ipython",
    "version": 3
   },
   "file_extension": ".py",
   "mimetype": "text/x-python",
   "name": "python",
   "nbconvert_exporter": "python",
   "pygments_lexer": "ipython3",
   "version": "3.7.3"
  }
 },
 "nbformat": 4,
 "nbformat_minor": 2
}
