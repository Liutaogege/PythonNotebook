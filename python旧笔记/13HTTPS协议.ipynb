{
 "cells": [
  {
   "cell_type": "markdown",
   "metadata": {},
   "source": [
    "# HTTPS\n",
    "\n",
    "- NAT：Network Address Translation\n",
    "    - 解决IP地址不足的问题\n",
    "    - 保护内网不受外部攻击\n",
    "# requests参数\n",
    "    - GET:读取数据\n",
    "    - POST:提交数据，表单提交，文件上传，一般创建新资源或修改资源\n",
    "    - PUT:提交数据，一般用于修改，带条件时是幂等方法\n",
    "    - DELETE:请求删除资源\n",
    "    - HEAD:和GET类似，但是服务器不返回body部分，仅返回头，可查询资源修改日期等\n",
    "    - OPTIONS:服务器返回资源支持的HTTP请求方法\n",
    "## request header\n",
    "    - Accept:能够接受的返回类型\n",
    "    - Accept-Enconding：能够接受的内容编码\n",
    "    - Accept-Language:能够接受的语言类型\n",
    "    - Authorization:客户端认证信息\n",
    "    - Conection：客户端使用的连接类型\n",
    "    - Cookies：保存在该请求下域名的所有cookie值，cookie指某些网站为了辨别用户身份、进行session跟踪而储存在用户本地终端上的数据(通常经过加密)\n",
    "    - Content-Type:request的body部分类型（比如text和HTML）\n",
    "    - Content-Length:body部分长度\n",
    "    - Referer：之前的网页url，可以根据此判断访问来源\n",
    "    - User-Agent:浏览器类型，一般包含名称版本，操作系统等信息\n",
    "    - Upgrade：要求服务器传输协议升级\n",
    "    - X-Forwarded-For：通过代理连接时的原始地址（不是所有都会返回这个值）\n",
    "    - 注意request header可以造假，基本全部都可以造假\n",
    "- 幂等性：一次和多次请求某一个资源应该具有同样的副作用\n",
    "# response参数\n",
    "- 返回状态码含义：\n",
    "    1xx：通知信息\n",
    "    2XX：请求成功\n",
    "    3XX: 重定向，需要后续操作才能完成这一请求\n",
    "    4XX：客户错误\n",
    "    5XX: 服务器错误\n",
    "## response header\n",
    "    - Cache-Control：告诉缓存机制是否可以缓存以及哪种类型\n",
    "    - Connection：连接类型\n",
    "    - Content-Disposition：可以让客户端下载文件并建议文件名\n",
    "    - Content-Encoding：服务器返回内容压缩编码类型\n",
    "    - Content-Length：response body的长度\n",
    "    - Content-Typr：相应的类型\n",
    "    - Location：重定向时，重定向到的网址\n",
    "    - Set-Cookie：设置cookie\n",
    "    - ETag：资源\n",
    "    - Expire：响应过期时间\n",
    "    - Last-Modified：资源最后修改时间\n",
    "    - Date：服务器发出消息的时间\n",
    "    - Refresh：多少秒后重定向到某个网址\n",
    "    - Server：web服务器名称\n",
    "    - Upgrade：协议升级使用，表示已经升级到了什么协议\n",
    "    \n",
    " ### 浏览器同源标准：\n",
    "     - 协议相同\n",
    "     - 域名相同\n",
    "     - 端口相同\n",
    "- CORS:跨资源共享"
   ]
  }
 ],
 "metadata": {
  "kernelspec": {
   "display_name": "Python 3",
   "language": "python",
   "name": "python3"
  },
  "language_info": {
   "codemirror_mode": {
    "name": "ipython",
    "version": 3
   },
   "file_extension": ".py",
   "mimetype": "text/x-python",
   "name": "python",
   "nbconvert_exporter": "python",
   "pygments_lexer": "ipython3",
   "version": "3.7.3"
  }
 },
 "nbformat": 4,
 "nbformat_minor": 2
}
