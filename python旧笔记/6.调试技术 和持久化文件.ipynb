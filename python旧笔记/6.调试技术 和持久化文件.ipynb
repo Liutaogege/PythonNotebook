{
 "cells": [
  {
   "cell_type": "markdown",
   "metadata": {},
   "source": [
    "# 调试技术\n",
    "- 调试流程：单元测试——》集成测试——》交测试部\n",
    "- 调试分类：\n",
    "    - 静态调试：\n",
    "    - 动态调试\n",
    "- pdb调试 ：用的较少\n",
    "# pycharm调试\n",
    "- run/debug调试\n",
    "- 单元测试"
   ]
  },
  {
   "cell_type": "markdown",
   "metadata": {},
   "source": [
    "# 文件\n",
    "- 长久保存信息的一种数据信息集合\n",
    "- 常用操作\n",
    "    - 打开关闭（文件打开就需要关闭）\n",
    "    - 读写内容 \n",
    "    - 查找\n",
    "# open函数\n",
    "- open函数负责打开文件，带有很多参数\n",
    "- 第一个参数：必须有，文件的路径和名称\n",
    "- mode：表明文件用什么方式打开\n",
    "    - r:以只读方式打开\n",
    "    - w：以写方式打开，会覆盖以前的内容\n",
    "    - x: 创建方式打开，如文件以及存在，报错\n",
    "    - a：append方式，以追加方式对文件内容进行写入\n",
    "    - b：binary方式，二进制方式写入\n",
    "    - t：文本方式打开\n",
    "    - +：可读写"
   ]
  },
  {
   "cell_type": "code",
   "execution_count": 2,
   "metadata": {},
   "outputs": [],
   "source": [
    "# 以写方式打开文件，若没有，则创建\n",
    "# 文件打开后最好关闭，需注意"
   ]
  },
  {
   "cell_type": "markdown",
   "metadata": {},
   "source": [
    "# with语句\n",
    "- with语句使用的技术是一种称为上下文管理协议的技术\n",
    "- 自动判断文件的作用域，自动关闭不再使用的打开的文件句柄\n"
   ]
  },
  {
   "cell_type": "code",
   "execution_count": 4,
   "metadata": {},
   "outputs": [
    {
     "data": {
      "text/plain": [
       "'with open() as f:\\n        strline = f.readline()\\n        # 能够保证完整读完文件到结束\\n        while strline:\\n            print(strline)\\n            strline = f.readline()\\n'"
      ]
     },
     "execution_count": 4,
     "metadata": {},
     "output_type": "execute_result"
    }
   ],
   "source": [
    "# 格式：\n",
    "'''with open() as f:\n",
    "        strline = f.readline()\n",
    "        # 能够保证完整读完文件到结束\n",
    "        while strline:\n",
    "            print(strline)\n",
    "            strline = f.readline()\n",
    "'''"
   ]
  },
  {
   "cell_type": "code",
   "execution_count": 5,
   "metadata": {},
   "outputs": [
    {
     "data": {
      "text/plain": [
       "'\\nwith open() as f:\\n    l = list(f)\\n    for line in l:\\n        print(line)\\n'"
      ]
     },
     "execution_count": 5,
     "metadata": {},
     "output_type": "execute_result"
    }
   ],
   "source": [
    "# list能用打开的文件作为参数，把文件内每一行内容作为一个元素\n",
    "'''\n",
    "with open() as f:\n",
    "    l = list(f)\n",
    "    for line in l:\n",
    "        print(line)\n",
    "'''"
   ]
  },
  {
   "cell_type": "code",
   "execution_count": 6,
   "metadata": {},
   "outputs": [
    {
     "data": {
      "text/plain": [
       "'\\nwith open() as f:\\n    strChar = f.read(3)#只读3个\\n        print(strCahr)\\n'"
      ]
     },
     "execution_count": 6,
     "metadata": {},
     "output_type": "execute_result"
    }
   ],
   "source": [
    "# read是安字符读取文件内容，单位是字符\n",
    "# 允许输入参数决定读取几个字符，如果没有制定，从当前位置读取到结束\n",
    "# 否则，从当前位置读取指定个数字符\n",
    "'''\n",
    "with open() as f:\n",
    "    strChar = f.read(3)#只读3个\n",
    "        print(strCahr)\n",
    "'''"
   ]
  },
  {
   "cell_type": "markdown",
   "metadata": {},
   "source": [
    "# seek(offset, from)\n",
    "- 移动文件的读取位置，也叫读取指针。offset是偏移量\n",
    "- from的取值范围：\n",
    "    - 0：从文件有开始偏移\n",
    "    - 1：从文件当前位置开始偏移\n",
    "    - 2： 从文件末尾开始偏移\n",
    "- 偏移量的单位是字节\n"
   ]
  },
  {
   "cell_type": "code",
   "execution_count": 9,
   "metadata": {},
   "outputs": [
    {
     "name": "stdout",
     "output_type": "stream",
     "text": [
      "风萧萧\n",
      "兮易水\n",
      "寒\n",
      "壮\n",
      "士一去\n",
      "兮不复\n",
      "还\n",
      "潇\n",
      "潇暮雨\n",
      "子规啼\n",
      "\n",
      "闻道\n",
      "龙标过\n",
      "五溪\n",
      "\n",
      "我寄愁\n",
      "心与明\n",
      "月\n",
      "随\n",
      "风直到\n",
      "夜郎西\n"
     ]
    }
   ],
   "source": [
    "import os\n",
    "import time\n",
    "os.chdir(r\"C:\\Users\\acer\\Desktop\")\n",
    "with open(r\"123.txt\",'r') as f:\n",
    "    strChar = f.read(3)#只读3个\n",
    "    while strChar:\n",
    "        print(strChar)\n",
    "        time.sleep(1)\n",
    "        strChar = f.read(3)"
   ]
  },
  {
   "cell_type": "code",
   "execution_count": 12,
   "metadata": {},
   "outputs": [
    {
     "name": "stdout",
     "output_type": "stream",
     "text": [
      "6\n",
      "风萧萧\n",
      "12\n",
      "兮易水\n",
      "18\n",
      "寒\n",
      "壮\n",
      "24\n",
      "士一去\n",
      "30\n",
      "兮不复\n",
      "36\n",
      "还\n",
      "潇\n",
      "42\n",
      "潇暮雨\n",
      "48\n",
      "子规啼\n",
      "54\n",
      "\n",
      "闻道\n",
      "60\n",
      "龙标过\n",
      "66\n",
      "五溪\n",
      "\n",
      "72\n",
      "我寄愁\n",
      "78\n",
      "心与明\n",
      "84\n",
      "月\n",
      "随\n",
      "90\n",
      "风直到\n",
      "96\n",
      "夜郎西\n"
     ]
    }
   ],
   "source": [
    "# tell函数：用来显示文件读写指针的当前位置\n",
    "with open(r\"123.txt\",'r') as f:\n",
    "    strChar = f.read(3)#只读3个\n",
    "    pos = f.tell()\n",
    "    while strChar:\n",
    "        print(pos)\n",
    "        print(strChar)\n",
    "        time.sleep(1)\n",
    "        strChar = f.read(3)\n",
    "        pos = f.tell()\n",
    "# 结果说明tell是以字节为单位的"
   ]
  },
  {
   "cell_type": "markdown",
   "metadata": {},
   "source": [
    "# 文件的写操作-write\n",
    "- write（str）：把字符串写入文件，只能写入字符串\n",
    "- writelines（str）：把字符串按行写入文件，参数可以是字符串也可是字符序列\n",
    "- "
   ]
  },
  {
   "cell_type": "code",
   "execution_count": 16,
   "metadata": {},
   "outputs": [],
   "source": [
    "# a代表追加方式打开\n",
    "with open(r\"123.txt\",'a') as f:\n",
    "    f.write(\"/n life is full with  happiness just find it \")"
   ]
  },
  {
   "cell_type": "code",
   "execution_count": 17,
   "metadata": {},
   "outputs": [],
   "source": [
    "l = ['love','ma','xiao', 'xiao']\n",
    "with open(r\"123.txt\",'a') as f:\n",
    "    f.writelines(l)"
   ]
  },
  {
   "cell_type": "markdown",
   "metadata": {},
   "source": [
    "# \\持久化 - pickle\n",
    "- 序列化（持久化，落地）：把程序运行中的信息保存在磁盘的行\n",
    "- 反序列化：序列化的逆过程\n",
    "- pickle:python提供的序列化模块\n",
    "- pickle.dump:序列化\n",
    "- pickle.load:反序列化"
   ]
  },
  {
   "cell_type": "code",
   "execution_count": 19,
   "metadata": {},
   "outputs": [],
   "source": [
    "import pickle \n",
    "age = 19\n",
    "with open(r\"123.txt\",'wb') as f:\n",
    "    pickle.dump(age, f)"
   ]
  },
  {
   "cell_type": "code",
   "execution_count": 21,
   "metadata": {},
   "outputs": [
    {
     "name": "stdout",
     "output_type": "stream",
     "text": [
      "19\n"
     ]
    }
   ],
   "source": [
    "import pickle \n",
    "with open(r\"123.txt\",'rb') as f:\n",
    "    pickle.load(f)\n",
    "    print(age)"
   ]
  },
  {
   "cell_type": "code",
   "execution_count": 22,
   "metadata": {},
   "outputs": [],
   "source": [
    "a = [14,'I','love','maxiaoxiao']\n",
    "with open(r\"123.txt\",'wb') as f:\n",
    "    pickle.dump(a, f)"
   ]
  },
  {
   "cell_type": "code",
   "execution_count": 23,
   "metadata": {},
   "outputs": [
    {
     "name": "stdout",
     "output_type": "stream",
     "text": [
      "[14, 'I', 'love', 'maxiaoxiao']\n"
     ]
    }
   ],
   "source": [
    "with open(r\"123.txt\",'rb') as f:\n",
    "    pickle.load(f)\n",
    "    print(a)"
   ]
  },
  {
   "cell_type": "markdown",
   "metadata": {},
   "source": [
    "# 持久化- shelve\n",
    "- 持久化工具\n",
    "- 类似字典，用kb对保存数据，存取方式跟字典类似\n",
    "- open，close"
   ]
  },
  {
   "cell_type": "code",
   "execution_count": 25,
   "metadata": {},
   "outputs": [],
   "source": [
    "# 使用shelve创建文件并使用\n",
    "import shelve\n",
    "\n",
    "shv = shelve.open(r'shv.db')\n",
    "shv['ove'] = 1\n",
    "shv['two'] = 2\n",
    "shv['three'] = 3\n",
    "shv.close()\n",
    "# shelve自动创建的不仅仅是一个shv。db文件，还包括其他文件"
   ]
  },
  {
   "cell_type": "code",
   "execution_count": 28,
   "metadata": {},
   "outputs": [
    {
     "name": "stdout",
     "output_type": "stream",
     "text": [
      "2\n",
      "3\n"
     ]
    }
   ],
   "source": [
    "# shelve 读取\n",
    "\n",
    "shv = shelve.open(r\"shv.db\")\n",
    "try:\n",
    "    print(shv['two'])\n",
    "    print(shv['three'])\n",
    "finally:\n",
    "    shv.close()\n",
    "# try保证无论是否允许成功，最终都要关闭"
   ]
  },
  {
   "cell_type": "markdown",
   "metadata": {},
   "source": [
    "# shelve特性\n",
    "-　不支持多个应用并行写入\n",
    "    -　为了解决这个问题，ｏｐｅｎ的时候可以使用flag=r\n",
    "- 写回问题\n",
    "    - shelve在写入装态下不会等待持久化对象进行任何修改\n",
    "    - 解决方法：强制写回"
   ]
  },
  {
   "cell_type": "code",
   "execution_count": 30,
   "metadata": {},
   "outputs": [
    {
     "name": "stdout",
     "output_type": "stream",
     "text": [
      "2\n",
      "3\n"
     ]
    }
   ],
   "source": [
    "shv = shelve.open(r\"shv.db\",writeback = True)\n",
    "try:\n",
    "    print(shv['two'])\n",
    "    print(shv['three'])\n",
    "finally:\n",
    "    shv.close()"
   ]
  },
  {
   "cell_type": "code",
   "execution_count": null,
   "metadata": {},
   "outputs": [],
   "source": [
    "with shelve.open(r\"shv.db\") as shv:\n",
    "    print(shv)"
   ]
  }
 ],
 "metadata": {
  "kernelspec": {
   "display_name": "Python 3",
   "language": "python",
   "name": "python3"
  },
  "language_info": {
   "codemirror_mode": {
    "name": "ipython",
    "version": 3
   },
   "file_extension": ".py",
   "mimetype": "text/x-python",
   "name": "python",
   "nbconvert_exporter": "python",
   "pygments_lexer": "ipython3",
   "version": "3.7.3"
  }
 },
 "nbformat": 4,
 "nbformat_minor": 2
}
