{
 "cells": [
  {
   "cell_type": "markdown",
   "metadata": {},
   "source": [
    "# 模块\n",
    "- 一个模块就是一个包含python代码的文件，后缀名是.py就可以\n",
    "## 如何定义模块\n",
    "    - 模块就是一个普通文件，所以任何代码都可以直接书写\n",
    "    - 不过根据模块的规范，最好在模块中编写以下内容\n",
    "        - 函数（单一功能）\n",
    "        - 类（相似功能的组合）\n",
    "        - 测试代码\n",
    "## 如何使用模块\n",
    "    - 模块直接导入\n",
    "        - 加入导入的模块是以数字命名开头的，需要借助importlib\n",
    "            - 比如 import importlib\n",
    "                   rename = importlib.impor_module(\"01\")  （实际上就是重命名）\n",
    "    - 语法（导入文件名即可）\n",
    "    - from panads import * 表示导入模块所有内容\n",
    "    - if __name__ == \"__main__\":  (此判断作为作为程序的入口，可以有效避免代码被被动执行的问题\n",
    "    - 建议所有程序都已次程序代码作为入口\n",
    "    \n",
    "# 模块的搜索路径和存储\n",
    "- 系统默认的模块搜索路径\n",
    "        import sys \n",
    "        sys.path 属性可以获取路径列表\n",
    "- 添加搜索路径\n",
    "        sys.path.append(dir)\n",
    "- 模块的加载顺序\n",
    "    1.搜索内存中已经加载好的模块\n",
    "    2.搜索python的内置模块\n",
    "    3. 搜索sys.path路径\n",
    "    \n",
    "\n",
    "    "
   ]
  },
  {
   "cell_type": "markdown",
   "metadata": {},
   "source": [
    "# 包（包就是一个文件夹，必须要有__init__.py文件）\n",
    "- 一整组织管理代码的方式，包里面存放的就是模块\n",
    "- 自定义包的结构\n",
    "        /- - - 包\n",
    "        /- - / - - - __init__.py 包的标志文件\n",
    "        /- - / - - - 模块1 \n",
    "        /- - / - = - 模块2\n",
    "        /- - / - - 子包（子文件夹）\n",
    "        /- - / - - - __init__.py 包的标志文件\n",
    "        /- - / - - /- - 子包模块1\n",
    "        /- - / - - /- - 子包模块2\n",
    "- 包的导入操作\n",
    "    - import package_name\n",
    "        - 直接导入一个包，可以使用__init__.py中的内容\n",
    "            package_name.fun_name\n",
    "            package_name.class_name .func_name()\n",
    "        - 此种方式的访问内容是\n",
    "    - import package_name as p\n",
    "        - 注意此种方法是默认对__init__;py内容的导入\n",
    "    - import package.module\n",
    "        - 导入保重某一个具体的模块\n",
    "        - 使用方法\n",
    "                package.module.func_name\n",
    "                package.module.class.fun()\n",
    "                package.module.class.var\n",
    "    - import package.module as -m\n",
    "- from ... import 导入\n",
    "    - from package_name import module1,module2....(此种方法不执行__init__.py的内容\n",
    "- from package_naem imort *\n",
    "    - 导入当前包（导入的是__init__.py中的所有文件）\n",
    "    - 使用方法\n",
    "- from package.module import * \n",
    "     - 导入指定模块中的所有文件\n",
    "- 在开发环境中经常会使用其他包，可以在当前包中直接导入其他模块中的内容\n",
    "    - import 完整的包或者模块的路径\n",
    "- '__all__'的用法（不是函数,写入__init__.py文件）\n",
    "    - 在使用from package import * 的时候，* 可以导入的内容\n",
    "    - ‘__init__.py’中如果文件维克多，或者没有‘__all__’,那么只可以把‘__init__’中的内容导入\n",
    "    - ‘__init__’如果设置了‘__all__的值’，那么则按照‘__all__’指定的包或者模块进行加载，如此则不会载入‘__init__’中的内容\n",
    "    - ‘__all__’ = ['moddlel','module2',...]"
   ]
  },
  {
   "cell_type": "code",
   "execution_count": null,
   "metadata": {},
   "outputs": [],
   "source": [
    "# 命名空间\n",
    "- 用于区分不同位置不同功能但相同名称的函数或者变量的一个特定前缀\n",
    "- 作用防止命名冲突\n",
    "            setName()\n",
    "            Students.setName()"
   ]
  },
  {
   "cell_type": "code",
   "execution_count": null,
   "metadata": {},
   "outputs": [],
   "source": []
  }
 ],
 "metadata": {
  "kernelspec": {
   "display_name": "Python 3",
   "language": "python",
   "name": "python3"
  },
  "language_info": {
   "codemirror_mode": {
    "name": "ipython",
    "version": 3
   },
   "file_extension": ".py",
   "mimetype": "text/x-python",
   "name": "python",
   "nbconvert_exporter": "python",
   "pygments_lexer": "ipython3",
   "version": "3.7.3"
  }
 },
 "nbformat": 4,
 "nbformat_minor": 2
}
