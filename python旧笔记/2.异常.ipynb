{
 "cells": [
  {
   "cell_type": "markdown",
   "metadata": {},
   "source": [
    "# 异常\n",
    "- 异常是一个类，可以处理和使用\n",
    "# 异常处理\n",
    "- 语法如下：\n",
    "            try：\n",
    "                语句\n",
    "            except: \n",
    "                处理方法1\n",
    "            except:\n",
    "                处理方法2\n",
    "            else：\n",
    "                没出差错就会执行的语句\n",
    "            finally:\n",
    "                不管出不出错都执行\n",
    "            （except必须执行一个，else和finally选一个）\n",
    "                "
   ]
  },
  {
   "cell_type": "code",
   "execution_count": null,
   "metadata": {},
   "outputs": [],
   "source": [
    "# 示例\n",
    "try :\n",
    "    num = int(input('please input your number'))\n",
    "    rst = 1/num\n",
    "    print(\"计算结果是：{}\".format(rst))\n",
    "# 捕获异常后，把异常实例化，出错信息汇总实例化里面\n",
    "# 一下语句是捕获ZeroDivisionError异常并实例化为e\n",
    "except ZeroDivisionError as e:\n",
    "    print('you entered a wrong number')\n",
    "    print(e)\n",
    "    exit()\n",
    "# 如果是多种error的情况，需要把越具体的错误，越往前放,\n",
    "# 在处理异常的时候，一旦拦截到某一个异常，则不继续往下看，直接进行下一个，如果有finally语句，则执行\n",
    "#  所有异常都是继承自Exception类，可拦截任何异常\n"
   ]
  },
  {
   "cell_type": "markdown",
   "metadata": {},
   "source": [
    "# 用户手动引发异常\n",
    "- 当某些情况，用户希望自己引发一个异常的时候，可以使用\n",
    "- raise 关键字引发异常\n"
   ]
  },
  {
   "cell_type": "code",
   "execution_count": 1,
   "metadata": {},
   "outputs": [
    {
     "name": "stdout",
     "output_type": "stream",
     "text": [
      "i love you \n",
      "89\n",
      "ValueError\n",
      "over\n"
     ]
    }
   ],
   "source": [
    "# raise 案例\n",
    "try:\n",
    "    print('i love you ')\n",
    "    print(89)\n",
    "    # 手动引发一个异常，注意语法\n",
    "    raise ValueError\n",
    "    print(\"还饿了\")\n",
    "except NameError as e:\n",
    "    print(\"NameError\")\n",
    "except ValueError as e:\n",
    "    print(\"ValueError\")\n",
    "finally:\n",
    "    print(\"over\")\n"
   ]
  },
  {
   "cell_type": "code",
   "execution_count": 4,
   "metadata": {},
   "outputs": [
    {
     "name": "stdout",
     "output_type": "stream",
     "text": [
      "i love you \n",
      "89\n",
      "I am IamError\n",
      "我肯定会被执行over\n"
     ]
    }
   ],
   "source": [
    "# raise 自定义异常，需要注意自定义异常四系统异常的子类\n",
    "class IamError(ValueError):\n",
    "    pass\n",
    "try:\n",
    "    print('i love you ')\n",
    "    print(89)\n",
    "    # 手动引发一个异常，注意语法\n",
    "    raise IamError\n",
    "    print(\"还饿了\")\n",
    "except NameError as e:\n",
    "    print(\"NameError\")\n",
    "except IamError as e:\n",
    "    print(\"I am IamError\")\n",
    "except ValueError as e:\n",
    "    print(\"ValueError\")\n",
    "finally:\n",
    "    print(\"我肯定会被执行over\")\n"
   ]
  },
  {
   "cell_type": "code",
   "execution_count": null,
   "metadata": {},
   "outputs": [],
   "source": [
    "# 关于自定义异常\n",
    "- 只要是raise异常，则推荐自定义异常\n",
    "- 在自定义异常的时候，一般包含以下内容；\n",
    "    - 自定义发生异常的异常代码\n",
    "    - 自定义发生异常后的问题提示\n",
    "    - 自定义发生异常的行数\n",
    "- 最终目的是，一旦发生异常，方便程序员快速定位错误\n"
   ]
  }
 ],
 "metadata": {
  "kernelspec": {
   "display_name": "Python 3",
   "language": "python",
   "name": "python3"
  },
  "language_info": {
   "codemirror_mode": {
    "name": "ipython",
    "version": 3
   },
   "file_extension": ".py",
   "mimetype": "text/x-python",
   "name": "python",
   "nbconvert_exporter": "python",
   "pygments_lexer": "ipython3",
   "version": "3.7.3"
  }
 },
 "nbformat": 4,
 "nbformat_minor": 2
}
