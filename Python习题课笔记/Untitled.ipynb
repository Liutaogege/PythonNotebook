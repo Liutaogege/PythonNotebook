{
 "cells": [
  {
   "cell_type": "code",
   "execution_count": 32,
   "metadata": {},
   "outputs": [
    {
     "name": "stdout",
     "output_type": "stream",
     "text": [
      "全排列完成\n",
      "['a', 'b', 'c']\n",
      "全排列完成\n",
      "['a', 'c', 'b']\n",
      "全排列完成\n",
      "['a', 'c']\n",
      "全排列完成\n",
      "['b', 'a', 'c']\n",
      "全排列完成\n",
      "['b', 'c', 'a']\n",
      "全排列完成\n",
      "['b', 'c']\n",
      "全排列完成\n",
      "['c', 'a', 'b']\n",
      "全排列完成\n",
      "['c', 'b', 'a']\n",
      "全排列完成\n",
      "['c', 'b']\n",
      "全排列完成\n",
      "['c']\n"
     ]
    }
   ],
   "source": [
    "def full_arrange(left, right):\n",
    "    if len(left) > 0:\n",
    "        for item in left:\n",
    "            new_right = right + [item]\n",
    "            new_left = [x for x in left if x!=item]\n",
    "            full_arrange(new_left, new_right)\n",
    "        else:\n",
    "            print(\"全排列完成\")\n",
    "            print(new_right)\n",
    "def decfun(l):\n",
    "    return full_arrange(l, [])\n",
    "decfun(['a', 'b', 'c'])"
   ]
  },
  {
   "cell_type": "code",
   "execution_count": 4,
   "metadata": {},
   "outputs": [
    {
     "name": "stdout",
     "output_type": "stream",
     "text": [
      "排列完成\n",
      "['we', 'love', 'you']\n",
      "排列完成\n",
      "['we', 'you', 'love']\n",
      "排列完成\n",
      "['love', 'we', 'you']\n",
      "排列完成\n",
      "['love', 'you', 'we']\n",
      "排列完成\n",
      "['you', 'we', 'love']\n",
      "排列完成\n",
      "['you', 'love', 'we']\n"
     ]
    }
   ],
   "source": [
    "def fullarrange(left, right):\n",
    "    if len(left) > 0:\n",
    "        for item in left:\n",
    "            new_right = right + [item]\n",
    "            new_left = [x for x in left if x!=item]\n",
    "            fullarrange(new_left, new_right)\n",
    "    else:\n",
    "        print(\"排列完成\")\n",
    "        print(right)\n",
    "def result(l):\n",
    "    return fullarrange(l, [])\n",
    "\n",
    "result(['we', 'love', 'you'])"
   ]
  },
  {
   "cell_type": "code",
   "execution_count": 9,
   "metadata": {},
   "outputs": [
    {
     "name": "stdout",
     "output_type": "stream",
     "text": [
      "请输入你的数字（0-100整数）:op\n",
      "请输入整数\n",
      "请输入你的数字（0-100整数）:56\n",
      "你输入的数字小了，请重新输入\n",
      "请输入你的数字（0-100整数）:88\n",
      "恭喜你，回答正确\n"
     ]
    }
   ],
   "source": [
    "a = 0\n",
    "while a != 88:\n",
    "    try:\n",
    "        a = int(float(input(\"请输入你的数字（0-100整数）:\")))\n",
    "        if( a == 88):\n",
    "            print(\"恭喜你，回答正确\")\n",
    "            break\n",
    "        if(a > 88):\n",
    "            print(\"你输入的数字大了，请重新输入\")\n",
    "        else:\n",
    "            print(\"你输入的数字小了，请重新输入\")\n",
    "    except:\n",
    "        print(\"请输入整数\")\n",
    "        continue"
   ]
  },
  {
   "cell_type": "code",
   "execution_count": 21,
   "metadata": {},
   "outputs": [
    {
     "name": "stdout",
     "output_type": "stream",
     "text": [
      "1 * 1 = 1  \n",
      "1 * 2 = 2  2 * 2 = 4  \n",
      "1 * 3 = 3  2 * 3 = 6  3 * 3 = 9  \n",
      "1 * 4 = 4  2 * 4 = 8  3 * 4 = 12  4 * 4 = 16  \n",
      "1 * 5 = 5  2 * 5 = 10  3 * 5 = 15  4 * 5 = 20  5 * 5 = 25  \n",
      "1 * 6 = 6  2 * 6 = 12  3 * 6 = 18  4 * 6 = 24  5 * 6 = 30  6 * 6 = 36  \n",
      "1 * 7 = 7  2 * 7 = 14  3 * 7 = 21  4 * 7 = 28  5 * 7 = 35  6 * 7 = 42  7 * 7 = 49  \n",
      "1 * 8 = 8  2 * 8 = 16  3 * 8 = 24  4 * 8 = 32  5 * 8 = 40  6 * 8 = 48  7 * 8 = 56  8 * 8 = 64  \n",
      "1 * 9 = 9  2 * 9 = 18  3 * 9 = 27  4 * 9 = 36  5 * 9 = 45  6 * 9 = 54  7 * 9 = 63  8 * 9 = 72  9 * 9 = 81  \n"
     ]
    }
   ],
   "source": [
    "i = j = 1\n",
    "while i < 10:\n",
    "    while j <= i:\n",
    "        print(\"%s * %s = %s\"%(j, i, i*j), end=\"  \")\n",
    "        j += 1\n",
    "    i += 1\n",
    "    j = 1\n",
    "    print()"
   ]
  },
  {
   "cell_type": "code",
   "execution_count": 24,
   "metadata": {},
   "outputs": [
    {
     "name": "stdout",
     "output_type": "stream",
     "text": [
      "请输入你的数字（整数）:88\n",
      "恭喜你，回答正确\n"
     ]
    }
   ],
   "source": [
    "while True:\n",
    "    try:\n",
    "        a = int(float(input(\"请输入你的数字（整数）:\")))\n",
    "        if( a == 88):\n",
    "            print(\"恭喜你，回答正确\")\n",
    "            break\n",
    "        if(a > 88):\n",
    "            print(\"你输入的数字大了，请重新输入\")\n",
    "        if(a < 88):\n",
    "            print(\"你输入的数字小了，请重新输入\")\n",
    "    except:\n",
    "        print(\"请输入整数\")"
   ]
  },
  {
   "cell_type": "code",
   "execution_count": 25,
   "metadata": {},
   "outputs": [
    {
     "ename": "SyntaxError",
     "evalue": "'return' outside function (<ipython-input-25-2033b289a7f6>, line 3)",
     "output_type": "error",
     "traceback": [
      "\u001b[1;36m  File \u001b[1;32m\"<ipython-input-25-2033b289a7f6>\"\u001b[1;36m, line \u001b[1;32m3\u001b[0m\n\u001b[1;33m    return\u001b[0m\n\u001b[1;37m    ^\u001b[0m\n\u001b[1;31mSyntaxError\u001b[0m\u001b[1;31m:\u001b[0m 'return' outside function\n"
     ]
    }
   ],
   "source": [
    "for i in range(10):\n",
    "    if i == 5:\n",
    "        return"
   ]
  }
 ],
 "metadata": {
  "kernelspec": {
   "display_name": "Python 3",
   "language": "python",
   "name": "python3"
  },
  "language_info": {
   "codemirror_mode": {
    "name": "ipython",
    "version": 3
   },
   "file_extension": ".py",
   "mimetype": "text/x-python",
   "name": "python",
   "nbconvert_exporter": "python",
   "pygments_lexer": "ipython3",
   "version": "3.7.3"
  }
 },
 "nbformat": 4,
 "nbformat_minor": 2
}
