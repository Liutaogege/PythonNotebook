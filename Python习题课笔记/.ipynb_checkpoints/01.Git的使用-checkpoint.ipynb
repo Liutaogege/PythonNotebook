{
 "cells": [
  {
   "cell_type": "markdown",
   "metadata": {},
   "source": [
    "# Git的使用\n",
    "- 整体流程：工作区add到缓存区再commit到仓库，一旦对文件进行修改或删除，则要逐级进行修改或删除\n",
    "        git init:初始化仓库： \n",
    "        git clone 远程仓库地址： 克隆远程仓库地址，一般来说都需要这步操作\n",
    "        \n",
    "        git add :向暂存区添加内容\n",
    "        git commit -m \"message for desc\":向仓库提交内容，一般注释信息是要求强制添加\n",
    "        git remote add 远程仓库地址：  连接远程仓库\n",
    "        git push   提交本地仓库到远程仓库（如果冲突，尝试git pull）\n",
    "        git status:显示当前状态，若有文件修改，则会有相应的提示\n",
    "          - 若想查看文件修改的具体情况：git diff 文件名\n",
    "\n",
    "        git config --global user.name \"Your Name\"\n",
    "        git config --global user.email \"email@example.com\"\n",
    "        配置用户名和邮箱，\n",
    "        --global表示你这台机器上所有的Git仓库都会使用这个配置\n",
    "\n",
    "        git config --system --unset credential.helper:清除本地保存的用户名和密码\n",
    "        git config credential.helper store：保存用户名和密码到本地\n",
    "        git rm 文件：删除\n",
    "        git log：查看日志,可以查出哪个人对仓库做了什么操作，相当于历史记录，然后用reset可以回到这个历史\n",
    "            - 若日志太多，可以用 git log --pretty=oneline 语句进行精简\n",
    "            - 若从新版本回到旧版本后有后悔了，则可以使用 git reflog, 得到你每一次的命令，然后根据版本后又可以回到未来的版本\n",
    "\n",
    "        git reset --hard 版本号:回到之前的状态\n",
    "        git remote -v:用于 查看目前有哪些远程仓库，\n",
    "        git remote rm [仓库名]  删除远程仓库\n",
    "        git checkout -- 文件：意思就是文件在工作区的修改全部撤销，这里有两种情况：\n",
    "          - 一种是文件自修改后还没有被放到暂存区，现在，撤销修改就回到和版本库一模一样的状态；\n",
    "          - 一种是文件已经添加到暂存区后，又作了修改，现在，撤销修改就回到添加到暂存区后的状态。\n",
    "\n",
    "        git branch：查看当前分支。带*是当前分支。\n",
    "            - git branch <branch-name>：新建一个分支。\n",
    "            - git branch -d <branch-name>：删除一个分支。\n",
    "        git checkout <branch-name>：切换到指定分支。\n",
    "            - git checkout -b dev  新建一个分支并切换到该分支\n",
    "        git checkout master(默认主分支名),切换回主分支后：git merge 分支名\n",
    "\n",
    "        github and Bitbuckets\n",
    "          - 如何上传文件到GitHub：\n",
    "                  git init\n",
    "                  git clone 远程仓库地址  \n",
    "                  git add REANME.md\n",
    "                  git commit -m \"first.commit\"\n",
    "                  git remote add origin https:你的GitHub网址\n",
    "                  git push -u origin master\n",
    "        bitbukets:私有的，创建方法类似\n",
    "           - 克隆仓库到本地：git clone httPs:你的bitbukets网址"
   ]
  },
  {
   "cell_type": "code",
   "execution_count": null,
   "metadata": {},
   "outputs": [],
   "source": []
  }
 ],
 "metadata": {
  "kernelspec": {
   "display_name": "Python 3",
   "language": "python",
   "name": "python3"
  },
  "language_info": {
   "codemirror_mode": {
    "name": "ipython",
    "version": 3
   },
   "file_extension": ".py",
   "mimetype": "text/x-python",
   "name": "python",
   "nbconvert_exporter": "python",
   "pygments_lexer": "ipython3",
   "version": "3.7.3"
  }
 },
 "nbformat": 4,
 "nbformat_minor": 2
}
