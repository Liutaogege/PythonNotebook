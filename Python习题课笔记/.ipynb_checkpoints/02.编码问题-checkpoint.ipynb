{
 "cells": [
  {
   "cell_type": "markdown",
   "metadata": {},
   "source": [
    "# 编码表示方法\n",
    "- ASCII编码\n",
    "    - 所有控制字符（包括回车，删除等）编码在0-31范围以及127\n",
    "    - 所有标点符号，英文大小写放在126之间\n",
    "    - 预留128-255之间位置\n",
    "    - 0xxx xxxx是它的的编码形式\n",
    "- GBxxxxx\n",
    "    - GB2312\n",
    "        - 如果一个字节中第一位为0，那么他就是一个ASCII字符\n",
    "        - 如果一个字节中第一位为1，那么这个就是汉字，认定2个字节才表示一个编码\n",
    "        - 包含6763个汉字和682个非汉字图形字符\n",
    "        - 1xxxxxxx 1xxxxxxx 表示汉字\n",
    "- Unicode编码\n",
    "    - 只是一个码表，具体实现没有规定\n",
    "    - 0-0x10FFFF来映射这些字符，最多可以容纳1114112个字符\n",
    "    - 中文的编码范围是4E00-9FCF,其中9FC4-9FCF之间的区间没有使用\n",
    "    - 上述区间全部是汉字，不包含全角字符，不包含特殊文字\n",
    "    - UTF=UnicodeTransformationFormat\n",
    "    - UTF-8\n",
    "        0x0000-0x007F(0-127):    1字节  0xxxxxxx\n",
    "        0x0080-0x07FF(128-2047)  2字节 110xxxxx 10xxxxxx \n",
    "        0x0800-FFFF(2048-65535)  3字节 1110xxxx 10xxxxxx 10xxxxxx \n",
    "        0x10000-1FFFFFF(65536-2097152)  4字节 11110xxx 10xxxxxx 10xxxxxx 10xxxxxx \n",
    "        0X2000000-0x3FFFFFF  5字节 111110xx 10xxxxxx 10xxxxxx 10xxxxxx 10xxxxxx \n",
    "        0x4000000-0x7FFFFFFF 6字节 1111110x 10xxxxxx 10xxxxxx 10xxxxxx 10xxxxxx 10xxxxxx \n",
    "        \n",
    "- UTF-16, UTF-32\n",
    "    - utf-16 Unicode早期历史遗留问题\n",
    "    - utf-32 浪费空间\n",
    "- UCS-4\n",
    "    - 第一个字节：表示组（group），足高位为0，则有128\n",
    "    - 第二个字节：表示平面，256个\n",
    "    - 第三个字节：表示行，256个\n",
    "    - 第四个字节：表示码位，256个\n",
    "    - 如果UCS-4前两个字节为0，则就是UCS-2\n",
    "    \n",
    "# 常用概念\n",
    "- 编码/解码：字符串编成字节流（bytes），称为编码，字节流变为字符串称为解码\n",
    "- 大尾和小尾：\n",
    "    - 字节存放有大尾和小尾之分。如果对应数据的高字节存放在低地址就是大尾，反之，高字节存放在高地址的就是小尾。\n",
    "    - 0x12为大尾，120x为小尾\n",
    "- BOM:\n",
    "    - UTF-8没有字节顺序问题\n",
    "    - UTF-Q6会出现问题\n",
    "    - BOM-ByterOrderMark\n",
    "        - \"ZERO WIDTH NO-BREAK SPACE\" ->FEFE,在ucs中不存在\n",
    "        - FEFE->上面这句话意思是指下面的编码模式都是大尾模式\n",
    "        - FFFE->小尾模式\n",
    "        - UTF-8用来表示编码，FEFE的UTF-8编码是FE BB BF\n",
    "            用来表示此后的编码是UTF-8编码\n",
    "- Python编码问题\n",
    "- str\n",
    "- bytes\n",
    "- bytearray"
   ]
  }
 ],
 "metadata": {
  "kernelspec": {
   "display_name": "Python 3",
   "language": "python",
   "name": "python3"
  },
  "language_info": {
   "codemirror_mode": {
    "name": "ipython",
    "version": 3
   },
   "file_extension": ".py",
   "mimetype": "text/x-python",
   "name": "python",
   "nbconvert_exporter": "python",
   "pygments_lexer": "ipython3",
   "version": "3.7.3"
  }
 },
 "nbformat": 4,
 "nbformat_minor": 2
}
