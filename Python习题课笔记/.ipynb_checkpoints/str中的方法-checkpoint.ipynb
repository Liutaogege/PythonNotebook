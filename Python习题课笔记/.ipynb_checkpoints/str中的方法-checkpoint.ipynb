{
 "cells": [
  {
   "cell_type": "markdown",
   "metadata": {},
   "source": [
    "# isdigit\\isdecimal\\isnumeric的区别\n",
    "- isdigit:\n",
    "        - True:unicode数字，byte数字（单字节），全角数字（双字节）\n",
    "        - False：汉字数字，罗马数字，小数\n",
    "        - Error：无\n",
    "- isdecimal：\n",
    "    - True：Unicode数字，全角数字（双字节）\n",
    "    - False：罗马数字，汉字数字，小数\n",
    "    - Error：byte数字（单字节）\n",
    "\n",
    "- isnumeric:\n",
    "    - True:Unicode数字，全角数字（双字节），罗马数字，汉字数字\n",
    "    - False：小数\n",
    "    - Error：byte数字（单字节）"
   ]
  },
  {
   "cell_type": "code",
   "execution_count": 4,
   "metadata": {},
   "outputs": [
    {
     "name": "stdout",
     "output_type": "stream",
     "text": [
      "{28165: 38738, 28818: 26898, 35910: 28818, 33469: 32905}\n",
      "今天我吃的是清炒豆芽，芹菜炒肚子\n"
     ]
    }
   ],
   "source": [
    "# maketrans():用于生成字符串替换的映射表\n",
    "# translate（）：进行字符串替换\n",
    "\n",
    "s = \"今天我吃的是清炒豆芽，芹菜炒肚子\"\n",
    "table = s.maketrans('清炒豆芽','青椒炒肉')\n",
    "print(table)\n",
    "print(s)"
   ]
  },
  {
   "cell_type": "code",
   "execution_count": 6,
   "metadata": {},
   "outputs": [
    {
     "ename": "ValueError",
     "evalue": "string keys in translate table must be of length 1",
     "output_type": "error",
     "traceback": [
      "\u001b[1;31m---------------------------------------------------------------------------\u001b[0m",
      "\u001b[1;31mValueError\u001b[0m                                Traceback (most recent call last)",
      "\u001b[1;32m<ipython-input-6-487046b3bf7f>\u001b[0m in \u001b[0;36m<module>\u001b[1;34m\u001b[0m\n\u001b[0;32m      1\u001b[0m \u001b[0ms\u001b[0m \u001b[1;33m=\u001b[0m \u001b[1;34m\"今天我吃的是清炒豆芽，芹菜炒肚子\"\u001b[0m\u001b[1;33m\u001b[0m\u001b[1;33m\u001b[0m\u001b[0m\n\u001b[1;32m----> 2\u001b[1;33m \u001b[0mtable\u001b[0m \u001b[1;33m=\u001b[0m \u001b[0ms\u001b[0m\u001b[1;33m.\u001b[0m\u001b[0mmaketrans\u001b[0m\u001b[1;33m(\u001b[0m\u001b[1;33m{\u001b[0m\u001b[1;34m'清炒豆芽'\u001b[0m\u001b[1;33m:\u001b[0m \u001b[1;34m'青椒炒肉'\u001b[0m\u001b[1;33m,\u001b[0m \u001b[1;34m'芹菜炒肚子'\u001b[0m\u001b[1;33m:\u001b[0m \u001b[1;34m'西红柿炒鸡蛋'\u001b[0m\u001b[1;33m}\u001b[0m\u001b[1;33m)\u001b[0m\u001b[1;33m\u001b[0m\u001b[1;33m\u001b[0m\u001b[0m\n\u001b[0m\u001b[0;32m      3\u001b[0m \u001b[0mprint\u001b[0m\u001b[1;33m(\u001b[0m\u001b[0mtable\u001b[0m\u001b[1;33m)\u001b[0m\u001b[1;33m\u001b[0m\u001b[1;33m\u001b[0m\u001b[0m\n\u001b[0;32m      4\u001b[0m \u001b[0mprint\u001b[0m\u001b[1;33m(\u001b[0m\u001b[0ms\u001b[0m\u001b[1;33m)\u001b[0m\u001b[1;33m\u001b[0m\u001b[1;33m\u001b[0m\u001b[0m\n",
      "\u001b[1;31mValueError\u001b[0m: string keys in translate table must be of length 1"
     ]
    }
   ],
   "source": [
    "s = \"今天我吃的是清炒豆芽，芹菜炒肚子\"\n",
    "table = s.maketrans({'清炒豆芽': '青椒炒肉', '芹菜炒肚子': '西红柿炒鸡蛋'})\n",
    "print(table)\n",
    "print(s)"
   ]
  }
 ],
 "metadata": {
  "kernelspec": {
   "display_name": "Python 3",
   "language": "python",
   "name": "python3"
  },
  "language_info": {
   "codemirror_mode": {
    "name": "ipython",
    "version": 3
   },
   "file_extension": ".py",
   "mimetype": "text/x-python",
   "name": "python",
   "nbconvert_exporter": "python",
   "pygments_lexer": "ipython3",
   "version": "3.7.3"
  }
 },
 "nbformat": 4,
 "nbformat_minor": 2
}
