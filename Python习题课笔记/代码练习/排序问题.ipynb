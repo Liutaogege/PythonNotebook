{
 "cells": [
  {
   "cell_type": "code",
   "execution_count": 1,
   "metadata": {},
   "outputs": [
    {
     "name": "stdout",
     "output_type": "stream",
     "text": [
      "请输入一个数：5\n",
      "this num is a prime num\n"
     ]
    }
   ],
   "source": [
    "# 判断一个数是否是素数\n",
    "\n",
    "import math\n",
    "def is_prime():\n",
    "    flag = 0\n",
    "    num = int(input(\"请输入一个数：\"))\n",
    "    num_sq = math.sqrt(num)\n",
    "    for i in range(2, int(num_sq + 1)):\n",
    "        if int(num) % i == 0:\n",
    "            flag = 1\n",
    "            break\n",
    "                \n",
    "    if flag == 1:\n",
    "        print(\"this num is not a prime num\")\n",
    "    else:\n",
    "        print(\"this num is a prime num\")\n",
    "        \n",
    "is_prime()"
   ]
  },
  {
   "cell_type": "code",
   "execution_count": null,
   "metadata": {},
   "outputs": [],
   "source": []
  },
  {
   "cell_type": "code",
   "execution_count": 1,
   "metadata": {},
   "outputs": [
    {
     "name": "stdout",
     "output_type": "stream",
     "text": [
      "请输入第一个整数：25\n",
      "请输入第二个整数：36\n",
      "25 和 36的最大公约数是:1\n",
      "25 和 36的最小公倍数是：900\n"
     ]
    }
   ],
   "source": [
    "# 利用辗转相除法求取两个数的最大公约数和最小公倍数\n",
    "\n",
    "def func():\n",
    "    while True:\n",
    "        m = input(\"请输入第一个整数：\")\n",
    "        n = input(\"请输入第二个整数：\")\n",
    "        if not m.isdigit() or not n.isdigit():\n",
    "            print(\"请输入整数哦\")\n",
    "            continue\n",
    "        a = int(m)\n",
    "        b = int(n)\n",
    "        if a < b:\n",
    "            b, a = a, b\n",
    "        remain_num = a % b\n",
    "        while remain_num:\n",
    "            a, b = b, remain_num\n",
    "            remain_num = a % b\n",
    "        print(\"{} 和 {}的最大公约数是:{}\".format(m, n, b))\n",
    "        print(\"{} 和 {}的最小公倍数是：{}\".format(m, n, int(int(m)*int(n)/b)))\n",
    "        break\n",
    "            \n",
    "            \n",
    "func()"
   ]
  },
  {
   "cell_type": "code",
   "execution_count": 23,
   "metadata": {},
   "outputs": [
    {
     "name": "stdout",
     "output_type": "stream",
     "text": [
      "[1, 2, 3, 5, 7, 11, 13, 17, 19, 23, 29, 31, 37, 41, 43, 47, 53, 59, 61, 67, 71, 73, 79, 83, 89, 97]\n"
     ]
    }
   ],
   "source": [
    "# 求取0到100之间的所有素数\n",
    "\n",
    "import math\n",
    "nums = []\n",
    "\n",
    "for num in range(1,101):\n",
    "    flag = 1\n",
    "    # 求取该数的平方\n",
    "    num_sqrt = math.sqrt(num)\n",
    "    # 先排除1,2,3\n",
    "    if int(num_sqrt+1) <= 2:\n",
    "        nums.append(num)\n",
    "        continue\n",
    "        \n",
    "    # 如果一个数能除尽2到它平方根之间的数，说明它不是质数（素数）\n",
    "    # 那么为什么只算2到它平方根之间的数呢，简化作用，\n",
    "    # 一个数可以看成是两个因数相乘，而它的平方根就在中间，如果在小于它平方根的范围内都除不尽，\n",
    "    # 大于它平方根的数肯定除不尽：小数乘以大数，平方根乘以平方根，大数乘以小数\n",
    "    for i in range(2, int(num_sqrt+1)):\n",
    "        if num % i == 0:\n",
    "            flag = 0\n",
    "            break\n",
    "    if flag == 1:\n",
    "        nums.append(num)\n",
    "\n",
    "\n",
    "print(nums)"
   ]
  },
  {
   "cell_type": "code",
   "execution_count": 45,
   "metadata": {},
   "outputs": [
    {
     "name": "stdout",
     "output_type": "stream",
     "text": [
      "排序结束\n"
     ]
    },
    {
     "data": {
      "text/plain": [
       "[1, 2, 3, 5, 6, 8, 523]"
      ]
     },
     "execution_count": 45,
     "metadata": {},
     "output_type": "execute_result"
    }
   ],
   "source": [
    "# 给一组数列排序,使用冒泡排序法：交换相邻的元素来实现排序\n",
    "def sorting(lst):\n",
    "    flag = 0\n",
    "    len_lst = len(lst)\n",
    "    if type(lst) is not type([]):\n",
    "        return \"你输入的对象不是队列\"\n",
    "    for i in lst:\n",
    "        if type(i) != int:\n",
    "            print(\"该数列的内容有问题啊\")\n",
    "            flag = 1\n",
    "            break\n",
    "    if flag == 1:\n",
    "        print(\"程序结束\")\n",
    "    else:\n",
    "        for i in range(len_lst - 1):\n",
    "            swap_process = False\n",
    "            for j in range(len_lst - 1, i, -1):\n",
    "                if lst[j - 1] > lst[j]:\n",
    "                    lst[j - 1], lst[j] = lst[j], lst[j - 1]\n",
    "                    swap_process = True\n",
    "            if swap_process == False:\n",
    "                break\n",
    "        print(\"排序结束\")\n",
    "    return lst\n",
    "\n",
    "sorting([1,523,2,3,5,8,6])"
   ]
  },
  {
   "cell_type": "code",
   "execution_count": 1,
   "metadata": {},
   "outputs": [
    {
     "name": "stdout",
     "output_type": "stream",
     "text": [
      "[1, 2, 5, 6, 8, 33, 422]\n"
     ]
    }
   ],
   "source": [
    "# 另外一种排序方法,先认定一个最小值，之后和其他元素依次比较\n",
    "\n",
    "def sorting(lst):\n",
    "    if type(lst) is not type([]):\n",
    "        return \"你输入的对象不是数列哦\"\n",
    "    \n",
    "    for i in lst:\n",
    "        if type(i) != int:\n",
    "            return \"你数列里是啥子东西哦\"\n",
    "        \n",
    "    len_lst = len(lst)\n",
    "    for i in range(len_lst):\n",
    "        for j in range(i, len_lst):\n",
    "            if lst[j] < lst[i]:\n",
    "                lst[j], lst[i] = lst[i], lst[j]\n",
    "    print(lst)\n",
    "    \n",
    "sorting([1,422,2,33,5,8,6])"
   ]
  },
  {
   "cell_type": "code",
   "execution_count": null,
   "metadata": {},
   "outputs": [],
   "source": []
  },
  {
   "cell_type": "code",
   "execution_count": 9,
   "metadata": {},
   "outputs": [
    {
     "name": "stdout",
     "output_type": "stream",
     "text": [
      "请输入你要排序的数字(用逗号隔开):467,-23,57,2,78,-1,0\n",
      "[-23, -1, 0, 2, 57, 78, 467]\n"
     ]
    }
   ],
   "source": [
    "# 最简单的一种排序方法\n",
    "import ast\n",
    "def sorting():\n",
    "    lst_input = input(\"请输入你要排序的数字(用逗号隔开):\")\n",
    "    # 将输入的数字转换为列表\n",
    "    lst = list(ast.literal_eval(lst_input))\n",
    "    len_lst = len(lst)\n",
    "    for i in range(len_lst):\n",
    "        for j in range(i, len_lst):\n",
    "            if lst[j] < lst[i]:\n",
    "                lst[i], lst[j] = lst[j], lst[i]\n",
    "    print(lst)\n",
    "sorting()"
   ]
  },
  {
   "cell_type": "code",
   "execution_count": 10,
   "metadata": {},
   "outputs": [
    {
     "name": "stdout",
     "output_type": "stream",
     "text": [
      "请输入你要排序的数字（用逗号隔开）：12,43,-3,9,1,-23,9\n",
      "[-23, -3, 1, 9, 9, 12, 43]\n"
     ]
    }
   ],
   "source": [
    "# 冒泡排序法\n",
    "import ast\n",
    "def sorting():\n",
    "    lst_input = input(\"请输入你要排序的数字（用逗号隔开）：\")\n",
    "    lst = list(ast.literal_eval(lst_input))\n",
    "    len_lst = len(lst)\n",
    "    for i in range(len_lst-1):\n",
    "        for j in range(len_lst-1, i, -1):\n",
    "            if lst[j-1] > lst[j]:\n",
    "                lst[j-1], lst[j] = lst[j], lst[j-1]\n",
    "    print(lst)\n",
    "sorting()"
   ]
  }
 ],
 "metadata": {
  "kernelspec": {
   "display_name": "Python 3",
   "language": "python",
   "name": "python3"
  },
  "language_info": {
   "codemirror_mode": {
    "name": "ipython",
    "version": 3
   },
   "file_extension": ".py",
   "mimetype": "text/x-python",
   "name": "python",
   "nbconvert_exporter": "python",
   "pygments_lexer": "ipython3",
   "version": "3.7.3"
  }
 },
 "nbformat": 4,
 "nbformat_minor": 2
}
