{
 "cells": [
  {
   "cell_type": "markdown",
   "metadata": {},
   "source": [
    "# 构建用户信息生成系统\n",
    "- 描述：我想通过输入字符串类型的字典，然后把字典存入到json文件中\n",
    "- 问题：输入的字典是字符串类型的，但是json不能直接dumps，这样得到的json文件内容不对\n",
    "- 解决办法：open新建json类型的文件，直接把输入的字符串写入就行f.write(input_s)\n",
    "\n"
   ]
  },
  {
   "cell_type": "code",
   "execution_count": 12,
   "metadata": {},
   "outputs": [
    {
     "name": "stdout",
     "output_type": "stream",
     "text": [
      "haha\n"
     ]
    }
   ],
   "source": [
    "# 编写分析\n",
    "\"\"\"\n",
    "保存账户信息\n",
    "\"\"\"\n",
    "\n",
    "\n",
    "\"\"\"\n",
    "登录账户\n",
    "1.判断输入账户是否存在\n",
    "2.获取账户状态\n",
    "3.判断账户状态\n",
    "4.判断账户是否过期\n",
    "5.判断输入密码是否正确\n",
    "    a.若输入3次密码错误，账户状态改变\n",
    "\"\"\""
   ]
  },
  {
   "cell_type": "code",
   "execution_count": 6,
   "metadata": {},
   "outputs": [
    {
     "name": "stdout",
     "output_type": "stream",
     "text": [
      "请输入用户信息（字典格式）：{\"expire_date\": \"2021-01-01\", \"id\": \"1234\", \"status\": 0, \"password\": \"abc\"}\n",
      "用户信息保存完成\n"
     ]
    }
   ],
   "source": [
    "def usr_info():\n",
    "    usr_info = input(\"请输入用户信息（字典格式）：\")\n",
    "    with open(r\"C:\\Users\\acer\\Desktop\\1234.json\", 'w') as f:\n",
    "        f.write(usr_info)\n",
    "    print(\"用户信息保存完成\")\n",
    "usr_info()"
   ]
  },
  {
   "cell_type": "code",
   "execution_count": 4,
   "metadata": {},
   "outputs": [
    {
     "name": "stdout",
     "output_type": "stream",
     "text": [
      "请输入你的用户名：1234\n",
      "请输入你的密码：abc\n",
      "恭喜你登录成功\n"
     ]
    }
   ],
   "source": [
    "import os\n",
    "import json\n",
    "from datetime import datetime\n",
    "\n",
    "def logging():\n",
    "    while True:\n",
    "        # 保存用户信息的目录\n",
    "        info_adr = 'C:\\\\Users\\\\acer\\\\Desktop\\\\'\n",
    "        usr_name = input(\"请输入你的用户名：\")\n",
    "        # 判断用户名文件是否存在\n",
    "        usr_info = info_adr + usr_name + \".json\"\n",
    "        if not os.path.exists(usr_info):\n",
    "            print(\"对不起你输入的用户名不存在，请重新输入\")\n",
    "            continue\n",
    "            \n",
    "        # 若用户名存在，将其转化为Python内置数据类型\n",
    "        with open(usr_info, 'r') as f:\n",
    "            json_content = f.read()\n",
    "            py_content = json.loads(json_content)\n",
    "            \n",
    "        # 判断用户状态\n",
    "        if py_content['status']:\n",
    "            print(\"抱歉，你的账户已被锁定，请到柜台办理解锁业务\")\n",
    "            break\n",
    "        \n",
    "        else:\n",
    "            expire_date = py_content['expire_date']\n",
    "            # 将其转化为date格式\n",
    "            final_date = datetime.strptime(expire_date, \"%Y-%m-%d\")\n",
    "            # 判断账户是否过期\n",
    "            if final_date < datetime.today():\n",
    "                print(\"抱歉你的账户已经过期\")\n",
    "                break\n",
    "            # 判断输入密码是否正确\n",
    "            else:\n",
    "                \n",
    "                pass_time = 3\n",
    "                while True:\n",
    "                    usr_passwd = input(\"请输入你的密码：\")\n",
    "                    if usr_passwd == py_content['password']:\n",
    "                        print(\"恭喜你登录成功\")\n",
    "                        break\n",
    "                    else:\n",
    "                        print(\"你输入的密码有误，还剩{}输入次机会，请重新输入\".format(pass_time - 1))\n",
    "                        pass_time -= 1\n",
    "                    if pass_time == 0:\n",
    "                        print(\"你输入的密码已达最大次数，你的账户已被锁定\")\n",
    "                        py_content['status'] = 1\n",
    "                        json_content = json.dumps(py_content)\n",
    "                        with open(usr_info, 'w') as f:\n",
    "                            f.write(json_content)\n",
    "                        break\n",
    "                break\n",
    "logging()                      "
   ]
  },
  {
   "cell_type": "code",
   "execution_count": 8,
   "metadata": {},
   "outputs": [
    {
     "name": "stdout",
     "output_type": "stream",
     "text": [
      "内容写入完成\n"
     ]
    }
   ],
   "source": [
    "#json.dump的用法：json.dump(写入的内容，写入哪个文件)\n",
    "info = {\"expire_date\": \"2021-01-01\", \"id\": \"1234\", \"status\": 0, \"password\": \"abc\"}\n",
    "with open(r\"C:\\Users\\acer\\Desktop\\new.json\", 'w') as f:\n",
    "    json.dump(info, f)\n",
    "    \n",
    "print(\"内容写入完成\")\n",
    "f = open(r\"C:\\Users\\acer\\Desktop\\new.json\", 'w')\n",
    "f.truncate() #清空文件内容\n",
    "f.close()"
   ]
  },
  {
   "cell_type": "code",
   "execution_count": 5,
   "metadata": {},
   "outputs": [
    {
     "name": "stdout",
     "output_type": "stream",
     "text": [
      "1609430400.0\n"
     ]
    }
   ],
   "source": [
    "import time\n",
    "expire_date = \"2021-01-01\"\n",
    "final_date = time.strptime(expire_date, \"%Y-%m-%d\")\n",
    "print(time.mktime(final_date))"
   ]
  },
  {
   "cell_type": "code",
   "execution_count": null,
   "metadata": {},
   "outputs": [],
   "source": []
  }
 ],
 "metadata": {
  "kernelspec": {
   "display_name": "Python 3",
   "language": "python",
   "name": "python3"
  },
  "language_info": {
   "codemirror_mode": {
    "name": "ipython",
    "version": 3
   },
   "file_extension": ".py",
   "mimetype": "text/x-python",
   "name": "python",
   "nbconvert_exporter": "python",
   "pygments_lexer": "ipython3",
   "version": "3.7.3"
  }
 },
 "nbformat": 4,
 "nbformat_minor": 2
}
