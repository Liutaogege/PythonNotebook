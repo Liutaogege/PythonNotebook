{
 "cells": [
  {
   "cell_type": "code",
   "execution_count": 2,
   "metadata": {},
   "outputs": [
    {
     "name": "stdout",
     "output_type": "stream",
     "text": [
      "hahbaibai\n"
     ]
    }
   ],
   "source": [
    "a = 'hah' 'baibai'\n",
    "print(a)"
   ]
  },
  {
   "cell_type": "code",
   "execution_count": 13,
   "metadata": {},
   "outputs": [
    {
     "name": "stdout",
     "output_type": "stream",
     "text": [
      "1 * 1 = 1 \n",
      "1 * 2 = 2 2 * 2 = 4 \n",
      "1 * 3 = 3 2 * 3 = 6 3 * 3 = 9 \n",
      "1 * 4 = 4 2 * 4 = 8 3 * 4 = 12 4 * 4 = 16 \n",
      "1 * 5 = 5 2 * 5 = 10 3 * 5 = 15 4 * 5 = 20 5 * 5 = 25 \n",
      "1 * 6 = 6 2 * 6 = 12 3 * 6 = 18 4 * 6 = 24 5 * 6 = 30 6 * 6 = 36 \n",
      "1 * 7 = 7 2 * 7 = 14 3 * 7 = 21 4 * 7 = 28 5 * 7 = 35 6 * 7 = 42 7 * 7 = 49 \n",
      "1 * 8 = 8 2 * 8 = 16 3 * 8 = 24 4 * 8 = 32 5 * 8 = 40 6 * 8 = 48 7 * 8 = 56 8 * 8 = 64 \n",
      "1 * 9 = 9 2 * 9 = 18 3 * 9 = 27 4 * 9 = 36 5 * 9 = 45 6 * 9 = 54 7 * 9 = 63 8 * 9 = 72 9 * 9 = 81 \n"
     ]
    }
   ],
   "source": [
    "m = 10\n",
    "n = 10\n",
    "\n",
    "for j in range(1, n):\n",
    "    for i in range(1,j + 1):\n",
    "        print(\"{} * {} = {}\".format(i, j, i*j), end=\" \")\n",
    "    print(\"\")\n",
    "    "
   ]
  },
  {
   "cell_type": "code",
   "execution_count": 8,
   "metadata": {},
   "outputs": [
    {
     "name": "stdout",
     "output_type": "stream",
     "text": [
      "-----*\n",
      "----*\n",
      "---*\n",
      "--*\n",
      "-*\n"
     ]
    }
   ],
   "source": [
    "m = 5\n",
    "n = 5\n",
    "for i in range(n, 0, -1):\n",
    "        print(\"-\" * i, end=\"\")\n",
    "        print(\"*\")"
   ]
  },
  {
   "cell_type": "code",
   "execution_count": 75,
   "metadata": {},
   "outputs": [
    {
     "name": "stdout",
     "output_type": "stream",
     "text": [
      "      *     \n",
      "     ***    \n",
      "    *****   \n",
      "   *******  \n",
      "  ********* \n"
     ]
    }
   ],
   "source": [
    "for i in range(5,0,-1):\n",
    "    t = -2*i + 11\n",
    "    print(\" \"* i,\"*\" * t, end='')\n",
    "    print(\" \"* i)\n",
    "    \n"
   ]
  },
  {
   "cell_type": "code",
   "execution_count": 68,
   "metadata": {},
   "outputs": [
    {
     "name": "stdout",
     "output_type": "stream",
     "text": [
      "* * * * * \n",
      "*       * \n",
      "* * * * * \n",
      "*       * \n",
      "* * * * * \n"
     ]
    }
   ],
   "source": [
    "for i in range(1,6):\n",
    "    for j in range(1,6):\n",
    "        if i == 2 or i == 4:\n",
    "            if j == 2 or j == 3 or j == 4:\n",
    "                print(\" \", end=\" \") \n",
    "            else:\n",
    "                print(\"*\", end=' ')\n",
    "        else:\n",
    "            print(\"*\", end=' ')\n",
    "    print()"
   ]
  },
  {
   "cell_type": "code",
   "execution_count": 6,
   "metadata": {},
   "outputs": [
    {
     "name": "stdout",
     "output_type": "stream",
     "text": [
      "* \n",
      "* * \n",
      "* * * \n",
      "* * * * \n"
     ]
    }
   ],
   "source": [
    "for i in range(1,5):\n",
    "    for j in range(i):\n",
    "        print(\"* \", end='')\n",
    "    print()"
   ]
  },
  {
   "cell_type": "code",
   "execution_count": 59,
   "metadata": {},
   "outputs": [
    {
     "name": "stdout",
     "output_type": "stream",
     "text": [
      "* \n",
      "* * \n",
      "*   * \n",
      "*     * \n",
      "*       * \n",
      "*         * \n",
      "* * * * * * * \n"
     ]
    }
   ],
   "source": [
    "n = 7\n",
    "m = 5\n",
    "for i in range(1,n+1):\n",
    "    for j in range(i):\n",
    "        if i==1 or i==2 or i==n:\n",
    "            print(\"* \", end='')\n",
    "        else:\n",
    "            if j != (i-1) and j != 0:\n",
    "                print(\"  \", end='')\n",
    "            else:\n",
    "                print(\"* \", end='')\n",
    "    print()"
   ]
  },
  {
   "cell_type": "code",
   "execution_count": 68,
   "metadata": {},
   "outputs": [
    {
     "name": "stdout",
     "output_type": "stream",
     "text": [
      "* \n",
      "* * \n",
      "*   * \n",
      "*     * \n",
      "*       * \n",
      "*         * \n",
      "*           * \n",
      "* * * * * * * * \n"
     ]
    }
   ],
   "source": [
    "n = 8\n",
    "for i in range(n):\n",
    "    for j in range(i+1):\n",
    "        if i == (n-1):\n",
    "            print(\"* \", end='')\n",
    "            continue\n",
    "        if j == 0 or j == i:\n",
    "            print(\"* \", end='')\n",
    "        else:\n",
    "            print(\"  \", end='')\n",
    "    print()"
   ]
  },
  {
   "cell_type": "code",
   "execution_count": 76,
   "metadata": {},
   "outputs": [
    {
     "name": "stdout",
     "output_type": "stream",
     "text": [
      "* * * * * * \n",
      "*       * \n",
      "*     * \n",
      "*   * \n",
      "* * \n",
      "* \n"
     ]
    }
   ],
   "source": [
    "for i in range(6,0,-1):\n",
    "    for j in range(i):\n",
    "        if i == 6:\n",
    "            print(\"* \", end='')\n",
    "            continue\n",
    "        if j == 0 or j == (i-1):\n",
    "            print(\"* \", end='')\n",
    "        else:\n",
    "            print(\"  \", end='')\n",
    "    print()\n",
    "    "
   ]
  },
  {
   "cell_type": "code",
   "execution_count": 87,
   "metadata": {},
   "outputs": [
    {
     "name": "stdout",
     "output_type": "stream",
     "text": [
      "               * \n",
      "            * * * \n",
      "         * * * * * \n",
      "      * * * * * * * \n",
      "   * * * * * * * * * \n"
     ]
    }
   ],
   "source": [
    "for i in range(5):\n",
    "    for j in range(5-i):\n",
    "        print(\" \",end='')\n",
    "    for q in range(i+1):\n",
    "        print(\"* \",end='')\n",
    "    for z in range(i+1):\n",
    "        if z == 0:\n",
    "            print(\"\",end='')\n",
    "        else:\n",
    "            print(\"* \",end='')\n",
    "    print()"
   ]
  },
  {
   "cell_type": "code",
   "execution_count": 90,
   "metadata": {},
   "outputs": [
    {
     "name": "stdout",
     "output_type": "stream",
     "text": [
      "     * \n",
      "    * * \n",
      "   *   * \n",
      "  *     * \n",
      " * * * * * \n"
     ]
    }
   ],
   "source": [
    "for i in range(5):\n",
    "    for j in range(5-i):\n",
    "        print(\" \",end='')\n",
    "    for q in range(i+1):\n",
    "        if i == 4:\n",
    "            print(\"* \",end='')\n",
    "            continue\n",
    "        if q == 0 or q == i:\n",
    "            print(\"* \",end='')\n",
    "        else:\n",
    "            print(\"  \",end='')\n",
    "    print()"
   ]
  },
  {
   "cell_type": "code",
   "execution_count": 115,
   "metadata": {},
   "outputs": [
    {
     "name": "stdout",
     "output_type": "stream",
     "text": [
      "请输入：12.3\n",
      "请输入一个三位数\n",
      "请输入：200.0\n",
      "在该范围内水仙花数有：[153]\n"
     ]
    }
   ],
   "source": [
    "# 求水仙花数：如果一个三位数等于其各位数字的立方和，则称这个数为水仙花数\n",
    "import math\n",
    "\n",
    "def func():\n",
    "    while True:\n",
    "        n = float(input(\"请输入：\"))\n",
    "        if 100 <= n <=999:\n",
    "            break\n",
    "        else:\n",
    "            print(\"请输入一个三位数\")        \n",
    "    num = 100\n",
    "    sxh = []\n",
    "    while num <= n:\n",
    "        x = int(num/100)\n",
    "        y = int(num%100/10)\n",
    "        z = int(num%10)\n",
    "        if num == (x**3 + y**3 + z**3):\n",
    "            sxh.append(num)\n",
    "            num += 1\n",
    "        else:\n",
    "            num += 1\n",
    "    if sxh:\n",
    "        print(\"在该范围内水仙花数有：{}\".format(sxh))\n",
    "    else:\n",
    "        print(\"抱歉，在该范围内没有水仙花数\")\n",
    "func()"
   ]
  },
  {
   "cell_type": "code",
   "execution_count": 123,
   "metadata": {},
   "outputs": [
    {
     "name": "stdout",
     "output_type": "stream",
     "text": [
      "153  370  371  407  "
     ]
    }
   ],
   "source": [
    "for num in range(100,1000):\n",
    "    n = list(str(num))\n",
    "    a = int(n[0])\n",
    "    b = int(n[1])\n",
    "    c = int(n[2])\n",
    "    if a**3 + b**3 + c**3 == num:\n",
    "        print(num,\" \", end='')"
   ]
  },
  {
   "cell_type": "code",
   "execution_count": 125,
   "metadata": {},
   "outputs": [
    {
     "name": "stdout",
     "output_type": "stream",
     "text": [
      "red:0, yellow:2, green:6\n",
      "red:0, yellow:3, green:5\n",
      "red:1, yellow:1, green:6\n",
      "red:1, yellow:2, green:5\n",
      "red:1, yellow:3, green:4\n",
      "red:2, yellow:0, green:6\n",
      "red:2, yellow:1, green:5\n",
      "red:2, yellow:2, green:4\n",
      "red:2, yellow:3, green:3\n",
      "red:3, yellow:0, green:5\n",
      "red:3, yellow:1, green:4\n",
      "red:3, yellow:2, green:3\n",
      "red:3, yellow:3, green:2\n"
     ]
    }
   ],
   "source": [
    "# 摸球问题，摸球组合\n",
    "for red in range(4):\n",
    "    for yellow in range(4):\n",
    "        for green in range(2,7):\n",
    "            if red + yellow + green == 8:\n",
    "                print(\"red:{}, yellow:{}, green:{}\".format(red, yellow, green))"
   ]
  },
  {
   "cell_type": "code",
   "execution_count": 136,
   "metadata": {},
   "outputs": [
    {
     "name": "stdout",
     "output_type": "stream",
     "text": [
      "[1, 3, 3, [2, 3, 5], 6, 8]\n",
      "1614293637000\n",
      "1614293637000\n",
      "140723578442624\n",
      "140723578442624\n",
      "[1, 3, 3, [2, 3, 5], 6, 8]\n",
      "1614292954056\n",
      "140723578442624\n"
     ]
    }
   ],
   "source": [
    "import copy\n",
    "ls1 = [1,3,3,[2,3,5],6,8]\n",
    "ls2 = ls1.copy() #浅度复制\n",
    "print(ls2)\n",
    "print(id(ls1[3]))\n",
    "print(id(ls2[3]))\n",
    "print(id(ls1[1]))\n",
    "print(id(ls2[2]))\n",
    "\n",
    "ls3 = copy.deepcopy(ls1)\n",
    "print(ls3)\n",
    "print(id(ls3[3])) #深度复制里面的地址已经改变\n",
    "print(id(ls3[1]))"
   ]
  },
  {
   "cell_type": "code",
   "execution_count": null,
   "metadata": {},
   "outputs": [],
   "source": []
  },
  {
   "cell_type": "code",
   "execution_count": null,
   "metadata": {},
   "outputs": [],
   "source": []
  },
  {
   "cell_type": "code",
   "execution_count": 141,
   "metadata": {},
   "outputs": [
    {
     "name": "stdout",
     "output_type": "stream",
     "text": [
      "hello world\n",
      "hellohellohellohellohellohellohellohellohellohello\n"
     ]
    }
   ],
   "source": [
    "s1 = \"hello\"\n",
    "s2 = 'world'\n",
    "s = ' '.join([s1, s2])\n",
    "print(s)\n",
    "print(s1*10)"
   ]
  },
  {
   "cell_type": "code",
   "execution_count": 165,
   "metadata": {},
   "outputs": [
    {
     "name": "stdout",
     "output_type": "stream",
     "text": [
      "h\n",
      "['e', 'l', 'l', 'o']\n",
      "1614292914736\n",
      "1614292914736\n",
      "ilhvewhh\n",
      "ilovewho\n",
      "1614293825800\n",
      "1614293711624\n",
      "[1, 3, 5, 6]\n"
     ]
    }
   ],
   "source": [
    "a, *b = s1\n",
    "print(a)\n",
    "print(b)\n",
    "\n",
    "ls = \"ilovewho\"\n",
    "ls1 = ls[:]\n",
    "print(id(ls))\n",
    "print(id(ls1))\n",
    "#print(ls[1])\n",
    "ls2 = ls1.replace(\"o\", \"h\")\n",
    "print(ls2)\n",
    "print(ls)\n",
    "\n",
    "biao = [1,3,5,6]\n",
    "biao1 = biao[:]\n",
    "print(id(biao))\n",
    "print(id(biao1))\n",
    "biao1[2] = \"haha\"\n",
    "print(biao)"
   ]
  },
  {
   "cell_type": "code",
   "execution_count": 4,
   "metadata": {},
   "outputs": [
    {
     "name": "stdout",
     "output_type": "stream",
     "text": [
      "{29482: 32418, 36420: 28903, 28822: 28905, 40644: 33540, 35910: 23376}\n",
      "5 <class 'dict'>\n",
      "我今天吃了红烧烩茄子，老实说，很难吃\n",
      "我今天吃了猪蹄炖黄豆，老实说，很难吃\n"
     ]
    }
   ],
   "source": [
    "s  = \"我今天吃了猪蹄炖黄豆，老实说，很难吃\"\n",
    "# 相当于逐自替换\n",
    "table = s.maketrans(\"猪蹄炖黄豆\", \"红烧烩茄子\")\n",
    "print(table)\n",
    "print(len(table), type(table))\n",
    "print(s.translate(table))\n",
    "print(s.translate({\"黄豆\": \"酸菜\"}))"
   ]
  },
  {
   "cell_type": "code",
   "execution_count": 7,
   "metadata": {},
   "outputs": [
    {
     "name": "stdout",
     "output_type": "stream",
     "text": [
      "3\n",
      "[2, 'haha', 'xiuxiu', 6, 78]\n"
     ]
    }
   ],
   "source": [
    "l = [2, 'haha', 'xiuxiu', 3, 6, 78]\n",
    "print(l.pop(3))\n",
    "print(l)"
   ]
  },
  {
   "cell_type": "code",
   "execution_count": 11,
   "metadata": {},
   "outputs": [
    {
     "name": "stdout",
     "output_type": "stream",
     "text": [
      "2630726589896\n",
      "2630726589896\n"
     ]
    }
   ],
   "source": [
    "l = [1,5,9,2,3,7]\n",
    "print(id(l))\n",
    "l.sort(reverse=True)\n",
    "print(id(l))"
   ]
  },
  {
   "cell_type": "code",
   "execution_count": 1,
   "metadata": {},
   "outputs": [
    {
     "name": "stdout",
     "output_type": "stream",
     "text": [
      "please enter the name you want to register:xiaogang\n",
      "please enter the password:12345678\n",
      "恭喜你，注册成功\n",
      "   欢迎登录人工智能2.0系统    \n",
      "请输入你的用户名:xiaobao\n",
      "很抱歉，该用户尚未注册，请重新输入\n",
      "请输入你的用户名:xiaoliang\n",
      "很抱歉，该用户尚未注册，请重新输入\n",
      "请输入你的用户名:xiaogang\n",
      "请输入你的登录密码：12345678\n",
      "恭喜你登录成功\n"
     ]
    }
   ],
   "source": [
    "# 模拟用户登录系统\n",
    "username_pass = {\"xiaoming\":123456, 'xiaohong':\"abcdefg\"}\n",
    "\n",
    "def creat_user():\n",
    "    usernames = username_pass.keys()\n",
    "    while True:\n",
    "        username = input(\"please enter the name you want to register:\\n\")\n",
    "        if username in usernames:\n",
    "            print(\"抱歉，用户名已存在，请重新输入\")\n",
    "            continue\n",
    "        else:\n",
    "            break\n",
    "    while True:\n",
    "        password = input(\"please enter the password:\\n\")\n",
    "        if len(password) < 8:\n",
    "            print(\"抱歉，你输入的密码长度太短\")\n",
    "        else:\n",
    "            username_pass[username] = password\n",
    "            print(\"恭喜你，注册成功\")\n",
    "            break\n",
    "    return username_pass\n",
    "\n",
    "\n",
    "def login(user_pass):\n",
    "    username_pass = user_pass\n",
    "    username = username_pass.keys()\n",
    "    print(\"欢迎登录人工智能2.0系统\".center(20))\n",
    "    while True:\n",
    "        log_user = input(\"请输入你的用户名:\\n\")\n",
    "        if log_user not in username:\n",
    "            print(\"很抱歉，该用户尚未注册，请重新输入\")\n",
    "        else:\n",
    "            break\n",
    "    while True:\n",
    "        log_pass = input(\"请输入你的登录密码：\\n\")\n",
    "        if log_pass != username_pass[log_user]:\n",
    "            print(\"抱歉，你输入的密码有误，请重新输入\")\n",
    "        else:\n",
    "            print(\"恭喜你登录成功\")\n",
    "            break\n",
    "            \n",
    "login(creat_user())"
   ]
  },
  {
   "cell_type": "code",
   "execution_count": 1,
   "metadata": {},
   "outputs": [
    {
     "name": "stdout",
     "output_type": "stream",
     "text": [
      "please enter the name you want to register:\n",
      "刘涛\n",
      "please enter the password:\n",
      "1234534\n",
      "抱歉，你输入的密码长度太短\n",
      "please enter the password:\n",
      "哦啊哈gaogn使得\n",
      "恭喜你，注册成功\n",
      "   欢迎登录人工智能2.0系统    \n",
      "请输入你的用户名:\n",
      "xiaoxing\n",
      "很抱歉，该用户尚未注册，是否要注册该用户名？Y/N\n",
      "Y/N:Y\n",
      "请设置密码：12345678\n",
      "请输入你的用户名:\n",
      "xiaoxing\n",
      "请输入你的登录密码：\n",
      "12345678\n",
      "恭喜你登录成功\n"
     ]
    }
   ],
   "source": [
    "# 模拟用户登录系统\n",
    "username_pass = {\"xiaoming\":123456, 'xiaohong':\"abcdefg\"}\n",
    "\n",
    "def creat_user():\n",
    "    usernames = username_pass.keys()\n",
    "    while True:\n",
    "        username = input(\"please enter the name you want to register:\\n\")\n",
    "        if username in usernames:\n",
    "            print(\"抱歉，用户名已存在，请重新输入\")\n",
    "            continue\n",
    "        else:\n",
    "            break\n",
    "    while True:\n",
    "        password = input(\"please enter the password:\\n\")\n",
    "        if len(password) < 8:\n",
    "            print(\"抱歉，你输入的密码长度太短\")\n",
    "        else:\n",
    "            username_pass[username] = password\n",
    "            print(\"恭喜你，注册成功\")\n",
    "            break\n",
    "    return username_pass\n",
    "\n",
    "\n",
    "def login(user_pass):\n",
    "    username_pass = user_pass\n",
    "    username = username_pass.keys()\n",
    "    print(\"欢迎登录人工智能2.0系统\".center(20))\n",
    "    while True:\n",
    "        log_user = input(\"请输入你的用户名:\\n\")\n",
    "        if log_user not in username:\n",
    "            print(\"很抱歉，该用户尚未注册，是否要注册该用户名？Y/N\")\n",
    "            answer = input(\"Y/N:\")\n",
    "            if answer == \"Y\": \n",
    "                while True:\n",
    "                    log_pass = input(\"请设置密码：\")\n",
    "                    if len(log_pass) < 8:\n",
    "                        print(\"抱歉，你输入的密码长度太短\")\n",
    "                    else:\n",
    "                        username_pass[log_user] = log_pass\n",
    "                        break\n",
    "            else:\n",
    "                pass\n",
    "        else:\n",
    "            break\n",
    "    while True:\n",
    "        log_pass = input(\"请输入你的登录密码：\\n\")\n",
    "        if log_pass != username_pass[log_user]:\n",
    "            print(\"抱歉，你输入的密码有误，请重新输入\")\n",
    "        else:\n",
    "            print(\"恭喜你登录成功\")\n",
    "            break\n",
    "            \n",
    "login(creat_user())"
   ]
  },
  {
   "cell_type": "code",
   "execution_count": 28,
   "metadata": {},
   "outputs": [
    {
     "name": "stdout",
     "output_type": "stream",
     "text": [
      "-----* \n",
      "----* * \n",
      "---* * * \n",
      "--* * * * \n",
      "-* * * * * \n",
      "--* * * * \n",
      "---* * * \n",
      "----* * \n",
      "-----* \n"
     ]
    }
   ],
   "source": [
    "for i in range(5):\n",
    "    for j in range(5-i,0,-1):\n",
    "        print(\"-\", end='')\n",
    "    for j in range(i+1):\n",
    "        print(\"* \", end='')\n",
    "    print()\n",
    "for i in range(4):\n",
    "    for j in range(0,i+2):\n",
    "        print(\"-\", end='')\n",
    "    for j in range(4-i,0,-1):\n",
    "        print(\"* \", end='')\n",
    "    print()"
   ]
  },
  {
   "cell_type": "code",
   "execution_count": 32,
   "metadata": {},
   "outputs": [
    {
     "name": "stdout",
     "output_type": "stream",
     "text": [
      "0000000000000000000\n"
     ]
    }
   ],
   "source": [
    "print(\"0000000000000000000\",flush=True)"
   ]
  },
  {
   "cell_type": "code",
   "execution_count": 1,
   "metadata": {},
   "outputs": [
    {
     "name": "stdout",
     "output_type": "stream",
     "text": [
      "* * *   \n",
      "*     * \n",
      "*     * \n",
      "* * *   \n"
     ]
    }
   ],
   "source": [
    "for i in range(4):\n",
    "    for j in range(4):\n",
    "        \n",
    "        if i==0 and j==3:\n",
    "            print(\"  \", end='')\n",
    "            continue\n",
    "        if i==3 and j==3:\n",
    "            print(\"  \", end='')\n",
    "            continue\n",
    "        if i == 0 or i==3 or j==0 or j==3:\n",
    "            print(\"* \", end='') \n",
    "        else:\n",
    "            print(\"  \", end='')\n",
    "    print()"
   ]
  },
  {
   "cell_type": "code",
   "execution_count": 13,
   "metadata": {},
   "outputs": [
    {
     "name": "stdout",
     "output_type": "stream",
     "text": [
      "* * * \n",
      "*     * \n",
      "*     * \n",
      "* * * \n"
     ]
    }
   ],
   "source": [
    "for i in range(4):\n",
    "    for j in range(4):\n",
    "        if j==0:\n",
    "            print(\"* \",end='')\n",
    "        elif i==0 or i==3:\n",
    "            if j==3:\n",
    "                break\n",
    "            else:\n",
    "                print(\"* \", end='')\n",
    "        elif j==3:\n",
    "            if i==0 or i==3:\n",
    "                break\n",
    "            else:\n",
    "                print(\"* \", end='')\n",
    "        else:\n",
    "            print(\"  \", end='')\n",
    "    print()"
   ]
  },
  {
   "cell_type": "code",
   "execution_count": 19,
   "metadata": {},
   "outputs": [
    {
     "name": "stdout",
     "output_type": "stream",
     "text": [
      "---* * * \n",
      "--* * * * \n",
      "-* * * * * \n"
     ]
    }
   ],
   "source": [
    "for i in range(2,5):\n",
    "    for j in range(5-i):\n",
    "        print(\"-\", end='')\n",
    "    for j in range(i+1):\n",
    "        print(\"* \", end='')\n",
    "    print()"
   ]
  },
  {
   "cell_type": "code",
   "execution_count": null,
   "metadata": {},
   "outputs": [],
   "source": []
  }
 ],
 "metadata": {
  "kernelspec": {
   "display_name": "Python 3",
   "language": "python",
   "name": "python3"
  },
  "language_info": {
   "codemirror_mode": {
    "name": "ipython",
    "version": 3
   },
   "file_extension": ".py",
   "mimetype": "text/x-python",
   "name": "python",
   "nbconvert_exporter": "python",
   "pygments_lexer": "ipython3",
   "version": "3.7.3"
  }
 },
 "nbformat": 4,
 "nbformat_minor": 2
}
