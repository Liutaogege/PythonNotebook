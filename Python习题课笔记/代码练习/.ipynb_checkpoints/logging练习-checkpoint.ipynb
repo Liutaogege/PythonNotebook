{
 "cells": [
  {
   "cell_type": "code",
   "execution_count": 5,
   "metadata": {},
   "outputs": [
    {
     "name": "stderr",
     "output_type": "stream",
     "text": [
      "ERROR:root:this is error information\n"
     ]
    },
    {
     "name": "stdout",
     "output_type": "stream",
     "text": [
      "test log done\n"
     ]
    }
   ],
   "source": [
    "import logging\n",
    "\n",
    "LOG_FORMAT = \"%(asctime)s - %(levelname)s - %(message)s\"\n",
    "DATE_FORMAT = \"%Y-%m-%d  %H:%M:%S\"\n",
    "logging.basicConfig(format=LOG_FORMAT, datefmt=DATE_FORMAT)\n",
    "\n",
    "# 建立一个log装饰器,给给装饰器添加参数，被修饰的函数带参数\n",
    "def log(test_info):\n",
    "    def internal_log(func):\n",
    "        \n",
    "        def __decorator(*args, **kwargs):\n",
    "            logging.error(\"this is error information\")\n",
    "            func(*args, **kwargs)\n",
    "            # return func(*args, **kwargs) #func有返回值时再调用这个语句\n",
    "        print(test_info)\n",
    "        return __decorator\n",
    "        \n",
    "    return internal_log\n",
    "\n",
    "@log(\"test log done\")\n",
    "def testing():\n",
    "    pass\n",
    "\n",
    "testing()"
   ]
  },
  {
   "cell_type": "code",
   "execution_count": 6,
   "metadata": {},
   "outputs": [
    {
     "name": "stderr",
     "output_type": "stream",
     "text": [
      "ERROR:root:this is error information\n"
     ]
    }
   ],
   "source": [
    "import logging\n",
    "def log(test_info):\n",
    "    def internal_log(func):\n",
    "        def __decorator(*args, **kwargs):\n",
    "            logging.error(\"this is error information\")\n",
    "            func(*args, **kwargs)\n",
    "            # return func(*args, **kwargs) #func有返回值时再调用这个语句\n",
    "        return __decorator\n",
    "        print(test_info)\n",
    "    return internal_log\n",
    "\n",
    "@log(\"test log done\")\n",
    "def testing():\n",
    "    pass\n",
    "\n",
    "testing()"
   ]
  },
  {
   "cell_type": "code",
   "execution_count": 1,
   "metadata": {},
   "outputs": [
    {
     "name": "stdout",
     "output_type": "stream",
     "text": [
      "this is testing log\n",
      "this is main log\n",
      "test done\n",
      "main done\n"
     ]
    }
   ],
   "source": [
    "# logging四大组件\n",
    "import logging\n",
    "import os\n",
    "\n",
    "os.chdir(r\"C:\\Users\\acer\\Desktop\")\n",
    "logger = logging.getLogger(\"my_logger\")\n",
    "# 创建一个日志器\n",
    "logger.setLevel(logging.DEBUG)\n",
    "# 设置logger日志等级\n",
    "\n",
    "#创建handler\n",
    "debug_handler = logging.FileHandler(\"debug.log\",encoding=\"utf-8\")\n",
    "error_handler = logging.FileHandler(\"error.log\",encoding=\"utf-8\")\n",
    "\n",
    "# 设置logger记录等级,设置日志输出格式\n",
    "formatter = logging.Formatter(\n",
    "    fmt=\"%(asctime)s %(name)s %(filename)s %(message)s\",\n",
    "    datefmt=\"%Y/%m/%d %X\"\n",
    "    )\n",
    "debug_handler.setLevel(logging.DEBUG)\n",
    "debug_handler.setFormatter(formatter)\n",
    "\n",
    "error_handler.setLevel(logging.ERROR)\n",
    "error_handler.setFormatter(formatter)\n",
    "\n",
    "#给日志器加上handler\n",
    "logger.addHandler(debug_handler)\n",
    "logger.addHandler(error_handler)\n",
    "\n",
    "\n",
    "# 使用装饰器封装log\n",
    "def log(reminder_info):\n",
    "    def decorator(func):\n",
    "        print(reminder_info)\n",
    "        def wrapper(*arg, **kwargs):\n",
    "            logger.debug(reminder_info)\n",
    "            logger.error(reminder_info)\n",
    "            func(*arg, **kwargs)\n",
    "            \n",
    "        return wrapper\n",
    "    return decorator\n",
    "\n",
    "@log(\"this is testing log\")\n",
    "def testing():\n",
    "    print(\"test done\")\n",
    "\n",
    "@log(\"this is main log\")\n",
    "def main():\n",
    "    print(\"main done\")\n",
    "testing()\n",
    "main()"
   ]
  },
  {
   "cell_type": "code",
   "execution_count": 2,
   "metadata": {},
   "outputs": [
    {
     "name": "stdout",
     "output_type": "stream",
     "text": [
      "test done\n",
      "this is a test log\n",
      "main done\n",
      "this is a main log\n"
     ]
    }
   ],
   "source": [
    "import logging\n",
    "import os\n",
    "\n",
    "\n",
    "os.chdir(r\"C:\\Users\\acer\\Desktop\")\n",
    "logger = logging.getLogger(\"newlogger\")\n",
    "logger.setLevel(logging.WARNING)  # 设置日志器级别，这决定了哪些日志信息能被日志器记录，这是第一道筛选\n",
    "\n",
    "error_handler = logging.FileHandler(\"error.log\")\n",
    "warning_handler = logging.FileHandler(\"warning.log\")\n",
    "formatter = logging.Formatter(\n",
    "    fmt = \"%(asctime)s-%(levelname)s-%(message)s\",\n",
    "    datefmt = \"%Y-%m-%d  %H:%M:%S\"\n",
    ")\n",
    "\n",
    "error_handler.setLevel(logging.ERROR) # 设置处理器处理的日志级别，这是决定哪些日志信息能被输出，在第一道的基础上进行第二道筛选\n",
    "error_handler.setFormatter(formatter)\n",
    "logger.addHandler(error_handler)\n",
    "\n",
    "warning_handler.setLevel(logging.WARNING)\n",
    "warning_handler.setFormatter(formatter)\n",
    "logger.addHandler(warning_handler)\n",
    "\n",
    "def log(test_content):\n",
    "    def decorator(func):\n",
    "        def warpper(*args, **kwargs):\n",
    "            # 用日志器而不是logging生成日志级别处理函数\n",
    "            logger.debug(\"this is debug log\") # 根据第一道筛选和第二道筛选，这个不能通过，所以不会被输出记录\n",
    "            logger.error(\"this is error log\")\n",
    "            logger.warning(\"this is warning log\")\n",
    "            print(test_content)\n",
    "            return func(*args, **kwargs)\n",
    "        return warpper\n",
    "    return decorator\n",
    "\n",
    "@log(\"test done\")\n",
    "def testing():\n",
    "    print(\"this is a test log\")\n",
    "    \n",
    "@log(\"main done\")\n",
    "def main():\n",
    "    print(\"this is a main log\")\n",
    "    \n",
    "testing()\n",
    "main()"
   ]
  },
  {
   "cell_type": "code",
   "execution_count": 1,
   "metadata": {},
   "outputs": [
    {
     "name": "stdout",
     "output_type": "stream",
     "text": [
      "this is error log\n"
     ]
    }
   ],
   "source": [
    "import logging\n",
    "import os\n",
    "\n",
    "os.chdir(r\"C:\\Users\\acer\\Desktop\")\n",
    "logger = logging.getLogger(\"mylogger\")\n",
    "logger.setLevel(logging.INFO)\n",
    "\n",
    "info_handler = logging.FileHandler(\"info.log\")\n",
    "warning_handler = logging.FileHandler(\"warning.log\")\n",
    "\n",
    "formatter = logging.Formatter(fmt=\"%(asctime)s - %(levelname)s - %(message)s\", datefmt=\"%Y-%m-%d  %H:%M:%S\")\n",
    "info_handler.setLevel(logging.INFO)\n",
    "info_handler.setFormatter(formatter)\n",
    "logger.addHandler(info_handler)\n",
    "\n",
    "warning_handler.setLevel(logging.WARNING)\n",
    "warning_handler.setFormatter(formatter)\n",
    "logger.addHandler(warning_handler)\n",
    "\n",
    "def log(func):\n",
    "    def __decorator(*args, **kwargs):\n",
    "        logger.debug(\"this is debug information\")\n",
    "        logger.info(\"this is info information\")\n",
    "        logger.warning(\"this is warning information\")\n",
    "        func(*args, **kwargs)\n",
    "    return __decorator\n",
    "\n",
    "@log\n",
    "def testing(arg):\n",
    "    print(\"this is {} log\".format(arg))\n",
    "    \n",
    "testing(\"error\")\n"
   ]
  }
 ],
 "metadata": {
  "kernelspec": {
   "display_name": "Python 3",
   "language": "python",
   "name": "python3"
  },
  "language_info": {
   "codemirror_mode": {
    "name": "ipython",
    "version": 3
   },
   "file_extension": ".py",
   "mimetype": "text/x-python",
   "name": "python",
   "nbconvert_exporter": "python",
   "pygments_lexer": "ipython3",
   "version": "3.7.3"
  }
 },
 "nbformat": 4,
 "nbformat_minor": 2
}
