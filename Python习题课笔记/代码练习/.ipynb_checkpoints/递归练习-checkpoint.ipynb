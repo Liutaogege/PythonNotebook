{
 "cells": [
  {
   "cell_type": "code",
   "execution_count": 3,
   "metadata": {},
   "outputs": [
    {
     "name": "stdout",
     "output_type": "stream",
     "text": [
      "3\n",
      "2\n",
      "1\n",
      "0\n",
      "====================\n",
      "0\n",
      "这句话会被打印吗1\n",
      "1\n",
      "这句话会被打印吗2\n",
      "2\n",
      "这句话会被打印吗3\n",
      "3\n"
     ]
    }
   ],
   "source": [
    "def fun(num):\n",
    "    print(num)\n",
    "    if num > 0:\n",
    "        fun(num-1)\n",
    "        # 在递归调用的时候，下面这句话不会被打印，该语句呈等待状态，当结束递归调用时，开始依次执行下面的语句\n",
    "        print(\"这句话会被打印吗{}\".format(num))\n",
    "    else:\n",
    "        print(\"=\" * 20)\n",
    "    print(num)\n",
    "fun(3)"
   ]
  },
  {
   "cell_type": "code",
   "execution_count": 12,
   "metadata": {},
   "outputs": [
    {
     "name": "stdout",
     "output_type": "stream",
     "text": [
      "A --> C\n",
      "A --> B\n",
      "C --> B\n",
      "A --> C\n",
      "B --> A\n",
      "B --> C\n",
      "A --> C\n"
     ]
    }
   ],
   "source": [
    "# 汉诺塔\n",
    "def hannuo(a, b, c, n):\n",
    "    if n == 1:\n",
    "        print(\"{} --> {}\".format(a,c))\n",
    "    if n == 2:\n",
    "        print(\"{} --> {}\".format(a,b))\n",
    "        print(\"{} --> {}\".format(a,c))\n",
    "        print(\"{} --> {}\".format(b,c))\n",
    "    if n > 2:\n",
    "        hannuo(a,c,b,n-1) # a通过c把n-1个盘子放到b上，至于怎么放不管\n",
    "        print(\"{} --> {}\".format(a,c)) # 把最大的盘子放到c上\n",
    "        hannuo(b,a,c,n-1) # 最后一步，b通过a把n-1个盘子放到c上，至于怎么放不管\n",
    "\n",
    "a = \"A\"\n",
    "b = \"B\"\n",
    "c = \"C\"\n",
    "hannuo(a,b,c,3)"
   ]
  },
  {
   "cell_type": "code",
   "execution_count": 66,
   "metadata": {},
   "outputs": [
    {
     "name": "stdout",
     "output_type": "stream",
     "text": [
      "全排列处理完毕\n",
      "['a', 'b', 'c']\n",
      "=======\n",
      "=======\n",
      "全排列处理完毕\n",
      "['a', 'c', 'b']\n",
      "=======\n",
      "=======\n",
      "=======\n",
      "全排列处理完毕\n",
      "['b', 'a', 'c']\n",
      "=======\n",
      "=======\n",
      "全排列处理完毕\n",
      "['b', 'c', 'a']\n",
      "=======\n",
      "=======\n",
      "=======\n",
      "全排列处理完毕\n",
      "['c', 'a', 'b']\n",
      "=======\n",
      "=======\n",
      "全排列处理完毕\n",
      "['c', 'b', 'a']\n",
      "=======\n",
      "=======\n",
      "=======\n"
     ]
    }
   ],
   "source": [
    "# 全排列:第一种写法\n",
    "def full_arrange(left, right):\n",
    "    if len(left) > 0:\n",
    "        for item in left:\n",
    "            new_right = right + [item]\n",
    "            new_left = [x for x in left if x!= item]\n",
    "            full_arrange(new_left, new_right)\n",
    "            print(\"=======\") \n",
    "    else:\n",
    "        print(\"全排列处理完毕\")\n",
    "        print(right)\n",
    "        \n",
    "def combination(l):\n",
    "    return full_arrange(l, [])\n",
    "\n",
    "combination(['a', 'b', 'c'])"
   ]
  },
  {
   "cell_type": "code",
   "execution_count": 63,
   "metadata": {},
   "outputs": [
    {
     "name": "stdout",
     "output_type": "stream",
     "text": [
      "a-b\n",
      "a-c\n",
      "b-a\n",
      "b-c\n",
      "c-a\n",
      "c-b\n"
     ]
    }
   ],
   "source": [
    "# 全排列第二种写法,使用模块\n",
    "import itertools\n",
    "\n",
    "for i in itertools.permutations(\"abc\", 2):\n",
    "    print(\"-\".join(i))"
   ]
  },
  {
   "cell_type": "code",
   "execution_count": 74,
   "metadata": {},
   "outputs": [
    {
     "name": "stdout",
     "output_type": "stream",
     "text": [
      "[['a', 'b', 'c'], ['a', 'c', 'b'], ['b', 'a', 'c'], ['b', 'c', 'a'], ['c', 'a', 'b'], ['c', 'b', 'a']]\n"
     ]
    }
   ],
   "source": [
    "# 全排列第三种写法\n",
    "def perm(l):\n",
    "    if len(l) <= 1:\n",
    "        return l\n",
    "    r = []\n",
    "    for i in range(len(l)):\n",
    "        s = l[:i] + l[i+1:]\n",
    "        p = perm(s)\n",
    "        for x in p:\n",
    "            r.append(l[i:i+1] + list(x))\n",
    "    return r\n",
    "\n",
    "print(perm(['a', 'b', 'c']))"
   ]
  },
  {
   "cell_type": "code",
   "execution_count": 75,
   "metadata": {},
   "outputs": [
    {
     "name": "stdout",
     "output_type": "stream",
     "text": [
      "[1, 2, 3, 4]\n",
      "[1, 2, 4, 3]\n",
      "[1, 3, 2, 4]\n",
      "[1, 3, 4, 2]\n",
      "[1, 4, 3, 2]\n",
      "[1, 4, 2, 3]\n",
      "[2, 1, 3, 4]\n",
      "[2, 1, 4, 3]\n",
      "[2, 3, 1, 4]\n",
      "[2, 3, 4, 1]\n",
      "[2, 4, 3, 1]\n",
      "[2, 4, 1, 3]\n",
      "[3, 2, 1, 4]\n",
      "[3, 2, 4, 1]\n",
      "[3, 1, 2, 4]\n",
      "[3, 1, 4, 2]\n",
      "[3, 4, 1, 2]\n",
      "[3, 4, 2, 1]\n",
      "[4, 2, 3, 1]\n",
      "[4, 2, 1, 3]\n",
      "[4, 3, 2, 1]\n",
      "[4, 3, 1, 2]\n",
      "[4, 1, 3, 2]\n",
      "[4, 1, 2, 3]\n"
     ]
    }
   ],
   "source": [
    "# 全排列第四种写法\n",
    "#递归,下降二叉树\n",
    "def perm(lis,begin,end):\n",
    "    #print \"调用perm函数\"\n",
    "    if begin>=end:\n",
    "        print( lis)\n",
    "    else:\n",
    "        i = begin \n",
    "        for num in range(begin,end):\n",
    "            lis[num],lis[i] = lis[i],lis[num] #固定当前位置,在进行下一位的排列\n",
    "            #print \"-----num:%d,begin:%d\"%(num,begin)\n",
    "            perm(lis,begin+1,end)\n",
    "            #print \"*****num:%d,begin:%d\"%(num,begin)\n",
    "            #调用结束之后还需要回溯将交换位置的元素还原,以供其他下降路径使用(二叉树)\n",
    "            lis[num],lis[i] = lis[i],lis[num]\n",
    "\n",
    "lis = [1,2,3,4]\n",
    "perm(lis,0,len(lis))"
   ]
  },
  {
   "cell_type": "code",
   "execution_count": 65,
   "metadata": {},
   "outputs": [
    {
     "name": "stdout",
     "output_type": "stream",
     "text": [
      "[]\n"
     ]
    }
   ],
   "source": [
    "a b c\n",
    "0 1 2\n",
    "s = bc\n",
    "s = ac\n",
    "s = ab"
   ]
  },
  {
   "cell_type": "code",
   "execution_count": 25,
   "metadata": {},
   "outputs": [
    {
     "data": {
      "text/plain": [
       "24"
      ]
     },
     "execution_count": 25,
     "metadata": {},
     "output_type": "execute_result"
    }
   ],
   "source": [
    "# 阶乘\n",
    "def func(num):\n",
    "    if num == 1 or num == 2:\n",
    "        return num\n",
    "    if num > 2:\n",
    "        return num * func(num-1)\n",
    "    \n",
    "func(4)"
   ]
  },
  {
   "cell_type": "code",
   "execution_count": 41,
   "metadata": {},
   "outputs": [
    {
     "name": "stdout",
     "output_type": "stream",
     "text": [
      "13\n"
     ]
    }
   ],
   "source": [
    "# 斐波那契数列\n",
    "def fb(n):\n",
    "    if n==1 or n==2:\n",
    "        #print(1,end='')\n",
    "        return 1\n",
    "    if n > 2:\n",
    "        return fb(n-1) + fb(n-2)\n",
    "   \n",
    "print(fb(7))"
   ]
  }
 ],
 "metadata": {
  "kernelspec": {
   "display_name": "Python 3",
   "language": "python",
   "name": "python3"
  },
  "language_info": {
   "codemirror_mode": {
    "name": "ipython",
    "version": 3
   },
   "file_extension": ".py",
   "mimetype": "text/x-python",
   "name": "python",
   "nbconvert_exporter": "python",
   "pygments_lexer": "ipython3",
   "version": "3.7.3"
  }
 },
 "nbformat": 4,
 "nbformat_minor": 2
}
