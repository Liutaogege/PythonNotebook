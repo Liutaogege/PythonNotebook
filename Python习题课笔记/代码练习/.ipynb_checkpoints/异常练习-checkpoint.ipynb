{
 "cells": [
  {
   "cell_type": "code",
   "execution_count": 4,
   "metadata": {},
   "outputs": [
    {
     "name": "stdout",
     "output_type": "stream",
     "text": [
      "兄弟出错了\n",
      "被减数不能小于件数\n"
     ]
    }
   ],
   "source": [
    "def subtract(a, b):\n",
    "    if a < b:\n",
    "        raise Exception(\"被减数不能小于件数\")\n",
    "    else:\n",
    "        return a - b\n",
    "    \n",
    "try:\n",
    "    subtract(1, 6)\n",
    "except Exception as e:\n",
    "    print(\"兄弟出错了\")\n",
    "    print(e)"
   ]
  },
  {
   "cell_type": "code",
   "execution_count": 36,
   "metadata": {},
   "outputs": [
    {
     "name": "stdout",
     "output_type": "stream",
     "text": [
      "以上就是文件的全部内容\n"
     ]
    }
   ],
   "source": [
    "# 定义函数打开文件，且返回文件的内容，用异常处理可能发生的错误\n",
    "def func(fileadress):\n",
    "    try:\n",
    "        with open(fileadress, \"r\") as f:\n",
    "            content = f.read()\n",
    "            print(\"以上就是文件的全部内容\")\n",
    "    except FileNotFoundError as e:\n",
    "        print(e)\n",
    "        print(\"你打开的文件不存在，请检查文件名\")\n",
    "\n",
    "    except Exception as e:\n",
    "        print(e)\n",
    "        print(\"有错误发生了\")\n",
    "    else:\n",
    "        f.close()\n",
    "        \n",
    "func(r\"C:\\Users\\acer\\Desktop\\test.txt\")"
   ]
  },
  {
   "cell_type": "code",
   "execution_count": 52,
   "metadata": {},
   "outputs": [
    {
     "name": "stdout",
     "output_type": "stream",
     "text": [
      "the length of content  you enter bigger than 5， please renter\n"
     ]
    },
    {
     "data": {
      "text/plain": [
       "__main__.MyException('woa')"
      ]
     },
     "execution_count": 52,
     "metadata": {},
     "output_type": "execute_result"
    }
   ],
   "source": [
    "class MyException(Exception):\n",
    "    def __init__(self, string):\n",
    "        try:\n",
    "            self.s = string\n",
    "            if len(self.s) < 5:\n",
    "                raise Exception\n",
    "        except Exception:\n",
    "            print(\"the length of content  you enter bigger than 5， please renter\")\n",
    "        else:\n",
    "            print(\"输入成功\")\n",
    "\n",
    "MyException(\"woa\")"
   ]
  },
  {
   "cell_type": "code",
   "execution_count": 59,
   "metadata": {},
   "outputs": [
    {
     "name": "stdout",
     "output_type": "stream",
     "text": [
      "输入成功\n"
     ]
    }
   ],
   "source": [
    "class Myerror(Exception):\n",
    "    pass\n",
    "\n",
    "def checking(string):\n",
    "    if len(string) < 5:\n",
    "        print(\"字符串的长度要大于5哦\")\n",
    "        raise Myerror\n",
    "    else:\n",
    "        print(\"输入成功\")\n",
    "            \n",
    "try:\n",
    "    checking(\"353334\")\n",
    "except Myerror as e:\n",
    "    print(e)\n",
    "    "
   ]
  },
  {
   "cell_type": "code",
   "execution_count": 74,
   "metadata": {},
   "outputs": [
    {
     "name": "stdout",
     "output_type": "stream",
     "text": [
      "<class 'zip'>\n"
     ]
    }
   ],
   "source": [
    "import string\n",
    "import random\n",
    "# string.ascii_lowercase得到所有的小写字母\n",
    "# string.ascii_uppercase得到所有的大写字母\n",
    "# string.digits得到所有的0到9的自然数\n",
    "code = []\n",
    "lower_case = string.ascii_lowercase\n",
    "upper_case = string.ascii_uppercase\n",
    "digt = string.digits\n",
    "lst = [lower_case, upper_case, digt]\n",
    "for i in lst:\n",
    "    code.append(random.choice(i))\n",
    "l = zip(lst,[])\n",
    "for i in l:\n",
    "    print(i)\n",
    "print(type(l))"
   ]
  },
  {
   "cell_type": "code",
   "execution_count": 71,
   "metadata": {},
   "outputs": [
    {
     "name": "stdout",
     "output_type": "stream",
     "text": [
      "Help on class zip in module builtins:\n",
      "\n",
      "class zip(object)\n",
      " |  zip(iter1 [,iter2 [...]]) --> zip object\n",
      " |  \n",
      " |  Return a zip object whose .__next__() method returns a tuple where\n",
      " |  the i-th element comes from the i-th iterable argument.  The .__next__()\n",
      " |  method continues until the shortest iterable in the argument sequence\n",
      " |  is exhausted and then it raises StopIteration.\n",
      " |  \n",
      " |  Methods defined here:\n",
      " |  \n",
      " |  __getattribute__(self, name, /)\n",
      " |      Return getattr(self, name).\n",
      " |  \n",
      " |  __iter__(self, /)\n",
      " |      Implement iter(self).\n",
      " |  \n",
      " |  __next__(self, /)\n",
      " |      Implement next(self).\n",
      " |  \n",
      " |  __reduce__(...)\n",
      " |      Return state information for pickling.\n",
      " |  \n",
      " |  ----------------------------------------------------------------------\n",
      " |  Static methods defined here:\n",
      " |  \n",
      " |  __new__(*args, **kwargs) from builtins.type\n",
      " |      Create and return a new object.  See help(type) for accurate signature.\n",
      "\n"
     ]
    }
   ],
   "source": [
    "import string\n",
    "help(zip(1))"
   ]
  }
 ],
 "metadata": {
  "kernelspec": {
   "display_name": "Python 3",
   "language": "python",
   "name": "python3"
  },
  "language_info": {
   "codemirror_mode": {
    "name": "ipython",
    "version": 3
   },
   "file_extension": ".py",
   "mimetype": "text/x-python",
   "name": "python",
   "nbconvert_exporter": "python",
   "pygments_lexer": "ipython3",
   "version": "3.7.3"
  }
 },
 "nbformat": 4,
 "nbformat_minor": 2
}
