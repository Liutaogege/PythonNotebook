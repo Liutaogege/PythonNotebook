{
 "cells": [
  {
   "cell_type": "code",
   "execution_count": 8,
   "metadata": {},
   "outputs": [
    {
     "name": "stdout",
     "output_type": "stream",
     "text": [
      "你现在播放的是神雕侠侣你现在收听的是等一分钟\n",
      "\n",
      "你现在播放的是头脑风暴\n",
      "你现在收听的是天使的翅膀\n",
      "你选择的文件格式打不开\n"
     ]
    }
   ],
   "source": [
    "import _thread as thread\n",
    "import time\n",
    "\n",
    "movie_lst = ['神雕侠侣.mp4', '头脑风暴.avi', '反贪风暴.mov']\n",
    "music_lst = ['等一分钟.mp3', '天使的翅膀.mp3']\n",
    "movie_format = ['mp4', 'avi']\n",
    "music_format = [\"mp3\"]\n",
    "\n",
    "def play(playlst):\n",
    "    for ele in playlst:\n",
    "        if ele.split(\".\")[1] in movie_format:\n",
    "            print(\"你现在播放的是{}\".format(ele.split('.')[0]))\n",
    "            time.sleep(2)\n",
    "            \n",
    "        elif ele.split(\".\")[1] in music_format:\n",
    "            print(\"你现在收听的是{}\".format(ele.split('.')[0]))\n",
    "            time.sleep(3)\n",
    "        else:\n",
    "            print(\"你选择的文件格式打不开\")\n",
    "            \n",
    "def main():\n",
    "    thread.start_new_thread(play, (movie_lst, ))\n",
    "    thread.start_new_thread(play, (music_lst, ))\n",
    "    time.sleep(5)\n",
    "    # 按道理如果主线程等待子线程，那么主线程一死，子线程的执行就会中断\n",
    "    # jupyter执行有问题，使用pycharm\n",
    "    \n",
    "if __name__ == \"__main__\":\n",
    "    main()"
   ]
  },
  {
   "cell_type": "code",
   "execution_count": 12,
   "metadata": {},
   "outputs": [
    {
     "name": "stdout",
     "output_type": "stream",
     "text": [
      "你现在播放的是白雪公主你现在收听的是等一分钟\n",
      "\n",
      "你现在播放的是琅琊榜\n",
      "你现在收听的是天使的翅膀\n",
      "你选择的文件格式打不开\n",
      "所有程序运行结束\n"
     ]
    }
   ],
   "source": [
    "import threading\n",
    "\n",
    "movie_lst = ['白雪公主.mp4', '琅琊榜.avi', '阿凡达.mov']\n",
    "musis_lst = ['错爱.mp3', '星星有泪.mp3']\n",
    "movie_format = ['mp4', 'avi']\n",
    "music_format = ['mp3']\n",
    "\n",
    "def playing(playlst):\n",
    "    for ele in playlst:\n",
    "        if ele.split(\".\")[1] in movie_format:\n",
    "            print(\"你现在播放的是%s\"%ele)\n",
    "        elif ele.split(\".\")[1] in music_format:\n",
    "            print(\"你现在收听的是%s\"%ele)\n",
    "            \n",
    "        else:\n",
    "            print(\"你播放的格式没有\")\n",
    "            \n",
    "def main():\n",
    "    the_1 = threading.Thread(target=play, args=(movie_lst, ))\n",
    "    the_2 = threading.Thread(target=play, args=(music_lst, ))\n",
    "    the_1.start()\n",
    "    the_2.start()\n",
    "    the_1.join()\n",
    "    the_2.join()\n",
    "    print(\"所有程序运行结束\")\n",
    "    \n",
    "if __name__ == \"__main__\":\n",
    "    main()"
   ]
  },
  {
   "cell_type": "code",
   "execution_count": 19,
   "metadata": {},
   "outputs": [
    {
     "name": "stdout",
     "output_type": "stream",
     "text": [
      "你现在收听的是错爱.mp3\n",
      "你现在播放的是白雪公主.mp4\n",
      "你现在播放的是琅琊榜.avi\n",
      "你播放的格式没有\n",
      "你现在收听的是星星有泪.mp3\n"
     ]
    }
   ],
   "source": [
    "import threading\n",
    "\n",
    "movie_lst = ['白雪公主.mp4', '琅琊榜.avi', '阿凡达.mov']\n",
    "music_lst = ['错爱.mp3', '星星有泪.mp3']\n",
    "movie_format = ['mp4', 'avi']\n",
    "music_format = ['mp3']\n",
    "\n",
    "def playing(playlst):\n",
    "    for ele in playlst:\n",
    "        if ele.split(\".\")[1] in movie_format:\n",
    "            print(\"你现在播放的是%s\"%ele)\n",
    "        elif ele.split(\".\")[1] in music_format:\n",
    "            print(\"你现在收听的是%s\"%ele)\n",
    "            \n",
    "        else:\n",
    "            print(\"你播放的格式没有\")\n",
    "            \n",
    "class MyThread(threading.Thread):\n",
    "    def __init__(self, playlst):\n",
    "        super().__init__()\n",
    "        self.playlst = playlst\n",
    "        \n",
    "    def run(self):\n",
    "        playing(self.playlst)\n",
    "        \n",
    "if __name__ == \"__main__\":\n",
    "    m1 = MyThread(music_lst)\n",
    "    m2 = MyThread(movie_lst)\n",
    "    m1.start()\n",
    "    m2.start()"
   ]
  },
  {
   "cell_type": "code",
   "execution_count": 1,
   "metadata": {},
   "outputs": [],
   "source": [
    "import multiprocessing\n",
    "\n",
    "movie_lst = ['白雪公主.mp4', '琅琊榜.avi', '阿凡达.mov']\n",
    "music_lst = ['错爱.mp3', '星星有泪.mp3']\n",
    "movie_format = ['mp4', 'avi']\n",
    "music_format = ['mp3']\n",
    "\n",
    "def playing(playlst):\n",
    "    for ele in playlst:\n",
    "        if ele.split(\".\")[1] in movie_format:\n",
    "            print(\"你现在播放的是%s\"%ele)\n",
    "        elif ele.split(\".\")[1] in music_format:\n",
    "            print(\"你现在收听的是%s\"%ele)\n",
    "            \n",
    "        else:\n",
    "            print(\"你播放的格式没有\")\n",
    "            \n",
    "def main():\n",
    "    m1 = multiprocessing.Process(target=playing, args=(movie_lst, ))\n",
    "    m2 = multiprocessing.Process(target=playing, args=(music_lst, ))\n",
    "    m1.start()\n",
    "    m2.start()\n",
    "    \n",
    "if __name__ == \"__main__\":\n",
    "    main()"
   ]
  }
 ],
 "metadata": {
  "kernelspec": {
   "display_name": "Python 3",
   "language": "python",
   "name": "python3"
  },
  "language_info": {
   "codemirror_mode": {
    "name": "ipython",
    "version": 3
   },
   "file_extension": ".py",
   "mimetype": "text/x-python",
   "name": "python",
   "nbconvert_exporter": "python",
   "pygments_lexer": "ipython3",
   "version": "3.7.3"
  }
 },
 "nbformat": 4,
 "nbformat_minor": 2
}
