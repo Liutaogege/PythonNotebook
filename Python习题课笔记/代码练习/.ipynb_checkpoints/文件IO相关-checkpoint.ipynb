{
 "cells": [
  {
   "cell_type": "code",
   "execution_count": null,
   "metadata": {},
   "outputs": [],
   "source": [
    "file_name = input(\"请输入你的文件名：\")\n",
    "\n",
    "\n",
    "def file_write(file_name):\n",
    "    print(\"请输入你要写入的内容(按wq退出）：\")\n",
    "    file_adr = \"C:\\\\Users\\\\acer\\\\Desktop\\\\\" + file_name + '.text'\n",
    "    f = open(file_adr, 'w')\n",
    "    while True:\n",
    "        write_something = input()\n",
    "        if write_something != \"wq\":\n",
    "            if not write_something.endswith(\"wq\"):\n",
    "                f.write(\"%s\\n\"%write_something)\n",
    "            else:\n",
    "                new_write = write_something[:-2]\n",
    "                f.write(\"%s\\n\"%new_write)\n",
    "                \n",
    "                break\n",
    "        else:\n",
    "            break\n",
    "file_write(file_name)"
   ]
  },
  {
   "cell_type": "code",
   "execution_count": 20,
   "metadata": {},
   "outputs": [
    {
     "name": "stdout",
     "output_type": "stream",
     "text": [
      "请输入文件名：test.text\n",
      "请输入文件要显示的行数内容：4\n",
      "ajo\n",
      "\n",
      "i\n",
      "\n",
      "love\n",
      "\n",
      "you\n",
      "\n"
     ]
    }
   ],
   "source": [
    "import os\n",
    "\n",
    "os.chdir(r\"C:\\Users\\acer\\Desktop\")\n",
    "file_name = input(\"请输入文件名：\")\n",
    "row = input(\"请输入文件要显示的行数内容：\")\n",
    "\n",
    "\n",
    "def output(file_name, row):\n",
    "    f = open(file_name)\n",
    "    total_row = len(f.readlines())\n",
    "    f.seek(0)\n",
    "    if int(row) > total_row:\n",
    "        row = total_row\n",
    "    for i in range(int(row)):\n",
    "        print(f.readline())\n",
    "        \n",
    "    f.close()\n",
    "        \n",
    "output(file_name, row)"
   ]
  },
  {
   "cell_type": "code",
   "execution_count": 15,
   "metadata": {},
   "outputs": [
    {
     "name": "stdout",
     "output_type": "stream",
     "text": [
      "请输入文件名：test.text\n",
      "请输入文件要显示的行数内容(如[1:8])：:\n",
      "ajo\n",
      "i\n",
      "love\n",
      "you\n",
      "rellay\n"
     ]
    }
   ],
   "source": [
    "import os\n",
    "\n",
    "os.chdir(r\"C:\\Users\\acer\\Desktop\")\n",
    "file_name = input(\"请输入文件名：\")\n",
    "row = input(\"请输入文件要显示的行数内容(如[1:8])：\")\n",
    "\n",
    "\n",
    "def output(file_name, row):\n",
    "    f = open(file_name, encoding='utf-8')\n",
    "    total_row = len(f.readlines())\n",
    "    begin, end = row.split(\":\")\n",
    "    f.seek(0)\n",
    "    if begin == \"\" or begin == \"0\":\n",
    "        begin = 1\n",
    "    if end == \"\":\n",
    "        end = total_row\n",
    "    if int(begin) != 1:\n",
    "        for i in range(int(begin)):\n",
    "            f.readline()\n",
    "    for i in range(int(end) - int(begin) + 1):\n",
    "        print(f.readline(), end='')\n",
    "    f.close()\n",
    "output(file_name, row)"
   ]
  },
  {
   "cell_type": "code",
   "execution_count": 27,
   "metadata": {},
   "outputs": [
    {
     "name": "stdout",
     "output_type": "stream",
     "text": [
      "please enter the name of file you want to modify:test.text\n",
      "please enter the string you want to replaceresent\n",
      "please enter the new stringlove\n",
      "are you sure you want to change?(Yes/No)no\n",
      "你已取消替换\n"
     ]
    }
   ],
   "source": [
    "# 实现文件内容替换操作\n",
    "import os\n",
    "\n",
    "file_name = input(\"please enter the name of file you want to modify:\")\n",
    "origin_s = input(\"please enter the string you want to replace\")\n",
    "new_s = input(\"please enter the new string\")\n",
    "\n",
    "def exchang(file_name, origin_s, new_s):\n",
    "    # 定位到文件位置\n",
    "    os.chdir(r\"C:\\Users\\acer\\Desktop\")\n",
    "    if not os.path.exists(file_name):\n",
    "        print(\"sorry, the file_name doesn't exist\")\n",
    "    f = open(file_name)\n",
    "    content = []\n",
    "    f.seek(0)\n",
    "    for line in f:\n",
    "        if origin_s in line:\n",
    "            line = line.replace(origin_s, new_s)\n",
    "        content.append(line)\n",
    "    decision = input(\"are you sure you want to change?(Yes/No)\")\n",
    "    if decision.lower() == \"yes\":\n",
    "        f = open(file_name, 'w')\n",
    "        f.write(\"\".join(content))\n",
    "        f.close()\n",
    "        print(\"替换完成\")\n",
    "    else:\n",
    "        print(\"你已取消替换\")\n",
    "        f.close()\n",
    "        \n",
    "exchang(file_name, origin_s, new_s)"
   ]
  },
  {
   "cell_type": "code",
   "execution_count": 14,
   "metadata": {},
   "outputs": [
    {
     "name": "stdout",
     "output_type": "stream",
     "text": [
      "当前的目录是 C:\\Users\\acer\\Desktop\n",
      "{'文件夹': 0}\n",
      "该文件夹下文件夹的个数为:3\n",
      "该文件夹下.lnk的文件类型有19个\n",
      "该文件夹下.ini的文件类型有1个\n",
      "该文件夹下.exe的文件类型有1个\n",
      "该文件夹下的文件类型有1个\n",
      "该文件夹下.text的文件类型有1个\n",
      "该文件夹下.docx的文件类型有3个\n",
      "该文件夹下.prproj的文件类型有3个\n",
      "该文件夹下.bmp的文件类型有1个\n",
      "该文件夹下.xlsx的文件类型有1个\n"
     ]
    }
   ],
   "source": [
    "# 获取摸个文件夹下面的文件夹个数以及文件个数\n",
    "\n",
    "import os\n",
    "# 先查看自己所在的当前目录\n",
    "print(\"当前的目录是\", os.getcwd())\n",
    "# 得到当前目录下的所有文件信息\n",
    "all_files = os.listdir(os.curdir)\n",
    "type_dict = {}\n",
    "type_dict.setdefault(\"文件夹\", 0)\n",
    "\n",
    "print(type_dict)\n",
    "for each_file in all_files:\n",
    "    if os.path.isdir(each_file):\n",
    "        type_dict['文件夹'] += 1\n",
    "    else:\n",
    "        # 获取文件名的后缀\n",
    "        ext = os.path.splitext(each_file)[1]\n",
    "        type_dict.setdefault(ext, 0)\n",
    "        type_dict[ext] += 1\n",
    "\n",
    "for k,v in type_dict.items():\n",
    "    if k == \"文件夹\":\n",
    "        print(\"该文件夹下文件夹的个数为:{}\".format(v))\n",
    "    else:\n",
    "        print(\"该文件夹下{}的文件类型有{}个\".format(k, v))\n",
    "    "
   ]
  },
  {
   "cell_type": "code",
   "execution_count": 25,
   "metadata": {},
   "outputs": [
    {
     "name": "stdout",
     "output_type": "stream",
     "text": [
      "请输入你要查找文件的目录：C:\\Users\\acer\\Desktop\\testing\n",
      "请输入你要查找的文件名：test.txt\n",
      "test.txt\\test.txt\n",
      "test.txt\\test.txt\n"
     ]
    }
   ],
   "source": [
    "# 在某个目录下查找某个文件的位置，该文件可能有多个同名处于不同的目录中，把这些目录全部都打印出来\n",
    "\n",
    "import os\n",
    "\n",
    "search_dir = input(\"请输入你要查找文件的目录：\")\n",
    "search_file = input(\"请输入你要查找的文件名：\")\n",
    "def searching(search_dir, search_file):\n",
    "    os.chdir(search_dir)\n",
    "    all_files = os.listdir(os.curdir)\n",
    "    for each_file in all_files:\n",
    "        if os.path.isdir(each_file):\n",
    "            searching(each_file, search_file)  \n",
    "            # 找完文件之后回到父目录\n",
    "            os.chdir(os.pardir)\n",
    "        else:\n",
    "            if each_file == search_file:\n",
    "                target_dir = os.getcwd() + \"\\\\\" + search_file\n",
    "                print(target_dir)\n",
    "\n",
    "            \n",
    "searching(search_dir, search_file)"
   ]
  },
  {
   "cell_type": "code",
   "execution_count": 17,
   "metadata": {},
   "outputs": [
    {
     "name": "stdout",
     "output_type": "stream",
     "text": [
      "0\n"
     ]
    }
   ],
   "source": [
    "lst = []\n",
    "print(len(lst))"
   ]
  }
 ],
 "metadata": {
  "kernelspec": {
   "display_name": "Python 3",
   "language": "python",
   "name": "python3"
  },
  "language_info": {
   "codemirror_mode": {
    "name": "ipython",
    "version": 3
   },
   "file_extension": ".py",
   "mimetype": "text/x-python",
   "name": "python",
   "nbconvert_exporter": "python",
   "pygments_lexer": "ipython3",
   "version": "3.7.3"
  }
 },
 "nbformat": 4,
 "nbformat_minor": 2
}
