{
 "cells": [
  {
   "cell_type": "code",
   "execution_count": 40,
   "metadata": {},
   "outputs": [
    {
     "name": "stdout",
     "output_type": "stream",
     "text": [
      "请输入宾客们的名字，用逗号隔开:liutao,ILOVEYOU\n",
      "['Liutao', 'Iloveyou']\n"
     ]
    }
   ],
   "source": [
    "import ast\n",
    "\n",
    "def func(s):\n",
    "    return s.capitalize()\n",
    "s = input(\"请输入宾客们的名字，用逗号隔开:\")\n",
    "s_list = list(s.split(\",\"))\n",
    "new_list = map(func, s_list)\n",
    "final_list = list(new_list)\n",
    "\n",
    "print(final_list)"
   ]
  },
  {
   "cell_type": "code",
   "execution_count": 41,
   "metadata": {},
   "outputs": [
    {
     "name": "stdout",
     "output_type": "stream",
     "text": [
      "请输入宾客们的名字，用逗号隔开:litao\n",
      "['Litao']\n"
     ]
    }
   ],
   "source": [
    "import ast\n",
    "\n",
    "def func(s):\n",
    "    return s.capitalize()\n",
    "s = input(\"请输入宾客们的名字，用逗号隔开:\")\n",
    "s_list = list(s.split(\",\"))\n",
    "new_list = map(lambda x: x.capitalize(), s_list)\n",
    "print(list(new_list))"
   ]
  },
  {
   "cell_type": "code",
   "execution_count": 11,
   "metadata": {},
   "outputs": [
    {
     "name": "stdout",
     "output_type": "stream",
     "text": [
      "['liutao', 'TTom', 'xIaoMing', 'HAHAXIANSHENG']\n"
     ]
    }
   ],
   "source": [
    "s = \"liutao,TTom,xIaoMing,HAHAXIANSHENG\"\n",
    "s_list = list(s.split(\",\"))\n",
    "print(s_list)"
   ]
  },
  {
   "cell_type": "code",
   "execution_count": 42,
   "metadata": {},
   "outputs": [
    {
     "name": "stdout",
     "output_type": "stream",
     "text": [
      "[1, 2, 3, 4, 5, 6, 7, 8, 9, 11, 22, 33, 44, 55, 66, 77, 88, 99, 101, 111, 121, 131, 141, 151, 161, 171, 181, 191, 202, 212, 222, 232, 242, 252, 262, 272, 282, 292, 303, 313, 323, 333, 343, 353, 363, 373, 383, 393, 404, 414, 424, 434, 444, 454, 464, 474, 484, 494, 505, 515, 525, 535, 545, 555, 565, 575, 585, 595, 606, 616, 626, 636, 646, 656, 666, 676, 686, 696, 707, 717, 727, 737, 747, 757, 767, 777, 787, 797, 808, 818, 828, 838, 848, 858, 868, 878, 888, 898, 909, 919, 929, 939, 949, 959, 969, 979, 989, 999]\n"
     ]
    }
   ],
   "source": [
    "# 判断一个数是否是回数：如12321\n",
    "import math\n",
    "\n",
    "def equal(a, b):\n",
    "    return a == b\n",
    "\n",
    "def is_huishu(num):\n",
    "        a = str(num)\n",
    "        len_a = len(a)\n",
    "        for i in range(math.ceil(len_a/2)): # i只要取到数字长度的一般就可以了节省时间\n",
    "            if equal(a[i], a[len_a-i-1]):\n",
    "                continue\n",
    "            else:\n",
    "                return False\n",
    "        return True\n",
    "output = filter(is_huishu, range(1,1000))\n",
    "print(list(output))"
   ]
  },
  {
   "cell_type": "code",
   "execution_count": 49,
   "metadata": {},
   "outputs": [
    {
     "name": "stdout",
     "output_type": "stream",
     "text": [
      "[1, 2, 3, 4, 5, 6, 7, 8, 9, 11, 22, 33, 44, 55, 66, 77, 88, 99, 101, 111, 121, 131, 141, 151, 161, 171, 181, 191, 202, 212, 222, 232, 242, 252, 262, 272, 282, 292, 303, 313, 323, 333, 343, 353, 363, 373, 383, 393, 404, 414, 424, 434, 444, 454, 464, 474, 484, 494, 505, 515, 525, 535, 545, 555, 565, 575, 585, 595, 606, 616, 626, 636, 646, 656, 666, 676, 686, 696, 707, 717, 727, 737, 747, 757, 767, 777, 787, 797, 808, 818, 828, 838, 848, 858, 868, 878, 888, 898, 909, 919, 929, 939, 949, 959, 969, 979, 989, 999]\n"
     ]
    }
   ],
   "source": [
    "# filter结合lambda函数判断是否是回数\n",
    "# 以下这种写法只能判断三位数以内的，判断四位数以上得到错误结果\n",
    "\n",
    "lst = range(1, 1000)\n",
    "output = filter(lambda x: str(x)[0] == str(x)[len(str(x)) - 1], lst)\n",
    "print(list(output))"
   ]
  },
  {
   "cell_type": "code",
   "execution_count": 54,
   "metadata": {},
   "outputs": [
    {
     "name": "stdout",
     "output_type": "stream",
     "text": [
      "[1, 2, 3, 4, 5, 6, 7, 8, 9, 11, 22, 33, 44, 55, 66, 77, 88, 99, 101, 111, 121, 131, 141, 151, 161, 171, 181, 191, 202, 212, 222, 232, 242, 252, 262, 272, 282, 292]\n"
     ]
    }
   ],
   "source": [
    "# 判断一个数是否是回数：如12321\n",
    "import math\n",
    "\n",
    "def equal(a, b):\n",
    "    return a == b\n",
    "\n",
    "def is_huishu(num):\n",
    "        a = str(num)\n",
    "        len_a = len(a)\n",
    "        for i in range(math.ceil(len_a/2)): # i只要取到数字长度的一般就可以了节省时间\n",
    "            return equal(a[i], a[len_a-i-1])\n",
    "\n",
    "output = filter(is_huishu, range(1,300))\n",
    "print(list(output))"
   ]
  },
  {
   "cell_type": "code",
   "execution_count": 8,
   "metadata": {},
   "outputs": [
    {
     "name": "stdout",
     "output_type": "stream",
     "text": [
      "请输入你的文件名：test\n",
      "请输入你要写入的内容(按wq退出）：\n",
      "ajo\n",
      "i\n",
      "love\n",
      "you\n",
      "rellaywq\n"
     ]
    }
   ],
   "source": [
    "file_name = input(\"请输入你的文件名：\")\n",
    "\n",
    "\n",
    "def file_write(file_name):\n",
    "    print(\"请输入你要写入的内容(按wq退出）：\")\n",
    "    file_adr = \"C:\\\\Users\\\\acer\\\\Desktop\\\\\" + file_name + '.text'\n",
    "    f = open(file_adr, 'w')\n",
    "    while True:\n",
    "        write_something = input()\n",
    "        if write_something != \"wq\":\n",
    "            if not write_something.endswith(\"wq\"):\n",
    "                f.write(\"%s\\n\"%write_something)\n",
    "            else:\n",
    "                new_write = write_something[:-2]\n",
    "                f.write(\"%s\\n\"%new_write)\n",
    "                \n",
    "                break\n",
    "        else:\n",
    "            break\n",
    "file_write(file_name)"
   ]
  },
  {
   "cell_type": "code",
   "execution_count": 20,
   "metadata": {},
   "outputs": [
    {
     "name": "stdout",
     "output_type": "stream",
     "text": [
      "['ajo\\n', 'i\\n', 'love\\n', 'you\\n', 'rellay\\n']\n",
      "['ajo\\n', 'i\\n', 'loving\\n', 'your\\n', 'rellay\\n']\n",
      "[1, 2]\n"
     ]
    }
   ],
   "source": [
    "with open(r\"C:\\Users\\acer\\Desktop\\test.text\", 'r') as f:\n",
    "    content = f.readlines()\n",
    "    print(content)\n",
    "\n",
    "with open(r\"C:\\Users\\acer\\Desktop\\test2.text\", 'r') as f:\n",
    "    content1 = f.readlines()\n",
    "    print(content1)\n",
    "    \n",
    "same_row = []\n",
    "for i in range(len(content) - 1):\n",
    "    for j in range(len(content1) - 1):\n",
    "        if i == j:\n",
    "            if content[i] == content1[j]:\n",
    "                same_row.append(i+1)\n",
    "print(same_row)"
   ]
  },
  {
   "cell_type": "code",
   "execution_count": 22,
   "metadata": {},
   "outputs": [
    {
     "name": "stdout",
     "output_type": "stream",
     "text": [
      "ajo\n",
      "\n",
      "-\n",
      "i\n",
      "\n",
      "-\n",
      "love\n",
      "\n",
      "-\n",
      "you\n",
      "\n",
      "-\n",
      "rellay\n",
      "\n",
      "-\n"
     ]
    }
   ],
   "source": [
    "with open(r\"C:\\Users\\acer\\Desktop\\test.text\", 'r') as f:\n",
    "    for cont in f:\n",
    "        print(cont)\n",
    "        print(\"-\")"
   ]
  }
 ],
 "metadata": {
  "kernelspec": {
   "display_name": "Python 3",
   "language": "python",
   "name": "python3"
  },
  "language_info": {
   "codemirror_mode": {
    "name": "ipython",
    "version": 3
   },
   "file_extension": ".py",
   "mimetype": "text/x-python",
   "name": "python",
   "nbconvert_exporter": "python",
   "pygments_lexer": "ipython3",
   "version": "3.7.3"
  }
 },
 "nbformat": 4,
 "nbformat_minor": 2
}
