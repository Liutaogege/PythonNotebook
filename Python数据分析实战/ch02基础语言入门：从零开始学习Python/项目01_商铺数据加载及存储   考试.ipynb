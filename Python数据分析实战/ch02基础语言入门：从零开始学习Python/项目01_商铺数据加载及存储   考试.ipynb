{
 "cells": [
  {
   "cell_type": "code",
   "execution_count": 17,
   "metadata": {
    "collapsed": false
   },
   "outputs": [
    {
     "name": "stdout",
     "output_type": "stream",
     "text": [
      "1 1\n",
      "1 2\n",
      "1 3\n",
      "1 4\n",
      "2 1\n",
      "2 2\n",
      "2 3\n",
      "2 4\n",
      "3 1\n",
      "3 2\n",
      "3 3\n",
      "3 4\n",
      "4 1\n",
      "4 2\n",
      "4 3\n",
      "4 4\n",
      "总共生成16个不重复的数\n"
     ]
    }
   ],
   "source": [
    "lst1 = [1,2,3,4]\n",
    "lst2 = [1,2,3,4]\n",
    "n = 0\n",
    "for i in lst1:\n",
    "    for j in lst2:\n",
    "        print(i,j)\n",
    "        n += 1\n",
    "print('总共生成%d个不重复的数'%n)\n",
    "  "
   ]
  },
  {
   "cell_type": "code",
   "execution_count": null,
   "metadata": {
    "collapsed": false
   },
   "outputs": [],
   "source": [
    "def f():\n",
    "    nums = []\n",
    "    i = 0\n",
    "    while i in range(3):\n",
    "        num = input('请输入第%d个数'%(i+1))\n",
    "        if num.isdigit():\n",
    "            nums.append(num)\n",
    "            i += 1\n",
    "        else:\n",
    "            print('输入数据有误，请输入数字！')\n",
    "    nums.sort()\n",
    "    return(nums)\n",
    "print(f())"
   ]
  },
  {
   "cell_type": "code",
   "execution_count": 1,
   "metadata": {
    "collapsed": false
   },
   "outputs": [
    {
     "name": "stdout",
     "output_type": "stream",
     "text": [
      "[1.23, 2.3, 23.2]\n"
     ]
    }
   ],
   "source": [
    "nums = [1.23,23.2,2.3]\n",
    "nums.sort()\n",
    "print(nums)"
   ]
  },
  {
   "cell_type": "code",
   "execution_count": 6,
   "metadata": {
    "collapsed": false
   },
   "outputs": [
    {
     "name": "stdout",
     "output_type": "stream",
     "text": [
      "请输入你的字符串：23\n",
      "你输入的字符串中字母、数字、空格、其他元素的个数分别为0、2、0、0\n"
     ]
    }
   ],
   "source": [
    "st = input('请输入你的字符串：')\n",
    "a = 0\n",
    "b = 0\n",
    "c = 0\n",
    "d = 0\n",
    "for i in st:\n",
    "    while i == '\\n':\n",
    "        break\n",
    "    else:\n",
    "        if i.isalpha():\n",
    "            a += 1\n",
    "        elif i.isdigit():\n",
    "            b += 1\n",
    "        elif i.isspace():\n",
    "            c += 1\n",
    "        else:\n",
    "            d += 1\n",
    "print('你输入的字符串中字母、数字、空格、其他元素的个数分别为%d、%d、%d、%d'%(a,b,c,d))\n",
    "        "
   ]
  },
  {
   "cell_type": "code",
   "execution_count": 12,
   "metadata": {
    "collapsed": false
   },
   "outputs": [
    {
     "name": "stdout",
     "output_type": "stream",
     "text": [
      "1012\n"
     ]
    }
   ],
   "source": [
    "remain = 1 #剩下的苹果数\n",
    "n = 10 - 1 #猴子吃苹果的天数\n",
    "d = 1  #猴子每次多吃的苹果的数量\n",
    "total = 0\n",
    "for i in range(n - 1):\n",
    "    remain = remain*2 + d\n",
    "    total += remain\n",
    "print(total)"
   ]
  },
  {
   "cell_type": "code",
   "execution_count": 3,
   "metadata": {
    "collapsed": false
   },
   "outputs": [
    {
     "name": "stdout",
     "output_type": "stream",
     "text": [
      "请输入你猜的数字：50\n",
      "你猜的数字小了\n",
      "请输入你猜的数字：75\n",
      "你猜的数字大了！\n",
      "请输入你猜的数字：63\n",
      "你猜的数字小了\n",
      "请输入你猜的数字：70\n",
      "你猜的数字大了！\n",
      "请输入你猜的数字：68\n",
      "恭喜你猜对了！\n",
      "你花了%f s\" % (endtime - starttime)的时间猜对\n"
     ]
    }
   ],
   "source": [
    "import random\n",
    "import time\n",
    "guessnum = eval(input('请输入你猜的数字：'))\n",
    "starttime = time.clock()\n",
    "num = random.randint(0,100)\n",
    "while guessnum != num:\n",
    "    if guessnum > num:\n",
    "        print('你猜的数字大了！')\n",
    "        guessnum = eval(input('请输入你猜的数字：'))\n",
    "    else:\n",
    "        print('你猜的数字小了')\n",
    "        guessnum = eval(input('请输入你猜的数字：'))\n",
    "else:\n",
    "    print('恭喜你猜对了！')\n",
    "    endtime = time.clock()\n",
    "    print('你花了%f s的时间猜对' % (endtime - starttime))"
   ]
  }
 ],
 "metadata": {
  "anaconda-cloud": {},
  "kernelspec": {
   "display_name": "Python [default]",
   "language": "python",
   "name": "python3"
  },
  "language_info": {
   "codemirror_mode": {
    "name": "ipython",
    "version": 3
   },
   "file_extension": ".py",
   "mimetype": "text/x-python",
   "name": "python",
   "nbconvert_exporter": "python",
   "pygments_lexer": "ipython3",
   "version": "3.5.2"
  }
 },
 "nbformat": 4,
 "nbformat_minor": 1
}
