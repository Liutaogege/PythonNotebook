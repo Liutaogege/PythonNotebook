{
 "cells": [
  {
   "cell_type": "code",
   "execution_count": 1,
   "metadata": {
    "collapsed": false
   },
   "outputs": [
    {
     "data": {
      "text/plain": [
       "'\\n【课程3.2】  序列通用操作\\n\\n序列分类：可变序列list，不可变序列tuple、str\\n\\n'"
      ]
     },
     "execution_count": 1,
     "metadata": {},
     "output_type": "execute_result"
    }
   ],
   "source": [
    "'''\n",
    "【课程3.2】  序列通用操作\n",
    "\n",
    "序列分类：可变序列list，不可变序列tuple、str\n",
    "\n",
    "'''"
   ]
  },
  {
   "cell_type": "code",
   "execution_count": 12,
   "metadata": {
    "collapsed": false
   },
   "outputs": [
    {
     "name": "stdout",
     "output_type": "stream",
     "text": [
      "True\n",
      "True\n",
      "True\n",
      "True\n",
      "False\n"
     ]
    }
   ],
   "source": [
    "#判断值是否属于序列\n",
    "lst = [1,2,3,4,'hello']\n",
    "tuple = (2,4,44,5)\n",
    "dic = {'a':2,'b':3}\n",
    "a,b,c = 1,2.00,'hello'\n",
    "print(a in lst)\n",
    "print(b in lst)\n",
    "print(c in lst)\n",
    "print(b in tuple)\n",
    "print('2' in dic)"
   ]
  },
  {
   "cell_type": "code",
   "execution_count": 20,
   "metadata": {
    "collapsed": false
   },
   "outputs": [
    {
     "name": "stdout",
     "output_type": "stream",
     "text": [
      "('a', 'b')\n",
      "(1, 2, 3, 1, 2, 3)\n"
     ]
    }
   ],
   "source": [
    "#序列链接与重复\n",
    "tuple = (1,2,3)\n",
    "tuple2 = ('a','b')\n",
    "print(tuple2)\n",
    "print(tuple*2)\n"
   ]
  },
  {
   "cell_type": "code",
   "execution_count": 25,
   "metadata": {
    "collapsed": false
   },
   "outputs": [
    {
     "name": "stdout",
     "output_type": "stream",
     "text": [
      "[1, 2, 3]\n",
      "3\n",
      "2\n"
     ]
    }
   ],
   "source": [
    "#下标索引\n",
    "print(lst)\n",
    "print(lst[2])\n",
    "print(lst[-2])"
   ]
  },
  {
   "cell_type": "code",
   "execution_count": 7,
   "metadata": {
    "collapsed": false
   },
   "outputs": [
    {
     "name": "stdout",
     "output_type": "stream",
     "text": [
      "[2, 3]\n"
     ]
    }
   ],
   "source": [
    "#切片\n",
    "lst = [1,2,3,5,1,6,'1',8,9,0]\n",
    "print(lst[1:3])"
   ]
  },
  {
   "cell_type": "code",
   "execution_count": 9,
   "metadata": {
    "collapsed": false
   },
   "outputs": [
    {
     "name": "stdout",
     "output_type": "stream",
     "text": [
      "[1, 2, 3, 5, 1, 6, '1', 8, 9, 0]\n",
      "[2, 5, 6]\n",
      "3\n",
      "2\n"
     ]
    }
   ],
   "source": [
    "#步长\n",
    "print(lst)\n",
    "print(lst[1:7:2])\n",
    "print(lst.index(5))\n",
    "print(lst.count(1))"
   ]
  },
  {
   "cell_type": "code",
   "execution_count": 15,
   "metadata": {
    "collapsed": false
   },
   "outputs": [
    {
     "name": "stdout",
     "output_type": "stream",
     "text": [
      "woaini\n"
     ]
    }
   ],
   "source": [
    "lst = [1,2,3,'3',[1,2,'name'],[1,[1,2,'woaini'],3]]\n",
    "print(lst[-1][1][2])"
   ]
  },
  {
   "cell_type": "code",
   "execution_count": 18,
   "metadata": {
    "collapsed": false
   },
   "outputs": [
    {
     "name": "stdout",
     "output_type": "stream",
     "text": [
      "['小明', '小红', '团支书']\n",
      "['小明', '小红', '团支书']\n"
     ]
    }
   ],
   "source": [
    "name = ['小明','小红']\n",
    "print(name + ['团支书'])\n",
    "name.append('团支书')\n",
    "print(name)"
   ]
  },
  {
   "cell_type": "code",
   "execution_count": 32,
   "metadata": {
    "collapsed": false
   },
   "outputs": [
    {
     "name": "stdout",
     "output_type": "stream",
     "text": [
      "<class 'range'>\n",
      "[0, 1, 2, 3, 4, 5, 6, 7]\n",
      "3\n",
      "[1, 2, 3, range(0, 8)]\n",
      "3\n",
      "[1, 2, 3, 4, 5, 6, 7, 8, 9, 10, 11, 12, 13, 14, 15, 16, 17]\n"
     ]
    }
   ],
   "source": [
    "#列表与生成器\n",
    "a = range(3,8)\n",
    "print(type(a))\n",
    "lst = list(range(8))\n",
    "print(lst)\n",
    "print(a[0])\n",
    "lst = [1,2,3,range(0,8)]\n",
    "print(lst)\n",
    "print(lst[3][3])\n",
    "lst = list(range(1,18))\n",
    "print(lst)\n"
   ]
  },
  {
   "cell_type": "code",
   "execution_count": 46,
   "metadata": {
    "collapsed": false
   },
   "outputs": [
    {
     "name": "stdout",
     "output_type": "stream",
     "text": [
      "[1, 2, 3, 4, 5, 6, 7, 8, 9, [1, 2, 3, 4, 5, 6, 7, 8, 9, 10]]\n",
      "[1, 2, 3, 4, 5, 6, 7, 8, 9, [1, 2, 3, 4, 5, 6, 7, 8, 9, 10], 1, 2, 3, 4, 5, 6, 7, 8, 9, 10]\n"
     ]
    }
   ],
   "source": [
    "#列表与生成器添加元素  extend添加的只能是序列而不能是一个元素，而append既可以添加单个元素（添加的如果是序列则看成一个元素）\n",
    "a = list(range(1,10))\n",
    "b = list(range(1,11))\n",
    "a.append(b)\n",
    "print(a)\n",
    "a.extend(b)\n",
    "print(a)\n"
   ]
  },
  {
   "cell_type": "code",
   "execution_count": 2,
   "metadata": {
    "collapsed": false
   },
   "outputs": [
    {
     "name": "stdout",
     "output_type": "stream",
     "text": [
      "[0, 1, 2, 3, 5, 6, 7, 8, 9, 10, 11, 12, 13, 14, 15]\n",
      "[0, 5, 6, 7, 8, 9, 10, 11, 12, 13, 14, 15]\n",
      "[]\n"
     ]
    }
   ],
   "source": [
    "#可变列表删除元素\n",
    "lst = list(range(16))\n",
    "lst.remove(4)\n",
    "print(lst)\n",
    "del lst[1:4]\n",
    "print(lst)\n",
    "lst.clear()\n",
    "print(lst)"
   ]
  },
  {
   "cell_type": "code",
   "execution_count": 68,
   "metadata": {
    "collapsed": false
   },
   "outputs": [
    {
     "name": "stdout",
     "output_type": "stream",
     "text": [
      "['wo', 'bu', 'ai', 'ni']\n"
     ]
    }
   ],
   "source": [
    "#可变列表插入元素\n",
    "lst = ['wo','ai','ni']\n",
    "lst.insert(1,'bu')\n",
    "print(lst)"
   ]
  },
  {
   "cell_type": "code",
   "execution_count": null,
   "metadata": {
    "collapsed": true
   },
   "outputs": [],
   "source": []
  },
  {
   "cell_type": "code",
   "execution_count": 67,
   "metadata": {
    "collapsed": false
   },
   "outputs": [
    {
     "name": "stdout",
     "output_type": "stream",
     "text": [
      "[0, 1, 2, 3, 4, 5, 6, 7, 8, 9]\n",
      "[100, 1, 2, 3, 4, 5, 6, 7, 8, 9]\n",
      "[0, 1, 2, 3, 4, 5, 6, 7, 8, 9]\n",
      "['fhj', 'cdh', 'acb', '879']\n",
      "['fhj', 'cdh', 'acb', '879']\n",
      "['879', 'acb', 'cdh', 'fhj']\n"
     ]
    }
   ],
   "source": [
    "#可变列表list常用操作——复制\n",
    "x = list(range(0,10))\n",
    "m = x.copy()\n",
    "print(x)\n",
    "x[0] = 100\n",
    "print(x)\n",
    "print(m)\n",
    "lst = ['acb','fhj','cdh','879']\n",
    "lst.sort(reverse=True)\n",
    "#sort是一种方法\n",
    "print(lst)\n",
    "lst2 = sorted(lst)\n",
    "print(lst)\n",
    "print(lst2)\n",
    "#sorted是一种函数，排序并复制新的"
   ]
  },
  {
   "cell_type": "code",
   "execution_count": 93,
   "metadata": {
    "collapsed": false
   },
   "outputs": [
    {
     "name": "stdout",
     "output_type": "stream",
     "text": [
      "(1, 2, 3, 4, 5, 6, 7, 8, 9)\n",
      "[100, 2, 3, 4, 5, 6, 7, 8, 9]\n",
      "(100, 2, 3, 4, 5, 6, 7, 8, 9)\n"
     ]
    }
   ],
   "source": [
    "#元祖tuple\n",
    "tuple1 = (\"3\",\"40\",\"4\")\n",
    "tuple2 = ('a','b','c','d','e')\n",
    "del tuple1\n",
    "lst = list(range(1,10))\n",
    "tuple3 = tuple(lst)\n",
    "print(tuple3)\n",
    "lst[0] = 100\n",
    "tuple3 = tuple(lst)\n",
    "print(lst)\n",
    "print(tuple3)"
   ]
  },
  {
   "cell_type": "code",
   "execution_count": 99,
   "metadata": {
    "collapsed": false
   },
   "outputs": [
    {
     "name": "stdout",
     "output_type": "stream",
     "text": [
      "\"\n",
      "a\n",
      "b\n",
      "\\\\\n"
     ]
    }
   ],
   "source": [
    "#转义字符(\\)  r可以认为是去转义\n",
    "print(\"\\\"\")\n",
    "print(\"a\\nb\")\n",
    "print(r\"\\\\\")"
   ]
  },
  {
   "cell_type": "code",
   "execution_count": 134,
   "metadata": {
    "collapsed": false
   },
   "outputs": [
    {
     "name": "stdout",
     "output_type": "stream",
     "text": [
      "[2, 3, 4, 5, 6, 'a', 'b', 'c']\n",
      "[2, 3, 4, 5, 6, 'a', 'b', 'c', 'abc']\n",
      "[2, 3, 4, 5, 6, 7, 8, 9, 10, 11, 12, 13, 14, 15]\n",
      "[2, 3, 4, 100, 5, 6, 7, 8, 9, 10, 11, 12, 13, 14, 15]\n",
      "[100, 15, 14, 13, 12, 11, 10, 9, 8, 7, 6, 5, 4, 3, 2]\n",
      "[100, 15, 14, 13, 12, 11, 10, 9, 8, 7, 6, 5, 4, 3, 2]\n",
      "[15, 14, 13, 12, 10, 9, 8, 7, 6, 5, 4, 3, 2]\n",
      "[2, 5, 6, 73]\n"
     ]
    }
   ],
   "source": [
    "#作业练习\n",
    "lst = [2,3,4,5,6]\n",
    "lst2 = [0]\n",
    "lst.extend('abc')\n",
    "print(lst)\n",
    "lst.append('abc')\n",
    "print(lst)\n",
    "lst1  = list(range(2,16))\n",
    "print(lst1)\n",
    "lst1.insert(3,100)\n",
    "print(lst1)\n",
    "lst1.sort(reverse=True)\n",
    "print(lst1)\n",
    "lst2 = sorted(lst1,reverse= True)\n",
    "print(lst2)\n",
    "lst2.remove(100)\n",
    "lst2.pop(4)\n",
    "print(lst2)\n",
    "m=[4,5,6,73,4,4,4,4,2]\n",
    "m.sort()\n",
    "del m[1:6]\n",
    "print(m)"
   ]
  },
  {
   "cell_type": "code",
   "execution_count": 138,
   "metadata": {
    "collapsed": false
   },
   "outputs": [
    {
     "name": "stdout",
     "output_type": "stream",
     "text": [
      "i`m handsome hahaha\n",
      "i`m hendsome hehaha\n"
     ]
    }
   ],
   "source": [
    "#字符串常用功能\n",
    "st = 'i`m handsome hahaha'\n",
    "st2 = st.replace('ha','he',2)\n",
    "print(st)\n",
    "print(st2)"
   ]
  },
  {
   "cell_type": "code",
   "execution_count": 145,
   "metadata": {
    "collapsed": false
   },
   "outputs": [
    {
     "name": "stdout",
     "output_type": "stream",
     "text": [
      "['poi01', '116.446238', '39.940166']\n",
      "poi01poi01,116.446238,39.940166116.446238poi01,116.446238,39.94016639.940166\n"
     ]
    }
   ],
   "source": [
    "st = \"poi01,116.446238,39.940166\"\n",
    "st1 = st.split(',')#数据分隔，拆分字符串，生成列表\n",
    "print(st1)\n",
    "st2 = st.join(st1)#连接字符串\n",
    "print(st2)"
   ]
  },
  {
   "cell_type": "code",
   "execution_count": 148,
   "metadata": {
    "collapsed": false
   },
   "outputs": [
    {
     "name": "stdout",
     "output_type": "stream",
     "text": [
      "True False\n"
     ]
    }
   ],
   "source": [
    "#判断是否是以某个元素开头或结尾\n",
    "st = 'aoeiuy'\n",
    "print(st.startswith('a'),st.endswith('i'))\n"
   ]
  },
  {
   "cell_type": "code",
   "execution_count": 160,
   "metadata": {
    "collapsed": false
   },
   "outputs": [
    {
     "name": "stdout",
     "output_type": "stream",
     "text": [
      "ABUCHEJ    \n",
      "abuchej    \n",
      "AbuCHEj    \n",
      "Abuchej    \n",
      "False\n",
      "False\n",
      "aBUcheJ\n"
     ]
    }
   ],
   "source": [
    "#大小写字母\n",
    "st = 'aBUcheJ    '\n",
    "print(st.upper()) #全部大写\n",
    "print(st.lower())#全部小写\n",
    "print(st.swapcase())#大小字母互换\n",
    "print(st.capitalize())#首字母大写\n",
    "print(st.isnumeric())#判断是否全是数字\n",
    "print(st.isalpha())#判断是否全是字母\n",
    "print(st.rstrip())#删除字符末尾的空格"
   ]
  },
  {
   "cell_type": "code",
   "execution_count": 174,
   "metadata": {
    "collapsed": false
   },
   "outputs": [
    {
     "name": "stdout",
     "output_type": "stream",
     "text": [
      "hehehhe是一个好人55555\n"
     ]
    }
   ],
   "source": [
    "#格式化字符\n",
    "st0 = 'hehehhe'\n",
    "st3 = 55555\n",
    "st2 = '%s是一个好人%i'%(st0,st3)\n",
    "print(st2)"
   ]
  },
  {
   "cell_type": "code",
   "execution_count": 198,
   "metadata": {
    "collapsed": false
   },
   "outputs": [
    {
     "name": "stdout",
     "output_type": "stream",
     "text": [
      "314159.890087\n",
      "314160\n",
      "314159.890\n",
      "+314159.890087\n",
      "-1.000000\n",
      "3.14e+05\n",
      "3.14E+05\n",
      "314160\n"
     ]
    }
   ],
   "source": [
    "#去除小数 \n",
    "pi = 314159.89008654\n",
    "a = -1\n",
    "print(\"%f\"%pi)#f直接是保留六位小数，因为float只有8位精确度\n",
    "print(\"%.0f\"%pi)#.0f是四舍五入\n",
    "print(\"%.3f\"%pi)#这是保留三位小数\n",
    "print(\"%+f\"%pi)#当数自身带有正负号时这个加的符号才能显示\n",
    "print(\"%-f\"%a)\n",
    "print(\"%.2e\"%pi)#科学计数法\n",
    "print(\"%.2E\"%pi)\n",
    "print(\"%g\"%pi)# 小数位数少的时候自动识别用浮点数，数据复杂的时候自动识别用科学计数法"
   ]
  },
  {
   "cell_type": "code",
   "execution_count": 205,
   "metadata": {
    "collapsed": false
   },
   "outputs": [
    {
     "name": "stdout",
     "output_type": "stream",
     "text": [
      "abc{}{}{}\n",
      "abcefg\n"
     ]
    }
   ],
   "source": [
    "#格式化字符的另一种表达方式\n",
    "x = 'abc{}{}{}'\n",
    "m = x.format('e','f','g')\n",
    "print(x)\n",
    "print(m)"
   ]
  },
  {
   "cell_type": "code",
   "execution_count": 235,
   "metadata": {
    "collapsed": false
   },
   "outputs": [
    {
     "name": "stdout",
     "output_type": "stream",
     "text": [
      "aaa\n",
      "bbb\n",
      "ccc\n",
      "ddd\n",
      "\n",
      "D:\\RUANJIANANZHUANG\\Tencent\\WeChat\n",
      "2255\n",
      "['a', 'b', 'c']\n",
      "1.34%\n",
      "abcabc\n",
      "我的工作是厨师我喜欢厨师\n"
     ]
    }
   ],
   "source": [
    "#作业练习\n",
    "st1 = '''aaa\n",
    "bbb\n",
    "ccc\n",
    "ddd\n",
    "'''\n",
    "nn = 'abc'\n",
    "st2 = 'D:\\RUANJIANANZHUANG\\Tencent\\WeChat'\n",
    "print(st1)\n",
    "print(r'D:\\RUANJIANANZHUANG\\Tencent\\WeChat')\n",
    "print(\"22\" + str(55))\n",
    "m = 'a,b,c'\n",
    "print(m.split(','))\n",
    "print(\"%.2f%%\"%1.345)\n",
    "print(\"abc%s\"%nn)\n",
    "words = '我的工作是…我喜欢…'\n",
    "words1 = words.replace('…','厨师',2)\n",
    "print(words1)"
   ]
  },
  {
   "cell_type": "code",
   "execution_count": 237,
   "metadata": {
    "collapsed": false
   },
   "outputs": [
    {
     "name": "stdout",
     "output_type": "stream",
     "text": [
      "{'大头儿子': 5, '小头爸爸': 34, '隔壁西施': 23}\n"
     ]
    }
   ],
   "source": []
  }
 ],
 "metadata": {
  "anaconda-cloud": {},
  "kernelspec": {
   "display_name": "Python [default]",
   "language": "python",
   "name": "python3"
  },
  "language_info": {
   "codemirror_mode": {
    "name": "ipython",
    "version": 3
   },
   "file_extension": ".py",
   "mimetype": "text/x-python",
   "name": "python",
   "nbconvert_exporter": "python",
   "pygments_lexer": "ipython3",
   "version": "3.5.2"
  }
 },
 "nbformat": 4,
 "nbformat_minor": 1
}
