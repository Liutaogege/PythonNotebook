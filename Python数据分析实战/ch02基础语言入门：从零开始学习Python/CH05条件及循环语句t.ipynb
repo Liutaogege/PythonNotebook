{
 "cells": [
  {
   "cell_type": "code",
   "execution_count": 1,
   "metadata": {
    "collapsed": false
   },
   "outputs": [
    {
     "data": {
      "text/plain": [
       "'\\n【课程5.2】  条件判断：if语句\\n\\nPython条件语句是通过一条或多条语句的执行结果（True或者False）来决定执行的代码块。\\n\\nif 判断条件：\\n    执行语句……\\nelse：\\n    执行语句……\\n    \\n** 开始有缩进的概念\\n\\n'"
      ]
     },
     "execution_count": 1,
     "metadata": {},
     "output_type": "execute_result"
    }
   ],
   "source": [
    "'''\n",
    "【课程5.2】  条件判断：if语句\n",
    "\n",
    "Python条件语句是通过一条或多条语句的执行结果（True或者False）来决定执行的代码块。\n",
    "\n",
    "if 判断条件：\n",
    "    执行语句……\n",
    "else：\n",
    "    执行语句……\n",
    "    \n",
    "** 开始有缩进的概念\n",
    "\n",
    "'''"
   ]
  },
  {
   "cell_type": "code",
   "execution_count": 4,
   "metadata": {
    "collapsed": false
   },
   "outputs": [
    {
     "name": "stdout",
     "output_type": "stream",
     "text": [
      "请输入居住日数：25\n",
      "你决定的居住日数为：25 <class 'int'>\n"
     ]
    }
   ],
   "source": [
    "#输入函数 input()\n",
    "days = int(input('请输入居住日数：'))\n",
    "print('你决定的居住日数为：%d'%days,type(days))"
   ]
  },
  {
   "cell_type": "code",
   "execution_count": 12,
   "metadata": {
    "collapsed": false
   },
   "outputs": [
    {
     "name": "stdout",
     "output_type": "stream",
     "text": [
      "请输入学生成绩：23\n",
      "该学生成绩不合格\n",
      "欢迎来到猜数字小游戏！！！\n",
      "请输入你猜的数字：23\n",
      "不好意思，你猜错了\n"
     ]
    }
   ],
   "source": [
    "#练习题\n",
    "#① 编写一个简单的判断语句代码：输入某个成绩，如果成绩分数大于或等于60分，则返回及格，小于60分，则返回不及格\n",
    "\n",
    "#② 编写猜数字小游戏的代码：输入一个数字，分别针对猜对数字、猜错数字、输入错误给予判断'''\n",
    "\n",
    "score = int(input('请输入学生成绩：'))\n",
    "if score < 60:\n",
    "    print(\"该学生成绩不合格\")\n",
    "else:\n",
    "    print('成绩合格！')\n",
    "\n",
    "print('欢迎来到猜数字小游戏！！！')\n",
    "num = int(input('请输入你猜的数字：'))\n",
    "if type(num) == str:\n",
    "    print('不好意思，请输入数字')\n",
    "if num == 8:\n",
    "    print('genius,你真棒！你猜对了')\n",
    "else:\n",
    "    print(\"不好意思，你猜错了\")\n"
   ]
  },
  {
   "cell_type": "code",
   "execution_count": 26,
   "metadata": {
    "collapsed": false
   },
   "outputs": [
    {
     "name": "stdout",
     "output_type": "stream",
     "text": [
      "0\n",
      "0\n",
      "3\n",
      "17\n",
      "18\n",
      "19\n",
      "20\n"
     ]
    }
   ],
   "source": [
    "#for循环\n",
    "for i in range(1):\n",
    "    print(i)\n",
    "lst = list(range(8))\n",
    "for i in lst[:6:3]:\n",
    "    print(i)\n",
    "age = {'Tom':18, 'Jack':19, 'Alex':17, 'Mary':20}\n",
    "for keys in age:\n",
    "    print(age[keys])"
   ]
  },
  {
   "cell_type": "code",
   "execution_count": 4,
   "metadata": {
    "collapsed": false
   },
   "outputs": [
    {
     "name": "stdout",
     "output_type": "stream",
     "text": [
      "['a', 1]\n",
      "['b', 2]\n",
      "['c', 3]\n",
      "[['a', 1], ['b', 2], ['c', 3]]\n",
      "{'a': 1, 'b': 2, 'c': 3}\n",
      "['a', 'b', 'd']\n",
      "请输入首项值：2\n",
      "请输入项数：2\n",
      "请输入公差：2\n",
      "6.0\n"
     ]
    }
   ],
   "source": [
    "#作业练习\n",
    "##① 生成一个数值列表，用for循环打印出所有元素\n",
    "\n",
    "##② 用for循环遍历一个字符串，打印出各个字母\n",
    "\n",
    "##③ 生成一个字典，分别打印出key和value\n",
    "\n",
    "##④ 用input输入一个循环次数n，打印hello world n遍\n",
    "\n",
    "##⑤ 码一个等差数列，四个变量：首项a，项数n，公差d，求和s，这几个参数都可通过input()输入\n",
    "\n",
    "##⑥ 两组列表[\"a\", \"b\", \"c\"],[1,2,3]，用for循环把它们组成一个字典，一一对应\n",
    "\n",
    "\n",
    "keys = [\"a\", \"b\", \"c\"]\n",
    "values = [1,2,3]\n",
    "m= []\n",
    "for i in range(len(keys)):\n",
    "    lst = [keys[i],values[i]]\n",
    "    print(lst)\n",
    "    m.append(lst)\n",
    "print(m)\n",
    "dic = dict(m)\n",
    "print(dic)\n",
    "\n",
    "\n",
    "dic1 = {'a':1,'b':2,'d':3}\n",
    "lst = list(dic1)\n",
    "print(lst)\n",
    "\n",
    "a = float(input('请输入首项值：'))\n",
    "n = int(input('请输入项数：'))\n",
    "d = float(input('请输入公差：'))\n",
    "s = 0\n",
    "for i in range(n):\n",
    "    an = a + i*d\n",
    "    s = s +an\n",
    "print(s)"
   ]
  },
  {
   "cell_type": "code",
   "execution_count": 5,
   "metadata": {
    "collapsed": false
   },
   "outputs": [
    {
     "data": {
      "text/plain": [
       "'\\n【课程5.4】  循环语句：while循环\\n\\n执行语句可以是单个语句或语句块\\n\\n判断条件可以是任何表达式，任何非零、或非空（null）的值均为true。\\n\\n当判断条件假false时，循环结束。\\n\\n'"
      ]
     },
     "execution_count": 5,
     "metadata": {},
     "output_type": "execute_result"
    }
   ],
   "source": [
    "'''\n",
    "【课程5.4】  循环语句：while循环\n",
    "\n",
    "执行语句可以是单个语句或语句块\n",
    "\n",
    "判断条件可以是任何表达式，任何非零、或非空（null）的值均为true。\n",
    "\n",
    "当判断条件假false时，循环结束。\n",
    "\n",
    "'''"
   ]
  },
  {
   "cell_type": "code",
   "execution_count": 27,
   "metadata": {
    "collapsed": false
   },
   "outputs": [
    {
     "name": "stdout",
     "output_type": "stream",
     "text": [
      "woaini\n",
      "woaini\n",
      "woaini\n",
      "woaini\n",
      "woaini\n",
      "woaini\n",
      "woaini\n",
      "woaini\n",
      "woaini\n",
      "woshengqile\n",
      "nizhidaoma woshenmedoubuzaihu\n",
      "a\n",
      "b\n",
      "c\n",
      "d\n",
      "e\n",
      "f\n",
      "g\n",
      "h\n",
      "i\n",
      "j\n",
      "i\n",
      "k\n",
      "l\n",
      "n\n",
      "o\n",
      "p\n",
      "q\n",
      "r\n",
      "s\n",
      "t\n",
      "u\n",
      "v\n",
      "w\n",
      "x\n",
      "y\n",
      "z\n"
     ]
    }
   ],
   "source": [
    "#while循环\n",
    "count = 0\n",
    "while count < 9:\n",
    "    print('woaini')\n",
    "    count += 1\n",
    "if count < 8:\n",
    "    print('wohaoaini')\n",
    "elif 8<count and count < 10:\n",
    "    print('woshengqile')\n",
    "else:\n",
    "    print('nizhidaoma woshenmedoubuzaihu')\n",
    "\n",
    "    \n",
    "while count < 8:\n",
    "    print('wohaoaini')\n",
    "else:\n",
    "    print('nizhidaoma woshenmedoubuzaihu')\n",
    "\n",
    "st = 'abcdefghijiklmnopqrstuvwxyz'\n",
    "for i in range(len(st)):\n",
    "    if st[i] == 'm':\n",
    "        continue\n",
    "        print('niyongyuanyebuhuizhidaowonamexihuanni')\n",
    "    else:\n",
    "        print(st[i])\n",
    "   "
   ]
  }
 ],
 "metadata": {
  "anaconda-cloud": {},
  "kernelspec": {
   "display_name": "Python [default]",
   "language": "python",
   "name": "python3"
  },
  "language_info": {
   "codemirror_mode": {
    "name": "ipython",
    "version": 3
   },
   "file_extension": ".py",
   "mimetype": "text/x-python",
   "name": "python",
   "nbconvert_exporter": "python",
   "pygments_lexer": "ipython3",
   "version": "3.5.2"
  }
 },
 "nbformat": 4,
 "nbformat_minor": 1
}
