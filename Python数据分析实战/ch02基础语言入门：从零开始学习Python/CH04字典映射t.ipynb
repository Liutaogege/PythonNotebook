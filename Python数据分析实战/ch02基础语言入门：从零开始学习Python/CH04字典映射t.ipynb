{
 "cells": [
  {
   "cell_type": "code",
   "execution_count": 1,
   "metadata": {
    "collapsed": false
   },
   "outputs": [
    {
     "data": {
      "text/plain": [
       "'\\n【课程4.1】  字典dict基本概念\\n\\n字典是另一种可变容器模型，且可存储任意类型对象。\\n字典的每个键值(key=>value)对用冒号(:)分割，每个对之间用逗号(,)分割，整个字典包括在花括号({})中 \\n\\n键必须是唯一的，但值则不必。\\n\\n'"
      ]
     },
     "execution_count": 1,
     "metadata": {},
     "output_type": "execute_result"
    }
   ],
   "source": [
    "'''\n",
    "【课程4.1】  字典dict基本概念\n",
    "\n",
    "字典是另一种可变容器模型，且可存储任意类型对象。\n",
    "字典的每个键值(key=>value)对用冒号(:)分割，每个对之间用逗号(,)分割，整个字典包括在花括号({})中 \n",
    "\n",
    "键必须是唯一的，但值则不必。\n",
    "\n",
    "'''\n"
   ]
  },
  {
   "cell_type": "code",
   "execution_count": 3,
   "metadata": {
    "collapsed": false
   },
   "outputs": [
    {
     "name": "stdout",
     "output_type": "stream",
     "text": [
      "{'小头爸爸': 34, '隔壁西施': 23, '大头儿子': 5}\n"
     ]
    },
    {
     "data": {
      "text/plain": [
       "5"
      ]
     },
     "execution_count": 3,
     "metadata": {},
     "output_type": "execute_result"
    }
   ],
   "source": [
    "#字典dic\n",
    "dic1 = {'大头儿子':5,'小头爸爸':34,'隔壁西施':23}\n",
    "print(dic1)\n",
    "dic1['大头儿子']"
   ]
  },
  {
   "cell_type": "code",
   "execution_count": 14,
   "metadata": {
    "collapsed": false
   },
   "outputs": [
    {
     "name": "stdout",
     "output_type": "stream",
     "text": [
      "{'小头爸爸': '10', '大头儿子': 5, '围裙妈妈': '30'}\n",
      "{}\n"
     ]
    }
   ],
   "source": [
    "# 键值对，一定共同出现，不能只有一个\n",
    "# 不允许同一个键出现两次：创建时如果同一个键被赋值两次，后一个值会被记住\n",
    "# key必须是不可变的对象，value则可以是任意对象：数值，字符串，序列，字典\n",
    "\n",
    "dic1 = {'大头儿子':5,'小头爸爸':34,'隔壁西施':23}\n",
    "dic1['围裙妈妈'] = '30'\n",
    "dic1['小头爸爸'] = '10'\n",
    "del dic1['隔壁西施']\n",
    "print(dic1)\n",
    "dic1.clear()\n",
    "print(dic1)\n",
    "del dic1\n"
   ]
  },
  {
   "cell_type": "code",
   "execution_count": 1,
   "metadata": {
    "collapsed": false
   },
   "outputs": [
    {
     "name": "stdout",
     "output_type": "stream",
     "text": [
      "{'小头爸爸': '30', '大头儿子': '6'}\n",
      "{'小头爸爸': '30'}\n",
      "{'围裙妈妈': '28'}\n"
     ]
    },
    {
     "ename": "TypeError",
     "evalue": "fromkeys expected at most 2 arguments, got 4",
     "output_type": "error",
     "traceback": [
      "\u001b[0;31m---------------------------------------------------------------------------\u001b[0m",
      "\u001b[0;31mTypeError\u001b[0m                                 Traceback (most recent call last)",
      "\u001b[0;32m<ipython-input-1-9c80888e3e42>\u001b[0m in \u001b[0;36m<module>\u001b[0;34m()\u001b[0m\n\u001b[1;32m     12\u001b[0m \u001b[0mkeys\u001b[0m \u001b[1;33m=\u001b[0m \u001b[1;33m[\u001b[0m\u001b[1;34m'a'\u001b[0m\u001b[1;33m,\u001b[0m\u001b[1;34m'b'\u001b[0m\u001b[1;33m,\u001b[0m\u001b[1;34m'c'\u001b[0m\u001b[1;33m]\u001b[0m\u001b[1;33m\u001b[0m\u001b[0m\n\u001b[1;32m     13\u001b[0m \u001b[0mdic\u001b[0m \u001b[1;33m=\u001b[0m \u001b[0mdict\u001b[0m\u001b[1;33m.\u001b[0m\u001b[0mfromkeys\u001b[0m\u001b[1;33m(\u001b[0m\u001b[0mkeys\u001b[0m\u001b[1;33m)\u001b[0m\u001b[1;33m\u001b[0m\u001b[0m\n\u001b[0;32m---> 14\u001b[0;31m \u001b[0mdic1\u001b[0m \u001b[1;33m=\u001b[0m \u001b[0mdict\u001b[0m\u001b[1;33m.\u001b[0m\u001b[0mfromkeys\u001b[0m\u001b[1;33m(\u001b[0m\u001b[0mkeys\u001b[0m\u001b[1;33m,\u001b[0m\u001b[1;34m'hello'\u001b[0m\u001b[1;33m,\u001b[0m\u001b[1;34m'nihao'\u001b[0m\u001b[1;33m,\u001b[0m\u001b[1;34m'ma'\u001b[0m\u001b[1;33m)\u001b[0m\u001b[1;33m\u001b[0m\u001b[0m\n\u001b[0m\u001b[1;32m     15\u001b[0m \u001b[0mprint\u001b[0m\u001b[1;33m(\u001b[0m\u001b[0mdic\u001b[0m\u001b[1;33m)\u001b[0m\u001b[1;33m\u001b[0m\u001b[0m\n\u001b[1;32m     16\u001b[0m \u001b[0mprint\u001b[0m\u001b[1;33m(\u001b[0m\u001b[0mdic1\u001b[0m\u001b[1;33m)\u001b[0m\u001b[1;33m\u001b[0m\u001b[0m\n",
      "\u001b[0;31mTypeError\u001b[0m: fromkeys expected at most 2 arguments, got 4"
     ]
    }
   ],
   "source": [
    "#列表嵌套字典,字典的构造\n",
    "lst1 = [('大头儿子','6'),('小头爸爸','30')]\n",
    "lst2 = [('小头爸爸','30')]\n",
    "lst3 = [('围裙妈妈','28')]\n",
    "dic1 = dict(lst1)\n",
    "dic2 = dict(lst2)\n",
    "dic3 = dict(lst3)\n",
    "print(dic1)\n",
    "print(dic2)\n",
    "print(dic3)\n",
    "#新方法\n",
    "keys = ['a','b','c']\n",
    "dic = dict.fromkeys(keys)\n",
    "dic1 = dict.fromkeys(keys,'hello')\n",
    "print(dic)\n",
    "print(dic1)"
   ]
  },
  {
   "cell_type": "code",
   "execution_count": 28,
   "metadata": {
    "collapsed": false
   },
   "outputs": [
    {
     "name": "stdout",
     "output_type": "stream",
     "text": [
      "{'英语': '78', '化学': '98', '语文': 90, '数学': '80', '物理': '89'}\n"
     ]
    }
   ],
   "source": [
    "#作业练习\n",
    "lst = [('语文',90),('数学','80'),('英语','78'),('化学','98'),('物理','89')]\n",
    "dic = dict(lst)\n",
    "print(dic)"
   ]
  },
  {
   "cell_type": "code",
   "execution_count": 37,
   "metadata": {
    "collapsed": false
   },
   "outputs": [
    {
     "name": "stdout",
     "output_type": "stream",
     "text": [
      "{'h': 89, 'a': 5, 'b': 6, 'g': 200, 'c': 7}\n",
      "{'a': 5, 'b': 6, 'c': 7}\n",
      "3\n",
      "True\n"
     ]
    }
   ],
   "source": [
    "#字典的常用操作(字典是无序的)\n",
    "#字典的更新和合并\n",
    "dic1 = {'a':5,'b':6,'c':7}\n",
    "dic2 = {'g':200,'h':89}\n",
    "dic3 = dic1.copy() #复制出来的dic3不会随原值发生改变\n",
    "dic1.update(dic2)\n",
    "print(dic1)\n",
    "print(dic3)\n",
    "print(len(dic3)) #字典长度\n",
    "\n",
    "print('a' in dic1) #只能用key值来判断，不能用value值来判断耨个元素是否在字典中"
   ]
  },
  {
   "cell_type": "code",
   "execution_count": 62,
   "metadata": {
    "collapsed": false
   },
   "outputs": [
    {
     "name": "stdout",
     "output_type": "stream",
     "text": [
      "1\n",
      "somewhere1\n",
      "shop\n",
      "没有此值\n",
      "None None\n",
      "dict_keys(['city', 'name', 'information']) <class 'dict_keys'>\n",
      "['city', 'name', 'information']\n",
      "dict_values(['shanghai', 'shop', {'num': 66663333, 'address': 'somewhere'}])\n",
      "['shanghai', 'shop', {'num': 66663333, 'address': 'somewhere'}]\n",
      "dict_items([('city', 'shanghai'), ('name', 'shop'), ('information', {'num': 66663333, 'address': 'somewhere'})])\n",
      "[('city', 'shanghai'), ('name', 'shop'), ('information', {'num': 66663333, 'address': 'somewhere'})]\n"
     ]
    }
   ],
   "source": [
    "#字典的读取和访问\n",
    "dic = {'a':1, \"b\":2, \"c\":3}\n",
    "print(dic['a'])\n",
    "#print(dic[1])  # 不能用序列的索引方式\n",
    "# 字典里面也就同样的意思，但字典没有顺序，以key来作为指向，所以指向的key必须存在\n",
    "poi = [{'name':'shop1', 'city':'shanghai', 'information':{'address':'somewhere1', 'num':66663333}},\n",
    "      {'name':'shop2', 'city':'guangzhou', 'information':{'address':'somewhere2', 'num':66663333}},\n",
    "      {'name':'shop3', 'city':'shenzhend', 'information':{'address':'somewhere3', 'num':66663333}}]\n",
    "print(poi[0]['information']['address'])\n",
    "poi = {'name':'shop', 'city':'shanghai', 'information':{'address':'somewhere', 'num':66663333}}\n",
    "print(poi.get('name'))\n",
    "# .get(key)方法：直接查看key的value，如果没有相应key则返回None，添加print参数可以多返回一个值\n",
    "print(poi.get('type'),print('没有此值'))\n",
    "print(poi.keys(),type(poi.keys()))\n",
    "print(list(poi.keys()))   # .keys()方法：输出字典所有key，注意这里的输出内容格式是视图，可以用list()得到key的列表，类似range()\n",
    "print(poi.values())\n",
    "print(list(poi.values()))# .values()方法：输出字典所有values，原理同.keys()方法\n",
    "print(poi.items())   # .items()方法：输出字典所有items（元素），原理同.keys()方法\n",
    "print(list(poi.items()))"
   ]
  },
  {
   "cell_type": "code",
   "execution_count": 82,
   "metadata": {
    "collapsed": false
   },
   "outputs": [
    {
     "name": "stdout",
     "output_type": "stream",
     "text": [
      "['city', 'name', 'information']\n"
     ]
    }
   ],
   "source": [
    "#字典的元素遍历\n",
    "poi = {'name':'shop', 'city':'shanghai', 'information':{'address':'somewhere', 'num':66663333}}\n",
    "print(poi.keys)\n",
    "for keys in poi:\n",
    "    print(keys)\n",
    "print('---------')\n",
    "for values in poi.values():\n",
    "    print(values)\n",
    "print('--------')\n",
    "for keys in poi:\n",
    "    print(poi[keys])\n",
    "for (k,v) in poi.items():\n",
    "    print('key的值为：%s          value的值为：%s'%(k,v))\n",
    "poi = {'name':'shop', 'city':'shanghai', 'information':{'address':'somewhere', 'num':66663333}}\n",
    "print()"
   ]
  }
 ],
 "metadata": {
  "anaconda-cloud": {},
  "kernelspec": {
   "display_name": "Python [default]",
   "language": "python",
   "name": "python3"
  },
  "language_info": {
   "codemirror_mode": {
    "name": "ipython",
    "version": 3
   },
   "file_extension": ".py",
   "mimetype": "text/x-python",
   "name": "python",
   "nbconvert_exporter": "python",
   "pygments_lexer": "ipython3",
   "version": "3.5.2"
  }
 },
 "nbformat": 4,
 "nbformat_minor": 1
}
