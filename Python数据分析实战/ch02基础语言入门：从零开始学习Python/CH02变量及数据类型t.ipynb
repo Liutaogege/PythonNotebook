{
 "cells": [
  {
   "cell_type": "code",
   "execution_count": 1,
   "metadata": {
    "collapsed": false
   },
   "outputs": [
    {
     "data": {
      "text/plain": [
       "'\\n【课程2.1】  数据类型概述\\n\\nPython标准数据类型：Numbers数字，String字符串，List列表，Tuple元祖，Dict字典\\n\\n'"
      ]
     },
     "execution_count": 1,
     "metadata": {},
     "output_type": "execute_result"
    }
   ],
   "source": [
    "'''\n",
    "【课程2.1】  数据类型概述\n",
    "\n",
    "Python标准数据类型：Numbers数字，String字符串，List列表，Tuple元祖，Dict字典\n",
    "\n",
    "'''"
   ]
  },
  {
   "cell_type": "code",
   "execution_count": 5,
   "metadata": {
    "collapsed": false
   },
   "outputs": [
    {
     "name": "stdout",
     "output_type": "stream",
     "text": [
      "10 10.0\n",
      "Woaini\n",
      "woaini10.0\n",
      "<class 'int'> <class 'float'>\n"
     ]
    }
   ],
   "source": [
    "#Numbers 数字分为 int整型  float浮点型\n",
    "x1 = 10\n",
    "x2 = 10.0\n",
    "x3 = 'woaini'\n",
    "print(x1,x2)\n",
    "print(x3.title())\n",
    "print(x3 + str(x2))\n",
    "print(type(x1),type(x2))\n"
   ]
  },
  {
   "cell_type": "code",
   "execution_count": 8,
   "metadata": {
    "collapsed": false
   },
   "outputs": [
    {
     "name": "stdout",
     "output_type": "stream",
     "text": [
      "hello woorld hahahaha wo\n",
      "ai\n",
      "ni\n",
      "\n",
      "hello woorld\n",
      "hahahaha\n",
      "wo\n",
      "ai\n",
      "ni\n",
      "\n",
      "<class 'str'>\n"
     ]
    }
   ],
   "source": [
    "#String 字符串\n",
    "x1 = 'hello woorld'\n",
    "x2 = \"hahahaha\"\n",
    "x3 = '''wo\n",
    "ai\n",
    "ni\n",
    "'''\n",
    "print(x1,x2,x3)\n",
    "print(x1)\n",
    "print(x2)\n",
    "print(x3)\n",
    "print(type(x3))"
   ]
  },
  {
   "cell_type": "code",
   "execution_count": 11,
   "metadata": {
    "collapsed": false
   },
   "outputs": [
    {
     "name": "stdout",
     "output_type": "stream",
     "text": [
      "False\n",
      "True\n"
     ]
    }
   ],
   "source": [
    "#布尔型 bool\n",
    "a = True\n",
    "b = False\n",
    "print(a==0)\n",
    "print(b==0)"
   ]
  },
  {
   "cell_type": "code",
   "execution_count": 3,
   "metadata": {
    "collapsed": false
   },
   "outputs": [
    {
     "ename": "SyntaxError",
     "evalue": "invalid syntax (<ipython-input-3-ab2687da739d>, line 6)",
     "output_type": "error",
     "traceback": [
      "\u001b[0;36m  File \u001b[0;32m\"<ipython-input-3-ab2687da739d>\"\u001b[0;36m, line \u001b[0;32m6\u001b[0m\n\u001b[0;31m    print(str(lst)(:2))\u001b[0m\n\u001b[0m                   ^\u001b[0m\n\u001b[0;31mSyntaxError\u001b[0m\u001b[0;31m:\u001b[0m invalid syntax\n"
     ]
    }
   ],
   "source": [
    "#List列表\n",
    "lst = [1,2,3,4,5]\n",
    "print(lst,type(lst))\n",
    "lst2 = [12,13.34,[1,1,1,3],'woaini']\n",
    "print(lst2[3],type(lst2[2]))\n",
    "print(str(lst))"
   ]
  },
  {
   "cell_type": "code",
   "execution_count": 24,
   "metadata": {
    "collapsed": false
   },
   "outputs": [
    {
     "name": "stdout",
     "output_type": "stream",
     "text": [
      "[1, 2, 2, 199999, 3]\n"
     ]
    }
   ],
   "source": [
    "#元祖 tuple\n",
    "tuple = (1,2,1,4,4)\n",
    "lst = [1,2,2,3,3]\n",
    "lst[3] = 199999\n",
    "print(lst)\n"
   ]
  },
  {
   "cell_type": "code",
   "execution_count": 30,
   "metadata": {
    "collapsed": false
   },
   "outputs": [
    {
     "name": "stdout",
     "output_type": "stream",
     "text": [
      "{'juewangdesishui', 'woaini', 'aisini', 'xian', 'xihuanni.'}\n"
     ]
    }
   ],
   "source": [
    "#z字典 Dict\n",
    "dic = {'woaini','aisini','xian','xihuanni.','juewangdesishui'}\n",
    "print(dic)"
   ]
  },
  {
   "cell_type": "code",
   "execution_count": 39,
   "metadata": {
    "collapsed": false
   },
   "outputs": [
    {
     "name": "stdout",
     "output_type": "stream",
     "text": [
      "10 <class 'int'>\n",
      "10.0 <class 'float'>\n",
      "10 <class 'str'>\n",
      "10,1\n",
      "1 hello 23.3\n"
     ]
    }
   ],
   "source": [
    "#数据类型转换\n",
    "number1 = 10\n",
    "print(number1,type(number1))\n",
    "number2 = float(number1)\n",
    "print(number2,type(number2))\n",
    "number3 = str(number1)\n",
    "print(number3,type(number3))\n",
    "print(number3+',1')\n",
    "a,b,c = 1,'hello',23.3\n",
    "print(a,b,c)"
   ]
  },
  {
   "cell_type": "code",
   "execution_count": 46,
   "metadata": {
    "collapsed": false
   },
   "outputs": [
    {
     "name": "stdout",
     "output_type": "stream",
     "text": [
      "a除以b的值是: 6.666666666666667\n",
      "a除以b的整数是: 6.0\n",
      "2的3次方式: 8\n",
      "True\n",
      "True\n"
     ]
    }
   ],
   "source": [
    "#运算符\n",
    "a, b = 30 , 4.5\n",
    "print('a除以b的值是:',a/b)\n",
    "print('a除以b的整数是:',a//b)\n",
    "print('2的3次方式:',2**3)\n",
    "print(a > b)\n",
    "print(2 != 9)"
   ]
  },
  {
   "cell_type": "code",
   "execution_count": 58,
   "metadata": {
    "collapsed": false
   },
   "outputs": [
    {
     "name": "stdout",
     "output_type": "stream",
     "text": [
      "False\n",
      "True\n",
      "False\n",
      "True\n",
      "True\n",
      "True\n"
     ]
    }
   ],
   "source": [
    "#逻辑运算符\n",
    "print(2<3 and 9<8)\n",
    "print(2<1 or 5<6)\n",
    "print(not 9>7)\n",
    "a,b,c = 2,'yuyu',{()}\n",
    "print(bool(a))\n",
    "print(bool(b))\n",
    "print(bool(c))"
   ]
  },
  {
   "cell_type": "code",
   "execution_count": 10,
   "metadata": {
    "collapsed": false
   },
   "outputs": [
    {
     "name": "stdout",
     "output_type": "stream",
     "text": [
      "True\n"
     ]
    }
   ],
   "source": [
    "#成员运算符\n",
    "import numpy as np\n",
    "import pandas as pd\n",
    "\n",
    "s = pd.Series(list('abcd'))\n",
    "print('a' in  s.values)\n",
    "df = pd.DataFrame(np)"
   ]
  }
 ],
 "metadata": {
  "anaconda-cloud": {},
  "kernelspec": {
   "display_name": "Python [default]",
   "language": "python",
   "name": "python3"
  },
  "language_info": {
   "codemirror_mode": {
    "name": "ipython",
    "version": 3
   },
   "file_extension": ".py",
   "mimetype": "text/x-python",
   "name": "python",
   "nbconvert_exporter": "python",
   "pygments_lexer": "ipython3",
   "version": "3.5.2"
  }
 },
 "nbformat": 4,
 "nbformat_minor": 1
}
