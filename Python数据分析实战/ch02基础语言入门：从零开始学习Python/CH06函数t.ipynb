{
 "cells": [
  {
   "cell_type": "code",
   "execution_count": 1,
   "metadata": {
    "collapsed": false
   },
   "outputs": [
    {
     "data": {
      "text/plain": [
       "'\\n【课程6.2】  自定义函数\\n\\n如何创建函数？def语句\\n\\n'"
      ]
     },
     "execution_count": 1,
     "metadata": {},
     "output_type": "execute_result"
    }
   ],
   "source": [
    "'''\n",
    "【课程6.2】  自定义函数\n",
    "\n",
    "如何创建函数？def语句\n",
    "\n",
    "'''"
   ]
  },
  {
   "cell_type": "code",
   "execution_count": 2,
   "metadata": {
    "collapsed": false
   },
   "outputs": [
    {
     "name": "stdout",
     "output_type": "stream",
     "text": [
      "请输入第一个数2\n",
      "正数\n",
      "请你不要再输了，不过允许你再输入一个3\n",
      "正数\n"
     ]
    }
   ],
   "source": [
    "#自定义函数\n",
    "def f(x):\n",
    "    if x > 0:\n",
    "        print('正数')\n",
    "    elif x == 0:\n",
    "        print('嘻嘻是零')\n",
    "    else:\n",
    "        print('负数哎')\n",
    "        \n",
    "num = float(input('请输入第一个数'))\n",
    "f(num)\n",
    "num1 = float(input('请你不要再输了，不过允许你再输入一个'))\n",
    "f(num1)"
   ]
  },
  {
   "cell_type": "code",
   "execution_count": 7,
   "metadata": {
    "collapsed": false
   },
   "outputs": [
    {
     "name": "stdout",
     "output_type": "stream",
     "text": [
      "16\n",
      "16\n"
     ]
    }
   ],
   "source": [
    "#rerutn函数\n",
    "def f(x):\n",
    "    y = pow(x,2)\n",
    "    print(y)\n",
    "    return(y)\n",
    "print(f(4))"
   ]
  },
  {
   "cell_type": "code",
   "execution_count": 10,
   "metadata": {
    "collapsed": false
   },
   "outputs": [
    {
     "data": {
      "text/plain": [
       "16"
      ]
     },
     "execution_count": 10,
     "metadata": {},
     "output_type": "execute_result"
    }
   ],
   "source": [
    "#默认参数\n",
    "def f(m,n = 3):\n",
    "    y = pow(m,n)\n",
    "    return(y)\n",
    "f(2,4)"
   ]
  },
  {
   "cell_type": "code",
   "execution_count": 14,
   "metadata": {
    "collapsed": false
   },
   "outputs": [
    {
     "name": "stdout",
     "output_type": "stream",
     "text": [
      "((1, 2, 34, 5),)\n",
      "('我是你爸爸',)\n"
     ]
    }
   ],
   "source": [
    "#可变参数\n",
    "def f(*x):\n",
    "    return(x)\n",
    "print(f((1,2,34,5)))\n",
    "print(f('我是你爸爸'))"
   ]
  },
  {
   "cell_type": "code",
   "execution_count": 28,
   "metadata": {
    "collapsed": false
   },
   "outputs": [
    {
     "name": "stdout",
     "output_type": "stream",
     "text": [
      "1.5\n",
      "2.4\n"
     ]
    }
   ],
   "source": [
    "#作业练习\n",
    "#① 函数f（x），输入一个字符串，分别print出每个字母\n",
    "\n",
    "#② f(x,y,z),函数内部算法：生成 ((x+y)(x-y))*z\n",
    "\n",
    "#③ 编写一个求平均值的函数 f(*m)\n",
    "\n",
    "#④ 定义一个函数，用于求矩形面积、圆形面积\n",
    "\n",
    "#⑤ 定义一个函数，函数的作用是把输入的列表变成一连串字典的key，并生成字典，需要用input输入\n",
    "\n",
    "def average(*args):\n",
    "    l = len(args)\n",
    "    sum = 0\n",
    "    if l == 0:\n",
    "        return 0.0\n",
    "    i = 0    \n",
    "    while i < l:\n",
    "        sum += args[i]\n",
    "        i += 1\n",
    "    return sum*1.0/l\n",
    "\n",
    "print(average(1, 2))\n",
    "print(average(1, 2, 2, 3, 4))\n"
   ]
  },
  {
   "cell_type": "code",
   "execution_count": 4,
   "metadata": {
    "collapsed": false
   },
   "outputs": [
    {
     "name": "stdout",
     "output_type": "stream",
     "text": [
      "这个元素是字符\n",
      "这个元素是字符\n",
      "[1, 2]\n",
      "0\n"
     ]
    }
   ],
   "source": [
    "#作业练习\n",
    "def f(*m):\n",
    "    lst = []\n",
    "    if len(m) ==0:\n",
    "        return(0)\n",
    "    else:\n",
    "        for i in m:\n",
    "            while not str(i).isnumeric():\n",
    "                print('这个元素是字符')  \n",
    "                break\n",
    "            else:\n",
    "                lst.append(i)\n",
    "        return(lst)\n",
    "print(f(1,'a','b',2))\n",
    "print(f())"
   ]
  },
  {
   "cell_type": "code",
   "execution_count": 31,
   "metadata": {
    "collapsed": false
   },
   "outputs": [
    {
     "name": "stdout",
     "output_type": "stream",
     "text": [
      "请输入你的列表12,2\n",
      "{2: None, 12: None}\n"
     ]
    }
   ],
   "source": [
    "##作业练习\n",
    "def f(m):\n",
    "    lst1 = []\n",
    "    for i in range(len(m)):\n",
    "        lst2 = lst1.append(m[i])\n",
    "    dic1 = dict.fromkeys(lst1)\n",
    "    return(dic1)\n",
    "lst = eval(input('请输入你的列表'))\n",
    "print(f(lst))"
   ]
  },
  {
   "cell_type": "code",
   "execution_count": 34,
   "metadata": {
    "collapsed": false
   },
   "outputs": [
    {
     "name": "stdout",
     "output_type": "stream",
     "text": [
      "wogenbenjiubuzaihuni woaininiainiainaiani\n"
     ]
    }
   ],
   "source": [
    "#全局变量和局部变量\n",
    "#局部变量\n",
    "def f(m):\n",
    "    m = 'woaininiainiainaiani'\n",
    "    return(m)\n",
    "a = 'wogenbenjiubuzaihuni'\n",
    "print(a,f(a))"
   ]
  },
  {
   "cell_type": "code",
   "execution_count": 39,
   "metadata": {
    "collapsed": false
   },
   "outputs": [
    {
     "name": "stdout",
     "output_type": "stream",
     "text": [
      "10 wohenni\n",
      "wohenni\n"
     ]
    }
   ],
   "source": [
    "#全局变量\n",
    "def f():\n",
    "    global x \n",
    "    x = 'wohenni'\n",
    "    return(x)\n",
    "x = 10\n",
    "print(x,f())\n",
    "print(x)"
   ]
  },
  {
   "cell_type": "code",
   "execution_count": 42,
   "metadata": {
    "collapsed": false
   },
   "outputs": [
    {
     "name": "stdout",
     "output_type": "stream",
     "text": [
      "6\n",
      "3\n"
     ]
    }
   ],
   "source": [
    "#lambda匿名函数\n",
    "# lambda作为匿名函数，是不需要函数名的 → 需要一个函数，又不想动脑筋去想名字，这就是匿名函数\n",
    "# lambda的主体是一个表达式，而不是一个代码块。\n",
    "# lambda只有一行，仅仅能在lambda表达式中封装有限的逻辑进去。\n",
    "f = lambda a,b,c:a+b+c\n",
    "print(f(1,2,3))\n",
    "g = lambda *m:len(m)\n",
    "print(g(1,2,3))"
   ]
  },
  {
   "cell_type": "code",
   "execution_count": 66,
   "metadata": {
    "collapsed": false
   },
   "outputs": [
    {
     "name": "stdout",
     "output_type": "stream",
     "text": [
      "请输入你的编码： bh234 bn\n",
      "(4, 3, 2)\n"
     ]
    }
   ],
   "source": []
  },
  {
   "cell_type": "code",
   "execution_count": null,
   "metadata": {
    "collapsed": true
   },
   "outputs": [],
   "source": [
    "def f(m):\n",
    "    a = 0\n",
    "    b = 0\n",
    "    c = 0\n",
    "    d = 0\n",
    "    for i in m:\n",
    "        if i.isalpha():\n",
    "            a += 1\n",
    "        elif i.isdigit():\n",
    "                b += 1\n",
    "        elif i.isspace():\n",
    "                c += 1\n",
    "\n",
    "    return(a,b,c)\n",
    "st = input('请输入你的编码：')\n",
    "print(f(st))"
   ]
  },
  {
   "cell_type": "code",
   "execution_count": 2,
   "metadata": {
    "collapsed": false
   },
   "outputs": [
    {
     "name": "stdout",
     "output_type": "stream",
     "text": [
      "<class 'str'>\n"
     ]
    }
   ],
   "source": [
    "print(type(\"\"))"
   ]
  }
 ],
 "metadata": {
  "anaconda-cloud": {},
  "kernelspec": {
   "display_name": "Python [default]",
   "language": "python",
   "name": "python3"
  },
  "language_info": {
   "codemirror_mode": {
    "name": "ipython",
    "version": 3
   },
   "file_extension": ".py",
   "mimetype": "text/x-python",
   "name": "python",
   "nbconvert_exporter": "python",
   "pygments_lexer": "ipython3",
   "version": "3.5.2"
  }
 },
 "nbformat": 4,
 "nbformat_minor": 1
}
