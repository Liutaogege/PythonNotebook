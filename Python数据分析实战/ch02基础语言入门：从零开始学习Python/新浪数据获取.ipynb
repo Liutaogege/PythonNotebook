{
 "cells": [
  {
   "cell_type": "code",
   "execution_count": 1,
   "metadata": {
    "collapsed": true
   },
   "outputs": [],
   "source": [
    "import pandas as pd \n",
    "import urllib.request\n",
    "import json"
   ]
  },
  {
   "cell_type": "code",
   "execution_count": 8,
   "metadata": {
    "collapsed": true
   },
   "outputs": [],
   "source": [
    "class WeiBo:\n",
    "    def _init_(self):\n",
    "        self.base_url = 'https://api.weibo.com/2/{api}?page={page}&count={count}&access_token=2.00DOiKzGDXWrVD59fffe0518E5X3uD&page=2&count=50'\n",
    "        \n",
    "    def send_request(self,api,page=1,count=30):\n",
    "        respons = urllib.request.urlopen(self.base_url.format(api=api,page=page,count=count))\n",
    "        respons = respons.read().decode(respons.info().get_param('charset') or 'utf-8')\n",
    "        data = json.loads(respons)\n",
    "        return data"
   ]
  },
  {
   "cell_type": "code",
   "execution_count": 1,
   "metadata": {
    "collapsed": false
   },
   "outputs": [
    {
     "ename": "NameError",
     "evalue": "name 'WeiBo' is not defined",
     "output_type": "error",
     "traceback": [
      "\u001b[0;31m---------------------------------------------------------------------------\u001b[0m",
      "\u001b[0;31mNameError\u001b[0m                                 Traceback (most recent call last)",
      "\u001b[0;32m<ipython-input-1-a14ff277bcca>\u001b[0m in \u001b[0;36m<module>\u001b[0;34m()\u001b[0m\n\u001b[0;32m----> 1\u001b[0;31m \u001b[0msina\u001b[0m \u001b[1;33m=\u001b[0m \u001b[0mWeiBo\u001b[0m\u001b[1;33m(\u001b[0m\u001b[1;33m)\u001b[0m\u001b[1;33m\u001b[0m\u001b[0m\n\u001b[0m\u001b[1;32m      2\u001b[0m \u001b[0mstats_json\u001b[0m \u001b[1;33m=\u001b[0m \u001b[0msina\u001b[0m\u001b[1;33m.\u001b[0m\u001b[0msend_request\u001b[0m\u001b[1;33m(\u001b[0m\u001b[1;34m'statuses/public_timeline.json'\u001b[0m\u001b[1;33m)\u001b[0m\u001b[1;33m\u001b[0m\u001b[0m\n",
      "\u001b[0;31mNameError\u001b[0m: name 'WeiBo' is not defined"
     ]
    }
   ],
   "source": [
    "sina = WeiBo()\n",
    "stats_json = sina.send_request('statuses/public_timeline.json')"
   ]
  },
  {
   "cell_type": "code",
   "execution_count": 2,
   "metadata": {
    "collapsed": true
   },
   "outputs": [],
   "source": [
    "import scrapy"
   ]
  },
  {
   "cell_type": "code",
   "execution_count": 4,
   "metadata": {
    "collapsed": true
   },
   "outputs": [],
   "source": [
    "class MyappCrawer(scrapy.Spider):\n",
    "    name = \"myapp\"\n",
    "    \n",
    "    def start_requestes(self):\n",
    "        urls = ['https://sj.qq.com/myapp/']\n",
    "        for url in urls:\n",
    "            yield scrapy.Request(url=url,callback=parse)\n",
    "            \n",
    "    def parse(self,response):\n",
    "        filename = \"myapp_home.html\"\n",
    "        f = open(filename,'wb')\n",
    "        f.write(response.body)\n",
    "        f.close()"
   ]
  },
  {
   "cell_type": "code",
   "execution_count": 6,
   "metadata": {
    "collapsed": false
   },
   "outputs": [
    {
     "ename": "TypeError",
     "evalue": "parse() missing 1 required positional argument: 'response'",
     "output_type": "error",
     "traceback": [
      "\u001b[0;31m---------------------------------------------------------------------------\u001b[0m",
      "\u001b[0;31mTypeError\u001b[0m                                 Traceback (most recent call last)",
      "\u001b[0;32m<ipython-input-6-808274b2aa0b>\u001b[0m in \u001b[0;36m<module>\u001b[0;34m()\u001b[0m\n\u001b[1;32m      1\u001b[0m \u001b[0mmyapp\u001b[0m \u001b[1;33m=\u001b[0m \u001b[0mMyappCrawer\u001b[0m\u001b[1;33m(\u001b[0m\u001b[1;33m)\u001b[0m\u001b[1;33m\u001b[0m\u001b[0m\n\u001b[0;32m----> 2\u001b[0;31m \u001b[0mmyapp\u001b[0m\u001b[1;33m.\u001b[0m\u001b[0mparse\u001b[0m\u001b[1;33m(\u001b[0m\u001b[1;33m)\u001b[0m\u001b[1;33m\u001b[0m\u001b[0m\n\u001b[0m",
      "\u001b[0;31mTypeError\u001b[0m: parse() missing 1 required positional argument: 'response'"
     ]
    }
   ],
   "source": [
    "myapp = MyappCrawer()\n",
    "myapp.parse()"
   ]
  }
 ],
 "metadata": {
  "anaconda-cloud": {},
  "kernelspec": {
   "display_name": "Python [default]",
   "language": "python",
   "name": "python3"
  }
 },
 "nbformat": 4,
 "nbformat_minor": 1
}
