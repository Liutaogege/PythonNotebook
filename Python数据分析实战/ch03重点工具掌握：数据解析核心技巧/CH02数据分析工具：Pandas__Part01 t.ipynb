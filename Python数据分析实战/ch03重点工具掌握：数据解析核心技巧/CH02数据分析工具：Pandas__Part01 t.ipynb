{
 "cells": [
  {
   "cell_type": "code",
   "execution_count": 1,
   "metadata": {
    "collapsed": false
   },
   "outputs": [
    {
     "data": {
      "text/plain": [
       "'\\n【课程2.2】  Pandas数据结构Series：基本概念及创建\\n\\u200b\\n\"一维数组\"Serise\\n\\u200b\\n'"
      ]
     },
     "execution_count": 1,
     "metadata": {},
     "output_type": "execute_result"
    }
   ],
   "source": [
    "'''\n",
    "【课程2.2】  Pandas数据结构Series：基本概念及创建\n",
    "​\n",
    "\"一维数组\"Serise\n",
    "​\n",
    "'''"
   ]
  },
  {
   "cell_type": "code",
   "execution_count": 4,
   "metadata": {
    "collapsed": false
   },
   "outputs": [
    {
     "name": "stdout",
     "output_type": "stream",
     "text": [
      "[ 0.82118173  0.65983853  0.68579358  0.37092049  0.88041514]\n",
      "a    0.821182\n",
      "b    0.659839\n",
      "c    0.685794\n",
      "d    0.370920\n",
      "e    0.880415\n",
      "dtype: float64\n",
      "0    0.821182\n",
      "1    0.659839\n",
      "2    0.685794\n",
      "3    0.370920\n",
      "4    0.880415\n",
      "dtype: float64\n",
      "<class 'pandas.core.series.Series'>\n",
      "-------------\n",
      "Index(['a', 'b', 'c', 'd', 'e'], dtype='object')\n",
      "0.68579357814\n",
      "c\n"
     ]
    }
   ],
   "source": [
    "import numpy as np\n",
    "import pandas as pd\n",
    "ar = np.random.random(5)\n",
    "s1 = s = pd.Series(ar)  \n",
    "s = pd.Series(ar,index = list('abcde'))  #index可以改变索引的值\n",
    "print(ar)\n",
    "print(s)\n",
    "print(s1)\n",
    "print(type(s))\n",
    "print('-------------')\n",
    "print(s.index)\n",
    "print(s.values[2])\n",
    "print(s.index[2])\n",
    "# .index查看series索引，类型为rangeindex\n",
    "# .values查看series值，类型是ndarray\n",
    "#series相当于是有序的字典\n",
    "\n",
    "# 核心：series相比于ndarray，是一个自带索引index的数组 → 一维数组 + 对应索引\n",
    "# 所以当只看series的值的时候，就是一个ndarray\n",
    "# series和ndarray较相似，索引切片功能差别不大\n",
    "# series和dict相比，series更像一个有顺序的字典（dict本身不存在顺序），其索引原理与字典相似（一个用key，一个用index）"
   ]
  },
  {
   "cell_type": "code",
   "execution_count": 4,
   "metadata": {
    "collapsed": false
   },
   "outputs": [
    {
     "name": "stdout",
     "output_type": "stream",
     "text": [
      "a    1\n",
      "b    2\n",
      "c    3\n",
      "dtype: int64\n"
     ]
    }
   ],
   "source": [
    "#Series的创建 这是由字典创建的\n",
    "dic = {'a':1,'b':2,'c':3}\n",
    "s = pd.Series(dic)\n",
    "print(s)"
   ]
  },
  {
   "cell_type": "code",
   "execution_count": 15,
   "metadata": {
    "collapsed": false
   },
   "outputs": [
    {
     "name": "stdout",
     "output_type": "stream",
     "text": [
      "0    47.611232\n",
      "1    45.309880\n",
      "2    78.949866\n",
      "3    25.459442\n",
      "4     7.436362\n",
      "dtype: float64\n",
      "a    47.6112\n",
      "b    45.3099\n",
      "c    78.9499\n",
      "d    25.4594\n",
      "e    7.43636\n",
      "dtype: object\n"
     ]
    }
   ],
   "source": [
    "#由一维数组创建\n",
    "ar = np.random.random(5)*100\n",
    "s = pd.Series(ar)\n",
    "print(s)\n",
    "s1 = pd.Series(ar,index = list('abcde'),dtype= np.object) #bojict和str一样是字符型\n",
    "print(s1)"
   ]
  },
  {
   "cell_type": "code",
   "execution_count": 17,
   "metadata": {
    "collapsed": false
   },
   "outputs": [
    {
     "name": "stdout",
     "output_type": "stream",
     "text": [
      "0    10\n",
      "1    10\n",
      "2    10\n",
      "3    10\n",
      "4    10\n",
      "dtype: int64\n"
     ]
    }
   ],
   "source": [
    "#由标量创建\n",
    "s = pd.Series(10,index=range(5))\n",
    "print(s)"
   ]
  },
  {
   "cell_type": "code",
   "execution_count": 24,
   "metadata": {
    "collapsed": false
   },
   "outputs": [
    {
     "name": "stdout",
     "output_type": "stream",
     "text": [
      "0    0.033202\n",
      "1    0.590485\n",
      "2    0.802642\n",
      "3    0.075950\n",
      "4    0.462768\n",
      "dtype: float64\n",
      "0    0.192665\n",
      "1    0.201051\n",
      "2    0.718924\n",
      "3    0.212547\n",
      "4    0.171197\n",
      "Name: test, dtype: float64\n",
      "None\n",
      "0    0.192665\n",
      "1    0.201051\n",
      "2    0.718924\n",
      "3    0.212547\n",
      "4    0.171197\n",
      "Name: niniupi, dtype: float64\n",
      "0    0.192665\n",
      "1    0.201051\n",
      "2    0.718924\n",
      "3    0.212547\n",
      "4    0.171197\n",
      "Name: test, dtype: float64\n"
     ]
    }
   ],
   "source": [
    "#Series的名称属性name\n",
    "s1 = pd.Series(np.random.random(5))\n",
    "print(s1)\n",
    "s2 = pd.Series(np.random.random(5),name='test')\n",
    "print(s2)\n",
    "print(s1.name)\n",
    "# name为Series的一个参数，创建一个数组的 名称\n",
    "# .name方法：输出数组的名称，输出格式为str，如果没用定义输出名称，输出为None\n",
    "\n",
    "#重命名rename\n",
    "s3 = s2.rename('niniupi')\n",
    "print(s3)\n",
    "print(s2)\n",
    "# .rename()重命名一个数组的名称，并且新指向一个数组，原数组不变"
   ]
  },
  {
   "cell_type": "code",
   "execution_count": 8,
   "metadata": {
    "collapsed": false
   },
   "outputs": [
    {
     "name": "stdout",
     "output_type": "stream",
     "text": [
      "[[  0.   1.   2.   3.   4.]\n",
      " [  5.   6.   7.   8.   9.]\n",
      " [ 10.  11.  12.  13.  14.]\n",
      " [ 15.  16.  17.  18.  19.]\n",
      " [ 20.  21.  22.  23.  24.]]\n",
      "[[  0.50943756   0.26958293   2.           3.           4.        ]\n",
      " [  0.32886752   0.78878367   7.           8.           9.        ]\n",
      " [ 10.          11.          12.          13.          14.        ]\n",
      " [ 15.          16.          17.          18.          19.        ]\n",
      " [ 20.          21.          22.          23.          24.        ]]\n",
      "[[ 0.13719734  0.73320446]\n",
      " [ 0.45385868  0.81747992]\n",
      " [ 0.00740996  0.08749528]\n",
      " [ 0.89697333  0.87965017]]\n",
      "[[ 1.18632207  0.65327614]\n",
      " [-0.94596821  1.00194402]]\n",
      "[[-1.23158886  0.813921   -0.77102414 -1.24381839 -1.03480237 -0.55249238\n",
      "   0.35327443 -0.49991951 -0.69481585 -0.330254  ]\n",
      " [ 0.58425833  1.47966261  1.9903692  -0.29165301 -0.33301859 -0.76645143\n",
      "   0.66266375  0.48477913 -0.85109609 -0.79817768]]\n",
      "[[75 70 69 44 23 50 44 56 86 46]\n",
      " [63 32 27 22 69 44 32 87 78 13]\n",
      " [14 71 26 23 42 51 96 39 41 61]\n",
      " [28 85 66 26 87 18 55 36 37 66]\n",
      " [61 76  5 45 48 10 56 79 68 86]\n",
      " [49 41 83 52 15 20 41 93 50 41]\n",
      " [90  7 96 13 88  6  0  2 31 15]\n",
      " [96 94 87 30 64 34 11 59 71 19]\n",
      " [51 46 45 92 87 97 40 92 94 41]\n",
      " [48 62  1 46 16 27 60 69 97 73]]\n",
      "finished\n"
     ]
    }
   ],
   "source": [
    "#作业练习\n",
    "import numpy as np\n",
    "ar = np.arange(25,dtype= np.float32).reshape(5,5)\n",
    "print(ar)\n",
    "ar[:2,:2] = np.random.rand(2,2)\n",
    "print(ar)\n",
    "ar1 = np.random.rand(4,2)\n",
    "print(ar1)\n",
    "\n",
    "b = np.random.normal(size=(2,2))\n",
    "print(b)\n",
    "data = np.random.normal(size=(2,10))\n",
    "print(data)\n",
    "\n",
    "c = np.random.randint(0,100,size=(10,10))\n",
    "print(c)\n",
    "np.savetxt('wotoyanni.txt',c,delimiter=',')\n",
    "print('finished')"
   ]
  },
  {
   "cell_type": "code",
   "execution_count": 23,
   "metadata": {
    "collapsed": false
   },
   "outputs": [
    {
     "name": "stdout",
     "output_type": "stream",
     "text": [
      "{'chenqiaoen': 20, 'jack': 96, 'chenglong': 25}\n",
      "chenglong     25\n",
      "chenqiaoen    20\n",
      "jack          96\n",
      "Name: 作业1, dtype: int64\n",
      "[36 25 23]\n",
      "jacl         36.0\n",
      "chenglong    25.0\n",
      "feilipu      23.0\n",
      "Name: 作业1, dtype: float64\n"
     ]
    }
   ],
   "source": [
    "#作业练习\n",
    "import pandas as pd\n",
    "dic = {'jack':96,'chenglong':25,'chenqiaoen':20}\n",
    "print(dic)\n",
    "s1 = pd.Series(dic,name='作业1')\n",
    "print(s1)\n",
    "ar = np.array([36,25,23])\n",
    "print(ar)\n",
    "s2 = pd.Series(ar,name= '作业1',dtype = np.float64,index= ['jacl','chenglong','feilipu'])\n",
    "print(s2)"
   ]
  },
  {
   "cell_type": "code",
   "execution_count": 73,
   "metadata": {
    "collapsed": false
   },
   "outputs": [
    {
     "name": "stdout",
     "output_type": "stream",
     "text": [
      "[ 88.35836035  66.04809568   2.29504569  17.1330316   59.5346069\n",
      "  78.67235422  67.5458375   29.94435544  39.10575187  82.22266415]\n",
      "a    88.358360\n",
      "b    66.048096\n",
      "c     2.295046\n",
      "d    17.133032\n",
      "e    59.534607\n",
      "f    78.672354\n",
      "g    67.545838\n",
      "h    29.944355\n",
      "i    39.105752\n",
      "j    82.222664\n",
      "dtype: float64\n",
      "--------\n",
      "66.0480956807\n",
      "a    88.358360\n",
      "b    66.048096\n",
      "dtype: float64\n",
      "----------\n",
      "e    59.534607\n",
      "f    78.672354\n",
      "g    67.545838\n",
      "dtype: float64\n",
      "a    88.358360\n",
      "b    66.048096\n",
      "e    59.534607\n",
      "f    78.672354\n",
      "g    67.545838\n",
      "j    82.222664\n",
      "dtype: float64\n"
     ]
    }
   ],
   "source": [
    "#作业练习\n",
    "ar = np.random.rand(10)*100\n",
    "print(ar)\n",
    "s1 = pd.Series(ar,index= ['a','b','c','d','e','f','g','h','i','j'])\n",
    "print(s1)\n",
    "print('--------')\n",
    "print(s1['b'])\n",
    "print(s1[['a','b']])  #取多个值\n",
    "print('----------')\n",
    "print(s1[4:7])\n",
    "print(s1[s1.values>50])"
   ]
  },
  {
   "cell_type": "code",
   "execution_count": 70,
   "metadata": {
    "collapsed": false
   },
   "outputs": [
    {
     "ename": "SyntaxError",
     "evalue": "invalid syntax (<ipython-input-70-671f2296d887>, line 3)",
     "output_type": "error",
     "traceback": [
      "\u001b[0;36m  File \u001b[0;32m\"<ipython-input-70-671f2296d887>\"\u001b[0;36m, line \u001b[0;32m3\u001b[0m\n\u001b[0;31m    s1[index='a'] = 100\u001b[0m\n\u001b[0m            ^\u001b[0m\n\u001b[0;31mSyntaxError\u001b[0m\u001b[0;31m:\u001b[0m invalid syntax\n"
     ]
    }
   ],
   "source": [
    "s1 = pd.Series(np.array(range(10)),index=list('abcdefghij'))\n",
    "print(s1)\n",
    "s1['a'] = 100\n",
    "print(s1)"
   ]
  },
  {
   "cell_type": "code",
   "execution_count": 74,
   "metadata": {
    "collapsed": false
   },
   "outputs": [
    {
     "name": "stdout",
     "output_type": "stream",
     "text": [
      "a    2.197295\n",
      "b    4.499850\n",
      "c    5.940777\n",
      "d    3.354403\n",
      "e    7.215687\n",
      "dtype: float64\n",
      "a    6.335967\n",
      "b    8.440667\n",
      "c    3.330514\n",
      "d    8.496300\n",
      "e    7.468795\n",
      "dtype: float64\n",
      "a     8.533262\n",
      "b    12.940518\n",
      "c     9.271291\n",
      "d    11.850703\n",
      "e    14.684482\n",
      "dtype: float64\n"
     ]
    }
   ],
   "source": [
    "s1 = pd.Series(np.random.rand(5)*10,index=list('abcde'))\n",
    "print(s1)\n",
    "s2 = pd.Series(np.random.rand(5)*10,index=list('abcde'))\n",
    "print(s2)\n",
    "print(s1+s2)"
   ]
  },
  {
   "cell_type": "code",
   "execution_count": 75,
   "metadata": {
    "collapsed": false
   },
   "outputs": [
    {
     "data": {
      "text/plain": [
       "'\\n【课程2.3】  Pandas数据结构Series：索引\\n\\n位置下标 / 标签索引 / 切片索引 / 布尔型索引\\n\\n'"
      ]
     },
     "execution_count": 75,
     "metadata": {},
     "output_type": "execute_result"
    }
   ],
   "source": [
    "'''\n",
    "【课程2.3】  Pandas数据结构Series：索引\n",
    "\n",
    "位置下标 / 标签索引 / 切片索引 / 布尔型索引\n",
    "\n",
    "'''"
   ]
  },
  {
   "cell_type": "code",
   "execution_count": 76,
   "metadata": {
    "collapsed": false
   },
   "outputs": [
    {
     "name": "stdout",
     "output_type": "stream",
     "text": [
      "0    0.682719\n",
      "1    0.747006\n",
      "2    0.837560\n",
      "3    0.379276\n",
      "4    0.985096\n",
      "dtype: float64\n",
      "0.682718738412 <class 'numpy.float64'> float64\n",
      "0.6827187384118202 <class 'float'>\n"
     ]
    }
   ],
   "source": [
    "# 位置下标，类似序列\n",
    "\n",
    "s = pd.Series(np.random.rand(5))\n",
    "print(s)\n",
    "print(s[0],type(s[0]),s[0].dtype)\n",
    "print(float(s[0]),type(float(s[0])))\n",
    "#print(s[-1])\n",
    "# 位置下标从0开始\n",
    "# 输出结果为numpy.float格式，\n",
    "# 可以通过float()函数转换为python float格式\n",
    "# numpy.float与float占用字节不同\n",
    "# s[-1]结果如何？"
   ]
  },
  {
   "cell_type": "code",
   "execution_count": 5,
   "metadata": {
    "collapsed": false
   },
   "outputs": [
    {
     "name": "stdout",
     "output_type": "stream",
     "text": [
      "a    0.649258\n",
      "b    0.683256\n",
      "c    0.306273\n",
      "d    0.388808\n",
      "e    0.493551\n",
      "dtype: float64\n",
      "0.649257583856 <class 'numpy.float64'> float64\n",
      "float64\n",
      "a    0.649258\n",
      "b    0.683256\n",
      "e    0.493551\n",
      "dtype: float64 <class 'pandas.core.series.Series'>\n"
     ]
    }
   ],
   "source": [
    "# 标签索引\n",
    "\n",
    "s = pd.Series(np.random.rand(5), index = ['a','b','c','d','e'])\n",
    "print(s)\n",
    "print(s['a'],type(s['a']),s['a'].dtype)\n",
    "print(s.values.dtype)\n",
    "# 方法类似下标索引，用[]表示，内写上index，注意index是字符串\n",
    "\n",
    "sci = s[['a','b','e']]\n",
    "print(sci,type(sci))\n",
    "# 如果需要选择多个标签的值，用[[]]来表示（相当于[]中包含一个列表）\n",
    "# 多标签索引结果是新的数组"
   ]
  },
  {
   "cell_type": "code",
   "execution_count": 79,
   "metadata": {
    "collapsed": false
   },
   "outputs": [
    {
     "name": "stdout",
     "output_type": "stream",
     "text": [
      "1    0.758515\n",
      "2    0.276289\n",
      "3    0.355082\n",
      "dtype: float64 0.0178253271135\n",
      "a    0.554780\n",
      "b    0.455895\n",
      "c    0.354254\n",
      "dtype: float64 0.354253922236\n",
      "a    0.554780\n",
      "b    0.455895\n",
      "c    0.354254\n",
      "dtype: float64 0.171215401091\n",
      "-----\n",
      "a    0.554780\n",
      "b    0.455895\n",
      "c    0.354254\n",
      "d    0.171215\n",
      "dtype: float64\n",
      "a    0.554780\n",
      "c    0.354254\n",
      "e    0.956725\n",
      "dtype: float64\n"
     ]
    }
   ],
   "source": [
    "# 切片索引\n",
    "\n",
    "s1 = pd.Series(np.random.rand(5))\n",
    "s2 = pd.Series(np.random.rand(5), index = ['a','b','c','d','e'])\n",
    "print(s1[1:4],s1[4])\n",
    "print(s2['a':'c'],s2['c'])\n",
    "print(s2[0:3],s2[3])\n",
    "print('-----')\n",
    "# 注意：用index做切片是末端包含\n",
    "\n",
    "print(s2[:-1])\n",
    "print(s2[::2])\n",
    "# 下标索引做切片，和list写法一样"
   ]
  },
  {
   "cell_type": "code",
   "execution_count": 18,
   "metadata": {
    "collapsed": false
   },
   "outputs": [
    {
     "name": "stdout",
     "output_type": "stream",
     "text": [
      "0    74.9844\n",
      "1    30.4337\n",
      "2    58.6967\n",
      "4       None\n",
      "dtype: object\n",
      "0     True\n",
      "1    False\n",
      "2     True\n",
      "4    False\n",
      "dtype: bool <class 'pandas.core.series.Series'> bool\n",
      "0    False\n",
      "1    False\n",
      "2    False\n",
      "4     True\n",
      "dtype: bool <class 'pandas.core.series.Series'> bool\n",
      "0     True\n",
      "1     True\n",
      "2     True\n",
      "4    False\n",
      "dtype: bool <class 'pandas.core.series.Series'> bool\n",
      "-----\n",
      "0    74.9844\n",
      "2    58.6967\n",
      "dtype: object\n",
      "0    74.9844\n",
      "1    30.4337\n",
      "2    58.6967\n",
      "dtype: object\n",
      "Empty DataFrame\n",
      "Columns: [0, 1, 2]\n",
      "Index: []\n"
     ]
    }
   ],
   "source": [
    "# 布尔型索引\n",
    "\n",
    "s = pd.Series(np.random.rand(3)*100)\n",
    "df = pd.DataFrame(np.random.rand(3,3))\n",
    "s[4] = None  # 添加一个空值\n",
    "print(s)\n",
    "bs1 = s > 50\n",
    "bs2 = s.isnull()\n",
    "bs3 = s.notnull()\n",
    "print(bs1, type(bs1), bs1.dtype)\n",
    "print(bs2, type(bs2), bs2.dtype)\n",
    "print(bs3, type(bs3), bs3.dtype)\n",
    "print('-----')\n",
    "# 数组做判断之后，返回的是一个由布尔值组成的新的数组\n",
    "# .isnull() / .notnull() 判断是否为空值 (None代表空值，NaN代表有问题的数值，两个都会识别为空值)\n",
    "\n",
    "print(s[s > 50])\n",
    "print(s[bs3])\n",
    "\n",
    "df[2][2] = None\n",
    "\n",
    "\n",
    "# 布尔型索引方法：用[判断条件]表示，其中判断条件可以是 一个语句，或者是 一个布尔型数组！"
   ]
  },
  {
   "cell_type": "code",
   "execution_count": 90,
   "metadata": {
    "collapsed": false
   },
   "outputs": [
    {
     "name": "stdout",
     "output_type": "stream",
     "text": [
      "0    0\n",
      "1    1\n",
      "2    2\n",
      "3    3\n",
      "4    4\n",
      "5    5\n",
      "6    6\n",
      "7    7\n",
      "8    8\n",
      "9    9\n",
      "dtype: int32\n",
      "0      0\n",
      "1      1\n",
      "2      2\n",
      "3    100\n",
      "4      4\n",
      "5      5\n",
      "6      6\n",
      "7      7\n",
      "8      8\n",
      "9      9\n",
      "dtype: int32\n",
      "0     True\n",
      "1     True\n",
      "2     True\n",
      "3     True\n",
      "4     True\n",
      "5     True\n",
      "6     True\n",
      "7     True\n",
      "8     True\n",
      "9     True\n",
      "11    True\n",
      "dtype: bool\n"
     ]
    }
   ],
   "source": [
    "s = pd.Series(np.array(range(10)))\n",
    "print(s)\n",
    "s[3] = 100\n",
    "print(s)\n",
    "s[11] = 0\n",
    "psd = s.notnull()\n",
    "print(psd)"
   ]
  },
  {
   "cell_type": "code",
   "execution_count": 96,
   "metadata": {
    "collapsed": false
   },
   "outputs": [
    {
     "name": "stdout",
     "output_type": "stream",
     "text": [
      "0    0.625319\n",
      "1    0.777063\n",
      "2    0.872813\n",
      "3    0.259643\n",
      "dtype: float64\n",
      "5    0.927953\n",
      "6    0.277820\n",
      "7    0.590982\n",
      "8    0.626623\n",
      "9    0.361195\n",
      "dtype: float64\n"
     ]
    }
   ],
   "source": [
    "#数据查看\n",
    "s = pd.Series(np.random.rand(10))\n",
    "print(s.head(4))  #默认是查看前5条数据和后五条数据\n",
    "print(s.tail())"
   ]
  },
  {
   "cell_type": "code",
   "execution_count": 20,
   "metadata": {
    "collapsed": false
   },
   "outputs": [
    {
     "name": "stdout",
     "output_type": "stream",
     "text": [
      "a    0.945796\n",
      "b    0.153253\n",
      "c    0.629957\n",
      "d    0.404712\n",
      "e    0.302164\n",
      "dtype: float64\n",
      "c    0.629957\n",
      "d    0.404712\n",
      "e    0.302164\n",
      "a    0.945796\n",
      "f         NaN\n",
      "dtype: float64\n",
      "c    0.629957\n",
      "b    0.153253\n",
      "a    0.945796\n",
      "g    4.000000\n",
      "dtype: float64\n"
     ]
    }
   ],
   "source": [
    "#改编索引的顺序\n",
    "s = pd.Series(np.random.rand(5),index=list('abcde'))\n",
    "s1 = s.reindex(['c','d','e','a','f'])\n",
    "print(s)\n",
    "print(s1)\n",
    "s2 = s.reindex(['c','b','a','g'], fill_value = 4) #没有的指默认填充为0\n",
    "print(s2)"
   ]
  },
  {
   "cell_type": "code",
   "execution_count": 104,
   "metadata": {
    "collapsed": false
   },
   "outputs": [
    {
     "name": "stdout",
     "output_type": "stream",
     "text": [
      "Jack     1.563137\n",
      "Marry    1.525819\n",
      "Tom           NaN\n",
      "Wang          NaN\n",
      "dtype: float64\n"
     ]
    }
   ],
   "source": [
    "#对齐\n",
    "\n",
    "s1 = pd.Series(np.random.rand(3), index = ['Jack','Marry','Tom'])\n",
    "s2 = pd.Series(np.random.rand(3), index = ['Wang','Jack','Marry'])\n",
    "print(s1+s2)"
   ]
  },
  {
   "cell_type": "code",
   "execution_count": null,
   "metadata": {
    "collapsed": true
   },
   "outputs": [],
   "source": []
  },
  {
   "cell_type": "code",
   "execution_count": 43,
   "metadata": {
    "collapsed": false
   },
   "outputs": [
    {
     "name": "stdout",
     "output_type": "stream",
     "text": [
      "a    0\n",
      "b    1\n",
      "c    2\n",
      "d    3\n",
      "e    4\n",
      "dtype: int32\n",
      "b    1\n",
      "c    2\n",
      "d    3\n",
      "e    4\n",
      "dtype: int32\n",
      "[1, 3]\n"
     ]
    }
   ],
   "source": [
    "#删除drop\n",
    "s = pd.Series(np.array(range(5)),index= list('abcde'))\n",
    "print(s)\n",
    "\n",
    "print(s.drop('a'))\n",
    "#print(s.drop(['a','d']) )#删除多个元素\n",
    "# drop 删除元素之后返回副本(inplace=False)\n",
    "#print(s.drop('b',inplace=True))\n",
    "#print(s)  #尽管不返回副本，但元素已经被删除\n",
    "lst = [1,2,3]\n",
    "lst.pop(1)\n",
    "print(lst)"
   ]
  },
  {
   "cell_type": "code",
   "execution_count": 22,
   "metadata": {
    "collapsed": false
   },
   "outputs": [
    {
     "name": "stdout",
     "output_type": "stream",
     "text": [
      "a     0\n",
      "b     1\n",
      "c     2\n",
      "d     3\n",
      "f    89\n",
      "dtype: int64\n",
      "a     0\n",
      "b     1\n",
      "c     2\n",
      "d     3\n",
      "f    89\n",
      "0     0\n",
      "1     1\n",
      "2     2\n",
      "dtype: int64\n",
      "a     0\n",
      "b     1\n",
      "c     2\n",
      "d     3\n",
      "f    89\n",
      "dtype: int64\n"
     ]
    }
   ],
   "source": [
    "#添加\n",
    "s = pd.Series(np.array(range(4)),index= list('abcd'))\n",
    "s['f'] = 89\n",
    "print(s)\n",
    "s1 = pd.Series(np.array(range(3)))\n",
    "s2 = s.append(s1)\n",
    "print(s2)\n",
    "print(s)  #append不改变原来数组的值\n"
   ]
  },
  {
   "cell_type": "code",
   "execution_count": 126,
   "metadata": {
    "collapsed": false
   },
   "outputs": [
    {
     "data": {
      "text/plain": [
       "'\\n【课程2.5】  Pandas数据结构Dataframe：基本概念及创建\\n\\n\"二维数组\"Dataframe：是一个表格型的数据结构，包含一组有序的列，其列的值类型可以是数值、字符串、布尔值等。\\n\\nDataframe中的数据以一个或多个二维块存放，不是列表、字典或一维数组结构。\\n\\n'"
      ]
     },
     "execution_count": 126,
     "metadata": {},
     "output_type": "execute_result"
    }
   ],
   "source": [
    "'''\n",
    "【课程2.5】  Pandas数据结构Dataframe：基本概念及创建\n",
    "\n",
    "\"二维数组\"Dataframe：是一个表格型的数据结构，包含一组有序的列，其列的值类型可以是数值、字符串、布尔值等。\n",
    "\n",
    "Dataframe中的数据以一个或多个二维块存放，不是列表、字典或一维数组结构。\n",
    "\n",
    "'''"
   ]
  },
  {
   "cell_type": "code",
   "execution_count": 2,
   "metadata": {
    "collapsed": false
   },
   "outputs": [
    {
     "name": "stdout",
     "output_type": "stream",
     "text": [
      "  chenlong  jack liuyifei\n",
      "0      我爱你  我喜欢你   你是我的一切\n",
      "1    你是智障吗  你个蠢猪    抱得紧紧的\n",
      "        dad       mom\n",
      "0  0.956666  0.601843\n",
      "1  0.332659  0.549954\n",
      "2  0.317233  0.756073\n",
      "-----------\n",
      "<class 'pandas.core.frame.DataFrame'>\n",
      "RangeIndex(start=0, stop=2, step=1)\n",
      "[['我爱你' '我喜欢你' '你是我的一切']\n",
      " ['你是智障吗' '你个蠢猪' '抱得紧紧的']]\n",
      "Index(['chenlong', 'jack', 'liuyifei'], dtype='object')\n",
      "----------\n",
      "我喜欢你\n"
     ]
    }
   ],
   "source": [
    " #Dataframe     #dataframe 的创建,由字典和数组可以创建\n",
    "import pandas as pd \n",
    "import numpy as np\n",
    "data1 = {'jack':['我喜欢你','你个蠢猪'],'chenlong':['我爱你','你是智障吗'],'liuyifei':['你是我的一切','抱得紧紧的']}\n",
    "data2 = {'dad':np.random.rand(3),\n",
    "        'mom':np.random.rand(3)}\n",
    "frame = pd.DataFrame(data1)  \n",
    "fm2 = pd.DataFrame(data2)\n",
    "# columns参数：可以重新指定列的顺序，格式为list，如果现有数据中没有该列（比如'd'），则产生NaN值\n",
    "# 如果columns重新指定时候，列的数量可以少于原数据\n",
    "print(frame)\n",
    "print(fm2)\n",
    "print('-----------')\n",
    "print(type(frame))\n",
    "print(frame.index)\n",
    "print(frame.values)\n",
    "print(frame.columns)\n",
    "# .index查看行标签\n",
    "# .columns查看列标签\n",
    "# .values查看值，数据类型为ndarray\n",
    "print('----------')\n",
    "print(frame['jack'][0])"
   ]
  },
  {
   "cell_type": "code",
   "execution_count": 165,
   "metadata": {
    "collapsed": false
   },
   "outputs": [
    {
     "name": "stdout",
     "output_type": "stream",
     "text": [
      "{'two': 0    0.521648\n",
      "1    0.144938\n",
      "dtype: float64, 'one': a    0.113609\n",
      "b    0.441961\n",
      "c    0.758809\n",
      "dtype: float64, 'three': 0    0.912586\n",
      "1    0.018677\n",
      "dtype: float64}\n",
      "        one     three       two\n",
      "a  0.113609       NaN       NaN\n",
      "b  0.441961       NaN       NaN\n",
      "c  0.758809       NaN       NaN\n",
      "0       NaN  0.912586  0.521648\n",
      "1       NaN  0.018677  0.144938\n",
      "   one     three       two\n",
      "a  NaN       NaN       NaN\n",
      "b  NaN       NaN       NaN\n",
      "c  NaN       NaN       NaN\n",
      "0  NaN  1.808640  0.884203\n",
      "1  NaN  0.746497  0.278932\n",
      "2  NaN       NaN       NaN\n"
     ]
    },
    {
     "name": "stderr",
     "output_type": "stream",
     "text": [
      "C:\\Users\\acer\\Anaconda3\\lib\\site-packages\\pandas\\indexes\\api.py:71: RuntimeWarning: unorderable types: int() > str(), sort order is undefined for incomparable objects\n",
      "  result = result.union(other)\n",
      "C:\\Users\\acer\\Anaconda3\\lib\\site-packages\\pandas\\indexes\\base.py:2482: RuntimeWarning: unorderable types: str() < int(), sort order is undefined for incomparable objects\n",
      "  return this.join(other, how=how, return_indexers=return_indexers)\n"
     ]
    }
   ],
   "source": [
    "#dataframe 的创建方法3：由series构成的字典创建\n",
    "data1 = {'one':pd.Series(np.random.rand(3),index = list('abc')),\n",
    "        'two':pd.Series(np.random.rand(2)),\n",
    "        'three':pd.Series(np.random.rand(2))}\n",
    "data2 = {'one':pd.Series(np.random.rand(3)),\n",
    "        'two':pd.Series(np.random.rand(2)),\n",
    "        'three':pd.Series(np.random.rand(2))}\n",
    "print(data1)\n",
    "fm1 = pd.DataFrame(data1)\n",
    "fm2 = pd.DataFrame(data2)\n",
    "\n",
    "print(fm1)\n",
    "print(fm1+fm2)\n",
    "# 由Seris组成的字典 创建Dataframe，columns为字典key，index为Series的标签（如果Series没有指定标签，则是默认数字标签）\n",
    "# Series可以长度不一样，生成的Dataframe会出现NaN值"
   ]
  },
  {
   "cell_type": "code",
   "execution_count": 169,
   "metadata": {
    "collapsed": false
   },
   "outputs": [
    {
     "name": "stdout",
     "output_type": "stream",
     "text": [
      "[[0 1 2 3]\n",
      " [4 5 6 7]]\n",
      "   0  1  2  3\n",
      "0  0  1  2  3\n",
      "1  4  5  6  7\n",
      "   one  two  three  four\n",
      "a    0    1      2     3\n",
      "b    4    5      6     7\n"
     ]
    }
   ],
   "source": [
    "#dataframe 的创建方法3：通过二维数组直接创建\n",
    "ar = np.arange(8).reshape(2,4)\n",
    "print(ar)\n",
    "df1 = pd.DataFrame(ar)\n",
    "df2 = pd.DataFrame(ar,index= list('ab'),columns=['one','two','three','four'])\n",
    "print(df1)\n",
    "print(df2)"
   ]
  },
  {
   "cell_type": "code",
   "execution_count": 181,
   "metadata": {
    "collapsed": false
   },
   "outputs": [
    {
     "name": "stdout",
     "output_type": "stream",
     "text": [
      "   one  two     一     二\n",
      "a  1.0  2.0   NaN   NaN\n",
      "b  NaN  NaN  11.0  22.0\n",
      "   one  three  two\n",
      "0    1    NaN    2\n",
      "1   11   33.0   22\n",
      "2    1    NaN    2\n",
      "   one  two\n",
      "0  1.0  2.0\n",
      "1  NaN  NaN\n"
     ]
    }
   ],
   "source": [
    "# Dataframe 创建方法四：由字典组成的列表\n",
    "data1 = [{'one':1,'two':2},{'一':11,'二':22}]\n",
    "data2 = [{'one':1,'two':2},{'one':11,'two':22,'three':33},{'one':1,'two':2}]\n",
    "pf1 = pd.DataFrame(data1,index= list('ab'))\n",
    "pf3 = pd.DataFrame(data1,columns=['one','two'])\n",
    "pf2 = pd.DataFrame(data2)\n",
    "print(pf1)\n",
    "print(pf2)\n",
    "print(pf3)"
   ]
  },
  {
   "cell_type": "code",
   "execution_count": 191,
   "metadata": {
    "collapsed": false
   },
   "outputs": [
    {
     "name": "stdout",
     "output_type": "stream",
     "text": [
      "        baba  ganba  mama\n",
      "baba    70.0     71  72.0\n",
      "mama    65.0     66  64.0\n",
      "zuzong   NaN     90   NaN\n",
      "      baba  ganba  mama\n",
      "baba    70     71    72\n",
      "mama    65     66    64\n",
      "      baba  mama\n",
      "baba    70    72\n",
      "mama    65    64\n"
     ]
    }
   ],
   "source": [
    "# Dataframe 创建方法五：由字典组成的字典\n",
    "data = {'baba':{'mama':65,'baba':70},\n",
    "       'mama':{'mama':64,'baba':72},\n",
    "       'ganba':{'mama':66,'baba':71,'zuzong':90}}\n",
    "df1 = pd.DataFrame(data)\n",
    "df2 = pd.DataFrame(data,index=['baba','mama'])\n",
    "df3 = pd.DataFrame(data,columns = ['baba','mama'])\n",
    "print(df1)\n",
    "print(df2)\n",
    "print(df3)\n",
    "# columns参数可以增加和减少现有列，如出现新的列，值为NaN\n",
    "# index在这里和之前不同，并不能改变原有index，如果指向新的标签，值为NaN （非常重要！）\n"
   ]
  },
  {
   "cell_type": "code",
   "execution_count": 239,
   "metadata": {
    "collapsed": false
   },
   "outputs": [
    {
     "name": "stdout",
     "output_type": "stream",
     "text": [
      "   one  two  three  four\n",
      "a    0    1      2     3\n",
      "b    4    5      6     7\n",
      "c    8    9     10    11\n",
      "d   12   13     14    15\n",
      "e   16   17     18    19\n",
      "   one  two  three  four\n",
      "a    7    1      7     3\n",
      "b    0    9      8     5\n",
      "c    5    9      2     4\n",
      "d    6    1      9     0\n",
      "e    0    0      9     0\n",
      "   one  two  three  four\n",
      "a    9    3      9     2\n",
      "b    3    1      2     4\n",
      "c    9    0      4     7\n",
      "d    5    2      5     5\n",
      "e    1    0      4     0\n",
      "   one  two  three  four\n",
      "a    8    7      9     7\n",
      "b    3    2      0     4\n",
      "c    7    6      5     0\n",
      "d    1    6      7     3\n",
      "e    9    4      0     5\n"
     ]
    }
   ],
   "source": [
    "#作业练习\n",
    "ar = np.arange(20).reshape(5,4)\n",
    "pf1 = pd.DataFrame(ar,index=[list('abcde')],columns=['one','two','three','four'])\n",
    "print(pf1)\n",
    "\n",
    "dic1 = {'one':np.random.randint(0,10,size=(5)),\n",
    "      'two':np.random.randint(0,10,size=(5)),\n",
    "      'three':np.random.randint(0,10,size=(5)),\n",
    "      'four':np.random.randint(0,10,size=(5))}\n",
    "pf2 = pd.DataFrame(dic1,index=list('abcde'),columns = ['one','two','three','four'])\n",
    "print(pf2)\n",
    "\n",
    "dic2 = {'one':pd.Series(np.random.randint(0,10,size=(5)),index=list('abcde' )),\n",
    "       'two':pd.Series(np.random.randint(0,10,size=(5)),index=list('abcde')),\n",
    "       'three':pd.Series(np.random.randint(0,10,size=(5)),index=list('abcde')),\n",
    "       'four':pd.Series(np.random.randint(0,10,size=(5)),index=list('abcde'))}\n",
    "pf3 = pd.DataFrame(dic2,columns = ['one','two','three','four'])\n",
    "print(pf3)\n",
    "\n",
    "dic3 = {'one':{'a':np.random.randint(0,10),'b':np.random.randint(0,10),'c':np.random.randint(0,10),'d':np.random.randint(0,10),'e':np.random.randint(0,10)},\n",
    "       'two':{'a':np.random.randint(0,10),'b':np.random.randint(0,10),'c':np.random.randint(0,10),'d':np.random.randint(0,10),'e':np.random.randint(0,10)},\n",
    "       'three':{'a':np.random.randint(0,10),'b':np.random.randint(0,10),'c':np.random.randint(0,10),'d':np.random.randint(0,10),'e':np.random.randint(0,10)},\n",
    "       'four':{'a':np.random.randint(0,10),'b':np.random.randint(0,10),'c':np.random.randint(0,10),'d':np.random.randint(0,10),'e':np.random.randint(0,10)}}\n",
    "pf4 = pd.DataFrame(dic3,columns = ['one','two','three','four'])\n",
    "print(pf4)"
   ]
  },
  {
   "cell_type": "code",
   "execution_count": 240,
   "metadata": {
    "collapsed": false
   },
   "outputs": [
    {
     "data": {
      "text/plain": [
       "'\\n【课程2.6】  Pandas数据结构Dataframe：索引\\n\\nDataframe既有行索引也有列索引，可以被看做由Series组成的字典（共用一个索引）\\n\\n选择列 / 选择行 / 切片 / 布尔判断\\n\\n'"
      ]
     },
     "execution_count": 240,
     "metadata": {},
     "output_type": "execute_result"
    }
   ],
   "source": [
    "'''\n",
    "【课程2.6】  Pandas数据结构Dataframe：索引\n",
    "\n",
    "Dataframe既有行索引也有列索引，可以被看做由Series组成的字典（共用一个索引）\n",
    "\n",
    "选择列 / 选择行 / 切片 / 布尔判断\n",
    "\n",
    "'''"
   ]
  },
  {
   "cell_type": "code",
   "execution_count": 10,
   "metadata": {
    "collapsed": false
   },
   "outputs": [
    {
     "name": "stdout",
     "output_type": "stream",
     "text": [
      "   one  two  three  four\n",
      "a    0    1      2     3\n",
      "b    4    5      6     7\n",
      "c    8    9     10    11\n",
      "d   12   13     14    15\n",
      "e   16   17     18    19\n",
      "a     0\n",
      "b     4\n",
      "c     8\n",
      "d    12\n",
      "e    16\n",
      "Name: one, dtype: int32\n",
      "   one  two\n",
      "a    0    1\n",
      "b    4    5\n",
      "c    8    9\n",
      "d   12   13\n",
      "e   16   17\n",
      "======\n",
      "one      0\n",
      "two      1\n",
      "three    2\n",
      "four     3\n",
      "Name: a, dtype: int32\n",
      "   one  two  three  four\n",
      "a    0    1      2     3\n",
      "b    4    5      6     7\n",
      "   one  two  three  four\n",
      "b    4    5      6     7\n",
      "c    8    9     10    11\n",
      "   one  two  three  four\n",
      "a    0    1      2     3\n",
      "b    4    5      6     7\n",
      "c    8    9     10    11\n",
      "one      4\n",
      "two      5\n",
      "three    6\n",
      "four     7\n",
      "Name: b, dtype: int32\n",
      "   one  two  three  four\n",
      "b    4    5      6     7\n",
      "c    8    9     10    11\n",
      "   one  two  three  four\n",
      "b    4    5      6     7\n",
      "c    8    9     10    11\n"
     ]
    }
   ],
   "source": [
    "ar = np.arange(20).reshape(5,4)\n",
    "pf1 = pd.DataFrame(ar,index=list('abcde'),columns=['one','two','three','four'])\n",
    "print(pf1)\n",
    "\n",
    "dic1 = {'one':np.random.randint(0,10,size=(5)),\n",
    "      'two':np.random.randint(0,10,size=(5)),\n",
    "      'three':np.random.randint(0,10,size=(5)),\n",
    "      'four':np.random.randint(0,10,size=(5))}\n",
    "print(pf1['one'])\n",
    "print(pf1[['one','two']]) #选择一列或多列 \n",
    "\n",
    "#选择一行与多行\n",
    "print('======')\n",
    "\n",
    "print(pf1.loc['a'])\n",
    "print(pf1.loc[['a','b']])\n",
    "#或者\n",
    "print(pf1[1:3])  #这是切片，这是不包含末端的\n",
    "print(pf1['a':'c']) #这是包含末端的\n",
    "#或者     # df.iloc[] - 按照整数位置（从轴的0到length-1）选择行\n",
    "          # 类似list的索引，其顺序就是dataframe的整数位置，从0开始计\n",
    "print(pf1.iloc[1])  #这个可以改变位置,且不包含末端\n",
    "print(pf1.iloc[1:3])      #相当于切片\n",
    "print(pf1.iloc[[1,2]])  #选取多行\n"
   ]
  },
  {
   "cell_type": "code",
   "execution_count": 2,
   "metadata": {
    "collapsed": false
   },
   "outputs": [
    {
     "ename": "NameError",
     "evalue": "name 'pd' is not defined",
     "output_type": "error",
     "traceback": [
      "\u001b[0;31m---------------------------------------------------------------------------\u001b[0m",
      "\u001b[0;31mNameError\u001b[0m                                 Traceback (most recent call last)",
      "\u001b[0;32m<ipython-input-2-72d7236cb63d>\u001b[0m in \u001b[0;36m<module>\u001b[0;34m()\u001b[0m\n\u001b[1;32m      2\u001b[0m \u001b[1;31m# 和Series原理相同\u001b[0m\u001b[1;33m\u001b[0m\u001b[1;33m\u001b[0m\u001b[0m\n\u001b[1;32m      3\u001b[0m \u001b[1;33m\u001b[0m\u001b[0m\n\u001b[0;32m----> 4\u001b[0;31m df = pd.DataFrame(np.random.rand(16).reshape(4,4)*100,\n\u001b[0m\u001b[1;32m      5\u001b[0m                    \u001b[0mindex\u001b[0m \u001b[1;33m=\u001b[0m \u001b[1;33m[\u001b[0m\u001b[1;34m'one'\u001b[0m\u001b[1;33m,\u001b[0m\u001b[1;34m'two'\u001b[0m\u001b[1;33m,\u001b[0m\u001b[1;34m'three'\u001b[0m\u001b[1;33m,\u001b[0m\u001b[1;34m'four'\u001b[0m\u001b[1;33m]\u001b[0m\u001b[1;33m,\u001b[0m\u001b[1;33m\u001b[0m\u001b[0m\n\u001b[1;32m      6\u001b[0m                    columns = ['a','b','c','d'])\n",
      "\u001b[0;31mNameError\u001b[0m: name 'pd' is not defined"
     ]
    }
   ],
   "source": [
    "# 布尔型索引\n",
    "# 和Series原理相同\n",
    "\n",
    "df = pd.DataFrame(np.random.rand(16).reshape(4,4)*100,\n",
    "                   index = ['one','two','three','four'],\n",
    "                   columns = ['a','b','c','d'])\n",
    "print(df)\n",
    "print('------')\n",
    "\n",
    "b1 = df < 20\n",
    "print(b1,type(b1))\n",
    "print(df[b1])  # 也可以书写为 df[df < 20]\n",
    "print('------')\n",
    "# 不做索引则会对数据每个值进行判断\n",
    "# 索引结果保留 所有数据：True返回原数据，False返回值为NaN\n",
    "\n",
    "b2 = df['a'] > 50\n",
    "print(b2,type(b2))\n",
    "print(df[b2])  # 也可以书写为 df[df['a'] > 50]\n",
    "print('------')\n",
    "# 单列做判断\n",
    "# 索引结果保留 单列判断为True的行数据，包括其他列\n",
    "\n",
    "b3 = df[['a','b']] > 50\n",
    "print(b3,type(b3))\n",
    "print(df[b3])  # 也可以书写为 df[df[['a','b']] > 50]\n",
    "print('------')\n",
    "# 多列做判断\n",
    "# 索引结果保留 所有数据：True返回原数据，False返回值为NaN\n",
    "\n",
    "b4 = df.loc[['one','three']] < 50\n",
    "print(b4,type(b4))\n",
    "print(df[b4])  # 也可以书写为 df[df.loc[['one','three']] < 50]\n",
    "print('------')\n",
    "# 多行做判断\n",
    "# 索引结果保留 所有数据：True返回原数据，False返回值为NaN"
   ]
  },
  {
   "cell_type": "code",
   "execution_count": 3,
   "metadata": {
    "collapsed": false
   },
   "outputs": [
    {
     "data": {
      "text/plain": [
       "'\\n【课程2.7】  Pandas数据结构Dataframe：基本技巧\\n\\n数据查看、转置 / 添加、修改、删除值 / 对齐 / 排序\\n\\n'"
      ]
     },
     "execution_count": 3,
     "metadata": {},
     "output_type": "execute_result"
    }
   ],
   "source": [
    "'''\n",
    "【课程2.7】  Pandas数据结构Dataframe：基本技巧\n",
    "\n",
    "数据查看、转置 / 添加、修改、删除值 / 对齐 / 排序\n",
    "\n",
    "'''"
   ]
  },
  {
   "cell_type": "code",
   "execution_count": 4,
   "metadata": {
    "collapsed": false
   },
   "outputs": [
    {
     "ename": "NameError",
     "evalue": "name 'pd' is not defined",
     "output_type": "error",
     "traceback": [
      "\u001b[0;31m---------------------------------------------------------------------------\u001b[0m",
      "\u001b[0;31mNameError\u001b[0m                                 Traceback (most recent call last)",
      "\u001b[0;32m<ipython-input-4-54f39aa7175e>\u001b[0m in \u001b[0;36m<module>\u001b[0;34m()\u001b[0m\n\u001b[1;32m      1\u001b[0m \u001b[1;31m# 数据查看、转置\u001b[0m\u001b[1;33m\u001b[0m\u001b[1;33m\u001b[0m\u001b[0m\n\u001b[1;32m      2\u001b[0m \u001b[1;33m\u001b[0m\u001b[0m\n\u001b[0;32m----> 3\u001b[0;31m df = pd.DataFrame(np.random.rand(16).reshape(8,2)*100,\n\u001b[0m\u001b[1;32m      4\u001b[0m                    columns = ['a','b'])\n\u001b[1;32m      5\u001b[0m \u001b[0mprint\u001b[0m\u001b[1;33m(\u001b[0m\u001b[0mdf\u001b[0m\u001b[1;33m.\u001b[0m\u001b[0mhead\u001b[0m\u001b[1;33m(\u001b[0m\u001b[1;36m2\u001b[0m\u001b[1;33m)\u001b[0m\u001b[1;33m)\u001b[0m\u001b[1;33m\u001b[0m\u001b[0m\n",
      "\u001b[0;31mNameError\u001b[0m: name 'pd' is not defined"
     ]
    }
   ],
   "source": [
    "# 数据查看、转置\n",
    "\n",
    "df = pd.DataFrame(np.random.rand(16).reshape(8,2)*100,\n",
    "                   columns = ['a','b'])\n",
    "print(df.head(2))\n",
    "print(df.tail())\n",
    "# .head()查看头部数据\n",
    "# .tail()查看尾部数据\n",
    "# 默认查看5条\n",
    "\n",
    "print(df.T)\n",
    "# .T 转置"
   ]
  },
  {
   "cell_type": "code",
   "execution_count": 12,
   "metadata": {
    "collapsed": false
   },
   "outputs": [
    {
     "name": "stdout",
     "output_type": "stream",
     "text": [
      "           a          b          c          d\n",
      "a  63.941843  25.061291   4.724942  41.928676\n",
      "b  75.002829  68.820596  22.789043  53.386266\n",
      "c  78.057644   2.166814   1.923832  84.156236\n",
      "d  31.381027  51.234448  28.881459   6.395789\n",
      "           a          b          c          d   e\n",
      "a  63.941843  25.061291   4.724942  41.928676  10\n",
      "b  75.002829  68.820596  22.789043  53.386266  10\n",
      "c  78.057644   2.166814   1.923832  84.156236  10\n",
      "d  31.381027  51.234448  28.881459   6.395789  10\n",
      "4  20.000000  20.000000  20.000000  20.000000  20\n"
     ]
    },
    {
     "ename": "KeyError",
     "evalue": "'the label [3] is not in the [index]'",
     "output_type": "error",
     "traceback": [
      "\u001b[0;31m---------------------------------------------------------------------------\u001b[0m",
      "\u001b[0;31mKeyError\u001b[0m                                  Traceback (most recent call last)",
      "\u001b[0;32mC:\\Users\\acer\\Anaconda3\\lib\\site-packages\\pandas\\core\\indexing.py\u001b[0m in \u001b[0;36m_has_valid_type\u001b[0;34m(self, key, axis)\u001b[0m\n\u001b[1;32m   1394\u001b[0m                 \u001b[1;32mif\u001b[0m \u001b[0mkey\u001b[0m \u001b[1;32mnot\u001b[0m \u001b[1;32min\u001b[0m \u001b[0max\u001b[0m\u001b[1;33m:\u001b[0m\u001b[1;33m\u001b[0m\u001b[0m\n\u001b[0;32m-> 1395\u001b[0;31m                     \u001b[0merror\u001b[0m\u001b[1;33m(\u001b[0m\u001b[1;33m)\u001b[0m\u001b[1;33m\u001b[0m\u001b[0m\n\u001b[0m\u001b[1;32m   1396\u001b[0m             \u001b[1;32mexcept\u001b[0m \u001b[0mTypeError\u001b[0m \u001b[1;32mas\u001b[0m \u001b[0me\u001b[0m\u001b[1;33m:\u001b[0m\u001b[1;33m\u001b[0m\u001b[0m\n",
      "\u001b[0;32mC:\\Users\\acer\\Anaconda3\\lib\\site-packages\\pandas\\core\\indexing.py\u001b[0m in \u001b[0;36merror\u001b[0;34m()\u001b[0m\n\u001b[1;32m   1389\u001b[0m                 raise KeyError(\"the label [%s] is not in the [%s]\" %\n\u001b[0;32m-> 1390\u001b[0;31m                                (key, self.obj._get_axis_name(axis)))\n\u001b[0m\u001b[1;32m   1391\u001b[0m \u001b[1;33m\u001b[0m\u001b[0m\n",
      "\u001b[0;31mKeyError\u001b[0m: 'the label [3] is not in the [index]'",
      "\nDuring handling of the above exception, another exception occurred:\n",
      "\u001b[0;31mKeyError\u001b[0m                                  Traceback (most recent call last)",
      "\u001b[0;32m<ipython-input-12-e47398d02862>\u001b[0m in \u001b[0;36m<module>\u001b[0;34m()\u001b[0m\n\u001b[1;32m      9\u001b[0m \u001b[0mdf\u001b[0m\u001b[1;33m.\u001b[0m\u001b[0mloc\u001b[0m\u001b[1;33m[\u001b[0m\u001b[1;36m4\u001b[0m\u001b[1;33m]\u001b[0m \u001b[1;33m=\u001b[0m \u001b[1;36m20\u001b[0m\u001b[1;33m\u001b[0m\u001b[0m\n\u001b[1;32m     10\u001b[0m \u001b[0mprint\u001b[0m\u001b[1;33m(\u001b[0m\u001b[0mdf\u001b[0m\u001b[1;33m)\u001b[0m\u001b[1;33m\u001b[0m\u001b[0m\n\u001b[0;32m---> 11\u001b[0;31m \u001b[0mprint\u001b[0m\u001b[1;33m(\u001b[0m\u001b[0mdf\u001b[0m\u001b[1;33m.\u001b[0m\u001b[0mloc\u001b[0m\u001b[1;33m[\u001b[0m\u001b[1;36m3\u001b[0m\u001b[1;33m]\u001b[0m\u001b[1;33m)\u001b[0m\u001b[1;33m\u001b[0m\u001b[0m\n\u001b[0m\u001b[1;32m     12\u001b[0m \u001b[1;31m# 新增列/行并赋值\u001b[0m\u001b[1;33m\u001b[0m\u001b[1;33m\u001b[0m\u001b[0m\n\u001b[1;32m     13\u001b[0m \u001b[1;33m\u001b[0m\u001b[0m\n",
      "\u001b[0;32mC:\\Users\\acer\\Anaconda3\\lib\\site-packages\\pandas\\core\\indexing.py\u001b[0m in \u001b[0;36m__getitem__\u001b[0;34m(self, key)\u001b[0m\n\u001b[1;32m   1294\u001b[0m             \u001b[1;32mreturn\u001b[0m \u001b[0mself\u001b[0m\u001b[1;33m.\u001b[0m\u001b[0m_getitem_tuple\u001b[0m\u001b[1;33m(\u001b[0m\u001b[0mkey\u001b[0m\u001b[1;33m)\u001b[0m\u001b[1;33m\u001b[0m\u001b[0m\n\u001b[1;32m   1295\u001b[0m         \u001b[1;32melse\u001b[0m\u001b[1;33m:\u001b[0m\u001b[1;33m\u001b[0m\u001b[0m\n\u001b[0;32m-> 1296\u001b[0;31m             \u001b[1;32mreturn\u001b[0m \u001b[0mself\u001b[0m\u001b[1;33m.\u001b[0m\u001b[0m_getitem_axis\u001b[0m\u001b[1;33m(\u001b[0m\u001b[0mkey\u001b[0m\u001b[1;33m,\u001b[0m \u001b[0maxis\u001b[0m\u001b[1;33m=\u001b[0m\u001b[1;36m0\u001b[0m\u001b[1;33m)\u001b[0m\u001b[1;33m\u001b[0m\u001b[0m\n\u001b[0m\u001b[1;32m   1297\u001b[0m \u001b[1;33m\u001b[0m\u001b[0m\n\u001b[1;32m   1298\u001b[0m     \u001b[1;32mdef\u001b[0m \u001b[0m_getitem_axis\u001b[0m\u001b[1;33m(\u001b[0m\u001b[0mself\u001b[0m\u001b[1;33m,\u001b[0m \u001b[0mkey\u001b[0m\u001b[1;33m,\u001b[0m \u001b[0maxis\u001b[0m\u001b[1;33m=\u001b[0m\u001b[1;36m0\u001b[0m\u001b[1;33m)\u001b[0m\u001b[1;33m:\u001b[0m\u001b[1;33m\u001b[0m\u001b[0m\n",
      "\u001b[0;32mC:\\Users\\acer\\Anaconda3\\lib\\site-packages\\pandas\\core\\indexing.py\u001b[0m in \u001b[0;36m_getitem_axis\u001b[0;34m(self, key, axis)\u001b[0m\n\u001b[1;32m   1464\u001b[0m \u001b[1;33m\u001b[0m\u001b[0m\n\u001b[1;32m   1465\u001b[0m         \u001b[1;31m# fall thru to straight lookup\u001b[0m\u001b[1;33m\u001b[0m\u001b[1;33m\u001b[0m\u001b[0m\n\u001b[0;32m-> 1466\u001b[0;31m         \u001b[0mself\u001b[0m\u001b[1;33m.\u001b[0m\u001b[0m_has_valid_type\u001b[0m\u001b[1;33m(\u001b[0m\u001b[0mkey\u001b[0m\u001b[1;33m,\u001b[0m \u001b[0maxis\u001b[0m\u001b[1;33m)\u001b[0m\u001b[1;33m\u001b[0m\u001b[0m\n\u001b[0m\u001b[1;32m   1467\u001b[0m         \u001b[1;32mreturn\u001b[0m \u001b[0mself\u001b[0m\u001b[1;33m.\u001b[0m\u001b[0m_get_label\u001b[0m\u001b[1;33m(\u001b[0m\u001b[0mkey\u001b[0m\u001b[1;33m,\u001b[0m \u001b[0maxis\u001b[0m\u001b[1;33m=\u001b[0m\u001b[0maxis\u001b[0m\u001b[1;33m)\u001b[0m\u001b[1;33m\u001b[0m\u001b[0m\n\u001b[1;32m   1468\u001b[0m \u001b[1;33m\u001b[0m\u001b[0m\n",
      "\u001b[0;32mC:\\Users\\acer\\Anaconda3\\lib\\site-packages\\pandas\\core\\indexing.py\u001b[0m in \u001b[0;36m_has_valid_type\u001b[0;34m(self, key, axis)\u001b[0m\n\u001b[1;32m   1401\u001b[0m                 \u001b[1;32mraise\u001b[0m\u001b[1;33m\u001b[0m\u001b[0m\n\u001b[1;32m   1402\u001b[0m             \u001b[1;32mexcept\u001b[0m\u001b[1;33m:\u001b[0m\u001b[1;33m\u001b[0m\u001b[0m\n\u001b[0;32m-> 1403\u001b[0;31m                 \u001b[0merror\u001b[0m\u001b[1;33m(\u001b[0m\u001b[1;33m)\u001b[0m\u001b[1;33m\u001b[0m\u001b[0m\n\u001b[0m\u001b[1;32m   1404\u001b[0m \u001b[1;33m\u001b[0m\u001b[0m\n\u001b[1;32m   1405\u001b[0m         \u001b[1;32mreturn\u001b[0m \u001b[1;32mTrue\u001b[0m\u001b[1;33m\u001b[0m\u001b[0m\n",
      "\u001b[0;32mC:\\Users\\acer\\Anaconda3\\lib\\site-packages\\pandas\\core\\indexing.py\u001b[0m in \u001b[0;36merror\u001b[0;34m()\u001b[0m\n\u001b[1;32m   1388\u001b[0m                                     \"key\")\n\u001b[1;32m   1389\u001b[0m                 raise KeyError(\"the label [%s] is not in the [%s]\" %\n\u001b[0;32m-> 1390\u001b[0;31m                                (key, self.obj._get_axis_name(axis)))\n\u001b[0m\u001b[1;32m   1391\u001b[0m \u001b[1;33m\u001b[0m\u001b[0m\n\u001b[1;32m   1392\u001b[0m             \u001b[1;32mtry\u001b[0m\u001b[1;33m:\u001b[0m\u001b[1;33m\u001b[0m\u001b[0m\n",
      "\u001b[0;31mKeyError\u001b[0m: 'the label [3] is not in the [index]'"
     ]
    }
   ],
   "source": [
    "# 添加与修改\n",
    "import numpy as np\n",
    "import pandas as pd\n",
    "df = pd.DataFrame(np.random.rand(16).reshape(4,4)*100,\n",
    "                   columns = ['a','b','c','d'])\n",
    "print(df)\n",
    "\n",
    "df['e'] = 10\n",
    "df.loc[4] = 20\n",
    "print(df)\n",
    "print(df.loc[3])\n",
    "# 新增列/行并赋值\n",
    "\n",
    "df['e'] = 20\n",
    "df[['a','c']] = 100\n",
    "df[::2] = 0\n",
    "print(df)\n",
    "# 索引后直接修改值"
   ]
  },
  {
   "cell_type": "code",
   "execution_count": 10,
   "metadata": {
    "collapsed": false
   },
   "outputs": [
    {
     "name": "stdout",
     "output_type": "stream",
     "text": [
      "           a          b          c          d\n",
      "0  28.535166  40.094422  35.310341  38.008062\n",
      "1  17.445300  68.454456  25.802988  90.964079\n",
      "2  97.788838  32.767026  28.804989   5.341845\n",
      "3  65.346573  29.122564  30.514834  75.937575\n",
      "           b          c          d\n",
      "0  40.094422  35.310341  38.008062\n",
      "1  68.454456  25.802988  90.964079\n",
      "2  32.767026  28.804989   5.341845\n",
      "3  29.122564  30.514834  75.937575\n",
      "-----\n",
      "           b          c          d\n",
      "1  68.454456  25.802988  90.964079\n",
      "2  32.767026  28.804989   5.341845\n",
      "3  29.122564  30.514834  75.937575\n",
      "           b          c          d\n",
      "0  40.094422  35.310341  38.008062\n",
      "3  29.122564  30.514834  75.937575\n",
      "           b          c          d\n",
      "0  40.094422  35.310341  38.008062\n",
      "1  68.454456  25.802988  90.964079\n",
      "2  32.767026  28.804989   5.341845\n",
      "3  29.122564  30.514834  75.937575\n",
      "-----\n",
      "           b          c\n",
      "0  40.094422  35.310341\n",
      "1  68.454456  25.802988\n",
      "2  32.767026  28.804989\n",
      "3  29.122564  30.514834\n",
      "           b          c          d\n",
      "0  40.094422  35.310341  38.008062\n",
      "1  68.454456  25.802988  90.964079\n",
      "2  32.767026  28.804989   5.341845\n",
      "3  29.122564  30.514834  75.937575\n"
     ]
    }
   ],
   "source": [
    "# 删除  del / drop()\n",
    "\n",
    "df = pd.DataFrame(np.random.rand(16).reshape(4,4)*100,\n",
    "                   columns = ['a','b','c','d'])\n",
    "print(df)\n",
    "\n",
    "del df['a']\n",
    "print(df)\n",
    "print('-----')\n",
    "# del语句 - 删除列\n",
    "\n",
    "print(df.drop(0))\n",
    "print(df.drop([1,2]))\n",
    "print(df)\n",
    "print('-----')\n",
    "# drop()删除行，inplace=False → 删除后生成新的数据，不改变原数据\n",
    "\n",
    "print(df.drop(['d'], axis = 1))\n",
    "print(df)\n",
    "# drop()删除列，需要加上axis = 1，inplace=False → 删除后生成新的数据，不改变原数据"
   ]
  },
  {
   "cell_type": "code",
   "execution_count": 11,
   "metadata": {
    "collapsed": false
   },
   "outputs": [
    {
     "name": "stdout",
     "output_type": "stream",
     "text": [
      "          A         B         C   D\n",
      "0 -0.400455 -0.798336  1.369951 NaN\n",
      "1  0.062672 -1.214835 -0.882269 NaN\n",
      "2 -0.163055  0.662585 -0.152514 NaN\n",
      "3  0.420854 -0.138625 -1.227493 NaN\n",
      "4 -1.443248  1.503339  0.047669 NaN\n",
      "5  0.511070 -0.344377 -1.979235 NaN\n",
      "6  1.388248  0.270481 -0.234690 NaN\n",
      "7       NaN       NaN       NaN NaN\n",
      "8       NaN       NaN       NaN NaN\n",
      "9       NaN       NaN       NaN NaN\n"
     ]
    }
   ],
   "source": [
    "# 对齐\n",
    "\n",
    "df1 = pd.DataFrame(np.random.randn(10, 4), columns=['A', 'B', 'C', 'D'])\n",
    "df2 = pd.DataFrame(np.random.randn(7, 3), columns=['A', 'B', 'C'])\n",
    "print(df1 + df2)\n",
    "# DataFrame对象之间的数据自动按照列和索引（行标签）对齐"
   ]
  },
  {
   "cell_type": "code",
   "execution_count": 21,
   "metadata": {
    "collapsed": false
   },
   "outputs": [
    {
     "name": "stdout",
     "output_type": "stream",
     "text": [
      "          A         B         C         D\n",
      "0 -0.398849 -1.495857 -0.948081 -0.426844\n",
      "1 -1.793312  0.799292  0.157642  0.440157\n",
      "2 -0.043338  0.929031  0.444776  0.686872\n",
      "3 -0.232101 -1.813374 -1.086849  0.325252\n",
      "4 -0.567069 -1.337579  1.006305  0.304746\n",
      "5  0.949668  1.035446 -0.029933  1.622006\n",
      "6 -1.160249 -0.465055  0.324351  0.162004\n",
      "7 -0.496499  1.891986  1.171475 -0.601119\n",
      "8 -0.178059  0.069039 -0.246183 -1.297734\n",
      "9  2.178468  0.408917 -1.103873 -0.790460\n",
      "          A         B         C         D\n",
      "1 -1.793312  0.799292  0.157642  0.440157\n",
      "6 -1.160249 -0.465055  0.324351  0.162004\n",
      "4 -0.567069 -1.337579  1.006305  0.304746\n",
      "7 -0.496499  1.891986  1.171475 -0.601119\n",
      "0 -0.398849 -1.495857 -0.948081 -0.426844\n",
      "3 -0.232101 -1.813374 -1.086849  0.325252\n",
      "8 -0.178059  0.069039 -0.246183 -1.297734\n",
      "2 -0.043338  0.929031  0.444776  0.686872\n",
      "5  0.949668  1.035446 -0.029933  1.622006\n",
      "9  2.178468  0.408917 -1.103873 -0.790460\n",
      "          A         B         C         D\n",
      "9  2.178468  0.408917 -1.103873 -0.790460\n",
      "5  0.949668  1.035446 -0.029933  1.622006\n",
      "2 -0.043338  0.929031  0.444776  0.686872\n",
      "8 -0.178059  0.069039 -0.246183 -1.297734\n",
      "3 -0.232101 -1.813374 -1.086849  0.325252\n",
      "0 -0.398849 -1.495857 -0.948081 -0.426844\n",
      "7 -0.496499  1.891986  1.171475 -0.601119\n",
      "4 -0.567069 -1.337579  1.006305  0.304746\n",
      "6 -1.160249 -0.465055  0.324351  0.162004\n",
      "1 -1.793312  0.799292  0.157642  0.440157\n"
     ]
    }
   ],
   "source": [
    "# 排序1 - 按值排序 .sort_values\n",
    "# 同样适用于Series\n",
    "\n",
    "df1 = pd.DataFrame(np.random.randn(10, 4), columns=['A', 'B', 'C', 'D'])\n",
    "print(df1)\n",
    "print(df1.sort_values(['A','B'],ascending=True))\n",
    "print(df1.sort_values(['A'],ascending=False))"
   ]
  },
  {
   "cell_type": "code",
   "execution_count": 26,
   "metadata": {
    "collapsed": false
   },
   "outputs": [
    {
     "name": "stdout",
     "output_type": "stream",
     "text": [
      "          A         B         C         D\n",
      "0 -0.448933 -1.823191  0.508472  0.125222\n",
      "1  1.023602  0.935806 -0.718096 -1.326809\n",
      "2 -1.798650  1.674404  0.827021 -1.243169\n",
      "3  1.485465  2.172014 -0.952071  0.333610\n",
      "4 -0.817791 -1.592043  1.269557  0.444030\n",
      "5 -2.597341 -1.424101 -0.360134  0.558290\n",
      "6 -0.107562  2.011638 -1.788832 -0.007846\n",
      "7  0.980349 -0.228642  1.034415  0.073309\n",
      "8  0.250462 -1.427855 -1.203530  0.848757\n",
      "9 -0.455517  0.159418 -0.156121  0.825747\n",
      "          A         B         C         D\n",
      "9 -0.455517  0.159418 -0.156121  0.825747\n",
      "8  0.250462 -1.427855 -1.203530  0.848757\n",
      "7  0.980349 -0.228642  1.034415  0.073309\n",
      "6 -0.107562  2.011638 -1.788832 -0.007846\n",
      "5 -2.597341 -1.424101 -0.360134  0.558290\n",
      "4 -0.817791 -1.592043  1.269557  0.444030\n",
      "3  1.485465  2.172014 -0.952071  0.333610\n",
      "2 -1.798650  1.674404  0.827021 -1.243169\n",
      "1  1.023602  0.935806 -0.718096 -1.326809\n",
      "0 -0.448933 -1.823191  0.508472  0.125222\n",
      "          A         B         C\n",
      "0 -0.852949 -1.657107  0.761250\n",
      "1  0.736091 -1.582661  0.121475\n",
      "2 -1.458197  0.124220  0.745864\n",
      "3 -0.535588  0.024661 -1.737457\n",
      "4 -0.106904  0.852940  1.119660\n",
      "5 -0.626900 -0.980307 -1.819416\n",
      "6  1.676953  0.720641  1.948491\n"
     ]
    }
   ],
   "source": [
    "# 排序2 - 索引排序 .sort_index\n",
    "df1 = pd.DataFrame(np.random.randn(10, 4), columns=['A', 'B', 'C', 'D'])\n",
    "print(df1)\n",
    "print(df1.sort_index(ascending=False))\n",
    "print(df2.sort_index())\n",
    "# 按照index排序\n",
    "# 默认 ascending=True, inplace=False"
   ]
  },
  {
   "cell_type": "code",
   "execution_count": 43,
   "metadata": {
    "collapsed": false
   },
   "outputs": [
    {
     "name": "stdout",
     "output_type": "stream",
     "text": [
      "          v1         v2         v3\n",
      "a  47.161902  49.145175  46.329099\n",
      "b   3.691876  59.990759   7.102138\n",
      "c   8.980543  68.576167  80.902349\n",
      "          v1         v2         v3\n",
      "b   3.691876  59.990759   7.102138\n",
      "c   8.980543  68.576167  80.902349\n",
      "a  47.161902  49.145175  46.329099\n",
      "          v1         v2         v3\n",
      "a  47.161902  49.145175  46.329099\n",
      "c   8.980543  68.576167  80.902349\n",
      "b   3.691876  59.990759   7.102138\n",
      "          v1         v2         v3\n",
      "c   8.980543  68.576167  80.902349\n",
      "b   3.691876  59.990759   7.102138\n",
      "a  47.161902  49.145175  46.329099\n",
      "          v1         v2\n",
      "a  17.262532  87.708216\n",
      "b  68.462949   0.214973\n",
      "c  94.408555  44.160787\n",
      "d  85.755839  36.198224\n",
      "e  63.987479  93.070221\n"
     ]
    },
    {
     "ename": "ValueError",
     "evalue": "labels [4] not contained in axis",
     "output_type": "error",
     "traceback": [
      "\u001b[0;31m---------------------------------------------------------------------------\u001b[0m",
      "\u001b[0;31mValueError\u001b[0m                                Traceback (most recent call last)",
      "\u001b[0;32m<ipython-input-43-04d4cd632147>\u001b[0m in \u001b[0;36m<module>\u001b[0;34m()\u001b[0m\n\u001b[1;32m      8\u001b[0m \u001b[0mpf2\u001b[0m \u001b[1;33m=\u001b[0m \u001b[0mpd\u001b[0m\u001b[1;33m.\u001b[0m\u001b[0mDataFrame\u001b[0m\u001b[1;33m(\u001b[0m\u001b[0mnp\u001b[0m\u001b[1;33m.\u001b[0m\u001b[0mrandom\u001b[0m\u001b[1;33m.\u001b[0m\u001b[0mrand\u001b[0m\u001b[1;33m(\u001b[0m\u001b[1;36m5\u001b[0m\u001b[1;33m,\u001b[0m\u001b[1;36m2\u001b[0m\u001b[1;33m)\u001b[0m\u001b[1;33m*\u001b[0m\u001b[1;36m100\u001b[0m\u001b[1;33m,\u001b[0m\u001b[0mindex\u001b[0m\u001b[1;33m=\u001b[0m\u001b[0mlist\u001b[0m\u001b[1;33m(\u001b[0m\u001b[1;34m'abcde'\u001b[0m\u001b[1;33m)\u001b[0m\u001b[1;33m,\u001b[0m\u001b[0mcolumns\u001b[0m\u001b[1;33m=\u001b[0m\u001b[1;33m[\u001b[0m\u001b[1;34m'v1'\u001b[0m\u001b[1;33m,\u001b[0m\u001b[1;34m'v2'\u001b[0m\u001b[1;33m]\u001b[0m\u001b[1;33m)\u001b[0m\u001b[1;33m\u001b[0m\u001b[0m\n\u001b[1;32m      9\u001b[0m \u001b[0mprint\u001b[0m\u001b[1;33m(\u001b[0m\u001b[0mpf2\u001b[0m\u001b[1;33m)\u001b[0m\u001b[1;33m\u001b[0m\u001b[0m\n\u001b[0;32m---> 10\u001b[0;31m \u001b[0mpf3\u001b[0m \u001b[1;33m=\u001b[0m \u001b[0mpf2\u001b[0m\u001b[1;33m.\u001b[0m\u001b[0mdrop\u001b[0m\u001b[1;33m(\u001b[0m\u001b[1;36m4\u001b[0m\u001b[1;33m)\u001b[0m\u001b[1;33m\u001b[0m\u001b[0m\n\u001b[0m\u001b[1;32m     11\u001b[0m \u001b[0mprint\u001b[0m\u001b[1;33m(\u001b[0m\u001b[0mpf3\u001b[0m\u001b[1;33m)\u001b[0m\u001b[1;33m\u001b[0m\u001b[0m\n\u001b[1;32m     12\u001b[0m \u001b[1;31m#pf3 = pf2.T\u001b[0m\u001b[1;33m\u001b[0m\u001b[1;33m\u001b[0m\u001b[0m\n",
      "\u001b[0;32mC:\\Users\\acer\\Anaconda3\\lib\\site-packages\\pandas\\core\\generic.py\u001b[0m in \u001b[0;36mdrop\u001b[0;34m(self, labels, axis, level, inplace, errors)\u001b[0m\n\u001b[1;32m   1875\u001b[0m                 \u001b[0mnew_axis\u001b[0m \u001b[1;33m=\u001b[0m \u001b[0maxis\u001b[0m\u001b[1;33m.\u001b[0m\u001b[0mdrop\u001b[0m\u001b[1;33m(\u001b[0m\u001b[0mlabels\u001b[0m\u001b[1;33m,\u001b[0m \u001b[0mlevel\u001b[0m\u001b[1;33m=\u001b[0m\u001b[0mlevel\u001b[0m\u001b[1;33m,\u001b[0m \u001b[0merrors\u001b[0m\u001b[1;33m=\u001b[0m\u001b[0merrors\u001b[0m\u001b[1;33m)\u001b[0m\u001b[1;33m\u001b[0m\u001b[0m\n\u001b[1;32m   1876\u001b[0m             \u001b[1;32melse\u001b[0m\u001b[1;33m:\u001b[0m\u001b[1;33m\u001b[0m\u001b[0m\n\u001b[0;32m-> 1877\u001b[0;31m                 \u001b[0mnew_axis\u001b[0m \u001b[1;33m=\u001b[0m \u001b[0maxis\u001b[0m\u001b[1;33m.\u001b[0m\u001b[0mdrop\u001b[0m\u001b[1;33m(\u001b[0m\u001b[0mlabels\u001b[0m\u001b[1;33m,\u001b[0m \u001b[0merrors\u001b[0m\u001b[1;33m=\u001b[0m\u001b[0merrors\u001b[0m\u001b[1;33m)\u001b[0m\u001b[1;33m\u001b[0m\u001b[0m\n\u001b[0m\u001b[1;32m   1878\u001b[0m             \u001b[0mdropped\u001b[0m \u001b[1;33m=\u001b[0m \u001b[0mself\u001b[0m\u001b[1;33m.\u001b[0m\u001b[0mreindex\u001b[0m\u001b[1;33m(\u001b[0m\u001b[1;33m**\u001b[0m\u001b[1;33m{\u001b[0m\u001b[0maxis_name\u001b[0m\u001b[1;33m:\u001b[0m \u001b[0mnew_axis\u001b[0m\u001b[1;33m}\u001b[0m\u001b[1;33m)\u001b[0m\u001b[1;33m\u001b[0m\u001b[0m\n\u001b[1;32m   1879\u001b[0m             \u001b[1;32mtry\u001b[0m\u001b[1;33m:\u001b[0m\u001b[1;33m\u001b[0m\u001b[0m\n",
      "\u001b[0;32mC:\\Users\\acer\\Anaconda3\\lib\\site-packages\\pandas\\indexes\\base.py\u001b[0m in \u001b[0;36mdrop\u001b[0;34m(self, labels, errors)\u001b[0m\n\u001b[1;32m   3049\u001b[0m             \u001b[1;32mif\u001b[0m \u001b[0merrors\u001b[0m \u001b[1;33m!=\u001b[0m \u001b[1;34m'ignore'\u001b[0m\u001b[1;33m:\u001b[0m\u001b[1;33m\u001b[0m\u001b[0m\n\u001b[1;32m   3050\u001b[0m                 raise ValueError('labels %s not contained in axis' %\n\u001b[0;32m-> 3051\u001b[0;31m                                  labels[mask])\n\u001b[0m\u001b[1;32m   3052\u001b[0m             \u001b[0mindexer\u001b[0m \u001b[1;33m=\u001b[0m \u001b[0mindexer\u001b[0m\u001b[1;33m[\u001b[0m\u001b[1;33m~\u001b[0m\u001b[0mmask\u001b[0m\u001b[1;33m]\u001b[0m\u001b[1;33m\u001b[0m\u001b[0m\n\u001b[1;32m   3053\u001b[0m         \u001b[1;32mreturn\u001b[0m \u001b[0mself\u001b[0m\u001b[1;33m.\u001b[0m\u001b[0mdelete\u001b[0m\u001b[1;33m(\u001b[0m\u001b[0mindexer\u001b[0m\u001b[1;33m)\u001b[0m\u001b[1;33m\u001b[0m\u001b[0m\n",
      "\u001b[0;31mValueError\u001b[0m: labels [4] not contained in axis"
     ]
    }
   ],
   "source": [
    "#作业练习\n",
    "pf1 = pd.DataFrame(np.random.rand(3,3)*100,index=list('abc'),columns=['v1','v2','v3'])\n",
    "print(pf1)\n",
    "print(pf1.sort_values(['v1']))\n",
    "print(pf1.sort_values(['v1'],ascending=False))\n",
    "print(pf1.sort_index(ascending=False))\n",
    "\n",
    "pf2 = pd.DataFrame(np.random.rand(5,2)*100,index=list('abcde'),columns=['v1','v2'])\n",
    "print(pf2)\n",
    "pf3 = pf2.drop(4)\n",
    "print(pf3)\n",
    "#pf3 = pf2.T\n",
    "#print(pf3)\n",
    "#del pf3['e']\n",
    "#print(pf3)"
   ]
  }
 ],
 "metadata": {
  "anaconda-cloud": {},
  "kernelspec": {
   "display_name": "Python [default]",
   "language": "python",
   "name": "python3"
  },
  "language_info": {
   "codemirror_mode": {
    "name": "ipython",
    "version": 3
   },
   "file_extension": ".py",
   "mimetype": "text/x-python",
   "name": "python",
   "nbconvert_exporter": "python",
   "pygments_lexer": "ipython3",
   "version": "3.5.2"
  }
 },
 "nbformat": 4,
 "nbformat_minor": 1
}
