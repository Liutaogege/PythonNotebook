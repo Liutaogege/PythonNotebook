{
 "cells": [
  {
   "cell_type": "code",
   "execution_count": 1,
   "metadata": {},
   "outputs": [
    {
     "data": {
      "text/plain": [
       "'\\n【课程2.8】  时间模块：datetime\\n\\ndatetime模块，主要掌握：datetime.date(), datetime.datetime(), datetime.timedelta()\\n\\n日期解析方法：parser.parse\\n\\n'"
      ]
     },
     "execution_count": 1,
     "metadata": {},
     "output_type": "execute_result"
    }
   ],
   "source": [
    "'''\n",
    "【课程2.8】  时间模块：datetime\n",
    "\n",
    "datetime模块，主要掌握：datetime.date(), datetime.datetime(), datetime.timedelta()\n",
    "\n",
    "日期解析方法：parser.parse\n",
    "\n",
    "'''"
   ]
  },
  {
   "cell_type": "code",
   "execution_count": 1,
   "metadata": {
    "collapsed": true
   },
   "outputs": [],
   "source": [
    "import numpy as np\n",
    "import pandas as pd\n"
   ]
  },
  {
   "cell_type": "code",
   "execution_count": 3,
   "metadata": {},
   "outputs": [
    {
     "name": "stdout",
     "output_type": "stream",
     "text": [
      "2019-04-03\n",
      "2025-05-07\n"
     ]
    },
    {
     "ename": "ValueError",
     "evalue": "Could not evaluate 4",
     "output_type": "error",
     "traceback": [
      "\u001b[0;31m---------------------------------------------------------------------------\u001b[0m",
      "\u001b[0;31mTypeError\u001b[0m                                 Traceback (most recent call last)",
      "\u001b[0;32mC:\\Users\\acer\\Anaconda3\\lib\\site-packages\\pandas\\tseries\\frequencies.py\u001b[0m in \u001b[0;36mto_offset\u001b[0;34m(freqstr)\u001b[0m\n\u001b[1;32m    463\u001b[0m         \u001b[1;32mtry\u001b[0m\u001b[1;33m:\u001b[0m\u001b[1;33m\u001b[0m\u001b[0m\n\u001b[0;32m--> 464\u001b[0;31m             \u001b[1;32mfor\u001b[0m \u001b[0mstride\u001b[0m\u001b[1;33m,\u001b[0m \u001b[0mname\u001b[0m\u001b[1;33m,\u001b[0m \u001b[0m_\u001b[0m \u001b[1;32min\u001b[0m \u001b[0mopattern\u001b[0m\u001b[1;33m.\u001b[0m\u001b[0mfindall\u001b[0m\u001b[1;33m(\u001b[0m\u001b[0mfreqstr\u001b[0m\u001b[1;33m)\u001b[0m\u001b[1;33m:\u001b[0m\u001b[1;33m\u001b[0m\u001b[0m\n\u001b[0m\u001b[1;32m    465\u001b[0m                 \u001b[0moffset\u001b[0m \u001b[1;33m=\u001b[0m \u001b[0mget_offset\u001b[0m\u001b[1;33m(\u001b[0m\u001b[0mname\u001b[0m\u001b[1;33m)\u001b[0m\u001b[1;33m\u001b[0m\u001b[0m\n",
      "\u001b[0;31mTypeError\u001b[0m: expected string or bytes-like object",
      "\nDuring handling of the above exception, another exception occurred:\n",
      "\u001b[0;31mValueError\u001b[0m                                Traceback (most recent call last)",
      "\u001b[0;32m<ipython-input-3-1a3b54ac2159>\u001b[0m in \u001b[0;36m<module>\u001b[0;34m()\u001b[0m\n\u001b[1;32m      6\u001b[0m \u001b[0mdate\u001b[0m \u001b[1;33m=\u001b[0m \u001b[0mdatetime\u001b[0m\u001b[1;33m.\u001b[0m\u001b[0mdate\u001b[0m\u001b[1;33m(\u001b[0m\u001b[1;36m2025\u001b[0m\u001b[1;33m,\u001b[0m\u001b[1;36m5\u001b[0m\u001b[1;33m,\u001b[0m\u001b[1;36m7\u001b[0m\u001b[1;33m)\u001b[0m  \u001b[1;31m#直接得到设定的日期\u001b[0m\u001b[1;33m\u001b[0m\u001b[0m\n\u001b[1;32m      7\u001b[0m \u001b[0mprint\u001b[0m\u001b[1;33m(\u001b[0m\u001b[0mdate\u001b[0m\u001b[1;33m)\u001b[0m\u001b[1;33m\u001b[0m\u001b[0m\n\u001b[0;32m----> 8\u001b[0;31m \u001b[0mt\u001b[0m \u001b[1;33m=\u001b[0m \u001b[0mpd\u001b[0m\u001b[1;33m.\u001b[0m\u001b[0mDatetimeIndex\u001b[0m\u001b[1;33m(\u001b[0m\u001b[1;36m2014\u001b[0m\u001b[1;33m,\u001b[0m\u001b[1;36m4\u001b[0m\u001b[1;33m,\u001b[0m\u001b[1;36m5\u001b[0m\u001b[1;33m)\u001b[0m\u001b[1;33m\u001b[0m\u001b[0m\n\u001b[0m\u001b[1;32m      9\u001b[0m \u001b[0mprint\u001b[0m\u001b[1;33m(\u001b[0m\u001b[0mt\u001b[0m\u001b[1;33m)\u001b[0m\u001b[1;33m\u001b[0m\u001b[0m\n",
      "\u001b[0;32mC:\\Users\\acer\\Anaconda3\\lib\\site-packages\\pandas\\util\\decorators.py\u001b[0m in \u001b[0;36mwrapper\u001b[0;34m(*args, **kwargs)\u001b[0m\n\u001b[1;32m     89\u001b[0m                 \u001b[1;32melse\u001b[0m\u001b[1;33m:\u001b[0m\u001b[1;33m\u001b[0m\u001b[0m\n\u001b[1;32m     90\u001b[0m                     \u001b[0mkwargs\u001b[0m\u001b[1;33m[\u001b[0m\u001b[0mnew_arg_name\u001b[0m\u001b[1;33m]\u001b[0m \u001b[1;33m=\u001b[0m \u001b[0mnew_arg_value\u001b[0m\u001b[1;33m\u001b[0m\u001b[0m\n\u001b[0;32m---> 91\u001b[0;31m             \u001b[1;32mreturn\u001b[0m \u001b[0mfunc\u001b[0m\u001b[1;33m(\u001b[0m\u001b[1;33m*\u001b[0m\u001b[0margs\u001b[0m\u001b[1;33m,\u001b[0m \u001b[1;33m**\u001b[0m\u001b[0mkwargs\u001b[0m\u001b[1;33m)\u001b[0m\u001b[1;33m\u001b[0m\u001b[0m\n\u001b[0m\u001b[1;32m     92\u001b[0m         \u001b[1;32mreturn\u001b[0m \u001b[0mwrapper\u001b[0m\u001b[1;33m\u001b[0m\u001b[0m\n\u001b[1;32m     93\u001b[0m     \u001b[1;32mreturn\u001b[0m \u001b[0m_deprecate_kwarg\u001b[0m\u001b[1;33m\u001b[0m\u001b[0m\n",
      "\u001b[0;32mC:\\Users\\acer\\Anaconda3\\lib\\site-packages\\pandas\\tseries\\index.py\u001b[0m in \u001b[0;36m__new__\u001b[0;34m(cls, data, freq, start, end, periods, copy, name, tz, verify_integrity, normalize, closed, ambiguous, dtype, **kwargs)\u001b[0m\n\u001b[1;32m    233\u001b[0m             \u001b[1;31m# if a passed freq is None, don't infer automatically\u001b[0m\u001b[1;33m\u001b[0m\u001b[1;33m\u001b[0m\u001b[0m\n\u001b[1;32m    234\u001b[0m             \u001b[1;32mif\u001b[0m \u001b[0mfreq\u001b[0m \u001b[1;33m!=\u001b[0m \u001b[1;34m'infer'\u001b[0m\u001b[1;33m:\u001b[0m\u001b[1;33m\u001b[0m\u001b[0m\n\u001b[0;32m--> 235\u001b[0;31m                 \u001b[0mfreq\u001b[0m \u001b[1;33m=\u001b[0m \u001b[0mto_offset\u001b[0m\u001b[1;33m(\u001b[0m\u001b[0mfreq\u001b[0m\u001b[1;33m)\u001b[0m\u001b[1;33m\u001b[0m\u001b[0m\n\u001b[0m\u001b[1;32m    236\u001b[0m             \u001b[1;32melse\u001b[0m\u001b[1;33m:\u001b[0m\u001b[1;33m\u001b[0m\u001b[0m\n\u001b[1;32m    237\u001b[0m                 \u001b[0mfreq_infer\u001b[0m \u001b[1;33m=\u001b[0m \u001b[1;32mTrue\u001b[0m\u001b[1;33m\u001b[0m\u001b[0m\n",
      "\u001b[0;32mC:\\Users\\acer\\Anaconda3\\lib\\site-packages\\pandas\\tseries\\frequencies.py\u001b[0m in \u001b[0;36mto_offset\u001b[0;34m(freqstr)\u001b[0m\n\u001b[1;32m    475\u001b[0m                     \u001b[0mdelta\u001b[0m \u001b[1;33m=\u001b[0m \u001b[0mdelta\u001b[0m \u001b[1;33m+\u001b[0m \u001b[0moffset\u001b[0m\u001b[1;33m\u001b[0m\u001b[0m\n\u001b[1;32m    476\u001b[0m         \u001b[1;32mexcept\u001b[0m \u001b[0mException\u001b[0m\u001b[1;33m:\u001b[0m\u001b[1;33m\u001b[0m\u001b[0m\n\u001b[0;32m--> 477\u001b[0;31m             \u001b[1;32mraise\u001b[0m \u001b[0mValueError\u001b[0m\u001b[1;33m(\u001b[0m\u001b[1;34m\"Could not evaluate %s\"\u001b[0m \u001b[1;33m%\u001b[0m \u001b[0mfreqstr\u001b[0m\u001b[1;33m)\u001b[0m\u001b[1;33m\u001b[0m\u001b[0m\n\u001b[0m\u001b[1;32m    478\u001b[0m \u001b[1;33m\u001b[0m\u001b[0m\n\u001b[1;32m    479\u001b[0m     \u001b[1;32mif\u001b[0m \u001b[0mdelta\u001b[0m \u001b[1;32mis\u001b[0m \u001b[1;32mNone\u001b[0m\u001b[1;33m:\u001b[0m\u001b[1;33m\u001b[0m\u001b[0m\n",
      "\u001b[0;31mValueError\u001b[0m: Could not evaluate 4"
     ]
    }
   ],
   "source": [
    "# datetime.date：date对象\n",
    "\n",
    "import datetime  # 也可以写 from datetime import date\n",
    "today = datetime.date.today()\n",
    "print(today)\n",
    "date = datetime.date(2025,5,7)  #直接得到设定的日期\n",
    "print(date)\n"
   ]
  },
  {
   "cell_type": "code",
   "execution_count": 10,
   "metadata": {},
   "outputs": [
    {
     "name": "stdout",
     "output_type": "stream",
     "text": [
      "2019-03-14 11:05:04.603467\n",
      "-2068 days, 0:00:00 <class 'datetime.timedelta'>\n"
     ]
    }
   ],
   "source": [
    "#datetime.datetime\n",
    "now = datetime.datetime.now()\n",
    "print(now)\n",
    "t1 = datetime.datetime(2014,4,5)\n",
    "t2 = datetime.datetime(2019,12,3)\n",
    "print(t1-t2,type(t1-t2))"
   ]
  },
  {
   "cell_type": "code",
   "execution_count": 14,
   "metadata": {},
   "outputs": [
    {
     "name": "stdout",
     "output_type": "stream",
     "text": [
      "2041-08-21 15:38:08\n"
     ]
    }
   ],
   "source": [
    "#时间差datetime.timedelta  默认是以天数为单位\n",
    "t1 = datetime.datetime(2014,4,5,15,38,8)\n",
    "t2 = datetime.timedelta(10000)\n",
    "print(t1+t2)\n"
   ]
  },
  {
   "cell_type": "code",
   "execution_count": 7,
   "metadata": {},
   "outputs": [
    {
     "name": "stdout",
     "output_type": "stream",
     "text": [
      "2018-04-23 00:00:00\n",
      "2028-07-27 00:00:00 <class 'datetime.datetime'>\n"
     ]
    }
   ],
   "source": [
    "#日期字符串转换方法\n",
    "from dateutil.parser import parse\n",
    "#类似于from numpy import random\n",
    "date = '20180423'\n",
    "data2 = '2028/7/27'\n",
    "print(parse(date))\n",
    "print(parse(data2),type(parse(data2)))"
   ]
  },
  {
   "cell_type": "code",
   "execution_count": 25,
   "metadata": {},
   "outputs": [
    {
     "data": {
      "text/plain": [
       "'\\n【课程2.9】  Pandas时刻数据：Timestamp\\n\\n时刻数据代表时间点，是pandas的数据类型，是将值与时间点相关联的最基本类型的时间序列数据\\n\\npandas.Timestamp()\\n\\n'"
      ]
     },
     "execution_count": 25,
     "metadata": {},
     "output_type": "execute_result"
    }
   ],
   "source": [
    "'''\n",
    "【课程2.9】  Pandas时刻数据：Timestamp\n",
    "\n",
    "时刻数据代表时间点，是pandas的数据类型，是将值与时间点相关联的最基本类型的时间序列数据\n",
    "\n",
    "pandas.Timestamp()\n",
    "\n",
    "'''"
   ]
  },
  {
   "cell_type": "code",
   "execution_count": 27,
   "metadata": {},
   "outputs": [
    {
     "name": "stdout",
     "output_type": "stream",
     "text": [
      "2037-12-07 00:00:00 <class 'pandas.tslib.Timestamp'>\n",
      "2016-07-08 00:00:00 <class 'pandas.tslib.Timestamp'>\n",
      "2016-07-08 00:00:00 <class 'datetime.datetime'>\n"
     ]
    }
   ],
   "source": [
    "#pd.Timestamp()\n",
    "date1 = '20371207'\n",
    "date2 = datetime.datetime(2016,7,8)\n",
    "t1 = pd.Timestamp(date1)\n",
    "t2 = pd.Timestamp(date2)\n",
    "print(t1,type(t1))\n",
    "print(t2,type(t2))\n",
    "\n",
    "print(date2,type(date2))\n",
    "# 直接生成pandas的时刻数据 → 时间戳\n",
    "# 数据类型为 pandas的Timestamp"
   ]
  },
  {
   "cell_type": "code",
   "execution_count": 3,
   "metadata": {},
   "outputs": [
    {
     "name": "stdout",
     "output_type": "stream",
     "text": [
      "2037-12-07 <class 'pandas.tslib.Timestamp'>\n",
      "2016-07-08 00:00:00 <class 'pandas.tslib.Timestamp'>\n",
      "DatetimeIndex(['2017-12-21', '2017-12-22', '2017-12-23'], dtype='datetime64[ns]', freq=None) <class 'pandas.tseries.index.DatetimeIndex'>\n",
      "DatetimeIndex(['2017-12-21', '2017-12-22', '2017-12-23'], dtype='datetime64[ns]', freq=None)\n"
     ]
    }
   ],
   "source": [
    "#pd.to_datetime()\n",
    "import datetime\n",
    "date1 = '20371207'\n",
    "date2 = datetime.datetime(2016,7,8)\n",
    "t1 = pd.to_datetime(date1)\n",
    "t2 = pd.to_datetime(date2)\n",
    "print(pd.datetime.date(t1),type(t1))\n",
    "print(t2,type(t2))\n",
    "# pd.to_datetime()：如果是单个时间数据，转换成pandas的时刻数据，数据类型为Timestamp\n",
    "\n",
    "lst_date = [ '2017-12-21', '2017-12-22', '2017-12-23']\n",
    "t3 = pd.to_datetime(lst_date)\n",
    "print(t3,type(t3))\n",
    "print(pd.DatetimeIndex(lst_date))\n",
    "# 多个时间数据，将会转换为pandas的DatetimeIndex"
   ]
  },
  {
   "cell_type": "code",
   "execution_count": 42,
   "metadata": {},
   "outputs": [
    {
     "name": "stdout",
     "output_type": "stream",
     "text": [
      "DatetimeIndex(['2200-02-23', '2036-06-26', '2026-02-23'], dtype='datetime64[ns]', freq=None)\n",
      "DatetimeIndex(['2018-09-09', '2020-09-03', '2030-12-12'], dtype='datetime64[ns]', freq=None)\n",
      "['20180909' '20200903' '20301212' '嘿我不是时间']\n",
      "DatetimeIndex(['2018-09-09', '2020-09-03', '2030-12-12', 'NaT'], dtype='datetime64[ns]', freq=None)\n"
     ]
    }
   ],
   "source": [
    "#pd.to_datetime() 多个时间数据转换时间戳索引\n",
    "from datetime import datetime\n",
    "data1 = [datetime(2200,2,23),datetime(2036,6,26),datetime(2026,2,23)]\n",
    "data2 = ['20180909','20200903','20301212']\n",
    "t1 = pd.to_datetime(data1)\n",
    "t2 = pd.to_datetime(data2)\n",
    "print(t1)\n",
    "print(t2)\n",
    "\n",
    "data3 = ['20180909','20200903','20301212','嘿我不是时间']\n",
    "t3 = pd.to_datetime(data3,errors = 'ignore')  #忽略错误值，但此时序列不是为时间序列\n",
    "t4 = pd.to_datetime(data3,errors = 'coerce')  #将错误值改为空值，此时序列是一个时间序列\n",
    "print(t3)\n",
    "print(t4)\n",
    "# errors = 'coerce':不可扩展，缺失值返回NaT（Not a Time），结果认为DatetimeIndex"
   ]
  },
  {
   "cell_type": "code",
   "execution_count": 68,
   "metadata": {},
   "outputs": [
    {
     "name": "stdout",
     "output_type": "stream",
     "text": [
      "['2019-03-15', '2019-03-16', '2019-03-17', '2019-03-18', '2019-03-19', '2019-03-20', '2019-03-21', '2019-03-22', '2019-03-23', '2019-03-24', '2019-03-25', '2019-03-26', '2019-03-27', '2019-03-28', '2019-03-29', '2019-03-30', '2019-03-31', '2019-04-01', '2019-04-02', '2019-04-03', '2019-04-04', '2019-04-05', '2019-04-06', '2019-04-07', '2019-04-08', '2019-04-09', '2019-04-10', '2019-04-11', '2019-04-12', '2019-04-13', '2019-04-14']\n",
      "DatetimeIndex(['2019-03-15', '2019-03-16', '2019-03-17', '2019-03-18',\n",
      "               '2019-03-19', '2019-03-20', '2019-03-21', '2019-03-22',\n",
      "               '2019-03-23', '2019-03-24', '2019-03-25', '2019-03-26',\n",
      "               '2019-03-27', '2019-03-28', '2019-03-29', '2019-03-30',\n",
      "               '2019-03-31', '2019-04-01', '2019-04-02', '2019-04-03',\n",
      "               '2019-04-04', '2019-04-05', '2019-04-06', '2019-04-07',\n",
      "               '2019-04-08', '2019-04-09', '2019-04-10', '2019-04-11',\n",
      "               '2019-04-12', '2019-04-13', '2019-04-14'],\n",
      "              dtype='datetime64[ns]', freq=None)\n",
      "2019-03-31 00:00:00\n"
     ]
    }
   ],
   "source": [
    "#作业练习\n",
    "import datetime\n",
    "today = datetime.date(2019,3,14)\n",
    "n = 31\n",
    "m = []\n",
    "for i in range(n):\n",
    "    date = today + datetime.timedelta(i+1)\n",
    "    m.append(str(date))\n",
    "print(m)\n",
    "t = pd.to_datetime(m)\n",
    "print(t)\n",
    "print(t[np.int((len(t)+1)/2)])"
   ]
  },
  {
   "cell_type": "code",
   "execution_count": 72,
   "metadata": {},
   "outputs": [
    {
     "name": "stdout",
     "output_type": "stream",
     "text": [
      "['20150203', '20150204', '20150205', '20150206', '20150207', '20150208']\n",
      "DatetimeIndex(['2015-02-03', '2015-02-04', '2015-02-05', '2015-02-06',\n",
      "               '2015-02-07', '2015-02-08'],\n",
      "              dtype='datetime64[ns]', freq=None)\n"
     ]
    }
   ],
   "source": [
    "f = open('C:\\\\Users\\\\acer\\\\Desktop\\\\text1.txt','r')\n",
    "s = f.readline().split(',')\n",
    "print(s)\n",
    "t = pd.to_datetime(s)\n",
    "print(t)"
   ]
  },
  {
   "cell_type": "code",
   "execution_count": 73,
   "metadata": {},
   "outputs": [
    {
     "data": {
      "text/plain": [
       "'\\n【课程2.10】  Pandas时间戳索引：DatetimeIndex\\n\\n核心：pd.date_range()\\n\\n'"
      ]
     },
     "execution_count": 73,
     "metadata": {},
     "output_type": "execute_result"
    }
   ],
   "source": [
    "'''\n",
    "【课程2.10】  Pandas时间戳索引：DatetimeIndex\n",
    "\n",
    "核心：pd.date_range()\n",
    "\n",
    "'''"
   ]
  },
  {
   "cell_type": "code",
   "execution_count": 78,
   "metadata": {},
   "outputs": [
    {
     "name": "stdout",
     "output_type": "stream",
     "text": [
      "DatetimeIndex(['2019-03-04', '2019-04-03', '2019-05-06', '2019-06-07'], dtype='datetime64[ns]', freq=None) <class 'pandas.tseries.index.DatetimeIndex'>\n",
      "2019-03-04    0.391517\n",
      "2019-04-03    0.014909\n",
      "2019-05-06    0.647658\n",
      "2019-06-07    0.712193\n",
      "dtype: float64\n",
      "DatetimeIndex(['2019-03-04', '2019-04-03', '2019-05-06', '2019-06-07'], dtype='datetime64[ns]', freq=None)\n"
     ]
    }
   ],
   "source": [
    "#时间序列\n",
    "#DatetimeIndex 和 TimeSeries\n",
    "rng = pd.DatetimeIndex(['20190304','20190403','20190506','20190607'])\n",
    "print(rng,type(rng))\n",
    "\n",
    "#TimeSeries\n",
    "st =pd.Series(np.random.rand(4),index= rng)\n",
    "print(st)\n",
    "print(st.index)"
   ]
  },
  {
   "cell_type": "code",
   "execution_count": 104,
   "metadata": {},
   "outputs": [
    {
     "name": "stdout",
     "output_type": "stream",
     "text": [
      "DatetimeIndex(['2016-09-08', '2016-09-09', '2016-09-10', '2016-09-11',\n",
      "               '2016-09-12', '2016-09-13', '2016-09-14', '2016-09-15',\n",
      "               '2016-09-16', '2016-09-17', '2016-09-18', '2016-09-19',\n",
      "               '2016-09-20', '2016-09-21', '2016-09-22', '2016-09-23',\n",
      "               '2016-09-24', '2016-09-25', '2016-09-26', '2016-09-27',\n",
      "               '2016-09-28', '2016-09-29', '2016-09-30', '2016-10-01',\n",
      "               '2016-10-02', '2016-10-03', '2016-10-04', '2016-10-05',\n",
      "               '2016-10-06', '2016-10-07', '2016-10-08'],\n",
      "              dtype='datetime64[ns]', freq='D')\n",
      "DatetimeIndex(['2017-01-30 15:00:00', '2017-01-31 15:00:00',\n",
      "               '2017-02-01 15:00:00', '2017-02-02 15:00:00',\n",
      "               '2017-02-03 15:00:00', '2017-02-04 15:00:00',\n",
      "               '2017-02-05 15:00:00', '2017-02-06 15:00:00',\n",
      "               '2017-02-07 15:00:00', '2017-02-08 15:00:00'],\n",
      "              dtype='datetime64[ns]', freq='D')\n",
      "DatetimeIndex(['2017-01-06 15:00:00', '2017-01-07 15:00:00',\n",
      "               '2017-01-08 15:00:00', '2017-01-09 15:00:00',\n",
      "               '2017-01-10 15:00:00', '2017-01-11 15:00:00',\n",
      "               '2017-01-12 15:00:00', '2017-01-13 15:00:00',\n",
      "               '2017-01-14 15:00:00', '2017-01-15 15:00:00',\n",
      "               '2017-01-16 15:00:00', '2017-01-17 15:00:00',\n",
      "               '2017-01-18 15:00:00', '2017-01-19 15:00:00',\n",
      "               '2017-01-20 15:00:00', '2017-01-21 15:00:00',\n",
      "               '2017-01-22 15:00:00', '2017-01-23 15:00:00',\n",
      "               '2017-01-24 15:00:00', '2017-01-25 15:00:00',\n",
      "               '2017-01-26 15:00:00', '2017-01-27 15:00:00',\n",
      "               '2017-01-28 15:00:00', '2017-01-29 15:00:00',\n",
      "               '2017-01-30 15:00:00'],\n",
      "              dtype='datetime64[ns]', freq='D')\n",
      "DatetimeIndex(['2017-01-30', '2017-01-31', '2017-02-01', '2017-02-02',\n",
      "               '2017-02-03', '2017-02-04', '2017-02-05', '2017-02-06',\n",
      "               '2017-02-07', '2017-02-08'],\n",
      "              dtype='datetime64[ns]', freq='D')\n",
      "DatetimeIndex(['2018-09-09', '2018-09-10', '2018-09-11', '2018-09-12',\n",
      "               '2018-09-13'],\n",
      "              dtype='datetime64[ns]', freq='D')\n",
      "DatetimeIndex(['2018-09-08', '2018-09-09', '2018-09-10', '2018-09-11',\n",
      "               '2018-09-12'],\n",
      "              dtype='datetime64[ns]', freq='D')\n",
      "DatetimeIndex(['2017-01-02', '2017-01-03', '2017-01-04', '2017-01-05',\n",
      "               '2017-01-06'],\n",
      "              dtype='datetime64[ns]', freq='B')\n",
      "[Timestamp('2018-09-08 00:00:00', offset='D'), Timestamp('2018-09-09 00:00:00', offset='D'), Timestamp('2018-09-10 00:00:00', offset='D'), Timestamp('2018-09-11 00:00:00', offset='D'), Timestamp('2018-09-12 00:00:00', offset='D')]\n",
      "DatetimeIndex(['2017-01-02', '2017-01-09', '2017-01-16', '2017-01-23',\n",
      "               '2017-01-30'],\n",
      "              dtype='datetime64[ns]', freq='W-MON')\n",
      "DatetimeIndex(['2017-01-09', '2017-02-13', '2017-03-13', '2017-04-10'], dtype='datetime64[ns]', freq='WOM-2MON')\n"
     ]
    }
   ],
   "source": [
    "# pd.date_range()-日期范围：生成日期范围\n",
    "# 2种生成方式：①start + end； ②start/end + periods\n",
    "# 默认频率：day\n",
    "rng1 = pd.date_range('20160908','20161008',normalize = True)\n",
    "rng2 = pd.date_range(start='1/30/2017 15:00:00', periods = 10)  #periods是指从这个时间点起后面的天数\n",
    "rng3 = pd.date_range(end = '1/30/2017 15:00:00',periods=25)\n",
    "print(rng1)\n",
    "print(rng2)\n",
    "print(rng3)\n",
    "# 直接生成DatetimeIndex\n",
    "# pd.date_range(start=None, end=None, periods=None, freq='D', tz=None, normalize=False, name=None, closed=None, **kwargs)\n",
    "# start：开始时间\n",
    "# end：结束时间\n",
    "# periods：偏移量\n",
    "# freq：频率，默认天，pd.date_range()默认频率为日历日，pd.bdate_range()默认频率为工作日\n",
    "# tz：时区\n",
    "\n",
    "\n",
    "rng4 = pd.date_range(start='1/30/2017 15:00:00', periods = 10,normalize=True)\n",
    "print(rng4)\n",
    "# normalize：时间参数值正则化到午夜时间戳（这里最后就直接变成0:00:00，并不是15:30:00）\n",
    "# name：索引对象名称\n",
    "\n",
    "print(pd.date_range('20180908','20180913',closed = 'right'))\n",
    "print(pd.date_range('20180908','20180913',closed = 'left'))\n",
    "\n",
    "#筛选工作日 pd.bdate_range()默认频率为工作日（星期一到星期五）\n",
    "print(pd.bdate_range('20170101','20170107'))\n",
    "print(list(pd.date_range('20180908','20180913',closed = 'left')))  # 直接转化为list，元素为Timestamp\n",
    "\n",
    "print(pd.date_range('2017/1/1','2017/2/1', freq = 'W-MON'))  \n",
    "# W-MON：从指定星期几开始算起，每周\n",
    "# 星期几缩写：MON/TUE/WED/THU/FRI/SAT/SUN\n",
    "\n",
    "print(pd.date_range('2017/1/1','2017/5/1', freq = 'WOM-2MON'))  \n",
    "# WOM-2MON：每月的第几个星期几开始算，这里是每月第二个星期一"
   ]
  },
  {
   "cell_type": "code",
   "execution_count": 106,
   "metadata": {},
   "outputs": [
    {
     "name": "stdout",
     "output_type": "stream",
     "text": [
      "DatetimeIndex(['2017-01-31', '2017-02-28', '2017-03-31', '2017-04-30',\n",
      "               '2017-05-31', '2017-06-30', '2017-07-31', '2017-08-31',\n",
      "               '2017-09-30', '2017-10-31', '2017-11-30', '2017-12-31'],\n",
      "              dtype='datetime64[ns]', freq='M')\n",
      "DatetimeIndex(['2017-02-28', '2017-05-31', '2017-08-31', '2017-11-30',\n",
      "               '2018-02-28', '2018-05-31', '2018-08-31', '2018-11-30',\n",
      "               '2019-02-28', '2019-05-31', '2019-08-31', '2019-11-30'],\n",
      "              dtype='datetime64[ns]', freq='Q-NOV')\n",
      "DatetimeIndex(['2017-12-31', '2018-12-31', '2019-12-31'], dtype='datetime64[ns]', freq='A-DEC')\n",
      "------\n",
      "DatetimeIndex(['2017-01-31', '2017-02-28', '2017-03-31', '2017-04-28',\n",
      "               '2017-05-31', '2017-06-30', '2017-07-31', '2017-08-31',\n",
      "               '2017-09-29', '2017-10-31', '2017-11-30', '2017-12-29'],\n",
      "              dtype='datetime64[ns]', freq='BM')\n",
      "DatetimeIndex(['2017-03-31', '2017-06-30', '2017-09-29', '2017-12-29',\n",
      "               '2018-03-30', '2018-06-29', '2018-09-28', '2018-12-31',\n",
      "               '2019-03-29', '2019-06-28', '2019-09-30', '2019-12-31'],\n",
      "              dtype='datetime64[ns]', freq='BQ-DEC')\n",
      "DatetimeIndex(['2017-12-29', '2018-12-31', '2019-12-31'], dtype='datetime64[ns]', freq='BA-DEC')\n",
      "------\n",
      "DatetimeIndex(['2017-01-01', '2017-02-01', '2017-03-01', '2017-04-01',\n",
      "               '2017-05-01', '2017-06-01', '2017-07-01', '2017-08-01',\n",
      "               '2017-09-01', '2017-10-01', '2017-11-01', '2017-12-01',\n",
      "               '2018-01-01'],\n",
      "              dtype='datetime64[ns]', freq='MS')\n",
      "DatetimeIndex(['2017-03-01', '2017-06-01', '2017-09-01', '2017-12-01',\n",
      "               '2018-03-01', '2018-06-01', '2018-09-01', '2018-12-01',\n",
      "               '2019-03-01', '2019-06-01', '2019-09-01', '2019-12-01'],\n",
      "              dtype='datetime64[ns]', freq='QS-DEC')\n",
      "DatetimeIndex(['2017-12-01', '2018-12-01', '2019-12-01'], dtype='datetime64[ns]', freq='AS-DEC')\n",
      "------\n",
      "DatetimeIndex(['2017-01-02', '2017-02-01', '2017-03-01', '2017-04-03',\n",
      "               '2017-05-01', '2017-06-01', '2017-07-03', '2017-08-01',\n",
      "               '2017-09-01', '2017-10-02', '2017-11-01', '2017-12-01',\n",
      "               '2018-01-01'],\n",
      "              dtype='datetime64[ns]', freq='BMS')\n",
      "DatetimeIndex(['2017-03-01', '2017-06-01', '2017-09-01', '2017-12-01',\n",
      "               '2018-03-01', '2018-06-01', '2018-09-03', '2018-12-03',\n",
      "               '2019-03-01', '2019-06-03', '2019-09-02', '2019-12-02'],\n",
      "              dtype='datetime64[ns]', freq='BQS-DEC')\n",
      "DatetimeIndex(['2017-12-01', '2018-12-03', '2019-12-02'], dtype='datetime64[ns]', freq='BAS-DEC')\n",
      "------\n"
     ]
    }
   ],
   "source": [
    "# pd.date_range()-日期范围：频率(2)\n",
    "\n",
    "print(pd.date_range('2017','2018', freq = 'M'))  \n",
    "print(pd.date_range('2017','2020', freq = 'Q-NOV'))  \n",
    "print(pd.date_range('2017','2020', freq = 'A-DEC')) \n",
    "print('------')\n",
    "# M：每月最后一个日历日\n",
    "# Q-月：指定月为季度末，每个季度末最后一月的最后一个日历日\n",
    "# A-月：每年指定月份的最后一个日历日\n",
    "# 月缩写：JAN/FEB/MAR/APR/MAY/JUN/JUL/AUG/SEP/OCT/NOV/DEC\n",
    "# 所以Q-月只有三种情况：1-4-7-10,2-5-8-11,3-6-9-12\n",
    "\n",
    "print(pd.date_range('2017','2018', freq = 'BM'))  \n",
    "print(pd.date_range('2017','2020', freq = 'BQ-DEC'))  \n",
    "print(pd.date_range('2017','2020', freq = 'BA-DEC')) \n",
    "print('------')\n",
    "# BM：每月最后一个工作日\n",
    "# BQ-月：指定月为季度末，每个季度末最后一月的最后一个工作日\n",
    "# BA-月：每年指定月份的最后一个工作日\n",
    "\n",
    "print(pd.date_range('2017','2018', freq = 'MS'))  \n",
    "print(pd.date_range('2017','2020', freq = 'QS-DEC'))  \n",
    "print(pd.date_range('2017','2020', freq = 'AS-DEC')) \n",
    "print('------')\n",
    "# M：每月第一个日历日\n",
    "# Q-月：指定月为季度末，每个季度末最后一月的第一个日历日\n",
    "# A-月：每年指定月份的第一个日历日\n",
    "\n",
    "print(pd.date_range('2017','2018', freq = 'BMS'))  \n",
    "print(pd.date_range('2017','2020', freq = 'BQS-DEC'))  \n",
    "print(pd.date_range('2017','2020', freq = 'BAS-DEC')) \n",
    "print('------')\n",
    "# BM：每月第一个工作日\n",
    "# BQ-月：指定月为季度末，每个季度末最后一月的第一个工作日\n",
    "# BA-月：每年指定月份的第一个工作日"
   ]
  },
  {
   "cell_type": "code",
   "execution_count": 108,
   "metadata": {},
   "outputs": [
    {
     "name": "stdout",
     "output_type": "stream",
     "text": [
      "DatetimeIndex(['2017-01-01', '2017-01-08', '2017-01-15', '2017-01-22',\n",
      "               '2017-01-29'],\n",
      "              dtype='datetime64[ns]', freq='7D')\n",
      "DatetimeIndex(['2017-01-01 00:00:00', '2017-01-01 02:30:00',\n",
      "               '2017-01-01 05:00:00', '2017-01-01 07:30:00',\n",
      "               '2017-01-01 10:00:00', '2017-01-01 12:30:00',\n",
      "               '2017-01-01 15:00:00', '2017-01-01 17:30:00',\n",
      "               '2017-01-01 20:00:00', '2017-01-01 22:30:00'],\n",
      "              dtype='datetime64[ns]', freq='150T')\n",
      "DatetimeIndex(['2017-01-31', '2017-03-31', '2017-05-31', '2017-07-31',\n",
      "               '2017-09-30', '2017-11-30'],\n",
      "              dtype='datetime64[ns]', freq='2M')\n"
     ]
    }
   ],
   "source": [
    "# pd.date_range()-日期范围：复合频率\n",
    "\n",
    "print(pd.date_range('2017/1/1','2017/2/1', freq = '7D'))  # 7天\n",
    "print(pd.date_range('2017/1/1','2017/1/2', freq = '2h30min'))  # 2小时30分钟\n",
    "print(pd.date_range('2017','2018', freq = '2M'))  # 2月，每月最后一个日历日"
   ]
  },
  {
   "cell_type": "code",
   "execution_count": 114,
   "metadata": {},
   "outputs": [
    {
     "name": "stdout",
     "output_type": "stream",
     "text": [
      "2019-07-08    8.364031\n",
      "2019-07-09    8.418118\n",
      "2019-07-10    8.420344\n",
      "2019-07-11    6.070918\n",
      "Freq: D, dtype: float64\n",
      "2019-07-08 00:00:00    8.364031\n",
      "2019-07-08 12:00:00    8.364031\n",
      "2019-07-09 00:00:00    8.418118\n",
      "2019-07-09 12:00:00    8.418118\n",
      "2019-07-10 00:00:00    8.420344\n",
      "2019-07-10 12:00:00    8.420344\n",
      "2019-07-11 00:00:00    6.070918\n",
      "Freq: 12H, dtype: float64\n",
      "2019-07-08 00:00:00    8.364031\n",
      "2019-07-08 12:00:00    8.418118\n",
      "2019-07-09 00:00:00    8.418118\n",
      "2019-07-09 12:00:00    8.420344\n",
      "2019-07-10 00:00:00    8.420344\n",
      "2019-07-10 12:00:00    6.070918\n",
      "2019-07-11 00:00:00    6.070918\n",
      "Freq: 12H, dtype: float64\n"
     ]
    }
   ],
   "source": [
    "#频率转换\n",
    "ts = pd.Series(np.random.rand(4)*10,index = pd.date_range('20190708','20190711'))\n",
    "print(ts)\n",
    "print(ts.asfreq('12H',method='ffill'))\n",
    "print(ts.asfreq('12H',method='bfill'))"
   ]
  },
  {
   "cell_type": "code",
   "execution_count": 120,
   "metadata": {},
   "outputs": [
    {
     "name": "stdout",
     "output_type": "stream",
     "text": [
      "2019-07-08    0.894510\n",
      "2019-07-09    9.611782\n",
      "2019-07-10    2.757423\n",
      "2019-07-11    9.629579\n",
      "Freq: D, dtype: float64\n",
      "2019-07-08         NaN\n",
      "2019-07-09         NaN\n",
      "2019-07-10    0.894510\n",
      "2019-07-11    9.611782\n",
      "Freq: D, dtype: float64\n",
      "2019-07-08    2.757423\n",
      "2019-07-09    9.629579\n",
      "2019-07-10         NaN\n",
      "2019-07-11         NaN\n",
      "Freq: D, dtype: float64\n",
      "2019-07-10    0.894510\n",
      "2019-07-11    9.611782\n",
      "2019-07-12    2.757423\n",
      "2019-07-13    9.629579\n",
      "Freq: D, dtype: float64\n",
      "2019-07-08 00:02:00    0.894510\n",
      "2019-07-09 00:02:00    9.611782\n",
      "2019-07-10 00:02:00    2.757423\n",
      "2019-07-11 00:02:00    9.629579\n",
      "Freq: D, dtype: float64\n"
     ]
    }
   ],
   "source": [
    "# pd.date_range()-日期范围：超前/滞后数据\n",
    "ts = pd.Series(np.random.rand(4)*10,index = pd.date_range('20190708','20190711'))\n",
    "print(ts)\n",
    "print(ts.shift(2))  #数值往后移动两位\n",
    "print(ts.shift(-2))  #数值往前移动两位\n",
    "\n",
    "\n",
    "# 加上freq参数：对时间戳进行位移，而不是对数值进行位移\n",
    "print(ts.shift(2,freq= 'D'))  #此时是日期移动\n",
    "print(ts.shift(2,freq= 'T'))  #此时是按分钟移动"
   ]
  },
  {
   "cell_type": "code",
   "execution_count": 146,
   "metadata": {},
   "outputs": [
    {
     "name": "stdout",
     "output_type": "stream",
     "text": [
      "DatetimeIndex(['2017-01-31', '2017-04-30', '2017-07-31', '2017-10-31'], dtype='datetime64[ns]', freq='Q-OCT')\n",
      "                      values1   values2   values3   values4\n",
      "2019-07-08 00:00:00  0.345777  0.306780  0.955135  0.580685\n",
      "2019-07-08 00:10:00  0.849626  0.196281  0.783531  0.442365\n",
      "2019-07-08 00:20:00  0.459299  0.005204  0.990327  0.188721\n",
      "2019-07-08 00:30:00  0.348890  0.228783  0.572511  0.217484\n",
      "2019-07-08 00:00:00    0.866878\n",
      "2019-07-08 00:10:00    0.374984\n",
      "2019-07-08 00:20:00    0.180999\n",
      "2019-07-08 00:30:00    0.553043\n",
      "2019-07-08 00:40:00    0.168358\n",
      "2019-07-08 00:50:00    0.288239\n",
      "2019-07-08 01:00:00    0.901572\n",
      "2019-07-08 01:10:00    0.192636\n",
      "2019-07-08 01:20:00    0.140344\n",
      "Freq: 10T, dtype: float64\n",
      "2019-07-08 00:00:00    0.866878\n",
      "2019-07-08 00:05:00    0.866878\n",
      "2019-07-08 00:10:00    0.374984\n",
      "2019-07-08 00:15:00    0.374984\n",
      "2019-07-08 00:20:00    0.180999\n",
      "2019-07-08 00:25:00    0.180999\n",
      "2019-07-08 00:30:00    0.553043\n",
      "2019-07-08 00:35:00    0.553043\n",
      "2019-07-08 00:40:00    0.168358\n",
      "2019-07-08 00:45:00    0.168358\n",
      "2019-07-08 00:50:00    0.288239\n",
      "2019-07-08 00:55:00    0.288239\n",
      "2019-07-08 01:00:00    0.901572\n",
      "2019-07-08 01:05:00    0.901572\n",
      "2019-07-08 01:10:00    0.192636\n",
      "2019-07-08 01:15:00    0.192636\n",
      "2019-07-08 01:20:00    0.140344\n",
      "Freq: 5T, dtype: float64\n"
     ]
    }
   ],
   "source": [
    "#作业练习\n",
    "st = pd.date_range('20170101','20180101',freq = 'Q-OCT')\n",
    "print(st)\n",
    "st1 = pd.DataFrame(np.random.rand(4,4),index = pd.date_range('20190708',periods=4,freq='10T'),columns=['values1','values2','values3','values4'])\n",
    "print(st1)\n",
    "\n",
    "st2 = pd.Series(np.random.rand(9),index = pd.date_range('20190708',periods=9,freq='10T'))\n",
    "print(st2)\n",
    "st3 = st2.asfreq('5T',method = 'ffill')\n",
    "print(st3)"
   ]
  },
  {
   "cell_type": "code",
   "execution_count": 147,
   "metadata": {},
   "outputs": [
    {
     "data": {
      "text/plain": [
       "'\\n【课程2.11】  Pandas时期：Period\\n\\n核心：pd.Period()\\n\\n'"
      ]
     },
     "execution_count": 147,
     "metadata": {},
     "output_type": "execute_result"
    }
   ],
   "source": [
    "'''\n",
    "【课程2.11】  Pandas时期：Period\n",
    "\n",
    "核心：pd.Period()\n",
    "\n",
    "'''"
   ]
  },
  {
   "cell_type": "code",
   "execution_count": 155,
   "metadata": {},
   "outputs": [
    {
     "name": "stdout",
     "output_type": "stream",
     "text": [
      "DatetimeIndex(['2019-09-08'], dtype='datetime64[ns]', freq=None)\n",
      "2019-01\n",
      "2019-01-02\n"
     ]
    }
   ],
   "source": [
    "# pd.Period()创建时期\n",
    "p = pd.Period('2019',freq='D')\n",
    "p1 = pd.Period('2019',freq='M')\n",
    "p2 = pd.DatetimeIndex(['20190908'])\n",
    "# 生成一个以2017-01开始，月为频率的时间构造器\n",
    "# pd.Period()参数：一个时间戳 + freq 参数 → freq 用于指明该 period 的长度，时间戳则说明该 period 在时间轴上的位置\n",
    "print(p2)\n",
    "print(p1)\n",
    "\n",
    "print(p+1)\n",
    "# 通过加减整数，将周期整体移动\n",
    "# 这里是按照 月、年 移动"
   ]
  },
  {
   "cell_type": "code",
   "execution_count": 163,
   "metadata": {},
   "outputs": [
    {
     "name": "stdout",
     "output_type": "stream",
     "text": [
      "PeriodIndex(['2010-09', '2010-10', '2010-11', '2010-12', '2011-01', '2011-02',\n",
      "             '2011-03', '2011-04', '2011-05', '2011-06', '2011-07', '2011-08',\n",
      "             '2011-09'],\n",
      "            dtype='int64', freq='M') <class 'pandas.tseries.period.PeriodIndex'>\n",
      "DatetimeIndex(['2010-09-30', '2010-10-31', '2010-11-30', '2010-12-31',\n",
      "               '2011-01-31', '2011-02-28', '2011-03-31', '2011-04-30',\n",
      "               '2011-05-31', '2011-06-30', '2011-07-31', '2011-08-31'],\n",
      "              dtype='datetime64[ns]', freq='M') <class 'pandas.tseries.index.DatetimeIndex'>\n",
      "-------------\n",
      "2010-09 <class 'pandas._period.Period'>\n",
      "2010-09    0.182449\n",
      "2010-10    0.226379\n",
      "2010-11    0.564346\n",
      "2010-12    0.238111\n",
      "2011-01    0.658841\n",
      "2011-02    0.164316\n",
      "2011-03    0.307027\n",
      "2011-04    0.550431\n",
      "2011-05    0.686113\n",
      "2011-06    0.253941\n",
      "2011-07    0.704491\n",
      "2011-08    0.095195\n",
      "2011-09    0.392324\n",
      "Freq: M, dtype: float64\n",
      "2010-09-30    0.305288\n",
      "2010-10-31    0.570681\n",
      "2010-11-30    0.628216\n",
      "2010-12-31    0.618116\n",
      "2011-01-31    0.812049\n",
      "2011-02-28    0.447408\n",
      "2011-03-31    0.991829\n",
      "2011-04-30    0.588209\n",
      "2011-05-31    0.477300\n",
      "2011-06-30    0.067405\n",
      "2011-07-31    0.324584\n",
      "2011-08-31    0.883185\n",
      "Freq: M, dtype: float64\n"
     ]
    }
   ],
   "source": [
    "# pd.period_range()创建时期范围\n",
    "prng = pd.period_range('20100907','20110909',freq=\"M\")\n",
    "rng = pd.date_range('20100907','20110909',freq=\"M\")\n",
    "print(prng,type(prng))\n",
    "print(rng,type(rng))\n",
    "print('-------------')\n",
    "print(prng[0],type(prng[0]))\n",
    "\n",
    "ts1 = pd.Series(np.random.rand(len(prng)),index = prng)\n",
    "ts2 = pd.Series(np.random.rand(len(rng)),index = rng)\n",
    "print(ts1)\n",
    "print(ts2)"
   ]
  },
  {
   "cell_type": "code",
   "execution_count": 173,
   "metadata": {},
   "outputs": [
    {
     "name": "stdout",
     "output_type": "stream",
     "text": [
      "2019\n",
      "2019-01\n",
      "2019-12\n",
      "2019-01-01\n",
      "2010-09    0.182449\n",
      "2010-10    0.226379\n",
      "2010-11    0.564346\n",
      "2010-12    0.238111\n",
      "2011-01    0.658841\n",
      "Freq: M, dtype: float64 13\n",
      "2010-09-30    0.305288\n",
      "2010-10-31    0.570681\n",
      "2010-11-30    0.628216\n",
      "2010-12-31    0.618116\n",
      "2011-01-31    0.812049\n",
      "Freq: M, dtype: float64 12\n"
     ]
    }
   ],
   "source": [
    "#频率转换\n",
    "p = pd.Period('2019',freq = 'A-DEC')\n",
    "print(p)\n",
    "print(p.asfreq('M',how = 'start'))\n",
    "print(p.asfreq('M',how = 'end'))\n",
    "print(p.asfreq('D',how = 'start'))\n",
    "print(ts1.head(),len(ts1))\n",
    "print(ts2.head(),len(ts2))\n",
    "# asfreq也可以转换TIMESeries的index"
   ]
  },
  {
   "cell_type": "code",
   "execution_count": 179,
   "metadata": {},
   "outputs": [
    {
     "name": "stdout",
     "output_type": "stream",
     "text": [
      "2010-09-30    0.999423\n",
      "2010-10-31    0.806861\n",
      "2010-11-30    0.627556\n",
      "2010-12-31    0.931816\n",
      "2011-01-31    0.524696\n",
      "2011-02-28    0.447350\n",
      "2011-03-31    0.494700\n",
      "2011-04-30    0.576324\n",
      "2011-05-31    0.091826\n",
      "2011-06-30    0.544612\n",
      "2011-07-31    0.091793\n",
      "2011-08-31    0.420806\n",
      "Freq: M, dtype: float64\n",
      "2010-09    0.999423\n",
      "2010-10    0.806861\n",
      "2010-11    0.627556\n",
      "2010-12    0.931816\n",
      "2011-01    0.524696\n",
      "Freq: M, dtype: float64\n",
      "-----------\n",
      "2010-09    0.168102\n",
      "2010-10    0.309607\n",
      "2010-11    0.005421\n",
      "2010-12    0.944793\n",
      "2011-01    0.765458\n",
      "2011-02    0.328886\n",
      "2011-03    0.765518\n",
      "2011-04    0.423495\n",
      "2011-05    0.298902\n",
      "2011-06    0.023398\n",
      "2011-07    0.153520\n",
      "2011-08    0.669339\n",
      "2011-09    0.814079\n",
      "Freq: M, dtype: float64\n",
      "2010-09-01    0.168102\n",
      "2010-10-01    0.309607\n",
      "2010-11-01    0.005421\n",
      "2010-12-01    0.944793\n",
      "2011-01-01    0.765458\n",
      "2011-02-01    0.328886\n",
      "2011-03-01    0.765518\n",
      "2011-04-01    0.423495\n",
      "2011-05-01    0.298902\n",
      "2011-06-01    0.023398\n",
      "2011-07-01    0.153520\n",
      "2011-08-01    0.669339\n",
      "2011-09-01    0.814079\n",
      "Freq: MS, dtype: float64\n"
     ]
    }
   ],
   "source": [
    "#时间戳与时间周期的转换\n",
    "prng = pd.period_range('20100907','20110909',freq=\"M\")\n",
    "rng = pd.date_range('20100907','20110909',freq=\"M\")\n",
    "ts1 = pd.Series(np.random.rand(len(rng)),index = rng)\n",
    "ts2 = pd.Series(np.random.rand(len(prng)),index = prng)\n",
    "print(ts1)\n",
    "print(ts1.to_period().head())  #时间戳转换为时间周期\n",
    "print('-----------')\n",
    "print(ts2)\n",
    "print(ts2.to_timestamp())    #时间周期转换为时间戳"
   ]
  },
  {
   "cell_type": "code",
   "execution_count": 180,
   "metadata": {},
   "outputs": [
    {
     "data": {
      "text/plain": [
       "'\\n【课程2.12】  时间序列 - 索引及切片\\n\\nTimeSeries是Series的一个子类，所以Series索引及数据选取方面的方法基本一样\\n\\n同时TimeSeries通过时间序列有更便捷的方法做索引和切片\\n \\n'"
      ]
     },
     "execution_count": 180,
     "metadata": {},
     "output_type": "execute_result"
    }
   ],
   "source": [
    "'''\n",
    "【课程2.12】  时间序列 - 索引及切片\n",
    "\n",
    "TimeSeries是Series的一个子类，所以Series索引及数据选取方面的方法基本一样\n",
    "\n",
    "同时TimeSeries通过时间序列有更便捷的方法做索引和切片\n",
    " \n",
    "'''"
   ]
  },
  {
   "cell_type": "code",
   "execution_count": 181,
   "metadata": {},
   "outputs": [
    {
     "name": "stdout",
     "output_type": "stream",
     "text": [
      "2017-01-01    0.539008\n",
      "2017-01-02    0.673296\n",
      "2017-01-03    0.368383\n",
      "2017-01-04    0.097335\n",
      "2017-01-05    0.392399\n",
      "Freq: D, dtype: float64\n",
      "0.539007640505\n",
      "2017-01-01    0.539008\n",
      "2017-01-02    0.673296\n",
      "Freq: D, dtype: float64\n",
      "-----\n",
      "0.673295700004\n",
      "0.368383139959\n",
      "0.613718036628\n",
      "0.718153376571\n",
      "-----\n"
     ]
    }
   ],
   "source": [
    "# 索引\n",
    "\n",
    "from datetime import datetime\n",
    "\n",
    "rng = pd.date_range('2017/1','2017/3')\n",
    "ts = pd.Series(np.random.rand(len(rng)), index = rng)\n",
    "print(ts.head())\n",
    "\n",
    "print(ts[0])\n",
    "print(ts[:2])\n",
    "print('-----')\n",
    "# 基本下标位置索引\n",
    "\n",
    "print(ts['2017/1/2'])\n",
    "print(ts['20170103'])\n",
    "print(ts['1/10/2017'])\n",
    "print(ts[datetime(2017,1,20)])\n",
    "print('-----')\n",
    "# 时间序列标签索引，支持各种时间字符串，以及datetime.datetime\n",
    "\n",
    "# 时间序列由于按照时间先后排序，故不用考虑顺序问题\n",
    "# 索引方法同样适用于Dataframe"
   ]
  },
  {
   "cell_type": "code",
   "execution_count": 190,
   "metadata": {},
   "outputs": [
    {
     "name": "stdout",
     "output_type": "stream",
     "text": [
      "2019-01-03 00:00:00    0.401650\n",
      "2019-01-03 12:00:00    0.180757\n",
      "2019-01-04 00:00:00    0.999475\n",
      "Freq: 12H, dtype: float64\n",
      "2019-02-02    0.987436\n",
      "2019-02-03    0.643172\n",
      "2019-02-04    0.381473\n",
      "2019-02-05    0.655682\n",
      "2019-02-06    0.939294\n",
      "2019-02-07    0.904025\n",
      "2019-02-08    0.675137\n",
      "2019-02-09    0.022953\n",
      "Freq: 24H, dtype: float64\n",
      "2019-02-01 00:00:00    0.887771\n",
      "2019-02-01 12:00:00    0.381885\n",
      "2019-02-02 00:00:00    0.987436\n",
      "2019-02-02 12:00:00    0.138765\n",
      "2019-02-03 00:00:00    0.643172\n",
      "2019-02-03 12:00:00    0.306949\n",
      "2019-02-04 00:00:00    0.381473\n",
      "2019-02-04 12:00:00    0.282075\n",
      "2019-02-05 00:00:00    0.655682\n",
      "2019-02-05 12:00:00    0.326944\n",
      "2019-02-06 00:00:00    0.939294\n",
      "2019-02-06 12:00:00    0.402553\n",
      "2019-02-07 00:00:00    0.904025\n",
      "2019-02-07 12:00:00    0.253996\n",
      "2019-02-08 00:00:00    0.675137\n",
      "2019-02-08 12:00:00    0.546745\n",
      "2019-02-09 00:00:00    0.022953\n",
      "2019-02-09 12:00:00    0.565241\n",
      "2019-02-10 00:00:00    0.619345\n",
      "2019-02-10 12:00:00    0.343826\n",
      "2019-02-11 00:00:00    0.400196\n",
      "2019-02-11 12:00:00    0.286080\n",
      "2019-02-12 00:00:00    0.670854\n",
      "2019-02-12 12:00:00    0.065774\n",
      "2019-02-13 00:00:00    0.274728\n",
      "2019-02-13 12:00:00    0.696875\n",
      "2019-02-14 00:00:00    0.185035\n",
      "2019-02-14 12:00:00    0.382804\n",
      "2019-02-15 00:00:00    0.758615\n",
      "2019-02-15 12:00:00    0.957421\n",
      "2019-02-16 00:00:00    0.928907\n",
      "2019-02-16 12:00:00    0.214095\n",
      "2019-02-17 00:00:00    0.676126\n",
      "2019-02-17 12:00:00    0.167367\n",
      "2019-02-18 00:00:00    0.588212\n",
      "2019-02-18 12:00:00    0.782519\n",
      "2019-02-19 00:00:00    0.362087\n",
      "2019-02-19 12:00:00    0.209265\n",
      "2019-02-20 00:00:00    0.514761\n",
      "2019-02-20 12:00:00    0.533812\n",
      "2019-02-21 00:00:00    0.098880\n",
      "2019-02-21 12:00:00    0.013380\n",
      "2019-02-22 00:00:00    0.467463\n",
      "2019-02-22 12:00:00    0.427595\n",
      "2019-02-23 00:00:00    0.550122\n",
      "2019-02-23 12:00:00    0.697483\n",
      "2019-02-24 00:00:00    0.618054\n",
      "2019-02-24 12:00:00    0.107833\n",
      "2019-02-25 00:00:00    0.057868\n",
      "2019-02-25 12:00:00    0.984947\n",
      "2019-02-26 00:00:00    0.330180\n",
      "2019-02-26 12:00:00    0.288118\n",
      "2019-02-27 00:00:00    0.175781\n",
      "2019-02-27 12:00:00    0.303067\n",
      "2019-02-28 00:00:00    0.269438\n",
      "2019-02-28 12:00:00    0.186346\n",
      "Freq: 12H, dtype: float64\n"
     ]
    }
   ],
   "source": [
    "#切片\n",
    "rng = pd.date_range('20190102','20190302',freq = '12H')\n",
    "st = pd.Series(np.random.rand(len(rng)),index = rng)\n",
    "#print(st)\n",
    "print(st[2:5])\n",
    "print(st['20190202':'20190209':2])\n",
    "print(st['2/2019'])  #会显示出2月份所有的天数\n"
   ]
  },
  {
   "cell_type": "code",
   "execution_count": 191,
   "metadata": {},
   "outputs": [
    {
     "name": "stdout",
     "output_type": "stream",
     "text": [
      "2015-01-01    0.361884\n",
      "2015-01-02    0.377483\n",
      "2015-01-03    0.217799\n",
      "2015-01-04    0.949296\n",
      "2015-01-01    0.589206\n",
      "2015-01-02    0.701686\n",
      "dtype: float64\n",
      "True False\n",
      "-----\n",
      "2015-01-01    0.361884\n",
      "2015-01-01    0.589206\n",
      "dtype: float64 <class 'pandas.core.series.Series'>\n",
      "2015-01-04    0.949296\n",
      "dtype: float64 <class 'pandas.core.series.Series'>\n",
      "-----\n",
      "2015-01-01    0.475545\n",
      "2015-01-02    0.539585\n",
      "2015-01-03    0.217799\n",
      "2015-01-04    0.949296\n",
      "dtype: float64\n"
     ]
    }
   ],
   "source": [
    "# 重复索引的时间序列\n",
    "\n",
    "dates = pd.DatetimeIndex(['1/1/2015','1/2/2015','1/3/2015','1/4/2015','1/1/2015','1/2/2015'])\n",
    "ts = pd.Series(np.random.rand(6), index = dates)\n",
    "print(ts)\n",
    "print(ts.is_unique,ts.index.is_unique)\n",
    "print('-----')\n",
    "# index有重复，is_unique检查 → values唯一，index不唯一\n",
    "\n",
    "print(ts['20150101'],type(ts['20150101']))\n",
    "print(ts['20150104'],type(ts['20150104']))\n",
    "print('-----')\n",
    "# index有重复的将返回多个值\n",
    "\n",
    "print(ts.groupby(level = 0).mean())\n",
    "# 通过groupby做分组，重复的值这里用平均值处理"
   ]
  },
  {
   "cell_type": "code",
   "execution_count": 192,
   "metadata": {},
   "outputs": [
    {
     "data": {
      "text/plain": [
       "'\\n【课程2.13】  时间序列 - 重采样\\n\\n将时间序列从一个频率转换为另一个频率的过程，且会有数据的结合\\n\\n降采样：高频数据 → 低频数据，eg.以天为频率的数据转为以月为频率的数据\\n升采样：低频数据 → 高频数据，eg.以年为频率的数据转为以月为频率的数据\\n \\n'"
      ]
     },
     "execution_count": 192,
     "metadata": {},
     "output_type": "execute_result"
    }
   ],
   "source": [
    "'''\n",
    "【课程2.13】  时间序列 - 重采样\n",
    "\n",
    "将时间序列从一个频率转换为另一个频率的过程，且会有数据的结合\n",
    "\n",
    "降采样：高频数据 → 低频数据，eg.以天为频率的数据转为以月为频率的数据\n",
    "升采样：低频数据 → 高频数据，eg.以年为频率的数据转为以月为频率的数据\n",
    " \n",
    "'''"
   ]
  },
  {
   "cell_type": "code",
   "execution_count": 201,
   "metadata": {},
   "outputs": [
    {
     "name": "stdout",
     "output_type": "stream",
     "text": [
      "2019-03-14    0.528081\n",
      "2019-03-15    0.069744\n",
      "2019-03-16    0.500521\n",
      "2019-03-17    0.899116\n",
      "2019-03-18    0.673865\n",
      "2019-03-19    0.833451\n",
      "2019-03-20    0.087005\n",
      "2019-03-21    0.658345\n",
      "2019-03-22    0.605182\n",
      "2019-03-23    0.129030\n",
      "2019-03-24    0.531064\n",
      "Freq: D, dtype: float64\n",
      "2019-03-14    2.671327\n",
      "2019-03-19    2.313013\n",
      "2019-03-24    0.531064\n",
      "Freq: 5D, dtype: float64\n",
      "--------\n",
      "2019-03-14    0.534265\n",
      "2019-03-19    0.462603\n",
      "2019-03-24    0.531064\n",
      "Freq: 5D, dtype: float64 → 求平均值\n",
      "\n",
      "2019-03-14    0.899116\n",
      "2019-03-19    0.833451\n",
      "2019-03-24    0.531064\n",
      "Freq: 5D, dtype: float64 → 求最大值\n",
      "\n",
      "2019-03-14    0.069744\n",
      "2019-03-19    0.087005\n",
      "2019-03-24    0.531064\n",
      "Freq: 5D, dtype: float64 → 求最小值\n",
      "\n",
      "2019-03-14    0.528081\n",
      "2019-03-19    0.605182\n",
      "2019-03-24    0.531064\n",
      "Freq: 5D, dtype: float64 → 求中值\n",
      "\n",
      "2019-03-14    0.528081\n",
      "2019-03-19    0.833451\n",
      "2019-03-24    0.531064\n",
      "Freq: 5D, dtype: float64 → 返回第一个值\n",
      "\n",
      "2019-03-14    0.673865\n",
      "2019-03-19    0.129030\n",
      "2019-03-24    0.531064\n",
      "Freq: 5D, dtype: float64 → 返回最后一个值\n",
      "\n",
      "                open      high       low     close\n",
      "2019-03-14  0.528081  0.899116  0.069744  0.673865\n",
      "2019-03-19  0.833451  0.833451  0.087005  0.129030\n",
      "2019-03-24  0.531064  0.531064  0.531064  0.531064 → OHLC重采样\n",
      "\n"
     ]
    }
   ],
   "source": [
    "# 重采样：.resample()\n",
    "# 创建一个以天为频率的TimeSeries，重采样为按天为频率\n",
    "\n",
    "rng = pd.date_range('20190314',periods=11)\n",
    "ts = pd.Series(np.random.rand(len(rng)),index = rng)\n",
    "print(ts)\n",
    "ts_re = ts.resample('5D').sum()  #一定要加sum（）\n",
    "print(ts_re)\n",
    "# ts.resample('5D')：得到一个重采样构建器，频率改为5天\n",
    "# ts.resample('5D').sum():得到一个新的聚合后的Series，聚合方式为求和\n",
    "# freq：重采样频率 → ts.resample('5D')\n",
    "# .sum()：聚合方法\n",
    "print('--------')\n",
    "print(ts.resample('5D').mean(),'→ 求平均值\\n')\n",
    "print(ts.resample('5D').max(),'→ 求最大值\\n')\n",
    "print(ts.resample('5D').min(),'→ 求最小值\\n')\n",
    "print(ts.resample('5D').median(),'→ 求中值\\n')\n",
    "print(ts.resample('5D').first(),'→ 返回第一个值\\n')\n",
    "print(ts.resample('5D').last(),'→ 返回最后一个值\\n')\n",
    "print(ts.resample('5D').ohlc(),'→ OHLC重采样\\n')\n",
    "# OHLC:金融领域的时间序列聚合方式 → open开盘、high最大值、low最小值、close收盘"
   ]
  },
  {
   "cell_type": "code",
   "execution_count": 15,
   "metadata": {},
   "outputs": [
    {
     "name": "stdout",
     "output_type": "stream",
     "text": [
      "2017-01-01     6\n",
      "2017-01-02     7\n",
      "2017-01-03     8\n",
      "2017-01-04     9\n",
      "2017-01-05    10\n",
      "2017-01-06    11\n",
      "2017-01-07    12\n",
      "2017-01-08    13\n",
      "2017-01-09    14\n",
      "Freq: D, dtype: int32\n",
      "2017-01-01    21\n",
      "2017-01-04    30\n",
      "2017-01-07    39\n",
      "Freq: 3D, dtype: int32 → 默认\n",
      "\n",
      "2017-01-01    21\n",
      "2017-01-04    30\n",
      "2017-01-07    39\n",
      "Freq: 3D, dtype: int32 → left\n",
      " [ 6  7  8  9 10 11 12 13 14]\n",
      "2016-12-29     6\n",
      "2017-01-01    24\n",
      "2017-01-04    33\n",
      "2017-01-07    27\n",
      "Freq: 3D, dtype: int32 → right\n",
      "\n",
      "-----\n",
      "2017-01-01    21\n",
      "2017-01-04    30\n",
      "2017-01-07    39\n",
      "Freq: 3D, dtype: int32 → rightlabel\n",
      "\n"
     ]
    }
   ],
   "source": [
    "# 降采样\n",
    "import numpy as np\n",
    "import pandas as pd\n",
    "rng = pd.date_range('20170101', periods = 9)\n",
    "ts = pd.Series(np.arange(6,15), index = rng)\n",
    "print(ts)\n",
    "\n",
    "print(ts.resample('3D').sum(),'→ 默认\\n')\n",
    "print(ts.resample('3D', closed = 'left').sum(),'→ left\\n',ts.values)\n",
    "print(ts.resample('3D', closed = 'right').sum(),'→ right\\n')\n",
    "print('-----')\n",
    "# closed：各时间段哪一端是闭合（即包含）的，默认 左闭右开\n",
    "# 详解：这里values为0-11，按照5D重采样 → [1,2,3,4,5],[6,7,8,9,10],[11,12]\n",
    "# left指定间隔左边为结束 → [1,2,3,4,5],[6,7,8,9,10],[11,12]\n",
    "# right指定间隔右边为结束 → [1],[2,3,4,5,6],[7,8,9,10,11],[12]\n",
    "\n",
    "print(ts.resample('3D', label = 'left').sum(),'→ rightlabel\\n')"
   ]
  },
  {
   "cell_type": "code",
   "execution_count": 26,
   "metadata": {},
   "outputs": [
    {
     "name": "stdout",
     "output_type": "stream",
     "text": [
      "                      a   b   c   d\n",
      "2019-03-15 00:00:00   0   1   2   3\n",
      "2019-03-15 01:00:00   4   5   6   7\n",
      "2019-03-15 02:00:00   8   9  10  11\n",
      "2019-03-15 03:00:00  12  13  14  15\n",
      "                      a   b   c   d\n",
      "2019-03-15 00:00:00   0   1   2   3\n",
      "2019-03-15 00:30:00   0   1   2   3\n",
      "2019-03-15 01:00:00   4   5   6   7\n",
      "2019-03-15 01:30:00   4   5   6   7\n",
      "2019-03-15 02:00:00   8   9  10  11\n",
      "2019-03-15 02:30:00   8   9  10  11\n",
      "2019-03-15 03:00:00  12  13  14  15\n",
      "                        a     b     c     d\n",
      "2019-03-15 00:00:00   0.0   1.0   2.0   3.0\n",
      "2019-03-15 00:30:00   NaN   NaN   NaN   NaN\n",
      "2019-03-15 01:00:00   4.0   5.0   6.0   7.0\n",
      "2019-03-15 01:30:00   NaN   NaN   NaN   NaN\n",
      "2019-03-15 02:00:00   8.0   9.0  10.0  11.0\n",
      "2019-03-15 02:30:00   NaN   NaN   NaN   NaN\n",
      "2019-03-15 03:00:00  12.0  13.0  14.0  15.0\n",
      "                      a   b   c   d\n",
      "2019-03-15 00:00:00   0   1   2   3\n",
      "2019-03-15 00:30:00   4   5   6   7\n",
      "2019-03-15 01:00:00   4   5   6   7\n",
      "2019-03-15 01:30:00   8   9  10  11\n",
      "2019-03-15 02:00:00   8   9  10  11\n",
      "2019-03-15 02:30:00  12  13  14  15\n",
      "2019-03-15 03:00:00  12  13  14  15\n"
     ]
    }
   ],
   "source": [
    "#升采样\n",
    "rng = pd.date_range('20190315',periods = 4,freq = 'H')\n",
    "ts = pd.DataFrame(np.arange(16).reshape(4,4),index = rng,columns = list('abcd'))\n",
    "print(ts)\n",
    "print(ts.resample('30T').ffill())\n",
    "print(ts.resample('30T').asfreq())\n",
    "print(ts.resample('30T').bfill())"
   ]
  },
  {
   "cell_type": "code",
   "execution_count": 29,
   "metadata": {},
   "outputs": [
    {
     "name": "stdout",
     "output_type": "stream",
     "text": [
      "2016-09-09 2016-09-09 00:00:00\n"
     ]
    }
   ],
   "source": [
    "import datetime\n",
    "t = datetime.date(2016,9,9)\n",
    "t2 = datetime.datetime(2016,9,9)\n",
    "print(t,t2)"
   ]
  },
  {
   "cell_type": "markdown",
   "metadata": {},
   "source": [
    "\n"
   ]
  },
  {
   "cell_type": "code",
   "execution_count": 71,
   "metadata": {},
   "outputs": [
    {
     "name": "stdout",
     "output_type": "stream",
     "text": [
      "2019-03    0.794282\n",
      "2019-04    0.298006\n",
      "2019-05    0.567341\n",
      "2019-06    0.707786\n",
      "2019-07    0.360907\n",
      "Freq: M, dtype: float64\n",
      "                       values1    values2    values3\n",
      "2019-01-01 00:00:00  40.604938  66.414140   8.773476\n",
      "2019-01-01 01:00:00  86.928478  93.285641  23.819559\n",
      "2019-01-01 02:00:00  35.955234  94.312470  61.373451\n",
      "2019-01-01 03:00:00   6.843629  43.746021  70.552036\n",
      "2019-01-01 04:00:00  47.456684   0.293925  67.131797\n",
      "2019-01-01 05:00:00  44.507502  35.414244  45.486083\n",
      "2019-01-01 06:00:00  40.235906  33.592079  28.648118\n",
      "2019-01-01 07:00:00  47.912757  14.870647  16.913232\n",
      "2019-01-01 08:00:00  35.980488   2.518759  64.455930\n",
      "2019-01-01 09:00:00   2.528767  69.097587   0.392411\n",
      "                       values1    values2    values3\n",
      "2019-01-01 00:00:00  40.604938  66.414140   8.773476\n",
      "2019-01-01 01:00:00  86.928478  93.285641  23.819559\n",
      "2019-01-01 02:00:00  35.955234  94.312470  61.373451\n",
      "2019-01-01 03:00:00   6.843629  43.746021  70.552036\n",
      "values1    47.912757\n",
      "values2    14.870647\n",
      "values3    16.913232\n",
      "Name: 2019-01-01 07:00:00, dtype: float64\n",
      "                       values1    values2    values3\n",
      "2019-01-01 04:00:00  47.456684   0.293925  67.131797\n",
      "2019-01-01 05:00:00  44.507502  35.414244  45.486083\n",
      "2020-09-08    0.010316\n",
      "2020-09-09    0.743870\n",
      "2020-09-10    0.519070\n",
      "2020-09-11    0.879475\n",
      "2020-09-12    0.101521\n",
      "2020-09-13    0.215179\n",
      "2020-09-14    0.863627\n",
      "2020-09-15    0.115813\n",
      "2020-09-16    0.503261\n",
      "2020-09-17    0.139091\n",
      "Freq: D, dtype: float64\n",
      "2020-09-08    0.424419\n",
      "2020-09-11    0.398725\n",
      "2020-09-14    0.494233\n",
      "2020-09-17    0.139091\n",
      "Freq: 3D, dtype: float64\n",
      "2020-09-08 00:00:00    0.010316\n",
      "2020-09-08 12:00:00    0.010316\n",
      "2020-09-09 00:00:00    0.743870\n",
      "2020-09-09 12:00:00    0.743870\n",
      "2020-09-10 00:00:00    0.519070\n",
      "2020-09-10 12:00:00    0.519070\n",
      "2020-09-11 00:00:00    0.879475\n",
      "2020-09-11 12:00:00    0.879475\n",
      "2020-09-12 00:00:00    0.101521\n",
      "2020-09-12 12:00:00    0.101521\n",
      "2020-09-13 00:00:00    0.215179\n",
      "2020-09-13 12:00:00    0.215179\n",
      "2020-09-14 00:00:00    0.863627\n",
      "2020-09-14 12:00:00    0.863627\n",
      "2020-09-15 00:00:00    0.115813\n",
      "2020-09-15 12:00:00    0.115813\n",
      "2020-09-16 00:00:00    0.503261\n",
      "2020-09-16 12:00:00    0.503261\n",
      "2020-09-17 00:00:00    0.139091\n",
      "Freq: 12H, dtype: float64\n"
     ]
    }
   ],
   "source": [
    "#作业练习\n",
    "prng = pd.period_range('20190304',periods = 5,freq = 'M')\n",
    "ts = pd.Series(np.random.rand(len(prng)),index = prng)\n",
    "print(ts)\n",
    "\n",
    "rng = pd.date_range('20190101',freq = 'H',periods = 10)\n",
    "ts1 = pd.DataFrame(np.random.rand(len(rng),3)*100,index = rng,columns = ['values1','values2','values3'])\n",
    "print(ts1)\n",
    "print(ts1[:4])\n",
    "print(ts1.loc['2019-01-01 07:00:00'])\n",
    "print(ts1['2019-01-01 04:00:00':'2019-01-01 05:00:00'])\n",
    "\n",
    "prng1 = pd.period_range('20200908',periods = 10,freq = 'D')\n",
    "ts2 = pd.Series(np.random.rand(len(prng1)),index = prng1)\n",
    "print(ts2)\n",
    "print(ts2.resample('3D').mean())\n",
    "print(ts2.resample('12H').ffill())"
   ]
  }
 ],
 "metadata": {
  "anaconda-cloud": {},
  "kernelspec": {
   "display_name": "Python 3",
   "language": "python",
   "name": "python3"
  },
  "language_info": {
   "codemirror_mode": {
    "name": "ipython",
    "version": 3
   },
   "file_extension": ".py",
   "mimetype": "text/x-python",
   "name": "python",
   "nbconvert_exporter": "python",
   "pygments_lexer": "ipython3",
   "version": "3.7.3"
  }
 },
 "nbformat": 4,
 "nbformat_minor": 1
}
