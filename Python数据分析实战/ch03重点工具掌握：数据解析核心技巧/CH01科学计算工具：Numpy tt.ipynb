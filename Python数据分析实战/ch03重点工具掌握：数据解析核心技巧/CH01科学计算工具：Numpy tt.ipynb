{
 "cells": [
  {
   "cell_type": "code",
   "execution_count": 1,
   "metadata": {},
   "outputs": [
    {
     "data": {
      "text/plain": [
       "'\\n【课程1.2】  Numpy基础数据结构\\n\\nNumPy数组是一个多维数组对象，称为ndarray。其由两部分组成：\\n① 实际的数据\\n② 描述这些数据的元数据\\n\\n'"
      ]
     },
     "execution_count": 1,
     "metadata": {},
     "output_type": "execute_result"
    }
   ],
   "source": [
    "'''\n",
    "【课程1.2】  Numpy基础数据结构\n",
    "\n",
    "NumPy数组是一个多维数组对象，称为ndarray。其由两部分组成：\n",
    "① 实际的数据\n",
    "② 描述这些数据的元数据\n",
    "\n",
    "'''"
   ]
  },
  {
   "cell_type": "code",
   "execution_count": 1,
   "metadata": {},
   "outputs": [
    {
     "name": "stdout",
     "output_type": "stream",
     "text": [
      "[[ 1  2  3  4  5]\n",
      " [ 5  6  7  8  9]\n",
      " [90 78 34 56 76]]\n",
      "2\n",
      "(3, 5)\n",
      "15\n",
      "int32\n",
      "4\n",
      "<memory at 0x00000137907D38B8>\n",
      "[[ 1  2  3]\n",
      " [ 4  5  5]\n",
      " [ 6  7  8]\n",
      " [ 9 90 78]\n",
      " [34 56 76]]\n"
     ]
    }
   ],
   "source": [
    "import numpy as np\n",
    "ar = np.array([[1,2,3,4,5],[5,6,7,8,9],[90,78,34,56,76]])\n",
    "print(ar)\n",
    "print(ar.ndim)  #计算是几维数组\n",
    "print(ar.shape) #指的是它的形状，3行5列\n",
    "print(ar.size) #数组里面元素的个数\n",
    "print(ar.dtype)  #判断数组里元素的类型\n",
    "print(ar.itemsize) #元素的字节大小\n",
    "print(ar.data)  #判断元素的位置\n",
    "print(ar.reshape(5,3))"
   ]
  },
  {
   "cell_type": "code",
   "execution_count": 42,
   "metadata": {},
   "outputs": [
    {
     "name": "stdout",
     "output_type": "stream",
     "text": [
      "2\n",
      "[[0 1 2 3 4 5 6 7 8 9]]\n",
      "[0 1 2 3 4]\n",
      "[1 2 3 4 5]\n",
      "[[ 0.85042013  0.52700161  0.36614535  0.23687106  0.02945469]\n",
      " [ 0.21993611  0.77845989  0.38350156  0.08635254  0.35035397]]\n"
     ]
    }
   ],
   "source": [
    "#数组的创建\n",
    "ar1 = np.array([range(10)])\n",
    "print(ar1.ndim)\n",
    "ar2 = np.arange(5)\n",
    "ar3 = np.array([1,2,3,4,5])\n",
    "print(ar1)\n",
    "print(ar2)\n",
    "print(ar3)\n",
    "print(np.random.rand(10).reshape(2,5))"
   ]
  },
  {
   "cell_type": "code",
   "execution_count": 43,
   "metadata": {},
   "outputs": [
    {
     "name": "stdout",
     "output_type": "stream",
     "text": [
      "[0 1 2 3 4 5 6 7 8 9]\n",
      "[ 0.  1.  2.  3.  4.  5.  6.  7.  8.  9.]\n",
      "[ 5  6  7  8  9 10 11]\n",
      "[  5.   7.   9.  11.]\n",
      "[   0    1    2 ..., 9997 9998 9999]\n"
     ]
    }
   ],
   "source": [
    "# 创建数组：arange()，类似range()，在给定间隔内返回均匀间隔的值。\n",
    "\n",
    "print(np.arange(10))    # 返回0-9，整型\n",
    "print(np.arange(10.0))  # 返回0.0-9.0，浮点型\n",
    "print(np.arange(5,12))  # 返回5-11\n",
    "print(np.arange(5.0,12,2))  # 返回5.0-12.0，步长为2\n",
    "print(np.arange(10000))  # 如果数组太大而无法打印，NumPy会自动跳过数组的中心部分，并只打印边角："
   ]
  },
  {
   "cell_type": "code",
   "execution_count": 54,
   "metadata": {},
   "outputs": [
    {
     "name": "stdout",
     "output_type": "stream",
     "text": [
      "[ 10.  11.  12.  13.  14.  15.  16.  17.  18.  19.]\n",
      "[ 10.          11.11111111  12.22222222  13.33333333  14.44444444\n",
      "  15.55555556  16.66666667  17.77777778  18.88888889  20.        ]\n",
      "[ 10.          11.11111111  12.22222222  13.33333333  14.44444444\n",
      "  15.55555556  16.66666667  17.77777778  18.88888889  20.        ]\n",
      "[ 10.  11.  12.  13.  14.  15.  16.  17.  18.  19.]\n",
      "[ 10.          11.11111111  12.22222222  13.33333333  14.44444444\n",
      "  15.55555556  16.66666667  17.77777778  18.88888889  20.        ]\n",
      "(array([ 10.        ,  11.11111111,  12.22222222,  13.33333333,\n",
      "        14.44444444,  15.55555556,  16.66666667,  17.77777778,\n",
      "        18.88888889,  20.        ]), 1.1111111111111112)\n",
      "1.1111111111111112\n"
     ]
    }
   ],
   "source": [
    "#linespace 间隔取数\n",
    "print(np.linspace(10,19,num = 10)) #10到19已经有了10个数，10|10 = 1\n",
    "print(np.linspace(10,20,num = 10))  #10到20有11个数，11|10 =1.1\n",
    "\n",
    "\n",
    "print(np.linspace(10,20,num = 10,endpoint = True)) #指的是包含最后一个值\n",
    "print(np.linspace(10,20,num = 10,endpoint = False)) #指的是不包含最后一个值\n",
    "\n",
    "\n",
    "print(np.linspace(10,20,num = 10,retstep = False))   #计算间隔值\n",
    "print(np.linspace(10,20,num = 10,retstep = True)) \n",
    "\n",
    "s = np.linspace(10,20,num = 10,retstep = True)\n",
    "print(s[1])"
   ]
  },
  {
   "cell_type": "code",
   "execution_count": 69,
   "metadata": {},
   "outputs": [
    {
     "name": "stdout",
     "output_type": "stream",
     "text": [
      "[ 0.  0.]\n",
      "[[0 0 0 0 0]\n",
      " [0 0 0 0 0]]\n",
      "[[[ 0.  0.  0.  0.  0.  0.]\n",
      "  [ 0.  0.  0.  0.  0.  0.]\n",
      "  [ 0.  0.  0.  0.  0.  0.]\n",
      "  [ 0.  0.  0.  0.  0.  0.]\n",
      "  [ 0.  0.  0.  0.  0.  0.]]\n",
      "\n",
      " [[ 0.  0.  0.  0.  0.  0.]\n",
      "  [ 0.  0.  0.  0.  0.  0.]\n",
      "  [ 0.  0.  0.  0.  0.  0.]\n",
      "  [ 0.  0.  0.  0.  0.  0.]\n",
      "  [ 0.  0.  0.  0.  0.  0.]]]\n",
      "[[ 0  1  2  3  4  5  6  7  8  9]\n",
      " [90 91 92 93 94 95 96 97 98 99]]\n",
      "[[0 0 0 0 0 0 0 0 0 0]\n",
      " [0 0 0 0 0 0 0 0 0 0]]\n"
     ]
    }
   ],
   "source": [
    "# 创建数组：zeros()/zeros_like()/ones()/ones_like()\n",
    "print(np.zeros(2))\n",
    "print(np.zeros((2,5),dtype = np.int))  #默认元素类型是浮点型\n",
    "print(np.zeros((2,5,6)))  #两组元素，5行6列\n",
    "\n",
    "\n",
    "ar = np.array([list(range(10)),list(range(90,100))])\n",
    "print(ar)\n",
    "ar2 = np.zeros_like(ar)  #构建相同形状的数组，用0填充数组\n",
    "print(ar2)\n",
    "#ones是构建元素为1的数组，和zeros道理一样"
   ]
  },
  {
   "cell_type": "code",
   "execution_count": 71,
   "metadata": {},
   "outputs": [
    {
     "name": "stdout",
     "output_type": "stream",
     "text": [
      "[[ 1.  0.  0.  0.]\n",
      " [ 0.  1.  0.  0.]\n",
      " [ 0.  0.  1.  0.]\n",
      " [ 0.  0.  0.  1.]]\n"
     ]
    }
   ],
   "source": [
    "#eye(),创建一个矩阵数组\n",
    "print(np.eye(4))"
   ]
  },
  {
   "cell_type": "code",
   "execution_count": 82,
   "metadata": {},
   "outputs": [
    {
     "name": "stdout",
     "output_type": "stream",
     "text": [
      "[ 5  6  7  8  9 10 11 12 13 14] (10,)\n",
      "[1 2 'a' ['hello world'] {'two': 200, 'done': 100}] (5,)\n",
      "[['0' '1' '2' '3' '4']\n",
      " ['a' 'b' 'c' 'd' 'e']]\n",
      "[[ 0.  0.  0.  0.]\n",
      " [ 0.  0.  0.  0.]\n",
      " [ 0.  0.  0.  0.]\n",
      " [ 0.  0.  0.  0.]]\n",
      "[[ 1.  1.  1.]\n",
      " [ 1.  1.  1.]]\n",
      "[[ 1.  0.  0.]\n",
      " [ 0.  1.  0.]\n",
      " [ 0.  0.  1.]]\n"
     ]
    }
   ],
   "source": [
    "#作业练习\n",
    "ar1 = np.arange(5,15)\n",
    "print(ar1,ar1.shape)\n",
    "ar2 = np.array([1,2,'a',['hello world'],{'two':200,'done':100}])\n",
    "print(ar2,ar2.shape)\n",
    "ar3 = np.array([list(range(5)),['a','b','c','d','e']])\n",
    "print(ar3)\n",
    "\n",
    "ar4 = np.zeros((4,4))\n",
    "print(ar4)\n",
    "ar5 = np.ones((2,3))\n",
    "print(ar5)\n",
    "ar6 = np.eye(3)\n",
    "print(ar6)"
   ]
  },
  {
   "cell_type": "code",
   "execution_count": 83,
   "metadata": {},
   "outputs": [
    {
     "data": {
      "text/plain": [
       "'\\n【课程1.3】  Numpy通用函数\\n\\n基本操作\\n\\n'"
      ]
     },
     "execution_count": 83,
     "metadata": {},
     "output_type": "execute_result"
    }
   ],
   "source": [
    "'''\n",
    "【课程1.3】  Numpy通用函数\n",
    "\n",
    "基本操作\n",
    "\n",
    "'''"
   ]
  },
  {
   "cell_type": "code",
   "execution_count": 102,
   "metadata": {},
   "outputs": [
    {
     "name": "stdout",
     "output_type": "stream",
     "text": [
      "[0 1 2 3 4 5 6 7 8 9]\n",
      "[[ 1.  1.  1.  1.]\n",
      " [ 1.  1.  1.  1.]\n",
      " [ 1.  1.  1.  1.]\n",
      " [ 1.  1.  1.  1.]] \n",
      " [[ 1.  1.  1.  1.]\n",
      " [ 1.  1.  1.  1.]\n",
      " [ 1.  1.  1.  1.]\n",
      " [ 1.  1.  1.  1.]]\n",
      "[[ 1.  1.  1.  1.  1.  1.  1.  1.]\n",
      " [ 1.  1.  1.  1.  1.  1.  1.  1.]]\n",
      "[[ 0  1  2  3  4]\n",
      " [ 5  6  7  8  9]\n",
      " [10 11 12 13 14]\n",
      " [15 16 17 18 19]]\n",
      "--------------------------------\n",
      "[[0 1 2 3]\n",
      " [4 0 1 2]\n",
      " [3 4 0 1]]\n"
     ]
    }
   ],
   "source": [
    "#数组形状\n",
    "ar1 = np.arange(10)\n",
    "print(ar1.T)\n",
    " \n",
    "ar2 = np.ones((4,4))\n",
    "print(ar2,'\\n',ar2.T)  #数组的转置\n",
    "print(ar2.reshape(2,8))  #改变数组的形状，元素数目要求一样\n",
    "\n",
    "print(np.reshape(np.arange(20),(4,5)))  #可以直接改 \n",
    "print('--------------------------------')\n",
    "\n",
    "print(np.resize(np.arange(5),(3,4)))  #可以改变元素个数，多了删除，少了可以用零填充"
   ]
  },
  {
   "cell_type": "code",
   "execution_count": 2,
   "metadata": {},
   "outputs": [
    {
     "name": "stdout",
     "output_type": "stream",
     "text": [
      "[  0 100   2   3   4   5   6   7   8   9]\n",
      "[   0  100 1000    3    4    5    6    7    8    9]\n",
      "[  0 100   2   3   4   5   6   7   8   9]\n",
      "-------------\n",
      "[[0 1 2 3 4]\n",
      " [5 6 7 8 9]]\n"
     ]
    }
   ],
   "source": [
    "#数组的复制\n",
    "import numpy as np\n",
    "ar1 = np.arange(10)\n",
    "ar2 = ar1\n",
    "ar2[1] = 100\n",
    "print(ar1)  #ar1 和ar2指向通一个值，所以会一起改变\n",
    "\n",
    "ar3 = ar1.copy()  #不会改变ar1的值\n",
    "ar3[2] = 1000\n",
    "print(ar3)\n",
    "print(ar1) \n",
    "print('-------------')\n",
    "s = np.arange(10)\n",
    "print(np.resize(s,(2,5)))"
   ]
  },
  {
   "cell_type": "code",
   "execution_count": 6,
   "metadata": {},
   "outputs": [
    {
     "name": "stdout",
     "output_type": "stream",
     "text": [
      "[ 0.  1.  2.  3.  4.  5.  6.  7.  8.  9.] float64\n",
      "[0 1 2 3 4 5 6 7 8 9] int64\n"
     ]
    }
   ],
   "source": [
    "#数据类型转换 astype()\n",
    "ar1 = np.arange(10,dtype = float)\n",
    "ar2 = ar1.astype(np.int64)\n",
    "print(ar1,ar1.dtype)\n",
    "print(ar2,ar2.dtype)"
   ]
  },
  {
   "cell_type": "code",
   "execution_count": 23,
   "metadata": {},
   "outputs": [
    {
     "name": "stdout",
     "output_type": "stream",
     "text": [
      "[0 1 2 3 4 5]\n",
      "[4 5 6 7 8 9]\n",
      "[0 1 2 3 4 5 4 5 6 7 8 9]\n",
      "[[0 1 2 3 4 5]\n",
      " [4 5 6 7 8 9]]\n",
      "[[0 4]\n",
      " [1 5]\n",
      " [2 6]\n",
      " [3 7]\n",
      " [4 8]\n",
      " [5 9]]\n",
      "[[0 1 2 3 4 5]\n",
      " [4 5 6 7 8 9]]\n"
     ]
    }
   ],
   "source": [
    "#数据堆叠\n",
    "ar1 = np.arange(6)\n",
    "ar2 = np.arange(4,10)\n",
    "print(ar1)\n",
    "print(ar2)\n",
    "print(np.hstack((ar1,ar2)))  #横向堆叠p\n",
    "\n",
    "print(np.vstack((ar1,ar2)))  #纵向堆叠\n",
    "\n",
    "print(np.stack((ar1,ar2),axis=1)) #转置堆叠\n",
    "print(np.stack((ar1,ar2),axis=0))  #纵向堆叠"
   ]
  },
  {
   "cell_type": "code",
   "execution_count": 3,
   "metadata": {},
   "outputs": [
    {
     "name": "stdout",
     "output_type": "stream",
     "text": [
      "[[ 0  1  2  3]\n",
      " [ 4  5  6  7]\n",
      " [ 8  9 10 11]\n",
      " [12 13 14 15]]\n",
      "[array([[ 0,  1],\n",
      "       [ 4,  5],\n",
      "       [ 8,  9],\n",
      "       [12, 13]]), array([[ 2,  3],\n",
      "       [ 6,  7],\n",
      "       [10, 11],\n",
      "       [14, 15]])]\n",
      "[array([[ 0,  1,  2,  3],\n",
      "       [ 4,  5,  6,  7],\n",
      "       [ 8,  9, 10, 11],\n",
      "       [12, 13, 14, 15]])]\n"
     ]
    }
   ],
   "source": [
    "#数组的拆分\n",
    "ar = np.arange(16).reshape(4,4)\n",
    "# ar1 = np.reshape(np.arange(16),(4,4))\n",
    "print(ar)\n",
    "print(np.hsplit(ar,2))  #纵向拆分\n",
    "print(np.vsplit(ar,1))  #横向拆分"
   ]
  },
  {
   "cell_type": "code",
   "execution_count": 59,
   "metadata": {},
   "outputs": [
    {
     "name": "stdout",
     "output_type": "stream",
     "text": [
      "[[0 1 2 3]\n",
      " [4 5 6 7]]\n",
      "[[ 6  7  8  9]\n",
      " [10 11 12 13]]\n",
      "[[ 0  2  4  6]\n",
      " [ 8 10 12 14]]\n",
      "[[ 0.   0.5  1.   1.5]\n",
      " [ 2.   2.5  3.   3.5]]\n",
      "[[ 0  1  4  9]\n",
      " [16 25 36 49]]\n",
      "3.5\n",
      "7\n",
      "0\n",
      "2.29128784748\n",
      "5.25\n",
      "28 [ 6 22]\n"
     ]
    },
    {
     "data": {
      "text/plain": [
       "array([[0, 1, 2, 3],\n",
       "       [4, 5, 6, 7]])"
      ]
     },
     "execution_count": 59,
     "metadata": {},
     "output_type": "execute_result"
    }
   ],
   "source": [
    "#数组的简单运算\n",
    "ar = np.arange(8).reshape(2,4)\n",
    "print(ar)\n",
    "print(ar + 6)\n",
    "print(ar*2)\n",
    "print(ar/2)\n",
    "print(ar**2)  #幂的运算\n",
    "\n",
    "print(ar.mean())  # 求平均值\n",
    "print(ar.max())  # 求最大值\n",
    "print(ar.min())  # 求最小值\n",
    "print(ar.std())  # 求标准差\n",
    "print(ar.var())  # 求方差\n",
    "\n",
    "print(ar.sum(),np.sum(ar,axis=1)) #求和，np.sum() → axis为0，按列求和；axis为1，按行求和\n",
    "np.sort(ar)"
   ]
  },
  {
   "cell_type": "code",
   "execution_count": 74,
   "metadata": {},
   "outputs": [
    {
     "name": "stdout",
     "output_type": "stream",
     "text": [
      "[[ 0  1  2  3  4]\n",
      " [ 5  6  7  8  9]\n",
      " [10 11 12 13 14]\n",
      " [15 16 17 18 19]]\n",
      "[[ 0  1  2  3  4  5]\n",
      " [ 6  7  8  9 10 11]\n",
      " [12 13 14 15 16 17]\n",
      " [18 19  0  1  2  3]\n",
      " [ 4  5  6  7  8  9]]\n",
      "[[ 0  1  2  3]\n",
      " [ 4  5  6  7]\n",
      " [ 8  9 10 11]\n",
      " [12 13 14 15]]\n",
      "[['0' '1' '2' '3']\n",
      " ['4' '5' '6' '7']\n",
      " ['8' '9' '10' '11']\n",
      " ['12' '13' '14' '15']]\n",
      "[[100 110 120 130]\n",
      " [140 150 160 170]\n",
      " [180 190 200 210]\n",
      " [220 230 240 250]]\n",
      "175.0\n",
      "2800\n"
     ]
    }
   ],
   "source": [
    "#作业练习\n",
    "ar1 = np.arange(20).reshape(4,5)\n",
    "print(ar1)\n",
    "ar2 = np.resize(ar1,(5,6))\n",
    "print(ar2)\n",
    "\n",
    "ar3 = np.arange(16).reshape(4,4)\n",
    "print(ar3)\n",
    "ar4 = ar3.astype(str)\n",
    "print(ar4)\n",
    "\n",
    "ar5 = np.arange(16).reshape(4,4)\n",
    "result = ar5*10+100\n",
    "print(result)\n",
    "print(result.mean())\n",
    "print(result.sum())"
   ]
  },
  {
   "cell_type": "code",
   "execution_count": 75,
   "metadata": {},
   "outputs": [
    {
     "data": {
      "text/plain": [
       "'\\n【课程1.4】  Numpy索引及切片\\n\\n核心：基本索引及切片 / 布尔型索引及切片\\n\\n'"
      ]
     },
     "execution_count": 75,
     "metadata": {},
     "output_type": "execute_result"
    }
   ],
   "source": [
    "'''\n",
    "【课程1.4】  Numpy索引及切片\n",
    "\n",
    "核心：基本索引及切片 / 布尔型索引及切片\n",
    "\n",
    "'''"
   ]
  },
  {
   "cell_type": "code",
   "execution_count": 92,
   "metadata": {},
   "outputs": [
    {
     "name": "stdout",
     "output_type": "stream",
     "text": [
      "[[ 0  1  2  3]\n",
      " [ 4  5  6  7]\n",
      " [ 8  9 10 11]\n",
      " [12 13 14 15]]\n",
      "----------------\n",
      "[12 13 14 15]\n",
      "----------------\n",
      "[[ 4  5  6  7]\n",
      " [ 8  9 10 11]]\n",
      "----------------\n",
      "11\n",
      "11\n",
      "----------------\n",
      "[[2 3]\n",
      " [6 7]]\n",
      "----------------\n",
      "[[[ 0  1]\n",
      "  [ 2  3]]\n",
      "\n",
      " [[ 4  5]\n",
      "  [ 6  7]]\n",
      "\n",
      " [[ 8  9]\n",
      "  [10 11]]]\n",
      "----------------\n",
      "7\n"
     ]
    }
   ],
   "source": [
    "#二维数组\n",
    "ar = np.arange(16).reshape(4,4)\n",
    "print(ar)\n",
    "print('----------------')\n",
    "print(ar[3])\n",
    "print('----------------')\n",
    "print(ar[1:3])\n",
    "print('----------------')\n",
    "print(ar[2,3])\n",
    "print(ar[2][3])\n",
    "print('----------------')\n",
    "print(ar[:2,2:])\n",
    "\n",
    "print('----------------')\n",
    "#三维数组\n",
    "ar1 = np.arange(12).reshape(3,2,2)\n",
    "print(ar1)\n",
    "print('----------------')\n",
    "print(ar1[1][1][1])"
   ]
  },
  {
   "cell_type": "code",
   "execution_count": 100,
   "metadata": {},
   "outputs": [
    {
     "name": "stdout",
     "output_type": "stream",
     "text": [
      "[[ 0  1  2  3]\n",
      " [ 4  5  6  7]\n",
      " [ 8  9 10 11]]\n",
      "[ 0 10]\n",
      "[[ 0  1  2  3]\n",
      " [ 8  9 10 11]]\n",
      "[[ 0  2]\n",
      " [ 4  6]\n",
      " [ 8 10]]\n",
      "[[False False False False]\n",
      " [False False  True  True]\n",
      " [ True  True  True  True]]\n",
      "[ 6  7  8  9 10 11]\n"
     ]
    }
   ],
   "source": [
    "#布尔索引及切片\n",
    "ar = np.arange(12).reshape(3,4)\n",
    "print(ar)\n",
    "i = np.array([True,False,True])\n",
    "j = np.array([True,False,True,False])\n",
    "print(ar[i,j])\n",
    "print(ar[i,:])  # 在第一维度做判断，只保留True，这里第一维度就是行，ar[i,:] = ar[i]（简单书写格式）\n",
    "print(ar[:,j])  # 在第二维度做判断，这里如果ar[:,i]会有警告，因为i是3个元素，而ar在列上有4个\n",
    "# 布尔型索引：以布尔型的矩阵去做筛选\n",
    "\n",
    "print(ar>5)\n",
    "print(ar[ar>5])"
   ]
  },
  {
   "cell_type": "code",
   "execution_count": 102,
   "metadata": {},
   "outputs": [
    {
     "name": "stdout",
     "output_type": "stream",
     "text": [
      "[0 1 2 3 4 5 6 7 8 9]\n",
      "[  0   1   2   3   4 100   6 200 200   9]\n",
      "[0 1 2 3 4 5 6 7 8 9]\n",
      "[  0   1   2   3   4   5   6 200 200   9]\n"
     ]
    }
   ],
   "source": [
    "# 数组索引及切片的值更改、复制\n",
    "\n",
    "ar = np.arange(10)\n",
    "print(ar)\n",
    "ar[5] = 100\n",
    "ar[7:9] = 200\n",
    "print(ar)\n",
    "# 一个标量赋值给一个索引/切片时，会自动改变/传播原始数组\n",
    "\n",
    "ar = np.arange(10)\n",
    "b = ar.copy()\n",
    "b[7:9] = 200\n",
    "print(ar)\n",
    "print(b)\n",
    "# 复制"
   ]
  },
  {
   "cell_type": "code",
   "execution_count": 107,
   "metadata": {},
   "outputs": [
    {
     "name": "stdout",
     "output_type": "stream",
     "text": [
      "[[0 1 2 3 4]\n",
      " [5 6 7 8 9]]\n",
      "[6 7 8 9]\n"
     ]
    }
   ],
   "source": [
    "#作业练习\n",
    "ar = np.arange(10).reshape(2,5)\n",
    "print(ar)\n",
    "ar1 = ar[ar>5]\n",
    "print(ar1)"
   ]
  },
  {
   "cell_type": "code",
   "execution_count": 116,
   "metadata": {},
   "outputs": [
    {
     "name": "stdout",
     "output_type": "stream",
     "text": [
      "[[ 0.53184917  0.57339138]\n",
      " [ 0.17328248  0.76154472]\n",
      " [ 0.69317886  0.03653712]\n",
      " [ 0.43122021  0.85824141]]\n",
      "----------------------\n",
      "[[ 0.84799085 -0.38210623]\n",
      " [-0.43488835  0.76976119]]\n"
     ]
    },
    {
     "data": {
      "text/plain": [
       "<matplotlib.collections.PathCollection at 0x2706101e048>"
      ]
     },
     "execution_count": 116,
     "metadata": {},
     "output_type": "execute_result"
    },
    {
     "data": {
      "image/png": "[encoded data removed]",
      "text/plain": [
       "<matplotlib.figure.Figure at 0x27060887978>"
      ]
     },
     "metadata": {},
     "output_type": "display_data"
    }
   ],
   "source": [
    "#随机数生成\n",
    "b = np.random.normal(size=(2,2)) #生成正态分布的数据\n",
    "\n",
    "a = np.random.rand(4,2)\n",
    "print(a)\n",
    "print('----------------------')\n",
    "print(b)\n",
    "\n",
    "# numpy.random.rand(d0, d1, ..., dn)：生成一个[0,1)之间的随机浮点数或N维浮点数组 —— 均匀分布\n",
    "data1 = np.random.rand(500)\n",
    "data2 = np.random.rand(500)\n",
    "import matplotlib.pyplot as plt\n",
    "%matplotlib inline\n",
    "plt.scatter(data1,data2)  #散点图"
   ]
  },
  {
   "cell_type": "code",
   "execution_count": 9,
   "metadata": {},
   "outputs": [
    {
     "ename": "NameError",
     "evalue": "name 'plt' is not defined",
     "output_type": "error",
     "traceback": [
      "\u001b[0;31m---------------------------------------------------------------------------\u001b[0m",
      "\u001b[0;31mNameError\u001b[0m                                 Traceback (most recent call last)",
      "\u001b[0;32m<ipython-input-9-d1672e56dca4>\u001b[0m in \u001b[0;36m<module>\u001b[0;34m()\u001b[0m\n\u001b[1;32m      2\u001b[0m \u001b[0mdata1\u001b[0m \u001b[1;33m=\u001b[0m \u001b[0mnp\u001b[0m\u001b[1;33m.\u001b[0m\u001b[0mrandom\u001b[0m\u001b[1;33m.\u001b[0m\u001b[0mrandn\u001b[0m\u001b[1;33m(\u001b[0m\u001b[1;36m500\u001b[0m\u001b[1;33m)\u001b[0m\u001b[1;33m\u001b[0m\u001b[0m\n\u001b[1;32m      3\u001b[0m \u001b[0mdata2\u001b[0m \u001b[1;33m=\u001b[0m \u001b[0mnp\u001b[0m\u001b[1;33m.\u001b[0m\u001b[0mrandom\u001b[0m\u001b[1;33m.\u001b[0m\u001b[0mrandn\u001b[0m\u001b[1;33m(\u001b[0m\u001b[1;36m500\u001b[0m\u001b[1;33m)\u001b[0m\u001b[1;33m\u001b[0m\u001b[0m\n\u001b[0;32m----> 4\u001b[0;31m \u001b[0mplt\u001b[0m\u001b[1;33m.\u001b[0m\u001b[0mscatter\u001b[0m\u001b[1;33m(\u001b[0m\u001b[0mdata1\u001b[0m\u001b[1;33m,\u001b[0m\u001b[0mdata2\u001b[0m\u001b[1;33m)\u001b[0m\u001b[1;33m\u001b[0m\u001b[0m\n\u001b[0m",
      "\u001b[0;31mNameError\u001b[0m: name 'plt' is not defined"
     ]
    }
   ],
   "source": [
    "#  numpy.random.randn(d0, d1, ..., dn)：生成一个浮点数或N维浮点数组 —— 正态分布\n",
    "data1 = np.random.randn(500)\n",
    "data2 = np.random.randn(500)  \n",
    "plt.scatter(data1,data2)"
   ]
  },
  {
   "cell_type": "code",
   "execution_count": 125,
   "metadata": {},
   "outputs": [
    {
     "name": "stdout",
     "output_type": "stream",
     "text": [
      "4\n",
      "[4 5 2 3 4]\n",
      "[[4 5 3]\n",
      " [5 3 5]]\n"
     ]
    }
   ],
   "source": [
    "# numpy.random.randint(low, high=None, size=None, dtype='l')：生成一个整数或N维整数数组\n",
    "# 若high不为None时，取[low,high)之间随机整数，否则取值[0,low)之间随机整数，且high必须大于low \n",
    "# dtype参数：只能是int类型  \n",
    "print(np.random.randint(5))\n",
    "print(np.random.randint(2,6,size = 5))  # low=2,high=6,size=5：生成5个[2,6)之间随机整数  \n",
    "print(np.random.randint(2,6,size = (2,3))) # low=2,high = 6,size=(2,3)：生成一个2x3整数数组,取数范围：[2,6)随机整数 "
   ]
  },
  {
   "cell_type": "code",
   "execution_count": 10,
   "metadata": {},
   "outputs": [
    {
     "name": "stdout",
     "output_type": "stream",
     "text": [
      "[[ 0.36364332  0.24886756  0.73446732  0.39678109  0.75649107]\n",
      " [ 0.1872521   0.17356671  0.43693544  0.8672587   0.47364774]\n",
      " [ 0.70602216  0.45583983  0.16126275  0.50238591  0.88763369]\n",
      " [ 0.57139851  0.40514697  0.40242722  0.11745218  0.35991861]\n",
      " [ 0.57270573  0.25002307  0.60425134  0.01318833  0.51903681]]\n",
      "finished\n",
      "finished\n",
      "[[ 0.36364332  0.24886756  0.73446732  0.39678109  0.75649107]\n",
      " [ 0.1872521   0.17356671  0.43693544  0.8672587   0.47364774]\n",
      " [ 0.70602216  0.45583983  0.16126275  0.50238591  0.88763369]\n",
      " [ 0.57139851  0.40514697  0.40242722  0.11745218  0.35991861]\n",
      " [ 0.57270573  0.25002307  0.60425134  0.01318833  0.51903681]]\n"
     ]
    }
   ],
   "source": [
    "#数组数据的储存\n",
    "import os\n",
    "import numpy as np\n",
    "os.chdir(r'C:\\Users\\acer\\Desktop')\n",
    "ar = np.random.rand(5,5)\n",
    "print(ar)\n",
    "np.save('test.npy',ar)\n",
    "print('finished')\n",
    "\n",
    "#存贮成文本文件\n",
    "np.savetxt('test1.txt',ar,delimiter = ',')\n",
    "print('finished')\n",
    "\n",
    "ar_loadtxt = np.loadtxt('test1.txt',delimiter = ',')  #delimiter 表示分隔符\n",
    "print(ar_loadtxt)"
   ]
  },
  {
   "cell_type": "code",
   "execution_count": 6,
   "metadata": {},
   "outputs": [
    {
     "name": "stdout",
     "output_type": "stream",
     "text": [
      "[[ 0.629462    0.71167586  0.80601499  0.71960558  0.26791641]\n",
      " [ 0.92892085  0.13855802  0.89049805  0.36125188  0.5702411 ]\n",
      " [ 0.80908907  0.92867981  0.42095431  0.35925665  0.41228203]\n",
      " [ 0.57418456  0.13179388  0.14187975  0.09806185  0.50674069]\n",
      " [ 0.53544371  0.23697003  0.94062104  0.44115922  0.18158943]]\n"
     ]
    }
   ],
   "source": [
    "#数组数据的读取\n",
    "ar_load = np.load('test.npy')\n",
    "print(ar_load)"
   ]
  }
 ],
 "metadata": {
  "anaconda-cloud": {},
  "kernelspec": {
   "display_name": "Python 3",
   "language": "python",
   "name": "python3"
  },
  "language_info": {
   "codemirror_mode": {
    "name": "ipython",
    "version": 3
   },
   "file_extension": ".py",
   "mimetype": "text/x-python",
   "name": "python",
   "nbconvert_exporter": "python",
   "pygments_lexer": "ipython3",
   "version": "3.7.3"
  }
 },
 "nbformat": 4,
 "nbformat_minor": 1
}
