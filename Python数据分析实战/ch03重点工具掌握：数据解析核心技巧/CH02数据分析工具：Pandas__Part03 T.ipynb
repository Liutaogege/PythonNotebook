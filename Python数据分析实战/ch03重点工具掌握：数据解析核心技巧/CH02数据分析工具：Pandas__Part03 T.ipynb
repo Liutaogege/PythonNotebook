{
 "cells": [
  {
   "cell_type": "code",
   "execution_count": 1,
   "metadata": {
    "collapsed": false
   },
   "outputs": [
    {
     "data": {
      "text/plain": [
       "'\\n【课程2.14】  数值计算和统计基础\\n\\n常用数学、统计方法\\n \\n'"
      ]
     },
     "execution_count": 1,
     "metadata": {},
     "output_type": "execute_result"
    }
   ],
   "source": [
    "'''\n",
    "【课程2.14】  数值计算和统计基础\n",
    "\n",
    "常用数学、统计方法\n",
    " \n",
    "'''"
   ]
  },
  {
   "cell_type": "code",
   "execution_count": 2,
   "metadata": {
    "collapsed": false
   },
   "outputs": [
    {
     "name": "stdout",
     "output_type": "stream",
     "text": [
      "   key1  key2 key3\n",
      "a   4.0   1.0    1\n",
      "b   5.0   2.0    2\n",
      "c   3.0   NaN    3\n",
      "d   NaN   4.0    j\n",
      "e   2.0   5.0    k\n",
      "key1    3.5\n",
      "key2    3.0\n",
      "dtype: float64\n",
      "a    2.5\n",
      "b    3.5\n",
      "c    3.0\n",
      "d    4.0\n",
      "e    3.5\n",
      "dtype: float64\n",
      "a    2.5\n",
      "b    3.5\n",
      "c    NaN\n",
      "d    NaN\n",
      "e    3.5\n",
      "dtype: float64\n"
     ]
    }
   ],
   "source": [
    "# 基本参数：axis、skipna\n",
    "import numpy as np\n",
    "import pandas as pd\n",
    "date = pd.DataFrame({'key1':[4,5,3,np.nan,2],\n",
    "                 'key2':[1,2,np.nan,4,5],\n",
    "                 'key3':[1,2,3,'j','k']},\n",
    "                 index = ['a','b','c','d','e'])\n",
    "print(date)\n",
    "print(date.mean())  #默认是计算列的平均值，且字符串的数字不计算在其中\n",
    "print(date.mean(axis = 1))\n",
    "print(date.mean(axis = 1,skipna = False))  #忽略掉空值"
   ]
  },
  {
   "cell_type": "code",
   "execution_count": 11,
   "metadata": {
    "collapsed": false
   },
   "outputs": [
    {
     "name": "stdout",
     "output_type": "stream",
     "text": [
      "   key1      key2\n",
      "0     0  9.825724\n",
      "1     1  1.593981\n",
      "2     2  6.131499\n",
      "3     3  7.779149\n",
      "4     4  3.032350\n",
      "5     5  2.587665\n",
      "6     6  7.883005\n",
      "7     7  9.508756\n",
      "8     8  8.072360\n",
      "9     9  3.601310\n",
      "-----\n",
      "key1    10\n",
      "key2    10\n",
      "dtype: int64 → count统计非Na值的数量\n",
      "\n",
      "key1    0.000000\n",
      "key2    1.593981\n",
      "dtype: float64 → min统计最小值\n",
      " 9.82572351342 → max统计最大值\n",
      "\n",
      "key1    4.500000\n",
      "key2    6.955324\n",
      "dtype: float64 → quantile统计分位数，参数q确定位置\n",
      "\n",
      "key1    45.000000\n",
      "key2    60.015798\n",
      "dtype: float64 → sum求和\n",
      "\n",
      "key1    4.50000\n",
      "key2    6.00158\n",
      "dtype: float64 → mean求平均值\n",
      "\n",
      "key1    4.500000\n",
      "key2    6.955324\n",
      "dtype: float64 → median求算数中位数，50%分位数\n",
      "\n",
      "key1    3.027650\n",
      "key2    3.047554\n",
      "dtype: float64 \n",
      " key1    9.166667\n",
      "key2    9.287583\n",
      "dtype: float64 → std,var分别求标准差，方差\n",
      "\n",
      "key1    0.000000\n",
      "key2   -0.221789\n",
      "dtype: float64 → skew样本的偏度\n",
      "\n",
      "key1   -1.200000\n",
      "key2   -1.732603\n",
      "dtype: float64 → kurt样本的峰度\n",
      "\n"
     ]
    }
   ],
   "source": [
    "# 主要数学计算方法，可用于Series和DataFrame（1）\n",
    "\n",
    "df = pd.DataFrame({'key1':np.arange(10),\n",
    "                  'key2':np.random.rand(10)*10})\n",
    "print(df)\n",
    "print('-----')\n",
    "\n",
    "print(df.count(),'→ count统计非Na值的数量\\n')\n",
    "print(df.min(),'→ min统计最小值\\n',df['key2'].max(),'→ max统计最大值\\n')\n",
    "print(df.quantile(q=0.5),'→ quantile统计分位数，参数q确定位置\\n')  #q代表的是计算那列数据所占的百分比\n",
    "print(df.sum(),'→ sum求和\\n')\n",
    "print(df.mean(),'→ mean求平均值\\n')\n",
    "print(df.median(),'→ median求算数中位数，50%分位数\\n')\n",
    "print(df.std(),'\\n',df.var(),'→ std,var分别求标准差，方差\\n')\n",
    "print(df.skew(),'→ skew样本的偏度\\n')\n",
    "print(df.kurt(),'→ kurt样本的峰度\\n')"
   ]
  },
  {
   "cell_type": "code",
   "execution_count": 12,
   "metadata": {
    "collapsed": false
   },
   "outputs": [
    {
     "name": "stdout",
     "output_type": "stream",
     "text": [
      "   key1      key2  key1_s     key2_s\n",
      "0     0  9.825724       0   9.825724\n",
      "1     1  1.593981       1  11.419704\n",
      "2     2  6.131499       3  17.551204\n",
      "3     3  7.779149       6  25.330352\n",
      "4     4  3.032350      10  28.362703\n",
      "5     5  2.587665      15  30.950368\n",
      "6     6  7.883005      21  38.833372\n",
      "7     7  9.508756      28  48.342129\n",
      "8     8  8.072360      36  56.414488\n",
      "9     9  3.601310      45  60.015798 → cumsum样本的累计和\n",
      "\n",
      "   key1      key2  key1_s     key2_s  key1_p        key2_p\n",
      "0     0  9.825724       0   9.825724       0  9.825724e+00\n",
      "1     1  1.593981       1  11.419704       0  1.566202e+01\n",
      "2     2  6.131499       3  17.551204       0  9.603164e+01\n",
      "3     3  7.779149       6  25.330352       0  7.470444e+02\n",
      "4     4  3.032350      10  28.362703       0  2.265300e+03\n",
      "5     5  2.587665      15  30.950368       0  5.861838e+03\n",
      "6     6  7.883005      21  38.833372       0  4.620890e+04\n",
      "7     7  9.508756      28  48.342129       0  4.393892e+05\n",
      "8     8  8.072360      36  56.414488       0  3.546907e+06\n",
      "9     9  3.601310      45  60.015798       0  1.277351e+07 → cumprod样本的累计积\n",
      "\n",
      "   key1      key2  key1_s     key2_s  key1_p        key2_p\n",
      "0   0.0  9.825724     0.0   9.825724     0.0  9.825724e+00\n",
      "1   1.0  9.825724     1.0  11.419704     0.0  1.566202e+01\n",
      "2   2.0  9.825724     3.0  17.551204     0.0  9.603164e+01\n",
      "3   3.0  9.825724     6.0  25.330352     0.0  7.470444e+02\n",
      "4   4.0  9.825724    10.0  28.362703     0.0  2.265300e+03\n",
      "5   5.0  9.825724    15.0  30.950368     0.0  5.861838e+03\n",
      "6   6.0  9.825724    21.0  38.833372     0.0  4.620890e+04\n",
      "7   7.0  9.825724    28.0  48.342129     0.0  4.393892e+05\n",
      "8   8.0  9.825724    36.0  56.414488     0.0  3.546907e+06\n",
      "9   9.0  9.825724    45.0  60.015798     0.0  1.277351e+07 \n",
      "    key1      key2  key1_s    key2_s  key1_p    key2_p\n",
      "0   0.0  9.825724     0.0  9.825724     0.0  9.825724\n",
      "1   0.0  1.593981     0.0  9.825724     0.0  9.825724\n",
      "2   0.0  1.593981     0.0  9.825724     0.0  9.825724\n",
      "3   0.0  1.593981     0.0  9.825724     0.0  9.825724\n",
      "4   0.0  1.593981     0.0  9.825724     0.0  9.825724\n",
      "5   0.0  1.593981     0.0  9.825724     0.0  9.825724\n",
      "6   0.0  1.593981     0.0  9.825724     0.0  9.825724\n",
      "7   0.0  1.593981     0.0  9.825724     0.0  9.825724\n",
      "8   0.0  1.593981     0.0  9.825724     0.0  9.825724\n",
      "9   0.0  1.593981     0.0  9.825724     0.0  9.825724 → cummax,cummin分别求累计最大值，累计最小值\n",
      "\n"
     ]
    }
   ],
   "source": [
    "# 主要数学计算方法，可用于Series和DataFrame（2）\n",
    "\n",
    "df['key1_s'] = df['key1'].cumsum()\n",
    "df['key2_s'] = df['key2'].cumsum()\n",
    "print(df,'→ cumsum样本的累计和\\n')\n",
    "\n",
    "df['key1_p'] = df['key1'].cumprod()\n",
    "df['key2_p'] = df['key2'].cumprod()\n",
    "print(df,'→ cumprod样本的累计积\\n')\n",
    "\n",
    "print(df.cummax(),'\\n',df.cummin(),'→ cummax,cummin分别求累计最大值，累计最小值\\n')\n",
    "# 会填充key1，和key2的值"
   ]
  },
  {
   "cell_type": "code",
   "execution_count": 13,
   "metadata": {
    "collapsed": false
   },
   "outputs": [
    {
     "name": "stdout",
     "output_type": "stream",
     "text": [
      "0     a\n",
      "1     s\n",
      "2     d\n",
      "3     v\n",
      "4     a\n",
      "5     s\n",
      "6     d\n",
      "7     c\n",
      "8     f\n",
      "9     g\n",
      "10    g\n",
      "dtype: object\n",
      "['a' 's' 'd' 'v' 'c' 'f' 'g'] <class 'numpy.ndarray'>\n",
      "0    a\n",
      "1    s\n",
      "2    d\n",
      "3    v\n",
      "4    c\n",
      "5    f\n",
      "6    g\n",
      "dtype: object\n",
      "['a' 'c' 'd' 'f' 'g' 's' 'v']\n"
     ]
    }
   ],
   "source": [
    "# 唯一值：.unique()\n",
    "\n",
    "s = pd.Series(list('asdvasdcfgg'))\n",
    "sq = s.unique()\n",
    "print(s)\n",
    "print(sq,type(sq))\n",
    "print(pd.Series(sq))\n",
    "# 得到一个唯一值数组\n",
    "# 通过pd.Series重新变成新的Series\n",
    "\n",
    "sq.sort()\n",
    "print(sq)\n",
    "# 重新排序"
   ]
  },
  {
   "cell_type": "code",
   "execution_count": 14,
   "metadata": {
    "collapsed": false
   },
   "outputs": [
    {
     "name": "stdout",
     "output_type": "stream",
     "text": [
      "s    2\n",
      "d    2\n",
      "c    1\n",
      "g    2\n",
      "a    2\n",
      "f    1\n",
      "v    1\n",
      "dtype: int64\n"
     ]
    }
   ],
   "source": [
    "# 值计数：.value_counts()  计算相同值出现的次数\n",
    "\n",
    "sc = s.value_counts(sort = False)  # 也可以这样写：pd.value_counts(sc, sort = False)\n",
    "print(sc)\n",
    "# 得到一个新的Series，计算出不同值出现的频率\n",
    "# sort参数：排序，默认为True"
   ]
  },
  {
   "cell_type": "code",
   "execution_count": 10,
   "metadata": {
    "collapsed": false
   },
   "outputs": [
    {
     "ename": "SyntaxError",
     "evalue": "invalid syntax (<ipython-input-10-5197367922a1>, line 11)",
     "output_type": "error",
     "traceback": [
      "\u001b[0;36m  File \u001b[0;32m\"<ipython-input-10-5197367922a1>\"\u001b[0;36m, line \u001b[0;32m11\u001b[0m\n\u001b[0;31m    print(df[df.isin(['a','bc','10',8]]))\u001b[0m\n\u001b[0m                                      ^\u001b[0m\n\u001b[0;31mSyntaxError\u001b[0m\u001b[0;31m:\u001b[0m invalid syntax\n"
     ]
    }
   ],
   "source": [
    "# 成员资格：.isin()\n",
    "\n",
    "s = pd.Series(np.arange(10,15))\n",
    "df = pd.DataFrame({'key1':list('asdcbvasd'),\n",
    "                  'key2':np.arange(4,13)})\n",
    "print(s)\n",
    "print(df)\n",
    "print('-----')\n",
    "\n",
    "print(s.isin([10]))\n",
    "print(df.isin(['a','bc','10',8]))\n",
    "# 用[]表示\n",
    "# 得到一个布尔值的Series或者Dataframe"
   ]
  },
  {
   "cell_type": "code",
   "execution_count": 16,
   "metadata": {
    "collapsed": false
   },
   "outputs": [
    {
     "ename": "SyntaxError",
     "evalue": "invalid character in identifier (<ipython-input-16-ebbafd5b6917>, line 1)",
     "output_type": "error",
     "traceback": [
      "\u001b[0;36m  File \u001b[0;32m\"<ipython-input-16-ebbafd5b6917>\"\u001b[0;36m, line \u001b[0;32m1\u001b[0m\n\u001b[0;31m    【课程2.15】  文本数据\u001b[0m\n\u001b[0m       ^\u001b[0m\n\u001b[0;31mSyntaxError\u001b[0m\u001b[0;31m:\u001b[0m invalid character in identifier\n"
     ]
    }
   ],
   "source": [
    "【课程2.15】  文本数据\n",
    "\n",
    "Pandas针对字符串配备的一套方法，使其易于对数组的每个元素进行操作\n",
    " \n",
    "'''"
   ]
  },
  {
   "cell_type": "code",
   "execution_count": 22,
   "metadata": {
    "collapsed": false
   },
   "outputs": [
    {
     "name": "stdout",
     "output_type": "stream",
     "text": [
      "0    0.0\n",
      "1    1.0\n",
      "2    0.0\n",
      "3    2.0\n",
      "4    0.0\n",
      "5    NaN\n",
      "6    0.0\n",
      "dtype: float64\n",
      "0          A\n",
      "1          B\n",
      "2          C\n",
      "3    BBHELLO\n",
      "4        123\n",
      "5        NaN\n",
      "6         HJ\n",
      "dtype: object\n",
      "0                    A\n",
      "1               woaini\n",
      "2                    C\n",
      "3    woainiwoainihello\n",
      "4                  123\n",
      "5                  NaN\n",
      "6                   hj\n",
      "dtype: object\n",
      "  KEY1  KEY2\n",
      "0    a   hee\n",
      "1    b    fv\n",
      "2    c     w\n",
      "3    d  hija\n",
      "4    e   123\n",
      "5    f   NaN\n"
     ]
    }
   ],
   "source": [
    "# 通过str访问，且自动排除丢失/ NA值\n",
    "\n",
    "s = pd.Series(['A','b','C','bbhello','123',np.nan,'hj'])\n",
    "df = pd.DataFrame({'key1':list('abcdef'),\n",
    "                  'key2':['hee','fv','w','hija','123',np.nan]})\n",
    "print(s.str.count('b'))\n",
    "print(s.str.upper())\n",
    "print(s.str.replace('b','woaini'))\n",
    "# 直接通过.str调用字符串方法\n",
    "# 可以对Series、Dataframe使用\n",
    "# 自动过滤NaN值\n",
    "\n",
    "df.columns = df.columns.str.upper()\n",
    "print(df)\n",
    "# df.columns是一个Index对象，也可使用.str"
   ]
  },
  {
   "cell_type": "code",
   "execution_count": 23,
   "metadata": {
    "collapsed": false
   },
   "outputs": [
    {
     "name": "stdout",
     "output_type": "stream",
     "text": [
      "0          a\n",
      "1          b\n",
      "2    bbhello\n",
      "3        123\n",
      "4        NaN\n",
      "dtype: object → lower小写\n",
      "\n",
      "0          A\n",
      "1          B\n",
      "2    BBHELLO\n",
      "3        123\n",
      "4        NaN\n",
      "dtype: object → upper大写\n",
      "\n",
      "0    1.0\n",
      "1    1.0\n",
      "2    7.0\n",
      "3    3.0\n",
      "4    NaN\n",
      "dtype: float64 → len字符长度\n",
      "\n",
      "0    False\n",
      "1     True\n",
      "2     True\n",
      "3    False\n",
      "4      NaN\n",
      "dtype: object → 判断起始是否为a\n",
      "\n",
      "0    False\n",
      "1    False\n",
      "2    False\n",
      "3     True\n",
      "4      NaN\n",
      "dtype: object → 判断结束是否为3\n",
      "\n"
     ]
    }
   ],
   "source": [
    "# 字符串常用方法（1） - lower，upper，len，startswith，endswith\n",
    "\n",
    "s = pd.Series(['A','b','bbhello','123',np.nan])\n",
    "\n",
    "print(s.str.lower(),'→ lower小写\\n')\n",
    "print(s.str.upper(),'→ upper大写\\n')\n",
    "print(s.str.len(),'→ len字符长度\\n')\n",
    "print(s.str.startswith('b'),'→ 判断起始是否为a\\n')\n",
    "print(s.str.endswith('3'),'→ 判断结束是否为3\\n')"
   ]
  },
  {
   "cell_type": "code",
   "execution_count": 24,
   "metadata": {
    "collapsed": false
   },
   "outputs": [
    {
     "name": "stdout",
     "output_type": "stream",
     "text": [
      "0       jack\n",
      "1      jill \n",
      "2     jesse \n",
      "3      frank\n",
      "dtype: object\n",
      "    Column A    Column B \n",
      "0    1.096802    1.757157\n",
      "1   -0.228689   -0.454749\n",
      "2   -2.045742   -1.252712\n",
      "-----\n",
      "0     jack\n",
      "1     jill\n",
      "2    jesse\n",
      "3    frank\n",
      "dtype: object\n",
      "0      jack\n",
      "1     jill \n",
      "2    jesse \n",
      "3     frank\n",
      "dtype: object\n",
      "0      jack\n",
      "1      jill\n",
      "2     jesse\n",
      "3     frank\n",
      "dtype: object\n",
      "   Column A  Column B\n",
      "0  1.096802  1.757157\n",
      "1 -0.228689 -0.454749\n",
      "2 -2.045742 -1.252712\n"
     ]
    }
   ],
   "source": [
    "# 字符串常用方法（2） - strip\n",
    "\n",
    "s = pd.Series([' jack', 'jill ', ' jesse ', 'frank'])\n",
    "df = pd.DataFrame(np.random.randn(3, 2), columns=[' Column A ', ' Column B '],\n",
    "                  index=range(3))\n",
    "print(s)\n",
    "print(df)\n",
    "print('-----')\n",
    "\n",
    "print(s.str.strip())  # 去除字符串中的空格\n",
    "print(s.str.lstrip())  # 去除字符串中的左空格\n",
    "print(s.str.rstrip())  # 去除字符串中的右空格\n",
    "\n",
    "df.columns = df.columns.str.strip()\n",
    "print(df)\n",
    "# 这里去掉了columns的前后空格，但没有去掉中间空格"
   ]
  },
  {
   "cell_type": "code",
   "execution_count": 25,
   "metadata": {
    "collapsed": false
   },
   "outputs": [
    {
     "name": "stdout",
     "output_type": "stream",
     "text": [
      "   -Column-A-  -Column-B-\n",
      "0    1.331092    1.062543\n",
      "1    1.337532    0.070557\n",
      "2    2.128572   -0.442443\n",
      "   heheColumn-A-  heheColumn-B-\n",
      "0       1.331092       1.062543\n",
      "1       1.337532       0.070557\n",
      "2       2.128572      -0.442443\n"
     ]
    }
   ],
   "source": [
    "# 字符串常用方法（3） - replace\n",
    "\n",
    "df = pd.DataFrame(np.random.randn(3, 2), columns=[' Column A ', ' Column B '],\n",
    "                  index=range(3))\n",
    "df.columns = df.columns.str.replace(' ','-')\n",
    "print(df)\n",
    "# 替换\n",
    "\n",
    "df.columns = df.columns.str.replace('-','hehe',n=1)\n",
    "print(df)\n",
    "# n：替换个数"
   ]
  },
  {
   "cell_type": "code",
   "execution_count": 12,
   "metadata": {
    "collapsed": false
   },
   "outputs": [
    {
     "name": "stdout",
     "output_type": "stream",
     "text": [
      "0    [a, b, c]\n",
      "1    [1, 2, 3]\n",
      "2          NaN\n",
      "3          NaN\n",
      "dtype: object\n",
      "-----\n",
      "['a', 'b', 'c']\n",
      "-----\n",
      "0      a\n",
      "1      1\n",
      "2    NaN\n",
      "3    NaN\n",
      "dtype: object\n",
      "=====================================\n",
      "0      c\n",
      "1      3\n",
      "2    NaN\n",
      "3    NaN\n",
      "dtype: object\n",
      "-----\n",
      "     0     1     2\n",
      "0    a     b     c\n",
      "1    1     2     3\n",
      "2  NaN  None  None\n",
      "3  NaN  None  None\n",
      "     0     1\n",
      "0    a   b,c\n",
      "1    1   2,3\n",
      "2  NaN  None\n",
      "3  NaN  None\n",
      "     0     1\n",
      "0  a,b     c\n",
      "1  1,2     3\n",
      "2  NaN  None\n",
      "3  NaN  None\n",
      "-----\n",
      "0    [a, b, c]\n",
      "1    [1, 2, 3]\n",
      "2          NaN\n",
      "Name: key2, dtype: object\n"
     ]
    }
   ],
   "source": [
    "# 字符串常用方法（4） - split、rsplit\n",
    "\n",
    "s = pd.Series(['a,b,c','1,2,3',['a,,,c'],np.nan])\n",
    "print(s.str.split(','))\n",
    "print('-----')\n",
    "# 类似字符串的split\n",
    "\n",
    "print(s.str.split(',')[0])\n",
    "print('-----')\n",
    "# 直接索引得到一个list\n",
    "\n",
    "print(s.str.split(',').str[0])\n",
    "print('=====================================')\n",
    "print(s.str.split(',').str.get(2))\n",
    "print('-----')\n",
    "# 可以使用get或[]符号访问拆分列表中的元素\n",
    "\n",
    "print(s.str.split(',', expand=True))\n",
    "print(s.str.split(',', expand=True, n = 1))\n",
    "print(s.str.rsplit(',', expand=True, n = 1))\n",
    "print('-----')\n",
    "# 可以使用expand可以轻松扩展此操作以返回DataFrame\n",
    "# n参数限制分割数\n",
    "# rsplit类似于split，反向工作，即从字符串的末尾到字符串的开头\n",
    "\n",
    "df = pd.DataFrame({'key1':['a,b,c','1,2,3',[':,., ']],\n",
    "                  'key2':['a-b-c','1-2-3',[':-.- ']]})\n",
    "print(df['key2'].str.split('-'))\n",
    "# Dataframe使用split"
   ]
  },
  {
   "cell_type": "code",
   "execution_count": 33,
   "metadata": {
    "collapsed": false
   },
   "outputs": [
    {
     "name": "stdout",
     "output_type": "stream",
     "text": [
      "0    [a, b, c]\n",
      "1    [1, 2, 3]\n",
      "2          NaN\n",
      "3          NaN\n",
      "dtype: object\n",
      "     0     1\n",
      "0    a   b,c\n",
      "1    1   2,3\n",
      "2  NaN  None\n",
      "3  NaN  None\n",
      "     0     1     2\n",
      "0    a     b     c\n",
      "1    1     2     3\n",
      "2  NaN  None  None\n",
      "3  NaN  None  None\n"
     ]
    }
   ],
   "source": [
    "s = pd.Series(['a,b,c','1,2,3',['a,,,c'],np.nan])\n",
    "print(s.str.split(','))\n",
    "print(s.str.split(',',expand = True,n = 1))\n",
    "print(s.str.split(',',expand = True))"
   ]
  },
  {
   "cell_type": "code",
   "execution_count": 36,
   "metadata": {
    "collapsed": false
   },
   "outputs": [
    {
     "name": "stdout",
     "output_type": "stream",
     "text": [
      "0      A\n",
      "1      b\n",
      "2      C\n",
      "3      b\n",
      "4      1\n",
      "5    NaN\n",
      "6      h\n",
      "dtype: object\n",
      "0      A\n",
      "1      b\n",
      "2      C\n",
      "3     bb\n",
      "4     12\n",
      "5    NaN\n",
      "6     hj\n",
      "dtype: object\n",
      "-----------\n",
      "  key1  key2\n",
      "0    a   hee\n",
      "1    b    fv\n",
      "2    c     w\n",
      "3    d  hija\n",
      "4    e   123\n",
      "5    f   NaN\n",
      "0      h\n",
      "1      f\n",
      "2      w\n",
      "3      h\n",
      "4      1\n",
      "5    NaN\n",
      "Name: key2, dtype: object\n"
     ]
    }
   ],
   "source": [
    "# 字符串索引\n",
    "\n",
    "s = pd.Series(['A','b','C','bbhello','123',np.nan,'hj'])\n",
    "df = pd.DataFrame({'key1':list('abcdef'),\n",
    "                  'key2':['hee','fv','w','hija','123',np.nan]})\n",
    "\n",
    "print(s.str[0])  # 取第一个字符串\n",
    "print(s.str[:2])  # 取前两个字符串\n",
    "print('-----------')\n",
    "print(df)\n",
    "print(df['key2'].str[0]) \n",
    "# str之后和字符串本身索引方式相同"
   ]
  },
  {
   "cell_type": "code",
   "execution_count": 37,
   "metadata": {
    "collapsed": false
   },
   "outputs": [
    {
     "data": {
      "text/plain": [
       "\"\\n【课程2.16】  合并 merge、join\\n\\nPandas具有全功能的，高性能内存中连接操作，与SQL等关系数据库非常相似\\n\\npd.merge(left, right, how='inner', on=None, left_on=None, right_on=None,\\n         left_index=False, right_index=False, sort=True,\\n         suffixes=('_x', '_y'), copy=True, indicator=False)\\n \\n\""
      ]
     },
     "execution_count": 37,
     "metadata": {},
     "output_type": "execute_result"
    }
   ],
   "source": [
    "'''\n",
    "【课程2.16】  合并 merge、join\n",
    "\n",
    "Pandas具有全功能的，高性能内存中连接操作，与SQL等关系数据库非常相似\n",
    "\n",
    "pd.merge(left, right, how='inner', on=None, left_on=None, right_on=None,\n",
    "         left_index=False, right_index=False, sort=True,\n",
    "         suffixes=('_x', '_y'), copy=True, indicator=False)\n",
    " \n",
    "'''"
   ]
  },
  {
   "cell_type": "code",
   "execution_count": 44,
   "metadata": {
    "collapsed": false
   },
   "outputs": [
    {
     "name": "stdout",
     "output_type": "stream",
     "text": [
      "Empty DataFrame\n",
      "Columns: [wo]\n",
      "Index: []\n"
     ]
    }
   ],
   "source": [
    "df1 = pd.DataFrame(np.random.rand(5),index = pd.date_range('20160908',periods = 5,freq = 'M'),columns = ['wo'])\n",
    "df2 = pd.DataFrame(np.random.rand(5),index = pd.date_range('20160908',periods = 5,freq = 'M'),columns = ['wo'])\n",
    "print(pd.merge(df1,df2,on = ['wo']))"
   ]
  },
  {
   "cell_type": "code",
   "execution_count": 3,
   "metadata": {
    "collapsed": false
   },
   "outputs": [
    {
     "ename": "SyntaxError",
     "evalue": "invalid syntax (<ipython-input-3-5776fcc694ed>, line 39)",
     "output_type": "error",
     "traceback": [
      "\u001b[0;36m  File \u001b[0;32m\"<ipython-input-3-5776fcc694ed>\"\u001b[0;36m, line \u001b[0;32m39\u001b[0m\n\u001b[0;31m    print('------')\u001b[0m\n\u001b[0m        ^\u001b[0m\n\u001b[0;31mSyntaxError\u001b[0m\u001b[0;31m:\u001b[0m invalid syntax\n"
     ]
    }
   ],
   "source": [
    "# merge合并,这是取交集合并 → 类似excel的vlookup,\n",
    "\n",
    "df1 = pd.DataFrame({'key': ['K0', 'K1', 'K2', 'K3'],\n",
    "                     'A': ['A0', 'A1', 'A2', 'A3'],\n",
    "                     'B': ['B0', 'B1', 'B2', 'B3']})\n",
    "df2 = pd.DataFrame({'key': ['K0', 'K1', 'K2', 'K3'],\n",
    "                      'C': ['C0', 'C1', 'C2', 'C3'],\n",
    "                      'D': ['D0', 'D1', 'D2', 'D3']})\n",
    "df3 = pd.DataFrame({'key1': ['K0', 'K0', 'K1', 'K2'],\n",
    "                    'key2': ['K0', 'K1', 'K0', 'K1'],\n",
    "                    'A': ['A0', 'A1', 'A2', 'A3'],\n",
    "                    'B': ['B0', 'B1', 'B2', 'B3']})\n",
    "df4 = pd.DataFrame({'key1': ['K0', 'K1', 'K1', 'K2'],\n",
    "                    'key2': ['K0', 'K0', 'K0', 'K0'],\n",
    "                    'C': ['C0', 'C1', 'C2', 'C3'],\n",
    "                    'D': ['D0', 'D1', 'D2', 'D3']})\n",
    "print(pd.merge(df1, df2, on='key'))\n",
    "print('------')\n",
    "# left：第一个df\n",
    "# right：第二个df\n",
    "# on：参考键\n",
    "\n",
    "print(pd.merge(df3, df4, on=['key1','key2']))\n",
    "# 多个链接键\n",
    "\n",
    "\n",
    "## 参数how    → 合并方式\n",
    "print('-------------------------------------------------------')\n",
    "print(pd.merge(df3, df4,on=['key1','key2'], how = 'inner'))  \n",
    "print('------')\n",
    "# inner：默认，取交集\n",
    "\n",
    "print(pd.merge(df3, df4, on=['key1','key2'], how = 'outer'))  \n",
    "print('------')\n",
    "# outer：取并集，数据缺失范围NaN\n",
    "print('===========================')\n",
    "print(df3,'\\n',# 参数 left_on, right_on, left_index, right_index → 当键不为一个列时，可以单独设置左键与右键df4)\n",
    "print(pd.merge(df3, df4, on=['key1','key2'], how = 'left'))  \n",
    "print('------')\n",
    "# left：按照df3为参考合并，数据缺失范围NaN\n",
    "\n",
    "print(pd.merge(df3, df4, on=['key1','key2'], how = 'right'))  \n",
    "# right：按照df4为参考合并，数据缺失范围NaN"
   ]
  },
  {
   "cell_type": "code",
   "execution_count": 62,
   "metadata": {
    "collapsed": false
   },
   "outputs": [
    {
     "name": "stdout",
     "output_type": "stream",
     "text": [
      "   data1 lkey\n",
      "0      0    b\n",
      "1      1    b\n",
      "2      2    a\n",
      "3      3    c\n",
      "4      4    a\n",
      "5      5    a\n",
      "6      6    b\n",
      "   date2 rkey\n",
      "0      0    a\n",
      "1      1    b\n",
      "2      2    d\n",
      "   data1 lkey  date2 rkey\n",
      "0      0    b      0    a\n",
      "1      1    b      1    b\n",
      "2      2    a      2    d\n",
      "   data1 lkey  date2 rkey\n",
      "0      0    b      1    b\n",
      "1      1    b      1    b\n",
      "2      6    b      1    b\n",
      "3      2    a      0    a\n",
      "4      4    a      0    a\n",
      "5      5    a      0    a\n"
     ]
    }
   ],
   "source": [
    "# 参数 left_on, right_on, left_index, right_index → 当键不为一个列时，可以单独设置左键与右键\n",
    "df1 = pd.DataFrame({'lkey':list('bbacaab'),\n",
    "                   'data1':range(7)})\n",
    "df2 = pd.DataFrame({'rkey':list('abd'),\n",
    "                   'date2':range(3)})\n",
    "print(df1)\n",
    "print(df2)\n",
    "print(pd.merge(df1,df2,left_index = 'data1',right_index = 'data2'))\n",
    "print(pd.merge(df1,df2,left_on = 'lkey',right_on = 'rkey'))"
   ]
  },
  {
   "cell_type": "code",
   "execution_count": 68,
   "metadata": {
    "collapsed": false
   },
   "outputs": [
    {
     "name": "stdout",
     "output_type": "stream",
     "text": [
      "    A   B key1 key2   C   D\n",
      "0  A0  B0   K0   K0  C0  D0\n",
      "1  A2  B2   K1   K0  C1  D1\n",
      "2  A2  B2   K1   K0  C2  D2\n",
      "     A    B key1 key2    C    D\n",
      "0   A0   B0   K0   K0   C0   D0\n",
      "1   A1   B1   K0   K1  NaN  NaN\n",
      "2   A2   B2   K1   K0   C1   D1\n",
      "3   A2   B2   K1   K0   C2   D2\n",
      "4   A3   B3   K2   K1  NaN  NaN\n",
      "5  NaN  NaN   K2   K0   C3   D3\n",
      "    A   B key1 key2    C    D\n",
      "0  A0  B0   K0   K0   C0   D0\n",
      "1  A1  B1   K0   K1  NaN  NaN\n",
      "2  A2  B2   K1   K0   C1   D1\n",
      "3  A2  B2   K1   K0   C2   D2\n",
      "4  A3  B3   K2   K1  NaN  NaN\n",
      "     A    B key1 key2   C   D\n",
      "0   A0   B0   K0   K0  C0  D0\n",
      "1   A2   B2   K1   K0  C1  D1\n",
      "2   A2   B2   K1   K0  C2  D2\n",
      "3  NaN  NaN   K2   K0  C3  D3\n"
     ]
    }
   ],
   "source": [
    "df3 = pd.DataFrame({'key1': ['K0', 'K0', 'K1', 'K2'],\n",
    "                    'key2': ['K0', 'K1', 'K0', 'K1'],\n",
    "                    'A': ['A0', 'A1', 'A2', 'A3'],\n",
    "                    'B': ['B0', 'B1', 'B2', 'B3']})\n",
    "df4 = pd.DataFrame({'key1': ['K0', 'K1', 'K1', 'K2'],\n",
    "                    'key2': ['K0', 'K0', 'K0', 'K0'],\n",
    "                    'C': ['C0', 'C1', 'C2', 'C3'],\n",
    "                    'D': ['D0', 'D1', 'D2', 'D3']})\n",
    "print(pd.merge(df3,df4,on = ['key1','key2'],how = 'inner'))  #取交集\n",
    "print(pd.merge(df3,df4,on = ['key1','key2'],how = 'outer'))   #取并集\n",
    "print(pd.merge(df3,df4,on = ['key1','key2'],how = 'left'))    #按照df3为参考合并，数据缺失范围NaN\n",
    "print(pd.merge(df3,df4,on = ['key1','key2'],how = 'right'))    #按照df4为参考合并，数据缺失范围NaN"
   ]
  },
  {
   "cell_type": "code",
   "execution_count": 73,
   "metadata": {
    "collapsed": false
   },
   "outputs": [
    {
     "name": "stdout",
     "output_type": "stream",
     "text": [
      "   data1 key\n",
      "0      1   b\n",
      "1      3   b\n",
      "2      2   a\n",
      "3      4   c\n",
      "4      5   a\n",
      "5      9   a\n",
      "6      7   b\n",
      "   date2 key\n",
      "0     11   a\n",
      "1      2   b\n",
      "2     33   d\n",
      "=====================================\n",
      "   data1 key  date2\n",
      "0    1.0   b    2.0\n",
      "1    3.0   b    2.0\n",
      "2    7.0   b    2.0\n",
      "3    2.0   a   11.0\n",
      "4    5.0   a   11.0\n",
      "5    9.0   a   11.0\n",
      "6    4.0   c    NaN\n",
      "7    NaN   d   33.0\n",
      "   data1 key  date2\n",
      "0    2.0   a   11.0\n",
      "1    5.0   a   11.0\n",
      "2    9.0   a   11.0\n",
      "3    1.0   b    2.0\n",
      "4    3.0   b    2.0\n",
      "5    7.0   b    2.0\n",
      "6    4.0   c    NaN\n",
      "7    NaN   d   33.0\n",
      "   data1 key  date2\n",
      "0    1.0   b    2.0\n",
      "3    2.0   a   11.0\n",
      "1    3.0   b    2.0\n",
      "6    4.0   c    NaN\n",
      "4    5.0   a   11.0\n",
      "2    7.0   b    2.0\n",
      "5    9.0   a   11.0\n",
      "7    NaN   d   33.0\n"
     ]
    }
   ],
   "source": [
    "# 参数 sort,排序\n",
    "\n",
    "df1 = pd.DataFrame({'key':list('bbacaab'),\n",
    "                   'data1':[1,3,2,4,5,9,7]})\n",
    "df2 = pd.DataFrame({'key':list('abd'),\n",
    "                   'date2':[11,2,33]})\n",
    "print(df1)\n",
    "print(df2)\n",
    "print('=====================================')\n",
    "print(pd.merge(df1,df2,on = 'key',how = 'outer'))\n",
    "print(pd.merge(df1,df2,on = 'key',sort = True,how = 'outer'))\n",
    "# sort：按照字典顺序通过 连接键 对结果DataFrame进行排序。默认为False，设置为False会大幅提高性能\n",
    "\n",
    "print(pd.merge(df1,df2,on = 'key',how = 'outer').sort_values('data1'))\n",
    "# 也可直接用Dataframe的排序方法：sort_values，sort_index"
   ]
  },
  {
   "cell_type": "code",
   "execution_count": 84,
   "metadata": {
    "collapsed": false
   },
   "outputs": [
    {
     "name": "stdout",
     "output_type": "stream",
     "text": [
      "     A   B\n",
      "K0  A0  B0\n",
      "K1  A1  B1\n",
      "K2  A2  B2\n",
      "     C   D\n",
      "K0  C0  D0\n",
      "K2  C2  D2\n",
      "K3  C3  D3\n",
      "     A   B   C   D\n",
      "K0  A0  B0  C0  D0\n",
      "K2  A2  B2  C2  D2\n",
      "      A    B    C    D\n",
      "K0   A0   B0   C0   D0\n",
      "K1   A1   B1  NaN  NaN\n",
      "K2   A2   B2   C2   D2\n",
      "K3  NaN  NaN   C3   D3\n",
      "     C   D   A   B\n",
      "K0  C0  D0  A0  B0\n",
      "K2  C2  D2  A2  B2\n",
      "==============================\n",
      "   data1 key\n",
      "0      1   b\n",
      "1      3   b\n",
      "2      2   a\n",
      "3      4   c\n",
      "4      5   a\n",
      "5      9   a\n",
      "6      7   b\n",
      "   date2 key\n",
      "0     11   a\n",
      "1      2   b\n",
      "2     33   d\n",
      "==============================\n",
      "   data1 key_x  date2 key_y\n",
      "0      1     b     11     a\n",
      "1      3     b      2     b\n",
      "2      2     a     33     d\n",
      "   data1 key_1  date2 key_2\n",
      "0      1     b     11     a\n",
      "1      3     b      2     b\n",
      "2      2     a     33     d\n",
      "    A   B key\n",
      "0  A0  B0  K0\n",
      "1  A1  B1  K1\n",
      "2  A2  B2  K0\n",
      "3  A3  B3  K1\n",
      "     C   D\n",
      "K0  C0  D0\n",
      "K1  C1  D1\n",
      "    A   B key   C   D\n",
      "0  A0  B0  K0  C0  D0\n",
      "1  A1  B1  K1  C1  D1\n",
      "2  A2  B2  K0  C0  D0\n",
      "3  A3  B3  K1  C1  D1\n"
     ]
    }
   ],
   "source": [
    "# pd.join() → 直接通过索引链接\n",
    "\n",
    "left = pd.DataFrame({'A': ['A0', 'A1', 'A2'],\n",
    "                     'B': ['B0', 'B1', 'B2']},\n",
    "                    index=['K0', 'K1', 'K2'])\n",
    "right = pd.DataFrame({'C': ['C0', 'C2', 'C3'],\n",
    "                      'D': ['D0', 'D2', 'D3']},\n",
    "                     index=['K0', 'K2', 'K3'])\n",
    "print(left)\n",
    "print(right)\n",
    "print(left.join(right,how = 'inner'))  #取交集\n",
    "print(left.join(right,how = 'outer'))  #取并集\n",
    "print(right.join(left,how = 'inner'))\n",
    "\n",
    "\n",
    "# suffixes=('_x', '_y')默认\n",
    "df1 = pd.DataFrame({'key':list('bbacaab'),\n",
    "                   'data1':[1,3,2,4,5,9,7]})\n",
    "df2 = pd.DataFrame({'key':list('abd'),\n",
    "                   'date2':[11,2,33]})\n",
    "print('==============================')\n",
    "print(df1)\n",
    "print(df2)\n",
    "print('==============================')\n",
    "print(pd.merge(df1,df2,left_index = True,right_index = True))\n",
    "print(pd.merge(df1, df2, left_index=True, right_index=True, suffixes=('_1', '_2')))\n",
    "\n",
    "\n",
    "left = pd.DataFrame({'A': ['A0', 'A1', 'A2', 'A3'],\n",
    "                     'B': ['B0', 'B1', 'B2', 'B3'],\n",
    "                     'key': ['K0', 'K1', 'K0', 'K1']})\n",
    "right = pd.DataFrame({'C': ['C0', 'C1'],\n",
    "                      'D': ['D0', 'D1']},\n",
    "                     index=['K0', 'K1'])\n",
    "print(left)\n",
    "print(right)\n",
    "print(left.join(right, on = 'key'))\n",
    "# 等价于pd.merge(left, right, left_on='key', right_index=True, how='left', sort=False);\n",
    "# left的‘key’和right的index"
   ]
  },
  {
   "cell_type": "code",
   "execution_count": 85,
   "metadata": {
    "collapsed": false
   },
   "outputs": [
    {
     "data": {
      "text/plain": [
       "\"\\n【课程2.17】  连接与修补 concat、combine_first\\n\\n连接 - 沿轴执行连接操作\\n\\npd.concat(objs, axis=0, join='outer', join_axes=None, ignore_index=False,\\n          keys=None, levels=None, names=None, verify_integrity=False,\\n          copy=True)\\n \\n\""
      ]
     },
     "execution_count": 85,
     "metadata": {},
     "output_type": "execute_result"
    }
   ],
   "source": [
    "'''\n",
    "【课程2.17】  连接与修补 concat、combine_first\n",
    "\n",
    "连接 - 沿轴执行连接操作\n",
    "\n",
    "pd.concat(objs, axis=0, join='outer', join_axes=None, ignore_index=False,\n",
    "          keys=None, levels=None, names=None, verify_integrity=False,\n",
    "          copy=True)\n",
    " \n",
    "'''"
   ]
  },
  {
   "cell_type": "code",
   "execution_count": 113,
   "metadata": {
    "collapsed": false
   },
   "outputs": [
    {
     "name": "stdout",
     "output_type": "stream",
     "text": [
      "0    1\n",
      "1    2\n",
      "2    3\n",
      "3    a\n",
      "0    5\n",
      "1    2\n",
      "2    3\n",
      "3    4\n",
      "dtype: object\n",
      "   0  1\n",
      "0  1  5\n",
      "1  2  2\n",
      "2  3  3\n",
      "3  a  4\n",
      "-----------\n",
      "   0  1\n",
      "0  1  5\n",
      "1  2  2\n",
      "2  3  3\n",
      "3  a  4\n",
      "   0  1\n",
      "0  1  5\n",
      "1  2  2\n",
      "2  3  3\n",
      "3  a  4\n",
      "   0  1\n",
      "2  3  3\n",
      "1  2  2\n",
      "  one  two\n",
      "0   1    5\n",
      "1   2    2\n",
      "2   3    3\n",
      "3   a    4\n"
     ]
    }
   ],
   "source": [
    "# 连接：concat\n",
    "s1 = pd.Series([1,2,3,'a'])\n",
    "s2 = pd.Series([5,2,3,4])\n",
    "print(pd.concat([s1,s2]))  #行堆叠\n",
    "print(pd.concat([s1,s2],axis = 1))  #axis = 1 是列堆叠\n",
    "print('-----------')\n",
    "print(pd.concat([s1,s2],join = 'inner',axis = 1))  #取交集\n",
    "print(pd.concat([s1,s2],join = 'outer',axis = 1))  #取并集\n",
    "print(pd.concat([s1,s2],join_axes=[[2,1]],axis = 1))  \n",
    "## join：{'inner'，'outer'}，默认为“outer”。如何处理其他轴上的索引。outer为联合和inner为交集。\n",
    "# join_axes：指定联合的index\n",
    "\n",
    "print(pd.concat([s1,s2],keys = ['one','two'],axis = 1))  #覆盖列名"
   ]
  },
  {
   "cell_type": "code",
   "execution_count": 120,
   "metadata": {
    "collapsed": false
   },
   "outputs": [
    {
     "name": "stdout",
     "output_type": "stream",
     "text": [
      "     0    1    2\n",
      "0  NaN  3.0  5.0\n",
      "1 -4.6  NaN  NaN\n",
      "2  NaN  7.0  NaN\n",
      "      0    1    2\n",
      "1 -42.6  NaN -8.2\n",
      "2  -5.0  1.6  4.0\n",
      "     0    1    2\n",
      "0  NaN  3.0  5.0\n",
      "1 -4.6  NaN -8.2\n",
      "2 -5.0  7.0  4.0\n",
      "     0    1    2\n",
      "0  NaN  3.0  5.0\n",
      "1 -4.6  NaN  NaN\n",
      "2  NaN  7.0  NaN\n",
      "      0    1    2\n",
      "0   NaN  3.0  5.0\n",
      "1 -42.6  NaN -8.2\n",
      "2  -5.0  1.6  4.0\n"
     ]
    }
   ],
   "source": [
    "#修补 pd.combine_first()\n",
    "df1 = pd.DataFrame([[np.nan, 3., 5.], [-4.6, np.nan, np.nan],[np.nan, 7., np.nan]])\n",
    "df2 = pd.DataFrame([[-42.6, np.nan, -8.2], [-5., 1.6, 4]],index=[1, 2])\n",
    "print(df1)\n",
    "print(df2)\n",
    "print(df1.combine_first(df2))  #修补是用df2已有的值去填充df1为空值的值，但df1本身不变\n",
    "print(df1)\n",
    "df1.update(df2)  #df1的值完全被df2给覆盖\n",
    "print(df1) "
   ]
  },
  {
   "cell_type": "code",
   "execution_count": 121,
   "metadata": {
    "collapsed": false
   },
   "outputs": [
    {
     "data": {
      "text/plain": [
       "'\\n【课程2.18】  去重及替换\\n\\n.duplicated / .replace\\n \\n'"
      ]
     },
     "execution_count": 121,
     "metadata": {},
     "output_type": "execute_result"
    }
   ],
   "source": [
    "'''\n",
    "【课程2.18】  去重及替换\n",
    "\n",
    ".duplicated / .replace\n",
    " \n",
    "'''"
   ]
  },
  {
   "cell_type": "code",
   "execution_count": 13,
   "metadata": {
    "collapsed": false
   },
   "outputs": [
    {
     "name": "stdout",
     "output_type": "stream",
     "text": [
      "0     False\n",
      "1     False\n",
      "2     False\n",
      "3     False\n",
      "4      True\n",
      "5      True\n",
      "6      True\n",
      "7      True\n",
      "8     False\n",
      "9     False\n",
      "10     True\n",
      "11     True\n",
      "dtype: bool\n",
      "0     2\n",
      "1     3\n",
      "2     4\n",
      "3     5\n",
      "8     1\n",
      "9    45\n",
      "dtype: int64\n",
      "[ 1  2  3  4  5 45]\n",
      "0     2\n",
      "1     3\n",
      "2     4\n",
      "3     5\n",
      "8     1\n",
      "9    45\n",
      "dtype: int64\n",
      "0     2\n",
      "1     3\n",
      "2     4\n",
      "3     5\n",
      "8     1\n",
      "9    45\n",
      "dtype: int64\n"
     ]
    }
   ],
   "source": [
    "#去重 duplicated 和 replace\n",
    "s = pd.Series([2,3,4,5,3,2,3,2,1,45,5,3])\n",
    "print(s.duplicated())\n",
    "print(s[s.duplicated() == False])  #直接得到Seriese\n",
    "print(np.unique(s))  #这个得到的是序列\n",
    "\n",
    "s1 = s.drop_duplicates()\n",
    "print(s1)\n",
    "s.drop_duplicates(inplace = True)  #写inplace = True的话就是直接改变s\n",
    "s.drop_duplicates(inplace = True)\n",
    "print(s)"
   ]
  },
  {
   "cell_type": "code",
   "execution_count": 137,
   "metadata": {
    "collapsed": false
   },
   "outputs": [
    {
     "name": "stdout",
     "output_type": "stream",
     "text": [
      "0    NaN\n",
      "1      s\n",
      "2      c\n",
      "3    NaN\n",
      "4    NaN\n",
      "5      z\n",
      "6      s\n",
      "7      d\n",
      "dtype: object\n",
      "0    NaN\n",
      "1    NaN\n",
      "2      c\n",
      "3    NaN\n",
      "4    NaN\n",
      "5      z\n",
      "6    NaN\n",
      "7      d\n",
      "dtype: object\n",
      "0    hello world!\n",
      "1             123\n",
      "2               c\n",
      "3    hello world!\n",
      "4    hello world!\n",
      "5               z\n",
      "6             123\n",
      "7               d\n",
      "dtype: object\n"
     ]
    }
   ],
   "source": [
    "# 替换 .replace\n",
    "\n",
    "s = pd.Series(list('ascaazsd'))\n",
    "print(s.replace('a', np.nan))\n",
    "print(s.replace(['a','s'] ,np.nan))\n",
    "print(s.replace({'a':'hello world!','s':123}))\n",
    "# 可一次性替换一个值或多个值\n",
    "# 可传入列表或字典"
   ]
  },
  {
   "cell_type": "code",
   "execution_count": 138,
   "metadata": {
    "collapsed": false
   },
   "outputs": [
    {
     "data": {
      "text/plain": [
       "'\\n【课程2.19】  数据分组\\n\\n分组统计 - groupby功能\\n\\n① 根据某些条件将数据拆分成组\\n② 对每个组独立应用函数\\n③ 将结果合并到一个数据结构中\\n\\nDataframe在行（axis=0）或列（axis=1）上进行分组，将一个函数应用到各个分组并产生一个新值，然后函数执行结果被合并到最终的结果对象中。\\n\\ndf.groupby(by=None, axis=0, level=None, as_index=True, sort=True, group_keys=True, squeeze=False, **kwargs)\\n \\n'"
      ]
     },
     "execution_count": 138,
     "metadata": {},
     "output_type": "execute_result"
    }
   ],
   "source": [
    "'''\n",
    "【课程2.19】  数据分组\n",
    "\n",
    "分组统计 - groupby功能\n",
    "\n",
    "① 根据某些条件将数据拆分成组\n",
    "② 对每个组独立应用函数\n",
    "③ 将结果合并到一个数据结构中\n",
    "\n",
    "Dataframe在行（axis=0）或列（axis=1）上进行分组，将一个函数应用到各个分组并产生一个新值，然后函数执行结果被合并到最终的结果对象中。\n",
    "\n",
    "df.groupby(by=None, axis=0, level=None, as_index=True, sort=True, group_keys=True, squeeze=False, **kwargs)\n",
    " \n",
    "'''"
   ]
  },
  {
   "cell_type": "code",
   "execution_count": 4,
   "metadata": {
    "collapsed": false
   },
   "outputs": [
    {
     "name": "stdout",
     "output_type": "stream",
     "text": [
      "       A  B         C         D\n",
      "0    one  a  2.077321  0.427955\n",
      "1    two  b  0.715021  0.070350\n",
      "2  three  c  0.811807  1.659202\n",
      "3   four  d  0.800087  1.085792\n",
      "              C         D\n",
      "A                        \n",
      "four   0.800087  1.085792\n",
      "one    2.077321  0.427955\n",
      "three  0.811807  1.659202\n",
      "two    0.715021  0.070350\n",
      "                C         D\n",
      "A     B                    \n",
      "four  d  0.800087  1.085792\n",
      "one   a  2.077321  0.427955\n",
      "three c  0.811807  1.659202\n",
      "two   b  0.715021  0.070350\n",
      "A\n",
      "four     1.085792\n",
      "one      0.427955\n",
      "three    1.659202\n",
      "two      0.070350\n",
      "Name: D, dtype: float64\n",
      "              C         D\n",
      "A                        \n",
      "four   0.800087  1.085792\n",
      "one    2.077321  0.427955\n",
      "three  0.811807  1.659202\n",
      "two    0.715021  0.070350 <class 'pandas.core.frame.DataFrame'> \n",
      " Index(['C', 'D'], dtype='object')\n",
      "                C         D\n",
      "A     B                    \n",
      "four  d  0.800087  1.085792\n",
      "one   a  2.077321  0.427955\n",
      "three c  0.811807  1.659202\n",
      "two   b  0.715021  0.070350 <class 'pandas.core.frame.DataFrame'> \n",
      " Index(['C', 'D'], dtype='object')\n",
      "A\n",
      "four     1.085792\n",
      "one      0.427955\n",
      "three    1.659202\n",
      "two      0.070350\n",
      "Name: D, dtype: float64 <class 'pandas.core.series.Series'>\n"
     ]
    }
   ],
   "source": [
    "import numpy as np\n",
    "import pandas as pd\n",
    "data = pd.DataFrame({'A':['one','two','three','four'],\n",
    "                   'B':['a','b','c','d'],\n",
    "                   'C':np.random.randn(4),\n",
    "                   'D':np.random.randn(4)})\n",
    "print(data)\n",
    "a = data.groupby('A').mean()\n",
    "b = data.groupby(['A','B']).mean()\n",
    "c = data.groupby(['A'])['D'].mean()\n",
    "print(a)\n",
    "print(b)\n",
    "print(c)\n",
    "print(a,type(a),'\\n',a.columns)\n",
    "print(b,type(b),'\\n',b.columns)\n",
    "print(c,type(c))\n",
    "# 通过分组后的计算，得到一个新的dataframe\n",
    "# 默认axis = 0，以行来分组\n",
    "# 可单个或多个（[]）列分组"
   ]
  },
  {
   "cell_type": "code",
   "execution_count": 4,
   "metadata": {
    "collapsed": false
   },
   "outputs": [
    {
     "name": "stdout",
     "output_type": "stream",
     "text": [
      "   X  Y\n",
      "0  A  1\n",
      "1  B  4\n",
      "2  A  3\n",
      "3  B  2\n",
      "<pandas.core.groupby.DataFrameGroupBy object at 0x000001FE7B24E630> <class 'pandas.core.groupby.DataFrameGroupBy'>\n",
      "-----\n",
      "   Y\n",
      "X   \n",
      "A  2\n",
      "B  3\n",
      "=====================\n",
      "[('A',    X  Y\n",
      "0  A  1\n",
      "2  A  3), ('B',    X  Y\n",
      "1  B  4\n",
      "3  B  2)]\n",
      "1\n",
      "   X  Y\n",
      "0  A  1\n",
      "2\n",
      "   X  Y\n",
      "3  B  2\n",
      "3\n",
      "   X  Y\n",
      "2  A  3\n",
      "4\n",
      "   X  Y\n",
      "1  B  4\n",
      "-----------------------\n",
      "   X  Y\n",
      "0  A  1\n",
      "2  A  3\n",
      "   X  Y\n",
      "1  B  4\n",
      "3  B  2\n",
      "{'A': [0, 2], 'B': [1, 3]}\n",
      "[0, 2]\n",
      "{'A': [0, 2], 'B': [1, 3]}\n",
      "[0, 2]\n",
      "======================\n",
      "X\n",
      "A    2\n",
      "B    2\n",
      "dtype: int64\n",
      "Y\n",
      "1    1\n",
      "2    1\n",
      "3    1\n",
      "4    1\n",
      "dtype: int64\n",
      "     A      B         C         D\n",
      "0  foo    one  0.768378  0.118206\n",
      "1  bar    one  0.027677  0.481363\n",
      "2  foo    two -1.094841  2.339091\n",
      "3  bar  three  2.068234 -0.544595\n",
      "4  foo    two  1.168303 -1.022214\n",
      "5  bar    two  0.475627  1.077705\n",
      "6  foo    one  0.083178 -1.185369\n",
      "7  foo  three  1.245790 -0.488622\n",
      "{('bar', 'two'): [5], ('foo', 'one'): [0, 6], ('foo', 'three'): [7], ('bar', 'three'): [3], ('bar', 'one'): [1], ('foo', 'two'): [2, 4]}\n",
      "[5]\n"
     ]
    }
   ],
   "source": [
    "# 分组 - 可迭代对象\n",
    "\n",
    "df = pd.DataFrame({'X' : ['A', 'B', 'A', 'B'], 'Y' : [1, 4, 3, 2]})\n",
    "print(df)\n",
    "print(df.groupby('X'), type(df.groupby('X')))\n",
    "print('-----')\n",
    "print(df.groupby('X').mean())  #以元祖的形式展现\n",
    "print('=====================')\n",
    "print(list(df.groupby('X')))\n",
    "for n,g in df.groupby('Y'):\n",
    "    print(n)\n",
    "    print(g)\n",
    "\n",
    "print('-----------------------')\n",
    "print(df.groupby('X').get_group('A'))\n",
    "print(df.groupby('X').get_group('B'))  # .get_group()提取分组后的组\n",
    "grouped = df.groupby('X')\n",
    "print(grouped.groups)\n",
    "print(grouped.groups['A'])\n",
    "print(df.groupby('X').groups)\n",
    "print(df.groupby('X').groups['A'])  # .groups：将分组后的groups转为dict\n",
    "                                    # 可以字典索引方法来查看groups里的元素\n",
    "print('======================')\n",
    "print(grouped.size())  #查看每个分组的元素个数\n",
    "print(df.groupby('Y').size())  \n",
    "\n",
    "\n",
    "#对多个元素进行分组\n",
    "\n",
    "df = pd.DataFrame({'A' : ['foo', 'bar', 'foo', 'bar','foo', 'bar', 'foo', 'foo'],\n",
    "                   'B' : ['one', 'one', 'two', 'three', 'two', 'two', 'one', 'three'],\n",
    "                   'C' : np.random.randn(8),\n",
    "                   'D' : np.random.randn(8)})\n",
    "print(df)\n",
    "grouped = df.groupby(['A','B']).groups\n",
    "print(grouped)\n",
    "print(grouped[('bar','two')])"
   ]
  },
  {
   "cell_type": "code",
   "execution_count": 21,
   "metadata": {
    "collapsed": false
   },
   "outputs": [
    {
     "name": "stdout",
     "output_type": "stream",
     "text": [
      "    a   b   c   d\n",
      "0   0   1   2   3\n",
      "1   4   5   6   7\n",
      "2   8   9  10  11\n",
      "3  12  13  14  15\n",
      "=====================\n",
      "<pandas.core.groupby.DataFrameGroupBy object at 0x000001FE7B4ED5C0>\n",
      "   one  two\n",
      "0    2    4\n",
      "1   10   12\n",
      "2   18   20\n",
      "3   26   28\n",
      "{'one': ['a', 'c'], 'two': ['b', 'd']}\n",
      "    a   c\n",
      "0   0   2\n",
      "1   4   6\n",
      "2   8  10\n",
      "3  12  14\n",
      "-----------------\n",
      "a    one\n",
      "b    two\n",
      "c    one\n",
      "d    two\n",
      "dtype: object\n",
      "one    2\n",
      "two    2\n",
      "dtype: int64\n"
     ]
    }
   ],
   "source": [
    "# 通过字典或者Series分组\n",
    "import numpy as np\n",
    "import pandas as pd\n",
    "\n",
    "\n",
    "df = pd.DataFrame(np.arange(16).reshape(4,4),columns = [list('abcd')])\n",
    "print(df)\n",
    "print('=====================')\n",
    "\n",
    "mapping = {'a':'one','b':'two','c':'one','d':'two'}\n",
    "grouped = df.groupby(mapping,axis = 1)\n",
    "print(grouped)\n",
    "print(grouped.sum())\n",
    "print(grouped.groups)\n",
    "print(grouped.get_group('one'))\n",
    "\n",
    "print('-----------------')\n",
    "s = pd.Series(mapping)\n",
    "print(s)\n",
    "print(s.groupby(s).count())"
   ]
  },
  {
   "cell_type": "code",
   "execution_count": 22,
   "metadata": {
    "collapsed": false
   },
   "outputs": [
    {
     "name": "stdout",
     "output_type": "stream",
     "text": [
      "      a   b   c   d\n",
      "abc   0   1   2   3\n",
      "bcd   4   5   6   7\n",
      "aa    8   9  10  11\n",
      "b    12  13  14  15 \n",
      "\n",
      "    a   b   c   d\n",
      "1  12  13  14  15\n",
      "2   8   9  10  11\n",
      "3   4   6   8  10\n"
     ]
    }
   ],
   "source": [
    "# 通过函数分组\n",
    "\n",
    "df = pd.DataFrame(np.arange(16).reshape(4,4),\n",
    "                  columns = ['a','b','c','d'],\n",
    "                 index = ['abc','bcd','aa','b'])\n",
    "print(df,'\\n')\n",
    "print(df.groupby(len).sum())\n",
    "# 按照字母长度分组"
   ]
  },
  {
   "cell_type": "code",
   "execution_count": 23,
   "metadata": {
    "collapsed": false
   },
   "outputs": [
    {
     "name": "stdout",
     "output_type": "stream",
     "text": [
      "<pandas.core.groupby.SeriesGroupBy object at 0x000001FE7B4FC358>\n",
      "1    1\n",
      "2    2\n",
      "3    3\n",
      "dtype: int64 → first：非NaN的第一个值\n",
      "\n",
      "1    10\n",
      "2    20\n",
      "3    30\n",
      "dtype: int64 → last：非NaN的最后一个值\n",
      "\n",
      "1    11\n",
      "2    22\n",
      "3    33\n",
      "dtype: int64 → sum：非NaN的和\n",
      "\n",
      "1     5.5\n",
      "2    11.0\n",
      "3    16.5\n",
      "dtype: float64 → mean：非NaN的平均值\n",
      "\n",
      "1     5.5\n",
      "2    11.0\n",
      "3    16.5\n",
      "dtype: float64 → median：非NaN的算术中位数\n",
      "\n",
      "1    2\n",
      "2    2\n",
      "3    2\n",
      "dtype: int64 → count：非NaN的值\n",
      "\n",
      "1    1\n",
      "2    2\n",
      "3    3\n",
      "dtype: int64 → min、max：非NaN的最小值、最大值\n",
      "\n",
      "1     6.363961\n",
      "2    12.727922\n",
      "3    19.091883\n",
      "dtype: float64 → std，var：非NaN的标准差和方差\n",
      "\n",
      "1    10\n",
      "2    40\n",
      "3    90\n",
      "dtype: int64 → prod：非NaN的积\n",
      "\n"
     ]
    }
   ],
   "source": [
    "# 分组计算函数方法\n",
    "\n",
    "s = pd.Series([1, 2, 3, 10, 20, 30], index = [1, 2, 3, 1, 2, 3])\n",
    "grouped = s.groupby(level=0)  # 唯一索引用.groupby(level=0)，将同一个index的分为一组\n",
    "print(grouped)\n",
    "print(grouped.first(),'→ first：非NaN的第一个值\\n')\n",
    "print(grouped.last(),'→ last：非NaN的最后一个值\\n')\n",
    "print(grouped.sum(),'→ sum：非NaN的和\\n')\n",
    "print(grouped.mean(),'→ mean：非NaN的平均值\\n')\n",
    "print(grouped.median(),'→ median：非NaN的算术中位数\\n')\n",
    "print(grouped.count(),'→ count：非NaN的值\\n')\n",
    "print(grouped.min(),'→ min、max：非NaN的最小值、最大值\\n')\n",
    "print(grouped.std(),'→ std，var：非NaN的标准差和方差\\n')\n",
    "print(grouped.prod(),'→ prod：非NaN的积\\n')"
   ]
  },
  {
   "cell_type": "code",
   "execution_count": 32,
   "metadata": {
    "collapsed": false
   },
   "outputs": [
    {
     "name": "stdout",
     "output_type": "stream",
     "text": [
      "   a         b         c         d\n",
      "0  1  0.976148  0.184437  0.463273\n",
      "1  1  0.400146  0.727081  0.053033\n",
      "2  2  0.294292  0.801734  0.749220\n",
      "3  2  0.628699  0.326889  0.302713\n",
      "          b                   c                   d          \n",
      "       mean       sum      mean       sum      mean       sum\n",
      "a                                                            \n",
      "1  0.688147  1.376294  0.455759  0.911519  0.258153  0.516306\n",
      "2  0.461495  0.922991  0.564312  1.128624  0.525966  1.051933\n",
      "    result2   result1\n",
      "a                    \n",
      "1  1.376294  0.688147\n",
      "2  0.922991  0.461495\n"
     ]
    }
   ],
   "source": [
    "# 多函数计算：agg()\n",
    "\n",
    "df = pd.DataFrame({'a':[1,1,2,2],\n",
    "                  'b':np.random.rand(4),\n",
    "                  'c':np.random.rand(4),\n",
    "                  'd':np.random.rand(4),})\n",
    "print(df)\n",
    "print(df.groupby('a').agg(['mean',np.sum]))\n",
    "print(df.groupby('a')['b'].agg({'result1':np.mean,\n",
    "                               'result2':np.sum}))\n",
    "# 函数写法可以用str，或者np.方法\n",
    "# 可以通过list，dict传入，当用dict时，key名为columns"
   ]
  },
  {
   "cell_type": "code",
   "execution_count": 33,
   "metadata": {
    "collapsed": false
   },
   "outputs": [
    {
     "data": {
      "text/plain": [
       "'\\n【课程2.20】  分组转换及一般性“拆分-应用-合并”\\n\\ntransform / apply\\n \\n'"
      ]
     },
     "execution_count": 33,
     "metadata": {},
     "output_type": "execute_result"
    }
   ],
   "source": [
    "'''\n",
    "【课程2.20】  分组转换及一般性“拆分-应用-合并”\n",
    "\n",
    "transform / apply\n",
    " \n",
    "'''"
   ]
  },
  {
   "cell_type": "code",
   "execution_count": 50,
   "metadata": {
    "collapsed": false
   },
   "outputs": [
    {
     "name": "stdout",
     "output_type": "stream",
     "text": [
      "      data1     data2 key1 key2\n",
      "0  0.087705  0.492154    a  one\n",
      "1  0.032606  0.005143    a  two\n",
      "2  0.318552  0.290860    b  one\n",
      "3  0.587792  0.117252    b  two\n",
      "4  0.613669  0.746408    a  one\n",
      "         data1     data2\n",
      "key1                    \n",
      "a     0.244660  0.414568\n",
      "b     0.453172  0.204056\n",
      "   平均值_data1_x  平均值_data2_x 平均值_key1 平均值_key2  平均值_data1_y  平均值_data2_y\n",
      "0     0.087705     0.492154        a      one     0.244660     0.414568\n",
      "1     0.032606     0.005143        a      two     0.244660     0.414568\n",
      "4     0.613669     0.746408        a      one     0.244660     0.414568\n",
      "2     0.318552     0.290860        b      one     0.453172     0.204056\n",
      "3     0.587792     0.117252        b      two     0.453172     0.204056\n",
      "============\n",
      "         data1     data2\n",
      "key2                    \n",
      "one   1.019925  1.529422\n",
      "two   0.620398  0.122395\n",
      "      data1     data2\n",
      "0  0.339975  0.509807\n",
      "1  0.310199  0.061198\n",
      "2  0.339975  0.509807\n",
      "3  0.310199  0.061198\n",
      "4  0.339975  0.509807\n"
     ]
    }
   ],
   "source": [
    "# 数据分组转换,transform\n",
    "\n",
    "df = pd.DataFrame({'data1':np.random.rand(5),\n",
    "                  'data2':np.random.rand(5),\n",
    "                  'key1':list('aabba'),\n",
    "                  'key2':['one','two','one','two','one']})\n",
    "k_mean = df.groupby('key1').mean()\n",
    "print(df)\n",
    "print(k_mean)\n",
    "print(pd.merge(df,k_mean,left_on = 'key1',right_index = True).add_prefix('平均值_'))  # .add_prefix('mean_')：添加前缀\n",
    "print('============')\n",
    "print(df.groupby('key2').sum())\n",
    "print(df.groupby('key2').transform(np.mean))\n",
    "# data1、data2每个位置元素取对应分组列的均值\n",
    "# 字符串不能进行计算"
   ]
  },
  {
   "cell_type": "code",
   "execution_count": 58,
   "metadata": {
    "collapsed": false
   },
   "outputs": [
    {
     "name": "stdout",
     "output_type": "stream",
     "text": [
      "      data1     data2 key1 key2\n",
      "0  0.972133  0.056217    a  one\n",
      "1  0.968594  0.077361    a  two\n",
      "2  0.340256  0.807544    b  one\n",
      "3  0.334932  0.979117    b  two\n",
      "4  0.586321  0.716925    a  one\n",
      "               data1     data2\n",
      "key2                          \n",
      "one  count  3.000000  3.000000\n",
      "     mean   0.632903  0.526895\n",
      "     std    0.318504  0.410130\n",
      "     min    0.340256  0.056217\n",
      "     25%    0.463288  0.386571\n",
      "     50%    0.586321  0.716925\n",
      "     75%    0.779227  0.762235\n",
      "     max    0.972133  0.807544\n",
      "two  count  2.000000  2.000000\n",
      "     mean   0.651763  0.528239\n",
      "     std    0.448067  0.637637\n",
      "     min    0.334932  0.077361\n",
      "     25%    0.493347  0.302800\n",
      "     50%    0.651763  0.528239\n",
      "     75%    0.810179  0.753678\n",
      "     max    0.968594  0.979117\n",
      "         data1     data2\n",
      "key2                    \n",
      "one   0.632903  0.526895\n",
      "two   0.651763  0.528239\n",
      "           data1     data2 key1 key2\n",
      "key1                                \n",
      "a    0  0.972133  0.056217    a  one\n",
      "     1  0.968594  0.077361    a  two\n",
      "b    2  0.340256  0.807544    b  one\n",
      "     3  0.334932  0.979117    b  two \n",
      "\n",
      "key1   \n",
      "a     0    0.056217\n",
      "      1    0.077361\n",
      "      4    0.716925\n",
      "b     2    0.807544\n",
      "      3    0.979117\n",
      "Name: data2, dtype: float64\n",
      "<class 'pandas.core.series.Series'>\n"
     ]
    }
   ],
   "source": [
    "# 一般化Groupby方法：apply\n",
    "\n",
    "df = pd.DataFrame({'data1':np.random.rand(5),\n",
    "                  'data2':np.random.rand(5),\n",
    "                  'key1':list('aabba'),\n",
    "                  'key2':['one','two','one','two','one']})\n",
    "print(df)\n",
    "print(df.groupby('key2').apply(lambda x:x.describe()))  #apply是直接对生成的新函数直接应用函数\n",
    "print(df.groupby('key2').apply(lambda z:z.mean()))\n",
    "# apply直接运行其中的函数\n",
    "# 这里为匿名函数，直接描述分组后的统计量\n",
    "def f_df1(d,n):\n",
    "    return(d.sort_index()[:n])\n",
    "def f_df2(d,k1):\n",
    "    return(d[k1])\n",
    "print(df.groupby('key1').apply(f_df1,2),'\\n')\n",
    "print(df.groupby('key1').apply(f_df2,'data2'))\n",
    "print(type(df.groupby('key1').apply(f_df2,'data2')))\n",
    "# f_df1函数：返回排序后的前n行数据\n",
    "# f_df2函数：返回分组后表的k1列，结果为Series，层次化索引\n",
    "# 直接运行f_df函数\n",
    "# 参数直接写在后面，也可以为.apply(f_df,n = 2))"
   ]
  },
  {
   "cell_type": "code",
   "execution_count": 59,
   "metadata": {
    "collapsed": false
   },
   "outputs": [
    {
     "data": {
      "text/plain": [
       "'\\n【课程2.21】  透视表及交叉表\\n\\n类似excel数据透视 - pivot table / crosstab\\n \\n'"
      ]
     },
     "execution_count": 59,
     "metadata": {},
     "output_type": "execute_result"
    }
   ],
   "source": [
    "'''\n",
    "【课程2.21】  透视表及交叉表\n",
    "\n",
    "类似excel数据透视 - pivot table / crosstab\n",
    " \n",
    "'''"
   ]
  },
  {
   "cell_type": "code",
   "execution_count": 84,
   "metadata": {
    "collapsed": false
   },
   "outputs": [
    {
     "name": "stdout",
     "output_type": "stream",
     "text": [
      "        date key    values\n",
      "0 2019-08-09   a  0.147289\n",
      "1 2019-03-18   b  0.924898\n",
      "2 2019-03-19   a  0.666429\n",
      "3 2019-08-09   b  0.302282\n",
      "4 2019-03-18   b  0.509237\n",
      "5 2019-03-19   b  0.379937\n",
      "6 2019-08-09   a  0.507822\n",
      "7 2019-03-18   a  0.204948\n",
      "8 2019-03-19   b  0.390001\n",
      "====================\n",
      "key                a         b\n",
      "date                          \n",
      "2019-03-18  0.204948  1.434135\n",
      "2019-03-19  0.666429  0.769937\n",
      "2019-08-09  0.655111  0.302282\n",
      "date        key\n",
      "2019-03-18  a      0.204948\n",
      "            b      1.434135\n",
      "2019-03-19  a      0.666429\n",
      "            b      0.769937\n",
      "2019-08-09  a      0.655111\n",
      "            b      0.302282\n",
      "Name: values, dtype: float64\n"
     ]
    }
   ],
   "source": [
    "# 透视表：pivot_table\n",
    "# pd.pivot_table(data, values=None, index=None, columns=None, aggfunc='mean', fill_value=None, margins=False, dropna=True, margins_name='All')\n",
    "\n",
    "date = ['20190809','20190318','20190319']*3\n",
    "rng = pd.to_datetime(date)\n",
    "df = pd.DataFrame({'date':rng,\n",
    "                  'key':list('ababbbaab'),\n",
    "                  'values':np.random.rand(9)})\n",
    "print(df)\n",
    "print('====================')\n",
    "print(pd.pivot_table(df,values = 'values',index = 'date',columns = 'key',aggfunc = np.sum))\n",
    "print(pd.pivot_table(df,values = 'values',index = ['date','key'],aggfunc = np.sum))\n",
    "# data：DataFrame对象\n",
    "# values：要聚合的列或列的列表\n",
    "# index：数据透视表的index，从原数据的列中筛选\n",
    "# columns：数据透视表的columns，从原数据的列中筛选\n",
    "# aggfunc：用于聚合的函数，默认为numpy.mean，支持numpy计算方法"
   ]
  },
  {
   "cell_type": "code",
   "execution_count": 85,
   "metadata": {
    "collapsed": false
   },
   "outputs": [
    {
     "name": "stdout",
     "output_type": "stream",
     "text": [
      "        date key    values\n",
      "0 2017-05-01   a  4.961912\n",
      "1 2017-05-02   b  1.573091\n",
      "2 2017-05-03   c  1.680629\n",
      "3 2017-05-01   d  9.573270\n",
      "4 2017-05-02   a  3.909101\n",
      "5 2017-05-03   b  5.295970\n",
      "6 2017-05-01   c  9.430170\n",
      "7 2017-05-02   d  3.941494\n",
      "8 2017-05-03   a  6.859847\n",
      "-----\n",
      "key                a         b         c         d\n",
      "date                                              \n",
      "2017-05-01  4.961912       NaN  9.430170  9.573270\n",
      "2017-05-02  3.909101  1.573091       NaN  3.941494\n",
      "2017-05-03  6.859847  5.295970  1.680629       NaN\n",
      "-----\n",
      "date        key\n",
      "2017-05-01  a      1.0\n",
      "            c      1.0\n",
      "            d      1.0\n",
      "2017-05-02  a      1.0\n",
      "            b      1.0\n",
      "            d      1.0\n",
      "2017-05-03  a      1.0\n",
      "            b      1.0\n",
      "            c      1.0\n",
      "Name: values, dtype: float64\n",
      "-----\n"
     ]
    }
   ],
   "source": [
    "# 透视表：pivot_table\n",
    "# pd.pivot_table(data, values=None, index=None, columns=None, aggfunc='mean', fill_value=None, margins=False, dropna=True, margins_name='All')\n",
    "import numpy as np\n",
    "import pandas as pd\n",
    "date = ['2017-5-1','2017-5-2','2017-5-3']*3\n",
    "rng = pd.to_datetime(date)\n",
    "df = pd.DataFrame({'date':rng,\n",
    "                   'key':list('abcdabcda'),\n",
    "                  'values':np.random.rand(9)*10})\n",
    "print(df)\n",
    "print('-----')\n",
    "\n",
    "print(pd.pivot_table(df, values = 'values', index = 'date', columns = 'key', aggfunc=np.sum))  # 也可以写 aggfunc='sum'\n",
    "print('-----')\n",
    "# data：DataFrame对象\n",
    "# values：要聚合的列或列的列表\n",
    "# index：数据透视表的index，从原数据的列中筛选\n",
    "# columns：数据透视表的columns，从原数据的列中筛选\n",
    "# aggfunc：用于聚合的函数，默认为numpy.mean，支持numpy计算方法\n",
    "\n",
    "print(pd.pivot_table(df, values = 'values', index = ['date','key'], aggfunc=len))\n",
    "print('-----')\n",
    "# 这里就分别以date、key共同做数据透视，值为values：统计不同（date，key）情况下values的平均值\n",
    "# aggfunc=len(或者count)：计数"
   ]
  },
  {
   "cell_type": "code",
   "execution_count": 2,
   "metadata": {
    "collapsed": false
   },
   "outputs": [
    {
     "name": "stdout",
     "output_type": "stream",
     "text": [
      "  one  three two\n",
      "0  wo      1   a\n",
      "1  ai      2   b\n",
      "2  ni      3   c\n",
      "3  wo      4   c\n",
      "4  ni      5   b\n",
      "5  ai      6   a\n",
      "two  a  b  c\n",
      "one         \n",
      "ai   1  1  0\n",
      "ni   0  1  1\n",
      "wo   1  0  1\n",
      "------------------------\n",
      "two         a         b         c\n",
      "one                              \n",
      "ai   0.166667  0.166667  0.000000\n",
      "ni   0.000000  0.166667  0.166667\n",
      "wo   0.166667  0.000000  0.166667\n",
      "=====================\n",
      "0    1\n",
      "1    2\n",
      "2    3\n",
      "3    4\n",
      "4    5\n",
      "5    6\n",
      "Name: three, dtype: int64\n",
      "two    a    b    c\n",
      "one               \n",
      "ai   6.0  2.0  NaN\n",
      "ni   NaN  5.0  3.0\n",
      "wo   1.0  NaN  4.0\n"
     ]
    }
   ],
   "source": [
    "# 交叉表：crosstab\n",
    "# 默认情况下，crosstab计算因子的频率表，比如用于str的数据透视分析\n",
    "# pd.crosstab(index, columns, values=None, rownames=None, colnames=None, aggfunc=None, margins=False, dropna=True, normalize=False)\n",
    "import numpy as np\n",
    "import pandas as pd\n",
    "\n",
    "df = pd.DataFrame({'one':['wo','ai','ni','wo','ni','ai'],\n",
    "     'two':list('abccba'),\n",
    "     'three':[1,2,3,4,5,6]})\n",
    "print(df)\n",
    "print(pd.crosstab(df['one'],df['two'])) #计算两列表中出现某一组值得到频率\n",
    "\n",
    "\n",
    "print('------------------------')\n",
    "print(pd.crosstab(df['one'],df['two'],normalize = True))  #计算某一组值在所有出现值中所占得到百分比\n",
    "\n",
    "print('=====================')\n",
    "print(df['three'])\n",
    "print(pd.crosstab(df['one'],df['two'],values = df['three'],aggfunc = np.sum ))   #将df【‘three’】的值填入相应的值里面"
   ]
  },
  {
   "cell_type": "code",
   "execution_count": 63,
   "metadata": {
    "collapsed": false
   },
   "outputs": [
    {
     "name": "stdout",
     "output_type": "stream",
     "text": [
      "        key1       key2\n",
      "0  62.761717  13.224981\n",
      "1  16.713685  63.863733\n",
      "2  78.256067  24.465214\n",
      "3   9.248482  38.676531\n",
      "4   0.727858  31.502122\n",
      "33.54156199371791\n",
      "16.71368489282753\n",
      "34.34651631355415\n",
      "31.502122044129056\n",
      "        key1       key2  key1_sumsum  key2_sumsum\n",
      "0  62.761717  13.224981    62.761717    13.224981\n",
      "1  16.713685  63.863733    79.475402    77.088714\n",
      "2  78.256067  24.465214   157.731470   101.553928\n",
      "3   9.248482  38.676531   166.979952   140.230460\n",
      "4   0.727858  31.502122   167.707810   171.732582\n",
      "-------------------------\n",
      "请输入你的元素(中间用逗号隔开）：1\n",
      "0    1\n",
      "dtype: object\n",
      "这是一个唯一元素的数组\n",
      "----------\n",
      "   art  english gender  math    name\n",
      "0   90       90      M    90    Jack\n",
      "1   89       89      M    89     Tom\n",
      "2   78       90      F    90   Marry\n",
      "3   89       78      M    78    Zack\n",
      "4   90       60      F    60  Heheda\n"
     ]
    }
   ],
   "source": [
    "#作业练习\n",
    "df = pd.DataFrame(np.random.rand(5,2)*100,columns = ['key1','key2'])\n",
    "print(df)\n",
    "print(df['key1'].mean())\n",
    "print(df['key1'].median())\n",
    "print(df['key2'].mean())\n",
    "print(df['key2'].median())\n",
    "df['key1_sumsum'] = df['key1'].cumsum()\n",
    "df['key2_sumsum'] = df['key2'].cumsum()\n",
    "print(df)\n",
    "print('-------------------------')\n",
    "\n",
    "s = input('请输入你的元素(中间用逗号隔开）：')\n",
    "s1 = s.split(',')\n",
    "ds = pd.Series(s1)\n",
    "print(ds)\n",
    "def f(s):\n",
    "    new_s = s.unique()\n",
    "    if len(new_s) == len(s):\n",
    "        print('这是一个唯一元素的数组')\n",
    "    else:\n",
    "        print('抱歉，这不是一个唯一元素的数组')\n",
    "f(ds)\n",
    "print('----------')\n",
    "\n",
    "\n",
    "df = pd.DataFrame({'gender':list('MMFMF'),\n",
    "                  'name':['jack','tom','marry','zack','heheda'],\n",
    "                  'math':(90,89,90,78,60),\n",
    "                  'english':(90,89,90,78,60),\n",
    "                  'art':(90,89,78,89,90)})\n",
    "df['name'] = df['name'].str.capitalize()\n",
    "df['gender'] = df['gender'].str.strip()\n",
    "\n",
    "print(df)\n"
   ]
  },
  {
   "cell_type": "code",
   "execution_count": 102,
   "metadata": {
    "collapsed": false
   },
   "outputs": [
    {
     "name": "stdout",
     "output_type": "stream",
     "text": [
      "  key  values_x  values_y\n",
      "0   a  0.895390       NaN\n",
      "1   b  0.105258  4.523349\n",
      "2   c  7.330343  6.217298\n",
      "3   d       NaN  3.925804\n",
      "  lkey   values1\n",
      "1    a  0.035322\n",
      "2    b  0.360077\n",
      "3    c  0.645819\n",
      "4    c  0.777059\n",
      "5    b  0.593858 \n",
      "   rkey   values2\n",
      "1    b  0.358502\n",
      "2    c  0.183964\n",
      "3    c  0.121932\n",
      "4    d  0.030621\n",
      "5    d  0.419464\n",
      "  lkey   values1 rkey   values2\n",
      "0    a  0.035322  NaN       NaN\n",
      "1    b  0.360077    b  0.358502\n",
      "2    b  0.593858    b  0.358502\n",
      "3    c  0.645819    c  0.183964\n",
      "4    c  0.645819    c  0.121932\n",
      "5    c  0.777059    c  0.183964\n",
      "6    c  0.777059    c  0.121932\n",
      "7  NaN       NaN    d  0.030621\n",
      "8  NaN       NaN    d  0.419464\n",
      "----------------\n",
      "  key    values   values2   values3\n",
      "1   b  0.429569  0.466393  0.342027\n",
      "2   c  0.579098  0.272978  0.954810\n"
     ]
    }
   ],
   "source": [
    "#作业练习\n",
    "df1 = pd.DataFrame({'key':list('abc'),\n",
    "                   'values':np.random.rand(3)*10})\n",
    "df2 = pd.DataFrame({'key':list('bcd'),\n",
    "                   'values':np.random.rand(3)*10})\n",
    "print(pd.merge(df1,df2,on = 'key',how = 'outer'))\n",
    "\n",
    "df3 = pd.DataFrame({'lkey':list('abccb'),\n",
    "                   'values1':np.random.rand(5) },\n",
    "                  index=[1,2,3,4,5])\n",
    "df4 = pd.DataFrame({'rkey':list('bccdd'),\n",
    "                   'values2':np.random.rand(5)  },\n",
    "                   index=[1,2,3,4,5])\n",
    "print(df3,'\\n',df4)\n",
    "print(pd.merge(df3,df4,left_on = 'lkey',right_on = 'rkey',how = 'outer'))\n",
    "\n",
    "print('----------------')\n",
    "df5 = pd.DataFrame({'key':['a','b','c'],\n",
    "                   'values':np.random.rand(3)})\n",
    "df6 = pd.DataFrame({'values2':np.random.rand(3),\n",
    "                   'values3':np.random.rand(3)},index = ['d','b','c'])\n",
    "print(pd.merge(df5,df6,left_on = 'key', right_index = True))"
   ]
  },
  {
   "cell_type": "code",
   "execution_count": 121,
   "metadata": {
    "collapsed": false
   },
   "outputs": [
    {
     "name": "stdout",
     "output_type": "stream",
     "text": [
      "   values1_left  values2_left  values1_right  values2_right\n",
      "a      0.147385      0.574513            NaN            NaN\n",
      "b      0.801834      0.198316            NaN            NaN\n",
      "c      0.474321      0.865253            NaN            NaN\n",
      "Empty DataFrame\n",
      "Columns: [values1_x, values2_x, values1_y, values2_y]\n",
      "Index: []\n",
      "----------------\n",
      "    values1   values2\n",
      "a  0.147385  0.574513\n",
      "b  0.801834  0.198316\n",
      "c  0.474321  0.865253\n",
      "e  0.823425  0.591362\n",
      "f  0.110413  0.313696\n",
      "g  0.752593  0.311862\n",
      "    values1   values2   values1   values2\n",
      "a  0.147385  0.574513       NaN       NaN\n",
      "b  0.801834  0.198316       NaN       NaN\n",
      "c  0.474321  0.865253       NaN       NaN\n",
      "e       NaN       NaN  0.823425  0.591362\n",
      "f       NaN       NaN  0.110413  0.313696\n",
      "g       NaN       NaN  0.752593  0.311862\n",
      "    values1   values2   values1   values2\n",
      "a  0.147385  0.574513  0.823425  0.591362\n",
      "b  0.801834  0.198316  0.823425  0.591362\n",
      "c  0.474321  0.865253  0.823425  0.591362\n",
      "e       NaN       NaN  0.823425  0.591362\n",
      "f       NaN       NaN  0.110413  0.313696\n",
      "g       NaN       NaN  0.752593  0.311862\n",
      "===============\n",
      "   values1  values2\n",
      "0    0.229     0.99\n",
      "1      NaN      NaN \n",
      "    values1  values2\n",
      "0      NaN    2.300\n",
      "1    0.223    0.413\n",
      "   values1  values2\n",
      "0    0.229    0.990\n",
      "1    0.223    0.413\n"
     ]
    }
   ],
   "source": [
    "#作业练习\n",
    "\n",
    "df1 = pd.DataFrame({'values2':np.random.rand(3),\n",
    "                   'values1':np.random.rand(3)},index = ['a','b','c'])\n",
    "df2 = pd.DataFrame({'values2':np.random.rand(3),\n",
    "                   'values1':np.random.rand(3)},index = ['e','f','g'])\n",
    "print(df1.join(df2,lsuffix = '_left',rsuffix = '_right'))\n",
    "print(pd.merge(df1,df2,left_index = True, right_index = True))\n",
    "print('----------------')\n",
    "print(pd.concat([df1,df2]))\n",
    "print(pd.concat([df1,df2],axis = 1))\n",
    "print(pd.concat([df1,df2],axis = 1).bfill())\n",
    "print('===============')\n",
    "\n",
    "\n",
    "df3 = pd.DataFrame({'values1':[0.229,np.nan],\n",
    "                   'values2':[0.990,np.nan]})\n",
    "df4 = pd.DataFrame({'values1':[np.nan,0.223],\n",
    "                   'values2':[2.30,0.413]})\n",
    "print(df3,'\\n',df4)\n",
    "print(df3.combine_first(df4))#"
   ]
  },
  {
   "cell_type": "code",
   "execution_count": 42,
   "metadata": {
    "collapsed": false
   },
   "outputs": [
    {
     "name": "stdout",
     "output_type": "stream",
     "text": [
      "       A  B   C         D         E\n",
      "0    one  h  10  1.388107  0.287384\n",
      "1    two  h  12  1.112634  0.840921\n",
      "2  three  h  14  0.767909  0.529035\n",
      "3    one  h  16  0.655482  0.114029\n",
      "4    two  f  18 -1.633600  0.440454\n",
      "5  three  f  20 -0.791760  0.787075\n",
      "6    one  f  22  0.641554  0.194027\n",
      "7    two  f  24 -0.463226  0.118056\n",
      "8  three  f  26  0.596465  0.908329\n",
      "        C         D         E\n",
      "A                            \n",
      "one    16  0.895048  0.198480\n",
      "three  20  0.190871  0.741480\n",
      "two    18 -0.328064  0.466477\n",
      "          C         D         E\n",
      "A     B                        \n",
      "one   f  22  0.641554  0.194027\n",
      "      h  13  1.021795  0.200707\n",
      "three f  23 -0.097648  0.847702\n",
      "      h  14  0.767909  0.529035\n",
      "two   f  21 -1.048413  0.279255\n",
      "      h  12  1.112634  0.840921\n",
      "{('two', 'h'): [1], ('three', 'f'): [5, 8], ('one', 'h'): [0, 3], ('two', 'f'): [4, 7], ('one', 'f'): [6], ('three', 'h'): [2]}\n",
      "====================================================\n",
      "           r\n",
      "0  11.388107\n",
      "1  13.112634\n",
      "2  14.767909\n",
      "3  16.655482\n",
      "4  16.366400\n",
      "5  19.208240\n",
      "6  22.641554\n",
      "7  23.536774\n",
      "8  26.596465\n",
      "Empty DataFrame\n",
      "Columns: []\n",
      "Index: [0, 1, 2, 3, 4, 5, 6, 7, 8]\n",
      "{'three': [2, 5, 8], 'two': [1, 4, 7], 'one': [0, 3, 6]}\n",
      "[0, 3, 6]\n",
      "---------------------\n",
      "   int32   float64  object\n",
      "0     10  1.675491    oneh\n",
      "1     12  1.953555    twoh\n",
      "2     14  1.296944  threeh\n",
      "3     16  0.769511    oneh\n",
      "4     18 -1.193146    twof\n",
      "5     20 -0.004685  threef\n",
      "6     22  0.835582    onef\n",
      "7     24 -0.345170    twof\n",
      "8     26  1.504793  threef\n",
      "   int32  float64  object\n",
      "0      1        2       2\n",
      "1      1        2       2\n",
      "2      1        2       2\n",
      "3      1        2       2\n",
      "4      1        2       2\n",
      "5      1        2       2\n",
      "6      1        2       2\n",
      "7      1        2       2\n",
      "8      1        2       2\n",
      "     C                     D                             E                    \n",
      "   sum mean median       sum      mean    median       sum      mean    median\n",
      "B                                                                             \n",
      "f  110   22     22 -1.650567 -0.330113 -0.463226  2.447941  0.489588  0.440454\n",
      "h   52   13     13  3.924133  0.981033  0.940272  1.771369  0.442842  0.408210\n"
     ]
    }
   ],
   "source": [
    "#作业练习\n",
    "import numpy as np\n",
    "import pandas as pd\n",
    "df = pd.DataFrame({'A':['one','two','three']*3,\n",
    "                  'B':list('hhhhfffff'),\n",
    "                  'C':np.arange(10,28,2),\n",
    "                  'D':np.random.randn(9),\n",
    "                  'E':np.random.rand(9)})\n",
    "grouped = df.groupby('A')\n",
    "ds = pd.Series(list('BCD'))\n",
    "print(df)\n",
    "print(df.groupby('A').mean())\n",
    "print(df.groupby(['A','B']).mean())\n",
    "print(df.groupby(['A','B']).groups)\n",
    "print('====================================================')\n",
    "print(df.groupby({'C':'r','D':'r'},axis = 1).sum())\n",
    "print(df.groupby({'r':'C','r':'D'},axis = 1).sum())\n",
    "\n",
    "print(grouped.groups)\n",
    "print(grouped.groups['one'])\n",
    "print('---------------------')\n",
    "\n",
    "print(df.groupby(df.dtypes,axis = 1).sum())\n",
    "print(df.groupby(df.dtypes,axis = 1).count())\n",
    "print(df.groupby('B').agg([sum,np.mean,np.median]))"
   ]
  },
  {
   "cell_type": "code",
   "execution_count": 71,
   "metadata": {
    "collapsed": false
   },
   "outputs": [
    {
     "name": "stdout",
     "output_type": "stream",
     "text": [
      "      data1     data2 key\n",
      "0  0.550332  0.065000   a\n",
      "1  0.551495  0.302967   b\n",
      "2  0.280248  0.808240   a\n",
      "3  0.079309  0.053542   b\n",
      "4  0.693421  0.992351   a\n",
      "5  0.362749  0.477255   b\n",
      "6  0.088726  0.197787   b\n",
      "7  0.304357  0.288478   b\n",
      "8  0.904212  0.593622   a\n",
      "9  0.527377  0.933185   a\n",
      "<bound method _groupby_function.<locals>.f of <pandas.core.groupby.DataFrameGroupBy object at 0x0000016001628828>>\n",
      "      data1     data2\n",
      "0  2.955589  3.392397\n",
      "1  1.386636  1.320028\n",
      "2  2.955589  3.392397\n",
      "3  1.386636  1.320028\n",
      "4  2.955589  3.392397\n",
      "5  1.386636  1.320028\n",
      "6  1.386636  1.320028\n",
      "7  1.386636  1.320028\n",
      "8  2.955589  3.392397\n",
      "9  2.955589  3.392397\n",
      "      data1     data2 key  data1_sum  data2_sum\n",
      "0  0.550332  0.065000   a   2.955589   3.392397\n",
      "1  0.551495  0.302967   b   1.386636   1.320028\n",
      "2  0.280248  0.808240   a   2.955589   3.392397\n",
      "3  0.079309  0.053542   b   1.386636   1.320028\n",
      "4  0.693421  0.992351   a   2.955589   3.392397\n",
      "5  0.362749  0.477255   b   1.386636   1.320028\n",
      "6  0.088726  0.197787   b   1.386636   1.320028\n",
      "7  0.304357  0.288478   b   1.386636   1.320028\n",
      "8  0.904212  0.593622   a   2.955589   3.392397\n",
      "9  0.527377  0.933185   a   2.955589   3.392397\n"
     ]
    }
   ],
   "source": [
    "#作业练习\n",
    "df = pd.DataFrame({'data1':np.random.rand(10),\n",
    "                  'data2':np.random.rand(10),\n",
    "                  'key':list('abababbbaa')})\n",
    "print(df)\n",
    "\n",
    "print(df.groupby('key').sum)\n",
    "\n",
    "print(df.groupby('key').transform(sum))\n",
    "\n",
    "\n",
    "print(df.join(df.groupby('key').transform(sum),rsuffix = '_sum'))"
   ]
  },
  {
   "cell_type": "code",
   "execution_count": 90,
   "metadata": {
    "collapsed": false
   },
   "outputs": [
    {
     "name": "stdout",
     "output_type": "stream",
     "text": [
      "        C         D\n",
      "A                  \n",
      "one    16  0.119035\n",
      "three  20  0.483861\n",
      "two    18  0.569407\n",
      "                D                   E          \n",
      "             mean       sum      mean       sum\n",
      "A     B                                        \n",
      "one   f  0.275286  0.275286  0.525003  0.525003\n",
      "      h  0.040909  0.081818  0.456163  0.912326\n",
      "three f  0.618639  1.237279  0.204636  0.409271\n",
      "      h  0.214304  0.214304  0.005459  0.005459\n",
      "two   f  1.079482  2.158965  0.515786  1.031571\n",
      "      h -0.450743 -0.450743  0.100873  0.100873\n",
      "C      10  12  14  16  18  20  22  24  26\n",
      "A                                        \n",
      "one     1   0   0   1   0   0   1   0   0\n",
      "three   0   0   1   0   0   1   0   0   1\n",
      "two     0   1   0   0   1   0   0   1   0\n"
     ]
    }
   ],
   "source": [
    "#作业练习\n",
    "import numpy as np\n",
    "import pandas as pd\n",
    "df = pd.DataFrame({'A':['one','two','three']*3,\n",
    "                  'B':list('hhhhfffff'),\n",
    "                  'C':np.arange(10,28,2),\n",
    "                  'D':np.random.randn(9),\n",
    "                  'E':np.random.rand(9)})\n",
    "print(pd.pivot_table(df,index = 'A',values = ['C','D'],aggfunc = (np.mean)))\n",
    "print(pd.pivot_table(df,index = ['A','B'],values = ['D','E'],aggfunc = (np.mean,sum)))\n",
    "print(pd.crosstab(df['A'],df['C']))"
   ]
  }
 ],
 "metadata": {
  "anaconda-cloud": {},
  "kernelspec": {
   "display_name": "Python [default]",
   "language": "python",
   "name": "python3"
  },
  "language_info": {
   "codemirror_mode": {
    "name": "ipython",
    "version": 3
   },
   "file_extension": ".py",
   "mimetype": "text/x-python",
   "name": "python",
   "nbconvert_exporter": "python",
   "pygments_lexer": "ipython3",
   "version": "3.5.2"
  }
 },
 "nbformat": 4,
 "nbformat_minor": 1
}
