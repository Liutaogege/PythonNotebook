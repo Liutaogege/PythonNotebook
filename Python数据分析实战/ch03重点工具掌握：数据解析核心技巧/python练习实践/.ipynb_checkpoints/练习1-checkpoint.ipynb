{
 "cells": [
  {
   "cell_type": "code",
   "execution_count": 1,
   "metadata": {
    "collapsed": false
   },
   "outputs": [
    {
     "name": "stdout",
     "output_type": "stream",
     "text": [
      "抱歉，你点的叉烧包本店没有供应\n",
      "抱歉，你点的小笼包本店没有供应\n",
      "你点的套餐是：蛋糕\n",
      "\n",
      "Key值：小头儿子\n",
      "Value值:6岁\n",
      "\n",
      "Key值：围裙妈妈\n",
      "Value值:29岁\n",
      "\n",
      "Key值：大头爸爸\n",
      "Value值:30岁\n"
     ]
    }
   ],
   "source": [
    "lsts = ['牛肉','蛋黄','鸡肉','蛋糕','冰淇淋','菠萝派']\n",
    "request_lsts = ['叉烧包','小笼包','蛋糕']\n",
    "for request_lst in request_lsts:\n",
    "    if request_lst in lsts:\n",
    "        print(\"你点的套餐是：\" + request_lst)\n",
    "    else:\n",
    "        print('抱歉，你点的'+ request_lst +'本店没有供应')\n",
    "\n",
    "        \n",
    "dic = {'小头儿子':'6岁',\n",
    "       '大头爸爸':'30岁',\n",
    "      '围裙妈妈':'29岁'}\n",
    "for k,v in dic.items():\n",
    "    print('\\nKey值：'+k)\n",
    "    print('Value值:'+ v)"
   ]
  },
  {
   "cell_type": "code",
   "execution_count": 1,
   "metadata": {
    "collapsed": false
   },
   "outputs": [
    {
     "name": "stdout",
     "output_type": "stream",
     "text": [
      "\n",
      "请输入你喜欢过的人（输入quit退出）：xielangqun\n",
      "\n",
      "请输入你喜欢过的人（输入quit退出）：quit\n",
      "['xielangqun']\n"
     ]
    }
   ],
   "source": [
    "sentence = '\\n请输入你喜欢过的人（输入quit退出）：'\n",
    "active = True\n",
    "like_peos = []\n",
    "while active:\n",
    "    like_peo = input(sentence)\n",
    "    like_peos.append(like_peo)\n",
    "    if like_peo == 'quit':\n",
    "        active = False\n",
    "print(like_peos[:-1])        "
   ]
  },
  {
   "cell_type": "code",
   "execution_count": 4,
   "metadata": {
    "collapsed": false
   },
   "outputs": [
    {
     "name": "stdout",
     "output_type": "stream",
     "text": [
      "('wo', 'ai', 'ni')\n"
     ]
    }
   ],
   "source": [
    "def blank_f(*console):\n",
    "    print(console)\n",
    "blank_f('wo','ai','ni')"
   ]
  },
  {
   "cell_type": "code",
   "execution_count": 16,
   "metadata": {
    "collapsed": false
   },
   "outputs": [
    {
     "name": "stdout",
     "output_type": "stream",
     "text": [
      "{'last_name': 'ai', 'first_name': 'xiang'}\n"
     ]
    }
   ],
   "source": [
    "def per_information(first,last,user_info = ''):\n",
    "    profile = {}\n",
    "    profile['first_name'] = first\n",
    "    profile['last_name'] = last\n",
    "    if user_info:\n",
    "        profile['location'] = user_info\n",
    "    return(profile)\n",
    "user_profile = per_information('tao','liu','zunyi guizhou')\n",
    "user_profile = per_information('xiang','ai')\n",
    "print(user_profile)"
   ]
  },
  {
   "cell_type": "code",
   "execution_count": 21,
   "metadata": {
    "collapsed": false
   },
   "outputs": [
    {
     "ename": "TypeError",
     "evalue": "object() takes no parameters",
     "output_type": "error",
     "traceback": [
      "\u001b[0;31m---------------------------------------------------------------------------\u001b[0m",
      "\u001b[0;31mTypeError\u001b[0m                                 Traceback (most recent call last)",
      "\u001b[0;32m<ipython-input-21-f15cd692265b>\u001b[0m in \u001b[0;36m<module>\u001b[0;34m()\u001b[0m\n\u001b[1;32m      7\u001b[0m     \u001b[1;32mdef\u001b[0m \u001b[0mroll_over\u001b[0m\u001b[1;33m(\u001b[0m\u001b[0mself\u001b[0m\u001b[1;33m)\u001b[0m\u001b[1;33m:\u001b[0m\u001b[1;33m\u001b[0m\u001b[0m\n\u001b[1;32m      8\u001b[0m         \u001b[0mprint\u001b[0m\u001b[1;33m(\u001b[0m\u001b[0mself\u001b[0m\u001b[1;33m.\u001b[0m\u001b[0mname\u001b[0m \u001b[1;33m+\u001b[0m \u001b[1;34m'rolled over'\u001b[0m\u001b[1;33m)\u001b[0m\u001b[1;33m\u001b[0m\u001b[0m\n\u001b[0;32m----> 9\u001b[0;31m \u001b[0mdog_info\u001b[0m \u001b[1;33m=\u001b[0m \u001b[0mDog\u001b[0m\u001b[1;33m(\u001b[0m\u001b[1;34m'xiaohei'\u001b[0m\u001b[1;33m,\u001b[0m\u001b[1;36m18\u001b[0m\u001b[1;33m)\u001b[0m\u001b[1;33m\u001b[0m\u001b[0m\n\u001b[0m\u001b[1;32m     10\u001b[0m \u001b[0mprint\u001b[0m\u001b[1;33m(\u001b[0m\u001b[0mdog_info\u001b[0m\u001b[1;33m.\u001b[0m\u001b[0mname\u001b[0m\u001b[1;33m)\u001b[0m\u001b[1;33m\u001b[0m\u001b[0m\n",
      "\u001b[0;31mTypeError\u001b[0m: object() takes no parameters"
     ]
    }
   ],
   "source": [
    "class Dog():\n",
    "    def _init_(self,name,age):\n",
    "    \n",
    "        self.age = age\n",
    "    def sit(self):\n",
    "        print(self.name + 'is now sitting')\n",
    "    def roll_over(self):\n",
    "        print(self.name + 'rolled over')\n",
    "dog_info = Dog('xiaohei',18)\n",
    "print()"
   ]
  }
 ],
 "metadata": {
  "anaconda-cloud": {},
  "kernelspec": {
   "display_name": "Python [default]",
   "language": "python",
   "name": "python3"
  },
  "language_info": {
   "codemirror_mode": {
    "name": "ipython",
    "version": 3
   },
   "file_extension": ".py",
   "mimetype": "text/x-python",
   "name": "python",
   "nbconvert_exporter": "python",
   "pygments_lexer": "ipython3",
   "version": "3.5.2"
  }
 },
 "nbformat": 4,
 "nbformat_minor": 1
}
