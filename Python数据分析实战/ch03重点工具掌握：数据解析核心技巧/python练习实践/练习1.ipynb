{
 "cells": [
  {
   "cell_type": "code",
   "execution_count": 1,
   "metadata": {},
   "outputs": [
    {
     "name": "stdout",
     "output_type": "stream",
     "text": [
      "抱歉，你点的叉烧包本店没有供应\n",
      "抱歉，你点的小笼包本店没有供应\n",
      "你点的套餐是：蛋糕\n",
      "\n",
      "Key值：小头儿子\n",
      "Value值:6岁\n",
      "\n",
      "Key值：围裙妈妈\n",
      "Value值:29岁\n",
      "\n",
      "Key值：大头爸爸\n",
      "Value值:30岁\n"
     ]
    }
   ],
   "source": [
    "lsts = ['牛肉','蛋黄','鸡肉','蛋糕','冰淇淋','菠萝派']\n",
    "request_lsts = ['叉烧包','小笼包','蛋糕']\n",
    "for request_lst in request_lsts:\n",
    "    if request_lst in lsts:\n",
    "        print(\"你点的套餐是：\" + request_lst)\n",
    "    else:\n",
    "        print('抱歉，你点的'+ request_lst +'本店没有供应')\n",
    "\n",
    "        \n",
    "dic = {'小头儿子':'6岁',\n",
    "       '大头爸爸':'30岁',\n",
    "      '围裙妈妈':'29岁'}\n",
    "for k,v in dic.items():\n",
    "    print('\\nKey值：'+k)\n",
    "    print('Value值:'+ v)"
   ]
  },
  {
   "cell_type": "code",
   "execution_count": 1,
   "metadata": {},
   "outputs": [
    {
     "name": "stdout",
     "output_type": "stream",
     "text": [
      "\n",
      "请输入你喜欢过的人（输入quit退出）：xielangqun\n",
      "\n",
      "请输入你喜欢过的人（输入quit退出）：quit\n",
      "['xielangqun']\n"
     ]
    }
   ],
   "source": [
    "sentence = '\\n请输入你喜欢过的人（输入quit退出）：'\n",
    "active = True\n",
    "like_peos = []\n",
    "while active:\n",
    "    like_peo = input(sentence)\n",
    "    like_peos.append(like_peo)\n",
    "    if like_peo == 'quit':\n",
    "        active = False\n",
    "print(like_peos[:-1])        "
   ]
  },
  {
   "cell_type": "code",
   "execution_count": 4,
   "metadata": {},
   "outputs": [
    {
     "name": "stdout",
     "output_type": "stream",
     "text": [
      "('wo', 'ai', 'ni')\n"
     ]
    }
   ],
   "source": [
    "def blank_f(*console):\n",
    "    print(console)\n",
    "blank_f('wo','ai','ni')"
   ]
  },
  {
   "cell_type": "code",
   "execution_count": 16,
   "metadata": {},
   "outputs": [
    {
     "name": "stdout",
     "output_type": "stream",
     "text": [
      "{'last_name': 'ai', 'first_name': 'xiang'}\n"
     ]
    }
   ],
   "source": [
    "def per_information(first,last,user_info = ''):\n",
    "    profile = {}\n",
    "    profile['first_name'] = first\n",
    "    profile['last_name'] = last\n",
    "    if user_info:\n",
    "        profile['location'] = user_info\n",
    "    return(profile)\n",
    "user_profile = per_information('tao','liu','zunyi guizhou')\n",
    "user_profile = per_information('xiang','ai')\n",
    "print(user_profile)"
   ]
  },
  {
   "cell_type": "code",
   "execution_count": 6,
   "metadata": {},
   "outputs": [
    {
     "name": "stdout",
     "output_type": "stream",
     "text": [
      "stupy\n"
     ]
    }
   ],
   "source": [
    "class Dog():\n",
    "    def _init_(self,name,age):\n",
    "        self.name=name;\n",
    "        self.age=age;\n",
    "    def sit(self):\n",
    "        print(self.name.title()+\" is now sitting.\")\n",
    "    def roll_over(self):\n",
    "        print(self.name.title()+\" rolled over!\")\n",
    "my_dog=Dog('stupy',3)"
   ]
  },
  {
   "cell_type": "code",
   "execution_count": 3,
   "metadata": {},
   "outputs": [
    {
     "name": "stdout",
     "output_type": "stream",
     "text": [
      "stupy\n"
     ]
    }
   ],
   "source": [
    "class Dog():\n",
    "    def __init__(self,name,age):\n",
    "        self.name=name;\n",
    "        self.age=age;\n",
    "    def sit(self):\n",
    "        print(self.name.title()+\" is now sitting.\")\n",
    "    def roll_over(self):\n",
    "        print(self.name.title()+\" rolled over!\")\n",
    "my_dog=Dog('stupy',3)\n",
    "print(my_dog.name)"
   ]
  },
  {
   "cell_type": "code",
   "execution_count": 10,
   "metadata": {},
   "outputs": [
    {
     "name": "stdout",
     "output_type": "stream",
     "text": [
      "xiaohuang\n",
      "xiaohuangis now sitting\n"
     ]
    }
   ],
   "source": [
    "class Cat():\n",
    "    def __init__(self,name,age):\n",
    "        self.name = name \n",
    "        self.age = age\n",
    "    def sit(self):\n",
    "        print(self.name+\"is now sitting\")\n",
    "    def rolled_over(self):\n",
    "        print(self.name+'rolled over')\n",
    "my_cat = Cat('xiaohuang',9)\n",
    "print(my_cat.name)\n",
    "my_cat.sit()"
   ]
  },
  {
   "cell_type": "code",
   "execution_count": 42,
   "metadata": {},
   "outputs": [
    {
     "name": "stdout",
     "output_type": "stream",
     "text": [
      "2019 benchi a3\n",
      "this car has  23 miles on it\n"
     ]
    }
   ],
   "source": [
    "class Battery():\n",
    "        def __init__(self,battery_size = 70):\n",
    "            self.battery_size = battery_size\n",
    "        def describe_battery(self):\n",
    "            print('this car has a '+str(self.battery_size)+'kWh battery')\n",
    "class Car():\n",
    "    \n",
    "    def __init__(self,make,model,year):\n",
    "        self.make = make\n",
    "        self.model = model\n",
    "        self.year = year\n",
    "        self.odometer_reading = 0\n",
    "    def read_odometer(self):\n",
    "        print('this car has '+' '+str(self.odometer_reading)+' '+'miles on it')\n",
    "    def update_odometer(self,mileage):\n",
    "        self.odometer_reading = mileage\n",
    "    def get_described(self):\n",
    "        long_name = str(self.year) + ' ' +self.make+' '+self.model\n",
    "        return(long_name)\n",
    "my_new_car = Car('benchi','a3',2019)\n",
    "print(my_new_car.get_described())\n",
    "\n",
    "my_new_car.update_odometer(23)\n",
    "my_new_car.read_odometer() "
   ]
  },
  {
   "cell_type": "code",
   "execution_count": 45,
   "metadata": {},
   "outputs": [
    {
     "name": "stdout",
     "output_type": "stream",
     "text": [
      "2019 xiaodao no model\n",
      "this car has a 70kWh battery\n"
     ]
    }
   ],
   "source": [
    "class ElectricCar(Car):\n",
    "    def __init__(self,make,model,year):\n",
    "        super().__init__(make,model,year)\n",
    "        self.battery = Battery()\n",
    "my_motorbike = ElectricCar('xiaodao','no model',2019)\n",
    "print(my_motorbike.get_described())\n",
    "my_motorbike.battery.describe_battery()"
   ]
  },
  {
   "cell_type": "code",
   "execution_count": 9,
   "metadata": {},
   "outputs": [
    {
     "name": "stdout",
     "output_type": "stream",
     "text": [
      "I love studying\n"
     ]
    }
   ],
   "source": [
    "path = r'C:\\Users\\acer\\Desktop\\test.txt'\n",
    "with open(path) as file:\n",
    "\n",
    "    contents = file.read()\n",
    "\n",
    "print(contents.rstrip())  #with打开的文件只能在with中使用"
   ]
  },
  {
   "cell_type": "code",
   "execution_count": 19,
   "metadata": {},
   "outputs": [],
   "source": [
    "path1 = r'C:\\Users\\acer\\Desktop\\test1.txt'    \n",
    "with open(path1,'w') as file:      #写入文件\n",
    "    file.writelines('I love studying,I love you\\n')"
   ]
  },
  {
   "cell_type": "code",
   "execution_count": 21,
   "metadata": {
    "collapsed": true
   },
   "outputs": [],
   "source": [
    "path1 = r'C:\\Users\\acer\\Desktop\\test1.txt'\n",
    "with open(path1,'a') as file:\n",
    "    file.writelines('I hate you so much')  #为文件添加内容"
   ]
  },
  {
   "cell_type": "code",
   "execution_count": 75,
   "metadata": {},
   "outputs": [
    {
     "name": "stdout",
     "output_type": "stream",
     "text": [
      "0.005\n"
     ]
    }
   ],
   "source": [
    "import numpy as np\n",
    "\n",
    "def MontyHall(Dselect,Dchange):\n",
    "    Dcar = np.random.randint(1,3)\n",
    "    if Dcar == Dselect and Dchange == 0:\n",
    "        return(1)\n",
    "    elif Dcar != Dselect and Dchange == 0:\n",
    "        return(0)    \n",
    "    elif Dcar == Dselect and Dchange ==1:\n",
    "        return(0)\n",
    "    else:\n",
    "        return(1)\n",
    "\n",
    "n = 1000\n",
    "win = 0\n",
    "for i in range(10):\n",
    "    Dselect = np.random.randint(1,3)\n",
    "    Dchange = np.random.randint(0,1)\n",
    "    win = win + MontyHall(Dselect,Dchange)\n",
    "print(float(win)/float(n))"
   ]
  },
  {
   "cell_type": "code",
   "execution_count": 98,
   "metadata": {},
   "outputs": [
    {
     "name": "stdout",
     "output_type": "stream",
     "text": [
      "0.006\n"
     ]
    }
   ],
   "source": [
    "n = 1000\n",
    "win = 0\n",
    "for i in range(10):\n",
    "    Dselect = np.random.randint(1,3)\n",
    "    Dchange = 0\n",
    "    win = win + MontyHall(Dselect,Dchange)\n",
    "print(float(win)/float(n))"
   ]
  },
  {
   "cell_type": "code",
   "execution_count": 99,
   "metadata": {},
   "outputs": [
    {
     "name": "stdout",
     "output_type": "stream",
     "text": [
      "0.006\n"
     ]
    }
   ],
   "source": [
    "n = 1000\n",
    "win = 0\n",
    "for i in range(10):\n",
    "    Dselect = np.random.randint(1,3)\n",
    "    Dchange = 1\n",
    "    win = win + MontyHall(Dselect,Dchange)\n",
    "print(float(win)/float(n))"
   ]
  },
  {
   "cell_type": "code",
   "execution_count": 117,
   "metadata": {},
   "outputs": [
    {
     "name": "stdout",
     "output_type": "stream",
     "text": [
      "3.1419308\n"
     ]
    }
   ],
   "source": [
    "n = 10000000\n",
    "k =0\n",
    "for i in range(n):\n",
    "    x = np.random.uniform(-1,1)\n",
    "    y = np.random.uniform(-1,1)\n",
    "    if x**2 + y**2 < 1:\n",
    "        k = k+1\n",
    "print(4*float(k)/float(n))"
   ]
  },
  {
   "cell_type": "code",
   "execution_count": 162,
   "metadata": {},
   "outputs": [
    {
     "name": "stdout",
     "output_type": "stream",
     "text": [
      "1.0\n",
      "0.0\n"
     ]
    }
   ],
   "source": [
    "def Booike(n,n1,n2):\n",
    "    for i in range(2*n-n1-n2-1):\n",
    "        win_fail = np.random.randint(1,2)\n",
    "        if win_fail ==1:\n",
    "            n1 +=1\n",
    "        else:\n",
    "            n2 +=1\n",
    "        if n1 == n:\n",
    "            return(1)\n",
    "        if n2 == n:\n",
    "            return(2)\n",
    "    \n",
    "n = 10\n",
    "win = 0\n",
    "for i in range(n):\n",
    "    if Booike(10,4,2) ==1:\n",
    "        win += 1\n",
    "print(float(win)/float(n))\n",
    "print(1-float(win)/float(n))"
   ]
  },
  {
   "cell_type": "code",
   "execution_count": 1,
   "metadata": {},
   "outputs": [
    {
     "name": "stdout",
     "output_type": "stream",
     "text": [
      "输入空格键结束输入！\n",
      "请输入你的姓氏：liu \n",
      "请输入你的名：tao\n",
      "Liu  Tao\n",
      "请输入你的姓氏： \n"
     ]
    }
   ],
   "source": [
    "def per_info(first,last):\n",
    "    full_name = first +' '+last\n",
    "    return(full_name.title())\n",
    "print('输入空格键结束输入！')\n",
    "while True:\n",
    "    first = input('请输入你的姓氏：')\n",
    "    if first == ' ':\n",
    "        break\n",
    "    last = input('请输入你的名：')\n",
    "    if last == ' ':\n",
    "        break\n",
    "    my_info = per_info(first,last)\n",
    "    print(my_info)\n",
    "\n"
   ]
  },
  {
   "cell_type": "code",
   "execution_count": 1,
   "metadata": {},
   "outputs": [],
   "source": [
    "import unittest\n",
    "class NameTestcase(unittest.TestCase):\n",
    "    def dect(self):\n",
    "        formatted_name = per_info('liu','tao')\n",
    "        self.assertEqual(formatted_name,'liu tao')\n",
    "        unittest.main()"
   ]
  },
  {
   "cell_type": "code",
   "execution_count": 2,
   "metadata": {},
   "outputs": [
    {
     "name": "stderr",
     "output_type": "stream",
     "text": [
      "e:\\Users\\acer\\Anaconda3\\lib\\site-packages\\matplotlib\\backends\\backend_agg.py:211: RuntimeWarning: Glyph 36724 missing from current font.\n",
      "  font.set_text(s, 0.0, flags=flags)\n",
      "e:\\Users\\acer\\Anaconda3\\lib\\site-packages\\matplotlib\\backends\\backend_agg.py:180: RuntimeWarning: Glyph 36724 missing from current font.\n",
      "  font.set_text(s, 0, flags=flags)\n"
     ]
    },
    {
     "data": {
      "image/png": "[encoded data removed]",
      "text/plain": [
       "<Figure size 432x288 with 1 Axes>"
      ]
     },
     "metadata": {
      "needs_background": "light"
     },
     "output_type": "display_data"
    }
   ],
   "source": [
    "import matplotlib.pyplot as plt\n",
    "%matplotlib inline\n",
    "\n",
    "x_values = list(range(1,6))\n",
    "squares = [1, 4, 9, 16, 25]\n",
    "plt.plot(x_values,squares, linewidth=5)\n",
    "plt.title(\"Squares Number\", fontsize=14)\n",
    "plt.xlabel(\"X轴\", fontsize=14)\n",
    "plt.ylabel(\"y轴\",fontsize=14)\n",
    "# 设置爱刻度标记的大小\n",
    "plt.tick_params(axis='both', labelsize=14)\n",
    "plt.show()"
   ]
  },
  {
   "cell_type": "code",
   "execution_count": 3,
   "metadata": {},
   "outputs": [
    {
     "data": {
      "image/png": "[encoded data removed]",
      "text/plain": [
       "<Figure size 432x288 with 1 Axes>"
      ]
     },
     "metadata": {
      "needs_background": "light"
     },
     "output_type": "display_data"
    }
   ],
   "source": [
    "x = list(range(1,1001))\n",
    "y = [ i**2 for i in x]\n",
    "# 颜色映射plt.cm.Blues\n",
    "plt.scatter(x,y,s=2,edgecolor=\"None\",c=y,cmap=plt.cm.cool)\n",
    "plt.axis([0,1100,0,1100000])\n",
    "import os \n",
    "os.chdir(r\"C:\\Users\\acer\\Desktop\")\n",
    "# 保存图片，第二个参数是裁剪多余的空白区域 \n",
    "plt.savefig(\"squares.png\",bbox_inches='tight')"
   ]
  },
  {
   "cell_type": "code",
   "execution_count": 8,
   "metadata": {},
   "outputs": [
    {
     "name": "stdout",
     "output_type": "stream",
     "text": [
      "[2, 3, 4, 5, 6, 7, 8, 9, 10, 11, 12, 13]\n",
      "['1', '2', '3', '4']\n"
     ]
    }
   ],
   "source": [
    "lst = str(list(range(2,14)))\n",
    "print(lst)\n",
    "print(list('1234'))"
   ]
  }
 ],
 "metadata": {
  "anaconda-cloud": {},
  "kernelspec": {
   "display_name": "Python 3",
   "language": "python",
   "name": "python3"
  },
  "language_info": {
   "codemirror_mode": {
    "name": "ipython",
    "version": 3
   },
   "file_extension": ".py",
   "mimetype": "text/x-python",
   "name": "python",
   "nbconvert_exporter": "python",
   "pygments_lexer": "ipython3",
   "version": "3.7.3"
  }
 },
 "nbformat": 4,
 "nbformat_minor": 1
}
