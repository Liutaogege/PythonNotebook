{
 "cells": [
  {
   "cell_type": "code",
   "execution_count": null,
   "metadata": {
    "collapsed": true
   },
   "outputs": [],
   "source": [
    "'''\n",
    "【项目05】  多场景下的算法构建\n",
    "\n",
    "课程数据：\n",
    "某公司A,B产品在2018年1,2,3月的销量数据，数据格式为xlsx\n",
    "\n",
    "作业要求：\n",
    "1、批量读取数据，并输出以下信息\n",
    "（1）数据量\n",
    "（2）数据字段columns\n",
    "（3）输出每个文件分别有多少缺失值\n",
    "要求：\n",
    "① 创建独立函数，从读取数据到以上输出要求\n",
    "② 运行代码多次调用创建函数，对数据进行批量处理\n",
    "提示：\n",
    "① 将课程excel数据放入单独文件夹(建议英文路径)，函数中通过input来输入excel数据所在文件夹路径，再通过遍历来读取文件\n",
    "② pd.read_excel()中用“index_col”参数，将第一列变为index\n",
    "③ os.walk(path) → 返回路径中的信息及文件，结果为一个生成器\n",
    "④ 定位缺失值位置：data[data.isnull().values == True]\n",
    "\n",
    "2、批量读取数据，用均值填充缺失值数据，并完成以下计算及图表制作\n",
    "（1）读取数据并用均值填充缺失值；对“日期”字段进行时间序列处理，转换成日period ，最后输出三个Dataframe文件data1,data2,data3\n",
    "（2）分别计算data1，data2，data3中A,B产品的月总销量，并绘制多系列柱状图，存储在对应的图片文件夹路径\n",
    "（3）分别计算A产品在每个月中哪一天超过了月度80%的销量，输出日期\n",
    "要求：\n",
    "① 分别创建四个函数，对应完成上述需求\n",
    "② 数据文件夹路径和图片存储路径不要相同\n",
    "提示：\n",
    "① 时间序列转换方法提示：pd.to_period\n",
    "② 时间戳Timestampe转化成字符串用str()方法\n",
    "\n",
    "3、读取数据并合并，做散点图观察A,B产品销量，并做回归，预测当A销量为1200时，B产品销量值\n",
    "（1）读取数据删除缺失值；对“日期”字段进行时间序列处理，转换成日period ，合并三个月数据，输出data；\n",
    "（2）针对A产品销量和B产品销量数据做回归分析，制作散点图并存储，并预测当A销量为1200时，B产品销量值\n",
    "要求：\n",
    "① 分别创建两个函数，对应完成上述需求\n",
    "② 数据文件夹路径和图片存储路径不要相同\n",
    "提示：\n",
    "① 用pd.dripna方法去掉缺失值，注意inplace参数\n",
    "\n",
    "'''"
   ]
  },
  {
   "cell_type": "code",
   "execution_count": 86,
   "metadata": {
    "collapsed": true
   },
   "outputs": [],
   "source": [
    "import numpy as np\n",
    "import pandas as pd\n",
    "import matplotlib.pyplot as plt\n",
    "from sklearn.linear_model import LinearRegression\n",
    "import os\n",
    "% matplotlib inline\n",
    "\n",
    "from sklearn.linear_model import LinearRegression\n",
    "# 导入线性回归模块"
   ]
  },
  {
   "cell_type": "code",
   "execution_count": 20,
   "metadata": {
    "collapsed": false
   },
   "outputs": [
    {
     "name": "stdout",
     "output_type": "stream",
     "text": [
      "请输入你的文件地址:C:\\Users\\acer\\Desktop\\xiangmu5\n",
      "data01.xlsx数据的数据量为： 31\n",
      "data01.xlsx数据的数据字段为 productA\n",
      "data01.xlsx数据的缺失值数量为： 3\n",
      "+++++++++++++++++++++++++++++++++++++++++++++++++++++++++++++++++++++++\n",
      "data02.xlsx数据的数据量为： 28\n",
      "data02.xlsx数据的数据字段为 productA\n",
      "data02.xlsx数据的缺失值数量为： 4\n",
      "+++++++++++++++++++++++++++++++++++++++++++++++++++++++++++++++++++++++\n",
      "data03.xlsx数据的数据量为： 31\n",
      "data03.xlsx数据的数据字段为 productA\n",
      "data03.xlsx数据的缺失值数量为： 3\n",
      "+++++++++++++++++++++++++++++++++++++++++++++++++++++++++++++++++++++++\n",
      "finished\n"
     ]
    }
   ],
   "source": [
    "#第一题\n",
    "\n",
    "def data_read():  #数据读取函数\n",
    "    dress = input('请输入你的文件地址:')\n",
    "    for root, dirs, files in os.walk(dress):\n",
    "        for name in files:\n",
    "            data = pd.read_excel(os.path.join(root,name),encoding = 'python',index_col=0)\n",
    "            print(name + '数据的数据量为：',len(data))\n",
    "            print(name + '数据的数据字段为',data.columns[0])\n",
    "            print(name + '数据的缺失值数量为：',len(data[data.isnull().values == True]))\n",
    "            print('+++++++++++++++++++++++++++++++++++++++++++++++++++++++++++++++++++++++')\n",
    "data_read()\n",
    "print('finished')"
   ]
  },
  {
   "cell_type": "code",
   "execution_count": 64,
   "metadata": {
    "collapsed": false
   },
   "outputs": [],
   "source": [
    "#第二题\n",
    "\n",
    "def to_df():    #转换成dataframe的函数\n",
    "    data_all = []\n",
    "    dress = input('请输入你的文件地址:')\n",
    "    for root, dirs, files in os.walk(dress):\n",
    "        for name in files:\n",
    "                data = pd.read_excel(os.path.join(root,name),encoding = 'python',index_col=0)\n",
    "                data_n = pd.DataFrame(data)\n",
    "                data_n.to_period()\n",
    "                data_n['productA'].fillna(data_n['productA'].mean(),inplace = True)\n",
    "                data_n['productB'].fillna(data_n['productB'].mean(),inplace = True)\n",
    "                data_all.append(data_n)\n",
    "    return(data_all)\n",
    "\n",
    "\n",
    "def paintting(datas):  #绘图函数\n",
    "    path = r'C:\\Users\\acer\\Desktop\\xiangmu5'\n",
    "    plt.figure()\n",
    "    product_sum = []\n",
    "    for data in datas:\n",
    "        pro_sum = data.sum()[['productA','productB']]\n",
    "        product_sum.append(pro_sum)\n",
    "    product_sums = pd.DataFrame(product_sum,index = pd.period_range('201801','201803',freq = 'M') )\n",
    "    product_sums.plot(kind = 'bar',grid = True,\n",
    "                     figsize = (8,6),\n",
    "                     title = 'A、B产品1,2,3,月总销售柱状图',\n",
    "                     style = '--k')\n",
    "    plt.legend(loc = 'upper center')\n",
    "    plt.savefig(path + 'A,B产品1,2,3月总销量柱状图.png',dpi=800)\n",
    "    \n",
    "    \n",
    "    \n",
    "def sale_cumsum(datas):\n",
    "    dates = []\n",
    "    for data in datas:\n",
    "        data[ 'productA_cumsum'] = data['productA'].cumsum()\n",
    "        data['productA_p'] = data['productA_cumsum'] / data['productA'].sum()\n",
    "        for i in range(len(data)):\n",
    "            if (data['productA_p'].iloc[i] - 0.8) >= 0:\n",
    "                date_to = data.index[i]   #记录A产品销售量超过%80的日期\n",
    "                dates.append(date_to)\n",
    "                break\n",
    "    return(dates)"
   ]
  },
  {
   "cell_type": "code",
   "execution_count": 70,
   "metadata": {
    "collapsed": false
   },
   "outputs": [
    {
     "name": "stdout",
     "output_type": "stream",
     "text": [
      "请输入你的文件地址:C:\\Users\\acer\\Desktop\\xiangmu5\n",
      "运行函数to_df，得到三组dataFrame文件\n",
      "运行函数paintting,得到A、B产品1，2，3月的总销售量柱状图\n",
      "运行函数sale_cumsum,可知\n",
      "在1月A产品销售量超过%80的日期为： 2018-01-26 00:00:00\n",
      "2月A产品销售量超过%80的日期为： 2018-02-23 00:00:00\n",
      "3月A产品销售量超过%80的日期为： 2018-03-25 00:00:00\n"
     ]
    },
    {
     "data": {
      "text/plain": [
       "<matplotlib.figure.Figure at 0x201280db5c0>"
      ]
     },
     "metadata": {},
     "output_type": "display_data"
    },
    {
     "data": {
      "image/png": "[encoded data removed]",
      "text/plain": [
       "<matplotlib.figure.Figure at 0x201278597b8>"
      ]
     },
     "metadata": {},
     "output_type": "display_data"
    }
   ],
   "source": [
    "datas = to_df()\n",
    "print('运行函数to_df，得到三组dataFrame文件')\n",
    "paintting(datas)\n",
    "print('运行函数paintting,得到A、B产品1，2，3月的总销售量柱状图')\n",
    "dates = sale_cumsum(datas)\n",
    "print('运行函数sale_cumsum,可知\\n在1月A产品销售量超过%80的日期为：',dates[0])\n",
    "print('2月A产品销售量超过%80的日期为：',dates[1])\n",
    "print('3月A产品销售量超过%80的日期为：',dates[2])"
   ]
  },
  {
   "cell_type": "code",
   "execution_count": 100,
   "metadata": {
    "collapsed": false
   },
   "outputs": [],
   "source": [
    "#第三题\n",
    "def data_merge():  #读取数据并合并\n",
    "    datas = pd.DataFrame(columns = ['productA','productB'])\n",
    "    dress = input('请输入你的文件地址:')\n",
    "    for root, dirs, files in os.walk(dress):\n",
    "        for name in files:\n",
    "            data = pd.read_excel(os.path.join(root,name),encoding = 'python',index_col=0,sheetname = 0)\n",
    "            data.to_period()\n",
    "            data.dropna(inplace = True)\n",
    "            datas = pd.concat([datas,data])\n",
    "    return(datas)\n",
    "\n",
    "\n",
    "def data_predict(datas):  #线性回归拟合\n",
    "    path = r'C:\\Users\\acer\\Desktop\\xiangmu5'\n",
    "    plt.scatter(datas['productA'],datas['productB'],color = 'r',alpha = 0.8,marker = 'o')\n",
    "    plt.grid(linestyle = '--')\n",
    "    \n",
    "    model = LinearRegression()\n",
    "    x_data = datas['productA'][:,np.newaxis]\n",
    "    y_data = datas['productB']\n",
    "    model.fit(x_data,y_data)\n",
    "    #构建回归模型\n",
    "    y_predict = model.predict(x_data)\n",
    "    plt.plot(x_data,y_predict,color = 'g')\n",
    "    plt.title('A产品销量和B产品销量数据回归分析图')\n",
    "    plt.savefig(path +' A,B产品销量数据回归拟合分析',dpi =800)\n",
    "    return(model.predict(1200))"
   ]
  },
  {
   "cell_type": "code",
   "execution_count": 102,
   "metadata": {
    "collapsed": false
   },
   "outputs": [
    {
     "name": "stdout",
     "output_type": "stream",
     "text": [
      "请输入你的文件地址:C:\\Users\\acer\\Desktop\\xiangmu5\n",
      "              productA     productB\n",
      "2018-01-01  270.997943   371.615646\n",
      "2018-01-02  638.322113   788.081579\n",
      "2018-01-03  364.454658   454.279288\n",
      "2018-01-04  251.432000   340.337651\n",
      "2018-01-05  261.411794   419.372368\n",
      "2018-01-06  660.963370   758.044832\n",
      "2018-01-07  733.216003   833.052766\n",
      "2018-01-08  648.977726   777.371852\n",
      "2018-01-10  145.618453   309.405608\n",
      "2018-01-11  859.012821  1010.233897\n",
      "2018-01-12  906.538309  1056.094597\n",
      "2018-01-13  813.073077   972.934654\n",
      "2018-01-14  232.623479   345.475176\n",
      "2018-01-15   57.412126   156.260509\n",
      "2018-01-16  848.486545   930.534432\n",
      "2018-01-17  910.595040   994.613740\n",
      "2018-01-18  922.407906  1081.802618\n",
      "2018-01-19  505.462736   604.384189\n",
      "2018-01-20  304.309366   425.946219\n",
      "2018-01-22  978.331044  1059.885522\n",
      "2018-01-23  308.487706   429.754526\n",
      "2018-01-24  793.876850   929.064237\n",
      "2018-01-25  237.948887   399.372490\n",
      "2018-01-26  762.158421   924.633945\n",
      "2018-01-27   14.956534   149.776056\n",
      "2018-01-28  997.954720  1161.686128\n",
      "2018-01-30  974.145468  1126.662747\n",
      "2018-01-31  763.521636   913.782948\n",
      "2018-02-01  448.857786   520.980562\n",
      "2018-02-02   90.515626   202.734783\n",
      "...                ...          ...\n",
      "2018-02-27  504.484965   624.006507\n",
      "2018-02-28  356.925369   478.925964\n",
      "2018-03-01  517.226407   569.806387\n",
      "2018-03-02  897.788131   961.403426\n",
      "2018-03-03  363.516207   463.210468\n",
      "2018-03-04  248.089396   301.271714\n",
      "2018-03-05  610.457499   727.682169\n",
      "2018-03-06  639.380484   706.097176\n",
      "2018-03-07  693.505014   795.327424\n",
      "2018-03-08  980.091441  1030.130730\n",
      "2018-03-10  986.917434  1090.894356\n",
      "2018-03-11  619.826980   697.665610\n",
      "2018-03-12  727.805900   839.025587\n",
      "2018-03-13  943.681065   977.808735\n",
      "2018-03-14  200.090481   315.102525\n",
      "2018-03-15  942.659898  1031.342656\n",
      "2018-03-16  797.296880   856.630217\n",
      "2018-03-17  731.322650   861.906529\n",
      "2018-03-18  449.803091   483.125598\n",
      "2018-03-20  178.805853   238.531177\n",
      "2018-03-21  813.047790   916.719945\n",
      "2018-03-22  383.896977   505.986240\n",
      "2018-03-23  529.220593   637.937949\n",
      "2018-03-24  856.919376   948.503383\n",
      "2018-03-26  428.680970   537.329040\n",
      "2018-03-27  238.108001   342.302575\n",
      "2018-03-28  909.123872  1035.105688\n",
      "2018-03-29  709.060681   743.932913\n",
      "2018-03-30  524.921915   634.291636\n",
      "2018-03-31  990.188252  1125.912026\n",
      "\n",
      "[80 rows x 2 columns]\n",
      "当A产品的销售量为1200时，B产品的销售量为：1304\n"
     ]
    },
    {
     "data": {
      "image/png": "[encoded data removed]",
      "text/plain": [
       "<matplotlib.figure.Figure at 0x201280b0ba8>"
      ]
     },
     "metadata": {},
     "output_type": "display_data"
    }
   ],
   "source": [
    "datas = data_merge()\n",
    "print(datas)\n",
    "value_pre = data_predict(datas)\n",
    "print('当A产品的销售量为1200时，B产品的销售量为：%.0f'%value_pre)"
   ]
  },
  {
   "cell_type": "code",
   "execution_count": null,
   "metadata": {
    "collapsed": true
   },
   "outputs": [],
   "source": []
  }
 ],
 "metadata": {
  "anaconda-cloud": {},
  "kernelspec": {
   "display_name": "Python [default]",
   "language": "python",
   "name": "python3"
  },
  "language_info": {
   "codemirror_mode": {
    "name": "ipython",
    "version": 3
   },
   "file_extension": ".py",
   "mimetype": "text/x-python",
   "name": "python",
   "nbconvert_exporter": "python",
   "pygments_lexer": "ipython3",
   "version": "3.5.2"
  }
 },
 "nbformat": 4,
 "nbformat_minor": 1
}
