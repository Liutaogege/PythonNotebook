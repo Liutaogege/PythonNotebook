{
 "cells": [
  {
   "cell_type": "markdown",
   "metadata": {},
   "source": [
    "# 命令解释\n",
    "- systemd：是 所有进程的父进程（Linux内核3.0以上版本）\n",
    "- systemctl：用户管理各种类型的systemd对象，这些对象称为单元\n",
    "    - 常用的单元：.service(服务单元), .socket(套接字), .path(路径单元)\n",
    "- ssh:是一个协议，\n",
    "- sshd：是一个进程\n",
    "- systemctl status sshd.service(.service可以省略不写):表示查看sshd的状态，它的显示中有以下几个关键字(红帽7）\n",
    "    - loaded：单元配置文件已处理\n",
    "    - active(running):正在运行\n",
    "    - active(exited):配置成功\n",
    "    - active(waiting):运行中，但正在等待事件\n",
    "    - inactive：不在运行\n",
    "    - enable：开机自启动 \n",
    "    -  disabled：开机不启动\n",
    "    - static：无法启动，但是可以通过某一个已经启动的单元来启动\n",
    "- 红帽5,6\n",
    "    - Service sshd  status\n",
    "    - Chkconfig ssh on/off:开机自启动\n",
    "\n",
    "### systemctl参数\n",
    "- start：在系统中启动一项服务\n",
    "- stop：等待程序处理完毕后再stop\n",
    "- restart：直接关闭程序再开启 \n",
    "- reload：重新加载配置文集，进程暂停，然后把进程文件加载进去后，继续执行后续操作，进程的pid不会发生改变\n",
    "- enable：设置开机自启\n",
    "- disable：关闭开机自启动\n",
    "- status：查看某一单元的状态\n",
    "- 比如：systemctl reload sshd"
   ]
  }
 ],
 "metadata": {
  "kernelspec": {
   "display_name": "Python 3",
   "language": "python",
   "name": "python3"
  },
  "language_info": {
   "codemirror_mode": {
    "name": "ipython",
    "version": 3
   },
   "file_extension": ".py",
   "mimetype": "text/x-python",
   "name": "python",
   "nbconvert_exporter": "python",
   "pygments_lexer": "ipython3",
   "version": "3.8.8"
  }
 },
 "nbformat": 4,
 "nbformat_minor": 2
}
