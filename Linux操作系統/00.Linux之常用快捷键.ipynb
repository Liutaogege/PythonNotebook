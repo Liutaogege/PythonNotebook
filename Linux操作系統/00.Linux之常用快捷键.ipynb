{
 "cells": [
  {
   "cell_type": "markdown",
   "metadata": {},
   "source": [
    "# 常用快捷键\n",
    "- 打开终端：ctrl+shift+F(3-6)，可以打开多个终端\n",
    "    - chvt N，可以切换终端N代表数字，分别对应你用Fn键打开终端的那个N\n",
    "    - 也可以直接使用ctrl+shift+Fn键进行切换终端\n",
    "- 切回桌面：ctrl+shift+F2（点两下F2）\n",
    "- ctrl+alt+T打开终端模拟器（这不是真正的终端），右边的Ctrl键。或者在桌面右键打开终端\n",
    "    - 在终端 模拟器中可以使用鼠标，选中复制的内容，然后使用鼠标中键即可粘贴\n",
    "    - 或者使用ctrl+insert进行复制，shift+insert粘贴（右边的Ctrl键）\n",
    "\n",
    "\n",
    "- 如果查看某个文件内容太多而又无法翻屏，可以这样做，比如\n",
    "    - date --help | less(more):不推荐使用more ，因为无法向上再翻\n",
    "    - date --help > a.txt  重定向到a.txt文件然后用vim打开即可查看\n",
    "- pwd:查看当前目录\n",
    "- whoami：查看当前用户是谁\n",
    "- su username:切换用户，直接su就是切换为root用户\n",
    "- udo ufw status命令查看当前防火墙状态;inactive状态是防火墙关闭状态 active是开启状态。 \n",
    "- 在Ubuntu中 sudo ufw enable命令来开启防火墙，sudo ufw disable关闭它\n",
    "- 在终端中寻找文件：find / -name 文件名\n"
   ]
  },
  {
   "cell_type": "markdown",
   "metadata": {},
   "source": [
    "### 解压文件：\n",
    "#### .tar 文件——仅打包，并非压缩\n",
    "    tar -xvf FileName.tar         # 解包\n",
    "    tar -cvf FileName.tar DirName # 将DirName和其下所有文件（夹）打包\n",
    "\n",
    "#### .gz\n",
    "    gunzip FileName.gz  # 解压1\n",
    "    gzip -d FileName.gz # 解压2\n",
    "    gzip FileName       # 压缩，只能压缩文件\n",
    "\n",
    "#### .tar.gz 和 .tgz\n",
    "    tar -zxvf FileName.tar.gz               # 解压\n",
    "    tar -zcvf FileName.tar.gz DirName       # 将DirName和其下所有文件（夹）压缩\n",
    "    tar -C DesDirName -zxvf FileName.tar.gz # 解压到目标路径\n",
    "\n",
    "#### .zip:\n",
    "    unzip FileName.zip          # 解压\n",
    "    zip FileName.zip DirName    # 将DirName本身压缩\n",
    "    zip -r FileName.zip DirName # 压缩，递归处理，将指定目录下的所有文件和子目录一并压缩\n",
    "\n",
    "#### .rar:mac和linux并没有自带rar，需要去下载\n",
    "    rar x FileName.rar      # 解压\n",
    "    rar a FileName.rar DirName # 压缩"
   ]
  },
  {
   "cell_type": "markdown",
   "metadata": {},
   "source": [
    "# 安装类似everything的搜索工具Fsearch\n",
    "        sudo add-apt-repository ppa:christian-boxdoerfer/fsearch-daily\n",
    "        sudo apt-get update\n",
    "        sudo apt install fsearch-trunk"
   ]
  }
 ],
 "metadata": {
  "kernelspec": {
   "display_name": "Python 3",
   "language": "python",
   "name": "python3"
  },
  "language_info": {
   "codemirror_mode": {
    "name": "ipython",
    "version": 3
   },
   "file_extension": ".py",
   "mimetype": "text/x-python",
   "name": "python",
   "nbconvert_exporter": "python",
   "pygments_lexer": "ipython3",
   "version": "3.7.3"
  }
 },
 "nbformat": 4,
 "nbformat_minor": 2
}
