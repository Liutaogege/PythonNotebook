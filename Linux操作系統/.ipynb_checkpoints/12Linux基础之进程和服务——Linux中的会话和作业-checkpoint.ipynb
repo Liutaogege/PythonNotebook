{
 "cells": [
  {
   "cell_type": "markdown",
   "metadata": {},
   "source": [
    "# 几个进程的概念区别\n",
    "- 进程：Linux自身运行的独立的程序\n",
    "- 交互进程：由一个shell启动的进程，可以在前台运行，也可以在后台运行 \n",
    "- 批处理进程：是一个进程序列，和终端没有联系\n",
    "- 监控进程（守护进程）：Linux系统启动时，启动的进程，并且在后台运行\n",
    "\n",
    "- 作业 ：一个正在执行的进程，而且作业可以包含一个或多个进程\n",
    "- 作业控制：控制正在运行的进程的行为，如：挂起一个进程，等一会在执行，这样用户就可以在多个作业之间切换\n",
    "\n",
    "- &：在命令后使用该符号，可以让该命令在后台执行\n",
    "    - sleep 1000 &\n",
    "    - Ctrl+c：中断该程序\n",
    "    - Ctrl+z：挂起该程序\n",
    "    \n",
    "- jobs：可以查看正在后台运行的作业\n",
    "    - -l:除了列出 作业号外，同时列出pid\n",
    "    - -r：列出仅仅在后台运行的作业 \n",
    "    - -s：列出仅仅在后台暂停的作业\n",
    "    - 比如：jobs -r\n",
    "\n",
    "### 其他作业相关命令\n",
    "- fg：将后台的命令调到前台来继续执行\n",
    "    - 用法： fg 2（2表示的是这个作业的编号）\n",
    "- bg：将后台暂停的命令继续执行\n",
    "- ps -j:显示当前作业进程信息\n",
    "- PGID:线程组id号\n",
    "- SID:会话ID 号"
   ]
  },
  {
   "cell_type": "markdown",
   "metadata": {},
   "source": [
    "# 中断进程\n",
    "- 信号：可以传递给Linux进程的操作\n",
    "- kill -l：显示可以传递给Linux进程的关于kill的所有信号\n",
    "\n",
    "- 常用：\n",
    "    - kill -9 进程号：强制杀死一个进程（类似Windows中杀死一个任务）\n",
    "    - kill -15 进程号：正常的方式终止一个进程\n",
    "    - kill -2：与Ctrl+c的操作是一样的"
   ]
  }
 ],
 "metadata": {
  "kernelspec": {
   "display_name": "Python 3",
   "language": "python",
   "name": "python3"
  },
  "language_info": {
   "codemirror_mode": {
    "name": "ipython",
    "version": 3
   },
   "file_extension": ".py",
   "mimetype": "text/x-python",
   "name": "python",
   "nbconvert_exporter": "python",
   "pygments_lexer": "ipython3",
   "version": "3.7.3"
  }
 },
 "nbformat": 4,
 "nbformat_minor": 2
}
