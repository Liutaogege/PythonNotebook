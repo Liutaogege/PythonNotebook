{
 "cells": [
  {
   "cell_type": "markdown",
   "metadata": {},
   "source": [
    "# 常用快捷键\n",
    "- 以下是虚拟机的：\n",
    "    - 打开终端：ctrl+shift+F(3-6)，可以打开多个终端\n",
    "        - chvt N，可以切换终端N代表数字，分别对应你用Fn键打开终端的那个N\n",
    "        - 也可以直接使用ctrl+shift+Fn键进行切换终端\n",
    "    - 切回桌面：ctrl+shift+F2（点两下F2）\n",
    "    - ctrl+alt+T打开终端模拟器（这不是真正的终端），右边的Ctrl键。或者在桌面右键打开终端\n",
    "        - 在终端 模拟器中可以使用鼠标，选中复制的内容，然后使用鼠标中键即可粘贴\n",
    "        - 或者使用ctrl+insert进行复制，shift+insert粘贴（右边的Ctrl键）\n",
    "\n",
    "\n",
    "- 如果查看某个文件内容太多而又无法翻屏，可以这样做，比如\n",
    "    - date --help | less(more):不推荐使用more ，因为无法向上再翻\n",
    "    - date --help > a.txt  重定向到a.txt文件然后用vim打开即可查看\n",
    "- pwd:查看当前目录\n",
    "- whoami：查看当前用户是谁\n",
    "- su username:切换用户，直接su就是切换为root用户\n",
    "- udo ufw status命令查看当前防火墙状态;inactive状态是防火墙关闭状态 active是开启状态。 \n",
    "- 在Ubuntu中 sudo ufw enable命令来开启防火墙，sudo ufw disable关闭它\n",
    "- 在终端中寻找文件：find / -name 文件名\n"
   ]
  },
  {
   "cell_type": "markdown",
   "metadata": {},
   "source": [
    "# Shell快捷键，主要针对Xshell\n",
    "- Ctrl+a：调到命令行的开头\n",
    "- Ctrl+e：调到命令行的末尾\n",
    "- Ctrl+u：将光标处到命令行开头的内容清除\n",
    "- Ctrl+k:将光标处到命令行结尾的内容清除\n",
    "- Ctrl+r：在历史记录列表中搜搜某一命令\n",
    "- Ctrl+l:清屏\n",
    "- history：显示历史命令\n",
    "    - ！number：直接执行曾今执行过的命令"
   ]
  },
  {
   "cell_type": "markdown",
   "metadata": {},
   "source": [
    "    \n",
    "## 路径切换\n",
    "- cd：路径的切换\n",
    "    - -:返回到之前的目录\n",
    "    - ..:返回上一级目录\n",
    "    - ~:到用户所在的家目录\n",
    "    - /:回到根目录\n",
    "- 绝对路径和相对路径：绝对路径指完整路径"
   ]
  },
  {
   "cell_type": "markdown",
   "metadata": {},
   "source": [
    "# 一些常用命令\n",
    "- ifconfig\n",
    "    查看网络配置信息（windows使用的是ipconfig)"
   ]
  },
  {
   "cell_type": "markdown",
   "metadata": {},
   "source": [
    "# 安装类似everything的搜索工具Fsearch\n",
    "        sudo add-apt-repository ppa:christian-boxdoerfer/fsearch-daily\n",
    "        sudo apt-get update\n",
    "        sudo apt install fsearch-trunk"
   ]
  }
 ],
 "metadata": {
  "kernelspec": {
   "display_name": "Python 3",
   "language": "python",
   "name": "python3"
  },
  "language_info": {
   "codemirror_mode": {
    "name": "ipython",
    "version": 3
   },
   "file_extension": ".py",
   "mimetype": "text/x-python",
   "name": "python",
   "nbconvert_exporter": "python",
   "pygments_lexer": "ipython3",
   "version": "3.8.8"
  }
 },
 "nbformat": 4,
 "nbformat_minor": 2
}
