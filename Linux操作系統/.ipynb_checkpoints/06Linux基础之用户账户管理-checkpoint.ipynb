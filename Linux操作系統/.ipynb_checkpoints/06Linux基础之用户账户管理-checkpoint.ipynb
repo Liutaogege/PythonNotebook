{
 "cells": [
  {
   "cell_type": "markdown",
   "metadata": {},
   "source": [
    "# Linux用户账户管理\n",
    "- 账户和组名：给人看的\n",
    "-  UID和GID:linux看的\n",
    "- 命令id：查看当前登入用户的UID和GID\n",
    "- 当我们使用ls -l 的时候，系统会根据/etc/passwd和/etc/group文件的内容，找到UID和GID对应的名称，进行显示\n",
    "- 如果随意修改/etc/passwd的用户的UID会发生什么情况\n",
    "    - 如果系统没找到对应的UID，那么就直接会显示那个UID/或GID数字\n",
    "- /etc/passwd:记录了Linux上所有的账号\n",
    "- /etc/shadow:记录了账户对应的密码\n",
    "- /etc/group:记录了所有的组\n",
    "\n",
    "# /etc/passwd\n",
    "- liutao:x:10001:1001:,,,:/home/liutao:/bin/bash\n",
    "- 解释\n",
    "    - liutao：用户名\n",
    "    - x:早期这个部分放的是用户登录密码，现在密码放入了/etc/shadow中\n",
    "    - UID:0表示系统管理员，1-999保留给系统使用的ID，1000以上给一般使用者\n",
    "    - GID:0表示系统管理员，1-999保留给系统使用的ID,1000以上给一般使用者\n",
    "    - ,,,:使用者信息说明\n",
    "    - /home/liutao:用户的家目录，用户登录时，所在的目录\n",
    "    - /bin/bash：用户在登录的时候，是否可以使用shell，如果不能使用shell，则会显示/sbin/nologin"
   ]
  },
  {
   "cell_type": "markdown",
   "metadata": {},
   "source": [
    "# /etc/shadow\n",
    "- 样式：\n",
    "    - liutao:一串很长的字符:18666:0:99999:7:::\n",
    "- 解释\n",
    "    - 1.liutao：用户名\n",
    "    - 2.一串字符：经过加密的密码\n",
    "    - 3.最近更改过密码的日期：Linux中的日期，是通过1970年1月1号开始累加的日期\n",
    "    - 4.密码不能修改的天数：0表示可以随时修改\n",
    "    - 5.密码需要重新被修改的天数：通过修改值，可以强制用户修改密码\n",
    "    - 6.密码需要变更的告警天数：78天内系统会向用户发出告警\n",
    "    - 7.密码到期后，账号还可以使用的时间\n",
    "    - 8.账号失效日期：通过1970年1月1日开始累加的日期，到了时间后，无论密码是否过期，该账号就不能使用了\n",
    "    - 9.保留"
   ]
  },
  {
   "cell_type": "markdown",
   "metadata": {},
   "source": [
    "# /etc/group\n",
    "- liutao:x:1001:\n",
    "    - 1.liutao:组名\n",
    "    - 2.x：组密码，一般不需要\n",
    "    - 3.1000：GID\n",
    "    - 4.附属组\n",
    "- 以上这些文件不建议直接修改，建议使用命令进行修改"
   ]
  },
  {
   "cell_type": "code",
   "execution_count": null,
   "metadata": {},
   "outputs": [],
   "source": []
  },
  {
   "cell_type": "code",
   "execution_count": null,
   "metadata": {},
   "outputs": [],
   "source": []
  },
  {
   "cell_type": "code",
   "execution_count": null,
   "metadata": {},
   "outputs": [],
   "source": []
  },
  {
   "cell_type": "code",
   "execution_count": null,
   "metadata": {},
   "outputs": [],
   "source": []
  }
 ],
 "metadata": {
  "kernelspec": {
   "display_name": "Python 3",
   "language": "python",
   "name": "python3"
  },
  "language_info": {
   "codemirror_mode": {
    "name": "ipython",
    "version": 3
   },
   "file_extension": ".py",
   "mimetype": "text/x-python",
   "name": "python",
   "nbconvert_exporter": "python",
   "pygments_lexer": "ipython3",
   "version": "3.7.3"
  }
 },
 "nbformat": 4,
 "nbformat_minor": 2
}
