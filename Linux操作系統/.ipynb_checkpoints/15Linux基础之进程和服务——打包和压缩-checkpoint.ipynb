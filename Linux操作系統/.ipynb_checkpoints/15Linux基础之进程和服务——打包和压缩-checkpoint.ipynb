{
 "cells": [
  {
   "cell_type": "markdown",
   "metadata": {},
   "source": [
    "# 打包\n",
    "- 打包程序：tar\n",
    "    - c：创建文档 \n",
    "    - t：列出存档文档\n",
    "    - x：提取存档\n",
    "    - r:向压缩文档文件末尾追加文件\n",
    "    - u：更新原压缩包中的文件\n",
    "    - 以上参数是只能选择其中一个和其他命令连用，比如下面这两个命令\n",
    "    - f filename：要操作的存档的文件名\n",
    "    - v：详细信息\n",
    "    - 用法：\n",
    "        - tar cf 打包后的名字 打包的文件或目录\n",
    "        - tar tf 打包后的名字 \n",
    "        - tar xf 打包后的名字\n",
    "        - tar xvf 打包的文件的名字\n",
    "- 注意：\n",
    "    - 1.选项前不加-\n",
    "    - 2.创建之前请检查有没有重名文件（覆盖且不提示）\n",
    "    - 3.要使tar可以打包选定的文件，执行tar命令的用户必须要能够读取这些文件"
   ]
  },
  {
   "cell_type": "markdown",
   "metadata": {},
   "source": [
    "# 压缩\n",
    "- tar支持三种不同压缩方式\n",
    "    - gzip：压缩速度快，历史悠久，应用最广泛\n",
    "    - bzip2：压缩成的存档文件小，可用性不如gzip\n",
    "    - xz：最新的方式，提供最佳的压缩率\n",
    "    - z表示gzip压缩，j表示bzip2压缩，J表示xz压缩\n",
    "    - 使用：\n",
    "        - tar zcf filename.tar.gz 目标文件\n",
    "        - tar.jcf filenmae.tar.bz2 目标文件\n",
    "        - tar.Jcf filename.tar.xz 目标文件\n",
    "        - 比如tar zcf a.tar.gz a.tar\n",
    "- 解压缩就是使用x命令\n",
    "    - tar xf a.tar.gz"
   ]
  },
  {
   "cell_type": "code",
   "execution_count": null,
   "metadata": {},
   "outputs": [],
   "source": []
  },
  {
   "cell_type": "code",
   "execution_count": null,
   "metadata": {},
   "outputs": [],
   "source": []
  },
  {
   "cell_type": "code",
   "execution_count": null,
   "metadata": {},
   "outputs": [],
   "source": []
  },
  {
   "cell_type": "code",
   "execution_count": null,
   "metadata": {},
   "outputs": [],
   "source": []
  }
 ],
 "metadata": {
  "kernelspec": {
   "display_name": "Python 3",
   "language": "python",
   "name": "python3"
  },
  "language_info": {
   "codemirror_mode": {
    "name": "ipython",
    "version": 3
   },
   "file_extension": ".py",
   "mimetype": "text/x-python",
   "name": "python",
   "nbconvert_exporter": "python",
   "pygments_lexer": "ipython3",
   "version": "3.7.3"
  }
 },
 "nbformat": 4,
 "nbformat_minor": 2
}
