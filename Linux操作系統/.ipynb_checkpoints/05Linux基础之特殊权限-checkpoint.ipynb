{
 "cells": [
  {
   "cell_type": "markdown",
   "metadata": {},
   "source": [
    "# 文件的特殊权限SUID, SGID, SBIT\n",
    "- SUID:临时获取文件拥有者的权限——只能针对 文件\n",
    "- SGID：即可以作用于目录，也可以作用域文件\n",
    "    - 作用于文件：SUID一样，临时获取文件所属组的权限\n",
    "    - 作用于目录：继承父级目录，目录会不停的继承\n",
    "- SBIT指的是，只有文件的拥有者，才能删除、修改该目录下的文件 ，只能针对目录.只能修改其他人这一组的，不能修改其他组的\n",
    "\n",
    "- 当s出现在拥有者的x权限位置的时候，表示拥有者有SUID的权限（Set UID）\n",
    "- 当s出现在所属组的x权限位置的时候，表示所属组有SGID的权限（set GID）\n",
    "- 当t出现在其他人的x权限位置的时候，表示其他人有SBIT的权限（Sticky Bit）\n",
    "- 比如：drwxrwxrwt，表示其他人有SBIT的权限\n",
    "\n",
    "\n",
    "- S和T都有大写和小写之分\n",
    "- 大写说明 ：没有x权限\n",
    "- 小写说明：有x权限\n",
    "- 如何将小写转换成大写：使用chmod g-x 文件名，即可实现\n",
    "- SUID=4, SGID=2, SBIT=1\n",
    "    - 第一位数字\n",
    "    - 比如：chmod 4777 文件名（表示该文件有SUID权限）\n",
    "    - chmod 7777 文件名（表示该文件有SUID,SGID,SBIT权限）\n"
   ]
  }
 ],
 "metadata": {
  "kernelspec": {
   "display_name": "Python 3",
   "language": "python",
   "name": "python3"
  },
  "language_info": {
   "codemirror_mode": {
    "name": "ipython",
    "version": 3
   },
   "file_extension": ".py",
   "mimetype": "text/x-python",
   "name": "python",
   "nbconvert_exporter": "python",
   "pygments_lexer": "ipython3",
   "version": "3.7.3"
  }
 },
 "nbformat": 4,
 "nbformat_minor": 2
}
