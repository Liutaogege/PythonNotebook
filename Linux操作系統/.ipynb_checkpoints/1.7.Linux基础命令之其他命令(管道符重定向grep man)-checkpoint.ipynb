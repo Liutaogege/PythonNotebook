{
 "cells": [
  {
   "cell_type": "markdown",
   "id": "c88740be",
   "metadata": {},
   "source": [
    "# Linux其他命令\n",
    "  \n",
    "- gzip：创建压缩文件\n",
    "- grep：查找文件里符合条件的字符串\n",
    "- grep -v：查找文件不含有符合某种条件的字符串\n",
    "- sort：排序，按字母或数字\n",
    "- uniq：检查文本中重复出现的行列\n",
    "\n",
    "## 帮助命令—man\n",
    "- man 库：和Python中help很像，比如 man ls：表示ls的说明文档\n",
    "- man 数字 库：中间加数字表示不同的含义\n",
    "    - 数字\n",
    "        - 1：用户命令，可执行命令和shell程序\n",
    "        - 2：系统调用\n",
    "        - 3：库函数\n",
    "        - 5：文件格式\n",
    "        - 其他数字含义详情百度：https://www.51zxw.net/Show.aspx?cid=644&id=64500\n",
    "- 模糊查询：使用-k参数,和apropos命令一样\n",
    "- 若想退出man命令，按q退出\n",
    "- 其他的帮助命令：pinfo"
   ]
  },
  {
   "cell_type": "markdown",
   "id": "b9e8f2ee",
   "metadata": {},
   "source": [
    "# 重定向\n",
    "- 重定向操作符\n",
    "    - >文件：输出重定向\n",
    "    - >>文件：追加式重定向\n",
    "    - <文件：输入重定向\n",
    "    - <<分界符：用分界符控制输入重定向的结束\n",
    "    - <<<string：重定向输入字符串\n",
    "    - cat /etc/* > etc-files 2>/dev/null,表示将/etc目录下的所有文件打印到etc-files，并且错误提示都丢到/dev/null，/dev/null是一个无底洞，他可以装入一切。2表示标准错误输出重定向，1表示标准输出重定向"
   ]
  },
  {
   "cell_type": "markdown",
   "id": "fa690dd3",
   "metadata": {},
   "source": [
    "# 重定向\n",
    "- >file: 标准输出重定向到文件——覆盖\n",
    "- >>file:标准输出重定向到文件——追加\n",
    "- 2>:标准错误重定向到文件——覆盖\n",
    "- 2>>:标准错误重定向到文件——追加\n",
    "- 2>/dev/null:标准错误输出到回收站\n",
    "- &>file:标准输出和错误重定向到文件——覆盖\n",
    "- >>file 2>&1: 标准输出和标准错误重定向到文件——追加\n",
    "- 举例：date > dating\n",
    "\n",
    "# 管道符\n",
    "- |:管道操作符，将一个程序的标准输出写入到一个文件中去，再将这个文件作为另一个程序的输入，管道要解决的就是不需要临时文件就能将两个命令结合在一起 \n",
    "- 作用：\n",
    "    - 1.承上启下，把上一个指令的输出作为下一个指令的输入\n",
    "    - 2.搭配grep字符实现过滤功能\n",
    "    - 举例：ls -l /etc/ | more\n",
    "    - ps -aux | grep cron\n",
    "    - ps -aux | cron > abc"
   ]
  }
 ],
 "metadata": {
  "kernelspec": {
   "display_name": "Python 3",
   "language": "python",
   "name": "python3"
  },
  "language_info": {
   "codemirror_mode": {
    "name": "ipython",
    "version": 3
   },
   "file_extension": ".py",
   "mimetype": "text/x-python",
   "name": "python",
   "nbconvert_exporter": "python",
   "pygments_lexer": "ipython3",
   "version": "3.8.8"
  }
 },
 "nbformat": 4,
 "nbformat_minor": 5
}
