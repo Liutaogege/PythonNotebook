{
 "cells": [
  {
   "cell_type": "markdown",
   "metadata": {},
   "source": [
    "# 交换空间（虚拟内存）\n",
    "- 1.存放内存中不活动的信息\n",
    "-  2.内存写满时会使用\n",
    "- 3.如果虚拟内存写满，那么Linux会 非常卡，甚至崩溃\n",
    "### 交换分区的设置大小\n",
    "        物理内存    交换分区（SWAP）\n",
    "        <=4G       至少4G\n",
    "        4-16G      至少8G\n",
    "        16G-64G     至少16G\n",
    "        64G-256G    至少32G\n",
    "\n",
    "### 创建步骤\n",
    "- 1.创建分区\n",
    "- 2.将分区类型设置为swap-fdisk（修改分区类型）\n",
    "- 3.格式化——mkswap 分区\n",
    "- 4.挂载：临时和永久（ect/fstab）\n",
    "    - /dev/sdb2 挂载点 ext4 defaults 0 0,具体参看上一章\n",
    "- 其他命令：\n",
    "    - free：查看可用的内存和虚拟内存空间\n",
    "    - swapon 分区：激活内存空间"
   ]
  }
 ],
 "metadata": {
  "kernelspec": {
   "display_name": "Python 3",
   "language": "python",
   "name": "python3"
  },
  "language_info": {
   "codemirror_mode": {
    "name": "ipython",
    "version": 3
   },
   "file_extension": ".py",
   "mimetype": "text/x-python",
   "name": "python",
   "nbconvert_exporter": "python",
   "pygments_lexer": "ipython3",
   "version": "3.7.3"
  }
 },
 "nbformat": 4,
 "nbformat_minor": 2
}
