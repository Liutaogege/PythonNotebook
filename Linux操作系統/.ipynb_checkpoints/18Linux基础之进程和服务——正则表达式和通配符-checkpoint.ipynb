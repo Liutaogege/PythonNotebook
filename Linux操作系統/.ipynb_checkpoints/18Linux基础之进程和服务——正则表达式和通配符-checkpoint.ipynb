{
 "cells": [
  {
   "cell_type": "markdown",
   "metadata": {},
   "source": [
    "#  通配符和正则表达式的概念\n",
    "- 在Linux中，有通配符和正则表达式，这是两个不同的概念\n",
    "- 通配符：它是由shell解析，并且一般用于匹配文件名，如ls\n",
    "- 正则表达式：是一个字符匹配标准，一些命令工具按此标准实现字符匹配，常用于支持正则表达式的工具，如grep，sed等，一般用于匹配文件中的内容\n",
    "\n",
    "# 常用的通配符\n",
    "- *： 匹配任意多个字符\n",
    "- ?:匹配任意一个字符\n",
    "- [...]: 匹配括号内出现的任意一个字符\n",
    "- [!...]:不匹配括号内出现的任意一个字符\n",
    "\n",
    "# 正则表达式\n",
    "### 字符匹配\n",
    "- .:匹配任意单个字符\n",
    "- *:匹配其前面一个字符出现任意次\n",
    "- ？：匹配其前面的字符1次或0次\n",
    "- +：匹配其前面一个字符出现至少一次（在扩展正则表达式中）\n",
    "\n",
    "### 位置匹配\n",
    "- ^:锚定首行\n",
    "- $:锚定行尾 $\n",
    "- \\<或\\b: 锚定词尾，其后面的任意字符必须作为单词首部出现\n",
    "- />或\\b: 锚定词尾，其前面的任意字符必须作为单词尾部出现\n",
    "- \\B: 非单词的开头或结尾\n",
    "- ^$:空白行\n",
    "- \\:通常用于打开或关闭后续字符的特殊含义  $\n",
    "\n",
    "### 分组\n",
    "- (ab)*:匹配ab这个分组出现任意次\n",
    "- \\1:引用第一个左括号以及与之对应的右括号所包括的所有内容，同理还有\\2,\\3\n",
    "\n",
    "### 特殊子类字符\n",
    "- 注意使用时要加上双括号\n",
    "- [:alnum:]:任意字母和数字\n",
    "- [:alpha:]:任何字母\n",
    "- [:cntrl:]:控制字符，在ASCII表中对应八进制000到037，和177（'DEL'）\n",
    "- [:digit:]:任何数字\n",
    "- [:graph:]:匹配打印字符，相当于'[:alnum:]' + '[:punct:]'\n",
    "- [:lower:]:小写字母\n",
    "- [:print:':可打印字符，相当于'[:alnum:]', '[:punct:']和space\n",
    "- [:punct:]:标点字符\n",
    "- [:space:]:tab, newline,  vertical tab, form feed, carriage return , and space\n",
    "- [:upper:]:大写字母\n",
    "- [:xdigit:]:任何16进制的数字，相当于[0-9a-fA-F]"
   ]
  },
  {
   "cell_type": "markdown",
   "metadata": {},
   "source": [
    "- 举例\n",
    "    - ls -l test*\n",
    "    - ls -l te.\n",
    "    - cat abc | grep ^$ 表示匹配空白行\n",
    "    - cat abc | grep [[:upper:]] 表示搭配大写 字母一个"
   ]
  }
 ],
 "metadata": {
  "kernelspec": {
   "display_name": "Python 3",
   "language": "python",
   "name": "python3"
  },
  "language_info": {
   "codemirror_mode": {
    "name": "ipython",
    "version": 3
   },
   "file_extension": ".py",
   "mimetype": "text/x-python",
   "name": "python",
   "nbconvert_exporter": "python",
   "pygments_lexer": "ipython3",
   "version": "3.7.3"
  }
 },
 "nbformat": 4,
 "nbformat_minor": 2
}
