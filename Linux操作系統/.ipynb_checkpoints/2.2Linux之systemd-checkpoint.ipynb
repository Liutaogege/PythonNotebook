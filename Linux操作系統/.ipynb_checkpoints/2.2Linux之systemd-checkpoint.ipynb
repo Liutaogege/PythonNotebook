{
 "cells": [
  {
   "cell_type": "markdown",
   "id": "90563684",
   "metadata": {},
   "source": [
    "# systemd\n",
    "- systemd是Linux系统最新的初始化系统(init),作用是提高系统的启动速度，尽可能启动较少的进程，尽可能更多进程并发启动。\n",
    "- 而systemctl是systemd的主要控制命令，可用参数如下：\n",
    "    - start：立刻启动后面接的 unit。\n",
    "    - stop：立刻关闭后面接的 unit。\n",
    "    - restart：立刻关闭后启动后面接的 unit，亦即执行 stop 再 start 的意思。\n",
    "    - reload：不关闭 unit 的情况下，重新载入配置文件，让设置生效。\n",
    "    - enable：设置下次开机时，后面接的 unit 会被启动。\n",
    "    - disable：设置下次开机时，后面接的 unit 不会被启动。\n",
    "    - status：目前后面接的这个 unit 的状态，会列出有没有正在执行、开机时是否启动等信息。\n",
    "    - is-active：目前有没有正在运行中。\n",
    "    - is-enable：开机时有没有默认要启用这个 unit。\n",
    "    - kill ：不要被 kill 这个名字吓着了，它其实是向运行 unit 的进程发送信号。\n",
    "    - show：列出 unit 的配置。\n",
    "    - mask：注销 unit，注销后你就无法启动这个 unit 了。\n",
    "    - unmask：取消对 unit 的注销。\n",
    "    - reboot 重启\n",
    "    - poweroff 断电\n",
    "- 而systemd兼容了原来的init，即service命令"
   ]
  },
  {
   "cell_type": "code",
   "execution_count": null,
   "id": "db3fc91d",
   "metadata": {},
   "outputs": [],
   "source": []
  }
 ],
 "metadata": {
  "kernelspec": {
   "display_name": "Python 3",
   "language": "python",
   "name": "python3"
  },
  "language_info": {
   "codemirror_mode": {
    "name": "ipython",
    "version": 3
   },
   "file_extension": ".py",
   "mimetype": "text/x-python",
   "name": "python",
   "nbconvert_exporter": "python",
   "pygments_lexer": "ipython3",
   "version": "3.8.8"
  }
 },
 "nbformat": 4,
 "nbformat_minor": 5
}
