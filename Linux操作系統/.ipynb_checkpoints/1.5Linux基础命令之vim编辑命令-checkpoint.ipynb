{
 "cells": [
  {
   "cell_type": "markdown",
   "id": "2577a124",
   "metadata": {},
   "source": [
    "# vim命令\n",
    "- 是vi的升级版\n",
    "- 不是文本查看器，是一个程序编辑器\n",
    "\n",
    "### 三种使用模式\n",
    "- 基本上vi/vim分为三种模式：分别是命令模式，输入模式，底线命令模式，三种模式的作用分别如下：\n",
    "\n",
    "#### 命令模式\n",
    "- 用户刚刚进入vi/vim,便进入了命令模式，此状态敲击键盘动作会被vim识别为命令，而非输入字符\n",
    "- 常用的命令如下：\n",
    "    - i：切换到输入模式，用来输入字符\n",
    "    - x：删除当前光标所在处的字符\n",
    "    - :：切换到底线命令模式，以在最底层一行输入命令\n",
    "- 若想要编辑文本，启动vim，进入命令模式，按下i，进入编辑模式\n",
    "- 命令模式只有一些最基本的命令，因此仍要依靠底线命令模式输入更多命令\n",
    "\n",
    "#### 底线命令模式\n",
    "- 底线命令模式可用的命令非常多，常用的基本命令即q和w\n",
    "- 其他命令有：\n",
    "    - 移动光标的命令\n",
    "        - ctrl+f:屏幕向下移动一页\n",
    "        - ctrl+B:向上移动一页\n",
    "        - ctrl+d:屏幕向下移动半页\n",
    "        - Ctrl+u：向上移动半夜\n",
    "        - 数字 + 空格，移动到对应行的多少个字符处\n",
    "        - 数字 + enter：向后移动多少行\n",
    "        - $或End：移动到这一行的最后一处字符\n",
    "        - G移动到文本的最后一行\n",
    "        - nG：移动多少行\n",
    "        - gg:移动到文本最开始的一行"
   ]
  },
  {
   "cell_type": "markdown",
   "id": "5de26f16",
   "metadata": {},
   "source": [
    "    - 搜索命令\n",
    "        - /word:向下查找word\n",
    "        - ?word:向上查找word\n",
    "        - n：向下继续搜索，和上面两个命令结合使用\n",
    "\n",
    "        - N：向上继续搜索\n",
    "    - 删除复制粘贴命令\n",
    "        - x,X:x向后删除一个字符，X向前删除一个字符\n",
    "        - p,P:粘贴，p向后粘贴，P向前粘贴\n",
    "        - nx：向后删除n个字符\n",
    "        - dd：删除游标所在的那一整行\n",
    "        - yy：复制游标所在的那一行\n",
    "        - nyy：复制游标及向下的多少行\n",
    "        - u：撤销操作\n",
    "        - ctrl+r:撤销的撤销，相当于ctrl+shift+z\n",
    "    - 输入模式切换到指令行模式的可用按钮说明\n",
    "        - :ZZ :若文档没修过，不做任何处理，若修改过，则保存后立刻\n",
    "        - :w filename:保存成另外一个文件\n",
    "        - :r filename:读入另外一个文件的内容\n",
    "        - :! command: 表示暂时离开命令模式并执行command的结果，比如:! ls /home,表示暂时立刻命令模式并打印home文件夹下的目录信息\n",
    "        - :set nu: 显示行号\n",
    "        - :set nonu:取消行号"
   ]
  },
  {
   "cell_type": "code",
   "execution_count": null,
   "id": "bd44a71a",
   "metadata": {},
   "outputs": [],
   "source": []
  }
 ],
 "metadata": {
  "kernelspec": {
   "display_name": "Python 3",
   "language": "python",
   "name": "python3"
  },
  "language_info": {
   "codemirror_mode": {
    "name": "ipython",
    "version": 3
   },
   "file_extension": ".py",
   "mimetype": "text/x-python",
   "name": "python",
   "nbconvert_exporter": "python",
   "pygments_lexer": "ipython3",
   "version": "3.8.8"
  }
 },
 "nbformat": 4,
 "nbformat_minor": 5
}
