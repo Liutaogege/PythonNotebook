{
 "cells": [
  {
   "cell_type": "markdown",
   "metadata": {},
   "source": [
    "# useradd\n",
    "- -u：设置UID\n",
    "- -g:设置主要组\n",
    "- -G：设置附属组\n",
    "- -c：设置用户说明\n",
    "- -d：指定用户家目录\n",
    "- -s：指定用户shell：比如useradd -s /sbin/nologin 用户名\n",
    "- -e：账号失效日期，格式为YYYYJ-MM-DD\n",
    "- -f：指定密码是否失效，0表示立刻失效，1表示永不失效"
   ]
  },
  {
   "cell_type": "markdown",
   "metadata": {},
   "source": [
    "# 使用了useradd后，会默认做以下几个操作\n",
    "- 1.在/etc/passwd下建立相关的资料\n",
    "- 2.在/etc/shadow下写入密码的相关的参数\n",
    "- 3.在/etc/group中写入和账号名一样 的组\n",
    "- 4.在/home下创建用户的加目录\n",
    "\n",
    "- id命令或者id 用户名\n",
    "    - 显示用户的uid和gid"
   ]
  },
  {
   "cell_type": "markdown",
   "metadata": {},
   "source": [
    "# usermod\n",
    "- usermod可以对用户账户的信息进行细微的修改\n",
    "    - -c：账号说明\n",
    "    - -d：修改家目录\n",
    "    - -g:修改主要组\n",
    "    -  -G：修改附属组\n",
    "    - -a:与-G一起使用，增加附属组\n",
    "    - -l：修改用户名\n",
    "    - -u：修改UID\n",
    "    - -L:冻结账号\n",
    "    - -U：解冻"
   ]
  }
 ],
 "metadata": {
  "kernelspec": {
   "display_name": "Python 3",
   "language": "python",
   "name": "python3"
  },
  "language_info": {
   "codemirror_mode": {
    "name": "ipython",
    "version": 3
   },
   "file_extension": ".py",
   "mimetype": "text/x-python",
   "name": "python",
   "nbconvert_exporter": "python",
   "pygments_lexer": "ipython3",
   "version": "3.7.3"
  }
 },
 "nbformat": 4,
 "nbformat_minor": 2
}
