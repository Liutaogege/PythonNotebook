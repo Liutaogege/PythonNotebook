{
 "cells": [
  {
   "cell_type": "markdown",
   "metadata": {},
   "source": [
    "# 默认权限——umask\n",
    "- umask：查看当前用户的umask权限，它指的是在创建文件和目录时默认被拿走的权限。它由四位数字组成（比如0022），其中 第一位数字表示特殊权限\n",
    "    - 四位数字是4、2、1、0中的其中一位或它们的和，4、2,1分别表示的是rwx权限，，0表示没有任何权限被拿走。2表示w权限被拿走\n",
    "    - 在创建文件时，默认权限x会被取走（和umask没啥关系好像），而创建目录时则不会\n",
    "    - 临时修改umask权限： umask 0000，表示没有任何权限被取走（但是注意对于文件来说依然没x权限，若想赋予文件x权限，应当使用chmod u+x 文件名）\n",
    "    - 永久修改umask权限：/etc/bashrc(不建议)\n",
    "            比如某用户的umask权限是0022,则表示创建的文件默认是-rw-r--r--\n",
    "            创建的目录是drwxr-xr-x\n",
    "            而设置umask 000，则创建的文件的默认权限是-rw-rw-rw,目录则是drwxrwxrwx\n",
    "    - 加上-S，可以使权限以人性化的方式显示出来\n",
    "            \n",
    "- root用户和普通用户的umask权限默认是0022,0002,普通用户之所以更多一个权限是为了保证不同用户在编辑同一份文件时都可以进行编辑"
   ]
  },
  {
   "cell_type": "code",
   "execution_count": null,
   "metadata": {},
   "outputs": [],
   "source": []
  },
  {
   "cell_type": "code",
   "execution_count": null,
   "metadata": {},
   "outputs": [],
   "source": []
  },
  {
   "cell_type": "code",
   "execution_count": null,
   "metadata": {},
   "outputs": [],
   "source": []
  },
  {
   "cell_type": "code",
   "execution_count": null,
   "metadata": {},
   "outputs": [],
   "source": []
  },
  {
   "cell_type": "code",
   "execution_count": null,
   "metadata": {},
   "outputs": [],
   "source": []
  }
 ],
 "metadata": {
  "kernelspec": {
   "display_name": "Python 3",
   "language": "python",
   "name": "python3"
  },
  "language_info": {
   "codemirror_mode": {
    "name": "ipython",
    "version": 3
   },
   "file_extension": ".py",
   "mimetype": "text/x-python",
   "name": "python",
   "nbconvert_exporter": "python",
   "pygments_lexer": "ipython3",
   "version": "3.7.3"
  }
 },
 "nbformat": 4,
 "nbformat_minor": 2
}
