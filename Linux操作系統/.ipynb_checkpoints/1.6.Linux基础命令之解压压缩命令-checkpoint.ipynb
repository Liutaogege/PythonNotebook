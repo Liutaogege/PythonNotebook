{
 "cells": [
  {
   "cell_type": "markdown",
   "id": "a43c2798",
   "metadata": {},
   "source": [
    "### 解压文件：\n",
    "#### .tar 文件——仅打包，并非压缩\n",
    "    tar -xvf FileName.tar         # 解包\n",
    "    tar -cvf FileName.tar DirName # 将DirName和其下所有文件（夹）打包\n",
    "\n",
    "#### .gz\n",
    "    gunzip FileName.gz  # 解压1\n",
    "    gzip -d FileName.gz # 解压2\n",
    "    gzip FileName       # 压缩，只能压缩文件\n",
    "\n",
    "#### .tar.gz 和 .tgz\n",
    "    tar -zxvf FileName.tar.gz               # 解压\n",
    "    tar -zcvf FileName.tar.gz DirName       # 将DirName和其下所有文件（夹）压缩\n",
    "    tar -C DesDirName -zxvf FileName.tar.gz # 解压到目标路径\n",
    "\n",
    "#### .zip:\n",
    "    unzip FileName.zip          # 解压\n",
    "    zip FileName.zip DirName    # 将DirName本身压缩\n",
    "    zip -r FileName.zip DirName # 压缩，递归处理，将指定目录下的所有文件和子目录一并压缩\n",
    "\n",
    "#### .rar:mac和linux并没有自带rar，需要去下载\n",
    "    rar x FileName.rar      # 解压\n",
    "    rar a FileName.rar DirName # 压缩"
   ]
  },
  {
   "cell_type": "code",
   "execution_count": null,
   "id": "2dd26579",
   "metadata": {},
   "outputs": [],
   "source": []
  }
 ],
 "metadata": {
  "kernelspec": {
   "display_name": "Python 3",
   "language": "python",
   "name": "python3"
  },
  "language_info": {
   "codemirror_mode": {
    "name": "ipython",
    "version": 3
   },
   "file_extension": ".py",
   "mimetype": "text/x-python",
   "name": "python",
   "nbconvert_exporter": "python",
   "pygments_lexer": "ipython3",
   "version": "3.8.8"
  }
 },
 "nbformat": 4,
 "nbformat_minor": 5
}
