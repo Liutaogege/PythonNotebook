{
 "cells": [
  {
   "cell_type": "markdown",
   "metadata": {},
   "source": [
    "# userdel\n",
    "-  要彻底的删除一个用户，比较麻烦\n",
    "- 1.删除/etc/passwd;/etc/shadow文件中的 内容\n",
    "- 2.删除/etc/group;/etc/gshadow\n",
    "- 3.删除/home/username;、/var/spool/mail/username\n",
    "- 4.删除该用户曾经创建的文件\n",
    "    - find进行搜索，先搜索，再使用userdel\n",
    "- -r:连同家目录和邮箱一起删除"
   ]
  }
 ],
 "metadata": {
  "kernelspec": {
   "display_name": "Python 3",
   "language": "python",
   "name": "python3"
  },
  "language_info": {
   "codemirror_mode": {
    "name": "ipython",
    "version": 3
   },
   "file_extension": ".py",
   "mimetype": "text/x-python",
   "name": "python",
   "nbconvert_exporter": "python",
   "pygments_lexer": "ipython3",
   "version": "3.7.3"
  }
 },
 "nbformat": 4,
 "nbformat_minor": 2
}
