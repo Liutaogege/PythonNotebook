{
 "cells": [
  {
   "cell_type": "markdown",
   "metadata": {},
   "source": [
    "# 逻辑卷——LV\n",
    "- 逻辑卷和逻辑分区不是同一个概念\n",
    "- 逻辑卷的作用\n",
    "    - 正常的分区如果写满了，我们就可以把数据导入到更大的磁盘中，工作量非常大，而且十分危险\n",
    "    - 逻辑卷管理器（LVM）可以更加轻松的管理磁盘空间，来轻松的解决这个问题\n",
    "### lvm的优点\n",
    "- 1.灵活性容量——允许多个磁盘或分区做成一个逻辑卷\n",
    "- 2.可伸缩的存储池——可以用命令来修改逻辑卷，而不用格式化\n",
    "- 3.在线数据再分配——可以在线移动数据，可以再更换热插拔磁盘\n",
    "- 4.设备命名方便\n",
    "- 5.镜像卷——很方便的做数据镜像\n",
    "- 6。卷快照——快照会把逻辑卷中的内容 全部保存\n",
    "\n",
    "### 逻辑卷LV的相关概念\n",
    "- 物理卷（PV）:用于注册基础物理设备，映射到物理设备\n",
    "- 卷组（VG）：存储池，由一个或多个物理卷组成\n",
    "- 逻辑卷（LV）：根据卷组中空闲的物理空间进行分配\n",
    "\n",
    "## 创建逻辑卷步骤\n",
    "- 1.使用fdisk创建一个分区，t设置分区类型为linuxLVM\n",
    "- 2.使用partprobe向内核注册新的分区\n",
    "- 3.创建物理卷pvcreate /dev/sdb1\n",
    "- 4.创建卷组vgcreate 卷组名 /dev/sdb1\n",
    "- 5.创建逻辑卷lvcreate -n 逻辑卷名 -L 10M 卷组名\n",
    "- 6.创建文件系统mkfs.ext4 /dev/卷组名/逻辑卷名\n",
    "- 7.创建挂载点——永久\n",
    "\n",
    "## 查看逻辑卷信息\n",
    "- 查看物理卷信息：pvdisplay/dev/sdb1\n",
    "- 查看卷组信息：vgdisplay/卷组名\n",
    "- 查看逻辑卷信息：lvdisplay/dev/卷组名/逻辑卷名"
   ]
  },
  {
   "cell_type": "markdown",
   "metadata": {},
   "source": [
    "# 扩展和减少逻辑卷大小——ext4文件系统\n",
    "- 如果卷组还有空间，直接给逻辑卷增加大小\n",
    "- 1.lvextend -L +2G /dev/卷组名/逻辑卷名 ，增加2个G\n",
    "- 2.resize2fs dev/卷组名/逻辑卷名， 使得增加的命令生效\n",
    "    - 如果是xfs系统，xfs_growfs /dev/卷组名/逻辑卷名 \n",
    "\n",
    "- 如果卷组空间不够，需要先增加卷组空间，再增加逻辑卷组的空间\n",
    "    - 1.准备物理设备：fdisk, partprobe, mkfs.ext4\n",
    "    - 2.创建物理卷\n",
    "    - 3.给原来的卷组增加物理卷:vgextend 卷组名 /dev/sdb2,然后vgdisplay"
   ]
  },
  {
   "cell_type": "markdown",
   "metadata": {},
   "source": [
    "# 删除逻辑卷\n",
    "- 1.取消挂载：umount 挂载点 ，同时呀删除/etc/fstable文件中的内容\n",
    "- 2.删除逻辑卷：lvremove /dev/卷组名/逻辑卷名\n",
    "- 3.删除卷组：vgremove 卷组名\n",
    "- 4.删除物理卷：pvremove /dev/sdb1"
   ]
  }
 ],
 "metadata": {
  "kernelspec": {
   "display_name": "Python 3",
   "language": "python",
   "name": "python3"
  },
  "language_info": {
   "codemirror_mode": {
    "name": "ipython",
    "version": 3
   },
   "file_extension": ".py",
   "mimetype": "text/x-python",
   "name": "python",
   "nbconvert_exporter": "python",
   "pygments_lexer": "ipython3",
   "version": "3.7.3"
  }
 },
 "nbformat": 4,
 "nbformat_minor": 2
}
