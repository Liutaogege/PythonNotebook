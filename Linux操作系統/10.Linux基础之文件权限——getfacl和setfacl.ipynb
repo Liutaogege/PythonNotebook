{
 "cells": [
  {
   "cell_type": "markdown",
   "metadata": {},
   "source": [
    "- 针对单一使用者，设置单一文件或目录来进行rwx的权限修改\n",
    "- getfacl：获取单一使用者，针对单一文件或目录的权限\n",
    "- setfacl：配置单一使用者，对单一文件或目录的权限\n",
    "- -m：配置值acl参数\n",
    "- -x：删除单个文件的acl\n",
    "- -b：删除acl的配置\n",
    "- -R：递归配置acl参数\n",
    "### setfacl用法\n",
    "- setfacl -m u:用户名:rwx 文件名或者目录名\n",
    "    - 其中rwx可以为其他的\n",
    "- setfacl -m g:组名:rwx 文件名或目录名\n",
    "- setfacl -m m::rwx 修改mask值 \n",
    "\n",
    "- setfacl -x u:用户名 文件名或目录名\n",
    "- setfacl -b 文件名\n",
    "\n",
    "### getfacl用法\n",
    "- getfacl 文件名\n",
    "\n",
    "###  mask的定义\n",
    "- 权限上限\n",
    "- 1.权限的集合 （特点用户，特定组，所属组的并集）\n",
    "- 2.如果mask中没有对应的权限，即使 setfacl设定了该权限，也不会有"
   ]
  }
 ],
 "metadata": {
  "kernelspec": {
   "display_name": "Python 3",
   "language": "python",
   "name": "python3"
  },
  "language_info": {
   "codemirror_mode": {
    "name": "ipython",
    "version": 3
   },
   "file_extension": ".py",
   "mimetype": "text/x-python",
   "name": "python",
   "nbconvert_exporter": "python",
   "pygments_lexer": "ipython3",
   "version": "3.7.3"
  }
 },
 "nbformat": 4,
 "nbformat_minor": 2
}
