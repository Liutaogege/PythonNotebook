{
 "cells": [
  {
   "cell_type": "markdown",
   "metadata": {},
   "source": [
    "# 进程\n",
    "- 定义：已经启动的可执行程序的运行实力\n",
    "- 1.PID:进程的ID(每一个新进程都有一个唯一的PID)\n",
    "- 2.PPID:父进程的ID\n",
    "- 3.任何已给进程都可以创建一个子进程\n",
    "- 4.在Redhat 7以上，所有进程的父进程：systemd\n",
    "    - 在Redhat 5，6中，所有进程的父进程 ：init\n",
    "\n",
    "# 查看进程\n",
    "- 命令\n",
    "    - ps：用于显示当前进程状态\n",
    "    - man ps：查看ps相关的所有参数\n",
    "    - 常用选项：\n",
    "        - -aux：列出所有进程\n",
    "        - -ef：列出所有进程\n",
    "        - -l：列出和当前用户有关的进程\n",
    "        - -u 用户： 查看某一 用户的进程装态\n",
    "        \n",
    "    - top：可以查看实时的进程状态\n",
    "    - ps aux|grep redis:查看某一任务的进程是否启动\n",
    "\n",
    "\n",
    "# 进程的运行状态\n",
    "- 运行中：\n",
    "    - R：该进程正在运行或等待运行\n",
    "- 睡眠：\n",
    "    - S：正在休眠但是可以被唤醒\n",
    "    - D：正在休眠 且不可以被唤醒，如果该进程被中断，可能会导致设备的异常·状态\n",
    "    - K：正在休眠，而且不可以被唤醒，该进程可以被中断\n",
    "- 已停止\n",
    "    - T：进程被停止，但是 可以通过其他进程来恢复 \n",
    "    - T：正在被调试的进程\n",
    "- 僵停\n",
    "    - Z：子进程在退出时向父进程发出信号，除PID外，所有资源全部释放\n",
    "    - X：父进程获取了子进程的结构，子进程可以完全释放，该状态进程是看不到的\n",
    "    \n",
    "# 进程的优先级\n",
    "- <:高优先级\n",
    "- n： 低优先级\n",
    "- s：包含子进程\n",
    "- +：位于后台的进程组\n",
    "\n",
    "# ps-aux参数 的解释\n",
    "- 1.%CPU:占用的CPU使用率\n",
    "- 2.%MEME:占用的记忆体使用率\n",
    "- 3.VSZ:占用的虚拟记忆体大小\n",
    "- 4.RSS:占用记忆体大小\n",
    "- 5.TTY:终端的次要装置号码（minor device number of ttv），与远程登录有关\n",
    "- 6.STAT:该行程的状态\n",
    "- 7.START:行程开始时间\n",
    "- 8.TIME:执行的时间\n",
    "- 9.COMMAND:所执行的指令\n"
   ]
  }
 ],
 "metadata": {
  "kernelspec": {
   "display_name": "Python 3",
   "language": "python",
   "name": "python3"
  },
  "language_info": {
   "codemirror_mode": {
    "name": "ipython",
    "version": 3
   },
   "file_extension": ".py",
   "mimetype": "text/x-python",
   "name": "python",
   "nbconvert_exporter": "python",
   "pygments_lexer": "ipython3",
   "version": "3.7.3"
  }
 },
 "nbformat": 4,
 "nbformat_minor": 2
}
