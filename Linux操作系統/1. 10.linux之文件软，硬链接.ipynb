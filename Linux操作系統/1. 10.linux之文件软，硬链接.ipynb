{
 "cells": [
  {
   "cell_type": "markdown",
   "id": "43a701de",
   "metadata": {},
   "source": [
    "# 文件处理-软链接\n",
    "- 软连接相当于Windows下的快捷方式\n",
    "- 特点：\n",
    "    - 1.可以对不存在的文件创建软链接\n",
    "    - 2.可以对文件或者目录创建软链接\n",
    "    - 3.删除了软链接，不会影响他的指向文件\n",
    "    - 4.删除了指向文件，该软链接就会变成死链接\n",
    "    \n",
    "- 创建 方法\n",
    "    - 创建软链接： ln -s oldfile newfile\n",
    "    - 创建硬链接： link oldfile newfile / ln oldfile newfile\n",
    "    \n",
    "# 文件创建—硬链接\n",
    "- A--B,如果B是A的硬链接，那么他们指向了同一个文件，不过允许一个文件拥有多个路径，相当于备份的感觉。\n",
    "- 文件有一个inode编号：该编号是给机器看的\n",
    "- 文件名是给人看的\n",
    "- 注意：\n",
    "    - 硬链接：多个文件对应同一个inode编号，当对多个文件中的某一个文件进行修改时，其他文件也会被修改，多用户协同一致工作\n",
    "- 特点：\n",
    "    - 1.不能对目录进行硬链接的创建\n",
    "    - 2.只能对已经存在的文件进行硬链接的创建\n",
    "    - 3.删除一个硬链接，不影响其他相同inode编号的文件\n",
    "- ls -l -i dir：查看目录下文件的硬链接有多少个"
   ]
  },
  {
   "cell_type": "code",
   "execution_count": null,
   "id": "9b716f7d",
   "metadata": {},
   "outputs": [],
   "source": []
  }
 ],
 "metadata": {
  "kernelspec": {
   "display_name": "Python 3",
   "language": "python",
   "name": "python3"
  },
  "language_info": {
   "codemirror_mode": {
    "name": "ipython",
    "version": 3
   },
   "file_extension": ".py",
   "mimetype": "text/x-python",
   "name": "python",
   "nbconvert_exporter": "python",
   "pygments_lexer": "ipython3",
   "version": "3.8.8"
  }
 },
 "nbformat": 4,
 "nbformat_minor": 5
}
