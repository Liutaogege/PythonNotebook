{
 "cells": [
  {
   "cell_type": "markdown",
   "metadata": {},
   "source": [
    "# passwd \n",
    "- passwd 用户名:所有人都可以通过该命令来修改自己的密码\n",
    "- -l:锁住该账号,在/etc/shadow中放密码的位置加个!\n",
    "- -u:解锁\n",
    "- -S：显示账号的密码参数\n",
    "- -n 天数：设置多久可以不修改密码\n",
    "- -x 天数：设置多久内必须修改密码\n",
    "- -w 天数： 设置密码过期前警告天数\n",
    "- -i 天数：设置密码失效天数"
   ]
  },
  {
   "cell_type": "markdown",
   "metadata": {},
   "source": [
    "# Linux用户创建-change\n",
    "- chage可以修改和密码有关的时间参数 \n",
    "- -l：查看一个账户和密码有关的时间参数\n",
    "- -d YYYY-MM-DD：修改最近一次更改密码的时间\n",
    "    - 如果使用的是0，表示用户登入后必须修改密码，然后强制使用新的密码登录\n",
    "    - 即chage -d 0 用户名\n",
    "- -E YYYY-MM-DD：修改账号的失效时间\n",
    "- -l 天数：设置密码几天后失效\n",
    "- -m 天数：设置密码至少保留几天\n",
    "- -M 天数：设置密码多久后，需要更新\n",
    "- -W 天数：设置密码过期前警告时间\n"
   ]
  }
 ],
 "metadata": {
  "kernelspec": {
   "display_name": "Python 3",
   "language": "python",
   "name": "python3"
  },
  "language_info": {
   "codemirror_mode": {
    "name": "ipython",
    "version": 3
   },
   "file_extension": ".py",
   "mimetype": "text/x-python",
   "name": "python",
   "nbconvert_exporter": "python",
   "pygments_lexer": "ipython3",
   "version": "3.7.3"
  }
 },
 "nbformat": 4,
 "nbformat_minor": 2
}
