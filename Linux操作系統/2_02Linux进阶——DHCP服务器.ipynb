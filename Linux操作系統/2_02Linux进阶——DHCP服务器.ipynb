{
 "cells": [
  {
   "cell_type": "markdown",
   "metadata": {},
   "source": [
    "# DHCP服务器配置\n",
    "- DHCP-Dynamic Host Configuration Protocol\n",
    "- 作用：给企业或个人网络中的pc自动分配ip地址\n",
    "\n",
    "- 实验\n",
    "    - 一台pc作为DHCP  Server\n",
    "    - 一台pc作为DHCP Client，需要拿到Server配置的ip地址\n",
    "- 先在server上安装好DHCP软件"
   ]
  },
  {
   "cell_type": "markdown",
   "metadata": {},
   "source": [
    "# 详情参见：https://blog.csdn.net/songyuequan/article/details/89437405"
   ]
  }
 ],
 "metadata": {
  "kernelspec": {
   "display_name": "Python 3",
   "language": "python",
   "name": "python3"
  },
  "language_info": {
   "codemirror_mode": {
    "name": "ipython",
    "version": 3
   },
   "file_extension": ".py",
   "mimetype": "text/x-python",
   "name": "python",
   "nbconvert_exporter": "python",
   "pygments_lexer": "ipython3",
   "version": "3.7.3"
  }
 },
 "nbformat": 4,
 "nbformat_minor": 2
}
