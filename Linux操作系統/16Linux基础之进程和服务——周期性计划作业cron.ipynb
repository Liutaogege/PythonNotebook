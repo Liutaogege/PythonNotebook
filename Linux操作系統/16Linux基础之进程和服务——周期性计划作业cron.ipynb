{
 "cells": [
  {
   "cell_type": "markdown",
   "metadata": {},
   "source": [
    "# cron\n",
    "- 是一个进程，可以让Linux周期性的执行某一命令\n",
    "- crontab是一个命令，可以设置Linux周期性的执行某一命令\n",
    "    - -u：设置某一个用户的周期性工作——root权限\n",
    "    - -e：编辑crontab的工作内容\n",
    "    - -l：查阅crontab的工作内容\n",
    "    - -r：移除所有的crontab的工作内容，若仅移除一项，请用-e去编辑\n",
    "    \n",
    "# crontab的格式讲解\n",
    "- 一行代表一个任务\n",
    "    - 样式如下：\n",
    "    - minute hour day month week command\n",
    "- minute:表示分钟，可以是从0到59=之间的任何整数\n",
    "- hour：表示小时，可以是从0到23之间的任何整数\n",
    "- day：表示日期，可以是 从1到31之间的任何整数\n",
    "- month：表示月份，可以是从1到12之间的任何整数\n",
    "- week：表示星期几，可以是从0到7之间的任何整数，这里的0或77代表星期日\n",
    "- command：要执行的命令，可以是从系统命令，也可以是从自己编写的脚本文件\n",
    "\n",
    "- 特殊字符及含义\n",
    "        特殊字符   代表含义\n",
    "        *       代表任何时刻都接受的意思 ，*代表的是任何时候\n",
    "        ,       代表分隔字段的意思，例如15,,30,40 * * * * command表示每月每日每小时的15分，30分，45分的时候执行命令\n",
    "        -       代表一段时间范围内，例如 10 7-10 * * *表示每月每日的7点到10点的10分整时执行命令\n",
    "        /n       那个n表示数字，也就是每隔n单位间隔的意思，例如/5 * * * * command 表示每月每日每时每隔5分钟执行一次\n",
    "        \n",
    "        \n",
    "# contab——配置举例\n",
    "- /1 * * * * command：每一分钟执行一次\n",
    "- 15,30,45 * * * * command：每小时的第15，30,45分钟执行\n",
    "- 10,50 7-10 * * * * command:7点到10点的第10,50分钟执行\n",
    "- 20,40 7-11 */1 * * command: 每隔一天的7点到11点的第20分钟和第40分钟执行\n",
    "- 25,50 7-11 * * 1 command：每周一的7点到11点的第25和第50分钟执行\n",
    "- 30 3 * * * command： 每天的3:30执行\n",
    "- 30 3 1,10,20 * * command:每月1,10,20日的3:30执行\n",
    "- 30 3 * * 6,7 command: 每周六、周日的3:30执行\n",
    "- /15 9-16 * * * command：每天9点到16点之间每隔15分钟执行"
   ]
  },
  {
   "cell_type": "markdown",
   "metadata": {},
   "source": [
    "# /etc/crontab配置文件\n",
    "- 第一行SHELL变量指定了系统要使用哪个shell，这里bash\n",
    "- 第二行是PATH变量指定了系统执行命令的路径\n",
    "- 第三行MAILTO变量指定了cron的任务执行信息将通过电子邮件发送给root用户，如果MAILTO变量值为空，则表示不发送任务执行信息给用户\n",
    "\n",
    "# crontab配置原理\n",
    "- 当使用者使用crontab这个命令来创建工作排程之后，这项工作就会被记录到/var/spool/cron里面去了，而且是以账号来作为判别的\n",
    "- 如lt用户使用crontab后，它的工作会被记录到/var/spool/cron/lt中，cron运行的每一项工作都会被记录到/var/log/cron这个日这文件中\n",
    "- crond服务每分钟检测一次 ，所以cron会每分钟去读取一次/etc/crontab与/var/spool/cron里面的数据内容，因此 ，只要你编辑完/etc/crontab这个文件，并且将它存储后，那么cron的配置就自动的会运行了\n",
    "- 如果你修改完的crontab或者添加的crontab没有马上的执行起来，那么你可以使用systemctl restart crond.service重启"
   ]
  }
 ],
 "metadata": {
  "kernelspec": {
   "display_name": "Python 3",
   "language": "python",
   "name": "python3"
  },
  "language_info": {
   "codemirror_mode": {
    "name": "ipython",
    "version": 3
   },
   "file_extension": ".py",
   "mimetype": "text/x-python",
   "name": "python",
   "nbconvert_exporter": "python",
   "pygments_lexer": "ipython3",
   "version": "3.7.3"
  }
 },
 "nbformat": 4,
 "nbformat_minor": 2
}
