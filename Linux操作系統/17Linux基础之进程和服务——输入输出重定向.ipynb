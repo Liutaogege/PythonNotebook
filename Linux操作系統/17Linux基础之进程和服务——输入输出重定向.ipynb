{
 "cells": [
  {
   "cell_type": "markdown",
   "metadata": {},
   "source": [
    "# 常见符号\n",
    "- >file: 标准输出重定向到文件——覆盖\n",
    "- >>file:标准输出重定向到文件——追加\n",
    "- 2>:标准错误重定向到文件——覆盖\n",
    "- 2>>:标准错误重定向到文件——追加\n",
    "- 2>/dev/null:标准错误输出到回收站\n",
    "- &>file:标准输出和错误重定向到文件——覆盖\n",
    "- >>file 2>&1: 标准输出和标准错误重定向到文件——追加\n",
    "- 举例：date > dating\n",
    "\n",
    "# 管道符\n",
    "- 字符： |,\n",
    "- 作用：\n",
    "    - 1.承上启下，把上一个指令的输出作为下一个指令的输入\n",
    "    - 2.搭配grep字符实现过滤功能\n",
    "    - 举例：ls -l /etc/ | more\n",
    "    - ps -aux | grep cron\n",
    "    - ps -aux | cron > abc"
   ]
  }
 ],
 "metadata": {
  "kernelspec": {
   "display_name": "Python 3",
   "language": "python",
   "name": "python3"
  },
  "language_info": {
   "codemirror_mode": {
    "name": "ipython",
    "version": 3
   },
   "file_extension": ".py",
   "mimetype": "text/x-python",
   "name": "python",
   "nbconvert_exporter": "python",
   "pygments_lexer": "ipython3",
   "version": "3.7.3"
  }
 },
 "nbformat": 4,
 "nbformat_minor": 2
}
