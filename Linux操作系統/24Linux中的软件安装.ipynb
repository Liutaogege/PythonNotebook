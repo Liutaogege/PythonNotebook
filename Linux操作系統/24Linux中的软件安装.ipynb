{
 "cells": [
  {
   "cell_type": "markdown",
   "metadata": {},
   "source": [
    "# 以下安装针对的是Centos系统\n",
    "# 安装方式\n",
    "- 源码包安装：安装太复杂，已淘汰 \n",
    "- RPM安装：无法解决依赖关系\n",
    "- Yum安装：可以解决依赖关系——有两种情况有安装包，没有只能靠网络\n",
    "    - Redhat所持有的安装rmp包的工具，centos可以免费试用，Redhat需要付费\n",
    "- rpm的命名规则：\n",
    "    - 名称+版本号+发行号+处理器架构\n",
    "    - httpd-2.4.6-45.el7.centos.x86_64.rpm\n",
    "    \n",
    "# 离线时安装包的位置\n",
    "- 安装包的位置在虚拟的光盘中\n",
    "- 如何显示呢？需要进行挂载\n",
    "    - 创建挂载目录：mkdir /mnt/lt-cdrom\n",
    "    - 挂载：mount -r /dev/cdrom /mnt/lt-cdrom/（对只读的目录进行挂载需要加上-r，不加也可以挂载成功）\n",
    "    - 进入挂载目录：cd /mnt/lt-cdrom\n",
    "    - 显示：ls -l,会有一个Packages目录\n",
    "    - 所有的包都在Packages中\n",
    "    \n",
    "# RPM安装\n",
    "- 常用选项\n",
    "    - -i:安装软件包\n",
    "    - -q：询问软件包，和-a一起使用\n",
    "    - -e：删除软件包\n",
    "    - -U：把一个已经安装好的软件包升级\n",
    "    - -v：验证已经安装的软件包\n",
    "    - -h：显示安装进度条\n",
    "- 常见组合\n",
    "    - -ivh：安装\n",
    "    - -Uvh：升级\n",
    "    - -qa：查询安装过的所有包\n",
    "    - -e：卸载\n",
    "- 示例：\n",
    "    - rpm  -ivh telnet-0.17...\n",
    "    \n",
    "# yum（仓库）\n",
    "- 编写本地yum\n",
    "- vim /etc/yum.repos.d/lewis.repo\n",
    "- 该文件中要写5行左右的内容\n",
    "- [rhce]   //yum的名称，起到标记的作用\n",
    "- name=rhce //对这个文件的描述\n",
    "- baseurl=file:///yum   //软件包的位置，可以是file，ftp，http\n",
    "- enable=1   //1表示路径可用，0表示不可用\n",
    "- gpgcheck=0  //是否进程gpg检查，默认不检查，检查的话要导入公钥和私钥"
   ]
  },
  {
   "cell_type": "markdown",
   "metadata": {},
   "source": [
    "# Ubuntu系统的安装\n",
    "- dbkg\n",
    "- apt\n",
    "- snap\n",
    "- alien可以解决格式转换的问题，但不能解决依赖关系，详情度娘"
   ]
  },
  {
   "cell_type": "code",
   "execution_count": null,
   "metadata": {},
   "outputs": [],
   "source": []
  },
  {
   "cell_type": "code",
   "execution_count": null,
   "metadata": {},
   "outputs": [],
   "source": []
  },
  {
   "cell_type": "code",
   "execution_count": null,
   "metadata": {},
   "outputs": [],
   "source": []
  }
 ],
 "metadata": {
  "kernelspec": {
   "display_name": "Python 3",
   "language": "python",
   "name": "python3"
  },
  "language_info": {
   "codemirror_mode": {
    "name": "ipython",
    "version": 3
   },
   "file_extension": ".py",
   "mimetype": "text/x-python",
   "name": "python",
   "nbconvert_exporter": "python",
   "pygments_lexer": "ipython3",
   "version": "3.7.3"
  }
 },
 "nbformat": 4,
 "nbformat_minor": 2
}
