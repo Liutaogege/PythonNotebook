{
 "cells": [
  {
   "cell_type": "markdown",
   "metadata": {},
   "source": [
    "# 查找和替换\n",
    "- grep只能用于查找文件中的内容\n",
    "- sed可以查找，然后 替换或者插入想要的内容\n",
    "    - a：新增：a的后面可以接入字符串，而这些字符串会在新的一行出现（目前的下一行）\n",
    "    - d：删除，因为是删除，所有d后面通常不接任何东西的\n",
    "    - i：插入，i的后面可以接字符串，而这些字符串会在新的一行出现（目前的上一行）\n",
    "    - p：打印，以及将某个选择的资料印出，通常p会与参数sed使用\n",
    "    - s：取代，可以直接进行取代的工作\n",
    "    - 以上命令并不会修改源文件，要 修改源文件需要加上-i参数\n",
    "- 用法\n",
    "    - sed '2,5d' test.txt: 删除2-5行的内容\n",
    "    - sed '2a Iloveyousomuch' test.txt: 在第二行的下一行新增字符串\n",
    "    - sed '$i Ihateyou' test.txt: 在倒数第二行插入字符串\n",
    "    - sed 's/cat/dog/' test.txt: 将cat替换为dog"
   ]
  },
  {
   "cell_type": "markdown",
   "metadata": {},
   "source": [
    "# 查找语句find\n",
    "- 需求：找出/var目录下查找大于5M的文件，并且把他们拷贝到/tmp/ltfile目录中\n",
    "- 用法：find [路径] [命令参数] [表达式]\n",
    "    - 参数：\n",
    "        - -name \"文件名\": 查找指定名称文件\n",
    "        - -user 用户名： 查找指定用户 拥有的文件\n",
    "        - -group 组名： 查找指定组拥有的文件\n",
    "        - -mtime n: 查找在N天前辈修改过的文件\n",
    "        - -atime n：查找在N天前辈访问过的文件\n",
    "        - -type d/f/b/l/p: 查找指定类型的文件\n",
    "        - -empty:查找为空的文件\n",
    "        - -size: 按容量大小查找\n",
    "        - -perm mode: 查找指定属性的文件\n",
    "        - -exec command{} \\;: 查找指定的文件并执行指定的命令\n",
    "        - newer 文件名： 查找比指定文件信的文件\n",
    "- 用法\n",
    "    - find /var -mtime -3: 表示查找3天内被修改过的文件\n",
    "    - find /var -mtime +3: 表示查找3天前辈修改过的文件\n",
    "    - find /var -size +5M:表示查找文件大于5M的文件\n",
    "    - find /var -size +5M -exec ls -l {} \\; :查找并列出文件的详细信息"
   ]
  }
 ],
 "metadata": {
  "kernelspec": {
   "display_name": "Python 3",
   "language": "python",
   "name": "python3"
  },
  "language_info": {
   "codemirror_mode": {
    "name": "ipython",
    "version": 3
   },
   "file_extension": ".py",
   "mimetype": "text/x-python",
   "name": "python",
   "nbconvert_exporter": "python",
   "pygments_lexer": "ipython3",
   "version": "3.7.3"
  }
 },
 "nbformat": 4,
 "nbformat_minor": 2
}
