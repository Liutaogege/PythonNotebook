{
 "cells": [
  {
   "cell_type": "markdown",
   "metadata": {},
   "source": [
    "# Linux文件权限\n",
    "- 文件属性解释\n",
    "        -rwxrwx---,后九个字符以三个为一组划分，共分为三组为：rwx(拥有者拥有的权限),rwx(所属组拥有的权限),---(其他人)，且均为rwx的三个参数组合，其中r表示可读，w代表可写，x代表可执行，-代表无此属性\n",
    "        第一个属性代表这个文件的类型\n",
    "            为[d]则是目录\n",
    "            为[-]则是文件\n",
    "            为[l]则表示为链接文件（link file）\n",
    "            为[b]则表示为设备文件中可储存的接口设备\n",
    "            为[c]则表示为设备文件中的串行端口设备，例如键盘，鼠标\n",
    "- r,w,x针对目录的权限解释：\n",
    "    - r:具有读取目录结构列表的权限，可以查看目录下有哪些文件\n",
    "    - w:该权限对于目录来说是很大的\n",
    "        - 1.可以在该目录下新建新的文件和目录\n",
    "        - 2.可以删除已经存在的文件和目录\n",
    "        - 3.将已经存在的文件和目录重命名\n",
    "        - 4.移动该目录内的文件和目录的位置\n",
    "    - x:是否可以进入该目录\n",
    "\n",
    "\n",
    "- chgrp:修改文件所属组，前提是要有该组\n",
    "    - 查看所属组：cat /etc/group\n",
    "    - 用法：chgrp 新组 文件\n",
    "    - -R:递归修改\n",
    "- chown:修改文件的拥有者，前提是要有该拥有者\n",
    "    - 查看用户：cat /etc/passwd\n",
    "    - 用法：chown 拥有者 文件/目录\n",
    "    - -R:递归修改\n",
    "- chmod：修改拥有者和所属组的权限\n",
    "    - 加减法：u/g/o(分别表示拥有者，所属组，其他人),然后加减r\\w\\x,比如：\n",
    "        - chmod g+wx 文件/目录名\n",
    "    - 数字法如下：\n",
    "    - 用法：chmod 数字 文件 （chmod 777 测试）\n",
    "            - - -  0 0 0  0\n",
    "            - - x  0 0 1  1\n",
    "            - w -  0 1 0  2\n",
    "            - w x  0 1 1  3\n",
    "            r - -  1 0 0  4\n",
    "            r - x  1 0 1  5\n",
    "            r w -  1 1 0  6\n",
    "            r w x  1 1 1  7\n",
    "            可以理解为r的值为4，w的值为2，x的值为1。若想更改文件的属性，可通过数字。比如-r--rw---x改为-rwxrw-r-x,就输入命令chmod 765\n",
    "            \n",
    "### 文件的rwx权限的特点\n",
    "- 文件的拥有者，即使没有w权限，也可以强制写入，所属组和其他人不行\n",
    "\n",
    "### 目录的rwx权限的特点\n",
    "- 如果一个用户对一个目录没有w的权限。但是可以编辑目录中拥有者是自己的文件"
   ]
  }
 ],
 "metadata": {
  "kernelspec": {
   "display_name": "Python 3",
   "language": "python",
   "name": "python3"
  },
  "language_info": {
   "codemirror_mode": {
    "name": "ipython",
    "version": 3
   },
   "file_extension": ".py",
   "mimetype": "text/x-python",
   "name": "python",
   "nbconvert_exporter": "python",
   "pygments_lexer": "ipython3",
   "version": "3.7.3"
  }
 },
 "nbformat": 4,
 "nbformat_minor": 2
}
