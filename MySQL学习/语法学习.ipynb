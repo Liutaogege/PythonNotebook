{
 "cells": [
  {
   "cell_type": "markdown",
   "metadata": {},
   "source": [
    "# 基本语法\n",
    "        -   SELECT (指定要选取的目录\n",
    "        \n",
    "            FROM（从哪个文件挑）\n",
    "- WHERE 合并表格，找取两个表格的公用词.举例：film.name = rental.namej\n",
    "- GROUP BY：分组，根据关键词分组\n",
    "- ORDER BY:排序，在关键词后加上desc为倒序，例：-- film.name desc\n",
    "- count()：计数。举例：count(film.name)\n",
    "- AND/OR：且/或\n",
    "- left():从左往右截取到第几个文本，left(\"Iloveyou\",2)---得到Il\n",
    "- max(),min()\n",
    "- concat():合并字符串，如：concat(firstname,\" \",lastname)\n",
    "- distinct:同unique，和Python中set一样。例 distinct film.name\n",
    "- in: 在对象里面找出想要的，如： film.name in (\"lIU Tao\", \"Ma xiaoxiao\")\n",
    "- HAVING:也是筛选器，不过是在过程中筛选\n",
    "- 组建新的query的两种方法\n",
    "        - 在括号中把想要的信息提取好，末尾加个逗号，(SELECT FROM) as file_name,，再嵌套进入FROM语句\n",
    "        - 临时套表(优点是整洁，方便操作，但可能有些软件不兼容): creat temporary table file_name as\n",
    "         用SELECT语句编写它\n",
    "- a JOIN b on a.key= b.key:合并两个表格，同样的还有LEFT JOIN以及INNER JOIN(速度更快一些）\n",
    "- \n",
    "- "
   ]
  }
 ],
 "metadata": {
  "kernelspec": {
   "display_name": "Python 3",
   "language": "python",
   "name": "python3"
  },
  "language_info": {
   "codemirror_mode": {
    "name": "ipython",
    "version": 3
   },
   "file_extension": ".py",
   "mimetype": "text/x-python",
   "name": "python",
   "nbconvert_exporter": "python",
   "pygments_lexer": "ipython3",
   "version": "3.8.8"
  }
 },
 "nbformat": 4,
 "nbformat_minor": 2
}
