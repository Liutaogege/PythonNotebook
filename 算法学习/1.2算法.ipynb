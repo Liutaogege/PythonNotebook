{
 "cells": [
  {
   "cell_type": "markdown",
   "id": "45a48f78",
   "metadata": {},
   "source": [
    "# 算法\n",
    "- 算法是规则的有穷集合，这些规则规定了解决某一特定类型问题的一个运算（操作序列）。一个算法应当有以下特性：\n",
    "    - 1.输入：一个算法必须有若干个输入（包括0个）\n",
    "    - 2.输出：一个算法应该有一个或多个输出\n",
    "    - 3.有穷性：一个算法必须总是在执行有穷步之后结束\n",
    "    - 4.确定性：算法的每一步都应确切地，无歧义的定义。即每一种情况都应严格的执行\n",
    "    - 5.可行性：算法中的每一个运算都是基本的，可行的。（原则上是能让人仅用笔和纸做有穷次运算完成的）\n",
    "    - 注：算法与程序很像，但程序不一定要满足第三点\n",
    "    \n",
    "## 伪语言描述算法\n",
    "- 伪语言：高级语言\n",
    "- 1.算法的总体轮廓\n",
    "    - 一个算法应该由三部分组成：算法标题，算法内容体，结束标记"
   ]
  }
 ],
 "metadata": {
  "kernelspec": {
   "display_name": "Python 3",
   "language": "python",
   "name": "python3"
  },
  "language_info": {
   "codemirror_mode": {
    "name": "ipython",
    "version": 3
   },
   "file_extension": ".py",
   "mimetype": "text/x-python",
   "name": "python",
   "nbconvert_exporter": "python",
   "pygments_lexer": "ipython3",
   "version": "3.8.8"
  }
 },
 "nbformat": 4,
 "nbformat_minor": 5
}
