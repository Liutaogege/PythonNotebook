{
 "cells": [
  {
   "cell_type": "markdown",
   "id": "6f70f3f0",
   "metadata": {},
   "source": [
    "# 基本认识\n",
    "- 定义数组\n",
    "    - int[] a = new int[10] \n",
    "    - int a[] = new int[10]\n",
    "    - int a[] = {1, 2, 3, 5}\n",
    "    - 重新初始化数组的一种方法：\n",
    "        - a = new int[] {1, 3, 4}\n",
    "    - 必须要给出数组长度，长度值不一定的是一个常量\n",
    "    - 数组一旦创建，则不能改变其长度，如果经常在运行中改变其长度，使用array list结构\n",
    "- 快速循环出可迭代对象的元素\n",
    "    - 使用加强版的for循环\n",
    "            for (variable: iterable) statement\n",
    "                    int arr[] = new int[5];\n",
    "                    System.out.println(arr.length);\n",
    "                    for (int ele: arr)\n",
    "                        System.out.print(ele);\n",
    "    - 使用Arrays.toString()方法：\n",
    "            Arrays.toString(arr)\n",
    "- 数组的复制\n",
    "    - 如果不想改变原数组，需使用\n",
    "        - Arrays.copyOf(old_arr, new_length)\n",
    "                int crr[] = Arrays.copyOf(arr, 10);\n",
    "    - 只复制一部分\n",
    "        - Arrays.copyOfRange(arr, start, end)\n",
    "- 数组排序\n",
    "    - Arrays.sort(arr)\n",
    "- 使用二分搜索算法查找v值\n",
    "    - Arrays.binarySearch(arr, start, end, v)\n",
    "- 数组填充\n",
    "    - Arrays.fill(arr, v):全部填充为v值\n",
    "- 判断数组是否相同\n",
    "    - equals(arr1, arr2)\n"
   ]
  },
  {
   "cell_type": "markdown",
   "id": "4bd1af57",
   "metadata": {},
   "source": [
    "# 多维数组\n",
    "## 二维数组\n",
    "- 定义：\n",
    "    - double a[][] = new double[x][y];\n",
    "    - 先声明，后初始化：\n",
    "        - double[][] a;\n",
    "        - a = new double[x][y]\n",
    "    - 特殊：\n",
    "            int a[][] = {\n",
    "                {1,3,5},\n",
    "                {2,4,6},\n",
    "                {3,5,7}\n",
    "            };\n",
    "- 打印方法\n",
    "    - 两个for循环遍历\n",
    "    - 直接打印出所有元素的方法：Arrays.deepToString(arr)\n",
    "            for (int i=0; i < brr.length; i++) {\n",
    "                for (int j=0; j < brr[i].length; j++) {\n",
    "                    System.out.println(brr[i][j]);\n",
    "                }\n",
    "            }\n",
    "            System.out.println(Arrays.deepToString(brr));"
   ]
  },
  {
   "cell_type": "code",
   "execution_count": null,
   "id": "0b8a08f8",
   "metadata": {},
   "outputs": [],
   "source": []
  },
  {
   "cell_type": "code",
   "execution_count": null,
   "id": "d7727767",
   "metadata": {},
   "outputs": [],
   "source": []
  }
 ],
 "metadata": {
  "kernelspec": {
   "display_name": "Python 3",
   "language": "python",
   "name": "python3"
  },
  "language_info": {
   "codemirror_mode": {
    "name": "ipython",
    "version": 3
   },
   "file_extension": ".py",
   "mimetype": "text/x-python",
   "name": "python",
   "nbconvert_exporter": "python",
   "pygments_lexer": "ipython3",
   "version": "3.8.8"
  }
 },
 "nbformat": 4,
 "nbformat_minor": 5
}
