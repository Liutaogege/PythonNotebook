{
 "cells": [
  {
   "cell_type": "markdown",
   "metadata": {},
   "source": [
    "# 操作步骤\n",
    "- 1.编译内核：先进入操作系统内核目录，然后执行make all 命令\n",
    "    - 注意：操作系统内核目录包含了整个操作系统的源代码，修改源代码才能实现对操作系统的更改，修改后需要重新编译内核还是用make all\n",
    "    - make命令会自动跳过未被修改的文件。若重新编译后，修改没有生效，可以先make clean再make all（或者一行命令 make clean && make all）,make clean是删除上一次的所有中间文件和目标文件，确保在全新的状态下编译内核\n",
    "- 2.在Bochs中运行编译好的内核\n",
    "    - 切换到oslab目录下执行 run脚本\n",
    "- 3.内核调试，分为汇编级调试和C语言级调试\n",
    "    - 汇编级调试：在oslab目录下需要执行命令：./dbh-asm,可用help来查看调试的基本命令 \n",
    "    - C语言级调试：在oslab目录吓执行./dbg-c,会打开一个新窗口，再启动一个新的终端界面在oslab目录吓输入./rungdb\n",
    "\n",
    "- 何谓oslab\n",
    "        oslab 工作在一个宿主操作系统之上，我们使用的 Linux，在宿主操作系统之上完成对 Linux 0.11 的开发、修改和编译之后，在 linux-0.11 目录下会生产一个名为 Image 的文件，它就是编译之后的目标文件。\n",
    "        该文件内已经包含引导和所有内核的二进制代码。如果拿来一张软盘，从它的 0 扇区开始，逐字节写入 Image 文件的内容，就可以用这张软盘启动一台真正的计算机，并进入 Linux 0.11 内核。\n",
    "        oslab 采用 bochs 模拟器加载这个 Image 文件，模拟执行 Linux 0.11，这样省却了重新启动计算机的麻烦。"
   ]
  },
  {
   "cell_type": "markdown",
   "metadata": {},
   "source": [
    "# 操作系统基础\n",
    "- 计算机如何工作：取指执行（自动获取IP地址然后输出）\n",
    "- 磁盘0磁道0扇区是引导扇区（就是启动设备的第一个扇区）"
   ]
  }
 ],
 "metadata": {
  "kernelspec": {
   "display_name": "Python 3",
   "language": "python",
   "name": "python3"
  },
  "language_info": {
   "codemirror_mode": {
    "name": "ipython",
    "version": 3
   },
   "file_extension": ".py",
   "mimetype": "text/x-python",
   "name": "python",
   "nbconvert_exporter": "python",
   "pygments_lexer": "ipython3",
   "version": "3.7.3"
  }
 },
 "nbformat": 4,
 "nbformat_minor": 2
}
