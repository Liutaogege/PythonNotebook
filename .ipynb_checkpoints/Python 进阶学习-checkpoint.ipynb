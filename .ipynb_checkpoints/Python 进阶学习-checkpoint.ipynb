{
 "cells": [
  {
   "cell_type": "code",
   "execution_count": 1,
   "metadata": {},
   "outputs": [
    {
     "name": "stdout",
     "output_type": "stream",
     "text": [
      "xiao hong ge jie\n",
      "xiao jie\n",
      "xiao ['hong', 'ge', 'jie']\n"
     ]
    }
   ],
   "source": [
    "# 从任意的可迭代对象分解元素\n",
    "data = ['xiao','hong', 'ge', 'jie']\n",
    "a, b, c, d = data\n",
    "print(a,b,c,d)\n",
    "\n",
    "data = ['xiao','hong', 'ge', 'jie']\n",
    "a, _, _, d = data\n",
    "print(a,d)\n",
    "\n",
    "data = ['xiao','hong', 'ge', 'jie']\n",
    "a, *b = data\n",
    "print(a,b)\n"
   ]
  },
  {
   "cell_type": "markdown",
   "metadata": {},
   "source": [
    "# 字典求交集"
   ]
  },
  {
   "cell_type": "code",
   "execution_count": 1,
   "metadata": {},
   "outputs": [
    {
     "name": "stdout",
     "output_type": "stream",
     "text": [
      "{'xiaozhang', 'xiaoming'}\n",
      "{('xiaozhang', 55)}\n",
      "{'xiaopang', 'xioah'}\n",
      "{'xiaozhang': 55}\n"
     ]
    }
   ],
   "source": [
    "# 字典求交集\n",
    "d = {\"xiaoming\":18, \"xioah\":20, \"xiaozhang\":55}\n",
    "dd = {\"xiaoming\":20, \"xiaozhang\":55,\"xiaopang\":16}\n",
    "print(d.keys() & dd.keys())\n",
    "print(d.items() & dd.items())\n",
    "print(d.keys() ^ dd.keys())\n",
    "b = {key:d[key] for key in d.keys() - {\"xiaoming\", \"xioah\"}}\n",
    "print(b)\n"
   ]
  },
  {
   "cell_type": "markdown",
   "metadata": {},
   "source": [
    "# 字典推导式创建字典子集\n"
   ]
  },
  {
   "cell_type": "code",
   "execution_count": 27,
   "metadata": {},
   "outputs": [
    {
     "name": "stdout",
     "output_type": "stream",
     "text": [
      "{'apple': 3.5, 'pear': 3.6, 'strawberry': 8.7}\n"
     ]
    }
   ],
   "source": [
    "fruits = {'apple':3.5, 'pear':3.6, 'plum':9.9, 'strawberry':8.7}\n",
    "fruit_cheap = {key:value for key,value in fruits.items() if value < 9}\n",
    "print(fruit_cheap)"
   ]
  },
  {
   "cell_type": "markdown",
   "metadata": {},
   "source": [
    "# 利用shell通配符做字符串匹配\n",
    "- fnmatch模块\n",
    "    - 采用的大小写区分规则与操作系统有关\n",
    "- 该模块功能没有正则表达式强，但比简单的字符串匹配强\n",
    "- 若想精确匹配，使用fnmatchcase()"
   ]
  },
  {
   "cell_type": "code",
   "execution_count": 2,
   "metadata": {},
   "outputs": [
    {
     "name": "stdout",
     "output_type": "stream",
     "text": [
      "True\n",
      "True\n",
      "False\n"
     ]
    }
   ],
   "source": [
    "from fnmatch import fnmatch,fnmatchcase\n",
    "print(fnmatch(\"to.txt\", \"*.txt\"))\n",
    "print(fnmatch(\"to.txt\", \"*.TXT\")) # 不同的操作系统可能会返回True或者false\n",
    "print(fnmatchcase(\"to.txt\", \"*.TXT\"))"
   ]
  },
  {
   "cell_type": "code",
   "execution_count": null,
   "metadata": {},
   "outputs": [],
   "source": []
  }
 ],
 "metadata": {
  "kernelspec": {
   "display_name": "Python 3",
   "language": "python",
   "name": "python3"
  },
  "language_info": {
   "codemirror_mode": {
    "name": "ipython",
    "version": 3
   },
   "file_extension": ".py",
   "mimetype": "text/x-python",
   "name": "python",
   "nbconvert_exporter": "python",
   "pygments_lexer": "ipython3",
   "version": "3.7.3"
  }
 },
 "nbformat": 4,
 "nbformat_minor": 2
}
