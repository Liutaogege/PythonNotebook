{
 "cells": [
  {
   "cell_type": "markdown",
   "metadata": {},
   "source": [
    "# 命名路由\n",
    "- 有时候，通过一个名称来标识一个路由显得更方便一些，特别是在链接一个路由，或者是执行一些跳转的时候，你可以在创建Router实例的时候，在routes配置中给某个路由设置名称\n",
    "- 需要链接到一个命名路由，可以给router-link的to属性传一个对象，它和router.push()是一回事\n",
    "    - router-link :to=\"{name:'user', params:{userid: \"liutao\"}}，因为它是个变量值，需要在to前面加:\n",
    "\n",
    "# 命名视图（多组件）\n",
    "- 有时候同时（同级）展示多个视图，而不是嵌套展示。例如创建一个布局，有sidebar（侧导航）和main（主内容）两个视图，此时命名就需要命名视图。在界面中可以拥有多个单独命名的视图，而不是只有一个单独的出口，如果router-view没有设置名字，默认为default\n",
    "- 实现有以下几个步骤：\n",
    "    - 1.在定义路由的时候，需要传递components参数，然后把所有需要展示的路由都放到这个里面，components是一个对象：{name: 组件}的映射\n",
    "    - 2.在模板中就是通过router-view name=\"组件名\"> /router-view>来实现"
   ]
  },
  {
   "cell_type": "markdown",
   "metadata": {},
   "source": [
    "# 重定向和别名\n",
    "- 1.重定向：在定义路由的时候，可以加上一个redirect参数，用来重定向到另外一个页面\n",
    "- 2.在定义路由的时候，可以加一个alias参数，用来表示这个url的别名，以后也可以通过别名来访问到这个组件"
   ]
  },
  {
   "cell_type": "code",
   "execution_count": null,
   "metadata": {},
   "outputs": [],
   "source": []
  },
  {
   "cell_type": "code",
   "execution_count": null,
   "metadata": {},
   "outputs": [],
   "source": []
  },
  {
   "cell_type": "code",
   "execution_count": null,
   "metadata": {},
   "outputs": [],
   "source": []
  }
 ],
 "metadata": {
  "kernelspec": {
   "display_name": "Python 3",
   "language": "python",
   "name": "python3"
  },
  "language_info": {
   "codemirror_mode": {
    "name": "ipython",
    "version": 3
   },
   "file_extension": ".py",
   "mimetype": "text/x-python",
   "name": "python",
   "nbconvert_exporter": "python",
   "pygments_lexer": "ipython3",
   "version": "3.7.3"
  }
 },
 "nbformat": 4,
 "nbformat_minor": 2
}
