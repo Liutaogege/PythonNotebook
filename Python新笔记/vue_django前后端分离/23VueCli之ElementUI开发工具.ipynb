{
 "cells": [
  {
   "cell_type": "markdown",
   "metadata": {},
   "source": [
    "# ElementUI组件库使用\n",
    "- element ui组件是由饿了么团队针对vue框架开发的组件库，专门用于电脑端网页的，它里面集成了很多组件，所以使用它可以非常快速的实现网站的开发\n",
    "\n",
    "# 安装\n",
    "- npm install element-ui --save(element-ui@版本号 也行）\n",
    "\n",
    "# 引入\n",
    "- 引入的时候也是分成两种，一种是全部引入，一种是按需引入\n",
    "\n",
    "## 安装相关依赖包\n",
    "- 需要借助babel-plugin-component这个库，才能实现按需引入，安装的命令是：npm install babel-plugin-component --save-dev,\n",
    "        npm install node-sass --save-dev\n",
    "        npm install sass-loader --save-dev\n",
    "        npm install vue-router --save\n",
    "        style就可以通过lang=\"scss\"来写scss语法了\n",
    "\n",
    "## 配置\n",
    "- 在babel.config.js中添加以下配置\n",
    "        module.exports = {\n",
    "            presets: [\n",
    "              '@vue/app',\n",
    "            ],\n",
    "            \"plugins\": [\n",
    "                [\"component\", {\n",
    "                \"libraryName\": \"element-ui\",\n",
    "                \"styleLibraryName\": \"theme-chalk\"\n",
    "              }]\n",
    "              ]\n",
    "          }\n",
    "          \n",
    "## 使用\n",
    "- 然后在项目中就可以进行使用了，先进行导入，然后进行组件注册，然后再使用\n",
    "        import 'element-ui/lib/theme-chalk/index.css';  //需要引入这个，否则样式无效\n",
    "        import {Button} from \"element-ui\"\n",
    "\n",
    "        export default {\n",
    "            name: 'app',\n",
    "            components: {\n",
    "                [Button.name]: Button,\n",
    "            }\n",
    "        }\n",
    "        组件中使<el-button></el-button>"
   ]
  },
  {
   "cell_type": "code",
   "execution_count": null,
   "metadata": {},
   "outputs": [],
   "source": []
  },
  {
   "cell_type": "code",
   "execution_count": null,
   "metadata": {},
   "outputs": [],
   "source": []
  },
  {
   "cell_type": "code",
   "execution_count": null,
   "metadata": {},
   "outputs": [],
   "source": []
  }
 ],
 "metadata": {
  "kernelspec": {
   "display_name": "Python 3",
   "language": "python",
   "name": "python3"
  },
  "language_info": {
   "codemirror_mode": {
    "name": "ipython",
    "version": 3
   },
   "file_extension": ".py",
   "mimetype": "text/x-python",
   "name": "python",
   "nbconvert_exporter": "python",
   "pygments_lexer": "ipython3",
   "version": "3.8.8"
  }
 },
 "nbformat": 4,
 "nbformat_minor": 2
}
