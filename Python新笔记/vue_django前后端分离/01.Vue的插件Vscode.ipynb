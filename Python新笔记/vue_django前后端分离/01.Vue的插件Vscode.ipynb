{
 "cells": [
  {
   "cell_type": "markdown",
   "metadata": {},
   "source": [
    "# Vue学习准备工作\n",
    "## 前置知识 ：\n",
    "- 要有基本的html+css+js基础即可，js基础无需太深\n",
    "\n",
    "## 开发工具VScode\n",
    "- Vue的一款开发工具，它是微软出品，开源免费，并且功能强大，插件丰富\n",
    "\n",
    "### 下载地址：\n",
    "- https://code.visualstudio.com/\n",
    "\n",
    "### 概念讲解\n",
    "- Vscode中分workspace和folder，workspace相当于是一个项目的集合，可以添加许多的Folder，在workspace中可以做好一些配置，那里面所有的folder都是按照这个来配置的，就不需要我们每次写这个项目都重新配置，而Folder是我们的每个项目的文件夹\n",
    "\n",
    "### 插件安装\n",
    "- 后面开发vue项目，使用.vue的单文件开发，就需要一些插件来帮我们识别.vue文件，插件安装在Extension中，点开即可看到一个搜索按钮，可以输入关键字搜索自己想要的插件\n",
    "- 推荐几个插件：\n",
    "    - 1.jshint：js代码规范检查\n",
    "    - 2.Beautify：一键美化代码操作\n",
    "    - 3.Vetur：.vue文件识别插件\n",
    "    - 4.JavaScript（ES6）code snippets:es6语法提示\n",
    "    - 5.Auto Rename Tag：自动重命名标签，标签都是成对出现的，把开始的标签修改了，解决标签也会跟着修改\n",
    "    - 6.Auto Close Tag：自动闭合标签，针对一些非标准的标签，这个插件很有用\n",
    "    - 7.vue helper：一些vue代码的快捷代码\n",
    "    - 8.vscode-icons：可选，提供了很多类型的文件夹icon（图标），不同类型的文件夹使用不同的icon，会让文件查找更直观\n",
    "    - 9.open in browser:在浏览器中打开\n",
    "    \n",
    "### 快捷键\n",
    "- 可以按ctrl+k以及马上按下ctrl+s来打开快捷键窗口，这个里面可以看到Vscode的所有快捷键，然后在这个里面可以输入关键字来查看对应的快捷键"
   ]
  },
  {
   "cell_type": "code",
   "execution_count": null,
   "metadata": {},
   "outputs": [],
   "source": []
  },
  {
   "cell_type": "code",
   "execution_count": null,
   "metadata": {},
   "outputs": [],
   "source": []
  },
  {
   "cell_type": "code",
   "execution_count": null,
   "metadata": {},
   "outputs": [],
   "source": []
  },
  {
   "cell_type": "code",
   "execution_count": null,
   "metadata": {},
   "outputs": [],
   "source": []
  },
  {
   "cell_type": "code",
   "execution_count": null,
   "metadata": {},
   "outputs": [],
   "source": []
  },
  {
   "cell_type": "code",
   "execution_count": null,
   "metadata": {},
   "outputs": [],
   "source": []
  }
 ],
 "metadata": {
  "kernelspec": {
   "display_name": "Python 3",
   "language": "python",
   "name": "python3"
  },
  "language_info": {
   "codemirror_mode": {
    "name": "ipython",
    "version": 3
   },
   "file_extension": ".py",
   "mimetype": "text/x-python",
   "name": "python",
   "nbconvert_exporter": "python",
   "pygments_lexer": "ipython3",
   "version": "3.8.8"
  }
 },
 "nbformat": 4,
 "nbformat_minor": 2
}
