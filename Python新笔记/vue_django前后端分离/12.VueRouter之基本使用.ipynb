{
 "cells": [
  {
   "cell_type": "markdown",
   "metadata": {},
   "source": [
    "# Vue-Router插件\n",
    "# 路由基本\n",
    "- 在网页中，经常需要发生页面更新或者跳转，此时就可以使用vue-Router来实现。Vue-Router是用来做路由的，也就是定义url规则与具体的View映射的关系。可以在一个单页面中实现数据的更新\n",
    "\n",
    "\n",
    "# 安装：\n",
    "- 使用CDN：加载最新版的script src=\"https://unpkg.com/vue-router/dist/vue-router.js>\n",
    "- 加载指定版本：script src=\"https://unpkg.com/vue-router@3.0.7/dist/vue-router.js\n",
    "- 下载到本地：\n",
    "- 使用npm install vue-router\n",
    "\n",
    "# 基本使用\n",
    "- 1.创建一个VueRouter对象，new VueRouter()\n",
    "- 2.在VueRouter中，需要传递一个routes参数，这个参数是一个数组类型，数组中存储的类型是对象，对象中最少要有两个属性，一个是path,第二个是component，代表数据更新的组件\n",
    "        let router = new VueRouter({\n",
    "              routes: [\n",
    "                {path: '/', component: index},\n",
    "                {path: '/find', component:find},\n",
    "                {path: '/friend', component: friend}\n",
    "              ]\n",
    "            });\n",
    "- 3.将router传给Vue\n",
    "- 4.把网页中之前的a标签，替换成router-link标签，虽然在代码中是router-link标签，但是在网页中显示的时候是a标签\n",
    "- 5.使用router-view指定网页中哪个地方要被更新\n",
    "- 代码参见：Vue-Router中的基本使用\n"
   ]
  },
  {
   "cell_type": "code",
   "execution_count": null,
   "metadata": {},
   "outputs": [],
   "source": []
  },
  {
   "cell_type": "code",
   "execution_count": null,
   "metadata": {},
   "outputs": [],
   "source": []
  },
  {
   "cell_type": "code",
   "execution_count": null,
   "metadata": {},
   "outputs": [],
   "source": []
  },
  {
   "cell_type": "code",
   "execution_count": null,
   "metadata": {},
   "outputs": [],
   "source": []
  }
 ],
 "metadata": {
  "kernelspec": {
   "display_name": "Python 3",
   "language": "python",
   "name": "python3"
  },
  "language_info": {
   "codemirror_mode": {
    "name": "ipython",
    "version": 3
   },
   "file_extension": ".py",
   "mimetype": "text/x-python",
   "name": "python",
   "nbconvert_exporter": "python",
   "pygments_lexer": "ipython3",
   "version": "3.8.8"
  }
 },
 "nbformat": 4,
 "nbformat_minor": 2
}
