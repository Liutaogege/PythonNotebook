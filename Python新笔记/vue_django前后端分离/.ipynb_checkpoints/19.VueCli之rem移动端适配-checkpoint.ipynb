{
 "cells": [
  {
   "cell_type": "markdown",
   "metadata": {},
   "source": [
    "# rem移动端适配\n",
    "- 在移动端（手机端，Pad端），设备尺寸 参差不齐，如果想要写完一套代码，能够在所有移动设备上都正常运行，那么采用原生的px单位来设置时不行的。rem就是来解决这个问题的\n",
    "\n",
    "#  什么是rem\n",
    "- 1.em：当前元素字体大小相对于父标签的字体的大小\n",
    "- 2.rem：和em类似，只不过此时的参照元素不是父元素，而是根元素，也就是HTML标签的大小\n",
    "\n",
    "# rem适配原理\n",
    "- rem虽然本身是用来设置字体大小，但是也可以延伸到设置其他属性的尺寸，利用rem我们就可以实现等比缩放，比如设计师给的ui设计图是安装750px尺寸的，则就可以给html的font-size为100px，那以后想实现32px的大小，转化成rem就是0.32rem，这样是没问题的，但是如果用户的手机不是750px，而是375px的，这时候就有问题。所以需要设置html的font-size为windowWidth/750*100， 在这个公式中将windowWidth换算衬375px，结果为50px，那么用0.32rem后的px为16px，恰好缩小了一般\n",
    "\n",
    "# 在Vue-cli中实现rem布局\n",
    "- 在使用vue-cli创建的项目中，可以通过一些第三方包来方便的实现rem的布局，要安装两个包，分别是:postcss-pxtorem, lib-flexible,安装命令通过npm install postcss-pxtorem(lib-flexible) --save-dev (批量安装：npm install --save-dev lib-flexible postcss-pxtorem 即可，在安装完成后，还需要配置两个地方\n",
    "    - 1.package.json:\n",
    "              \"postcss\": {\n",
    "              \"plugins\": {\n",
    "                \"autoprefixer\": {},\n",
    "                \"postcss-pxtorem\": {\n",
    "                  \"rootValue\": 37.5,\n",
    "                  \"propList\": [\n",
    "                    \"*\"\n",
    "                  ],\n",
    "                  \"selectorBlackList\": [\n",
    "                    \"van-*\"\n",
    "                  ]\n",
    "                }\n",
    "              }\n",
    "            }\n",
    "    - 2.main.js\n",
    "        - import \"lib-flexible\"\n",
    "- 这样以后在写单位的时候，就不需要换算成rem，直接写px就可以，postcss-pxtorem会自动的将我们写的px转换成rem，而lib-flexible会根据当前的尺寸，来调整html上的font-size进行适配，而其中的37.5则根据设计师设计图的尺寸表来，比如设计师使用375px的尺寸来设计的，那么就是375/10"
   ]
  },
  {
   "cell_type": "code",
   "execution_count": null,
   "metadata": {},
   "outputs": [],
   "source": []
  },
  {
   "cell_type": "code",
   "execution_count": null,
   "metadata": {},
   "outputs": [],
   "source": []
  },
  {
   "cell_type": "code",
   "execution_count": null,
   "metadata": {},
   "outputs": [],
   "source": []
  }
 ],
 "metadata": {
  "kernelspec": {
   "display_name": "Python 3",
   "language": "python",
   "name": "python3"
  },
  "language_info": {
   "codemirror_mode": {
    "name": "ipython",
    "version": 3
   },
   "file_extension": ".py",
   "mimetype": "text/x-python",
   "name": "python",
   "nbconvert_exporter": "python",
   "pygments_lexer": "ipython3",
   "version": "3.7.3"
  }
 },
 "nbformat": 4,
 "nbformat_minor": 2
}
