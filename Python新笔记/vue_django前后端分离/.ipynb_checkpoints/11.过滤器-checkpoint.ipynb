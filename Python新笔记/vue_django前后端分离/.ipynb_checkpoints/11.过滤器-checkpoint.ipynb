{
 "cells": [
  {
   "cell_type": "markdown",
   "metadata": {},
   "source": [
    "# 过滤器\n",
    "- 过滤器就是数据在真正渲染到页面中的时候，可以使用这个过滤器进行一些处理，把最终处理的结果渲染到网页中。\n",
    "\n",
    "# 过滤器使用\n",
    "- 可以用在两个地方：双花括号插值和v-bind表达式后（后者从2.1.0+开始支持）。过滤器应该被添加在JavaScript表达式的末尾，由管道符号表示\n",
    "    - 双花括号：{{username|strip}}\n",
    "    - v-bind表达式： <a v-bind:href=\"url|strip\">\n",
    "\n",
    "# 过滤器定义\n",
    "- 定义：都是定义一个函数，这个函数的第一个参数永远都是被过滤的那个变量\n",
    "- 局部定义：可以在一个组件的选项中定义本地的过滤器，在组件中添加一个filters，然后在filters中添加过滤器\n",
    "- 全局定义：或者在创建Vue实例之前全局定义过滤器，通过Vue.filter(\"过滤器的名字\", 函数)\n",
    "- 传参：如果在使用过滤器的时候还需要传递额外的参数，那么可以在定义过滤器的时候，提供其他的参数，在使用的时候直接跟普通函数一样传递就可以了"
   ]
  }
 ],
 "metadata": {
  "kernelspec": {
   "display_name": "Python 3",
   "language": "python",
   "name": "python3"
  },
  "language_info": {
   "codemirror_mode": {
    "name": "ipython",
    "version": 3
   },
   "file_extension": ".py",
   "mimetype": "text/x-python",
   "name": "python",
   "nbconvert_exporter": "python",
   "pygments_lexer": "ipython3",
   "version": "3.7.3"
  }
 },
 "nbformat": 4,
 "nbformat_minor": 2
}
