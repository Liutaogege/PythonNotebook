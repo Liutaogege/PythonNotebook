{
 "cells": [
  {
   "cell_type": "markdown",
   "metadata": {},
   "source": [
    "# DRF介绍\n",
    "- 官网：https://www.django-rest-framework.org  （需要翻墙）\n",
    "- drf是django rest framework的缩写。是django框架中的实现restful api的一个插件，使用它可以非常方便实现接口数据的返回。django中也可以使用JsonResponse直接返回json格式的数据，但是与drf相比直接使用django返回json数据有以下几个优点：\n",
    "    - 1.可以自动生成api文档，在前后端分离开发的时候进行沟通比较有用\n",
    "    - 2.授权验证策略比较完整，包含OAuth1和OAuth2验证\n",
    "    - 3.支持ORM模型和非ORM模型的序列化\n",
    "    - 4.高度封装了视图，使得返回json数据更加的高效\n",
    "    \n",
    "# 安装\n",
    "- drf不同的版本需要不同的依赖，版本3.10需要以下依赖：\n",
    "    - python(3.5/6/7)\n",
    "    - django(1.11, 2.0, 2.1, 2.2)\n",
    "- 准备好以上依赖后，可以通过pip install djangorestframework安装最新的版本\n",
    "\n",
    "# 基本使用\n",
    "## 一、注册rest_framework\n",
    "- 需要在settings.INSTALLED_APPS中进行安装：\n",
    "        INSTALLED_APPS = [\n",
    "            ...\n",
    "            'rest_framework',\n",
    "        ]\n",
    "\n",
    "## 创建app和模型\n",
    "- 创建一个app并在models中创建模型\n",
    "\n",
    "## 添加测试数据"
   ]
  },
  {
   "cell_type": "markdown",
   "metadata": {},
   "source": [
    "# 序列化：Serializer\n",
    "- drf中的序列化主要是用来将模型序列化成json格式的对象，但是除了序列化，它还具有表单验证功能，数据存储和更新功能。和django中的Forms很像\n",
    "\n",
    "# Serializer的嵌套\n",
    "- 有时候在一个序列化中，我们可能需要其他模型的序列化，这个时候就可以是用序列化的嵌套,比如下列代码：\n",
    "- 关于read_only和write_only：\n",
    "    - read_only=True：这个字段只能读，只有在返回数据的时候使用\n",
    "    - write_only=True, 这个只能被写，只有在新增数据或者更新数据的时候会用到\n",
    "\n",
    "        class GoodsSerializer(serializers.ModelSerializer):\n",
    "            class Meta:\n",
    "                model = Goods\n",
    "                fields = \"__all__\"\n",
    "\n",
    "        class MerchantSerializer(serializers.ModelSerializer):\n",
    "            class Meta:\n",
    "                model = Merchant\n",
    "                fields = \"__all__\"\n",
    "\n",
    "        class GoodsCategorySerializer(serializers.ModelSerializer):\n",
    "            merchant = MerchantSerializer(read_only=True,required=False)\n",
    "            goods_list = GoodsSerializer(many=True,required=False)\n",
    "            merchant_id = serializers.IntegerField(required=True,write_only=True)\n",
    "            class Meta:\n",
    "                model = GoodsCategory\n",
    "                fields = \"__all__\"\n",
    "\n",
    "            def validate_merchant_id(self,value):\n",
    "                if not Merchant.objects.filter(pk=value).exists():\n",
    "                    raise serializers.ValidationError(\"商家不存在！\")\n",
    "                return value\n",
    "\n",
    "            def create(self, validated_data):\n",
    "                merchant_id = validated_data.get('merchant_id')\n",
    "                merchant = Merchant.objects.get(pk=merchant_id)\n",
    "                category = GoodsCategory.objects.create(name=validated_data.get('name'), merchant=merchant)\n",
    "                return category\n",
    "                \n",
    "### 验证：\n",
    "        验证用户上传上来的字段是否满足要求。可以通过以下三种方式来实现。\n",
    "\n",
    "        验证在Field中通过参数的形式进行指定。比如required等。\n",
    "        通过重写validate(self,attrs)方法进行验证。attrs中包含了所有字段。如果验证不通过，那么调用raise serializer.ValidationError('error')即可。\n",
    "        重写validate_字段名(self,value)方法进行验证。这个是针对某个字段进行验证的。如果验证不通过，也可以抛出异常。"
   ]
  },
  {
   "cell_type": "code",
   "execution_count": null,
   "metadata": {},
   "outputs": [],
   "source": []
  },
  {
   "cell_type": "code",
   "execution_count": null,
   "metadata": {},
   "outputs": [],
   "source": []
  },
  {
   "cell_type": "code",
   "execution_count": null,
   "metadata": {},
   "outputs": [],
   "source": []
  },
  {
   "cell_type": "code",
   "execution_count": null,
   "metadata": {},
   "outputs": [],
   "source": []
  },
  {
   "cell_type": "code",
   "execution_count": null,
   "metadata": {},
   "outputs": [],
   "source": []
  }
 ],
 "metadata": {
  "kernelspec": {
   "display_name": "Python 3",
   "language": "python",
   "name": "python3"
  },
  "language_info": {
   "codemirror_mode": {
    "name": "ipython",
    "version": 3
   },
   "file_extension": ".py",
   "mimetype": "text/x-python",
   "name": "python",
   "nbconvert_exporter": "python",
   "pygments_lexer": "ipython3",
   "version": "3.7.3"
  }
 },
 "nbformat": 4,
 "nbformat_minor": 2
}
