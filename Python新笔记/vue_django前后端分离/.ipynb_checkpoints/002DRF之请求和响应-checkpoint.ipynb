{
 "cells": [
  {
   "cell_type": "markdown",
   "metadata": {},
   "source": [
    "# Request和Response对象\n",
    "- 在drf中，可以使用Request和Response对象来替代django内置的HTTPRequest和HttpResponse。它的功能更加强悍\n",
    "\n",
    "# Request对象\n",
    "- DRF的Request对象是从HttpRequest中拓展出来的，但是增加了一些其他属性，其中最核心的用的最多的是request.data，它比request.POST更加强悍，它可以获取get，put，post的数据\n",
    "    - 1.request.POST:只能处理表单数据，获取通过POST方式上传上来的数据\n",
    "    - 2.request.data：可以处理任意的数据，可以获取通过POST,PUT,PATCH等方式上传上来的数据\n",
    "    - 3.request.query_params：查询参数，比request.GET用起来更直白\n",
    "    \n",
    "# Response对象\n",
    "- response可以自动的根据返回的数据类型来决定返回什么样的格式，并且会自动的监听如果是浏览器访问，那么会返回这个路由的信息\n",
    "\n",
    "\n",
    "# 状态码\n",
    "- 在Restful API中，响应的状态码是很重要的一部分，比如请求成功是200，错误参数是400，但是具体某个状态码是干什么的，django没有更多的解释（不过只是因为它是一个web框架），对于一些初学者而言用起来会有点迷糊，这时候可以使用drf提供的状态码，比如：\n",
    "        from rest_framework import status\n",
    "        \n",
    "        @api_view(['GET','POST','PUT','DELETE'])\n",
    "        def merchant(request):\n",
    "            return Response({\"username\":\"zhiliao\"},status=status.HTTP_200_OK)\n",
    "            (还有HTTP_404_NOT_FOUND,HTTP_400_BAD_REQUEST, HTTP_204_NO_CONTENT)\n",
    "            \n",
    "### 关于@api_view和APIView\n",
    "- from rest_framework.views import APIView\n",
    "    - 如果你写的类是是一个视图类，那么直接继承APIView\n",
    "- rest_framework.decorators.api_view \n",
    "    - @api_view(['GET','POST','PUT','DELETE'])\n",
    "    - 如果你写的类是一个函数，那么用装饰器@api_view，参数是列表"
   ]
  },
  {
   "cell_type": "code",
   "execution_count": null,
   "metadata": {},
   "outputs": [],
   "source": []
  },
  {
   "cell_type": "code",
   "execution_count": null,
   "metadata": {},
   "outputs": [],
   "source": []
  },
  {
   "cell_type": "code",
   "execution_count": null,
   "metadata": {},
   "outputs": [],
   "source": []
  }
 ],
 "metadata": {
  "kernelspec": {
   "display_name": "Python 3",
   "language": "python",
   "name": "python3"
  },
  "language_info": {
   "codemirror_mode": {
    "name": "ipython",
    "version": 3
   },
   "file_extension": ".py",
   "mimetype": "text/x-python",
   "name": "python",
   "nbconvert_exporter": "python",
   "pygments_lexer": "ipython3",
   "version": "3.7.3"
  }
 },
 "nbformat": 4,
 "nbformat_minor": 2
}
