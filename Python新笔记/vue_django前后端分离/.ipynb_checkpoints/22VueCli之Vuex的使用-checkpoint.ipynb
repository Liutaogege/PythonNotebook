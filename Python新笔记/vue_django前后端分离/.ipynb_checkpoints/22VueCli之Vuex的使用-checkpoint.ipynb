{
 "cells": [
  {
   "cell_type": "code",
   "execution_count": null,
   "metadata": {},
   "outputs": [],
   "source": []
  },
  {
   "cell_type": "markdown",
   "metadata": {},
   "source": [
    "# Vuex\n",
    "- Vuex是在中大型项目中，用来管理一些变量的，因为如果项目比较大，一些数据在各个页面中可能需要进行交替使用，如果数据量比较大，通过params或者query的方式不太方便，此时就可以使用Vuex来管理这些数据\n",
    "\n",
    "## 安装\n",
    "- 1.通过script安装 script src=\"https://cdn.jsdelivr.net/npm/vue@3.6.10/dist/vue.js\n",
    "- 2通过npm安装：npm install vuex --save\n",
    "- 如果是通过模块化打包的形式使用vuex，则在使用之前需要先通过Vue.use(Vuex)来安装\n",
    "        import Vue from 'vue'\n",
    "        import Vuex from 'vuex'\n",
    "        Vue.use(Vuex)\n",
    "- Vuex默认依赖Promise，IE有些版本浏览器不支持\n",
    "- 可以通过cdn将其引入，或者通过npm install es6-promist --save，或者模块化打包的方式使用\n",
    "\n"
   ]
  },
  {
   "cell_type": "markdown",
   "metadata": {},
   "source": [
    "# 基本使用\n",
    "- 每一个Vuex应用的核心就是store仓库，store可以理解为就是一个容器，它包含着你的应用中的大部分状态（state）（就是变量），Vuex和单纯的全局对象有以下两点不同：\n",
    "    - 1.Vuex的状态存储时响应式的，当Vue组件从store中读取状态的时候，若store中的状态发生变化，那么相应的组件也会相应的得到高效更新\n",
    "    - 2.不能直接改变store中的状态，改变store中的状态唯一途径就是显示地提交（commit）mutation,这样就使得我们可以方便地跟踪每一个状态的变化，从而我们能够实现一些工具帮助我们更好的了解应用\n",
    "    - 案例代码：参见VueCli下面的02vuex\n",
    "    - 创建store对象\n",
    "            import Vue from 'vue';\n",
    "            import Vuex from 'vuex';\n",
    "\n",
    "            Vue.use(Vuex);\n",
    "\n",
    "            const store = new Vuex.Store({\n",
    "               // state就是存储变量的\n",
    "               state: {\n",
    "                count: 10\n",
    "              },\n",
    "              // 对变量的操作都封装在mutations函数中\n",
    "              mutations: {\n",
    "                addCount(state) {\n",
    "                  state.count++;\n",
    "                },\n",
    "                subCount(state) {\n",
    "                  state.count--;\n",
    "                }\n",
    "              },\n",
    "              getters: {\n",
    "                currentCount(state) {\n",
    "                  return \"当前的count值为\" + state.count;\n",
    "                }\n",
    "              }\n",
    "            });\n",
    "\n",
    "            export default store;\n",
    "    \n",
    "### getters\n",
    "- 有时候需要从store中的state中派生出一些状态，比如对列表进行过滤并计数\n",
    "- 如果后期很多地方都要使用到这个变量，那么每次在组件中都写一遍肯定不太合适，这时候就可以使用Vuex提供的getters实现\n",
    "\n",
    "## 总结：\n",
    "- 1.在main.js中，需要把store放到vue对象中，这样以后在其他组件中才能通过this.$store的方式方便的访问到\n",
    "        <h1>{{$store.state.count}}</h1>\n",
    "        <div>{{$store.getters.currentCount}}嘻嘻</div>\n",
    "        <!-- 不推荐这种方式直接进行加减，推荐使用函数 -->\n",
    "        <!-- <button @click=\"$store.state.count++\">+</button>\n",
    "        <button @click=\"$store.state.count--\">-</button> -->\n",
    "\n",
    "        <!-- 使用mutations封装完成以后，使用$store.commit()进行提交比较来达到调用的目的 -->\n",
    "        <button @click=\"$store.commit('addCount')\">+</button>\n",
    "        <button @click=\"$store.commit('subCount')\">-</button>\n",
    "\n",
    "        <!-- getter的使用 -->\n",
    "\n",
    "      </div>\n",
    "      \n",
    "### 数据的操作\n",
    "- 1.如果是直接获取，那么可以通过this.$store.state.xxx来访问\n",
    "- 2.如果想要修改，那么建议通过mutation的形式来操作，可以在Store中定义一些mutations\n",
    "- 3.以后调用的时候，需要用$store.commit(\"mutation名称\")来调用\n",
    "- 4.getters：非常类似于组件中的计算属性，可以进行一些操作再把值给返回去，在组件中是通过$store.getters.xxx来调用"
   ]
  },
  {
   "cell_type": "code",
   "execution_count": null,
   "metadata": {},
   "outputs": [],
   "source": []
  },
  {
   "cell_type": "code",
   "execution_count": null,
   "metadata": {},
   "outputs": [],
   "source": []
  },
  {
   "cell_type": "code",
   "execution_count": null,
   "metadata": {},
   "outputs": [],
   "source": []
  }
 ],
 "metadata": {
  "kernelspec": {
   "display_name": "Python 3",
   "language": "python",
   "name": "python3"
  },
  "language_info": {
   "codemirror_mode": {
    "name": "ipython",
    "version": 3
   },
   "file_extension": ".py",
   "mimetype": "text/x-python",
   "name": "python",
   "nbconvert_exporter": "python",
   "pygments_lexer": "ipython3",
   "version": "3.7.3"
  }
 },
 "nbformat": 4,
 "nbformat_minor": 2
}
