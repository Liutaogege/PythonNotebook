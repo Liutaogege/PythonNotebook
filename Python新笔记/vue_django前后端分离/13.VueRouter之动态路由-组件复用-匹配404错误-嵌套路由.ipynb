{
 "cells": [
  {
   "cell_type": "markdown",
   "metadata": {},
   "source": [
    "# 动态路由\n",
    "- 在路由中有一些参数是会变化的，比如查看某个用户的个人中心，那肯定需要在url中加载这个人的id，此时就需要使用动态路由了\n",
    "- 1.在url中，通过定义一个参数，那么以后url中就可以动态的传递这个参数，语法是：/profile/:参数名\n",
    "- 2.在组件中，可以通过 this.$route.params.参数名 拿到，或者是组件的模板中，可以通过 $route.params.参数名 拿到\n",
    "- 3.this.$route和this.$router的区别\n",
    "    - 第一个表示的当前这个路由中的一些信息的集合，比如params,query，fullpath\n",
    "    - 后者表示的是全局的VueRouter对象\n",
    "    \n",
    "# 组件复用\n",
    "- 当使用路由参数时，例如从/usr/foo导航到/user/bar，原来的组件实例会被复用，因为两个路由都渲染同个组件，比起销毁再创建，复用则更加高效，不过，这意味着组件的生命周期钩子不会被再调用\n",
    "- 复用组件时，想对路由参数的变化做出响应的话，有以下两种方法：\n",
    "    - 1.监听this.$route属性，通过判断to和from来获取更新的数据\n",
    "    - 2.使用导航守卫的beforeRouteUpdate方法，也可以获取to和from，但是这个函数记得调用next(),否则页面不会进行更新"
   ]
  },
  {
   "cell_type": "markdown",
   "metadata": {},
   "source": [
    "# 匹配404错误\n",
    "- 在路由规则中，*代表的是任意字符，所以只要在路由的最后添加一个*路由，那么以后没有匹配到url都会被导入到这个视图中\n",
    "- 1.前端的页面配置：在所有路由后面增加一个\"*\"的url，让这个url映射到一个404的组件\n",
    "- 2.数据不存在的处理，这种情况，前端是没法判断存在不存在的，只能通过访问服务器来判断存在不存在，如果服务器返回不存在，就可以通过this.$router.replace(\"/404错误页面的url\"),跳转到404页面"
   ]
  },
  {
   "cell_type": "markdown",
   "metadata": {},
   "source": [
    "# 嵌套路由\n",
    "- 有时候在路由中，主要的部分是相同的，但是下面可能是不同的，比如访问用户的个人中心是/user/liutao/profile,查看用户发的帖子是/user/liutao/post，这时候就需要使用到嵌套路由\n",
    "- 1.在大的路由下面，有时候想要使用一些子路由来切换数据，那么这时候可以使用路由嵌套\n",
    "- 2.首先在定义路由的时候，不需要在routes中单独添加一个映射，而应该放在父路由的children中\n",
    "- 3.在父路由的组件中，记得加上router-view出口\n",
    "- 代码示例：\n",
    "         <div id='app'>\n",
    "            <nav class=\"navbar navbar-default\">\n",
    "              <div class=\"container-fluid\">\n",
    "                <!-- Brand and toggle get grouped for better mobile display -->\n",
    "                <div class=\"navbar-header\">\n",
    "                  <button type=\"button\" class=\"navbar-toggle collapsed\" data-toggle=\"collapse\" data-target=\"#bs-example-navbar-collapse-1\" aria-expanded=\"false\">\n",
    "                    <span class=\"sr-only\">Toggle navigation</span>\n",
    "                    <span class=\"icon-bar\"></span>\n",
    "                    <span class=\"icon-bar\"></span>\n",
    "                    <span class=\"icon-bar\"></span>\n",
    "                  </button>\n",
    "                  <a class=\"navbar-brand\" href=\"#\">涛涛博客</a>\n",
    "                </div>\n",
    "                <div class=\"collapse navbar-collapse\" id=\"bs-example-navbar-collapse-1\">\n",
    "                  <ul class=\"nav navbar-nav\">\n",
    "                    <li class=\"active\">\n",
    "                      <router-link to=\"/\">首页</router-link>\n",
    "                    </li>\n",
    "                    <li>\n",
    "                      <router-link to=\"/profile/liutao\">我的主页</router-link>\n",
    "                    </li>\n",
    "                  </ul>\n",
    "                </div><!-- /.navbar-collapse -->\n",
    "              </div><!-- /.container-fluid -->\n",
    "            </nav>\n",
    "            <div class=\"container\">\n",
    "              <!-- 定义Vuerouter需要更新页面的地方 -->\n",
    "              <router-view></router-view>\n",
    "            </div>\n",
    "\n",
    "          </div>\n",
    "          <script>\n",
    "            // 定义组件：component\n",
    "            var index = Vue.extend({template: \"<h1>首页</h1>\"})\n",
    "            var profile = Vue.extend({\n",
    "              template: `\n",
    "              <div>\n",
    "                <h1>我的主页</h1>\n",
    "                <ul class=\"nav nav-tabs\">\n",
    "                  <li role=\"presentation\" class=\"active\"><router-link to=\"/profile/liutao/profile_settings\">设置</router-link></li>\n",
    "                  <li role=\"presentation\"><router-link to=\"/profile/liutao/profile_message\">消息</router-link></li>\n",
    "                </ul>\n",
    "                <div class=\"container\">\n",
    "                  <router-view></router-view>\n",
    "                </div>\n",
    "              </div>\n",
    "              `,\n",
    "            });\n",
    "            let profile_settings = Vue.extend({\n",
    "              template: \"<h3>主页设置</h3>\"\n",
    "            });\n",
    "            let profile_message = Vue.extend({\n",
    "              template: \"<h3>主页消息</h3>\"\n",
    "            });\n",
    "            let router = new VueRouter({\n",
    "              routes: [\n",
    "                {path: '/', component: index},\n",
    "                {\n",
    "                  path: '/profile/:userid', \n",
    "                  component: profile,\n",
    "                  children: [\n",
    "                    {path: \"/\", component: profile_settings},\n",
    "                    {path: \"profile_settings\", component: profile_settings},\n",
    "                    {path: \"profile_message\", component: profile_message},\n",
    "                  ]\n",
    "                },\n",
    "              ]\n",
    "            });\n",
    "            new Vue({\n",
    "              el: '#app',\n",
    "              // router不是放在data中\n",
    "              router: router,\n",
    "            })\n",
    "          </script>"
   ]
  },
  {
   "cell_type": "code",
   "execution_count": null,
   "metadata": {},
   "outputs": [],
   "source": []
  },
  {
   "cell_type": "code",
   "execution_count": null,
   "metadata": {},
   "outputs": [],
   "source": []
  },
  {
   "cell_type": "code",
   "execution_count": null,
   "metadata": {},
   "outputs": [],
   "source": []
  },
  {
   "cell_type": "code",
   "execution_count": null,
   "metadata": {},
   "outputs": [],
   "source": []
  }
 ],
 "metadata": {
  "kernelspec": {
   "display_name": "Python 3",
   "language": "python",
   "name": "python3"
  },
  "language_info": {
   "codemirror_mode": {
    "name": "ipython",
    "version": 3
   },
   "file_extension": ".py",
   "mimetype": "text/x-python",
   "name": "python",
   "nbconvert_exporter": "python",
   "pygments_lexer": "ipython3",
   "version": "3.8.8"
  }
 },
 "nbformat": 4,
 "nbformat_minor": 2
}
