{
 "cells": [
  {
   "cell_type": "markdown",
   "metadata": {},
   "source": [
    "# 导航守卫\n",
    "- 导航守卫：就是导航过程中各个阶段的钩子函数，分为全局导航守卫，路由导航守卫，组件导航守卫\n",
    "- 钩子函数：钩子函数是一个在事件触发的时候，在系统级捕获到了它，然后做一些操作，一段用于处理系统消息的程序。钩子就是某个阶段会给你做一些处理的机会。\n",
    "    - 1.他是一个函数，在系统消息触发时被调用\n",
    "    - 2.不是用户自己触发的。钩子函数的名称是确定的\n",
    "\n",
    "\n",
    "# 全局导航守卫\n",
    "- 就是在整个网页中，只要发生了路由的变化，都会触发，它是在VueRouter上实现的，全局导航守卫主要包括两个函数，分别为：beforeEach, afterEach\n",
    "## beforeEach(to, from, next):\n",
    "- 在路由发生了改变，但是还没有找到成功跳转的时候会调用\n",
    "- to表示上一个路由对象，from表示下一个路由对象，next代表的是控制下一步怎么走\n",
    "    - next():按照正常的流程来走\n",
    "    - next(\"/\"):表示之前的路由被断掉了，重新走到/中去\n",
    "    - next(false)表示没有任何调用，不会导向任何路由\n",
    "    \n",
    "## afterEach(to,from)\n",
    "- 路由完成后的回调\n"
   ]
  },
  {
   "cell_type": "markdown",
   "metadata": {},
   "source": [
    "# 路由导航守卫\n",
    "- 路由组件导航守卫：也就是定义在路由上的导航守卫上，使用方式就是在路由的对象中，传递一个beforeEnter参数"
   ]
  },
  {
   "cell_type": "markdown",
   "metadata": {},
   "source": [
    "# 组件导航守卫\n",
    "- 组件导航守卫，就是在组件中写守卫，也就是走到这个组件之前会调用的方法，组件导航新守卫大体上也就是三个方法：beforeRouteEnter, beforeRouteUpdate, beforeRouteLeave\n",
    "\n",
    "## beforeRouteEnter\n",
    "- 在进入当前页面之前调用的，在里面不能使用this，因为还没有进入到组件中\n",
    "\n",
    "## beforeRouteUpdate\n",
    "- 当前页面被复用了，参数改变了，会调用这个函数\n",
    "\n",
    "## beforeRouteLeave\n",
    "- 在即将离开当前页面的时候进行调用 "
   ]
  },
  {
   "cell_type": "markdown",
   "metadata": {},
   "source": [
    "# 导航守卫执行的流程\n",
    "- 1.导航被触发\n",
    "- 2.在失活的组件里调用离开守卫\n",
    "- 3.调用全局的beforeEach守卫\n",
    "- 4.在重用的组件里调用beforeRouteUpdate守卫\n",
    "- 5.在路由配置里调用beforeEnter\n",
    "- 6.解析异步路由组件\n",
    "- 7.在被激活的组件里调用beforeRouteEnter\n",
    "- 8.调用全局的beforeResolve守卫\n",
    "- 9.导航被确认\n",
    "- 10.调用全局的afterEach钩子\n",
    "- 11.触发DOM更新\n",
    "- 12.用创建好的实例调用beforeRouteEnter守卫中传给next的回调函数"
   ]
  }
 ],
 "metadata": {
  "kernelspec": {
   "display_name": "Python 3",
   "language": "python",
   "name": "python3"
  },
  "language_info": {
   "codemirror_mode": {
    "name": "ipython",
    "version": 3
   },
   "file_extension": ".py",
   "mimetype": "text/x-python",
   "name": "python",
   "nbconvert_exporter": "python",
   "pygments_lexer": "ipython3",
   "version": "3.8.8"
  }
 },
 "nbformat": 4,
 "nbformat_minor": 2
}
