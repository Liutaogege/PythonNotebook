{
 "cells": [
  {
   "cell_type": "markdown",
   "metadata": {},
   "source": [
    "# axios\n",
    "- 帮助客户端传递数据到服务器端\n",
    "### 基本使用\n",
    "- 安装：npm install axios --save\n",
    "- 文档：详见：http://axios-js.com/"
   ]
  },
  {
   "cell_type": "markdown",
   "metadata": {},
   "source": [
    "# 跨域功能的实现\n",
    "- 由于客户端和服务器端是不同的域，所以axios在发送post请求时会被拦截。所以需要在服务器端安装pip install django-cors-headers 来解决跨域请求的问题\n",
    "- 官网：https://pypi.org/project/django-cors-headers/\n",
    "- 简单使用举例: https://www.jianshu.com/p/8f43ad5482f4"
   ]
  },
  {
   "cell_type": "markdown",
   "metadata": {},
   "source": [
    "# 拦截器\n",
    "- 拦截器： 对特定的http请求或响应消息或请求头进行验证，拦截不合法的http交互以保证web环境的安全。\n",
    "- 具体讲解及使用：https://blog.csdn.net/lhjuejiang/article/details/83383087?utm_medium=distribute.pc_relevant.none-task-blog-BlogCommendFromBaidu-1.not_use_machine_learn_pai&depth_1-utm_source=distribute.pc_relevant.none-task-blog-BlogCommendFromBaidu-1.not_use_machine_learn_pai"
   ]
  },
  {
   "cell_type": "code",
   "execution_count": 1,
   "metadata": {},
   "outputs": [
    {
     "name": "stdout",
     "output_type": "stream",
     "text": [
      "2\n"
     ]
    }
   ],
   "source": [
    "print(min(2,2))"
   ]
  },
  {
   "cell_type": "code",
   "execution_count": null,
   "metadata": {},
   "outputs": [],
   "source": []
  },
  {
   "cell_type": "code",
   "execution_count": null,
   "metadata": {},
   "outputs": [],
   "source": []
  }
 ],
 "metadata": {
  "kernelspec": {
   "display_name": "Python 3",
   "language": "python",
   "name": "python3"
  },
  "language_info": {
   "codemirror_mode": {
    "name": "ipython",
    "version": 3
   },
   "file_extension": ".py",
   "mimetype": "text/x-python",
   "name": "python",
   "nbconvert_exporter": "python",
   "pygments_lexer": "ipython3",
   "version": "3.7.3"
  }
 },
 "nbformat": 4,
 "nbformat_minor": 2
}
