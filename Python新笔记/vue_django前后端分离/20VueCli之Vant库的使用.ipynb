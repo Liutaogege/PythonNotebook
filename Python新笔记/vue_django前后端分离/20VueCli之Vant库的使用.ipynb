{
 "cells": [
  {
   "cell_type": "markdown",
   "metadata": {},
   "source": [
    "# vant组件库的使用\n",
    "- vant库是一款针对vue库的组件库，集成了很多移动端用到的组件，包括按钮，图片，Icon图标等，它也有很多微商城的组件比如：地址列表，商品卡片\n",
    "\n",
    "\n",
    "## 安装\n",
    "- npm install vant --save\n",
    "\n",
    "## 引入组件\n",
    "### 自动按需引入组件（推荐）\n",
    "- babel-plugin-import 是一款babel插件，它会在编译的过程中将import的写法自动转换为按需引入的方式，在babel.config.js中写入以下代码：\n",
    "        module.exports = {\n",
    "            plugins: [\n",
    "                ['import', {\n",
    "                    libraryName: 'vant',\n",
    "                    libraryDirectory: 'es',\n",
    "                    style: true\n",
    "                    }, 'vant']\n",
    "            ]\n",
    "        };\n",
    "        // 接着你可以在代码汇总直接引入vant组件\n",
    "        // 插件会自动将代码转换为方式二中的按需引入形式\n",
    "        import { Button } from 'vant';\n",
    "\n",
    "### 导入所有组件\n",
    "- vant支持一次性导入所有组件，引入所有组件会增加代码包体积，因此不推荐\n",
    "        import Vue from 'vue';\n",
    "        import Vant from 'vant';\n",
    "        import 'vant/lib/index.css';\n",
    "\n",
    "        Vue.use(Vant);"
   ]
  },
  {
   "cell_type": "code",
   "execution_count": null,
   "metadata": {},
   "outputs": [],
   "source": []
  },
  {
   "cell_type": "code",
   "execution_count": null,
   "metadata": {},
   "outputs": [],
   "source": []
  },
  {
   "cell_type": "code",
   "execution_count": null,
   "metadata": {},
   "outputs": [],
   "source": []
  }
 ],
 "metadata": {
  "kernelspec": {
   "display_name": "Python 3",
   "language": "python",
   "name": "python3"
  },
  "language_info": {
   "codemirror_mode": {
    "name": "ipython",
    "version": 3
   },
   "file_extension": ".py",
   "mimetype": "text/x-python",
   "name": "python",
   "nbconvert_exporter": "python",
   "pygments_lexer": "ipython3",
   "version": "3.7.3"
  }
 },
 "nbformat": 4,
 "nbformat_minor": 2
}
