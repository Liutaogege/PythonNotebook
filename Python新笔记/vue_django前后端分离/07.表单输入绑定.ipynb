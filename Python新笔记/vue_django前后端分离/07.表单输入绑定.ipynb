{
 "cells": [
  {
   "cell_type": "markdown",
   "metadata": {},
   "source": [
    "# 表单输入绑定\n",
    "- v-model绑定可以实现表单值与属性的双向绑定，即表单元素中更改了值会自动的更新属性中的值，属性中的值更新了会自动更新表单中的值\n",
    "\n",
    "## 绑定的属性和事件\n",
    "- v-model在内部为不同的输入元素使用不同的属性并抛出不同的事件\n",
    "    - 1.text和textarea元素使用value属性和input事件\n",
    "    - 2.checkbox和radio使用checked属性和change事件\n",
    "    - 3.select字段将value作为prop并将change作为事件\n",
    "\n",
    "## 表单元素绑定\n",
    "### input绑定\n",
    "### textarea绑定\n",
    "### checkbox绑定\n",
    "### radio绑定\n",
    "        <div id='app'>\n",
    "            <label for=\"inputName\">用户名：</label>\n",
    "            <input type=\"text\" v-model:value=\"inputName\" placeholder=\"请输入你的名字\">\n",
    "            <p>你输入的用户名为： {{inputName}}</p>\n",
    "            <!-- 复选框 -->\n",
    "            <div>\n",
    "              <label for=\"basketball\">篮球</label>\n",
    "              <input type=\"checkbox\" value=\"basketball\" v-model=\"hobbies\">\n",
    "              <label for=\"football\">足球</label>\n",
    "              <input type=\"checkbox\" value=\"football\" v-model=\"hobbies\">\n",
    "              <label for=\"tennise\">羽毛球</label>\n",
    "              <input type=\"checkbox\" value=\"tennise\" v-model=\"hobbies\">\n",
    "              <p>已选择的爱好：{{hobbies}}</p>\n",
    "            </div>\n",
    "\n",
    "            <!-- 单选框 -->\n",
    "            <div>\n",
    "              <label for=\"men\">男</label>\n",
    "              <input type=\"radio\" value=\"men\" v-model=\"gender\">\n",
    "              <label for=\"women\">女</label>\n",
    "              <input type=\"radio\" value=\"women\" v-model=\"gender\">\n",
    "              <p>你选择的性别：{{gender}}</p>\n",
    "            </div>\n",
    "\n",
    "            <!-- 下拉框 -->\n",
    "            <div>\n",
    "              <select v-model=\"cities\">\n",
    "                <option disabled value=\"\">请选择</option>\n",
    "                <option value=\"chengdu\">成都</option>\n",
    "                <option value=\"shenzheng\">深圳</option>\n",
    "                <option value=\"hangzhou\">杭州</option>\n",
    "              </select>\n",
    "              <p>你选择的城市： {{cities}}</p>\n",
    "            </div>\n",
    "          </div>\n",
    "          <script>\n",
    "            new Vue({\n",
    "              el: '#app',\n",
    "              data: {\n",
    "                inputName: \"\",\n",
    "                hobbies: [],\n",
    "                gender: \"\",\n",
    "                cities: \"\",\n",
    "              }\n",
    "            })"
   ]
  },
  {
   "cell_type": "markdown",
   "metadata": {},
   "source": [
    "# 修饰符\n",
    "### .lazy:\n",
    "- 默认情况下，v-model在每次input事件触发后将输入框的值与数据进行同步（除了上述输入法组合文字时），你可以添加lazy修饰符，从而转变为使用change事件进行同步\n",
    "    - input v-model.lazy=\"msg\"\n",
    "    \n",
    "### .number\n",
    "- 如果想自动将用户的输入值转为数值类型，可以给v-model添加number修饰符\n",
    "    - input v-model.number=\"age\" type=\"number\"\n",
    "    - 这通常很有用，因为即使在type=\"number\"时，HTML输入元素的值也总会返回字符串，如果这个值无法被parseFloat()解析，则返回原始的值\n",
    "    \n",
    "### .trim\n",
    "- 如果要自动过滤用户输入的首尾空白字符，可以给v-model添加trim修饰符\n",
    "    - input v-model.trim=\"msg\""
   ]
  },
  {
   "cell_type": "code",
   "execution_count": null,
   "metadata": {},
   "outputs": [],
   "source": []
  },
  {
   "cell_type": "code",
   "execution_count": null,
   "metadata": {},
   "outputs": [],
   "source": []
  }
 ],
 "metadata": {
  "kernelspec": {
   "display_name": "Python 3",
   "language": "python",
   "name": "python3"
  },
  "language_info": {
   "codemirror_mode": {
    "name": "ipython",
    "version": 3
   },
   "file_extension": ".py",
   "mimetype": "text/x-python",
   "name": "python",
   "nbconvert_exporter": "python",
   "pygments_lexer": "ipython3",
   "version": "3.7.3"
  }
 },
 "nbformat": 4,
 "nbformat_minor": 2
}
