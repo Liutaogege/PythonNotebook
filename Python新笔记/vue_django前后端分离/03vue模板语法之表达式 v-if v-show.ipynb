{
 "cells": [
  {
   "cell_type": "markdown",
   "metadata": {},
   "source": [
    "# 执行JavaScript表达式\n",
    "- 在属性绑定和变量读取中，可以使用表达式，常见的表达式有：变量读取，变量运算，三目运算符，函数调用，取反等\n",
    "        <div id='app'>\n",
    "            <div v-bind:style=\"{color:danger?'red':'black'}\">消息提示{{message.split(\" \").reverse().join(\" \")}}</div>\n",
    "            <div>{{ greet() }}</div>\n",
    "            <div>{{ !isReal }}</div>\n",
    "            <div>{{ age }}</div>\n",
    "          </div>\n",
    "          <script>\n",
    "            new Vue({\n",
    "              el: '#app',\n",
    "              data: {\n",
    "                danger: true,\n",
    "                message: \"hello xuxinxin, like you\",\n",
    "                isReal: true,\n",
    "                age: 30 -23,\n",
    "              },\n",
    "              methods: {\n",
    "                  greet(){\n",
    "                    return \"I think that's true\"\n",
    "                  }\n",
    "                }\n",
    "            })\n",
    "          </script>"
   ]
  },
  {
   "cell_type": "markdown",
   "metadata": {},
   "source": [
    "# 条件判断\n",
    "- 在模板中，可以根据条件进行渲染，条件用到的是v-if,v-else-if以及v-else来组合实现的。\n",
    "- 有时候要在一个条件中加载多个html元素，那么可以通过template标签来实现\n",
    "- vue默认情况下会重用相同的标签来提高性能，有时候我们不需要重用，那么可以在不需要重用的元素中加上key属性，不同的key属性就不会被使用\n",
    "        <div id='app'>\n",
    "            <div v-if=\"age_gap<=3\">结婚吧</div>\n",
    "            <div v-else-if=\"age_gap>3&age_gap<10\">还是有希望的，还是可以喜欢你</div>\n",
    "            <div v-else=>It's impossible</div>\n",
    "\n",
    "            <template v-if=\"money<10\">\n",
    "              <p>想去跨越年龄爱一个人吗</p>\n",
    "              <p>别做梦了，这是不可能的</p>\n",
    "            </template>\n",
    "\n",
    "            <template v-else-if=\"money>10000\">\n",
    "              <p>有钱任性，只要你喜欢没有什么是不可能的</p>\n",
    "              <p>如果你们是真爱</p>\n",
    "            </template>\n",
    "\n",
    "            <template v-else=>\n",
    "              <p>你目前不配</p>\n",
    "              <p>你还需要再打拼啊</p>\n",
    "            </template>\n",
    "          </div>\n",
    "          <script>\n",
    "            new Vue({\n",
    "              el: '#app',\n",
    "              data: {\n",
    "                age_gap: 7,\n",
    "                money: 1000000,\n",
    "              }\n",
    "            })\n",
    "          </script>"
   ]
  },
  {
   "cell_type": "markdown",
   "metadata": {},
   "source": [
    "# v-show和v-if\n",
    "- 都可以通过判断条件来决定是否渲染\n",
    "- v-if是真正的条件渲染，因为它会确保在切换过程中条件块内的事件监听器和子组件适当的被销毁和重建。在切换过程中，假的被销毁，再重建新的\n",
    "- v-if也是惰性的，如果在初始渲染条件为假，则什么也不做——直到条件第一次变为真时，才会开始渲染条件块\n",
    "- 相比之下，v-show就简单的多，--不管初始条件是什么，元素总是会被渲染，并且只是简单地基于CSS进行判断元素是否要显示来进行切换，条件为假的，则添加属性为:display:None\n",
    "- 一般来说，v-if有更高的切换开销，而v-show又更高的初始渲染开销，因此，如果需要非常频繁地切换，则使用v-show较好，如果在运行时条件很少改变，则使用v-if较好\n",
    "- 所以如果需要反复进行切换的，推荐使用v-show，如果不需要频繁切换就使用v-if。\n",
    "- v-show的使用：它不像v-if一样，它没有什么else语句，直接v-show即可，且它不再template标签中使用\n",
    "        <div v-show=\"loginType=='username'\">\n",
    "          <label for=\"username\">用户名：</label>\n",
    "          <input type=\"text\" id=\"username\" name=\"username\" key=\"username\" placeholder=\"用户名\">\n",
    "        </div>\n",
    "\n",
    "        <div v-show=\"loginType=='email'\">\n",
    "          <label for=\"email\">邮箱：</label>\n",
    "          <input type=\"text\" id=\"email\" name=\"email\" key=\"email\" placeholder=\"邮箱号\">\n",
    "        </div>"
   ]
  },
  {
   "cell_type": "code",
   "execution_count": null,
   "metadata": {},
   "outputs": [],
   "source": []
  },
  {
   "cell_type": "code",
   "execution_count": null,
   "metadata": {},
   "outputs": [],
   "source": []
  },
  {
   "cell_type": "code",
   "execution_count": null,
   "metadata": {},
   "outputs": [],
   "source": []
  },
  {
   "cell_type": "code",
   "execution_count": null,
   "metadata": {},
   "outputs": [],
   "source": []
  }
 ],
 "metadata": {
  "kernelspec": {
   "display_name": "Python 3",
   "language": "python",
   "name": "python3"
  },
  "language_info": {
   "codemirror_mode": {
    "name": "ipython",
    "version": 3
   },
   "file_extension": ".py",
   "mimetype": "text/x-python",
   "name": "python",
   "nbconvert_exporter": "python",
   "pygments_lexer": "ipython3",
   "version": "3.8.8"
  }
 },
 "nbformat": 4,
 "nbformat_minor": 2
}
