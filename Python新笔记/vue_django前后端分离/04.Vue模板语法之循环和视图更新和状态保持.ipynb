{
 "cells": [
  {
   "cell_type": "markdown",
   "metadata": {},
   "source": [
    "# 其他模板语法\n",
    "## 循环：\n",
    "- 在模板中可以使用v-for指令来循环数组，对象等\n",
    "- 1.数组循环：<tr v-for=\"(book, index) in books\">，如果循环的时候想要把下标也循环出来，那么可以添加一个圆括号，并且记住，第一个值永远是对象，第二个才是下标\n",
    "- 2.对象循环：跟数组循环一样：<div v-for=\"value,key in person\">\n",
    "\n",
    "## 循环数组和对象实例\n",
    "- 示例如下：\n",
    "        <div id='app'>\n",
    "        <table>\n",
    "          <thead>\n",
    "            <tr>\n",
    "              <th>序号</th>\n",
    "              <th>书名</th>\n",
    "              <th>作者</th>\n",
    "            </tr>\n",
    "          </thead>\n",
    "          <tbody>\n",
    "            <!-- 或者book of books, 效果一样 -->\n",
    "            <tr v-for=\"(book, index) in books\">\n",
    "              <td>{{ index + 1}}</td>\n",
    "              <td>{{ book.title }}</td>\n",
    "              <td>{{ book.author }}</td>\n",
    "            </tr>\n",
    "          </tbody>\n",
    "        </table>\n",
    "        <div v-for=\"value,key in person\">\n",
    "          {{key}}:{{value}}\n",
    "        </div>\n",
    "      </div>\n",
    "      <script>\n",
    "        new Vue({\n",
    "          el: '#app',\n",
    "          data: {\n",
    "            books: [\n",
    "              {'title': '三国演义', 'author':'罗贯中'},\n",
    "              {'title': '红楼梦', 'author': '曹雪芹'},\n",
    "              {'title': '西游记', 'author': '吴承恩'},\n",
    "              {'title': '水浒传', 'author': '施耐庵'}\n",
    "            ],\n",
    "            person: {\n",
    "              \"name\": \"liutao\",\n",
    "              \"age\": 23,\n",
    "              \"address\": \"成都\"\n",
    "            }\n",
    "          }\n",
    "        })"
   ]
  },
  {
   "cell_type": "markdown",
   "metadata": {},
   "source": [
    "## 循环之保持状态\n",
    "- 循环出来的元素，如果没有使用key元素来唯一标识，如果后期的数据发生了改变，默认是会重用的，并且元素的顺序不会跟着数据的更改而更改\n",
    "- 默认情况下，如果数组中的顺序发生变化，或者某个数发生变化导致重新渲染，那么vue会重新利用之前的元素，而不会重新排序，这样在某些情况下不是我们想要的。此时可以给有循环语句对应的那个元素添加key属性，key只能是number和string类型，在循环的一般使用循环出来的对象的某个唯一值，不要使用index来作为key，它没有效果。在自定义组件上使用v-for，key是必须要写的"
   ]
  },
  {
   "cell_type": "markdown",
   "metadata": {},
   "source": [
    "# 触发视图更新\n",
    "- 1.更新的类型：\n",
    "    - 直接赋值更新，this.var = [],模板会立即更新\n",
    "    - 通过函数更新，this.var.push(\"xx\")\n",
    "- 2.针对数组中使用函数进行更新，有以下方法是可以直接触发更新：push/pop/shift/unshift/splice/reverse/sort,有一些其他函数不会触发更新，比如filter，slice.concat(个人认为这是和使用方法后存储地址是否发生改变相关，像pop以后，原存储地址会发生改变，但是slice原存储地址不会发生改变，结合vue的复用特性，原存储地址不发生改变，所以就不会更新)\n",
    "- 3.如果想要通过下标来进行视图更新是行的，只能采用Vue.set来实现，如果想新增一个属性，也是如此\n",
    "\n",
    "## 视图更新注意事项\n",
    "- 1.直接修改数组中的某个值是不会触发视图更新的，比如：\n",
    "    - this.book[0] = \"金瓶梅\";\n",
    "    - 此时应该采用splice或者Vue.set进行更新\n",
    "        - Vue.set(this.book,0,'金瓶梅')\n",
    "        \n",
    "- 2.如果动态的给对象添加属性，也不会触发视图更新，只能通过Vue.set来添加\n",
    "        personAddAttr() {\n",
    "          // 这种方法是没效果的\n",
    "          this.person.age = 18;\n",
    "          Vue.set(this.person, \"liker\", \"xinxin\");\n",
    "        },"
   ]
  },
  {
   "cell_type": "code",
   "execution_count": 19,
   "metadata": {},
   "outputs": [
    {
     "name": "stdout",
     "output_type": "stream",
     "text": [
      "1708617173960\n",
      "1708617173960 1708618109192\n"
     ]
    }
   ],
   "source": []
  },
  {
   "cell_type": "code",
   "execution_count": null,
   "metadata": {},
   "outputs": [],
   "source": []
  },
  {
   "cell_type": "code",
   "execution_count": null,
   "metadata": {},
   "outputs": [],
   "source": []
  },
  {
   "cell_type": "code",
   "execution_count": null,
   "metadata": {},
   "outputs": [],
   "source": []
  }
 ],
 "metadata": {
  "kernelspec": {
   "display_name": "Python 3",
   "language": "python",
   "name": "python3"
  },
  "language_info": {
   "codemirror_mode": {
    "name": "ipython",
    "version": 3
   },
   "file_extension": ".py",
   "mimetype": "text/x-python",
   "name": "python",
   "nbconvert_exporter": "python",
   "pygments_lexer": "ipython3",
   "version": "3.8.8"
  }
 },
 "nbformat": 4,
 "nbformat_minor": 2
}
