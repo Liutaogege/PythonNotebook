{
 "cells": [
  {
   "cell_type": "markdown",
   "metadata": {},
   "source": [
    "# npm初始化\n",
    "- 在新的项目中，需要先执行npm init初始化（要进入到项目的目录下），创建一个package.json文件来保存本项目中用到的包\n",
    "\n",
    "# 安装包\n",
    "- 安装包分为全局安装和本地安装，全局安装是在当前node环境中，可以在cmd中当作命令使用，而本地安装是在当前项目中，只有当前这个项目能使用，并且可以通过require引用，安装的方式只有-g参数的区别\n",
    "    - npm install vue  #本地安装\n",
    "    - npm install vue --save # 本地安装，并且保存到package.json的dependencies中\n",
    "    - npm install vue --save-dev #本地安装，并且保存到package.json的dependencies-dev中,表示这些包只在开发环境下使用，生产环境中使用不到\n",
    "    - npm install vue -g  # 全局安装\n",
    "    - npm install -g @vue/cli  #全局安装vue-cli\n",
    "    \n",
    "## 本地安装\n",
    "- 1.将安装包放在./node_modules下（运行npm的命令时所在的目录），如果没有node_modules目录，会在当前指向npm命令的目录下生成node_modules目录\n",
    "- 2.可以通过require()来引入本地安装的包\n",
    "\n",
    "## 全局安装\n",
    "- 1.将安装包放在/usr/local下或者你的node安装目录\n",
    "- 2.可以直接在命令行里使用\n",
    "\n",
    "### 卸载包\n",
    "- npm uninstall package_name\n",
    "\n",
    "### 更新包\n",
    "- npm update package_name\n",
    "\n",
    "### 搜索包\n",
    "- npm search package_name\n",
    "\n",
    "### 使用淘宝镜像\n",
    "- 具体npm及nvm使用详见Django实战中的实战前端环境配置\n",
    "- npm install -g cnpm -registry=https://registry.npm.taobao.org\n",
    "\n"
   ]
  },
  {
   "cell_type": "code",
   "execution_count": null,
   "metadata": {},
   "outputs": [],
   "source": []
  }
 ],
 "metadata": {
  "kernelspec": {
   "display_name": "Python 3",
   "language": "python",
   "name": "python3"
  },
  "language_info": {
   "codemirror_mode": {
    "name": "ipython",
    "version": 3
   },
   "file_extension": ".py",
   "mimetype": "text/x-python",
   "name": "python",
   "nbconvert_exporter": "python",
   "pygments_lexer": "ipython3",
   "version": "3.7.3"
  }
 },
 "nbformat": 4,
 "nbformat_minor": 2
}
