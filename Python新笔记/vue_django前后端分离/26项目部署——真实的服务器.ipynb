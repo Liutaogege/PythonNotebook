{
 "cells": [
  {
   "cell_type": "markdown",
   "metadata": {},
   "source": [
    "# 部署笔记\n",
    "## 开发机：\n",
    "- 1.把项目中的python包做一个记录：pip freeze > requirement.txt\n",
    "- 2.导出本地测试数据：在Navicat中导出需要的数据文件.sql\n",
    "- 3.在前端代码中，将BASE_URL从之前的127.0.0.1改成自己服务器的ip地址\n",
    "- 4.将前端代码进行打包：npm run build。打包后会生成一个dist文件夹，把这个文件夹中的除了index.html文件以外的文件，放到服务器django项目中的static文件夹下，把index.html放到templates文件夹中（注意要修改index.html中引用的文件路径，即加上前缀，否则引用会失败）\n",
    "- 5.在项目中的urls.py的urlpatterns中添加一个re_path\n",
    "        from django.views.generic import TemplateView\n",
    "        from django.urls import re_path\n",
    "        urlpatterns = [\n",
    "            # path('admin/', admin.site.urls),\n",
    "            re_path(\"^$\", TemplateView.as_view(template_name=\"index.html\"), name=\"index\"),\n",
    "            path(\"\", include(\"apps.h5.urls\")),\n",
    "            path(\"cms/\", include(\"apps.cms.urls\")),\n",
    "        ] + static(settings.MEDIA_URL, document_root=settings.MEDIA_ROOT)$\n",
    "- 6.在项目中的settings.py文件中配置staticfiles路径，因为已经配置了'django.contrib.staticfiles',所以无需在urls.py文件中配置static的路径了\n",
    "         STATICFILES_DIRS = [\n",
    "            os.path.join(BASE_DIR, 'static')\n",
    "        ]\n",
    "- 7.在settings.py文件中的ALLOWED_HOSTS中加上 \"*\" ，表示任意ip都可访问\n",
    "\n",
    "## 将代码上传到服务器\n",
    "- 1.Tools->Deployment->Configuration\n",
    "- 2.点击左上角的加号，添加服务器\n",
    "- 3.IP、用户名（非root用户），密码，Test Connection进行测试连接，如果提示Success，说明就可以正常连接了\n",
    "- 4.需要在Mappings中配置上传项目到服务器的那个路劲\n",
    "\n",
    "\n",
    "## 服务器\n",
    "- 1.centos安装python3\n",
    "    - 详见：https://cloud.tencent.com/developer/article/1478216\n",
    "- 2.创建虚拟环境：\n",
    "    - pip3 install virtualenv\n",
    "    - pip3 install virtualenvwrapper\n",
    "    - 配置virtual环境：\n",
    "        - 通过vim ~/.bashrc来添加以下\n",
    "                export WORKON_HOME=~/.virtualenvs\n",
    "                export VIRTUALENVWRAPPER_PYTHON=/usr/local/bin/python3\n",
    "                # 指定virtualenv的路径\n",
    "                export VIRTUALENVWRAPPER_VIRTUALENV=/usr/local/bin/virtualenv\n",
    "                source /usr/local/bin/virtualenvwrapper.sh\n",
    "        - 然后source ~/.bashrc。（遇到错误找度娘）\n",
    "    - mkvirtualenv meituan --python=/usr/local/bin/python3.7(这个要根据自己的python3的安装位置来决定，使用which python3.7）\n",
    "    \n",
    "- 3.安装pip3 install mysqlclient,但是前提要先安装一些依赖，详情见：https://blog.csdn.net/qq_39458679/article/details/79986696\n",
    "- 4.进入虚拟环境：workon meituan，然后pip3 install -r requirement.txt安装相关的包\n",
    "- 5.安装MySQL8.0：\n",
    "    - 安装过程详见：https://icode.blog.csdn.net/article/details/88373319?utm_medium=distribute.pc_relevant.none-task-blog-BlogCommendFromBaidu-1.not_use_machine_learn_pai&depth_1-utm_source=distribute.pc_relevant.none-task-blog-BlogCommendFromBaidu-1.not_use_machine_learn_pai\n",
    "    - 设置mysql简单密码详见：https://www.cnblogs.com/rusking/p/10561432.html\n",
    "- 6.安装memcached并启动\n",
    "        yum install memcached\n",
    "        /usr/bin/memcached -d -l 127.0.0.1 -p 11211 -m 150 -u root\n",
    "- 7.将数据映射到服务器的数据库中：\n",
    "        python3 make migratte\n",
    "        mysql -uroot -p meituan < meituan.sql  #将.sql数据映射人 数据库"
   ]
  },
  {
   "cell_type": "code",
   "execution_count": null,
   "metadata": {},
   "outputs": [],
   "source": [
    "\n"
   ]
  },
  {
   "cell_type": "code",
   "execution_count": null,
   "metadata": {},
   "outputs": [],
   "source": []
  },
  {
   "cell_type": "code",
   "execution_count": null,
   "metadata": {},
   "outputs": [],
   "source": []
  },
  {
   "cell_type": "code",
   "execution_count": null,
   "metadata": {},
   "outputs": [],
   "source": []
  }
 ],
 "metadata": {
  "kernelspec": {
   "display_name": "Python 3",
   "language": "python",
   "name": "python3"
  },
  "language_info": {
   "codemirror_mode": {
    "name": "ipython",
    "version": 3
   },
   "file_extension": ".py",
   "mimetype": "text/x-python",
   "name": "python",
   "nbconvert_exporter": "python",
   "pygments_lexer": "ipython3",
   "version": "3.7.3"
  }
 },
 "nbformat": 4,
 "nbformat_minor": 2
}
