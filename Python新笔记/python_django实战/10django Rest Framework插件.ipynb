{
 "cells": [
  {
   "cell_type": "markdown",
   "metadata": {},
   "source": [
    "# django rest framework\n",
    "- 现在前后端分离的架构设计越来越流行，业界甚至出现了API优先的趋势。显然API开发已经成为后端程序员的必备技能了，那作为Python程序员特别是把Django作为自己主要的开发框架的程序员，推荐使用Django REST framework（DRF）这个API框架。\n",
    "- 它是基于Django这个十分全面的框架而设计开发的，能够让开发者根据自己的业务需要，使用极少的代码量快速的开发一套符合RESTful风格的API，并且还支持自动生成API文档。\n",
    "- 当一个表和另外一个表通过外键相连时，只能得到其id值而不是真正的值。所以它就是来通过序列化来解决这个问题的\n",
    "- 文档： https://www.django-rest-framework.org/\n",
    "- 安装及简单使用：https://www.cnblogs.com/17vv/p/11890707.html\n",
    "        1.安装与配置\n",
    "        ​ 1）安装drf：pip install dajngorestframework\n",
    "\n",
    "        ​ 2）项目settings.py注册app：INSTALLED_APPS = [ ......, 'rest_framework']\n",
    "\n",
    "        ​ 3）基于CBV完成满足Restful规范的接口"
   ]
  }
 ],
 "metadata": {
  "kernelspec": {
   "display_name": "Python 3",
   "language": "python",
   "name": "python3"
  },
  "language_info": {
   "codemirror_mode": {
    "name": "ipython",
    "version": 3
   },
   "file_extension": ".py",
   "mimetype": "text/x-python",
   "name": "python",
   "nbconvert_exporter": "python",
   "pygments_lexer": "ipython3",
   "version": "3.7.3"
  }
 },
 "nbformat": 4,
 "nbformat_minor": 2
}
