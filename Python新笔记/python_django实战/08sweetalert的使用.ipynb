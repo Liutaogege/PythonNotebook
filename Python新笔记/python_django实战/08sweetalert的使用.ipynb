{
 "cells": [
  {
   "cell_type": "markdown",
   "metadata": {},
   "source": [
    "#### 某些情况下需要弹出alert框来进行提示下一步操作，而sweetalert继承了很多种alert的样式\n",
    "- SweetAlert 是一个 JavaScript 插件，能够完美替代 JavaScript 自带的 alert 弹出框，并且功能强大、设计优美。\n",
    "- 使用安装及文档：https://sweetalert.bootcss.com/guides/  https://sweetalert.bootcss.com/docs/"
   ]
  }
 ],
 "metadata": {
  "kernelspec": {
   "display_name": "Python 3",
   "language": "python",
   "name": "python3"
  },
  "language_info": {
   "codemirror_mode": {
    "name": "ipython",
    "version": 3
   },
   "file_extension": ".py",
   "mimetype": "text/x-python",
   "name": "python",
   "nbconvert_exporter": "python",
   "pygments_lexer": "ipython3",
   "version": "3.7.3"
  }
 },
 "nbformat": 4,
 "nbformat_minor": 2
}
