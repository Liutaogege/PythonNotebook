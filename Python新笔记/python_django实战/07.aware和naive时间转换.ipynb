{
 "cells": [
  {
   "cell_type": "markdown",
   "metadata": {},
   "source": [
    "# 两者的转换方法\n",
    "- 第一种：pytz包form pytz import timezone\n",
    "        now_ = datetime.now()\n",
    "        timez = timezone('Asia/Shanghai')\n",
    "        now = timez.localize(now_)\n",
    "\n",
    "- 第二种：django自带的方法\n",
    "    - from django.utils.timezone import now as now_time\n",
    "    - now = now_time()"
   ]
  }
 ],
 "metadata": {
  "kernelspec": {
   "display_name": "Python 3",
   "language": "python",
   "name": "python3"
  },
  "language_info": {
   "codemirror_mode": {
    "name": "ipython",
    "version": 3
   },
   "file_extension": ".py",
   "mimetype": "text/x-python",
   "name": "python",
   "nbconvert_exporter": "python",
   "pygments_lexer": "ipython3",
   "version": "3.7.3"
  }
 },
 "nbformat": 4,
 "nbformat_minor": 2
}
