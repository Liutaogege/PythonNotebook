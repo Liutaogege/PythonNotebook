{
 "cells": [
  {
   "cell_type": "markdown",
   "metadata": {},
   "source": [
    "# Ubuntu系统中安装python包出现的问题\n",
    "- 问题一：ERROR: Could not find a version that satisfies the requirement rest_framework ERROR: No matching distribution found for rest_framework,解决方法：\n",
    "    - 1.pip未更新到最新版本，使用：python -m pip install --upgrade pip\n",
    "    - 2.网速问题，使用镜像方式并以相信的方式下载：比如：\n",
    "        - pip install selenium -i http://pypi.douban.com/simple/ --trusted-host pypi.douban.com\n",
    "\n",
    "- 问题二：通过pip install mysqlclient时报出了OSError: mysql_config not found错误\n",
    "    - 解决办法：安装这个mysqlclient需要依赖其他包\n",
    "        - 执行以下语句：\n",
    "                sudo apt-get install mysql-server mysql-client\n",
    "                sudo  apt-get install libmysqlclient-dev python3-dev\n",
    "                \n",
    "- 问题三：Unknown database\n",
    "    - 解决方法：进入MySQL，创建数据库\n",
    "        - mysql -uroot -p"
   ]
  },
  {
   "cell_type": "markdown",
   "metadata": {},
   "source": [
    "# 解决虚拟机IP地址经常发生变化的办法\n",
    "- 因为虚拟机在NAT模式下由Vmware8虚拟网卡提供虚拟机的IP分配，网桥模式下由Vmware1来提供IP分配。它们都相当于一个小型的DHCP服务器，除非改动虚拟机的网络连接方式，或动了虚拟网卡服务属性，那么虚拟机的IP租约过期后，IP就会自动重新分配，从而造成IP地址自行变化。\n",
    "    - 解决方案一\n",
    "\n",
    "        - 见：https://www.cnblogs.com/wendj/p/12450029.html\n",
    "        - 但是我仍然没有设置成功，可能和DNS的设置相关\n",
    "\n",
    "    - 解决方案二：\n",
    "\n",
    "        - setup--网络设置--不要选dhcp--手动设置ip,掩码---退出---重启网卡\n",
    "        - 重启网卡命令：\n",
    "                1、可以尝试使用以下命令：\n",
    "                service network-manager restart\n",
    "\n",
    "                2、如果是 Kali Linux（Debian），则需要用以下命令：\n",
    "                service networking restart\n",
    "\n",
    "                3、如果是Centos 8，则需要用以下命令：\n",
    "                nmcli c reload"
   ]
  },
  {
   "cell_type": "markdown",
   "metadata": {},
   "source": [
    "#  Git使用之——冲突解决一（git merge conflict）\n",
    "- 参见：https://blog.csdn.net/u012150179/article/details/14047183"
   ]
  }
 ],
 "metadata": {
  "kernelspec": {
   "display_name": "Python 3",
   "language": "python",
   "name": "python3"
  },
  "language_info": {
   "codemirror_mode": {
    "name": "ipython",
    "version": 3
   },
   "file_extension": ".py",
   "mimetype": "text/x-python",
   "name": "python",
   "nbconvert_exporter": "python",
   "pygments_lexer": "ipython3",
   "version": "3.7.3"
  }
 },
 "nbformat": 4,
 "nbformat_minor": 2
}
