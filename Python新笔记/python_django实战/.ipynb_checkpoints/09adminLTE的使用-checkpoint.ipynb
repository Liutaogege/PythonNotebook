{
 "cells": [
  {
   "cell_type": "markdown",
   "metadata": {},
   "source": [
    "# AdminLTE介绍\n",
    "- （1）AdminLTE是什么？\n",
    "        AdminLTE是一款建立在bootstrap和jquery之上的开源的模板主题工具。就是已经定义好了很多HTML模板比如登录，后台管理等，可以直接拿来用。主要是用来写前端的\n",
    "\n",
    "- （2）AdminLTE有什么特点？\n",
    "        提供一系列响应的、可重复使用的组件， 并内置了多个模板页面\n",
    "        自适应多种屏幕分辨率，兼容PC和移动端\n",
    "        快速的创建一个响应式的Html5网站\n",
    "        AdminLTE 不但美观， 而且可以免去写很大CSS与JS的工作量\n",
    "- （3）下载\n",
    "        官方原版\n",
    "        https://adminlte.io/\n",
    "        https://github.com/ColorlibHQ/AdminLTE\n",
    "        \n",
    "- 文档：http://theme.skyheng.com/roncoo-adminLTE/documentation/index.html"
   ]
  }
 ],
 "metadata": {
  "kernelspec": {
   "display_name": "Python 3",
   "language": "python",
   "name": "python3"
  },
  "language_info": {
   "codemirror_mode": {
    "name": "ipython",
    "version": 3
   },
   "file_extension": ".py",
   "mimetype": "text/x-python",
   "name": "python",
   "nbconvert_exporter": "python",
   "pygments_lexer": "ipython3",
   "version": "3.7.3"
  }
 },
 "nbformat": 4,
 "nbformat_minor": 2
}
