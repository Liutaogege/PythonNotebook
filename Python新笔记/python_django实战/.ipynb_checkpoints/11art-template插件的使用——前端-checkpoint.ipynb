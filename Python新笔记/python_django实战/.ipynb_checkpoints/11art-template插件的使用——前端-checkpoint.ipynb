{
 "cells": [
  {
   "cell_type": "markdown",
   "metadata": {},
   "source": [
    "# art-template\n",
    "- 导入它文件夹中的art-template\\lib\\template-web.js到项目中\n",
    "- art-template 是一个简约、超快的模板引擎。\n",
    "- 它采用作用域预声明的技术来优化模板渲染速度，从而获得接近 JavaScript 极限的运行性能\n",
    "        rt-template 同时支持两种模板语法。标准语法可以让模板更容易读写；原始语法具有强大的逻辑处理能力。\n",
    "\n",
    "        标准语法\n",
    "\n",
    "        {{if user}}\n",
    "          <h2>{{user.name}}</h2>\n",
    "        {{/if}}\n",
    "        原始语法\n",
    "\n",
    "        <% if (user) { %>\n",
    "          <h2><%= user.name %></h2>\n",
    "        <% } %>\n",
    "        原始语法兼容 EJS、Underscore、LoDash 模板。\n",
    "\n",
    "        渲染模板\n",
    "        var template = require('art-template');\n",
    "        var html = template(__dirname + '/tpl-user.art', {\n",
    "            user: {\n",
    "                name: 'aui'\n",
    "            }\n",
    "        });\n",
    "        核心方法\n",
    "        // 基于模板名渲染模板\n",
    "        template(filename, data);\n",
    "\n",
    "        // 将模板源代码编译成函数\n",
    "        template.compile(source, options);\n",
    "\n",
    "        // 将模板源代码编译成函数并立刻执行\n",
    "        template.render(source, data, options);"
   ]
  }
 ],
 "metadata": {
  "kernelspec": {
   "display_name": "Python 3",
   "language": "python",
   "name": "python3"
  },
  "language_info": {
   "codemirror_mode": {
    "name": "ipython",
    "version": 3
   },
   "file_extension": ".py",
   "mimetype": "text/x-python",
   "name": "python",
   "nbconvert_exporter": "python",
   "pygments_lexer": "ipython3",
   "version": "3.7.3"
  }
 },
 "nbformat": 4,
 "nbformat_minor": 2
}
