{
 "cells": [
  {
   "cell_type": "markdown",
   "metadata": {},
   "source": [
    "# 装饰器的名称器用法\n",
    "- 1.from django.views.decorators.http import require_POST, require_GET, require_http_methods\n",
    "    - 最简单的两种装饰器，要求请求方法是对应的才可进行访问，前两个无需传递参数\n",
    "    - 使用：@require_http_methods(['get', 'post'])，这个传递的是列表\n",
    "- 2.from django.utils.decorators import method_decorator\n",
    "    - 用来装饰类的装饰器\n",
    "    - 使用：method_decorator(\"普通的装饰方法\", name=)\n",
    "        - 'obj'可以是类或函数。如果'obj'在传递给_dec时是一个函数，那么它最终将成为定义它的类的一个方法。如果'obj'是一个类，'name'必须是将要装饰的方法的名称。\n",
    "        - 举例：如果装饰的是类，一般这样用：@method_decorator(require_POST, name=\"dispatch\")，\n",
    "- 3.from django.contrib.admin.views.decorators import staff_member_required\n",
    "    - 要求用户必须是员工才可访问，否则就跳转到某个页面\n",
    "    - 使用：@staff_member_required(login_url=\"index\"),login_url表示如果用户不是员工就要跳转到的那个页面，index是定义path中定义的name名字\n",
    "- 4.from django.contrib.auth.decorators import permission_required,login_required\n",
    "    - permission_required:只有某些权限才能访问\n",
    "        - 使用：第一个参数表示权限列表，第二个参数表示如果没有权限就跳转到那个网址，permission_required(perm=['news.change_news', 'news.view_news'], login_url='/')\n",
    "    - login_required:只能登录才能访问\n",
    "- 4.自定义的装饰器\n",
    "        from utlis import restful\n",
    "        from django.shortcuts import redirect\n",
    "        from django.http import Http404\n",
    "\n",
    "        # 要求登录才可访问\n",
    "        def xfz_login_required(func):\n",
    "            def wrapper(request, *args, **kwargs):\n",
    "                if request.user.is_authenticated:\n",
    "                    return func(request, *args, **kwargs)\n",
    "                else:\n",
    "                    if request.is_ajax():\n",
    "                        return restful.unauth(message=\"请先登录\")\n",
    "                    else:\n",
    "                        return redirect(\"/\")\n",
    "            return wrapper\n",
    "\n",
    "\n",
    "        # 定义超级用户才能访问某些页面\n",
    "        def superuser_login_required(func):\n",
    "            def wrapper(request, *args, **kwargs):\n",
    "                if request.user.is_superuser:\n",
    "                    return func(request, *args, **kwargs)\n",
    "                else:\n",
    "                    raise Http404\n",
    "            return wrapper"
   ]
  }
 ],
 "metadata": {
  "kernelspec": {
   "display_name": "Python 3",
   "language": "python",
   "name": "python3"
  },
  "language_info": {
   "codemirror_mode": {
    "name": "ipython",
    "version": 3
   },
   "file_extension": ".py",
   "mimetype": "text/x-python",
   "name": "python",
   "nbconvert_exporter": "python",
   "pygments_lexer": "ipython3",
   "version": "3.7.3"
  }
 },
 "nbformat": 4,
 "nbformat_minor": 2
}
