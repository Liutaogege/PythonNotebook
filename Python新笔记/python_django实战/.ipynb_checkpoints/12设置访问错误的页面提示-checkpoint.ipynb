{
 "cells": [
  {
   "cell_type": "markdown",
   "metadata": {},
   "source": [
    "- 首页在settings中如下设置：\n",
    "        DEBUG = False\n",
    "        ALLOWED_HOSTS = [\"127.0.0.1\"]\n",
    "- 其次在templates文件中设置各种以错误码为名的HTML文件，比如404.html，然后使用时引入：form django.http import Http404,若想返回404错误，用raise Http404即可"
   ]
  }
 ],
 "metadata": {
  "kernelspec": {
   "display_name": "Python 3",
   "language": "python",
   "name": "python3"
  },
  "language_info": {
   "codemirror_mode": {
    "name": "ipython",
    "version": 3
   },
   "file_extension": ".py",
   "mimetype": "text/x-python",
   "name": "python",
   "nbconvert_exporter": "python",
   "pygments_lexer": "ipython3",
   "version": "3.7.3"
  }
 },
 "nbformat": 4,
 "nbformat_minor": 2
}
