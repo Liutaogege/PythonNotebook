{
 "cells": [
  {
   "cell_type": "raw",
   "metadata": {},
   "source": [
    "2、后端代码实现：\n",
    "　1）在views视图中新建 video_token 函数，用于生成视频云视频播放的token\n",
    "\n",
    "# courses/views.py\n",
    "\n",
    "from xfz import settings\n",
    "import time\n",
    "import os\n",
    "import hmac\n",
    "import hashlib\n",
    "from django.http import JsonResponse\n",
    "\n",
    "def video_token(request):\n",
    "    \"\"\"百度云 音视频点播\"\"\"\n",
    "    # video：是视频文件的完整链接\n",
    "    file = request.GET.get('video')\n",
    "\n",
    "    course_id = request.GET.get('course_id')\n",
    "    # if not CourseOrder.objects.filter(course_id=course_id,buyer=request.user,status=2).exists():\n",
    "    #     return restful.params_error(message='请先购买课程！')\n",
    "\n",
    "    expiration_time = int(time.time()) + 2 * 60 * 60   # token过期时间2个钟\n",
    "\n",
    "    USER_ID = settings.BAIDU_CLOUD_USER_ID    # user_id\n",
    "    USER_KEY = settings.BAIDU_CLOUD_USER_KEY   # user_key\n",
    "\n",
    "    # file=http://hemvpc6ui1kef2g0dd2.exp.bcevod.com/mda-igjsr8g7z7zqwnav/mda-igjsr8g7z7zqwnav.m3u8\n",
    "    extension = os.path.splitext(file)[1]    # 将文件名与拓展名分开，extension：.m3u8\n",
    "    media_id = file.split('/')[-1].replace(extension, '')   # 以'/'分割，取最后一个，并将拓展名替换成空。media_id：mda-igjsr8g7z7zqwnav\n",
    "\n",
    "    # unicode->bytes=unicode.encode('utf-8')bytes\n",
    "    key = USER_KEY.encode('utf-8')   # unicode 转 bytes\n",
    "    message = '/{0}/{1}'.format(media_id, expiration_time).encode('utf-8')\n",
    "    signature = hmac.new(key, message, digestmod=hashlib.sha256).hexdigest()\n",
    "    token = '{0}_{1}_{2}'.format(signature, USER_ID, expiration_time)\n",
    "    return JsonResponse({\"status\": True, \"token\": token})\n",
    " \n",
    "\n",
    "　2）settings.py：\n",
    "\n",
    "# 百度云视频的配置\n",
    "# 控制台->用户中心->用户ID\n",
    "BAIDU_CLOUD_USER_ID = '******'\n",
    "# 点播VOD->全局设置->发布设置->安全设置->UserKey\n",
    "BAIDU_CLOUD_USER_KEY = '*******'\n",
    " \n",
    "\n",
    "　3）urls.py：\n",
    "\n",
    "from django.urls import path\n",
    "from . import views\n",
    "\n",
    "urlpatterns = [\n",
    "\n",
    "    path(\"video_token\", views.video_token, name='video_token'),   # 视频播放 token\n",
    "\n",
    "\n",
    "]"
   ]
  },
  {
   "cell_type": "markdown",
   "metadata": {},
   "source": [
    "# 官网：https://console.bce.baidu.com/vod/#/vod/media/list"
   ]
  },
  {
   "cell_type": "code",
   "execution_count": 1,
   "metadata": {},
   "outputs": [
    {
     "ename": "SyntaxError",
     "evalue": "invalid character in identifier (<ipython-input-1-92d6cecf10e1>, line 1)",
     "output_type": "error",
     "traceback": [
      "\u001b[1;36m  File \u001b[1;32m\"<ipython-input-1-92d6cecf10e1>\"\u001b[1;36m, line \u001b[1;32m1\u001b[0m\n\u001b[1;33m    2）js 文件导入：\u001b[0m\n\u001b[1;37m       ^\u001b[0m\n\u001b[1;31mSyntaxError\u001b[0m\u001b[1;31m:\u001b[0m invalid character in identifier\n"
     ]
    }
   ],
   "source": [
    "　2）js 文件导入：\n",
    "\n",
    "<script src=\"{% static 'videojs/video.min.js' %}\"></script>\n",
    "<script src=\"{% static 'videojs/videojs-contrib-hls.min.js' %}\"></script>\n",
    "<script src=\"{% static 'videojs/videojs-contrib-quality-levels.min.js' %}\"></script>\n",
    "<script type=\"text/javascript\" src=\"https://cdn.bdstatic.com/jwplayer/latest/cyberplayer.js\"></script>\n",
    "// js代码实现\n",
    "CourseDetail.prototype.initPlayer = function () {\n",
    "    let videoInfoSpan = $(\"#video-info\");\n",
    "    let video_url = videoInfoSpan.attr(\"video-url\");\n",
    "    let cover_thumbnail = videoInfoSpan.attr(\"cover-thumbnail\");\n",
    "    let player = cyberplayer(\"playercontainer\").setup({\n",
    "        width: '100%',\n",
    "        height: '100%',\n",
    "        file: video_url,\n",
    "        image: cover_thumbnail,\n",
    "        autostart: false,\n",
    "        repeat: false,\n",
    "        stretching: \"uniform\",\n",
    "        volume: 100,\n",
    "        controls: true,\n",
    "        tokenEncrypt: true,\n",
    "        ak: \"8098136400f540dbaf14ac7220004466\"\n",
    "    });\n",
    "    player.on('beforePlay', function (e) {\n",
    "        if(!/m3u8/.test(e.file)) {\n",
    "            return;\n",
    "        }\n",
    "        xfzAjax.get({\n",
    "            'url': '/courses/get_video_token/',\n",
    "            'data': {\n",
    "                'video': video_url\n",
    "            },\n",
    "            'success': function (result) {\n",
    "                if(result['code'] === 200) {\n",
    "                    let token = result['data']['token'];\n",
    "                    player.setToken(e.file, token);\n",
    "                }else{\n",
    "                    alert(\"token错误\");\n",
    "                }\n",
    "            },\n",
    "            'fail': function (error) {\n",
    "                player.stop();\n",
    "                console.log(error);\n",
    "            }\n",
    "\n",
    "        })\n",
    "    })\n",
    "}"
   ]
  },
  {
   "cell_type": "code",
   "execution_count": null,
   "metadata": {},
   "outputs": [],
   "source": [
    "# HTML代码实现\n",
    "<div class=\"up-wrapper\">\n",
    "                <div class=\"video-name\">{{ course.intro|safe }}</div>\n",
    "                <span class=\"share-group\">分享至：</span>\n",
    "                <div class=\"video-box\">\n",
    "                    <span id=\"video-info\" hidden video-url={{ course.video_url }} cover-thumbnail={{ course.cover_thumbnail }}></span>\n",
    "                    <div id=\"playercontainer\"></div>\n",
    "                </div>\n",
    "            </div>"
   ]
  }
 ],
 "metadata": {
  "kernelspec": {
   "display_name": "Python 3",
   "language": "python",
   "name": "python3"
  },
  "language_info": {
   "codemirror_mode": {
    "name": "ipython",
    "version": 3
   },
   "file_extension": ".py",
   "mimetype": "text/x-python",
   "name": "python",
   "nbconvert_exporter": "python",
   "pygments_lexer": "ipython3",
   "version": "3.7.3"
  }
 },
 "nbformat": 4,
 "nbformat_minor": 2
}
