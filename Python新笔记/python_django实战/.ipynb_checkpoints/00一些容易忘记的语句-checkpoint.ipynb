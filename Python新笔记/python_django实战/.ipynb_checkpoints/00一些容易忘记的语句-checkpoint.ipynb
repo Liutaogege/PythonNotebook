{
 "cells": [
  {
   "cell_type": "markdown",
   "metadata": {},
   "source": [
    "### request.build_absolute_uri的使用\n",
    "- reverse解析得到的是courses/notify_view\n",
    "- request.build_absolute_uri(reverse(\"course:notify_view\")),这种方法得到的是一个绝对的完整的路径\n",
    "\n",
    "### reverse传递参数\n",
    "- reverse(\"cms:index\", kwargs={\"p\": 3})\n",
    "\n",
    "### ajax的post请求和get请求还有一点区别是get请求传递的参数量有限，post能够传递的更多\n",
    "\n",
    "\n",
    "### 关闭csrf保护的装饰器\n",
    "- from django.views.decorators.csrf import csrf_exempt\n",
    "- @csrf_exempt\n",
    "\n",
    "\n",
    "### 一定要记住：\n",
    "- 创建模型时不能使用desc为模型字段名，否则即使创建成功后，在使用原生sql语句插入数据时会报错"
   ]
  }
 ],
 "metadata": {
  "kernelspec": {
   "display_name": "Python 3",
   "language": "python",
   "name": "python3"
  },
  "language_info": {
   "codemirror_mode": {
    "name": "ipython",
    "version": 3
   },
   "file_extension": ".py",
   "mimetype": "text/x-python",
   "name": "python",
   "nbconvert_exporter": "python",
   "pygments_lexer": "ipython3",
   "version": "3.7.3"
  }
 },
 "nbformat": 4,
 "nbformat_minor": 2
}
