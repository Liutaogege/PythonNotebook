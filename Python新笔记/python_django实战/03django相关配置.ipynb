{
 "cells": [
  {
   "cell_type": "markdown",
   "metadata": {},
   "source": [
    "# django配置工作\n",
    "- 1.配置数据库\n",
    "- 2.配置好模板文件\n",
    "- 3.配置好静态文件\n",
    "- 4.配置好时区\n",
    "- 5.配置模板的static过滤器\n",
    "\n",
    "## 关于用户系统\n",
    "- 1.使用django内置的user系统\n",
    "- 2.需要重新定制\n",
    "- 3.前后台使用的是同一个user系统\n",
    "\n",
    "## 自定义user模型\n",
    "- 1.创建一个xfzauth的APP，用来管理用户系统\n",
    "- 2.全部重写，继承自AbstractBaseUser\n",
    "- 3.定义UserManager\n",
    "- 4.设置AUHT_USER_MODEL\n",
    "- 5.映射到数据库中\n",
    "\n",
    "\n",
    "## 编写登录的逻辑\n",
    "- 1.因为共用一个账号，所以只要一个登录界面，所以只要一个登录界面就可以了，cms的登录界面目前为止完全是为了测试，后期全部都使用之前写好的登录界面\n",
    "- 2.因为登录界面是一个模态对话框，所以应该使用ajax请求，因此登录的视图函数应该使用json进行交互\n",
    "- 3.把所有的登录逻辑都写在xfz_auth这个APP的视图中\n"
   ]
  }
 ],
 "metadata": {
  "kernelspec": {
   "display_name": "Python 3",
   "language": "python",
   "name": "python3"
  },
  "language_info": {
   "codemirror_mode": {
    "name": "ipython",
    "version": 3
   },
   "file_extension": ".py",
   "mimetype": "text/x-python",
   "name": "python",
   "nbconvert_exporter": "python",
   "pygments_lexer": "ipython3",
   "version": "3.7.3"
  }
 },
 "nbformat": 4,
 "nbformat_minor": 2
}
