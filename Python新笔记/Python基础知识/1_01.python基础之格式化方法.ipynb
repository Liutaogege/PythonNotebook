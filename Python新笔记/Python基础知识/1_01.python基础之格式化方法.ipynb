{
 "cells": [
  {
   "cell_type": "markdown",
   "metadata": {},
   "source": [
    "# print格式化"
   ]
  },
  {
   "cell_type": "code",
   "execution_count": 3,
   "metadata": {},
   "outputs": [
    {
     "name": "stdout",
     "output_type": "stream",
     "text": [
      "I love you so much            这是测站位符的啊\n",
      "I love you so much------------\n",
      "            I love you so much\n",
      "------------I love you so much\n",
      "------I love you so much------\n",
      "1,234,533\n",
      "我-爱-你\n"
     ]
    }
   ],
   "source": [
    "# 文本对齐：输出占位符\n",
    "text = \"I love you so much\"\n",
    "print(text.ljust(30), end=\"\")\n",
    "print(\"这是测站位符的啊\")\n",
    "print(text.ljust(30, '-'))\n",
    "\n",
    "\n",
    "print(text.rjust(30, \" \"))\n",
    "print(text.rjust(30, \"-\"))\n",
    "\n",
    "\n",
    "print(text.center(30, \"-\"))\n",
    "\n",
    "\n",
    "words = {\"我\", \"爱\", \"你\"}\n",
    "print(*words, sep=\"-\")"
   ]
  },
  {
   "cell_type": "markdown",
   "metadata": {},
   "source": [
    "# print的其他用法"
   ]
  },
  {
   "cell_type": "code",
   "execution_count": 14,
   "metadata": {},
   "outputs": [
    {
     "name": "stdout",
     "output_type": "stream",
     "text": [
      "my name is liutao\n",
      "my name is liutao\n",
      "\n",
      "line1\n",
      "line2\n",
      "line3\n"
     ]
    }
   ],
   "source": [
    "name = \"liutao\"\n",
    "\n",
    "# f-string输出法\n",
    "print(f\"my name is {name}\")\n",
    "\n",
    "# format_map在变量中去寻找name这个变量,没找到则报错\n",
    "print(\"my name is {name}\".format_map(vars())) \n",
    "\n",
    "#r表示不转义\n",
    "print(r\"\"\"\n",
    "line1\n",
    "line2\n",
    "line3\"\"\") \n",
    "\n",
    "# 将打印输出到文件中:\n",
    "#注意确保文件是以文本模式打开的\n",
    "import os\n",
    "os.chdir(r\"C:\\Users\\acer\\Desktop\")\n",
    "with open(r\"test.txt\", \"w+\") as f:\n",
    "    print(\"hello world\", file=f)"
   ]
  },
  {
   "cell_type": "markdown",
   "metadata": {},
   "source": [
    "# format格式化\n"
   ]
  },
  {
   "cell_type": "code",
   "execution_count": 18,
   "metadata": {},
   "outputs": [
    {
     "name": "stdout",
     "output_type": "stream",
     "text": [
      "            I love you so much\n",
      "I love you so much            \n",
      "------------I love you so much\n",
      "I love you so much------------\n",
      "------I love you so much------\n",
      "------------I love you so much\n",
      "I love you so much            done\n",
      "1,234,533\n",
      "1,314,520\n",
      "1314520.52\n",
      "1.314521e+06\n",
      "1.32e+05\n"
     ]
    },
    {
     "ename": "TypeError",
     "evalue": "unsupported format string passed to list.__format__",
     "output_type": "error",
     "traceback": [
      "\u001b[1;31m---------------------------------------------------------------------------\u001b[0m",
      "\u001b[1;31mTypeError\u001b[0m                                 Traceback (most recent call last)",
      "\u001b[1;32m<ipython-input-18-6a4652bf307a>\u001b[0m in \u001b[0;36m<module>\u001b[1;34m\u001b[0m\n\u001b[0;32m     18\u001b[0m \u001b[0mprint\u001b[0m\u001b[1;33m(\u001b[0m\u001b[0mformat\u001b[0m\u001b[1;33m(\u001b[0m\u001b[1;36m1314520.5201314\u001b[0m\u001b[1;33m,\u001b[0m \u001b[1;34m\"e\"\u001b[0m\u001b[1;33m)\u001b[0m\u001b[1;33m)\u001b[0m\u001b[1;33m\u001b[0m\u001b[1;33m\u001b[0m\u001b[0m\n\u001b[0;32m     19\u001b[0m \u001b[0mprint\u001b[0m\u001b[1;33m(\u001b[0m\u001b[0mformat\u001b[0m\u001b[1;33m(\u001b[0m\u001b[1;36m132334.9348\u001b[0m\u001b[1;33m,\u001b[0m \u001b[1;34m\"0.2e\"\u001b[0m\u001b[1;33m)\u001b[0m\u001b[1;33m)\u001b[0m\u001b[1;33m\u001b[0m\u001b[1;33m\u001b[0m\u001b[0m\n\u001b[1;32m---> 20\u001b[1;33m \u001b[0mprint\u001b[0m\u001b[1;33m(\u001b[0m\u001b[0mformat\u001b[0m\u001b[1;33m(\u001b[0m\u001b[1;33m[\u001b[0m\u001b[1;34m'I'\u001b[0m\u001b[1;33m,\u001b[0m \u001b[1;34m'love'\u001b[0m\u001b[1;33m,\u001b[0m \u001b[1;34m'you'\u001b[0m\u001b[1;33m]\u001b[0m\u001b[1;33m,\u001b[0m \u001b[1;34m'-'\u001b[0m\u001b[1;33m)\u001b[0m\u001b[1;33m)\u001b[0m\u001b[1;33m\u001b[0m\u001b[1;33m\u001b[0m\u001b[0m\n\u001b[0m\u001b[0;32m     21\u001b[0m \u001b[0mhelp\u001b[0m\u001b[1;33m(\u001b[0m\u001b[0mformat\u001b[0m\u001b[1;33m)\u001b[0m\u001b[1;33m\u001b[0m\u001b[1;33m\u001b[0m\u001b[0m\n",
      "\u001b[1;31mTypeError\u001b[0m: unsupported format string passed to list.__format__"
     ]
    }
   ],
   "source": [
    "# 利用format实现占位符\n",
    "text = \"I love you so much\"\n",
    "print(format(text, \">30\")) #向右移动30格\n",
    "print(format(text, \"<30\")) #向左移动30格\n",
    "print(format(text, \"->30\")) #向右移动30格填充\n",
    "print(format(text, \"-<30\")) #向左移动30格并填充\n",
    "print(format(text, \"-^30\"))  # 中心对齐\n",
    "print(\"{:->30}\".format(text))\n",
    "print(\"{0:30}\".format(text), end=\"done\") #控制输出的宽度\n",
    "print()\n",
    "\n",
    "#（4）逗号,<格式控制标记>中用于显示数字的千位分隔符，例如：\n",
    "print(\"{:,}\".format(1234533))\n",
    "print(format(1314520, \",\"))\n",
    "print(format(1314520.5201314, \".2f\"))\n",
    "\n",
    "# 科学计数法\n",
    "print(format(1314520.5201314, \"e\"))\n",
    "print(format(132334.9348, \"0.2e\"))\n"
   ]
  },
  {
   "cell_type": "code",
   "execution_count": 4,
   "metadata": {},
   "outputs": [
    {
     "ename": "SyntaxError",
     "evalue": "invalid syntax (<ipython-input-4-0d86bee4d947>, line 3)",
     "output_type": "error",
     "traceback": [
      "\u001b[1;36m  File \u001b[1;32m\"<ipython-input-4-0d86bee4d947>\"\u001b[1;36m, line \u001b[1;32m3\u001b[0m\n\u001b[1;33m    print(\"{:0>4}\".format(d))xxxxxxxxxxxxx\u001b[0m\n\u001b[1;37m                                         ^\u001b[0m\n\u001b[1;31mSyntaxError\u001b[0m\u001b[1;31m:\u001b[0m invalid syntax\n"
     ]
    }
   ],
   "source": [
    "d = 23\n",
    "print(format(d, \"0>4\"))\n",
    "print(\"{:0>4}\".format(d))"
   ]
  },
  {
   "cell_type": "code",
   "execution_count": 5,
   "metadata": {},
   "outputs": [
    {
     "name": "stdout",
     "output_type": "stream",
     "text": [
      "22.30\n"
     ]
    }
   ],
   "source": [
    "# format格式化小数\n",
    "b = 22.29873\n",
    "print(\"{:.2f}\".format(b))"
   ]
  },
  {
   "cell_type": "markdown",
   "metadata": {},
   "source": [
    "# textwrap"
   ]
  },
  {
   "cell_type": "code",
   "execution_count": null,
   "metadata": {},
   "outputs": [],
   "source": [
    "\n",
    "#以固定的列数重新格式化文本\n",
    "import textwrap\n",
    "\n",
    "s = \"I love you, but you will never know, I know, whatever how deep I love you, you still do not care me\"\n",
    "print(textwrap.fill(s, 40, initial_indent=\" \",subsequent_indent=\" \"))"
   ]
  },
  {
   "cell_type": "code",
   "execution_count": null,
   "metadata": {},
   "outputs": [],
   "source": []
  }
 ],
 "metadata": {
  "kernelspec": {
   "display_name": "Python 3",
   "language": "python",
   "name": "python3"
  },
  "language_info": {
   "codemirror_mode": {
    "name": "ipython",
    "version": 3
   },
   "file_extension": ".py",
   "mimetype": "text/x-python",
   "name": "python",
   "nbconvert_exporter": "python",
   "pygments_lexer": "ipython3",
   "version": "3.8.5"
  }
 },
 "nbformat": 4,
 "nbformat_minor": 2
}
