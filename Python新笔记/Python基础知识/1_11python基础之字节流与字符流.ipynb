{
 "cells": [
  {
   "cell_type": "markdown",
   "metadata": {},
   "source": [
    "# 字节流与字符串\n",
    "- 字节：由8个01代码组成，在Python中表示字节要在前面加上b,如：b'abc',可用  b\"\\数值\"  表示单个字符\n",
    "- 字节流:主要用于二进制数据，网络传输数据方面，形式：01代码\n",
    "- 字符串：用于文本文件，用户IO方面\n",
    "\n",
    "## 字符串转换为字节流\n",
    "- bytes(str, encoding='utf-8')\n",
    "- 编码：简而言之就是一个字符用二进制表示\n",
    "- 注意：bytes()同str()一样,是一个类，而不是一个方法。而bytes很像str，因此他们的很多函数方法都相同\n",
    "- bytes中有一个decode方法，将字节流解码为字符串；而str中有一个encode方法将字符串编码为字节\n",
    "    - 字节流解码：bt.decode()\n",
    "    - 字符串编码：str.encode()"
   ]
  },
  {
   "cell_type": "code",
   "execution_count": 1,
   "metadata": {},
   "outputs": [
    {
     "name": "stdout",
     "output_type": "stream",
     "text": [
      "b'\\r'\n",
      "b'5'\n",
      "<class 'bytes'>\n",
      "b'\\xe6\\x88\\x91\\xe7\\x88\\xb1\\xe4\\xbd\\xa0'\n",
      "我爱你\n"
     ]
    }
   ],
   "source": [
    "print(b'\\15')\n",
    "print(b'\\65')\n",
    "print(type(b'\\64'))\n",
    "print(bytes(\"我爱你\", encoding='utf-8'))\n",
    "print(bytes(\"我爱你\", encoding='utf-8').decode())"
   ]
  },
  {
   "cell_type": "code",
   "execution_count": null,
   "metadata": {},
   "outputs": [],
   "source": [
    "a='你好'\n",
    "a_b=a.encode('utf-8')\n",
    "# 其实x**本质上就是16进制的表示方法，只是一种简写而已\n",
    "print(a_b)\n",
    "for i in a_b:\n",
    "    print(\"16进制表示为为：\",i)\n",
    "for i in a_b:\n",
    "    print(\"二进制表示为：\",bin(i))"
   ]
  },
  {
   "cell_type": "code",
   "execution_count": 2,
   "metadata": {},
   "outputs": [
    {
     "name": "stdout",
     "output_type": "stream",
     "text": [
      "请输入你要编码的字符：我喜欢你啊\n",
      "11100110 10001000 10010001 11100101 10010110 10011100 11100110 10101100 10100010 11100100 10111101 10100000 11100101 10010101 10001010\n"
     ]
    }
   ],
   "source": [
    "# 实现字符串用二进制表示\n",
    "string = input(\"请输入你要编码的字符：\")\n",
    "def calculating(string):\n",
    "    result = \" \".join([bin(i).replace(\"0b\", \"\") for i in string.encode(\"utf-8\")])\n",
    "    print(result)\n",
    "\n",
    "if __name__ == \"__main__\":\n",
    "    calculating(string)"
   ]
  },
  {
   "cell_type": "code",
   "execution_count": 6,
   "metadata": {},
   "outputs": [
    {
     "name": "stdout",
     "output_type": "stream",
     "text": [
      "230\n"
     ]
    }
   ],
   "source": [
    "print(int(\"11100110\", 2))"
   ]
  }
 ],
 "metadata": {
  "kernelspec": {
   "display_name": "Python 3",
   "language": "python",
   "name": "python3"
  },
  "language_info": {
   "codemirror_mode": {
    "name": "ipython",
    "version": 3
   },
   "file_extension": ".py",
   "mimetype": "text/x-python",
   "name": "python",
   "nbconvert_exporter": "python",
   "pygments_lexer": "ipython3",
   "version": "3.7.3"
  }
 },
 "nbformat": 4,
 "nbformat_minor": 2
}
