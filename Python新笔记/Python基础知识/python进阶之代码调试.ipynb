{
 "cells": [
  {
   "cell_type": "markdown",
   "metadata": {},
   "source": [
    "# 调试\n",
    "- 调试步骤：单元调试>集成测试>交测试部\n",
    "- 分类：\n",
    "    - 动态调试\n",
    "    - 静态调试\n",
    "# pdb调试\n",
    "- Python自带的测试包，一种交互的源代码调试功能\n",
    "- 使用：使用时需要import pdb\n",
    "- 常用属性\n",
    "    - pdb.set_trace()：设置断点\n",
    "    - (Pdb) n :进入下一步\n",
    "    - （Pdb）list：打印运行的的代码\n",
    "    - （Pdb）p b：打印变量\n",
    "    - （Pdb）s：进入函数\n",
    "    - （Pdb）！b=\"afdfd\"！：童泰改变变量值\n",
    "    - （Pdb）q：退出\n",
    "            参数\t                  说明\t                         示例\n",
    "            h(elp) [command]\t        帮助文档\t                  h b： 查看 b 命令的文档\n",
    "            l(ist) [first[, last]]\t列出当前或范围周围代码\t              l 5, 20： 列出5到20行代码\n",
    "            l： 查看当前位置的代码\n",
    "            b(reak) [[ filename: ] lineno | function [, condition ]]\t 打断点\t  b 5： （给第5行打断点）\n",
    "            b function_name：（当前文件函数名为 function_name 的函数打断点)\n",
    "            b test1.A.add：    在 import test1 文件的 A 类的 add 方法打断点\n",
    "            b A.add：         在 A 类的 add 方法打断点\n",
    "            w(here)\t            查看当前执行的位置\t                 w\n",
    "            tbreak [[ filename: ] lineno | function [, condition ]]\t设置临时断点，运行完毕后会删除这个断点\t设置方法和 b 一样\n",
    "            cl(ear) [filename:lineno | bpnumber [bpnumber …]]\t  清除断点\t         cl：清除所有断点\n",
    "            cl 2：            清除断点列表中第2个断点\n",
    "            cl test.py:18：     清除 test.py 文件的第18行的断点\n",
    "            cl test1:18：      清除 import test1 文件的第18行断点\n",
    "            disable [bpnumber [bpnumber …]]\t 停用断点\t                      用法和 cl 一样\n",
    "            enable [bpnumber [bpnumber …]]\t启动断点\t                      用法和 cl 一样\n",
    "            ignore bpnumber [count]\t忽略某个断点几次\t   ignore 1 3：忽略断点列表中第1个断点3次，一般循环中用，可以查看下面 忽略断点示例\n",
    "            condition bpnumber [condition]\t给断点设置条件\t          condition 1 i==4：当断点列表中第1个断点中变量 i 等于 4 的时候执行断点\n",
    "            commands [bpnumber]\t给断点写一个脚本执行\t 查看下面 断点脚本示例\n",
    "            s(tep)\t执行下一条命令，如果本句是函数调用，则 s 会执行到函数的第一句\t示例参考下面的 s 执行效果示例\n",
    "            n(ext)\t执行下一条语句，如果本句是函数调用，则执行函数，接着执行当前执行语句的下一条。\t示例参考下面的 n 执行效果示例\n",
    "            unt(il)\t执行到下一行\t参考下面 unt 执行效果\n",
    "            r(eturn)\t执行当前运行函数到结束\t\n",
    "            c(ontinue)\t继续执行，直到遇到下一条断点\t\n",
    "            j(ump) lineno\t跳转至指定程序行（如果是前行，则忽略中间行代码。如果是后退，状态重设为回退行状态）\t：是跳转到不是执行。示例：j 执行效果\n",
    "            a(rgs)\t显示当前所有变量\t\n",
    "            p expression\t打印出当前所在函数中的变量或表达式结果\tp params：打印 params 参数\n",
    "            pp expression\t格式化打印出来的结果\tpp params：打印 params 参数\n",
    "            alias [name [command]]\t自定义一个函数，参数可由％1，％2来表示，类似 Python 的 lambda\t用法参考 定义临时函数\n",
    "            unalias name\t删掉别名函数\tunalias name\n",
    "            run [args …]\t重新执行\t\n",
    "            q\t退出\t\n",
    "链接：https://www.jianshu.com/p/8e5fb5fe0931\n"
   ]
  },
  {
   "cell_type": "code",
   "execution_count": null,
   "metadata": {},
   "outputs": [],
   "source": []
  },
  {
   "cell_type": "code",
   "execution_count": 1,
   "metadata": {},
   "outputs": [
    {
     "name": "stdout",
     "output_type": "stream",
     "text": [
      "learning\n",
      "--Return--\n",
      "> <ipython-input-1-2ae512de95e7>(8)<module>()->None\n",
      "-> pdb.set_trace()\n",
      "(Pdb) a\n",
      "(Pdb) list\n",
      "  3  \t    hobby = \"learning\"\n",
      "  4  \t    def learning(self):\n",
      "  5  \t        return \"Don't study for study\"\n",
      "  6  \ta = Student()\n",
      "  7  \tprint(a.hobby)\n",
      "  8  ->\tpdb.set_trace()\n",
      "  9  \tprint(a.learning())\n",
      "[EOF]\n",
      "(Pdb) s\n",
      "> e:\\users\\acer\\anaconda3\\lib\\site-packages\\ipython\\core\\interactiveshell.py(3329)run_code()\n",
      "-> sys.excepthook = old_excepthook\n",
      "(Pdb) list\n",
      "3324 \t                    await eval(code_obj, self.user_global_ns, self.user_ns)\n",
      "3325 \t                else:\n",
      "3326 \t                    exec(code_obj, self.user_global_ns, self.user_ns)\n",
      "3327 \t            finally:\n",
      "3328 \t                # Reset our crash handler in place\n",
      "3329 ->\t                sys.excepthook = old_excepthook\n",
      "3330 \t        except SystemExit as e:\n",
      "3331 \t            if result is not None:\n",
      "3332 \t                result.error_in_exec = e\n",
      "3333 \t            self.showtraceback(exception_only=True)\n",
      "3334 \t            warn(\"To exit: use 'exit', 'quit', or Ctrl-D.\", stacklevel=1)\n",
      "(Pdb) q\n"
     ]
    },
    {
     "ename": "BdbQuit",
     "evalue": "",
     "output_type": "error",
     "traceback": [
      "\u001b[1;31m---------------------------------------------------------------------------\u001b[0m",
      "\u001b[1;31mBdbQuit\u001b[0m                                   Traceback (most recent call last)",
      "\u001b[1;32me:\\Users\\acer\\Anaconda3\\lib\\site-packages\\IPython\\core\\interactiveshell.py\u001b[0m in \u001b[0;36mrun_code\u001b[1;34m(self, code_obj, result, async_)\u001b[0m\n\u001b[0;32m   3327\u001b[0m             \u001b[1;32mfinally\u001b[0m\u001b[1;33m:\u001b[0m\u001b[1;33m\u001b[0m\u001b[1;33m\u001b[0m\u001b[0m\n\u001b[0;32m   3328\u001b[0m                 \u001b[1;31m# Reset our crash handler in place\u001b[0m\u001b[1;33m\u001b[0m\u001b[1;33m\u001b[0m\u001b[1;33m\u001b[0m\u001b[0m\n\u001b[1;32m-> 3329\u001b[1;33m                 \u001b[0msys\u001b[0m\u001b[1;33m.\u001b[0m\u001b[0mexcepthook\u001b[0m \u001b[1;33m=\u001b[0m \u001b[0mold_excepthook\u001b[0m\u001b[1;33m\u001b[0m\u001b[1;33m\u001b[0m\u001b[0m\n\u001b[0m\u001b[0;32m   3330\u001b[0m         \u001b[1;32mexcept\u001b[0m \u001b[0mSystemExit\u001b[0m \u001b[1;32mas\u001b[0m \u001b[0me\u001b[0m\u001b[1;33m:\u001b[0m\u001b[1;33m\u001b[0m\u001b[1;33m\u001b[0m\u001b[0m\n\u001b[0;32m   3331\u001b[0m             \u001b[1;32mif\u001b[0m \u001b[0mresult\u001b[0m \u001b[1;32mis\u001b[0m \u001b[1;32mnot\u001b[0m \u001b[1;32mNone\u001b[0m\u001b[1;33m:\u001b[0m\u001b[1;33m\u001b[0m\u001b[1;33m\u001b[0m\u001b[0m\n",
      "\u001b[1;32me:\\Users\\acer\\Anaconda3\\lib\\bdb.py\u001b[0m in \u001b[0;36mtrace_dispatch\u001b[1;34m(self, frame, event, arg)\u001b[0m\n\u001b[0;32m     86\u001b[0m             \u001b[1;32mreturn\u001b[0m \u001b[1;31m# None\u001b[0m\u001b[1;33m\u001b[0m\u001b[1;33m\u001b[0m\u001b[0m\n\u001b[0;32m     87\u001b[0m         \u001b[1;32mif\u001b[0m \u001b[0mevent\u001b[0m \u001b[1;33m==\u001b[0m \u001b[1;34m'line'\u001b[0m\u001b[1;33m:\u001b[0m\u001b[1;33m\u001b[0m\u001b[1;33m\u001b[0m\u001b[0m\n\u001b[1;32m---> 88\u001b[1;33m             \u001b[1;32mreturn\u001b[0m \u001b[0mself\u001b[0m\u001b[1;33m.\u001b[0m\u001b[0mdispatch_line\u001b[0m\u001b[1;33m(\u001b[0m\u001b[0mframe\u001b[0m\u001b[1;33m)\u001b[0m\u001b[1;33m\u001b[0m\u001b[1;33m\u001b[0m\u001b[0m\n\u001b[0m\u001b[0;32m     89\u001b[0m         \u001b[1;32mif\u001b[0m \u001b[0mevent\u001b[0m \u001b[1;33m==\u001b[0m \u001b[1;34m'call'\u001b[0m\u001b[1;33m:\u001b[0m\u001b[1;33m\u001b[0m\u001b[1;33m\u001b[0m\u001b[0m\n\u001b[0;32m     90\u001b[0m             \u001b[1;32mreturn\u001b[0m \u001b[0mself\u001b[0m\u001b[1;33m.\u001b[0m\u001b[0mdispatch_call\u001b[0m\u001b[1;33m(\u001b[0m\u001b[0mframe\u001b[0m\u001b[1;33m,\u001b[0m \u001b[0marg\u001b[0m\u001b[1;33m)\u001b[0m\u001b[1;33m\u001b[0m\u001b[1;33m\u001b[0m\u001b[0m\n",
      "\u001b[1;32me:\\Users\\acer\\Anaconda3\\lib\\bdb.py\u001b[0m in \u001b[0;36mdispatch_line\u001b[1;34m(self, frame)\u001b[0m\n\u001b[0;32m    111\u001b[0m         \u001b[1;32mif\u001b[0m \u001b[0mself\u001b[0m\u001b[1;33m.\u001b[0m\u001b[0mstop_here\u001b[0m\u001b[1;33m(\u001b[0m\u001b[0mframe\u001b[0m\u001b[1;33m)\u001b[0m \u001b[1;32mor\u001b[0m \u001b[0mself\u001b[0m\u001b[1;33m.\u001b[0m\u001b[0mbreak_here\u001b[0m\u001b[1;33m(\u001b[0m\u001b[0mframe\u001b[0m\u001b[1;33m)\u001b[0m\u001b[1;33m:\u001b[0m\u001b[1;33m\u001b[0m\u001b[1;33m\u001b[0m\u001b[0m\n\u001b[0;32m    112\u001b[0m             \u001b[0mself\u001b[0m\u001b[1;33m.\u001b[0m\u001b[0muser_line\u001b[0m\u001b[1;33m(\u001b[0m\u001b[0mframe\u001b[0m\u001b[1;33m)\u001b[0m\u001b[1;33m\u001b[0m\u001b[1;33m\u001b[0m\u001b[0m\n\u001b[1;32m--> 113\u001b[1;33m             \u001b[1;32mif\u001b[0m \u001b[0mself\u001b[0m\u001b[1;33m.\u001b[0m\u001b[0mquitting\u001b[0m\u001b[1;33m:\u001b[0m \u001b[1;32mraise\u001b[0m \u001b[0mBdbQuit\u001b[0m\u001b[1;33m\u001b[0m\u001b[1;33m\u001b[0m\u001b[0m\n\u001b[0m\u001b[0;32m    114\u001b[0m         \u001b[1;32mreturn\u001b[0m \u001b[0mself\u001b[0m\u001b[1;33m.\u001b[0m\u001b[0mtrace_dispatch\u001b[0m\u001b[1;33m\u001b[0m\u001b[1;33m\u001b[0m\u001b[0m\n\u001b[0;32m    115\u001b[0m \u001b[1;33m\u001b[0m\u001b[0m\n",
      "\u001b[1;31mBdbQuit\u001b[0m: "
     ]
    }
   ],
   "source": [
    "import pdb\n",
    "class Student():\n",
    "    hobby = \"learning\"\n",
    "    def learning(self):\n",
    "        return \"Don't study for study\"\n",
    "a = Student()\n",
    "print(a.hobby)\n",
    "pdb.set_trace()\n",
    "print(a.learning())\n"
   ]
  },
  {
   "cell_type": "markdown",
   "metadata": {},
   "source": [
    "# 其他测试方法\n",
    "## pyCharm调试\n",
    "- run/debug模式\n",
    "- 断点：程序的某一行，程序在debug模式下，遇到断点就会暂停等待下一步命令\n",
    "\n",
    "## assert：无框架测试\n",
    "- 可以直接只用assert在源代码中进行测试\n",
    "    - 做法：\n",
    "        if __name__ == \"__main__\":\n",
    "            测试代码\n",
    "\n",
    "- 特点：\n",
    "    - 单元测试\n",
    "    - 方便\n",
    "- 缺点：只能发现特殊的使用场景的错误，但隐藏的无法发现\n",
    "    - 测试用例数量较多，造成测试代码繁多\n",
    "\n",
    "## PyUnit测试框架:\n",
    "- 需要导入：import unittest\n",
    "- 测试用例必须是从unittest.TestCase派生出来的类（就是继承），测试用例就是runTest()\n",
    "- unittest.TestCase子类中所有以test开头的函数都被认为是一个测试用例，\n",
    "- 推荐测试用例以test开头，好处是可以在unittest.TestCase子类中定义多个test开头的函数，这样可以得到多个测试用例\n",
    "\n",
    "- 在IDE中运行测试用例（在Windows的cmd和pycharm的终端命令行中可行）\n",
    "    - 运行多个Python文件测试用例：python -m file.py file2.py\n",
    "    - 运行某个类下面的所有测试用例： 模块名.类名   比如：python -m unittest -v file.DemoTestCase\n",
    "    - 查看运行了哪些测试用例：python -m unittest -v file1.py file2.py\n",
    "    - 运行某个特定的测试用例：  模块名.类名.函数名   ：比如 python -m unittest -v file1.DemoTestCase.test_case_two file2.DemoTestCase.test_case_one\n",
    "    - 注意：一定要在包含它们的目录下运行\n",
    "    \n",
    "#### 生成测试报告\n",
    "- 生成xml报告\n",
    "- 进行安装：pip install unittest-xml-reporting\n",
    "- 在运行测试用例时不要使用unittest模块，而应该使用xmlrunner，二者的用法和输出大致相同，后者会生成xml报告\n",
    "    - 用法：python -m xmlrunner file\n",
    "    - 指定其输出报告文件名称(使用--output-file参数)：python -m xmlrunner --output-file report1.xml file1\n",
    "    \n",
    "- 生成HTML报告\n",
    "- 进行安装：pip install html-testRunner"
   ]
  },
  {
   "cell_type": "code",
   "execution_count": 26,
   "metadata": {},
   "outputs": [
    {
     "name": "stdout",
     "output_type": "stream",
     "text": [
      "tesing is PASS\n"
     ]
    }
   ],
   "source": [
    "# assert测试用例\n",
    "def num_sorting(input_lst):\n",
    "    input_lst.sort()\n",
    "    \n",
    "if __name__ == \"__main__\":\n",
    "    def testing():\n",
    "        input_lst = [2, 5, 8, 1, -3, -8, 0]\n",
    "        num_sorting(input_lst)\n",
    "        assert input_lst == [-8, -3, 0, 1, 2, 5, 8]\n",
    "        print(\"tesing is PASS\")\n",
    "    testing()"
   ]
  },
  {
   "cell_type": "code",
   "execution_count": 14,
   "metadata": {},
   "outputs": [
    {
     "name": "stdout",
     "output_type": "stream",
     "text": [
      "Origin list: [1, 69, -3, 8, 0, 23]\n",
      "temp 0 [-3, 1, 69, 0, 8, 23]\n",
      "temp 1 [-3, 0, 1, 69, 8, 23]\n",
      "temp 2 [-3, 0, 1, 8, 69, 23]\n",
      "temp 3 [-3, 0, 1, 8, 23, 69]\n",
      "[-3, 0, 1, 8, 23, 69]\n",
      "Origin list: []\n",
      "Invaid Input Type\n"
     ]
    },
    {
     "ename": "AssertionError",
     "evalue": "",
     "output_type": "error",
     "traceback": [
      "\u001b[1;31m---------------------------------------------------------------------------\u001b[0m",
      "\u001b[1;31mAssertionError\u001b[0m                            Traceback (most recent call last)",
      "\u001b[1;32m<ipython-input-14-5c0de348af97>\u001b[0m in \u001b[0;36m<module>\u001b[1;34m\u001b[0m\n\u001b[0;32m     42\u001b[0m         \u001b[1;32massert\u001b[0m \u001b[0moutput\u001b[0m \u001b[1;32mis\u001b[0m \u001b[1;32mNone\u001b[0m\u001b[1;33m\u001b[0m\u001b[1;33m\u001b[0m\u001b[0m\n\u001b[0;32m     43\u001b[0m         \u001b[1;32massert\u001b[0m \u001b[0moutput\u001b[0m \u001b[1;32mis\u001b[0m \u001b[1;32mnot\u001b[0m \u001b[1;32mNone\u001b[0m\u001b[1;33m\u001b[0m\u001b[1;33m\u001b[0m\u001b[0m\n\u001b[1;32m---> 44\u001b[1;33m     \u001b[0mtesting_invalid\u001b[0m\u001b[1;33m(\u001b[0m\u001b[1;33m)\u001b[0m\u001b[1;33m\u001b[0m\u001b[1;33m\u001b[0m\u001b[0m\n\u001b[0m",
      "\u001b[1;32m<ipython-input-14-5c0de348af97>\u001b[0m in \u001b[0;36mtesting_invalid\u001b[1;34m()\u001b[0m\n\u001b[0;32m     41\u001b[0m         \u001b[0moutput\u001b[0m \u001b[1;33m=\u001b[0m \u001b[0mbubble_sort\u001b[0m\u001b[1;33m(\u001b[0m\u001b[1;36m1\u001b[0m\u001b[1;33m)\u001b[0m\u001b[1;33m\u001b[0m\u001b[1;33m\u001b[0m\u001b[0m\n\u001b[0;32m     42\u001b[0m         \u001b[1;32massert\u001b[0m \u001b[0moutput\u001b[0m \u001b[1;32mis\u001b[0m \u001b[1;32mNone\u001b[0m\u001b[1;33m\u001b[0m\u001b[1;33m\u001b[0m\u001b[0m\n\u001b[1;32m---> 43\u001b[1;33m         \u001b[1;32massert\u001b[0m \u001b[0moutput\u001b[0m \u001b[1;32mis\u001b[0m \u001b[1;32mnot\u001b[0m \u001b[1;32mNone\u001b[0m\u001b[1;33m\u001b[0m\u001b[1;33m\u001b[0m\u001b[0m\n\u001b[0m\u001b[0;32m     44\u001b[0m     \u001b[0mtesting_invalid\u001b[0m\u001b[1;33m(\u001b[0m\u001b[1;33m)\u001b[0m\u001b[1;33m\u001b[0m\u001b[1;33m\u001b[0m\u001b[0m\n",
      "\u001b[1;31mAssertionError\u001b[0m: "
     ]
    }
   ],
   "source": [
    "# assert测试冒泡排序法\n",
    "def bubble_sort(lst):\n",
    "    if type(lst) is not type([]):\n",
    "        print(\"Invaid Input Type\")\n",
    "        return None\n",
    "    for x in lst:\n",
    "        if type(x) != int:\n",
    "            return None\n",
    "    length = len(lst)\n",
    "    print(\"Origin list:\", lst)\n",
    "    \n",
    "    # 没有元素或者元素仅包含一个元素，返回原列表\n",
    "    if length <= 1:\n",
    "        return lst\n",
    "    # 如果顺序不对，和旁边的元素交换顺序\n",
    "    for x in range(length-1):\n",
    "        swap_happens = False\n",
    "        for y in range(length-1, x, -1):\n",
    "            if lst[y-1] > lst[y]:\n",
    "                lst[y-1], lst[y] = lst[y], lst[y-1]\n",
    "                swap_happens = True\n",
    "        if swap_happens == False:\n",
    "            break\n",
    "        print(\"temp {}\".format(x), lst)\n",
    "        \n",
    "    return lst\n",
    "\n",
    "if __name__ == \"__main__\":\n",
    "    new_lst = bubble_sort([1, 69, -3, 8, 0, 23])\n",
    "    print(new_lst)\n",
    "    \n",
    "    # 测试如果输入的列表为空\n",
    "    def testing_empty():\n",
    "        input_lst = []\n",
    "        output = bubble_sort(input_lst)\n",
    "        assert len(output) == 0\n",
    "        #assert len(output) == 1  # 由于断言出错，则会报错AssertionError,一旦出错就不会执行下去，也就是在一个函数中，assert只能发现一个错误\n",
    "    testing_empty()\n",
    "    \n",
    "    def testing_invalid():\n",
    "        output = bubble_sort(1)\n",
    "        assert output is None\n",
    "        assert output is not None\n",
    "    testing_invalid()"
   ]
  },
  {
   "cell_type": "code",
   "execution_count": 3,
   "metadata": {},
   "outputs": [
    {
     "name": "stderr",
     "output_type": "stream",
     "text": [
      ".\n",
      "----------------------------------------------------------------------\n",
      "Ran 1 test in 0.002s\n",
      "\n",
      "OK\n"
     ]
    },
    {
     "data": {
      "text/plain": [
       "\"\\n`unittest.main`默认查看sys.argv，可以将一个明确的列表传递给main，以避免查找sys.argv。在jupyter notebook中，可以传递参数`exit = False`以防止`unittest.main`尝试关闭内核进程：完整的代码为：\\n\\nunittest.main(argv=['first-arg-is-ignored'],exit=False)\\n或\\nunittest.main(argv=['ignored', '-v'], exit=False)\\n\""
      ]
     },
     "execution_count": 3,
     "metadata": {},
     "output_type": "execute_result"
    }
   ],
   "source": [
    "# 简单的unittest用例举例\n",
    "\n",
    "import unittest\n",
    "class DemoTestCase(unittest.TestCase):\n",
    "    def runTest(self): # 推荐更改成以test开头\n",
    "        f = 2.5\n",
    "        a = int(f)\n",
    "        assert type(a) == int, 'a type check failed'\n",
    "        assert a == 2, 'a value check failed'\n",
    "        \n",
    "if __name__ == \"__main__\":\n",
    "    unittest.main(argv=['first-arg-is-ignored'],exit=False)\n",
    "    #unittest.main() # 在pycharm中直接使用这个\n",
    "\"\"\"\n",
    "`unittest.main`默认查看sys.argv，可以将一个明确的列表传递给main，以避免查找sys.argv。在jupyter notebook中，可以传递参数`exit = False`以防止`unittest.main`尝试关闭内核进程：完整的代码为：\n",
    "unittest.main(argv=['first-arg-is-ignored'],exit=False)或unittest.main(argv=['ignored', '-v'], exit=False)\n",
    "\"\"\"\n",
    "# 下面的输出结果中有一个.表示测试用例通过"
   ]
  },
  {
   "cell_type": "code",
   "execution_count": 2,
   "metadata": {},
   "outputs": [
    {
     "name": "stderr",
     "output_type": "stream",
     "text": [
      "..\n",
      "----------------------------------------------------------------------\n",
      "Ran 2 tests in 0.003s\n",
      "\n",
      "OK\n"
     ]
    }
   ],
   "source": [
    "import unittest\n",
    "\n",
    "class DemoTestCase(unittest.TestCase):\n",
    "    # 第一个测试用例\n",
    "    def test_case_one(self):\n",
    "        f = 2.5\n",
    "        a = int(f)\n",
    "        assert type(f) == float, \"a type check failed\"\n",
    "        assert a == a, \"a value check failed\"\n",
    "    \n",
    "    # 第二个测试用例\n",
    "    def test_case_two(self):\n",
    "        s = \"Iloveyou\"\n",
    "        assert type(s) == type(\"haha\"), 'a type check failed'\n",
    "    \n",
    "if __name__ == \"__main__\":\n",
    "    unittest.main(argv=['first-arg-is-ignored'],exit=False)\n",
    "    \n",
    "    # 下面的输出结果中,两个点表示两个测试用例运行成功"
   ]
  },
  {
   "cell_type": "code",
   "execution_count": 5,
   "metadata": {},
   "outputs": [
    {
     "name": "stdout",
     "output_type": "stream",
     "text": [
      "C:\\Users\\acer\\Documents\\课程学习之数据分析师\\Python新笔记\n"
     ]
    },
    {
     "name": "stderr",
     "output_type": "stream",
     "text": [
      "\n",
      "Running tests... \n",
      "----------------------------------------------------------------------\n",
      " test_case_one (__main__.DemoTestCase) ... OK (0.000000)s\n",
      " test_case_two (__main__.DemoTestCase) ... OK (0.000000)s\n",
      "\n",
      "----------------------------------------------------------------------\n",
      "Ran 2 tests in 0:00:00\n",
      "\n",
      "OK\n",
      "\n",
      "\n",
      "\n",
      "Generating HTML reports... \n",
      "reports\\TestResults___main__.DemoTestCase_2020-09-26_05-56-12.html\n"
     ]
    }
   ],
   "source": [
    "import HtmlTestRunner\n",
    "import unittest\n",
    "import os\n",
    "\n",
    "class DemoTestCase(unittest.TestCase):\n",
    "    # 第一个测试用例\n",
    "    def test_case_one(self):\n",
    "        f = 2.5\n",
    "        a = int(f)\n",
    "        assert type(f) == float, \"a type check failed\"\n",
    "        assert a == a, \"a value check failed\"\n",
    "    \n",
    "    # 第二个测试用例\n",
    "    def test_case_two(self):\n",
    "        s = \"Iloveyou\"\n",
    "        assert type(s) == type(\"haha\"), 'a type check failed'\n",
    "    \n",
    "if __name__ == \"__main__\":\n",
    "    # 生成HTML文件报告，可以到当前目录下查看\n",
    "    unittest.main(argv=['first-arg-is-ignored'],exit=False, testRunner=HtmlTestRunner.HTMLTestRunner())\n",
    "    print(os.getcwd())\n",
    "    "
   ]
  },
  {
   "cell_type": "markdown",
   "metadata": {},
   "source": [
    "# 测试步骤\n",
    "- 一般一个测试用例包含三个部分：准备，运行，清理。上述案例就是执行测试用例\n",
    "\n",
    "## 测试用例准备\n",
    "- 准备部分的代码在测试用例之前执行\n",
    "- 书写方法：\n",
    "    - 若只有一个测试用例，则定义一个准备函数在其之前执行就行\n",
    "    - 若包含多个测试用例：分两种情况(setUpClass 和 setUp)\n",
    "        - 第一种：只执行一次准备函数，无论有多少个测试用例，准备函数也仅仅只执行一次\n",
    "            - 该函数名为：setUpClass(),该函数不带任何参数，甚至是self参数\n",
    "        - 第二种：有多少个测试用例，就分别在每个测试用例之前都执行一次\n",
    "            - 该函数名为：setUp(),仅有一个self参数\n",
    "    - setUp()和setUpClass()可以同时存在\n",
    "        - 会先执行setUpClass(),再执行setUp()\n",
    "        \n",
    "\n",
    "\n",
    "## 测试用例清理\n",
    "- 与准备阶段类似，清理也提供了tearDown()和tearDownClass()，是在测试用例执行之后执行，原理同上\n",
    "- 不过是tearDwon先执行，tearDownClass()最后执行\n",
    "\n",
    "\n"
   ]
  },
  {
   "cell_type": "code",
   "execution_count": 6,
   "metadata": {},
   "outputs": [
    {
     "name": "stderr",
     "output_type": "stream",
     "text": [
      "..."
     ]
    },
    {
     "name": "stdout",
     "output_type": "stream",
     "text": [
      "setUpclass() is running, I am the boss\n",
      "test_case_one() is running, it's fine\n",
      "test_case_three() is running, it's so boring\n",
      "test_case_two() is running, it's ok \n"
     ]
    },
    {
     "name": "stderr",
     "output_type": "stream",
     "text": [
      "\n",
      "----------------------------------------------------------------------\n",
      "Ran 3 tests in 0.004s\n",
      "\n",
      "OK\n"
     ]
    }
   ],
   "source": [
    "# setUpClass()举例：无论有多少个测试用例，仅执行一次准备函数\n",
    "import unittest\n",
    "\n",
    "class DemoTestCase(unittest.TestCase):\n",
    "    def test_case_one(self):\n",
    "        print(\"test_case_one() is running, it's fine\")\n",
    "        \n",
    "    def test_case_two(self):\n",
    "        print(\"test_case_two() is running, it's ok \")\n",
    "        \n",
    "    def test_case_three(self):\n",
    "        print(\"test_case_three() is running, it's so boring\")\n",
    "        \n",
    "    def setUpClass():\n",
    "        print(\"setUpclass() is running, I am the boss\")\n",
    "        \n",
    "if __name__ == \"__main__\":\n",
    "    unittest.main(argv=['first-arg-is-ignored'],exit=False)\n",
    "    # 还可以用IDE执行：python -m unittest file.py 2> err.txt"
   ]
  },
  {
   "cell_type": "code",
   "execution_count": 7,
   "metadata": {},
   "outputs": [
    {
     "name": "stderr",
     "output_type": "stream",
     "text": [
      ".."
     ]
    },
    {
     "name": "stdout",
     "output_type": "stream",
     "text": [
      "haha,setUp is running, I am smileing\n",
      "test_case_one is running, I am very happy\n",
      "haha,setUp is running, I am smileing\n",
      "test_case_two is running, smile everyday\n"
     ]
    },
    {
     "name": "stderr",
     "output_type": "stream",
     "text": [
      "\n",
      "----------------------------------------------------------------------\n",
      "Ran 2 tests in 0.003s\n",
      "\n",
      "OK\n"
     ]
    }
   ],
   "source": [
    "# setUp（）函数举例\n",
    "import unittest\n",
    "\n",
    "class DemoTestCase(unittest.TestCase):\n",
    "    def test_case_one(self):\n",
    "        print(\"test_case_one is running, I am very happy\")\n",
    "    \n",
    "    def test_case_two(self):\n",
    "        print(\"test_case_two is running, smile everyday\")\n",
    "        \n",
    "    def setUp(self):\n",
    "        print(\"haha,setUp is running, I am smileing\")\n",
    "        \n",
    "if __name__ == \"__main__\":\n",
    "    unittest.main(argv=['first-arg-is-ignored'],exit=False)"
   ]
  },
  {
   "cell_type": "code",
   "execution_count": 8,
   "metadata": {},
   "outputs": [
    {
     "name": "stderr",
     "output_type": "stream",
     "text": [
      "..."
     ]
    },
    {
     "name": "stdout",
     "output_type": "stream",
     "text": [
      "setUpclass() is running, I am the boss\n",
      "setUp() is running\n",
      "test_case_one() is running, it's fine\n",
      "setUp() is running\n",
      "test_case_three() is running, it's so boring\n",
      "setUp() is running\n",
      "test_case_two() is running, it's ok \n"
     ]
    },
    {
     "name": "stderr",
     "output_type": "stream",
     "text": [
      "\n",
      "----------------------------------------------------------------------\n",
      "Ran 3 tests in 0.004s\n",
      "\n",
      "OK\n"
     ]
    }
   ],
   "source": [
    "# 同时包含setUp和setUpClass举例\n",
    "import unittest\n",
    "\n",
    "class DemoTestCase(unittest.TestCase):\n",
    "    def test_case_one(self):\n",
    "        print(\"test_case_one() is running, it's fine\")\n",
    "        \n",
    "    def test_case_two(self):\n",
    "        print(\"test_case_two() is running, it's ok \")\n",
    "        \n",
    "    def test_case_three(self):\n",
    "        print(\"test_case_three() is running, it's so boring\")\n",
    "        \n",
    "    def setUpClass():\n",
    "        print(\"setUpclass() is running, I am the boss\")\n",
    "    \n",
    "    def setUp(self):\n",
    "        print(\"setUp() is running\")\n",
    "        \n",
    "if __name__ == \"__main__\":\n",
    "    unittest.main(argv=['first-arg-is-ignored'],exit=False)"
   ]
  },
  {
   "cell_type": "code",
   "execution_count": 13,
   "metadata": {},
   "outputs": [
    {
     "name": "stderr",
     "output_type": "stream",
     "text": [
      "..."
     ]
    },
    {
     "name": "stdout",
     "output_type": "stream",
     "text": [
      "setUpclass() is running, I am the boss\n",
      "test_case_one() is running, it's fine\n",
      "tearDown is running\n",
      "test_case_three() is running, it's so boring\n",
      "tearDown is running\n",
      "test_case_two() is running, it's ok \n",
      "tearDown is running\n",
      "tearDownClass is running\n"
     ]
    },
    {
     "name": "stderr",
     "output_type": "stream",
     "text": [
      "\n",
      "----------------------------------------------------------------------\n",
      "Ran 3 tests in 0.005s\n",
      "\n",
      "OK\n"
     ]
    }
   ],
   "source": [
    "# 测试用例清理tearDown() 和tearDownClass()\n",
    "\n",
    "import unittest\n",
    "\n",
    "class DemoTestCase(unittest.TestCase):\n",
    "    def test_case_one(self):\n",
    "        print(\"test_case_one() is running, it's fine\")\n",
    "        \n",
    "    def test_case_two(self):\n",
    "        print(\"test_case_two() is running, it's ok \")\n",
    "        \n",
    "    def test_case_three(self):\n",
    "        print(\"test_case_three() is running, it's so boring\")\n",
    "        \n",
    "    def setUpClass():\n",
    "        print(\"setUpclass() is running, I am the boss\")\n",
    "        \n",
    "    def tearDownClass():\n",
    "        print(\"tearDownClass is running\")\n",
    "    \n",
    "    def tearDown(self):\n",
    "        print(\"tearDown is running\")\n",
    "if __name__ == \"__main__\":\n",
    "    unittest.main(argv=['first-arg-is-ignored'],exit=False)"
   ]
  },
  {
   "cell_type": "code",
   "execution_count": null,
   "metadata": {},
   "outputs": [],
   "source": [
    "import unittest\n",
    "\n",
    "class DemoTestCase(unittest.TestCase):\n",
    "    def test_case_one(self):\n",
    "        print(\"test_case_one() is running, it's fine\")\n",
    "        \n",
    "    def test_case_two(self):\n",
    "        print(\"test_case_two() is running, it's ok \")\n",
    "        \n",
    "    def test_case_three(self):\n",
    "        print(\"test_case_three() is running, it's so boring\")\n",
    "        \n",
    "    def setUpClass():\n",
    "        print(\"setUpclass() is running, I am the boss\")\n",
    "        \n",
    "    def teardown"
   ]
  },
  {
   "cell_type": "markdown",
   "metadata": {},
   "source": [
    "# Pyunit的断言(assert)函数\n",
    "- PyUnit提供的断言不同于Python自带的断言，Pyunit带的断言为函数\n",
    "- 断言函数一旦发现错误就不会往下执行，可能有其他的错误便无法被发现\n",
    "- 断言函数类型\n",
    "        assertEqual(对象1，对象2， [错误消息])\n",
    "        assertNotEqual(对象1， 对象2，[错误消息])\n",
    "        assertTrue(对象，[错误消息]):断言对象为真，并不要求指定的对象类型是布尔型的\n",
    "        assertNotTrue(对象，[错误消息])：断言对象为假\n",
    "        assertls(对象1，对象2，[错误消息])：指定两个对象的id相同\n",
    "        assertlsNot(对象1，对象2，[错误消息])：指定两个对象的id不相同\n",
    "        assertlsNone(对象，[错误消息])：断言对象为None\n",
    "        assertlsNotNone(对象，[错误消息])：断言对象不为None\n",
    "        assertln(对象，容器，[错误消息])：断言对象在指定的列表中\n",
    "        assertNotln(对象，容器，[错误消息])：断言对象不在指定的列表中\n",
    "        assertlsInstance(对象，类型，[错误xiaoxi]):指定对象属于指定类型\n",
    "        assertNotlsInstance()\n",
    "        assertRaises(异常类型):代码会抛出异常，常和with搭配使用\n",
    "        assertAlmostEqual(浮点数1， 浮点数2， 误差):断言两个浮点数相等\n",
    "            - 比如：case_obj.assertAlmostEqual(1.2, 1.1, places=1)表示两者的误差不超过10的一次方\n",
    "        assertGreater(数1， 数2):断言第一个数大于第二个数\n",
    "        assertRegex(字符串，正则表达式):在字符串中查找符合指定正则表达式的子串\n",
    "        assertCountEqual(容器1，容器2):断言容器元素内容相同\n",
    "        assertListEqual(列表1， 列表2）：断言两个列表相同\n",
    "        assertMultiLineEqual(),断言两个字符串相同，assertSequenceEqual():断言两个序列相同，assertTupleEqual(), assertSetEqual(),assertDictEual()\n",
    "        \n",
    "# 其他接口函数（实例方法）\n",
    "- 测试用例标识：id():返回用圆点链接的三段字符串，分别表示模块名、类名、测试用例\n",
    "    - case_obj.id()\n",
    "- 运行测试用例：run():case_obj.run()\n",
    "    - 创建实例时可以指定参数：case_obj = DemoTestCase(methodName=\"test_caseone\")\n",
    "- 使测试用例主动抛出异常：fail(),\n",
    "    - case_obj.fail()导致测试用例失败\n",
    "- 跳过：skipTest(原因)\n",
    "    - 通过抛出特殊异常skip Test来达到跳过执行测试用例的目的"
   ]
  },
  {
   "cell_type": "code",
   "execution_count": null,
   "metadata": {},
   "outputs": [],
   "source": [
    "# 字符串前加上u,b ,r的含义\n",
    "- 加u:表示该语句为unicode字符串\n",
    "- 加b:表示该语句为bytes字符串\n",
    "- 加r:表示对字符不进行转义"
   ]
  },
  {
   "cell_type": "code",
   "execution_count": 17,
   "metadata": {},
   "outputs": [
    {
     "name": "stderr",
     "output_type": "stream",
     "text": [
      ".\n",
      "----------------------------------------------------------------------\n",
      "Ran 1 test in 0.002s\n",
      "\n",
      "OK\n"
     ]
    }
   ],
   "source": [
    "# 断言函数简单举例\n",
    "import unittest\n",
    "\n",
    "class DemoTestCase(unittest.TestCase):\n",
    "    def test_one_case(self):\n",
    "        ret = sum(range(1, 101))\n",
    "        self.assertEqual(ret, 5050, u\"1到100的和不为5050\")\n",
    "        \n",
    "if __name__ == \"__main__\":\n",
    "    unittest.main(argv=['first-arg-is-ignored'],exit=False)"
   ]
  },
  {
   "cell_type": "code",
   "execution_count": 21,
   "metadata": {},
   "outputs": [
    {
     "ename": "AssertionError",
     "evalue": "Exception not raised",
     "output_type": "error",
     "traceback": [
      "\u001b[1;31m---------------------------------------------------------------------------\u001b[0m",
      "\u001b[1;31mAssertionError\u001b[0m                            Traceback (most recent call last)",
      "\u001b[1;32m<ipython-input-21-1e084a0aa651>\u001b[0m in \u001b[0;36m<module>\u001b[1;34m\u001b[0m\n\u001b[0;32m     14\u001b[0m \u001b[1;33m\u001b[0m\u001b[0m\n\u001b[0;32m     15\u001b[0m \u001b[1;32mwith\u001b[0m \u001b[0mcase_obj\u001b[0m\u001b[1;33m.\u001b[0m\u001b[0massertRaises\u001b[0m\u001b[1;33m(\u001b[0m\u001b[0mException\u001b[0m\u001b[1;33m)\u001b[0m\u001b[1;33m:\u001b[0m\u001b[1;33m\u001b[0m\u001b[1;33m\u001b[0m\u001b[0m\n\u001b[1;32m---> 16\u001b[1;33m     \u001b[0ma\u001b[0m \u001b[1;33m=\u001b[0m \u001b[1;36m13\u001b[0m\u001b[1;33m\u001b[0m\u001b[1;33m\u001b[0m\u001b[0m\n\u001b[0m",
      "\u001b[1;32me:\\Users\\acer\\Anaconda3\\lib\\unittest\\case.py\u001b[0m in \u001b[0;36m__exit__\u001b[1;34m(self, exc_type, exc_value, tb)\u001b[0m\n\u001b[0;32m    201\u001b[0m                                                                 self.obj_name))\n\u001b[0;32m    202\u001b[0m             \u001b[1;32melse\u001b[0m\u001b[1;33m:\u001b[0m\u001b[1;33m\u001b[0m\u001b[1;33m\u001b[0m\u001b[0m\n\u001b[1;32m--> 203\u001b[1;33m                 \u001b[0mself\u001b[0m\u001b[1;33m.\u001b[0m\u001b[0m_raiseFailure\u001b[0m\u001b[1;33m(\u001b[0m\u001b[1;34m\"{} not raised\"\u001b[0m\u001b[1;33m.\u001b[0m\u001b[0mformat\u001b[0m\u001b[1;33m(\u001b[0m\u001b[0mexc_name\u001b[0m\u001b[1;33m)\u001b[0m\u001b[1;33m)\u001b[0m\u001b[1;33m\u001b[0m\u001b[1;33m\u001b[0m\u001b[0m\n\u001b[0m\u001b[0;32m    204\u001b[0m         \u001b[1;32melse\u001b[0m\u001b[1;33m:\u001b[0m\u001b[1;33m\u001b[0m\u001b[1;33m\u001b[0m\u001b[0m\n\u001b[0;32m    205\u001b[0m             \u001b[0mtraceback\u001b[0m\u001b[1;33m.\u001b[0m\u001b[0mclear_frames\u001b[0m\u001b[1;33m(\u001b[0m\u001b[0mtb\u001b[0m\u001b[1;33m)\u001b[0m\u001b[1;33m\u001b[0m\u001b[1;33m\u001b[0m\u001b[0m\n",
      "\u001b[1;32me:\\Users\\acer\\Anaconda3\\lib\\unittest\\case.py\u001b[0m in \u001b[0;36m_raiseFailure\u001b[1;34m(self, standardMsg)\u001b[0m\n\u001b[0;32m    133\u001b[0m     \u001b[1;32mdef\u001b[0m \u001b[0m_raiseFailure\u001b[0m\u001b[1;33m(\u001b[0m\u001b[0mself\u001b[0m\u001b[1;33m,\u001b[0m \u001b[0mstandardMsg\u001b[0m\u001b[1;33m)\u001b[0m\u001b[1;33m:\u001b[0m\u001b[1;33m\u001b[0m\u001b[1;33m\u001b[0m\u001b[0m\n\u001b[0;32m    134\u001b[0m         \u001b[0mmsg\u001b[0m \u001b[1;33m=\u001b[0m \u001b[0mself\u001b[0m\u001b[1;33m.\u001b[0m\u001b[0mtest_case\u001b[0m\u001b[1;33m.\u001b[0m\u001b[0m_formatMessage\u001b[0m\u001b[1;33m(\u001b[0m\u001b[0mself\u001b[0m\u001b[1;33m.\u001b[0m\u001b[0mmsg\u001b[0m\u001b[1;33m,\u001b[0m \u001b[0mstandardMsg\u001b[0m\u001b[1;33m)\u001b[0m\u001b[1;33m\u001b[0m\u001b[1;33m\u001b[0m\u001b[0m\n\u001b[1;32m--> 135\u001b[1;33m         \u001b[1;32mraise\u001b[0m \u001b[0mself\u001b[0m\u001b[1;33m.\u001b[0m\u001b[0mtest_case\u001b[0m\u001b[1;33m.\u001b[0m\u001b[0mfailureException\u001b[0m\u001b[1;33m(\u001b[0m\u001b[0mmsg\u001b[0m\u001b[1;33m)\u001b[0m\u001b[1;33m\u001b[0m\u001b[1;33m\u001b[0m\u001b[0m\n\u001b[0m\u001b[0;32m    136\u001b[0m \u001b[1;33m\u001b[0m\u001b[0m\n\u001b[0;32m    137\u001b[0m \u001b[1;32mclass\u001b[0m \u001b[0m_AssertRaisesBaseContext\u001b[0m\u001b[1;33m(\u001b[0m\u001b[0m_BaseTestCaseContext\u001b[0m\u001b[1;33m)\u001b[0m\u001b[1;33m:\u001b[0m\u001b[1;33m\u001b[0m\u001b[1;33m\u001b[0m\u001b[0m\n",
      "\u001b[1;31mAssertionError\u001b[0m: Exception not raised"
     ]
    }
   ],
   "source": [
    "# 断言函数举例\n",
    "import unittest\n",
    "\n",
    "class DemoTestCase(unittest.TestCase):\n",
    "    pass\n",
    "\n",
    "# 创建一个测试实例对象\n",
    "case_obj = DemoTestCase()\n",
    "#case_obj.assertTrue(0)\n",
    "case_obj.assertTrue(1)\n",
    "\n",
    "# 断言会出现异常成功，不输出任何东西\n",
    "with case_obj.assertRaises(Exception):\n",
    "    12 / 0\n",
    "\n",
    "# 断言会出现异常失败，抛出异常\n",
    "with case_obj.assertRaises(Exception):\n",
    "    a = 13"
   ]
  },
  {
   "cell_type": "markdown",
   "metadata": {},
   "source": [
    "# 覆盖率\n",
    "- 用来查看是否有没有被测试到的代码\n",
    "- 安装：pip install coverage\n",
    "- 方法：\n",
    "    - 有一个被测试文件\n",
    "    - 有一个测试脚本文件（即包含unittest的那个文件）\n",
    "    - 在IDE中：coverage run 测试脚本文件\n",
    "        - 会在当前目录下生成一个coverage文件，我们不能读出，所以需要格式转化\n",
    "        - 转化为xml格式：coverage xml -o 名称.xml\n",
    "        - 转化为HTML格式：coverage html,会在当前目录下生成一个HTML文件"
   ]
  },
  {
   "cell_type": "code",
   "execution_count": 24,
   "metadata": {},
   "outputs": [
    {
     "name": "stderr",
     "output_type": "stream",
     "text": [
      ".\n",
      "----------------------------------------------------------------------\n",
      "Ran 1 test in 0.001s\n",
      "\n",
      "OK\n"
     ]
    }
   ],
   "source": [
    "# 被测函数\n",
    "def get_max(lst):\n",
    "    if type(lst) != list:\n",
    "        print(\"无效数据\")\n",
    "    if len(lst) ==0:\n",
    "        return None\n",
    "    max_ele = lst[0]\n",
    "    for x in lst[1:]:\n",
    "        if x > max_ele:\n",
    "            max_ele = x\n",
    "    return max_ele\n",
    "\n",
    "# 测试文件\n",
    "import unittest\n",
    "\n",
    "class TestingTestCase(unittest.TestCase):\n",
    "    def test_case(self):\n",
    "        input_l = [1, 3, 5, 6,-3, 98, 23]\n",
    "        output = get_max(input_l)\n",
    "        self.assertTrue(output, 9)\n",
    "        \n",
    "if __name__ == \"__main__\":\n",
    "    unittest.main(argv=['first-arg-is-ignored'],exit=False)"
   ]
  },
  {
   "cell_type": "markdown",
   "metadata": {},
   "source": [
    "# Pytest测试框架\n",
    "- 功能比PyUnit更强\n",
    "- 安装pip install pytest\n",
    "- 定义测试用例的方法：\n",
    "    - 第一种：定义以test_开头的函数，这样的函数被默认为是测试用例\n",
    "    - 第二种：定义以Test开头的类，该类中所有以test开头的函数都被默认为是一个测试用例\n",
    "   \n",
    "- 选择执行哪个测试用例\n",
    "    - 希望执行脚本文件中的所有测试用例：pytest file.py\n",
    "    - 希望执行多个脚本文件中的所有测试用例：pytest file.py file1.py\n",
    "    - 只希望执行单个脚本文件中的某一个测试用例： pytest file.py::test_case_1\n",
    "    - 只希望执行多个脚本文件中的某两个个测试用例： pytest file1.py::test_case_1 file2.py::test_case_1\n",
    "    - 如果某目录下有多个脚本文件，希望全部执行的话： pytest dir\n",
    "        - 如果担心这里面的测试用例执行不成功，可以pytest --setup-plan dir, 只会列出计划执行的测试用例列表\n",
    "        - 不同目录下不能有相同名称的脚本文件\n",
    "        - 脚本文件的命名以test_开头或者以_test结尾，比如test_one.py或者one_test.py\n",
    "        - 若脚本文件的命名不符合规范，则用pytest --setup-plan dir搜索测试用例时该文件就会被忽略\n",
    "        \n",
    "- 生成测试报告：\n",
    "    - 和PyUnit一样，也可以生成xml和HTML格式的文件报告，不过，并不用安装额外的包\n",
    "    - 直接在运行测试用例时加上参数:\"--junitxml== ./报告名称.xml即可\n",
    "        - 比如：pytest --junitxml=./myreport.xml test.py\n",
    "    - 生成HTML报告：\n",
    "        - 安装pip install pytest-html\n",
    "        - 用法：pytest --html=报告名称.html 测试用例\n",
    "\n",
    "\n",
    "# 测试步骤\n",
    "- 准备，执行，清理\n",
    "- 如果以Test开头的类来定义测试用例，那么久可以使用该类中提供的setup()和teardown()函数，与PyUnit不同的是，这两个函数都是小写字母\n",
    "    - 定义好Test类后，执行\n",
    "        - 执行方法：pycharm中\n",
    "                if __name__ == \"__main__\":\n",
    "                pytest.main(\"-s test_file.py\") # 调用pytest的main函数执行测试\n",
    "        - 在IDE中：(为什么要加-s:不加-s的话print的输入内容都被其缓存起来不显示，只有失败的时候显示，加上-s就可以关闭该功能就可以显示了)\n",
    "                pytest -s test_file.py\n",
    "                \n",
    "- 更加灵活地定义准备、清理函数的方法:脚手架方法\n",
    "- 脚手架方法：即定义一个函数，该函数包含yield语句，yield语句之前的代码在测试用例执行之前运行，yield语句之后的代码在测试用例执行完毕后执行。脚手架函数一定要用@pytest.fixture来修饰。脚手架函数就是用来帮助别人的，自己只起修饰作用\n",
    "- 脚手架的前半段和setup的功能一样，后半段和teardown功能一样，对于同一个测试用例函数，可使用多个脚手架\n",
    "- 脚手架不必都包含前后两端，可不用yield只定义前半段，还可只定义后半段\n",
    "- 脚手架可以有返回值：在yield后加上值即可，如：yield 666\n",
    "- 脚手架可以带有输入参数\n",
    "\n",
    "# pytest断言\n",
    "- 提供的断言函数不多，直接用assert语句替代\n",
    "- 对于抛出异常，pytest.raises(异常类型)函数，该函数可以放入with语句中\n",
    "- 覆盖率\n",
    "    - 安装：pip install pytest-cov\n",
    "    - 用法：pytest --cov=././  #统计当前目录下的文件数据\n",
    "    - pytest --cov=./ --cov-report=html ./\n",
    "    \n",
    "- pytest还提供很多插件：\n",
    "    - 并行执行功能插件：pytest.xdist\n",
    "    - 性能统计插件:pytest-profiling\n",
    "    - 图形测试报告插件allure-pytest\n",
    "    - 超时设置插件：pytest-timeout\n",
    "    "
   ]
  },
  {
   "cell_type": "code",
   "execution_count": 25,
   "metadata": {},
   "outputs": [],
   "source": [
    "# 方法一：以test_为开头定义函数来定义pytest测试用例\n",
    "import pytest\n",
    "\n",
    "def test_case_1():\n",
    "    pass\n",
    "\n",
    "def test_case_2():\n",
    "    pass\n",
    "\n",
    "def test_case_3():\n",
    "    pass\n",
    "\n",
    "def test_case_4():\n",
    "    pass\n",
    "\n",
    "# 定义一个非测试用例\n",
    "def case_test():\n",
    "    pass\n",
    "\n",
    "# 统计该文件中有多少个测试用例\n",
    "# 在IDE中：pytest --setup-plan file.py"
   ]
  },
  {
   "cell_type": "code",
   "execution_count": 27,
   "metadata": {},
   "outputs": [],
   "source": [
    "# 方法二：定义以Test开头的类来定义测试用例\n",
    "\n",
    "class TestClassDemo():\n",
    "    def test_case1(self):\n",
    "        pass\n",
    "    \n",
    "    def test_case2(self):\n",
    "        pass\n",
    "    \n",
    "    def test_case3(self):\n",
    "        pass\n",
    "    def testint_case(self):\n",
    "        pass"
   ]
  },
  {
   "cell_type": "code",
   "execution_count": 32,
   "metadata": {},
   "outputs": [
    {
     "name": "stderr",
     "output_type": "stream",
     "text": [
      "ERROR: usage: ipykernel_launcher.py [options] [file_or_dir] [file_or_dir] [...]\n",
      "ipykernel_launcher.py: error: unrecognized arguments: -f\n",
      "  inifile: None\n",
      "  rootdir: C:\\Users\\acer\n",
      "\n"
     ]
    }
   ],
   "source": [
    "# setup和teardown()举例\n",
    "\n",
    "import pytest\n",
    "\n",
    "class TestClassDemo:\n",
    "    def setup(self):\n",
    "        print(\"setup is running\")\n",
    "    def test_case_1(self):\n",
    "        print('test_case_1 is running')\n",
    "    def test_case_2(self):\n",
    "        print(\"test_xase_2 is running\")\n",
    "        \n",
    "    def teardown(self):\n",
    "        print(\"teardown is running\")\n",
    "        \n"
   ]
  },
  {
   "cell_type": "code",
   "execution_count": null,
   "metadata": {},
   "outputs": [],
   "source": [
    "# 脚手架方法\n",
    "import pytest\n",
    "\n",
    "# 加上这句话表明自己是一个脚手架\n",
    "@pytest.fixture\n",
    "def fixtureDemo():\n",
    "    print(\"在yield语句之前执行，相当于准备部分\")\n",
    "    yield\n",
    "    print(\"在yield语句之后执行，相当于是清理部分\")\n",
    "    \n",
    "#使用脚手架\n",
    "def test_demo(fixtureDemo):\n",
    "    print(\"测试用例test_demo在运行\")"
   ]
  },
  {
   "cell_type": "code",
   "execution_count": null,
   "metadata": {},
   "outputs": [],
   "source": [
    "# 脚手架带入参数\n",
    "@pytest.fixture()\n",
    "#request.param是参数，包含有下载的文件名\n",
    "def download_file_fix(request):\n",
    "    file_lst = request.param\n",
    "    local_file_lst = download_file(filelst)\n",
    "    yield local_file_lst\n",
    "    \n",
    "    delete_file_if_exists(local_file_lst)"
   ]
  },
  {
   "cell_type": "code",
   "execution_count": null,
   "metadata": {},
   "outputs": [],
   "source": []
  }
 ],
 "metadata": {
  "kernelspec": {
   "display_name": "Python 3",
   "language": "python",
   "name": "python3"
  },
  "language_info": {
   "codemirror_mode": {
    "name": "ipython",
    "version": 3
   },
   "file_extension": ".py",
   "mimetype": "text/x-python",
   "name": "python",
   "nbconvert_exporter": "python",
   "pygments_lexer": "ipython3",
   "version": "3.7.3"
  }
 },
 "nbformat": 4,
 "nbformat_minor": 2
}
