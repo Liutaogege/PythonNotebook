{
 "cells": [
  {
   "cell_type": "markdown",
   "metadata": {},
   "source": [
    "# 元组\n",
    "- 元组是不可修改的\n",
    "\n",
    "# 定义元组\n",
    "- 1.使用逗号\n",
    "        tup = 1, 3, 4\n",
    "        print(tup)\n",
    "- 2.使用圆括号\n",
    "        tup = (1, 2, 3)\n",
    "        print(tup)\n",
    "- 3.使用 tuple函数\n",
    "        tup = tuple([1, 2, 3])\n",
    "        print(tup)\n",
    "- 4.定义只有一个元素的元组（必须要加上一个逗号）\n",
    "        tup = (1,)\n",
    "        print(tup)\n"
   ]
  },
  {
   "cell_type": "markdown",
   "metadata": {},
   "source": [
    "# 元组常用操作\n",
    "- 1.下标操作\n",
    "- 2.切片操作\n",
    "- 3.解组操作\n",
    "- 4.count方法\n",
    "- 5.index方法\n",
    "- 以上 方法全部同list的方法\n",
    "- del方法：删除整个元组\n",
    "\n",
    "\n",
    "# 元组存在的意义或应用场景\n",
    "- 1.元组在字典中可以当做key来使用，而列表是不可能的\n",
    "- 2.在函数中，有时候要返回多个值，一般采用元组的方式\n",
    "- 3.一些不希望用户修改值的场景下使用元组来代替列表\n"
   ]
  },
  {
   "cell_type": "code",
   "execution_count": null,
   "metadata": {},
   "outputs": [],
   "source": [
    "# 双层元祖的遍历：\n",
    "a = ((1,2),(\"xiaoming\",\"xiaohong\"),('xiao',\"xiha\"))\n",
    "for m,n in a:\n",
    "    print(m,'+',n)"
   ]
  },
  {
   "cell_type": "code",
   "execution_count": 2,
   "metadata": {},
   "outputs": [
    {
     "name": "stdout",
     "output_type": "stream",
     "text": [
      "liutao\n",
      "jiaojioa\n"
     ]
    }
   ],
   "source": [
    "a = [[\"liutao\", 23], [\"jiaojioa\", 21]]\n",
    "for m, n in a:\n",
    "    print(m)"
   ]
  },
  {
   "cell_type": "code",
   "execution_count": null,
   "metadata": {},
   "outputs": [],
   "source": []
  },
  {
   "cell_type": "code",
   "execution_count": null,
   "metadata": {},
   "outputs": [],
   "source": []
  },
  {
   "cell_type": "code",
   "execution_count": null,
   "metadata": {},
   "outputs": [],
   "source": []
  }
 ],
 "metadata": {
  "kernelspec": {
   "display_name": "Python 3",
   "language": "python",
   "name": "python3"
  },
  "language_info": {
   "codemirror_mode": {
    "name": "ipython",
    "version": 3
   },
   "file_extension": ".py",
   "mimetype": "text/x-python",
   "name": "python",
   "nbconvert_exporter": "python",
   "pygments_lexer": "ipython3",
   "version": "3.7.3"
  }
 },
 "nbformat": 4,
 "nbformat_minor": 2
}
