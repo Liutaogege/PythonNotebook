{
 "cells": [
  {
   "cell_type": "markdown",
   "metadata": {},
   "source": [
    "# Python中的__init__和__new__\n",
    "- __init__(self):构造函数\n",
    "    - 实例化时进行初始化的工作\n",
    "    - 有特殊的名称的写法\n",
    "    - 当实例对象创建完成后被调用的，然后设置对象属性的一些初始值\n",
    "    - 第一个参数必须有，通用self。参数写入放在括号中\n",
    "- __new__:\n",
    "    - 实例创建之前就被调用，它的任务就是创建实例然后然后将它传递给init进行初始化，是个静态方法\n",
    "    - 一般来说自己没有设置__new__，默认调用系统设置的。\n",
    "    - new函数必须要有返回值\n",
    "    _ __new__函数的应用：\n",
    "           1、__new__方法主要是当你继承一些不可变的class时(比如int, str, tuple)， 提供给你一个自定义这些类的实例化过程的途径\n",
    "           2、还有就是实现自定义的metaclass\n",
    "           3、用__new__来实现单例\n",
    "- __new__函数的本质\n",
    "    - （1）__new__方法是定义在元类type里面的，作用就是专门创建实例的。\n",
    "\n",
    "    - （2）__new__的本质上是一个“类方法”，故而第一个参数为cls，但是因为系统知道它是类方法，所以有不需要显式添加@classmethod\n",
    "\n",
    "    - （3）__new__必须具有返回值，否则无法创建对象，因为__init__函数需要这个返回值\n",
    "\n",
    "    - （4）自己在定义__new__的时候，参数要与__init__函数的参数匹配，我可以不用到这些参数，但一定要匹配。或者可以使用*arg和**args的形式。"
   ]
  },
  {
   "cell_type": "code",
   "execution_count": 1,
   "metadata": {},
   "outputs": [
    {
     "name": "stdout",
     "output_type": "stream",
     "text": [
      "我是new函数啊\n",
      "<class 'type'>\n",
      "<class '__main__.Student'>\n",
      "hello，我是init\n"
     ]
    }
   ],
   "source": [
    "class Student():\n",
    "    def __new__(cls, *args, **kwargs):\n",
    "        print(\"我是new函数啊\") # 这句话是为了追踪new函数\n",
    "        print(type(cls))  # 追踪new函数的执行过程\n",
    "        print(cls)\n",
    "        return object.__new__(cls) #调用父类的（object）的new方法，返回一个Student实例，这个实例传递给init的self参数\n",
    "    \n",
    "    def __init__(self, name, age):\n",
    "        self.name = name\n",
    "        self.age = age\n",
    "        print(\"hello，我是init\")\n",
    "        \n",
    "    def studying(self):\n",
    "        print(\"我爱学习，我在学习\")\n",
    "        \n",
    "if __name__ == \"__main__\":\n",
    "    s = Student(\"liutao\", 23)\n",
    "    #一旦创建实例对象，就会调用new函数和init函数"
   ]
  },
  {
   "cell_type": "code",
   "execution_count": 2,
   "metadata": {},
   "outputs": [
    {
     "name": "stdout",
     "output_type": "stream",
     "text": [
      "我是父类的new函数\n",
      "<class 'type'>\n",
      "<class '__main__.Parent'>\n",
      "hello，我是父类的init\n",
      "baba\n",
      "50\n",
      "===========\n",
      "我是子类的new函数\n",
      "<class 'type'>\n",
      "<class '__main__.Child'>\n",
      "我是父类的new函数\n",
      "<class 'type'>\n",
      "<class '__main__.Child'>\n",
      "我是子类的init\n",
      "son\n",
      "23\n"
     ]
    }
   ],
   "source": [
    "class Parent():\n",
    "    def __new__(cls, *args, **kwargs):\n",
    "        print(\"我是父类的new函数\") # 这句话是为了追踪new函数\n",
    "        print(type(cls))  # 追踪new函数的执行过程\n",
    "        print(cls)\n",
    "        return object.__new__(cls) #调用父类的（object）的new方法，返回一个Student实例，这个实例传递给init的self参数\n",
    "    \n",
    "    def __init__(self, name, age):\n",
    "        self.name = name\n",
    "        self.age = age\n",
    "        print(\"hello，我是父类的init\")\n",
    "        \n",
    "    def studying(self):\n",
    "        print(\"我爱学习，我在学习\")\n",
    "        \n",
    "\n",
    "class Child(Parent):\n",
    "    def __new__(cls, *args, **kwargs):\n",
    "        print(\"我是子类的new函数\") # 这句话是为了追踪new函数\n",
    "        print(type(cls))  # 追踪new函数的执行过程\n",
    "        print(cls)\n",
    "        return Parent.__new__(cls)\n",
    "    def __init__(self, name, age):\n",
    "        self.name = name\n",
    "        self.age = age\n",
    "        print(\"我是子类的init\")\n",
    "    \n",
    "        \n",
    "if __name__ == \"__main__\":\n",
    "    p = Parent(\"baba\", 50)\n",
    "    print(p.name)\n",
    "    print(p.age)\n",
    "    print(\"===========\")\n",
    "    s = Child(\"son\", 23)\n",
    "    print(s.name)\n",
    "    print(s.age)\n",
    "    #一旦创建实例对象，就会调用new函数和init函数"
   ]
  },
  {
   "cell_type": "code",
   "execution_count": null,
   "metadata": {},
   "outputs": [],
   "source": [
    "class People():\n",
    "    name = None\n",
    "    age = 21\n",
    "    def __init__(self):\n",
    "        print('Hello!World.')\n",
    "per = People()"
   ]
  },
  {
   "cell_type": "markdown",
   "metadata": {},
   "source": [
    "# Python中的__call__函数\n",
    "- 可以将它们作为输入传递到其他的函数/方法中并调用他们，正如我们调用一个正常的函数那样，类中__call__()函数的意义正在于此。\n",
    "- 其和_init_()方法区别\n",
    "        1. __init__()的作用是初始化某个类的一个实例。 \n",
    "        2. __call__()的作用是使实例能够像函数一样被调用，同时不影响实例本身的生命周期（__call__()不影响一个实例的构造和析构）。但是__call__()可以用来改变实例的内部成员的值。\n",
    "- _call_方法的存在，让实例可以让类似函数方法那样被直接使用，但是有个前提就是必须这个类是实例化了的，在Python实际使用中必须先实例化对象"
   ]
  },
  {
   "cell_type": "code",
   "execution_count": 5,
   "metadata": {},
   "outputs": [
    {
     "name": "stdout",
     "output_type": "stream",
     "text": [
      "__call__ with （1, 2）\n"
     ]
    },
    {
     "name": "stderr",
     "output_type": "stream",
     "text": [
      "Exception ignored in: <function X.__del__ at 0x0000029550D72AE8>\n",
      "TypeError: __del__() missing 3 required positional arguments: 'a', 'b', and 'range'\n"
     ]
    }
   ],
   "source": [
    "class X(object):\n",
    "    def __init__(self, a, b, ranging):\n",
    "        self.a = a\n",
    "        self.b = b\n",
    "        self.range = ranging\n",
    "    def __call__(self, a, b):\n",
    "        self.a = a\n",
    "        self.b = b\n",
    "        print('__call__ with （{}, {}）'.format(self.a, self.b))\n",
    "    def __del__(self, a, b, ranging):\n",
    "        del self.a\n",
    "        del self.b\n",
    "        del self.ranging\n",
    "#实例化这个类\n",
    "x_instance = X(1, 2, 3)\n",
    "#通过_call_()来修改类属性值\n",
    "x_instance(1,2)\n",
    " \n",
    "# 得到结果：__call__ with （1, 5）"
   ]
  },
  {
   "cell_type": "markdown",
   "metadata": {},
   "source": [
    "# python中的__del__(析构函数)和引用计数\n",
    "- 1.析构函数即__del__方法，当使用del 删除对象时，会调用他本身的析构函数，或者当对象在某个作用域中调用完毕，在跳出其作用域的同时析构函数也会被调用（即这个对象在内存中即将被消灭的时候），这样可以用来释放内存空间。　　\n",
    "　　- __del__()也是可选的，如果不提供，则Python 会在后台提供默认析构函数\n",
    "　　- 如果要显式的调用析构函数，可以使用del关键字： del obj\n",
    "- 2.引用计数：pytho中的对象是使用引用计数的方式实现的，也即如果没有任何对象引用到一块内存，那么python就会把这个内存回收\n",
    "    - 可以使用sys.getrefcount(object)来获取一个对象的引用计数\n",
    "    - 当我们用del删除一个对象时，是否删除该对象的内存空间取决于引用计数，只有当一个内存对象的引用计数降为0，即没有被变量引用时，解释器的垃圾回收机制才会回收这块内存。只有当内存被真正回收时，__del__方法才会被调用，即才会真正删除内存空间"
   ]
  },
  {
   "cell_type": "code",
   "execution_count": 8,
   "metadata": {},
   "outputs": [
    {
     "name": "stdout",
     "output_type": "stream",
     "text": [
      "我是构造函数\n",
      "我是析构函数\n",
      "哈喽，my name is liutao\n",
      "我是析构函数\n"
     ]
    }
   ],
   "source": [
    "# 析构函数举例\n",
    "class Teacher():\n",
    "    def __init__(self):\n",
    "        self.__age = \"苍老师\"\n",
    "        self.name = \"23\"\n",
    "        print(\"我是构造函数\")\n",
    "\n",
    "    def __del__(self):\n",
    "        print(\"我是析构函数\")\n",
    "\n",
    "    def greet(self):\n",
    "        print(\"哈喽，my name is liutao\")\n",
    "teacher = Teacher()\n",
    "teacher.greet()  # 当代码运行完毕，那么就会清理内存 ，被创建的对象就会销毁\n",
    "#  所以就会调用__del__方法\n",
    "del teacher  # 删除对象的时候也会进行调用"
   ]
  },
  {
   "cell_type": "code",
   "execution_count": 10,
   "metadata": {},
   "outputs": [
    {
     "name": "stdout",
     "output_type": "stream",
     "text": [
      "我是构造函数\n",
      "哈喽，my name is liutao\n",
      "3\n",
      "2\n",
      "====================\n",
      "我是析构函数\n"
     ]
    }
   ],
   "source": [
    "import sys\n",
    "\n",
    "class Teacher():\n",
    "    def __init__(self):\n",
    "        self.__age = \"苍老师\"\n",
    "        self.name = \"23\"\n",
    "        print(\"我是构造函数\")\n",
    "\n",
    "    def __del__(self):\n",
    "        print(\"我是析构函数\")\n",
    "\n",
    "    def greet(self):\n",
    "        print(\"哈喽，my name is liutao\")\n",
    "teacher = Teacher()\n",
    "teacher.greet()\n",
    "ano_teacher = teacher\n",
    "print(sys.getrefcount(teacher))\n",
    "#这里的打印结果是3，因为除了teacher和ano_teacher指向它，在调用sys.getrefcount会创建一个临时变量指向它\n",
    "# 请注意：临时变量在这句语句执行完毕后就会被销毁\n",
    "del teacher\n",
    "print(sys.getrefcount(ano_teacher))\n",
    "print(\"=\"*20)\n",
    "del ano_teacher  #引用计数变为0，就会调用析构函数\n"
   ]
  },
  {
   "cell_type": "code",
   "execution_count": null,
   "metadata": {},
   "outputs": [],
   "source": []
  },
  {
   "cell_type": "code",
   "execution_count": null,
   "metadata": {},
   "outputs": [],
   "source": []
  },
  {
   "cell_type": "code",
   "execution_count": null,
   "metadata": {},
   "outputs": [],
   "source": []
  },
  {
   "cell_type": "code",
   "execution_count": null,
   "metadata": {},
   "outputs": [],
   "source": []
  }
 ],
 "metadata": {
  "kernelspec": {
   "display_name": "Python 3",
   "language": "python",
   "name": "python3"
  },
  "language_info": {
   "codemirror_mode": {
    "name": "ipython",
    "version": 3
   },
   "file_extension": ".py",
   "mimetype": "text/x-python",
   "name": "python",
   "nbconvert_exporter": "python",
   "pygments_lexer": "ipython3",
   "version": "3.7.3"
  }
 },
 "nbformat": 4,
 "nbformat_minor": 2
}
