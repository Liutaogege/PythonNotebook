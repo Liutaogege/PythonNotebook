{
 "cells": [
  {
   "cell_type": "markdown",
   "metadata": {},
   "source": [
    "# 递归函数\n",
    "- 直接或间接调用自身\n",
    "- 缺点：对递归深度有限制，消耗资源大，Python对递归超过深度会报错\n",
    "- 递归函数必须有结束条件\n",
    "- 解决递归调用栈溢出def方法：\n",
    "    - 第一种：更改递归深度\n",
    "        - sys.getrecursionlimit()得到最大的递归深度\n",
    "        - 如果希望修改递归深度，可以通过sys.setrecursionlimit(num)来设定递归深度的值为num\n",
    "    - 第二种：尾递归优化\n",
    "        - 在函数返回的时候，调用自身本身，并且，return语句不能包含表达式。这样，编译器或者解释器就可以把尾递归做优化，使递归本身无论调用多少次，都只占用一个栈帧，不会出现栈溢出的情况。\n",
    "    \n",
    "    \n",
    "# 汉诺塔\n",
    "- 递归函数应用"
   ]
  },
  {
   "cell_type": "code",
   "execution_count": null,
   "metadata": {},
   "outputs": [],
   "source": [
    "# 汉诺塔\n",
    "def hannuo(a, b, c, n):\n",
    "    if n == 1:\n",
    "        print(\"{} --> {}\".format(a,c))\n",
    "    if n == 2:\n",
    "        print(\"{} --> {}\".format(a,b))\n",
    "        print(\"{} --> {}\".format(a,c))\n",
    "        print(\"{} --> {}\".format(b,c))\n",
    "    if n > 2:\n",
    "        hannuo(a,c,b,n-1) # a通过c把n-1个盘子放到b上，至于怎么放不管\n",
    "        print(\"{} --> {}\".format(a,c)) # 把最大的盘子放到c上\n",
    "        hannuo(b,a,c,n-1) # 最后一步，b通过a把n-1个盘子放到c上，至于怎么放不管\n",
    "\n",
    "a = \"A\"\n",
    "b = \"B\"\n",
    "c = \"C\"\n",
    "hannuo(a,b,c,1)\n",
    "print(\"=========\")\n",
    "hannuo(a,b,c,2)\n",
    "print(\"==========\")\n",
    "hannuo(a,b,c,3)"
   ]
  },
  {
   "cell_type": "code",
   "execution_count": 4,
   "metadata": {},
   "outputs": [
    {
     "name": "stdout",
     "output_type": "stream",
     "text": [
      "A ==> C\n",
      "==============================\n",
      "A ==> B\n",
      "A ==> C\n",
      "B ==> C\n",
      "==============================\n",
      "A ==> B\n",
      "A ==> C\n",
      "B ==> C\n",
      "A ==> C\n",
      "B ==> C\n",
      "A ==> C\n",
      "B ==> A\n",
      "B ==> C\n",
      "A ==> C\n"
     ]
    }
   ],
   "source": [
    "# 练手\n",
    "def hannuota(a, b, c, n):\n",
    "    if n == 1:\n",
    "        print(\"{} ==> {}\".format(a,c))\n",
    "    elif n == 2:\n",
    "        print(\"{} ==> {}\".format(a,b))\n",
    "        print(\"{} ==> {}\".format(a,c))\n",
    "        print(\"{} ==> {}\".format(b,c))\n",
    "        \n",
    "    else:\n",
    "        hannuota(a,b,c,n-1)\n",
    "        print(\"{} ==> {}\".format(a,c))\n",
    "        hannuota(b,a,c,n-2)\n",
    "        \n",
    "a = \"A\"\n",
    "b = \"B\"\n",
    "c = \"C\"\n",
    "hannuota(a,b,c,1)\n",
    "print(\"=\"*30)\n",
    "hannuota(a,b,c,2)\n",
    "print(\"=\"*30)\n",
    "hannuota(a,b,c,4)"
   ]
  },
  {
   "cell_type": "markdown",
   "metadata": {},
   "source": [
    "# 斐波那契数列"
   ]
  },
  {
   "cell_type": "code",
   "execution_count": 16,
   "metadata": {},
   "outputs": [
    {
     "name": "stdout",
     "output_type": "stream",
     "text": [
      "55\n"
     ]
    }
   ],
   "source": [
    "# 递归法实现斐波那契数列\n",
    "def feibo(n):\n",
    "    if n == 1 or n == 2:\n",
    "        return 1\n",
    "    return feibo(n-1) + feibo(n-2)\n",
    "    \n",
    "print(feibo(10))"
   ]
  },
  {
   "cell_type": "code",
   "execution_count": null,
   "metadata": {},
   "outputs": [],
   "source": [
    "# 使用生成器实现斐波那契数列\n",
    "def gen_fib(num):\n",
    "    i, a, b = 0, 0, 1\n",
    "    while i < num:\n",
    "        a, b = b, a+b\n",
    "        yield a\n",
    "        i += 1\n",
    "    return \"Done\"\n",
    "g = gen_fib(5)\n",
    "\n",
    "# 生成器一般不用next去获取值，直接用for循环\n",
    "for i in g:\n",
    "    print(i)\n",
    "gen_fib(5)"
   ]
  },
  {
   "cell_type": "code",
   "execution_count": 15,
   "metadata": {},
   "outputs": [
    {
     "name": "stdout",
     "output_type": "stream",
     "text": [
      "<class 'generator'>\n",
      "1\n",
      "1\n",
      "2\n",
      "3\n",
      "5\n"
     ]
    }
   ],
   "source": [
    "# 练手\n",
    "def gen_feibo(num):\n",
    "    a,b,i = 0,1,0\n",
    "    while i < num:\n",
    "        a, b = b, a+b\n",
    "        yield a\n",
    "        i += 1\n",
    "    return \"Done\"\n",
    "\n",
    "g = gen_feibo(5)\n",
    "print(type(g))\n",
    "for result in g:\n",
    "    print(result)"
   ]
  },
  {
   "cell_type": "code",
   "execution_count": 20,
   "metadata": {},
   "outputs": [
    {
     "name": "stdout",
     "output_type": "stream",
     "text": [
      "5\n"
     ]
    }
   ],
   "source": [
    "# 斐波那契数列的另一种写法\n",
    "def new_feibo(num):\n",
    "    a, b, i = 0, 1 , 0\n",
    "    for i in range(num):\n",
    "        a, b = b, a+b\n",
    "    return a\n",
    "print(new_feibo(5))"
   ]
  },
  {
   "cell_type": "code",
   "execution_count": 22,
   "metadata": {},
   "outputs": [
    {
     "name": "stdout",
     "output_type": "stream",
     "text": [
      "这是阶乘啊\n",
      "24\n",
      "现在的递归深度是 3000\n",
      "现在的递归深度是 5000\n"
     ]
    }
   ],
   "source": [
    "# 递归函数实现阶乘\n",
    "import sys\n",
    "def jie(num):\n",
    "    if num == 1:\n",
    "        return 1\n",
    "    return num * jie(num-1)\n",
    "\n",
    "\n",
    "print(\"这是阶乘啊\")\n",
    "print(jie(4))\n",
    "\n",
    "print(\"现在的递归深度是\", sys.getrecursionlimit())\n",
    "sys.setrecursionlimit(5000)\n",
    "print(\"现在的递归深度是\", sys.getrecursionlimit())"
   ]
  },
  {
   "cell_type": "markdown",
   "metadata": {},
   "source": [
    "# 尾递归优化\n"
   ]
  },
  {
   "cell_type": "code",
   "execution_count": null,
   "metadata": {},
   "outputs": [],
   "source": [
    "# 尾递归优化,python目前还不支持尾递归优化\n",
    "import sys\n",
    "def fact(n):\n",
    "    return fact_iter(n, 1)\n",
    "\n",
    "def fact_iter(num, product):\n",
    "    if num ==1:\n",
    "        return product\n",
    "    return fact_iter(num -1, num * product)\n",
    "\n",
    "print(\"现在的递归深度是\", sys.getrecursionlimit())\n",
    "fact_iter(5,1)"
   ]
  },
  {
   "cell_type": "code",
   "execution_count": null,
   "metadata": {},
   "outputs": [],
   "source": []
  },
  {
   "cell_type": "code",
   "execution_count": null,
   "metadata": {},
   "outputs": [],
   "source": []
  },
  {
   "cell_type": "code",
   "execution_count": null,
   "metadata": {},
   "outputs": [],
   "source": []
  },
  {
   "cell_type": "code",
   "execution_count": null,
   "metadata": {},
   "outputs": [],
   "source": []
  }
 ],
 "metadata": {
  "kernelspec": {
   "display_name": "Python 3",
   "language": "python",
   "name": "python3"
  },
  "language_info": {
   "codemirror_mode": {
    "name": "ipython",
    "version": 3
   },
   "file_extension": ".py",
   "mimetype": "text/x-python",
   "name": "python",
   "nbconvert_exporter": "python",
   "pygments_lexer": "ipython3",
   "version": "3.7.3"
  }
 },
 "nbformat": 4,
 "nbformat_minor": 2
}
