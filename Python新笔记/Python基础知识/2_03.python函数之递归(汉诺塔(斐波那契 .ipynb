{
 "cells": [
  {
   "cell_type": "markdown",
   "metadata": {},
   "source": [
    "# 递归函数\n",
    "- 直接或间接调用自身\n",
    "- 缺点：对递归深度有限制，消耗资源大，Python对递归超过深度会报错\n",
    "- 递归函数必须有结束条件\n",
    "- 解决递归调用栈溢出def方法：\n",
    "    - 第一种：更改递归深度\n",
    "        - sys.getrecursionlimit()得到最大的递归深度\n",
    "        - 如果希望修改递归深度，可以通过sys.setrecursionlimit(num)来设定递归深度的值为num\n",
    "    - 第二种：尾递归优化\n",
    "        - 在函数返回的时候，调用自身本身，并且，return语句不能包含表达式。这样，编译器或者解释器就可以把尾递归做优化，使递归本身无论调用多少次，都只占用一个栈帧，不会出现栈溢出的情况。\n",
    "    \n",
    "    \n",
    "# 汉诺塔\n",
    "- 递归函数应用"
   ]
  },
  {
   "cell_type": "code",
   "execution_count": 3,
   "metadata": {},
   "outputs": [
    {
     "name": "stdout",
     "output_type": "stream",
     "text": [
      "A --> C\n",
      "=========\n",
      "A --> B\n",
      "A --> C\n",
      "B --> C\n",
      "==========\n",
      "A --> C\n",
      "A --> B\n",
      "C --> B\n",
      "A --> C\n",
      "B --> A\n",
      "B --> C\n",
      "A --> C\n"
     ]
    }
   ],
   "source": [
    "# 汉诺塔\n",
    "def hannuo(a, b, c, n):\n",
    "    if n == 1:\n",
    "        print(\"{} --> {}\".format(a,c))\n",
    "    if n == 2:\n",
    "        print(\"{} --> {}\".format(a,b))\n",
    "        print(\"{} --> {}\".format(a,c))\n",
    "        print(\"{} --> {}\".format(b,c))\n",
    "    if n > 2:\n",
    "        hannuo(a,c,b,n-1) # a通过c把n-1个盘子放到b上，至于怎么放不管\n",
    "        print(\"{} --> {}\".format(a,c)) # 把最大的盘子放到c上\n",
    "        hannuo(b,a,c,n-1) # 最后一步，b通过a把n-1个盘子放到c上，至于怎么放不管\n",
    "\n",
    "a = \"A\"\n",
    "b = \"B\"\n",
    "c = \"C\"\n",
    "hannuo(a,b,c,1)\n",
    "print(\"=========\")\n",
    "hannuo(a,b,c,2)\n",
    "print(\"==========\")\n",
    "hannuo(a,b,c,3)"
   ]
  },
  {
   "cell_type": "code",
   "execution_count": 12,
   "metadata": {},
   "outputs": [
    {
     "name": "stdout",
     "output_type": "stream",
     "text": [
      "1\n",
      "9\n"
     ]
    },
    {
     "data": {
      "text/plain": [
       "True"
      ]
     },
     "execution_count": 12,
     "metadata": {},
     "output_type": "execute_result"
    }
   ],
   "source": [
    "# 背包问题\n",
    "# 定义一个全局变量表示物体数\n",
    "global a\n",
    "\n",
    "# S：表示可以一个背包可以装入的最大重量\n",
    "# n：表示有n件物品， a[n] 表示每个物品的重量\n",
    "# 题目：从n件物品选出若干件物品放入背包，使得放入的重量恰好等于S，则称有解，否则无解\n",
    "a = list(range(10))\n",
    "def backage_solve(s, n):\n",
    "    if s == 0:\n",
    "        return True\n",
    "    if s < 0 or (n < 1 and s > 0):\n",
    "        return False\n",
    "    if backage_solve(s-a[n], n -1):\n",
    "        print(a[n])\n",
    "        return True\n",
    "    else:\n",
    "        return backage_solve(s, n-1)\n",
    "    \n",
    "backage_solve(10, 9)"
   ]
  },
  {
   "cell_type": "code",
   "execution_count": 20,
   "metadata": {},
   "outputs": [
    {
     "ename": "UnboundLocalError",
     "evalue": "local variable 'nums' referenced before assignment",
     "output_type": "error",
     "traceback": [
      "\u001b[0;31m---------------------------------------------------------------------------\u001b[0m",
      "\u001b[0;31mUnboundLocalError\u001b[0m                         Traceback (most recent call last)",
      "\u001b[0;32m<ipython-input-20-cec7ccee3ee9>\u001b[0m in \u001b[0;36m<module>\u001b[0;34m\u001b[0m\n\u001b[1;32m     32\u001b[0m     \u001b[0mn\u001b[0m \u001b[0;34m-=\u001b[0m \u001b[0;36m1\u001b[0m\u001b[0;34m\u001b[0m\u001b[0;34m\u001b[0m\u001b[0m\n\u001b[1;32m     33\u001b[0m     \u001b[0morder_pepole\u001b[0m\u001b[0;34m(\u001b[0m\u001b[0mn\u001b[0m\u001b[0;34m,\u001b[0m \u001b[0mm\u001b[0m\u001b[0;34m,\u001b[0m \u001b[0ms\u001b[0m\u001b[0;34m)\u001b[0m\u001b[0;34m\u001b[0m\u001b[0;34m\u001b[0m\u001b[0m\n\u001b[0;32m---> 34\u001b[0;31m \u001b[0ma\u001b[0m \u001b[0;34m=\u001b[0m \u001b[0morder_pepole\u001b[0m\u001b[0;34m(\u001b[0m\u001b[0;36m8\u001b[0m\u001b[0;34m,\u001b[0m \u001b[0;36m4\u001b[0m\u001b[0;34m,\u001b[0m \u001b[0;36m1\u001b[0m\u001b[0;34m)\u001b[0m\u001b[0;34m\u001b[0m\u001b[0;34m\u001b[0m\u001b[0m\n\u001b[0m",
      "\u001b[0;32m<ipython-input-20-cec7ccee3ee9>\u001b[0m in \u001b[0;36morder_pepole\u001b[0;34m(n, m, s)\u001b[0m\n\u001b[1;32m     11\u001b[0m     \u001b[0;32mif\u001b[0m \u001b[0mn\u001b[0m \u001b[0;34m==\u001b[0m \u001b[0;36m1\u001b[0m\u001b[0;34m:\u001b[0m\u001b[0;34m\u001b[0m\u001b[0;34m\u001b[0m\u001b[0m\n\u001b[1;32m     12\u001b[0m         \u001b[0;32mreturn\u001b[0m \u001b[0mnums\u001b[0m\u001b[0;34m[\u001b[0m\u001b[0;36m0\u001b[0m\u001b[0;34m]\u001b[0m\u001b[0;34m,\u001b[0m \u001b[0mnums\u001b[0m\u001b[0;34m\u001b[0m\u001b[0;34m\u001b[0m\u001b[0m\n\u001b[0;32m---> 13\u001b[0;31m     \u001b[0mtemp_nums\u001b[0m \u001b[0;34m=\u001b[0m \u001b[0mnums\u001b[0m\u001b[0;34m[\u001b[0m\u001b[0;34m:\u001b[0m\u001b[0mn\u001b[0m\u001b[0;34m]\u001b[0m\u001b[0;34m\u001b[0m\u001b[0;34m\u001b[0m\u001b[0m\n\u001b[0m\u001b[1;32m     14\u001b[0m     \u001b[0mfirst\u001b[0m \u001b[0;34m=\u001b[0m \u001b[0mtemp_nums\u001b[0m\u001b[0;34m[\u001b[0m\u001b[0ms\u001b[0m\u001b[0;34m-\u001b[0m\u001b[0;36m1\u001b[0m\u001b[0;34m]\u001b[0m\u001b[0;34m\u001b[0m\u001b[0;34m\u001b[0m\u001b[0m\n\u001b[1;32m     15\u001b[0m     \u001b[0;32mif\u001b[0m \u001b[0mm\u001b[0m \u001b[0;34m<=\u001b[0m \u001b[0mlen\u001b[0m\u001b[0;34m(\u001b[0m\u001b[0mtemp_nums\u001b[0m\u001b[0;34m[\u001b[0m\u001b[0ms\u001b[0m\u001b[0;34m-\u001b[0m\u001b[0;36m1\u001b[0m\u001b[0;34m:\u001b[0m\u001b[0;34m]\u001b[0m\u001b[0;34m)\u001b[0m\u001b[0;34m:\u001b[0m\u001b[0;34m\u001b[0m\u001b[0;34m\u001b[0m\u001b[0m\n",
      "\u001b[0;31mUnboundLocalError\u001b[0m: local variable 'nums' referenced before assignment"
     ]
    }
   ],
   "source": [
    "# 约瑟夫斯问题\n",
    "# 定义一个全局变量表示人数\n",
    "import copy\n",
    "global nums\n",
    "global new_num\n",
    "nums = list(range(0, 21))\n",
    "new_num = nums.copy()\n",
    "# n,s，m: n表示人数，从第s个人开始报数，数到m的人出列\n",
    "# n >=1, n>=s>1, m>1\n",
    "def order_pepole(n, m, s):\n",
    "    if n == 1:\n",
    "        return nums[0], nums\n",
    "    temp_nums = nums[:n]\n",
    "    first = temp_nums[s-1]\n",
    "    if m <= len(temp_nums[s-1:]):\n",
    "        per_local = s-1+m\n",
    "    else:\n",
    "        yushu = len(temp_nums) % m\n",
    "        per_local = s-1+yushu\n",
    "    if per_local > len(temp_nums):\n",
    "        per_local = per_local % len(temp_nums)\n",
    "    elif per_local == len(temp_nums):\n",
    "        per_local -= 1\n",
    "    s = per_lcoal + 1\n",
    "    if s > len(temp_nums):\n",
    "        s = s % len(temp_nums)\n",
    "    elif s == len(temp_nums):\n",
    "        s -= 1\n",
    "    del_per = nums.pop(per_local)\n",
    "    nums += [del_per]\n",
    "    temp_nums = nums[:n-1]\n",
    "    n -= 1\n",
    "    order_pepole(n, m, s)\n",
    "a = order_pepole(8, 4, 1)"
   ]
  },
  {
   "cell_type": "code",
   "execution_count": 16,
   "metadata": {},
   "outputs": [
    {
     "name": "stdout",
     "output_type": "stream",
     "text": [
      "Help on class list in module builtins:\n",
      "\n",
      "class list(object)\n",
      " |  list(iterable=(), /)\n",
      " |  \n",
      " |  Built-in mutable sequence.\n",
      " |  \n",
      " |  If no argument is given, the constructor creates a new empty list.\n",
      " |  The argument must be an iterable if specified.\n",
      " |  \n",
      " |  Methods defined here:\n",
      " |  \n",
      " |  __add__(self, value, /)\n",
      " |      Return self+value.\n",
      " |  \n",
      " |  __contains__(self, key, /)\n",
      " |      Return key in self.\n",
      " |  \n",
      " |  __delitem__(self, key, /)\n",
      " |      Delete self[key].\n",
      " |  \n",
      " |  __eq__(self, value, /)\n",
      " |      Return self==value.\n",
      " |  \n",
      " |  __ge__(self, value, /)\n",
      " |      Return self>=value.\n",
      " |  \n",
      " |  __getattribute__(self, name, /)\n",
      " |      Return getattr(self, name).\n",
      " |  \n",
      " |  __getitem__(...)\n",
      " |      x.__getitem__(y) <==> x[y]\n",
      " |  \n",
      " |  __gt__(self, value, /)\n",
      " |      Return self>value.\n",
      " |  \n",
      " |  __iadd__(self, value, /)\n",
      " |      Implement self+=value.\n",
      " |  \n",
      " |  __imul__(self, value, /)\n",
      " |      Implement self*=value.\n",
      " |  \n",
      " |  __init__(self, /, *args, **kwargs)\n",
      " |      Initialize self.  See help(type(self)) for accurate signature.\n",
      " |  \n",
      " |  __iter__(self, /)\n",
      " |      Implement iter(self).\n",
      " |  \n",
      " |  __le__(self, value, /)\n",
      " |      Return self<=value.\n",
      " |  \n",
      " |  __len__(self, /)\n",
      " |      Return len(self).\n",
      " |  \n",
      " |  __lt__(self, value, /)\n",
      " |      Return self<value.\n",
      " |  \n",
      " |  __mul__(self, value, /)\n",
      " |      Return self*value.\n",
      " |  \n",
      " |  __ne__(self, value, /)\n",
      " |      Return self!=value.\n",
      " |  \n",
      " |  __repr__(self, /)\n",
      " |      Return repr(self).\n",
      " |  \n",
      " |  __reversed__(self, /)\n",
      " |      Return a reverse iterator over the list.\n",
      " |  \n",
      " |  __rmul__(self, value, /)\n",
      " |      Return value*self.\n",
      " |  \n",
      " |  __setitem__(self, key, value, /)\n",
      " |      Set self[key] to value.\n",
      " |  \n",
      " |  __sizeof__(self, /)\n",
      " |      Return the size of the list in memory, in bytes.\n",
      " |  \n",
      " |  append(self, object, /)\n",
      " |      Append object to the end of the list.\n",
      " |  \n",
      " |  clear(self, /)\n",
      " |      Remove all items from list.\n",
      " |  \n",
      " |  copy(self, /)\n",
      " |      Return a shallow copy of the list.\n",
      " |  \n",
      " |  count(self, value, /)\n",
      " |      Return number of occurrences of value.\n",
      " |  \n",
      " |  extend(self, iterable, /)\n",
      " |      Extend list by appending elements from the iterable.\n",
      " |  \n",
      " |  index(self, value, start=0, stop=9223372036854775807, /)\n",
      " |      Return first index of value.\n",
      " |      \n",
      " |      Raises ValueError if the value is not present.\n",
      " |  \n",
      " |  insert(self, index, object, /)\n",
      " |      Insert object before index.\n",
      " |  \n",
      " |  pop(self, index=-1, /)\n",
      " |      Remove and return item at index (default last).\n",
      " |      \n",
      " |      Raises IndexError if list is empty or index is out of range.\n",
      " |  \n",
      " |  remove(self, value, /)\n",
      " |      Remove first occurrence of value.\n",
      " |      \n",
      " |      Raises ValueError if the value is not present.\n",
      " |  \n",
      " |  reverse(self, /)\n",
      " |      Reverse *IN PLACE*.\n",
      " |  \n",
      " |  sort(self, /, *, key=None, reverse=False)\n",
      " |      Sort the list in ascending order and return None.\n",
      " |      \n",
      " |      The sort is in-place (i.e. the list itself is modified) and stable (i.e. the\n",
      " |      order of two equal elements is maintained).\n",
      " |      \n",
      " |      If a key function is given, apply it once to each list item and sort them,\n",
      " |      ascending or descending, according to their function values.\n",
      " |      \n",
      " |      The reverse flag can be set to sort in descending order.\n",
      " |  \n",
      " |  ----------------------------------------------------------------------\n",
      " |  Static methods defined here:\n",
      " |  \n",
      " |  __new__(*args, **kwargs) from builtins.type\n",
      " |      Create and return a new object.  See help(type) for accurate signature.\n",
      " |  \n",
      " |  ----------------------------------------------------------------------\n",
      " |  Data and other attributes defined here:\n",
      " |  \n",
      " |  __hash__ = None\n",
      "\n"
     ]
    }
   ],
   "source": [
    "help(list)"
   ]
  },
  {
   "cell_type": "code",
   "execution_count": 4,
   "metadata": {},
   "outputs": [
    {
     "name": "stdout",
     "output_type": "stream",
     "text": [
      "A ==> C\n",
      "==============================\n",
      "A ==> B\n",
      "A ==> C\n",
      "B ==> C\n",
      "==============================\n",
      "A ==> B\n",
      "A ==> C\n",
      "B ==> C\n",
      "A ==> C\n",
      "B ==> C\n",
      "A ==> C\n",
      "B ==> A\n",
      "B ==> C\n",
      "A ==> C\n"
     ]
    }
   ],
   "source": [
    "# 练手\n",
    "def hannuota(a, b, c, n):\n",
    "    if n == 1:\n",
    "        print(\"{} ==> {}\".format(a,c))\n",
    "    elif n == 2:\n",
    "        print(\"{} ==> {}\".format(a,b))\n",
    "        print(\"{} ==> {}\".format(a,c))\n",
    "        print(\"{} ==> {}\".format(b,c))\n",
    "        \n",
    "    else:\n",
    "        hannuota(a,b,c,n-1)\n",
    "        print(\"{} ==> {}\".format(a,c))\n",
    "        hannuota(b,a,c,n-2)\n",
    "        \n",
    "a = \"A\"\n",
    "b = \"B\"\n",
    "c = \"C\"\n",
    "hannuota(a,b,c,1)\n",
    "print(\"=\"*30)\n",
    "hannuota(a,b,c,2)\n",
    "print(\"=\"*30)\n",
    "hannuota(a,b,c,4)"
   ]
  },
  {
   "cell_type": "markdown",
   "metadata": {},
   "source": [
    "# 斐波那契数列"
   ]
  },
  {
   "cell_type": "code",
   "execution_count": 16,
   "metadata": {},
   "outputs": [
    {
     "name": "stdout",
     "output_type": "stream",
     "text": [
      "55\n"
     ]
    }
   ],
   "source": [
    "# 递归法实现斐波那契数列\n",
    "def feibo(n):\n",
    "    if n == 1 or n == 2:\n",
    "        return 1\n",
    "    return feibo(n-1) + feibo(n-2)\n",
    "    \n",
    "print(feibo(10))"
   ]
  },
  {
   "cell_type": "code",
   "execution_count": null,
   "metadata": {},
   "outputs": [],
   "source": [
    "# 使用生成器实现斐波那契数列\n",
    "def gen_fib(num):\n",
    "    i, a, b = 0, 0, 1\n",
    "    while i < num:\n",
    "        a, b = b, a+b\n",
    "        yield a\n",
    "        i += 1\n",
    "    return \"Done\"\n",
    "g = gen_fib(5)\n",
    "\n",
    "# 生成器一般不用next去获取值，直接用for循环\n",
    "for i in g:\n",
    "    print(i)\n",
    "gen_fib(5)"
   ]
  },
  {
   "cell_type": "code",
   "execution_count": 15,
   "metadata": {},
   "outputs": [
    {
     "name": "stdout",
     "output_type": "stream",
     "text": [
      "<class 'generator'>\n",
      "1\n",
      "1\n",
      "2\n",
      "3\n",
      "5\n"
     ]
    }
   ],
   "source": [
    "# 练手\n",
    "def gen_feibo(num):\n",
    "    a,b,i = 0,1,0\n",
    "    while i < num:\n",
    "        a, b = b, a+b\n",
    "        yield a\n",
    "        i += 1\n",
    "    return \"Done\"\n",
    "\n",
    "g = gen_feibo(5)\n",
    "print(type(g))\n",
    "for result in g:\n",
    "    print(result)"
   ]
  },
  {
   "cell_type": "code",
   "execution_count": 20,
   "metadata": {},
   "outputs": [
    {
     "name": "stdout",
     "output_type": "stream",
     "text": [
      "5\n"
     ]
    }
   ],
   "source": [
    "# 斐波那契数列的另一种写法\n",
    "def new_feibo(num):\n",
    "    a, b, i = 0, 1 , 0\n",
    "    for i in range(num):\n",
    "        a, b = b, a+b\n",
    "    return a\n",
    "print(new_feibo(5))"
   ]
  },
  {
   "cell_type": "code",
   "execution_count": 22,
   "metadata": {},
   "outputs": [
    {
     "name": "stdout",
     "output_type": "stream",
     "text": [
      "这是阶乘啊\n",
      "24\n",
      "现在的递归深度是 3000\n",
      "现在的递归深度是 5000\n"
     ]
    }
   ],
   "source": [
    "# 递归函数实现阶乘\n",
    "import sys\n",
    "def jie(num):\n",
    "    if num == 1:\n",
    "        return 1\n",
    "    return num * jie(num-1)\n",
    "\n",
    "\n",
    "print(\"这是阶乘啊\")\n",
    "print(jie(4))\n",
    "\n",
    "print(\"现在的递归深度是\", sys.getrecursionlimit())\n",
    "sys.setrecursionlimit(5000)\n",
    "print(\"现在的递归深度是\", sys.getrecursionlimit())"
   ]
  },
  {
   "cell_type": "markdown",
   "metadata": {},
   "source": [
    "# 尾递归优化\n"
   ]
  },
  {
   "cell_type": "code",
   "execution_count": null,
   "metadata": {},
   "outputs": [],
   "source": [
    "# 尾递归优化,python目前还不支持尾递归优化\n",
    "import sys\n",
    "def fact(n):\n",
    "    return fact_iter(n, 1)\n",
    "\n",
    "def fact_iter(num, product):\n",
    "    if num ==1:\n",
    "        return product\n",
    "    return fact_iter(num -1, num * product)\n",
    "\n",
    "print(\"现在的递归深度是\", sys.getrecursionlimit())\n",
    "fact_iter(5,1)"
   ]
  },
  {
   "cell_type": "code",
   "execution_count": null,
   "metadata": {},
   "outputs": [],
   "source": [
    "def is_huiwen(string):\n",
    "    if not string:\n",
    "        raise ValueError(\"值不能为空\")\n",
    "    if len(string) == 1:\n",
    "        return True\n",
    "    "
   ]
  },
  {
   "cell_type": "code",
   "execution_count": 76,
   "metadata": {},
   "outputs": [
    {
     "name": "stdout",
     "output_type": "stream",
     "text": [
      "[1, 2, 3, 4, 5, 6, 7, 8, 9, 10]\n",
      "[3, 6, 9, 2, 7, 1, 8, 5, 10, 4]\n",
      "[4, 8, 5, 2, 1, 3, 7, 6]\n"
     ]
    }
   ],
   "source": [
    "# 约瑟夫斯问题，时间复杂度O(n2):for循环中嵌套了了一个del，为O(n),for循环又是O(n)，所以为O(n2)\n",
    "# 解法1，删除被选中的元素\n",
    "n = [i for i in range(1, 11)]\n",
    "def gen_arr(num):\n",
    "    return [i for i in range(1, num)]\n",
    "m = 3\n",
    "start = 1\n",
    "\n",
    "def yuesefu(n, m, start):\n",
    "    result = []\n",
    "    for i in range(len(n)):\n",
    "        start = (start + m - 1) % len(n)\n",
    "        result.append(n[start - 1])\n",
    "        del n[start - 1]\n",
    "        if start == 0:\n",
    "            start += 1\n",
    "        \n",
    "    return result\n",
    "        \n",
    "r = yuesefu(n, m, start)\n",
    "q = yuesefu(gen_arr(9), 4, 1)\n",
    "print(r)\n",
    "print(q)"
   ]
  },
  {
   "cell_type": "code",
   "execution_count": 100,
   "metadata": {},
   "outputs": [
    {
     "name": "stdout",
     "output_type": "stream",
     "text": [
      "[3, 6, 9, 2, 7, 1, 8, 5, 10, 4]\n",
      "[4, 8, 5, 2, 1, 3, 7, 6]\n"
     ]
    }
   ],
   "source": [
    "# 约瑟夫斯的另外一种解法\n",
    "# 解法2：将被选中的元素替换为FALSE，时间复杂度也为O(n2),while和for\n",
    "n = [i for i in range(1, 11)]\n",
    "def gen_arr(num):\n",
    "    return [i for i in range(1, num)]\n",
    "m = 3\n",
    "start = 1\n",
    "\n",
    "def yuesefu_one(n, m, start):\n",
    "    result = []\n",
    "    num = 1\n",
    "    while (any(n)):\n",
    "        for index, ele in enumerate(n):\n",
    "            if ele:\n",
    "                if num == m:\n",
    "                    result.append(n[index])\n",
    "                    n[index]=0\n",
    "                    num = 1\n",
    "                    \n",
    "                else:\n",
    "                    num += 1\n",
    "    return result\n",
    "print(yuesefu_one(n, m, start))\n",
    "print(yuesefu_one(gen_arr(9), 4, 1))"
   ]
  },
  {
   "cell_type": "code",
   "execution_count": 119,
   "metadata": {},
   "outputs": [
    {
     "name": "stdout",
     "output_type": "stream",
     "text": [
      "[3, 6, 9, 2, 7, 1, 8, 5, 10, 4]\n"
     ]
    }
   ],
   "source": [
    "# # 约瑟夫斯的另外一种解法:递归\n",
    "# 解法3：递归\n",
    "# \n",
    "n = [i for i in range(1, 11)]\n",
    "def gen_arr(num):\n",
    "    return [i for i in range(1, num)]\n",
    "m = 3\n",
    "start = 1\n",
    "\n",
    "def yuesefu_two(n, m, start, result):\n",
    "    if len(n) == 1:\n",
    "        result.append(n[0])\n",
    "        return result\n",
    "    start = (start + m - 1) % len(n)\n",
    "    result.append(n[start-1])\n",
    "    del n[start-1]\n",
    "    yuesefu_two(n, m, start, result)\n",
    "    return result\n",
    "\n",
    "r = yuesefu_two(n, m, start, [])\n",
    "print(r)"
   ]
  },
  {
   "cell_type": "code",
   "execution_count": 83,
   "metadata": {},
   "outputs": [
    {
     "name": "stdout",
     "output_type": "stream",
     "text": [
      "None\n"
     ]
    },
    {
     "ename": "TypeError",
     "evalue": "'LifoQueue' object is not iterable",
     "output_type": "error",
     "traceback": [
      "\u001b[0;31m---------------------------------------------------------------------------\u001b[0m",
      "\u001b[0;31mTypeError\u001b[0m                                 Traceback (most recent call last)",
      "\u001b[0;32m<ipython-input-83-4d15270d94fd>\u001b[0m in \u001b[0;36m<module>\u001b[0;34m\u001b[0m\n\u001b[1;32m     10\u001b[0m         \u001b[0mprint\u001b[0m\u001b[0;34m(\u001b[0m\u001b[0mt\u001b[0m\u001b[0;34m)\u001b[0m\u001b[0;34m\u001b[0m\u001b[0;34m\u001b[0m\u001b[0m\n\u001b[1;32m     11\u001b[0m         \u001b[0;32mreturn\u001b[0m \u001b[0mq\u001b[0m\u001b[0;34m\u001b[0m\u001b[0;34m\u001b[0m\u001b[0m\n\u001b[0;32m---> 12\u001b[0;31m \u001b[0mlist\u001b[0m\u001b[0;34m(\u001b[0m\u001b[0mis_huiwen\u001b[0m\u001b[0;34m(\u001b[0m\u001b[0;34m\"sbjl\"\u001b[0m\u001b[0;34m)\u001b[0m\u001b[0;34m)\u001b[0m\u001b[0;34m\u001b[0m\u001b[0;34m\u001b[0m\u001b[0m\n\u001b[0m",
      "\u001b[0;31mTypeError\u001b[0m: 'LifoQueue' object is not iterable"
     ]
    }
   ],
   "source": [
    "# 判断是否是回文的算法\n",
    "import queue\n",
    "q = queue.LifoQueue()\n",
    "\n",
    "def is_huiwen(str_obj, length):\n",
    "    i = 0\n",
    "    if length % 2 == 0:\n",
    "        mid = length / 2\n",
    "        cal = True\n",
    "    else:\n",
    "        mid = (length + 1) / 2\n",
    "        cal = False\n",
    "    while (i < length):\n",
    "        if i < mid:\n",
    "            q.put(str_obj[i])\n",
    "            i += 1\n",
    "        print(t)\n",
    "        return q\n",
    "is_huiwen(\"sbjl\")"
   ]
  },
  {
   "cell_type": "code",
   "execution_count": 81,
   "metadata": {},
   "outputs": [
    {
     "ename": "TypeError",
     "evalue": "argument of type 'LifoQueue' is not iterable",
     "output_type": "error",
     "traceback": [
      "\u001b[0;31m---------------------------------------------------------------------------\u001b[0m",
      "\u001b[0;31mTypeError\u001b[0m                                 Traceback (most recent call last)",
      "\u001b[0;32m<ipython-input-81-e2392ba0df6e>\u001b[0m in \u001b[0;36m<module>\u001b[0;34m\u001b[0m\n\u001b[0;32m----> 1\u001b[0;31m \u001b[0;34m\"i\"\u001b[0m \u001b[0;32min\u001b[0m \u001b[0mq\u001b[0m\u001b[0;34m\u001b[0m\u001b[0;34m\u001b[0m\u001b[0m\n\u001b[0m",
      "\u001b[0;31mTypeError\u001b[0m: argument of type 'LifoQueue' is not iterable"
     ]
    }
   ],
   "source": [
    "\"i\" in q"
   ]
  },
  {
   "cell_type": "code",
   "execution_count": null,
   "metadata": {},
   "outputs": [],
   "source": []
  }
 ],
 "metadata": {
  "kernelspec": {
   "display_name": "Python 3",
   "language": "python",
   "name": "python3"
  },
  "language_info": {
   "codemirror_mode": {
    "name": "ipython",
    "version": 3
   },
   "file_extension": ".py",
   "mimetype": "text/x-python",
   "name": "python",
   "nbconvert_exporter": "python",
   "pygments_lexer": "ipython3",
   "version": "3.8.8"
  }
 },
 "nbformat": 4,
 "nbformat_minor": 2
}
