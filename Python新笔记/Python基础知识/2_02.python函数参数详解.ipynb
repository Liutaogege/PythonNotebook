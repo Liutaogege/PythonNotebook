{
 "cells": [
  {
   "cell_type": "markdown",
   "metadata": {},
   "source": [
    "# 函数的参数\n",
    "- 位置参数\n",
    "    - 调用函数时，传入的值按照位置顺序传入的参数\n",
    "- 默认参数\n",
    "    - 就是在定义函数时，某些参数已经默认给赋值了，若不传入该参数则函数默认调用默认值，若传入该参数则替代原来的默认值\n",
    "    - 注意以下两点：\n",
    "        - 必选参数在前，默认参数在后\n",
    "        - 当有多个默认参数时，把可能改动的多的参数放在前面，改动的少的放在后面\n",
    "    - 默认参数有个很大的坑需要注意\n",
    "        - 定义默认参数要牢记一点：默认参数必须指向不变对象！否则会出问题\n",
    "- 可变参数\n",
    "    - 可变参数就是传入的参数个数是可变的,可以是任意个参数\n",
    "    - 在参数前加上*号，若参数是列表或者元组，*nums表示把nums这个list的所有元素作为可变参数传进去\n",
    "- 关键字参数\n",
    "    - 关键字参数允许你传入0个或任意个含参数名的参数，这些关键字参数在函数内部自动组装为一个dict\n",
    "- 命名关键字参数\n",
    "    - 如果要限制关键字参数的名字，就可以用命名关键字参数\n",
    "    - 命名关键字参数需要一个特殊分隔符*，*后面的参数被视为命名关键字参数。\n",
    "    - 如果函数定义中已经有了一个可变参数，后面跟着的命名关键字参数就不再需要一个特殊分隔符*了：\n",
    "    - 命名关键字参数必须传入参数名，这和位置参数不同。如果没有传入参数名，调用将报错：\n",
    "    - 使用命名关键字参数时，要特别注意，如果没有可变参数，就必须加一个*作为特殊分隔符。如果缺少*，Python解释器将无法识别位置参数和命名关键字参数\n",
    "    \n",
    "# 参数组合\n",
    "    - 在Python中定义函数，可以用必选参数、默认参数、可变参数、关键字参数和命名关键字参数，这5种参数都可以组合使用。但是请注意，参数定义的顺序必须是：必选参数、默认参数、可变参数、命名关键字参数和关键字参数。"
   ]
  },
  {
   "cell_type": "code",
   "execution_count": null,
   "metadata": {},
   "outputs": [],
   "source": [
    "# 默认参数举例\n",
    "def saying(name, country=\"China\"):\n",
    "    print(\"my name is {},I am from {}\".format(name, country))\n",
    "saying(\"xiaoming\")\n",
    "saying(\"liutao\", \"GuiZhou\")\n",
    "\n",
    "# 默认参数的坑举例\n",
    "def adding(l=[]):\n",
    "    l.append(\"END\")\n",
    "    return l\n",
    "\n",
    "# 正常调用没事\n",
    "lst = adding([1, 3, 4])\n",
    "print(lst)\n",
    "ll = adding([\"x\", \"y\", \"z\"])\n",
    "print(ll)\n",
    "\n",
    "#但是不调用时问题出现了,因为[]是可变对象，所以每次调用该函数，如果改变了L的内容，则下次调用时，默认参数的内容就变了，不再是函数定义时的[]了\n",
    "adding()\n",
    "adding()\n",
    "adding()\n",
    "l = adding()\n",
    "print(l)\n",
    "\n",
    "# 改写\n",
    "def adding(l = None):\n",
    "    if l is None:\n",
    "        l = []\n",
    "    l.append(\"END\")\n",
    "    return l\n",
    "\n",
    "adding()\n",
    "adding()\n",
    "adding()\n",
    "l = adding()\n",
    "print(l)"
   ]
  },
  {
   "cell_type": "code",
   "execution_count": null,
   "metadata": {},
   "outputs": [],
   "source": [
    "# 可变参数举例\n",
    "def suming(*args):\n",
    "    total = 0\n",
    "    for arg in args:\n",
    "        total += arg\n",
    "    return total\n",
    "\n",
    "a = suming(2, 5)\n",
    "print(a)\n",
    "b = suming(3, 5, 6, 7)\n",
    "print(b)\n",
    "c = suming()\n",
    "print(c)\n",
    "\n",
    "lst = [2, 5, 5, 6]\n",
    "d = suming(*lst)  #对于传入的参数时序列的话，必须要加上*号\n",
    "print(d)"
   ]
  },
  {
   "cell_type": "code",
   "execution_count": null,
   "metadata": {},
   "outputs": [],
   "source": [
    "# 关键字参数\n",
    "def person(name, age, **kw):\n",
    "    print(\"name:\", name, \"age:\", age, \"other:\", kw)\n",
    "    \n",
    "other = {\"address\":\"Chengdu\", \"height\": 158}\n",
    "person(\"litao\", 23, city=\"GuiZhou\", height=173)\n",
    "person(\"jiaojao\", 21)\n",
    "person(\"xiaoxiao\", 21, **other)  #**other是对原来数据的一份拷贝，所以对kw的更改不会影响原来的数\n"
   ]
  },
  {
   "cell_type": "code",
   "execution_count": null,
   "metadata": {},
   "outputs": [],
   "source": [
    "# 命名关键字参数\n",
    "def person(name, age, *, address, hobby):\n",
    "    print(name, age, address, hobby)\n",
    "    \n",
    "# 此时就不能再任意传入关键字参数了，会报错\n",
    "#person(\"liutao\", 23, address=\"Chengdu\", hobby=\"PlayingGames\", height=173)\n",
    "person(\"liutao\", 23, address=\"Chengdu\", hobby=\"PlayingGames\")\n",
    "\n",
    "\n",
    "# 若设置默认参数，则可以不传入\n",
    "def person(name, age, *, address=\"Chengdu\", hobby):\n",
    "    print(name, age, address, hobby)  \n",
    "person(\"jiaojao\", 21, hobby=\"WatchingMovie\")\n",
    "\n",
    "# 若前面已经有可变参数，则无需加入*号\n",
    "def new_person(*args, address, hobby):\n",
    "    for arg in args:\n",
    "        print(arg, end=\"-\")\n",
    "    print(address, hobby)\n",
    "new_person(\"liutao\", 23, \"53kg\", address=\"ChendDu\", hobby=\"Watching\")"
   ]
  },
  {
   "cell_type": "code",
   "execution_count": null,
   "metadata": {},
   "outputs": [],
   "source": []
  }
 ],
 "metadata": {
  "kernelspec": {
   "display_name": "Python 3",
   "language": "python",
   "name": "python3"
  },
  "language_info": {
   "codemirror_mode": {
    "name": "ipython",
    "version": 3
   },
   "file_extension": ".py",
   "mimetype": "text/x-python",
   "name": "python",
   "nbconvert_exporter": "python",
   "pygments_lexer": "ipython3",
   "version": "3.7.3"
  }
 },
 "nbformat": 4,
 "nbformat_minor": 2
}
