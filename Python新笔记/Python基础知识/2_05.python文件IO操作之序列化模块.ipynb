{
 "cells": [
  {
   "cell_type": "markdown",
   "metadata": {},
   "source": [
    "# 用于序列化的两个模块：json和pickle\n",
    "- 两者区别：pickle不是用于多种语言间的数据传输，仅仅作为对Python对象的持久化；Json只能处理简单类型数据\n",
    "- json：用于字符串和Python数据类型间进行转换\n",
    "- pickle: 用于python特有的类型和python的数据类型间进行转换\n",
    "- json提供四个功能：dumps,dump,loads,load\n",
    "- pickle提供四个功能：dumps,dump,loads,load\n",
    "## pickle\n",
    "- 序列化（持久化，落地，串行化）：把程序运行的信息保存在磁盘上，dump\n",
    "- 反序列化（反串行化）：序列化的逆过程load\n",
    "\n",
    "### pickle可存储的数据类型\n",
    "- 所有python支持的原生类型：布尔值，整数，浮点数，复数，字符串，字节，None。\n",
    "- 列表，元组，字典，集合\n",
    "- 函数，类，类的实例\n",
    "### pickle常用方法\n",
    "- pickle.dump(obj, file, protocol=None)\n",
    "    - obj：表示要封装的对象\n",
    "    - file：表示obj要写入的文件对象，file必须以二进制可写模式打开\n",
    "    - protocol：告知pickle的使用协议，有0，1,2，3默认为Python 3中的3\n",
    "- pickle.load(file,*, fix_imports=True,encoding=\"ASCII\",errors=\"strict\")\n",
    "    - file必须以二进制可读模式打开，其他参数可选\n",
    "- pickle.dumps(obj):\n",
    "    - 以字节对象形式返回封装的对象，不需要写入文件中\n",
    "- pickle.loads(bytes_object):\n",
    "    - 从字节对象中读取被封装的对象并返回\n",
    "### pickle可能出现的三种异常\n",
    "- PickleError:封装和拆封装出现的异常\n",
    "- PicklingError：遇到不可封装的对象\n",
    "- UnPicklingError:拆封对象过程中出现的异常\n",
    "\n",
    "# json模块\n",
    "- 参数：\n",
    "    - Skipkeys：默认值是False，如果dict的keys内的数据不是python的基本类型(str,unicode,int,long,float,bool,None)，设置为False时，就会报TypeError的错误。此时设置成True，则会跳过这类key\n",
    "\n",
    "    - ensure_ascii：默认值True，如果dict内含有non-ASCII的字符，则会类似\\uXXXX的显示数据，设置成False后，就能正常显示\n",
    "\n",
    "    - indent：应该是一个非负的整型，如果是0，或者为空，则一行显示数据，否则会换行且按照indent的数量显示前面的空白，这样打印出来的json数据也叫pretty-printed json\n",
    "\n",
    "    - separators：分隔符，实际上是(item_separator, dict_separator)的一个元组，默认的就是(',',':')；这表示dictionary内keys之间用“,”隔开，而KEY和value之间用“：”隔开。\n",
    "\n",
    "    - encoding：默认是UTF-8，设置json数据的编码方式。\n",
    "\n",
    "    - sort_keys：将数据根据keys的值进行排序。\n",
    "\n",
    "    - Decode过程，是把json对象转换成python对象的一个过程，常用的两个函数是loads和load函数。区别跟dump和dumps是一样的。"
   ]
  },
  {
   "cell_type": "code",
   "execution_count": null,
   "metadata": {},
   "outputs": [],
   "source": [
    "# pickle举例\n",
    "# 序列化\n",
    "import pickle\n",
    "a = \"你总是心太软心太软\"\n",
    "with open(r\"C:\\Users\\acer\\Desktop\\test.txt\", 'wb') as f:\n",
    "    pickle.dump(a, f)\n",
    "    print(\"写入完成\")\n",
    "    \n",
    "# 反序列化\n",
    "with open(r\"C:\\Users\\acer\\Desktop\\test.txt\", 'rb') as f:\n",
    "    a = pickle.load(f)\n",
    "    print(\"输出完成\")\n",
    "    print(a)"
   ]
  },
  {
   "cell_type": "markdown",
   "metadata": {},
   "source": [
    "# 持久化—shelve\n",
    "- 持久化工具\n",
    "- 类似字典，用kv键值对保存数据，存取方式跟字典类似\n",
    "- open.close\n",
    "\n",
    "# shelve方法\n",
    "- shelve.open(filename, flag=’c’, protocol=None, writeback=False):\n",
    "    - 创建或打开一个shelve对象。shelve默认打开方式支持同时读写操作。\n",
    "    - 可选参数flag：\n",
    "        - 默认为‘c’，如果数据文件不存在，就创建，允许读写\n",
    "        - ‘r’: 只读；’w’: 可读写; ‘n’: 每次调用open()都重新创建一个空的文件，可读写。\n",
    "        - protocol：序列化模式\n",
    "- shelve.close()\n",
    "    - 同步并关闭shelve对象，每次使用完毕，一定要关闭\n",
    "    - 可用with方法\n",
    "\n",
    "# shelve特性\n",
    "- 不支持多个应用并行写入\n",
    "    - 为了解决这个问题，open的时候可以使用flag=r\n",
    "- 写回问题：\n",
    "    - shelve默认情况下不会等待持久化对象进行任何修改\n",
    "    - 解决办法：强制写回，writeback=True,建议在对数据进行更改后进行强制写回，增加内存消耗，所有对象都会被重新写入，浪费时间\n",
    "    \n",
    "# shelve与anydbm\n",
    "- 相同点\n",
    "    - 1.anydbm, shelve 都是对象持久化保存方法，将对象保存到文件里面，缺省的数据存储文件是二进制的。这两个模块允许我们将一个磁盘上的文件与一个”dict-like”对象（类字典对象）关联起来，操作这个“dict-like”对象，就像操作dict对象一项，最后可以将“dict-like”的数据持久化到文件。\n",
    "    - 2.都可以使用open函数。\n",
    "\n",
    "- 区别：\n",
    "    - anydbm的key和value的类型必须都是字符串，而shelve的key要求必须是字符串，value则可以是任意合法的python数据类型。"
   ]
  },
  {
   "cell_type": "code",
   "execution_count": null,
   "metadata": {},
   "outputs": [],
   "source": [
    "# 使用shelve创建文件并使用\n",
    "import shelve\n",
    "import os\n",
    "# 打开文件\n",
    "# shv相当于一个字典\n",
    "os.chdir(r\"C:\\Users\\acer\\Desktop\")\n",
    "shv = shelve.open(r\"shv.db\")\n",
    "shv['one'] = 'apple'\n",
    "shv['two'] = 'pear'\n",
    "print(shv.keys())\n",
    "shv.close()"
   ]
  },
  {
   "cell_type": "code",
   "execution_count": null,
   "metadata": {},
   "outputs": [],
   "source": [
    "# shelve读取数据,若访问数据不存在，则报错，建议使用try语句\n",
    "shv = shelve.open(r'shv.db')\n",
    "print(shv)\n",
    "print(shv['one'])\n",
    "shv.close()"
   ]
  },
  {
   "cell_type": "code",
   "execution_count": null,
   "metadata": {},
   "outputs": [],
   "source": [
    "# shelve之只读打开\n",
    "import shelve\n",
    "shv = shelve.open(r'shv.db', flag=\"r\")\n",
    "try:\n",
    "    k = shv['one']\n",
    "    print(k)\n",
    "finally:\n",
    "    shv.close()"
   ]
  },
  {
   "cell_type": "code",
   "execution_count": 1,
   "metadata": {},
   "outputs": [
    {
     "name": "stdout",
     "output_type": "stream",
     "text": [
      "{'name': 'ass', 'fool': 'dump'}\n",
      "{'name': 'butt', 'fool': 'dump'}\n"
     ]
    }
   ],
   "source": [
    "# 强制写回案例\n",
    "import shelve\n",
    "shv = shelve.open(r'new_shv.db')\n",
    "try: \n",
    "    shv['one'] = {'name':\"ass\", \"fool\":'dump'} \n",
    "finally:\n",
    "    shv.close()\n",
    "\n",
    "    \n",
    "shv = shelve.open(r'new_shv.db', writeback=True) #若无writeback则修改不了\n",
    "try:\n",
    "    one = shv['one']\n",
    "    print(one)\n",
    "    one['name'] = 'butt'\n",
    "finally:\n",
    "    shv.close()\n",
    "\n",
    "    \n",
    "shv = shelve.open(r'new_shv.db')\n",
    "try:\n",
    "    one = shv['one']\n",
    "    print(one)\n",
    "finally:\n",
    "    shv.close()"
   ]
  },
  {
   "cell_type": "code",
   "execution_count": null,
   "metadata": {},
   "outputs": [],
   "source": [
    "# shelve忘记写回，则需要强制写回\n",
    "shv = shelve.open(r\"shv.db\")\n"
   ]
  }
 ],
 "metadata": {
  "kernelspec": {
   "display_name": "Python 3",
   "language": "python",
   "name": "python3"
  },
  "language_info": {
   "codemirror_mode": {
    "name": "ipython",
    "version": 3
   },
   "file_extension": ".py",
   "mimetype": "text/x-python",
   "name": "python",
   "nbconvert_exporter": "python",
   "pygments_lexer": "ipython3",
   "version": "3.7.3"
  }
 },
 "nbformat": 4,
 "nbformat_minor": 2
}
