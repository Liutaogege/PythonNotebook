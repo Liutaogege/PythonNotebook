{
 "cells": [
  {
   "cell_type": "markdown",
   "metadata": {},
   "source": [
    "# 可迭代的对象\n",
    "- 可以直接使用for循环遍历的对象，称为可迭代的对象，常见的可迭代对象有：list, tuple, dict, set, str以及生成器\n",
    "- 更标准的判断方法是：判断该对象是否实现了__iter__方法，并且这个方法会返回一迭代器对象 \n",
    "- 可直接作用域for循环\n",
    "\n",
    "\n",
    "# 迭代器\n",
    "- 定义：迭代，顾名思义就是重复做一些事很多次（就现在循环中做的那样）。它就是一个可迭代的对象，他能在你调用next()方法的时候返回容器中的下一个值，任何实现了__iter__和__next__()（python2中实现的是next()）方法的对象都是迭代器，__iter__返回迭代器自身，__next__返回容器中的下一个值，如果容器中没有更多元素了，则抛出StopIteration异常。 [注意]：迭代器只能前进不能后退\n",
    "- 不但可以作用域for循环，还可以被next调用\n",
    "\n",
    "# 生成器\n",
    "- 生成器其实是一种特殊的迭代器，不过这种迭代器更加优雅。它不需要再像上面的类一样写__iter__()和__next__()方法了，只需要一个yiled关键字。 生成器一定是迭代器（反之不成立）。所以看一个函数是否使用yield，若使用就是生成器\n",
    "- 通俗来说，生成器不会一次性把所有数据都加载到内存中，而是在循环的时候临时生成的，循环一次生成一个数据，所以在程序运行期间永远都只会生成一个数据，从而大大的节省内存\n",
    "- 总结：\n",
    "    - 语法上和函数类似：生成器函数和常规函数几乎是一样的。它们都是使用def语句进行定义，差别在于，生成器使用yield语句返回一个值，而常规函数使用return语句返回一个值\n",
    "    - 自动实现迭代器协议：对于生成器，Python会自动实现迭代器协议，以便应用到迭代背景中（如for循环，sum函数）。由于生成器自动实现了迭代器协议，所以，我们可以调用它的next方法，并且，在没有值可以返回的时候，生成器自动产生StopIteration异常\n",
    "    - 状态挂起：生成器使用yield语句返回一个值。yield语句挂起该生成器函数的状态，保留足够的信息，以便之后从它离开的地方继续执行\n",
    "- generator:一边循环一边计算下一个元素的机制/算法\n",
    "- 如果达到最后一个后，爆出StopIteation异常\n",
    "- 可以被next函数调用\n",
    "- 生成器是一种特殊的迭代器，但迭代器不是生成器，因为迭代器没有传入数据功能，\n",
    "\n",
    "### 如何生成一个生成器\n",
    "- 直接使用()\n",
    "- 如果函数中包含yield，则这个函数叫生成器。yield语句形式： value = yield 表达式（每次迭代要返回的值），value用来接收其他对象send的值\n",
    "- 生成器的四种方法：\n",
    "    - 1、next(g):调用函数，遇到yield返回。next函数也称为预激，意思是让程序准备执行\n",
    "    - 2、send()：向生成器传递值进去\n",
    "        - 注意：在调用send()发送非None值之前必须先启动生成器，可以用①next()②send(None)两种方式预激\n",
    "    - 3、close()方法：\n",
    "        - 意思指关闭生成器，不能再进行访问\n",
    "        - 调用close()之后， 生成器不再往下运行，继续next的话会产生StopIteration异常\n",
    "    - 4、throw()方法：手动抛出异常，且throw函数会返回下一个要迭代的值或者是StopIteration\n",
    "- 生成器的典型用法是在for中使用，比较常用的典型生成器就是range\n",
    "\n",
    "\n",
    "## 如何判断一个对象是可迭代对象或迭代器或生成器\n",
    "- 导入\n",
    "        from collections import Iterable\n",
    "        from collections import Iterator\n",
    "        from inspect import isgenerator\n",
    "- 是否是可迭代对象：isinstance(obj, Iterable)\n",
    "- 是否是迭代器：isinstance(obj, Iterator)\n",
    "- 是否是生成器：isgenerator(obj)\n",
    "\n",
    "## 可迭代的对象与迭代器的转换\n",
    "- 通过iter()方法可将可迭代的对象转化为迭代器：iter(obj)"
   ]
  },
  {
   "cell_type": "code",
   "execution_count": 2,
   "metadata": {},
   "outputs": [
    {
     "name": "stdout",
     "output_type": "stream",
     "text": [
      "<class 'generator'>\n",
      "列表是可迭代对象吗: True\n",
      "列表是迭代器吗 False\n",
      "列表是生成器吗 False\n",
      "g是可迭代对象吗: True\n",
      "g是迭代器吗 True\n",
      "g是生成器吗 True\n"
     ]
    },
    {
     "name": "stderr",
     "output_type": "stream",
     "text": [
      "e:\\Users\\acer\\Anaconda3\\lib\\site-packages\\ipykernel_launcher.py:1: DeprecationWarning: Using or importing the ABCs from 'collections' instead of from 'collections.abc' is deprecated, and in 3.8 it will stop working\n",
      "  \"\"\"Entry point for launching an IPython kernel.\n"
     ]
    }
   ],
   "source": [
    "from collections import Iterable, Iterator\n",
    "from inspect import isgenerator\n",
    "\n",
    "l = [1, 2, 3]\n",
    "g = (i for i in l)\n",
    "print(type(g))\n",
    "print(\"列表是可迭代对象吗:\", isinstance(l, Iterable))\n",
    "print(\"列表是迭代器吗\", isinstance(l, Iterator))\n",
    "print(\"列表是生成器吗\", isgenerator(l))\n",
    "\n",
    "print(\"g是可迭代对象吗:\", isinstance(g, Iterable))\n",
    "print(\"g是迭代器吗\", isinstance(g, Iterator))\n",
    "print(\"g是生成器吗\", isgenerator(g))"
   ]
  },
  {
   "cell_type": "code",
   "execution_count": 3,
   "metadata": {},
   "outputs": [
    {
     "name": "stdout",
     "output_type": "stream",
     "text": [
      "True\n",
      "False\n",
      "True\n",
      "True\n"
     ]
    }
   ],
   "source": [
    "from collections import Iterable, Iterator\n",
    "from inspect import isgenerator\n",
    "\n",
    "# 自定义实现可迭代对象\n",
    "class MyIter():\n",
    "    def __init__(self, start, end):\n",
    "        self.index = start\n",
    "        self.end = end\n",
    "\n",
    "    def __iter__(self):\n",
    "        # 要返回一个迭代器对象\n",
    "        return MyIterator(self.index, self.end)\n",
    "\n",
    "\n",
    "\n",
    "# 自定义实现迭代器\n",
    "class MyIterator():\n",
    "    def __init__(self, start, end):\n",
    "        self.index = start\n",
    "        self.end = end\n",
    "\n",
    "    def __iter__(self):\n",
    "        return self\n",
    "\n",
    "    def __next__(self):\n",
    "        if self.index < self.end:\n",
    "            temp = self.index\n",
    "            self.index += 1\n",
    "        else:\n",
    "            raise StopIteration()\n",
    "        return temp\n",
    "\n",
    "l = MyIter(1, 10)\n",
    "print(isinstance(l, Iterable))\n",
    "print(isinstance(l, Iterator))\n",
    "\n",
    "ll = MyIterator(1, 10)\n",
    "print(isinstance(ll, Iterable))\n",
    "print(isinstance(ll, Iterator))"
   ]
  },
  {
   "cell_type": "code",
   "execution_count": 1,
   "metadata": {},
   "outputs": [
    {
     "name": "stdout",
     "output_type": "stream",
     "text": [
      "<class 'function'>\n",
      "1\n",
      "2\n",
      "3\n"
     ]
    },
    {
     "ename": "StopIteration",
     "evalue": "",
     "output_type": "error",
     "traceback": [
      "\u001b[1;31m---------------------------------------------------------------------------\u001b[0m",
      "\u001b[1;31mStopIteration\u001b[0m                             Traceback (most recent call last)",
      "\u001b[1;32m<ipython-input-1-554328f8c57b>\u001b[0m in \u001b[0;36m<module>\u001b[1;34m\u001b[0m\n\u001b[0;32m     14\u001b[0m \u001b[0mprint\u001b[0m\u001b[1;33m(\u001b[0m\u001b[0mnext\u001b[0m\u001b[1;33m(\u001b[0m\u001b[0mg\u001b[0m\u001b[1;33m)\u001b[0m\u001b[1;33m)\u001b[0m\u001b[1;33m\u001b[0m\u001b[1;33m\u001b[0m\u001b[0m\n\u001b[0;32m     15\u001b[0m \u001b[0mprint\u001b[0m\u001b[1;33m(\u001b[0m\u001b[0mnext\u001b[0m\u001b[1;33m(\u001b[0m\u001b[0mg\u001b[0m\u001b[1;33m)\u001b[0m\u001b[1;33m)\u001b[0m\u001b[1;33m\u001b[0m\u001b[1;33m\u001b[0m\u001b[0m\n\u001b[1;32m---> 16\u001b[1;33m \u001b[0mprint\u001b[0m\u001b[1;33m(\u001b[0m\u001b[0mnext\u001b[0m\u001b[1;33m(\u001b[0m\u001b[0mg\u001b[0m\u001b[1;33m)\u001b[0m\u001b[1;33m)\u001b[0m\u001b[1;33m\u001b[0m\u001b[1;33m\u001b[0m\u001b[0m\n\u001b[0m",
      "\u001b[1;31mStopIteration\u001b[0m: "
     ]
    }
   ],
   "source": [
    "# 自定义生成器\n",
    "def my_gen():\n",
    "    yield 1\n",
    "    yield 2\n",
    "    yield 3\n",
    "\n",
    "g = my_gen()\n",
    "print(type(my_gen))\n",
    "# 只能循环一次\n",
    "# for i in g:\n",
    "#     print(i)\n",
    "\n",
    "print(next(g))\n",
    "print(next(g))\n",
    "print(next(g))\n",
    "print(next(g))\n"
   ]
  },
  {
   "cell_type": "code",
   "execution_count": null,
   "metadata": {},
   "outputs": [],
   "source": [
    "# 生成器send举例\n",
    "def fun():\n",
    "    for i in range(3):\n",
    "        value = yield i\n",
    "        print(value)\n",
    "\n",
    "g = fun()\n",
    "\"\"\"\n",
    "a = next(func())\n",
    "b = next(func())\n",
    "c = next(func())\n",
    "#得将func()赋值给一个变量，否则直接用func()意味着新建一个生成器，\n",
    "所以上面这种写法得到的结果是相同的\n",
    "\"\"\"\n",
    "# 为了避免StopIteration异常，可以使用try语句\n",
    "try:\n",
    "    a = next(g)  # a = g.send(None) 效果一样\n",
    "    print(a)\n",
    "    b = g.send(\"haha\") # send意味着已经预激了，它充当了next\n",
    "    # 整体执行过程\n",
    "    # 当a预激的时候，i值返回给a,fun函数停止在这里，此时value还未激活\n",
    "    # b在发送的时候，value得到 \"haha\",又send相当于next，所以i值返回给b。\n",
    "    # 所以可以认为send即起到发送的作用，也起到预激的作用\n",
    "    # c在发送的时候，value得到“hehe”，由于send的预激作用，i值返回给c\n",
    "    # 生成器运行完毕\n",
    "    print(b)\n",
    "    c = g.send(\"hehe\")\n",
    "    print(c)\n",
    "    next(g)\n",
    "\n",
    "except StopIteration as e:\n",
    "    print(\"StopIteration is appereaing\")\n",
    "    pass"
   ]
  },
  {
   "cell_type": "code",
   "execution_count": 1,
   "metadata": {},
   "outputs": [
    {
     "name": "stdout",
     "output_type": "stream",
     "text": [
      "哈哈\n",
      "异常被抛出，不能再往下运行了\n"
     ]
    }
   ],
   "source": [
    "# 生成器close举例\n",
    "def gen_func():\n",
    "    yield '哈哈'\n",
    "    yield \"hehe\"\n",
    "    yield \"xixi\"\n",
    "if __name__ == '__main__':\n",
    "    try:\n",
    "        gen = gen_func()\n",
    "        value = next(gen)\n",
    "        print(value)\n",
    "        gen.close() # 加入这句话就会抛出StopIteration异常\n",
    "        print(next(gen))\n",
    "        print(next(gen))\n",
    "    except StopIteration: # 尽管捕捉StopIteration异常，但后面的语句依然不会执行\n",
    "        print(\"异常被抛出，不能再往下运行了\")"
   ]
  },
  {
   "cell_type": "code",
   "execution_count": 2,
   "metadata": {},
   "outputs": [
    {
     "name": "stdout",
     "output_type": "stream",
     "text": [
      "有异常出现\n"
     ]
    },
    {
     "ename": "StopIteration",
     "evalue": "",
     "output_type": "error",
     "traceback": [
      "\u001b[1;31m---------------------------------------------------------------------------\u001b[0m",
      "\u001b[1;31mStopIteration\u001b[0m                             Traceback (most recent call last)",
      "\u001b[1;32m<ipython-input-2-3a2baeeeb538>\u001b[0m in \u001b[0;36m<module>\u001b[1;34m\u001b[0m\n\u001b[0;32m     10\u001b[0m     \u001b[0mf\u001b[0m \u001b[1;33m=\u001b[0m \u001b[0mfunc\u001b[0m\u001b[1;33m(\u001b[0m\u001b[1;33m)\u001b[0m\u001b[1;33m\u001b[0m\u001b[1;33m\u001b[0m\u001b[0m\n\u001b[0;32m     11\u001b[0m     \u001b[0mvalue\u001b[0m \u001b[1;33m=\u001b[0m \u001b[0mnext\u001b[0m\u001b[1;33m(\u001b[0m\u001b[0mf\u001b[0m\u001b[1;33m)\u001b[0m\u001b[1;33m\u001b[0m\u001b[1;33m\u001b[0m\u001b[0m\n\u001b[1;32m---> 12\u001b[1;33m     \u001b[0mf\u001b[0m\u001b[1;33m.\u001b[0m\u001b[0mthrow\u001b[0m\u001b[1;33m(\u001b[0m\u001b[0mStopIteration\u001b[0m\u001b[1;33m,\u001b[0m \u001b[1;34m\"这是手动抛出异常\"\u001b[0m\u001b[1;33m)\u001b[0m\u001b[1;33m\u001b[0m\u001b[1;33m\u001b[0m\u001b[0m\n\u001b[0m\u001b[0;32m     13\u001b[0m     \u001b[0mprint\u001b[0m\u001b[1;33m(\u001b[0m\u001b[0mnext\u001b[0m\u001b[1;33m(\u001b[0m\u001b[0mf\u001b[0m\u001b[1;33m)\u001b[0m\u001b[1;33m)\u001b[0m\u001b[1;33m\u001b[0m\u001b[1;33m\u001b[0m\u001b[0m\n\u001b[0;32m     14\u001b[0m     \u001b[1;31m# 手动抛出异常可以捕获except Exception，但是捕获后依然不能执行后面的语句\u001b[0m\u001b[1;33m\u001b[0m\u001b[1;33m\u001b[0m\u001b[1;33m\u001b[0m\u001b[0m\n",
      "\u001b[1;31mStopIteration\u001b[0m: "
     ]
    }
   ],
   "source": [
    "# 生成器throw异常举例:第一个案例\n",
    "def func():\n",
    "    try:\n",
    "        yield '哈哈'\n",
    "        yield \"hehe\"\n",
    "        yield \"xixi\"\n",
    "    except Exception:\n",
    "        print(\"有异常出现\")\n",
    "if __name__ == '__main__':\n",
    "    f = func()\n",
    "    value = next(f)\n",
    "    f.throw(StopIteration, \"这是手动抛出异常\")\n",
    "    print(next(f))\n",
    "    # 手动抛出异常可以捕获except Exception，但是捕获后依然不能执行后面的语句"
   ]
  },
  {
   "cell_type": "code",
   "execution_count": null,
   "metadata": {},
   "outputs": [],
   "source": [
    "# throw抛出异常第二个案例，更改上面代码\n",
    "def func():\n",
    "    while True:\n",
    "        try:\n",
    "            yield 'haha'\n",
    "            yield \"hehe\"\n",
    "            yield \"xixi\"\n",
    "        except ValueError:\n",
    "            print(\"触发VauleError异常了\")\n",
    "        except TypeError:\n",
    "            print(\"触发TypeError异常了\")\n",
    "if __name__ == '__main__':\n",
    "    f = func()\n",
    "    print(next(f))\n",
    "    print(next(f))\n",
    "    print(\"========================\")\n",
    "    print(f.throw(ValueError, \"这是手动抛出异常\")) #throw会抛出\n",
    "    print(\"==========================\")\n",
    "    print(next(f))\n",
    "    print(next(f))\n",
    "    print(\"=====================\")\n",
    "    print(f.throw(TypeError, \"又是手动抛出异常\"))\n",
    "    print(\"===============\")\n",
    "    print(next(f))\n",
    "    print(next(f))\n",
    "    #结果解释\n",
    "    \"\"\"\n",
    "        当两次next后触发ValueError异常，生成器停止，由于whileT True，重启生成器，\n",
    "        重新重开头开始，但throw会消耗一个yield并且返回该值\n",
    "    \"\"\""
   ]
  },
  {
   "cell_type": "code",
   "execution_count": null,
   "metadata": {},
   "outputs": [],
   "source": [
    "# 用list编写斐波那契数列\n",
    "def fib(maxn):\n",
    "    n, a, b = 0, 0, 1\n",
    "    while n < maxn:\n",
    "        a, b = b, a+b\n",
    "        print(a)\n",
    "        n += 1\n",
    "    return \"Done\"\n",
    "\n",
    "print(fib(5))"
   ]
  },
  {
   "cell_type": "code",
   "execution_count": null,
   "metadata": {},
   "outputs": [],
   "source": [
    "# 用生成器编写斐波那契数列\n",
    "def fib(nmax):\n",
    "    n, a, b = 0, 0, 1\n",
    "    while n < nmax:\n",
    "        a, b = b, a+b\n",
    "        yield a\n",
    "        n += 1\n",
    "    return \"Done\"\n",
    "\n",
    "try:\n",
    "    g = fib(5)\n",
    "    for i in range(6):\n",
    "        rst = next(g)\n",
    "        print(rst)\n",
    "except StopIteration as e:\n",
    "    print(e.value)\n",
    "# 注意：抛出异常时的返回值return的返回值"
   ]
  },
  {
   "cell_type": "code",
   "execution_count": 3,
   "metadata": {},
   "outputs": [
    {
     "name": "stdout",
     "output_type": "stream",
     "text": [
      "1\n",
      "1\n",
      "2\n",
      "3\n",
      "5\n"
     ]
    }
   ],
   "source": [
    "def fib(nmax):\n",
    "    n, a, b = 0, 0, 1\n",
    "    while n < nmax:\n",
    "        a, b = b, a+b\n",
    "        yield a\n",
    "        n += 1\n",
    "    return \"Done\"\n",
    "\n",
    "g = fib(5)\n",
    "for i in g:  #for会自动处理StopIteration，不会抛出\n",
    "    print(i)"
   ]
  },
  {
   "cell_type": "code",
   "execution_count": 4,
   "metadata": {},
   "outputs": [
    {
     "name": "stdout",
     "output_type": "stream",
     "text": [
      "电影看到1分钟了\n",
      "歌曲听到1分钟了\n",
      "电影看到2分钟了\n",
      "歌曲听到2分钟了\n",
      "电影看到3分钟了\n",
      "歌曲听到3分钟了\n",
      "电影看到4分钟了\n",
      "歌曲听到4分钟了\n",
      "电影看到5分钟了\n",
      "歌曲听到5分钟了\n",
      "电影看到6分钟了\n",
      "歌曲听到6分钟了\n",
      "电影看到7分钟了\n",
      "歌曲听到7分钟了\n",
      "电影看到8分钟了\n",
      "歌曲听到8分钟了\n",
      "电影看到9分钟了\n",
      "歌曲听到9分钟了\n",
      "电影看到10分钟了\n",
      "音乐听完了\n",
      "电影看到11分钟了\n",
      "电影看到12分钟了\n",
      "电影看到13分钟了\n",
      "电影看到14分钟了\n",
      "电影看到15分钟了\n",
      "电影看到16分钟了\n",
      "电影看到17分钟了\n",
      "电影看到18分钟了\n",
      "电影看到19分钟了\n",
      "电影看完了\n"
     ]
    }
   ],
   "source": [
    "# 生成器案例:多任务操作系统模拟\n",
    "def watch_movie(duration):\n",
    "    time = 1\n",
    "    while time < duration:\n",
    "        print(\"电影看到%s分钟了\" % time)\n",
    "        time += 1\n",
    "        yield None\n",
    "\n",
    "def listen_music(duration):\n",
    "    time = 1\n",
    "    while time < duration:\n",
    "        print(\"歌曲听到%s分钟了\" % time)\n",
    "        time += 1\n",
    "        yield None\n",
    "\n",
    "def main():\n",
    "    movie_task = watch_movie(20)\n",
    "    music_task = listen_music(10)\n",
    "    movie_done = music_done = False\n",
    "    while True:\n",
    "        try:\n",
    "            if movie_done:\n",
    "                pass\n",
    "            else:\n",
    "                next(movie_task)\n",
    "        except StopIteration:\n",
    "            print(\"电影看完了\")\n",
    "            movie_done = True\n",
    "        try:\n",
    "            if music_done:\n",
    "                pass\n",
    "            else:\n",
    "                next(music_task)\n",
    "        except StopIteration:\n",
    "            print(\"音乐听完了\")\n",
    "            music_done = True\n",
    "        if music_done and movie_done:\n",
    "            break\n",
    "\n",
    "\n",
    "\n",
    "if __name__ == \"__main__\":\n",
    "    main()\n",
    "\n"
   ]
  },
  {
   "cell_type": "code",
   "execution_count": null,
   "metadata": {},
   "outputs": [],
   "source": []
  },
  {
   "cell_type": "code",
   "execution_count": null,
   "metadata": {},
   "outputs": [],
   "source": []
  },
  {
   "cell_type": "code",
   "execution_count": null,
   "metadata": {},
   "outputs": [],
   "source": []
  },
  {
   "cell_type": "code",
   "execution_count": null,
   "metadata": {},
   "outputs": [],
   "source": []
  }
 ],
 "metadata": {
  "kernelspec": {
   "display_name": "Python 3",
   "language": "python",
   "name": "python3"
  },
  "language_info": {
   "codemirror_mode": {
    "name": "ipython",
    "version": 3
   },
   "file_extension": ".py",
   "mimetype": "text/x-python",
   "name": "python",
   "nbconvert_exporter": "python",
   "pygments_lexer": "ipython3",
   "version": "3.8.5"
  }
 },
 "nbformat": 4,
 "nbformat_minor": 2
}
