{
 "cells": [
  {
   "cell_type": "markdown",
   "metadata": {},
   "source": [
    "# 动态类型与静态类型（动静类型）\n",
    "- 对于动静类型的概念，它的核心问题是“什么时候知道一个变量是哪种类型”？\n",
    "- 定义：一般而言，在编译期就确定变量类型的是静态类型语言，在运行期就确定变量类型的则是动态语言\n",
    "\n",
    "# 强类型与弱类型（强弱类型）\n",
    "- 强类型:为所有变量指定数据类型称为\"强类型\"。（有强类型检查和强类型定义）\n",
    "- 强/弱类型是指类型检查的严格程度的。语言有无类型，弱类型和强类型三种。无类型的不检查，甚至不区分指令和数据。弱类型的检查很弱，仅能严格的区分指令和数据。强类型的则严格的在编译期进行检查。\n",
    "- 强类型语言在没有强制类型转化前，不允许两种不同类型的变量相互操作。Java、C# 、Apex和 Python 等都是强类型语言。python（强类型检查单没有强类型定义）"
   ]
  }
 ],
 "metadata": {
  "kernelspec": {
   "display_name": "Python 3",
   "language": "python",
   "name": "python3"
  },
  "language_info": {
   "codemirror_mode": {
    "name": "ipython",
    "version": 3
   },
   "file_extension": ".py",
   "mimetype": "text/x-python",
   "name": "python",
   "nbconvert_exporter": "python",
   "pygments_lexer": "ipython3",
   "version": "3.7.3"
  }
 },
 "nbformat": 4,
 "nbformat_minor": 2
}
