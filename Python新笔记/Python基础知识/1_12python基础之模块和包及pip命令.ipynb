{
 "cells": [
  {
   "cell_type": "markdown",
   "metadata": {},
   "source": [
    "# 1.模块\n",
    "- 一个模块就是包含一个Python代码的文件，后缀名是.py就可以，模块就是Python文件\n",
    "- 当模块名称以数字开头时，不能直接导入，需要用importlih进行转换。importlib相当于重命名，可以给任意模块重新命名\n",
    "        \n",
    "        import importlib\n",
    "        new_name = importlib.import_module(\"01\")\n",
    "        \n",
    "- 关于if __name__ = '__main__'的解释\n",
    "        - 对于很多编程语言来说，程序都必须要有一个入口，比如C，C++，以及完全面向对象的编程语言Java，C#等，C，C++都需要有一个main函数作为程序的入口，也就是程序的运行会从main函数开始。同样，Java，C#必须要有一个包含Main方法的主类，作为程序入口。\n",
    "        - 而Python则不同，它属于脚本语言，不像编译型语言那样先将程序编译成二进制再运行，而是动态的逐行解释运行。也就是从脚本第一行开始运行，没有统一的入口。一个Python源码文件（.py）除了可以被直接运行外，还可以作为模块（也就是库），被其他.py文件导入。不管是直接运行还是被导入，.py文件的最顶层代码都会被运行（Python用缩进来区分代码层次），而当一个.py文件作为模块被导入时，我们可能不希望一部分代码被运行。\n",
    "    - 所以，if __name__ == '__main__'的意思是：当.py文件被直接运行时，if __name__ == '__main__'之下的代码块将被运行；当.py文件以模块形式被导入时，if __name__ == '__main__'之下的代码块不被运行。\n",
    "    - 以下几点补充：\n",
    "        - 1.如果在主运行 文件中，__name__是等于__main__\n",
    "        - 2.如果在模块中，__name__是等于模块名，如果还处在某个包下面就等于 包名.模块名\n",
    "        - 3.如果在包的__init__文件中，那么就等于包的名字\n",
    "\n",
    "- 运行Python程序的两种方式\n",
    "    - python xxx.py，直接运行xxx.py文件\n",
    "    - python -m xxx.py，把xxx.py当做模块运行"
   ]
  },
  {
   "cell_type": "markdown",
   "metadata": {},
   "source": [
    "# 2.模块的搜索路径和存储\n",
    "- 什么是模块的搜索路基\n",
    "    - 加载模块的时候，系统会在哪些地方寻找此模块\n",
    "- 系统默认的模块搜索路劲\n",
    "        import sys\n",
    "        sys.path 属性可以获取路径列表\n",
    "- 添加搜索路径\n",
    "        sys.path.append(dir)\n",
    "- 模块的加载顺序\n",
    "    1.搜索内存中已经加载好的模块\n",
    "    2.搜索Python的内置模块\n",
    "    3.搜索sys.path路径\n"
   ]
  },
  {
   "cell_type": "markdown",
   "metadata": {},
   "source": [
    "# 3.包\n",
    "- 包是一种组织管理代码的方式，包里面放的是模块\n",
    "- 将模块包含在一起的文件夹就是包\n",
    "            /---包\n",
    "            /---/--- __init__.py 包的标志文件\n",
    "            /---/--- 模块1\n",
    "            /---/--- 子包\n",
    "            /---/---/---- __init__.py\n",
    "            /----/---/--- 子包模块1\n",
    "- 包的导入\n",
    "    - import package_name\n",
    "        - 直接导入一个包，可以使用__init__.py中的内容\n",
    "        - 使用方式是：\n",
    "                package_name.func_name\n",
    "                package_name.class_name.func_name()\n",
    "    - import package_name as p\n",
    "        - 注意此种方法只能导入__init__.py中的内容\n",
    "    - import package.module\n",
    "    - from package_nmae import module\n",
    "        - 注意此种方法不执行__init__.py中的内容\n",
    "    - from package import *\n",
    "        - 导入当前包__init__.py中所有的函数和类\n",
    "    - from package.module import *\n",
    "    - import作用过程：\n",
    "        - 先判断这个模块是否在sys.modules这个字典中存在，如果存在，就不再去导入这个模块了，也就不会再去执行模块中的所有代码了，如果这个模块在字典中不存在，就执行以下过程：\n",
    "        - 1.执行导入模块中的所有代码\n",
    "        - 2.将这个模块名字添加到sys.modules\n",
    "        - 3.创建一个变量名（即模块的名字）来指向该模块下的导入的那各函数\n",
    "- '__all__'的用法：\n",
    "    - 在使用from package import * 的时候，限制*可以导入的内容\n",
    "    - __init__.py如果为空，或者没有'__all__'的时候，那就只导入__init__中的内容\n",
    "    - __init__：如果设置了'__all__'的值，那么则按照__all__的设定载入相关的包或模块\n",
    "    - __all__ = ['module2', 'module1', 'package'......]\n",
    "# 命名空间\n",
    "- 用于区分不同位置不同功能但名称相同的函数或者变量的一个特点前缀\n",
    "- 作用是防止命名冲突\n"
   ]
  },
  {
   "cell_type": "markdown",
   "metadata": {},
   "source": []
  },
  {
   "cell_type": "markdown",
   "metadata": {},
   "source": [
    "# pip的常用命令\n",
    "- 1.安装包：pip install 包\n",
    "- 2.安装指定版本的包：pip install django == 1.10.6\n",
    "- 3.卸载包：pip uninstall django\n",
    "- 4.升级包：pip install -U request 或者 pip install request --upgrade\n",
    "- 5.升级pip：pip install -U pip\n",
    "- 6.查看当前pip是哪个版本：pip --version\n",
    "- 7.显示某个已经安装的包的信息：pip show -f 包名\n",
    "- 8.显示可升级的包：pip list -o\n",
    "- 9.显示当前环境已安装的包：pip list\n",
    "- 9.将当前环境安装的包全部列出：pip freeze > requirements.txt\n",
    "- 10:从某个文件中安装包：pip install -r requirements.txt\n",
    "- 11.临时更改安装源：ip install 包名 -i https://pypi.douban.com/simple\n",
    "- 12.永久更改安装源：\n",
    "    - windows操作系统：在当前用户目录下创建pip/pip.ini,然后在文件中添加以下代码 \n",
    "            [global]\n",
    "            index-url = https://pypi.douban.com/simple\n",
    "    - Linux/Max系统：在用户目录下新建.pip/pip.conf,然后在文件中添加代码：\n",
    "            [global]\n",
    "            index-url = https://pypi.douban.com/simple"
   ]
  },
  {
   "cell_type": "code",
   "execution_count": null,
   "metadata": {},
   "outputs": [],
   "source": []
  }
 ],
 "metadata": {
  "kernelspec": {
   "display_name": "Python 3",
   "language": "python",
   "name": "python3"
  },
  "language_info": {
   "codemirror_mode": {
    "name": "ipython",
    "version": 3
   },
   "file_extension": ".py",
   "mimetype": "text/x-python",
   "name": "python",
   "nbconvert_exporter": "python",
   "pygments_lexer": "ipython3",
   "version": "3.7.3"
  }
 },
 "nbformat": 4,
 "nbformat_minor": 2
}
