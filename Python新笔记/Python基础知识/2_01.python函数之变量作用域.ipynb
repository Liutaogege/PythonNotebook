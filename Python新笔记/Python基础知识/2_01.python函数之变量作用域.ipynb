{
 "cells": [
  {
   "cell_type": "markdown",
   "metadata": {},
   "source": [
    "##  变量作用域\n",
    "- 分类：按照作用域分类\n",
    "    - 全局（global):在函数外部定义\n",
    "    - 局部（local）：在函数内部定义\n",
    "- 变量的作用范围\n",
    "    - 全局变量：整个全局范围都有效，语法：global value,在函数或者某个代码块外面定义的变量，可以在函数中进行使用\n",
    "    - 局部变量：局部范围使用，函数中的变量，不能在外面使用\n",
    "# globals，locals函数\n",
    "- 如果想在函数或者某个代码块中修改全局变量，那么应该使用global关键字\n",
    "- 列表和字典当做全局变量：在函数或者代码块中使用的时候，可以任意的增删查改列表和字典的值，但是如果要修改这个全局变量指向的值（即重新赋值或者全切赋值），则必须加global关键字\n",
    "- 可以通过globals函数和locals函数显示出局部变量和全局变量\n",
    "- 参看以下案例"
   ]
  },
  {
   "cell_type": "code",
   "execution_count": null,
   "metadata": {},
   "outputs": [],
   "source": [
    "a = 1\n",
    "def fun(c):\n",
    "    b = 11\n",
    "    print(\"局部变量为{0}\".format(locals()))\n",
    "    print(\"全局变量为{0}\".format(globals()))\n",
    "    \n",
    "#fun(10)"
   ]
  },
  {
   "cell_type": "code",
   "execution_count": null,
   "metadata": {},
   "outputs": [],
   "source": []
  },
  {
   "cell_type": "code",
   "execution_count": null,
   "metadata": {},
   "outputs": [],
   "source": []
  }
 ],
 "metadata": {
  "kernelspec": {
   "display_name": "Python 3",
   "language": "python",
   "name": "python3"
  },
  "language_info": {
   "codemirror_mode": {
    "name": "ipython",
    "version": 3
   },
   "file_extension": ".py",
   "mimetype": "text/x-python",
   "name": "python",
   "nbconvert_exporter": "python",
   "pygments_lexer": "ipython3",
   "version": "3.7.3"
  }
 },
 "nbformat": 4,
 "nbformat_minor": 2
}
