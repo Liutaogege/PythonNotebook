{
 "cells": [
  {
   "cell_type": "markdown",
   "metadata": {},
   "source": [
    "### enumerate(sequence,start=0)\n",
    "- 输入一个可遍历的数据对象(如列表)，返回一个可迭代对象(索引值和数据)。start可设置索引起始值\n",
    "\n",
    "### eval(expression,[, globals[, locals]])\n",
    "- 用来执行一个字符串表达式，并返回表达式的值。\n",
    "- globals -- 变量作用域，全局命名空间，如果被提供，则必须是一个字典对象。\n",
    "- locals -- 变量作用域，局部命名空间，如果被提供，可以是任何映射对象。\n",
    "- eval('ob01001')，可以转换为十进制输出\n",
    "\n",
    "### exce函数\n",
    "- 用于执行存储在字符串中的python语句，这样直接执行可能会污染我们的命名空间\n",
    "- 区别：\n",
    "    - 与eval函数类似，exce函数执行的是python语句，没有返回值，而eval函数执行的是python表达式，有返回值\n",
    "- globals -- 变量作用域，全局命名空间，如果被提供，则必须是一个字典对象。\n",
    "- locals -- 变量作用域，局部命名空间，如果被提供，可以是任何映射对象。\n",
    "\n",
    "### zip(iterable,iterable)\n",
    "        它接受一系列可迭代的对象作为参数，将对象中对应的元素打包成一个个tuple（元组），然后返回由这些tuples组成的list列表:\n",
    "        \n",
    "### map(func, iterable)\n",
    "- map() 会根据提供的函数对指定序列做映射。\n",
    "-  第一个参数 function 以参数序列中的每一个元素调用 function 函数，返回包含每次 function 函数返回值的新列表。"
   ]
  },
  {
   "cell_type": "code",
   "execution_count": 1,
   "metadata": {},
   "outputs": [
    {
     "name": "stdout",
     "output_type": "stream",
     "text": [
      "[('liu', 1), ('li', 2), ('zhao', 3)]\n",
      "[('liu', 'li', 'zhao'), (1, 2, 3)]\n",
      "{'liu': 1, 'li': 2, 'zhao': 3}\n",
      "(3, 'zhao')\n",
      "{1: 'liu', 2: 'li', 3: 'zhao'}\n"
     ]
    }
   ],
   "source": [
    "# zip(iterable,iterable)它接受一系列可迭代的对象作为参数，将对象中对应的元素打包成一个个tuple（元组），然后返回由这些tuples组成的list（列表:\n",
    "one = (\"liu\", \"li\",\"zhao\")\n",
    "two = (1,2,3)\n",
    "ot = list(zip(one,two))\n",
    "print(ot)\n",
    "oto = zip(one, two)\n",
    "oto1 = list(zip(*oto)) # 解压，把每个列表化为一个元素\n",
    "print(oto1)\n",
    "f = dict(zip(one,two))\n",
    "print(f)\n",
    "num = zip(f.values(), f.keys())\n",
    "print(max(num))\n",
    "# print(min(num)) #zip()会创建一个迭代器，只能被消费一次，所以这句话会报错\n",
    "d = {k:v for v,k in f.items()}\n",
    "print(d)"
   ]
  },
  {
   "cell_type": "code",
   "execution_count": 2,
   "metadata": {},
   "outputs": [
    {
     "name": "stdout",
     "output_type": "stream",
     "text": [
      "(0, 'liutao')\n",
      "(1, 'jiaojiao')\n",
      "(2, 'xiaoxiao')\n",
      "0 : liutao\n",
      "1 : jiaojiao\n",
      "2 : xiaoxiao\n"
     ]
    }
   ],
   "source": [
    "# enumerate()举例\n",
    "lst = [\"liutao\", \"jiaojiao\", \"xiaoxiao\"]\n",
    "for i in enumerate(lst):\n",
    "    print(i)\n",
    "for i, v in enumerate(lst):\n",
    "    print(i, \":\", v)"
   ]
  },
  {
   "cell_type": "code",
   "execution_count": 5,
   "metadata": {},
   "outputs": [
    {
     "name": "stdout",
     "output_type": "stream",
     "text": [
      "我中意你呀\n",
      "5\n",
      "<class 'bytes'>\n",
      "请输入你要执行的命令：import os os.chdir(r\"C:\\Users\\acer\\Desktop\") with open(r\"test.txt\", \"w+\") as f:     print(\"hello world\", file=f)\n"
     ]
    },
    {
     "ename": "SyntaxError",
     "evalue": "invalid syntax (<string>, line 1)",
     "output_type": "error",
     "traceback": [
      "Traceback \u001b[1;36m(most recent call last)\u001b[0m:\n",
      "  File \u001b[0;32m\"e:\\Users\\acer\\Anaconda3\\lib\\site-packages\\IPython\\core\\interactiveshell.py\"\u001b[0m, line \u001b[0;32m3326\u001b[0m, in \u001b[0;35mrun_code\u001b[0m\n    exec(code_obj, self.user_global_ns, self.user_ns)\n",
      "\u001b[1;36m  File \u001b[1;32m\"<ipython-input-5-cefeff493ef7>\"\u001b[1;36m, line \u001b[1;32m16\u001b[1;36m, in \u001b[1;35m<module>\u001b[1;36m\u001b[0m\n\u001b[1;33m    new_v = eval(value)\u001b[0m\n",
      "\u001b[1;36m  File \u001b[1;32m\"<string>\"\u001b[1;36m, line \u001b[1;32m1\u001b[0m\n\u001b[1;33m    import os os.chdir(r\"C:\\Users\\acer\\Desktop\") with open(r\"test.txt\", \"w+\") as f:     print(\"hello world\", file=f)\u001b[0m\n\u001b[1;37m         ^\u001b[0m\n\u001b[1;31mSyntaxError\u001b[0m\u001b[1;31m:\u001b[0m invalid syntax\n"
     ]
    }
   ],
   "source": [
    "#eval函数举例:总而言之，就是可以把字符串变为命令执行\n",
    "words = \"print('我中意你呀')\"\n",
    "eval(words)\n",
    "#help(eval)\n",
    "value = \"2 + 3\"\n",
    "print(eval(value))\n",
    "\n",
    "bytes_words = \"b'xixi'\"\n",
    "eval(bytes_words)\n",
    "print(type(eval(bytes_words)))\n",
    "\n",
    "#eval函数不安全\n",
    "value = input(\"请输入你要执行的命令：\")\n",
    "#我们知道，input得到的是字符串，而eval可以将它转换为命令执行\n",
    "import os\n",
    "new_v = eval(value)\n",
    "print(new_v)\n",
    "#若输入os.path就可以打印出系统的路径，并有可能更改它"
   ]
  },
  {
   "cell_type": "code",
   "execution_count": 1,
   "metadata": {},
   "outputs": [
    {
     "name": "stdout",
     "output_type": "stream",
     "text": [
      "25\n"
     ]
    }
   ],
   "source": [
    "#exec函数举例\n",
    "exec(\"x=25\")\n",
    "print(x)\n"
   ]
  },
  {
   "cell_type": "code",
   "execution_count": 3,
   "metadata": {},
   "outputs": [
    {
     "name": "stdout",
     "output_type": "stream",
     "text": [
      "['a', 'b', 'c', 'd']\n",
      "[1, 2, 3, 4]\n"
     ]
    }
   ],
   "source": [
    "# map函数举例\n",
    "a = [('a', 1), ('b', 2), ('c', 3),  ('d', 4)]\n",
    "a_list = list(map(lambda x: x[0], a))\n",
    "b_list = list(map(lambda x: x[1], a))\n",
    "print(a_list)\n",
    "print(b_list)"
   ]
  }
 ],
 "metadata": {
  "kernelspec": {
   "display_name": "Python 3",
   "language": "python",
   "name": "python3"
  },
  "language_info": {
   "codemirror_mode": {
    "name": "ipython",
    "version": 3
   },
   "file_extension": ".py",
   "mimetype": "text/x-python",
   "name": "python",
   "nbconvert_exporter": "python",
   "pygments_lexer": "ipython3",
   "version": "3.7.3"
  }
 },
 "nbformat": 4,
 "nbformat_minor": 2
}
