{
 "cells": [
  {
   "cell_type": "markdown",
   "metadata": {},
   "source": [
    "# os - 操作系统相关\n",
    "- 和操作系统相关，主要是文件操作\n",
    "- 使用os模块中提供的接口，可以实现跨平台访问\n",
    "- 与系统相关的操作，主要包含在三个模块里\n",
    "    - os，操作系统目录相关\n",
    "    - os.path，系统路径相关小左\n",
    "    - shutil，高级文件操作，目录树的操作，文件赋值，删除，移动\n",
    "- 路径\n",
    "    - 绝对路径：总是从根目录开始\n",
    "    - 相对路径：以当前环境为开始的一个相对的地方\n",
    "# os模块\n",
    "\n",
    "### 系统操作\n",
    "- os.sep:主要用于系统路径的分隔符\n",
    "    - Windows系统是“\\\\”,Linux类系统如Ubuntu是“/”\n",
    "- os.name:你所使用的工作平台\n",
    "    - Windows是“nt”，Linux是posix\n",
    "- os.getenv（环境变量名）：读取环境变量\n",
    "- os.getcwd():获取当前的路径\n",
    "- os.curdir:当前目录\n",
    "- os.pardir:父亲目录\n",
    "- os.linesep:当前系统的换行符号\n",
    "    - windows:“\\r\\n”\n",
    "    - unix,linux,macos:\"\\n\"\n",
    "\n",
    "### 目录操作\n",
    "- os.listdir():返回指定目录下的所有文件和目录名\n",
    "- os.mkdir():创建一个单级目录，只创建一个目录文件\n",
    "- os.rmdir():删除一个单级空目录，若目录中有文件则无法删除\n",
    "- os.makedirs(dirname):生成多层递归目录，如果目录全部存在，则创建目录失败\n",
    "- os.removedirs(dirname):可以删除多层递归的空目录，若目录中有文件则无法删除\n",
    "- os.remove(file_name)；删除一个文件，不能删除文件夹\n",
    "- os.stat('path/filename')：获取文件/目录信息\n",
    "- os.chdir():改变当前目录到指定目录中\n",
    "- os.rename(old_name, new_name)：重命名目录名或者文件名，重命名后的文件名若存在，则重命名失败\n",
    "\n",
    "### 判断：\n",
    "- os.path.exists(path)；判断文件或者目录是否存在，若存在则返回True\n",
    "- os.path.isfile(path)；判断是否为文件，是文件则返回True\n",
    "- os.path.isdir(path):判断是否为目录，是则返回True\n",
    "\n",
    "### path模块\n",
    "- os.path.basename(path):回path最后的文件名。如果path以／或\\结尾，那么就会返回空值。即os.path.split(path)的第二个元素\n",
    "- os.path.dirname(path):返回文件路径\n",
    "- os.path.getsize(name):获得文件大小，如果name是目录则返回OL\n",
    "- os.path.abspath(name):获得绝对路径\n",
    "- os.path.join(path, name):连接目录与文件名或者目录\n",
    "- os.path.getatime(path):返回path所指向的文件或者目录的最后存取时间\n",
    "- os.path.getmtime(path):返回path指向文件或者目录的最后修改时间\n",
    "- os.path.split(path):将路径切割为文件夹部分和当前文件部分，返回二元组"
   ]
  },
  {
   "cell_type": "code",
   "execution_count": 19,
   "metadata": {},
   "outputs": [],
   "source": [
    "import os"
   ]
  },
  {
   "cell_type": "code",
   "execution_count": 23,
   "metadata": {},
   "outputs": [
    {
     "name": "stdout",
     "output_type": "stream",
     "text": [
      "..\n",
      ".\n",
      "\\\n",
      "\r\n",
      "\n",
      "nt\n"
     ]
    }
   ],
   "source": [
    "print(os.pardir)\n",
    "print(os.curdir)\n",
    "print(os.sep)\n",
    "print(os.linesep)  # 隐藏不会显示\n",
    "print(os.name)"
   ]
  },
  {
   "cell_type": "code",
   "execution_count": 5,
   "metadata": {},
   "outputs": [
    {
     "name": "stdout",
     "output_type": "stream",
     "text": [
      "C:\\Users\\acer\\Documents\\课程学习之数据分析师\\Python新笔记\n"
     ]
    }
   ],
   "source": [
    "# getcwd()：获取当前的工作目录\n",
    "# 格式：os.getcwd()：返回值：当前工作目录的字符串\n",
    "mydir = os.getcwd()\n",
    "print(mydir)"
   ]
  },
  {
   "cell_type": "code",
   "execution_count": 7,
   "metadata": {},
   "outputs": [],
   "source": [
    "# chdir():改变当前的工作目录\n",
    "# 格式： os.chdir(路径)，无返回值\n",
    "\n",
    "#os.chdir(\"/课程学习之数据分析师/suibian\")\n"
   ]
  },
  {
   "cell_type": "code",
   "execution_count": 11,
   "metadata": {},
   "outputs": [
    {
     "name": "stdout",
     "output_type": "stream",
     "text": [
      "['.ipynb_checkpoints', '1.Python基础知识.ipynb', '2.Python包.ipynb', '3.异常.ipynb', '4.常用模块之os操作系统相关.ipynb', '4.常用模块之时间模块.ipynb']\n"
     ]
    }
   ],
   "source": [
    "# listdir():得到一个目录中所有子目录和文件的名称列表\n",
    "# 格式：od.listdir(路径)，返回值：所有子目录和文件名称的列表\n",
    "ld = os.listdir()\n",
    "print(ld)\n",
    "# 文件名称的点表示该文件是一个隐藏文件，没有全部展开"
   ]
  },
  {
   "cell_type": "code",
   "execution_count": 12,
   "metadata": {},
   "outputs": [],
   "source": [
    "# makedirs（）：递归创建文件夹\n",
    "# 无返回值\n",
    "# 递归路径：多个文件夹层层包含的路径\n",
    "\n",
    "# rst = os.makedirs(\"dana\") #如果不是绝对路径默认是当前文件下创建\n",
    "#print(rst)"
   ]
  },
  {
   "cell_type": "code",
   "execution_count": 15,
   "metadata": {},
   "outputs": [
    {
     "name": "stdout",
     "output_type": "stream",
     "text": [
      "1\n",
      "1\n"
     ]
    }
   ],
   "source": [
    "# system（）运行系统shell命令\n",
    "# 格式：os.system(系统命令)\n",
    "# 返回值：打开一个shell或者终端界面\n",
    "# 一般推荐使用subprocess代替\n",
    "# ls是列出当前文件和文件夹的系统命令\n",
    "\n",
    "rst = os.system(\"ls\")\n",
    "print(rst)\n",
    "\n",
    "# 在当前目录下创建一个haha.haha的文件\n",
    "pst = os.system(\"touch haha.haha\")\n",
    "# uninx对后缀名没啥严格限制\n",
    "print(pst)"
   ]
  },
  {
   "cell_type": "code",
   "execution_count": 18,
   "metadata": {},
   "outputs": [],
   "source": [
    "# getenv()获取指定的系统的环境变量值\n",
    "# 相应的还有putenv\n",
    "# 格式：os.getenv(\"环境变量名\")\n",
    "# 返回值：指定环境变量名对应的值\n",
    "rst = os.getenv(\"PATH\")\n",
    "#print(rst)\n",
    "\n",
    "# exit()退出当前程序"
   ]
  },
  {
   "cell_type": "code",
   "execution_count": 26,
   "metadata": {},
   "outputs": [
    {
     "name": "stdout",
     "output_type": "stream",
     "text": [
      "C:\\Users\\acer\\Documents\\课程学习之数据分析师\\Python新笔记\n"
     ]
    }
   ],
   "source": [
    "# 获取当前目录的绝对路径\n",
    "# . 点号表示当前目录\n",
    "# .. 双点表示父亲目录\n",
    "import os.path as op\n",
    "absp = op.abspath(\".\")\n",
    "print(absp)"
   ]
  },
  {
   "cell_type": "code",
   "execution_count": 31,
   "metadata": {},
   "outputs": [
    {
     "name": "stdout",
     "output_type": "stream",
     "text": [
      "haha\n",
      "\n",
      "-------------\n"
     ]
    }
   ],
   "source": [
    "# basename（）获取路径中的文件名部分\n",
    "bn = op.basename(\"/home/haha\")\n",
    "print(bn)\n",
    "bns = op.basename(\"/home/hehe/\")\n",
    "print(bns) #如果path以／或\\结尾，那么就会返回空值。即os.path.split(path)的第二个元素\n",
    "print(\"-------------\")"
   ]
  },
  {
   "cell_type": "code",
   "execution_count": 33,
   "metadata": {},
   "outputs": [
    {
     "name": "stdout",
     "output_type": "stream",
     "text": [
      "/home/tb\\maijia.haha\n"
     ]
    }
   ],
   "source": [
    "# join()将多个路径拼接\n",
    "# windows是以\\拼接\n",
    "a = \"/home/tb\"\n",
    "b = \"maijia.haha\"\n",
    "p = op.join(a, b)\n",
    "print(p)"
   ]
  },
  {
   "cell_type": "markdown",
   "metadata": {},
   "source": [
    "# shutil模块\n"
   ]
  },
  {
   "cell_type": "code",
   "execution_count": 39,
   "metadata": {},
   "outputs": [],
   "source": [
    "# copy（）复制文件\n",
    "# 格式:shutil.copy(来源路径，目标路径)\n",
    "# 返回值：返回目标路径\n",
    "# 拷贝的同时，可以给文件重命名\n",
    "import shutil\n",
    "#rst = shutil.copy(\"\\baji\\buqu\", \"\\hhuhu\") # 文件名是我编造的\n",
    "#print(rst)"
   ]
  },
  {
   "cell_type": "code",
   "execution_count": 40,
   "metadata": {},
   "outputs": [],
   "source": [
    "# copy2（）复制文件，保留原数据（文件信息）\n",
    "# 格式shutil.copy2(来源路径，目标路径)\n",
    "# 返回值：返回目标路径\n",
    "# 与copy的唯一区别在于copy2尽可能保留原数据\n"
   ]
  },
  {
   "cell_type": "code",
   "execution_count": 42,
   "metadata": {},
   "outputs": [
    {
     "ename": "SyntaxError",
     "evalue": "(unicode error) 'unicodeescape' codec can't decode bytes in position 5-6: truncated \\xXX escape (<ipython-input-42-265716da00f3>, line 4)",
     "output_type": "error",
     "traceback": [
      "\u001b[1;36m  File \u001b[1;32m\"<ipython-input-42-265716da00f3>\"\u001b[1;36m, line \u001b[1;32m4\u001b[0m\n\u001b[1;33m    rst = shutil.move(\"\\honm\\taotao.test\", \"\\home\\xiaha.test\")\u001b[0m\n\u001b[1;37m                                          ^\u001b[0m\n\u001b[1;31mSyntaxError\u001b[0m\u001b[1;31m:\u001b[0m (unicode error) 'unicodeescape' codec can't decode bytes in position 5-6: truncated \\xXX escape\n"
     ]
    }
   ],
   "source": [
    "# copyfile()将一个文件中的内容复制到另外一个文件当中\n",
    "# 格式shutil.copyfile(\"原路径\", \"目标路径\")\n",
    "# 返回值：无\n",
    "rst = shutil.move(\"\\honm\\taotao.test\", \"\\home\\xiaha.test\")\n"
   ]
  },
  {
   "cell_type": "code",
   "execution_count": 43,
   "metadata": {},
   "outputs": [
    {
     "ename": "OSError",
     "evalue": "[Errno 22] Invalid argument: '\\\\home\\test.txt'",
     "output_type": "error",
     "traceback": [
      "\u001b[1;31m---------------------------------------------------------------------------\u001b[0m",
      "\u001b[1;31mOSError\u001b[0m                                   Traceback (most recent call last)",
      "\u001b[1;32me:\\Users\\acer\\Anaconda3\\lib\\shutil.py\u001b[0m in \u001b[0;36mmove\u001b[1;34m(src, dst, copy_function)\u001b[0m\n\u001b[0;32m    562\u001b[0m     \u001b[1;32mtry\u001b[0m\u001b[1;33m:\u001b[0m\u001b[1;33m\u001b[0m\u001b[1;33m\u001b[0m\u001b[0m\n\u001b[1;32m--> 563\u001b[1;33m         \u001b[0mos\u001b[0m\u001b[1;33m.\u001b[0m\u001b[0mrename\u001b[0m\u001b[1;33m(\u001b[0m\u001b[0msrc\u001b[0m\u001b[1;33m,\u001b[0m \u001b[0mreal_dst\u001b[0m\u001b[1;33m)\u001b[0m\u001b[1;33m\u001b[0m\u001b[1;33m\u001b[0m\u001b[0m\n\u001b[0m\u001b[0;32m    564\u001b[0m     \u001b[1;32mexcept\u001b[0m \u001b[0mOSError\u001b[0m\u001b[1;33m:\u001b[0m\u001b[1;33m\u001b[0m\u001b[1;33m\u001b[0m\u001b[0m\n",
      "\u001b[1;31mOSError\u001b[0m: [WinError 123] 文件名、目录名或卷标语法不正确。: '\\\\home\\test.txt' -> '\\\\home\\\\house\\test.txt'",
      "\nDuring handling of the above exception, another exception occurred:\n",
      "\u001b[1;31mOSError\u001b[0m                                   Traceback (most recent call last)",
      "\u001b[1;32m<ipython-input-43-6fa77dd6bf12>\u001b[0m in \u001b[0;36m<module>\u001b[1;34m\u001b[0m\n\u001b[0;32m      3\u001b[0m \u001b[1;31m# 返回值：目标路径\u001b[0m\u001b[1;33m\u001b[0m\u001b[1;33m\u001b[0m\u001b[1;33m\u001b[0m\u001b[0m\n\u001b[0;32m      4\u001b[0m \u001b[1;33m\u001b[0m\u001b[0m\n\u001b[1;32m----> 5\u001b[1;33m \u001b[0mrst\u001b[0m \u001b[1;33m=\u001b[0m \u001b[0mshutil\u001b[0m\u001b[1;33m.\u001b[0m\u001b[0mmove\u001b[0m\u001b[1;33m(\u001b[0m\u001b[1;34m\"\\home\\test.txt\"\u001b[0m\u001b[1;33m,\u001b[0m\u001b[1;34m\"\\home\\house\\test.txt\"\u001b[0m\u001b[1;33m)\u001b[0m\u001b[1;33m\u001b[0m\u001b[1;33m\u001b[0m\u001b[0m\n\u001b[0m",
      "\u001b[1;32me:\\Users\\acer\\Anaconda3\\lib\\shutil.py\u001b[0m in \u001b[0;36mmove\u001b[1;34m(src, dst, copy_function)\u001b[0m\n\u001b[0;32m    575\u001b[0m             \u001b[0mrmtree\u001b[0m\u001b[1;33m(\u001b[0m\u001b[0msrc\u001b[0m\u001b[1;33m)\u001b[0m\u001b[1;33m\u001b[0m\u001b[1;33m\u001b[0m\u001b[0m\n\u001b[0;32m    576\u001b[0m         \u001b[1;32melse\u001b[0m\u001b[1;33m:\u001b[0m\u001b[1;33m\u001b[0m\u001b[1;33m\u001b[0m\u001b[0m\n\u001b[1;32m--> 577\u001b[1;33m             \u001b[0mcopy_function\u001b[0m\u001b[1;33m(\u001b[0m\u001b[0msrc\u001b[0m\u001b[1;33m,\u001b[0m \u001b[0mreal_dst\u001b[0m\u001b[1;33m)\u001b[0m\u001b[1;33m\u001b[0m\u001b[1;33m\u001b[0m\u001b[0m\n\u001b[0m\u001b[0;32m    578\u001b[0m             \u001b[0mos\u001b[0m\u001b[1;33m.\u001b[0m\u001b[0munlink\u001b[0m\u001b[1;33m(\u001b[0m\u001b[0msrc\u001b[0m\u001b[1;33m)\u001b[0m\u001b[1;33m\u001b[0m\u001b[1;33m\u001b[0m\u001b[0m\n\u001b[0;32m    579\u001b[0m     \u001b[1;32mreturn\u001b[0m \u001b[0mreal_dst\u001b[0m\u001b[1;33m\u001b[0m\u001b[1;33m\u001b[0m\u001b[0m\n",
      "\u001b[1;32me:\\Users\\acer\\Anaconda3\\lib\\shutil.py\u001b[0m in \u001b[0;36mcopy2\u001b[1;34m(src, dst, follow_symlinks)\u001b[0m\n\u001b[0;32m    261\u001b[0m     \u001b[1;32mif\u001b[0m \u001b[0mos\u001b[0m\u001b[1;33m.\u001b[0m\u001b[0mpath\u001b[0m\u001b[1;33m.\u001b[0m\u001b[0misdir\u001b[0m\u001b[1;33m(\u001b[0m\u001b[0mdst\u001b[0m\u001b[1;33m)\u001b[0m\u001b[1;33m:\u001b[0m\u001b[1;33m\u001b[0m\u001b[1;33m\u001b[0m\u001b[0m\n\u001b[0;32m    262\u001b[0m         \u001b[0mdst\u001b[0m \u001b[1;33m=\u001b[0m \u001b[0mos\u001b[0m\u001b[1;33m.\u001b[0m\u001b[0mpath\u001b[0m\u001b[1;33m.\u001b[0m\u001b[0mjoin\u001b[0m\u001b[1;33m(\u001b[0m\u001b[0mdst\u001b[0m\u001b[1;33m,\u001b[0m \u001b[0mos\u001b[0m\u001b[1;33m.\u001b[0m\u001b[0mpath\u001b[0m\u001b[1;33m.\u001b[0m\u001b[0mbasename\u001b[0m\u001b[1;33m(\u001b[0m\u001b[0msrc\u001b[0m\u001b[1;33m)\u001b[0m\u001b[1;33m)\u001b[0m\u001b[1;33m\u001b[0m\u001b[1;33m\u001b[0m\u001b[0m\n\u001b[1;32m--> 263\u001b[1;33m     \u001b[0mcopyfile\u001b[0m\u001b[1;33m(\u001b[0m\u001b[0msrc\u001b[0m\u001b[1;33m,\u001b[0m \u001b[0mdst\u001b[0m\u001b[1;33m,\u001b[0m \u001b[0mfollow_symlinks\u001b[0m\u001b[1;33m=\u001b[0m\u001b[0mfollow_symlinks\u001b[0m\u001b[1;33m)\u001b[0m\u001b[1;33m\u001b[0m\u001b[1;33m\u001b[0m\u001b[0m\n\u001b[0m\u001b[0;32m    264\u001b[0m     \u001b[0mcopystat\u001b[0m\u001b[1;33m(\u001b[0m\u001b[0msrc\u001b[0m\u001b[1;33m,\u001b[0m \u001b[0mdst\u001b[0m\u001b[1;33m,\u001b[0m \u001b[0mfollow_symlinks\u001b[0m\u001b[1;33m=\u001b[0m\u001b[0mfollow_symlinks\u001b[0m\u001b[1;33m)\u001b[0m\u001b[1;33m\u001b[0m\u001b[1;33m\u001b[0m\u001b[0m\n\u001b[0;32m    265\u001b[0m     \u001b[1;32mreturn\u001b[0m \u001b[0mdst\u001b[0m\u001b[1;33m\u001b[0m\u001b[1;33m\u001b[0m\u001b[0m\n",
      "\u001b[1;32me:\\Users\\acer\\Anaconda3\\lib\\shutil.py\u001b[0m in \u001b[0;36mcopyfile\u001b[1;34m(src, dst, follow_symlinks)\u001b[0m\n\u001b[0;32m    118\u001b[0m         \u001b[0mos\u001b[0m\u001b[1;33m.\u001b[0m\u001b[0msymlink\u001b[0m\u001b[1;33m(\u001b[0m\u001b[0mos\u001b[0m\u001b[1;33m.\u001b[0m\u001b[0mreadlink\u001b[0m\u001b[1;33m(\u001b[0m\u001b[0msrc\u001b[0m\u001b[1;33m)\u001b[0m\u001b[1;33m,\u001b[0m \u001b[0mdst\u001b[0m\u001b[1;33m)\u001b[0m\u001b[1;33m\u001b[0m\u001b[1;33m\u001b[0m\u001b[0m\n\u001b[0;32m    119\u001b[0m     \u001b[1;32melse\u001b[0m\u001b[1;33m:\u001b[0m\u001b[1;33m\u001b[0m\u001b[1;33m\u001b[0m\u001b[0m\n\u001b[1;32m--> 120\u001b[1;33m         \u001b[1;32mwith\u001b[0m \u001b[0mopen\u001b[0m\u001b[1;33m(\u001b[0m\u001b[0msrc\u001b[0m\u001b[1;33m,\u001b[0m \u001b[1;34m'rb'\u001b[0m\u001b[1;33m)\u001b[0m \u001b[1;32mas\u001b[0m \u001b[0mfsrc\u001b[0m\u001b[1;33m:\u001b[0m\u001b[1;33m\u001b[0m\u001b[1;33m\u001b[0m\u001b[0m\n\u001b[0m\u001b[0;32m    121\u001b[0m             \u001b[1;32mwith\u001b[0m \u001b[0mopen\u001b[0m\u001b[1;33m(\u001b[0m\u001b[0mdst\u001b[0m\u001b[1;33m,\u001b[0m \u001b[1;34m'wb'\u001b[0m\u001b[1;33m)\u001b[0m \u001b[1;32mas\u001b[0m \u001b[0mfdst\u001b[0m\u001b[1;33m:\u001b[0m\u001b[1;33m\u001b[0m\u001b[1;33m\u001b[0m\u001b[0m\n\u001b[0;32m    122\u001b[0m                 \u001b[0mcopyfileobj\u001b[0m\u001b[1;33m(\u001b[0m\u001b[0mfsrc\u001b[0m\u001b[1;33m,\u001b[0m \u001b[0mfdst\u001b[0m\u001b[1;33m)\u001b[0m\u001b[1;33m\u001b[0m\u001b[1;33m\u001b[0m\u001b[0m\n",
      "\u001b[1;31mOSError\u001b[0m: [Errno 22] Invalid argument: '\\\\home\\test.txt'"
     ]
    }
   ],
   "source": [
    "# move()移动文件夹/文件\n",
    "# 格式：shutil.move(源路径， 目标路径)\n",
    "# 返回值：目标路径\n",
    "\n",
    "rst = shutil.move(\"\\home\\test.txt\",\"\\home\\house\\test.txt\")"
   ]
  },
  {
   "cell_type": "markdown",
   "metadata": {},
   "source": [
    "# 归档和压缩\n",
    "- 归档：把多个文件或者文件夹合并到一个文件当中\n",
    "- 压缩：用算法把多个文件或者文件夹无损或有损合并到一个文件当中"
   ]
  },
  {
   "cell_type": "code",
   "execution_count": 45,
   "metadata": {},
   "outputs": [],
   "source": [
    "# make_archive():归档操作\n",
    "# 格式：shutil.make_archive（归档之后的目录和文件名，后缀，需要归档的文件夹）\n",
    "# 返回值：归档之后的地址\n",
    "##如shutil.make_archive(\"\\home\\shuoshuo\", \"zip\", \"\\taotao\")\n",
    "\n",
    "# unpack_archive():解包操作\n",
    "#格式：shutil.unpack_archive('归档文件地址'，'解包之后的地址')\n",
    "# 返回值：解包之后的地址\n"
   ]
  },
  {
   "cell_type": "markdown",
   "metadata": {},
   "source": [
    "# ZIPfile-压缩包\n",
    "- 模块名称叫做zipfile\n",
    "- zipfile.ZipFile(file, mode=\"r\", compression=ZIP_STORED, allowZip64=False)\n",
    "- 创建一个zip文件对象，压缩是需要把mode改为‘w’，这个是源码中的注释Open the ZIP file with mode read \"r\", write \"w\" or append \"a\"，a为追加压缩，不会清空原来的zip\n",
    "- 创建一个ZipFile对象，表示一个zip文件，参数file表示文件的路径或类文件对象\n",
    "- zipfile.is_zipfile(filename):判断一个文件是不是压缩文件 \n",
    "- ZipFile.namelist():返回文件列表 \n",
    "- ZipFile.open(name[, mode[, password]]):打开压缩文档中的某个文件   \n",
    "- ZipFile.getinfo(name):获取zip文档内指定文件的信息，返回一个zipfile.ZipInfo对象，包括文件的详细信息\n",
    "- ZipFile.namelist():获取zip文档内所有文件的名称列表\n",
    "- ZipFile.extractall([path[,members[,pwd]]]):解压zip文档中的所有文件到当前目录，参数members默认为zip文档内所有文件名称列表"
   ]
  },
  {
   "cell_type": "code",
   "execution_count": 52,
   "metadata": {},
   "outputs": [
    {
     "name": "stdout",
     "output_type": "stream",
     "text": [
      "52\n"
     ]
    }
   ],
   "source": [
    "import random\n",
    "print(random.choice(list(range(0,100,2))))\n"
   ]
  },
  {
   "cell_type": "markdown",
   "metadata": {},
   "source": [
    "# random\n",
    "- 随机模块都是伪随机\n",
    "- random.random():0-1之间的小数\n",
    "- random.choice(序列):随机返回序列中的某个值\n",
    "- shuffle()随机打乱列表，原列表被打乱后返回\n",
    "- random.randit():包括右边的值"
   ]
  }
 ],
 "metadata": {
  "kernelspec": {
   "display_name": "Python 3",
   "language": "python",
   "name": "python3"
  },
  "language_info": {
   "codemirror_mode": {
    "name": "ipython",
    "version": 3
   },
   "file_extension": ".py",
   "mimetype": "text/x-python",
   "name": "python",
   "nbconvert_exporter": "python",
   "pygments_lexer": "ipython3",
   "version": "3.7.3"
  }
 },
 "nbformat": 4,
 "nbformat_minor": 2
}
