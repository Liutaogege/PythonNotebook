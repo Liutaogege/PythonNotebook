{
 "cells": [
  {
   "cell_type": "markdown",
   "metadata": {},
   "source": [
    "# dict字典\n",
    "- 创建方法\n",
    "    - d = {}\n",
    "    - d = dict{}\n",
    "    - d = {\"one\":1,\"two\":2, \"three\":3}\n",
    "    - d = dict({\"one\":1,\"two\":2, \"three\":3})\n",
    "    - d = dict(one=1, two=2,three=3)\n",
    "    - d = dict([(\"one\",1),(\"two\",2),(\"three\",3)])\n",
    "\n",
    "- 2.基本操作\n",
    "    - len(d):返回字典的键值对的长度\n",
    "    - d[k]:获取这个key对应的值\n",
    "    - d[k] = v:设置键为k的值为v，如果字典中不存在k这个键值，那么自动添加进去\n",
    "    - del d[k]:删除d这个字典终止功能键为k的这一项数据\n",
    "    - k in dic:检查dic这个字典中是否包含键为k的这一项数据\n",
    "    - 字典中的键可以是任意的不可变类型，比如：浮点类型，整型，字符串或者元组\n",
    "    \n",
    "# 字典常用方法\n",
    "- 1.clear：清除字典中所有的项\n",
    "- 2.get:访问字典中哪个键对应的那个值，如果没找到这个方法不会抛出异常，而是返回None\n",
    "- 3.pop:用来获得对应给定键的值，然后将这个键和键值的项从字典中删除，会返回这个键对应的那个值\n",
    "- 4.popitem：删除一个键值对，默认为最后一个，返回的是那个被删除的键和值构成的元祖\n",
    "- 5.update：用一个字典更新另外一个字典，如果碰到相同的键，后者会覆盖前者\n",
    "- 6.setdefault：给键设定默认值，如果字典中包含有给定的键，则返回该键对应的值，否则返回给该键设置的值\n",
    "\n",
    "- 7.dict.fromkeys(k, value=None):给字典的键值设置统一的值"
   ]
  },
  {
   "cell_type": "code",
   "execution_count": null,
   "metadata": {},
   "outputs": [],
   "source": [
    "#clear的用法\n",
    "a = {\"username\":\"liutao\"}\n",
    "a.clear()\n",
    "print(a)"
   ]
  },
  {
   "cell_type": "code",
   "execution_count": 2,
   "metadata": {},
   "outputs": [
    {
     "name": "stdout",
     "output_type": "stream",
     "text": [
      "jiaojiao\n",
      "chengdu\n"
     ]
    }
   ],
   "source": [
    "# get的用法\n",
    "a = {\"username\":\"jiaojiao\"}\n",
    "username = a.get(\"username\")\n",
    "print(username)\n",
    "city = a.get(\"city\") #如果没找到返回None\n",
    "city = a.get(\"city\", \"chengdu\")  #设置没找到就返回chengdu\n",
    "print(city)"
   ]
  },
  {
   "cell_type": "code",
   "execution_count": null,
   "metadata": {},
   "outputs": [],
   "source": [
    "# pop的用法\n",
    "d = {\"x\": \"未知\", \"y\": \"已故\"}\n",
    "value = d.pop(\"x\")\n",
    "print(value)"
   ]
  },
  {
   "cell_type": "code",
   "execution_count": 4,
   "metadata": {},
   "outputs": [
    {
     "name": "stdout",
     "output_type": "stream",
     "text": [
      "{'x': '未知'} ('y', '已故')\n"
     ]
    }
   ],
   "source": [
    "# popitem的用法\n",
    "d = {\"x\": \"未知\", \"y\": \"已故\"} \n",
    "del_item = d.popitem()\n",
    "print(d, del_item)"
   ]
  },
  {
   "cell_type": "code",
   "execution_count": 6,
   "metadata": {},
   "outputs": [
    {
     "name": "stdout",
     "output_type": "stream",
     "text": [
      "{'x': '未知', 'q': '不错对象', 'y': '已故', 'z': 'desperate'}\n",
      "{'x': '未知', 'y': '已故', 'z': 'desperate'}\n"
     ]
    }
   ],
   "source": [
    "# update用法\n",
    "d = {\"x\": \"未知\", \"y\": \"已故\", \"z\": \"desperate\"}\n",
    "b = {\"x\": \"筛\", \"q\": \"不错对象\"}\n",
    "b.update(d)  # d会覆盖b\n",
    "print(b)\n",
    "print(d)  #d不改变"
   ]
  },
  {
   "cell_type": "code",
   "execution_count": 7,
   "metadata": {},
   "outputs": [
    {
     "name": "stdout",
     "output_type": "stream",
     "text": [
      "{'x': '筛', 'q': '不错对象'} 筛\n",
      "{'x': '筛', 'q': '不错对象', 'p': 'nice object'} nice object\n"
     ]
    }
   ],
   "source": [
    "# setdefault的用法\n",
    "b = {\"x\": \"筛\", \"q\": \"不错对象\"}\n",
    "value2 = b.setdefault(\"x\", \"筛子\")\n",
    "print(b, value2)\n",
    "value = b.setdefault(\"p\", \"nice object\")\n",
    "print(b, value)"
   ]
  },
  {
   "cell_type": "code",
   "execution_count": 8,
   "metadata": {},
   "outputs": [
    {
     "name": "stdout",
     "output_type": "stream",
     "text": [
      "{'a': 'happy', 'b': 'happy', 'c': 'happy'}\n",
      "{'a': None, 'b': None, 'c': None}\n"
     ]
    }
   ],
   "source": [
    "# setdefault的用法\n",
    "k = ['a', 'b', 'c']\n",
    "d = dict.fromkeys(k,'happy')\n",
    "e = {}.fromkeys(k) # 当值为空的时候，每个键对应的值是None\n",
    "print(d)\n",
    "print(e)"
   ]
  },
  {
   "cell_type": "code",
   "execution_count": null,
   "metadata": {},
   "outputs": [],
   "source": []
  }
 ],
 "metadata": {
  "kernelspec": {
   "display_name": "Python 3",
   "language": "python",
   "name": "python3"
  },
  "language_info": {
   "codemirror_mode": {
    "name": "ipython",
    "version": 3
   },
   "file_extension": ".py",
   "mimetype": "text/x-python",
   "name": "python",
   "nbconvert_exporter": "python",
   "pygments_lexer": "ipython3",
   "version": "3.7.3"
  }
 },
 "nbformat": 4,
 "nbformat_minor": 2
}
