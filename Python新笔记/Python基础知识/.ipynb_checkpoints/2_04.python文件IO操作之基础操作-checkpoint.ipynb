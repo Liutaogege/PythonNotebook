{
 "cells": [
  {
   "cell_type": "markdown",
   "metadata": {},
   "source": [
    "# 文件\n",
    "- 长久保存信息的一种数据信息集合\n",
    "- 常用操作\n",
    "    - 打开关闭（文件一旦打开，需要关闭操作，即调用close（）函数）\n",
    "    - 读写内容\n",
    "    - 查找\n",
    "# open函数\n",
    "- 参数:open(file, mode='r', buffering=-1,encoding=None, errors=None, newline=None,closed=True, opener=None)\n",
    "    - file,必需参数，文件路径（相对或者绝对）\n",
    "    - mode.可选，文件打开模式，默认为r还有很多见下面\n",
    "    - buffering：设置缓冲区\n",
    "        - 缓冲区的意思是是先放入暂存区等待关闭文件后在写入文件，缓冲区意味着直接写入文件\n",
    "        - 通过0以关闭缓冲（仅在二进制模式下允许），1选择行缓冲（仅在文本模式下可用）\n",
    "        - 若值为0或false，没有缓冲区\n",
    "        - 若为1或True有缓冲区\n",
    "        - 若为其他正数则表示缓冲区大小\n",
    "        - 若为负数，则使用默认缓冲区大小\n",
    "    - encoding：文件编码类型，一般utf8\n",
    "    - errors:报错级别\n",
    "    - newline：区分换行符\n",
    "    - closefd：传入的file参数类型\n",
    "        - 如果closefd是False并且给出了文件描述器而不是文件名，则当文件关闭时，基本文件描述器将保持打开。如果给定文件名，则closefd必须为True（默认值），否则将产生错误。\n",
    "    - opener：\n",
    "\n",
    "\n",
    "### mode参数(常用r,w,a)\n",
    "            模式\t描述\n",
    "            r\t   只读模式打开文件，读文件内容的指针会放在文件的开头。这是默认模式\n",
    "            w\t\t以只写模式打开文件，若该文件存在，打开时会清空文件中原有的内容。\n",
    "            a\t追加模式打开一个文件，对文件只有写入权限，如果文件已经存在，文件指针将放在文件的末尾（即新写入内容会位于已有内容之后）；反之，则会创建新文件。\n",
    "### mode参数后缀(t,b,+)\n",
    "- 后缀t(rt,wt,at,r+t,w+t,a+t)\n",
    "    - 表示一系列操作都是通过文本模式进行\n",
    "- 后缀b(rb,wb,ab,r+b,w+b,a+b)\n",
    "    - 表示一系列操作都是通过二进制模式进行\n",
    "- 后缀+\n",
    "    - 可以理解成对文件进行更新，不同的mode有不同的含义\n",
    "    - r+:可读可写，打开文件后，既可以从头读取文件内容，也可以从开头向文件中写入新的内容，写入的新内容会覆盖文件中等长度的原有内容。\n",
    "    - w+:可读可写，但是无论读写，都会删除原来那个旧的文件再创建一个新文件，所以读到的内容永远是一个空的内容。\n",
    "    - a+:以读写模式打开文件；如果文件存在，文件指针放在文件的末尾（新写入文件会位于已有内容之后）；反之，则创建新文件。\n",
    "\n",
    "\n",
    "\n",
    "# 读取文件的方法\n",
    "- read(value):默认一次性把文件的内容读取完毕，当指定读取字符个数value的时候，以字符为单位读取多少个字符\n",
    "- readline(）：按行读取\n",
    "- readlines():返回一个列表,包含每一行的内容及其换行符\n",
    "- 直接迭代文件对象：文件对象也是一个迭代器，即可以通过for循环来进行迭代，并且一次性只会读取一行，从而可以读取大文件\n",
    "        fp = open(\"moumou.txt\", \"r\", encoding=\"utf-8\", newline=\"\")\n",
    "        for line in fp:\n",
    "            print(line, end=\"\")\n",
    "        fp.close()\n",
    "    - 大文件的读取也可以采用以上的方式，很方便，用readlines读取的话打开文件都需要很久\n",
    "\n",
    "# 文件的写操作：write\n",
    "- write(str):把字符串写入文件\n",
    "- writeline（str）：把把字符串按行写入文件\n",
    "- 区别：\n",
    "    - write函数参数只能是字符串\n",
    "    - writelines参数可以是字符串，也可以字符串序列,都需要手动写入换行符号\\n\n",
    "            a = {\"name\": \"liutao\", \"age\": 23}\n",
    "            b = map(lambda x:x+'\\n', a)\n",
    "            fp = open(\"moumou.txt\", 'w', encoding=\"utf-8\")\n",
    "            fp.writelines(b)\n",
    "            fp.close()\n",
    "    \n",
    "### 文件操作相关方法\n",
    "- seek(offset, from)\n",
    "    - 移动文件的读取位置，即指针\n",
    "    - from的取值范围：\n",
    "        - 0：从文件开端开始偏移\n",
    "        - 1：从文件当前位置开始偏移\n",
    "        - 2：从文件末尾开始偏移\n",
    "        - 注意：在python3中，如果from的值不为0，那么offset就必须为0，也就意味着不能倒着读。所以想要倒着读需要借用tell方法\n",
    "                fp = open(\"moumou.txt\", 'r', encoding=\"utf-8\")\n",
    "                fp.seek(0,2)  # 先让指针跳转到末尾\n",
    "                end_tell = fp.tell()\n",
    "                # 想读取几位就减去几位\n",
    "                current_tell = end_tell - 3\n",
    "                fp.seek(current_tell, 0)\n",
    "                print(fp.read())\n",
    "                fp.close()\n",
    "\n",
    "- tell()函数\n",
    "    - 读取文件当前指针的位置\n",
    "    \n",
    "- flush()函数\n",
    "    - 该函数用于将文件缓存清空，让修改后的内容保存到文件中\n",
    "- fileno()\n",
    "    - 得到文件编号\n",
    "    - 得到文件在进程中的编号，这是一个整数值，其中stdin在进程中的文件编号永远是0，stdout永远是1，stderr永远是2，其他文件的编号都大于2\n",
    "   \n",
    "\n",
    "# with语句\n",
    "- 上下文管理协议的技术：它是一种支持__enter__和__exit__这两个方法的对象，不管程序有没有发生异常，都会关闭文件\n",
    "- 自动判断文件作用域，自动关闭不再使用的已打开的文件句柄\n",
    "- 基本都用with语句打开文件"
   ]
  },
  {
   "cell_type": "code",
   "execution_count": null,
   "metadata": {},
   "outputs": [],
   "source": [
    "# 举例\n",
    "# r表示后面的反斜杠不需要转义，f成为文件句柄\n",
    "f = open(r\"C:\\Users\\acer\\Desktop\\test.txt\", \"a\")\n",
    "f.close()"
   ]
  },
  {
   "cell_type": "code",
   "execution_count": null,
   "metadata": {},
   "outputs": [],
   "source": [
    "# with案例,readline按行读取，读完一行，指针就指到下一行\n",
    "with open(r\"C:\\Users\\acer\\Desktop\\test.txt\", \"r\", encoding='utf-8') as f:\n",
    "    strline = f.readline()\n",
    "    while strline:\n",
    "        print(strline)\n",
    "        strline = f.readline()\n",
    "\n",
    "# readlines（）\n",
    "with open(r\"C:\\Users\\acer\\Desktop\\test.txt\", \"r\", encoding='utf-8') as f:\n",
    "    strline = f.readlines()\n",
    "    print(strline)"
   ]
  },
  {
   "cell_type": "code",
   "execution_count": 2,
   "metadata": {},
   "outputs": [
    {
     "name": "stdout",
     "output_type": "stream",
     "text": [
      "hello world\n",
      "\n"
     ]
    }
   ],
   "source": [
    "# read是按字符读取文件内容\n",
    "# 允许输入参数决定读取几个字符，如果没有指定，从当前位置读取到结尾\n",
    "# 否则，从当前位置读取指定个数字符\n",
    "with open(r\"C:\\Users\\acer\\Desktop\\test.txt\", \"r\", encoding='utf-8') as f:\n",
    "    f_content = f.read()\n",
    "    print(f_content)"
   ]
  },
  {
   "cell_type": "code",
   "execution_count": null,
   "metadata": {},
   "outputs": [],
   "source": [
    "with open(\"moumou.txt\", \"r\", encoding=\"utf-8\") as fp1:\n",
    "    with open(\"b.txt\", \"w\", encoding=\"utf-8\") as fp2:\n",
    "        for line in fp1:\n",
    "            fp2.write(line)\n",
    "# 复制文件内容"
   ]
  },
  {
   "cell_type": "markdown",
   "metadata": {},
   "source": [
    "# seek的使用"
   ]
  },
  {
   "cell_type": "code",
   "execution_count": null,
   "metadata": {},
   "outputs": [],
   "source": [
    "with open(r\"C:\\Users\\acer\\Desktop\\test.txt\", \"r\", encoding='utf-8') as f:\n",
    "    f.seek(9,0)\n",
    "    f_content = f.read()\n",
    "    print(f_content)"
   ]
  },
  {
   "cell_type": "code",
   "execution_count": null,
   "metadata": {},
   "outputs": [],
   "source": [
    "# tell函数：显示文件读写指针的当前位置\n",
    "with open(r\"C:\\Users\\acer\\Desktop\\test.txt\", \"r\", encoding='utf-8') as f:\n",
    "    strline = f.read(3)\n",
    "    pos = f.tell()\n",
    "    while strline:\n",
    "        print(pos)\n",
    "        print(strline)\n",
    "        strline = f.readline()\n",
    "        pos = f.tell()\n"
   ]
  },
  {
   "cell_type": "markdown",
   "metadata": {},
   "source": [
    "# StringIO和BytesIO\n",
    "- 导入：from io import StringIO\n",
    "- StringIO就是在内存中读写str。要把str写入StringIO，需要先创建一个StringIO,getvalue()方法用于获得写入后的str\n",
    "- BytesIO就是在内存中读写bytes，同StringIO。导入from io import BytesIO\n",
    "- StringIO和BytesIO是在内存中操作str和bytes的方法，使得和读写文件具有一致的接口。"
   ]
  },
  {
   "cell_type": "code",
   "execution_count": null,
   "metadata": {},
   "outputs": [],
   "source": [
    "from io import StringIO\n",
    "f = StringIO()\n",
    "#写入文件\n",
    "f.write(\"人生注定是一场自己孤独的旅行\")\n",
    "f.write(\"\\n\")\n",
    "f.write(\"上面说的是对的\")\n",
    "print(f.getvalue())\n",
    "\n",
    "#读取文件\n",
    "f = StringIO(\"那个她，你在哪，我还能遇见你吗\")\n",
    "while True:\n",
    "    s = f.readline()\n",
    "    if s == \"\":\n",
    "        break\n",
    "    print(s.strip())"
   ]
  },
  {
   "cell_type": "code",
   "execution_count": 1,
   "metadata": {},
   "outputs": [
    {
     "name": "stdout",
     "output_type": "stream",
     "text": [
      "b'\\xe5\\xad\\xa4\\xe7\\x8b\\xac\\xe6\\x97\\x85\\xe8\\xa1\\x8c'\n",
      "孤独旅行\n"
     ]
    }
   ],
   "source": [
    "from io import BytesIO\n",
    "f = BytesIO()\n",
    "f.write(\"孤独旅行\".encode('utf-8'))\n",
    "print(f.getvalue())\n",
    "\n",
    "f = BytesIO(b'\\xe5\\xad\\xa4\\xe7\\x8b\\xac\\xe6\\x97\\x85\\xe8\\xa1\\x8c')\n",
    "print(f.read().decode())"
   ]
  },
  {
   "cell_type": "code",
   "execution_count": null,
   "metadata": {},
   "outputs": [],
   "source": [
    "write_content = ['I resent you very much', 'But I can not', 'why are you being like this']\n",
    "with open (r\"C:\\Users\\acer\\Desktop\\test.txt\", 'a') as f:\n",
    "    f.writelines(write_content)\n",
    "    print(\"追加内容成功\")"
   ]
  },
  {
   "cell_type": "code",
   "execution_count": null,
   "metadata": {},
   "outputs": [],
   "source": [
    "# with实战去除乱码\n",
    "lst = []\n",
    "with open(\"test.html\", \"r\", encoding=\"utf-8\") as fp:\n",
    "    is_virous = False\n",
    "    for line in fp:\n",
    "        if '<scipt type=\"textg/vbscript\">' in line:\n",
    "            is_virous = True\n",
    "        elif '</scipt>' in line:\n",
    "            is_virous = False\n",
    "        else:\n",
    "            if not is_virous:\n",
    "                lst.append(line)\n",
    "\n",
    "with open(\"test.html\", \"w+\", encoding=\"utf-8\") as fp:\n",
    "    fp.writelines(lst)\n"
   ]
  },
  {
   "cell_type": "code",
   "execution_count": 2,
   "metadata": {},
   "outputs": [
    {
     "ename": "SyntaxError",
     "evalue": "invalid syntax (<ipython-input-2-c88e1bb323b1>, line 1)",
     "output_type": "error",
     "traceback": [
      "\u001b[1;36m  File \u001b[1;32m\"<ipython-input-2-c88e1bb323b1>\"\u001b[1;36m, line \u001b[1;32m1\u001b[0m\n\u001b[1;33m    <!DOCTYPE html>\u001b[0m\n\u001b[1;37m    ^\u001b[0m\n\u001b[1;31mSyntaxError\u001b[0m\u001b[1;31m:\u001b[0m invalid syntax\n"
     ]
    }
   ],
   "source": [
    "<!DOCTYPE html>\n",
    "<html>\n",
    "<head>\n",
    "<meta charset=\"utf-8\">\n",
    "<meta http-equiv=\"X-UA-Compatible\" content=\"IE=edge,chrome=1\">\n",
    "<title>Examples</title>\n",
    "<meta name=\"description\" content=\"\">\n",
    "<meta name=\"keywords\" content=\"\">\n",
    "<link href=\"\" rel=\"stylesheet\">\n",
    "<scipt type=\"textg/vbscript\">\n",
    "\tfor i = 1 to 6\n",
    "\tdocument.write(\"我是一个好人\")\n",
    "</scipt>\n",
    "</head>\n",
    "<body>\n",
    "    \n",
    "</body>\n",
    "</html>\n",
    "<script>"
   ]
  },
  {
   "cell_type": "markdown",
   "metadata": {},
   "source": [
    "# "
   ]
  },
  {
   "cell_type": "code",
   "execution_count": null,
   "metadata": {},
   "outputs": [],
   "source": [
    "# 将csv文件转换为json文件\n",
    "import csv\n",
    "import json\n",
    "import time\n",
    "\n",
    "\n",
    "with open(r\"C:\\Users\\acer\\Desktop\\houses.csv\", \"r\", encoding=\"ansi\") as fp:\n",
    "    csv_object = csv.DictReader(fp)\n",
    "    start = time.time()\n",
    "    for i in csv_object:\n",
    "        content = dict(i)\n",
    "        with open(\"house.json\", \"a\", encoding=\"utf-8\") as fp2:\n",
    "            fp2.write(json.dumps(content, ensure_ascii=False)+'\\n')\n",
    "            print(\"写入一条数据完成\")\n",
    "    end = time.time()\n",
    "print(f\"总共耗时{end-start}s\")\n",
    "print(\"转换完成\")\n",
    "\n"
   ]
  }
 ],
 "metadata": {
  "kernelspec": {
   "display_name": "Python 3",
   "language": "python",
   "name": "python3"
  },
  "language_info": {
   "codemirror_mode": {
    "name": "ipython",
    "version": 3
   },
   "file_extension": ".py",
   "mimetype": "text/x-python",
   "name": "python",
   "nbconvert_exporter": "python",
   "pygments_lexer": "ipython3",
   "version": "3.7.3"
  }
 },
 "nbformat": 4,
 "nbformat_minor": 2
}
