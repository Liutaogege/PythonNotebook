{
 "cells": [
  {
   "cell_type": "markdown",
   "metadata": {},
   "source": [
    "# Python中执行shell脚本名令的几种方法\n",
    "- os方法\n",
    "    - 对于有返回值的shell命令，建议使用 os.popen()\n",
    "    - 对于没有返回值的shell命令，建议使用 os.system()\n",
    "- subprocess方法，用来替代os方法的\n",
    "\n",
    "\n",
    "### subprocess模块\n",
    "- 常用方法\n",
    "    - 1、subprocess.call()：执行命令，并返回执行状态，其中shell参数为False时，命令以及命令的参数需要通过列表的方式传入，当shell为True时，可通过一个字符串直接传入命令以及命令所需要的参数\n",
    "    - 2、subprocess.check_call()：用法与subprocess.call()类似，区别是，当返回值不为0时，直接抛出异常\n",
    "    - 3、subprocess.check_output()：用法与上面两个方法类似，区别是，如果当返回值为0时，直接返回输出结果，如果返回值不为0，直接抛出异常。"
   ]
  },
  {
   "cell_type": "code",
   "execution_count": null,
   "metadata": {},
   "outputs": [],
   "source": [
    "#第一种os.system()，在Linux系统中才管用\n",
    "import os\n",
    "os.chdir(r\"C:\\Users\\acer\\Desktop\")\n",
    "print(os.system(\"touch test.txt\"))  #返回1表示不成功\n",
    "print(os.system(\"ls -a\"))\n",
    "\n",
    "# 第二种os.popen()\n",
    "print(os.popen(\"ls -l\"))\n",
    "f = os.popen(\"touch test.txt\")\n",
    "print(f.read())"
   ]
  },
  {
   "cell_type": "code",
   "execution_count": null,
   "metadata": {},
   "outputs": [],
   "source": [
    "# subprocess的简单使用\n",
    "import os\n",
    "import subprocess\n",
    "\n",
    "os.chdir(r\"C:\\Users\\acer\\Desktop\")\n",
    "print(subprocess.call([\"ls\",\"-l\"],shell=False))  # shell参数为false，则，命令以及参数以列表的形式给出"
   ]
  },
  {
   "cell_type": "code",
   "execution_count": null,
   "metadata": {},
   "outputs": [],
   "source": []
  },
  {
   "cell_type": "code",
   "execution_count": null,
   "metadata": {},
   "outputs": [],
   "source": []
  },
  {
   "cell_type": "code",
   "execution_count": null,
   "metadata": {},
   "outputs": [],
   "source": []
  }
 ],
 "metadata": {
  "kernelspec": {
   "display_name": "Python 3",
   "language": "python",
   "name": "python3"
  },
  "language_info": {
   "codemirror_mode": {
    "name": "ipython",
    "version": 3
   },
   "file_extension": ".py",
   "mimetype": "text/x-python",
   "name": "python",
   "nbconvert_exporter": "python",
   "pygments_lexer": "ipython3",
   "version": "3.7.3"
  }
 },
 "nbformat": 4,
 "nbformat_minor": 2
}
