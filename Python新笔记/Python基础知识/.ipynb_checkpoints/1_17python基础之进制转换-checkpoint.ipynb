{
 "cells": [
  {
   "cell_type": "markdown",
   "metadata": {},
   "source": [
    "# 进制转换相关函数\n",
    "- bin():将十进制转换为二进制,以Ob开头\n",
    "- oct():将十进制转换为八进制字符串输出，以Oo开头\n",
    "- hex():将十进制转换为十六进制字符串输出，以Ox开头\n",
    "- bool():将对象转换成bool类型，非空字符串即为真，空为假\n",
    "- ord(一个字符);得到字符的ASCII码\n",
    "- chr():从ASCII码得到字符"
   ]
  },
  {
   "cell_type": "code",
   "execution_count": 1,
   "metadata": {},
   "outputs": [
    {
     "name": "stdout",
     "output_type": "stream",
     "text": [
      "0b10\n",
      "0o2\n",
      "0x2\n",
      "True\n",
      "97\n",
      "A\n"
     ]
    }
   ],
   "source": [
    "a = 2\n",
    "print(bin(a))\n",
    "print(oct(a))\n",
    "print(hex(a))\n",
    "print(bool(a))\n",
    "print(ord(\"a\"))\n",
    "print(chr(65))\n"
   ]
  },
  {
   "cell_type": "code",
   "execution_count": null,
   "metadata": {},
   "outputs": [],
   "source": []
  },
  {
   "cell_type": "code",
   "execution_count": null,
   "metadata": {},
   "outputs": [],
   "source": []
  }
 ],
 "metadata": {
  "kernelspec": {
   "display_name": "Python 3",
   "language": "python",
   "name": "python3"
  },
  "language_info": {
   "codemirror_mode": {
    "name": "ipython",
    "version": 3
   },
   "file_extension": ".py",
   "mimetype": "text/x-python",
   "name": "python",
   "nbconvert_exporter": "python",
   "pygments_lexer": "ipython3",
   "version": "3.7.3"
  }
 },
 "nbformat": 4,
 "nbformat_minor": 2
}
