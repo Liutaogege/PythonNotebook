{
 "cells": [
  {
   "cell_type": "markdown",
   "metadata": {},
   "source": [
    "# list常用方法\n",
    "- 可以相加和相乘（重复元素）：+，*\n",
    "- 列表也可以求交集，并集和差集,将其转化成集合再求交集并集等\n",
    "- 1.append:在列表末尾添加元素\n",
    "- 2.count：统计某个元素在列表中出现的次数\n",
    "- 3.extend：将一个列表中的元素追加到另外一个列表中\n",
    "- 4.index(value):找出列表中第一个值的第一个匹配项的索引位置，如果没有找到，则抛出一个异常\n",
    "- 5.insert(index, value,)：将某个值插入到某个列表中的某个位置\n",
    "- 6.pop(index)方法：默认移除列表中最后一个元素，并且返回该元素的值\n",
    "- 7.remove(value)：移除列表中第一个匹配的元素，不会 返回这个被移除的元素的值，如果被移除的这值不存在列表中，则会抛出异常\n",
    "- 8.reverse：将列表中的元素反向存储，会更改原来列表的值\n",
    "- 9.sort(key=None, reverse=False):将列表中的元素进行排序，会更改原来列表中的位置\n",
    "    - 要区分sorted函数，sorted函数不会更改原来列表的位置，并且会返回一个排序后的值\n",
    "- 10.del关键字:根据下标删除元素：del lst[index]\n",
    "- 11.使用in判断列表中是否有某个元素\n",
    "- 12.list函数：将其他的数据类型转换成列表\n",
    "- 13.clear：清空元素,a.clear()，使用过后内存地址不变\n",
    "\n",
    "\n",
    "### 解组操作（集合、元组也可以）\n",
    "#### 从任意的可迭代对象分解元素\n",
    "data = ['xiao','hong', 'ge', 'jie']\n",
    "a, b, c, d = data\n",
    "print(a,b,c,d)\n",
    "\n",
    "data = ['xiao','hong', 'ge', 'jie']\n",
    "a, _, _, d = data\n",
    "print(a,d)\n",
    "\n",
    "data = ['xiao','hong', 'ge', 'jie']\n",
    "a, *b = data\n",
    "print(a,b)\n"
   ]
  },
  {
   "cell_type": "code",
   "execution_count": 2,
   "metadata": {},
   "outputs": [
    {
     "name": "stdout",
     "output_type": "stream",
     "text": [
      "xiao hong ge jie\n",
      "xiao jie\n",
      "xiao ['hong', 'ge', 'jie']\n"
     ]
    }
   ],
   "source": [
    "#### 从任意的可迭代对象分解元素\n",
    "data = ['xiao','hong', 'ge', 'jie']\n",
    "a, b, c, d = data\n",
    "print(a,b,c,d)\n",
    "\n",
    "data = ['xiao','hong', 'ge', 'jie']\n",
    "a, _, _, d = data\n",
    "print(a,d)\n",
    "\n",
    "data = ['xiao','hong', 'ge', 'jie']\n",
    "a, *b = data\n",
    "print(a,b)"
   ]
  },
  {
   "cell_type": "code",
   "execution_count": 6,
   "metadata": {},
   "outputs": [
    {
     "name": "stdout",
     "output_type": "stream",
     "text": [
      "naming age\n",
      "刘涛 23\n"
     ]
    }
   ],
   "source": [
    "a = {\"naming\": \"刘涛\", \"age\": 23}\n",
    "name, age = a\n",
    "print(name, age)\n",
    "print(a[name], a[age])"
   ]
  },
  {
   "cell_type": "code",
   "execution_count": 9,
   "metadata": {},
   "outputs": [
    {
     "name": "stdout",
     "output_type": "stream",
     "text": [
      "liutao 23\n",
      "jiaojioa 21\n"
     ]
    }
   ],
   "source": [
    "#  双层列表的遍历\n",
    "a = [[\"liutao\", 23], [\"jiaojioa\", 21]]\n",
    "for m, n in a:\n",
    "    print(m, n)"
   ]
  },
  {
   "cell_type": "code",
   "execution_count": 10,
   "metadata": {},
   "outputs": [
    {
     "name": "stdout",
     "output_type": "stream",
     "text": [
      "True\n",
      "True\n",
      "[4, 5, 6]\n",
      "[1, 2, 3, 4]\n",
      "============\n",
      "[1, 2, 3, 4, [3, 35, 23]]\n",
      "==============\n",
      "[1, 2, 3, 4, [3, 35, 23], 4, 5, 7]\n",
      "===========\n",
      "[1, 2, 4, [3, 35, 23], 4, 5, 7]\n",
      "[1, 2, 4, [3, 35, 23], 4, 5]\n",
      "[1, 2, [3, 35, 23], 4, 5]\n",
      "1\n",
      "5\n"
     ]
    }
   ],
   "source": [
    "li = [9,89,9,384,283,83,92,9,0,9]\n",
    "lw = list(range(0,11))\n",
    "sc = set(li)\n",
    "se = set(lw)\n",
    "sb = {i for i in sc if i % 2 == 0}\n",
    "\n",
    "print(sc.issuperset(sb))#询问sc是否是sb的父集\n",
    "print(sb.issubset(sc))#询问sb是否是sc的子集\n",
    "#列表求交集\n",
    "a = {1,2,3,4,5,6}\n",
    "b = {4,5,6,7,8,9}\n",
    "print(list(a.intersection(b)))\n",
    "# 列表操作函数\n",
    "c = [1,2,3]\n",
    "c.append(4)#append只能一个一个的加进去\n",
    "print(c)\n",
    "print(\"============\")\n",
    "c.append([3,35,23])\n",
    "print(c)\n",
    "print(\"==============\")\n",
    "c.extend([4,5,7])#一群加进去\n",
    "print(c)\n",
    "print(\"===========\")\n",
    "# 删除元素\n",
    "del c[2]\n",
    "print(c)\n",
    "\n",
    "c.pop()\n",
    "print(c)\n",
    "c.remove(4)\n",
    "print(c)\n",
    "print(c.count(4))\n",
    "print(len(c))"
   ]
  }
 ],
 "metadata": {
  "kernelspec": {
   "display_name": "Python 3",
   "language": "python",
   "name": "python3"
  },
  "language_info": {
   "codemirror_mode": {
    "name": "ipython",
    "version": 3
   },
   "file_extension": ".py",
   "mimetype": "text/x-python",
   "name": "python",
   "nbconvert_exporter": "python",
   "pygments_lexer": "ipython3",
   "version": "3.7.3"
  }
 },
 "nbformat": 4,
 "nbformat_minor": 2
}
