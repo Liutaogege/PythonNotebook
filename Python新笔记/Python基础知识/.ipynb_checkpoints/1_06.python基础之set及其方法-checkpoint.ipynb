{
 "cells": [
  {
   "cell_type": "markdown",
   "metadata": {},
   "source": [
    "# 集合Set()：无序\n",
    "- set是一个无序且不重复的元素集合。\n",
    "    - 集合对象是一组无序排列的可哈希的值，集合成员可以做字典中的键。集合支持用in和not in操作符检查成员，由len()内建函数得到集合的基数(大小)， 用 for 循环迭代集合的成员。但是因为集合本身是无序的，不可以为集合创建索引或执行切片(slice)操作，也没有键(keys)可用来获取集合中元素的值。\n",
    "- 创建：\n",
    "    - st = {value},括号内必须有值,否则创建的就是字典,内部只可存放可哈希数据\n",
    "    - st = set(()/[]/{}),\n",
    "    - st = set():空集合\n",
    "\n",
    "#### 常用方法\n",
    "- 集合支持一系列标准操作，包括交集，并集，差集和对称差集\n",
    "    - |:求并集\n",
    "    - &:求交集\n",
    "    - -:求差集\n",
    "    - ^:对称差集\n",
    "- 1.add:添加元素,参数只能是一个，并且只能是可哈希对象\n",
    "- 2.update:添加多个元素\n",
    "- 3.删除元素\n",
    "    - a.remove(var):删除指定元素的值，不会返回元素，若删除的元素不存在，则报错\n",
    "    - a.discard(var):也是删除指定元素的值，不会返回元素，若删除的元素不存在，不报错\n",
    "    - a.clear():清除所有元素\n",
    "    - a.pop()是删除随机的一个元素,而remover和clear和列表一样\n",
    "- 浅拷贝：copy\n",
    "\n",
    "- 集合的交集、并集、差集、对称差集（即交集的补集）\n",
    "  - |对union\n",
    "  - &对intersection\n",
    "  - -对difference\n",
    "  - ^对symmetric_difference\n",
    "  - 找到a中存在，b中不存在的集合，覆盖掉a：a.difference_update(b)\n",
    "  - 删除集合a中所有不属于集合b的元素并覆盖掉a，同交集相比，这个a会发生改变:a.intersection_update(b)\n",
    "- a.isdisjoint(b)，是否不存在交集：有交集False，无交集True\n",
    "- issuperset,询问某某是否是某某的父集\n",
    "- issubset,询问某某是否是某某的子集"
   ]
  },
  {
   "cell_type": "code",
   "execution_count": 5,
   "metadata": {},
   "outputs": [
    {
     "name": "stdout",
     "output_type": "stream",
     "text": [
      "{1, 3, 5}\n",
      "{8, 2, 5}\n",
      "{'age', 'name'}\n"
     ]
    }
   ],
   "source": [
    "# 创建set举例\n",
    "a = [1, 3, 5]\n",
    "b = (2, 5, 5, 8)\n",
    "c = {\"name\": \"liutao\", \"age\": 23}\n",
    "print(set(a))\n",
    "print(set(b))\n",
    "print(set(c))"
   ]
  },
  {
   "cell_type": "code",
   "execution_count": null,
   "metadata": {},
   "outputs": [],
   "source": [
    "# |, &, -, ^\n",
    "a = {1, 3, 5}\n",
    "b = {2, 5, 5, 8}\n",
    "print(a | b)\n",
    "print(a & b)\n",
    "print(a - b)\n",
    "print(a ^ b)"
   ]
  },
  {
   "cell_type": "code",
   "execution_count": 4,
   "metadata": {},
   "outputs": [
    {
     "name": "stdout",
     "output_type": "stream",
     "text": [
      "None\n",
      "None\n",
      "{1, 3, (2, 3), 5} {'city', 'age', 'name'}\n",
      "{2, 5, 8, '你', 'age', 'city', '爱', '我', 'name'}\n"
     ]
    }
   ],
   "source": [
    "# add和update举例\n",
    "a = {1, 3, 5}\n",
    "b = {2, 5, 5, 8}\n",
    "c = {\"name\", \"age\"}\n",
    "print(a.add((2,3)))\n",
    "print(c.add(\"city\"))\n",
    "print(a, c)\n",
    "\n",
    "b.update(c)\n",
    "b.update(\"我爱你\")  # 会把可迭代对象解组\n",
    "print(b)"
   ]
  },
  {
   "cell_type": "code",
   "execution_count": 9,
   "metadata": {},
   "outputs": [
    {
     "name": "stdout",
     "output_type": "stream",
     "text": [
      "None\n",
      "{1, 5}\n",
      "None\n",
      "{5}\n",
      "None\n",
      "{5}\n",
      "2\n",
      "{34, 5, 8, 51}\n"
     ]
    }
   ],
   "source": [
    "# 删除元素\n",
    "a = {1, 3, 5}\n",
    "b = {2, 5, 5, 8}\n",
    "print(a.remove(3))\n",
    "print(a)\n",
    "# print(a.remove(8))  #会报错\n",
    "print(a.discard(1))\n",
    "print(a)\n",
    "print(a.discard(8))\n",
    "print(a)\n",
    "\n",
    "a = {1, 3, 5}\n",
    "b = {2, 5, 51, 34, 8}\n",
    "print(b.pop())\n",
    "print(b)"
   ]
  },
  {
   "cell_type": "code",
   "execution_count": null,
   "metadata": {},
   "outputs": [],
   "source": [
    "# 浅拷贝\n",
    "a = {1, 3, 5}\n",
    "b = {2, 5, 51, 34, 8}\n",
    "c = a.copy()\n",
    "print(c)"
   ]
  },
  {
   "cell_type": "markdown",
   "metadata": {},
   "source": [
    "### 冰冻集合frozenset()\n",
    "- 不能修改集合或操作\n",
    "- 除了不能修改的特点，集合的特性他都有"
   ]
  },
  {
   "cell_type": "code",
   "execution_count": 12,
   "metadata": {},
   "outputs": [
    {
     "name": "stdout",
     "output_type": "stream",
     "text": [
      "frozenset({2, 3, 5})\n",
      "frozenset({1, 2, 3, 4, 5, 6})\n"
     ]
    }
   ],
   "source": [
    "s = frozenset([1,2,3,3,4,5,6])\n",
    "s1 =frozenset([2, 3, 5])\n",
    "c = s & s1\n",
    "print(c)\n",
    "print(s)"
   ]
  },
  {
   "cell_type": "code",
   "execution_count": null,
   "metadata": {},
   "outputs": [],
   "source": []
  },
  {
   "cell_type": "code",
   "execution_count": null,
   "metadata": {},
   "outputs": [],
   "source": []
  },
  {
   "cell_type": "code",
   "execution_count": null,
   "metadata": {},
   "outputs": [],
   "source": []
  },
  {
   "cell_type": "code",
   "execution_count": null,
   "metadata": {},
   "outputs": [],
   "source": []
  },
  {
   "cell_type": "code",
   "execution_count": null,
   "metadata": {},
   "outputs": [],
   "source": []
  }
 ],
 "metadata": {
  "kernelspec": {
   "display_name": "Python 3",
   "language": "python",
   "name": "python3"
  },
  "language_info": {
   "codemirror_mode": {
    "name": "ipython",
    "version": 3
   },
   "file_extension": ".py",
   "mimetype": "text/x-python",
   "name": "python",
   "nbconvert_exporter": "python",
   "pygments_lexer": "ipython3",
   "version": "3.7.3"
  }
 },
 "nbformat": 4,
 "nbformat_minor": 2
}
