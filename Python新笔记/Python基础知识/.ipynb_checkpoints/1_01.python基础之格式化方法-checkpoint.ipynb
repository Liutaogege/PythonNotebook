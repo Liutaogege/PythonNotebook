{
 "cells": [
  {
   "cell_type": "markdown",
   "metadata": {},
   "source": [
    "# print格式化"
   ]
  },
  {
   "cell_type": "code",
   "execution_count": 3,
   "metadata": {},
   "outputs": [
    {
     "name": "stdout",
     "output_type": "stream",
     "text": [
      "I love you so much            这是测站位符的啊\n",
      "I love you so much------------\n",
      "            I love you so much\n",
      "------------I love you so much\n",
      "------I love you so much------\n",
      "1,234,533\n",
      "我-爱-你\n"
     ]
    }
   ],
   "source": [
    "# 文本对齐：输出占位符\n",
    "text = \"I love you so much\"\n",
    "print(text.ljust(30), end=\"\")\n",
    "print(\"这是测站位符的啊\")\n",
    "print(text.ljust(30, '-'))\n",
    "\n",
    "\n",
    "print(text.rjust(30, \" \"))\n",
    "print(text.rjust(30, \"-\"))\n",
    "\n",
    "\n",
    "print(text.center(30, \"-\"))\n",
    "\n",
    "#（4）逗号,<格式控制标记>中用于显示数字的千位分隔符，例如：\n",
    "print(\"{:,}\".format(1234533))\n",
    "\n",
    "words = {\"我\", \"爱\", \"你\"}\n",
    "print(*words, sep=\"-\")"
   ]
  },
  {
   "cell_type": "markdown",
   "metadata": {},
   "source": [
    "# print的其他用法"
   ]
  },
  {
   "cell_type": "code",
   "execution_count": 10,
   "metadata": {},
   "outputs": [
    {
     "name": "stdout",
     "output_type": "stream",
     "text": [
      "my name is liutao\n",
      "my name is liutao\n",
      "\n",
      "line1\n",
      "line2\n",
      "line3\n"
     ]
    },
    {
     "ename": "FileNotFoundError",
     "evalue": "[Errno 2] No such file or directory: 'test.text'",
     "output_type": "error",
     "traceback": [
      "\u001b[1;31m---------------------------------------------------------------------------\u001b[0m",
      "\u001b[1;31mFileNotFoundError\u001b[0m                         Traceback (most recent call last)",
      "\u001b[1;32m<ipython-input-10-1eaef3dadba4>\u001b[0m in \u001b[0;36m<module>\u001b[1;34m\u001b[0m\n\u001b[0;32m     17\u001b[0m \u001b[1;32mimport\u001b[0m \u001b[0mos\u001b[0m\u001b[1;33m\u001b[0m\u001b[1;33m\u001b[0m\u001b[0m\n\u001b[0;32m     18\u001b[0m \u001b[0mos\u001b[0m\u001b[1;33m.\u001b[0m\u001b[0mchdir\u001b[0m\u001b[1;33m(\u001b[0m\u001b[1;34mr\"C:\\Users\\acer\\Desktop\"\u001b[0m\u001b[1;33m)\u001b[0m\u001b[1;33m\u001b[0m\u001b[1;33m\u001b[0m\u001b[0m\n\u001b[1;32m---> 19\u001b[1;33m \u001b[1;32mwith\u001b[0m \u001b[0mopen\u001b[0m\u001b[1;33m(\u001b[0m\u001b[1;34mr\"test.text\"\u001b[0m\u001b[1;33m,\u001b[0m \u001b[1;34m\"rt\"\u001b[0m\u001b[1;33m)\u001b[0m \u001b[1;32mas\u001b[0m \u001b[0mf\u001b[0m\u001b[1;33m:\u001b[0m\u001b[1;33m\u001b[0m\u001b[1;33m\u001b[0m\u001b[0m\n\u001b[0m\u001b[0;32m     20\u001b[0m         \u001b[0mprint\u001b[0m\u001b[1;33m(\u001b[0m\u001b[1;34m\"hello world\"\u001b[0m\u001b[1;33m,\u001b[0m \u001b[0mfile\u001b[0m\u001b[1;33m=\u001b[0m\u001b[0mf\u001b[0m\u001b[1;33m)\u001b[0m\u001b[1;33m\u001b[0m\u001b[1;33m\u001b[0m\u001b[0m\n",
      "\u001b[1;31mFileNotFoundError\u001b[0m: [Errno 2] No such file or directory: 'test.text'"
     ]
    }
   ],
   "source": [
    "name = \"liutao\"\n",
    "\n",
    "# f-string输出法\n",
    "print(f\"my name is {name}\")\n",
    "\n",
    "# format_map在变量中去寻找name这个变量,没找到则报错\n",
    "print(\"my name is {name}\".format_map(vars())) \n",
    "\n",
    "#r表示不转义\n",
    "print(r\"\"\"\n",
    "line1\n",
    "line2\n",
    "line3\"\"\") \n",
    "\n",
    "# 将打印输出到文件中:\n",
    "#注意确保文件是以文本模式打开的\n",
    "import os\n",
    "os.chdir(r\"C:\\Users\\acer\\Desktop\")\n",
    "with open(r\"test.txt\", \"rt\") as f:\n",
    "        print(\"hello world\", file=f)"
   ]
  },
  {
   "cell_type": "code",
   "execution_count": null,
   "metadata": {},
   "outputs": [],
   "source": []
  },
  {
   "cell_type": "markdown",
   "metadata": {},
   "source": [
    "# textwrap"
   ]
  },
  {
   "cell_type": "code",
   "execution_count": null,
   "metadata": {},
   "outputs": [],
   "source": [
    "\n",
    "#以固定的列数重新格式化文本\n",
    "import textwrap\n",
    "\n",
    "s = \"I love you, but you will never know, I know, whatever how deep I love you, you still do not care me\"\n",
    "print(textwrap.fill(s, 40, initial_indent=\" \",subsequent_indent=\" \"))"
   ]
  },
  {
   "cell_type": "code",
   "execution_count": null,
   "metadata": {},
   "outputs": [],
   "source": []
  }
 ],
 "metadata": {
  "kernelspec": {
   "display_name": "Python 3",
   "language": "python",
   "name": "python3"
  },
  "language_info": {
   "codemirror_mode": {
    "name": "ipython",
    "version": 3
   },
   "file_extension": ".py",
   "mimetype": "text/x-python",
   "name": "python",
   "nbconvert_exporter": "python",
   "pygments_lexer": "ipython3",
   "version": "3.7.3"
  }
 },
 "nbformat": 4,
 "nbformat_minor": 2
}
