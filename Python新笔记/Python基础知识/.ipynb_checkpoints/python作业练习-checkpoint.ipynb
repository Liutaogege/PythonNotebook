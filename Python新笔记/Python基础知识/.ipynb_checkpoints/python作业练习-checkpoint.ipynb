{
 "cells": [
  {
   "cell_type": "code",
   "execution_count": 9,
   "metadata": {},
   "outputs": [
    {
     "name": "stdout",
     "output_type": "stream",
     "text": [
      "请输入你的性别（女生0，男生1）:1.\n",
      "请输入正确的数字\n",
      "请输入你的性别（女生0，男生1）:2\n",
      "请输入正确的数字\n",
      "请输入你的性别（女生0，男生1）:1\n",
      "请输入你的腰围(cm):29\n",
      "请输入你的体重（Kg)54\n",
      "你的体脂率是: 51.31%\n"
     ]
    }
   ],
   "source": [
    "# 计算体脂率\n",
    "class CalTizhi():\n",
    "    def __init__(self):\n",
    "        while True:\n",
    "            try:\n",
    "                self.sex = int(input(\"请输入你的性别（女生0，男生1）:\"))\n",
    "                if self.sex != 0 and self.sex != 1:\n",
    "                    raise ValueError\n",
    "                self.waist = float(input(\"请输入你的腰围(cm):\"))\n",
    "                self.weight = float(input(\"请输入你的体重（Kg)\"))\n",
    "                if self.weight:\n",
    "                    break\n",
    "            except:\n",
    "                print(\"请输入正确的数字\")\n",
    "\n",
    "    def cal_tizhi(self):\n",
    "        sex = int(self.sex)\n",
    "        waist = float(self.waist)\n",
    "        weight = float(self.weight)\n",
    "        if int(sex) == 0:\n",
    "            weight_value = weight * 0.082 + 34.89\n",
    "        else:\n",
    "            weight_value = weight * 0.082 + 44.74\n",
    "        waist_value = waist * 0.74\n",
    "        tizhi_value = waist_value - weight_value\n",
    "        tizhi = format(abs((tizhi_value / weight) * 100), \".2f\")\n",
    "        print(\"你的体脂率是:\", tizhi + \"%\")\n",
    "\n",
    "    def run(self):\n",
    "        self.cal_tizhi()\n",
    "\n",
    "if __name__ == \"__main__\":\n",
    "    cal_tizhi = CalTizhi()\n",
    "    cal_tizhi.run()\n",
    "\n"
   ]
  },
  {
   "cell_type": "code",
   "execution_count": 11,
   "metadata": {},
   "outputs": [
    {
     "name": "stdout",
     "output_type": "stream",
     "text": [
      "1 * 1 = 1  \n",
      "1 * 2 = 2  2 * 2 = 4  \n",
      "1 * 3 = 3  2 * 3 = 6  3 * 3 = 9  \n",
      "1 * 4 = 4  2 * 4 = 8  3 * 4 = 12  4 * 4 = 16  \n",
      "1 * 5 = 5  2 * 5 = 10  3 * 5 = 15  4 * 5 = 20  5 * 5 = 25  \n",
      "1 * 6 = 6  2 * 6 = 12  3 * 6 = 18  4 * 6 = 24  5 * 6 = 30  6 * 6 = 36  \n",
      "1 * 7 = 7  2 * 7 = 14  3 * 7 = 21  4 * 7 = 28  5 * 7 = 35  6 * 7 = 42  7 * 7 = 49  \n",
      "1 * 8 = 8  2 * 8 = 16  3 * 8 = 24  4 * 8 = 32  5 * 8 = 40  6 * 8 = 48  7 * 8 = 56  8 * 8 = 64  \n",
      "1 * 9 = 9  2 * 9 = 18  3 * 9 = 27  4 * 9 = 36  5 * 9 = 45  6 * 9 = 54  7 * 9 = 63  8 * 9 = 72  9 * 9 = 81  \n"
     ]
    }
   ],
   "source": [
    "# 使用for打印99乘法表\n",
    "for i in range(1, 10):\n",
    "    for j in range(1, i+1):\n",
    "        print(\"{} * {} = {}\".format(j, i, i*j),  end=\"  \")\n",
    "    print()\n",
    "    "
   ]
  },
  {
   "cell_type": "code",
   "execution_count": 17,
   "metadata": {},
   "outputs": [
    {
     "name": "stdout",
     "output_type": "stream",
     "text": [
      "153\n",
      "370\n",
      "371\n",
      "407\n"
     ]
    }
   ],
   "source": [
    "# 计算水仙花数\n",
    "def sxh():\n",
    "    for num in range(100, 1000):\n",
    "        num_length = len(str(num))\n",
    "        hundreds_digit = int(num / 100)\n",
    "        tens_digit = int((num / 10) % 10)\n",
    "        unions_digit = num % 10\n",
    "        if hundreds_digit ** num_length + tens_digit ** num_length + unions_digit ** num_length == num:\n",
    "            yield num\n",
    "    return \"Done\"\n",
    "\n",
    "def resulting():\n",
    "    results = sxh()\n",
    "    for res in results:\n",
    "        print(res)\n",
    "\n",
    "resulting()"
   ]
  },
  {
   "cell_type": "code",
   "execution_count": 27,
   "metadata": {},
   "outputs": [
    {
     "name": "stdout",
     "output_type": "stream",
     "text": [
      "Iamxiaoxiao.Ihaveover8yearsofexperienceinmarketing.IamtheteammanagerofmarketingforHPsince2013\n",
      "24\n",
      "['marketing.', 'the', 'team', 'marketing']\n",
      "marketing.\n",
      "the\n",
      "team\n",
      "marketing\n",
      "8\n",
      "2013\n"
     ]
    }
   ],
   "source": [
    "# 字符串相关\n",
    "text = \"\"\"I am xiao xiao. I have over 8 years of experience in marketing. I am the team manager of marketing for HP since 2013\"\"\"\n",
    "new_text = text.replace(\" \", \"\")\n",
    "print(new_text)\n",
    "text_list = text.split(\" \")\n",
    "print(len(text_list))\n",
    "contain_t = [word for word in text_list if 't' in word or 'T' in word]\n",
    "print(contain_t)\n",
    "for word in text_list:\n",
    "    if 't'in word or 'T' in word:\n",
    "        print(word)\n",
    "for word in text_list:\n",
    "    if word.isdigit():\n",
    "        print(word)"
   ]
  },
  {
   "cell_type": "code",
   "execution_count": 32,
   "metadata": {},
   "outputs": [
    {
     "name": "stdout",
     "output_type": "stream",
     "text": [
      "[9, 8, 7, 6, 5, 4, 3, 2, 1]\n",
      "[9, 8, 7, 6, 5, 4, 3, 2, 1]\n"
     ]
    }
   ],
   "source": [
    "a = list(range(1, 10))\n",
    "b = a[::-1]\n",
    "print(b)\n",
    "a.reverse()\n",
    "print(a)"
   ]
  },
  {
   "cell_type": "code",
   "execution_count": null,
   "metadata": {},
   "outputs": [],
   "source": [
    "# 宠物管理实现\n",
    "def add_pet():\n",
    "    ID = input(\"请输入宠物的id：\")\n",
    "    name = input(\"请输入宠物的名字:\")\n",
    "    kind = input(\"请输入宠物的种类:\")\n",
    "    pet = {\"ID\": ID, \"name\": name, \"kind\": kind}\n",
    "    LIST.append(pet)\n",
    "    print(\"添加宠物成功\")\n",
    "\n",
    "\n",
    "def find_pet():\n",
    "    ID = input(\"请输入你要查找的宠物的id：\")\n",
    "    for pet in LIST:\n",
    "        if ID == pet['ID']:\n",
    "            text = \"你查找的宠物信息如下：id:{ID}/name:{name}/kind:{kind}\".format(ID=pet['ID'], name=pet['name'], kind=pet['kind'])\n",
    "            print(text)\n",
    "\n",
    "\n",
    "def del_pet():\n",
    "    ID = input(\"请输入你要删除的宠物的id：\")\n",
    "    is_right = input(\"你确定要删除该宠物信息吗？(y/n)\")\n",
    "    if is_right == \"y\" or is_right == \"Y\":\n",
    "        for pet in LIST:\n",
    "            if ID == pet['ID']:\n",
    "                LIST.remove(pet)\n",
    "                print(\"你已成功删除该宠物信息\")\n",
    "                break\n",
    "    else:\n",
    "        print(\"你已取消操作\")\n",
    "\n",
    "\n",
    "def list_pet():\n",
    "    print(\"所有的宠物信息如下：\")\n",
    "    for pet in LIST:\n",
    "        text = \"你查找的宠物信息如下：{ID}/{name}/{kind}\".format(ID=pet['ID'], name=pet['name'], kind=pet['kind'])\n",
    "        print(text)\n",
    "\n",
    "\n",
    "def exit_program():\n",
    "    with open(FILENAME, \"w\", encoding=\"utf-8\") as fp:\n",
    "        lines = []\n",
    "        for pet in LIST:\n",
    "            text = \"{}/{}/{}\".format(pet['ID'], pet['name'], pet['kind'])\n",
    "            lines.append(text)\n",
    "        fp.writelines(lines)\n",
    "\n",
    "# def saving():\n",
    "#     with open(FILENAME, \"w\", encoding=\"utf-8\") as fp:\n",
    "#         for pet in LIST:\n",
    "#             fp.write(pet['ID'] + '/' + pet['name'] + '/' + pet['kind'] + '\\n')\n",
    "\n",
    "# 宠物管理系统\n",
    "def main():\n",
    "    while True:\n",
    "        print(\"=\" * 30)\n",
    "        print(\"1.添加宠物\")\n",
    "        print(\"2.查找宠物\")\n",
    "        print(\"3.删除宠物\")\n",
    "        print(\"4.列出宠物\")\n",
    "        print(\"5.退出程序\")\n",
    "        print(\"=\" * 30)\n",
    "        option = input(\"请输入你的操作:\")\n",
    "        if option == \"1\":\n",
    "            add_pet()\n",
    "        elif option == \"2\":\n",
    "            find_pet()\n",
    "        elif option == \"3\":\n",
    "            del_pet()\n",
    "        elif option == \"4\":\n",
    "            list_pet()\n",
    "        elif option == \"5\":\n",
    "            exit_program()\n",
    "            break\n",
    "        else:\n",
    "            print(\"请输入正确的数字\")\n",
    "\n",
    "\n",
    "if __name__ == \"__main__\":\n",
    "    LIST = []\n",
    "    FILENAME = \"pets.txt\"\n",
    "    try:\n",
    "        with open(FILENAME, \"r\", encoding='utf-8') as fp:\n",
    "            for line in fp:\n",
    "                pet_info = line.split(\"/\")\n",
    "                pet = {\"ID\": pet_info[0], \"name\": pet_info[1], \"kind\": pet_info[2]}\n",
    "                LIST.append(pet)\n",
    "    except:\n",
    "        fp = open(FILENAME, 'w', encoding='utf-8')\n",
    "        fp.close()\n",
    "    main()\n",
    "\n"
   ]
  }
 ],
 "metadata": {
  "kernelspec": {
   "display_name": "Python 3",
   "language": "python",
   "name": "python3"
  },
  "language_info": {
   "codemirror_mode": {
    "name": "ipython",
    "version": 3
   },
   "file_extension": ".py",
   "mimetype": "text/x-python",
   "name": "python",
   "nbconvert_exporter": "python",
   "pygments_lexer": "ipython3",
   "version": "3.7.3"
  }
 },
 "nbformat": 4,
 "nbformat_minor": 2
}
