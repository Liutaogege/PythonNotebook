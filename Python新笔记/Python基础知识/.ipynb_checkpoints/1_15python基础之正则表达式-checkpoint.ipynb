{
 "cells": [
  {
   "cell_type": "markdown",
   "metadata": {},
   "source": [
    "# 正则表达式re\n",
    "\n",
    "## re常用函数\n",
    "- re.match(规则， 所要操作的字符串)\n",
    "    - 匹配是正则表达式的基础，在这基础上可以进行检索，替换等操作。match()从输入字符串头部开始匹配，如果匹配不成功，返回None；如果匹配成功，返回re.Match对象。\n",
    "    - mathch实例方法:\n",
    "    - start():匹配开始位置的index,对于match来说，该值始终为0\n",
    "    - end():匹配结束位置的index,注意末尾字符真正的索引应该为index-1\n",
    "    - span():返回一个包含两个元素的元组，第一个元素表示匹配开始的位置，第二个元素表示匹配结束的位置，\n",
    "    - groups():得到所有的分组信息,分组方法就是在模式中将某一部分用()包裹起来，便可以得到一个组。\n",
    "- re.search(规则，字符串)接口函数在整个字符串内查找能够匹配上的子字符串。如果找到匹配的字符串，返回一个re.Match对象；如果未找到，返回None。\n",
    "- re.sub(匹配模式，替换字符串，输入字符串)\n",
    "    - 替换想替换的内容，如果匹配不成功，则返回值为输入字符串。默认情况下，该接口对所有符合条件的子字符串进行替换操作。\n",
    "    - re.sub(r\"a\", \"A\", \"abc123abcABC\")，参数count该参数表示最多替换的次数\n",
    "- re.compile():返回的是一个匹配对象，它单独使用就没有任何意义，需要和findall(), search(), match(）搭配使用。\n",
    "- re.findall():查找所有返回一个列表\n",
    "- re.search(str,pos, endpos):在字符串中查找匹配，pos和endpos表示起始位置\n",
    "- re.finditer():查找返回一个iter结果\n",
    "- 正则符号的含义\n",
    "    -  .(点号)：可以表示除换行在外的任意字符\n",
    "    -  \\:转义字符\n",
    "    - |：左右任意一个\n",
    "    -  [候选字符列表]:匹配列表中的任一字符\n",
    "        - [^a-z]:表示不匹配a-z中的任一字符\n",
    "        - ^[a-zA-Z]：表示一个以字母开头的字符串；\n",
    "    - \\d:表示单个数字字符，等同于[0-9]\n",
    "    - \\D单个非数字字符，等同于[^0-9]\n",
    "    - \\s:空白字符，空白字符包含空格、回车\\r、换行\\n、制表\\t、垂直制表\\v、换页\\f。\n",
    "    - \\S:表示非空白字符，使用\\S+表示不包含空格字符的字符串。\n",
    "    - \\w:单词字符,如大小写字母，数字，下划线，不包含空格、#，美元符号\n",
    "    - \\W:除开\\w包含的\n",
    "    - \\b:匹配单词的边界\n",
    "    - \\A:只匹配字符串的开头，\\Aabcd,则abcd\n",
    "    - \\Z:仅匹配字符串的末尾：abcd\\Z,则abcd\n",
    "    - ():对正则表达式进行分组，从第一个括号开始，编号逐渐增大\n",
    "    - *:表示任意个(0个或者多个)前面的字符\n",
    "    - +:表示1个或者多个前面的字符。\n",
    "    - ？:表示0个或者1个前面的字符。\n",
    "    - {m}:（出现指定次数）,表示m个前面的字符。m可以为0，表示不出现该字符。\n",
    "    - {m,n}（指定出现次数的范围）\n",
    "    - ^字符表示的是输入的第一个字符\n",
    "    - $:表示输入字符串的结尾字符如abc$可以匹配成功abc，但不能匹配上abcd\n",
    "    - /^[0-9]$/:表示输入的只能是数字\n",
    "    - (?P<name>...):分组：除了原来的编号再制定一个别名(?P<id>12345)\n",
    "    - (?P=name):引用分组    $\n",
    "\n",
    "# 匹配中文\n",
    "- 大部分中文内容表示范围是[\\u4e00-\\u9fa5],不包括全角标点"
   ]
  },
  {
   "cell_type": "markdown",
   "metadata": {},
   "source": [
    "# re使用大致步骤\n",
    "- complie编译正则表达式，返回一个对象的模式，格式：re.complie(表达式,flags=0)flags表示编译标志位，用于修改表达式的匹配方式，如是否区分大小写，多行匹配等\n",
    "    - re.S(DOTALL)使 . 匹配包括换行在内的所有字符\n",
    "    - re.I(IGNORECASE)使匹配对大小不敏感\n",
    "    - re.L(LOCALE)做本地化失败匹配，语法等\n",
    "    - re.M(MULTILINE)多行匹配，影响^和\"$\"\n",
    "    - re.X(VERBOSE)，添加注释\n",
    "    - re.U 根据Unicode字符集解析字符，这个影响\\w,\\W,\\b,\\B\n",
    "            1.使用compile将正则表达式的字符串编译为一个pattern对象\n",
    "            2.通过pattern对象提供一系列方法对文本进行查找匹配，获得匹配结果，一个Match对象\n",
    "            3.最后使用Match对象提供的属性和方法获得信息，根据需要进行操作\n",
    "\n",
    "            \n",
    "## 正则表达式中的贪婪模式与非贪婪模式\n",
    "- 贪婪模式： 正则表达式一般趋向于最大长度匹配，总是尝试匹配尽可能多的字符 \n",
    "     - 贪婪模式的量词，也叫做匹配优先量词，包括： \n",
    "\n",
    "            “{m,n}”、“{m,}”、“?”、“*”和“+”。 \n",
    "\n",
    "- 非贪婪模式：就是匹配到结果就好，总是尝试匹配尽可能少的字符\n",
    "    - 在匹配优先量词后加上“?”，即变成属于非贪婪模式的量词，也叫做忽略优先量词，包括： \n",
    "\n",
    "            “{m,n}?”、“{m,}?”、“??”、“*?”和“+?”。 \n",
    "            \n",
    "- 举例：\n",
    "            源字符串：aa<div>test1</div>bb<div>test2</div>cc \n",
    "\n",
    "            正则表达式一：<div>.*</div> \n",
    "\n",
    "            匹配结果一：<div>test1</div>bb<div>test2</div> \n",
    "\n",
    "            正则表达式二：<div>.*?</div> \n",
    "\n",
    "            匹配结果二：<div>test1</div>（这里指的是一次匹配结果，所以没包括<div>test2</div>） "
   ]
  },
  {
   "cell_type": "markdown",
   "metadata": {},
   "source": [
    "# 正则表达式中的分组\n",
    "- 1.捕获分组(pattern)\n",
    "- 2.非捕获分组\n",
    "    - (?:pattern)代表这个分组不会保存，既不能用group(下标)去访问他，他是不存在的\n",
    "            import re\n",
    "            s = \"industries\"\n",
    "            pattern = re.search(\"industr(?:y|ies)\", s)\n",
    "            print(pattern.group(0)) 没有下标为1的组\n",
    "            print(pattern.groups()) 为空\n",
    "\n",
    "- 3.(?=pattern)\n",
    "- 正向肯定预查，匹配pattern前面的位置。这是一个非获取匹配，也就是说，该匹配不需要获取供以后使用。\n",
    "            简单说，以 xxx(?=pattern)为例，就是捕获以pattern结尾的，预查不消耗字符，也就是说，在一个匹配发生后，在最后一次匹配之后立即开始下一次匹配的搜索，而不是从包含预查的字符之后开始。\"Windows(?=95|98|NT|2000)\"能匹配\"Windows2000\"中的\"Windows\"，但不能匹配\"Windows3.1\"中的\"Windows\"\n",
    "\n",
    "\n",
    "- 4.(?!pattern)\n",
    "    - 正向否定预查(negative assert)，在任何不匹配pattern的字符串开始处匹配查找字符串。\n",
    "            这是一个非获取匹配，也就是说，该匹配不需要获取供以后使用。简单说，以 xxx(?!pattern)为例，就是捕获不以pattern结尾的内容xxx。例如\"Windows(?!95|98|NT|2000)\"能匹配\"Windows3.1\"中的\"Windows\"，但不能匹配\"Windows2000\"中的\"Windows\"。预查不消耗字符，也就是说，在一个匹配发生后，在最后一次匹配之后立即开始下一次匹配的搜索，而不是从包含预查的字符之后开始。\n",
    "\n",
    "- 5.(?<=pattern)#反向(look behind)肯定预查，与正向肯定预查类似，只是方向相反。\n",
    "          简单说，以(?<=pattern)xxx为例，就是捕获以pattern开头的内容xxx。例如，\"(?<=95|98|NT|2000)Windows\"能匹配\"2000Windows\"中的\"Windows\"，但不能匹配\"3.1Windows\"中的\"Windows\"。\n",
    "\n",
    "- 6.(?<pattern)反向否定预查，与正向否定预查类似，只是方向相反。\n",
    "          简单说，以(?<!pattern)xxx为例，就是捕获不以pattern开头的内容xxx。例如\"(?<!95|98|NT|2000)Windows\"能匹配\"3.1Windows\"中的\"Windows\"，但不能匹配\"2000Windows\"中的\"Windows\"。"
   ]
  },
  {
   "cell_type": "code",
   "execution_count": 2,
   "metadata": {},
   "outputs": [
    {
     "name": "stdout",
     "output_type": "stream",
     "text": [
      "c:\\bdxabcdfhjs\n",
      "<class 're.Match'>\n",
      "c:\\bd\n"
     ]
    }
   ],
   "source": [
    "import re\n",
    "\n",
    "s = r\"c:\\bdxabcdfhjs\"\n",
    "print(s)\n",
    "result = re.match(r\"c:\\\\bd\",s)\n",
    "print(type(result))\n",
    "begin = result.start()\n",
    "end = result.end()\n",
    "print(s[begin:end])"
   ]
  },
  {
   "cell_type": "code",
   "execution_count": 14,
   "metadata": {},
   "outputs": [
    {
     "name": "stdout",
     "output_type": "stream",
     "text": [
      "<class 're.Pattern'>\n",
      "None\n",
      "abc\n",
      "<re.Match object; span=(3, 6), match='abc'>\n",
      "3 6\n",
      "abc\n",
      "abc\n"
     ]
    }
   ],
   "source": [
    "# compile的用法\n",
    "import re \n",
    "s = \"aaaabcdeaaabc\"\n",
    "re_obj = re.compile(r\"abc\")\n",
    "print(type(re_obj))\n",
    "result = re.search(re_obj, s)\n",
    "\n",
    "result1 = re.match(re_obj, s)\n",
    "print(result1)\n",
    "result2 = re_obj.match(s, 3, 20) # 和result1两种不同的写法\n",
    "print(s[result2.start():result.end()])\n",
    "print(result2)\n",
    "print(result.start(), result.end())\n",
    "print(result2[0]) #这种读取方法更简单\n",
    "print(s[result.start():result.end()])"
   ]
  },
  {
   "cell_type": "code",
   "execution_count": 15,
   "metadata": {},
   "outputs": [
    {
     "name": "stdout",
     "output_type": "stream",
     "text": [
      "('51zxw', 'qq.com')\n"
     ]
    }
   ],
   "source": [
    "# group的用法\n",
    "import re\n",
    "addr = r\"51zxw@qq.com\"\n",
    "match_obj = re.match(r\"([a-zA-Z0-9]+)@([a-zA-Z0-9]+\\.[a-zA-Z0-9]+)*\", addr)\n",
    "print(match_obj.groups())\n"
   ]
  },
  {
   "cell_type": "code",
   "execution_count": 39,
   "metadata": {},
   "outputs": [
    {
     "name": "stdout",
     "output_type": "stream",
     "text": [
      "am a\n",
      "am\n",
      "a\n",
      "am a\n",
      "am\n",
      "a\n",
      "('am', 'a')\n",
      "<class 'tuple'>\n"
     ]
    }
   ],
   "source": [
    "# group和groups对比\n",
    "import re\n",
    "p = re.compile(r'([a-z]+) ([a-z]+)')\n",
    "m = p.search(\"I am a good man\",)\n",
    "print(m[0]) #表示将整组结果打印出来\n",
    "print(m[1])\n",
    "print(m[2])\n",
    "print(m.group(0))\n",
    "print(m.group(1))\n",
    "print(m.group(2))\n",
    "print(m.groups()) #把所有组按元祖形式\n",
    "print(type(m.groups()))"
   ]
  },
  {
   "cell_type": "code",
   "execution_count": 45,
   "metadata": {},
   "outputs": [
    {
     "name": "stdout",
     "output_type": "stream",
     "text": [
      "biu biu qiu\n",
      "biu biu qiu\n"
     ]
    }
   ],
   "source": [
    "# re.sub举例\n",
    "re_obj = re.compile(r\"(\\w+) (\\w+)\")\n",
    "s = \"haha wo wo wo qiu\"\n",
    "rst = re.sub(re_obj, \"biu\", s)\n",
    "rst1 = p.sub(\"biu\", s) \n",
    "print(rst)\n",
    "print(rst1)\n"
   ]
  },
  {
   "cell_type": "code",
   "execution_count": 48,
   "metadata": {},
   "outputs": [
    {
     "name": "stdout",
     "output_type": "stream",
     "text": [
      "['世界', '我不好']\n"
     ]
    }
   ],
   "source": [
    "# 匹配中文\n",
    "import re\n",
    "title = u\"世界，我不好 hello world\"\n",
    "p = re.compile(r'[\\u4e00-\\u9fa5]+')\n",
    "rst = p.findall(title)\n",
    "print(rst)"
   ]
  },
  {
   "cell_type": "markdown",
   "metadata": {},
   "source": [
    "# 贪婪和非贪婪\n",
    "- 正则默认使用贪婪匹配"
   ]
  },
  {
   "cell_type": "code",
   "execution_count": 51,
   "metadata": {},
   "outputs": [
    {
     "name": "stdout",
     "output_type": "stream",
     "text": [
      "<div>name</div><div>age</div>\n",
      "<div>name</div>\n"
     ]
    }
   ],
   "source": [
    "import re\n",
    "s = u\"<div>name</div><div>age</div>\"\n",
    "p1 = re.compile(r\"<div>.*</div>\")\n",
    "p2 = re.compile(r\"<div>.*?</div>\")\n",
    "\n",
    "m1 = p1.search(s) # 贪婪\n",
    "print(m1[0])\n",
    "m2 = p2.search(s) # 非贪婪\n",
    "print(m2[0])"
   ]
  }
 ],
 "metadata": {
  "kernelspec": {
   "display_name": "Python 3",
   "language": "python",
   "name": "python3"
  },
  "language_info": {
   "codemirror_mode": {
    "name": "ipython",
    "version": 3
   },
   "file_extension": ".py",
   "mimetype": "text/x-python",
   "name": "python",
   "nbconvert_exporter": "python",
   "pygments_lexer": "ipython3",
   "version": "3.7.3"
  }
 },
 "nbformat": 4,
 "nbformat_minor": 2
}
