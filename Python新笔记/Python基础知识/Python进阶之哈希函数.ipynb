{
 "cells": [
  {
   "cell_type": "markdown",
   "metadata": {},
   "source": [
    "# 哈希（hash）函数\n",
    "- 关键词：\n",
    "    - 任意长度输入\n",
    "    - 固定长度输出\n",
    "    \n",
    "- 特征\n",
    "    - 理论上输入跟输出不是一对一\n",
    "    -  实际使用假定不会出现碰撞或冲突\n",
    "- 常用算法\n",
    "    - MD4\n",
    "    - MD5\n",
    "    - SHA-1\n",
    "    \n",
    "- 应用场景\n",
    "    - 数字签名\n",
    "    - 文件校验\n",
    "\n",
    "# 哈希表\n",
    "- 是根据关键码值而直接进行访问的数据结构\n",
    "- 常用算法\n",
    "    - 直接寻址\n",
    "    - 数字分析\n",
    "    - 平方取中\n",
    "    - 折叠法\n",
    "    - 随机数\n",
    "    - 除留余数法\n",
    "- 冲突处理\n",
    "    - 链地址法\n",
    "    - 建立公共溢出区\n",
    "    - 再散列\n",
    "- 性能\n",
    "    - 散列函数是否均匀\n",
    "    - 冲突处理\n",
    "\n",
    "# 密码存储\n",
    "- 明文Vs密文\n",
    "    - 明文：一眼就能看出来\n",
    "    - 密文：不可直接读懂\n",
    "- hash密码\n",
    "    - 防止密码泄露\n",
    "    - 不能防备字典攻击\n",
    "- 加盐\n",
    "    - 防备字典攻击\n",
    "- 举例\n",
    "        import hashlib\n",
    "        # 使用md5作为散列算法\n",
    "        m = hashlib.md5()\n",
    "        # 把值放入散列\n",
    "        m.update(bytes(request.POST['password'], encoding='utf-8')\n",
    "        # 生成相应的md5值\n",
    "        ob.password = m.hexdigest()"
   ]
  }
 ],
 "metadata": {
  "kernelspec": {
   "display_name": "Python 3",
   "language": "python",
   "name": "python3"
  },
  "language_info": {
   "codemirror_mode": {
    "name": "ipython",
    "version": 3
   },
   "file_extension": ".py",
   "mimetype": "text/x-python",
   "name": "python",
   "nbconvert_exporter": "python",
   "pygments_lexer": "ipython3",
   "version": "3.7.3"
  }
 },
 "nbformat": 4,
 "nbformat_minor": 2
}
