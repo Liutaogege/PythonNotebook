{
 "cells": [
  {
   "cell_type": "markdown",
   "metadata": {},
   "source": [
    "# python 中的可变对象和不可变对象\n",
    "- python中的变量都是指针，可以指向任何对象，它的内存空间的大小与存储的类型是无关的，其内存空间只是保存了所指向数据的内存地址。那何谓对象呢，可以理解成：对象=确定的内存空间+该空间存储的值\n",
    "- 不可变对象：变量所指向的对象的内存中的值不能被改变，当对变量进行操作的时候，原来指向的内存中的值不变，变量不再指向原来的地址（也可以说成是原来的值），而是开辟新的内存保存新的值。而原来的值由于不用而被当成垃圾回收\n",
    "- 可变对象：对象指向的内存中的值会改变，当对变量进行操作的时候，变量还是指向原来的内存地址，并没有开辟新的内存。所以原来的值会发生改变\n",
    "- 注意：无论变量指向的对象是是可变对象还是不可变对象，当重新给变量赋值的时候（这个应该不能归类为操作），变量所指向的地址都会发生改变。当不重新赋值的时候，对对象的的操作才会影响变量指向的地址是否发生改变，即此时才分为可变对象和不可变对象\n",
    "    - 分类;\n",
    "        - 可变对象：列表list，字典dict，集合set\n",
    "        - 不可变对象：数值类型（int，float等），字符串str，元祖\n",
    "\n",
    "- 参看以下案例\n",
    "- 可变对象可以通过拷贝来进行改变\n",
    "    - 深拷贝：import copy\n",
    "     b = copy.deepcopy(a)\n",
    "    - 浅拷贝：直接a = b.copy(),当遇到嵌套列表的时候，地址就不会改变了\n",
    "    \n"
   ]
  },
  {
   "cell_type": "code",
   "execution_count": 1,
   "metadata": {},
   "outputs": [
    {
     "name": "stdout",
     "output_type": "stream",
     "text": [
      "我恨你 2974802527776\n",
      "我爱你 2974802486448\n",
      "2974802486448\n",
      "2974802502720\n",
      "2974802486448\n"
     ]
    }
   ],
   "source": [
    "# 不可变对象举例\n",
    "a = \"我爱你\"\n",
    "b = a.replace(\"爱\", \"恨\")  #进行替换操作, 由于变量a指向的是不可变对象，所以对a的操作并不会改变a的值（赋值除外)\n",
    "print(b, id(b))\n",
    "print(a, id(a))\n",
    "\n",
    "c = a\n",
    "print(id(c))\n",
    "a = \"你爱我吗\"  #进行赋值操作，地址绝对会发生改变\n",
    "print(id(a))\n",
    "print(id(c))\n"
   ]
  },
  {
   "cell_type": "code",
   "execution_count": 2,
   "metadata": {},
   "outputs": [
    {
     "name": "stdout",
     "output_type": "stream",
     "text": [
      "2974801940872\n",
      "2974801940872\n",
      "2974801940872\n",
      "[1, 7]\n",
      "2974801940872\n",
      "2974801940872\n"
     ]
    }
   ],
   "source": [
    "# 可变对象举例\n",
    "a = [1, 3, 7]\n",
    "print(id(a))\n",
    "b = a\n",
    "print(id(b))\n",
    "a.remove(3)  #进行删除操作,由于a指向的对象是可变对象，所以对象存储的值是可以发生改变的，那么变量a指向的地址就不会发生改变\n",
    "print(id(a))\n",
    "print(b)\n",
    "print(id(b))\n",
    "\n",
    "a[1] = \"你是我的爱人\"\n",
    "print(id(a))\n",
    "\n",
    "b = a[:]\n",
    "print(id(b))   #全切后地址发生改变，表明全切后创建了一个新的对象"
   ]
  },
  {
   "cell_type": "code",
   "execution_count": null,
   "metadata": {},
   "outputs": [],
   "source": [
    "# 浅拷贝举例：\n",
    "a = [1,2,3,[45,56,5]]\n",
    "b = a.copy()\n",
    "print(id(a))\n",
    "print(id(b))\n",
    "print(id(a[3]))\n",
    "print(id(b[3]))\n",
    "a[3][1] = 100\n",
    "print(a)\n",
    "print(b)\n",
    "# 深拷贝\n",
    "import copy \n",
    "a = [1,2,3,[45,56,5]]\n",
    "b = copy.deepcopy(a)\n",
    "print(id(a))\n",
    "print(id(b))\n",
    "print(id(a[3]))\n",
    "print(id(b[3]))\n",
    "a[3][1] = 100\n",
    "print(a)\n",
    "print(b)"
   ]
  },
  {
   "cell_type": "markdown",
   "metadata": {},
   "source": [
    "# 可哈希数据与不可哈希数据\n",
    "- 可哈希数据：不可变的数据结构：tuple,string,int，类似于不可变对象\n",
    "- 不可哈希数据：可变得数据结构：list,dictionary,set，类似于可变对象\n",
    "- 何谓哈希：\n",
    "    - 它是一个将大体量数据转化为很小数据的过程，甚至可以仅仅是一个数字，以便我们可以用在固定的时间复杂度下查询它，所以，哈希对高效的算法和数据结构很重要。"
   ]
  },
  {
   "cell_type": "code",
   "execution_count": null,
   "metadata": {},
   "outputs": [],
   "source": []
  },
  {
   "cell_type": "code",
   "execution_count": null,
   "metadata": {},
   "outputs": [],
   "source": []
  }
 ],
 "metadata": {
  "kernelspec": {
   "display_name": "Python 3",
   "language": "python",
   "name": "python3"
  },
  "language_info": {
   "codemirror_mode": {
    "name": "ipython",
    "version": 3
   },
   "file_extension": ".py",
   "mimetype": "text/x-python",
   "name": "python",
   "nbconvert_exporter": "python",
   "pygments_lexer": "ipython3",
   "version": "3.7.3"
  }
 },
 "nbformat": 4,
 "nbformat_minor": 2
}
