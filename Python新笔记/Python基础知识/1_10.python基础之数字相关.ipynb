{
 "cells": [
  {
   "cell_type": "markdown",
   "metadata": {},
   "source": [
    "# 关于取整"
   ]
  },
  {
   "cell_type": "code",
   "execution_count": null,
   "metadata": {},
   "outputs": [],
   "source": [
    "#Python中的常量用大写字母表示，但他不是真正的常量，可以改变，Python中没有真正的常量\n",
    "PI = 3.14\n",
    "\n",
    "import math\n",
    "# 向下取整: //,又称地板法\n",
    "print(\"向下取整\")\n",
    "num = 8 // 3\n",
    "print(num)\n",
    "print(math.floor(3.4))\n",
    "\n",
    "\n",
    "# 向上取整\n",
    "print(\"向上取整\")\n",
    "num = 8 / 3\n",
    "print(math.ceil(num))\n",
    "\n",
    "# 四舍五入\n",
    "print(round(2.4))\n",
    "print(round(2.51))\n",
    "\n",
    "# 向0取整:取得数的绝对值一定比原来那个数的绝对值要小\n",
    "print(int(8.9))\n",
    "print(int(-0.8))\n",
    "print(int(0.8))"
   ]
  },
  {
   "cell_type": "markdown",
   "metadata": {},
   "source": [
    "# 复数complex\n",
    "- complex（）函数用于创建一个复数或者将一个数或字符串转换为复数形式，其返回值为一个复数\n",
    "- 注意：如果第一个参数为字符串，第二个参数必须省略，若第一个参数为其他类型，则第二个参数可以选择\n",
    "\n",
    "\n",
    "# 小数fractions模块\n",
    "- 类Fraction是fractions模块的核心\n",
    "    - 构造函数\n",
    "    - class fractions.Fraction(numerator=0, denominator=1)\n",
    "    - class fractions.Fraction(int|float|str|Decimal|Fraction)\n",
    "        - 可以同时提供分子（numerator）和分母（denominator）给构造函数用于实例化Fraction类，但两者必须同时是int类型或者numbers.Rational类型，否则会抛出类型错误。当分母为0，初始化的时候会导致抛出异常ZeroDivisionError。\n",
    "        - 而如果只提供一个参数，则可以用上述五种类型进行初始化。当使用字符串进行初始化时，fractions模块使用内置的正则表达式进行匹配。而使用浮点数或者Decimal进行初始化时，fractions模块会在内部调用as_integer_ratio()。\n",
    "\n",
    "\n",
    "# 浮点数\n",
    "- 浮点数可以提供小数点后17位的精度\n",
    "- Python浮点数不能用==比较是否相等，因为浮点数天生有误差，且无法避免。要提高精度的话，采用decimal,但会牺牲性能。\n",
    "    - 若比较1.2*6 == 7.2则会返回False\n",
    "- 比较浮点数的方法：\n",
    "    - abs()方法：abs(a-b)<1e-5\n",
    "    -  math.isclose()方法：math.isclose(a,b)\n",
    "- f.as_integer_ratio()将浮点数转化为两个近似整数的商\n",
    "- f.is_integer()：判断浮点数是否为整数，如12.0\n",
    "- 浮点数定义无穷大，负无穷大，或Nan\n",
    "    - a = float(\"inf\")\n",
    "    - b = float(\"-inf\")\n",
    "    - c = float(\"nan\")\n",
    "\n",
    "# Decimal()\n",
    "- 这个函数很复杂\n",
    "- Decimal接收不同类型的值得到的结果不一样，如：Decimal(1.3)和Decimal(\"1.3\")得到的结果不一样\n",
    "\n",
    "# round(number,ndigits=None)\n",
    "- ndigits的含义:取整的位数。把小数点位置看成0，小数点右边为正，左边为负。，当ndigits为正数时，意旨对小数部分取整；当ndigits为负时，对整数部分取整。取整时遵循四舍五入的原则，负数取整遵循离得近的选择。当ndigits为None时，直接返回整数，遵循以上原则\n"
   ]
  },
  {
   "cell_type": "code",
   "execution_count": 2,
   "metadata": {},
   "outputs": [
    {
     "name": "stdout",
     "output_type": "stream",
     "text": [
      "<class 'complex'>\n",
      "(3+4j)\n",
      "3.0\n",
      "4.0\n",
      "(3-4j)\n",
      "1.4142135623730951j\n"
     ]
    }
   ],
   "source": [
    "# 复数的简单使用\n",
    "print(type(4j))\n",
    "a = complex(3, 4)\n",
    "print(a)\n",
    "print(a.real) #a的实部\n",
    "print(a.imag) #a的虚部\n",
    "print(a.conjugate())  #a的共轭数\n",
    "\n",
    "# 如果希望负数能够开方产生负数结果，需要导入cmath.sqrt\n",
    "import cmath\n",
    "print(cmath.sqrt(-2))"
   ]
  },
  {
   "cell_type": "code",
   "execution_count": null,
   "metadata": {},
   "outputs": [],
   "source": [
    "# fraction的简单使用\n",
    "from fractions import Fraction\n",
    "\n",
    "a = Fraction(4, 5)\n",
    "b = Fraction(6, 11)\n",
    "c = a + b\n",
    "d = a * b\n",
    "print(c)\n",
    "print(c.numerator) #获取分子\n",
    "print(c.denominator)#获取分母\n",
    "print(float(c)) #将其转化为小数\n",
    "print(d.limit_denominator(20))\n",
    "#找到并返回与自己最接近的有最大分母的分数,最大分母为(1000000)。\n",
    "#他的方法对于寻找一个给定浮点数的合理匹配是有用的"
   ]
  },
  {
   "cell_type": "code",
   "execution_count": null,
   "metadata": {},
   "outputs": [],
   "source": [
    "# 浮点数及decimal的使用\n",
    "a = 5.201314\n",
    "b = 12.0\n",
    "print(a.as_integer_ratio())\n",
    "print(a.is_integer())\n",
    "print(b.is_integer())\n",
    "\n",
    "from decimal import Decimal\n",
    "print(Decimal(1.4))\n",
    "print(Decimal(\"1.4\"))\n",
    "\n",
    "# Decimal实现四舍五入\n",
    "from decimal import localcontext\n",
    "a = Decimal(\"30.4\")\n",
    "b = Decimal(\"20.0\")\n",
    "with localcontext() as ctx:\n",
    "    ctx.prec = 2 #\n",
    "    print(a/b)\n",
    "    \n",
    "    \n",
    "a = float(\"inf\")\n",
    "b = float(\"-inf\")\n",
    "c = float(\"nan\")\n",
    "print(a, b, c)\n",
    "print(a + 8)"
   ]
  },
  {
   "cell_type": "code",
   "execution_count": null,
   "metadata": {},
   "outputs": [],
   "source": [
    "# round的简单使用\n",
    "print(round(167946.6666,3))\n",
    "print(round(1456.23,-2))\n",
    "print(round(-2.3,0))\n",
    "print(round(-2.8,0))\n",
    "#注意别把格式化和取整混为一谈"
   ]
  },
  {
   "cell_type": "markdown",
   "metadata": {},
   "source": [
    "# isdigit\\isdecimal\\isnumeric的区别\n",
    "- isdigit:\n",
    "        - True:unicode数字，byte数字（单字节），全角数字（双字节）\n",
    "        - False：汉字数字，罗马数字，小数\n",
    "        - Error：无\n",
    "- isdecimal：\n",
    "    - True：Unicode数字，全角数字（双字节）\n",
    "    - False：罗马数字，汉字数字，小数\n",
    "    - Error：byte数字（单字节）\n",
    "\n",
    "- isnumeric:\n",
    "    - True:Unicode数字，全角数字（双字节），罗马数字，汉字数字\n",
    "    - False：小数\n",
    "    - Error：byte数字（单字节）\n",
    "- 判断一个数是否是小数：\n",
    "        a = \"22.34.89\"\n",
    "        print(str(a).isdigit())\n",
    "        print(isinstance(float(a), float))"
   ]
  },
  {
   "cell_type": "code",
   "execution_count": 9,
   "metadata": {},
   "outputs": [
    {
     "name": "stdout",
     "output_type": "stream",
     "text": [
      "False\n"
     ]
    },
    {
     "ename": "ValueError",
     "evalue": "could not convert string to float: '22.34.89'",
     "output_type": "error",
     "traceback": [
      "\u001b[1;31m---------------------------------------------------------------------------\u001b[0m",
      "\u001b[1;31mValueError\u001b[0m                                Traceback (most recent call last)",
      "\u001b[1;32m<ipython-input-9-6094a9d228a1>\u001b[0m in \u001b[0;36m<module>\u001b[1;34m\u001b[0m\n\u001b[0;32m      1\u001b[0m \u001b[0ma\u001b[0m \u001b[1;33m=\u001b[0m \u001b[1;34m\"22.34.89\"\u001b[0m\u001b[1;33m\u001b[0m\u001b[1;33m\u001b[0m\u001b[0m\n\u001b[0;32m      2\u001b[0m \u001b[0mprint\u001b[0m\u001b[1;33m(\u001b[0m\u001b[0mstr\u001b[0m\u001b[1;33m(\u001b[0m\u001b[0ma\u001b[0m\u001b[1;33m)\u001b[0m\u001b[1;33m.\u001b[0m\u001b[0misdigit\u001b[0m\u001b[1;33m(\u001b[0m\u001b[1;33m)\u001b[0m\u001b[1;33m)\u001b[0m\u001b[1;33m\u001b[0m\u001b[1;33m\u001b[0m\u001b[0m\n\u001b[1;32m----> 3\u001b[1;33m \u001b[0mprint\u001b[0m\u001b[1;33m(\u001b[0m\u001b[0misinstance\u001b[0m\u001b[1;33m(\u001b[0m\u001b[0mfloat\u001b[0m\u001b[1;33m(\u001b[0m\u001b[0ma\u001b[0m\u001b[1;33m)\u001b[0m\u001b[1;33m,\u001b[0m \u001b[0mfloat\u001b[0m\u001b[1;33m)\u001b[0m\u001b[1;33m)\u001b[0m\u001b[1;33m\u001b[0m\u001b[1;33m\u001b[0m\u001b[0m\n\u001b[0m",
      "\u001b[1;31mValueError\u001b[0m: could not convert string to float: '22.34.89'"
     ]
    }
   ],
   "source": [
    "a = \"22.34.89\"\n",
    "print(str(a).isdigit())\n",
    "print(isinstance(float(a), float))"
   ]
  },
  {
   "cell_type": "code",
   "execution_count": null,
   "metadata": {},
   "outputs": [],
   "source": []
  }
 ],
 "metadata": {
  "kernelspec": {
   "display_name": "Python 3",
   "language": "python",
   "name": "python3"
  },
  "language_info": {
   "codemirror_mode": {
    "name": "ipython",
    "version": 3
   },
   "file_extension": ".py",
   "mimetype": "text/x-python",
   "name": "python",
   "nbconvert_exporter": "python",
   "pygments_lexer": "ipython3",
   "version": "3.7.3"
  }
 },
 "nbformat": 4,
 "nbformat_minor": 2
}
