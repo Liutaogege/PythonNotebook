{
 "cells": [
  {
   "cell_type": "markdown",
   "metadata": {},
   "source": [
    "# Ajax优点\n",
    "- 1.局部刷新页面，不需要用户操作就能保持页面加载最新的数据\n",
    "- 2.异步驱动方式与后台通信，更快处理响应能力，优化执行效率\n",
    "- 3.按需取数据，大大减少冗余请求，减少对服务器带宽占用\n",
    "- 4.使用方便\n",
    "\n",
    "# ajax缺点\n",
    "- 1.不支持跨域\n",
    "- 2.不利于SEO优化（搜索引擎优化）\n",
    "- 3.破坏力程序的异常机制，不会终止下来\n",
    "- 4. 不容易调试ajax代码 \n",
    "\n",
    "# jsonp\n",
    "- 解决ajax不能跨域的缺点，它只能获取数据而不能发送数据\n"
   ]
  }
 ],
 "metadata": {
  "kernelspec": {
   "display_name": "Python 3",
   "language": "python",
   "name": "python3"
  },
  "language_info": {
   "codemirror_mode": {
    "name": "ipython",
    "version": 3
   },
   "file_extension": ".py",
   "mimetype": "text/x-python",
   "name": "python",
   "nbconvert_exporter": "python",
   "pygments_lexer": "ipython3",
   "version": "3.7.3"
  }
 },
 "nbformat": 4,
 "nbformat_minor": 2
}
