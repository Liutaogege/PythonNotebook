{
 "cells": [
  {
   "cell_type": "markdown",
   "metadata": {},
   "source": [
    "## 关于css的长度单位\n",
    "- px：像素单位\n",
    "    - 相对单位，像素的大小由系统的分辨率决定\n",
    "    - 像素的大小=物理屏幕的距离/分辨率\n",
    "    \n",
    "- em：相对长度单位\n",
    "    - 大小和一个汉字的大小相同，汉字大小由系统决定\n",
    "- ex：相对长度单位\n",
    "    - 一个英文字母x的大小\n",
    "- cm：厘米\n",
    "    - 绝对单位，就是现实中的1厘米的大小，页面布局中禁止使用，设计用于打印的页面可以使用\n",
    "- mm：毫米\n",
    "    - 绝对单位，同厘米一样\n",
    "- in：英寸\n",
    "    - 绝对单位，同上面一样\n",
    "- point：点\n",
    "    - 绝对单位，1 in = 72pt\n",
    "- pc：派卡\n",
    "    - 绝对单位 1 in = 6pc"
   ]
  },
  {
   "cell_type": "markdown",
   "metadata": {},
   "source": [
    "# 其他内容补充\n",
    "- 此添加内容均是最新版浏览器\n",
    "#### 文字线框\n",
    "- 当内联块或者内联被块级元素包裹，如果不设置块级元素高度，那么块级元素高度会被撑起来，此时会看到内联块与块级元素底部之间有一条缝隙。\n",
    "- 解决办法：在内联块元素中写入：vertical-align:bottom\n",
    "#### 透明度设置：\n",
    "- opacity:0-1之间的数字;给父级元素设置这个值也会影响子类元素，但并不是继承关系\n",
    "#### 阴影设置\n",
    "- 元素阴影；box-shadow:阴影在x轴移动距离，y轴移动距离，模糊范围, 颜色\n",
    "    - 内阴影：inset box-shadow:x轴移动距离，y轴移动距离，模糊范围, 颜色\n",
    "- 文字阴影：text-shadow:和上边一样\n",
    "\n",
    "#### 选择器\n",
    "- :first-child,:last-child  选择xx元素\n",
    "- :nth-child(index):从正方向选择第几个元素\n",
    "- :nth-last-child():从反方向选择第几个元素\n",
    "- :first-child + tag:选择第一个元素的下一个元素\n",
    "- :last-child:not(:first-child):选择个数不为1个的集合的最后一个元素\n",
    "\n",
    "#### border-radius\n",
    "- 圆角：border-radius:左上 右上 右下 左下  / 或直接用百分比 border-radius:%50\n",
    "\n",
    "#### 旋转\n",
    "- transform: rotate(角度deg);"
   ]
  },
  {
   "cell_type": "code",
   "execution_count": null,
   "metadata": {},
   "outputs": [],
   "source": [
    "# 文字线框\n",
    "<!DOCTYPE html>\n",
    "<html>\n",
    "<head>\n",
    "<meta charset=\"utf-8\">\n",
    "<meta http-equiv=\"X-UA-Compatible\" content=\"IE=edge,chrome=1\">\n",
    "<title>Examples</title>\n",
    "<meta name=\"description\" content=\"\">\n",
    "<meta name=\"keywords\" content=\"\">\n",
    "<link href=\"\" rel=\"stylesheet\">\n",
    "<style>\n",
    "\tdiv {\n",
    "\t\twidth: 500px;\n",
    "\t\tbackground: orange;\n",
    "\t}\n",
    " /*解决办法如下*/\n",
    "\timg {\n",
    "\t\tvertical-align: bottom;\n",
    "\t}\n",
    "</style>\n",
    "</head>\n",
    "<body>\n",
    "    <div>\n",
    "    \t<img src=\"http://static.1sapp.com/image/p/2018/09/27/1538063459316232.jpg\" alt=\"\">\n",
    "    </div>\n",
    "</body>\n",
    "</html>"
   ]
  }
 ],
 "metadata": {
  "kernelspec": {
   "display_name": "Python 3",
   "language": "python",
   "name": "python3"
  },
  "language_info": {
   "codemirror_mode": {
    "name": "ipython",
    "version": 3
   },
   "file_extension": ".py",
   "mimetype": "text/x-python",
   "name": "python",
   "nbconvert_exporter": "python",
   "pygments_lexer": "ipython3",
   "version": "3.7.3"
  }
 },
 "nbformat": 4,
 "nbformat_minor": 2
}
