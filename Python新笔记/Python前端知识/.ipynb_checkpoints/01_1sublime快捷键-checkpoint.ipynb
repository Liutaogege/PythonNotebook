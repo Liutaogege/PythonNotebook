{
 "cells": [
  {
   "cell_type": "markdown",
   "metadata": {},
   "source": [
    "# 常用快捷键\n",
    "    Ctrl+D选中光标所占的文本，继续操作则会选中下一个相同的文本。\n",
    "    Alt+F3 选中文本按下快捷键，即可一次性选择全部的相同文本进行同时编辑\n",
    "    Ctrl+L 选中整行，继续操作则继续选择下一行，效果和 Shift+↓ 效果一样。\n",
    "    Ctrl+Shift+L 先选中多行，再按下快捷键，会在每行行尾插入光标，即可同时编辑这些行。\n",
    "    Ctrl+Shift+D复制光标所在整行，插入到下一行。\n",
    "    alt+shift+w键为选中的内容添加标签，ctrl+shift+enter也可以实现此效果"
   ]
  }
 ],
 "metadata": {
  "kernelspec": {
   "display_name": "Python 3",
   "language": "python",
   "name": "python3"
  },
  "language_info": {
   "codemirror_mode": {
    "name": "ipython",
    "version": 3
   },
   "file_extension": ".py",
   "mimetype": "text/x-python",
   "name": "python",
   "nbconvert_exporter": "python",
   "pygments_lexer": "ipython3",
   "version": "3.7.3"
  }
 },
 "nbformat": 4,
 "nbformat_minor": 2
}
