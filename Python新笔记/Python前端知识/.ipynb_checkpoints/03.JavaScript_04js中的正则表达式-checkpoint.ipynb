{
 "cells": [
  {
   "cell_type": "markdown",
   "metadata": {},
   "source": [
    "# RegExp对象\n",
    "- 即正则表达式对象\n",
    "- 创建正则表达式的方式\n",
    "    - 第一种：直接通过  /正则表达式/  写出来\n",
    "    - 第二种：通过new RegExp(r\"正则表达式\")\n",
    "    \n",
    "- 声明正则表达式\n",
    "    - var 变量=/正则规则/模式修正符;\n",
    "        - var re = /\\d/g;\n",
    "    - 使用对象声明正则表达式\n",
    "        - var 变量=new RegExp(\"正则规则\", \"模式修正符\")\n",
    "                var buying = \"this pants is 39 dollars, another one is much cheapper, it's 5dollars\";\n",
    "                var pattern = new RegExp(\"\\\\d+\", \"g\");\n",
    "                var result = buying.match(pattern);\n",
    "                console.log(result);"
   ]
  },
  {
   "cell_type": "markdown",
   "metadata": {},
   "source": [
    "# JavaScript中的正则表达式\n",
    "- 正则定界符/\n",
    "- 模式修正符\n",
    "    - 对匹配模式进行调节的符号，在界定符的最后使用\n",
    "    - ignore：忽略英文大小写，简写i\n",
    "    - global：全局匹配模式,简写g，即把所有的结果都找出来\n",
    "    - multiline：多行匹配模式,简写m\n",
    "    \n",
    "- 贪婪模式\n",
    "    - 取消暂存内容的作用(?:),比python中的正则的少\n",
    "    \n",
    "- 正则对象的属性和方法\n",
    "    - source:表示当前正则表达式的正则字符串\n",
    "    - lastindex:表示进行下一次正则匹配的开始位置。这个是搭配exec使用，对match来说永远为0\n",
    "        - 注意：仅在g模式下会发生变化，没有g模式，该属性永远为0\n",
    "    - exec():进行一次正则匹配\n",
    "        - 在g模式下，每一次匹配都会在上一次匹配的位置之后开始继续匹配，在非g模式下，每次都会从头开始从新匹配\n",
    "        - 格式：正则对象.exec(字符串);\n",
    "        - 注：exec和match的区别：\n",
    "            - 使用：pattern.exec(str), str.match(pattern)\n",
    "            - 如果在非g模式下，exec和match操作格式不一样，结果是一样的\n",
    "            - 在g模式下，exec依然进行一次匹配，只不过在上次匹配的内容之后开始一次新的匹配，match是一次性返回字符串中的所有符合正则内容组成的数组\n",
    "        - 示例：\n",
    "                var buying = \"this pants is 39 dollars, another one is much cheapper, it's 5dollars\";\n",
    "                var pattern = new RegExp(\"\\\\d+\", \"g\");\n",
    "                var result = pattern.exec(buying);\n",
    "                console.log(result);\n",
    "                console.log(pattern.source);  使用的正则规则\n",
    "                console.log(pattern.lastIndex);\n",
    "                var result = pattern.exec(buying);\n",
    "                console.log(pattern.lastIndex);\n",
    "    - test():进行正则测试\n",
    "        - 使用：pattern.test(str);\n",
    "        - 该方法是测试正则内容是否在字符串中出现，匹配成功则返回true，匹配失败返回false\n",
    "    - compile（）：重新编译正则，回收再利用\n",
    "        - pattern.compile(\"new_pattern\", 正则修正符)\n",
    "        - 示例：\n",
    "                var words = \"水果5元一斤，桃子8元一斤\";\n",
    "                var pattern = /\\d/g;\n",
    "                var result = words.match(pattern);\n",
    "                console.log(result)\n",
    "                pattern.compile(\"\\\\W\", \"g\");\n",
    "                // 改变原有的匹配模式\n",
    "                console.log(pattern);\n",
    "                var new_result = words.match(pattern);\n",
    "                console.log(new_result);"
   ]
  }
 ],
 "metadata": {
  "kernelspec": {
   "display_name": "Python 3",
   "language": "python",
   "name": "python3"
  },
  "language_info": {
   "codemirror_mode": {
    "name": "ipython",
    "version": 3
   },
   "file_extension": ".py",
   "mimetype": "text/x-python",
   "name": "python",
   "nbconvert_exporter": "python",
   "pygments_lexer": "ipython3",
   "version": "3.7.3"
  }
 },
 "nbformat": 4,
 "nbformat_minor": 2
}
