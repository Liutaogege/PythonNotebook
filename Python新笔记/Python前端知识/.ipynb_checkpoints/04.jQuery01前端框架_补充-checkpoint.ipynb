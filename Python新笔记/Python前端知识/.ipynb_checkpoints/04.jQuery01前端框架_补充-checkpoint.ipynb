{
 "cells": [
  {
   "cell_type": "markdown",
   "metadata": {},
   "source": [
    "- 创建元素\n",
    "    - $(\"<img>\"):必须要有<>\n",
    "    \n",
    "# boostrap\n",
    "- 快速书写前端，适用于不熟悉前端的后端开发者\n",
    "    - 优点：快速建站，针对响应式布局友好（即对移动端友好）\n",
    "    - 缺点：大量的css代码冗余\n",
    "    - 文档：https://v3.bootcss.com/css/"
   ]
  }
 ],
 "metadata": {
  "kernelspec": {
   "display_name": "Python 3",
   "language": "python",
   "name": "python3"
  },
  "language_info": {
   "codemirror_mode": {
    "name": "ipython",
    "version": 3
   },
   "file_extension": ".py",
   "mimetype": "text/x-python",
   "name": "python",
   "nbconvert_exporter": "python",
   "pygments_lexer": "ipython3",
   "version": "3.7.3"
  }
 },
 "nbformat": 4,
 "nbformat_minor": 2
}
