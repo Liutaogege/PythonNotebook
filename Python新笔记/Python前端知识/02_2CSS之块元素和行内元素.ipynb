{
 "cells": [
  {
   "cell_type": "markdown",
   "metadata": {},
   "source": [
    "## 块元素，内联元素，内联块元素\n",
    "- 元素就是标签，布局中常用的有三种标签，就是块元素，内联元素，内联块元素\n",
    "\n",
    "### 块元素\n",
    "- 就是独占一行的元素：div，p,h,dl,dt,dd\n",
    "- 块元素，又称行元素，它们在布局中的行为：\n",
    "    - 支持全部的样式\n",
    "    - 如果没有设置宽度，默认的宽度为父级的100%\n",
    "    - 盒子占据一行，即使设置看宽度\n",
    "    \n",
    "### 内联元素\n",
    "- 就是不独占一行的元素：a, span, em, b, strong\n",
    "- 又称行内元素，它们在布局中的行为：\n",
    "    - 支持部分样式（不支持宽高，margin上下，padding上下）\n",
    "    - 宽高由内容决定\n",
    "    - 盒子并排在一行\n",
    "    - 代码换行，盒子之间会产生间距\n",
    "    - 子元素是内联元素，父元素可以用text-align属性设置子元素水平对齐方式，用line-height属性设置垂直对齐方式\n",
    "- 解决内联元素之间的间隙方法\n",
    "    - 1、设置margin-left为负值\n",
    "    - 2、去掉内联元素之间的换行\n",
    "    - 3、将内联元素的父级元素设置font-size为0，内联元素自身再设置font-size\n",
    "- 注意：无论是块元素还是内联元素，元素中的代码如果强制换行，就会产生空格\n",
    "\n",
    "### 内联块元素\n",
    "- 也称行内块元素，结合了块元素和内联块元素的特性：即不独占一行，可任意设置宽高\n",
    "- 如img，input（它们也属于内联元素）\n",
    "- 它们在布局中的行为：\n",
    "    - 支持全部样式\n",
    "    - 如果没有设置宽高，宽高由内容决定\n",
    "    - 盒子并在一行\n",
    "    - 代码换行，盒子之间会产生间距\n",
    "    - 子元素是内联块元素，父元素可以用text-align属性设置子元素水平对齐方式，用line-height属性设置垂直对齐方式\n",
    "\n",
    "### 三种元素之间的转换\n",
    "- 利用display"
   ]
  }
 ],
 "metadata": {
  "kernelspec": {
   "display_name": "Python 3",
   "language": "python",
   "name": "python3"
  },
  "language_info": {
   "codemirror_mode": {
    "name": "ipython",
    "version": 3
   },
   "file_extension": ".py",
   "mimetype": "text/x-python",
   "name": "python",
   "nbconvert_exporter": "python",
   "pygments_lexer": "ipython3",
   "version": "3.7.3"
  }
 },
 "nbformat": 4,
 "nbformat_minor": 2
}
