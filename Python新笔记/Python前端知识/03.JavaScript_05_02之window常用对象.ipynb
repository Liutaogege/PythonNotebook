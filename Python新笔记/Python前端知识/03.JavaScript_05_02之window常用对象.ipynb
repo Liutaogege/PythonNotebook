{
 "cells": [
  {
   "cell_type": "markdown",
   "metadata": {},
   "source": [
    "# window\n",
    "- innerWidth，innerHeight：浏览器窗口的内部宽度和高度，内部宽高是指出去菜单栏、工具栏、边框等元素后用于显示网页的净宽高\n",
    "- outerWidth和outerHeight：可以获取浏览器窗口的整个宽高。\n",
    "\n",
    "# nvaigator\n",
    "- navigator表示浏览器的信息，最常用的属性包括：\n",
    "    - navigator.appName:浏览器名字\n",
    "    - navigator.appVersion:浏览器版本\n",
    "    - navigator.language:浏览器设置的语言\n",
    "    - navigator.platform:操作系统类型\n",
    "    - navigator.userAgent:浏览器设置的User-Agent\n",
    "    - 注：navigator很容易被用户修改\n",
    "\n",
    "# screen\n",
    "- 表示屏幕的信息，常用的属性有\n",
    "    - screen.width:屏幕宽度，以像素为单位\n",
    "    - screen.height：\n",
    "    - screen.colorDepth：返回颜色位数\n",
    "    \n",
    "# location\n",
    "- 该对象表示当前页面的URL信息\n",
    "    - location.href:获取完整的链接\n",
    "    - location.protocol：协议类型\n",
    "    - location.host:域名\n",
    "    - location.port:端口号\n",
    "    - location.pathname:路径\n",
    "    - location.search:查询关键字\n",
    "    - location.hash\n",
    "    - location.assign(url):加载一个新页面\n",
    "    - location.reload():重新加载当前页面\n",
    "    \n",
    "# document\n",
    "- 表示当前页面，属性很多\n",
    "- 常用方法：\n",
    "    - document.write(内容):在当前页面写入内容\n",
    "    - document.getElementById()\n",
    "    - document.createElement(标签名)\n",
    "    \n",
    "# 节点常用操作\n",
    "- innerHTML:获取或者设置元素节点汇总的所有内容\n",
    "    - 该属性可以解析HTML标签\n",
    "- innerText获取或者设置元素节点中的所有文本内容\n",
    "    - 注意：该属性不可以解析HTML标签\n",
    "- textContent，和innerText类似，区别是textContent返回隐藏元素的文本比如换行符号"
   ]
  }
 ],
 "metadata": {
  "kernelspec": {
   "display_name": "Python 3",
   "language": "python",
   "name": "python3"
  },
  "language_info": {
   "codemirror_mode": {
    "name": "ipython",
    "version": 3
   },
   "file_extension": ".py",
   "mimetype": "text/x-python",
   "name": "python",
   "nbconvert_exporter": "python",
   "pygments_lexer": "ipython3",
   "version": "3.7.3"
  }
 },
 "nbformat": 4,
 "nbformat_minor": 2
}
