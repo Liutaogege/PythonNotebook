{
 "cells": [
  {
   "cell_type": "markdown",
   "metadata": {},
   "source": [
    "# 属性相关操作\n",
    "- tag.getAttribute(\"attr_name\")\n",
    "- tag.setAttribute(\"attr_name\", \"attr_content\")\n",
    "- tag.removeAttribute(\"attr_name\")\n",
    "\n",
    "- getComputedStyle(tag).att:得到某个元素节点最终呈现出来的样式的具体值\n",
    "    - var box = document.getElementById(\"box\");\n",
    "    - console.log(getComputedStyle(box).width);\n",
    "    - console.log(getComputedStyle(box).backgroundColor);"
   ]
  },
  {
   "cell_type": "markdown",
   "metadata": {},
   "source": [
    "# 延时定时器：setTimeout\n",
    "- 参数1：延时后执行哪个操作，一般是函数\n",
    "- 参数2：延时多少毫秒\n",
    "    - timer = setTimeout(fn1, 1000);\n",
    "- 清除定时器： clearTimeout(timer)\n",
    "\n",
    "# 循环定时器setInterval\n",
    "- 参数1：每过多少秒后执行哪个操作\n",
    "- 参数2：循环的延时时间\n",
    "    - timer = setInterval(fn1, 2000)\n",
    "- 清除循环定时器：clearInterval(timer)"
   ]
  }
 ],
 "metadata": {
  "kernelspec": {
   "display_name": "Python 3",
   "language": "python",
   "name": "python3"
  },
  "language_info": {
   "codemirror_mode": {
    "name": "ipython",
    "version": 3
   },
   "file_extension": ".py",
   "mimetype": "text/x-python",
   "name": "python",
   "nbconvert_exporter": "python",
   "pygments_lexer": "ipython3",
   "version": "3.7.3"
  }
 },
 "nbformat": 4,
 "nbformat_minor": 2
}
