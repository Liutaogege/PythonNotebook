{
 "cells": [
  {
   "cell_type": "markdown",
   "metadata": {},
   "source": [
    "# Json\n",
    "\n",
    "# Json与JavaScript的数据类型对应\n",
    "        Json        javascript\n",
    "        number       number\n",
    "        boolean      true,false\n",
    "        string       string\n",
    "        null         null\n",
    "        array       就是Array的表示方式[]\n",
    "        object      {....}\n",
    "\n",
    "# JavaScript对象转换成json格式\n",
    "- 把JavaScript中的object对象转化成json格式的字符串方法为：\n",
    "    - JSON.stringify(obj对象,..)。第二个参数用于控制如何筛选对象的键值\n",
    "    - 如果要输出的好看些，可以加上参数按缩进输出：JSON.stringify(obj对象, null, ' ');\n",
    "    - 如果只想输出指定的属性，可以传入Array\n",
    "        - JSON.strinify(obj对象, [属性1， 属性2], ' ')\n",
    "    - 第二个参数还可以传入一个函数，这样对象的每个键值对都会被函数先处理\n",
    "    - 如果想要精确的控制如何序列化obj对象，可以给obj对象定义一个toJSON()方法，直接返回JSON应该序列化的数据\n",
    "- 代码如下：\n",
    "\n",
    "# json格式转换成JavaScript对象\n",
    "- JSON.parse(json数据, ..)\n",
    "- 其中第二个参数可以传入一个函数，用来转换解析出的属性"
   ]
  },
  {
   "cell_type": "code",
   "execution_count": null,
   "metadata": {},
   "outputs": [],
   "source": [
    "var stu = {\n",
    "\tname: \"xiaohong\",\n",
    "\tclass: \"七年级\",\n",
    "\tgrade: 98,\n",
    "\tschool: '习水一中',\n",
    "\thome: '贵州遵义'\n",
    "};\n",
    "var stu_json = JSON.stringify(stu)\n",
    "var stu_json1 = JSON.stringify(stu, null, \" \");\n",
    "var stu_json2 = JSON.stringify(stu, ['name', 'home', 'school'], ' ');\n",
    "console.log(stu_json);\n",
    "console.log(stu_json1);\n",
    "console.log(stu_json2);\n",
    "function re_filter(key, value) {\n",
    "\tif (typeof value === 'number') {\n",
    "\t\treturn value+'分';\n",
    "\t}\n",
    "\treturn value\n",
    "}\n",
    "var stu_json3 = JSON.stringify(stu, re_filter, ' ');\n",
    "console.log(stu_json3);\n",
    "var xiaohong = {\n",
    "\tname: \"xiaohong\",\n",
    "\tclass: \"七年级\",\n",
    "\tgrade: 98,\n",
    "\tschool: '习水一中',\n",
    "\thome: '贵州遵义',\n",
    "\ttoJSON: function() {\n",
    "\t\treturn {\n",
    "\t\t\t'Name': this.name,\n",
    "\t\t\t'Home': this.home,\n",
    "\t\t\t'School': this.school\n",
    "\t\t};\n",
    "\t}\n",
    "};\n",
    "console.log(JSON.stringify(xiaohong, null, ' '));\n",
    "</script>"
   ]
  },
  {
   "cell_type": "code",
   "execution_count": null,
   "metadata": {},
   "outputs": [],
   "source": [
    "var json_data = '[1, \"2\", \"哈哈\"]';\n",
    "var json_data1 = `{\n",
    "\t\"name\": \"taotao\",\n",
    "\t\"age\": 23,\n",
    "\t\"home\": \"成都\"\n",
    "}`;\n",
    "var result = JSON.parse(json_data);\n",
    "var result1 = JSON.parse(json_data1);\n",
    "console.log(typeof result, result);\n",
    "console.log(result1);\n",
    "console.log(JSON.stringify(result1, null, \" \")); //输出更高看"
   ]
  },
  {
   "cell_type": "code",
   "execution_count": null,
   "metadata": {},
   "outputs": [],
   "source": []
  },
  {
   "cell_type": "code",
   "execution_count": null,
   "metadata": {},
   "outputs": [],
   "source": []
  },
  {
   "cell_type": "code",
   "execution_count": null,
   "metadata": {},
   "outputs": [],
   "source": []
  }
 ],
 "metadata": {
  "kernelspec": {
   "display_name": "Python 3",
   "language": "python",
   "name": "python3"
  },
  "language_info": {
   "codemirror_mode": {
    "name": "ipython",
    "version": 3
   },
   "file_extension": ".py",
   "mimetype": "text/x-python",
   "name": "python",
   "nbconvert_exporter": "python",
   "pygments_lexer": "ipython3",
   "version": "3.7.3"
  }
 },
 "nbformat": 4,
 "nbformat_minor": 2
}
