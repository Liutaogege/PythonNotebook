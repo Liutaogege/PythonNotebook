{
 "cells": [
  {
   "cell_type": "markdown",
   "metadata": {},
   "source": [
    "# JSON\n",
    "- JavaScript Object Notation(JavaScript对象表示法)\n",
    "- JSON是存储和交换文本信息的语法，类似XML\n",
    "- JSON比xml更小，更快，更易解析\n",
    "- 使用JavaScript语法来描述数据对象\n",
    "- JSON语法是JavaScript语法的子集。由于这种相似性，无需解析器，JavaScript 程序能够使用内建的 eval() 函数，用 JSON 数据来生成原生的 JavaScript 对象。\n",
    "    - JSON.parse（）：将一个JSON字符串转化为JavaScript对象\n",
    "    - JSON.stringify():将JavaScript值转化为JSON字符串\n",
    "- JSON 数据的书写格式是：\n",
    "    - 名称/值对，用大括号包裹。如{\"name\" : \"菜鸟教程\"}，\n",
    "    - JSON键必须是字符串，json中的字符串必须用双引号不能使用单引号包裹\n",
    "    - JSON值可以是数字，字符串，逻辑值，数组，对象，null\n",
    "    - 多个键值对用逗号隔开\n",
    "    - JSON对象可以嵌套\n",
    "- json和Python格式的对应,python中只有基本数据类型才可以转换成json格式\n",
    "    - 字符串：字符串\n",
    "    - 数字：数字\n",
    "    - 数组：list，tuple\n",
    "    - 对象：dict\n",
    "    - 布尔值(小写)：布尔值\n",
    "    - null：None\n",
    "- python中的json包\n",
    "    - json和Python的相互转换\n",
    "        - json.dumps(obj)：对数据编码，把Python格式表示成json格式\n",
    "        - json.loads(obj):对数据解码，将json格式转换为Python，不需要写入文件\n",
    "        - json.dump(obj, file):把Python格式转化为json格式，同时把内容写入file\n",
    "        - json.load(obj,file)：把json文件内容读入Python\n",
    "        - 注意，在将Python数据写成json格式时，若含有中文，需要在dumps中把参数设置成这样ensure_ascii=False\n",
    "- 参数\n",
    "    - Skipkeys：默认值是False，如果dict的keys内的数据不是python的基本类型(str,unicode,int,long,float,bool,None)，设置为False时，就会报TypeError的错误。此时设置成True，则会跳过这类key\n",
    "\n",
    "    - ensure_ascii：默认值True，如果dict内含有non-ASCII的字符，则会类似\\uXXXX的显示数据，设置成False后，就能正常显示\n",
    "\n",
    "    - indent：应该是一个非负的整型，如果是0，或者为空，则一行显示数据，否则会换行且按照indent的数量显示前面的空白，这样打印出来的json数据也叫pretty-printed json\n",
    "\n",
    "    - separators：分隔符，实际上是(item_separator, dict_separator)的一个元组，默认的就是(',',':')；这表示dictionary内keys之间用“,”隔开，而KEY和value之间用“：”隔开。\n",
    "\n",
    "    - encoding：默认是UTF-8，设置json数据的编码方式。\n",
    "\n",
    "    - sort_keys：将数据根据keys的值进行排序。\n",
    "\n",
    "    - Decode过程，是把json对象转换成python对象的一个过程，常用的两个函数是loads和load函数。区别跟dump和dumps是一样的\n",
    "    \n",
    "# Json进阶\n",
    "- 把类对象序列化为json对象：json.dumps()中有一个参数default,这个参数就是把任意一个对象变成可序列为json对象的参数，为此，需要传入一个函数参数，就可把类对象序列化为json对象\n",
    "        json.dumps(类实例, lambda obj: obj.__dict__)\n",
    "- 把json反序列化为一个类对象实例，同样需要指定一个函数"
   ]
  },
  {
   "cell_type": "code",
   "execution_count": 1,
   "metadata": {},
   "outputs": [
    {
     "name": "stdout",
     "output_type": "stream",
     "text": [
      "[{\"name\": \"\\u5218\\u6d9b\", \"age\": 23}, {\"name\": \"\\u5a07\\u5a07\", \"age\": 21}]\n",
      "[{\"name\": \"刘涛\", \"age\": 23}, {\"name\": \"娇娇\", \"age\": 21}]\n"
     ]
    }
   ],
   "source": [
    "import json\n",
    "\n",
    "info = [\n",
    "    {\"name\": \"刘涛\", \"age\": 23},\n",
    "    {\"name\": \"娇娇\", \"age\": 21}\n",
    "]\n",
    "json_info = json.dumps(info)\n",
    "print(json_info)\n",
    "json_info = json.dumps(info, ensure_ascii=False)\n",
    "print(json_info)"
   ]
  },
  {
   "cell_type": "code",
   "execution_count": 4,
   "metadata": {},
   "outputs": [
    {
     "name": "stdout",
     "output_type": "stream",
     "text": [
      "{\"name\": \"jiaojiap\", \"age\": 21, \"score\": 99}\n"
     ]
    }
   ],
   "source": [
    "# json进阶:第一种方法\n",
    "# 缺点：只能针对某一个特定类对象的实例，不能针对多个类\n",
    "import json\n",
    "\n",
    "# 定义一个类对象\n",
    "class Student():\n",
    "    def __init__(self, name, age, score):\n",
    "        self.name = name\n",
    "        self.age = age\n",
    "        self.score = score\n",
    "\n",
    "s = Student(\"jiaojiap\", 21, 99)\n",
    "\n",
    "# 定义一个将实例转化成dict的函数\n",
    "def stu_to_dict(stu):\n",
    "    return {\n",
    "        \"name\": stu.name,\n",
    "        \"age\": stu.age,\n",
    "        \"score\": stu.score\n",
    "    }\n",
    "print(json.dumps(s, default=stu_to_dict))"
   ]
  },
  {
   "cell_type": "code",
   "execution_count": 8,
   "metadata": {},
   "outputs": [
    {
     "name": "stdout",
     "output_type": "stream",
     "text": [
      "{\"name\": \"LiuLaoshi\", \"age\": 23, \"salary\": 8000}\n"
     ]
    }
   ],
   "source": [
    "# json进阶，第二种\n",
    "import json\n",
    "\n",
    "# 定义一个类对象\n",
    "class Teacher():\n",
    "    def __init__(self, name, age, salary):\n",
    "        self.name = name\n",
    "        self.age = age\n",
    "        self.salary = salary\n",
    "\n",
    "s = Teacher(\"LiuLaoshi\", 23, 8000)\n",
    "\n",
    "print(json.dumps(s, default=lambda obj: obj.__dict__))"
   ]
  },
  {
   "cell_type": "code",
   "execution_count": 15,
   "metadata": {},
   "outputs": [
    {
     "name": "stdout",
     "output_type": "stream",
     "text": [
      "taotao 23 100\n"
     ]
    }
   ],
   "source": [
    "# json反序列化为实例对象\n",
    "json_str = '{\"age\": 23, \"score\": 100, \"name\": \"taotao\"}'\n",
    "def json_to_stu(d):\n",
    "    return Student(d['name'], d['age'], d['score'])\n",
    "new_stu = json.loads(json_str, object_hook=json_to_stu)\n",
    "print(new_stu.name, new_stu.age, new_stu.score)"
   ]
  },
  {
   "cell_type": "markdown",
   "metadata": {},
   "source": [
    "# CSV模块\n",
    "- 方法：\n",
    "    - csv.reader(csvfile, dialect='excel', **fmtparams):读取csv数据格式\n",
    "        - dialect参数：以什么规范操作csv文件，可选的参数有三个，分别是excel，excel-tab和unix,，'excel-tab'指用tab键分隔。默认是excel，也就是用逗号分隔，这个参数支持自定义\n",
    "                - 自定义：csv.register_dialect('mydialect',delimiter='|', quoting=csv.QUOTE_ALL) ，然后在reader中设置参数dialect=\"mydialect\"\n",
    "                - csv.list_dialects()：列出dialects方法有哪些\n",
    "        - fmtparam:格式化参数，用来覆盖之前dialect对象指定的编码风格。\n",
    "            - delimiter=\"\":指定分隔符的\n",
    "            - quotechar=\"\":指明引用符\n",
    "            - quoting：指明引用的模式：QUOTE_ALL、QUOTE_MINIMAL、.QUOTE_NONNUMERIC等\n",
    "            - 详见：https://blog.csdn.net/dominic_z/article/details/81362610\n",
    "    - writer = csv.writer(file, dialect='excel', **fmtparams):\n",
    "        - 用法：\n",
    "             - writer.writerow()单行写入\n",
    "             - writer.writerows()多行写入\n",
    "    - writer = csv.DictWriter(file, 表头)以字典方式写入\n",
    "    "
   ]
  },
  {
   "cell_type": "code",
   "execution_count": 8,
   "metadata": {},
   "outputs": [
    {
     "name": "stdout",
     "output_type": "stream",
     "text": [
      "写入完成\n"
     ]
    }
   ],
   "source": [
    "# csv模块用法\n",
    "import os\n",
    "import csv\n",
    "\n",
    "# 普通方法写入\n",
    "headers = [\"name\", \"age\", \"address\"]\n",
    "info = [(\"liutao\", 23, \"chengdu\"),\n",
    "       (\"jiaojiao\", 21, \"chengdu\"),\n",
    "       (\"xiaoxiao\", 22, \"shanghai\")]\n",
    "os.chdir(r\"C:\\Users\\acer\\Desktop\")\n",
    "# newline是如果不设置他默认是\\n,也就是会默认空一行\n",
    "with open(\"test.csv\", \"w\", encoding='utf-8', newline='') as f:\n",
    "    writer = csv.writer(f)\n",
    "    writer.writerow(headers)\n",
    "    writer.writerows(info)\n",
    "    \n",
    "print(\"写入完成\")"
   ]
  },
  {
   "cell_type": "code",
   "execution_count": 13,
   "metadata": {},
   "outputs": [
    {
     "name": "stdout",
     "output_type": "stream",
     "text": [
      "写入完成\n"
     ]
    }
   ],
   "source": [
    "# 以字典方式写入\n",
    "info = [\n",
    "    {\"username\": \"liutao\", \"usetools\": \"phone\", \"age\": 23},\n",
    "    {\"username\": \"jiaojiao\", \"usetools\": \"computer\", \"age\": 21},\n",
    "    {\"username\": \"xiaoxiao\", \"usetools\": \"ipad\", \"age\": 22}\n",
    "    \n",
    "]\n",
    "headers = [\"username\", \"usetools\", \"age\"]\n",
    "\n",
    "with open(\"testing.csv\", \"w\", encoding=\"utf-8\", newline=\"\") as f:\n",
    "    writer = csv.DictWriter(f, headers)\n",
    "    #表头需要单独写入\n",
    "    writer.writeheader()\n",
    "    writer.writerows(info)\n",
    "    \n",
    "print(\"写入完成\")"
   ]
  },
  {
   "cell_type": "code",
   "execution_count": 14,
   "metadata": {},
   "outputs": [
    {
     "name": "stdout",
     "output_type": "stream",
     "text": [
      "OrderedDict([('username', 'liutao'), ('usetools', 'phone'), ('age', '23')])\n",
      "OrderedDict([('username', 'jiaojiao'), ('usetools', 'computer'), ('age', '21')])\n",
      "OrderedDict([('username', 'xiaoxiao'), ('usetools', 'ipad'), ('age', '22')])\n"
     ]
    }
   ],
   "source": [
    "# 用字典方式读取csv数据\n",
    "with open(\"testing.csv\", \"r\", encoding=\"utf-8\") as f:\n",
    "    reader = csv.DictReader(f)\n",
    "    # reader是一个迭代器，而且这种方法读出的数据不包含header\n",
    "    for x in reader:\n",
    "        print(x)"
   ]
  },
  {
   "cell_type": "markdown",
   "metadata": {},
   "source": [
    "# Excel文件处理\n",
    "- 需要用到xlrd，xlwt两个库\n",
    "\n",
    "## 获取sheet\n",
    "- 一个Excel可能含有多个sheet，可以通过以下方法获取\n",
    "    - sheet_names:获取所有的sheet名字\n",
    "    - sheet_by_index:根据索引获取sheet对象\n",
    "    - sheet_by_name:根据名字获取sheet对象\n",
    "    - sheets：获取所有的sheet对象\n",
    "    - sheet.nrows:这个sheet中的行数\n",
    "    - sheet.nclos:这个sheet中的列数\n",
    "    \n",
    "## 获取cell及其属性\n",
    "- 每个cell代表表格中的一员\n",
    "- sheet.cell(row, col):获取指定行和列的cell对象\n",
    "- sheet.row_slice(row, start_col, end_col):获取指定行的某几列的cell对象\n",
    "- sheet.col_slice(col, start_row, end_row):获取指定列的某几行的cell对象\n",
    "- sheet.cell_value(row,col):获取指定行和列的值\n",
    "- sheet.row_values(row, start_col, end_col):获取指定行的某几列的值\n",
    "- sheet.col_value(col, start_row, end_row)获取指定列的某几行的值\n",
    "- cell.ctype:获取cell的数据类型,得到的是一个数字，每个数字代表什么类型可以看下面cell的数据类型\n",
    "- cell.value:获取cell的值\n",
    "\n",
    "### cell的数据类型\n",
    "- 1.xlrd.XL_CELL_TEXT(text):文本类型 1\n",
    "- 2.xlrd.XL_CELL_NUMBEER(number）:数值类型 2\n",
    "- 3.xlrd.XL_CELL_DATA(Date):日期时间 3\n",
    "- 4.xlrd.XL_CELL_BOOLEAN(bool）：布尔类型 4\n",
    "- r.xlrd.XL_CELL_BLANK：空白数据类性 0\n",
    "\n",
    "\n",
    "# 写入Excel\n",
    "- 写入Excel步骤如下：\n",
    "    - 1.导入xlwt模块\n",
    "    - 2.创建一个workbook对象\n",
    "    - 3.创建一个sheet对象\n",
    "    - 4.把数据写入到sheet下指定行和列中，如果想要在原来的workbook对象上添加新的cell，那么需要调用put_cell来添加值\n",
    "    - 5.保存成Excel文件\n",
    "    \n",
    "# "
   ]
  },
  {
   "cell_type": "code",
   "execution_count": null,
   "metadata": {},
   "outputs": [],
   "source": [
    "import xlrd\n",
    "import os\n",
    "os.chdir(r\"C:\\Users\\acer\\Desktop\")\n",
    "workbook = xlrd.open_workbook(\"记账.xls\",encoding=\"utf-8\")\n",
    "sheet = workbook.sheet_by_index(0)\n",
    "\n",
    "#使用cell方法获取指定的cell对象\n",
    "for col in range(sheet.ncols):\n",
    "    for row in range(sheet.nrows):\n",
    "        print(sheet.cell(row, col))\n",
    "        \n",
    "# 使用row_slice获取第0行的1-2列的cell对象\n",
    "cells = sheet.row_slice(0, 1, 3)\n",
    "print(cells)\n",
    "\n",
    "# 使用col_slice获取第0列的10=-2行的cell对象\n",
    "cells = sheet.col_slice(0, 1, 3)\n",
    "print(cells)"
   ]
  },
  {
   "cell_type": "code",
   "execution_count": null,
   "metadata": {},
   "outputs": [],
   "source": []
  },
  {
   "cell_type": "code",
   "execution_count": null,
   "metadata": {},
   "outputs": [],
   "source": []
  },
  {
   "cell_type": "code",
   "execution_count": null,
   "metadata": {},
   "outputs": [],
   "source": []
  },
  {
   "cell_type": "code",
   "execution_count": null,
   "metadata": {},
   "outputs": [],
   "source": []
  },
  {
   "cell_type": "code",
   "execution_count": null,
   "metadata": {},
   "outputs": [],
   "source": []
  },
  {
   "cell_type": "code",
   "execution_count": null,
   "metadata": {},
   "outputs": [],
   "source": []
  }
 ],
 "metadata": {
  "kernelspec": {
   "display_name": "Python 3",
   "language": "python",
   "name": "python3"
  },
  "language_info": {
   "codemirror_mode": {
    "name": "ipython",
    "version": 3
   },
   "file_extension": ".py",
   "mimetype": "text/x-python",
   "name": "python",
   "nbconvert_exporter": "python",
   "pygments_lexer": "ipython3",
   "version": "3.7.3"
  }
 },
 "nbformat": 4,
 "nbformat_minor": 2
}
