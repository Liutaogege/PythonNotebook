{
 "cells": [
  {
   "cell_type": "markdown",
   "metadata": {},
   "source": [
    "- https://www.cnblogs.com/KatherinaSu/p/9382713.html\n",
    "- https://www.jianshu.com/p/85a3004b5c06"
   ]
  },
  {
   "cell_type": "code",
   "execution_count": 6,
   "metadata": {},
   "outputs": [
    {
     "name": "stdout",
     "output_type": "stream",
     "text": [
      "<zip object at 0x0000017D3FAA0D88>\n",
      "1&a\n",
      "2&b\n",
      "3&c\n"
     ]
    }
   ],
   "source": [
    "html = etree.HTML(text)\n",
    "# 获取所有祖先节点\n",
    "result = html.xpath('//li[1]/ancestor::*')\n",
    "print(result)\n",
    "# 获取 div 祖先节点\n",
    "result = html.xpath('//li[1]/ancestor::div')\n",
    "print(result)\n",
    "# 获取当前节点所有属性值\n",
    "result = html.xpath('//li[1]/attribute::*')\n",
    "print(result)\n",
    "# 获取 href 属性值为 link1.html 的直接子节点\n",
    "result = html.xpath('//li[1]/child::a[@href=\"link1.html\"]') # child::li[1]，表示只匹配一个\n",
    "print(result)\n",
    "# 获取所有的的子孙节点中包含 span 节点但不包含 a 节点\n",
    "result = html.xpath('//li[1]/descendant::span')\n",
    "print(result)\n",
    "# 获取当前所有节点之后的第二个节点\n",
    "result = html.xpath('//li[1]/following::*[2]')\n",
    "print(result)\n",
    "# 获取当前节点之后的所有同级节点\n",
    "result = html.xpath('//li[1]/following-sibling::*')\n",
    "print(result)\n",
    "# 获取当前节点的直接父节点为li\n",
    "result = html.xpath('//li[1]/parent::li')\n",
    "print(result)\n",
    "\n",
    "# 组合使用\n",
    "html.xpath(\"//a[contains(text(), ‘Learn SQL’)]/following::a[contains(text(), ‘Learn Python’\")\n",
    "\n",
    "# contains的还有下面这种使用方法\n",
    "    #  Start-with 功能： Start-with功能查找刷新时属性值发生变化的元素或网页上的任何操作。 \n",
    "    #在此表达式中，匹配属性的起始文本用于查找其属性动态更改\n",
    "html.xpath(\"//label[starts-with(@id,'message')]\") #查找id属性是以message开头的"
   ]
  },
  {
   "cell_type": "code",
   "execution_count": null,
   "metadata": {},
   "outputs": [],
   "source": []
  }
 ],
 "metadata": {
  "kernelspec": {
   "display_name": "Python 3",
   "language": "python",
   "name": "python3"
  },
  "language_info": {
   "codemirror_mode": {
    "name": "ipython",
    "version": 3
   },
   "file_extension": ".py",
   "mimetype": "text/x-python",
   "name": "python",
   "nbconvert_exporter": "python",
   "pygments_lexer": "ipython3",
   "version": "3.7.3"
  }
 },
 "nbformat": 4,
 "nbformat_minor": 2
}
