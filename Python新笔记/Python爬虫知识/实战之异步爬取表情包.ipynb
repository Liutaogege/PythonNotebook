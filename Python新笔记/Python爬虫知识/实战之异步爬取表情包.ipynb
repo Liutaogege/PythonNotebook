{
 "cells": [
  {
   "cell_type": "code",
   "execution_count": 1,
   "metadata": {},
   "outputs": [
    {
     "name": "stdout",
     "output_type": "stream",
     "text": [
      "what's the matter\n"
     ]
    }
   ],
   "source": [
    "import re\n",
    "import os\n",
    "import requests\n",
    "from urllib import request\n",
    "import threading\n",
    "from queue import Queue\n",
    "\n",
    "\n",
    "os.chdir(r\"C:\\Users\\acer\\Desktop\\images\")\n",
    "# 生产者类：获取网页的地址及图片的链接、名字\n",
    "class Producer(threading.Thread):\n",
    "    headers = {\n",
    "        \"User-Agent\": \"Mozilla/5.0 (Windows NT 10.0; Win64; x64) AppleWebKit/537.36 (KHTML, like Gecko) Chrome/76.0.3809.132 Safari/537.36\"\n",
    "    }\n",
    "    def __init__(self, page_queue, img_queue, *args, **kwargs):\n",
    "        super(Producer, self).__init__(*args, **kwargs)\n",
    "        self.page_queue = page_queue\n",
    "        self.img_queue = img_queue\n",
    "\n",
    "    def parse_age(self, url):\n",
    "        rsp = requests.get(url, headers=self.headers)\n",
    "        html = rsp.content.decode(\"utf-8\")\n",
    "        image_addr = re.findall(r'<img\\sreferrerpolicy=.+?data-original=\"(.*?)\".*?>', html, re.DOTALL)\n",
    "        image_name = re.findall(r'<img\\sreferrerpolicy=.+?alt=\"(.*?)\".*?>', html, re.DOTALL)\n",
    "        image_name = [re.sub(r'[\\?？\\.。,！!\\*]', '', i) for i in image_name]\n",
    "        suffixs = [(os.path.splitext(i))[1] for i in image_addr]\n",
    "        for addr, name, suffix in zip(image_addr, image_name, suffixs):\n",
    "            file_name = name + suffix\n",
    "            self.img_queue.put((addr, file_name))\n",
    "\n",
    "    def run(self):\n",
    "        while True:\n",
    "            if self.page_queue.empty():\n",
    "                break\n",
    "            url = self.page_queue.get()\n",
    "            self.parse_age(url)\n",
    "\n",
    "\n",
    "# 消费者类：从图片地址下载图片并保存到save_dir文件下\n",
    "class Consumer(threading.Thread):\n",
    "\n",
    "    def __init__(self, page_queue, img_queue, *args, **kwargs):\n",
    "        super(Consumer, self).__init__(*args, **kwargs)\n",
    "        self.page_queue = page_queue\n",
    "        self.img_queue = img_queue\n",
    "\n",
    "    def run(self):\n",
    "        while True:\n",
    "            if self.img_queue.empty() and self.page_queue.empty():\n",
    "                break\n",
    "            img_addr, img_name = self.img_queue.get()\n",
    "            request.urlretrieve(img_addr, img_name)\n",
    "            print(img_name,\"下载完成\")\n",
    "\n",
    "def main():\n",
    "    # 设置存放页面和图片地址的队列\n",
    "    page_queue = Queue(100)\n",
    "    img_queue =Queue(1000)\n",
    "    for i in range(1, 3):\n",
    "        url =  \"https://www.doutula.com/photo/list/?page={}\".format(i)\n",
    "        page_queue.put(url)\n",
    "    for i in range(5):\n",
    "        p = Producer(page_queue, img_queue)\n",
    "        p.start()\n",
    "\n",
    "    for i in range(5):\n",
    "        c = Consumer(page_queue, img_queue)\n",
    "        c.start()\n",
    "\n",
    "\n",
    "\n",
    "if __name__ == \"__main__\":\n",
    "    main()\n",
    "    print(\"what's the matter\")"
   ]
  }
 ],
 "metadata": {
  "kernelspec": {
   "display_name": "Python 3",
   "language": "python",
   "name": "python3"
  },
  "language_info": {
   "codemirror_mode": {
    "name": "ipython",
    "version": 3
   },
   "file_extension": ".py",
   "mimetype": "text/x-python",
   "name": "python",
   "nbconvert_exporter": "python",
   "pygments_lexer": "ipython3",
   "version": "3.7.3"
  }
 },
 "nbformat": 4,
 "nbformat_minor": 2
}
