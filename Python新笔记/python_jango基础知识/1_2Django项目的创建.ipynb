{
 "cells": [
  {
   "cell_type": "markdown",
   "metadata": {},
   "source": [
    "# Web应用结构及工作原理\n",
    "- 用户和后台的之间的关系是：\n",
    "    - 用户-浏览器-HTTP服务器程序-Python后台\n",
    "    - （用户-浏览器-服务器软件-前端软件(如Vue，Redis；有些有，有些没有)-Django/Flask框架-数据库）\n",
    "    \n",
    "    \n",
    "# Django开发步骤：\n",
    "- 大致步骤：\n",
    "    - 1.创建项目\n",
    "        - 项目创建好之后需要启动服务，即python manage.py runserver，新版pycharm中直接执行manage.py即可\n",
    "    - 2.创建需要的应用即APP\n",
    "    - 3.配置settings.py文件\n",
    "    - 4.撸代码"
   ]
  },
  {
   "cell_type": "markdown",
   "metadata": {},
   "source": [
    "## Django项目创建\n",
    "### 1.使用命令行创建\n",
    "- 1.首先激活虚拟环境，再切换目录到自己想保存文件的地方，然后使用  django-admin startproject [项目名称]  即可创建jdango项目\n",
    "- 2.进入所创建的jdango项目的目录，注意该目录下有与之同名的一个文件夹，只进入第一层\n",
    "- 3.运行python manage.py migrate\n",
    "- 4.运行python magage.py runserver即可运行成功\n",
    "- Ctrl+c关闭服务器连接\n",
    "\n",
    "### 2.使用pycharm创建\n",
    "- 必须是professional版本，然后创建Django项目，注意解释器要设置为虚拟环境的解释器\n",
    "\n",
    "- 其他补充：\n",
    "    - 修改端口号：如果是使用命令行创建，则执行如下命令python manage.py runserver 端口号  ,端口号设置成自己想要的端口号即可\n",
    "    - pycharm创建的想要更改端口号的话，在Edit Configuration中修改端口号即可\n",
    "\n",
    "### 3.使用conda创建\n",
    "- 直接在命令提示符中输入：conda create -n 虚拟环境名称 python=版本号  (最后python=版本号可不要)\n",
    "- 激活环境：conda activate 虚拟环境名字\n",
    "- 激活环境后安装Django：pip install Django==2.2\n",
    "- 检测当前是否安装Django及版本：python -m django --version\n",
    "\n",
    "## Django创建应用\n",
    " - Django的应用其实相当于一个相对独立的模块，一个好的Django项目都是由一个一个相对独立的模块构成，APP包含完整的路由，视图等功能，一般能够独立完成一个功能\n",
    " - 执行命令创建自定义应用\n",
    "     - 命令行输入：python manage.py startapp 应用名\n",
    "         - 应用创建成功后，会在manage.py的同级目录中创建一个应用文件夹\n",
    "         - 应用文件夹结构解释：\n",
    "             - db.sqlite3:Django框架默认使用的数据库文件\n",
    "             - admin.py:Django框架自带后台模块配置文件\n",
    "             - models.py 模型文件\n",
    "             - tests.py 测试文件\n",
    "             - views.py 视图函数文件\n",
    "     - 然后定义视图函数\n",
    "     - 给视图函数定义访问路由\n",
    "     - 在根路由中配置当前APP的路由\n",
    "     - 启动服务\n",
    "#### 若新建的Django项目没有templates，则先在Django同名文件夹同级创建一个templates,然后在设置中找到TEMPLATES，设置 'DIRS': [BASE_DIR / 'templates'],\n",
    "#### 在cmd中创建的Django在pycharm中需要在edit figuration中配置django runserver,设置host：127.0.0.1（连接本地时）\n",
    "    \n",
    "### 如何让同局域网中的其他电脑访问本机的项目\n",
    "- 1.先设置host为0.0.0.0\n",
    "    - 在终端：使用命令python manage.py runserver 0.0.0.0:8000\n",
    "    - 在pycharm：Edit Configuration中设置IP为0.0.0.0\n",
    "- 2.然后在settings.py文件中，配置ALLOWED_HOSTS,将自己的IP地址添加进去\n",
    "    - 注意：要关闭自己电脑的防火墙才行"
   ]
  },
  {
   "cell_type": "markdown",
   "metadata": {},
   "source": [
    "# Django项目结构介绍\n",
    "- manage.py:项目管理文件单入口文件，以后和项目交互基本都是基于这个文件，一般般不需要修改。一般都是在终端输入：pyhon manage.py [子命令]。 可以输入python manage.py help查看帮助\n",
    "- __init__:包初始化文件\n",
    "- settings.py:项目的配置文件，以后和项目相关的配置都是放在这个里面\n",
    "- urls.py：这项目的根路由文件，比如访问http://127.0.0.1/news/是访问新闻列表页，这些东西就需要在这个文件中完成\n",
    "- wsgi.py:项目与WSGI协议兼容的web服务器入口，后期上线部署到专业HTTP服务器时需要用到，一般情况下是不需要修改的。"
   ]
  },
  {
   "cell_type": "code",
   "execution_count": null,
   "metadata": {},
   "outputs": [],
   "source": []
  },
  {
   "cell_type": "code",
   "execution_count": null,
   "metadata": {},
   "outputs": [],
   "source": []
  },
  {
   "cell_type": "code",
   "execution_count": null,
   "metadata": {},
   "outputs": [],
   "source": []
  },
  {
   "cell_type": "code",
   "execution_count": null,
   "metadata": {},
   "outputs": [],
   "source": []
  }
 ],
 "metadata": {
  "kernelspec": {
   "display_name": "Python 3",
   "language": "python",
   "name": "python3"
  },
  "language_info": {
   "codemirror_mode": {
    "name": "ipython",
    "version": 3
   },
   "file_extension": ".py",
   "mimetype": "text/x-python",
   "name": "python",
   "nbconvert_exporter": "python",
   "pygments_lexer": "ipython3",
   "version": "3.8.8"
  }
 },
 "nbformat": 4,
 "nbformat_minor": 2
}
