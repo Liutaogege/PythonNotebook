{
 "cells": [
  {
   "cell_type": "markdown",
   "metadata": {},
   "source": [
    "# 常用的模板系统\n",
    "- DTL和Jinja2，DTL是Django自带的模板语言\n",
    "- DTL是一种带有特殊语法的HTML文件，这个HTML文件可以被Django编译，可以传递参数进去，实现数据动态化，在编译完成后，生成一个普通的HTML文件，然后发送给客户端\n",
    "\n",
    "# 渲染模板\n",
    "- 渲染模板的方式有多种，以下有两种常用的方式\n",
    "    - 第一种：render_to_string(模板名字):找到模板，然后将模板编译后渲染成python的字符串格式，最后再通过HTTPResponse类包装成一个HttpResponse对象返回回去\n",
    "        - 注意：render_to_string需要导入：from django.templates.loader import render_to_string\n",
    "    - 第二种：一种更加简便的方式，render(request, 模板名):直接将模板渲染成字符串和包装成HTTPResponse对象一步到位完成\n",
    "        - 注意：需要导入：form django.shortcuts import render\n",
    "        \n",
    "## 设置查找模板路径\n",
    "- 在settings.py文件中，找到TEMPLATES,\n",
    "    - 1.设置其中的DIRS这一项即可更改目录\n",
    "    - 2.APP_DIRS:默认为True，这个设置为true后，以后渲染模板的时候，也会从APP的目录下寻找模板，前提是要把app这个加入到INSTALLED_APPS\n",
    "    - 3.查找顺序，先从内部查找，然后在templates，然后在其他APP文件下查找。没有找到就会爆出异常"
   ]
  },
  {
   "cell_type": "markdown",
   "metadata": {},
   "source": [
    "# DTL模板语法\n",
    "- 模板中可以包含变量，Django在渲染模板的时候，可以传递变量对应的值进行替换。变量的命名规范和python非常类似。变量需要通过视图函数渲染，视图函数再使用render或者render_to_string的时候可以传递一个context参数，这个参数是一个字典类型。以后在模板中的变量就是从这个字典中读取的\n",
    "    - 比如：context = {\"name\":\"taotao\"}   render(request, xx.html, context=context)\n",
    "\n",
    "#### 变量的使用\n",
    "- 1.在模板中国使用变量，需要将变量放到  {{变量名}}  中\n",
    "- 2.如果想要访问对象的属性，可以通过  对象.属性名  来进行访问\n",
    "- 3.如果想要访问一个字典中key对应的value值，只能通过 . 的方式，不能使用中括号来访问。还有不要用关键字来作为字典的key值。同理列表访问也是用 . ,如llst.0\n",
    "- "
   ]
  },
  {
   "cell_type": "markdown",
   "metadata": {},
   "source": [
    "# 常用的模板标签\n",
    "- 所有的标签都是在{% %}之间\n",
    "- 基本所有的标签都有闭合标签。url没有\n",
    "- 1.if标签\n",
    "    - 和python中的使用语法基本一致，not in， in， is等都可以使用，还有elif，else\n",
    "    - 闭合标签为{% endif %}\n",
    "- 2.for标签\n",
    "    - 遍历列表，子表等。如果要实现反序，在写for语句时，末尾加上reversed。注意：一个变量占据一个{{}}\n",
    "    - 在for循环中，DEL提供了一些变量可供使用\n",
    "        - forloop.counter:下标，从1开始\n",
    "        - forloop.counter0:从0开始\n",
    "        - forloop.revcounter:当前循环的方向下标值，1是最后一个\n",
    "        - forloop.revcounter0:0是最后一个\n",
    "        - forloop.first:是否是最先开始遍历\n",
    "        - forloop.last:是否是最后的那一次遍历\n",
    "        - forloop.parentloop:如果有多个循环标签，那么这个属性表示的是上一级的for循环\n",
    "        - for..in..empty标签：这个标签使用和for..in..一样，只不过是在遍历的对象如果没有元素的情况下，会执行empty中的内容\n",
    "        - 这里面没有break和continue\n",
    "            -  有点像try语句\n",
    "- 3.with标签\n",
    "    - 相当于给变量取别名\n",
    "        - with fruits.0 as apl或者with fruits.0=apl。注意=两边不能有空格，且别名只能在with语句块内使用，超出后不管用\n",
    "- 4.url标签\n",
    "    - 是在a标签中使用\n",
    "    - 使用方法：a href= \"{%url 'book_detail' book_id=1 %}?page=1\"\n",
    "        - book_detail是访问的页面， book_id是参数， ?page=1是查询字符串参数\n",
    "    - 如果url反转的时候需要传递参数，那么可以在url后面传递，但是参数分位置参数和关键字参数，位置参数和关键字参数不能同时使用\n",
    "    - 如果要传递查询字符串的参数，那么必须要手动在后面添加\n",
    "    - 如果要传递多个参数，在参数之间加上空格\n",
    "- 5.spaceless标签\n",
    "    - 移除HTML标签中的空白字符，包括空格，tab键，换行等\n",
    "- 6.autoescape标签\n",
    "    - 自动转义标签\n",
    "    - DTL中默认已经开启了自动转义，会将那些特殊字符进行转义，比如会将 < 转义成 &lt；等\n",
    "    - 不要轻易使用DTL自动转义，这样网站才不会出现xss漏洞\n",
    "    - 如果变量确实是可信任的，那么可以使用autoescape标签来关掉自动转义\n",
    "        - {% autoescape off %}\n",
    "            {% endautoescape %}\n",
    "- 7.verbatim\n",
    "    - 默认在DTL模板中是会去解析那些特殊字符的，比如 {% 和 %} 以及{{等。但如果不想让他解析，就可以把它放在verbatim标签中"
   ]
  },
  {
   "cell_type": "code",
   "execution_count": null,
   "metadata": {},
   "outputs": [],
   "source": []
  },
  {
   "cell_type": "code",
   "execution_count": null,
   "metadata": {},
   "outputs": [],
   "source": []
  },
  {
   "cell_type": "code",
   "execution_count": null,
   "metadata": {},
   "outputs": [],
   "source": []
  },
  {
   "cell_type": "code",
   "execution_count": null,
   "metadata": {},
   "outputs": [],
   "source": []
  }
 ],
 "metadata": {
  "kernelspec": {
   "display_name": "Python 3",
   "language": "python",
   "name": "python3"
  },
  "language_info": {
   "codemirror_mode": {
    "name": "ipython",
    "version": 3
   },
   "file_extension": ".py",
   "mimetype": "text/x-python",
   "name": "python",
   "nbconvert_exporter": "python",
   "pygments_lexer": "ipython3",
   "version": "3.7.3"
  }
 },
 "nbformat": 4,
 "nbformat_minor": 2
}
