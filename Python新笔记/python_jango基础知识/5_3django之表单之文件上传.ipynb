{
 "cells": [
  {
   "cell_type": "markdown",
   "metadata": {},
   "source": [
    "# 文件上传\n",
    "- 文件上传是网站开发中非常常见的功能\n",
    "\n",
    "# 前端HTML代码实现\n",
    "- 1.在前端中，需要填入一个form标签，然后在这个form标签中指定enctype=\"multipart/form-data\",不然就不能上传文件\n",
    "- 2.在form标签中添加一个input标签，然后指定input标签的name，以及type=\"file\"\n",
    "- 示例：\n",
    "        <form action=\"\" method=\"post\" enctype=\"multipart/form-data\">\n",
    "            <input type=\"file\" name=\"myfile\">\n",
    "        </form>\n",
    "\n",
    "\n",
    "# 后端的代码实现\n",
    "- 后端的主要工作时接收文件，然后存储文件，接收文件的方式跟接收post的方式是一样的，只不过是通过FILES来实现\n",
    "- 示例：\n",
    "        myfile = request.FILES.get(\"myfile\")\n",
    "        with open(\"somefile.txt\", \"wb\") as fp:\n",
    "            for chunk in myfile.chunks():\n",
    "                fp.write(chunk)\n",
    "        return HttpResponse(\"success\")"
   ]
  },
  {
   "cell_type": "markdown",
   "metadata": {},
   "source": [
    "# 使用模型来处理上传的文件\n",
    "- 在定义模型的时候，可以给存储文件的字段指定为FileField，这个Field可以传递一个upload_to参数，用来指定上传上来的文件保存到哪里。比如我们让他保存到项目下的files文件夹下\n",
    "    - thumbnail = models.FileField(upload_to=\"files\")\n",
    "- 调用完save方法后，就会将文件保存到files下面，并且会将这个文件的存储路径存储到数据库中\n",
    "\n",
    "# 指定MEDIA_ROOT和MEDIA_URL\n",
    "- 以上使用了upload_to来指定上传的文件的目录。也可以指定MEDIA_ROOT,就不需要在FileField中指定upload_to，它会自动的将文件上传到MEDIA_URL的目录下\n",
    "- 在settings.py设置这两个值\n",
    "        import os\n",
    "        MEDIA_ROOT = os.path.join(BASE_DIR, 'media')\n",
    "        MEDIA_URL = '/media/'\n",
    "- 只要设置了这两个属性，上传的文件就自动保存在这里，存储路径相当于http://127.0.0.1:8000/media/hello.txt\n",
    "- 如果在设置了这两个值，并且又定义了thumbnail = models.FileField(upload_to=\"file\")，那么它就会在media目录下新建一个文件叫做file，并且会把上传的文件保存到这里面，若upload_to设置为upload_to=\"%Y/%m/%d\"，则它会按照年月日来保存\n",
    "\n",
    "### 如何访问保存到media的文件\n",
    "- 首先如果直接输入http://127.0.0.1:8000/media/hello.txt  是访问不到该文件的，要在urls.py文件中进行设置：\n",
    "        from django.conf.urls.static import static\n",
    "        from django.conf import settings\n",
    "        urlpatterns = [path('', views.IndexView.as_view()),] + static(settings.MEDIA_URL, document_root=settings.MEDIA_ROOT)"
   ]
  },
  {
   "cell_type": "markdown",
   "metadata": {},
   "source": [
    "# 限制上传的文件拓展名\n",
    "- 如果想要限制上传的文件的拓展名，那么我们就需要用到表单来进行限制，可以使用普通的form表单，也可以使用ModelForm，直接从模型中读取字段\n",
    "- 示例：\n",
    "        thumbnail = models.FileField(upload_to=\"file\", validators=[validators.FileExtensionValidator([\"txt\", \"jpg\", \"pdf\"], message=\"你上传的格式文件有误\")])\n",
    "\n",
    "# 上传图片\n",
    "- 上传图片和上传普通文件是一样的，只不过是上传图片的时候django会判断上传的文件是否是图片的格式（除了判断后缀名，还会判断是否是可用的图片），如果不是，那么就会验证失败，首先来定义一个包含ImageField的模型\n",
    "- 因为要验证图片格式是否是合格的图片，因此我们还需要用一个表单来进行验证，表单我们直接使用ImageField即可。\n",
    "- 注意：使用ImageField，必须要先安装pillow库，pip install pillow\n",
    "- 示例\n",
    "        thumbnail = models.ImageField(upload_to=\"images\")\n",
    "\n",
    "### 本章代码详见uploading_file\n"
   ]
  },
  {
   "cell_type": "code",
   "execution_count": null,
   "metadata": {},
   "outputs": [],
   "source": []
  },
  {
   "cell_type": "code",
   "execution_count": null,
   "metadata": {},
   "outputs": [],
   "source": []
  },
  {
   "cell_type": "code",
   "execution_count": null,
   "metadata": {},
   "outputs": [],
   "source": []
  },
  {
   "cell_type": "code",
   "execution_count": null,
   "metadata": {},
   "outputs": [],
   "source": []
  },
  {
   "cell_type": "code",
   "execution_count": null,
   "metadata": {},
   "outputs": [],
   "source": []
  },
  {
   "cell_type": "code",
   "execution_count": null,
   "metadata": {},
   "outputs": [],
   "source": []
  }
 ],
 "metadata": {
  "kernelspec": {
   "display_name": "Python 3",
   "language": "python",
   "name": "python3"
  },
  "language_info": {
   "codemirror_mode": {
    "name": "ipython",
    "version": 3
   },
   "file_extension": ".py",
   "mimetype": "text/x-python",
   "name": "python",
   "nbconvert_exporter": "python",
   "pygments_lexer": "ipython3",
   "version": "3.7.3"
  }
 },
 "nbformat": 4,
 "nbformat_minor": 2
}
