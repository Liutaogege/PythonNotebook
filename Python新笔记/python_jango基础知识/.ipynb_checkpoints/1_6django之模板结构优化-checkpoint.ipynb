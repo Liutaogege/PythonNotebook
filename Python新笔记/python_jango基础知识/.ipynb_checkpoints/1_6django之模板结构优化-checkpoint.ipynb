{
 "cells": [
  {
   "cell_type": "markdown",
   "metadata": {},
   "source": [
    "# 模板结构优化\n",
    "## 模板的重复调用\n",
    "### 方法一：使用include\n",
    "- 许多时候有些HTML代码在很多页面中是一样的，所以可以把这些重复性高的代码提取出来，单独放在一个HTML文件中，然后要使用这些代码时，就可以通过inlude标签将它引入进去\n",
    "- 格式：{% include \"xxx.html\" %}, xxx.html就是被重复调用的HTML文件\n",
    "- 注意：对于被调用的HTML文件来说，调用者就相当于它的父亲。所有给调用者传进去的context参数，被调用者都能够使用。但若调用者没有这个参数，而被调用者想用这个参数，就可以通过语句自行定义\n",
    "    - 格式：{% include \"xxx.html\" with var_name=\"xxx\" %}\n",
    "- 也就是说，可以在儿子文件中引用一个context参数，而这个参数都是通过父亲传递进来的，若父亲没有传递这个参数，则它自行定义即可\n",
    "        <head>\n",
    "        <h1>你目前正在浏览{{ name }}</h1>\n",
    "        </head>\n",
    "        这就是被调用者的书写内容，name可以靠父亲传递进去\n",
    "        \n",
    "### 方法二：使用模板继承\n",
    "- 模板继承的方法类似python中的类继承:{% extends \"父模板名字\" %}，必须放在第一行\n",
    "- 使用方法：\n",
    "    - 1.先把要复用的代码全部放到父级模板中，同时在代码中开一道口子，口子中写上block标签：\n",
    "            {% block \"代码块名字\" %} xxxx {% endblock %}\n",
    "    - 2.block中的标签就是以后写子级代码的地方，即你想添加内容的地方。\n",
    "    - 3.如果要想写一个新的HTML文件继承父级文件中的代码，需要在文件最开头引入{% extends \"父级html文件地址\" %}(当然如果处于同一个文件夹中，直接写父级文件的名字就行,而且该extends标签必须放在第一行)\n",
    "    - 4.再写block标签：{% block \"代码块名字\" %} xxxx {% endblock %}。xxxx就是你子级代码独有的内容\n",
    "    - 注：对于父级文件来说，block标签中的内容会被子级block标签的内容覆盖，如果子级文件想保留它，使用{{ block.super }}即可\n",
    "    "
   ]
  },
  {
   "cell_type": "markdown",
   "metadata": {},
   "source": [
    "# 模板中加载静态文件\n",
    "- DTL中，使用static标签来加载静态文件，要使用static标签，首先需要{% load static %}.加载静态文件的步骤如下：\n",
    "    - 1.首先确保django.contrib.staticfiles 已经添加到settings.INSTALLED_APPS中\n",
    "    - 2.确保在settings.py中设置了STATIC_URL.它是浏览器在请求静态文件时的url\n",
    "    - 3.在已经安装了的APP下创建一个文件夹叫做static，然后再在该文件夹下创建一个当前APP的名字的文件夹，再把静态文件放到这个文件夹下\n",
    "    - 4.如果有一些静态文件是不合任何APP挂钩的，那么可以在settings.py中添加STATICFILES_DIRS,以后如果在APP中找不到该静态文件，DTL就会在这个列表的路径中查找静态文件。比如可以设置为：STATCIFILES_DIRS = [os.path.join(BASE_DIR, \"static\")]\n",
    "    - 5.在模板中使用load标签加载static标签，比如要加载在项目的static文件夹下的style.css的文件。比如：\n",
    "            {% load static %}\n",
    "            <img src=\"{% static \"文件名\" %}\" \n",
    "    6.如果不想每次在模板中加载静态文件都是用load加载static标签，那么可以在settings.py中的TEMPLATES/OPTIONS添加\"builtins':['django.templatetags.static']，这样以后就可以直接使用static标签了\n",
    "    7.如果没有在settings.INSTALLED_APPS中添加django.contrib.staticfiles.那么我们就需要手动的将请求静态文件的url与静态文件的路径进行映射了"
   ]
  },
  {
   "cell_type": "code",
   "execution_count": null,
   "metadata": {},
   "outputs": [],
   "source": []
  },
  {
   "cell_type": "code",
   "execution_count": null,
   "metadata": {},
   "outputs": [],
   "source": []
  },
  {
   "cell_type": "code",
   "execution_count": null,
   "metadata": {},
   "outputs": [],
   "source": []
  }
 ],
 "metadata": {
  "kernelspec": {
   "display_name": "Python 3",
   "language": "python",
   "name": "python3"
  },
  "language_info": {
   "codemirror_mode": {
    "name": "ipython",
    "version": 3
   },
   "file_extension": ".py",
   "mimetype": "text/x-python",
   "name": "python",
   "nbconvert_exporter": "python",
   "pygments_lexer": "ipython3",
   "version": "3.7.3"
  }
 },
 "nbformat": 4,
 "nbformat_minor": 2
}
