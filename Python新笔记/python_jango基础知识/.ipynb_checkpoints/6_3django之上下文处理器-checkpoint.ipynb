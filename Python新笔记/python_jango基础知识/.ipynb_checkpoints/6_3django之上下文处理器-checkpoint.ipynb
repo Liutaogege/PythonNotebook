{
 "cells": [
  {
   "cell_type": "markdown",
   "metadata": {},
   "source": [
    "# 上下文处理器\n",
    "- 它是可以返回一些数据，在全局模板中都可以使用。比如登录用户的信息，在很多页面中都需要使用，那么我们可以放在上下文处理器中，就没有必要在每个视图函数中返回这个对象\n",
    "- 在settings.TEMPLATES.OPTIONS.context_processors中，有许多内置的上下文处理器，这些上下文处理器的作用如下：\n",
    "    - 1.django.template.context_processors.debug：增加一个debug和sql_queries变量，在模板中可以通过他来查到到一些数据库查询信息\n",
    "        - 想要使用debug，先在settings.py文件中设置INTERANL_IPS =['127.0.0.1'],然后执行SQL操作，在模板文件中使用{{debug}} {{sql_queries}}即可获取查询记录\n",
    "    - 2.django.template.context_processors.request：增加一个request变量，这个request变量也就是在视图函数的第一个参数。这个上下文管理器可以使得在模板文件中也可以使用request，如{{request}}\n",
    "    - 3.django.contrib.auth.context_processors.auth：django有内置的用户系统，这个上下文处理器会增加一个user对象\n",
    "    - 4.django.contrib.messages.context_processors.messages:增加一个messages变量。也就是出错时的那个错误信息提示\n",
    "        - 导入：from django.contrib import messages\n",
    "        - messages.add_message(request, 错误级别，信息提示)\n",
    "        - 比如：messages.add_message(request,messages.INFO, \"用户名错误\")或者简写方式:messages.info(request, \"用户名错误\")\n",
    "    - 5.django.template.context_processors.media:在模板中读取MEDIA_URL.比如想要在模板中使用上传的文件，那么这时候就需要使用settings.py中设置的MEDIA_URL来拼接url。\n",
    "        - 1.先在项目下新建medias文件夹\n",
    "        - 2.在settings中设置:(medias是上传的文件的保存地址)\n",
    "                MEDIA_ROOT = os.path.join(BASE_DIR, 'medias')\n",
    "                MEDIA_URL = '/medias/'\n",
    "        - 3.在TEMPLATES/OPTIONS下加入：django.template.context_processors.media\n",
    "        - 4.在模板文件中使用上传的文件\n",
    "            - 比如：img src=\"{{MEDIA_URL}} {{ user.avatar}}\"\n",
    "    - 6.django.template.context_processors.static:在模板中使用STATIC_URL\n",
    "    - 7.django.template.context_processors.csrf:在模板中可以使用csrf_token变量来生成一个csrf_token\n",
    "        - 如果没有注释它：'django.middleware.csrf.CsrfViewMiddleware',，就需要在提交表单的时候进行提交csrftoken\n",
    "        - 1.首先在settings.py文件中TEMPLATES/OPTIONS下加入django.template.context_processors.csrf\n",
    "        - 2.然后在模板中使用input标签进行提交：input type='hidden' name=\"csrfmiddlewaretoken\" value={{ csrf_token }}\n",
    "        - 如果不想那么麻烦，直接一步到位，在模板中使用{% csrf_token %}\n",
    "\n",
    "# 自定义上下文处理器\n",
    "- 有时候我们想要返回自己的数据，这时可以自定义上下文处理器，步骤如下：\n",
    "    - 1.根据这个上下文归属于哪个APP，在这个APP中创建一个文件专门用来存储上下文处理器。比如context_processors.py，或者专门创建一个python包，用来存储所有的上下文处理器。定义好上下文处理器后，需要在TEMPLATES来注册该上下文处理器：APP名字.上下文py文件.定义的函数\n",
    "        - 示例：\n",
    "                from .models import UserModel\n",
    "\n",
    "                # 上下文处理器需要在TEMPLATES中进行设置\n",
    "                def UserInfo(request):\n",
    "                    user_id = request.session.get(\"user_id\")\n",
    "                    context = {}\n",
    "                    if user_id:\n",
    "                        try:\n",
    "                            user = UserModel.objects.get(pk=user_id)\n",
    "                            context['user_info'] = user\n",
    "                        except:\n",
    "                            pass\n",
    "                    return context\n",
    "                    \n",
    "                在settings.py中注册\n",
    "                'OPTIONS': {\n",
    "                'context_processors': [\n",
    "                    'django.template.context_processors.debug',\n",
    "                    'django.template.context_processors.request',\n",
    "                    'django.contrib.auth.context_processors.auth',\n",
    "                    'django.contrib.messages.context_processors.messages',\n",
    "                    'one_app.context_processor.UserInfo', #APP名字.上下文py文件.定义的函数\n",
    "                ],\n",
    "\n",
    "    - 2.在定义好的上下文处理器文件中，定义一个函数，这个函数只有一个request参数。这个函数中处理完自己的逻辑后，把需要的数据以字典的形式返回给模板。如果不需要返回任何数据，那么也必须返回一个空的字典。"
   ]
  }
 ],
 "metadata": {
  "kernelspec": {
   "display_name": "Python 3",
   "language": "python",
   "name": "python3"
  },
  "language_info": {
   "codemirror_mode": {
    "name": "ipython",
    "version": 3
   },
   "file_extension": ".py",
   "mimetype": "text/x-python",
   "name": "python",
   "nbconvert_exporter": "python",
   "pygments_lexer": "ipython3",
   "version": "3.7.3"
  }
 },
 "nbformat": 4,
 "nbformat_minor": 2
}
