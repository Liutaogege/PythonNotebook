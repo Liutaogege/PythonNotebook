{
 "cells": [
  {
   "cell_type": "markdown",
   "metadata": {},
   "source": [
    "# 模型继承\n",
    "- 模型与模型直接是可以相互继承的，在django中支持三种类型的继承方式\n",
    "- 父类继承自models.Model,但不会在数据库中生成相应的数据表，父类的字段存储在其子类的数据表中\n",
    "- 多表继承：多表继承的每个模型类都在底层数据库中生成相应的数据表管理数据\n",
    "- 代理模型继承：父类用于在底层数据中管理数据表，而子类不定义数据字段，只定义查询数据集的排序方式\n",
    "\n",
    "## 1.抽象类继承\n",
    "- 抽象类继承的作用是多个表有若干相同的字段时，可以将这些相同字段统一定义在抽象基类中，免于重复定义这些字段。抽象基类的定义通过在模型的Meta中定义属性abstract=True来实现.子类可以直接调用父类的字段属性。子类拥有的字段是父类的字段加上自己定义的\n",
    "- 示例：\n",
    "        from django.db import models\n",
    "        class MessageBase(models.Model):\n",
    "            content = models.TextField()\n",
    "            user_name = models.CharField(max_length=100)\n",
    "            pub_date = models.DateTimeField(auto_now_add=True)\n",
    "\n",
    "            class Meta:\n",
    "                abstract = True\n",
    "\n",
    "        # 继承上面的抽象类，对于Comment来说，它拥有五个字段：content,use_name,pub_date,id,comment\n",
    "        LEVELS = (\n",
    "            ('1', 'Very good'),\n",
    "            ('2', 'Good'),\n",
    "            ('3', 'Normal'),\n",
    "            ('4', 'Bad')\n",
    "        )\n",
    "        class Comment(MessageBase):\n",
    "            comment = models.CharField(max_length=1, choices=LEVELS)"
   ]
  },
  {
   "cell_type": "markdown",
   "metadata": {},
   "source": [
    "## 2.多表继承\n",
    "- 多表继承中，无论是父类还是子类都会用数据库中对应的数据表维护模型数据，父类中的字段不会重复的在多个子类的相关数据表中进行定义。从这种意义上来讲，多表继承才是ORM技术。多表继承的定义不需要特殊的关键字，在django内部通过对在模型和子模型直接建立一对一关系来实现多表继承技术。子类只拥有自己再内部定义的字段，但是子类仍然可以直接调用父类的字段属性\n",
    "- 代码示例：\n",
    "        class MessageBase(models.Model):\n",
    "        content = models.TextField()\n",
    "        user_name = models.CharField(max_length=100)\n",
    "        pub_date = models.DateTimeField(auto_now_add=True)\n",
    "\n",
    "        # 多表继承无需定义特别的关键字,对于Comment来说，它只拥有四个字段：id,comment\n",
    "        # 但是Comment仍然可以直接调用父类的字段属性\n",
    "        LEVELS = (\n",
    "            ('1', 'Very good'),\n",
    "            ('2', 'Good'),\n",
    "            ('3', 'Normal'),\n",
    "            ('4', 'Bad')\n",
    "        )\n",
    "        class Comment(MessageBase):\n",
    "            comment = models.CharField(max_length=1, choices=LEVELS)"
   ]
  },
  {
   "cell_type": "markdown",
   "metadata": {},
   "source": [
    "## 3.代理模型继承\n",
    "- 上述两种继承方式都有实际存储数据的作用，而在代理模型继承中子类只用于管理父类的数据，而不实际存储数据。代理模型通过在子类的Meta中定义proxy=True属性来实现。使用代理模型继承的原因是子类中新的特性不会影响父类模型及其已有代码的行为\n",
    "- 代码示例：\n",
    "        class MessageBase(models.Model):\n",
    "            content = models.TextField()\n",
    "            user_name = models.CharField(max_length=100)\n",
    "            pub_date = models.DateTimeField(auto_now_add=True)\n",
    "\n",
    "\n",
    "        class OrderMoment(models.Model):\n",
    "            class Meta:\n",
    "                proxy = True\n",
    "                ordering =  ['-pub_date']"
   ]
  }
 ],
 "metadata": {
  "kernelspec": {
   "display_name": "Python 3",
   "language": "python",
   "name": "python3"
  },
  "language_info": {
   "codemirror_mode": {
    "name": "ipython",
    "version": 3
   },
   "file_extension": ".py",
   "mimetype": "text/x-python",
   "name": "python",
   "nbconvert_exporter": "python",
   "pygments_lexer": "ipython3",
   "version": "3.7.3"
  }
 },
 "nbformat": 4,
 "nbformat_minor": 2
}
