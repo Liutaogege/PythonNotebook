{
 "cells": [
  {
   "cell_type": "markdown",
   "metadata": {},
   "source": [
    "# 模板中加载静态文件\n",
    "- DTL中，使用static标签来加载静态文件，要使用static标签，首先需要{% load static %}.加载静态文件的步骤如下：\n",
    "    - 1.首先确保django.contrib.staticfiles 已经添加到settings.INSTALLED_APPS中：创建时自动生成\n",
    "    - 2.确保在settings.py中设置了STATIC_URL.它是浏览器在请求静态文件时的url(127.0.0.1/static/xxx.jpg)：创建时自动生成\n",
    "    - 3.先创建一个APP，并把它注册到INSTALLED_APPS中，再在APP下创建一个文件夹叫做static，然后再在该文件夹下创建一个当前APP的名字的文件夹，再把静态文件放到这个文件夹下\n",
    "    - 4.如果有一些静态文件是不合任何APP挂钩的，就可以设置一个总的static文件夹来保存它们。那么可以在settings.py中添加STATICFILES_DIRS,以后如果在APP中找不到该静态文件，DTL就会在这个列表的路径中查找静态文件。比如可以设置为：STATICFILES_DIRS = [os.path.join(BASE_DIR, \"static\")]\n",
    "    - 5.静态文件的引用\n",
    "        - 第一种：\n",
    "            - 直接引用：<img src=\"/static/index_app/beauty.jpg\" alt=\"\">，但不推荐\n",
    "        - 第二种：在模板中使用load标签加载static标签，比如要加载在项目的static文件夹下的style.css的文件。比如：\n",
    "            {% load static %}\n",
    "            <img src=\"{% static \"在static文件夹下的相对路径\" %}\" \n",
    "            比如：<img src=\"{% static \"index_app/beauty.jpg %}\" alt=\"\"\n",
    "    6.如果不想每次在模板中加载静态文件都是用load加载static标签，那么可以在settings.py中的TEMPLATES/OPTIONS添加\"builtins\":['django.templatetags.static'], 这样以后就可以直接使用static标签了\n",
    "        - 比如引用css文件：link rel=\"stylesheet\" href=\"{% static home.css %}\"\n",
    "    7.如果没有在settings.INSTALLED_APPS中添加django.contrib.staticfiles.那么我们就需要手动的将请求静态文件的url与静态文件的路径进行映射了\n",
    "        在urls.py文件中写入：\n",
    "        from django.conf import settings\n",
    "        from django.conf.urls.static import static\n",
    "        urlpatterns = [\n",
    "        path()] + static(settings.STATIC_URL, document_root=settings.STATICFILES_DIRS[0])"
   ]
  }
 ],
 "metadata": {
  "kernelspec": {
   "display_name": "Python 3",
   "language": "python",
   "name": "python3"
  },
  "language_info": {
   "codemirror_mode": {
    "name": "ipython",
    "version": 3
   },
   "file_extension": ".py",
   "mimetype": "text/x-python",
   "name": "python",
   "nbconvert_exporter": "python",
   "pygments_lexer": "ipython3",
   "version": "3.7.3"
  }
 },
 "nbformat": 4,
 "nbformat_minor": 2
}
