{
 "cells": [
  {
   "cell_type": "markdown",
   "metadata": {},
   "source": [
    "# django限制请求方法\n",
    "- 最常用的请求方法：\n",
    "    - GET方法：一般用来向服务器所取数据，但不会向服务器提交数据，不会对服务器的状态进行更改\n",
    "    - POST方法：一般用来向服务器提交数据，会对服务器的状态进行更改\n",
    "    \n",
    "## 限制请求装饰器\n",
    "- django内置的视图装饰器可以给视图提供一些限制，以限制这个视图只能通过get或者post请求访问。以下是常用的内置视图装饰器\n",
    "    - 导入：from django.views.decorators.http import require_GET, require_POST, require_safe, require_http_methods\n",
    "    - 1.require_GET:仅支持get请求\n",
    "    - 2.require_POST:仅支持post请求\n",
    "    - 3.require_http_methods(lst): 传入的lst装的是请求方法\n",
    "    - 3.require_safe：相当于require_http_methods([\"GET\", \"HEAD\"])\n"
   ]
  },
  {
   "cell_type": "markdown",
   "metadata": {},
   "source": [
    "# 重定向\n",
    "- 重定向分为永久性重定向和暂时性重定向，在网页页面上的体现就是浏览器从一个页面自动跳转到另外一个页面。\n",
    "- 分类：\n",
    "    - 永久性重定向：HTTP的状态码是301，多用于旧网址被废弃了要转到一个新的网址确保用户的访问。\n",
    "    - 暂时性重定向：HTTP的状态码是302，表示页面暂时性跳转。比如用户访问一个需要权限的网址，而当前用户没有登录，那么就应该重定向到登录页面\n",
    "- 在django中，重定向是使用redirect(to, *args, permanent=False, **kwargs)来实现的。to指向哪一个url，permanent表示这个重定向是否是一个永久的重定向。默认是False"
   ]
  },
  {
   "cell_type": "markdown",
   "metadata": {},
   "source": [
    "# WSGIRequest对象\n",
    "- jdango在接收到请求之后，会根据HTTP请求携带的参数以及报文信息创建一个WSGIRequest对象，并且作为视图函数的第一个参数返回给视图函数。也就是request参数，在这个对象上我们可以找到客户端传上来的所有信息。这个对象的完整路径是django.core.handlers.wsgi.WSGIRequest\n",
    "\n",
    "\n",
    "# WSGIRequest对象常用属性和方法\n",
    "### 常用属性\n",
    "- WSGIRequest对象上大部分的属性都是只读的，因为这些属性都是从客户端上传来的，没必要做什么修改\n",
    "    - 1.path：请求服务器的完整路径，但不包含域名和参数，比如http://www.baidu.com/xxx/yyy/，那么path就是/xxx/yyy/\n",
    "    - 2.method:代表当前请求的HTTP方法，比如是GET还是POST\n",
    "    - 3.GET:一个django.http.request.QueryDict对象，操作起来类似字典。这个属性中包含了所有以?xxx=xxx的方式上传上来的参数。可以用get方法来获取里面的键值\n",
    "        - request.GET.get(\"key\")\n",
    "    - 4.POST:一个django.http.request.QueryDict对象，这个属性中包含了以POST方式上传上来的参数\n",
    "    - 5.FILES:也是一个django.http.request.QueryDict对象，这个属性中包含了所有上传的文件\n",
    "    - 6.COOKIES:一个标准的python字典，包含所有的cookies，键对值都是字符串类型\n",
    "    - 7.session：一个类似于字典的对象，用来操作服务的session\n",
    "    - 8.META：存储的客户端发送上来的所有header信息\n",
    "        - CONTENT_LENGTH:请求的正文的长度（是一个字符串）\n",
    "        - CONTETN_TYPE:请求的正文的MIME类型\n",
    "        - HTTP_ACCEPT:响应可接受的Content_Type类型\n",
    "        - HTTP_ACCEPT_ENCODING:响应可接收的编码\n",
    "        - HTTP_ACCEPT_LANGUAGE:响应可接收的语言\n",
    "        - HTTP_HOST:客户端发送的host值\n",
    "        - HTTP_REFERRER:在访问上一页面的url\n",
    "        - QUERY_STRING:单个字符串形式的查询字符串（未解析过的形式）\n",
    "        - REMOTE_ADDR:客户端的IP地址，如果服务器使用了nginx做反向代理或者负载均衡，那么这个值返回的是127.0.0.1，这时候可以使用HTTP_X_FORWARDED_FOR来获取。如下获取：\n",
    "                if request.META.has_key(\"HTTP_X_FORWARDED_FOR\"):\n",
    "                    ip = request.META('HTTP_X_FORWARDED_FOR')\n",
    "                else:\n",
    "                    ip = request.META('REMOTE_ADDR')\n",
    "        - REMOTE_HOST:客户端的主机名\n",
    "        - REQUEST_METHOD:请求方法，一个字符串类似于GET或者post\n",
    "        - SERVER_NAME:服务器域名\n",
    "        - SERVER_PORT:服务器端口号，是一个字符串类型\n",
    "        \n",
    "### 常用方法\n",
    "- 1.is_secure()：是否采用HTTPS协议\n",
    "- 2.is_ajax():是否采用ajax发送的请求，原理就是判断请求头中是否存在x-Requested-With:XMLHttpRequest\n",
    "- 3.get_host():服务器的域名，如果在访问的时候还有端口号，那么会加上端口号\n",
    "- 4.get_full_path():返回完整的path，如果有查询字符串，还会加上查询字符串,比如：/music/bands/?print=True\n",
    "- 5.get_raw_uri():获取完整的url"
   ]
  },
  {
   "cell_type": "markdown",
   "metadata": {},
   "source": [
    "# queryDict对象\n",
    "- request.GET和request.POST都是querydict对象，这个对象继承自dict，因此用法和dict相差不大，用的比较多的是get和getlist方法\n",
    "    - 1.get方法：用来获取指定key的值，如果没有这个key，那么会返回None，可以给他设置default参数\n",
    "    - 2.getlist：如果浏览器上传上来的key对应的值有多个，那么就需要用这个方法获取"
   ]
  },
  {
   "cell_type": "markdown",
   "metadata": {},
   "source": [
    "# HttpResponse对象\n",
    "- django服务器接收到客户端发送过来的请求后，会将提交上来的这些数据封装成一个HTTPRequest对象传给视图函数，那么视图函数在处理完相关的逻辑后，也需要返回一个响应给浏览器。而这个响应，我们必须返回HTTPResponse或者他的子类的对象。而HTTPResponse则是HTTPResponseBase用的最多的子类\n",
    "\n",
    "## 常用属性\n",
    "- 1.content：返回的内容\n",
    "- 2.status_code：返回的Http响应状态码\n",
    "- 3.content_type：返回的数据 的MIME类型，默认为text/html，浏览器会根据这个属性来显示数据，如果是text/html，那么就会解析这个字符串，如果是text/plain，那么就会显示一个纯文本，常用的Content-Type如下：\n",
    "    - text/html：默认的HTML文件\n",
    "    - text/plain/charset='utf-8'：纯文本\n",
    "    - text/css：css文件\n",
    "    - text/csv:csv文件\n",
    "    - text/javascript：js文件\n",
    "    - multipart/form-data：文件提交\n",
    "    - application/json：json传输\n",
    "    - application/xml:xml文件\n",
    "- 4.设置请求头：response['X-Access-Token'] = 'xxx'\n",
    "\n",
    "## 常用方法\n",
    "- 1.set_cookie：用来设置cookie信息\n",
    "- 2.delete_cookie：用来删除cookie信息\n",
    "- 3.write：HttpResponse是一个类似于文件的对象，可以用来写入数据到数据体（content）中\n"
   ]
  },
  {
   "cell_type": "markdown",
   "metadata": {},
   "source": [
    "# JsonResponse类\n",
    "- 用来将对象dump成json字符串，然后将字符串封装成Response对象返回给浏览器，并且它的Content-Type是application/json\n",
    "- 示例：\n",
    "        from django.http import JsonResponse\n",
    "        def index(request):\n",
    "            return JsonResponse({\"username\":\"xiaoxiao\"})\n",
    "            \n",
    "- 默认情况下，JsonResponse只能对字典进行dump，如果想要对非字典的数据进行dump，那么需要给JsonResponse传递一个safe=False参数\n",
    "- 示例：\n",
    "        from django.http import JsonResponse\n",
    "        lst = ['xiaoxiao', 'taotao']\n",
    "        def index(request):\n",
    "            return JsonResponse(lst, safe=Fasle)"
   ]
  },
  {
   "cell_type": "code",
   "execution_count": null,
   "metadata": {},
   "outputs": [],
   "source": []
  },
  {
   "cell_type": "code",
   "execution_count": null,
   "metadata": {},
   "outputs": [],
   "source": []
  },
  {
   "cell_type": "code",
   "execution_count": null,
   "metadata": {},
   "outputs": [],
   "source": []
  },
  {
   "cell_type": "code",
   "execution_count": null,
   "metadata": {},
   "outputs": [],
   "source": []
  },
  {
   "cell_type": "code",
   "execution_count": null,
   "metadata": {},
   "outputs": [],
   "source": []
  }
 ],
 "metadata": {
  "kernelspec": {
   "display_name": "Python 3",
   "language": "python",
   "name": "python3"
  },
  "language_info": {
   "codemirror_mode": {
    "name": "ipython",
    "version": 3
   },
   "file_extension": ".py",
   "mimetype": "text/x-python",
   "name": "python",
   "nbconvert_exporter": "python",
   "pygments_lexer": "ipython3",
   "version": "3.7.3"
  }
 },
 "nbformat": 4,
 "nbformat_minor": 2
}
