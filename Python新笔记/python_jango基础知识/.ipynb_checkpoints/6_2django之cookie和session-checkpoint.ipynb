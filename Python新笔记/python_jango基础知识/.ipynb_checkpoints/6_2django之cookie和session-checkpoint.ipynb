{
 "cells": [
  {
   "cell_type": "markdown",
   "metadata": {},
   "source": [
    "# cookie和session\n",
    "- 1.cookie：在网站中，HTTP请求是无状态的，即使第一次和服务器连接后并且登录成功后，第二次请求服务器依然不知道当前的请求是哪个用户。cookie的出现就是为了解决这个问题。第一次登录后服务器返回一些数据（cookie）给浏览器，然后浏览器保存到本地，当该用户 发送第二次请求的时候，就会自动把上次请求存储的cookie数据自动的发给服务器，服务器通过浏览器发送的数据就能判断当前用户是哪一个了。cookie存储的数据量有限，不同浏览器有不同的存储大小，但是一般不超过4kb\n",
    "- 2.session：session和cookie的作用类似，都是为了存储用户相关的信息，不同的是，cookie是存储在本地浏览器，session是一个思路，一个概念、一个服务器存储授权信息的解决方案，不同的服务器，不同的框架，不同的语言有不同的实现。虽然实现不一样，但是都是为了让服务器方便的存储数据。session的出现，解决了cookie存储数据不安全的问题\n",
    "- 3.cookie和session结合使用，web开发至今，cookie和session的使用已经出现了非常成熟的方案，在如今的市场或者企业里，一般有两种存储方式\n",
    "    - 存储在服务端：通过cookie存储一个sessionid，然后具体的数据则是保存在session中，如果用户已经登录，则服务器会在cookie中保存一个sessionid，下次再请求的时候，会把该sessionid携带上来，服务器根据sessionid在session库中获取用户的session数据，就能知道该用户是谁，以及之前保存的一些状态信息。这种专业术语叫做server side session。django把session信息默认存储到数据库中，当然也可以存储到其他地方，比如缓存中，文件系统中，存储在服务器的数据会更加安全。但存储在服务器也会有一定的弊端，就是会占用服务器的资源，但现在服务器发展至今，一些session信息还是绰绰有余的\n",
    "    - 将session数据加密，然后存储在cookie中，这种专业术语叫做client side session。flask框架默认采用的就是这种方法。但是也可以换成其他方式"
   ]
  },
  {
   "cell_type": "markdown",
   "metadata": {},
   "source": [
    "# 在django中操作cookie和session\n",
    "## 操作cookie\n",
    "### 设置cookie\n",
    "- 设置cookie是设置给浏览器的，因此需要通过response的对象来设置，设置cookie可以通过response.set_cookie来设置，这个方法的相关参数如下：\n",
    "    - 1.key：这个cookie的key\n",
    "    - 2.value：这个cookie的value\n",
    "    - 3.max_age:最长的生命周期，单位是秒\n",
    "    - 4.expires：过期时间，跟man_age是类似的，只不过这个采纳数需要传递一个具体的日期，比如datetime或者是符合日期格式的字符串。如果同时设置了max_age和expires，将会使用expires\n",
    "    - 5.path：对域名下哪个路径有效，默认是对域名下所有的路径都有效\n",
    "    - 6.domain：针对哪个域名有效，默认是针对主域名下都有效，如果只针对某个子域名才有效，那么可以设置这个属性\n",
    "    - 7.secure：是否是安全的，如果设置为True，那么只能在HTTPS协议下才可以使用\n",
    "    - 8.httponly：默认是False，如果为True，那么在客户端不能通过JavaScript来进行操作\n",
    "\n",
    "### 删除cookie\n",
    "- 通过delete_cookie即可删除cookie，实际上删除cookie就是将指定的cookie值设置为空的字符串，然后将他的过期时间设置为0，也就是浏览器关闭后就过期\n",
    "- response.delete_cookie(\"userid\")\n",
    "\n",
    "### 获取cookie\n",
    "- 获取浏览器发送过来的cookie信息，可以通过request.COOKIES来获取。这个对象是一个字典类型，比如获取所有的cookie"
   ]
  },
  {
   "cell_type": "markdown",
   "metadata": {},
   "source": [
    "## 操作session\n",
    "- django中的session默认情况下是存储在服务器的数据库中的，在表中会根据sessionid来提取指定的session数据，然后再把这个sessionid放到cookie中发送给浏览器存储，浏览器下次在向服务器发送请求的时候会自动的把所有cookie信息都发送给服务器，服务器再从cookie中获取sessionid，然后再从数据库中获取session数据。但是我们在操作session的时候，这些细节就不用管。我们只需要通过request.session即可操作\n",
    "- session常用的方法如下：\n",
    "    - 使用：request.session.方法\n",
    "    - 1.get：用来从session中获取指定值\n",
    "    - 2.pop：从session删除一个值\n",
    "    - 3.keys：从session中获取所有的键\n",
    "    - 4.items：从session中获取所有的值\n",
    "    - 5.clear：清除当前这个用户的session数据\n",
    "    - 6.flush：删除session并且删除在浏览器中存储的sessionid，一般在注销的时候使用得比较多\n",
    "    - 7.set_expiry(value):设置过期时间\n",
    "        - 整型：表示秒数，表示多少秒后过期\n",
    "        - 0：代表只要浏览器关闭，session就会过期\n",
    "        - None：会使用全局的session配置，在settings.py中可以配置SESSION_COOKIE_AGE来配置全局的过期时间。默认是1209600秒，也就是两周的时间\n",
    "    - 8.clear_expired：清除过期的session，django并不会清除过期的session，需要定期手动的清理，或者是在终端，使用python manage.py clearsessions来清除过期的session\n",
    "    \n",
    "    \n",
    "## 修改session的存储机制\n",
    "- 默认情况下，session数据是存储到数据库中，当然也可以将数据存储到其他地方，可以通过设置SEEEION_ENGINE来更改session的存储位置，这个可以配置为以下几种方案：\n",
    "    - 1.django.contrib.sessions.backends.db:使用数据库，默认就是这种方案\n",
    "    - 2.django.contrib.sessions.backend.file：使用文件来存储session\n",
    "    - 3.django.contrib.sessions.backend.cache:使用缓存来存储session，想要将数据存到缓存中，前提是你必须要在settings.py文件中配置好CACHES，并且需要使用Memcached,而不能使用纯内存作为缓存\n",
    "    - 4.django.contrib.sessions.backends.cached_db：在存储数据的时候，会将数据线存到缓存中，再存到数据库中，这样就可以保证万一缓存系统出现问题，session数据也不会丢失。在获取数据的时候，会先从缓存中获取，如果缓存中没有，那么就会从数据库中获取。要在settings.py中配置CACHES和SESSION_ENGINE的值\n",
    "            CACHES = {\n",
    "                'default': {\n",
    "                    'BACKEND': 'django.core.cache.backends.memcached.MemcachedCache',\n",
    "                    'LOCATION': '127.0.0.1:11211',\n",
    "                }\n",
    "            }\n",
    "            SESSION_ENGINE = 'django.contrib.sessions.backends.cached_db'\n",
    "    - 5.django.contrib.session.backends.signed_cookies:将session信息加密后存储到浏览器的cookie中，这种方式要注意安全，建议设置SESSION_COOKIE_HTTPONLY=True，那么在浏览器中不能通过js来操作session数据，并且还需要对settings.py中的SECRET_KEY进行保密，因为一旦别人知道这个SECRET_KEY,那么就可以进行解密。另外就是在cookie中，存储的数据不能超过4kb"
   ]
  },
  {
   "cell_type": "code",
   "execution_count": null,
   "metadata": {},
   "outputs": [],
   "source": []
  },
  {
   "cell_type": "code",
   "execution_count": null,
   "metadata": {},
   "outputs": [],
   "source": []
  },
  {
   "cell_type": "code",
   "execution_count": null,
   "metadata": {},
   "outputs": [],
   "source": []
  },
  {
   "cell_type": "code",
   "execution_count": null,
   "metadata": {},
   "outputs": [],
   "source": []
  }
 ],
 "metadata": {
  "kernelspec": {
   "display_name": "Python 3",
   "language": "python",
   "name": "python3"
  },
  "language_info": {
   "codemirror_mode": {
    "name": "ipython",
    "version": 3
   },
   "file_extension": ".py",
   "mimetype": "text/x-python",
   "name": "python",
   "nbconvert_exporter": "python",
   "pygments_lexer": "ipython3",
   "version": "3.7.3"
  }
 },
 "nbformat": 4,
 "nbformat_minor": 2
}
