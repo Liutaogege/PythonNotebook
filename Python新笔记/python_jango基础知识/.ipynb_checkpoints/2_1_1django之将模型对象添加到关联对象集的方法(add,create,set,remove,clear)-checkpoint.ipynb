{
 "cells": [
  {
   "cell_type": "markdown",
   "metadata": {},
   "source": [
    "# add(*objs, bulk=True, through_defaults=None)\n",
    "- 将指定的模型对象添加到关联对象集\n",
    "- 举例代码：\n",
    "        b = Blog.objects.get(id=1)\n",
    "        e = Entry.objects.get(id=2)\n",
    "        another_e = Entry(...) #创建一个新的对象\n",
    "        b.entry_set.add(e)\n",
    "        b.entry_set.add(another_e, bulk=False)\n",
    "- 说明：\n",
    "    - bulk默认为True，当它为True时，就会调用QuerySet.update()更新数据，但是这个要求对象事先已经被保存在数据库内了。也就是说，上面获取的e已经在数据库中存在了。而another_e是新创建的，并未保存在数据库中，所以需要设置bulk=False,那么此时关系管理器就会通过another_e.save()来执行更新操作\n",
    "    - 但是在多对多关系中使用add，并不会调用任何save()方法（因为bulk参数不存在），，而是使用QuerySet.bulk_create()创建关系。如果需要在创建关系时执行一些自定义逻辑，可以监听m2m_changed信号，它将触发pre_add和post_add动作。对于多对多关系来说，add()接受模型实例或字段值，通常是主键，作为*objs参数；如果需要的话，可以使用through_defaults参数作为新的中间模型实例指定值，可以使用可调用对象作为through_defaults字典中的值，它们将在创建任何中间实例之前被执行一次。具体详见：django官方文档中多对多关联\n",
    "    - 在已经存在的关系上使用add()不会重复关系，但是仍然会触发信号\n",
    "    \n",
    "# create(through_defaults=None, **kwargs)\n",
    "- 创建一个新的对象，将其保存并放入关联对象集，并返回新创建的对象\n",
    "- 举例代码：\n",
    "        b = Blog.objects.get(id=1)\n",
    "        e = b.entry_set.create(headline=\"hello\", body_text=\"hi\"...)\n",
    "        上述代码相当于如下代码：但是更简单(它也相当于add添加一个新创建对象的简化版)\n",
    "        b = Blog.objects.get(id=1)\n",
    "        e = Entry(blog=b, headline=\"hello\", body_text=\"hi\"...)\n",
    "        e.save(force_insert=True)\n",
    " \n",
    " \n",
    " # remove(*objs, bulk=True)\n",
    " - 从关联对象集中删除指定的模型对象\n",
    " - 举例代码：\n",
    "         b = Blog.objects.get(id=1)\n",
    "         e = Entry.objects.get(id=2)\n",
    "         b.entry_set.remove(e)\n",
    " - 说明：\n",
    "     - 与add类似，上面的代码调用e.save()来执行更新，但是，多对多关系使用remove()，将使用QuerySet.delete()删除关系，这意味着没有调用模型save()方法，如果想在删除关系时执行自定义代码，请监听m2m_changed信号\n",
    "     - 对于多对多关系，bulk参数不存在，remove()接受模型实例或字段值，通常是主键，作为*objs参数\n",
    "     - 对于ForeignKey对象，只有当null=True时，这个方法才存在，如果相关字段不能设置为None(NULL)，那么一个对象就不能从一个关系中删除而不被添加到另一个关系中。在上面的代码中，从b.entry_set()中删除e相当于做了e.blog=None，由于blogForeignKey没有设置爱null=True，所以这是无效的\n",
    "     - 对于ForeignKey对象，这个方法接受一个bulk参数来控制如何执行操作，如果bulk=True（默认），则使用QuerySet.update()。如果bulk=False，则调用每个单独模型实例的save()方法。这将触发pre_save和post_save信号，并以牺牲性能为代价\n",
    " \n",
    " \n",
    " \n",
    " # clear(bulk=True)\n",
    " - 从关联对象集中删除所有对象\n",
    " - 示例代码：\n",
    "         b = Blog.objects.get(id=1)\n",
    "         b.entry_set.clear()       \n",
    " - 说明：\n",
    "     - 注意这个并不会删除相关的对象——只是将它们脱离关联\n",
    "     - 和remove一样，clear()只在ForeignKey上可用，其中null=True，而且它还接受bulk关键字参数\n",
    "     - 多对多关系bulk参数不存在\n",
    " \n",
    " \n",
    " \n",
    " # set(objs, bulk=True, clear=False,through_defaults=None)\n",
    " - 替换一组关联对象\n",
    " - 示例代码：\n",
    "         new_list = [obj1, obj2, obj3]\n",
    "         e.related_set.set(new_list)\n",
    " - 说明\n",
    "     - 本方法接受一个clear参数来控制如何执行操作，如果clear=False(默认),则使用remove()来删除新集合中以存在于老集合中的对象，只添加新对象，如果clear=True，则一次性添加整个集合\n",
    "     - 对于ForeignKey对象，bulk参数被传递给add()和remove()\n",
    "     - 多对多关系，bulk关键字参数不存在\n",
    "     - 由于set()是一个复合操作，它受到竞争条件的影响，在调用clear和调用add之间可能hi向数据库中添加新的对象"
   ]
  },
  {
   "cell_type": "code",
   "execution_count": null,
   "metadata": {},
   "outputs": [],
   "source": []
  }
 ],
 "metadata": {
  "kernelspec": {
   "display_name": "Python 3",
   "language": "python",
   "name": "python3"
  },
  "language_info": {
   "codemirror_mode": {
    "name": "ipython",
    "version": 3
   },
   "file_extension": ".py",
   "mimetype": "text/x-python",
   "name": "python",
   "nbconvert_exporter": "python",
   "pygments_lexer": "ipython3",
   "version": "3.7.3"
  }
 },
 "nbformat": 4,
 "nbformat_minor": 2
}
