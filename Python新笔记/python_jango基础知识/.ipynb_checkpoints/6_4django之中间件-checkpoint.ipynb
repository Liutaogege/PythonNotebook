{
 "cells": [
  {
   "cell_type": "markdown",
   "metadata": {},
   "source": [
    "# 中间件\n",
    "- 中间件是在request和response处理过程中的一个插件，比如在request到达视图函数之前，我们可以使用中间件来做一些相关的事情，比如可以判断当前这个用户有没有登录，如果登录了，就绑定一个user对象到request上，也可以在response到达浏览器之前，做一些相关的处理，比如想要统一在response上设置一些cookie信息等。\n",
    "\n",
    "# 自定义中间件\n",
    "- 中间件所处的位置没有规定，只要是放到项目当中即可。一般分为两种情况，如果中间件是属于某个APP的，那么可以在这个APP下面创建一个python文件用来存放这个中间件，也可以专门创建一个python包，用来存放本项目的所有中间件，创建中间件有两种方式一种是使用函数，一种是使用类\n",
    "\n",
    "## 使用函数的中间件\n",
    "- 示例：\n",
    "        def simple_middlew(get_response):\n",
    "            #这个中间件初始前的代码\n",
    "            def middleware(request):\n",
    "            # request到达view执行的代码\n",
    "            resposne = get_response(request)\n",
    "            # response到达浏览器之前执行的代码\n",
    "            return response\n",
    "        return middleware\n",
    "        \n",
    "        \n",
    "## 使用类的中间件\n",
    "- 示例\n",
    "        class SimpleMiddleware(object)：\n",
    "            def __init__(self_response):\n",
    "                self.get_response = get_response\n",
    "                \n",
    "## 有一种老方法\n",
    "- 类MiXin的方法，已被遗弃，了解即可"
   ]
  },
  {
   "cell_type": "markdown",
   "metadata": {},
   "source": [
    "# django内置的中间件\n",
    "- 1.django.middleware.common.CommonMiddleware:通用中间件，作用如下：\n",
    "    - 限制settings.DISALLOWED_USER_AGENTS中指定的请求头来访问本网站，DIALLOWED_USER_AGENT是一个正则表达式的列表\n",
    "        - 示例\n",
    "                import re\n",
    "                DISALLOWED_USER_AGENT = [ \n",
    "                re.compile(r'^\\s$|^$'),\n",
    "                re.compile(r'.*PhantomJS.*')\n",
    "        - 如果开发者在定义url的时候，最后有一个斜杠，但是用户在访问的时候没有这个提交这个斜杠，那么CommonMiddleware会自动的重定向到加了斜杠的url上去\n",
    "- 2,django.middleware.gzip.GZipMiddleware:将响应的数据进行压缩，如果内容长度少于200个长度，就不压缩\n",
    "- 3.django.contrib.messages.milleware.MessageMiddleware：消息处理相关的中间件。\n",
    "- 4.django.middleware.security.SecurityMiddleware：做了一些安全处理的中间件，比如设置xss防御的请求头，比如做了HTTP协议转HTTPS协议的工作等\n",
    "- 5.django.contrib.session.middleware.SessionMiddleware：session中间件，会给request添加一个处理好的session对象，\n",
    "- 6.django.contrib.auth.middleware.AuthenticationMiddleware:会给request添加一个处理好的user对象的中间件\n",
    "- 7.django.middleware.csrf.CsrfViewMiddleware:CSRF保护的中间件\n",
    "- 8.django.middleware.clickjacking.XFrameOptionsMiddleware:做了clickjacking攻击的保护。clickjacking保护是攻击者在自己的病毒网站上，写一个诱惑用户点击的按钮，然后使用iframe的方式将受攻击的网站（比如银行网站)加载到自己的网站上去，并将其设置为透明的，用户就看不到，然后再把受攻击的网站的转账按钮定位到病毒网站按钮上，这样用户在点击病毒网站上按钮的时候，实际上点击的是受攻击的网站（比如银行网站）上的按钮，从而实现了在不知不觉中给攻击者转账的功能\n",
    "- 9.缓存中间件：用来缓存一些页面的\n",
    "    - django.middleware.cache.UpdateCacheMiddleware\n",
    "    - django.middleware.cache.FetchFromCacheMiddleware"
   ]
  },
  {
   "cell_type": "markdown",
   "metadata": {},
   "source": [
    "# 内置中间件放置的顺序\n",
    "- 1.SecurityMiddleware：应该放到最前面，因为这个中间件并不需要依赖任何其他的中间件，如果你的网站同时支持HTTP协议和HTTPS协议，并且你想让用户在使用HTTP协议的时候重定向到HTTPS协议，那么就没必要让他执行下面一大串中间件再重定向，这样效率更高\n",
    "- 2.UpdateCacheMiddleware：应该在SessionMIddleware，GzipMiddleware，LocaleMiddleware之前\n",
    "- 3.GzipMiddleware\n",
    "- 4.ConditionalGetMiddleware\n",
    "- 5.SessionMiddleware\n",
    "- 6.LocaleMiddleware：\n",
    "- 7.CommonMiddleware\n",
    "- 8.CsrfViewMiddleware\n",
    "- 9.AuthenticationMiddleware\n",
    "- 10.MessageMiddleware\n",
    "- 11.FetchFromCacheMiddleware\n",
    "- 12.FlatpageFallbackMiddleware\n",
    "- 12.RedirectFallbackMiddleware"
   ]
  },
  {
   "cell_type": "code",
   "execution_count": null,
   "metadata": {},
   "outputs": [],
   "source": []
  },
  {
   "cell_type": "code",
   "execution_count": null,
   "metadata": {},
   "outputs": [],
   "source": []
  },
  {
   "cell_type": "code",
   "execution_count": null,
   "metadata": {},
   "outputs": [],
   "source": []
  },
  {
   "cell_type": "code",
   "execution_count": null,
   "metadata": {},
   "outputs": [],
   "source": []
  },
  {
   "cell_type": "code",
   "execution_count": null,
   "metadata": {},
   "outputs": [],
   "source": []
  },
  {
   "cell_type": "code",
   "execution_count": null,
   "metadata": {},
   "outputs": [],
   "source": []
  }
 ],
 "metadata": {
  "kernelspec": {
   "display_name": "Python 3",
   "language": "python",
   "name": "python3"
  },
  "language_info": {
   "codemirror_mode": {
    "name": "ipython",
    "version": 3
   },
   "file_extension": ".py",
   "mimetype": "text/x-python",
   "name": "python",
   "nbconvert_exporter": "python",
   "pygments_lexer": "ipython3",
   "version": "3.7.3"
  }
 },
 "nbformat": 4,
 "nbformat_minor": 2
}
