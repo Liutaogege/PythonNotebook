{
 "cells": [
  {
   "cell_type": "markdown",
   "metadata": {},
   "source": [
    "- 权限有很多，一个模型最少有三个权限，如果一些用户拥有相同的权限，那么每次都要重复添加，这时候分组就可以帮我们解决这个问题。可以把一些权限归类，然后添加到某个分组中，之后再把这些权限需要赋予的用户添加到这个分组中，就比较好管理了。分组我们使用的是django.contrib.auth.models.group模型。每个用户组拥有id和name两个字段，该模型在数据库中被映射为auth_group数据表\n",
    "\n",
    "# 分组操作\n",
    "- 1.Group.object.create(group name):创建分组\n",
    "- 2.group.permission:某个分组上的权限，多对多的关系\n",
    "    - group.permission.add:添加权限\n",
    "    - group.permission.remove:移除权限\n",
    "    - group.permission.clear:清除所有权限\n",
    "    - group.get_group_permissions():获取用户所属组的权限\n",
    "- 3.user.groups：某个用户上的所有分组，多对多的关系\n",
    "\n",
    "\n",
    "# 在模板中使用权限\n",
    "- 在settings.TEMPLATES.OPTIONS.context_processors下，因为添加了django.contrib.context_processors.auth上下文处理器，因此在模板中可以直接通过perms来获取用户的所有权限\n",
    "- 也就是当用户有这个权限时，才展示这个链接，否则不会显示该链接\n",
    "        {% if perms.front.add_magazine %}\n",
    "            <a href=\"#\">添加文章</a>\n",
    "        {% endif %}\n"
   ]
  }
 ],
 "metadata": {
  "kernelspec": {
   "display_name": "Python 3",
   "language": "python",
   "name": "python3"
  },
  "language_info": {
   "codemirror_mode": {
    "name": "ipython",
    "version": 3
   },
   "file_extension": ".py",
   "mimetype": "text/x-python",
   "name": "python",
   "nbconvert_exporter": "python",
   "pygments_lexer": "ipython3",
   "version": "3.7.3"
  }
 },
 "nbformat": 4,
 "nbformat_minor": 2
}
