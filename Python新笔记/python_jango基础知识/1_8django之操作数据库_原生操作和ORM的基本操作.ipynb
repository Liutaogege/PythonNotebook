{
 "cells": [
  {
   "cell_type": "markdown",
   "metadata": {},
   "source": [
    "# 数据库的安装\n",
    "- 数据库主要有四款\n",
    "    - MySQL-python：python2\n",
    "    - mysqlclient：推荐使用\n",
    "    - pymysql：使用纯python代码编写，因此执行效率不高\n",
    "    - MySQL Connector/Python 官方开发的，\n",
    "- 进入虚拟环境，安装：pip install mysqlclient"
   ]
  },
  {
   "cell_type": "markdown",
   "metadata": {},
   "source": [
    "# 操作数据库\n",
    "- Django配置连接数据库\n",
    "- 在操作数据库之前，首先要连接数据库。连接数据库不需要单独创建一个连接，只需在settings.py文件中做好数据库的配置即可\n",
    "\n",
    "# 在Django中操作数据库\n",
    "- 在Django中有两种方式操作数据库：第一种：使用原生的sql语句，第二种使用ORM模型来操作\n",
    "## 操作数据库的第一种方式：\n",
    "- 使用原生的sql语句就是使用python db api的接口来操作，如果你的MySQL驱动使用的是pymysql，那么你就是使用pymysql来操作的。只不过Django将数据库连接的这一部分封装好了，所以只需在settings.py中配置数据库连接信息后直接使用Django封装好的接口即可操作\n",
    "- 配置信息如下\n",
    "        ATABASES = {\n",
    "        'default': {\n",
    "            'ENGINE': 'django.db.backends.mysql',\n",
    "            'NAME': 'django_one', # 连接数据库的名字，注意:在MySQL表中由上到下的是：连接名，数据库名，表名\n",
    "            'USER': 'root',\n",
    "            'PASSWORD': 'xxx',\n",
    "            'PORT': '3306'\n",
    "        }\n",
    "    }\n",
    "- 在views视图文件中定义cursor\n",
    "        from django.db import connection\n",
    "        cursor = connection.cursor()\n",
    "        sqp = \"insert into book_info(id, book_name, book_author) values (null,'%s', '%s')\" % (book_name, book_author)\n",
    "        cursor.execute(sql)\n",
    "\n",
    "- 关于封装接口的使用在python DB API中都是规范好了的，需要遵循该规范：https://www.python.org/dev/peps/pep-0249/\n",
    "\n",
    "### Python DB API下规范下cursor对象常用接口\n",
    "- 1.description:如果cursor执行了查询的SQL代码，那么读取cursor.description属性的时候，将返回一个列表，列表中是元组，分别是（name, type_code, display_size, internal_size, precision, scale, null_ok),其中name表示的是查找处理的数据的字段名称，其他参数暂时用处不大\n",
    "- 2.rowcount:表示执行了sql语句后受影响的行数\n",
    "- 3.close：关闭游标，关闭后不能在使用\n",
    "- 4.execute（sql[,parameters]）:执行某个sql语句，如果在执行sql语句的时候还需要传递参数，那么可以传递给parameters\n",
    "- 5.fetchone:执行查询操作后，获取第一条数据\n",
    "- 6.fetchmany(size):指定获取多少条数据，不指定默认一条\n",
    "- 7.fetchall：获取所有满足语句的数据"
   ]
  },
  {
   "cell_type": "markdown",
   "metadata": {},
   "source": [
    "## 操作数据库的第二种方式\n",
    "## ORM模型\n",
    "- 介绍：全称object relation Mapping，对象关系映射，通过ORM我们可以通过类的方式去操作数据库，而不用再写原生的SQL语句，通过把表映射成类，把行作实例，把字段作为属性，ORM在执行对象操作的时候最终还是会把对应的操作转换为数据库的原生语句\n",
    "- 优点：\n",
    "    - 1.易用性，减少SQL语句\n",
    "    - 2.性能损耗小ORM转换成底层数据库操作指定确实会有一些开销，但很小，且项目越大带来的好处远远大于性能损耗\n",
    "    - 3.设计灵活\n",
    "    - 4.可移植性：django封装了底层的数据库实现，支持多个关系数据库引擎，包括MySQL，postgresql和sqlite，可以很方便的切换数据库"
   ]
  },
  {
   "cell_type": "markdown",
   "metadata": {},
   "source": [
    "## 创建ORM模型\n",
    "- ORM模型一般都是放在APP的models.py文件中，每个APP都可以拥有自己的模型，并且如果这个模型想要映射到数据库中，那么这个APP必须要放在settings.py的INSTALLED_APP中进行安装\n",
    "- 示例：\n",
    "        from django.db import models\n",
    "        # 一个普通的类变成一个可以映射到数据库汇总的ORM模型，必须要继承models.Model\n",
    "        class PersonInfo(models.Model):\n",
    "            # id是int类型，是自增长的\n",
    "            id = models.AutoField(primary_key=True, null=False)\n",
    "            name = models.CharField(max_length=50, null=False)\n",
    "            age = models.IntegerField(null=False, default=0)\n",
    "            #使用makegirations生成迁移脚本文件\n",
    "            #使用python manage.py migrate将新生成的迁移脚本文件映射到数据库中\n",
    "\n",
    "- 以上示例就定义好了一个模型，这个模型继承自django.db.models.Model，如果这个模型想要映射到数据库中，就必须继承自这个类。模型映射到数据库中以后，表名是模型名称的小写形式，为book。id字段是模型自动生成的（如果没有定义主键的话）\n",
    "\n",
    "## 映射模型到数据库中\n",
    "- 将ORM模型映射到数据库，总结起来有如下几步：\n",
    "    - 1.在settings.py中，配置好DATABASES,做好相关数据库的配置\n",
    "    - 2.在APP中的models.py中定义好模型，这个模型必须继承自django.db.models\n",
    "    - 3.将这个APP添加到settings.py的INSTALLED_APP中\n",
    "    - 4.在命令行终端，进入到项目所在的路径，执行命令：python manage.py makemigrations 来生成迁移脚本文件\n",
    "    - 5.同样在命令行中，执行命令python manage.py migrate来将迁移脚本文件映射到数据库中\n",
    "    "
   ]
  },
  {
   "cell_type": "markdown",
   "metadata": {},
   "source": [
    "# ORM对数据库的基本操作\n",
    "- 添加数据\n",
    "    - 只要使用ORM模型创建一个对象，然后对象使用save方法即可\n",
    "        - person = PersonInfo(name='jiaojiao', age=23)\n",
    "        - person.save()\n",
    "- 查询数据\n",
    "    - 所有查找工作都是使用模型上的objects属性来完成的，当然也可以自定义查询对象\n",
    "    - 第一种方式：使用主键查找，使用  ORM模型名.objects.get方法，然后传递pk=xx参数，pk的含义是primary_key\n",
    "    result = Per\n",
    "    - 第二种方式：根据其他字段进行查找，使用  ORM模型名.objects.filter(字段名=xxx)，该方式返回的是一个列表\n",
    "- 删除数据\n",
    "    - 先查询到数据，然后使用result.delete()即可\n",
    "- 修改数据\n",
    "    - 先查询到数据，然后使用result.属性 = new_value即可，即重新赋值"
   ]
  },
  {
   "cell_type": "markdown",
   "metadata": {},
   "source": []
  },
  {
   "cell_type": "code",
   "execution_count": null,
   "metadata": {},
   "outputs": [],
   "source": []
  },
  {
   "cell_type": "code",
   "execution_count": null,
   "metadata": {},
   "outputs": [],
   "source": []
  },
  {
   "cell_type": "code",
   "execution_count": null,
   "metadata": {},
   "outputs": [],
   "source": []
  },
  {
   "cell_type": "code",
   "execution_count": null,
   "metadata": {},
   "outputs": [],
   "source": []
  }
 ],
 "metadata": {
  "kernelspec": {
   "display_name": "Python 3",
   "language": "python",
   "name": "python3"
  },
  "language_info": {
   "codemirror_mode": {
    "name": "ipython",
    "version": 3
   },
   "file_extension": ".py",
   "mimetype": "text/x-python",
   "name": "python",
   "nbconvert_exporter": "python",
   "pygments_lexer": "ipython3",
   "version": "3.7.3"
  }
 },
 "nbformat": 4,
 "nbformat_minor": 2
}
