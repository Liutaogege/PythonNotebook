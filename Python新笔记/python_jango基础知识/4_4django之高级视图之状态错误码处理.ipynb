{
 "cells": [
  {
   "cell_type": "markdown",
   "metadata": {},
   "source": [
    "# 错误处理\n",
    "- 在一些网站开发中，经常hi需要捕获一些错误，然后将这些错误返回比较优美的界面，或是将这个错误的请求做一些日志保存。\n",
    "\n",
    "# 常用的错误代码\n",
    "- 404：服务器没有指定的url\n",
    "- 403：没有权限访问相关的数据\n",
    "- 405：请求的method错误\n",
    "- 400：bad request，请求的参数错误\n",
    "- 500：服务器内部错误，一般是代码出bug了\n",
    "- 502：一般部署的时候见得比较多，一般是nginx启动了，然后uwsgi有问题\n",
    "\n",
    "# 自定义错误模板\n",
    "- 若遇到类似400,500的错误，想要返回自己定义的模板，那么可以直接在templates文件夹下创建相应错误代码的HTML模板文件。那么以后发生相应的错误后，会将指定的模板返回回去\n",
    "- 不过先要在settings.py文件中把DEBUG=True改为False,否则不会执行你定义的错误模板文件，以及修改ALLOWED_HOST=['127.0.0.1']\n",
    "- 模板名必须为错误状态码的名字，不能命名为其他名字，否则django不会自动读取它\n",
    "- 还可以单独创建一个包来放置这些处理错误的模板文件\n",
    "    - 1.在项目目录下创建一个errors的包，\n",
    "    - 2.在包中创建一个templates的文件夹，同时创建urls.py、views.py文件。\n",
    "    - 3.在templates文件夹下继续创建一个errors的文件夹，\n",
    "    - 4.把除了404之外的子定义的错误处理模板放到这个errors文件夹中去。\n",
    "    - 5.把errors这个APP注册到settings.py文件中的INSTALLED_APPS中去。\n",
    "    - 6.等到需要抛出这些错误时，就可以从定向到这个文件夹下，注意路径\n",
    "\n"
   ]
  },
  {
   "cell_type": "code",
   "execution_count": null,
   "metadata": {},
   "outputs": [],
   "source": []
  },
  {
   "cell_type": "code",
   "execution_count": null,
   "metadata": {},
   "outputs": [],
   "source": []
  },
  {
   "cell_type": "code",
   "execution_count": null,
   "metadata": {},
   "outputs": [],
   "source": []
  },
  {
   "cell_type": "code",
   "execution_count": null,
   "metadata": {},
   "outputs": [],
   "source": []
  },
  {
   "cell_type": "code",
   "execution_count": null,
   "metadata": {},
   "outputs": [],
   "source": []
  }
 ],
 "metadata": {
  "kernelspec": {
   "display_name": "Python 3",
   "language": "python",
   "name": "python3"
  },
  "language_info": {
   "codemirror_mode": {
    "name": "ipython",
    "version": 3
   },
   "file_extension": ".py",
   "mimetype": "text/x-python",
   "name": "python",
   "nbconvert_exporter": "python",
   "pygments_lexer": "ipython3",
   "version": "3.7.3"
  }
 },
 "nbformat": 4,
 "nbformat_minor": 2
}
