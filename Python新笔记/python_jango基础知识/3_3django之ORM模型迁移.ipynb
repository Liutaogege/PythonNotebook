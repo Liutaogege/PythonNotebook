{
 "cells": [
  {
   "cell_type": "markdown",
   "metadata": {},
   "source": [
    "# 迁移命令\n",
    "- 1.makemigrations：将模型生成迁移脚本，模型所在的APP必须放在settings.py中的INSTALLED_APPS中，此命令有以下几个常用选项\n",
    "    - app_label:后面可以跟一个或者多个APP，那么就只会对这几个APP生成迁移脚本，如果没有任何的app_label，那么会检查INSTALLED_APPS中所有的APP下的模型，针对每一个APP都生成相应的迁移脚本\n",
    "    - --name:给这个迁移脚本指定一个名字\n",
    "    - --empty：生成一个空的迁移脚本，如果你想写自己的脚本，可以使用这个命令来实现一个空的文件，然后再在文件汇总写迁移脚本\n",
    "- 2.migrate：将新的生成的迁移脚本，映射到数据库中，创建新的表或者修改表的结构，以下一些常用的选项\n",
    "    - app_label：将某个APP下的迁移脚本映射到数据库中，如果没有指定，那么会将所有在INSTALLED_APPS中的APP下的模型都映射到数据库中\n",
    "    - app_label migrationname:将某个APP下指定名字的migrations文件映射到数据库中\n",
    "    - --fake：可以将指定的迁移脚本名字添加到数据库中，但是并不会把迁移脚本转换为SQL语句来修改数据库中的表,比如：python manage.py migrate app名字 --fake\n",
    "    - --fake-initial：将第一次生成的迁移文件版本号记录在数据库中，但并不会真正的执行迁移脚本\n",
    "- 3.showmigrations：查看某个APP下的迁移文件，如果后面没有APP，那么将查看INSTALLED_APPS中所有的迁移文件\n",
    "- 4.sqlmigrate：查看某个迁移文件在映射到数据库中的时候，转换的SQL语句\n",
    "- 关于迁移脚本更多信息，查看文档：https://docs.djangoproject.com/en/3.0/topic/migrations\n",
    "\n",
    "## migrate\n",
    "- 工作原理：\n",
    "    - 1.将相关的迁移脚本翻译成SQL语句，在数据库中执行这个SQL语句\n",
    "    - 2.如果这个SQL语句执行没有问题，那么就会将这个迁移脚本的名字记录到“django_migrations”中\n",
    "- migrate如何判断哪些迁移脚本需要执行\n",
    "    - 它会将代码中的迁移脚本和数据库中的django_migrations中的迁移脚本进行对比，如果发现数据库中，没有这个迁移脚本，那么就会执行这个迁移脚本"
   ]
  },
  {
   "cell_type": "markdown",
   "metadata": {},
   "source": [
    "# 执行migrate命令的时候报错的解决办法\n",
    "## 原因\n",
    "- 执行migrate命令会报错的原因是，数据库中的django_migrations表中的迁移版本记录和代码中的迁移脚本不一致导致的\n",
    "\n",
    "## 解决办法\n",
    "- 第一种：使用--fake参数\n",
    "    - 首先对比数据库中的迁移脚本和代码中的迁移脚本，然后找到哪个不同，之后再使用--fake将代码中的迁移脚本添加到diango_migrations中，但是并不会执行SQL语句，这样就可以避免每次执行migrate的时候，都执行一些重复的迁移脚本\n",
    "- 第二种：究极解决办法\n",
    "    - 如果代码中的迁移脚本和数据库中的迁移脚本实在太多，已经搞不清了，那么这时候就可以像这样做：\n",
    "        - 1.将之前的迁移脚本都删除，重新来过，同时要保证出问题的APP下的所有模型字段名和数据库中的一致\n",
    "        - 2.将出问题的APP下的所有迁移脚本文件都删掉，再在django_migrations表中将出问题的APP相关的迁移记录都删掉\n",
    "        - 3.使用makemigrations，重新生成一个迁移脚本\n",
    "        - 4.使用migrate --fake initial参数，将刚刚生成的迁移脚本，标记为已完成（因为这些模型对应的表，其实都已经在数据库中存在了，不需要再映射了）。然后就可以做其他的迁移了"
   ]
  },
  {
   "cell_type": "code",
   "execution_count": null,
   "metadata": {},
   "outputs": [],
   "source": []
  },
  {
   "cell_type": "code",
   "execution_count": null,
   "metadata": {},
   "outputs": [],
   "source": []
  },
  {
   "cell_type": "code",
   "execution_count": null,
   "metadata": {},
   "outputs": [],
   "source": []
  },
  {
   "cell_type": "code",
   "execution_count": null,
   "metadata": {},
   "outputs": [],
   "source": []
  }
 ],
 "metadata": {
  "kernelspec": {
   "display_name": "Python 3",
   "language": "python",
   "name": "python3"
  },
  "language_info": {
   "codemirror_mode": {
    "name": "ipython",
    "version": 3
   },
   "file_extension": ".py",
   "mimetype": "text/x-python",
   "name": "python",
   "nbconvert_exporter": "python",
   "pygments_lexer": "ipython3",
   "version": "3.7.3"
  }
 },
 "nbformat": 4,
 "nbformat_minor": 2
}
