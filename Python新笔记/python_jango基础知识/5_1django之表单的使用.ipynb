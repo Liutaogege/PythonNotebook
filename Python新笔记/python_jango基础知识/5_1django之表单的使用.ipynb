{
 "cells": [
  {
   "cell_type": "markdown",
   "metadata": {},
   "source": [
    "# 表单\n",
    "\n",
    "# HTML中的表单\n",
    "- 单纯从前端的HTML来说，表单就是提交数据给服务器的，不管后台的服务器用的是django还是PHP语言还是其他，只要是input标签放在form标签中，然后再添加一个提交按钮，那么提交按钮按下以后就可以将input标签中对应的值提交给服务器了\n",
    "\n",
    "# django中的表单\n",
    "- django中的表单丰富了传统的表单，在django中的表单，主要做以下两件事\n",
    "    - 1.渲染表单\n",
    "    - 2.表单验证数据是否合法\n",
    "    \n",
    "# django中表单使用流程\n",
    "- 1.首先在后台服务器定义一个表单类，继承自django.forms.Form\n",
    "- 2.然后在视图中，定义类视图来根据GET还是POST请求来做相应的操作，如果是get请求，那me返回一个空的表单，如果是post请求，那么将提交上来的数据进行校验\n",
    "- 3.在使用get请求的时候，我们传了一个form给模板，那么以后模板就可以使用form来生成一个表单里的HTML代码。在使用post请求的时候，我们根据前端上传上来的数据，构建一个新的表单。这个表单是用来验证数据是否合法。如果数据都验证通过了。那么我们可以通过cleand_data来获取对应的数据。\n",
    "- 4.在最外面给了一个form标签，然后在里面使用了table标签来进行美化。在使用form对象渲染的时候，使用的是table的方式，即as_table，还可以使用as_ul，也可以使用as_p，在后面还添加了一个提交按钮"
   ]
  },
  {
   "cell_type": "code",
   "execution_count": null,
   "metadata": {},
   "outputs": [],
   "source": [
    "# forms.py文件\n",
    "from django import forms\n",
    "\n",
    "class MessageBoardForm(forms.Form):\n",
    "    title = forms.CharField(max_length=100, min_length=2, label=\"标题\", error_messages={'min_length': \"标题长度不能小于2\"})\n",
    "    content = forms.CharField(widget=forms.Textarea, label=\"内容\",  error_messages={'required': \"内容不能为空\"})\n",
    "    email = forms.EmailField(label=\"邮件\")\n",
    "    reply = forms.BooleanField(required=False, label=\"是否回复\")\n",
    "    # 不一定要求回复"
   ]
  },
  {
   "cell_type": "code",
   "execution_count": null,
   "metadata": {},
   "outputs": [],
   "source": [
    "# views.py文件\n",
    "from django.shortcuts import render\n",
    "from django.views.generic.base import View\n",
    "from .forms import MessageBoardForm\n",
    "from django.http import  HttpResponse\n",
    "\n",
    "# Create your views here.\n",
    "class IndexView(View):\n",
    "    def get(self, request):\n",
    "        form = MessageBoardForm()\n",
    "        return render(request, 'index.html', context={\"form\": form})\n",
    "\n",
    "    def post(self, request):\n",
    "        form = MessageBoardForm(request.POST)\n",
    "        if form.is_valid():\n",
    "            title = form.cleaned_data.get('title')\n",
    "            content = form.cleaned_data.get(\"content\")\n",
    "            email = form.cleaned_data.get(\"email\")\n",
    "            reply = form.cleaned_data.get(\"reply\")\n",
    "            print(title)\n",
    "            return HttpResponse(\"成功执行\")\n",
    "        else:\n",
    "            print(form.errors.get_json_data())\n",
    "            return HttpResponse(\"操作失败\")\n"
   ]
  },
  {
   "cell_type": "raw",
   "metadata": {},
   "source": [
    "# 模板文件\n",
    "<!DOCTYPE html>\n",
    "<html lang=\"en\">\n",
    "<head>\n",
    "    <meta charset=\"UTF-8\">\n",
    "    <title>留言板</title>\n",
    "</head>\n",
    "<body>\n",
    "<form action=\"\" method=\"post\">\n",
    "    <fieldset>\n",
    "        <table>\n",
    "            {{ form.as_table }}\n",
    "            <tr>\n",
    "                <td></td>\n",
    "                <td><input type=\"submit\" value=\"提交\"></td>\n",
    "            </tr>\n",
    "        </table>\n",
    "    </fieldset>\n",
    "</form>\n",
    "</body>\n",
    "</html>"
   ]
  },
  {
   "cell_type": "code",
   "execution_count": null,
   "metadata": {},
   "outputs": [],
   "source": []
  },
  {
   "cell_type": "code",
   "execution_count": null,
   "metadata": {},
   "outputs": [],
   "source": []
  },
  {
   "cell_type": "code",
   "execution_count": null,
   "metadata": {},
   "outputs": [],
   "source": []
  },
  {
   "cell_type": "code",
   "execution_count": null,
   "metadata": {},
   "outputs": [],
   "source": []
  }
 ],
 "metadata": {
  "kernelspec": {
   "display_name": "Python 3",
   "language": "python",
   "name": "python3"
  },
  "language_info": {
   "codemirror_mode": {
    "name": "ipython",
    "version": 3
   },
   "file_extension": ".py",
   "mimetype": "text/x-python",
   "name": "python",
   "nbconvert_exporter": "python",
   "pygments_lexer": "ipython3",
   "version": "3.7.3"
  }
 },
 "nbformat": 4,
 "nbformat_minor": 2
}
