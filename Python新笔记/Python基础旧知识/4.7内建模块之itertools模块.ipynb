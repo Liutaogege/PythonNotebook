{
 "cells": [
  {
   "cell_type": "markdown",
   "metadata": {},
   "source": [
    "# itertools模块\n",
    "- 方法：\n",
    "    - 提供一个无限的迭代器\n",
    "        - itertools.count(start_num):从某一个数一直下去，像自然数一样\n",
    "        - itertools.cycle(iterable):将传入的一个序列无限重复下去\n",
    "        - itertools.repeat():负责把一个元素无限重复下去，不过提供的第二个参数可以限定重复次数\n",
    "    - 无限序列虽然可以无限迭代下去，但是通常可以采用takewhile()等函数根据条件判断来截取出一个有限的序列\n",
    "    - itertools.chain():\n",
    "        - 把一组迭代对象串联起来，形成一个更大的迭代器\n",
    "    - itertools.groupby()\n",
    "        - 把迭代器中相邻的重复元素跳出来放在一起\n",
    "        - groupby()通过扫描序列找出拥有相同值（或是由参数key指定的函数所返回的值）的序列项，并将它们分组。groupby()创建了一个迭代器，而在每次迭代的时都会返回一个值（value，该值就是分组的关键字所对应的内容）和一个子迭代器，这个子迭代器可以产生所有在该分组内具有该值得项\n",
    "    - itertools.compress(iterable, 布尔选择器序列)\n",
    "        - 筛选元素,它接收一个可迭代对象以及一个布尔选择器序列作为输入，输出时，它会给出所有在相应的布尔选择器中为True的可迭代对象元素\n"
   ]
  },
  {
   "cell_type": "code",
   "execution_count": 24,
   "metadata": {},
   "outputs": [
    {
     "name": "stdout",
     "output_type": "stream",
     "text": [
      "[-3, -2, -1, 0, 1, 2, 3, 4, 5]\n",
      "<class 'itertools.takewhile'>\n",
      "True\n"
     ]
    }
   ],
   "source": [
    "import itertools\n",
    "\n",
    "naturals = itertools.count(-3)\n",
    "# for n in naturals:\n",
    "#     if n < 5:\n",
    "#         print(n)\n",
    "#     else:\n",
    "#         break\n",
    "values = itertools.takewhile(lambda x:x<=5, naturals)\n",
    "print(list(values))\n",
    "print(type(values))\n",
    "print(len(list(values)) is 0)"
   ]
  },
  {
   "cell_type": "code",
   "execution_count": 7,
   "metadata": {},
   "outputs": [
    {
     "name": "stdout",
     "output_type": "stream",
     "text": [
      "I\n",
      "love\n",
      "you\n",
      "I\n",
      "love\n",
      "you\n",
      "I\n",
      "love\n",
      "you\n"
     ]
    }
   ],
   "source": [
    "import itertools\n",
    "cs = itertools.cycle(\"I love you\".split(\" \"))\n",
    "n = 9\n",
    "for value in cs:\n",
    "    if n > 0:\n",
    "        print(value)\n",
    "        n -= 1\n",
    "    else:\n",
    "        break"
   ]
  },
  {
   "cell_type": "code",
   "execution_count": 11,
   "metadata": {},
   "outputs": [
    {
     "name": "stdout",
     "output_type": "stream",
     "text": [
      "<class 'itertools.repeat'>\n",
      "A\n",
      "A\n",
      "A\n"
     ]
    }
   ],
   "source": [
    "import itertools\n",
    "multi_A = itertools.repeat(\"A\", 3)\n",
    "print(type(multi_A))\n",
    "for i in multi_A:\n",
    "        print(i)"
   ]
  },
  {
   "cell_type": "code",
   "execution_count": 26,
   "metadata": {},
   "outputs": [
    {
     "name": "stdout",
     "output_type": "stream",
     "text": [
      "我\n",
      "爱\n",
      "你\n",
      "你\n",
      "不\n",
      "爱\n",
      "我\n"
     ]
    }
   ],
   "source": [
    "import itertools\n",
    "# chain()使用\n",
    "for c in itertools.chain(\"我爱你\", \"你不爱我\"):\n",
    "    print(c)"
   ]
  },
  {
   "cell_type": "code",
   "execution_count": 39,
   "metadata": {},
   "outputs": [
    {
     "name": "stdout",
     "output_type": "stream",
     "text": [
      "a -> ['a']\n",
      "k -> ['k']\n",
      "c -> ['c']\n",
      "d -> ['d', 'd']\n",
      "k -> ['k']\n",
      "c -> ['c']\n",
      "d -> ['d', 'd']\n",
      "k -> ['k']\n",
      "c -> ['c']\n",
      "a -> ['a', 'a']\n",
      "==================================================\n",
      "a -> ['a', 'a', 'a']\n",
      "c -> ['c', 'c', 'c']\n",
      "d -> ['d', 'd', 'd', 'd']\n",
      "k -> ['k', 'k', 'k']\n"
     ]
    }
   ],
   "source": [
    "# goupby（）使用\n",
    "import itertools\n",
    "for key, group in itertools.groupby(\"akcddkcddkcaa\"):\n",
    "    print(key, \"->\", list(group))\n",
    "    \n",
    "print(\"=\" * 50)\n",
    "# 上面这种写法有问题，为什么呢，需要先排序\n",
    "s = \"akcddkcddkcaa\"\n",
    "new_s = \"\".join(sorted(list(s)))\n",
    "for key, group in itertools.groupby(new_s):\n",
    "    print(key, \"->\", list(group))"
   ]
  },
  {
   "cell_type": "code",
   "execution_count": 40,
   "metadata": {},
   "outputs": [
    {
     "name": "stdout",
     "output_type": "stream",
     "text": [
      "[{'name': 'apple', 'kind': 'fruit'}, {'name': 'orange', 'kind': 'fruit'}, {'name': 'carrot', 'kind': 'vegetable'}, {'name': 'tomato', 'kind': 'vegetable'}, {'name': 'potato', 'kind': 'vegetagle'}]\n",
      "fruit\n",
      ": {'name': 'apple', 'kind': 'fruit'}\n",
      ": {'name': 'orange', 'kind': 'fruit'}\n",
      "vegetable\n",
      ": {'name': 'carrot', 'kind': 'vegetable'}\n",
      ": {'name': 'tomato', 'kind': 'vegetable'}\n",
      "vegetagle\n",
      ": {'name': 'potato', 'kind': 'vegetagle'}\n"
     ]
    }
   ],
   "source": [
    "# group和itemgetter的配合使用\n",
    "from operator import itemgetter\n",
    "from itertools import groupby\n",
    "\n",
    "imagine = [\n",
    "    {\"name\":'carrot', 'kind':'vegetable'},\n",
    "    {'name':'apple', 'kind':'fruit'},\n",
    "    {'name':'tomato', 'kind':'vegetable'},\n",
    "    {'name':'potato', 'kind':'vegetagle'},\n",
    "    {'name':'orange', 'kind':'fruit'}\n",
    "]\n",
    "#groupby之前要先排序，把相同键值得聚集到一起\n",
    "imagine.sort(key=itemgetter('kind'))\n",
    "print(imagine)\n",
    "for kind, items in groupby(imagine, key=itemgetter(\"kind\")):\n",
    "    print(kind)\n",
    "    for item in items:\n",
    "        print(\":\", item)"
   ]
  },
  {
   "cell_type": "code",
   "execution_count": 41,
   "metadata": {},
   "outputs": [
    {
     "name": "stdout",
     "output_type": "stream",
     "text": [
      "[{'name': 'apple', 'price': 3.5}, {'name': 'pear', 'price': 3.8}, {'name': 'plum', 'price': 2.6}]\n",
      "<itertools.compress object at 0x0000023452A20470>\n",
      "{'name': 'apple', 'price': 3.5}\n",
      "{'name': 'pineapple', 'price': 2.4}\n",
      "{'name': 'pear', 'price': 3.8}\n",
      "{'name': 'strawberry', 'price': 1.2}\n",
      "{'name': 'plum', 'price': 2.6}\n"
     ]
    }
   ],
   "source": [
    "# conpress的使用\n",
    "from itertools import compress\n",
    "\n",
    "fruits = [\n",
    "    {'name':'apple', 'price':3.5},\n",
    "    {'name':'pineapple', 'price':2.4},\n",
    "    {'name':'pear', 'price':3.8},\n",
    "    {'name':'strawberry', 'price':1.2},\n",
    "    {'name':'plum', 'price':2.6}\n",
    "]\n",
    "price_lt = [3.5, 2.4, 3.8, 1.2, 2.6]\n",
    "price_lt1 = [n>2.5 for n in price_lt]\n",
    "fruit = list(compress(fruits, price_lt1))\n",
    "print(fruit)\n",
    "print(compress(fruits, price_lt))\n",
    "for i in compress(fruits, price_lt):\n",
    "    print(i)"
   ]
  },
  {
   "cell_type": "code",
   "execution_count": null,
   "metadata": {},
   "outputs": [],
   "source": []
  }
 ],
 "metadata": {
  "kernelspec": {
   "display_name": "Python 3",
   "language": "python",
   "name": "python3"
  },
  "language_info": {
   "codemirror_mode": {
    "name": "ipython",
    "version": 3
   },
   "file_extension": ".py",
   "mimetype": "text/x-python",
   "name": "python",
   "nbconvert_exporter": "python",
   "pygments_lexer": "ipython3",
   "version": "3.7.3"
  }
 },
 "nbformat": 4,
 "nbformat_minor": 2
}
