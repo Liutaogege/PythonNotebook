{
 "cells": [
  {
   "cell_type": "markdown",
   "metadata": {},
   "source": [
    "##  变量作用域\n",
    "- 分类：按照作用域分类\n",
    "    - 全局（global):在函数外部定义\n",
    "    - 局部（local）：在函数内部定义\n",
    "- 变量的作用范围\n",
    "    - 全局变量：整个全局范围都有效，语法：global var\n",
    "    - 局部变量：局部范围使用\n",
    "# globals，locals函数\n",
    "- 可以通过globals函数和locals函数显示出局部变量和全局变量\n",
    "- 参看以下案例\n"
   ]
  },
  {
   "cell_type": "code",
   "execution_count": 17,
   "metadata": {},
   "outputs": [],
   "source": [
    "a = 1\n",
    "def fun(c):\n",
    "    b = 11\n",
    "    print(\"局部变量为{0}\".format(locals()))\n",
    "    print(\"全局变量为{0}\".format(globals()))\n",
    "    \n",
    "#fun(10)"
   ]
  },
  {
   "cell_type": "markdown",
   "metadata": {},
   "source": [
    "# python 中的可变对象和不可变对象\n",
    "- 不可变对象：对象所指向的内存中的值不能被改变，当对变量重新赋值的时候，原来指向的内存中的值不变，变量不再指向原来的值，而是开辟新的内存保存新的值。而原来的值由于不用而被当成垃圾回收\n",
    "- 可变对象：对象指向的内存中的值会改变，当给变量重新赋值的时候，变量还是指向原来的内存，并没有开辟新的内存。所以原来的值会发生改变\n",
    "    - 分类;\n",
    "        - 可变对象：列表list，字典dict，集合set\n",
    "        - 不可变对象：数值类型（int，float等），字符串str，元祖\n",
    "- 注意：无论是可变对象还是不可变对象，当直接赋值给新的变量的时候，地址不会发生改变。而对新变量的操作才会影响其地址最终是否发生改变\n",
    "- 参看以下案例\n",
    "- 可变对象可以通过拷贝来进行改变\n",
    "    - 深拷贝：import copy\n",
    "     b = copy.deepcopy(a)\n",
    "    - 浅拷贝：直接a = b.copy(),当遇到嵌套列表的时候，地址就不会改变了\n",
    "    \n",
    "# 可哈希数据与不可哈希数据\n",
    "- 可哈希数据：不可变的数据结构：tuple,string,int，类似于不可变对象\n",
    "- 不可哈希数据：可变得数据结构：list,dictionary,set，类似于可变对象\n",
    "- 何谓哈希：\n",
    "    - 它是一个将大体量数据转化为很小数据的过程，甚至可以仅仅是一个数字，以便我们可以用在固定的时间复杂度下查询它，所以，哈希对高效的算法和数据结构很重要。"
   ]
  },
  {
   "cell_type": "code",
   "execution_count": 16,
   "metadata": {},
   "outputs": [
    {
     "name": "stdout",
     "output_type": "stream",
     "text": [
      "这是原地址： 1985420949064\n",
      "这是部分切片后的地址： 1985420772808\n",
      "这是全切后的地址: 1985418282504\n",
      "这是直接赋值后的地址： 1985420949064\n",
      "[2, 45, 'haha', 6, 9]\n",
      "[2, 45, 'haha', 6, 9]\n",
      "===============\n",
      "1985420772872 1985420772872\n",
      "1985420772872\n",
      "1985420772872\n",
      "[13, 32, 35] [13, 32, 35, 3]\n"
     ]
    }
   ],
   "source": [
    "# 可变对象:列表举例\n",
    "l = [2,45,5,6,9]\n",
    "# 无论是部分切片还是完全切片地址都会发生改变\n",
    "# 直接赋值地址不会发生改变\n",
    "l1 = l[:3]\n",
    "l2 = l[:]\n",
    "l3 = l\n",
    "print(\"这是原地址：\", id(l))\n",
    "print(\"这是部分切片后的地址：\", id(l1))\n",
    "print(\"这是全切后的地址:\", id(l2))\n",
    "print(\"这是直接赋值后的地址：\", id(l3))\n",
    "\n",
    "# 若直接赋值后对新的列表进行更改，则原列表也会发生改变\n",
    "l3[2] = \"haha\"\n",
    "print(l3)\n",
    "print(l)\n",
    "\n",
    "# 注意以下例子\n",
    "print(\"===============\")\n",
    "a1 = [1,2,3]\n",
    "a2 = a1\n",
    "print(id(a1),id(a2))\n",
    "a2 += [4] #相当于a2.extend(4),所以地址不会发生改变\n",
    "print(id(a2))\n",
    "print(id(a1))\n",
    "# 深度拷贝\n",
    "import copy\n",
    "a = [13,32,35]\n",
    "b = copy.deepcopy(a)\n",
    "b.extend([3])\n",
    "print(a,b)"
   ]
  },
  {
   "cell_type": "code",
   "execution_count": 7,
   "metadata": {},
   "outputs": [
    {
     "name": "stdout",
     "output_type": "stream",
     "text": [
      "这是原地址： 1985419823768\n",
      "这是部分切片后的地址： 1985421017024\n",
      "这是全切后的地址: 1985419823768\n",
      "这是直接赋值后的地址： 1985419823768\n"
     ]
    }
   ],
   "source": [
    "# 不可变对象:元祖举例\n",
    "t = (2,5,6,9,6)\n",
    "t1 = t[:3]\n",
    "# 完全切片和直接赋值对象的地址都不会发生改变\n",
    "t2 = t[:]\n",
    "t3 = t\n",
    "print(\"这是原地址：\", id(t))\n",
    "print(\"这是部分切片后的地址：\", id(t1))\n",
    "print(\"这是全切后的地址:\", id(t2))\n",
    "print(\"这是直接赋值后的地址：\", id(t3))"
   ]
  },
  {
   "cell_type": "code",
   "execution_count": 24,
   "metadata": {},
   "outputs": [
    {
     "name": "stdout",
     "output_type": "stream",
     "text": [
      "这是原地址： 1985421582064\n",
      "这是部分切片后的地址： 1985418271352\n",
      "这是全切后的地址: 1985421582064\n",
      "Iresentyousomuch\n",
      "1985421665888\n",
      "1985421582064\n"
     ]
    }
   ],
   "source": [
    "s = \"Iloveyousomuch\"\n",
    "s1 = s[:5]\n",
    "s2 = s[:]\n",
    "print(\"这是原地址：\", id(s))\n",
    "print(\"这是部分切片后的地址：\", id(s1))\n",
    "print(\"这是全切后的地址:\", id(s2))\n",
    "s3 = s2.replace(\"love\",\"resent\")\n",
    "print(s3)\n",
    "print(id(s3))\n",
    "print(id(s2))"
   ]
  },
  {
   "cell_type": "code",
   "execution_count": 88,
   "metadata": {},
   "outputs": [
    {
     "name": "stdout",
     "output_type": "stream",
     "text": [
      "2733582390024\n",
      "2733582476680\n",
      "2733580945160\n",
      "2733580945160\n",
      "[1, 2, 3, [45, 100, 5]]\n",
      "[1, 2, 3, [45, 100, 5]]\n",
      "2733582340808\n",
      "2733582343240\n",
      "2733582342088\n",
      "2733582475336\n",
      "[1, 2, 3, [45, 100, 5]]\n",
      "[1, 2, 3, [45, 56, 5]]\n"
     ]
    }
   ],
   "source": [
    "# 浅拷贝举例：\n",
    "a = [1,2,3,[45,56,5]]\n",
    "b = a.copy()\n",
    "print(id(a))\n",
    "print(id(b))\n",
    "print(id(a[3]))\n",
    "print(id(b[3]))\n",
    "a[3][1] = 100\n",
    "print(a)\n",
    "print(b)\n",
    "# 深拷贝\n",
    "import copy \n",
    "a = [1,2,3,[45,56,5]]\n",
    "b = copy.deepcopy(a)\n",
    "print(id(a))\n",
    "print(id(b))\n",
    "print(id(a[3]))\n",
    "print(id(b[3]))\n",
    "a[3][1] = 100\n",
    "print(a)\n",
    "print(b)"
   ]
  },
  {
   "cell_type": "markdown",
   "metadata": {},
   "source": [
    "# 集合Set()：无序\n",
    "- 创建：可用大括号，但括号内必须有值，否则创建的就是字典，内部只可存放可哈希数据\n",
    "- a.add(var):添加元素\n",
    "- 删除元素\n",
    "    - a.remove(var):删除指定元素的值，若删除的元素不存在，则报错\n",
    "    - a.discard(var):也是删除指定元素的值，若删除的元素不存在，不报错\n",
    "    - a.clear():清楚元素\n",
    "    - a.pop()是删除随机的一个元素,而remover和clear以及del和列表一样\n",
    "- 拷贝：copy\n",
    "\n",
    "- 集合的交集、并集、差集、对称差集（即交集的补集）\n",
    "  -  &， | , -， ^\n",
    "  - 另外的方法：a.intersection(b),union, difference\n",
    "  - 从集合中删除另一个集合中存在的元素：a.difference_update(b)\n",
    "  - 删除集合a中所有不属于集合b的元素 :a.intersection_update(b)\n",
    "  - 是否存在交集：a.isdisjoint(b)\n",
    "  - 添加属于b但不属于a的元素：a.update(b)\n",
    "- issuperset,询问某某是否是某某的父集\n",
    "- issubset,询问某某是否是某某的子集\n",
    "\n",
    "\n",
    "\n",
    "\n",
    "# 列表\n",
    "- 可以相加和相乘（重复元素）：+，*\n",
    "- 列表也可以求交集，并集和差集,将其转化成集合再求交集并集等\n",
    "- 列表添加元素\n",
    "    - append:只能一个一个的加\n",
    "    - extend：直接把一个列表拼接到另一个后面\n",
    "    - insert(插入位置，插入值)：插入元素\n",
    "- 删除元素；\n",
    "    - del: del var删除指定位置的元素\n",
    "    - pop: a;pop()删除最后一个元素\n",
    "    - remove: a.remove(var)删除指定元素的值，若要删除的值不存在，则会报错，所以使用remove时先判断。使用过后内存地址不变\n",
    "    - clear：清空元素,a.clear()，使用过后内存地址不变\n",
    "- 反转：reverse,反转后内存地址不变，说明是原物反转\n",
    "- a.count(var):计算列表中某个元素的个数\n",
    "    \n",
    "# 元祖\n",
    "- 对于元祖来说，删除只能使用del，且删除整个\n",
    "- 元祖可以相加和相乘\n",
    "- 创建只含一个元素的元祖，必须加个逗号\n",
    "- len()：计算元祖的长度，列表也行\n"
   ]
  },
  {
   "cell_type": "code",
   "execution_count": 99,
   "metadata": {},
   "outputs": [
    {
     "name": "stdout",
     "output_type": "stream",
     "text": [
      "True\n",
      "True\n",
      "[4, 5, 6]\n",
      "[1, 2, 3, 4]\n",
      "============\n",
      "[1, 2, 3, 4, [3, 35, 23]]\n",
      "==============\n",
      "[1, 2, 3, 4, [3, 35, 23], 4, 5, 7]\n",
      "===========\n",
      "[1, 2, 4, [3, 35, 23], 4, 5, 7]\n",
      "[1, 2, 4, [3, 35, 23], 4, 5]\n",
      "[1, 2, [3, 35, 23], 4, 5]\n",
      "1\n",
      "5\n"
     ]
    }
   ],
   "source": [
    "li = [9,89,9,384,283,83,92,9,0,9]\n",
    "lw = list(range(0,11))\n",
    "sc = set(li)\n",
    "se = set(lw)\n",
    "sb = {i for i in sc if i % 2 == 0}\n",
    "\n",
    "print(sc.issuperset(sb))#询问sc是否是sb的父集\n",
    "print(sb.issubset(sc))#询问sb是否是sc的子集\n",
    "#列表求交集\n",
    "a = {1,2,3,4,5,6}\n",
    "b = {4,5,6,7,8,9}\n",
    "print(list(a.intersection(b)))\n",
    "# 列表操作函数\n",
    "c = [1,2,3]\n",
    "c.append(4)#append只能一个一个的加进去\n",
    "print(c)\n",
    "print(\"============\")\n",
    "c.append([3,35,23])\n",
    "print(c)\n",
    "print(\"==============\")\n",
    "c.extend([4,5,7])#一群加进去\n",
    "print(c)\n",
    "print(\"===========\")\n",
    "# 删除元素\n",
    "del c[2]\n",
    "print(c)\n",
    "\n",
    "c.pop()\n",
    "print(c)\n",
    "c.remove(4)\n",
    "print(c)\n",
    "print(c.count(4))\n",
    "print(len(c))"
   ]
  },
  {
   "cell_type": "code",
   "execution_count": 98,
   "metadata": {},
   "outputs": [
    {
     "name": "stdout",
     "output_type": "stream",
     "text": [
      "(36, 14, 0, 3, 4)\n",
      "(1, 36, 14, 0, 3, 4, 57, 98)\n",
      "2733582431904\n",
      "2733582431904\n",
      "(1,)\n",
      "1 + 2\n",
      "xiaoming + xiaohong\n",
      "xiao + xiha\n"
     ]
    }
   ],
   "source": [
    "# 元祖举例\n",
    "b = (1,36,14,0,3,4)\n",
    "a = (57,98)\n",
    "c = b[1:190] #切片超标不会报错\n",
    "print(c)\n",
    "print(b + a)\n",
    "# 创建一个元素的元祖\n",
    "a = (1,)\n",
    "a = 1,\n",
    "# \n",
    "d = a\n",
    "print(id(a))\n",
    "print(id(d))\n",
    "del a\n",
    "print(d)\n",
    "# 双层元祖的遍历：\n",
    "a = ((1,2),(\"xiaoming\",\"xiaohong\"),('xiao',\"xiha\"))\n",
    "for m,n in a:\n",
    "    print(m,'+',n)"
   ]
  },
  {
   "cell_type": "markdown",
   "metadata": {},
   "source": [
    "### 冰冻集合frozenset()\n",
    "- 不能修改集合或操作\n",
    "- 除了不能修改的特点，集合的特性他都有"
   ]
  },
  {
   "cell_type": "code",
   "execution_count": 100,
   "metadata": {},
   "outputs": [
    {
     "name": "stdout",
     "output_type": "stream",
     "text": [
      "frozenset({1, 2, 3, 4, 5, 6})\n"
     ]
    }
   ],
   "source": [
    "s = frozenset([1,2,3,3,4,5,6])\n",
    "#s.extend(4)  # 会报错\n",
    "print(s)"
   ]
  },
  {
   "cell_type": "markdown",
   "metadata": {},
   "source": [
    "# 字典\n",
    "- 创建\n",
    "    - d = {}\n",
    "    - d = dict{}\n",
    "    - d = {\"one\":1,\"two\":2, \"three\":3}\n",
    "    - d = dict({\"one\":1,\"two\":2, \"three\":3})\n",
    "    - d = dict(one=1, two=2,three=3)\n",
    "    - d = dict([(\"one\",1),(\"two\",2),(\"three\",3)])\n",
    "- 特征；\n",
    "    - 由键值对组成\n",
    "        - key：必须是可哈希的数据\n",
    "        - value：任何值\n",
    "- 删除：del\n",
    "- get：根据设定键值返回相应的值，好处是，若无这个键值，则返回None，不报错，d.get(key,若无键值返回的默认值)\n",
    "- fromkeys：使用指定的序列作为键值，然后使用一个值作为所有键值对应的value值.注意fromkeys的调用主体"
   ]
  },
  {
   "cell_type": "code",
   "execution_count": 6,
   "metadata": {},
   "outputs": [
    {
     "name": "stdout",
     "output_type": "stream",
     "text": [
      "{'one': 1, 'two': 2, 'three': 3}\n",
      "{'one': 1, 'two': 2, 'three': 3}\n",
      "{'one': 1, 'two': 2, 'three': 3}\n",
      "1\n",
      "None\n",
      "don't have this value\n",
      "{'a': 'happy', 'b': 'happy', 'c': 'happy'}\n",
      "{'a': None, 'b': None, 'c': None}\n",
      "{'a': 'happy', 'b': 'happy'}\n"
     ]
    }
   ],
   "source": [
    "# 字典的创建\n",
    "d = dict({\"one\":1,\"two\":2, \"three\":3})\n",
    "print(d)\n",
    "d = dict(one=1, two=2,three=3)\n",
    "print(d)\n",
    "d = dict([(\"one\",1),(\"two\",2),(\"three\",3)])\n",
    "print(d)\n",
    "# get的应用\n",
    "print(d.get(\"one\"))\n",
    "print(d.get(\"four\"))\n",
    "print(d.get(\"four\",\"don't have this value\"))\n",
    "# fromkeys\n",
    "k = ['a', 'b', 'c']\n",
    "d = dict.fromkeys(k,'happy')\n",
    "e = {}.fromkeys(k) # 当值为空的时候，每个键对应的值是None\n",
    "print(d)\n",
    "print(e)\n",
    "d.popitem() # 删除一个键值对，默认为最后一个\n",
    "print(d)"
   ]
  },
  {
   "cell_type": "code",
   "execution_count": 11,
   "metadata": {},
   "outputs": [
    {
     "name": "stdout",
     "output_type": "stream",
     "text": [
      "{'a': 'happy', 'b': 'happy', 'c': 'happy'}\n",
      "{'a': 'happy', 'b': 'happy'}\n",
      "('c', 'happy')\n"
     ]
    }
   ],
   "source": [
    "k = ['a', 'b', 'c']\n",
    "d = dict.fromkeys(k,'happy')\n",
    "print(d)\n",
    "a = d.popitem() #删除字典中末尾最后一个键值对，并返回一个二元祖\n",
    "print(d)\n",
    "print(a)"
   ]
  },
  {
   "cell_type": "code",
   "execution_count": 48,
   "metadata": {},
   "outputs": [
    {
     "name": "stdout",
     "output_type": "stream",
     "text": [
      "6\n",
      "5\n",
      "4\n",
      "3\n",
      "2\n",
      "1\n"
     ]
    },
    {
     "data": {
      "text/plain": [
       "720"
      ]
     },
     "execution_count": 48,
     "metadata": {},
     "output_type": "execute_result"
    }
   ],
   "source": [
    "def fun_a(n):\n",
    "    print(n)\n",
    "    if n == 1:\n",
    "        return 1\n",
    "    return n * fun_a(n - 1)\n",
    "fun_a(6)"
   ]
  },
  {
   "cell_type": "markdown",
   "metadata": {},
   "source": [
    "# 函数的参数\n",
    "- 位置参数\n",
    "    - 调用函数时，传入的值按照位置顺序传入的参数\n",
    "- 默认参数\n",
    "    - 就是在定义函数时，某些参数已经默认给赋值了，若不传入该参数则函数默认调用默认值，若传入该参数则替代原来的默认值\n",
    "    - 注意以下两点：\n",
    "        - 必选参数在前，默认参数在后\n",
    "        - 当有多个默认参数时，把可能改动的多的参数放在前面，改动的少的放在后面\n",
    "    - 默认参数有个很大的坑需要注意\n",
    "        - 定义默认参数要牢记一点：默认参数必须指向不变对象！否则会出问题\n",
    "- 可变参数\n",
    "    - 可变参数就是传入的参数个数是可变的,可以是任意个参数\n",
    "    - 在参数前加上*号，若参数是列表或者元组，*nums表示把nums这个list的所有元素作为可变参数传进去\n",
    "- 关键字参数\n",
    "    - 关键字参数允许你传入0个或任意个含参数名的参数，这些关键字参数在函数内部自动组装为一个dict\n",
    "- 命名关键字参数\n",
    "    - 果要限制关键字参数的名字，就可以用命名关键字参数\n",
    "    - 命名关键字参数需要一个特殊分隔符*，*后面的参数被视为命名关键字参数。\n",
    "    - 如果函数定义中已经有了一个可变参数，后面跟着的命名关键字参数就不再需要一个特殊分隔符*了：\n",
    "    - 命名关键字参数必须传入参数名，这和位置参数不同。如果没有传入参数名，调用将报错：\n",
    "    - 使用命名关键字参数时，要特别注意，如果没有可变参数，就必须加一个*作为特殊分隔符。如果缺少*，Python解释器将无法识别位置参数和命名关键字参数\n",
    "    \n",
    "# 参数组合\n",
    "    - 在Python中定义函数，可以用必选参数、默认参数、可变参数、关键字参数和命名关键字参数，这5种参数都可以组合使用。但是请注意，参数定义的顺序必须是：必选参数、默认参数、可变参数、命名关键字参数和关键字参数。"
   ]
  },
  {
   "cell_type": "code",
   "execution_count": 63,
   "metadata": {},
   "outputs": [
    {
     "name": "stdout",
     "output_type": "stream",
     "text": [
      "my name is xiaoming,I am from China\n",
      "my name is liutao,I am from GuiZhou\n",
      "[1, 3, 4, 'END']\n",
      "['x', 'y', 'z', 'END']\n",
      "['END', 'END', 'END', 'END']\n",
      "['END']\n"
     ]
    }
   ],
   "source": [
    "# 默认参数举例\n",
    "def saying(name, country=\"China\"):\n",
    "    print(\"my name is {},I am from {}\".format(name, country))\n",
    "saying(\"xiaoming\")\n",
    "saying(\"liutao\", \"GuiZhou\")\n",
    "\n",
    "# 默认参数的坑举例\n",
    "def adding(l=[]):\n",
    "    l.append(\"END\")\n",
    "    return l\n",
    "\n",
    "# 正常调用没事\n",
    "lst = adding([1, 3, 4])\n",
    "print(lst)\n",
    "ll = adding([\"x\", \"y\", \"z\"])\n",
    "print(ll)\n",
    "\n",
    "#但是不调用时问题出现了,因为[]是可变对象，所以每次调用该函数，如果改变了L的内容，则下次调用时，默认参数的内容就变了，不再是函数定义时的[]了\n",
    "adding()\n",
    "adding()\n",
    "adding()\n",
    "l = adding()\n",
    "print(l)\n",
    "\n",
    "# 改写\n",
    "def adding(l = None):\n",
    "    if l is None:\n",
    "        l = []\n",
    "    l.append(\"END\")\n",
    "    return l\n",
    "\n",
    "adding()\n",
    "adding()\n",
    "adding()\n",
    "l = adding()\n",
    "print(l)"
   ]
  },
  {
   "cell_type": "code",
   "execution_count": 69,
   "metadata": {},
   "outputs": [
    {
     "name": "stdout",
     "output_type": "stream",
     "text": [
      "7\n",
      "21\n",
      "0\n",
      "18\n"
     ]
    }
   ],
   "source": [
    "# 可变参数举例\n",
    "def suming(*args):\n",
    "    total = 0\n",
    "    for arg in args:\n",
    "        total += arg\n",
    "    return total\n",
    "\n",
    "a = suming(2, 5)\n",
    "print(a)\n",
    "b = suming(3, 5, 6, 7)\n",
    "print(b)\n",
    "c = suming()\n",
    "print(c)\n",
    "\n",
    "lst = [2, 5, 5, 6]\n",
    "d = suming(*lst)  #对于传入的参数时序列的话，必须要加上*号\n",
    "print(d)"
   ]
  },
  {
   "cell_type": "code",
   "execution_count": 77,
   "metadata": {},
   "outputs": [
    {
     "name": "stdout",
     "output_type": "stream",
     "text": [
      "name: litao age: 23 other: {'city': 'GuiZhou', 'height': 173}\n",
      "name: jiaojao age: 21 other: {}\n",
      "name: xiaoxiao age: 21 other: {'address': 'Chengdu', 'height': 158}\n"
     ]
    }
   ],
   "source": [
    "# 关键字参数\n",
    "def person(name, age, **kw):\n",
    "    print(\"name:\", name, \"age:\", age, \"other:\", kw)\n",
    "    \n",
    "other = {\"address\":\"Chengdu\", \"height\": 158}\n",
    "person(\"litao\", 23, city=\"GuiZhou\", height=173)\n",
    "person(\"jiaojao\", 21)\n",
    "person(\"xiaoxiao\", 21, **other)  #**other是对原来数据的一份拷贝，所以对kw的更改不会影响原来的数\n"
   ]
  },
  {
   "cell_type": "code",
   "execution_count": 83,
   "metadata": {},
   "outputs": [
    {
     "name": "stdout",
     "output_type": "stream",
     "text": [
      "liutao 23 Chengdu PlayingGames\n",
      "jiaojao 21 Chengdu WatchingMovie\n",
      "liutao-23-53kg-ChendDu Watching\n"
     ]
    }
   ],
   "source": [
    "# 命名关键字参数\n",
    "def person(name, age, *, address, hobby):\n",
    "    print(name, age, address, hobby)\n",
    "    \n",
    "# 此时就不能再任意传入关键字参数了，会报错\n",
    "#person(\"liutao\", 23, address=\"Chengdu\", hobby=\"PlayingGames\", height=173)\n",
    "person(\"liutao\", 23, address=\"Chengdu\", hobby=\"PlayingGames\")\n",
    "\n",
    "\n",
    "# 若设置默认参数，则可以不传入\n",
    "def person(name, age, *, address=\"Chengdu\", hobby):\n",
    "    print(name, age, address, hobby)  \n",
    "person(\"jiaojao\", 21, hobby=\"WatchingMovie\")\n",
    "\n",
    "# 若前面已经有可变参数，则无需加入*号\n",
    "def new_person(*args, address, hobby):\n",
    "    for arg in args:\n",
    "        print(arg, end=\"-\")\n",
    "    print(address, hobby)\n",
    "new_person(\"liutao\", 23, \"53kg\", address=\"ChendDu\", hobby=\"Watching\")"
   ]
  },
  {
   "cell_type": "markdown",
   "metadata": {},
   "source": [
    "# 递归函数\n",
    "- 直接或间接调用自身\n",
    "- 缺点：对递归深度有限制，消耗资源大，Python对递归超过深度会报错\n",
    "- 递归函数必须有结束条件\n",
    "- 解决递归调用栈溢出def方法：\n",
    "    - 第一种：更改递归深度\n",
    "        - sys.getrecursionlimit()得到最大的递归深度\n",
    "        - 如果希望修改递归深度，可以通过sys.setrecursionlimit(num)来设定递归深度的值为num\n",
    "    - 第二种：尾递归优化\n",
    "        - 在函数返回的时候，调用自身本身，并且，return语句不能包含表达式。这样，编译器或者解释器就可以把尾递归做优化，使递归本身无论调用多少次，都只占用一个栈帧，不会出现栈溢出的情况。\n",
    "    \n",
    "    \n",
    "# 汉诺塔\n",
    "- 递归函数应用\n"
   ]
  },
  {
   "cell_type": "code",
   "execution_count": 111,
   "metadata": {},
   "outputs": [
    {
     "name": "stdout",
     "output_type": "stream",
     "text": [
      "A --> C\n",
      "=========\n",
      "A --> B\n",
      "A --> C\n",
      "B --> C\n",
      "==========\n",
      "A --> C\n",
      "A --> B\n",
      "C --> B\n",
      "A --> C\n",
      "B --> A\n",
      "B --> C\n",
      "A --> C\n"
     ]
    }
   ],
   "source": [
    "# 汉诺塔\n",
    "def hannuo(a, b, c, n):\n",
    "    if n == 1:\n",
    "        print(\"{} --> {}\".format(a,c))\n",
    "    if n == 2:\n",
    "        print(\"{} --> {}\".format(a,b))\n",
    "        print(\"{} --> {}\".format(a,c))\n",
    "        print(\"{} --> {}\".format(b,c))\n",
    "    if n > 2:\n",
    "        hannuo(a,c,b,n-1) # a通过c把n-1个盘子放到b上，至于怎么放不管\n",
    "        print(\"{} --> {}\".format(a,c)) # 把最大的盘子放到c上\n",
    "        hannuo(b,a,c,n-1) # 最后一步，b通过a把n-1个盘子放到c上，至于怎么放不管\n",
    "\n",
    "a = \"A\"\n",
    "b = \"B\"\n",
    "c = \"C\"\n",
    "hannuo(a,b,c,1)\n",
    "print(\"=========\")\n",
    "hannuo(a,b,c,2)\n",
    "print(\"==========\")\n",
    "hannuo(a,b,c,3)"
   ]
  },
  {
   "cell_type": "code",
   "execution_count": 20,
   "metadata": {},
   "outputs": [
    {
     "name": "stdout",
     "output_type": "stream",
     "text": [
      "1\n",
      "1\n",
      "2\n",
      "3\n",
      "5\n",
      "8\n",
      "13\n",
      "21\n",
      "34\n",
      "55\n",
      "89\n"
     ]
    }
   ],
   "source": [
    "# 简单写法实现斐波那契数列\n",
    "import sys\n",
    "\n",
    "def fib(num):\n",
    "    a = 0\n",
    "    b = 1\n",
    "    i = 0\n",
    "    for i in range(num):\n",
    "        a, b = b, a+b\n",
    "        print(a)\n",
    "    return b\n",
    "\n",
    "f = fib(10)\n",
    "print(f)"
   ]
  },
  {
   "cell_type": "code",
   "execution_count": 3,
   "metadata": {},
   "outputs": [
    {
     "name": "stdout",
     "output_type": "stream",
     "text": [
      "1\n",
      "1\n",
      "2\n",
      "3\n",
      "5\n"
     ]
    },
    {
     "data": {
      "text/plain": [
       "<generator object gen_fib at 0x000001D820FA1B10>"
      ]
     },
     "execution_count": 3,
     "metadata": {},
     "output_type": "execute_result"
    }
   ],
   "source": [
    "# 使用生成器实现斐波那契数列\n",
    "def gen_fib(num):\n",
    "    i, a, b = 0, 0, 1\n",
    "    while i < num:\n",
    "        a, b = b, a+b\n",
    "        yield a\n",
    "        i += 1\n",
    "    return \"Done\"\n",
    "g = gen_fib(5)\n",
    "\n",
    "# 生成器一般不用next去获取值，直接用for循环\n",
    "for i in g:\n",
    "    print(i)\n",
    "gen_fib(5)"
   ]
  },
  {
   "cell_type": "code",
   "execution_count": 4,
   "metadata": {},
   "outputs": [
    {
     "name": "stdout",
     "output_type": "stream",
     "text": [
      "True\n",
      "True\n",
      "True\n",
      "False\n"
     ]
    }
   ],
   "source": [
    "# 判断一个对象是否是生成器\n",
    "from collections.abc import Iterable\n",
    "from collections.abc import Iterator\n",
    "\n",
    "g = (i for i in range(3))\n",
    "print(isinstance(g, Iterable))   #是否可迭代\n",
    "print(isinstance(g, Iterator))  #是否是迭代器：既要满足可迭代，也要可以用next调用\n",
    "                                #Iterator表示的是一个数据流\n",
    "l = [3, 5]\n",
    "print(isinstance(l, Iterable))\n",
    "print(isinstance(l, Iterator))"
   ]
  },
  {
   "cell_type": "code",
   "execution_count": 2,
   "metadata": {},
   "outputs": [
    {
     "name": "stdout",
     "output_type": "stream",
     "text": [
      "这是斐波那契数列\n",
      "8\n",
      "这是阶乘啊\n",
      "24\n",
      "现在的递归深度是 3000\n",
      "现在的递归深度是 5000\n"
     ]
    }
   ],
   "source": [
    "# 递归实现斐波那契数列\n",
    "import sys\n",
    "def fib(num):\n",
    "    if num == 1 or num == 2:\n",
    "        return 1\n",
    "    return fib(num-1) + fib(num-2)\n",
    "\n",
    "f = fib(6)\n",
    "print(\"这是斐波那契数列\")\n",
    "print(f)\n",
    "\n",
    "# 递归函数实现阶乘\n",
    "def jie(num):\n",
    "    if num == 1:\n",
    "        return 1\n",
    "    return num * jie(num-1)\n",
    "\n",
    "\n",
    "print(\"这是阶乘啊\")\n",
    "print(jie(4))\n",
    "\n",
    "print(\"现在的递归深度是\", sys.getrecursionlimit())\n",
    "sys.setrecursionlimit(5000)\n",
    "print(\"现在的递归深度是\", sys.getrecursionlimit())"
   ]
  },
  {
   "cell_type": "code",
   "execution_count": 19,
   "metadata": {},
   "outputs": [
    {
     "name": "stdout",
     "output_type": "stream",
     "text": [
      "现在的递归深度是 3000\n"
     ]
    },
    {
     "data": {
      "text/plain": [
       "120"
      ]
     },
     "execution_count": 19,
     "metadata": {},
     "output_type": "execute_result"
    }
   ],
   "source": [
    "# 尾递归优化,python目前还不支持尾递归优化\n",
    "import sys\n",
    "def fact(n):\n",
    "    return fact_iter(n, 1)\n",
    "\n",
    "def fact_iter(num, product):\n",
    "    if num ==1:\n",
    "        return product\n",
    "    return fact_iter(num -1, num * product)\n",
    "\n",
    "print(\"现在的递归深度是\", sys.getrecursionlimit())\n",
    "fact_iter(5,1)\n",
    "\n"
   ]
  },
  {
   "cell_type": "markdown",
   "metadata": {},
   "source": [
    "# Python中的__init__和__new__\n",
    "- __init__(self):构造函数\n",
    "    - 实例化时进行初始化的工作\n",
    "    - 有特殊的名称的写法\n",
    "    - 当实例对象创建完成后被调用的，然后设置对象属性的一些初始值\n",
    "    - 第一个参数必须有，通用self。参数写入放在括号中\n",
    "- __new__:\n",
    "    - 实例创建之前就被调用，它的任务就是创建实例然后然后将它传递给init进行初始化，是个静态方法\n",
    "    - 一般来说自己没有设置__new__，默认调用系统设置的。\n",
    "    - new函数必须要有返回值\n",
    "    _ __new__函数的应用：\n",
    "           1、__new__方法主要是当你继承一些不可变的class时(比如int, str, tuple)， 提供给你一个自定义这些类的实例化过程的途径\n",
    "           2、还有就是实现自定义的metaclass\n",
    "           3、用__new__来实现单例\n",
    "- __new__函数的本质\n",
    "    - （1）__new__方法是定义在元类type里面的，作用就是专门创建实例的。\n",
    "\n",
    "    - （2）__new__的本质上是一个“类方法”，故而第一个参数为cls，但是因为系统知道它是类方法，所以有不需要显式添加@classmethod\n",
    "\n",
    "    - （3）__new__必须具有返回值，否则无法创建对象，因为__init__函数需要这个返回值\n",
    "\n",
    "    - （4）自己在定义__new__的时候，参数要与__init__函数的参数匹配，我可以不用到这些参数，但一定要匹配。或者可以使用*arg和**args的形式。"
   ]
  },
  {
   "cell_type": "code",
   "execution_count": 52,
   "metadata": {},
   "outputs": [
    {
     "name": "stdout",
     "output_type": "stream",
     "text": [
      "我是父类的new函数\n",
      "<class 'type'>\n",
      "<class '__main__.Child'>\n",
      "我是子类的init\n"
     ]
    }
   ],
   "source": [
    "class Parent():\n",
    "    def __new__(cls, *args, **kwargs):\n",
    "        print(\"我是父类的new函数\") # 这句话是为了追踪new函数\n",
    "        print(type(cls))  # 追踪new函数的执行过程\n",
    "        print(cls)\n",
    "        return object.__new__(cls) #调用父类的（object）的new方法，返回一个Student实例，这个实例传递给init的self参数\n",
    "    \n",
    "    def __init__(self, name, age):\n",
    "        self.name = name\n",
    "        self.age = age\n",
    "        print(\"hello，我是父类的init\")\n",
    "        \n",
    "    def studying(self):\n",
    "        print(\"我爱学习，我在学习\")\n",
    "class Child(Parent):\n",
    "    def __init__(self, name, age):\n",
    "        self.name = name\n",
    "        self.age = age\n",
    "        print(\"我是子类的init\")\n",
    "    \n",
    "        \n",
    "if __name__ == \"__main__\":\n",
    "    s = Child(\"liutao\", 23)\n",
    "    #一旦创建实例对象，就会调用new函数和init函数"
   ]
  },
  {
   "cell_type": "code",
   "execution_count": 1,
   "metadata": {},
   "outputs": [
    {
     "name": "stdout",
     "output_type": "stream",
     "text": [
      "我是父类的new函数\n",
      "<class 'type'>\n",
      "<class '__main__.Parent'>\n",
      "hello，我是父类的init\n",
      "baba\n",
      "50\n",
      "===========\n",
      "我是子类的new函数\n",
      "<class 'type'>\n",
      "<class '__main__.Child'>\n",
      "我是父类的new函数\n",
      "<class 'type'>\n",
      "<class '__main__.Child'>\n",
      "我是子类的init\n",
      "son\n",
      "23\n"
     ]
    }
   ],
   "source": [
    "class Parent():\n",
    "    def __new__(cls, *args, **kwargs):\n",
    "        print(\"我是父类的new函数\") # 这句话是为了追踪new函数\n",
    "        print(type(cls))  # 追踪new函数的执行过程\n",
    "        print(cls)\n",
    "        return object.__new__(cls) #调用父类的（object）的new方法，返回一个Student实例，这个实例传递给init的self参数\n",
    "    \n",
    "    def __init__(self, name, age):\n",
    "        self.name = name\n",
    "        self.age = age\n",
    "        print(\"hello，我是父类的init\")\n",
    "        \n",
    "    def studying(self):\n",
    "        print(\"我爱学习，我在学习\")\n",
    "        \n",
    "\n",
    "class Child(Parent):\n",
    "    def __new__(cls, *args, **kwargs):\n",
    "        print(\"我是子类的new函数\") # 这句话是为了追踪new函数\n",
    "        print(type(cls))  # 追踪new函数的执行过程\n",
    "        print(cls)\n",
    "        return Parent.__new__(cls)\n",
    "    def __init__(self, name, age):\n",
    "        self.name = name\n",
    "        self.age = age\n",
    "        print(\"我是子类的init\")\n",
    "    \n",
    "        \n",
    "if __name__ == \"__main__\":\n",
    "    p = Parent(\"baba\", 50)\n",
    "    print(p.name)\n",
    "    print(p.age)\n",
    "    print(\"===========\")\n",
    "    s = Child(\"son\", 23)\n",
    "    print(s.name)\n",
    "    print(s.age)\n",
    "    #一旦创建实例对象，就会调用new函数和init函数"
   ]
  },
  {
   "cell_type": "code",
   "execution_count": 31,
   "metadata": {},
   "outputs": [],
   "source": [
    "class People():\n",
    "    name = None\n",
    "    age = 21\n",
    "    def __init__(self):\n",
    "        print('Hello!World.')\n",
    "per = People()"
   ]
  },
  {
   "cell_type": "markdown",
   "metadata": {},
   "source": [
    "# Python中的__call__函数\n",
    "- 可以将它们作为输入传递到其他的函数/方法中并调用他们，正如我们调用一个正常的函数那样，类中__call__()函数的意义正在于此。\n",
    "- 其和_init_()方法区别\n",
    "        1. __init__()的作用是初始化某个类的一个实例。 \n",
    "        2. __call__()的作用是使实例能够像函数一样被调用，同时不影响实例本身的生命周期（__call__()不影响一个实例的构造和析构）。但是__call__()可以用来改变实例的内部成员的值。\n",
    "- _call_方法的存在，让实例可以让类似函数方法那样被直接使用，但是有个前提就是必须这个类是实例化了的，在Python实际使用中必须先实例化对象"
   ]
  },
  {
   "cell_type": "code",
   "execution_count": null,
   "metadata": {},
   "outputs": [],
   "source": [
    "class X(object):\n",
    "    def __init__(self, a, b, range):\n",
    "        self.a = a\n",
    "        self.b = b\n",
    "        self.range = range\n",
    "    def __call__(self, a, b):\n",
    "        self.a = a\n",
    "        self.b = b\n",
    "        print('__call__ with （{}, {}）'.format(self.a, self.b))\n",
    "    def __del__(self, a, b, range):\n",
    "        del self.a\n",
    "        del self.b\n",
    "        del self.range\n",
    "#实例化这个类\n",
    "x_instance = X(1, 2, 3)\n",
    "#通过_call_()来修改类属性值\n",
    "x_instance(1,2)\n",
    " \n",
    "得到结果：__call__ with （1, 5）"
   ]
  }
 ],
 "metadata": {
  "kernelspec": {
   "display_name": "Python 3",
   "language": "python",
   "name": "python3"
  },
  "language_info": {
   "codemirror_mode": {
    "name": "ipython",
    "version": 3
   },
   "file_extension": ".py",
   "mimetype": "text/x-python",
   "name": "python",
   "nbconvert_exporter": "python",
   "pygments_lexer": "ipython3",
   "version": "3.7.3"
  }
 },
 "nbformat": 4,
 "nbformat_minor": 2
}
