{
 "cells": [
  {
   "cell_type": "markdown",
   "metadata": {},
   "source": [
    "# hashlib模块\n",
    "- 主要提供字符加密功能，将md5和sha模块整合到了一起，支持md5,sha1, sha224, sha256, sha384, sha512等算法。而且这种加密是不可逆的，所以又称为摘要算法。\n",
    "- 常用的属性和方法\n",
    "    - algorithms：列出所有加密算法\n",
    "    - digesti_size：产生的散列的字节大小\n",
    "    - md5()/sha1()：创建一个md5或者sha1加密模式的hash对象\n",
    "    - update(arg)：用字符串参数来更新hash对象，如果同一个hash对象重复调用该方法。数据量很大时可以使用该函数分次写入\n",
    "        - m.update(a); m.update(b)，则等于m.update(a+b)\n",
    "    - digest()：返回摘要，作为二进制数据字符串值\n",
    "    - hexdigest()：返回摘要，是一个40位的16进制字符串\n",
    "    - copy()：复制\n",
    "    \n",
    "- 碰撞；\n",
    "    - 当两个不同的数据通过某个摘要算法得到了相同的摘要称为碰撞，这种概率很小\n",
    "- 高级加密\n",
    "    - 由于碰撞问题的存在，黑客有可能通过撞库可以反解，所以有必要加盐\n",
    "- 摘要算法\n",
    "    - 摘要算法又称哈希算法、散列算法。它通过一个函数，把任意长度的数据转换为一个长度固定的数据串（通常用16进制的字符串表示）。\n",
    "    - 摘要算法可以验证数据是否白篡改过，因为摘要函数是一个单向函数\n"
   ]
  },
  {
   "cell_type": "code",
   "execution_count": 13,
   "metadata": {},
   "outputs": [
    {
     "name": "stdout",
     "output_type": "stream",
     "text": [
      "所有的加密算法看这里： {'sha512-256', 'sha3-384', 'sha384', 'md5-sha1', 'blake2s256', 'sha3_384', 'sha3_224', 'sha3_256', 'blake2s', 'ripemd160', 'sha3-512', 'sha1', 'sm3', 'sha3_512', 'mdc2', 'sha256', 'sha224', 'sha512', 'shake_256', 'md4', 'shake_128', 'sha512-224', 'shake256', 'shake128', 'md5', 'sha3-224', 'blake2b', 'sha3-256', 'blake2b512', 'whirlpool'}\n",
      "========================================\n",
      "610250d7eb4195304dd8e9822456b2d0\n",
      "b'a\\x02P\\xd7\\xebA\\x950M\\xd8\\xe9\\x82$V\\xb2\\xd0'\n",
      "2b15a93fab77c6cca9400e47cbd638f0\n"
     ]
    }
   ],
   "source": [
    "import hashlib\n",
    "print(\"所有的加密算法看这里：\", hashlib.algorithms_available)\n",
    "print(\"=\" * 40)\n",
    "md5 = hashlib.md5()\n",
    "md5.update(\"how to love a person?\".encode(\"utf-8\"))\n",
    "print(md5.hexdigest())\n",
    "print(md5.digest())\n",
    "\n",
    "# 继续更新md5\n",
    "md5.update(\"use your heart\".encode(\"utf-8\"))\n",
    "print(md5.hexdigest())"
   ]
  },
  {
   "cell_type": "code",
   "execution_count": 14,
   "metadata": {},
   "outputs": [
    {
     "name": "stdout",
     "output_type": "stream",
     "text": [
      "<class 'bytes'>\n",
      "18425f481cc427066424266c807cf29d\n"
     ]
    }
   ],
   "source": [
    "# 加盐\n",
    "import hashlib\n",
    "salt = \"芝麻芝麻开门\"\n",
    "byte_salt = salt.encode(\"utf-8\")\n",
    "print(type(byte_salt))\n",
    "high_level = hashlib.md5(byte_salt)\n",
    "high_level.update(\"你知道我是谁吗\".encode(\"utf-8\"))\n",
    "print(high_level.hexdigest())"
   ]
  },
  {
   "cell_type": "markdown",
   "metadata": {},
   "source": [
    "# hmac模块\n",
    "- 通过一个标准算法，在计算哈希的过程中，把salt混入计算过程\n",
    "- hmac对所有的哈希算法都通用，采用这种算法，使程序算法更标准，安全"
   ]
  },
  {
   "cell_type": "code",
   "execution_count": 18,
   "metadata": {},
   "outputs": [
    {
     "name": "stdout",
     "output_type": "stream",
     "text": [
      "101c331d8b9344903a0db30e5949a61f\n"
     ]
    }
   ],
   "source": [
    "import hmac\n",
    "password = b\"you do not know me\"\n",
    "key = b\"secret key\"\n",
    "h = hmac.new(key, password, digestmod=\"MD5\")\n",
    "print(h.hexdigest())"
   ]
  },
  {
   "cell_type": "code",
   "execution_count": null,
   "metadata": {},
   "outputs": [],
   "source": []
  }
 ],
 "metadata": {
  "kernelspec": {
   "display_name": "Python 3",
   "language": "python",
   "name": "python3"
  },
  "language_info": {
   "codemirror_mode": {
    "name": "ipython",
    "version": 3
   },
   "file_extension": ".py",
   "mimetype": "text/x-python",
   "name": "python",
   "nbconvert_exporter": "python",
   "pygments_lexer": "ipython3",
   "version": "3.7.3"
  }
 },
 "nbformat": 4,
 "nbformat_minor": 2
}
