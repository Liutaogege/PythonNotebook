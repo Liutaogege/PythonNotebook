{
 "cells": [
  {
   "cell_type": "markdown",
   "metadata": {},
   "source": [
    "# collections.namedtuple()的用法\n",
    "- 他是一个工厂函数（说白了就是一个能产生函数的工厂，目的是对一个需要输入多个参数的函数分类封装）,它是tuple的子类\n",
    "- 参数：collections.namedtuple(typename, field_names, *, rename=False, defaults=None, module=None):\n",
    "    - 必填参数：\n",
    "        - typename:参数类型为字符串，为具名元组返回的一个元组子对象命名。（具名元祖：指的是除了可以使用index可以使用具名元组中的具体名称字段来进行访问）\n",
    "        - field_names：参数类型为字符串序列，用于为创建的元祖的每个元素命名，传入样式：['a', 'b'] 或 'a b' 或 'a, b'\n",
    "    - 选填参数：除了*号外，后面的参数必须指定关键字\n",
    "        - rename：默认为False，当为True时，意指在field_names中若出现非法的命名（如以关键字来命名），会将其替换为位置名称\n",
    "        - defaults:参数为None或者可迭代对象\n",
    "            - 当参数为None时，意思是在创建具名元组的实例时，必须要根据field_names的数量来传递指定数量的参数\n",
    "            - 当设置defaults时，就为具名元组的元素赋予了默认值，被赋予默认值的元素在实例化时可以不传入\n",
    "            - 当defaults传入的序列长度和field_names不一致时，默认会右侧优先\n",
    "            - 例：若field_names 是[\"x\", \"y\", \"z\"],defaults是(1,2),那么x是实例化必填参数，而y和z默认为1和2\n",
    "        - module:\n",
    "### 特性\n",
    "- _make(iterable)\n",
    "    - 类函数，参数是迭代器，构建具名元组实例。Point._make(list(range(1,3)))\n",
    "- _asdict()\n",
    "    - 实例方法，根据具名元组的名称和其元素值，构建一个OrderdDict返回\n",
    "- _replace(**kwargs)\n",
    "    - namedtuple构建的元祖其属性不能随便更改，若要修改，只得使用_replace\n",
    "    - 实例方法，根据传入的关键参数，替换具名元组的相关参数，然后返回一个新的具名元组\n",
    "- _fields\n",
    "    - 实例属性，存储了此具名元组的元素名称元组，再根据已经存在的具名元组创建新的具名元组的时候使用\n",
    "- _fields_defaults\n",
    "    - 查看具名元组类的默认值\n",
    "### 使用技巧\n",
    "- getattr(p,x):获取具名元组p中具名字段为x的元素值\n",
    "- 将字典转换为具名元组：d = 字典， Point(**d)\n"
   ]
  },
  {
   "cell_type": "code",
   "execution_count": 7,
   "metadata": {},
   "outputs": [
    {
     "name": "stdout",
     "output_type": "stream",
     "text": [
      "<class '__main__.Point'>\n",
      "Point(x=11, y=22)\n",
      "11 22\n",
      "11 22\n"
     ]
    }
   ],
   "source": [
    "# namedtuple()实例\n",
    "from collections import namedtuple\n",
    "pt = namedtuple(\"Point\",\"x, y\")  # 创建了一个名为Point的类，然后赋值给pt这个变量，通过变量实现相关调用\n",
    "# 不过一般还是把pt变量命名为Point\n",
    "p = pt(11,22)\n",
    "# 以上就是实例化一个具名元组\n",
    "print(pt)\n",
    "print(p)\n",
    "print(p[0], p[1])\n",
    "print(p.x, p.y)"
   ]
  },
  {
   "cell_type": "code",
   "execution_count": 13,
   "metadata": {},
   "outputs": [
    {
     "name": "stdout",
     "output_type": "stream",
     "text": [
      "Position(x='xi', y='ha', z='hey')\n",
      "Position(x='xi', y='bi', z='bai')\n"
     ]
    }
   ],
   "source": [
    "# namedtuple()的defaults参数\n",
    "Position = namedtuple(\"Position\", [\"x\", \"y\", \"z\"], defaults = (\"ha\", \"hey\"))\n",
    "p = Position(\"xi\") # defaults之定义了两个参数，所以必须还要传入一个参数\n",
    "print(p)\n",
    "p = Position(\"xi\", \"bi\", \"bai\")\n",
    "print(p)"
   ]
  },
  {
   "cell_type": "code",
   "execution_count": 22,
   "metadata": {},
   "outputs": [
    {
     "name": "stdout",
     "output_type": "stream",
     "text": [
      "Options(verbosity=0, inventory='/etc/ansible/hosts', listhosts=None)\n",
      "/etc/ansible/hosts\n",
      "OrderedDict([('verbosity', 0), ('inventory', \"I don't know\"), ('listhosts', None)])\n",
      "<class 'collections.OrderedDict'>\n"
     ]
    }
   ],
   "source": [
    "options = {'verbosity': 0, 'inventory': '/etc/ansible/hosts', 'listhosts': None}\n",
    "#字典转化为namedtuple\n",
    "keys_list = [keys for keys in options.keys()]\n",
    "values_list = [values for values in options.values()]\n",
    "'''\n",
    "等同于\n",
    "keys_list = list(options.keys())\n",
    "values_list = list(options.values())\n",
    "'''\n",
    "\n",
    "Options = namedtuple('Options', keys_list)\n",
    "options = Options._make(values_list)\n",
    "\n",
    "#namedtuple转化为字典\n",
    "print(options)\n",
    "bb = options._asdict()\n",
    "print(bb)\n",
    "print(type(bb))\n"
   ]
  },
  {
   "cell_type": "code",
   "execution_count": null,
   "metadata": {},
   "outputs": [],
   "source": []
  }
 ],
 "metadata": {
  "kernelspec": {
   "display_name": "Python 3",
   "language": "python",
   "name": "python3"
  },
  "language_info": {
   "codemirror_mode": {
    "name": "ipython",
    "version": 3
   },
   "file_extension": ".py",
   "mimetype": "text/x-python",
   "name": "python",
   "nbconvert_exporter": "python",
   "pygments_lexer": "ipython3",
   "version": "3.7.3"
  }
 },
 "nbformat": 4,
 "nbformat_minor": 2
}
