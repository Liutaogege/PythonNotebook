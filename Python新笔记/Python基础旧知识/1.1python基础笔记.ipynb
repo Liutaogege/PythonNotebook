{
 "cells": [
  {
   "cell_type": "markdown",
   "metadata": {},
   "source": [
    "# 面向对象的三大特征\n",
    "- 继承\n",
    "- 封装\n",
    "- 多态\n",
    "# 继承\n",
    "- 有父类和子类\n",
    "- 所有类都有父类\n",
    "   - 如果没有给出，则默认是object的子类\n",
    "   - 父类写在类定义的括号里\n",
    "- 子类可以继承多个父类，但不建议\n",
    "- 继承变量函数的查找问题\n",
    "    - 优先从自己找起"
   ]
  },
  {
   "cell_type": "code",
   "execution_count": 93,
   "metadata": {},
   "outputs": [],
   "source": [
    "class People():\n",
    "    name = 'Noname'\n",
    "    age = 0\n",
    "    \n",
    "class Teachers(People):\n",
    "    def intro(self):\n",
    "        \n",
    "        print(\"I am a teacher!\")"
   ]
  },
  {
   "cell_type": "code",
   "execution_count": 94,
   "metadata": {},
   "outputs": [
    {
     "data": {
      "text/plain": [
       "'Noname'"
      ]
     },
     "execution_count": 94,
     "metadata": {},
     "output_type": "execute_result"
    }
   ],
   "source": [
    "xiaobai = Teachers()\n",
    "xiaobai.name"
   ]
  },
  {
   "cell_type": "markdown",
   "metadata": {},
   "source": [
    "# 关于多继承的MRO问题\n",
    "- MRO就是用于保存继承顺序的一个列表\n",
    "- MRO列表的计算原则\n",
    "    - 首先是自己，其次是父类。\n",
    "    - 多个父类时按定义父类时的书写顺序排列\n",
    "    - 然后就是爷爷类，爷爷类按照父类的父类顺序进行排列。如果父类的父类是同一个，则只写一个爷爷类\n",
    "    - 最后就是object类\n",
    "\n",
    "## __dict__:检查成员\n",
    "- classname.__dict__  : 检查类中的所有成员\n",
    "- obj.__dict__   检查对象的所有成员"
   ]
  },
  {
   "cell_type": "code",
   "execution_count": 100,
   "metadata": {},
   "outputs": [
    {
     "name": "stdout",
     "output_type": "stream",
     "text": [
      "(<class '__main__.Teachers'>, <class '__main__.People'>, <class 'object'>)\n",
      "{'__module__': '__main__', 'intro': <function Teachers.intro at 0x0000026A971DEAE8>, '__doc__': None}\n",
      "{}\n",
      "{'name': 'saobai'}\n"
     ]
    }
   ],
   "source": [
    "class People():\n",
    "    name = 'Noname'\n",
    "    age = 0\n",
    "    \n",
    "class Teachers(People):\n",
    "    def intro(self):\n",
    "        \n",
    "        print(\"I am a teacher!\")\n",
    "xiaobai = Teachers()\n",
    "print(Teachers.__mro__)\n",
    "print(Teachers.__dict__) \n",
    "print(xiaobai.__dict__)\n",
    "xiaobai.name = 'saobai'\n",
    "print(xiaobai.__dict__)"
   ]
  },
  {
   "cell_type": "code",
   "execution_count": 42,
   "metadata": {},
   "outputs": [],
   "source": [
    "class Birds():\n",
    "    quote  = 'I can fly'\n",
    "    def sounds(self):\n",
    "        print('jajijaji')\n"
   ]
  },
  {
   "cell_type": "code",
   "execution_count": 43,
   "metadata": {},
   "outputs": [],
   "source": [
    "class FlyMan(People,Birds):\n",
    "    pass"
   ]
  },
  {
   "cell_type": "code",
   "execution_count": 85,
   "metadata": {},
   "outputs": [
    {
     "name": "stdout",
     "output_type": "stream",
     "text": [
      "Noname\n",
      "jajijaji\n"
     ]
    },
    {
     "data": {
      "text/plain": [
       "mappingproxy({'__module__': '__main__',\n",
       "              'quote': 'I can fly',\n",
       "              'sounds': <function __main__.Birds.sounds(self)>,\n",
       "              '__dict__': <attribute '__dict__' of 'Birds' objects>,\n",
       "              '__weakref__': <attribute '__weakref__' of 'Birds' objects>,\n",
       "              '__doc__': None})"
      ]
     },
     "execution_count": 85,
     "metadata": {},
     "output_type": "execute_result"
    }
   ],
   "source": [
    "# 继承多个父类\n",
    "flyman = FlyMan()\n",
    "print(flyman.name)\n",
    "flyman.sounds()\n",
    "Birds.__dict__"
   ]
  },
  {
   "cell_type": "markdown",
   "metadata": {},
   "source": [
    "# 子类可以对父类的功能进行拓展\n",
    "- super不是一个关键字\n",
    "-  不是父类，但可以通过他找到父类\n"
   ]
  },
  {
   "cell_type": "code",
   "execution_count": 90,
   "metadata": {},
   "outputs": [
    {
     "name": "stdout",
     "output_type": "stream",
     "text": [
      "I am a teacher!\n",
      "make some money\n",
      "We all can sing\n",
      "make money by lecturing\n"
     ]
    }
   ],
   "source": [
    "class People():\n",
    "    name = 'Noname'\n",
    "    age = 0\n",
    "    def __init__(self):\n",
    "        print('我是people的')\n",
    "    def work(self):\n",
    "        print('make some money')\n",
    "    def sing(self):\n",
    "        print('We all can sing')\n",
    "    \n",
    "class Teachers(People):\n",
    "    def __init__(self):\n",
    "        print('I am a teacher!')\n",
    "    def work(self):\n",
    "        People.work(self) # 注意self必须的有，还可以用super().work()\n",
    "        super().sing()\n",
    "        print('make money by lecturing')\n",
    "\n",
    "xiaom = Teachers()\n",
    "xiaom.work()"
   ]
  },
  {
   "cell_type": "markdown",
   "metadata": {},
   "source": [
    "# 构造函数（初始化函数）的继承\n",
    "- 如果子类没有构造函数，则构造函数默认继承父类的\n",
    "- 子类函数有构造函数时，则不再继承父类的\n",
    "- 构造函数是谁的，就要按照谁的样子来构造。"
   ]
  },
  {
   "cell_type": "code",
   "execution_count": 90,
   "metadata": {},
   "outputs": [
    {
     "name": "stdout",
     "output_type": "stream",
     "text": [
      "I am a teacher!\n",
      "我是people的\n"
     ]
    }
   ],
   "source": [
    "class People():\n",
    "    name = 'Noname'\n",
    "    age = 0\n",
    "    def __init__(self):\n",
    "        print('我是people的')\n",
    "    \n",
    "class Teachers(People):\n",
    "    def __init__(self):\n",
    "        \n",
    "        print(\"I am a teacher!\")\n",
    "class Teachers1(People):\n",
    "    def intro(self):\n",
    "        \n",
    "        print(\"I am a teacher!\")\n",
    "        \n",
    "xiaobai = Teachers()\n",
    "xiaobai1 = Teachers1()"
   ]
  },
  {
   "cell_type": "markdown",
   "metadata": {},
   "source": [
    "# 访问类中类属性的方法\n",
    "- 第一种：若类的构造函数中没有该属性，则可以直接通过self.xx或者__class__.xx来进行访问\n",
    "- 第二种：若类的构造函数中有和类中属性相同的变量，则一般来说构造函数中的变量会覆盖类中的那个属性变量。则类中的属性无法通过self.xx访问，只有通过__class__.xx访问"
   ]
  },
  {
   "cell_type": "code",
   "execution_count": 98,
   "metadata": {},
   "outputs": [
    {
     "name": "stdout",
     "output_type": "stream",
     "text": [
      "四川大学\n",
      "四川大学\n"
     ]
    },
    {
     "data": {
      "text/plain": [
       "<__main__.S at 0x24bdae487b8>"
      ]
     },
     "execution_count": 98,
     "metadata": {},
     "output_type": "execute_result"
    }
   ],
   "source": [
    "# 若构造函数中没有与类属性相同的变量名\n",
    "class S():\n",
    "    name = \"四川大学\"\n",
    "    def __init__(self):\n",
    "        print(self.name)  #此时self.name表示的是类属性\n",
    "        print(__class__.name)\n",
    "s = S()\n",
    "s"
   ]
  },
  {
   "cell_type": "code",
   "execution_count": 107,
   "metadata": {},
   "outputs": [
    {
     "name": "stdout",
     "output_type": "stream",
     "text": [
      "xiaoming\n",
      "习水一中\n",
      "xiaoming\n",
      "习水一中\n"
     ]
    }
   ],
   "source": [
    "# 若类属性的变量名和构造函数中的变量名同名举例\n",
    "class Student():\n",
    "    name = \"习水一中\"\n",
    "    def __init__(self, name):\n",
    "        self.name = name  # 此时的self.name表示的是传递进构造函数的name\n",
    "        print(self.name)\n",
    "        print(__class__.name) #内部访问类属性的方法\n",
    "        \n",
    "        \n",
    "stu = Student(\"xiaoming\")\n",
    "print(stu.name) #若构造函数中有相同的变量名，则访问不到类属性的那个同名变量\n",
    "print(Student.name) # 外部访问类属性的方法"
   ]
  }
 ],
 "metadata": {
  "kernelspec": {
   "display_name": "Python 3",
   "language": "python",
   "name": "python3"
  },
  "language_info": {
   "codemirror_mode": {
    "name": "ipython",
    "version": 3
   },
   "file_extension": ".py",
   "mimetype": "text/x-python",
   "name": "python",
   "nbconvert_exporter": "python",
   "pygments_lexer": "ipython3",
   "version": "3.7.3"
  }
 },
 "nbformat": 4,
 "nbformat_minor": 2
}
