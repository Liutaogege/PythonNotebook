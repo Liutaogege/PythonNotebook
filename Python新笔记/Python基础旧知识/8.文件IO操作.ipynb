{
 "cells": [
  {
   "cell_type": "markdown",
   "metadata": {},
   "source": [
    "# 文件\n",
    "- 长久保存信息的一种数据信息集合\n",
    "- 常用操作\n",
    "    - 打开关闭（文件一旦打开，需要关闭操作，即调用close（）函数）\n",
    "    - 读写内容\n",
    "    - 查找\n",
    "# open函数\n",
    "- 参数:open(file, mode='r', buffering=-1,encoding=None, errors=None, newline=None,closed=True, opener=None)\n",
    "    - file,必需参数，文件路径（相对或者绝对）\n",
    "    - mode.可选，文件打开模式，默认为r还有很多见下面\n",
    "    - buffering：设置缓冲区\n",
    "        - 缓冲区的意思是是先放入暂存区等待关闭文件后在写入文件，缓冲区意味着直接写入文件\n",
    "        - 通过0以关闭缓冲（仅在二进制模式下允许），1选择行缓冲（仅在文本模式下可用）\n",
    "        - 若值为0或false，没有缓冲区\n",
    "        - 若为1或True有缓冲区\n",
    "        - 若为其他正数则表示缓冲区大小\n",
    "        - 若为负数，则使用默认缓冲区大小\n",
    "    - encoding：文件编码类型，一般utf8\n",
    "    - errors:报错级别\n",
    "    - newline：区分换行符\n",
    "    - closefd：传入的file参数类型\n",
    "        - 如果closefd是False并且给出了文件描述器而不是文件名，则当文件关闭时，基本文件描述器将保持打开。如果给定文件名，则closefd必须为True（默认值），否则将产生错误。\n",
    "    - opener：\n",
    "\n",
    "\n",
    "### mode参数(常用r,w,a)\n",
    "            模式\t描述\n",
    "            r\t   只读模式打开文件，读文件内容的指针会放在文件的开头。这是默认模式\n",
    "            w\t\t以只写模式打开文件，若该文件存在，打开时会清空文件中原有的内容。\n",
    "            a\t追加模式打开一个文件，对文件只有写入权限，如果文件已经存在，文件指针将放在文件的末尾（即新写入内容会位于已有内容之后）；反之，则会创建新文件。\n",
    "### mode参数后缀(t,b,+)\n",
    "- 后缀t(rt,wt,at,r+t,w+t,a+t)\n",
    "    - 表示一系列操作都是通过文本模式进行\n",
    "- 后缀b(rb,wb,ab,r+b,w+b,a+b)\n",
    "    - 表示一系列操作都是通过二进制模式进行\n",
    "- 后缀+\n",
    "    - 可以理解成对文件进行更新，不同的mode有不同的含义\n",
    "    - r+:可读可写，打开文件后，既可以从头读取文件内容，也可以从开头向文件中写入新的内容，写入的新内容会覆盖文件中等长度的原有内容。\n",
    "    - w+:可读可写，但是无论读写，都会删除原来那个旧的文件再创建一个新文件，所以读到的内容永远是一个空的内容。\n",
    "    - a+:以读写模式打开文件；如果文件存在，文件指针放在文件的末尾（新写入文件会位于已有内容之后）；反之，则创建新文件。\n",
    "\n",
    "\n",
    "\n",
    "# 读取文件的方法\n",
    "- read(value):默认一次性把文件的内容读取完毕，当指定读取字符个数value的时候，以字符为单位读取多少个字符\n",
    "- readline(）：按行读取\n",
    "- readlines():返回一个列表,包含每一行的内容及其换行符\n",
    "- 直接迭代文件对象：文件对象也是一个迭代器，即可以通过for循环来进行迭代，并且一次性只会读取一行，从而可以读取大文件\n",
    "        fp = open(\"moumou.txt\", \"r\", encoding=\"utf-8\", newline=\"\")\n",
    "        for line in fp:\n",
    "            print(line, end=\"\")\n",
    "        fp.close()\n",
    "    - 大文件的读取也可以采用以上的方式，很方便，用readlines读取的话打开文件都需要很久\n",
    "\n",
    "# 文件的写操作：write\n",
    "- write(str):把字符串写入文件\n",
    "- writeline（str）：把把字符串按行写入文件\n",
    "- 区别：\n",
    "    - write函数参数只能是字符串\n",
    "    - writelines参数可以是字符串，也可以字符串序列,都需要手动写入换行符号\\n\n",
    "            a = {\"name\": \"liutao\", \"age\": 23}\n",
    "            b = map(lambda x:x+'\\n', a)\n",
    "            fp = open(\"moumou.txt\", 'w', encoding=\"utf-8\")\n",
    "            fp.writelines(b)\n",
    "            fp.close()\n",
    "    \n",
    "### 文件操作相关方法\n",
    "- seek(offset, from)\n",
    "    - 移动文件的读取位置，即指针\n",
    "    - from的取值范围：\n",
    "        - 0：从文件开端开始偏移\n",
    "        - 1：从文件当前位置开始偏移\n",
    "        - 2：从文件末尾开始偏移\n",
    "        - 注意：在python3中，如果from的值不为0，那么offset就必须为0，也就意味着不能倒着读。所以想要倒着读需要借用tell方法\n",
    "                fp = open(\"moumou.txt\", 'r', encoding=\"utf-8\")\n",
    "                fp.seek(0,2)  # 先让指针跳转到末尾\n",
    "                end_tell = fp.tell()\n",
    "                # 想读取几位就减去几位\n",
    "                current_tell = end_tell - 3\n",
    "                fp.seek(current_tell, 0)\n",
    "                print(fp.read())\n",
    "                fp.close()\n",
    "\n",
    "- tell()函数\n",
    "    - 读取文件当前指针的位置\n",
    "    \n",
    "- flush()函数\n",
    "    - 该函数用于将文件缓存清空，让修改后的内容保存到文件中\n",
    "- fileno()\n",
    "    - 得到文件编号\n",
    "    - 得到文件在进程中的编号，这是一个整数值，其中stdin在进程中的文件编号永远是0，stdout永远是1，stderr永远是2，其他文件的编号都大于2\n",
    "   \n",
    "\n",
    "# with语句\n",
    "- 上下文管理协议的技术：它是一种支持__enter__和__exit__这两个方法的对象，不管程序有没有发生异常，都会关闭文件\n",
    "- 自动判断文件作用域，自动关闭不再使用的已打开的文件句柄\n",
    "- 基本都用with语句打开文件"
   ]
  },
  {
   "cell_type": "code",
   "execution_count": 1,
   "metadata": {},
   "outputs": [],
   "source": [
    "# 举例\n",
    "# r表示后面的反斜杠不需要转义，f成为文件句柄\n",
    "f = open(r\"C:\\Users\\acer\\Desktop\\test.txt\", \"a\")\n",
    "f.close()"
   ]
  },
  {
   "cell_type": "code",
   "execution_count": null,
   "metadata": {},
   "outputs": [
    {
     "name": "stdout",
     "output_type": "stream",
     "text": [
      "精力，激情，热切的理想\n",
      "\n",
      "你都有\n",
      "\n",
      "所有你还怕什么不可以做呢\n",
      "\n",
      "趁着年轻\n",
      "['精力，激情，热切的理想\\n', '你都有\\n', '所有你还怕什么不可以做呢\\n', '趁着年轻']\n"
     ]
    }
   ],
   "source": [
    "# with案例,readline按行读取，读完一行，指针就指到下一行\n",
    "with open(r\"C:\\Users\\acer\\Desktop\\test.txt\", \"r\", encoding='utf-8') as f:\n",
    "    strline = f.readline()\n",
    "    while strline:\n",
    "        print(strline)\n",
    "        strline = f.readline()\n",
    "\n",
    "# readlines（）\n",
    "with open(r\"C:\\Users\\acer\\Desktop\\test.txt\", \"r\", encoding='utf-8') as f:\n",
    "    strline = f.readlines()\n",
    "    print(strline)\n"
   ]
  },
  {
   "cell_type": "code",
   "execution_count": null,
   "metadata": {},
   "outputs": [
    {
     "name": "stdout",
     "output_type": "stream",
     "text": [
      "精力，激情，热切的理想\n",
      "你都有\n",
      "所有你还怕什么不可以做呢\n",
      "趁着年轻\n"
     ]
    }
   ],
   "source": [
    "# read是按字符读取文件内容\n",
    "# 允许输入参数决定读取几个字符，如果没有指定，从当前位置读取到结尾\n",
    "# 否则，从当前位置读取指定个数字符\n",
    "with open(r\"C:\\Users\\acer\\Desktop\\test.txt\", \"r\", encoding='utf-8') as f:\n",
    "    f_content = f.read()\n",
    "    print(f_content)"
   ]
  },
  {
   "cell_type": "markdown",
   "metadata": {},
   "source": [
    "# seek"
   ]
  },
  {
   "cell_type": "code",
   "execution_count": null,
   "metadata": {},
   "outputs": [
    {
     "name": "stdout",
     "output_type": "stream",
     "text": [
      "激情，热切的理想\n",
      "你都有\n",
      "所有你还怕什么不可以做呢\n",
      "趁着年轻\n"
     ]
    }
   ],
   "source": [
    "with open(r\"C:\\Users\\acer\\Desktop\\test.txt\", \"r\", encoding='utf-8') as f:\n",
    "    f.seek(9,0)\n",
    "    f_content = f.read()\n",
    "    print(f_content)"
   ]
  },
  {
   "cell_type": "code",
   "execution_count": null,
   "metadata": {},
   "outputs": [
    {
     "name": "stdout",
     "output_type": "stream",
     "text": [
      "精力，\n",
      "激情，\n",
      "热切的\n",
      "理想\n",
      "你都有\n",
      "\n",
      "你还怕\n",
      "什么不\n",
      "可以做\n",
      "呢\n",
      "着年轻\n"
     ]
    }
   ],
   "source": [
    "import time\n",
    "with open(r\"C:\\Users\\acer\\Desktop\\test.txt\", 'r', encoding='utf-8') as f:\n",
    "    f_content = f.read(3)\n",
    "    while f_content:\n",
    "        f_content = f_content.split(\"\\n\")[0]\n",
    "        print(f_content)\n",
    "        time.sleep = 0.5\n",
    "        f_content = f.read(3)"
   ]
  },
  {
   "cell_type": "code",
   "execution_count": null,
   "metadata": {},
   "outputs": [
    {
     "name": "stdout",
     "output_type": "stream",
     "text": [
      "9\n",
      "精力，\n",
      "35\n",
      "激情，热切的理想\n",
      "\n",
      "46\n",
      "你都有\n",
      "\n",
      "84\n",
      "所有你还怕什么不可以做呢\n",
      "\n",
      "96\n",
      "趁着年轻\n"
     ]
    }
   ],
   "source": [
    "# tell函数：显示文件读写指针的当前位置\n",
    "with open(r\"C:\\Users\\acer\\Desktop\\test.txt\", \"r\", encoding='utf-8') as f:\n",
    "    strline = f.read(3)\n",
    "    pos = f.tell()\n",
    "    while strline:\n",
    "        print(pos)\n",
    "        print(strline)\n",
    "        strline = f.readline()\n",
    "        pos = f.tell()\n"
   ]
  },
  {
   "cell_type": "markdown",
   "metadata": {},
   "source": [
    "# 文件的写操作：write\n",
    "- write(str):把字符串写入文件\n",
    "- writeline（str）：把把字符串按行写入文件\n",
    "- 区别：\n",
    "    - write函数参数只能是字符串\n",
    "    - writelines参数可以是字符串，也可以字符串序列,都需要手动换行"
   ]
  },
  {
   "cell_type": "code",
   "execution_count": 1,
   "metadata": {},
   "outputs": [
    {
     "name": "stdout",
     "output_type": "stream",
     "text": [
      "追加内容成功\n"
     ]
    }
   ],
   "source": [
    "# write举例\n",
    "# 向文件追加内容\n",
    "# a代表追加方式打开\n",
    "with open (r\"C:\\Users\\acer\\Desktop\\test.txt\", 'a') as f:\n",
    "    f.write(\"生活不知眼前的苟且，还有诗和远方\")\n",
    "    print(\"追加内容成功\")"
   ]
  },
  {
   "cell_type": "markdown",
   "metadata": {},
   "source": [
    "# StringIO和BytesIO\n",
    "- 导入：from io import StringIO\n",
    "- StringIO就是在内存中读写str。要把str写入StringIO，需要先创建一个StringIO,getvalue()方法用于获得写入后的str\n",
    "- BytesIO就是在内存中读写bytes，同StringIO。导入from io import BytesIO\n",
    "- StringIO和BytesIO是在内存中操作str和bytes的方法，使得和读写文件具有一致的接口。"
   ]
  },
  {
   "cell_type": "code",
   "execution_count": 2,
   "metadata": {},
   "outputs": [
    {
     "name": "stdout",
     "output_type": "stream",
     "text": [
      "人生注定是一场自己孤独的旅行\n",
      "上面说的是对的\n",
      "那个她，你在哪，我还能遇见你吗\n"
     ]
    }
   ],
   "source": [
    "from io import StringIO\n",
    "f = StringIO()\n",
    "#写入文件\n",
    "f.write(\"人生注定是一场自己孤独的旅行\")\n",
    "f.write(\"\\n\")\n",
    "f.write(\"上面说的是对的\")\n",
    "print(f.getvalue())\n",
    "\n",
    "#读取文件\n",
    "f = StringIO(\"那个她，你在哪，我还能遇见你吗\")\n",
    "while True:\n",
    "    s = f.readline()\n",
    "    if s == \"\":\n",
    "        break\n",
    "    print(s.strip())"
   ]
  },
  {
   "cell_type": "code",
   "execution_count": 7,
   "metadata": {},
   "outputs": [
    {
     "name": "stdout",
     "output_type": "stream",
     "text": [
      "b'\\xe5\\xad\\xa4\\xe7\\x8b\\xac\\xe6\\x97\\x85\\xe8\\xa1\\x8c'\n",
      "孤独旅行\n"
     ]
    }
   ],
   "source": [
    "from io import BytesIO\n",
    "f = BytesIO()\n",
    "f.write(\"孤独旅行\".encode('utf-8'))\n",
    "print(f.getvalue())\n",
    "\n",
    "f = BytesIO(b'\\xe5\\xad\\xa4\\xe7\\x8b\\xac\\xe6\\x97\\x85\\xe8\\xa1\\x8c')\n",
    "print(f.read().decode())"
   ]
  },
  {
   "cell_type": "code",
   "execution_count": null,
   "metadata": {},
   "outputs": [
    {
     "name": "stdout",
     "output_type": "stream",
     "text": [
      "追加内容成功\n"
     ]
    }
   ],
   "source": [
    "write_content = ['I resent you very much', 'But I can not', 'why are you being like this']\n",
    "with open (r\"C:\\Users\\acer\\Desktop\\test.txt\", 'a') as f:\n",
    "    f.writelines(write_content)\n",
    "    print(\"追加内容成功\")"
   ]
  },
  {
   "cell_type": "markdown",
   "metadata": {},
   "source": [
    "# 用于序列化的两个模块：json和pickle\n",
    "- 两者区别：pickle不是用于多种语言间的数据传输，仅仅作为对Python对象的持久化；Json只能处理简单类型数据\n",
    "- json：用于字符串和Python数据类型间进行转换\n",
    "- pickle: 用于python特有的类型和python的数据类型间进行转换\n",
    "- json提供四个功能：dumps,dump,loads,load\n",
    "- pickle提供四个功能：dumps,dump,loads,load\n",
    "## pickle\n",
    "- 序列化（持久化，落地，串行化）：把程序运行的信息保存在磁盘上，dump\n",
    "- 反序列化（反串行化）：序列化的逆过程load\n",
    "\n",
    "### pickle可存储的数据类型\n",
    "- 所有python支持的原生类型：布尔值，整数，浮点数，复数，字符串，字节，None。\n",
    "- 列表，元组，字典，集合\n",
    "- 函数，类，类的实例\n",
    "### pickle常用方法\n",
    "- pickle.dump(obj, file, protocol=None)\n",
    "    - obj：表示要封装的对象\n",
    "    - file：表示obj要写入的文件对象，file必须以二进制可写模式打开\n",
    "    - protocol：告知pickle的使用协议，有0，1,2，3默认为Python 3中的3\n",
    "- pickle.load(file,*, fix_imports=True,encoding=\"ASCII\",errors=\"strict\")\n",
    "    - file必须以二进制可读模式打开，其他参数可选\n",
    "- pickle.dumps(obj):\n",
    "    - 以字节对象形式返回封装的对象，不需要写入文件中\n",
    "- pickle.loads(bytes_object):\n",
    "    - 从字节对象中读取被封装的对象并返回\n",
    "### pickle可能出现的三种异常\n",
    "- PickleError:封装和拆封装出现的异常\n",
    "- PicklingError：遇到不可封装的对象\n",
    "- UnPicklingError:拆封对象过程中出现的异常\n",
    "\n",
    "# json模块\n",
    "- 参数：\n",
    "    - Skipkeys：默认值是False，如果dict的keys内的数据不是python的基本类型(str,unicode,int,long,float,bool,None)，设置为False时，就会报TypeError的错误。此时设置成True，则会跳过这类key\n",
    "\n",
    "    - ensure_ascii：默认值True，如果dict内含有non-ASCII的字符，则会类似\\uXXXX的显示数据，设置成False后，就能正常显示\n",
    "\n",
    "    - indent：应该是一个非负的整型，如果是0，或者为空，则一行显示数据，否则会换行且按照indent的数量显示前面的空白，这样打印出来的json数据也叫pretty-printed json\n",
    "\n",
    "    - separators：分隔符，实际上是(item_separator, dict_separator)的一个元组，默认的就是(',',':')；这表示dictionary内keys之间用“,”隔开，而KEY和value之间用“：”隔开。\n",
    "\n",
    "    - encoding：默认是UTF-8，设置json数据的编码方式。\n",
    "\n",
    "    - sort_keys：将数据根据keys的值进行排序。\n",
    "\n",
    "    - Decode过程，是把json对象转换成python对象的一个过程，常用的两个函数是loads和load函数。区别跟dump和dumps是一样的。"
   ]
  },
  {
   "cell_type": "code",
   "execution_count": null,
   "metadata": {},
   "outputs": [
    {
     "name": "stdout",
     "output_type": "stream",
     "text": [
      "写入完成\n",
      "输出完成\n",
      "你总是心太软心太软\n"
     ]
    }
   ],
   "source": [
    "\n"
   ]
  },
  {
   "cell_type": "markdown",
   "metadata": {},
   "source": [
    "\n"
   ]
  },
  {
   "cell_type": "code",
   "execution_count": null,
   "metadata": {},
   "outputs": [
    {
     "name": "stdout",
     "output_type": "stream",
     "text": [
      "KeysView(<shelve.DbfilenameShelf object at 0x000001CBF4550940>)\n"
     ]
    }
   ],
   "source": [
    "# 使用shelve创建文件并使用\n",
    "import shelve\n",
    "import os\n",
    "# 打开文件\n",
    "# shv相当于一个字典\n",
    "os.chdir(r\"C:\\Users\\acer\\Desktop\")\n",
    "shv = shelve.open(r\"shv.db\")\n",
    "shv['one'] = 'apple'\n",
    "shv['two'] = 'pear'\n",
    "print(shv.keys())\n",
    "shv.close()"
   ]
  },
  {
   "cell_type": "code",
   "execution_count": null,
   "metadata": {},
   "outputs": [
    {
     "name": "stdout",
     "output_type": "stream",
     "text": [
      "<shelve.DbfilenameShelf object at 0x000001CBF45406D8>\n",
      "apple\n"
     ]
    }
   ],
   "source": [
    "# shelve读取数据,若访问数据不存在，则报错，建议使用try语句\n",
    "shv = shelve.open(r'shv.db')\n",
    "print(shv)\n",
    "print(shv['one'])\n",
    "shv.close()"
   ]
  },
  {
   "cell_type": "code",
   "execution_count": null,
   "metadata": {},
   "outputs": [
    {
     "name": "stdout",
     "output_type": "stream",
     "text": [
      "apple\n"
     ]
    }
   ],
   "source": [
    "# shelve之只读打开\n",
    "import shelve\n",
    "shv = shelve.open(r'shv.db', flag=\"r\")\n",
    "try:\n",
    "    k = shv['one']\n",
    "    print(k)\n",
    "finally:\n",
    "    shv.close()"
   ]
  },
  {
   "cell_type": "code",
   "execution_count": null,
   "metadata": {},
   "outputs": [
    {
     "name": "stdout",
     "output_type": "stream",
     "text": [
      "{'name': 'ass', 'fool': 'dump'}\n",
      "{'name': 'butt', 'fool': 'dump'}\n"
     ]
    }
   ],
   "source": [
    "# 强制写回案例\n",
    "import shelve\n",
    "shv = shelve.open(r'new_shv.db')\n",
    "try: \n",
    "    shv['one'] = {'name':\"ass\", \"fool\":'dump'} \n",
    "finally:\n",
    "    shv.close()\n",
    "\n",
    "    \n",
    "shv = shelve.open(r'new_shv.db', writeback=True) #若无writeback则修改不了\n",
    "try:\n",
    "    one = shv['one']\n",
    "    print(one)\n",
    "    one['name'] = 'butt'\n",
    "finally:\n",
    "    shv.close()\n",
    "\n",
    "    \n",
    "shv = shelve.open(r'new_shv.db')\n",
    "try:\n",
    "    one = shv['one']\n",
    "    print(one)\n",
    "finally:\n",
    "    shv.close()"
   ]
  },
  {
   "cell_type": "code",
   "execution_count": null,
   "metadata": {},
   "outputs": [],
   "source": [
    "# shelve忘记写回，则需要强制写回\n",
    "shv = shelve.open(r\"shv.db\")\n"
   ]
  }
 ],
 "metadata": {
  "kernelspec": {
   "display_name": "Python 3",
   "language": "python",
   "name": "python3"
  },
  "language_info": {
   "codemirror_mode": {
    "name": "ipython",
    "version": 3
   },
   "file_extension": ".py",
   "mimetype": "text/x-python",
   "name": "python",
   "nbconvert_exporter": "python",
   "pygments_lexer": "ipython3",
   "version": "3.7.3"
  }
 },
 "nbformat": 4,
 "nbformat_minor": 2
}
