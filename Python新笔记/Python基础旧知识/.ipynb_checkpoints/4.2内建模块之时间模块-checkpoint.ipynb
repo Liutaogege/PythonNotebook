{
 "cells": [
  {
   "cell_type": "markdown",
   "metadata": {},
   "source": [
    "# 常用模块\n",
    "- calender\n",
    "- time\n",
    "- datetime\n",
    "- timeit\n",
    "- os\n",
    "- shutil\n",
    "- zip\n",
    "- math\n",
    "- string\n",
    "- 上述所有模块使用前都要导入，string是特例\n",
    "- calendar"
   ]
  },
  {
   "cell_type": "code",
   "execution_count": 5,
   "metadata": {},
   "outputs": [
    {
     "name": "stdout",
     "output_type": "stream",
     "text": [
      "                               2020\n",
      "\n",
      "      January                February                March\n",
      "Mo Tu We Th Fr Sa Su   Mo Tu We Th Fr Sa Su   Mo Tu We Th Fr Sa Su\n",
      "       1  2  3  4  5                   1  2                      1\n",
      " 6  7  8  9 10 11 12    3  4  5  6  7  8  9    2  3  4  5  6  7  8\n",
      "13 14 15 16 17 18 19   10 11 12 13 14 15 16    9 10 11 12 13 14 15\n",
      "20 21 22 23 24 25 26   17 18 19 20 21 22 23   16 17 18 19 20 21 22\n",
      "27 28 29 30 31         24 25 26 27 28 29      23 24 25 26 27 28 29\n",
      "                                              30 31\n",
      "\n",
      "       April                   May                    June\n",
      "Mo Tu We Th Fr Sa Su   Mo Tu We Th Fr Sa Su   Mo Tu We Th Fr Sa Su\n",
      "       1  2  3  4  5                1  2  3    1  2  3  4  5  6  7\n",
      " 6  7  8  9 10 11 12    4  5  6  7  8  9 10    8  9 10 11 12 13 14\n",
      "13 14 15 16 17 18 19   11 12 13 14 15 16 17   15 16 17 18 19 20 21\n",
      "20 21 22 23 24 25 26   18 19 20 21 22 23 24   22 23 24 25 26 27 28\n",
      "27 28 29 30            25 26 27 28 29 30 31   29 30\n",
      "\n",
      "        July                  August               September\n",
      "Mo Tu We Th Fr Sa Su   Mo Tu We Th Fr Sa Su   Mo Tu We Th Fr Sa Su\n",
      "       1  2  3  4  5                   1  2       1  2  3  4  5  6\n",
      " 6  7  8  9 10 11 12    3  4  5  6  7  8  9    7  8  9 10 11 12 13\n",
      "13 14 15 16 17 18 19   10 11 12 13 14 15 16   14 15 16 17 18 19 20\n",
      "20 21 22 23 24 25 26   17 18 19 20 21 22 23   21 22 23 24 25 26 27\n",
      "27 28 29 30 31         24 25 26 27 28 29 30   28 29 30\n",
      "                       31\n",
      "\n",
      "      October                November               December\n",
      "Mo Tu We Th Fr Sa Su   Mo Tu We Th Fr Sa Su   Mo Tu We Th Fr Sa Su\n",
      "          1  2  3  4                      1       1  2  3  4  5  6\n",
      " 5  6  7  8  9 10 11    2  3  4  5  6  7  8    7  8  9 10 11 12 13\n",
      "12 13 14 15 16 17 18    9 10 11 12 13 14 15   14 15 16 17 18 19 20\n",
      "19 20 21 22 23 24 25   16 17 18 19 20 21 22   21 22 23 24 25 26 27\n",
      "26 27 28 29 30 31      23 24 25 26 27 28 29   28 29 30 31\n",
      "                       30\n",
      "\n"
     ]
    }
   ],
   "source": [
    "# calendar：获取一年的日历字符串\n",
    "# 参数：\n",
    "# w = 每个日期之间的间隔字符数\n",
    "# l = 每周所占用的行数\n",
    "# c = 每个月之间的间隔字符数\n",
    "import calendar\n",
    "cal = calendar.calendar(2020)\n",
    "#print(cal)\n",
    "# 加参数\n",
    "call = calendar.calendar(2020, w=1, l=0, c=3)\n",
    "print(call)"
   ]
  },
  {
   "cell_type": "code",
   "execution_count": 18,
   "metadata": {},
   "outputs": [
    {
     "name": "stdout",
     "output_type": "stream",
     "text": [
      "True\n",
      "0\n",
      "    October 2020\n",
      "Mo Tu We Th Fr Sa Su\n",
      "          1  2  3  4\n",
      " 5  6  7  8  9 10 11\n",
      "12 13 14 15 16 17 18\n",
      "19 20 21 22 23 24 25\n",
      "26 27 28 29 30 31\n",
      "\n",
      "(3, 31)\n",
      "[[0, 0, 0, 1, 2, 3, 4], [5, 6, 7, 8, 9, 10, 11], [12, 13, 14, 15, 16, 17, 18], [19, 20, 21, 22, 23, 24, 25], [26, 27, 28, 29, 30, 31, 0]]\n",
      "    October 2020\n",
      "Mo Tu We Th Fr Sa Su\n",
      "          1  2  3  4\n",
      " 5  6  7  8  9 10 11\n",
      "12 13 14 15 16 17 18\n",
      "19 20 21 22 23 24 25\n",
      "26 27 28 29 30 31\n",
      "None\n"
     ]
    }
   ],
   "source": [
    "# isleap：判断某一年是否是闰年\n",
    "print(calendar.isleap(2020))\n",
    "\n",
    "# 获取指定年份之间的闰年个数,不知道就看help()\n",
    "print(calendar.leapdays(2018,2020))\n",
    "\n",
    "#month()获取某个月的日历字符串\n",
    "# 格式：calendar.month(年， 月)\n",
    "# 返回值：月日历的字符串\n",
    "print(calendar.month(2020,10))\n",
    "\n",
    "# monthrange()获取一个月从周几开始以及天数\n",
    "# 格式：calendar.monthrange(年， 月)\n",
    "# 返回值：元祖（周几开始， 总天数）\n",
    "# 注意：周默认0-6表示周一到周日\n",
    "print(calendar.monthrange(2020,10))\n",
    "\n",
    "# monthcalendar()返回一个月每天的矩阵列表\n",
    "#格式：calendar.monthcalendar(年， 月)\n",
    "# 返回值：二级列表\n",
    "# 注意：矩阵中没有天数用0表示\n",
    "print(calendar.monthcalendar(2020, 10))\n",
    "\n",
    "#prcal:直接打印日历\n",
    "#print(calendar.prcal(2020))\n",
    "\n",
    "# prmonth()直接打印整个月的日历\n",
    "# 格式：calendar.prmonth(年， 月)\n",
    "# 返回值：无\n",
    "print(calendar.prmonth(2020,10))\n",
    "\n",
    "#weekday()获取周几\n",
    "# 格式:calendar.weekday(年，月， 日)\n",
    "# 返回值：周几对应的数字\n",
    "print(calendar.weekday(2020, 9, 3))"
   ]
  },
  {
   "cell_type": "markdown",
   "metadata": {},
   "source": [
    "# time模块\n",
    "### 时间戳\n",
    "    - 一个时间表示，根据语言不同，可以是整数或者浮点数\n",
    "    - 是从1970年1月1日0时0分0秒到现在经历的秒数\n",
    "    - 如果太过去或者太未来会出现异常\n",
    "### UTC时间\n",
    "    - 又称世界协调时间，以英国的格林尼治天文所在的地区时间作为参考的时间，也叫世界标准时间\n",
    "    - 中国时间是 UTC+8东八区\n",
    "### 夏令时\n",
    "    - 夏令时就是在夏天的时间将时间调快一小时，本意是督促人早睡早起，节约能源\n",
    "\n",
    "### 时间元祖\n",
    "    - 一个包含时间内容的普通元祖\n",
    "    \n",
    "    \n",
    "            索引    内容    属性    值\n",
    "            \n",
    "            0     年      tm_year  2015\n",
    "            1     月      tm_mon   1-12\n",
    "            2     日      tm_mday  1-31\n",
    "            3     时      tm_hour  0-23\n",
    "            4     分      tm_min   0- 59\n",
    "            5     秒      tm_sec   0-61 60表示闰秒，61保留值\n",
    "            6     周几     tm_wday  0-6\n",
    "            7     第几天   tm_yday  1-366\n",
    "            8     夏令时   tm_isdst  0,1，-1（表示夏令时）\n",
    "            \n"
   ]
  },
  {
   "cell_type": "code",
   "execution_count": 65,
   "metadata": {},
   "outputs": [
    {
     "name": "stdout",
     "output_type": "stream",
     "text": [
      "-28800\n",
      "-32400\n",
      "0\n",
      "Sun Aug 30 08:14:58 2020\n",
      "time.struct_time(tm_year=2020, tm_mon=8, tm_mday=30, tm_hour=8, tm_min=14, tm_sec=58, tm_wday=6, tm_yday=243, tm_isdst=0)\n"
     ]
    }
   ],
   "source": [
    "import time\n",
    "#时间模块的属性\n",
    "# timezone：当前时区和UTC时间相差的秒数，在没有夏令时的情况下的间隔，东八区的是-2800\n",
    "# altzone：在有夏令时与UTC时间相差的秒数\n",
    "# daylight:看当前是否是夏令时时间状态，0表示是\n",
    "print(time.timezone)\n",
    "print(time.altzone)\n",
    "print(time.daylight)"
   ]
  },
  {
   "cell_type": "code",
   "execution_count": 31,
   "metadata": {},
   "outputs": [
    {
     "name": "stdout",
     "output_type": "stream",
     "text": [
      "1598708997.223136\n",
      "time.struct_time(tm_year=2020, tm_mon=8, tm_mday=29, tm_hour=21, tm_min=49, tm_sec=57, tm_wday=5, tm_yday=242, tm_isdst=0)\n",
      "2020\n",
      "Sat Aug 29 21:49:57 2020\n",
      "<class 'str'>\n",
      "<class 'str'>\n",
      "Sat Aug 29 21:49:57 2020\n",
      "<class 'float'>\n",
      "1598708997.0\n"
     ]
    }
   ],
   "source": [
    "# 得到时间戳\n",
    "print(time.time())\n",
    "\n",
    "# localtime得到当前时间struct_time或者把一个时间戳转换为当前时区的struct_time结构\n",
    "# 可以通过点号操作得到相应的属性元素的内容\n",
    "t = time.localtime()\n",
    "print(t)\n",
    "print(t.tm_year)\n",
    "\n",
    "# asctime（）把一个表示时间的元组如 (2019, 1, 1, 9, 23, 30, 1, 1, 0)  或者struct_time表示为这种形式：'Sun Jun 20 23:21:05 1993'。\n",
    "# 格式：time.asctime(时间元祖)\n",
    "# 返回值：字符串 时间格式\n",
    "tt = time.asctime(t)\n",
    "print(tt)\n",
    "print(type(tt))\n",
    "\n",
    "# time.ctime([secs])：\n",
    "# 把一个时间戳（按秒计算的浮点数）转化为time.asctime()的形式。如果参数未给或者为None的时候，将会默认time.time()为参数。它的作用相当于time.asctime(time.localtime(secs))。\n",
    "t = time.ctime()\n",
    "print(type(t))\n",
    "print(t)\n",
    "t = time.time()\n",
    "print(time.ctime(t))\n",
    "print(time.localtime(t))\n",
    "\n",
    "# mktime()将一个struct_time转化为时间戳\n",
    "# 格式：time.mktime(时间元祖)\n",
    "# 返回值：浮点数时间戳\n",
    "lt = time.localtime()\n",
    "ts = time.mktime(lt)\n",
    "print(type(ts))\n",
    "print(ts)\n",
    "\n",
    "# time.gmtime([secs])：和localtime()方法类似，gmtime()方法是将一个时间戳转换为UTC时区（0时区）的struct_time。"
   ]
  },
  {
   "cell_type": "code",
   "execution_count": 33,
   "metadata": {},
   "outputs": [
    {
     "name": "stdout",
     "output_type": "stream",
     "text": [
      "0\n",
      "1\n",
      "2\n",
      "3\n",
      "4\n"
     ]
    }
   ],
   "source": [
    "# clock：获取CPU时间，不同版本调用会出现问题3/6版本使用不了\n",
    "# sleep：使程序进入睡眠，n秒后继续\n",
    "for i in range(5):\n",
    "    print(i)\n",
    "    time.sleep(0.4)"
   ]
  },
  {
   "cell_type": "markdown",
   "metadata": {},
   "source": [
    "# strftime：将时间元祖转化为自定义的字符串格式\n",
    "'''\n",
    "格式             含义            备注  \n",
    "%a  本地（local）简化星期名称  \n",
    "%A  本地完整星期名称  \n",
    "%b 本地简化月份名称  \n",
    "%B  本地完整月份名称  \n",
    "%c  本地相应的日期和时间表示  \n",
    "%d   一个月中的第几天（01-31）  \n",
    "%H  一天中的第几个小时（24小时制00-23）  \n",
    "%I  一天中的第几个小时（12小时制01-12）  \n",
    "%j  一年中的第几天（001-366）  \n",
    "%m  月份（01-12）  \n",
    "%M  分钟数（00-59）  \n",
    "%p  本地am或pm的相应符  \n",
    "%S  秒（01-61）  \n",
    "%U  一年中的星期数（00-53  星期天是一个周的开始）  \n",
    "%w  一个星期中的第几天（001-366）  \n",
    "%W  和%U基本相同，不同的是是以星期一为开始第一天  \n",
    "%x  本地相应日期  \n",
    "%X  本地相应时间  \n",
    "%y  去掉时间的年份（00-99）  \n",
    "%Y  完整的年份  \n",
    "%z  用+HHMM 或 -HHMM 表示距离隔离格林威治的时区的篇移  \n",
    "%%  代表%本身  \n",
    "'''"
   ]
  },
  {
   "cell_type": "code",
   "execution_count": 40,
   "metadata": {},
   "outputs": [
    {
     "name": "stdout",
     "output_type": "stream",
     "text": [
      "time.struct_time(tm_year=2020, tm_mon=8, tm_mday=29, tm_hour=22, tm_min=6, tm_sec=13, tm_wday=5, tm_yday=242, tm_isdst=0)\n",
      "2020年08月29日  22:06\n"
     ]
    }
   ],
   "source": [
    "# 把时间表示成自己想要的格式\n",
    "import locale\n",
    "#在Windows里，time.strftime使用C运行多字节字符串函数strftime，\n",
    "#这个函数必须先根据当前locale配置来编码格式化字符串（使用PyUnicode_EncodeLocale）。\n",
    "#如果不设置好locale的话，根据默认的\"C\" locale，底层的wcstombs函数会使用latin-1编码（单字节编码）来编码格式化字符串，然后导致题主提供的多字节编码的字符串在编码时出错。\n",
    "locale.setlocale(locale.LC_CTYPE, 'chinese')\n",
    "t = time.localtime()\n",
    "print(t)\n",
    "new_t = time.strftime(\"%Y年%m月%d日  %H:%M\",t)\n",
    "print(new_t)"
   ]
  },
  {
   "cell_type": "markdown",
   "metadata": {},
   "source": [
    "# datetime模块\n",
    "- 提供日期和时间的运算和表示\n",
    "- datetime.date：表示日期的类，提供year，month， day属性\n",
    "- datetime.time:表示时间的类，提供hour，minute，sec，microsec等属性\n",
    "- datetime.datetime：表示日期时间\n",
    "- datetime.timedelta:表示时间间隔，即两个时间点之间的长度\n",
    "- datetime.tzinfo:与时区有关的相关信息\n",
    "- 上面这些类型的对象都是不可变的"
   ]
  },
  {
   "cell_type": "markdown",
   "metadata": {},
   "source": [
    "# datetime中的date类\n",
    "- date类表示一个日期。日期由年、月、日组成（地球人都知道~~）。date类的构造函数如下：\n",
    "\n",
    "    class datetime.date(year, month, day)：参数的意义就不多作解释了，只是有几点要注意一下：\n",
    "\n",
    "- year的范围是[MINYEAR, MAXYEAR]，即[1, 9999]；\n",
    "- month的范围是[1, 12]。（月份是从1开始的，不是从0开始的~_~）；\n",
    "- day的最大值根据给定的year, month参数来决定。例如闰年2月份有29天；\n",
    "    date类定义了一些常用的类方法与类属性，方便我们操作：\n",
    "\n",
    "        date.max、date.min：date对象所能表示的最大、最小日期；\n",
    "        date.resolution：date对象表示日期的最小单位。这里是天。\n",
    "        date.today()：返回一个表示当前本地日期的date对象；\n",
    "        date.fromtimestamp(timestamp)：根据给定的时间戮，返回一个date对象；\n",
    "        datetime.fromordinal(ordinal)：将Gregorian日历时间转换为date对象；（Gregorian Calendar ：一种日历表示方法，类似于我国的农历，西方国家使用比较多，此处不详细展开讨论。）\n",
    " \n",
    " ## date提供的实例方法和属性\n",
    "- date.year、date.month、date.day：年、月、日；\n",
    "- date.replace(year, month, day)：生成一个新的日期对象，用参数指定的年，月，日代替原有对象中的属性。（原有对象仍保持不变）\n",
    "- date.timetuple()：返回日期对应的time.struct_time对象；\n",
    "- date.toordinal()：返回日期对应的Gregorian Calendar日期；\n",
    "- date.weekday()：返回weekday，如果是星期一，返回0；如果是星期2，返回1，以此类推；\n",
    "- data.isoweekday()：返回weekday，如果是星期一，返回1；如果是星期2，返回2，以此类推；\n",
    "- date.isocalendar()：返回格式如(year，week number，weekday)的元组；\n",
    "- date.isoformat()：返回格式如'YYYY-MM-DD’的字符串；\n",
    "- date.strftime(fmt)：自定义格式化字符串。在下面详细讲解。"
   ]
  },
  {
   "cell_type": "code",
   "execution_count": 25,
   "metadata": {},
   "outputs": [
    {
     "name": "stdout",
     "output_type": "stream",
     "text": [
      "2020-08-29\n",
      "2020\n",
      "8\n",
      "29\n",
      "2020-08-30\n",
      "1 day, 0:00:00\n",
      "2020-08-30\n"
     ]
    }
   ],
   "source": [
    "import datetime\n",
    "# 其常见属性\n",
    "# datetime.date：一个理想的日期，提供year，month， day属性\n",
    "dt = datetime.date(2020, 8,29)\n",
    "print(dt)\n",
    "print(dt.year)\n",
    "print(dt.month)\n",
    "print(dt.day)\n",
    "print(datetime.date.today())\n",
    "print(datetime.date.resolution)\n",
    "print(datetime.date.fromtimestamp(time.time()))"
   ]
  },
  {
   "cell_type": "code",
   "execution_count": 66,
   "metadata": {},
   "outputs": [
    {
     "name": "stdout",
     "output_type": "stream",
     "text": [
      "now: 2020-08-30 tomorrow: 2020-08-31\n",
      "time.struct_time(tm_year=2020, tm_mon=8, tm_mday=30, tm_hour=0, tm_min=0, tm_sec=0, tm_wday=6, tm_yday=243, tm_isdst=-1)\n",
      "1970-01-09\n",
      "6\n",
      "7\n",
      "(2020, 35, 7)\n",
      "2020-08-30\n"
     ]
    }
   ],
   "source": [
    "from datetime import date\n",
    "now = date(2020, 8, 30)\n",
    "tomorrow = now.replace(day = 31)\n",
    "print(\"now:\",now,\"tomorrow:\",tomorrow)\n",
    "print(now.timetuple())\n",
    "print(date.fromtimestamp(date.toordinal(date.today()))) #函数好像有问题\n",
    "print(now.weekday())\n",
    "print(now.isoweekday())\n",
    "print(now.isocalendar())\n",
    "print(now.isoformat())"
   ]
  },
  {
   "cell_type": "markdown",
   "metadata": {},
   "source": [
    "# datetime中的time类\n",
    "- datetime.time:提供一个理想的时间，提供hour，minute，sec，microsec等属性\n",
    "-  datetime.time(hour[ , minute[ , second[ , microsecond[ , tzinfo] ] ] ] ) ：各参数的意义不作解释，这里留意一下参数tzinfo，它表示时区信息。注意一下各参数的取值范围：hour的范围为[0, 24)，minute的范围为[0, 60)，second的范围为[0, 60)，microsecond的范围为[0, 1000000)。\n",
    "### time类定义的类属性：\n",
    "- time.min、time.max：time类所能表示的最小、最大时间。其中，time.min = time(0, 0, 0, 0)， time.max = time(23, 59, 59, 999999)；\n",
    "- time.resolution：时间的最小单位，这里是1微秒；\n",
    "### time类提供的实例方法和属性：\n",
    "- time.hour、time.minute、time.second、time.microsecond：时、分、秒、微秒；\n",
    "- time.tzinfo：时区信息；\n",
    "- time.replace([ hour[ , minute[ , second[ , microsecond[ , tzinfo] ] ] ] ] )：创建一个新的时间对象，用参数指定的时、分、秒、微秒代替原有对象中的属性（原有对象仍保持不变）；\n",
    "- time.isoformat()：返回型如\"HH:MM:SS\"格式的字符串表示；\n",
    "- time.strftime(fmt)：返回自定义格式化字符串。在下面详细介绍；"
   ]
  },
  {
   "cell_type": "code",
   "execution_count": 75,
   "metadata": {},
   "outputs": [
    {
     "name": "stdout",
     "output_type": "stream",
     "text": [
      "17:17:18\n",
      "23:59:59.999999 ====== 00:00:00\n",
      "0:00:00.000001\n",
      "17\n",
      "None\n",
      "20:17:18\n"
     ]
    }
   ],
   "source": [
    "from datetime import time\n",
    "# datetime.time:提供一个理想的时间，提供hour，minute，sec，microsec等属性\n",
    "dtm = time(17, 17, 18)\n",
    "print(dtm)\n",
    "print(dtm.max, '======', dtm.min)\n",
    "print(dtm.resolution)\n",
    "print(dtm.hour)\n",
    "print(dtm.tzinfo)\n",
    "print(dtm.replace(hour=20))"
   ]
  },
  {
   "cell_type": "markdown",
   "metadata": {},
   "source": [
    "# datetime中的datetime类\n",
    "- datetime是date与time的组合，包括date与time的所有信息。它的构造函数如下：datetime.datetime (year, month, day[ , hour[ , minute[ , second[ , microsecond[ , tzinfo] ] ] ] ] )\n",
    "### datetime类定义的类属性和方法\n",
    "- datetime.min、datetime.max：datetime所能表示的最小值与最大值；\n",
    "- datetime.resolution：datetime最小单位；\n",
    "- datetime.today()：返回一个表示当前本地时间的datetime对象；\n",
    "- datetime.now([tz])：返回一个表示当前本地时间的datetime对象，如果提供了参数tz，则获取tz参数所指时区的本地时间；\n",
    "- datetime.utcnow()：返回一个当前utc时间的datetime对象；\n",
    "- datetime.fromtimestamp(timestamp[, tz])：根据时间戮创建一个datetime对象，参数tz指定时区信息；\n",
    "- datetime.utcfromtimestamp(timestamp)：根据时间戮创建一个datetime对象；\n",
    "- datetime.combine(date, time)：根据date和time，创建一个datetime对象；\n",
    "- datetime.strptime(date_string, format)：将格式字符串转换为datetime对象；\n",
    "\n",
    "### datetime类提供的实例方法与属性\n",
    "- datetime.year、month、day、hour、minute、second、microsecond、tzinfo：\n",
    "- datetime.date()：获取date对象；\n",
    "- datetime.time()：获取time对象；\n",
    "- datetime. replace ([ year[ , month[ , day[ , hour[ , minute[ , second[ , - microsecond[ , tzinfo] ] ] ] ] ] ] ])：\n",
    "- datetime. timetuple ()\n",
    "- datetime. utctimetuple ()\n",
    "- datetime. toordinal ()\n",
    "- datetime. weekday ()\n",
    "- datetime. isocalendar ()\n",
    "- datetime. isoformat ([ sep] )\n",
    "- datetime. ctime ()：返回一个日期时间的C格式字符串，等效于- time.ctime(time.mktime(dt.timetuple()))；\n",
    "- datetime. strftime (format)"
   ]
  },
  {
   "cell_type": "code",
   "execution_count": null,
   "metadata": {},
   "outputs": [],
   "source": [
    "from datetime import datetime\n",
    "import time\n",
    "dt = datetime(2020, 8, 29)\n",
    "print(dt)\n",
    "print(dt.today())\n",
    "print(dt.now(6))\n",
    "print(dt.utcnow())\n",
    "print(dt.fromtimestamp(time.time()))"
   ]
  },
  {
   "cell_type": "code",
   "execution_count": 79,
   "metadata": {},
   "outputs": [
    {
     "name": "stdout",
     "output_type": "stream",
     "text": [
      "2020-08-30 08:33:32.584287+08:00\n",
      "08:33:32.584287\n"
     ]
    }
   ],
   "source": [
    "from datetime import datetime\n",
    "print(datetime.astimezone(datetime.now()))\n",
    "print(datetime.timetz(datetime.now()))"
   ]
  },
  {
   "cell_type": "code",
   "execution_count": 73,
   "metadata": {},
   "outputs": [
    {
     "name": "stdout",
     "output_type": "stream",
     "text": [
      "2020-08-29 22:34:42.890924\n",
      "2020-08-29 22:34:42\n",
      "2020-08-29 23:34:42\n"
     ]
    }
   ],
   "source": [
    "# datetime.timedelta:提供一个时间间隔，时间长度\n",
    "from datetime import datetime, timedelta\n",
    "t = datetime.now()\n",
    "print(t)\n",
    "print(t.strftime(\"%Y-%m-%d %H:%M:%S\"))\n",
    "# 不清楚就找help(timedelta)\n",
    "td = timedelta(hours=1)\n",
    "print((t+td).strftime(\"%Y-%m-%d %H:%M:%S\"))"
   ]
  },
  {
   "cell_type": "code",
   "execution_count": 77,
   "metadata": {},
   "outputs": [
    {
     "name": "stdout",
     "output_type": "stream",
     "text": [
      "1.200789451599121\n"
     ]
    }
   ],
   "source": [
    "# timeit：时间测量工具\n",
    "# 测量程序运行时间间隔实验\n",
    "def p():\n",
    "    time.sleep(1.2)\n",
    "    \n",
    "t1 = time.time()\n",
    "p()\n",
    "print(time.time() - t1)"
   ]
  },
  {
   "cell_type": "code",
   "execution_count": 83,
   "metadata": {},
   "outputs": [
    {
     "name": "stdout",
     "output_type": "stream",
     "text": [
      "0.10433209999973769 0.14601480000055744\n",
      "repeat for 0\n",
      "repeat for 1\n",
      "repeat for 2\n",
      "repeat for 0\n",
      "repeat for 1\n",
      "repeat for 2\n",
      "repeat for 0\n",
      "repeat for 1\n",
      "repeat for 2\n",
      "repeat for 0\n",
      "repeat for 1\n",
      "repeat for 2\n",
      "repeat for 0\n",
      "repeat for 1\n",
      "repeat for 2\n",
      "0.008203499999581254\n"
     ]
    }
   ],
   "source": [
    "c = \"\"\"\n",
    "sum = []\n",
    "for i in range(1000):\n",
    "    sum.append(i)\n",
    "\"\"\"\n",
    "# 测量两种方法运行的时间,执行1000次看总共花费多长时间\n",
    "import timeit\n",
    "t1 = timeit.timeit(stmt=\"[i for i in range(1000)]\", number=1000)\n",
    "t2 = timeit.timeit(stmt=c, number=1000)\n",
    "print(t1,t2)\n",
    "\n",
    "# 可以用来测量一个函数所花费的时间\n",
    "s = \"\"\"\n",
    "def doIt(num):\n",
    "    for i in range(num):\n",
    "        print(\"repeat for {0}\".format(i))\n",
    "\"\"\"\n",
    "# setup负责把环境变量准备好\n",
    "# 实际相当于给timeit创造了一个小环境\n",
    "# 在创建的小环境中，代码执行的顺序大致是\n",
    "\"\"\"\n",
    "def doIt(num):\n",
    "    ........\n",
    "num = 3\n",
    "\n",
    "doIt(num)\n",
    "\"\"\"\n",
    "t = timeit.timeit(\"doIt(num)\", setup=s + \"num=3\", number=5)\n",
    "print(t)"
   ]
  }
 ],
 "metadata": {
  "kernelspec": {
   "display_name": "Python 3",
   "language": "python",
   "name": "python3"
  },
  "language_info": {
   "codemirror_mode": {
    "name": "ipython",
    "version": 3
   },
   "file_extension": ".py",
   "mimetype": "text/x-python",
   "name": "python",
   "nbconvert_exporter": "python",
   "pygments_lexer": "ipython3",
   "version": "3.7.3"
  }
 },
 "nbformat": 4,
 "nbformat_minor": 2
}
