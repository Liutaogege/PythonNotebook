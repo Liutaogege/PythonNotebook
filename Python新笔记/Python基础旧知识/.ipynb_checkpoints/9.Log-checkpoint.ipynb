{
 "cells": [
  {
   "cell_type": "markdown",
   "metadata": {},
   "source": [
    "# Log(日志)\n",
    "- 概念:用来记录程序运行时发生事件的方法，一个事件可以用一个可包含可选变量数据的消息来描述。事件的重要性被称为严重性级别\n",
    "- 日志的级别\n",
    "    - DEBUG\n",
    "    - INFO\n",
    "    - WARNING\n",
    "    - ERROR\n",
    "    - CRITICAL\n",
    "    - ALERT\n",
    "    - EMERGENCY\n",
    "- 日志字段信息与日志格式\n",
    "    - 一个事件对应一条日志信息，一个事件通常包含以下内容\n",
    "        - 事件发生时间\n",
    "        - 事件发生位置\n",
    "        - 事件的严重程度\n",
    "        - 事件内容\n",
    "        - 还有比如进程名称，进程ID，线程名称，线程ID等\n",
    "        - 注意：输出一条日志时，日志的事件内容和日志级别是需要明确写出的，对于其他可选参数自己决定\n",
    "    - 日志格式就是确定输出的事件包含哪些内容，而日志格式可以自己定义\n",
    "- 日志的第三方库有：log4j，log4php，Python自带模块logging等\n",
    "\n",
    "# Python日志模块logging\n",
    "- logging模块默认的日志等级\n",
    "    - DEBUH\n",
    "    - INFO\n",
    "    - WARNING\n",
    "    - ERROR\n",
    "    - CRITICAL\n",
    "    - 上述级别从上到下依次增大，日志级别可自定义，需要继承\n",
    "- 初始化/写日志实例需要指定级别，只有级别高于或等于某个级别才被记录。低于该级别的事件被丢弃\n",
    "    - 日志级别的指定通常都是在应用程序的配置文件中进行指定的：logging.basicConfig(level=logging.DEBUG)\n",
    "\n",
    "- logging记录日志的两种方式\n",
    "    - 使用logging提供的模块级别的函数\n",
    "    - 使用Logging日志系统的四大组件\n",
    "    - 注意：本质上logging所提供的模块级别的函数就是对Logging日志系统相关类的封装而已，在创建这些函数类的实例时设置了一些默认值\n",
    "    \n",
    "### logging模块定义的模块级别的常用函数\n",
    "- logging.debug(msg, *args, **kwargs)\n",
    "- logging.info(msg, *args, **kwargs)\n",
    "- logging.warning(msg, *args, **kwargs)\n",
    "- logging.error(msg, *args, **kwargs)\n",
    "- logging.critical(msg, *args, **kwargs)\n",
    "- logging.log(msg, *args, **kwargs) : 创建一条严重级别为level的日志记录\n",
    "- logging.basicConfig(**kwargs): 对root logger进行一次性配置，如用于指定要记录的日志级别，日志格式，日志输出位置，日志文件的打开模式等信息\n",
    "\n",
    "- logging模块提供的日志记录函数所使用的日志器设置的日志格式默认是BASIC_FORMAT,\n",
    "    - BASIC_FORMAT = \"%(levelname)s:%(name)s:%(message)s\n",
    "    - 注意：若括号后面不加s则会把堆栈信息全部都输出\n",
    "- logging模块所指定的日志输出位置默认是sys.stderr,若想输出到文件，需修改\n",
    "\n",
    "- 修改默认值：调用logging.basicConfig(**kwargs)函数\n",
    "    - 函数参数：\n",
    "        - filename:指定日志输出目标文件的文件名\n",
    "        - filemode:指定日志文件的打开模式\n",
    "        - format：指定日志格式字符串，即包含的字段信息以及它们的顺序\n",
    "        - datefmt：指定日期时间格式，需要包含%(asctime)s时才有效\n",
    "        - level：日志级别\n",
    "        - stream：指定日志输出目标stream，如sys,stdout,sys.stderr,以及网络stream，filename和stream不能同时提供\n",
    "        - handlers:该选项如果被指定，它应该是一个创建了多个Handler的可迭代对象，这些handler将会被添加到root logger。需要说明的是：filename、stream和handlers这三个配置项只能有一个存在，不能同时出现2个或3个，否则会引发ValueError异常。\n",
    "        - style：指定format格式字符串的风格可取值为'%'、'{'和美元符号，默认为'%'\n",
    "        \n",
    "#### logging模块定义的用于format格式字符串字段\n",
    "        字段/属性名称\t使用格式\t描述\n",
    "        asctime\t      %(asctime)s\t日志事件发生的时间--人类可读时间，如：2003-07-08 16:49:45,896\n",
    "        created\t      %(created)f\t日志事件发生的时间--时间戳，就是当时调用time.time()函数返回的值\n",
    "        relativeCreated\t%(relativeCreated)d\t日志事件发生的时间相对于logging模块加载时间的相对毫秒数（目前还不知道干嘛用的）\n",
    "        msecs\t      %(msecs)d\t日志事件发生事件的毫秒部分\n",
    "        levelname\t   %(levelname)s\t该日志记录的文字形式的日志级别（'DEBUG', 'INFO', 'WARNING', 'ERROR', 'CRITICAL'）\n",
    "        levelno\t      %(levelno)s\t该日志记录的数字形式的日志级别（10, 20, 30, 40, 50）\n",
    "        name\t      %(name)s\t所使用的日志器名称，默认是'root'，因为默认使用的是 rootLogger\n",
    "        message\t      %(message)s\t日志记录的文本内容，通过 msg % args计算得到的\n",
    "        pathname\t   %(pathname)s\t调用日志记录函数的源码文件的全路径\n",
    "        filename\t   %(filename)s\tpathname的文件名部分，包含文件后缀\n",
    "        module\t      %(module)s\tfilename的名称部分，不包含后缀\n",
    "        lineno\t      %(lineno)d\t调用日志记录函数的源代码所在的行号\n",
    "        funcName\t   %(funcName)s\t调用日志记录函数的函数名\n",
    "        process\t      %(process)d\t进程ID\n",
    "        processName \t%(processName)s\t进程名称，Python 3.1新增\n",
    "        thread     \t  %(thread)d\t线程ID\n",
    "        threadName  \t%(thread)s\t线程名称\n",
    "\n",
    "\n",
    "#### 其他说明内容\n",
    "- logging.basicConfig()函数是一个一次性的简单配置工具，只有第一次调用时才有效，后续调用时不会累加\n",
    "- 日志器是有层级关系的额，logging模块级别的函数所使用的日志器是RootLogger类的实例，其名称为root，它是最顶层的日志器，且该实例以单例模式存在\n",
    "- 若记录的日志中包含变量数据，可使用一个格式字符串作为这个事件的描述消息（即logging.debug等函数的第一个参数），然后将变量数据作为第二个参数的值进行传递如：\n",
    "    - logging.warning(\"%s is %d years old\", 'Liutao',10),\n",
    "    - 得到：WARNING:root:Liutao is 10 years old\n",
    "- logging.debug(), logging.info()等方法的定义中，除了msg和args参数外，还有一个**kwargs参数。它们支持3个关键字参数: exc_info, stack_info, extra\n",
    "    - exc_info： 其值为布尔值，如果该参数的值设置为True，则会将异常异常信息添加到日志消息中。如果没有异常信息则添加None到日志信息中。\n",
    "    - stack_info： 其值也为布尔值，默认值为False。如果该参数的值设置为True，栈信息将会被添加到日志信息中。\n",
    "    - extra： 这是一个字典（dict）参数，它可以用来自定义消息格式中所包含的字段，但是它的key不能与logging模块定义的字段冲突。\n",
    "\n"
   ]
  },
  {
   "cell_type": "code",
   "execution_count": null,
   "metadata": {},
   "outputs": [],
   "source": []
  },
  {
   "cell_type": "markdown",
   "metadata": {},
   "source": [
    "# Logging模块的四大组件\n",
    "- loggers：提供应用程序代码直接使用的接口\n",
    "- handlers：用于将日志记录发送到指定的目标位置\n",
    "- filters：提供更精细的日志过滤功能，用于决定哪些日志记录将会被输出，哪些日志记录将被忽略\n",
    "- formatters：用于控制日志信息的最终输出格式"
   ]
  },
  {
   "cell_type": "code",
   "execution_count": 6,
   "metadata": {},
   "outputs": [
    {
     "name": "stderr",
     "output_type": "stream",
     "text": [
      "WARNING:root:this is a warning log\n",
      "ERROR:root:this is a error log\n",
      "CRITICAL:root:this is a critical log\n",
      "WARNING:root:this is a WARMING log\n",
      "ERROR:root:this is a ERRPR log\n",
      "CRITICAL:root:this is a CRITICAL log\n"
     ]
    },
    {
     "name": "stdout",
     "output_type": "stream",
     "text": [
      "分隔符======================================\n"
     ]
    },
    {
     "data": {
      "text/plain": [
       "'\\n 日志级别，日志器名称，日志内容\\n'"
      ]
     },
     "execution_count": 6,
     "metadata": {},
     "output_type": "execute_result"
    }
   ],
   "source": [
    "# 简单日志输出示例\n",
    "import logging\n",
    "\n",
    "# 第一种写法\n",
    "# logging模块提供的日志记录函数所使用的日志器设置默认只输出warning及以上级别的日志记录\n",
    "logging.debug(\"this is a debug log\")\n",
    "logging.info(\"this is a info log\")\n",
    "logging.warning(\"this is a warning log\")\n",
    "logging.error(\"this is a error log\")\n",
    "logging.critical(\"this is a critical log\")\n",
    "\n",
    "\n",
    "# 第二种写法\n",
    "logging.log(logging.DEBUG, \"this is a DEBUG log\")\n",
    "logging.log(logging.INFO, \"this is a INFO log\")\n",
    "logging.log(logging.WARNING, \"this is a WARMING log\")\n",
    "logging.log(logging.ERROR, \"this is a ERRPR log\")\n",
    "logging.log(logging.CRITICAL, \"this is a CRITICAL log\")\n",
    "\n",
    "# 打印信息的各字段含义：\n",
    "\"\"\"\n",
    " 日志级别，日志器名称，日志内容\n",
    "\"\"\""
   ]
  },
  {
   "cell_type": "code",
   "execution_count": 1,
   "metadata": {},
   "outputs": [
    {
     "name": "stderr",
     "output_type": "stream",
     "text": [
      "2020-09-25  20:35:44 - INFO - this is a info log\n",
      "2020-09-25  20:35:44 - WARNING - this is a warning log\n",
      "2020-09-25  20:35:44 - ERROR - this is a error log\n",
      "2020-09-25  20:35:44 - CRITICAL - this is a critical log\n"
     ]
    }
   ],
   "source": [
    "# 简单定义日志的format格式以及时间格式\n",
    "import logging\n",
    "\n",
    "LOG_FORMAT = \"%(asctime)s - %(levelname)s - %(message)s\"\n",
    "DATE_FORMAT = \"%Y-%m-%d  %H:%M:%S\"\n",
    "#jupyter中basicConfig需要重启才起作用\n",
    "logging.basicConfig(level=logging.INFO, format=LOG_FORMAT, datefmt=DATE_FORMAT)\n",
    "\n",
    "logging.debug(\"this is a debug log\")\n",
    "logging.info(\"this is a info log\")\n",
    "logging.warning(\"this is a warning log\")\n",
    "logging.error(\"this is a error log\")\n",
    "logging.critical(\"this is a critical log\")"
   ]
  },
  {
   "cell_type": "code",
   "execution_count": 2,
   "metadata": {},
   "outputs": [
    {
     "name": "stderr",
     "output_type": "stream",
     "text": [
      "WARNING:root:LiuTao is thinking something else, he want to love WangYan\n"
     ]
    }
   ],
   "source": [
    "# 记录日志中包含变量数据示例\n",
    "import logging\n",
    "\n",
    "self_name = \"LiuTao\"\n",
    "love_name = \"WangYan\"\n",
    "logging.warning(\"%s is thinking something else, he want to love %s\", self_name, love_name)"
   ]
  },
  {
   "cell_type": "code",
   "execution_count": 6,
   "metadata": {},
   "outputs": [
    {
     "name": "stderr",
     "output_type": "stream",
     "text": [
      "09/25/2020 20:40:51 PM - WARNING - Tom[47.98.53.222] - Some one delete the log file.\n",
      "NoneType: None\n"
     ]
    }
   ],
   "source": [
    "# 在日志消息中添加exc_info和stack_info信息，并添加两个自定义的字端 ip和user\n",
    "import logging\n",
    "\n",
    "LOG_FORMAT = \"%(asctime)s - %(levelname)s - %(user)s[%(ip)s] - %(message)s\"\n",
    "DATE_FORMAT = \"%m/%d/%Y %H:%M:%S %p\"\n",
    "\n",
    "logging.basicConfig(format=LOG_FORMAT, datefmt=DATE_FORMAT)\n",
    "logging.warning(\"Some one delete the log file.\", exc_info=True, stack_info=False, extra={'user': 'Tom', 'ip':'47.98.53.222'})\n",
    "\n"
   ]
  },
  {
   "cell_type": "markdown",
   "metadata": {},
   "source": [
    "# logging日志模块四大组件\n",
    "- 日志器:（类名：Logger）\n",
    "    - 描述：暴露函数给应用程序，基于日志记录器和过滤器级别决定哪些日志有效\n",
    "- 处理器：（Handler）\n",
    "    - 将logger创建的日志记录发送到合适的目的地输出\n",
    "- 过滤器：（Filter）\n",
    "    - 过滤输出得到想要的日志级别类型\n",
    "- 格式器：（Formatter）\n",
    "    - 决定日志记录的最终输出格式\n",
    "    \n",
    "- 附加：LogRecord：日志记录器\n",
    "    - 将日志传到相应的处理器处理\n",
    "    \n",
    "### 这些组件的关系描述\n",
    "- 日志器（logger）需要通过处理器（handler）将日志信息输出到目标位置，如：文件、sys.stdout、网络等；\n",
    "- 不同的处理器（handler）可以将日志输出到不同的位置；\n",
    "- 日志器（logger）可以设置多个处理器（handler）将同一条日志记录输出到不同的位置；\n",
    "- 每个处理器（handler）都可以设置自己的过滤器（filter）实现日志过滤，从而只保留感兴趣的日志；\n",
    "- 每个处理器（handler）都可以设置自己的格式器（formatter）实现同一条日志以不同的格式输出到不同的地方。\n",
    "- 简单点说就是：日志器（logger）是入口，真正干活儿的是处理器（handler），处理器（handler）还可以通过过滤器（filter）和格式器（formatter）对要输出的日志内容做过滤和格式化等处理操作。\n",
    "\n",
    "\n",
    "\n",
    "# 四大组件介绍\n",
    "## Logger类\n",
    "    - 作用：\n",
    "        - 1.向应用程序暴露几个方法，使得应用程序可以在运行时记录日志消息\n",
    "        - 2.根据Filter来决定后续对那些日志进行处理\n",
    "        - 3.将日志消息传递给所有对其感兴趣的Handlers\n",
    "- Logger对象常用方法：\n",
    "    - 主要有两类：配置方法，消息发送方法\n",
    "    - 配置方法:\n",
    "        - Logger.setLevel():设置日志器将会处理的日志消息的最低级别\n",
    "        - Logger.addHandler()和Logger.removeHandler()：为该Logger对象添加一个和移除依噶Handler对象\n",
    "        - Logger.addFilter()和Logger.removeFilter()：为该logger对象添加和移除一个Filter对象\n",
    "- Logger对象配置完成后，可以使用下面的方法来创建日志记录\n",
    "    - Logger.debug(), Logger.info(), Logger.warning(), Logger.error(), Logger.critical()等\n",
    "    - Logger.exception():创建一个类似于Logger.error()的日志消息\n",
    "        - Logger.exception()与Logger.error()的区别在于前者会输出堆栈追踪信息，另外通常只是在一个exception Handler中调用该方法\n",
    "    - Logger.log()与Logger.debug()相比，虽然需要多传入一个level参数，但当需要自定义日志级别时需要用到该方法\n",
    "- 关于logger的层级结构与有效等级的说明\n",
    "        logger的名称是一个以'.'分割的层级结构，每个'.'后面的logger都是'.'前面的logger的children，例如，有一个名称为 foo 的logger，其它名称分别为 foo.bar, foo.bar.baz 和 foo.bam都是 foo 的后代。\n",
    "        logger有一个\"有效等级（effective level）\"的概念。如果一个logger上没有被明确设置一个level，那么该logger就是使用它parent的level;如果它的parent也没有明确设置level则继续向上查找parent的parent的有效level，依次类推，直到找到个一个明确设置了level的祖先为止。需要说明的是，root logger总是会有一个明确的level设置（默认为 WARNING）。当决定是否去处理一个已发生的事件时，logger的有效等级将会被用来决定是否将该事件传递给该logger的handlers进行处理。\n",
    "        child loggers在完成对日志消息的处理后，默认会将日志消息传递给与它们的祖先loggers相关的handlers。因此，我们不必为一个应用程序中所使用的所有loggers定义和配置handlers，只需要为一个顶层的logger配置handlers，然后按照需要创建child loggers就可足够了。我们也可以通过将一个logger的propagate属性设置为False来关闭这种传递机制。\n",
    "        \n",
    "## Handler类\n",
    "- 作用：\n",
    "    - 将logger创建的日志记录发送到合适的目的地输出\n",
    "    - Logger对象可以通过addHandler()方法为自己添加0个或者多个Handler对象\n",
    "- 常用类方法\n",
    "    - Handler.setLevel():设置Handler将会处理的日志消息的最低严重级别\n",
    "    - Handler.setFormatter():为Handler设置一个格式对象\n",
    "    - Handler.addFilter()和Handler.removeFilter()为handler添加和删除一个过滤器对象\n",
    "- 注意：应用程序不应该直接实例化和使用Handler实例，因为Handler是一个基类\n",
    "\n",
    "- 常用的Handler类型\n",
    "    - logging.StreamHandler\t将日志消息发送到输出到Stream，如std.out, std.err或任何file-like对象。\n",
    "    - logging.FileHandler\t将日志消息发送到磁盘文件，默认情况下文件大小会无限增长\n",
    "    - logging.handlers.RotatingFileHandler\t将日志消息发送到磁盘文件，并支持日志文件按大小切割\n",
    "    - logging.hanlders.TimedRotatingFileHandler\t将日志消息发送到磁盘文件，并支持日志文件按时间切割\n",
    "    - logging.handlers.HTTPHandler\t将日志消息以GET或POST的方式发送给一个HTTP服务器\n",
    "    - logging.handlers.SMTPHandler\t将日志消息发送给一个指定的email地址\n",
    "    - logging.NullHandler\t该Handler实例会忽略error messages，通常被想使用logging的library开发者使用来避免'No handlers could be found for logger XXX'信息的出现。\n",
    "    \n",
    "    \n",
    "# Formatter类\n",
    "- 作用：配置日志记录的输出格式，可以被应用程序直接实例化\n",
    "- 该构造方法接受三个可选参数logging.Formatter(fmt=None, datefmt=None, style='%')\n",
    "    - fmt：指定消息格式化字符串，如果不指定该参数则默认使用message的原始值\n",
    "    - datefmt：指定日期格式字符串，如果不指定该参数则默认使用\"%Y-%m-%d %H:%M:%S\"\n",
    "    - style：Python 3.2新增的参数，可取值为 '%', '{'和 '美元符号'，如果不指定该参数则默认使用'%'\n",
    "    \n",
    "\n",
    "# Filter类\n",
    "- 功能很简单。Filter.filter()函数传入一个record(LogRecord对象)，通过筛选返回1，否则返回0.\n",
    "- 如果有需要，也可以在filter(record)方法内部改变该record，比如添加、删除或修改一些属性。\n",
    "\n",
    "\n",
    "### 几大组件的处理日志流程\n",
    "- 1、判断 Logger 对象对于设置的级别是否可用，如果可用，则往下执行，否则，流程结束。\n",
    "- 2、创建 LogRecord 对象，如果注册到 Logger 对象中的 Filter 对象过滤后返回 False，则不记录日志，流程结束，否则，则向下执行。\n",
    "- 3、LogRecord 对象将 Handler 对象传入当前的 Logger 对象，（图中的子流程）如果 Handler 对象的日志级别大于设置的日志级别，再判断注册到 Handler 对象中的 Filter 对象过滤后是否返回 True 而放行输出日志信息，否则不放行，流程结束。\n",
    "- 4、如果传入的 Handler 大于 Logger 中设置的级别，也即 Handler 有效，则往下执行，否则，流程结束。\n",
    "- 5、判断这个 Logger 对象是否还有父 Logger 对象，如果没有（代表当前 Logger 对象是最顶层的 Logger 对象 root Logger），流程结束。否则将 Logger 对象设置为它的父 Logger 对象，重复上面的 3、4 两步，输出父类 Logger 对象中的日志输出，直到是 root Logger 为止。\n",
    "\n",
    "- 简洁流程\n",
    "        1、创建一个logger\n",
    "        2、设置下logger的日志的等级\n",
    "        3、创建合适的Handler(FileHandler要有路径)\n",
    "        4、设置下每个Handler的日志等级\n",
    "        5、创建下日志的格式\n",
    "        6、向Handler中添加上面创建的格式\n",
    "        7、将上面创建的Handler添加到logger中\n",
    "        8、打印输出logger.debug\\logger.info\\logger.warning\\logger.error\\logger.critical\n",
    "- 更多详情见：https://www.cnblogs.com/yyds/p/6901864.html"
   ]
  },
  {
   "cell_type": "code",
   "execution_count": 1,
   "metadata": {},
   "outputs": [
    {
     "name": "stderr",
     "output_type": "stream",
     "text": [
      "2020/09/25 21:46:38 test_logger <ipython-input-1-5eb7a2352869> 泰拳警告\n",
      "2020/09/25 21:46:38 test_logger <ipython-input-1-5eb7a2352869> 提示\n",
      "2020/09/25 21:46:38 test_logger <ipython-input-1-5eb7a2352869> 错误\n"
     ]
    }
   ],
   "source": [
    "import logging\n",
    "import os\n",
    "#创建logger，如果参数为空则返回root logger\n",
    "\n",
    "os.chdir(r\"C:\\Users\\acer\\Desktop\")\n",
    "logger = logging.getLogger(\"test_logger\")\n",
    "logger.setLevel(logging.DEBUG)  #设置logger日志等级\n",
    "\n",
    "#创建handler\n",
    "fh = logging.FileHandler(r\"C:\\Users\\acer\\Desktop\\test.log\",encoding=\"utf-8\")\n",
    "ch = logging.StreamHandler()\n",
    "\n",
    "#设置输出日志格式\n",
    "formatter = logging.Formatter(\n",
    "    fmt=\"%(asctime)s %(name)s %(filename)s %(message)s\",\n",
    "    datefmt=\"%Y/%m/%d %X\"\n",
    "    )\n",
    "\n",
    "#注意 logging.Formatter的大小写\n",
    " \n",
    "#为handler指定输出格式，注意大小写\n",
    "fh.setFormatter(formatter)\n",
    "ch.setFormatter(formatter)\n",
    "\n",
    "#为logger添加的日志处理器\n",
    "logger.addHandler(fh)\n",
    "logger.addHandler(ch)\n",
    "\n",
    "#输出不同级别的log\n",
    "logger.warning(\"泰拳警告\")\n",
    "logger.info(\"提示\")\n",
    "logger.error(\"错误\")"
   ]
  },
  {
   "cell_type": "code",
   "execution_count": null,
   "metadata": {},
   "outputs": [],
   "source": []
  }
 ],
 "metadata": {
  "kernelspec": {
   "display_name": "Python 3",
   "language": "python",
   "name": "python3"
  },
  "language_info": {
   "codemirror_mode": {
    "name": "ipython",
    "version": 3
   },
   "file_extension": ".py",
   "mimetype": "text/x-python",
   "name": "python",
   "nbconvert_exporter": "python",
   "pygments_lexer": "ipython3",
   "version": "3.7.3"
  }
 },
 "nbformat": 4,
 "nbformat_minor": 2
}
