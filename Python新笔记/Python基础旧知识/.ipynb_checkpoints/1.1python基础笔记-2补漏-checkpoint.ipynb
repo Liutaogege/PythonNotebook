{
 "cells": [
  {
   "cell_type": "code",
   "execution_count": 5,
   "metadata": {},
   "outputs": [
    {
     "name": "stdout",
     "output_type": "stream",
     "text": [
      "   woshi\n",
      "0    520\n",
      "2524797605592\n",
      "2524796266648\n",
      "False\n",
      "['7', '8']\n"
     ]
    }
   ],
   "source": [
    "import sys \n",
    "sys.path.append(r\"E:\\Users\\acer\\Anaconda3\\pkgs\\pandas-0.25.1-py37ha925a31_0\\Lib\\site-packages\")\n",
    "import pandas as pd\n",
    "df1 = pd.DataFrame({'woshi':520},index=[0])\n",
    "\n",
    "df2 = df1.copy()\n",
    "print(df2)\n",
    "print(id(df1))\n",
    "print(id(df2))\n",
    "print('520' in df2)\n",
    "print(list('78'))"
   ]
  },
  {
   "cell_type": "markdown",
   "metadata": {},
   "source": [
    "# python中print的巧妙用法"
   ]
  },
  {
   "cell_type": "code",
   "execution_count": 5,
   "metadata": {},
   "outputs": [
    {
     "name": "stdout",
     "output_type": "stream",
     "text": [
      "my name is liutao\n",
      "my name is liutao\n",
      "\n",
      "line1\n",
      "line2\n",
      "line3\n",
      "I love you so much            这是测站位符的啊\n",
      "I love you so much------------\n",
      "            I love you so much\n",
      "------------I love you so much\n",
      "------I love you so much------\n",
      "            I love you so much\n",
      "I love you so much            \n",
      "------------I love you so much\n",
      "I love you so much------------\n",
      "------------I love you so much\n",
      "I love you so much            done\n",
      "1,234,533\n"
     ]
    }
   ],
   "source": [
    "# Python补漏\n",
    "name = \"liutao\"\n",
    "# f-string输出法\n",
    "print(f\"my name is {name}\")\n",
    "# format_map在变量中去寻找name这个变量,没找到则报错\n",
    "print(\"my name is {name}\".format_map(vars())) \n",
    "# \n",
    "print(r\"\"\"\n",
    "line1\n",
    "line2\n",
    "line3\"\"\") #r表示不转义\n",
    "\n",
    "# 文本对齐：输出占位符\n",
    "text = \"I love you so much\"\n",
    "print(text.ljust(30), end=\"\")\n",
    "print(\"这是测站位符的啊\")\n",
    "print(text.ljust(30, '-'))\n",
    "\n",
    "print(text.rjust(30, \" \"))\n",
    "print(text.rjust(30, \"-\"))\n",
    "\n",
    "print(text.center(30, \"-\"))\n",
    "\n",
    "\n",
    "\n",
    "# 利用format实现占位符\n",
    "print(format(text, \">30\")) #向右移动30格\n",
    "print(format(text, \"<30\")) #向左移动30格\n",
    "print(format(text, \"->30\")) #向右移动30格填充\n",
    "print(format(text, \"-<30\")) #向左移动30格并填充\n",
    "print(\"{:->30}\".format(text))\n",
    "print(\"{0:30}\".format(text), end=\"done\") #控制输出的宽度\n",
    "#（4）逗号（，）<格式控制标记>中逗号（，）用于显示数字的千位分隔符，例如：\n",
    "print()\n",
    "print(\"{:,}\".format(1234533))"
   ]
  },
  {
   "cell_type": "code",
   "execution_count": 9,
   "metadata": {},
   "outputs": [
    {
     "ename": "SyntaxError",
     "evalue": "EOL while scanning string literal (<ipython-input-9-2b89f73c59b7>, line 3)",
     "output_type": "error",
     "traceback": [
      "\u001b[1;36m  File \u001b[1;32m\"<ipython-input-9-2b89f73c59b7>\"\u001b[1;36m, line \u001b[1;32m3\u001b[0m\n\u001b[1;33m    with open(r\"test.text\", \"rt) as f:\u001b[0m\n\u001b[1;37m                                      ^\u001b[0m\n\u001b[1;31mSyntaxError\u001b[0m\u001b[1;31m:\u001b[0m EOL while scanning string literal\n"
     ]
    }
   ],
   "source": [
    "# 将打印输出到文件中:\n",
    "#注意确保文件是以文本模式打开的\n",
    "with open(r\"test.text\", \"rt) as f:\n",
    "        print(\"hello world\", file=f)"
   ]
  },
  {
   "cell_type": "code",
   "execution_count": 12,
   "metadata": {},
   "outputs": [
    {
     "name": "stdout",
     "output_type": "stream",
     "text": [
      "you-love-I\n",
      "you-love-I\n"
     ]
    }
   ],
   "source": [
    "# 用print连接可迭代对象\n",
    "\n",
    "s = {\"I\", \"love\", \"you\"}\n",
    "print(*s, sep=\"-\")\n",
    "new_s = \"-\".join(s)\n",
    "print(new_s)"
   ]
  },
  {
   "cell_type": "code",
   "execution_count": 7,
   "metadata": {},
   "outputs": [
    {
     "name": "stdout",
     "output_type": "stream",
     "text": [
      " I love you, but you will never know, I\n",
      " know, whatever how deep I love you, you\n",
      " still do not care me\n"
     ]
    }
   ],
   "source": [
    "#以固定的列数重新格式化文本\n",
    "import textwrap\n",
    "\n",
    "s = \"I love you, but you will never know, I know, whatever how deep I love you, you still do not care me\"\n",
    "print(textwrap.fill(s, 40, initial_indent=\" \",subsequent_indent=\" \"))"
   ]
  },
  {
   "cell_type": "markdown",
   "metadata": {},
   "source": [
    "# Python中执行shell脚本名令的几种方法\n",
    "- os方法\n",
    "    - 对于有返回值的shell命令，建议使用 os.popen()\n",
    "    - 对于没有返回值的shell命令，建议使用 os.system()\n",
    "- subprocess方法，用来替代os方法的\n",
    "\n",
    "\n",
    "### subprocess模块\n",
    "- 常用方法\n",
    "    - 1、subprocess.call()：执行命令，并返回执行状态，其中shell参数为False时，命令以及命令的参数需要通过列表的方式传入，当shell为True时，可通过一个字符串直接传入命令以及命令所需要的参数\n",
    "    - 2、subprocess.check_call()：用法与subprocess.call()类似，区别是，当返回值不为0时，直接抛出异常\n",
    "    - 3、subprocess.check_output()：用法与上面两个方法类似，区别是，如果当返回值为0时，直接返回输出结果，如果返回值不为0，直接抛出异常。"
   ]
  },
  {
   "cell_type": "code",
   "execution_count": 45,
   "metadata": {},
   "outputs": [
    {
     "name": "stdout",
     "output_type": "stream",
     "text": [
      "1\n",
      "1\n",
      "<os._wrap_close object at 0x000001D822249278>\n",
      "\n"
     ]
    }
   ],
   "source": [
    "#第一种os.system()，在Linux系统中才管用\n",
    "import os\n",
    "os.chdir(r\"C:\\Users\\acer\\Desktop\")\n",
    "print(os.system(\"touch test.txt\"))  #返回1表示不成功\n",
    "print(os.system(\"ls -a\"))\n",
    "\n",
    "# 第二种os.popen()\n",
    "print(os.popen(\"ls -l\"))\n",
    "f = os.popen(\"touch test.txt\")\n",
    "print(f.read())"
   ]
  },
  {
   "cell_type": "code",
   "execution_count": 8,
   "metadata": {},
   "outputs": [
    {
     "ename": "FileNotFoundError",
     "evalue": "[WinError 2] 系统找不到指定的文件。",
     "output_type": "error",
     "traceback": [
      "\u001b[1;31m---------------------------------------------------------------------------\u001b[0m",
      "\u001b[1;31mFileNotFoundError\u001b[0m                         Traceback (most recent call last)",
      "\u001b[1;32m<ipython-input-8-82bcebe3991e>\u001b[0m in \u001b[0;36m<module>\u001b[1;34m\u001b[0m\n\u001b[0;32m      4\u001b[0m \u001b[1;33m\u001b[0m\u001b[0m\n\u001b[0;32m      5\u001b[0m \u001b[0mos\u001b[0m\u001b[1;33m.\u001b[0m\u001b[0mchdir\u001b[0m\u001b[1;33m(\u001b[0m\u001b[1;34mr\"C:\\Users\\acer\\Desktop\"\u001b[0m\u001b[1;33m)\u001b[0m\u001b[1;33m\u001b[0m\u001b[1;33m\u001b[0m\u001b[0m\n\u001b[1;32m----> 6\u001b[1;33m \u001b[0mprint\u001b[0m\u001b[1;33m(\u001b[0m\u001b[0msubprocess\u001b[0m\u001b[1;33m.\u001b[0m\u001b[0mcall\u001b[0m\u001b[1;33m(\u001b[0m\u001b[1;33m[\u001b[0m\u001b[1;34m\"ls\"\u001b[0m\u001b[1;33m,\u001b[0m\u001b[1;34m\"-l\"\u001b[0m\u001b[1;33m]\u001b[0m\u001b[1;33m,\u001b[0m\u001b[0mshell\u001b[0m\u001b[1;33m=\u001b[0m\u001b[1;32mFalse\u001b[0m\u001b[1;33m)\u001b[0m\u001b[1;33m)\u001b[0m  \u001b[1;31m# shell参数为false，则，命令以及参数以列表的形式给出\u001b[0m\u001b[1;33m\u001b[0m\u001b[1;33m\u001b[0m\u001b[0m\n\u001b[0m",
      "\u001b[1;32me:\\Users\\acer\\Anaconda3\\lib\\subprocess.py\u001b[0m in \u001b[0;36mcall\u001b[1;34m(timeout, *popenargs, **kwargs)\u001b[0m\n\u001b[0;32m    321\u001b[0m     \u001b[0mretcode\u001b[0m \u001b[1;33m=\u001b[0m \u001b[0mcall\u001b[0m\u001b[1;33m(\u001b[0m\u001b[1;33m[\u001b[0m\u001b[1;34m\"ls\"\u001b[0m\u001b[1;33m,\u001b[0m \u001b[1;34m\"-l\"\u001b[0m\u001b[1;33m]\u001b[0m\u001b[1;33m)\u001b[0m\u001b[1;33m\u001b[0m\u001b[1;33m\u001b[0m\u001b[0m\n\u001b[0;32m    322\u001b[0m     \"\"\"\n\u001b[1;32m--> 323\u001b[1;33m     \u001b[1;32mwith\u001b[0m \u001b[0mPopen\u001b[0m\u001b[1;33m(\u001b[0m\u001b[1;33m*\u001b[0m\u001b[0mpopenargs\u001b[0m\u001b[1;33m,\u001b[0m \u001b[1;33m**\u001b[0m\u001b[0mkwargs\u001b[0m\u001b[1;33m)\u001b[0m \u001b[1;32mas\u001b[0m \u001b[0mp\u001b[0m\u001b[1;33m:\u001b[0m\u001b[1;33m\u001b[0m\u001b[1;33m\u001b[0m\u001b[0m\n\u001b[0m\u001b[0;32m    324\u001b[0m         \u001b[1;32mtry\u001b[0m\u001b[1;33m:\u001b[0m\u001b[1;33m\u001b[0m\u001b[1;33m\u001b[0m\u001b[0m\n\u001b[0;32m    325\u001b[0m             \u001b[1;32mreturn\u001b[0m \u001b[0mp\u001b[0m\u001b[1;33m.\u001b[0m\u001b[0mwait\u001b[0m\u001b[1;33m(\u001b[0m\u001b[0mtimeout\u001b[0m\u001b[1;33m=\u001b[0m\u001b[0mtimeout\u001b[0m\u001b[1;33m)\u001b[0m\u001b[1;33m\u001b[0m\u001b[1;33m\u001b[0m\u001b[0m\n",
      "\u001b[1;32me:\\Users\\acer\\Anaconda3\\lib\\subprocess.py\u001b[0m in \u001b[0;36m__init__\u001b[1;34m(self, args, bufsize, executable, stdin, stdout, stderr, preexec_fn, close_fds, shell, cwd, env, universal_newlines, startupinfo, creationflags, restore_signals, start_new_session, pass_fds, encoding, errors, text)\u001b[0m\n\u001b[0;32m    773\u001b[0m                                 \u001b[0mc2pread\u001b[0m\u001b[1;33m,\u001b[0m \u001b[0mc2pwrite\u001b[0m\u001b[1;33m,\u001b[0m\u001b[1;33m\u001b[0m\u001b[1;33m\u001b[0m\u001b[0m\n\u001b[0;32m    774\u001b[0m                                 \u001b[0merrread\u001b[0m\u001b[1;33m,\u001b[0m \u001b[0merrwrite\u001b[0m\u001b[1;33m,\u001b[0m\u001b[1;33m\u001b[0m\u001b[1;33m\u001b[0m\u001b[0m\n\u001b[1;32m--> 775\u001b[1;33m                                 restore_signals, start_new_session)\n\u001b[0m\u001b[0;32m    776\u001b[0m         \u001b[1;32mexcept\u001b[0m\u001b[1;33m:\u001b[0m\u001b[1;33m\u001b[0m\u001b[1;33m\u001b[0m\u001b[0m\n\u001b[0;32m    777\u001b[0m             \u001b[1;31m# Cleanup if the child failed starting.\u001b[0m\u001b[1;33m\u001b[0m\u001b[1;33m\u001b[0m\u001b[1;33m\u001b[0m\u001b[0m\n",
      "\u001b[1;32me:\\Users\\acer\\Anaconda3\\lib\\subprocess.py\u001b[0m in \u001b[0;36m_execute_child\u001b[1;34m(self, args, executable, preexec_fn, close_fds, pass_fds, cwd, env, startupinfo, creationflags, shell, p2cread, p2cwrite, c2pread, c2pwrite, errread, errwrite, unused_restore_signals, unused_start_new_session)\u001b[0m\n\u001b[0;32m   1176\u001b[0m                                          \u001b[0menv\u001b[0m\u001b[1;33m,\u001b[0m\u001b[1;33m\u001b[0m\u001b[1;33m\u001b[0m\u001b[0m\n\u001b[0;32m   1177\u001b[0m                                          \u001b[0mos\u001b[0m\u001b[1;33m.\u001b[0m\u001b[0mfspath\u001b[0m\u001b[1;33m(\u001b[0m\u001b[0mcwd\u001b[0m\u001b[1;33m)\u001b[0m \u001b[1;32mif\u001b[0m \u001b[0mcwd\u001b[0m \u001b[1;32mis\u001b[0m \u001b[1;32mnot\u001b[0m \u001b[1;32mNone\u001b[0m \u001b[1;32melse\u001b[0m \u001b[1;32mNone\u001b[0m\u001b[1;33m,\u001b[0m\u001b[1;33m\u001b[0m\u001b[1;33m\u001b[0m\u001b[0m\n\u001b[1;32m-> 1178\u001b[1;33m                                          startupinfo)\n\u001b[0m\u001b[0;32m   1179\u001b[0m             \u001b[1;32mfinally\u001b[0m\u001b[1;33m:\u001b[0m\u001b[1;33m\u001b[0m\u001b[1;33m\u001b[0m\u001b[0m\n\u001b[0;32m   1180\u001b[0m                 \u001b[1;31m# Child is launched. Close the parent's copy of those pipe\u001b[0m\u001b[1;33m\u001b[0m\u001b[1;33m\u001b[0m\u001b[1;33m\u001b[0m\u001b[0m\n",
      "\u001b[1;31mFileNotFoundError\u001b[0m: [WinError 2] 系统找不到指定的文件。"
     ]
    }
   ],
   "source": [
    "# subprocess的简单使用\n",
    "import os\n",
    "import subprocess\n",
    "\n",
    "os.chdir(r\"C:\\Users\\acer\\Desktop\")\n",
    "print(subprocess.call([\"ls\",\"-l\"],shell=False))  # shell参数为false，则，命令以及参数以列表的形式给出"
   ]
  },
  {
   "cell_type": "markdown",
   "metadata": {},
   "source": [
    "### enumerate(sequence,start=0)\n",
    "        输入一个可遍历的数据对象(如列表)，返回一个可迭代对象(索引值和数据)。start可设置索引起始值\n",
    "\n",
    "\n",
    "### eval(expression,[, globals[, locals]])\n",
    "- 用来执行一个字符串表达式，并返回表达式的值。\n",
    "- globals -- 变量作用域，全局命名空间，如果被提供，则必须是一个字典对象。\n",
    "- locals -- 变量作用域，局部命名空间，如果被提供，可以是任何映射对象。\n",
    "- eval('ob01001')，可以转换为十进制输出\n",
    "\n",
    "### exce函数\n",
    "- 用于执行存储在字符串中的python语句，这样直接执行可能会污染我们的命名空间\n",
    "- 区别：\n",
    "    - 与eval函数类似，exce函数执行的是python语句，没有返回值，而eval函数执行的是python表达式，有返回值\n",
    "- globals -- 变量作用域，全局命名空间，如果被提供，则必须是一个字典对象。\n",
    "- locals -- 变量作用域，局部命名空间，如果被提供，可以是任何映射对象。\n",
    "\n",
    "### zip(iterable,iterable)\n",
    "        它接受一系列可迭代的对象作为参数，将对象中对应的元素打包成一个个tuple（元组），然后返回由这些tuples组成的list列表:"
   ]
  },
  {
   "cell_type": "code",
   "execution_count": 5,
   "metadata": {},
   "outputs": [
    {
     "name": "stdout",
     "output_type": "stream",
     "text": [
      "[('liu', 1), ('li', 2), ('zhao', 3)]\n",
      "[('liu', 'li', 'zhao'), (1, 2, 3)]\n",
      "{'liu': 1, 'li': 2, 'zhao': 3}\n",
      "(3, 'zhao')\n",
      "{1: 'liu', 2: 'li', 3: 'zhao'}\n"
     ]
    }
   ],
   "source": [
    "# zip(iterable,iterable)它接受一系列可迭代的对象作为参数，将对象中对应的元素打包成一个个tuple（元组），然后返回由这些tuples组成的list（列表:\n",
    "one = (\"liu\", \"li\",\"zhao\")\n",
    "two = (1,2,3)\n",
    "ot = list(zip(one,two))\n",
    "print(ot)\n",
    "oto = zip(one, two)\n",
    "oto1 = list(zip(*oto)) # 解压，把每个列表化为一个元素\n",
    "print(oto1)\n",
    "f = dict(zip(one,two))\n",
    "print(f)\n",
    "num = zip(f.values(), f.keys())\n",
    "print(max(num))\n",
    "# print(min(num)) #zip()会创建一个迭代器，只能被消费一次，所以这句话会报错\n",
    "d = {k:v for v,k in f.items()}\n",
    "print(d)"
   ]
  },
  {
   "cell_type": "code",
   "execution_count": 9,
   "metadata": {},
   "outputs": [
    {
     "name": "stdout",
     "output_type": "stream",
     "text": [
      "(0, 'liutao')\n",
      "(1, 'jiaojiao')\n",
      "(2, 'xiaoxiao')\n",
      "0 : liutao\n",
      "1 : jiaojiao\n",
      "2 : xiaoxiao\n"
     ]
    }
   ],
   "source": [
    "# enumerate()举例\n",
    "lst = [\"liutao\", \"jiaojiao\", \"xiaoxiao\"]\n",
    "for i in enumerate(lst):\n",
    "    print(i)\n",
    "for i, v in enumerate(lst):\n",
    "    print(i, \":\", v)"
   ]
  },
  {
   "cell_type": "code",
   "execution_count": 1,
   "metadata": {},
   "outputs": [
    {
     "name": "stdout",
     "output_type": "stream",
     "text": [
      "我中意你呀\n",
      "5\n",
      "<class 'bytes'>\n",
      "请输入你要执行的命令：hah\n"
     ]
    },
    {
     "ename": "NameError",
     "evalue": "name 'hah' is not defined",
     "output_type": "error",
     "traceback": [
      "\u001b[1;31m---------------------------------------------------------------------------\u001b[0m",
      "\u001b[1;31mNameError\u001b[0m                                 Traceback (most recent call last)",
      "\u001b[1;32m<ipython-input-1-cefeff493ef7>\u001b[0m in \u001b[0;36m<module>\u001b[1;34m\u001b[0m\n\u001b[0;32m     14\u001b[0m \u001b[1;31m#我们知道，input得到的是字符串，而eval可以将它转换为命令执行\u001b[0m\u001b[1;33m\u001b[0m\u001b[1;33m\u001b[0m\u001b[1;33m\u001b[0m\u001b[0m\n\u001b[0;32m     15\u001b[0m \u001b[1;32mimport\u001b[0m \u001b[0mos\u001b[0m\u001b[1;33m\u001b[0m\u001b[1;33m\u001b[0m\u001b[0m\n\u001b[1;32m---> 16\u001b[1;33m \u001b[0mnew_v\u001b[0m \u001b[1;33m=\u001b[0m \u001b[0meval\u001b[0m\u001b[1;33m(\u001b[0m\u001b[0mvalue\u001b[0m\u001b[1;33m)\u001b[0m\u001b[1;33m\u001b[0m\u001b[1;33m\u001b[0m\u001b[0m\n\u001b[0m\u001b[0;32m     17\u001b[0m \u001b[0mprint\u001b[0m\u001b[1;33m(\u001b[0m\u001b[0mnew_v\u001b[0m\u001b[1;33m)\u001b[0m\u001b[1;33m\u001b[0m\u001b[1;33m\u001b[0m\u001b[0m\n\u001b[0;32m     18\u001b[0m \u001b[1;31m#若输入os.path就可以打印出系统的路径，并有可能更改它\u001b[0m\u001b[1;33m\u001b[0m\u001b[1;33m\u001b[0m\u001b[1;33m\u001b[0m\u001b[0m\n",
      "\u001b[1;32m<string>\u001b[0m in \u001b[0;36m<module>\u001b[1;34m\u001b[0m\n",
      "\u001b[1;31mNameError\u001b[0m: name 'hah' is not defined"
     ]
    }
   ],
   "source": [
    "#eval函数举例:总而言之，就是可以把字符串变为命令执行\n",
    "words = \"print('我中意你呀')\"\n",
    "eval(words)\n",
    "#help(eval)\n",
    "value = \"2 + 3\"\n",
    "print(eval(value))\n",
    "\n",
    "bytes_words = \"b'xixi'\"\n",
    "eval(bytes_words)\n",
    "print(type(eval(bytes_words)))\n",
    "\n",
    "#eval函数不安全\n",
    "value = input(\"请输入你要执行的命令：\")\n",
    "#我们知道，input得到的是字符串，而eval可以将它转换为命令执行\n",
    "import os\n",
    "new_v = eval(value)\n",
    "print(new_v)\n",
    "#若输入os.path就可以打印出系统的路径，并有可能更改它"
   ]
  },
  {
   "cell_type": "code",
   "execution_count": 2,
   "metadata": {},
   "outputs": [
    {
     "name": "stdout",
     "output_type": "stream",
     "text": [
      "25\n"
     ]
    }
   ],
   "source": [
    "exec(\"x=25\")\n",
    "print(x)\n"
   ]
  },
  {
   "cell_type": "code",
   "execution_count": 17,
   "metadata": {},
   "outputs": [
    {
     "name": "stdout",
     "output_type": "stream",
     "text": [
      "向下取整\n",
      "2\n",
      "3\n",
      "向上取整\n",
      "3\n",
      "2\n",
      "3\n",
      "8\n",
      "0\n",
      "0\n"
     ]
    }
   ],
   "source": [
    "#Python中的常量用大写字母表示，但他不是真正的常量，可以改变，Python中没有真正的常量\n",
    "PI = 3.14\n",
    "\n",
    "import math\n",
    "# 向下取整: //,又称地板法\n",
    "print(\"向下取整\")\n",
    "num = 8 // 3\n",
    "print(num)\n",
    "print(math.floor(3.4))\n",
    "\n",
    "\n",
    "# 向上取整\n",
    "print(\"向上取整\")\n",
    "num = 8 / 3\n",
    "print(math.ceil(num))\n",
    "\n",
    "# 四舍五入\n",
    "print(round(2.4))\n",
    "print(round(2.51))\n",
    "\n",
    "# 向0取整:取得数的绝对值一定比原来那个数的绝对值要小\n",
    "print(int(8.9))\n",
    "print(int(-0.8))\n",
    "print(int(0.8))"
   ]
  },
  {
   "cell_type": "markdown",
   "metadata": {},
   "source": [
    "# 进制转换相关函数\n",
    "- bin():将十进制转换为二进制,以Ob开头\n",
    "- oct():将十进制转换为八进制字符串输出，以O0开头\n",
    "- hex():将十进制转换为十六进制字符串输出，以Ox开头\n",
    "- bool():将对象转换成bool类型，非空字符串即为真，空为假\n",
    "- ord(一个字符);得到字符的ASCII码\n",
    "- chr():从ASCII码得到字符"
   ]
  },
  {
   "cell_type": "code",
   "execution_count": 8,
   "metadata": {},
   "outputs": [
    {
     "name": "stdout",
     "output_type": "stream",
     "text": [
      "0b10\n",
      "0o2\n",
      "0x2\n",
      "True\n",
      "97\n",
      "A\n"
     ]
    }
   ],
   "source": [
    "a = 2\n",
    "print(bin(a))\n",
    "print(oct(a))\n",
    "print(hex(a))\n",
    "print(bool(a))\n",
    "print(ord(\"a\"))\n",
    "print(chr(65))"
   ]
  },
  {
   "cell_type": "markdown",
   "metadata": {},
   "source": [
    "# 字节流与字符串\n",
    "- 字节：由8个01代码组成，在Python中表示字节要在前面加上b,如：b'abc',可用  b\"\\数值\"  表示单个字符\n",
    "- 字节流:主要用于二进制数据，网络传输数据方面，形式：01代码\n",
    "- 字符串：用于文本文件，用户IO方面\n",
    "\n",
    "## 字符串转换为字节流\n",
    "- bytes(str, encoding='utf-8')\n",
    "- 编码：简而言之就是一个字符用二进制表示\n",
    "- 注意：bytes()同str()一样,是一个类，而不是一个方法。而bytes很像str，因此他们的很多函数方法都相同\n",
    "- bytes中有一个decode方法，将字节流解码为字符串；而str中有一个encode方法将字符串编码为字节\n",
    "    - 字节流解码：bt.decode()\n",
    "    - 字符串编码：str.encode()"
   ]
  },
  {
   "cell_type": "code",
   "execution_count": 19,
   "metadata": {},
   "outputs": [
    {
     "ename": "SyntaxError",
     "evalue": "invalid syntax (<ipython-input-19-5feaba0ac728>, line 5)",
     "output_type": "error",
     "traceback": [
      "\u001b[1;36m  File \u001b[1;32m\"<ipython-input-19-5feaba0ac728>\"\u001b[1;36m, line \u001b[1;32m5\u001b[0m\n\u001b[1;33m    print(bytes(\"我爱你\", encoding='utf-8').decode())a='你好'\u001b[0m\n\u001b[1;37m                                                  ^\u001b[0m\n\u001b[1;31mSyntaxError\u001b[0m\u001b[1;31m:\u001b[0m invalid syntax\n"
     ]
    }
   ],
   "source": [
    "print(b'\\15')\n",
    "print(b'\\65')\n",
    "print(type(b'\\64'))\n",
    "print(bytes(\"我爱你\", encoding='utf-8'))\n",
    "print(bytes(\"我爱你\", encoding='utf-8').decode())\n"
   ]
  },
  {
   "cell_type": "code",
   "execution_count": 29,
   "metadata": {},
   "outputs": [
    {
     "name": "stdout",
     "output_type": "stream",
     "text": [
      "b'\\xe4\\xbd\\xa0\\xe5\\xa5\\xbd'\n",
      "16进制表示为为： 228\n",
      "16进制表示为为： 189\n",
      "16进制表示为为： 160\n",
      "16进制表示为为： 229\n",
      "16进制表示为为： 165\n",
      "16进制表示为为： 189\n",
      "二进制表示为： 0b11100100\n",
      "二进制表示为： 0b10111101\n",
      "二进制表示为： 0b10100000\n",
      "二进制表示为： 0b11100101\n",
      "二进制表示为： 0b10100101\n",
      "二进制表示为： 0b10111101\n"
     ]
    }
   ],
   "source": [
    "a='你好'\n",
    "a_b=a.encode('utf-8')\n",
    "# 其实x**本质上就是16进制的表示方法，只是一种简写而已\n",
    "print(a_b)\n",
    "for i in a_b:\n",
    "    print(\"16进制表示为为：\",i)\n",
    "for i in a_b:\n",
    "    print(\"二进制表示为：\",bin(i))"
   ]
  },
  {
   "cell_type": "code",
   "execution_count": 33,
   "metadata": {},
   "outputs": [
    {
     "name": "stdout",
     "output_type": "stream",
     "text": [
      "请输入你要编码的字符：我爱你\n",
      "11100110 10001000 10010001 11100111 10001000 10110001 11100100 10111101 10100000\n"
     ]
    }
   ],
   "source": [
    "# 实现字符串用二进制表示\n",
    "string = input(\"请输入你要编码的字符：\")\n",
    "def calculating(string):\n",
    "    result = \" \".join([bin(i).replace(\"0b\", \"\") for i in string.encode(\"utf-8\")])\n",
    "    print(result)\n",
    "\n",
    "if __name__ == \"__main__\":\n",
    "    calculating(string)"
   ]
  },
  {
   "cell_type": "markdown",
   "metadata": {},
   "source": [
    "# 复数complex\n",
    "- complex（）函数用于创建一个复数或者将一个数或字符串转换为复数形式，其返回值为一个复数\n",
    "- 注意：如果第一个参数为字符串，第二个参数必须省略，若第一个参数为其他类型，则第二个参数可以选择\n",
    "\n",
    "\n",
    "# 小数fractions模块\n",
    "- 类Fraction是fractions模块的核心\n",
    "    - 构造函数\n",
    "    - class fractions.Fraction(numerator=0, denominator=1)\n",
    "    - class fractions.Fraction(int|float|str|Decimal|Fraction)\n",
    "        - 可以同时提供分子（numerator）和分母（denominator）给构造函数用于实例化Fraction类，但两者必须同时是int类型或者numbers.Rational类型，否则会抛出类型错误。当分母为0，初始化的时候会导致抛出异常ZeroDivisionError。\n",
    "        - 而如果只提供一个参数，则可以用上述五种类型进行初始化。当使用字符串进行初始化时，fractions模块使用内置的正则表达式进行匹配。而使用浮点数或者Decimal进行初始化时，fractions模块会在内部调用as_integer_ratio()。"
   ]
  },
  {
   "cell_type": "code",
   "execution_count": 1,
   "metadata": {},
   "outputs": [
    {
     "name": "stdout",
     "output_type": "stream",
     "text": [
      "<class 'complex'>\n",
      "(3+4j)\n",
      "3.0\n",
      "4.0\n",
      "(3-4j)\n",
      "1.4142135623730951j\n"
     ]
    }
   ],
   "source": [
    "# 复数的简单使用\n",
    "print(type(4j))\n",
    "a = complex(3, 4)\n",
    "print(a)\n",
    "print(a.real) #a的实部\n",
    "print(a.imag) #a的虚部\n",
    "print(a.conjugate())  #a的共轭数\n",
    "\n",
    "# 如果希望负数能够开方产生负数结果，需要导入cmath.sqrt\n",
    "import cmath\n",
    "print(cmath.sqrt(-2))"
   ]
  },
  {
   "cell_type": "code",
   "execution_count": 2,
   "metadata": {},
   "outputs": [
    {
     "name": "stdout",
     "output_type": "stream",
     "text": [
      "74/55\n",
      "74\n",
      "55\n",
      "1.3454545454545455\n",
      "7/16\n"
     ]
    }
   ],
   "source": [
    "# fraction的简单使用\n",
    "from fractions import Fraction\n",
    "\n",
    "a = Fraction(4, 5)\n",
    "b = Fraction(6, 11)\n",
    "c = a + b\n",
    "d = a * b\n",
    "print(c)\n",
    "print(c.numerator) #获取分子\n",
    "print(c.denominator)#获取分母\n",
    "print(float(c)) #将其转化为小数\n",
    "print(d.limit_denominator(20))\n",
    "#找到并返回与自己最接近的有最大分母的分数,最大分母为(1000000)。\n",
    "#他的方法对于寻找一个给定浮点数的合理匹配是有用的"
   ]
  },
  {
   "cell_type": "markdown",
   "metadata": {},
   "source": [
    "# 浮点数\n",
    "- 浮点数可以提供小数点后17位的精度\n",
    "- Python浮点数不能用==比较是否相等，因为浮点数天生有误差，且无法避免。要提高精度的话，采用decimal,但会牺牲性能。\n",
    "    - 若比较1.2*6 == 7.2则会返回False\n",
    "- 比较浮点数的方法：\n",
    "    - abs()方法：abs(a-b)<1e-5\n",
    "    -  math.isclose()方法：math.isclose(a,b)\n",
    "- f.as_integer_ratio()将浮点数转化为两个近似整数的商\n",
    "- f.is_integer()：判断浮点数是否为整数，如12.0\n",
    "- 浮点数定义无穷大，负无穷大，或Nan\n",
    "    - a = float(\"inf\")\n",
    "    - b = float(\"-inf\")\n",
    "    - c = float(\"nan\")\n",
    "\n",
    "# Decimal()\n",
    "- 这个函数很复杂\n",
    "- Decimal接收不同类型的值得到的结果不一样，如：Decimal(1.3)和Decimal(\"1.3\")得到的结果不一样\n",
    "\n",
    "# round(number,ndigits=None)\n",
    "- ndigits的含义:取整的位数。把小数点位置看成0，小数点右边为正，左边为负。，当ndigits为正数时，意旨对小数部分取整；当ndigits为负时，对整数部分取整。取整时遵循四舍五入的原则，负数取整遵循离得近的选择。当ndigits为None时，直接返回整数，遵循以上原则\n"
   ]
  },
  {
   "cell_type": "code",
   "execution_count": 4,
   "metadata": {},
   "outputs": [
    {
     "name": "stdout",
     "output_type": "stream",
     "text": [
      "(1464039737014809, 281474976710656)\n",
      "False\n",
      "True\n",
      "1.399999999999999911182158029987476766109466552734375\n",
      "1.4\n",
      "1.5\n",
      "inf -inf nan\n",
      "inf\n"
     ]
    }
   ],
   "source": [
    "a = 5.201314\n",
    "b = 12.0\n",
    "print(a.as_integer_ratio())\n",
    "print(a.is_integer())\n",
    "print(b.is_integer())\n",
    "\n",
    "from decimal import Decimal\n",
    "print(Decimal(1.4))\n",
    "print(Decimal(\"1.4\"))\n",
    "\n",
    "# Decimal实现四舍五入\n",
    "from decimal import localcontext\n",
    "a = Decimal(\"30.4\")\n",
    "b = Decimal(\"20.0\")\n",
    "with localcontext() as ctx:\n",
    "    ctx.prec = 2 #\n",
    "    print(a/b)\n",
    "    \n",
    "    \n",
    "a = float(\"inf\")\n",
    "b = float(\"-inf\")\n",
    "c = float(\"nan\")\n",
    "print(a, b, c)\n",
    "print(a + 8)"
   ]
  },
  {
   "cell_type": "code",
   "execution_count": null,
   "metadata": {},
   "outputs": [],
   "source": [
    "# round的简单使用\n",
    "print(round(167946.6666,3))\n",
    "print(round(1456.23,-2))\n",
    "print(round(-2.3,0))\n",
    "print(round(-2.8,0))\n",
    "#注意别把格式化和取整混为一谈"
   ]
  }
 ],
 "metadata": {
  "kernelspec": {
   "display_name": "Python 3",
   "language": "python",
   "name": "python3"
  },
  "language_info": {
   "codemirror_mode": {
    "name": "ipython",
    "version": 3
   },
   "file_extension": ".py",
   "mimetype": "text/x-python",
   "name": "python",
   "nbconvert_exporter": "python",
   "pygments_lexer": "ipython3",
   "version": "3.7.3"
  }
 },
 "nbformat": 4,
 "nbformat_minor": 2
}
