{
 "cells": [
  {
   "cell_type": "markdown",
   "metadata": {},
   "source": [
    "# collections.namedtuple()的用法\n",
    "- 他是一个工厂函数（说白了就是一个能产生函数的工厂，目的是对一个需要输入多个参数的函数分类封装）,它是tuple的子类\n",
    "- 参数：collections.namedtuple(typename, field_names, *, rename=False, defaults=None, module=None):\n",
    "    - 必填参数：\n",
    "        - typename:参数类型为字符串，为具名元组返回的一个元组子对象命名。（具名元祖：指的是除了可以使用index可以使用具名元组中的具体名称字段来进行访问）\n",
    "        - field_names：参数类型为字符串序列，用于为创建的元祖的每个元素命名，传入样式：['a', 'b'] 或 'a b' 或 'a, b'\n",
    "    - 选填参数：除了*号外，后面的参数必须指定关键字\n",
    "        - rename：默认为False，当为True时，意指在field_names中若出现非法的命名（如以关键字来命名），会将其替换为位置名称\n",
    "        - defaults:参数为None或者可迭代对象\n",
    "            - 当参数为None时，意思是在创建具名元组的实例时，必须要根据field_names的数量来传递指定数量的参数\n",
    "            - 当设置defaults时，就为具名元组的元素赋予了默认值，被赋予默认值的元素在实例化时可以不传入\n",
    "            - 当defaults传入的序列长度和field_names不一致时，默认会右侧优先\n",
    "            - 例：若field_names 是[\"x\", \"y\", \"z\"],defaults是(1,2),那么x是实例化必填参数，而y和z默认为1和2\n",
    "        - module:\n",
    "\n",
    "### 特性\n",
    "- _make(iterable)\n",
    "    - 类函数，参数是迭代器，构建具名元组实例。Point._make(list(range(1,3)))\n",
    "- _asdict()\n",
    "    - 实例方法，根据具名元组的名称和其元素值，构建一个OrderdDict返回\n",
    "- _replace(**kwargs)\n",
    "    - namedtuple构建的元祖其属性不能随便更改，若要修改，只得使用_replace\n",
    "    - 实例方法，根据传入的关键参数，替换具名元组的相关参数，然后返回一个新的具名元组\n",
    "- _fields\n",
    "    - 实例属性，存储了此具名元组的元素名称元组，再根据已经存在的具名元组创建新的具名元组的时候使用\n",
    "- _fields_defaults\n",
    "    - 查看具名元组类的默认值\n",
    "\n",
    "### 使用技巧\n",
    "- getattr(p,x):获取具名元组p中具名字段为x的元素值\n",
    "- 将字典转换为具名元组：d = 字典， Point(**d)\n"
   ]
  },
  {
   "cell_type": "code",
   "execution_count": 1,
   "metadata": {},
   "outputs": [
    {
     "name": "stdout",
     "output_type": "stream",
     "text": [
      "<class '__main__.Point'>\n",
      "Point(x=11, y=22)\n",
      "11 22\n",
      "11 22\n"
     ]
    }
   ],
   "source": [
    "# namedtuple()实例\n",
    "from collections import namedtuple\n",
    "pt = namedtuple(\"Point\",\"x, y\")  # 创建了一个名为Point的类，然后赋值给pt这个变量，通过变量实现相关调用\n",
    "# 不过一般还是把pt变量命名为Point\n",
    "p = pt(11,22)\n",
    "# 以上就是实例化一个具名元组\n",
    "print(pt)\n",
    "print(p)\n",
    "print(p[0], p[1])\n",
    "print(p.x, p.y)"
   ]
  },
  {
   "cell_type": "code",
   "execution_count": 2,
   "metadata": {},
   "outputs": [
    {
     "name": "stdout",
     "output_type": "stream",
     "text": [
      "Position(x='xi', y='ha', z='hey')\n",
      "Position(x='xi', y='bi', z='bai')\n"
     ]
    }
   ],
   "source": [
    "# namedtuple()的defaults参数\n",
    "Position = namedtuple(\"Position\", [\"x\", \"y\", \"z\"], defaults = (\"ha\", \"hey\"))\n",
    "p = Position(\"xi\") # defaults之定义了两个参数，所以必须还要传入一个参数\n",
    "print(p)\n",
    "p = Position(\"xi\", \"bi\", \"bai\")\n",
    "print(p)"
   ]
  },
  {
   "cell_type": "code",
   "execution_count": 3,
   "metadata": {},
   "outputs": [
    {
     "name": "stdout",
     "output_type": "stream",
     "text": [
      "Options(verbosity=0, inventory='/etc/ansible/hosts', listhosts=None)\n",
      "OrderedDict([('verbosity', 0), ('inventory', '/etc/ansible/hosts'), ('listhosts', None)])\n",
      "<class 'collections.OrderedDict'>\n"
     ]
    }
   ],
   "source": [
    "options = {'verbosity': 0, 'inventory': '/etc/ansible/hosts', 'listhosts': None}\n",
    "#字典转化为namedtuple\n",
    "keys_list = [keys for keys in options.keys()]\n",
    "values_list = [values for values in options.values()]\n",
    "'''\n",
    "等同于\n",
    "keys_list = list(options.keys())\n",
    "values_list = list(options.values())\n",
    "'''\n",
    "\n",
    "Options = namedtuple('Options', keys_list)\n",
    "options = Options._make(values_list)\n",
    "\n",
    "#namedtuple转化为字典\n",
    "print(options)\n",
    "bb = options._asdict()\n",
    "print(bb)\n",
    "print(type(bb))"
   ]
  },
  {
   "cell_type": "markdown",
   "metadata": {},
   "source": [
    "# collections.deque模块\n",
    "- 使用list存储数据时，按索引访问元素很快，但是插入和删除元素就很慢了，因为list是线性存储，数据量大的时候，插入和删除效率很低。\n",
    "- deque是为了高效实现插入和删除操作的双向列表，适合用于队列和栈：\n",
    "- 方法：\n",
    "        append：同list的append，在队尾加入一个元素\n",
    "        appendleft:在队首加入一个元素\n",
    "        clear：清空队列\n",
    "        copy：浅拷贝\n",
    "        count：a.count(1),a中1的数量\n",
    "        entend：参数是一个可迭代变量，在右端按照迭代顺序添加\n",
    "        extendleft：同上，不过是在左端按照迭代顺序添加\n",
    "        index：和list的相类似insert:和list的相同，插入元素insert(index,obj)，在index前插入元素，如果index超过长度就会插到最后，如果长度已经是最长，再插入会报错\n",
    "        maxlen:用于定义的时候使用，不是一个可以被writed的对象，形如a.maxlen=10会报错\n",
    "        pop:队尾元素删去\n",
    "        popleft：队头元素删去\n",
    "        remove：同list：用于移除列表中某个值的第一个匹配项。\n",
    "        reverse：倒序\n",
    "        rotate：循环移动，为正全体右移，为负全体左移"
   ]
  },
  {
   "cell_type": "code",
   "execution_count": 4,
   "metadata": {},
   "outputs": [
    {
     "name": "stdout",
     "output_type": "stream",
     "text": [
      "deque(['a', 'b', 'c'], maxlen=3)\n",
      "deque(['b', 'c', 'd'], maxlen=3)\n",
      "deque(['dage', 'b', 'c'], maxlen=3)\n",
      "deque(['c', 'dage', 'b'], maxlen=3)\n"
     ]
    }
   ],
   "source": [
    "#创建队列collections.deque\n",
    "from collections import deque\n",
    "\n",
    "q = deque(['a', 'b', 'c'], maxlen=3)\n",
    "#队列长度为3，当超出长度后会移除老元素来存放新元素\n",
    "print(q)\n",
    "q.append(\"d\")\n",
    "print(q)\n",
    "q.appendleft(\"dage\") #从前面插入\n",
    "print(q)\n",
    "q.rotate() # 逆序，要知道它的所有属性，q.+ tab键\n",
    "print(q)"
   ]
  },
  {
   "cell_type": "markdown",
   "metadata": {},
   "source": [
    "# collections.OrderedDict\n",
    "- 让字典保持有序，输出的时候就按照输入的顺序输出，但是这种方法占内存，是一般字典的两倍\n",
    "- 先进先出"
   ]
  },
  {
   "cell_type": "code",
   "execution_count": 6,
   "metadata": {},
   "outputs": [
    {
     "name": "stdout",
     "output_type": "stream",
     "text": [
      "OrderedDict([('a', 'aile'), ('b', 'banana'), ('c', 'coco')])\n",
      "a aile\n",
      "b banana\n",
      "c coco\n"
     ]
    }
   ],
   "source": [
    "from collections import OrderedDict\n",
    "d = OrderedDict()\n",
    "d[\"a\"] = \"apple\"\n",
    "d[\"b\"] = 'banana'\n",
    "d['c'] = 'coco'\n",
    "d['a'] = \"aile\" #重新赋值不会影响其顺序\n",
    "print(d)\n",
    "for k,v in d.items():\n",
    "    print(k,v)"
   ]
  },
  {
   "cell_type": "markdown",
   "metadata": {},
   "source": [
    "# collections.Counter\n",
    "- 找出序列中出现次数最多的元素\n",
    "- 可以当计数器使用"
   ]
  },
  {
   "cell_type": "code",
   "execution_count": 7,
   "metadata": {},
   "outputs": [
    {
     "name": "stdout",
     "output_type": "stream",
     "text": [
      "Counter({141: 4, 132: 3, 'one': 2, 'two': 2, 'three': 1, 'four': 1, 'bigone': 1})\n",
      "[(141, 4), (132, 3)]\n",
      "1\n",
      "Counter({'three': 6, 141: 4, 132: 3, 'one': 2, 'two': 2, 'four': 1, 'bigone': 1})\n",
      "Counter({'three': 7, 141: 4, 'one': 3, 'two': 3, 132: 3, 'four': 1, 'bigone': 1})\n",
      "Counter({'three': 5, 141: 4, 132: 3, 'one': 1, 'two': 1, 'four': 1, 'bigone': 1})\n"
     ]
    }
   ],
   "source": [
    "from collections import Counter\n",
    "\n",
    "a = ['one', 'two', 'three', 'four', 132, 132, 132, 'two', 'bigone', 'one', 141, 141, 141, 141]\n",
    "word_count = Counter(a)\n",
    "print(word_count)\n",
    "# 返回数量最多的两个元素构成的列表\n",
    "print(word_count.most_common(2))\n",
    "print(word_count['three'])\n",
    "# 还可以对其数量改变\n",
    "word_count['three'] += 5\n",
    "print(word_count)\n",
    "# 两个Counter可以实现加减\n",
    "b = ['one', 'two', 'three']\n",
    "b_count = Counter(b)\n",
    "c = word_count + b_count\n",
    "d = word_count - b_count\n",
    "print(c)\n",
    "print(d)"
   ]
  },
  {
   "cell_type": "markdown",
   "metadata": {},
   "source": [
    "# collections.defaultdict\n",
    "- Python中通过Key访问字典，当Key不存在时，会引发‘KeyError’异常。为了避免这种情况的发生，可以使用collections类中的defaultdict()方法来为字典提供默认值。\n",
    "- collections.defaultdict(default_factory=None, **kwargs)\n",
    "    - 当设置default_factory=list时，可以将键值对序列转换为列表字典\n",
    "    - 当设置default_factory=int,可以用来计数\n",
    "    - 当设置default_factory=set时，可以建立集合字典\n",
    "- 字典实现一键对多值"
   ]
  },
  {
   "cell_type": "code",
   "execution_count": 8,
   "metadata": {},
   "outputs": [
    {
     "name": "stdout",
     "output_type": "stream",
     "text": [
      "defaultdict(<class 'list'>, {'a': ['tao', 'xiao', 'ming'], 'b': ['homg', 'kong']})\n",
      "['tao', 'xiao', 'ming']\n",
      "a ::::: ['tao', 'xiao', 'ming']\n",
      "b ::::: ['homg', 'kong']\n",
      "dict_keys(['a', 'b']) dict_values([['tao', 'xiao', 'ming'], ['homg', 'kong']])\n",
      "defaultdict(<class 'set'>, {'a': {'xiao', 'ming', 'tao'}, 'b': {'homg', 'kong'}})\n",
      "{'xiao', 'ming', 'tao'}\n",
      "a ::::: {'xiao', 'ming', 'tao'}\n",
      "b ::::: {'homg', 'kong'}\n",
      "dict_keys(['a', 'b']) dict_values([{'xiao', 'ming', 'tao'}, {'homg', 'kong'}])\n",
      "defaultdict(<function <lambda> at 0x000002A42EE4B620>, {'heng': 1, 'haha': 2})\n",
      "taotaogege\n"
     ]
    }
   ],
   "source": [
    "#一键对多值collections.defaultdict()\n",
    "##列表\n",
    "from collections import defaultdict\n",
    "d = defaultdict(list)\n",
    "d['a'].append('tao')\n",
    "d['a'].append ('xiao')\n",
    "d['a'].append('ming')\n",
    "d['b'].append(\"homg\")\n",
    "d['b'].append('kong')\n",
    "print(d)\n",
    "print(d.get('a'))\n",
    "for k,v in d.items():\n",
    "    print(k,\":::::\",v)\n",
    "print(d.keys(),d.values())\n",
    "\n",
    "##集合\n",
    "d = defaultdict(set)\n",
    "d['a'].add('tao')\n",
    "d['a'].add('xiao')\n",
    "d['a'].add('ming')\n",
    "d['b'].add(\"homg\")\n",
    "d['b'].add('kong')\n",
    "print(d)\n",
    "print(d.get('a'))\n",
    "for k,v in d.items():\n",
    "    print(k,\":::::\",v)\n",
    "print(d.keys(),d.values())\n",
    "\n",
    "# setdefault:访问键值c,若无对应键值c，则返回设定的默认值\n",
    "d.setdefault('c',\"this doesn't exist\") \n",
    "# setdefault可以通过defaultdict实现\n",
    "func = lambda: \"taotaogege\"\n",
    "dd = defaultdict(func)\n",
    "dd['heng'] = 1\n",
    "dd['haha'] = 2\n",
    "print(dd)\n",
    "print(dd['xiaxia'])"
   ]
  },
  {
   "cell_type": "code",
   "execution_count": 9,
   "metadata": {},
   "outputs": [
    {
     "name": "stdout",
     "output_type": "stream",
     "text": [
      "\n",
      " defaultdict(<class 'int'>, {'m': 1, 'i': 4, 's': 4, 'p': 2})\n",
      "\n",
      " [('i', 4), ('m', 1), ('p', 2), ('s', 4)]\n"
     ]
    }
   ],
   "source": [
    "# 实现计数功能\n",
    "from collections import defaultdict\n",
    "s = 'mississippi'\n",
    "d = defaultdict(int)\n",
    "for k in s:\n",
    "    d[k] += 1\n",
    "print('\\n',d)\n",
    "a=sorted(d.items())\n",
    "print('\\n',a)"
   ]
  },
  {
   "cell_type": "markdown",
   "metadata": {},
   "source": [
    "# collections.ChainMap\n",
    "- 将多个映射合并为一个映射（字典）\n",
    "    - 如果合并的字典中有重复的键，则采用第一个映射的值，修改与删除也是优先针对第一个映射\n",
    "    - 若增加一个新的字典，它就会成为第一个映射，若该映射的键与原有映射的键值重复，则新映射覆盖老映射\n",
    "    - 删除映射时，从第一个映射开始删除\n",
    "    - ChainMap这种合并映射的方法并不会破坏原有的映射，字典自带的update就会破坏原数据"
   ]
  },
  {
   "cell_type": "code",
   "execution_count": 9,
   "metadata": {},
   "outputs": [
    {
     "name": "stdout",
     "output_type": "stream",
     "text": [
      "ChainMap({'plum': 8.9, 'peach': 7.8}, {'banana': 1.0, 'grape': 10}, {'plum': 5.5, 'peach': 3.4})\n",
      "<class 'collections.ChainMap'>\n",
      "plum 8.9\n",
      "peach 7.8\n",
      "banana 1.0\n",
      "grape 10\n"
     ]
    }
   ],
   "source": [
    "from collections import ChainMap\n",
    "\n",
    "a = {\"plum\":8.9, \"peach\":7.8}\n",
    "b = {\"banana\":1.0, \"grape\":10}\n",
    "c = {\"plum\":5.5, \"peach\":3.4}\n",
    "combined = ChainMap(a, b, c)\n",
    "print(combined)\n",
    "print(type(combined))\n",
    "# 默认采用第一个映射的值\n",
    "for i,k in combined.items():\n",
    "    print(i, k)"
   ]
  },
  {
   "cell_type": "code",
   "execution_count": 17,
   "metadata": {},
   "outputs": [
    {
     "name": "stdout",
     "output_type": "stream",
     "text": [
      "ChainMap({'apple': 3.5}, {'plum': 8.9, 'peach': 7.8}, {'banana': 1.0, 'grape': 10}, {'plum': 5.5, 'peach': 3.4})\n",
      "ChainMap({'apple': 3.5, 'banana': 2.5}, {'plum': 8.9, 'peach': 7.8}, {'banana': 1.0, 'grape': 10}, {'plum': 5.5, 'peach': 3.4})\n",
      "plum == 8.9\n",
      "peach == 7.8\n",
      "banana == 2.5\n",
      "grape == 10\n",
      "apple == 3.5\n"
     ]
    }
   ],
   "source": [
    "# 增加新的映射\n",
    "combined_new = combined.new_child()\n",
    "combined_new['apple'] = 3.5\n",
    "print(combined_new)\n",
    "# 若新映射的键值与老映射的键的值相同，则覆盖掉原来的映射\n",
    "combined_new['banana'] = 2.5\n",
    "print(combined_new)\n",
    "for k, v in combined_new.items():\n",
    "    print(k, \"==\", v)\n",
    "    \n",
    "# 删除映射，从第一个开始删除\n",
    "new_combined = combined_new.parents\n",
    "print(new_combined)"
   ]
  },
  {
   "cell_type": "code",
   "execution_count": 19,
   "metadata": {},
   "outputs": [
    {
     "name": "stdout",
     "output_type": "stream",
     "text": [
      "{'plum': 8.9, 'peach': 7.8} {'banana': 1.0, 'grape': 10} {'plum': 5.5, 'peach': 3.4}\n",
      "ChainMap({'plum': 8.9, 'peach': 7.8}, {'banana': 1.0, 'grape': 10}, {'plum': 5.5, 'peach': 3.4})\n"
     ]
    }
   ],
   "source": [
    "# 以上的合并操作对原来的映射并不会产生破坏\n",
    "print(a, b, c)\n",
    "\n"
   ]
  },
  {
   "cell_type": "code",
   "execution_count": null,
   "metadata": {},
   "outputs": [],
   "source": []
  }
 ],
 "metadata": {
  "kernelspec": {
   "display_name": "Python 3",
   "language": "python",
   "name": "python3"
  },
  "language_info": {
   "codemirror_mode": {
    "name": "ipython",
    "version": 3
   },
   "file_extension": ".py",
   "mimetype": "text/x-python",
   "name": "python",
   "nbconvert_exporter": "python",
   "pygments_lexer": "ipython3",
   "version": "3.7.3"
  }
 },
 "nbformat": 4,
 "nbformat_minor": 2
}
