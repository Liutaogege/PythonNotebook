{
 "cells": [
  {
   "cell_type": "markdown",
   "metadata": {},
   "source": [
    "# logging模块\n",
    "- 见logging模块笔记\n",
    "- 详细解读参见：https://www.cnblogs.com/yyds/p/6901864.html\n"
   ]
  },
  {
   "cell_type": "code",
   "execution_count": 7,
   "metadata": {},
   "outputs": [
    {
     "name": "stderr",
     "output_type": "stream",
     "text": [
      "WARNING:root:this is a warning log\n",
      "WARNING:root:this is a warning log\n"
     ]
    },
    {
     "name": "stdout",
     "output_type": "stream",
     "text": [
      "None\n",
      "None\n",
      "None\n",
      "None\n",
      "None\n"
     ]
    }
   ],
   "source": [
    "import logging\n",
    "print(logging.debug(\"this is a debug log\"))\n",
    "print(logging.info(\"this is a info log\"))\n",
    "print(logging.warning(\"this is a warning log\"))\n",
    "print(logging.log(logging.DEBUG, \"this is debug log\"))\n",
    "print(logging.log(logging.WARNING, \"this is a warning log\"))"
   ]
  },
  {
   "cell_type": "code",
   "execution_count": 9,
   "metadata": {},
   "outputs": [
    {
     "name": "stdout",
     "output_type": "stream",
     "text": [
      "None\n",
      "None\n"
     ]
    }
   ],
   "source": [
    "# 对日志记录函数进行配置，配置函数是logging.basicConfig():\n",
    "logging.basicConfig(level=logging.DEBUG) # 下面依然没有打印出debug的信息，说明配置未生效\n",
    "print(logging.debug(\"this is a debug\"))\n",
    "print(logging.info(\"this is a debug\"))"
   ]
  },
  {
   "cell_type": "code",
   "execution_count": 10,
   "metadata": {},
   "outputs": [
    {
     "name": "stderr",
     "output_type": "stream",
     "text": [
      "WARNING:root:This is a warning log.\n",
      "ERROR:root:This is a error log.\n",
      "CRITICAL:root:This is a critical log.\n"
     ]
    }
   ],
   "source": [
    "LOG_FORMAT = \"%(asctime)s - %(levelname)s - %(message)s\"\n",
    "logging.basicConfig(filename='my.log', level=logging.DEBUG, format=LOG_FORMAT)\n",
    "\n",
    "logging.debug(\"This is a debug log.\")\n",
    "logging.info(\"This is a info log.\")\n",
    "logging.warning(\"This is a warning log.\")\n",
    "logging.error(\"This is a error log.\")\n",
    "logging.critical(\"This is a critical log.\")"
   ]
  },
  {
   "cell_type": "markdown",
   "metadata": {},
   "source": [
    "# Python语言的高级特性\n",
    "## 函数式编程\n",
    "- 基于lambda演算的一种编程方式\n",
    "    - 抽象程度很高，纯粹的函数式编程编写的语言没有变量\n",
    "    - 程序中只有函数\n",
    "    - 函数可以作为参数，同样可以作为返回值\n",
    "    - 纯函数式编程语言：LISP,Haskell\n",
    "    - Python函数式编程只是借鉴函数式编程的一些特点\n",
    " - 高阶函数，返回函数，匿名函数，装饰器，偏函数"
   ]
  },
  {
   "cell_type": "markdown",
   "metadata": {},
   "source": [
    "### lambda表达式\n",
    "- 函数：最大程度复用代码\n",
    "    - 存在问题：如果函数很小很短，则会造成啰嗦\n",
    "    - 如果函数被调用次数少，则会造成浪费\n",
    "    - 对于阅读者来说，造成阅读流程被中断\n",
    "- lambda表达式（匿名函数）：\n",
    "    - 一个表达式，函数体相对简单\n",
    "    - 不是一个代码块，仅仅是一个表达式\n",
    "    - 可以有参数，有多个参数用逗号隔开"
   ]
  },
  {
   "cell_type": "markdown",
   "metadata": {},
   "source": [
    "# 系统高阶函数\n",
    "- 把函数作为参数使用的函数\n",
    "\n",
    "### map(func,iterable)的用法\n",
    "        它接收一个函数和可迭代对象，返回经过函数作用的可迭代对象(可迭代对象可用for循环遍历)\n",
    "\n",
    "\n",
    "\n",
    "### reduce(function, iterable[, initializer])\n",
    "    - 第三个参数是设置初始值，可选\n",
    "    - 使用reduce需要导入一个包functools\n",
    "            函数将一个数据集合（链表，元组等）中的所有数据进行下列操作：用传给 reduce 中的函数 function（该函数必须有两个参数，必须有返回值）先对集合中的第 1、2 个元素进行操作，得到的结果再与第三个数据用 function 函数运算，最后得到一个结果。\n",
    "### filter(function, iterable)\n",
    "    - 用于过滤序列，过滤掉不符合条件的元素，返回由符合条件元素组成的可迭代对象。注意function的返回值一定是一个布尔值\n",
    "            \n",
    "\n",
    "### sorted(序列，key=None, reverse=True）\n",
    "- 在key中添加函数进行排序方法的设定\n",
    "- 在排序前对每一个元素进行k值的函数运算，按照k的值进行排序"
   ]
  },
  {
   "cell_type": "code",
   "execution_count": 12,
   "metadata": {},
   "outputs": [
    {
     "name": "stdout",
     "output_type": "stream",
     "text": [
      "2203077522432\n",
      "2203077522432\n"
     ]
    }
   ],
   "source": [
    "def fa():\n",
    "    print(\"Nothing\")\n",
    "    \n",
    "fb = fa\n",
    "print(id(fa))\n",
    "print(id(fb))"
   ]
  },
  {
   "cell_type": "code",
   "execution_count": 16,
   "metadata": {},
   "outputs": [
    {
     "name": "stdout",
     "output_type": "stream",
     "text": [
      "p\n",
      "y\n",
      "t\n",
      "h\n",
      "o\n",
      "n\n",
      "<map object at 0x00000200F1755AC8>\n",
      "[1, 4, 9]\n"
     ]
    }
   ],
   "source": [
    "# map(func,iterable)\n",
    "one = \"python\"\n",
    "for i in map(str,one):\n",
    "    print(i)\n",
    "two = [1,2,3]\n",
    "t = map(lambda x:x**2,two)\n",
    "print(t) #t现在是可迭代的对象\n",
    "tt = list(t)\n",
    "print(tt) \n",
    "#list过后，t就为空，所以遍历为空\n",
    "for j in t:\n",
    "    print(j)\n",
    "    print(\"aaa, I am empty\")\n",
    "#同zip()一样，map()创建的迭代器只能被消费一次，这就是为啥上面遍历为空的原因"
   ]
  },
  {
   "cell_type": "code",
   "execution_count": 9,
   "metadata": {},
   "outputs": [
    {
     "name": "stdout",
     "output_type": "stream",
     "text": [
      "467\n",
      "你们-我-啊-爱\n"
     ]
    }
   ],
   "source": [
    "# reduce(function, iterable[, initializer])\n",
    "from functools import reduce\n",
    "scientists =({'name':'Alan Turing', 'age':105, 'gender':'male'},\n",
    "             {'name':'Dennis Ritchie', 'age':76, 'gender':'male'},\n",
    "             {'name':'Ada Lovelace', 'age':202, 'gender':'female'},\n",
    "             {'name':'Frances E. Allen', 'age':84, 'gender':'female'})\n",
    "def reducer(accumulator , value):\n",
    "    sum = accumulator + value['age']\n",
    "    return sum\n",
    "total_age = reduce(reducer, scientists, 0)\n",
    "print(total_age)\n",
    "\n",
    "def func(x, y):\n",
    "    return x + \"-\" + y\n",
    "lst = {\"我\", \"爱\", \"你们\", \"啊\"}\n",
    "print(reduce(func, lst))"
   ]
  },
  {
   "cell_type": "code",
   "execution_count": 12,
   "metadata": {},
   "outputs": [
    {
     "name": "stdout",
     "output_type": "stream",
     "text": [
      "<filter object at 0x00000253F5F8B198>\n",
      "1\n",
      "3\n",
      "5\n",
      "7\n",
      "9\n"
     ]
    },
    {
     "data": {
      "text/plain": [
       "['A', 'B', 'C']"
      ]
     },
     "execution_count": 12,
     "metadata": {},
     "output_type": "execute_result"
    }
   ],
   "source": [
    "# filter(function, iterable)\n",
    "def is_odd(n):\n",
    "    return n % 2 == 1\n",
    " \n",
    "newlist = filter(is_odd, [1, 2, 3, 4, 5, 6, 7, 8, 9, 10])\n",
    "print(newlist)\n",
    "for i in newlist:\n",
    "    print(i)\n",
    "\n",
    "#删掉一个序列中的空字符\n",
    "def not_empty(s):\n",
    "    return s and s.strip()\n",
    "\n",
    "list(filter(not_empty, ['A', '', 'B', None, 'C', '  ']))\n"
   ]
  },
  {
   "cell_type": "code",
   "execution_count": 23,
   "metadata": {},
   "outputs": [
    {
     "name": "stdout",
     "output_type": "stream",
     "text": [
      "2 3 5 7 11 13 17 19 23 29 31 37 41 43 47 53 59 61 67 71 73 79 83 89 97 "
     ]
    }
   ],
   "source": [
    "# 用filter求素数\n",
    "#先构造一个从3开始的奇数序列,这是一个无限序列\n",
    "def odd_iter():\n",
    "    n = 1\n",
    "    while True:\n",
    "        n = n + 2\n",
    "        yield n\n",
    "    return \"Done\"\n",
    "\n",
    "# 定义一个筛选数列，这是一个嵌套函数，详情见下面的例子\n",
    "def not_divisiable(n):\n",
    "    return lambda x: x % n > 0\n",
    "\n",
    "# 定义一个生成器，不断返回下一个素数\n",
    "def primes():\n",
    "    yield 2\n",
    "    #初始序列\n",
    "    iter_lst = odd_iter()\n",
    "    while True:\n",
    "        n = next(iter_lst)\n",
    "        yield n\n",
    "        iter_lst = filter(not_divisiable(n), iter_lst)  #这里是用生成器作为序列进去筛选\n",
    "        # 这里的生成器是无限长的，需要限制\n",
    "        \n",
    "for num in primes():\n",
    "    if num < 100:\n",
    "        print(num, end=\" \")\n",
    "    else:\n",
    "        break"
   ]
  },
  {
   "cell_type": "code",
   "execution_count": 17,
   "metadata": {},
   "outputs": [
    {
     "name": "stdout",
     "output_type": "stream",
     "text": [
      "True\n",
      "True\n",
      "[5, 10, 15, 20, 25, 30, 35, 40, 45, 50, 55, 60, 65, 70, 75, 80, 85, 90, 95]\n",
      "[5, 10, 15, 20, 25, 30, 35, 40, 45, 50, 55, 60, 65, 70, 75, 80, 85, 90, 95]\n"
     ]
    }
   ],
   "source": [
    "# 对上面含lambda表达式的这个函数进行解析\n",
    "def even(n):\n",
    "    return lambda x: x % n == 0\n",
    "\n",
    "print(even(3)(6))\n",
    "\n",
    "# 上面这个函数相当于下面这个，其实是函数的嵌套\n",
    "def even_new(n):\n",
    "    def f(x):\n",
    "        return x % n == 0\n",
    "    return f\n",
    "\n",
    "print(even_new(3)(6))  #针对单个数使用\n",
    "# 如果想筛选多个数据，则使用filter\n",
    "lst = range(1, 100)\n",
    "g = (i for i in range(1, 100))\n",
    "new_lst = list(filter(even_new(5), lst))  # 筛选得到5的倍数列表\n",
    "new_g = list(filter(even_new(5), g))\n",
    "print(new_lst)\n",
    "print(new_g)"
   ]
  },
  {
   "cell_type": "code",
   "execution_count": 49,
   "metadata": {},
   "outputs": [
    {
     "name": "stdout",
     "output_type": "stream",
     "text": [
      "1~10000: [1, 2, 3, 4, 5, 6, 7, 8, 9, 11, 22, 33, 44, 55, 66, 77, 88, 99, 101, 111, 121, 131, 141, 151, 161, 171, 181, 191, 202, 212, 222, 232, 242, 252, 262, 272, 282, 292, 303, 313, 323, 333, 343, 353, 363, 373, 383, 393, 404, 414, 424, 434, 444, 454, 464, 474, 484, 494, 505, 515, 525, 535, 545, 555, 565, 575, 585, 595, 606, 616, 626, 636, 646, 656, 666, 676, 686, 696, 707, 717, 727, 737, 747, 757, 767, 777, 787, 797, 808, 818, 828, 838, 848, 858, 868, 878, 888, 898, 909, 919, 929, 939, 949, 959, 969, 979, 989, 999]\n",
      "1~10000: [1, 2, 3, 4, 5, 6, 7, 8, 9, 11, 22, 33, 44, 55, 66, 77, 88, 99, 101, 111, 121, 131, 141, 151, 161, 171, 181, 191, 202, 212, 222, 232, 242, 252, 262, 272, 282, 292, 303, 313, 323, 333, 343, 353, 363, 373, 383, 393, 404, 414, 424, 434, 444, 454, 464, 474, 484, 494, 505, 515, 525, 535, 545, 555, 565, 575, 585, 595, 606, 616, 626, 636, 646, 656, 666, 676, 686, 696, 707, 717, 727, 737, 747, 757, 767, 777, 787, 797, 808, 818, 828, 838, 848, 858, 868, 878, 888, 898, 909, 919, 929, 939, 949, 959, 969, 979, 989, 999]\n"
     ]
    }
   ],
   "source": [
    "# 用filter筛选回数\n",
    "def is_palindrome(num):\n",
    "    words = str(num)\n",
    "    length = len(words)\n",
    "    i = 0\n",
    "    while i < int(length / 2):  #同for i in range(int(length / 2))\n",
    "        if words[i] != words[length - i - 1]:\n",
    "            return False\n",
    "        i += 1\n",
    "    return True\n",
    "output = filter(is_palindrome, range(1, 1000))\n",
    "print('1~10000:', list(output))\n",
    "\n",
    "# 第二种写法一句话搞定\n",
    "def is_paline(num):\n",
    "    return str(num) == str(num)[::-1]\n",
    "output = filter(is_palindrome, range(1, 1000))\n",
    "print('1~10000:', list(output))\n",
    "            "
   ]
  },
  {
   "cell_type": "code",
   "execution_count": 23,
   "metadata": {},
   "outputs": [
    {
     "name": "stdout",
     "output_type": "stream",
     "text": [
      "[-3, -29, 293, 393, 2395, -2938]\n"
     ]
    }
   ],
   "source": [
    "# sorted举例，参看Python进阶知识笔记\n",
    "a = [-3,393,293,-29,2395,-2938]\n",
    "print(sorted(a, key=abs)) # 按照绝对值的大小进行排序"
   ]
  },
  {
   "cell_type": "markdown",
   "metadata": {},
   "source": [
    "# 返回函数\n",
    "- 函数可以返回具体的值\n",
    "- 也可以返回一个函数作为结果"
   ]
  },
  {
   "cell_type": "markdown",
   "metadata": {},
   "source": [
    "# 闭包（closure）\n",
    "- 闭包是由函数及相关的引用环境组合而成的实体\n",
    "- 当一个函数在内部定义函数，并且内部的函数使用外部函数的参数或者是局部变量，当内部函数被当做返回值的时候，相关函数和变量保存在返回的函数中，这种结果就叫闭包\n",
    "    - 归根结底：闭包要满足以下两点要求\n",
    "        - （1）必须要有函数的嵌套。而且外层函数必须返回内层函数，但是内层函数可以不返回值，也可以返回值；外层函数给内层函数提供了一个“包装起来的运行环境”，在这个“包装的”运行环境里面，内层函数可以完全自己做主。这也是为什么称之为闭包的原因了。\n",
    "        - （2）内层函数一定要用到外层函数中定义的变量。如果只满足了特征（1），也不算是闭包，一定要用到外层“包装函数”的变量，这些变量称之为“自由变量”。\n",
    "- f.__code__.co_freevars:查看函数b的自由变量的具体值，而f.__closure__返回一个自由变量组成的元组，通过f.__closure__[i].cell_contents 查看第几个自由变量的值\n",
    "    - 自由变量：\n",
    "        - 在闭包中，假如有一个参数a为外部函数的局部变量，其被分配的内存在外部函数执行后应该被立即释放，但在外部函数执行后，发现自己的局部变量将被内部函数调用，就把这个变量绑定给了内部函数，然后自己再结束。此时的局部变量a就被成为自由变量\n",
    "- b.__code__.co_varnames:查看函数b的局部变量\n",
    "- 闭包会坑人,所以返回函数不要引用任何循环变量，或者后续会发生变化的变量。"
   ]
  },
  {
   "cell_type": "code",
   "execution_count": 52,
   "metadata": {},
   "outputs": [
    {
     "name": "stdout",
     "output_type": "stream",
     "text": [
      "5\n"
     ]
    }
   ],
   "source": [
    "# 闭包的常见坑之一\n",
    "\"\"\"\n",
    "def fw(a, b):\n",
    "    def area(x):\n",
    "        a += 1\n",
    "        return a * b -x\n",
    "    return area\n",
    "a = fw(2,3)\n",
    "print(a(4))\n",
    "\"\"\"\n",
    "# 以上函数直接运行会报错，原因是在area函数中a += 1等价于a = a+1,这句话表明在内部函数area创建了新的局部变量a,\n",
    "# 而在area函数中并没有声明局部变量a,找不到就会报错。而由于新的局部变量的创建，就不会引用外部的自由变量a,也就是说，\n",
    "# 此时的变量a并不是外部函数中的变量，而闭包也不存在了。解决办法如下\n",
    "# 1.将area中的变量声明为非局部变量，即：nonlocal a\n",
    "# 2.更改变量名,使得新建立的变量与外部函数的变量名即a不同\n",
    "\n",
    "\"\"\"\n",
    "def fw(a, b):\n",
    "    def area(x):\n",
    "        c = a + 1\n",
    "        return c * b -x\n",
    "    return area\n",
    "\"\"\"\n",
    "def fw(a, b):\n",
    "    def area(x):\n",
    "        nonlocal a\n",
    "        a += 1\n",
    "        return a * b -x\n",
    "    return area\n",
    "a = fw(2,3)\n",
    "print(a(4))\n",
    "#print(locals())"
   ]
  },
  {
   "cell_type": "code",
   "execution_count": 53,
   "metadata": {},
   "outputs": [
    {
     "name": "stdout",
     "output_type": "stream",
     "text": [
      "4\n",
      "9 9 9 9\n"
     ]
    }
   ],
   "source": [
    "# 闭包常见坑之二\n",
    "def count():\n",
    "    fgs = []\n",
    "    for i in range(4):\n",
    "        def f():\n",
    "            return i*i\n",
    "        fgs.append(f)\n",
    "    print(1+i)\n",
    "    return fgs\n",
    "f1,f2,f3,f4 = count()\n",
    "print(f1(),f2(),f3(),f4())\n",
    "# 此结果与预想不一样\n"
   ]
  },
  {
   "cell_type": "markdown",
   "metadata": {},
   "source": [
    "# 坑的解释\n",
    "- 造成上述问题的原因是，返回函数引用了变量， i并非立即执行，而是等到三个函数都返回的时候才统一调用，此时i已经变成了3，最终调用的时候，返回的都是3*3\n",
    "                这是因为当把函数加入fgs列表里时，python还没有给i赋值，只有当执行时，再去找i的值是什么，这时在第一个for循环结束以后，i的值是3，所以以上代码的执行结果是9,9,9,9\n",
    "- 铁律：返回闭包时，返回函数不能引用任何循环变量;闭包中是不能修改外部函数中的局部变量的\n",
    "- 解决办法：再创建一个函数，用该函数的参数绑定循环变量的当前值，无论该循环变量如何改变，已经绑定的函数参数值不再改变\n",
    "    - 参看以下案例，本质上第二种办法把i赋值给y就是用当前函数的参数绑定循环变量的当前值"
   ]
  },
  {
   "cell_type": "code",
   "execution_count": 58,
   "metadata": {},
   "outputs": [
    {
     "name": "stdout",
     "output_type": "stream",
     "text": [
      "0 1 4 9\n",
      "(<cell at 0x000001A8F6A26C18: int object at 0x00007FFB4A479320>,)\n",
      "('j',)\n",
      "++++++分隔符+++++++++\n",
      "None\n",
      "0 1 4 9\n",
      "()\n"
     ]
    }
   ],
   "source": [
    "# 修改上述函数\n",
    "# 第一种方法\n",
    "def new_count():\n",
    "    def f(j):\n",
    "        def g():\n",
    "            return j*j\n",
    "        return g\n",
    "    fgs = []\n",
    "    for i in range(0,4):\n",
    "        fgs.append(f(i))\n",
    "    return fgs\n",
    "f1,f2,f3,f4 = new_count()\n",
    "print(f1(),f2(),f3(),f4())\n",
    "print(f1.__closure__)\n",
    "print(f1.__code__.co_freevars)\n",
    "print(\"++++++分隔符+++++++++\")\n",
    "\n",
    "#第二种方法:申明这种方法是自己想出来的\n",
    "def count1():\n",
    "    fgs = []\n",
    "    for i in range(4):\n",
    "        # 把y=i移到这里也没用，没起到绑定的作用\n",
    "        def f(y=i):\n",
    "            return y*y\n",
    "        fgs.append(f)\n",
    "\n",
    "    return fgs\n",
    "f1,f2,f3,f4 = count1()\n",
    "\n",
    "print(f1(),f2(),f3(),f4())\n",
    "print(f1.__closure__)\n",
    "print(f1.__code__.co_freevars)"
   ]
  },
  {
   "cell_type": "code",
   "execution_count": 50,
   "metadata": {},
   "outputs": [
    {
     "name": "stdout",
     "output_type": "stream",
     "text": [
      "5 5 5\n",
      "3 4 5\n",
      "('x', 'y')\n",
      "('x', 'y')\n",
      "('x', 'y')\n"
     ]
    }
   ],
   "source": [
    "def suibian():\n",
    "    vacant = []\n",
    "    for i in range(3):\n",
    "        def suisui(x=3):\n",
    "            return i+x\n",
    "        vacant.append(suisui)\n",
    "    return vacant\n",
    "a = suibian()\n",
    "f1, f2 , f3 = a\n",
    "print(f1(), f2(), f3())\n",
    "\n",
    "# 注意观察改变\n",
    "def suibian1():\n",
    "    vacant = []\n",
    "    for i in range(3):\n",
    "        def suisui(x=3, y=i):\n",
    "            return y+x\n",
    "        vacant.append(suisui)\n",
    "    return vacant\n",
    "b = suibian1()\n",
    "f1, f2 , f3 = b\n",
    "print(f1(), f2(), f3())\n",
    "for j in b:\n",
    "    print(j.__code__.co_varnames)"
   ]
  },
  {
   "cell_type": "code",
   "execution_count": 63,
   "metadata": {},
   "outputs": [
    {
     "name": "stdout",
     "output_type": "stream",
     "text": [
      "1 2 3 4 5\n",
      "测试通过!\n"
     ]
    }
   ],
   "source": [
    "def createCounter():\n",
    "    a = 0\n",
    "    def counter():\n",
    "        nonlocal a\n",
    "        a += 1\n",
    "        return a\n",
    "    return counter\n",
    "A = Counter()\n",
    "counterA = createCounter()\n",
    "print(counterA(), counterA(), counterA(), counterA(), counterA()) # 1 2 3 4 5\n",
    "counterB = createCounter()\n",
    "if [counterB(), counterB(), counterB(), counterB()] == [1, 2, 3, 4]:\n",
    "    print('测试通过!')\n",
    "else:\n",
    "    print('测试失败!')"
   ]
  },
  {
   "cell_type": "code",
   "execution_count": 69,
   "metadata": {},
   "outputs": [
    {
     "name": "stdout",
     "output_type": "stream",
     "text": [
      "[2, 4, 6, 8, 10, 12, 14, 16, 18]\n"
     ]
    }
   ],
   "source": [
    "def is_odd(num=2):\n",
    "    return lambda x: x % num == 0\n",
    "L = list(filter(is_odd, range(1, 20)))"
   ]
  },
  {
   "cell_type": "markdown",
   "metadata": {},
   "source": [
    "# 闭包和装饰器的比较\n",
    "### 相同点：\n",
    "        （1）都是函数的嵌套，分为外层函数和内层函数，而且外层函数要返回内层函数\n",
    "\n",
    "        （2）代码的实现逻辑大同小异\n",
    "\n",
    "        （3）二者都可以实现增加额外功能的目的——比如上面的“加法加密运算”\n",
    "### 不同点：\n",
    "        （1）外层函数不同，装饰器的外层函数称之为decorator，闭包的外层函数称之为闭包函数closure\n",
    "\n",
    "        （2）外层函数的目的不同，装饰器的外层函数主要是提供函数形参function，闭包的形参主要目的是提供自由变量。\n",
    "\n",
    "        （3）二者的特征不一样。装饰器的外层函数可以不提供自由变量，但是闭包的的外层函数一定要提供自由变量，因为如果不提供自由变量，闭包的存在就毫无意义了，即内层函数所依赖的变量却在闭包中根本没有，那还要闭包干什么？\n",
    "\n",
    "        （4）二者的主要目的不同。装饰器的目的：代码重用+额外功能\n",
    "\n",
    "        闭包的主要目的：保存函数的运行环境+保存闭包的局部变量。虽然二者可以有一些交集。\n",
    "\n",
    "        （5）闭包和装饰器本质上还是不一样的，但是从形式上来说，大致可以认为闭包是装饰器的子集。记住：仅仅是从形式上哦！"
   ]
  },
  {
   "cell_type": "markdown",
   "metadata": {},
   "source": [
    "# 装饰器 （decrator）\n",
    "- 装饰器：提供了一种在不需要修改原函数的条件下使用其他函数修改函数的方法，本质上，就是一个返回函数的高阶函数\n",
    "            说白了，就是函数嵌套，类似闭包\n",
    "- 装饰器原理\n",
    "        装饰器将一个完整的事情分成两部分，一部分是我们常见的，即hello（）部分，另外一部分完成一些辅助功能，即__decorator()部分。需要注意的是我们直接调用的不是hello()部分，而是__decorator()部分，而它包含hello()部分，以下是装饰的工作原理\n",
    "        为了简化，可以使用 @ 将这两部分功能连接起来\n",
    "- 使用：使用@语法，即每次扩展到函数定义前使用@+函数名\n",
    "- 好处：一经定义，则可以装饰任意函数\n",
    "- 装饰器装饰带有参数的函数时，需要通过装饰函数将参数传递给被修饰函数，详情见下面示例\n",
    "- 装饰器也可以自己带参数，当然它有一个固定的参数即被修饰的函数\n",
    "    - 添加方法：在装饰器外面再给他添加一个外层装饰器，该装饰器带的参数就可以传递给内层装饰器了\n",
    "    \n",
    "- functools.warps(func):需要导入functools模块\n",
    "    - 在装饰器中，需要把被装饰函数的属性复制到wrapper()函数中，否则，有些依赖函数签名的代码执行就会出错。而functools.wraps(func)就是干这个的，把它加在wrapper()之前就行 \n",
    "    \n",
    "### 装饰器类型\n",
    "- 函数装饰器装饰函数\n",
    "- 函数装饰器装饰类\n",
    "- 类装饰器装饰函数\n",
    "- 类装饰器装饰类"
   ]
  },
  {
   "cell_type": "code",
   "execution_count": 70,
   "metadata": {},
   "outputs": [
    {
     "name": "stdout",
     "output_type": "stream",
     "text": [
      "进入装饰器装饰hello\n",
      "hello1 world!\n",
      "退出装饰器\n",
      "进入装饰器装饰hello2\n",
      "hello2 world, nice to meet you \n",
      "退出装饰器\n"
     ]
    }
   ],
   "source": [
    "# 装饰器的原型\n",
    "\"\"\"\n",
    "    装饰器将一个完整的事情分成两部分，一部分是我们常见的，即hello（）部分，\n",
    "    另外一部分完成一些辅助功能，即__decorator()部分。需要注意的是我们直接调用的不是hello()部分，\n",
    "    而是__decorator()部分，而它包含hello()部分，以下是装饰的工作原理\n",
    "    \n",
    "    为了简化，可以使用 @ 将这两部分功能连接起来\n",
    "\"\"\"\n",
    "def indirect_call_func(func):\n",
    "    def __decorator():\n",
    "        # func.__name__得到func的名字\n",
    "        print(\"进入装饰器装饰{}\".format(func.__name__))\n",
    "        func()\n",
    "        print(\"退出装饰器\")\n",
    "    return __decorator\n",
    "\n",
    "def hello():\n",
    "    print(\"hello1 world!\")\n",
    "\n",
    "# 第二种调用装饰器的方法，对原始方法进行简化，使用@\n",
    "@indirect_call_func\n",
    "def hello2():\n",
    "    print(\"hello2 world, nice to meet you \")\n",
    "\n",
    "# 运行装饰器\n",
    "# 第一种使用装饰器的方法，原始方法，也就是装饰器的原理\n",
    "decorator_func = indirect_call_func(hello)\n",
    "decorator_func()\n",
    "\n",
    "hello2()"
   ]
  },
  {
   "cell_type": "code",
   "execution_count": 15,
   "metadata": {},
   "outputs": [
    {
     "name": "stdout",
     "output_type": "stream",
     "text": [
      "hello\n",
      "该程序所花费时间为400.00 ns\n",
      "hello every, my value is 5\n",
      "None\n"
     ]
    }
   ],
   "source": [
    "import functools\n",
    "import time\n",
    "\n",
    "def print_time(func):\n",
    "    @functools.wraps(func)\n",
    "    def wrapper(*args, **kwargs):\n",
    "        start = time.perf_counter_ns()\n",
    "        #func(*args, **kwargs)\n",
    "        end = time.perf_counter_ns()\n",
    "        print(func.__name__)\n",
    "        print(\"该程序所花费时间为{:.2f} ns\".format(end - start))\n",
    "        return func(*args, **kwargs)\n",
    "    return wrapper\n",
    "\n",
    "@print_time\n",
    "def hello(a, b):\n",
    "    print(f\"hello every, my value is {a+b}\")\n",
    "    return None\n",
    "    \n",
    "print(hello(1, 4))"
   ]
  },
  {
   "cell_type": "code",
   "execution_count": 2,
   "metadata": {},
   "outputs": [
    {
     "name": "stdout",
     "output_type": "stream",
     "text": [
      "haha hello():\n",
      "hello every, my value is 7\n"
     ]
    }
   ],
   "source": [
    "def log(text):\n",
    "    def decorator(func):\n",
    "        def wrapper(*args, **kw):\n",
    "            print('%s %s():' % (text, func.__name__))\n",
    "            return func(*args, **kw)\n",
    "        return wrapper\n",
    "    return decorator\n",
    "\n",
    "@log(\"haha\")\n",
    "def hello(a, b):\n",
    "    print(f\"hello every, my value is {a+b}\")\n",
    "    return None\n",
    "hello(1, 6)"
   ]
  },
  {
   "cell_type": "markdown",
   "metadata": {},
   "source": [
    "# 当被修饰的函数带有参数时"
   ]
  },
  {
   "cell_type": "code",
   "execution_count": 39,
   "metadata": {},
   "outputs": [
    {
     "name": "stdout",
     "output_type": "stream",
     "text": [
      "进入装饰器装饰\n",
      "hello1 world! liutao\n",
      "退出装饰器\n",
      "+++++++++++++++分隔符+++++++++++++++\n",
      "进入装饰器装饰\n",
      "hello2 world, nice to meet you jiaojiao\n",
      "退出装饰器\n"
     ]
    }
   ],
   "source": [
    "# 当装饰器修饰的函数带有参数，要通过__decorator把参数传递给被修饰的函数\n",
    "def indirect_call_func(func):\n",
    "    def __decorator(name):\n",
    "        # func.__name__得到func的名字\n",
    "        print(\"进入装饰器装饰\")\n",
    "        func(name)\n",
    "        print(\"退出装饰器\")\n",
    "    return __decorator\n",
    "\n",
    "def hello(name):\n",
    "    print(\"hello1 world! {}\".format(name))\n",
    "\n",
    "# 第二种调用装饰器的方法\n",
    "@indirect_call_func\n",
    "def hello2(name):\n",
    "    print(\"hello2 world, nice to meet you {}\".format(name))\n",
    "\n",
    "\n",
    "# 第一种使用装饰器的方法，原始方法\n",
    "decorator_func = indirect_call_func(hello)\n",
    "decorator_func(\"liutao\")\n",
    "print(\"+++++++++++++++分隔符+++++++++++++++\")\n",
    "hello2(\"jiaojiao\")\n"
   ]
  },
  {
   "cell_type": "markdown",
   "metadata": {},
   "source": [
    "### *args和**kwargs的解释\n",
    "            首先，解释星号的作用，一个星号*的作用是将tuple或者list中的元素进行unpack，分开传入，作为多个参数；两个星号**的作用是把dict类型的数据作为参数传入。\n",
    "\n",
    "            kwargs是keyword argument的缩写，args就是argument。我们知道，在Python中有两种参数，一种叫位置参数（positional argument），一种叫关键词参数（keyword argument），关键词参数只需要用 keyword = somekey 的方法即可传参，而位置参数只能由参数位置决定。这也就决定了位置参数一定要在前面，否则关键词参数数量的变化（比如有些kwargs有默认值因此没有传参或者在后面传参的），都会使得位置无法判断。因此常见的也是*args 在 **kwargs 前面。"
   ]
  },
  {
   "cell_type": "code",
   "execution_count": 40,
   "metadata": {},
   "outputs": [
    {
     "name": "stdout",
     "output_type": "stream",
     "text": [
      "小心，进入装饰器了\n",
      "My name is Tom, what fruits are plum\n",
      "放心吧，已经安全退处装饰器了\n",
      "小心，进入装饰器了\n",
      "My name is Lisa, what fruits are grage and peach\n",
      "放心吧，已经安全退处装饰器了\n"
     ]
    }
   ],
   "source": [
    "# 当装饰器装饰的函数的参数不确定时，可使用*号解决,也可以使用**\n",
    "\n",
    "# 只使用一个*号\n",
    "def indirect_call_func(func):\n",
    "    def __decorator(*args):\n",
    "        print(\"小心，进入装饰器了\")\n",
    "        func(*args)\n",
    "        print(\"放心吧，已经安全退处装饰器了\")\n",
    "        \n",
    "    return __decorator\n",
    "\n",
    "\n",
    "@indirect_call_func\n",
    "def tom_hobby(name, hobby1):\n",
    "    print(\"My name is {}, what fruits are {}\".format(name, hobby1))\n",
    "\n",
    "    \n",
    "@indirect_call_func\n",
    "def lisa_hobby(name, hobby1, hobby2):\n",
    "    print(\"My name is {}, what fruits are {} and {}\".format(name, hobby1, hobby2))\n",
    "    \n",
    "tom_hobby(\"Tom\", \"plum\")\n",
    "lisa_hobby(\"Lisa\", \"grage\", \"peach\")"
   ]
  },
  {
   "cell_type": "code",
   "execution_count": 55,
   "metadata": {},
   "outputs": [
    {
     "name": "stdout",
     "output_type": "stream",
     "text": [
      "watch it! we are in decorator\n",
      "My name is Tom, what fruits are plum\n",
      "don't worry, it's over\n",
      "++++++++++\n",
      "watch it! we are in decorator\n",
      "My name is Tom, what fruits are plum\n",
      "don't worry, it's over\n",
      "============分隔符===============\n",
      "watch it! we are in decorator\n",
      "My name is Lisa, what fruits are grape and peach\n",
      "don't worry, it's over\n",
      "++++++++++++\n",
      "watch it! we are in decorator\n",
      "My name is Lisa, what fruits are peach and grape\n",
      "don't worry, it's over\n"
     ]
    }
   ],
   "source": [
    "# 使用一个*号和两个**号\n",
    "def indirect_call_func_kw(func):\n",
    "    def __decorator(*args, **kwargs):\n",
    "        print(\"watch it! we are in decorator\")\n",
    "        func(*args, **kwargs)\n",
    "        print(\"don't worry, it's over\")\n",
    "    return __decorator\n",
    "\n",
    "@indirect_call_func_kw\n",
    "def Tom_hobby(name, hobby1):\n",
    "    print(\"My name is {}, what fruits are {}\".format(name, hobby1))\n",
    "\n",
    "    \n",
    "@indirect_call_func_kw\n",
    "def Lisa_hobby(name, hobby1, hobby2):\n",
    "    print(\"My name is {}, what fruits are {} and {}\".format(name, hobby1, hobby2))\n",
    "    \n",
    "Tom_hobby(\"Tom\", \"plum\")\n",
    "print(\"++++++++++\")\n",
    "Tom_hobby(hobby1=\"plum\", name='Tom')\n",
    "print(\"============分隔符===============\")\n",
    "Lisa_hobby(\"Lisa\", \"grape\", \"peach\")\n",
    "print(\"++++++++++++\")\n",
    "Lisa_hobby(name=\"Lisa\", hobby1=\"peach\", hobby2=\"grape\")"
   ]
  },
  {
   "cell_type": "markdown",
   "metadata": {},
   "source": [
    "# 给装饰器添加参数\n",
    "## 被修饰的函数带有返回值"
   ]
  },
  {
   "cell_type": "code",
   "execution_count": 41,
   "metadata": {},
   "outputs": [
    {
     "name": "stdout",
     "output_type": "stream",
     "text": [
      "进入内层装饰器了\n",
      "内层装饰器的参数是：internal_arg\n",
      "内层装饰器结束了\n",
      "进入最底层装饰器，你被装饰了\n",
      "oh, god, I am tired of saying hello\n",
      "铛铛铛，最底层装饰完毕\n"
     ]
    },
    {
     "ename": "AttributeError",
     "evalue": "'NoneType' object has no attribute '__name__'",
     "output_type": "error",
     "traceback": [
      "\u001b[1;31m---------------------------------------------------------------------------\u001b[0m",
      "\u001b[1;31mAttributeError\u001b[0m                            Traceback (most recent call last)",
      "\u001b[1;32m<ipython-input-41-cf8ced5a90f1>\u001b[0m in \u001b[0;36m<module>\u001b[1;34m\u001b[0m\n\u001b[0;32m     17\u001b[0m \u001b[1;33m\u001b[0m\u001b[0m\n\u001b[0;32m     18\u001b[0m \u001b[0ma\u001b[0m \u001b[1;33m=\u001b[0m \u001b[0mhello\u001b[0m\u001b[1;33m(\u001b[0m\u001b[1;33m)\u001b[0m\u001b[1;33m\u001b[0m\u001b[1;33m\u001b[0m\u001b[0m\n\u001b[1;32m---> 19\u001b[1;33m \u001b[0mprint\u001b[0m\u001b[1;33m(\u001b[0m\u001b[0ma\u001b[0m\u001b[1;33m.\u001b[0m\u001b[0m__name__\u001b[0m\u001b[1;33m)\u001b[0m\u001b[1;33m\u001b[0m\u001b[1;33m\u001b[0m\u001b[0m\n\u001b[0m",
      "\u001b[1;31mAttributeError\u001b[0m: 'NoneType' object has no attribute '__name__'"
     ]
    }
   ],
   "source": [
    "# 添加外层装饰器\n",
    "def external_deco(deco_arg):\n",
    "    def internal_deco(func):\n",
    "        print(\"进入内层装饰器了\")\n",
    "        print(\"内层装饰器的参数是：{}\".format(deco_arg))\n",
    "        def __decorator():\n",
    "            print(\"进入最底层装饰器，你被装饰了\")\n",
    "            func()\n",
    "            print(\"铛铛铛，最底层装饰完毕\")\n",
    "        print(\"内层装饰器结束了\")\n",
    "        return __decorator\n",
    "    return internal_deco\n",
    "\n",
    "@external_deco(\"internal_arg\")\n",
    "def hello():\n",
    "    print(\"oh, god, I am tired of saying hello\")\n",
    "    \n",
    "a = hello()\n",
    "print(a.__name__)"
   ]
  },
  {
   "cell_type": "code",
   "execution_count": 40,
   "metadata": {},
   "outputs": [
    {
     "name": "stdout",
     "output_type": "stream",
     "text": [
      "time Thu Oct  1 18:06:20 2020\n",
      "hello ,nice to meet you\n",
      "I love China\n"
     ]
    },
    {
     "ename": "TypeError",
     "evalue": "'str' object is not callable",
     "output_type": "error",
     "traceback": [
      "\u001b[1;31m---------------------------------------------------------------------------\u001b[0m",
      "\u001b[1;31mTypeError\u001b[0m                                 Traceback (most recent call last)",
      "\u001b[1;32m<ipython-input-40-000257373ca8>\u001b[0m in \u001b[0;36m<module>\u001b[1;34m\u001b[0m\n\u001b[0;32m     13\u001b[0m \u001b[0mwords\u001b[0m \u001b[1;33m=\u001b[0m \u001b[0mhello\u001b[0m\u001b[1;33m(\u001b[0m\u001b[1;33m)\u001b[0m\u001b[1;33m\u001b[0m\u001b[1;33m\u001b[0m\u001b[0m\n\u001b[0;32m     14\u001b[0m \u001b[0mprint\u001b[0m\u001b[1;33m(\u001b[0m\u001b[0mwords\u001b[0m\u001b[1;33m)\u001b[0m\u001b[1;33m\u001b[0m\u001b[1;33m\u001b[0m\u001b[0m\n\u001b[1;32m---> 15\u001b[1;33m \u001b[0mprint\u001b[0m\u001b[1;33m(\u001b[0m\u001b[0mwords\u001b[0m\u001b[1;33m(\u001b[0m\u001b[1;33m)\u001b[0m\u001b[1;33m.\u001b[0m\u001b[0m__name__\u001b[0m\u001b[1;33m)\u001b[0m\u001b[1;33m\u001b[0m\u001b[1;33m\u001b[0m\u001b[0m\n\u001b[0m",
      "\u001b[1;31mTypeError\u001b[0m: 'str' object is not callable"
     ]
    }
   ],
   "source": [
    "# 当被修饰的参数带有返回值时\n",
    "import time\n",
    "def printTime(f):\n",
    "    def wrapper(*args, **kwargs):\n",
    "        print(\"time\",time.ctime())\n",
    "        return f(*args, **kwargs)  # 被修饰的函数返回的参数在这里返回\n",
    "    return wrapper\n",
    "@printTime\n",
    "def hello():\n",
    "    print(\"hello ,nice to meet you\")\n",
    "    return \"I love China\"\n",
    "\n",
    "words = hello()\n",
    "print(words)\n"
   ]
  },
  {
   "cell_type": "markdown",
   "metadata": {},
   "source": [
    "# 使用多个装饰器"
   ]
  },
  {
   "cell_type": "code",
   "execution_count": 26,
   "metadata": {},
   "outputs": [
    {
     "name": "stdout",
     "output_type": "stream",
     "text": [
      "进入printTime装饰器\n",
      "这是indircet_call_func_kw装饰器\n",
      "My name is Tom, what fruits are beach\n",
      "退出indircet_call_func_kw\n",
      "退出printTime装饰器\n"
     ]
    }
   ],
   "source": [
    "def indirect_call_func_kw(func):\n",
    "    def __decorator(*args, **kwargs):\n",
    "        print(\"这是indircet_call_func_kw装饰器\")\n",
    "        func(*args, **kwargs)\n",
    "        print(\"退出indircet_call_func_kw\")\n",
    "    return __decorator\n",
    "\n",
    "\n",
    "def printTime(f):\n",
    "    def wrapper(*args, **kwargs):\n",
    "        print(\"进入printTime装饰器\")\n",
    "        f(*args, **kwargs)\n",
    "        print(\"退出printTime装饰器\") \n",
    "    return wrapper\n",
    "\n",
    "# 修饰的顺序是先开始后结束\n",
    "@printTime\n",
    "@indirect_call_func_kw\n",
    "def Tom_hobby(name, hobby1):\n",
    "    print(\"My name is {}, what fruits are {}\".format(name, hobby1))\n",
    "    return None\n",
    "\n",
    "Tom_hobby(\"Tom\", \"beach\")"
   ]
  },
  {
   "cell_type": "markdown",
   "metadata": {},
   "source": [
    "# 使用函数装饰器装饰类举例\n",
    "- 单例模式"
   ]
  },
  {
   "cell_type": "code",
   "execution_count": 42,
   "metadata": {},
   "outputs": [
    {
     "name": "stdout",
     "output_type": "stream",
     "text": [
      "liutao\n",
      "23\n",
      "55\n",
      "160\n"
     ]
    }
   ],
   "source": [
    "import functools\n",
    "def classdecorator(cls):\n",
    "    height = 160\n",
    "    weight = 55\n",
    "    @functools.wraps(cls) #添加这句话是为了调用者是\n",
    "    def wrapped(name, age):\n",
    "        cls_obj = cls(name, age)\n",
    "        cls_obj.weight = weight\n",
    "        cls_obj.height = height\n",
    "        return cls_obj\n",
    "    return wrapped\n",
    "\n",
    "\n",
    "@classdecorator\n",
    "class Student():\n",
    "    def __init__(self, name, age):\n",
    "        self.name = name\n",
    "        self.age = age\n",
    "    \n",
    "stu = Student(\"liutao\", 23)\n",
    "print(stu.name)\n",
    "print(stu.age)\n",
    "print(stu.weight)\n",
    "print(stu.height)"
   ]
  },
  {
   "cell_type": "code",
   "execution_count": 43,
   "metadata": {},
   "outputs": [
    {
     "name": "stdout",
     "output_type": "stream",
     "text": [
      "开始\n",
      "我是个函数呀\n",
      "结束\n"
     ]
    }
   ],
   "source": [
    "# 类装饰器装饰函数\n",
    "class MethodDecorator():\n",
    "    def __init__(self, function):\n",
    "        self.function = function\n",
    "        \n",
    "    def __call__(self):\n",
    "        print(\"开始\")\n",
    "        self.function()\n",
    "        print(\"结束\")\n",
    "        \n",
    "@MethodDecorator\n",
    "def myfunc():\n",
    "    print(\"我是个函数呀\")\n",
    "    \n",
    "myfunc()\n",
    "# 这个调用相当于myfunc = MethodDecorator(myfunc)\n",
    "\n",
    "\"\"\"\n",
    "这里相当于  myfunc=MethodDecorator（myfunc），这样一写就明白了，\n",
    "首先myfunc函数作为参数传递给类的构造函数，因为调用类的构造函数自然会返回类的一个实例对象，\n",
    "所以前面的myfunc实际上是类的一个实例对象，然后调用myfunc，这里虽然从形式上看依然是看起来还是调用函数，\n",
    "但是本质上已经发生了变化，它实际上一个对象调用（这是类装饰器的本质，很重要），\n",
    "这就是为什么要定义__call__魔法方法的原因。下面比如函数有返回值，而且有参数，要用类装饰器去装饰这个函数，\n",
    "\n",
    "\n",
    "\"\"\""
   ]
  },
  {
   "cell_type": "code",
   "execution_count": 44,
   "metadata": {},
   "outputs": [
    {
     "name": "stdout",
     "output_type": "stream",
     "text": [
      "张三\n",
      "25\n",
      "170\n",
      "65\n"
     ]
    }
   ],
   "source": [
    "# 类装饰类\n",
    "\n",
    "class ClassDecorator:\n",
    "    def __init__(self,cls):  #这里相当于是第一层，作用是将类名Student传递进来\n",
    "        self.cls=cls\n",
    "        self.height=170\n",
    "        self.weight=65\n",
    "    def __call__(self,name,age):  #这相当于是第二层的wrapper\n",
    "        s=self.cls(name,age)\n",
    "        s.height=self.height      #动态添加属性，增加额外信息\n",
    "        s.weight=self.weight\n",
    "        return s                  #返回创建的学生实例s\n",
    "\n",
    "@ClassDecorator\n",
    "class Student:\n",
    "    def __init__(self,name,age):\n",
    "        self.name=name\n",
    "        self.age=age\n",
    "\n",
    "stu=Student('张三',25)   #注意：这里的Student其实并不是一个类了，而是装饰器返回的一个对象，即这里的Student是ClassDecorator的实例\n",
    "                        #而且，这里的Student('张三',25) 也不是构造函数了，它的本质是装饰类的“对象调用”\n",
    "print(stu.name)\n",
    "print(stu.age)\n",
    "print(stu.height)\n",
    "print(stu.weight)"
   ]
  },
  {
   "cell_type": "code",
   "execution_count": 45,
   "metadata": {},
   "outputs": [],
   "source": [
    "# 类装饰器模板\n",
    "\n",
    "class ClassDecorator:        #类装饰器的名称\n",
    "    def __init__(self,function_or_cls):  #这里相当于是第一层，作用是将需要装饰的类名、或者是函数名传递进来\n",
    "        #这里可以添加额外信息\n",
    "        self.cls=cls         #或者是self.function=function,本质是要构造 一个属性\n",
    "        #这里可以添加额外信息\n",
    "    def __call__(self,name,age):  #这相当于是第二层的wrapper，参数需要与被装饰的类、被装饰的函数，参数相同\n",
    "        #这里可以增加额外信息\n",
    "        s=self.cls(name,age)       #本质是调用原来的函数或者类的构造函数\n",
    "        #result=self.function(a,b) \n",
    "        #这里可以增加额外信息\n",
    "        return s                  #返回创建的学生实例s\n"
   ]
  },
  {
   "cell_type": "code",
   "execution_count": 52,
   "metadata": {},
   "outputs": [
    {
     "name": "stdout",
     "output_type": "stream",
     "text": [
      "3\n",
      "3\n",
      "3\n"
     ]
    }
   ],
   "source": [
    "func_list = []\n",
    "for i in range(3):\n",
    "    def new_func(i):\n",
    "        def myfunc(a):\n",
    "            return i+a\n",
    "        return myfunc\n",
    "    func_list.append(myfunc)  #定义三个函数，将三个函数存放在一个列表中\n",
    "for f in func_list:           #调用列表中的三个函数\n",
    "    print(f(1))"
   ]
  },
  {
   "cell_type": "markdown",
   "metadata": {},
   "source": [
    "# Python自带装饰器\n",
    "- 静态方法@staticmethod\n",
    "    - 该方法不需要任何参数\n",
    "    - 当方法中不需要访问任何实例方法和属性，纯粹地通过传入参数并返回数据的功能性方法。\n",
    "    - 它节省了实例化对象的开销成本，往往这种方法放在类外面的模块层作为一个函数存在也是没问题的，而放在类中，仅为这个类服务。\n",
    "- 类方法：@classmethod\n",
    "    - 不需要self，而是要传入一个类cls作为参数，然后对实例进行操作(调用cls)，防止硬编码。\n",
    "    - 可以不用实例化对象而操作成员函数(当实例对象会产生很大数据量的时候)\n",
    "    \n",
    "- 属性装饰器@property\n",
    "    - 该装饰器表明装饰函数会在读取与函数同名的属性时被调用，并且得到被装饰函数的返回值\n",
    "    - 注意被该装饰器装饰后，该属性是只读的，不能被赋值\n",
    "    - 若希望该属性既可读又可写，那么需要先定义一个被property装饰的函数，然后定义一个被setter装饰的函数\n",
    "### @property与property的区别\n",
    "- property是对类属性的安全检查，检查输入的属性值是否满足条件，property(get_attr, set_attr, del_attr)，该括号内是三个函数，定义了对得到，设置，删除属性时的三种方法"
   ]
  },
  {
   "cell_type": "code",
   "execution_count": 80,
   "metadata": {},
   "outputs": [
    {
     "name": "stdout",
     "output_type": "stream",
     "text": [
      "1\n",
      "2\n",
      "4\n",
      "5\n",
      "7\n",
      "8\n"
     ]
    }
   ],
   "source": [
    "# staticmethod 和classmethod举例\n",
    "class DemoClass():\n",
    "    attr = 1\n",
    "    \n",
    "    # 不需要任何参数\n",
    "    @staticmethod\n",
    "    def static_func():\n",
    "        print(DemoClass.attr)\n",
    "        DemoClass.attr += 1\n",
    "    \n",
    "    @classmethod\n",
    "    def class_func(cls):\n",
    "        print(cls.attr)\n",
    "        cls.attr += 2\n",
    "\n",
    "democlass = DemoClass()\n",
    "DemoClass.static_func()\n",
    "DemoClass.class_func()\n",
    "DemoClass.static_func()\n",
    "DemoClass.class_func()\n",
    "democlass.static_func()\n",
    "democlass.class_func()"
   ]
  },
  {
   "cell_type": "code",
   "execution_count": 84,
   "metadata": {},
   "outputs": [
    {
     "name": "stdout",
     "output_type": "stream",
     "text": [
      "23\n",
      "<property object at 0x000001EB47517A98>\n"
     ]
    }
   ],
   "source": [
    "# @property装饰器\n",
    "class PropertyDemo():\n",
    "    def __init__(self):\n",
    "        self.age = 23\n",
    "        self.grade = 59\n",
    "        \n",
    "    @property  # 将tellage函数变为一个只可读的属性\n",
    "    def tell_age(self):\n",
    "        return self.age\n",
    "    \n",
    "prope_demo = PropertyDemo()\n",
    "print(prope_demo.tell_age)\n",
    "print(PropertyDemo.tell_age) #类名直接访问不出来\n",
    "\n",
    "#prope_demo.tell_age = 34  #不能给他赋值，否则会报错"
   ]
  },
  {
   "cell_type": "code",
   "execution_count": 95,
   "metadata": {},
   "outputs": [
    {
     "name": "stdout",
     "output_type": "stream",
     "text": [
      "23\n",
      "30\n"
     ]
    }
   ],
   "source": [
    "# @property对属性进行修改\n",
    "class PropertyDemo():\n",
    "    def __init__(self):\n",
    "        self.age = 23\n",
    "        self.grade = 59\n",
    "        \n",
    "    @property  # 将tellage函数变为一个只可读的属性\n",
    "    def saying_age(self):\n",
    "        return self.age\n",
    "    \n",
    "    @saying_age.setter\n",
    "    def change_age(self, value):\n",
    "        if value<0 or value>120:\n",
    "            raise VauleError(\"年龄是正值，而且在120岁以下\")\n",
    "            \n",
    "        else:\n",
    "            self.age = value\n",
    "            \n",
    "proper_demo = PropertyDemo()\n",
    "print(proper_demo.saying_age)\n",
    "proper_demo.change_age = 30\n",
    "print(proper_demo.saying_age)"
   ]
  },
  {
   "cell_type": "code",
   "execution_count": 60,
   "metadata": {},
   "outputs": [
    {
     "name": "stdout",
     "output_type": "stream",
     "text": [
      "99\n"
     ]
    }
   ],
   "source": [
    "class Student(object):\n",
    "\n",
    "    @property\n",
    "    def score(self):\n",
    "        return self._score\n",
    "\n",
    "    @score.setter\n",
    "    def score(self,value):\n",
    "        if not isinstance(value, int):\n",
    "            raise ValueError('分数必须是整数才行呐')\n",
    "        if value < 0 or value > 100:\n",
    "            raise ValueError('分数必须0-100之间')\n",
    "        self._score = value\n",
    "        \n",
    "student = Student()\n",
    "student.score = 99\n",
    "print(student.score)"
   ]
  },
  {
   "cell_type": "markdown",
   "metadata": {},
   "source": [
    "# hasattr(),setattr(),getattr()的使用\n",
    "- 这些方法都是针对类中的变量或方法\n",
    "- hasattr(object, name):判断object对象中是否存在name属性，在Python中，属性包含变量和方法，name是string类型\n",
    "- getattr(object, name[,default]):获取object对象的属性的值，如果存在则不返回，不存在的话，若设置了默认值，则返回默认值，没有默认值则报错。\n",
    "    - 若获取的是变量，则根据上面的说明返回\n",
    "    - 若获取的是函数方法（针对类来说），则返回的是函数对象，若想调用函数对象，则需要把object实例化，如  getattr(Student(), \"name\")()，若Student没带括号，则说明调用的是类方法(类方法是指用@classmethod装饰的）\n",
    "    \n",
    "- setattr(object, name, value):给object对象的name属性赋值value，如果对象原本存在给定的属性name，则setattr会更改属性的值为给定的value；如果对象原本不存在属性name，setattr会在对象中创建属性，并赋值为给定的value；"
   ]
  },
  {
   "cell_type": "code",
   "execution_count": 94,
   "metadata": {},
   "outputs": [
    {
     "name": "stdout",
     "output_type": "stream",
     "text": [
      "True\n",
      "True\n",
      "False\n",
      "liutao\n",
      "xiaoming\n",
      "my name is xiaoming\n",
      "<bound method Student.func1 of <class '__main__.Student'>>\n",
      "the cls name is liutao\n",
      "<bound method Student.func of <__main__.Student object at 0x000001A8F97C77B8>>\n",
      "my name is xiaohong\n",
      "xiaobai\n",
      "23\n"
     ]
    }
   ],
   "source": [
    "# hasattar()举例\n",
    "class Student():\n",
    "    name = \"liutao\"\n",
    "    def __init__(self, name):\n",
    "        self.name = name\n",
    "    def func(self):\n",
    "        return \"my name is {}\".format(self.name)\n",
    "    \n",
    "    @classmethod\n",
    "    def func1(cls):\n",
    "        return \"the cls name is {}\".format(cls.name)\n",
    "    \n",
    "print(hasattr(Student, \"name\"))\n",
    "print(hasattr(Student, \"func\"))\n",
    "print(hasattr(Student, \"age\"))\n",
    "\n",
    "stu = Student(\"xiaoming\")\n",
    "print(getattr(Student, \"name\"))\n",
    "print(getattr(stu, \"name\"))\n",
    "print(getattr(stu, \"func\")())\n",
    "print(getattr(Student, \"func1\"))\n",
    "print(getattr(Student, \"func1\")()) #类方法的话，类不用加括号直接访问\n",
    "print(getattr(Student(\"xiaohong\"), \"func\"))\n",
    "print(getattr(Student(\"xiaohong\"), \"func\")()) #普通方法必须要加括号\n",
    "\n",
    "setattr(Student, \"name\", \"xiaobai\")\n",
    "print(getattr(Student, \"name\"))\n",
    "setattr(Student, \"age\", 23)\n",
    "print(getattr(Student, \"age\"))"
   ]
  },
  {
   "cell_type": "markdown",
   "metadata": {},
   "source": [
    "### 偏函数\n",
    "- 参数固定的函数，相当于一个有特定参数的函数体\n",
    "- functools.partial的作用是把一个函数某些参数固定，返回一个新函数\n",
    "            将所作用的函数作为partial（）函数的第一个参数，原函数的各个参数依次作为partial（）函数的后续参数，原函数有关键字参数的一定要带上关键字，没有的话，按原有参数顺序进行补充。\n",
    "- 我自己的理解：就是有参数可以先调用就调用计算，后续有参数进来再算。这样可以节省时间"
   ]
  },
  {
   "cell_type": "code",
   "execution_count": 5,
   "metadata": {},
   "outputs": [
    {
     "name": "stdout",
     "output_type": "stream",
     "text": [
      "106\n",
      "I-Love-You-"
     ]
    }
   ],
   "source": [
    "# 定义一个新函数，使之输入2进制的字符串转换为10进制的\n",
    "def int2(n, base=2):\n",
    "    return int(n, base)\n",
    "\n",
    "print(int2(\"1101010\"))\n",
    "\n",
    "import functools\n",
    "print2 = functools.partial(print, end=\"-\")\n",
    "print2(\"I\")\n",
    "print2(\"Love\")\n",
    "print2(\"You\")"
   ]
  },
  {
   "cell_type": "code",
   "execution_count": 10,
   "metadata": {},
   "outputs": [
    {
     "name": "stdout",
     "output_type": "stream",
     "text": [
      "100\n"
     ]
    }
   ],
   "source": [
    "import functools\n",
    "max2 = functools.partial(max, 100)  #100是设置max的默认值\n",
    "lst = [1,3,5,-1]\n",
    "print(max2(*lst))"
   ]
  },
  {
   "cell_type": "code",
   "execution_count": 14,
   "metadata": {},
   "outputs": [
    {
     "name": "stdout",
     "output_type": "stream",
     "text": [
      "6\n",
      "272\n",
      "6\n"
     ]
    }
   ],
   "source": [
    "#以上函数用functool.partial实现\n",
    "# functools.partial(func, *args, ** kwargs)\n",
    "import functools\n",
    "int2 = functools.partial(int, base=2)\n",
    "print(int2(\"0110\"))\n",
    "# 如果想实现输入为16进制的字符串转换为10进制的，不用定义新的函数，直接使用partial\n",
    "num_16 = int2(\"0110\", base=16)\n",
    "print(num_16)\n",
    "print(int2(\"0110\"))"
   ]
  },
  {
   "cell_type": "code",
   "execution_count": 17,
   "metadata": {},
   "outputs": [
    {
     "name": "stdout",
     "output_type": "stream",
     "text": [
      "A____________我们看下原函数sum的函数地址入口：\n",
      "<function sum at 0x0000022145008620>\n",
      "B______我们看下partial函数返回函数的地址入口：\n",
      "functools.partial(<function sum at 0x0000022145008620>, 10)\n",
      "25\n",
      "45\n"
     ]
    }
   ],
   "source": [
    "from  functools import partial    \n",
    "def sum(*args):  \n",
    "        s = 0  \n",
    "        for n in args:  \n",
    "            s = s + n  \n",
    "        return s  \n",
    "      \n",
    "sum_add_10  = partial(sum,10)    #10 作用在sum第一个参数的位置  \n",
    "sum_add_10_20 = partial(sum,10,20) #10 20 分别作用在sum第一个和第二个参数的位置  \n",
    "print('A____________我们看下原函数sum的函数地址入口：')  \n",
    "print(sum)  \n",
    "print('B______我们看下partial函数返回函数的地址入口：')  \n",
    "print(partial(sum,10))  \n",
    "print(sum_add_10(1,2,3,4,5))    # --> 10 + 1 + 2 + 3 + 4 + 5 = 25  \n",
    "print(sum_add_10_20(1,2,3,4,5)) # --> 10 + 20 + 1 + 2 + 3 + 4 + 5 = 45  \n"
   ]
  },
  {
   "cell_type": "code",
   "execution_count": null,
   "metadata": {},
   "outputs": [],
   "source": []
  }
 ],
 "metadata": {
  "kernelspec": {
   "display_name": "Python 3",
   "language": "python",
   "name": "python3"
  },
  "language_info": {
   "codemirror_mode": {
    "name": "ipython",
    "version": 3
   },
   "file_extension": ".py",
   "mimetype": "text/x-python",
   "name": "python",
   "nbconvert_exporter": "python",
   "pygments_lexer": "ipython3",
   "version": "3.7.3"
  }
 },
 "nbformat": 4,
 "nbformat_minor": 2
}
