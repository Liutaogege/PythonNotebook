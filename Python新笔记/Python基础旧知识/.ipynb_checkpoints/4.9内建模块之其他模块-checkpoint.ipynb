{
 "cells": [
  {
   "cell_type": "markdown",
   "metadata": {},
   "source": [
    "# heapq：找到最大或最小的多个元素"
   ]
  },
  {
   "cell_type": "code",
   "execution_count": 1,
   "metadata": {},
   "outputs": [
    {
     "name": "stdout",
     "output_type": "stream",
     "text": [
      "[36, 13, 12]\n",
      "[-16, -15, -2, 6]\n",
      "[{'name': 'china', 'price': 100}, {'name': 'english', 'price': 80}]\n",
      "-16\n",
      "-15\n"
     ]
    }
   ],
   "source": [
    "#找到最大或最小的多个元素heapq\n",
    "import heapq\n",
    "num = [36,12,-15,6,-2,13,-16]\n",
    "print(heapq.nlargest(3,num))\n",
    "print(heapq.nsmallest(4,num))\n",
    "v = [{'name':'china', 'price':100},\n",
    "    {'name':'america','price':50},\n",
    "    {'name':'english','price':80}]\n",
    "print(heapq.nlargest(2,v,key = lambda s:s['price']))\n",
    "#将元素以堆的形式排列\n",
    "heapq.heapify(num)\n",
    "#num[0]总是最小的那个元素\n",
    "print(heapq.heappop(num))\n",
    "print(heapq.heappop(num))\n",
    "#经过heapify后，会将最小的元素弹出"
   ]
  },
  {
   "cell_type": "code",
   "execution_count": null,
   "metadata": {},
   "outputs": [],
   "source": []
  }
 ],
 "metadata": {
  "kernelspec": {
   "display_name": "Python 3",
   "language": "python",
   "name": "python3"
  },
  "language_info": {
   "codemirror_mode": {
    "name": "ipython",
    "version": 3
   },
   "file_extension": ".py",
   "mimetype": "text/x-python",
   "name": "python",
   "nbconvert_exporter": "python",
   "pygments_lexer": "ipython3",
   "version": "3.7.3"
  }
 },
 "nbformat": 4,
 "nbformat_minor": 2
}
