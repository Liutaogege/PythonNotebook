{
 "cells": [
  {
   "cell_type": "code",
   "execution_count": 5,
   "metadata": {},
   "outputs": [
    {
     "name": "stdout",
     "output_type": "stream",
     "text": [
      "   woshi\n",
      "0    520\n",
      "2524797605592\n",
      "2524796266648\n",
      "False\n",
      "['7', '8']\n"
     ]
    }
   ],
   "source": [
    "import sys \n",
    "sys.path.append(r\"E:\\Users\\acer\\Anaconda3\\pkgs\\pandas-0.25.1-py37ha925a31_0\\Lib\\site-packages\")\n",
    "import pandas as pd\n",
    "df1 = pd.DataFrame({'woshi':520},index=[0])\n",
    "\n",
    "df2 = df1.copy()\n",
    "print(df2)\n",
    "print(id(df1))\n",
    "print(id(df2))\n",
    "print('520' in df2)\n",
    "print(list('78'))"
   ]
  },
  {
   "cell_type": "markdown",
   "metadata": {},
   "source": [
    "# python补漏"
   ]
  },
  {
   "cell_type": "code",
   "execution_count": 41,
   "metadata": {},
   "outputs": [
    {
     "name": "stdout",
     "output_type": "stream",
     "text": [
      "my name is liutao\n",
      "my name is liutao\n",
      "\n",
      "line1\n",
      "line2\n",
      "line3\n",
      "I love you so much            这是测站位符的啊\n",
      "I love you so much------------\n",
      "            I love you so much\n",
      "------------I love you so much\n",
      "------I love you so much------\n",
      "            I love you so much\n",
      "I love you so much            \n",
      "------------I love you so much\n",
      "I love you so much------------\n",
      "------------I love you so much\n",
      "I love you so much            done\n",
      "1,234,533\n"
     ]
    }
   ],
   "source": [
    "# Python补漏\n",
    "name = \"liutao\"\n",
    "# f-string输出法\n",
    "print(f\"my name is {name}\")\n",
    "# format_map在变量中去寻找name这个变量,没找到则报错\n",
    "print(\"my name is {name}\".format_map(vars())) \n",
    "# \n",
    "print(r\"\"\"\n",
    "line1\n",
    "line2\n",
    "line3\"\"\") #r表示不转义\n",
    "\n",
    "# 文本对齐：输出占位符\n",
    "text = \"I love you so much\"\n",
    "print(text.ljust(30), end=\"\")\n",
    "print(\"这是测站位符的啊\")\n",
    "print(text.ljust(30, '-'))\n",
    "\n",
    "print(text.rjust(30, \" \"))\n",
    "print(text.rjust(30, \"-\"))\n",
    "\n",
    "print(text.center(30, \"-\"))\n",
    "\n",
    "# 利用format实现占位符\n",
    "print(format(text, \">30\")) #向右移动30格\n",
    "print(format(text, \"<30\")) #向左移动30格\n",
    "print(format(text, \"->30\")) #向右移动30格填充\n",
    "print(format(text, \"-<30\")) #向左移动30格并填充\n",
    "print(\"{:->30}\".format(text))\n",
    "print(\"{0:30}\".format(text), end=\"done\") #控制输出的宽度\n",
    "#（4）逗号（，）<格式控制标记>中逗号（，）用于显示数字的千位分隔符，例如：\n",
    "print()\n",
    "print(\"{:,}\".format(1234533))"
   ]
  },
  {
   "cell_type": "markdown",
   "metadata": {},
   "source": [
    "# Python中执行shell脚本名令的几种方法\n",
    "- os方法\n",
    "    - 对于有返回值的shell命令，建议使用 os.popen()\n",
    "    - 对于没有返回值的shell命令，建议使用 os.system()\n",
    "- subprocess方法，用来替代os方法的\n"
   ]
  },
  {
   "cell_type": "code",
   "execution_count": 45,
   "metadata": {},
   "outputs": [
    {
     "name": "stdout",
     "output_type": "stream",
     "text": [
      "1\n",
      "1\n",
      "<os._wrap_close object at 0x000001D822249278>\n",
      "\n"
     ]
    }
   ],
   "source": [
    "#第一种os.systrm()，在Linux系统中才管用\n",
    "import os\n",
    "os.chdir(r\"C:\\Users\\acer\\Desktop\")\n",
    "print(os.system(\"touch test.txt\"))  #返回1表示不成功\n",
    "print(os.system(\"ls -a\"))\n",
    "\n",
    "# 第二种os.popen()\n",
    "print(os.popen(\"ls -l\"))\n",
    "f = os.popen(\"touch test.txt\")\n",
    "print(f.read())"
   ]
  },
  {
   "cell_type": "markdown",
   "metadata": {},
   "source": [
    "# subprocess模块\n",
    "- 常用方法\n",
    "    - 1、subprocess.call()：执行命令，并返回执行状态，其中shell参数为False时，命令以及命令的参数需要通过列表的方式传入，当shell为True时，可通过一个字符串直接传入命令以及命令所需要的参数\n",
    "    - 2、subprocess.check_call()：用法与subprocess.call()类似，区别是，当返回值不为0时，直接抛出异常\n",
    "    - 3、subprocess.check_output()：用法与上面两个方法类似，区别是，如果当返回值为0时，直接返回输出结果，如果返回值不为0，直接抛出异常。"
   ]
  },
  {
   "cell_type": "code",
   "execution_count": 47,
   "metadata": {},
   "outputs": [
    {
     "ename": "FileNotFoundError",
     "evalue": "[WinError 2] 系统找不到指定的文件。",
     "output_type": "error",
     "traceback": [
      "\u001b[1;31m---------------------------------------------------------------------------\u001b[0m",
      "\u001b[1;31mFileNotFoundError\u001b[0m                         Traceback (most recent call last)",
      "\u001b[1;32m<ipython-input-47-72ac21693eeb>\u001b[0m in \u001b[0;36m<module>\u001b[1;34m\u001b[0m\n\u001b[0;32m      3\u001b[0m \u001b[1;33m\u001b[0m\u001b[0m\n\u001b[0;32m      4\u001b[0m \u001b[0mos\u001b[0m\u001b[1;33m.\u001b[0m\u001b[0mchdir\u001b[0m\u001b[1;33m(\u001b[0m\u001b[1;34mr\"C:\\Users\\acer\\Desktop\"\u001b[0m\u001b[1;33m)\u001b[0m\u001b[1;33m\u001b[0m\u001b[1;33m\u001b[0m\u001b[0m\n\u001b[1;32m----> 5\u001b[1;33m \u001b[0mprint\u001b[0m\u001b[1;33m(\u001b[0m\u001b[0msubprocess\u001b[0m\u001b[1;33m.\u001b[0m\u001b[0mcall\u001b[0m\u001b[1;33m(\u001b[0m\u001b[1;33m[\u001b[0m\u001b[1;34m\"ls\"\u001b[0m\u001b[1;33m,\u001b[0m\u001b[1;34m\"-l\"\u001b[0m\u001b[1;33m]\u001b[0m\u001b[1;33m,\u001b[0m\u001b[0mshell\u001b[0m\u001b[1;33m=\u001b[0m\u001b[1;32mFalse\u001b[0m\u001b[1;33m)\u001b[0m\u001b[1;33m)\u001b[0m  \u001b[1;31m# shell参数为false，则，命令以及参数以列表的形式给出\u001b[0m\u001b[1;33m\u001b[0m\u001b[1;33m\u001b[0m\u001b[0m\n\u001b[0m",
      "\u001b[1;32me:\\Users\\acer\\Anaconda3\\lib\\subprocess.py\u001b[0m in \u001b[0;36mcall\u001b[1;34m(timeout, *popenargs, **kwargs)\u001b[0m\n\u001b[0;32m    321\u001b[0m     \u001b[0mretcode\u001b[0m \u001b[1;33m=\u001b[0m \u001b[0mcall\u001b[0m\u001b[1;33m(\u001b[0m\u001b[1;33m[\u001b[0m\u001b[1;34m\"ls\"\u001b[0m\u001b[1;33m,\u001b[0m \u001b[1;34m\"-l\"\u001b[0m\u001b[1;33m]\u001b[0m\u001b[1;33m)\u001b[0m\u001b[1;33m\u001b[0m\u001b[1;33m\u001b[0m\u001b[0m\n\u001b[0;32m    322\u001b[0m     \"\"\"\n\u001b[1;32m--> 323\u001b[1;33m     \u001b[1;32mwith\u001b[0m \u001b[0mPopen\u001b[0m\u001b[1;33m(\u001b[0m\u001b[1;33m*\u001b[0m\u001b[0mpopenargs\u001b[0m\u001b[1;33m,\u001b[0m \u001b[1;33m**\u001b[0m\u001b[0mkwargs\u001b[0m\u001b[1;33m)\u001b[0m \u001b[1;32mas\u001b[0m \u001b[0mp\u001b[0m\u001b[1;33m:\u001b[0m\u001b[1;33m\u001b[0m\u001b[1;33m\u001b[0m\u001b[0m\n\u001b[0m\u001b[0;32m    324\u001b[0m         \u001b[1;32mtry\u001b[0m\u001b[1;33m:\u001b[0m\u001b[1;33m\u001b[0m\u001b[1;33m\u001b[0m\u001b[0m\n\u001b[0;32m    325\u001b[0m             \u001b[1;32mreturn\u001b[0m \u001b[0mp\u001b[0m\u001b[1;33m.\u001b[0m\u001b[0mwait\u001b[0m\u001b[1;33m(\u001b[0m\u001b[0mtimeout\u001b[0m\u001b[1;33m=\u001b[0m\u001b[0mtimeout\u001b[0m\u001b[1;33m)\u001b[0m\u001b[1;33m\u001b[0m\u001b[1;33m\u001b[0m\u001b[0m\n",
      "\u001b[1;32me:\\Users\\acer\\Anaconda3\\lib\\subprocess.py\u001b[0m in \u001b[0;36m__init__\u001b[1;34m(self, args, bufsize, executable, stdin, stdout, stderr, preexec_fn, close_fds, shell, cwd, env, universal_newlines, startupinfo, creationflags, restore_signals, start_new_session, pass_fds, encoding, errors, text)\u001b[0m\n\u001b[0;32m    773\u001b[0m                                 \u001b[0mc2pread\u001b[0m\u001b[1;33m,\u001b[0m \u001b[0mc2pwrite\u001b[0m\u001b[1;33m,\u001b[0m\u001b[1;33m\u001b[0m\u001b[1;33m\u001b[0m\u001b[0m\n\u001b[0;32m    774\u001b[0m                                 \u001b[0merrread\u001b[0m\u001b[1;33m,\u001b[0m \u001b[0merrwrite\u001b[0m\u001b[1;33m,\u001b[0m\u001b[1;33m\u001b[0m\u001b[1;33m\u001b[0m\u001b[0m\n\u001b[1;32m--> 775\u001b[1;33m                                 restore_signals, start_new_session)\n\u001b[0m\u001b[0;32m    776\u001b[0m         \u001b[1;32mexcept\u001b[0m\u001b[1;33m:\u001b[0m\u001b[1;33m\u001b[0m\u001b[1;33m\u001b[0m\u001b[0m\n\u001b[0;32m    777\u001b[0m             \u001b[1;31m# Cleanup if the child failed starting.\u001b[0m\u001b[1;33m\u001b[0m\u001b[1;33m\u001b[0m\u001b[1;33m\u001b[0m\u001b[0m\n",
      "\u001b[1;32me:\\Users\\acer\\Anaconda3\\lib\\subprocess.py\u001b[0m in \u001b[0;36m_execute_child\u001b[1;34m(self, args, executable, preexec_fn, close_fds, pass_fds, cwd, env, startupinfo, creationflags, shell, p2cread, p2cwrite, c2pread, c2pwrite, errread, errwrite, unused_restore_signals, unused_start_new_session)\u001b[0m\n\u001b[0;32m   1176\u001b[0m                                          \u001b[0menv\u001b[0m\u001b[1;33m,\u001b[0m\u001b[1;33m\u001b[0m\u001b[1;33m\u001b[0m\u001b[0m\n\u001b[0;32m   1177\u001b[0m                                          \u001b[0mos\u001b[0m\u001b[1;33m.\u001b[0m\u001b[0mfspath\u001b[0m\u001b[1;33m(\u001b[0m\u001b[0mcwd\u001b[0m\u001b[1;33m)\u001b[0m \u001b[1;32mif\u001b[0m \u001b[0mcwd\u001b[0m \u001b[1;32mis\u001b[0m \u001b[1;32mnot\u001b[0m \u001b[1;32mNone\u001b[0m \u001b[1;32melse\u001b[0m \u001b[1;32mNone\u001b[0m\u001b[1;33m,\u001b[0m\u001b[1;33m\u001b[0m\u001b[1;33m\u001b[0m\u001b[0m\n\u001b[1;32m-> 1178\u001b[1;33m                                          startupinfo)\n\u001b[0m\u001b[0;32m   1179\u001b[0m             \u001b[1;32mfinally\u001b[0m\u001b[1;33m:\u001b[0m\u001b[1;33m\u001b[0m\u001b[1;33m\u001b[0m\u001b[0m\n\u001b[0;32m   1180\u001b[0m                 \u001b[1;31m# Child is launched. Close the parent's copy of those pipe\u001b[0m\u001b[1;33m\u001b[0m\u001b[1;33m\u001b[0m\u001b[1;33m\u001b[0m\u001b[0m\n",
      "\u001b[1;31mFileNotFoundError\u001b[0m: [WinError 2] 系统找不到指定的文件。"
     ]
    }
   ],
   "source": [
    "import os\n",
    "import subprocess\n",
    "\n",
    "os.chdir(r\"C:\\Users\\acer\\Desktop\")\n",
    "print(subprocess.call([\"ls\",\"-l\"],shell=False))  # shell参数为false，则，命令以及参数以列表的形式给出"
   ]
  },
  {
   "cell_type": "markdown",
   "metadata": {},
   "source": [
    "### enumerate(sequence,start=0)\n",
    "        输入一个可遍历的数据对象(如列表)，返回一个可迭代对象(索引值和数据)。start可设置索引起始值\n",
    "\n",
    "\n",
    "### eval(expression,[, globals[, locals]])\n",
    "- 用来执行一个字符串表达式，并返回表达式的值。\n",
    "- globals -- 变量作用域，全局命名空间，如果被提供，则必须是一个字典对象。\n",
    "- locals -- 变量作用域，局部命名空间，如果被提供，可以是任何映射对象。\n",
    "- eval('ob01001')，可以转换为十进制输出\n",
    "\n",
    "### zip(iterable,iterable)\n",
    "        它接受一系列可迭代的对象作为参数，将对象中对应的元素打包成一个个tuple（元组），然后返回由这些tuples组成的list列表:"
   ]
  },
  {
   "cell_type": "code",
   "execution_count": 5,
   "metadata": {},
   "outputs": [
    {
     "name": "stdout",
     "output_type": "stream",
     "text": [
      "[('liu', 1), ('li', 2), ('zhao', 3)]\n",
      "[('liu', 'li', 'zhao'), (1, 2, 3)]\n",
      "{'liu': 1, 'li': 2, 'zhao': 3}\n",
      "(3, 'zhao')\n",
      "{1: 'liu', 2: 'li', 3: 'zhao'}\n"
     ]
    }
   ],
   "source": [
    "# zip(iterable,iterable)它接受一系列可迭代的对象作为参数，将对象中对应的元素打包成一个个tuple（元组），然后返回由这些tuples组成的list（列表:\n",
    "one = (\"liu\", \"li\",\"zhao\")\n",
    "two = (1,2,3)\n",
    "ot = list(zip(one,two))\n",
    "print(ot)\n",
    "oto = zip(one, two)\n",
    "oto1 = list(zip(*oto)) # 解压，把每个列表化为一个元素\n",
    "print(oto1)\n",
    "f = dict(zip(one,two))\n",
    "print(f)\n",
    "num = zip(f.values(), f.keys())\n",
    "print(max(num))\n",
    "# print(min(num)) #zip()会创建一个迭代器，只能被消费一次，所以这句话会报错\n",
    "d = {k:v for v,k in f.items()}\n",
    "print(d)"
   ]
  },
  {
   "cell_type": "code",
   "execution_count": 9,
   "metadata": {},
   "outputs": [
    {
     "name": "stdout",
     "output_type": "stream",
     "text": [
      "(0, 'liutao')\n",
      "(1, 'jiaojiao')\n",
      "(2, 'xiaoxiao')\n",
      "0 : liutao\n",
      "1 : jiaojiao\n",
      "2 : xiaoxiao\n"
     ]
    }
   ],
   "source": [
    "# enumerate()举例\n",
    "lst = [\"liutao\", \"jiaojiao\", \"xiaoxiao\"]\n",
    "for i in enumerate(lst):\n",
    "    print(i)\n",
    "for i, v in enumerate(lst):\n",
    "    print(i, \":\", v)"
   ]
  },
  {
   "cell_type": "code",
   "execution_count": 24,
   "metadata": {},
   "outputs": [
    {
     "name": "stdout",
     "output_type": "stream",
     "text": [
      "我中意你呀\n",
      "5\n",
      "<class 'bytes'>\n",
      "请输入你要执行的命令：os.path\n",
      "<module 'ntpath' from 'e:\\\\Users\\\\acer\\\\Anaconda3\\\\lib\\\\ntpath.py'>\n"
     ]
    }
   ],
   "source": [
    "#eval函数举例:总而言之，就是可以把字符串变为命令执行\n",
    "words = \"print('我中意你呀')\"\n",
    "eval(words)\n",
    "#help(eval)\n",
    "value = \"2 + 3\"\n",
    "print(eval(value))\n",
    "\n",
    "bytes_words = \"b'xixi'\"\n",
    "eval(bytes_words)\n",
    "print(type(eval(bytes_words)))\n",
    "\n",
    "#eval函数不安全\n",
    "value = input(\"请输入你要执行的命令：\")\n",
    "#我们知道，input得到的是字符串，而eval可以将它转换为命令执行\n",
    "import os\n",
    "new_v = eval(value)\n",
    "print(new_v)\n",
    "#若输入os.path就可以打印出系统的路径，并有可能更改它"
   ]
  },
  {
   "cell_type": "code",
   "execution_count": 17,
   "metadata": {},
   "outputs": [
    {
     "name": "stdout",
     "output_type": "stream",
     "text": [
      "向下取整\n",
      "2\n",
      "3\n",
      "向上取整\n",
      "3\n",
      "2\n",
      "3\n",
      "8\n",
      "0\n",
      "0\n"
     ]
    }
   ],
   "source": [
    "#Python中的常量用大写字母表示，但他不是真正的常量，可以改变，Python中没有真正的常量\n",
    "PI = 3.14\n",
    "\n",
    "import math\n",
    "# 向下取整: //,又称地板法\n",
    "print(\"向下取整\")\n",
    "num = 8 // 3\n",
    "print(num)\n",
    "print(math.floor(3.4))\n",
    "\n",
    "\n",
    "# 向上取整\n",
    "print(\"向上取整\")\n",
    "num = 8 / 3\n",
    "print(math.ceil(num))\n",
    "\n",
    "# 四舍五入\n",
    "print(round(2.4))\n",
    "print(round(2.51))\n",
    "\n",
    "# 向0取整:取得数的绝对值一定比原来那个数的绝对值要小\n",
    "print(int(8.9))\n",
    "print(int(-0.8))\n",
    "print(int(0.8))"
   ]
  },
  {
   "cell_type": "markdown",
   "metadata": {},
   "source": [
    "# 进制转换相关函数\n",
    "- bin():将十进制转换为二进制,以Ob开头\n",
    "- oct():将十进制转换为八进制字符串输出，以O0开头\n",
    "- hex():将十进制转换为十六进制字符串输出，以Ox开头\n",
    "- bool():将对象转换成bool类型，非空字符串即为真，空为假\n",
    "- ord(一个字符或者字符串);得到字符串的ASCII码\n",
    "- chr():从ASCII得到字符"
   ]
  },
  {
   "cell_type": "code",
   "execution_count": 22,
   "metadata": {},
   "outputs": [
    {
     "name": "stdout",
     "output_type": "stream",
     "text": [
      "0b10\n",
      "0o2\n",
      "0x2\n",
      "True\n",
      "97\n",
      "A\n"
     ]
    }
   ],
   "source": [
    "a = 2\n",
    "print(bin(a))\n",
    "print(oct(a))\n",
    "print(hex(a))\n",
    "print(bool(a))\n",
    "print(ord(\"a\"))\n",
    "print(chr(65))"
   ]
  },
  {
   "cell_type": "markdown",
   "metadata": {},
   "source": [
    "# 字节流与字符串\n",
    "- 字节：由8个01代码组成，在Python中表示字节要在前面加上b,如：b'abc',可用  b\"\\数值\"  表示单个字符\n",
    "- 字节流:主要用于二进制数据，网络传输数据方面，形式：01代码\n",
    "- 字符串：用于文本文件，用户IO方面\n",
    "\n",
    "## 字符串转换为字节流\n",
    "- bytes(str, encoding='utf-8')\n",
    "- 字符串编码：str.encode()\n",
    "- 字节流解码：bt.decode()\n",
    "\n",
    "- 编码：简而言之就是一个字符用二进制表示"
   ]
  },
  {
   "cell_type": "code",
   "execution_count": 32,
   "metadata": {},
   "outputs": [
    {
     "name": "stdout",
     "output_type": "stream",
     "text": [
      "b'#'\n",
      "<class 'bytes'>\n",
      "b'\\xe6\\x88\\x91\\xe7\\x88\\xb1\\xe4\\xbd\\xa0'\n",
      "我爱你\n"
     ]
    }
   ],
   "source": [
    "print(b'\\43')\n",
    "print(type(b'\\64'))\n",
    "print(bytes(\"我爱你\", encoding='utf-8'))\n",
    "print(bytes(\"我爱你\", encoding='utf-8').decode())"
   ]
  },
  {
   "cell_type": "markdown",
   "metadata": {},
   "source": [
    "# 复数"
   ]
  },
  {
   "cell_type": "code",
   "execution_count": 21,
   "metadata": {},
   "outputs": [
    {
     "name": "stdout",
     "output_type": "stream",
     "text": [
      "<class 'complex'>\n",
      "(3+4j)\n",
      "3.0\n",
      "4.0\n",
      "(3-4j)\n",
      "1.4142135623730951j\n"
     ]
    }
   ],
   "source": [
    "print(type(4j))\n",
    "a = complex(3, 4)\n",
    "print(a)\n",
    "print(a.real) #a的实部\n",
    "print(a.imag) #a的虚部\n",
    "print(a.conjugate())  #a的共轭数\n",
    "\n",
    "# 如果希望负数能够开方产生负数结果，需要导入cmath.sqrt\n",
    "import cmath\n",
    "print(cmath.sqrt(-2))"
   ]
  },
  {
   "cell_type": "markdown",
   "metadata": {},
   "source": [
    "# 浮点数\n",
    "- 浮点数可以提供小数点后17位的精度\n",
    "- Python浮点数不能用==比较是否相等，因为浮点数天生有误差，且无法避免。要提高精度的话，采用decimal,但会牺牲性能。\n",
    "    - 若比较1.2*6 == 7.2则会返回False\n",
    "- 比较浮点数的方法：\n",
    "    - abs()方法：abs(a-b)<1e-5\n",
    "    -  math.isclose()方法：math.isclose(a,b)\n",
    "- f.as_integer_ratio()将浮点数转化为两个近似整数的商\n",
    "- f.is_integer()：判断浮点数是否为整数，如12.0\n",
    "- 浮点数定义无穷大，负无穷大，或Nan\n",
    "    - a = float(\"inf\")\n",
    "    - b = float(\"-inf\")\n",
    "    - c = float(\"nan\")\n",
    "\n",
    "# Decimal()\n",
    "- 这个函数很复杂\n",
    "- Decimal接收不同类型的值得到的结果不一样，如：Decimal(1.3)和Decimal(\"1.3\")得到的结果不一样"
   ]
  },
  {
   "cell_type": "code",
   "execution_count": 30,
   "metadata": {},
   "outputs": [
    {
     "name": "stdout",
     "output_type": "stream",
     "text": [
      "(1464039737014809, 281474976710656)\n",
      "False\n",
      "True\n",
      "1.399999999999999911182158029987476766109466552734375\n",
      "1.4\n",
      "1.5\n",
      "inf -inf nan\n",
      "inf\n"
     ]
    }
   ],
   "source": [
    "a = 5.201314\n",
    "b = 12.0\n",
    "print(a.as_integer_ratio())\n",
    "print(a.is_integer())\n",
    "print(b.is_integer())\n",
    "\n",
    "from decimal import Decimal\n",
    "print(Decimal(1.4))\n",
    "print(Decimal(\"1.4\"))\n",
    "\n",
    "# Decimal实现四舍五入\n",
    "from decimal import localcontext\n",
    "a = Decimal(\"30.4\")\n",
    "b = Decimal(\"20.0\")\n",
    "with localcontext() as ctx:\n",
    "    ctx.prec = 2 #\n",
    "    print(a/b)\n",
    "    \n",
    "    \n",
    "a = float(\"inf\")\n",
    "b = float(\"-inf\")\n",
    "c = float(\"nan\")\n",
    "print(a, b, c)\n",
    "print(a + 8)"
   ]
  },
  {
   "cell_type": "code",
   "execution_count": 8,
   "metadata": {},
   "outputs": [
    {
     "name": "stdout",
     "output_type": "stream",
     "text": [
      "Help on class Decimal in module decimal:\n",
      "\n",
      "class Decimal(builtins.object)\n",
      " |  Decimal(value='0', context=None)\n",
      " |  \n",
      " |  Construct a new Decimal object. 'value' can be an integer, string, tuple,\n",
      " |  or another Decimal object. If no value is given, return Decimal('0'). The\n",
      " |  context does not affect the conversion and is only passed to determine if\n",
      " |  the InvalidOperation trap is active.\n",
      " |  \n",
      " |  Methods defined here:\n",
      " |  \n",
      " |  __abs__(self, /)\n",
      " |      abs(self)\n",
      " |  \n",
      " |  __add__(self, value, /)\n",
      " |      Return self+value.\n",
      " |  \n",
      " |  __bool__(self, /)\n",
      " |      self != 0\n",
      " |  \n",
      " |  __ceil__(...)\n",
      " |  \n",
      " |  __complex__(...)\n",
      " |  \n",
      " |  __copy__(...)\n",
      " |  \n",
      " |  __deepcopy__(...)\n",
      " |  \n",
      " |  __divmod__(self, value, /)\n",
      " |      Return divmod(self, value).\n",
      " |  \n",
      " |  __eq__(self, value, /)\n",
      " |      Return self==value.\n",
      " |  \n",
      " |  __float__(self, /)\n",
      " |      float(self)\n",
      " |  \n",
      " |  __floor__(...)\n",
      " |  \n",
      " |  __floordiv__(self, value, /)\n",
      " |      Return self//value.\n",
      " |  \n",
      " |  __format__(...)\n",
      " |      Default object formatter.\n",
      " |  \n",
      " |  __ge__(self, value, /)\n",
      " |      Return self>=value.\n",
      " |  \n",
      " |  __getattribute__(self, name, /)\n",
      " |      Return getattr(self, name).\n",
      " |  \n",
      " |  __gt__(self, value, /)\n",
      " |      Return self>value.\n",
      " |  \n",
      " |  __hash__(self, /)\n",
      " |      Return hash(self).\n",
      " |  \n",
      " |  __int__(self, /)\n",
      " |      int(self)\n",
      " |  \n",
      " |  __le__(self, value, /)\n",
      " |      Return self<=value.\n",
      " |  \n",
      " |  __lt__(self, value, /)\n",
      " |      Return self<value.\n",
      " |  \n",
      " |  __mod__(self, value, /)\n",
      " |      Return self%value.\n",
      " |  \n",
      " |  __mul__(self, value, /)\n",
      " |      Return self*value.\n",
      " |  \n",
      " |  __ne__(self, value, /)\n",
      " |      Return self!=value.\n",
      " |  \n",
      " |  __neg__(self, /)\n",
      " |      -self\n",
      " |  \n",
      " |  __pos__(self, /)\n",
      " |      +self\n",
      " |  \n",
      " |  __pow__(self, value, mod=None, /)\n",
      " |      Return pow(self, value, mod).\n",
      " |  \n",
      " |  __radd__(self, value, /)\n",
      " |      Return value+self.\n",
      " |  \n",
      " |  __rdivmod__(self, value, /)\n",
      " |      Return divmod(value, self).\n",
      " |  \n",
      " |  __reduce__(...)\n",
      " |      Helper for pickle.\n",
      " |  \n",
      " |  __repr__(self, /)\n",
      " |      Return repr(self).\n",
      " |  \n",
      " |  __rfloordiv__(self, value, /)\n",
      " |      Return value//self.\n",
      " |  \n",
      " |  __rmod__(self, value, /)\n",
      " |      Return value%self.\n",
      " |  \n",
      " |  __rmul__(self, value, /)\n",
      " |      Return value*self.\n",
      " |  \n",
      " |  __round__(...)\n",
      " |  \n",
      " |  __rpow__(self, value, mod=None, /)\n",
      " |      Return pow(value, self, mod).\n",
      " |  \n",
      " |  __rsub__(self, value, /)\n",
      " |      Return value-self.\n",
      " |  \n",
      " |  __rtruediv__(self, value, /)\n",
      " |      Return value/self.\n",
      " |  \n",
      " |  __sizeof__(...)\n",
      " |      Size of object in memory, in bytes.\n",
      " |  \n",
      " |  __str__(self, /)\n",
      " |      Return str(self).\n",
      " |  \n",
      " |  __sub__(self, value, /)\n",
      " |      Return self-value.\n",
      " |  \n",
      " |  __truediv__(self, value, /)\n",
      " |      Return self/value.\n",
      " |  \n",
      " |  __trunc__(...)\n",
      " |  \n",
      " |  adjusted(self, /)\n",
      " |      Return the adjusted exponent of the number.  Defined as exp + digits - 1.\n",
      " |  \n",
      " |  as_integer_ratio(self, /)\n",
      " |      Decimal.as_integer_ratio() -> (int, int)\n",
      " |      \n",
      " |      Return a pair of integers, whose ratio is exactly equal to the original\n",
      " |      Decimal and with a positive denominator. The ratio is in lowest terms.\n",
      " |      Raise OverflowError on infinities and a ValueError on NaNs.\n",
      " |  \n",
      " |  as_tuple(self, /)\n",
      " |      Return a tuple representation of the number.\n",
      " |  \n",
      " |  canonical(self, /)\n",
      " |      Return the canonical encoding of the argument.  Currently, the encoding\n",
      " |      of a Decimal instance is always canonical, so this operation returns its\n",
      " |      argument unchanged.\n",
      " |  \n",
      " |  compare(self, /, other, context=None)\n",
      " |      Compare self to other.  Return a decimal value:\n",
      " |      \n",
      " |      a or b is a NaN ==> Decimal('NaN')\n",
      " |      a < b           ==> Decimal('-1')\n",
      " |      a == b          ==> Decimal('0')\n",
      " |      a > b           ==> Decimal('1')\n",
      " |  \n",
      " |  compare_signal(self, /, other, context=None)\n",
      " |      Identical to compare, except that all NaNs signal.\n",
      " |  \n",
      " |  compare_total(self, /, other, context=None)\n",
      " |      Compare two operands using their abstract representation rather than\n",
      " |      their numerical value.  Similar to the compare() method, but the result\n",
      " |      gives a total ordering on Decimal instances.  Two Decimal instances with\n",
      " |      the same numeric value but different representations compare unequal\n",
      " |      in this ordering:\n",
      " |      \n",
      " |          >>> Decimal('12.0').compare_total(Decimal('12'))\n",
      " |          Decimal('-1')\n",
      " |      \n",
      " |      Quiet and signaling NaNs are also included in the total ordering. The result\n",
      " |      of this function is Decimal('0') if both operands have the same representation,\n",
      " |      Decimal('-1') if the first operand is lower in the total order than the second,\n",
      " |      and Decimal('1') if the first operand is higher in the total order than the\n",
      " |      second operand. See the specification for details of the total order.\n",
      " |      \n",
      " |      This operation is unaffected by context and is quiet: no flags are changed\n",
      " |      and no rounding is performed. As an exception, the C version may raise\n",
      " |      InvalidOperation if the second operand cannot be converted exactly.\n",
      " |  \n",
      " |  compare_total_mag(self, /, other, context=None)\n",
      " |      Compare two operands using their abstract representation rather than their\n",
      " |      value as in compare_total(), but ignoring the sign of each operand.\n",
      " |      \n",
      " |      x.compare_total_mag(y) is equivalent to x.copy_abs().compare_total(y.copy_abs()).\n",
      " |      \n",
      " |      This operation is unaffected by context and is quiet: no flags are changed\n",
      " |      and no rounding is performed. As an exception, the C version may raise\n",
      " |      InvalidOperation if the second operand cannot be converted exactly.\n",
      " |  \n",
      " |  conjugate(self, /)\n",
      " |      Return self.\n",
      " |  \n",
      " |  copy_abs(self, /)\n",
      " |      Return the absolute value of the argument.  This operation is unaffected by\n",
      " |      context and is quiet: no flags are changed and no rounding is performed.\n",
      " |  \n",
      " |  copy_negate(self, /)\n",
      " |      Return the negation of the argument.  This operation is unaffected by context\n",
      " |      and is quiet: no flags are changed and no rounding is performed.\n",
      " |  \n",
      " |  copy_sign(self, /, other, context=None)\n",
      " |      Return a copy of the first operand with the sign set to be the same as the\n",
      " |      sign of the second operand. For example:\n",
      " |      \n",
      " |          >>> Decimal('2.3').copy_sign(Decimal('-1.5'))\n",
      " |          Decimal('-2.3')\n",
      " |      \n",
      " |      This operation is unaffected by context and is quiet: no flags are changed\n",
      " |      and no rounding is performed. As an exception, the C version may raise\n",
      " |      InvalidOperation if the second operand cannot be converted exactly.\n",
      " |  \n",
      " |  exp(self, /, context=None)\n",
      " |      Return the value of the (natural) exponential function e**x at the given\n",
      " |      number.  The function always uses the ROUND_HALF_EVEN mode and the result\n",
      " |      is correctly rounded.\n",
      " |  \n",
      " |  fma(self, /, other, third, context=None)\n",
      " |      Fused multiply-add.  Return self*other+third with no rounding of the\n",
      " |      intermediate product self*other.\n",
      " |      \n",
      " |          >>> Decimal(2).fma(3, 5)\n",
      " |          Decimal('11')\n",
      " |  \n",
      " |  is_canonical(self, /)\n",
      " |      Return True if the argument is canonical and False otherwise.  Currently,\n",
      " |      a Decimal instance is always canonical, so this operation always returns\n",
      " |      True.\n",
      " |  \n",
      " |  is_finite(self, /)\n",
      " |      Return True if the argument is a finite number, and False if the argument\n",
      " |      is infinite or a NaN.\n",
      " |  \n",
      " |  is_infinite(self, /)\n",
      " |      Return True if the argument is either positive or negative infinity and\n",
      " |      False otherwise.\n",
      " |  \n",
      " |  is_nan(self, /)\n",
      " |      Return True if the argument is a (quiet or signaling) NaN and False\n",
      " |      otherwise.\n",
      " |  \n",
      " |  is_normal(self, /, context=None)\n",
      " |      Return True if the argument is a normal finite non-zero number with an\n",
      " |      adjusted exponent greater than or equal to Emin. Return False if the\n",
      " |      argument is zero, subnormal, infinite or a NaN.\n",
      " |  \n",
      " |  is_qnan(self, /)\n",
      " |      Return True if the argument is a quiet NaN, and False otherwise.\n",
      " |  \n",
      " |  is_signed(self, /)\n",
      " |      Return True if the argument has a negative sign and False otherwise.\n",
      " |      Note that both zeros and NaNs can carry signs.\n",
      " |  \n",
      " |  is_snan(self, /)\n",
      " |      Return True if the argument is a signaling NaN and False otherwise.\n",
      " |  \n",
      " |  is_subnormal(self, /, context=None)\n",
      " |      Return True if the argument is subnormal, and False otherwise. A number is\n",
      " |      subnormal if it is non-zero, finite, and has an adjusted exponent less\n",
      " |      than Emin.\n",
      " |  \n",
      " |  is_zero(self, /)\n",
      " |      Return True if the argument is a (positive or negative) zero and False\n",
      " |      otherwise.\n",
      " |  \n",
      " |  ln(self, /, context=None)\n",
      " |      Return the natural (base e) logarithm of the operand. The function always\n",
      " |      uses the ROUND_HALF_EVEN mode and the result is correctly rounded.\n",
      " |  \n",
      " |  log10(self, /, context=None)\n",
      " |      Return the base ten logarithm of the operand. The function always uses the\n",
      " |      ROUND_HALF_EVEN mode and the result is correctly rounded.\n",
      " |  \n",
      " |  logb(self, /, context=None)\n",
      " |      For a non-zero number, return the adjusted exponent of the operand as a\n",
      " |      Decimal instance.  If the operand is a zero, then Decimal('-Infinity') is\n",
      " |      returned and the DivisionByZero condition is raised. If the operand is\n",
      " |      an infinity then Decimal('Infinity') is returned.\n",
      " |  \n",
      " |  logical_and(self, /, other, context=None)\n",
      " |      Return the digit-wise 'and' of the two (logical) operands.\n",
      " |  \n",
      " |  logical_invert(self, /, context=None)\n",
      " |      Return the digit-wise inversion of the (logical) operand.\n",
      " |  \n",
      " |  logical_or(self, /, other, context=None)\n",
      " |      Return the digit-wise 'or' of the two (logical) operands.\n",
      " |  \n",
      " |  logical_xor(self, /, other, context=None)\n",
      " |      Return the digit-wise 'exclusive or' of the two (logical) operands.\n",
      " |  \n",
      " |  max(self, /, other, context=None)\n",
      " |      Maximum of self and other.  If one operand is a quiet NaN and the other is\n",
      " |      numeric, the numeric operand is returned.\n",
      " |  \n",
      " |  max_mag(self, /, other, context=None)\n",
      " |      Similar to the max() method, but the comparison is done using the absolute\n",
      " |      values of the operands.\n",
      " |  \n",
      " |  min(self, /, other, context=None)\n",
      " |      Minimum of self and other. If one operand is a quiet NaN and the other is\n",
      " |      numeric, the numeric operand is returned.\n",
      " |  \n",
      " |  min_mag(self, /, other, context=None)\n",
      " |      Similar to the min() method, but the comparison is done using the absolute\n",
      " |      values of the operands.\n",
      " |  \n",
      " |  next_minus(self, /, context=None)\n",
      " |      Return the largest number representable in the given context (or in the\n",
      " |      current default context if no context is given) that is smaller than the\n",
      " |      given operand.\n",
      " |  \n",
      " |  next_plus(self, /, context=None)\n",
      " |      Return the smallest number representable in the given context (or in the\n",
      " |      current default context if no context is given) that is larger than the\n",
      " |      given operand.\n",
      " |  \n",
      " |  next_toward(self, /, other, context=None)\n",
      " |      If the two operands are unequal, return the number closest to the first\n",
      " |      operand in the direction of the second operand.  If both operands are\n",
      " |      numerically equal, return a copy of the first operand with the sign set\n",
      " |      to be the same as the sign of the second operand.\n",
      " |  \n",
      " |  normalize(self, /, context=None)\n",
      " |      Normalize the number by stripping the rightmost trailing zeros and\n",
      " |      converting any result equal to Decimal('0') to Decimal('0e0').  Used\n",
      " |      for producing canonical values for members of an equivalence class.\n",
      " |      For example, Decimal('32.100') and Decimal('0.321000e+2') both normalize\n",
      " |      to the equivalent value Decimal('32.1').\n",
      " |  \n",
      " |  number_class(self, /, context=None)\n",
      " |      Return a string describing the class of the operand.  The returned value\n",
      " |      is one of the following ten strings:\n",
      " |      \n",
      " |          * '-Infinity', indicating that the operand is negative infinity.\n",
      " |          * '-Normal', indicating that the operand is a negative normal number.\n",
      " |          * '-Subnormal', indicating that the operand is negative and subnormal.\n",
      " |          * '-Zero', indicating that the operand is a negative zero.\n",
      " |          * '+Zero', indicating that the operand is a positive zero.\n",
      " |          * '+Subnormal', indicating that the operand is positive and subnormal.\n",
      " |          * '+Normal', indicating that the operand is a positive normal number.\n",
      " |          * '+Infinity', indicating that the operand is positive infinity.\n",
      " |          * 'NaN', indicating that the operand is a quiet NaN (Not a Number).\n",
      " |          * 'sNaN', indicating that the operand is a signaling NaN.\n",
      " |  \n",
      " |  quantize(self, /, exp, rounding=None, context=None)\n",
      " |      Return a value equal to the first operand after rounding and having the\n",
      " |      exponent of the second operand.\n",
      " |      \n",
      " |          >>> Decimal('1.41421356').quantize(Decimal('1.000'))\n",
      " |          Decimal('1.414')\n",
      " |      \n",
      " |      Unlike other operations, if the length of the coefficient after the quantize\n",
      " |      operation would be greater than precision, then an InvalidOperation is signaled.\n",
      " |      This guarantees that, unless there is an error condition, the quantized exponent\n",
      " |      is always equal to that of the right-hand operand.\n",
      " |      \n",
      " |      Also unlike other operations, quantize never signals Underflow, even if the\n",
      " |      result is subnormal and inexact.\n",
      " |      \n",
      " |      If the exponent of the second operand is larger than that of the first, then\n",
      " |      rounding may be necessary. In this case, the rounding mode is determined by the\n",
      " |      rounding argument if given, else by the given context argument; if neither\n",
      " |      argument is given, the rounding mode of the current thread's context is used.\n",
      " |  \n",
      " |  radix(self, /)\n",
      " |      Return Decimal(10), the radix (base) in which the Decimal class does\n",
      " |      all its arithmetic. Included for compatibility with the specification.\n",
      " |  \n",
      " |  remainder_near(self, /, other, context=None)\n",
      " |      Return the remainder from dividing self by other.  This differs from\n",
      " |      self % other in that the sign of the remainder is chosen so as to minimize\n",
      " |      its absolute value. More precisely, the return value is self - n * other\n",
      " |      where n is the integer nearest to the exact value of self / other, and\n",
      " |      if two integers are equally near then the even one is chosen.\n",
      " |      \n",
      " |      If the result is zero then its sign will be the sign of self.\n",
      " |  \n",
      " |  rotate(self, /, other, context=None)\n",
      " |      Return the result of rotating the digits of the first operand by an amount\n",
      " |      specified by the second operand.  The second operand must be an integer in\n",
      " |      the range -precision through precision. The absolute value of the second\n",
      " |      operand gives the number of places to rotate. If the second operand is\n",
      " |      positive then rotation is to the left; otherwise rotation is to the right.\n",
      " |      The coefficient of the first operand is padded on the left with zeros to\n",
      " |      length precision if necessary. The sign and exponent of the first operand are\n",
      " |      unchanged.\n",
      " |  \n",
      " |  same_quantum(self, /, other, context=None)\n",
      " |      Test whether self and other have the same exponent or whether both are NaN.\n",
      " |      \n",
      " |      This operation is unaffected by context and is quiet: no flags are changed\n",
      " |      and no rounding is performed. As an exception, the C version may raise\n",
      " |      InvalidOperation if the second operand cannot be converted exactly.\n",
      " |  \n",
      " |  scaleb(self, /, other, context=None)\n",
      " |      Return the first operand with the exponent adjusted the second.  Equivalently,\n",
      " |      return the first operand multiplied by 10**other. The second operand must be\n",
      " |      an integer.\n",
      " |  \n",
      " |  shift(self, /, other, context=None)\n",
      " |      Return the result of shifting the digits of the first operand by an amount\n",
      " |      specified by the second operand.  The second operand must be an integer in\n",
      " |      the range -precision through precision. The absolute value of the second\n",
      " |      operand gives the number of places to shift. If the second operand is\n",
      " |      positive, then the shift is to the left; otherwise the shift is to the\n",
      " |      right. Digits shifted into the coefficient are zeros. The sign and exponent\n",
      " |      of the first operand are unchanged.\n",
      " |  \n",
      " |  sqrt(self, /, context=None)\n",
      " |      Return the square root of the argument to full precision. The result is\n",
      " |      correctly rounded using the ROUND_HALF_EVEN rounding mode.\n",
      " |  \n",
      " |  to_eng_string(self, /, context=None)\n",
      " |      Convert to an engineering-type string.  Engineering notation has an exponent\n",
      " |      which is a multiple of 3, so there are up to 3 digits left of the decimal\n",
      " |      place. For example, Decimal('123E+1') is converted to Decimal('1.23E+3').\n",
      " |      \n",
      " |      The value of context.capitals determines whether the exponent sign is lower\n",
      " |      or upper case. Otherwise, the context does not affect the operation.\n",
      " |  \n",
      " |  to_integral(self, /, rounding=None, context=None)\n",
      " |      Identical to the to_integral_value() method.  The to_integral() name has been\n",
      " |      kept for compatibility with older versions.\n",
      " |  \n",
      " |  to_integral_exact(self, /, rounding=None, context=None)\n",
      " |      Round to the nearest integer, signaling Inexact or Rounded as appropriate if\n",
      " |      rounding occurs.  The rounding mode is determined by the rounding parameter\n",
      " |      if given, else by the given context. If neither parameter is given, then the\n",
      " |      rounding mode of the current default context is used.\n",
      " |  \n",
      " |  to_integral_value(self, /, rounding=None, context=None)\n",
      " |      Round to the nearest integer without signaling Inexact or Rounded.  The\n",
      " |      rounding mode is determined by the rounding parameter if given, else by\n",
      " |      the given context. If neither parameter is given, then the rounding mode\n",
      " |      of the current default context is used.\n",
      " |  \n",
      " |  ----------------------------------------------------------------------\n",
      " |  Class methods defined here:\n",
      " |  \n",
      " |  from_float(f, /) from builtins.type\n",
      " |      Class method that converts a float to a decimal number, exactly.\n",
      " |      Since 0.1 is not exactly representable in binary floating point,\n",
      " |      Decimal.from_float(0.1) is not the same as Decimal('0.1').\n",
      " |      \n",
      " |          >>> Decimal.from_float(0.1)\n",
      " |          Decimal('0.1000000000000000055511151231257827021181583404541015625')\n",
      " |          >>> Decimal.from_float(float('nan'))\n",
      " |          Decimal('NaN')\n",
      " |          >>> Decimal.from_float(float('inf'))\n",
      " |          Decimal('Infinity')\n",
      " |          >>> Decimal.from_float(float('-inf'))\n",
      " |          Decimal('-Infinity')\n",
      " |  \n",
      " |  ----------------------------------------------------------------------\n",
      " |  Static methods defined here:\n",
      " |  \n",
      " |  __new__(*args, **kwargs) from builtins.type\n",
      " |      Create and return a new object.  See help(type) for accurate signature.\n",
      " |  \n",
      " |  ----------------------------------------------------------------------\n",
      " |  Data descriptors defined here:\n",
      " |  \n",
      " |  imag\n",
      " |  \n",
      " |  real\n",
      "\n"
     ]
    }
   ],
   "source": [
    "help(Decimal)"
   ]
  },
  {
   "cell_type": "markdown",
   "metadata": {},
   "source": [
    "# 程序结构\n",
    "顺序，循环，分支\n"
   ]
  },
  {
   "cell_type": "code",
   "execution_count": 3,
   "metadata": {},
   "outputs": [
    {
     "name": "stdout",
     "output_type": "stream",
     "text": [
      "13\n",
      "<class 'tuple'>\n"
     ]
    }
   ],
   "source": [
    "def default_para(x,y,z=10):\n",
    "    print(x + y + z)\n",
    "    return None\n",
    "default_para(2,3,8)\n",
    "td = 100,\n",
    "print(type(td))"
   ]
  },
  {
   "cell_type": "markdown",
   "metadata": {},
   "source": [
    "##  变量作用域\n",
    "- 分类：按照作用域分类\n",
    "    - 全局（global):在函数外部定义\n",
    "    - 局部（local）：在函数内部定义\n",
    "- 变量的作用范围\n",
    "    - 全局变量：整个全局范围都有效，语法：global var\n",
    "    - 局部变量：局部范围使用\n",
    "# globals，locals函数\n",
    "- 可以通过globals函数和locals函数显示出局部变量和全局变量\n",
    "- 参看以下案例\n"
   ]
  },
  {
   "cell_type": "code",
   "execution_count": 17,
   "metadata": {},
   "outputs": [],
   "source": [
    "a = 1\n",
    "def fun(c):\n",
    "    b = 11\n",
    "    print(\"局部变量为{0}\".format(locals()))\n",
    "    print(\"全局变量为{0}\".format(globals()))\n",
    "    \n",
    "#fun(10)"
   ]
  },
  {
   "cell_type": "markdown",
   "metadata": {},
   "source": [
    "# python 中的可变对象和不可变对象\n",
    "- 不可变对象：对象所指向的内存中的值不能被改变，当对变量重新赋值的时候，原来指向的内存中的值不变，变量不再指向原来的值，而是开辟新的内存保存新的值。而原来的值由于不用而被当成垃圾回收\n",
    "- 可变对象：对象指向的内存中的值会改变，当给变量重新赋值的时候，变量还是指向原来的内存，并没有开辟新的内存。所以原来的值会发生改变\n",
    "    - 分类;\n",
    "        - 可变对象：列表list，字典dict，集合set\n",
    "        - 不可变对象：数值类型（int，float等），字符串str，元祖\n",
    "- 注意：无论是可变对象还是不可变对象，当直接赋值给新的变量的时候，地址不会发生改变。而对新变量的操作才会影响其地址最终是否发生改变\n",
    "- 参看以下案例\n",
    "- 可变对象可以通过拷贝来进行改变\n",
    "    - 深拷贝：import copy\n",
    "     b = copy.deepcopy(a)\n",
    "    - 浅拷贝：直接a = b.copy(),当遇到嵌套列表的时候，地址就不会改变了\n",
    "    \n",
    "# 可哈希数据与不可哈希数据\n",
    "- 可哈希数据：不可变的数据结构：tuple,string,int，类似于不可变对象\n",
    "- 不可哈希数据：可变得数据结构：list,dictionary,set，类似于可变对象\n",
    "- 何谓哈希：\n",
    "    - 它是一个将大体量数据转化为很小数据的过程，甚至可以仅仅是一个数字，以便我们可以用在固定的时间复杂度下查询它，所以，哈希对高效的算法和数据结构很重要。"
   ]
  },
  {
   "cell_type": "code",
   "execution_count": 16,
   "metadata": {},
   "outputs": [
    {
     "name": "stdout",
     "output_type": "stream",
     "text": [
      "这是原地址： 1985420949064\n",
      "这是部分切片后的地址： 1985420772808\n",
      "这是全切后的地址: 1985418282504\n",
      "这是直接赋值后的地址： 1985420949064\n",
      "[2, 45, 'haha', 6, 9]\n",
      "[2, 45, 'haha', 6, 9]\n",
      "===============\n",
      "1985420772872 1985420772872\n",
      "1985420772872\n",
      "1985420772872\n",
      "[13, 32, 35] [13, 32, 35, 3]\n"
     ]
    }
   ],
   "source": [
    "# 可变对象:列表举例\n",
    "l = [2,45,5,6,9]\n",
    "# 无论是部分切片还是完全切片地址都会发生改变\n",
    "# 直接赋值地址不会发生改变\n",
    "l1 = l[:3]\n",
    "l2 = l[:]\n",
    "l3 = l\n",
    "print(\"这是原地址：\", id(l))\n",
    "print(\"这是部分切片后的地址：\", id(l1))\n",
    "print(\"这是全切后的地址:\", id(l2))\n",
    "print(\"这是直接赋值后的地址：\", id(l3))\n",
    "\n",
    "# 若直接赋值后对新的列表进行更改，则原列表也会发生改变\n",
    "l3[2] = \"haha\"\n",
    "print(l3)\n",
    "print(l)\n",
    "\n",
    "# 注意以下例子\n",
    "print(\"===============\")\n",
    "a1 = [1,2,3]\n",
    "a2 = a1\n",
    "print(id(a1),id(a2))\n",
    "a2 += [4] #相当于a2.extend(4),所以地址不会发生改变\n",
    "print(id(a2))\n",
    "print(id(a1))\n",
    "# 深度拷贝\n",
    "import copy\n",
    "a = [13,32,35]\n",
    "b = copy.deepcopy(a)\n",
    "b.extend([3])\n",
    "print(a,b)"
   ]
  },
  {
   "cell_type": "code",
   "execution_count": 7,
   "metadata": {},
   "outputs": [
    {
     "name": "stdout",
     "output_type": "stream",
     "text": [
      "这是原地址： 1985419823768\n",
      "这是部分切片后的地址： 1985421017024\n",
      "这是全切后的地址: 1985419823768\n",
      "这是直接赋值后的地址： 1985419823768\n"
     ]
    }
   ],
   "source": [
    "# 不可变对象:元祖举例\n",
    "t = (2,5,6,9,6)\n",
    "t1 = t[:3]\n",
    "# 完全切片和直接赋值对象的地址都不会发生改变\n",
    "t2 = t[:]\n",
    "t3 = t\n",
    "print(\"这是原地址：\", id(t))\n",
    "print(\"这是部分切片后的地址：\", id(t1))\n",
    "print(\"这是全切后的地址:\", id(t2))\n",
    "print(\"这是直接赋值后的地址：\", id(t3))"
   ]
  },
  {
   "cell_type": "code",
   "execution_count": 24,
   "metadata": {},
   "outputs": [
    {
     "name": "stdout",
     "output_type": "stream",
     "text": [
      "这是原地址： 1985421582064\n",
      "这是部分切片后的地址： 1985418271352\n",
      "这是全切后的地址: 1985421582064\n",
      "Iresentyousomuch\n",
      "1985421665888\n",
      "1985421582064\n"
     ]
    }
   ],
   "source": [
    "s = \"Iloveyousomuch\"\n",
    "s1 = s[:5]\n",
    "s2 = s[:]\n",
    "print(\"这是原地址：\", id(s))\n",
    "print(\"这是部分切片后的地址：\", id(s1))\n",
    "print(\"这是全切后的地址:\", id(s2))\n",
    "s3 = s2.replace(\"love\",\"resent\")\n",
    "print(s3)\n",
    "print(id(s3))\n",
    "print(id(s2))"
   ]
  },
  {
   "cell_type": "code",
   "execution_count": 88,
   "metadata": {},
   "outputs": [
    {
     "name": "stdout",
     "output_type": "stream",
     "text": [
      "2733582390024\n",
      "2733582476680\n",
      "2733580945160\n",
      "2733580945160\n",
      "[1, 2, 3, [45, 100, 5]]\n",
      "[1, 2, 3, [45, 100, 5]]\n",
      "2733582340808\n",
      "2733582343240\n",
      "2733582342088\n",
      "2733582475336\n",
      "[1, 2, 3, [45, 100, 5]]\n",
      "[1, 2, 3, [45, 56, 5]]\n"
     ]
    }
   ],
   "source": [
    "# 浅拷贝举例：\n",
    "a = [1,2,3,[45,56,5]]\n",
    "b = a.copy()\n",
    "print(id(a))\n",
    "print(id(b))\n",
    "print(id(a[3]))\n",
    "print(id(b[3]))\n",
    "a[3][1] = 100\n",
    "print(a)\n",
    "print(b)\n",
    "# 深拷贝\n",
    "import copy \n",
    "a = [1,2,3,[45,56,5]]\n",
    "b = copy.deepcopy(a)\n",
    "print(id(a))\n",
    "print(id(b))\n",
    "print(id(a[3]))\n",
    "print(id(b[3]))\n",
    "a[3][1] = 100\n",
    "print(a)\n",
    "print(b)"
   ]
  },
  {
   "cell_type": "markdown",
   "metadata": {},
   "source": [
    "# 集合Set()：无序\n",
    "- 创建：可用大括号，但括号内必须有值，否则创建的就是字典，内部只可存放可哈希数据\n",
    "- a.add(var):添加元素\n",
    "- 删除元素\n",
    "    - a.remove(var):删除指定元素的值，若删除的元素不存在，则报错\n",
    "    - a.discard(var):也是删除指定元素的值，若删除的元素不存在，不报错\n",
    "    - a.clear():清楚元素\n",
    "    - a.pop()是删除随机的一个元素,而remover和clear以及del和列表一样\n",
    "- 拷贝：copy\n",
    "\n",
    "- 集合的交集、并集、差集、对称差集（即交集的补集）\n",
    "  -  &， | , -， ^\n",
    "  - 另外的方法：a.intersection(b),union, difference\n",
    "  - 从集合中删除另一个集合中存在的元素：a.difference_update(b)\n",
    "  - 删除集合a中所有不属于集合b的元素 :a.intersection_update(b)\n",
    "  - 是否存在交集：a.isdisjoint(b)\n",
    "  - 添加属于b但不属于a的元素：a.update(b)\n",
    "- issuperset,询问某某是否是某某的父集\n",
    "- issubset,询问某某是否是某某的子集\n",
    "\n",
    "\n",
    "\n",
    "\n",
    "# 列表\n",
    "- 可以相加和相乘（重复元素）：+，*\n",
    "- 列表也可以求交集，并集和差集,将其转化成集合再求交集并集等\n",
    "- 列表添加元素\n",
    "    - append:只能一个一个的加\n",
    "    - extend：直接把一个列表拼接到另一个后面\n",
    "    - insert(插入位置，插入值)：插入元素\n",
    "- 删除元素；\n",
    "    - del: del var删除指定位置的元素\n",
    "    - pop: a;pop()删除最后一个元素\n",
    "    - remove: a.remove(var)删除指定元素的值，若要删除的值不存在，则会报错，所以使用remove时先判断。使用过后内存地址不变\n",
    "    - clear：清空元素,a.clear()，使用过后内存地址不变\n",
    "- 反转：reverse,反转后内存地址不变，说明是原物反转\n",
    "- a.count(var):计算列表中某个元素的个数\n",
    "    \n",
    "# 元祖\n",
    "- 对于元祖来说，删除只能使用del，且删除整个\n",
    "- 元祖可以相加和相乘\n",
    "- 创建只含一个元素的元祖，必须加个逗号\n",
    "- len()：计算元祖的长度，列表也行\n"
   ]
  },
  {
   "cell_type": "code",
   "execution_count": 99,
   "metadata": {},
   "outputs": [
    {
     "name": "stdout",
     "output_type": "stream",
     "text": [
      "True\n",
      "True\n",
      "[4, 5, 6]\n",
      "[1, 2, 3, 4]\n",
      "============\n",
      "[1, 2, 3, 4, [3, 35, 23]]\n",
      "==============\n",
      "[1, 2, 3, 4, [3, 35, 23], 4, 5, 7]\n",
      "===========\n",
      "[1, 2, 4, [3, 35, 23], 4, 5, 7]\n",
      "[1, 2, 4, [3, 35, 23], 4, 5]\n",
      "[1, 2, [3, 35, 23], 4, 5]\n",
      "1\n",
      "5\n"
     ]
    }
   ],
   "source": [
    "li = [9,89,9,384,283,83,92,9,0,9]\n",
    "lw = list(range(0,11))\n",
    "sc = set(li)\n",
    "se = set(lw)\n",
    "sb = {i for i in sc if i % 2 == 0}\n",
    "\n",
    "print(sc.issuperset(sb))#询问sc是否是sb的父集\n",
    "print(sb.issubset(sc))#询问sb是否是sc的子集\n",
    "#列表求交集\n",
    "a = {1,2,3,4,5,6}\n",
    "b = {4,5,6,7,8,9}\n",
    "print(list(a.intersection(b)))\n",
    "# 列表操作函数\n",
    "c = [1,2,3]\n",
    "c.append(4)#append只能一个一个的加进去\n",
    "print(c)\n",
    "print(\"============\")\n",
    "c.append([3,35,23])\n",
    "print(c)\n",
    "print(\"==============\")\n",
    "c.extend([4,5,7])#一群加进去\n",
    "print(c)\n",
    "print(\"===========\")\n",
    "# 删除元素\n",
    "del c[2]\n",
    "print(c)\n",
    "\n",
    "c.pop()\n",
    "print(c)\n",
    "c.remove(4)\n",
    "print(c)\n",
    "print(c.count(4))\n",
    "print(len(c))"
   ]
  },
  {
   "cell_type": "code",
   "execution_count": 98,
   "metadata": {},
   "outputs": [
    {
     "name": "stdout",
     "output_type": "stream",
     "text": [
      "(36, 14, 0, 3, 4)\n",
      "(1, 36, 14, 0, 3, 4, 57, 98)\n",
      "2733582431904\n",
      "2733582431904\n",
      "(1,)\n",
      "1 + 2\n",
      "xiaoming + xiaohong\n",
      "xiao + xiha\n"
     ]
    }
   ],
   "source": [
    "# 元祖举例\n",
    "b = (1,36,14,0,3,4)\n",
    "a = (57,98)\n",
    "c = b[1:190] #切片超标不会报错\n",
    "print(c)\n",
    "print(b + a)\n",
    "# 创建一个元素的元祖\n",
    "a = (1,)\n",
    "a = 1,\n",
    "# \n",
    "d = a\n",
    "print(id(a))\n",
    "print(id(d))\n",
    "del a\n",
    "print(d)\n",
    "# 双层元祖的遍历：\n",
    "a = ((1,2),(\"xiaoming\",\"xiaohong\"),('xiao',\"xiha\"))\n",
    "for m,n in a:\n",
    "    print(m,'+',n)"
   ]
  },
  {
   "cell_type": "markdown",
   "metadata": {},
   "source": [
    "### 冰冻集合frozenset()\n",
    "- 不能修改集合或操作\n",
    "- 除了不能修改的特点，集合的特性他都有"
   ]
  },
  {
   "cell_type": "code",
   "execution_count": 100,
   "metadata": {},
   "outputs": [
    {
     "name": "stdout",
     "output_type": "stream",
     "text": [
      "frozenset({1, 2, 3, 4, 5, 6})\n"
     ]
    }
   ],
   "source": [
    "s = frozenset([1,2,3,3,4,5,6])\n",
    "#s.extend(4)  # 会报错\n",
    "print(s)"
   ]
  },
  {
   "cell_type": "markdown",
   "metadata": {},
   "source": [
    "# 字典\n",
    "- 创建\n",
    "    - d = {}\n",
    "    - d = dict{}\n",
    "    - d = {\"one\":1,\"two\":2, \"three\":3}\n",
    "    - d = dict({\"one\":1,\"two\":2, \"three\":3})\n",
    "    - d = dict(one=1, two=2,three=3)\n",
    "    - d = dict([(\"one\",1),(\"two\",2),(\"three\",3)])\n",
    "- 特征；\n",
    "    - 由键值对组成\n",
    "        - key：必须是可哈希的数据\n",
    "        - value：任何值\n",
    "- 删除：del\n",
    "- get：根据设定键值返回相应的值，好处是，若无这个键值，则返回None，不报错，d.get(key,若无键值返回的默认值)\n",
    "- fromkeys：使用指定的序列作为键值，然后使用一个值作为所有键值对应的value值.注意fromkeys的调用主体"
   ]
  },
  {
   "cell_type": "code",
   "execution_count": 6,
   "metadata": {},
   "outputs": [
    {
     "name": "stdout",
     "output_type": "stream",
     "text": [
      "{'one': 1, 'two': 2, 'three': 3}\n",
      "{'one': 1, 'two': 2, 'three': 3}\n",
      "{'one': 1, 'two': 2, 'three': 3}\n",
      "1\n",
      "None\n",
      "don't have this value\n",
      "{'a': 'happy', 'b': 'happy', 'c': 'happy'}\n",
      "{'a': None, 'b': None, 'c': None}\n",
      "{'a': 'happy', 'b': 'happy'}\n"
     ]
    }
   ],
   "source": [
    "# 字典的创建\n",
    "d = dict({\"one\":1,\"two\":2, \"three\":3})\n",
    "print(d)\n",
    "d = dict(one=1, two=2,three=3)\n",
    "print(d)\n",
    "d = dict([(\"one\",1),(\"two\",2),(\"three\",3)])\n",
    "print(d)\n",
    "# get的应用\n",
    "print(d.get(\"one\"))\n",
    "print(d.get(\"four\"))\n",
    "print(d.get(\"four\",\"don't have this value\"))\n",
    "# fromkeys\n",
    "k = ['a', 'b', 'c']\n",
    "d = dict.fromkeys(k,'happy')\n",
    "e = {}.fromkeys(k) # 当值为空的时候，每个键对应的值是None\n",
    "print(d)\n",
    "print(e)\n",
    "d.popitem() # 删除一个键值对，默认为最后一个\n",
    "print(d)"
   ]
  },
  {
   "cell_type": "code",
   "execution_count": 11,
   "metadata": {},
   "outputs": [
    {
     "name": "stdout",
     "output_type": "stream",
     "text": [
      "{'a': 'happy', 'b': 'happy', 'c': 'happy'}\n",
      "{'a': 'happy', 'b': 'happy'}\n",
      "('c', 'happy')\n"
     ]
    }
   ],
   "source": [
    "k = ['a', 'b', 'c']\n",
    "d = dict.fromkeys(k,'happy')\n",
    "print(d)\n",
    "a = d.popitem() #删除字典中末尾最后一个键值对，并返回一个二元祖\n",
    "print(d)\n",
    "print(a)"
   ]
  },
  {
   "cell_type": "code",
   "execution_count": 48,
   "metadata": {},
   "outputs": [
    {
     "name": "stdout",
     "output_type": "stream",
     "text": [
      "6\n",
      "5\n",
      "4\n",
      "3\n",
      "2\n",
      "1\n"
     ]
    },
    {
     "data": {
      "text/plain": [
       "720"
      ]
     },
     "execution_count": 48,
     "metadata": {},
     "output_type": "execute_result"
    }
   ],
   "source": [
    "def fun_a(n):\n",
    "    print(n)\n",
    "    if n == 1:\n",
    "        return 1\n",
    "    return n * fun_a(n - 1)\n",
    "fun_a(6)"
   ]
  },
  {
   "cell_type": "markdown",
   "metadata": {},
   "source": [
    "# 函数的参数\n",
    "- 位置参数\n",
    "    - 调用函数时，传入的值按照位置顺序传入的参数\n",
    "- 默认参数\n",
    "    - 就是在定义函数时，某些参数已经默认给赋值了，若不传入该参数则函数默认调用默认值，若传入该参数则替代原来的默认值\n",
    "    - 注意以下两点：\n",
    "        - 必选参数在前，默认参数在后\n",
    "        - 当有多个默认参数时，把可能改动的多的参数放在前面，改动的少的放在后面\n",
    "    - 默认参数有个很大的坑需要注意\n",
    "        - 定义默认参数要牢记一点：默认参数必须指向不变对象！否则会出问题\n",
    "- 可变参数\n",
    "    - 可变参数就是传入的参数个数是可变的,可以是任意个参数\n",
    "    - 在参数前加上*号，若参数是列表或者元组，*nums表示把nums这个list的所有元素作为可变参数传进去\n",
    "- 关键字参数\n",
    "    - 关键字参数允许你传入0个或任意个含参数名的参数，这些关键字参数在函数内部自动组装为一个dict\n",
    "- 命名关键字参数\n",
    "    - 果要限制关键字参数的名字，就可以用命名关键字参数\n",
    "    - 命名关键字参数需要一个特殊分隔符*，*后面的参数被视为命名关键字参数。\n",
    "    - 如果函数定义中已经有了一个可变参数，后面跟着的命名关键字参数就不再需要一个特殊分隔符*了：\n",
    "    - 命名关键字参数必须传入参数名，这和位置参数不同。如果没有传入参数名，调用将报错：\n",
    "    - 使用命名关键字参数时，要特别注意，如果没有可变参数，就必须加一个*作为特殊分隔符。如果缺少*，Python解释器将无法识别位置参数和命名关键字参数\n",
    "    \n",
    "# 参数组合\n",
    "    - 在Python中定义函数，可以用必选参数、默认参数、可变参数、关键字参数和命名关键字参数，这5种参数都可以组合使用。但是请注意，参数定义的顺序必须是：必选参数、默认参数、可变参数、命名关键字参数和关键字参数。"
   ]
  },
  {
   "cell_type": "code",
   "execution_count": 63,
   "metadata": {},
   "outputs": [
    {
     "name": "stdout",
     "output_type": "stream",
     "text": [
      "my name is xiaoming,I am from China\n",
      "my name is liutao,I am from GuiZhou\n",
      "[1, 3, 4, 'END']\n",
      "['x', 'y', 'z', 'END']\n",
      "['END', 'END', 'END', 'END']\n",
      "['END']\n"
     ]
    }
   ],
   "source": [
    "# 默认参数举例\n",
    "def saying(name, country=\"China\"):\n",
    "    print(\"my name is {},I am from {}\".format(name, country))\n",
    "saying(\"xiaoming\")\n",
    "saying(\"liutao\", \"GuiZhou\")\n",
    "\n",
    "# 默认参数的坑举例\n",
    "def adding(l=[]):\n",
    "    l.append(\"END\")\n",
    "    return l\n",
    "\n",
    "# 正常调用没事\n",
    "lst = adding([1, 3, 4])\n",
    "print(lst)\n",
    "ll = adding([\"x\", \"y\", \"z\"])\n",
    "print(ll)\n",
    "\n",
    "#但是不调用时问题出现了,因为[]是可变对象，所以每次调用该函数，如果改变了L的内容，则下次调用时，默认参数的内容就变了，不再是函数定义时的[]了\n",
    "adding()\n",
    "adding()\n",
    "adding()\n",
    "l = adding()\n",
    "print(l)\n",
    "\n",
    "# 改写\n",
    "def adding(l = None):\n",
    "    if l is None:\n",
    "        l = []\n",
    "    l.append(\"END\")\n",
    "    return l\n",
    "\n",
    "adding()\n",
    "adding()\n",
    "adding()\n",
    "l = adding()\n",
    "print(l)"
   ]
  },
  {
   "cell_type": "code",
   "execution_count": 69,
   "metadata": {},
   "outputs": [
    {
     "name": "stdout",
     "output_type": "stream",
     "text": [
      "7\n",
      "21\n",
      "0\n",
      "18\n"
     ]
    }
   ],
   "source": [
    "# 可变参数举例\n",
    "def suming(*args):\n",
    "    total = 0\n",
    "    for arg in args:\n",
    "        total += arg\n",
    "    return total\n",
    "\n",
    "a = suming(2, 5)\n",
    "print(a)\n",
    "b = suming(3, 5, 6, 7)\n",
    "print(b)\n",
    "c = suming()\n",
    "print(c)\n",
    "\n",
    "lst = [2, 5, 5, 6]\n",
    "d = suming(*lst)  #对于传入的参数时序列的话，必须要加上*号\n",
    "print(d)"
   ]
  },
  {
   "cell_type": "code",
   "execution_count": 77,
   "metadata": {},
   "outputs": [
    {
     "name": "stdout",
     "output_type": "stream",
     "text": [
      "name: litao age: 23 other: {'city': 'GuiZhou', 'height': 173}\n",
      "name: jiaojao age: 21 other: {}\n",
      "name: xiaoxiao age: 21 other: {'address': 'Chengdu', 'height': 158}\n"
     ]
    }
   ],
   "source": [
    "# 关键字参数\n",
    "def person(name, age, **kw):\n",
    "    print(\"name:\", name, \"age:\", age, \"other:\", kw)\n",
    "    \n",
    "other = {\"address\":\"Chengdu\", \"height\": 158}\n",
    "person(\"litao\", 23, city=\"GuiZhou\", height=173)\n",
    "person(\"jiaojao\", 21)\n",
    "person(\"xiaoxiao\", 21, **other)  #**other是对原来数据的一份拷贝，所以对kw的更改不会影响原来的数\n"
   ]
  },
  {
   "cell_type": "code",
   "execution_count": 83,
   "metadata": {},
   "outputs": [
    {
     "name": "stdout",
     "output_type": "stream",
     "text": [
      "liutao 23 Chengdu PlayingGames\n",
      "jiaojao 21 Chengdu WatchingMovie\n",
      "liutao-23-53kg-ChendDu Watching\n"
     ]
    }
   ],
   "source": [
    "# 命名关键字参数\n",
    "def person(name, age, *, address, hobby):\n",
    "    print(name, age, address, hobby)\n",
    "    \n",
    "# 此时就不能再任意传入关键字参数了，会报错\n",
    "#person(\"liutao\", 23, address=\"Chengdu\", hobby=\"PlayingGames\", height=173)\n",
    "person(\"liutao\", 23, address=\"Chengdu\", hobby=\"PlayingGames\")\n",
    "\n",
    "\n",
    "# 若设置默认参数，则可以不传入\n",
    "def person(name, age, *, address=\"Chengdu\", hobby):\n",
    "    print(name, age, address, hobby)  \n",
    "person(\"jiaojao\", 21, hobby=\"WatchingMovie\")\n",
    "\n",
    "# 若前面已经有可变参数，则无需加入*号\n",
    "def new_person(*args, address, hobby):\n",
    "    for arg in args:\n",
    "        print(arg, end=\"-\")\n",
    "    print(address, hobby)\n",
    "new_person(\"liutao\", 23, \"53kg\", address=\"ChendDu\", hobby=\"Watching\")"
   ]
  },
  {
   "cell_type": "markdown",
   "metadata": {},
   "source": [
    "# 递归函数\n",
    "- 直接或间接调用自身\n",
    "- 缺点：对递归深度有限制，消耗资源大，Python对递归超过深度会报错\n",
    "- 递归函数必须有结束条件\n",
    "- 解决递归调用栈溢出def方法：\n",
    "    - 第一种：更改递归深度\n",
    "        - sys.getrecursionlimit()得到最大的递归深度\n",
    "        - 如果希望修改递归深度，可以通过sys.setrecursionlimit(num)来设定递归深度的值为num\n",
    "    - 第二种：尾递归优化\n",
    "        - 在函数返回的时候，调用自身本身，并且，return语句不能包含表达式。这样，编译器或者解释器就可以把尾递归做优化，使递归本身无论调用多少次，都只占用一个栈帧，不会出现栈溢出的情况。\n",
    "    \n",
    "    \n",
    "# 汉诺塔\n",
    "- 递归函数应用\n"
   ]
  },
  {
   "cell_type": "code",
   "execution_count": 111,
   "metadata": {},
   "outputs": [
    {
     "name": "stdout",
     "output_type": "stream",
     "text": [
      "A --> C\n",
      "=========\n",
      "A --> B\n",
      "A --> C\n",
      "B --> C\n",
      "==========\n",
      "A --> C\n",
      "A --> B\n",
      "C --> B\n",
      "A --> C\n",
      "B --> A\n",
      "B --> C\n",
      "A --> C\n"
     ]
    }
   ],
   "source": [
    "# 汉诺塔\n",
    "def hannuo(a, b, c, n):\n",
    "    if n == 1:\n",
    "        print(\"{} --> {}\".format(a,c))\n",
    "    if n == 2:\n",
    "        print(\"{} --> {}\".format(a,b))\n",
    "        print(\"{} --> {}\".format(a,c))\n",
    "        print(\"{} --> {}\".format(b,c))\n",
    "    if n > 2:\n",
    "        hannuo(a,c,b,n-1) # a通过c把n-1个盘子放到b上，至于怎么放不管\n",
    "        print(\"{} --> {}\".format(a,c)) # 把最大的盘子放到c上\n",
    "        hannuo(b,a,c,n-1) # 最后一步，b通过a把n-1个盘子放到c上，至于怎么放不管\n",
    "\n",
    "a = \"A\"\n",
    "b = \"B\"\n",
    "c = \"C\"\n",
    "hannuo(a,b,c,1)\n",
    "print(\"=========\")\n",
    "hannuo(a,b,c,2)\n",
    "print(\"==========\")\n",
    "hannuo(a,b,c,3)"
   ]
  },
  {
   "cell_type": "code",
   "execution_count": 20,
   "metadata": {},
   "outputs": [
    {
     "name": "stdout",
     "output_type": "stream",
     "text": [
      "1\n",
      "1\n",
      "2\n",
      "3\n",
      "5\n",
      "8\n",
      "13\n",
      "21\n",
      "34\n",
      "55\n",
      "89\n"
     ]
    }
   ],
   "source": [
    "# 简单写法实现斐波那契数列\n",
    "import sys\n",
    "\n",
    "def fib(num):\n",
    "    a = 0\n",
    "    b = 1\n",
    "    i = 0\n",
    "    for i in range(num):\n",
    "        a, b = b, a+b\n",
    "        print(a)\n",
    "    return b\n",
    "\n",
    "f = fib(10)\n",
    "print(f)"
   ]
  },
  {
   "cell_type": "code",
   "execution_count": 3,
   "metadata": {},
   "outputs": [
    {
     "name": "stdout",
     "output_type": "stream",
     "text": [
      "1\n",
      "1\n",
      "2\n",
      "3\n",
      "5\n"
     ]
    },
    {
     "data": {
      "text/plain": [
       "<generator object gen_fib at 0x000001D820FA1B10>"
      ]
     },
     "execution_count": 3,
     "metadata": {},
     "output_type": "execute_result"
    }
   ],
   "source": [
    "# 使用生成器实现斐波那契数列\n",
    "def gen_fib(num):\n",
    "    i, a, b = 0, 0, 1\n",
    "    while i < num:\n",
    "        a, b = b, a+b\n",
    "        yield a\n",
    "        i += 1\n",
    "    return \"Done\"\n",
    "g = gen_fib(5)\n",
    "\n",
    "# 生成器一般不用next去获取值，直接用for循环\n",
    "for i in g:\n",
    "    print(i)\n",
    "gen_fib(5)"
   ]
  },
  {
   "cell_type": "code",
   "execution_count": 4,
   "metadata": {},
   "outputs": [
    {
     "name": "stdout",
     "output_type": "stream",
     "text": [
      "True\n",
      "True\n",
      "True\n",
      "False\n"
     ]
    }
   ],
   "source": [
    "# 判断一个对象是否是生成器\n",
    "from collections.abc import Iterable\n",
    "from collections.abc import Iterator\n",
    "\n",
    "g = (i for i in range(3))\n",
    "print(isinstance(g, Iterable))   #是否可迭代\n",
    "print(isinstance(g, Iterator))  #是否是迭代器：既要满足可迭代，也要可以用next调用\n",
    "                                #Iterator表示的是一个数据流\n",
    "l = [3, 5]\n",
    "print(isinstance(l, Iterable))\n",
    "print(isinstance(l, Iterator))"
   ]
  },
  {
   "cell_type": "code",
   "execution_count": 2,
   "metadata": {},
   "outputs": [
    {
     "name": "stdout",
     "output_type": "stream",
     "text": [
      "这是斐波那契数列\n",
      "8\n",
      "这是阶乘啊\n",
      "24\n",
      "现在的递归深度是 3000\n",
      "现在的递归深度是 5000\n"
     ]
    }
   ],
   "source": [
    "# 递归实现斐波那契数列\n",
    "import sys\n",
    "def fib(num):\n",
    "    if num == 1 or num == 2:\n",
    "        return 1\n",
    "    return fib(num-1) + fib(num-2)\n",
    "\n",
    "f = fib(6)\n",
    "print(\"这是斐波那契数列\")\n",
    "print(f)\n",
    "\n",
    "# 递归函数实现阶乘\n",
    "def jie(num):\n",
    "    if num == 1:\n",
    "        return 1\n",
    "    return num * jie(num-1)\n",
    "\n",
    "\n",
    "print(\"这是阶乘啊\")\n",
    "print(jie(4))\n",
    "\n",
    "print(\"现在的递归深度是\", sys.getrecursionlimit())\n",
    "sys.setrecursionlimit(5000)\n",
    "print(\"现在的递归深度是\", sys.getrecursionlimit())"
   ]
  },
  {
   "cell_type": "code",
   "execution_count": 19,
   "metadata": {},
   "outputs": [
    {
     "name": "stdout",
     "output_type": "stream",
     "text": [
      "现在的递归深度是 3000\n"
     ]
    },
    {
     "data": {
      "text/plain": [
       "120"
      ]
     },
     "execution_count": 19,
     "metadata": {},
     "output_type": "execute_result"
    }
   ],
   "source": [
    "# 尾递归优化,python目前还不支持尾递归优化\n",
    "import sys\n",
    "def fact(n):\n",
    "    return fact_iter(n, 1)\n",
    "\n",
    "def fact_iter(num, product):\n",
    "    if num ==1:\n",
    "        return product\n",
    "    return fact_iter(num -1, num * product)\n",
    "\n",
    "print(\"现在的递归深度是\", sys.getrecursionlimit())\n",
    "fact_iter(5,1)\n",
    "\n"
   ]
  },
  {
   "cell_type": "markdown",
   "metadata": {},
   "source": [
    "# Python中的__init__和__new__\n",
    "- __init__(self):构造函数\n",
    "    - 实例化时进行初始化的工作\n",
    "    - 有特殊的名称的写法\n",
    "    - 当实例对象创建完成后被调用的，然后设置对象属性的一些初始值\n",
    "    - 第一个参数必须有，通用self。参数写入放在括号中\n",
    "- __new__:\n",
    "    - 实例创建之前就被调用，它的任务就是创建实例然后然后将它传递给init进行初始化，是个静态方法\n",
    "    - 一般来说自己没有设置__new__，默认调用系统设置的。\n",
    "    - new函数必须要有返回值\n",
    "    _ __new__函数的应用：\n",
    "           1、__new__方法主要是当你继承一些不可变的class时(比如int, str, tuple)， 提供给你一个自定义这些类的实例化过程的途径\n",
    "           2、还有就是实现自定义的metaclass\n",
    "           3、用__new__来实现单例\n",
    "- __new__函数的本质\n",
    "    - （1）__new__方法是定义在元类type里面的，作用就是专门创建实例的。\n",
    "\n",
    "    - （2）__new__的本质上是一个“类方法”，故而第一个参数为cls，但是因为系统知道它是类方法，所以有不需要显式添加@classmethod\n",
    "\n",
    "    - （3）__new__必须具有返回值，否则无法创建对象，因为__init__函数需要这个返回值\n",
    "\n",
    "    - （4）自己在定义__new__的时候，参数要与__init__函数的参数匹配，我可以不用到这些参数，但一定要匹配。或者可以使用*arg和**args的形式。"
   ]
  },
  {
   "cell_type": "code",
   "execution_count": 50,
   "metadata": {},
   "outputs": [
    {
     "name": "stdout",
     "output_type": "stream",
     "text": [
      "我是new函数啊\n",
      "<class 'type'>\n",
      "<class '__main__.Student'>\n",
      "hello，我是init\n"
     ]
    }
   ],
   "source": [
    "class Student():\n",
    "    def __new__(cls, *args, **kwargs):\n",
    "        print(\"我是new函数啊\") # 这句话是为了追踪new函数\n",
    "        print(type(cls))  # 追踪new函数的执行过程\n",
    "        print(cls)\n",
    "        return object.__new__(cls) #调用父类的（object）的new方法，返回一个Student实例，这个实例传递给init的self参数\n",
    "    \n",
    "    def __init__(self, name, age):\n",
    "        self.name = name\n",
    "        self.age = age\n",
    "        print(\"hello，我是init\")\n",
    "        \n",
    "    def studying(self):\n",
    "        print(\"我爱学习，我在学习\")\n",
    "        \n",
    "if __name__ == \"__main__\":\n",
    "    s = Student(\"liutao\", 23)\n",
    "    #一旦创建实例对象，就会调用new函数和init函数"
   ]
  },
  {
   "cell_type": "code",
   "execution_count": 52,
   "metadata": {},
   "outputs": [
    {
     "name": "stdout",
     "output_type": "stream",
     "text": [
      "我是父类的new函数\n",
      "<class 'type'>\n",
      "<class '__main__.Child'>\n",
      "我是子类的init\n"
     ]
    }
   ],
   "source": [
    "class Parent():\n",
    "    def __new__(cls, *args, **kwargs):\n",
    "        print(\"我是父类的new函数\") # 这句话是为了追踪new函数\n",
    "        print(type(cls))  # 追踪new函数的执行过程\n",
    "        print(cls)\n",
    "        return object.__new__(cls) #调用父类的（object）的new方法，返回一个Student实例，这个实例传递给init的self参数\n",
    "    \n",
    "    def __init__(self, name, age):\n",
    "        self.name = name\n",
    "        self.age = age\n",
    "        print(\"hello，我是父类的init\")\n",
    "        \n",
    "    def studying(self):\n",
    "        print(\"我爱学习，我在学习\")\n",
    "class Child(Parent):\n",
    "    def __init__(self, name, age):\n",
    "        self.name = name\n",
    "        self.age = age\n",
    "        print(\"我是子类的init\")\n",
    "    \n",
    "        \n",
    "if __name__ == \"__main__\":\n",
    "    s = Child(\"liutao\", 23)\n",
    "    #一旦创建实例对象，就会调用new函数和init函数"
   ]
  },
  {
   "cell_type": "code",
   "execution_count": 1,
   "metadata": {},
   "outputs": [
    {
     "name": "stdout",
     "output_type": "stream",
     "text": [
      "我是父类的new函数\n",
      "<class 'type'>\n",
      "<class '__main__.Parent'>\n",
      "hello，我是父类的init\n",
      "baba\n",
      "50\n",
      "===========\n",
      "我是子类的new函数\n",
      "<class 'type'>\n",
      "<class '__main__.Child'>\n",
      "我是父类的new函数\n",
      "<class 'type'>\n",
      "<class '__main__.Child'>\n",
      "我是子类的init\n",
      "son\n",
      "23\n"
     ]
    }
   ],
   "source": [
    "class Parent():\n",
    "    def __new__(cls, *args, **kwargs):\n",
    "        print(\"我是父类的new函数\") # 这句话是为了追踪new函数\n",
    "        print(type(cls))  # 追踪new函数的执行过程\n",
    "        print(cls)\n",
    "        return object.__new__(cls) #调用父类的（object）的new方法，返回一个Student实例，这个实例传递给init的self参数\n",
    "    \n",
    "    def __init__(self, name, age):\n",
    "        self.name = name\n",
    "        self.age = age\n",
    "        print(\"hello，我是父类的init\")\n",
    "        \n",
    "    def studying(self):\n",
    "        print(\"我爱学习，我在学习\")\n",
    "        \n",
    "\n",
    "class Child(Parent):\n",
    "    def __new__(cls, *args, **kwargs):\n",
    "        print(\"我是子类的new函数\") # 这句话是为了追踪new函数\n",
    "        print(type(cls))  # 追踪new函数的执行过程\n",
    "        print(cls)\n",
    "        return Parent.__new__(cls)\n",
    "    def __init__(self, name, age):\n",
    "        self.name = name\n",
    "        self.age = age\n",
    "        print(\"我是子类的init\")\n",
    "    \n",
    "        \n",
    "if __name__ == \"__main__\":\n",
    "    p = Parent(\"baba\", 50)\n",
    "    print(p.name)\n",
    "    print(p.age)\n",
    "    print(\"===========\")\n",
    "    s = Child(\"son\", 23)\n",
    "    print(s.name)\n",
    "    print(s.age)\n",
    "    #一旦创建实例对象，就会调用new函数和init函数"
   ]
  },
  {
   "cell_type": "code",
   "execution_count": 31,
   "metadata": {},
   "outputs": [],
   "source": [
    "class People():\n",
    "    name = None\n",
    "    age = 21\n",
    "    def __init__(self):\n",
    "        print('Hello!World.')\n",
    "per = People()"
   ]
  },
  {
   "cell_type": "markdown",
   "metadata": {},
   "source": [
    "# Python中的__call__函数\n",
    "- 可以将它们作为输入传递到其他的函数/方法中并调用他们，正如我们调用一个正常的函数那样，类中__call__()函数的意义正在于此。\n",
    "- 其和_init_()方法区别\n",
    "        1. __init__()的作用是初始化某个类的一个实例。 \n",
    "        2. __call__()的作用是使实例能够像函数一样被调用，同时不影响实例本身的生命周期（__call__()不影响一个实例的构造和析构）。但是__call__()可以用来改变实例的内部成员的值。\n",
    "- _call_方法的存在，让实例可以让类似函数方法那样被直接使用，但是有个前提就是必须这个类是实例化了的，在Python实际使用中必须先实例化对象"
   ]
  },
  {
   "cell_type": "code",
   "execution_count": null,
   "metadata": {},
   "outputs": [],
   "source": [
    "class X(object):\n",
    "    def __init__(self, a, b, range):\n",
    "        self.a = a\n",
    "        self.b = b\n",
    "        self.range = range\n",
    "    def __call__(self, a, b):\n",
    "        self.a = a\n",
    "        self.b = b\n",
    "        print('__call__ with （{}, {}）'.format(self.a, self.b))\n",
    "    def __del__(self, a, b, range):\n",
    "        del self.a\n",
    "        del self.b\n",
    "        del self.range\n",
    "#实例化这个类\n",
    "x_instance = X(1, 2, 3)\n",
    "#通过_call_()来修改类属性值\n",
    "x_instance(1,2)\n",
    " \n",
    "得到结果：__call__ with （1, 5）"
   ]
  },
  {
   "cell_type": "markdown",
   "metadata": {},
   "source": [
    "# 面向对象的三大特征\n",
    "- 继承\n",
    "- 封装\n",
    "- 多态\n",
    "# 继承\n",
    "- 有父类和子类\n",
    "- 所有类都有父类\n",
    "   - 如果没有给出，则默认是object的子类\n",
    "   - 父类写在类定义的括号里\n",
    "- 子类可以继承多个父类，但不建议\n",
    "- 继承变量函数的查找问题\n",
    "    - 优先从自己找起"
   ]
  },
  {
   "cell_type": "code",
   "execution_count": 93,
   "metadata": {},
   "outputs": [],
   "source": [
    "class People():\n",
    "    name = 'Noname'\n",
    "    age = 0\n",
    "    \n",
    "class Teachers(People):\n",
    "    def intro(self):\n",
    "        \n",
    "        print(\"I am a teacher!\")"
   ]
  },
  {
   "cell_type": "code",
   "execution_count": 94,
   "metadata": {},
   "outputs": [
    {
     "data": {
      "text/plain": [
       "'Noname'"
      ]
     },
     "execution_count": 94,
     "metadata": {},
     "output_type": "execute_result"
    }
   ],
   "source": [
    "xiaobai = Teachers()\n",
    "xiaobai.name"
   ]
  },
  {
   "cell_type": "markdown",
   "metadata": {},
   "source": [
    "# 关于多继承的MRO问题\n",
    "- MRO就是用于保存继承顺序的一个列表\n",
    "- MRO列表的计算原则\n",
    "    - 首先是自己，其次是父类。\n",
    "    - 多个父类时按定义父类时的书写顺序排列\n",
    "    - 然后就是爷爷类，爷爷类按照父类的父类顺序进行排列。如果父类的父类是同一个，则只写一个爷爷类\n",
    "    - 最后就是object类\n",
    "\n",
    "## __dict__:检查成员\n",
    "- classname.__dict__  : 检查类中的所有成员\n",
    "- obj.__dict__   检查对象的所有成员"
   ]
  },
  {
   "cell_type": "code",
   "execution_count": 100,
   "metadata": {},
   "outputs": [
    {
     "name": "stdout",
     "output_type": "stream",
     "text": [
      "(<class '__main__.Teachers'>, <class '__main__.People'>, <class 'object'>)\n",
      "{'__module__': '__main__', 'intro': <function Teachers.intro at 0x0000026A971DEAE8>, '__doc__': None}\n",
      "{}\n",
      "{'name': 'saobai'}\n"
     ]
    }
   ],
   "source": [
    "class People():\n",
    "    name = 'Noname'\n",
    "    age = 0\n",
    "    \n",
    "class Teachers(People):\n",
    "    def intro(self):\n",
    "        \n",
    "        print(\"I am a teacher!\")\n",
    "xiaobai = Teachers()\n",
    "print(Teachers.__mro__)\n",
    "print(Teachers.__dict__) \n",
    "print(xiaobai.__dict__)\n",
    "xiaobai.name = 'saobai'\n",
    "print(xiaobai.__dict__)"
   ]
  },
  {
   "cell_type": "code",
   "execution_count": 42,
   "metadata": {},
   "outputs": [],
   "source": [
    "class Birds():\n",
    "    quote  = 'I can fly'\n",
    "    def sounds(self):\n",
    "        print('jajijaji')\n"
   ]
  },
  {
   "cell_type": "code",
   "execution_count": 43,
   "metadata": {},
   "outputs": [],
   "source": [
    "class FlyMan(People,Birds):\n",
    "    pass"
   ]
  },
  {
   "cell_type": "code",
   "execution_count": 85,
   "metadata": {},
   "outputs": [
    {
     "name": "stdout",
     "output_type": "stream",
     "text": [
      "Noname\n",
      "jajijaji\n"
     ]
    },
    {
     "data": {
      "text/plain": [
       "mappingproxy({'__module__': '__main__',\n",
       "              'quote': 'I can fly',\n",
       "              'sounds': <function __main__.Birds.sounds(self)>,\n",
       "              '__dict__': <attribute '__dict__' of 'Birds' objects>,\n",
       "              '__weakref__': <attribute '__weakref__' of 'Birds' objects>,\n",
       "              '__doc__': None})"
      ]
     },
     "execution_count": 85,
     "metadata": {},
     "output_type": "execute_result"
    }
   ],
   "source": [
    "# 继承多个父类\n",
    "flyman = FlyMan()\n",
    "print(flyman.name)\n",
    "flyman.sounds()\n",
    "Birds.__dict__"
   ]
  },
  {
   "cell_type": "markdown",
   "metadata": {},
   "source": [
    "# 子类可以对父类的功能进行拓展\n",
    "- super不是一个关键字\n",
    "-  不是父类，但可以通过他找到父类\n"
   ]
  },
  {
   "cell_type": "code",
   "execution_count": 90,
   "metadata": {},
   "outputs": [
    {
     "name": "stdout",
     "output_type": "stream",
     "text": [
      "I am a teacher!\n",
      "make some money\n",
      "We all can sing\n",
      "make money by lecturing\n"
     ]
    }
   ],
   "source": [
    "class People():\n",
    "    name = 'Noname'\n",
    "    age = 0\n",
    "    def __init__(self):\n",
    "        print('我是people的')\n",
    "    def work(self):\n",
    "        print('make some money')\n",
    "    def sing(self):\n",
    "        print('We all can sing')\n",
    "    \n",
    "class Teachers(People):\n",
    "    def __init__(self):\n",
    "        print('I am a teacher!')\n",
    "    def work(self):\n",
    "        People.work(self) # 注意self必须的有，还可以用super().work()\n",
    "        super().sing()\n",
    "        print('make money by lecturing')\n",
    "\n",
    "xiaom = Teachers()\n",
    "xiaom.work()"
   ]
  },
  {
   "cell_type": "markdown",
   "metadata": {},
   "source": [
    "# 构造函数（初始化函数）的继承\n",
    "- 如果子类没有构造函数，则构造函数默认继承父类的\n",
    "- 子类函数有构造函数时，则不再继承父类的\n",
    "- 构造函数是谁的，就要按照谁的样子来构造。"
   ]
  },
  {
   "cell_type": "code",
   "execution_count": 90,
   "metadata": {},
   "outputs": [
    {
     "name": "stdout",
     "output_type": "stream",
     "text": [
      "I am a teacher!\n",
      "我是people的\n"
     ]
    }
   ],
   "source": [
    "class People():\n",
    "    name = 'Noname'\n",
    "    age = 0\n",
    "    def __init__(self):\n",
    "        print('我是people的')\n",
    "    \n",
    "class Teachers(People):\n",
    "    def __init__(self):\n",
    "        \n",
    "        print(\"I am a teacher!\")\n",
    "class Teachers1(People):\n",
    "    def intro(self):\n",
    "        \n",
    "        print(\"I am a teacher!\")\n",
    "        \n",
    "xiaobai = Teachers()\n",
    "xiaobai1 = Teachers1()"
   ]
  },
  {
   "cell_type": "markdown",
   "metadata": {},
   "source": [
    "# 访问类中类属性的方法\n",
    "- 第一种：若类的构造函数中没有该属性，则可以直接通过self.xx或者__class__.xx来进行访问\n",
    "- 第二种：若类的构造函数中有和类中属性相同的变量，则一般来说构造函数中的变量会覆盖类中的那个属性变量。则类中的属性无法通过self.xx访问，只有通过__class__.xx访问"
   ]
  },
  {
   "cell_type": "code",
   "execution_count": 98,
   "metadata": {},
   "outputs": [
    {
     "name": "stdout",
     "output_type": "stream",
     "text": [
      "四川大学\n",
      "四川大学\n"
     ]
    },
    {
     "data": {
      "text/plain": [
       "<__main__.S at 0x24bdae487b8>"
      ]
     },
     "execution_count": 98,
     "metadata": {},
     "output_type": "execute_result"
    }
   ],
   "source": [
    "# 若构造函数中没有与类属性相同的变量名\n",
    "class S():\n",
    "    name = \"四川大学\"\n",
    "    def __init__(self):\n",
    "        print(self.name)  #此时self.name表示的是类属性\n",
    "        print(__class__.name)\n",
    "s = S()\n",
    "s"
   ]
  },
  {
   "cell_type": "code",
   "execution_count": 107,
   "metadata": {},
   "outputs": [
    {
     "name": "stdout",
     "output_type": "stream",
     "text": [
      "xiaoming\n",
      "习水一中\n",
      "xiaoming\n",
      "习水一中\n"
     ]
    }
   ],
   "source": [
    "# 若类属性的变量名和构造函数中的变量名同名举例\n",
    "class Student():\n",
    "    name = \"习水一中\"\n",
    "    def __init__(self, name):\n",
    "        self.name = name  # 此时的self.name表示的是传递进构造函数的name\n",
    "        print(self.name)\n",
    "        print(__class__.name) #内部访问类属性的方法\n",
    "        \n",
    "        \n",
    "stu = Student(\"xiaoming\")\n",
    "print(stu.name) #若构造函数中有相同的变量名，则访问不到类属性的那个同名变量\n",
    "print(Student.name) # 外部访问类属性的方法"
   ]
  }
 ],
 "metadata": {
  "kernelspec": {
   "display_name": "Python 3",
   "language": "python",
   "name": "python3"
  },
  "language_info": {
   "codemirror_mode": {
    "name": "ipython",
    "version": 3
   },
   "file_extension": ".py",
   "mimetype": "text/x-python",
   "name": "python",
   "nbconvert_exporter": "python",
   "pygments_lexer": "ipython3",
   "version": "3.7.3"
  }
 },
 "nbformat": 4,
 "nbformat_minor": 2
}
