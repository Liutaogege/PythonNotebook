{
 "cells": [
  {
   "cell_type": "markdown",
   "metadata": {},
   "source": [
    "# 一些方法\n",
    "- 给实例绑定方法：\n",
    "    - 导入：from types import MethodType,见下面示例\n",
    "    - 该方法只能针对单个实例添加方法，其他实例不能访问\n",
    "- __slots__ :众所周知，实例的属性是可以任意添加的，而如果要限制实例属性的添加就可以用该语句。注意以下几点：\n",
    "    - 它可以限制实例属性的添加，但不能限制类的属性添加。\n",
    "    - 该语句添加以后，若如果用  类.该属性名=value  的方式给该属性赋值后，实例只能访问该属性而不能修改。而类如果没有对属性进行操作，则实例可以任意更改该属性值\n",
    "    - 简而言之，一旦类对该属性进行操作以后，实例对该属性只能是可读，不能更改，不能删除\n",
    "    - 关于继承：__slots__在继承中有两种表现：\n",
    "        - 子类未声明__slots__时，不继承父类的__slots__，即此时子类实例可以随意赋值属性\n",
    "        - 子类声明__slots__时，继承父类的__slots__，即此时子类的__slots__为其自身+父类的__slots__\n",
    "\n",
    "\n",
    "- callable(obj)：判断一个是变量还是可调用对象（即函数）"
   ]
  },
  {
   "cell_type": "code",
   "execution_count": null,
   "metadata": {},
   "outputs": [],
   "source": [
    "from types import MethodType\n",
    "\n",
    "# 给实例绑定方法\n",
    "class Student():\n",
    "    pass\n",
    "def set_age(self, age):\n",
    "    self.age = age\n",
    "\n",
    "s = Student()\n",
    "s.setting_age = MethodType(set_age, s)  #绑定set_age函数到实例上\n",
    "s.setting_age(20)\n",
    "print(s.age)\n",
    "ss = Student()\n",
    "# ss.setting_age(18)# 上面针对实例的绑定仅针对实例有效，其他实例访问不到\n",
    "\n",
    "# 因此，要给类绑定方法\n",
    "Student.setting_age = set_age\n",
    "ss.setting_age(18)\n",
    "print(ss.age)"
   ]
  },
  {
   "cell_type": "code",
   "execution_count": 40,
   "metadata": {},
   "outputs": [
    {
     "name": "stdout",
     "output_type": "stream",
     "text": [
      "taotao\n",
      "23\n"
     ]
    }
   ],
   "source": [
    "# 我们知道可以给实例任意添加属性，如果想限制实例的属性的话，需要用到__slots__\n",
    "class Student():\n",
    "    __slots__ = (\"name\", \"age\")  #用tuple定义允许绑定的属性名称\n",
    "    \n",
    "s = Student()\n",
    "s.name = \"taotao\"\n",
    "s.age = 23\n",
    "#s.score = 100  #这就会报错\n",
    "print(s.name)\n",
    "print(s.age)"
   ]
  },
  {
   "cell_type": "code",
   "execution_count": 47,
   "metadata": {},
   "outputs": [
    {
     "name": "stdout",
     "output_type": "stream",
     "text": [
      "taoge\n",
      "taotao\n",
      "Chengdu\n",
      "20\n"
     ]
    }
   ],
   "source": [
    "# 若用类对限制的属性进行操作，则实例只能访问该属性，不能进行删除，更改等操作\n",
    "class Student():\n",
    "    __slots__ = (\"name\", \"age\")  #用tuple定义允许绑定的属性名称\n",
    "\n",
    "Student.name = \"taoge\"\n",
    "s = Student()\n",
    "#s.name = \"taotao\"  #实例不能对该属性进行修改，这会报错，只能访问\n",
    "print(s.name)\n",
    "# del s.name  #也不能删除该属性也会报错\n",
    "\n",
    "# 只有类能对他修改\n",
    "Student.name = \"taotao\"\n",
    "print(s.name)\n",
    "del Student.name\n",
    "\n",
    "# 类也可以添加属性\n",
    "Student.address = \"Chengdu\"\n",
    "\n",
    "print(s.address) \n",
    "s.age = 18\n",
    "s.age = 20\n",
    "print(20)  #但类没有操作的就可以任意修改\n"
   ]
  },
  {
   "cell_type": "code",
   "execution_count": 51,
   "metadata": {},
   "outputs": [
    {
     "name": "stdout",
     "output_type": "stream",
     "text": [
      "{'gender': 'M'}\n",
      "['__class__', '__delattr__', '__dict__', '__dir__', '__doc__', '__eq__', '__format__', '__ge__', '__getattribute__', '__gt__', '__hash__', '__init__', '__init_subclass__', '__le__', '__lt__', '__module__', '__ne__', '__new__', '__reduce__', '__reduce_ex__', '__repr__', '__setattr__', '__sizeof__', '__slots__', '__str__', '__subclasshook__', '__weakref__', 'age', 'gender', 'name']\n"
     ]
    }
   ],
   "source": [
    "# 子类未声明__slots__时，类实例可以创建父类__slots__限定之外的属性gender\n",
    "class People():\n",
    "    __slots__ = (\"name\", \"age\")\n",
    "\n",
    "class Student(People):\n",
    "    pass\n",
    "\n",
    "s = Student()\n",
    "s.name = \"liutao\"\n",
    "s.age = 23\n",
    "s.gender = \"M\"\n",
    "print(s.__dict__)\n",
    "print(dir(s))"
   ]
  },
  {
   "cell_type": "code",
   "execution_count": 57,
   "metadata": {},
   "outputs": [],
   "source": [
    "# 子类未声明__slots__时，该类属性则只能创建父类__slots__+自身__slots__限定的属性：\n",
    "class People():\n",
    "    __slots__ = (\"name\", \"age\")\n",
    "\n",
    "class Student(People):\n",
    "    __slots__ = \"gender\"\n",
    "    \n",
    "s = Student()\n",
    "s.gender = \"F\"\n",
    "#s.score = 98 #这个就会报错"
   ]
  },
  {
   "cell_type": "code",
   "execution_count": 69,
   "metadata": {},
   "outputs": [
    {
     "name": "stdout",
     "output_type": "stream",
     "text": [
      "resolution = 786432\n",
      "测试通过!\n"
     ]
    }
   ],
   "source": [
    "class Screen():\n",
    "    __width = 100\n",
    "    __height = 100\n",
    "    \n",
    "    @property\n",
    "    def width(self):\n",
    "        return self.__width\n",
    "    \n",
    "    @width.setter\n",
    "    def width(self, value):\n",
    "        if not isinstance(value, int):\n",
    "            raise ValueError(\"大兄弟，类型不对啊\")\n",
    "        if value < 0 :\n",
    "            raise ValueErroe(\"长度是不是输错了\")\n",
    "        self.__width = value\n",
    "        \n",
    "    @property\n",
    "    def height(self):\n",
    "        return self.__height\n",
    "    \n",
    "    @height.setter\n",
    "    def height(self, value):\n",
    "        if not isinstance(value, int):\n",
    "            raise ValueError(\"大兄弟，类型不对啊\")\n",
    "        if value < 0 :\n",
    "            raise ValueErroe(\"长度是不是输错了\")\n",
    "        self.__height = value\n",
    "        \n",
    "    @property\n",
    "    def resolution(self):\n",
    "        return self.__width * self.__height\n",
    "    \n",
    "s = Screen()\n",
    "s.width = 1024\n",
    "s.height = 768\n",
    "#s.resolution = 10000  #不能修改\n",
    "print('resolution =', s.resolution)\n",
    "if s.resolution == 786432:\n",
    "    print('测试通过!')\n",
    "else:\n",
    "    print('测试失败!')"
   ]
  },
  {
   "cell_type": "code",
   "execution_count": 83,
   "metadata": {},
   "outputs": [
    {
     "name": "stdout",
     "output_type": "stream",
     "text": [
      "resolution = 786432\n",
      "测试通过!\n"
     ]
    }
   ],
   "source": [
    "class Screen():\n",
    "    __width = 100\n",
    "    __height = 100\n",
    "    \n",
    "    @property\n",
    "    def width(self):\n",
    "        return self.__width\n",
    "    \n",
    "    @width.setter\n",
    "    def width(self, value):\n",
    "        if not isinstance(value, int):\n",
    "            raise ValueError(\"大兄弟，类型不对啊\")\n",
    "        if value < 0 :\n",
    "            raise ValueErroe(\"长度是不是输错了\")\n",
    "        self.__width = value\n",
    "        \n",
    "    @property\n",
    "    def height(self):\n",
    "        return self.__height\n",
    "    \n",
    "    @height.setter\n",
    "    def height(self, value):\n",
    "        if not isinstance(value, int):\n",
    "            raise ValueError(\"大兄弟，类型不对啊\")\n",
    "        if value < 0 :\n",
    "            raise ValueErroe(\"长度是不是输错了\")\n",
    "        self.__height = value\n",
    "        \n",
    "    @property\n",
    "    def resolution(self):\n",
    "        return self.__width * self.__height\n",
    "    \n",
    "s = Screen()\n",
    "s.width = 1024\n",
    "s.height = 768\n",
    "#s.resolution = 10000  #不能修改\n",
    "print('resolution =', s.resolution)\n",
    "if s.resolution == 786432:\n",
    "    print('测试通过!')\n",
    "else:\n",
    "    print('测试失败!')"
   ]
  },
  {
   "cell_type": "code",
   "execution_count": 90,
   "metadata": {},
   "outputs": [
    {
     "name": "stdout",
     "output_type": "stream",
     "text": [
      "True\n",
      "False\n"
     ]
    }
   ],
   "source": [
    "# callable()\n",
    "print(callable(int)) #int可调用，即int(),可以被当做函数使用\n",
    "print(callable(\"haha\"))\n"
   ]
  },
  {
   "cell_type": "markdown",
   "metadata": {},
   "source": [
    "# 枚举类enum.Enum\n",
    "- 定义：指的是其成员的个数以及成员的名字是固定的类,可以把每一个成员对象看做是一个常量\n",
    "- 创建方法：\n",
    "    - 方法一：若想将一个类定义为枚举类，只要继承enum中的Enum模块即可\n",
    "    - 方法二：使用 Enum() 函数创建枚举类,它接受 2 个参数，第一个用于指定枚举类的类名，第二个参数用于指定枚举类中的多个成员。\n",
    "- 枚举类的每个成员都由两部分组成，分别为name和value，其中name属性值为该枚举类的变量名（如Jan），value为代表该枚举类值的序号（序号通常从1开始）\n",
    "- 枚举类不能用来实例化对象，但这并不妨碍我们访问枚举类中的成员，访问枚举类成员的方式有三种，见下面代码\n",
    "- 枚举类成员之间不能比较大小，但可以用== 或is比较是否相等\n",
    "- 枚举来中各个成员的值，不能在类的外部做任何修改\n",
    "- 枚举类中各个成员必须保证name互不相同，但value可以相同，而又相同value值的会认为其中某个成员名是另一个成员名的别名。为了避免这种情况，可以借助@unique装饰器，可以防止有相同value值的成员\n",
    "- 既可以用成员名称引用枚举常量，又可以直接根据value的值获得枚举常量。"
   ]
  },
  {
   "cell_type": "code",
   "execution_count": 114,
   "metadata": {},
   "outputs": [
    {
     "name": "stdout",
     "output_type": "stream",
     "text": [
      "Month.Jan\n",
      "Month.Jan\n",
      "Month.Jan\n",
      "Jan\n",
      "1\n",
      "Jan\n",
      "1\n",
      "Jan\n",
      "Month.Jan\n",
      "Month.Feb\n",
      "Month.March\n",
      "+++++++++分割符++++++++++\n",
      "Jan => Month.Jan\n",
      "Feb => Month.Feb\n",
      "March => Month.March\n",
      "+++++++++分割符++++++++++\n",
      "Jan => Month.Jan , 1\n",
      "Feb => Month.Feb , 2\n",
      "March => Month.March , 3\n"
     ]
    }
   ],
   "source": [
    "from enum import Enum\n",
    "\n",
    "class Month(Enum):\n",
    "    Jan = 1\n",
    "    Feb = 2\n",
    "    March = 3\n",
    "    \n",
    "\"\"\"\n",
    "    在该类中，Jan，Feb，March都是该类的成员，可以理解为是类变量，枚举类的每个成员\n",
    "都由两部分组成，分别为name和value，其中name属性值为该枚举类的变量名（如Jan），value为代表该\n",
    "枚举类值的序号（序号通常从1开始）\n",
    "\"\"\"\n",
    "# 调用枚举类成员的3种方式\n",
    "print(Month.Jan)\n",
    "print(Month[\"Jan\"])\n",
    "print(Month(1))\n",
    "# 调取枚举成员中的name和value\n",
    "print(Month.Jan.name)\n",
    "print(Month.Jan.value)\n",
    "print(Month[\"Jan\"].name)\n",
    "print(Month[\"Jan\"].value)\n",
    "print(Month(1).name)\n",
    "\n",
    "# 遍历枚举类中所有成员的两种方式\n",
    "for month in Month:\n",
    "    print(month)\n",
    "print(\"+++++++++分割符++++++++++\")\n",
    "\n",
    "for name, member in Month.__members__.items():\n",
    "    print(name, '=>', member)\n",
    "    \n",
    "print(\"+++++++++分割符++++++++++\")\n",
    "for name, member in Month.__members__.items():\n",
    "    print(name, '=>', member, ',', member.value)"
   ]
  },
  {
   "cell_type": "code",
   "execution_count": 121,
   "metadata": {},
   "outputs": [
    {
     "name": "stdout",
     "output_type": "stream",
     "text": [
      "Month.Jan\n"
     ]
    }
   ],
   "source": [
    "# 使用Enum()创建枚举类\n",
    "Month = Enum(\"Month\", (\"Jan\", \"Feb\", \"Mar\"))\n",
    "print(Month.Jan)\n"
   ]
  },
  {
   "cell_type": "code",
   "execution_count": 108,
   "metadata": {},
   "outputs": [
    {
     "name": "stdout",
     "output_type": "stream",
     "text": [
      "False\n",
      "False\n"
     ]
    }
   ],
   "source": [
    "# 枚举类成员之间不能比较大小，但可以用== 或is比较是否相等\n",
    "print(Month.Jan is Month.Feb)\n",
    "print(Month.Jan == Month.Feb)"
   ]
  },
  {
   "cell_type": "code",
   "execution_count": 113,
   "metadata": {},
   "outputs": [
    {
     "name": "stdout",
     "output_type": "stream",
     "text": [
      "Color.red\n"
     ]
    }
   ],
   "source": [
    "# 枚举类中各个成员的值，不能在类的外部做任何修改\n",
    "#Month.Jan = 2  #会报错\n",
    "\n",
    "# 枚举类中各个成员必须保证name互不相同，但value可以相同，而又相同value值的会认为其中某个成员名是另一个成员名的别名\n",
    "class Color(Enum):\n",
    "    red = 1\n",
    "    green = 1\n",
    "    blue = 3\n",
    "    \n",
    "    \n",
    "print(Color[\"green\"]) #Color.red是枚举类的成员，red是它的名字，1是它的value"
   ]
  },
  {
   "cell_type": "code",
   "execution_count": null,
   "metadata": {},
   "outputs": [],
   "source": [
    "# 防止枚举类的成员出现相同的value，使用@unique\n",
    "from enum import Enum, unique\n",
    "\n",
    "@unique\n",
    "class Weekday(Enum):\n",
    "    Sun = 0 # Sun的value被设定为0\n",
    "    Mon = 1\n",
    "    Tue = 2\n",
    "    Wed = 3\n",
    "    Thu = 4\n",
    "    Fri = 5\n",
    "    Sat = 6"
   ]
  },
  {
   "cell_type": "code",
   "execution_count": null,
   "metadata": {},
   "outputs": [],
   "source": []
  }
 ],
 "metadata": {
  "kernelspec": {
   "display_name": "Python 3",
   "language": "python",
   "name": "python3"
  },
  "language_info": {
   "codemirror_mode": {
    "name": "ipython",
    "version": 3
   },
   "file_extension": ".py",
   "mimetype": "text/x-python",
   "name": "python",
   "nbconvert_exporter": "python",
   "pygments_lexer": "ipython3",
   "version": "3.7.3"
  }
 },
 "nbformat": 4,
 "nbformat_minor": 2
}
