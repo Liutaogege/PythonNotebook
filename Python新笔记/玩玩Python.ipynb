{
 "cells": [
  {
   "cell_type": "code",
   "execution_count": 5,
   "metadata": {},
   "outputs": [
    {
     "name": "stdout",
     "output_type": "stream",
     "text": [
      " 进度百分比：100%度百分比：37%进度百分比：41%进度百分比：44%进度百分比：45%进度百分比：46%进度百分比：49%进度百分比：56%进度百分比：56%进度百分比：62%进度百分比：65%进度百分比：65%进度百分比：73%进度百分比：77%进度百分比：81%进度百分比：87%进度百分比：89%"
     ]
    }
   ],
   "source": [
    "import time\n",
    "\n",
    "days = 365\n",
    "for i in range(days):\n",
    "    print(\"\\r\",\"进度百分比：{}%\".format(round((i+1) * 100/365)), end='',flush=True)\n",
    "    time.sleep(0.01)"
   ]
  },
  {
   "cell_type": "code",
   "execution_count": 11,
   "metadata": {},
   "outputs": [
    {
     "name": "stderr",
     "output_type": "stream",
     "text": [
      "100%|███████████████████████████████████████████████████████████████████| 9000000/9000000 [00:05<00:00, 1549195.27it/s]\n"
     ]
    }
   ],
   "source": [
    "from tqdm import tqdm\n",
    "for i in tqdm(range(int(9e6))):\n",
    "    pass"
   ]
  },
  {
   "cell_type": "code",
   "execution_count": 19,
   "metadata": {},
   "outputs": [
    {
     "name": "stderr",
     "output_type": "stream",
     "text": [
      " 80% |#########################################################               |\r"
     ]
    }
   ],
   "source": [
    "from progressbar import progressbar \n",
    "import time\n",
    "pbar = progressbar.ProgressBar().start()\n",
    "for i in range(100):\n",
    "    time.sleep(0.01)\n",
    "    pbar.update(i+1)"
   ]
  },
  {
   "cell_type": "code",
   "execution_count": 24,
   "metadata": {},
   "outputs": [
    {
     "name": "stdout",
     "output_type": "stream",
     "text": [
      "> 苍老师下载完毕别急正在下载 别急正在下载 别急正在下载 别急正在下载 别急正在下载 别急正在下载 别急正在下载 别急正在下载 别急正在下载 别急正在下载 别急正在下载\n",
      "> 波多野老师下载完毕正在下载 别急正在下载 别急正在下载 别急正在下载 别急正在下载 别急正在下载 别急正在下载 别急正在下载 别急正在下载 别急正在下载 别急正在下载 别急正在下载 别急正在下载 别急正在下载 别急正在下载 别急正在下载 别急正在下载 别急正在下载 别急正在下载 别急正在下载 别急正在下载\n",
      "√ 别急正在下载\n"
     ]
    }
   ],
   "source": [
    "from yaspin import yaspin\n",
    "import time\n",
    "\n",
    "def main():\n",
    "    with yaspin(text=\"别急正在下载\") as sp:\n",
    "        time.sleep(1)\n",
    "        sp.write(\"> 苍老师下载完毕\")\n",
    "        time.sleep(2)\n",
    "        sp.write(\"> 波多野老师下载完毕\")\n",
    "        sp.green.ok(\"√\")\n",
    "main()"
   ]
  },
  {
   "cell_type": "code",
   "execution_count": 4,
   "metadata": {},
   "outputs": [
    {
     "name": "stdout",
     "output_type": "stream",
     "text": [
      "hehuhu\n",
      "<module 'os' from 'e:\\\\Users\\\\acer\\\\Anaconda3\\\\lib\\\\os.py'>\n"
     ]
    }
   ],
   "source": [
    "print(\"hehuhu\")\n",
    "import os\n",
    "print(os) # 直接打印模块可以获取模块的位置"
   ]
  },
  {
   "cell_type": "code",
   "execution_count": 27,
   "metadata": {},
   "outputs": [
    {
     "ename": "TypeError",
     "evalue": "unsupported operand type(s) for |: 'dict' and 'dict'",
     "output_type": "error",
     "traceback": [
      "\u001b[1;31m---------------------------------------------------------------------------\u001b[0m",
      "\u001b[1;31mTypeError\u001b[0m                                 Traceback (most recent call last)",
      "\u001b[1;32m<ipython-input-27-7dc22ab6cc32>\u001b[0m in \u001b[0;36m<module>\u001b[1;34m\u001b[0m\n\u001b[0;32m      1\u001b[0m \u001b[0ma\u001b[0m \u001b[1;33m=\u001b[0m \u001b[1;33m{\u001b[0m\u001b[1;34m'name'\u001b[0m\u001b[1;33m:\u001b[0m\u001b[1;34m'liutao'\u001b[0m\u001b[1;33m}\u001b[0m\u001b[1;33m\u001b[0m\u001b[1;33m\u001b[0m\u001b[0m\n\u001b[0;32m      2\u001b[0m \u001b[0mb\u001b[0m \u001b[1;33m=\u001b[0m \u001b[1;33m{\u001b[0m\u001b[1;34m'age'\u001b[0m\u001b[1;33m:\u001b[0m\u001b[1;36m23\u001b[0m\u001b[1;33m}\u001b[0m\u001b[1;33m\u001b[0m\u001b[1;33m\u001b[0m\u001b[0m\n\u001b[1;32m----> 3\u001b[1;33m \u001b[0mc\u001b[0m \u001b[1;33m=\u001b[0m \u001b[0ma\u001b[0m \u001b[1;33m|\u001b[0m \u001b[0mb\u001b[0m\u001b[1;33m\u001b[0m\u001b[1;33m\u001b[0m\u001b[0m\n\u001b[0m\u001b[0;32m      4\u001b[0m \u001b[0mprint\u001b[0m\u001b[1;33m(\u001b[0m\u001b[0mc\u001b[0m\u001b[1;33m)\u001b[0m\u001b[1;33m\u001b[0m\u001b[1;33m\u001b[0m\u001b[0m\n",
      "\u001b[1;31mTypeError\u001b[0m: unsupported operand type(s) for |: 'dict' and 'dict'"
     ]
    }
   ],
   "source": []
  }
 ],
 "metadata": {
  "kernelspec": {
   "display_name": "Python 3",
   "language": "python",
   "name": "python3"
  },
  "language_info": {
   "codemirror_mode": {
    "name": "ipython",
    "version": 3
   },
   "file_extension": ".py",
   "mimetype": "text/x-python",
   "name": "python",
   "nbconvert_exporter": "python",
   "pygments_lexer": "ipython3",
   "version": "3.7.3"
  }
 },
 "nbformat": 4,
 "nbformat_minor": 2
}
