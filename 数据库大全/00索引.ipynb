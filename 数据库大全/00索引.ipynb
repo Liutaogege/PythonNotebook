{
 "cells": [
  {
   "cell_type": "markdown",
   "id": "e40181bc",
   "metadata": {},
   "source": [
    "# 索引\n",
    "- 索引是啥：索引（Index）是帮助MySQL高效获取数据的数据结构\n",
    "\n",
    "- 索引的分类：\n",
    "    - 主键索引：唯一的标识，主键不可重复，只能有一个列作为主键\n",
    "    - 唯一索引：避免重复的列出现，唯一索引可以重复，多个列都可以标识为唯一索引\n",
    "    - 常规索引：默认的索引，index，key关键字来设置\n",
    "    - 全文索引：在特定的数据库引擎下才有"
   ]
  }
 ],
 "metadata": {
  "kernelspec": {
   "display_name": "Python 3",
   "language": "python",
   "name": "python3"
  },
  "language_info": {
   "codemirror_mode": {
    "name": "ipython",
    "version": 3
   },
   "file_extension": ".py",
   "mimetype": "text/x-python",
   "name": "python",
   "nbconvert_exporter": "python",
   "pygments_lexer": "ipython3",
   "version": "3.8.8"
  }
 },
 "nbformat": 4,
 "nbformat_minor": 5
}
