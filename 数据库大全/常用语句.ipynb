{
 "cells": [
  {
   "cell_type": "markdown",
   "metadata": {},
   "source": [
    "# 常用sql语句\n",
    "- 查看表的列名及类型\n",
    "    - select column_name,data_type from information_schema.columns where table_name = '表名'\n",
    "- 连接两个表并筛选\n",
    "    - select * from construction_dispatch c left join manager_people_manager_people m on c.p_principal=m.id where out_name='陈敏'\n",
    "    - select * from construction_dispatch c left join manager_people_manager_people m on c.p_principal=m.id and out_name='陈敏'\n",
    "    - 用where才有过滤效果，and没有\n",
    "- 连接两个表并利用筛选得到的值来更新\n",
    "    - update hints_daily_plan_cancel set reason_cancel_plan='因公司原因取消' where reason_cancel_id=(select c.id from construction_dispatch c where c.p_work_code='9A2-23-01' and c.p_work_date='2021-04-23' and c.cc_state='canceled')\n",
    "- 转换类型\n",
    "    - select to_char(date_record, 'yyyy/mm/dd hh24:mi:ss') from action_record\n",
    "    - 同样可以转换数字"
   ]
  }
 ],
 "metadata": {
  "kernelspec": {
   "display_name": "Python 3",
   "language": "python",
   "name": "python3"
  },
  "language_info": {
   "codemirror_mode": {
    "name": "ipython",
    "version": 3
   },
   "file_extension": ".py",
   "mimetype": "text/x-python",
   "name": "python",
   "nbconvert_exporter": "python",
   "pygments_lexer": "ipython3",
   "version": "3.8.5"
  }
 },
 "nbformat": 4,
 "nbformat_minor": 4
}
