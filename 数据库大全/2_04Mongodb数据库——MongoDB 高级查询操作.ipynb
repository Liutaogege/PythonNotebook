{
 "cells": [
  {
   "cell_type": "markdown",
   "metadata": {},
   "source": [
    "# MongoDB高级查询操作\n",
    "- db.collectionName.find(query,, projection)\n",
    "    - query: 查询条件，可选参数\n",
    "    - projection：可选参数，明确文档中包含的字段\n",
    "- 输入条件进行查询\n",
    "    - db.collection.find({name: \"xiaoming\"})\n",
    "- 将查询结果格式化\n",
    "    - db.collection.find().pretty()\n",
    "    - db.collection.findOne().pretty()\n",
    "    \n",
    "## 查询操作符 Operator\n",
    "- 比较查询运算符#$$##\n",
    "        $eq: 等于\n",
    "        $gt： 大于\n",
    "        $gte: 大于等于\n",
    "        $lt: 小于\n",
    "        $lte: 小于等于\n",
    "        $ne: 不等于  not equal\n",
    "        语法格式：{field: {$gte: value}\n",
    "        比如：db.stu.find({\"age\": {$gte: 20}})\n",
    "- 比较运算符\n",
    "    - $in  匹配数组中任何指定的值\n",
    "    - $nin  不匹配数组中任何指定的值$\n",
    "             语法格式： {field: {$in: [<value1>, <value2>,..]}})\n",
    "             查询年龄为18或者22岁的学生\n",
    "             db.stu.find({age: {$in: [18, 22]}})\n",
    "             结合正则表达式，查询名字，查询名字包含姓周或者姓刘的同学\n",
    "             db.stu.find({hometown: {$in: [/^周/, /^刘/]}}), ^表示以周字开头\n"
   ]
  },
  {
   "cell_type": "markdown",
   "metadata": {},
   "source": [
    "- 逻辑查询运算符#$$##\n",
    "    - $and：与，\n",
    "        - 语法格式：{$and: [{<expression1>}, {<expression2>}...]}\n",
    "        - db.stu.find({$and: [{hometown: \"chengdu\"}, {age: 20}]})\n",
    "        - db.countries.find({$and:[{name: {$in: [/c/, /C/]}}, {area: {$gte: 90000}}]})\n",
    "        - 可以将多个条件放在一个json中\n",
    "            - db.stu.find({age: 20, hometown: \"beijing\"})\n",
    "    - $or  或\n",
    "    - $not 非\n",
    "    \n",
    "#### 计算查询运算符\n",
    "    - $regex  正则查询\n",
    "        - 支持以下两种语法格式：\n",
    "            - {<field>: {$regex:/pattern/}}\n",
    "            - {<field>: {$regex: 'pattern'}}\n",
    "        - db.stu.find({name: {$regex: /ao/}})\n",
    "        - 大小写忽略，设置$options为i\n",
    "            - db.countries.find({name: {$regex: /c/, $options: \"i\"}})\n",
    "                - 可以匹配到名字包含ao的文档\n",
    "            - $options操作符号有：\"m\", \"s\", \"x\"\n",
    "\n",
    "#### 列表查询操作符#$$##\n",
    "- $all  查询字段为一个数组且包含所有元素\n",
    "    - {<field>: {$all: [value1, value2..]}\n",
    "    - db.stu.find({field: value})\n",
    "        - 查询列表field字段包含元素value\n",
    "    - db.stu.find({field: [value1, value2]})\n",
    "        - 查询列表field的值是一个列表且为[value1, value2]\n",
    "    - db.stu.find({field: {$all: [value1, value2]}})\n",
    "        - 查询列表field的值是一个列表且包含元素value1，value2\n",
    "- $size  查询字段为一个列表且长度为size，例如\n",
    "    - {field: {$size: 2}}\n",
    "    \n",
    "- 和find组合使用\n",
    "    - limit  限制返回文档数量\n",
    "        - db.stu.find().limit(5)\n",
    "    - skip  跳过文档的数量\n",
    "        - db.stu.find().skip()\n",
    "    - limit和skip可以组合使用,,一般是skip在前\n",
    "        - db.stu.find().skip(3).limit(6)"
   ]
  },
  {
   "cell_type": "code",
   "execution_count": null,
   "metadata": {},
   "outputs": [],
   "source": []
  },
  {
   "cell_type": "code",
   "execution_count": null,
   "metadata": {},
   "outputs": [],
   "source": []
  },
  {
   "cell_type": "code",
   "execution_count": null,
   "metadata": {},
   "outputs": [],
   "source": []
  }
 ],
 "metadata": {
  "kernelspec": {
   "display_name": "Python 3",
   "language": "python",
   "name": "python3"
  },
  "language_info": {
   "codemirror_mode": {
    "name": "ipython",
    "version": 3
   },
   "file_extension": ".py",
   "mimetype": "text/x-python",
   "name": "python",
   "nbconvert_exporter": "python",
   "pygments_lexer": "ipython3",
   "version": "3.7.3"
  }
 },
 "nbformat": 4,
 "nbformat_minor": 2
}
