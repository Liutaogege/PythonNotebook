{
 "cells": [
  {
   "cell_type": "markdown",
   "id": "ba7f9f4d",
   "metadata": {},
   "source": [
    "# 三大范式\n",
    "- 第一范式（1NF)\n",
    "    - 原子性，每一列不可再分\n",
    "- 第二范式（2NF)\n",
    "    - 在满足第一范式的前提下，每张表只表述一件事情\n",
    "- 第三范式(3NF)\n",
    "    - 满足前两个范式，确保每一列的数据都和主键直接相关，而不能间接相关\n",
    "    "
   ]
  }
 ],
 "metadata": {
  "kernelspec": {
   "display_name": "Python 3",
   "language": "python",
   "name": "python3"
  },
  "language_info": {
   "codemirror_mode": {
    "name": "ipython",
    "version": 3
   },
   "file_extension": ".py",
   "mimetype": "text/x-python",
   "name": "python",
   "nbconvert_exporter": "python",
   "pygments_lexer": "ipython3",
   "version": "3.8.8"
  }
 },
 "nbformat": 4,
 "nbformat_minor": 5
}
