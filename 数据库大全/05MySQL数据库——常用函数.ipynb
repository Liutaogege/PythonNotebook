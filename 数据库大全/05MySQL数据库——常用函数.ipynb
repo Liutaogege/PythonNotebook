{
 "cells": [
  {
   "cell_type": "markdown",
   "id": "d551c4b9",
   "metadata": {},
   "source": [
    "# 一、常用函数\n",
    "详情查看：https://www.runoob.com/mysql/mysql-functions.html\n",
    "\n",
    "### 1.数学运算\n",
    "        绝对值：select abs(-8) from  \n",
    "        向上取整：select ceiling(8.02) from \n",
    "        向下取整：select floor(8.02)\n",
    "        取一个0-1之间的随机数：select rand()\n",
    "        判断一个数的符号：select sign(-10)\n",
    "        \n",
    "### 2.字符串函数\n",
    "        取字符类型的字段的长度：char_length() 不能对其它类型的使用\n",
    "        字符拼接：concat(key1, key2)\n",
    "        插入,替换(插入长度不等于实际插入长度)函数：insert(target, start_index, insert_content_len, insert_content)， select insert('haha', 0, 4, 'xi')\n",
    "        upper\n",
    "        lower\n",
    "        replace(str, 替换谁, 新内容)\n",
    "        从字符串中截取串：substr(str, 开始位置，截取的长度) \n",
    "        \n",
    "### 3.时间日期函数\n",
    "        current_date: 当前日期\n",
    "        now(): 当前的时间\n",
    "\n",
    "        \n",
    "# 聚合函数（常用）\n",
    "- count()\n",
    "    - count(字段名):这种查法会忽略null值，以下两种不会\n",
    "    - count(*):\n",
    "    - count(1):\n",
    "- max()\n",
    "- min()\n",
    "- sum()\n",
    "- avg()\n",
    "        \n",
    "## count(*)与count(1)的区别：\n",
    "- 对于myisam引擎来说\n",
    "    - 1.行数本身就是一个已经存储好的变量，这两者的使用效果是一样的\n",
    "    - 2.如果对他们使用了where语句，查询效率都会变慢\n",
    "- 对于InnoDB引擎来说\n",
    "    - 先说说InnoDB的索引：而Innodb的主键索引是聚簇索引（包含了KEY，除了KEY之外的其他字段值，事务ID和MVCC回滚指针）所以主键索引一定会比二级索引（包含KEY和对应的主键ID）大，\n",
    "    - 首先count(*)和count(1)它们都是基于索引查找的，如果有二级索引，哪怕你查的不是二级索引这个字段，它都会调用二级索引进行查询\n",
    "    - 对于count(1),1表示的是一个表达式，如果该表的第一列非空，那么它和count(*)的效果是一样的，引擎对它们都会做同样的优化\n",
    "    - 但是如果第一列定义的不是非空，又没有二级索引，这个count(1)可能就会花费更多的时间去找一个索引，引擎对他的优化就会无效。但是count(*)已经注定是内置优化了\n",
    "    - 官方推荐使用count(*)"
   ]
  },
  {
   "cell_type": "code",
   "execution_count": null,
   "id": "9b65226e",
   "metadata": {},
   "outputs": [],
   "source": []
  }
 ],
 "metadata": {
  "kernelspec": {
   "display_name": "Python 3",
   "language": "python",
   "name": "python3"
  },
  "language_info": {
   "codemirror_mode": {
    "name": "ipython",
    "version": 3
   },
   "file_extension": ".py",
   "mimetype": "text/x-python",
   "name": "python",
   "nbconvert_exporter": "python",
   "pygments_lexer": "ipython3",
   "version": "3.8.8"
  }
 },
 "nbformat": 4,
 "nbformat_minor": 5
}
