{
 "cells": [
  {
   "cell_type": "markdown",
   "metadata": {},
   "source": [
    "# 连接步骤\n",
    "- 1.安装redis：\n",
    "    - pip install redis -i https://pypi.douban.com/simple\n",
    "- 2.启动redis-server服务\n",
    "    - Windows在powershell中输入：redis-server\n",
    "    - linux中输入：redis-server 配置文件路径\n",
    "- 3.连接案例如下；"
   ]
  },
  {
   "cell_type": "code",
   "execution_count": null,
   "metadata": {},
   "outputs": [],
   "source": [
    "import redis\n",
    "\n",
    "# 首先实例化一个redis对象\n",
    "redisCli = redis.Redis(\n",
    "    host=\"127.0.0.1\", port=6379, db=0,\n",
    "    # decode_responses为True则返回的数据默认为utf-8字符串\n",
    "    decode_responses=True\n",
    ")\n",
    "\n",
    "# 测试连接是否成功\n",
    "# print(redisCli.ping())\n",
    "\n",
    "# # 创建字符串数据\n",
    "redisCli.set(\"name\", \"liutao\")\n",
    "print(redisCli.get(\"name\"))\n",
    "\n",
    "# 创建列表数据\n",
    "redisCli.lpush(\"girls\", \"diaochan\", \"xishi\")\n",
    "print(redisCli.lrange(\"girls\",0, -1))\n",
    "\n",
    "# 创建哈希数据\n",
    "redisCli.hset(\"countries\", \"china\", \"maotai\")\n",
    "print(redisCli.hget(\"countries\", \"china\"))\n",
    "\n",
    "# 创建集合数据\n",
    "redisCli.sadd(\"boys\", \"shaunglin\", \"shuangsheng\", \"xinlun\")\n",
    "print(redisCli.smembers(\"boys\"))\n",
    "\n",
    "# 创建"
   ]
  }
 ],
 "metadata": {
  "kernelspec": {
   "display_name": "Python 3",
   "language": "python",
   "name": "python3"
  },
  "language_info": {
   "codemirror_mode": {
    "name": "ipython",
    "version": 3
   },
   "file_extension": ".py",
   "mimetype": "text/x-python",
   "name": "python",
   "nbconvert_exporter": "python",
   "pygments_lexer": "ipython3",
   "version": "3.7.3"
  }
 },
 "nbformat": 4,
 "nbformat_minor": 2
}
