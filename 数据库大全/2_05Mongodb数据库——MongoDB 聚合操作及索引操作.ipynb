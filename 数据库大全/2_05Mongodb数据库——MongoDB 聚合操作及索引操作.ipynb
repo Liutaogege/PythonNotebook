{
 "cells": [
  {
   "cell_type": "markdown",
   "metadata": {},
   "source": [
    "# 聚合操作aggregation\n",
    "- 聚合操作aggregation处理数据记录并返回计数结果\n",
    "- 聚合操作将来自多个文档的值分组在一起，并且可以对分组后的数值执行各种操作以返回单个结果。MongoDB提供了三种执行聚合的方法：聚合管道、map-reduce函数和单一用途的聚合方法\n",
    "- 聚合管道： 比如：$$$\n",
    "    - db.orders.aggregate([\n",
    "        {$match: {status: \"A\"}},\n",
    "        {$group: {_id: \"$cust_id\", total: {$sum: \"$amount\"}}}\n",
    "        ])\n",
    "    - db.house_sell.aggregate([{$group: {_id:\"$district\", count: {$sum: 1}}}])\n",
    "    - db.house_sell.find({district: \"虹口\"}).count()\n",
    "\n",
    "### 常用的管道操作符\n",
    "$$$\n",
    "- $match  过滤文档\n",
    "- $sort   将文档进行排序\n",
    "- $group  分组可用于统计结果\n",
    "- $project  修改文档的结构，通常用于字段重命名，指定输出字段等\n",
    "- 比如:db.house_sell.count({\"district\": \"虹口\"}), db.house_sell.distinct(\"district\")\n",
    "\n",
    "\n",
    "### 单个集合聚合文档\n",
    "$$$\n",
    "- db.collectionName.estimatedDocumentCount(): 查询集合文档数量\n",
    "- db.collectionName.count(<query>)  按条件查询集合文档数量\n",
    "- db.collectionName.distinct()   按照字段进行去重，返回数组"
   ]
  },
  {
   "cell_type": "markdown",
   "metadata": {},
   "source": [
    "# MongoDB索引\n",
    "- 索引支持MongoDB中查询的高效执行，如果没有索引，MongoDB必须执行集合扫描，即扫描集合中的每个文档，以选择与查询语句匹配的文档，如果查询存在适当的索引，则MongoDB 可以使用 索引来限制它必须检查的文档的数量 \n",
    "-  从根本上说，MongoDB中的索引与其它数据库系统中的索引相似，MongoDB在集合级别定义索引，并支持MongoDB集合中文档的任何字段或子字段的索引\n",
    "- 在集合创建期间，MongoDB在_id字段上创建一个唯一的索引，_id索引防止客户端为_id字段插入两个值相同的文档，不能在_id字段中删除此索引\n",
    "\n",
    "## 索引相关操作命令\n",
    "### 创建索引\n",
    "- 除了MongoDB定义的_id索引之外，MongoDB还支持在文档的单个字段上创建用户定义的升序/降序索引\n",
    "- 在name字段上创建一个单键下降索引\n",
    "    - db.collection.createIndex({name: -1})\n",
    "    - 参数必须为object类型\n",
    "- mongodb还支持多个字段的用户定义索引，即复合索引\n",
    "    - db.collection.createIndexes([x:1, y:1])\n",
    "        - 参数必须为array类型\n",
    "        - 则索引首先anx进行排序，然后在x值内按y进行排序\n",
    "    - 创建单一索引\n",
    "        - db.collection.createIndexes([name: 1])\n",
    "\n",
    "### 其他命令\n",
    "- 查看索引：db.collection.getIndexes()\n",
    "- 删除索引：db.collection.dropIndex(index_name),index_name根据查看索引 来填写。比如db.house_sell.dropIndex(\"price_-1\")"
   ]
  }
 ],
 "metadata": {
  "kernelspec": {
   "display_name": "Python 3",
   "language": "python",
   "name": "python3"
  },
  "language_info": {
   "codemirror_mode": {
    "name": "ipython",
    "version": 3
   },
   "file_extension": ".py",
   "mimetype": "text/x-python",
   "name": "python",
   "nbconvert_exporter": "python",
   "pygments_lexer": "ipython3",
   "version": "3.7.3"
  }
 },
 "nbformat": 4,
 "nbformat_minor": 2
}
