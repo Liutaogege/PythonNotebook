{
 "cells": [
  {
   "cell_type": "markdown",
   "metadata": {},
   "source": [
    "# redis配置文件解读\n",
    "- redis服务启动方式\n",
    "    - redis-server 配置文件\n",
    "- redis持续化机制RDB\\AOF\n",
    "    - 总结：\n",
    "        - rdb每间隔一段时间，到达持续化触发条件，一次性将redis内存中的数据存在硬盘上（redis dump database）\n",
    "           - 格式：save <seconds> <changes>，比如save 300 10\n",
    "            - 表示过了多少时间（s）后key中的值发生了多少次变化后就将该key保存进我们的磁盘\n",
    "        - AOF redis服务运行期间，连续性将redis内存中的数据保存在硬盘上（Append Only File）\n",
    "\n",
    "- RDB vs AOF\n",
    "        类型    恢复速度    文件体积     持续化    启动优先级    资源占用\n",
    "        AOF      慢        大         很强        高            分散型\n",
    "        RDB      块        小         强          低             集中性"
   ]
  }
 ],
 "metadata": {
  "kernelspec": {
   "display_name": "Python 3",
   "language": "python",
   "name": "python3"
  },
  "language_info": {
   "codemirror_mode": {
    "name": "ipython",
    "version": 3
   },
   "file_extension": ".py",
   "mimetype": "text/x-python",
   "name": "python",
   "nbconvert_exporter": "python",
   "pygments_lexer": "ipython3",
   "version": "3.7.3"
  }
 },
 "nbformat": 4,
 "nbformat_minor": 2
}
