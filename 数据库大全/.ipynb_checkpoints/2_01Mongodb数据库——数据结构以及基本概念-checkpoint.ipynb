{
 "cells": [
  {
   "cell_type": "markdown",
   "metadata": {},
   "source": [
    "# 数据结构\n",
    "- 数据有三种类型：结构化数据，半结构化数据，非结构化数据\n",
    "\n",
    "## 结构化数据\n",
    "- 指可以使用关系型数据库（Postgresql）表示和存储，表现为二维形式的数据，一般特点是：数据以行为单位，一行数据表示一个实体的信息，每一行数据的属性是相同的\n",
    "\n",
    "## 半结构化数据\n",
    "-  它并不符合关系型数据库或其他数据表形式关联起来的数据模型结构，但包含相关标记，用来分隔语义元素以及对记录和字段进行分层\n",
    "- 属于同一类实体可以有不同的属性，即使他们被组合在一起，这些属性的顺序并不重要，比如在某个mongo集合中，可以同时存储以下三条数据\n",
    "    - {name: \"小米\", age: 18}\n",
    "    - {name: \"康康\", hobby: \"make friends\"}\n",
    "    - {name: \"李玲\", hometown: {province: \"河南\", city: \"郑州\"}}\n",
    "    - 常用的最典型的半结构数据：json，即在各类编程语言中的map类型，字典类型\n",
    "    \n",
    "## 非结构化数据\n",
    "- 数据结构不规则或不完整，没有 预定义的数据模型，不方便用数据库二维逻辑来表现的数据。包括所有格式的办公文档、文本、图片、HTML、各类报表、图像和音频、视频信息等\n",
    "\n",
    "## DBMS（数据库管理系统database manager system）的选择\n",
    "- 数据库的分类：关系型数据库SQL和非关系型数据库\n",
    "- SQL代表：Oracle，MySQL， PostgreSQL\n",
    "- NoSQL:NoSQL数据库是关系表以外的格式存储数据的数据库，存储和检索数据无需定义数据结构代表产品，MongoDB ，redis\n",
    "\n",
    "- 数据库管理系统 的选择\n",
    "        结构化数据  SQL\n",
    "        半结构化数据  NoSQL\n",
    "        非结构化数据  SQL， NoSQL"
   ]
  },
  {
   "cell_type": "markdown",
   "metadata": {},
   "source": [
    "# MongoDB数据库介绍\n",
    "- MongoDB 是一个基于分布式文件存储的数据库。由 C++ 语言编写。旨在为 WEB 应用提供可扩展的高性能数据存储解决方案， 是一个介于关系数据库和非关系数据库之间的产品，是非关系数据库当中功能最丰富，最像关系数据库的。\n",
    "- MongoDB 将数据存储为一个文档，数据结构由键值(key=>value)对组成。MongoDB 文档类似于 JSON 对象。字段值可以包含其他文档，数组及文档数组。\n",
    "- 是可以用于各种规模的企业，各个行业以及各类应用程序的开源文档型数据库 \n",
    "    - 文档模式：\n",
    "        - MongoDB具有对象思维\n",
    "        - MongoDB是一个文档型数据库，意味着它可以存储类似json的数据，与传统的行/列模式相比，这是一种考虑数据最自然的方式 ，也更具表现力与强有力\n",
    "- 概念介绍：\n",
    "        SQL术语概念       MongoDB术语概念      解释\n",
    "        database          database         数据库\n",
    "        table            collection        数据库表/集合\n",
    "        row             document          数据记录行/文档\n",
    "        column           field            数据字段/域\n",
    "        index            index            索引\n",
    "        joins            无             表连接\n",
    "        primary key        primary key       主键，MongoDB主动将id字段设置为主键\n",
    "        \n",
    "## MongoDB的特性\n",
    "- 易扩展\n",
    "    - 没有关系型数据库的关系型特性，数据之间可以无关系，这就非常容易扩展，它可以从单服务器部署扩展到大型、复杂的多数据中心架构\n",
    "    - 高性能：NoSQL数据库都具有非常高的读写性能，尤其在大量数据情况下，同样表现优秀，这得益于它的无关性，利用内层计算的优势，MongoDB能够提供高性能的数据读写操作\n",
    "\n",
    "- 灵活性、高可用\n",
    "    - 无需为要存储的数据建立字段，也无需创建数据库和集合（SQL数据库中叫作表），随时可用存储自定义的数据格式"
   ]
  },
  {
   "cell_type": "code",
   "execution_count": null,
   "metadata": {},
   "outputs": [],
   "source": []
  },
  {
   "cell_type": "code",
   "execution_count": null,
   "metadata": {},
   "outputs": [],
   "source": []
  },
  {
   "cell_type": "code",
   "execution_count": null,
   "metadata": {},
   "outputs": [],
   "source": []
  },
  {
   "cell_type": "code",
   "execution_count": null,
   "metadata": {},
   "outputs": [],
   "source": []
  }
 ],
 "metadata": {
  "kernelspec": {
   "display_name": "Python 3",
   "language": "python",
   "name": "python3"
  },
  "language_info": {
   "codemirror_mode": {
    "name": "ipython",
    "version": 3
   },
   "file_extension": ".py",
   "mimetype": "text/x-python",
   "name": "python",
   "nbconvert_exporter": "python",
   "pygments_lexer": "ipython3",
   "version": "3.7.3"
  }
 },
 "nbformat": 4,
 "nbformat_minor": 2
}
