{
 "cells": [
  {
   "cell_type": "markdown",
   "metadata": {},
   "source": [
    "# Python操作MongoDB\n",
    "- 导入模块：import pymongo\n",
    "- 使用步骤：\n",
    "    - 1.获取链接mongodb的对象\n",
    "        client = pymongo.MongoClient(\"127.0.0.1\", port=27017)\n",
    "        默认IP地址就是本机，端口号默认是27017\n",
    "    - 2.获取数据库，若对象中不包含这个数据库，则会新建一个\n",
    "        db = client.testing\n",
    "    - 3.获取数据库中的集合（就是MySQL中的表）\n",
    "        collection = db.test\n",
    "    - 4.写入数据\n",
    "        collection.insert({\"username\":litao, \"age\":18, \"address\":\"chengdu\"})"
   ]
  },
  {
   "cell_type": "code",
   "execution_count": null,
   "metadata": {},
   "outputs": [
    {
     "name": "stdout",
     "output_type": "stream",
     "text": [
      "Collection(Database(MongoClient(host=['127.0.0.1:27017'], document_class=dict, tz_aware=False, connect=True), 'testing'), 'test')\n"
     ]
    }
   ],
   "source": [
    "import pymongo\n",
    "\n",
    "client = pymongo.MongoClient(\"127.0.0.1\", port=27017)\n",
    "db = client.testing\n",
    "collection = db.test\n",
    "print(collection)\n",
    "collection.insert_one({'username':\"jiaojiao\", \"age\": 21, \"address\": \"sichuan\"})\n",
    "print(db)"
   ]
  }
 ],
 "metadata": {
  "kernelspec": {
   "display_name": "Python 3",
   "language": "python",
   "name": "python3"
  },
  "language_info": {
   "codemirror_mode": {
    "name": "ipython",
    "version": 3
   },
   "file_extension": ".py",
   "mimetype": "text/x-python",
   "name": "python",
   "nbconvert_exporter": "python",
   "pygments_lexer": "ipython3",
   "version": "3.7.3"
  }
 },
 "nbformat": 4,
 "nbformat_minor": 2
}
