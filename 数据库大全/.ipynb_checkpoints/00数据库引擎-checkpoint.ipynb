{
 "cells": [
  {
   "cell_type": "markdown",
   "id": "210eabc0",
   "metadata": {},
   "source": [
    "# 数据库引擎\n",
    "\n",
    "## 1.MyISAM\n",
    "    MyISAM是MySQL对于ISAM的扩展引擎，在MySQL5.6以后的版本出现，简单来说ISAM引擎有的东西，它都有，MyISAM提供了索引和字段管理的大量功能，MyISAM还提供了表格锁定的机制用来优化多个并发的读写操作、但是有代价的，要经常运行 OPTIMIZE TABLE 命令来恢复优化过机制所浪费的空间、MyISAM知道自己的缺点所以提供了优化工具、比如MyISAMCHK工具用来恢复浪费的空间。\n",
    "\n",
    "- 优缺点：\n",
    "    - 优点：\n",
    "        增强了ISAM引擎的功能，增加了索引、表格锁的机制优化并发读写\n",
    "    - 缺点：\n",
    "        因为有了表格锁的机制、最大的缺陷就是不能在表损坏后恢复数据，和ISAM一样不支持事物，数据量越大、写入效率越低。\n",
    "\n",
    "- 使用注意点：\n",
    "    数据要备份、虽然有索引提升效率，但是要正确的使用索引，如果索引的字段越多维护索引的信息就会越多，随着数据量的增加，相对的效率也会降低。\n",
    "\n",
    "        \n",
    "\n",
    "## 2.InnoDB\n",
    "    InnoDB数据库引擎他能弥补ISAM、MyISAM的不足之处，他能支持事物的处理、也能支持外键、尽管比ISAM、MyISAM的查询速度慢一点，但是自身‘全能’的优点完全可以胜出，现在MySQL5.6以上的版本默认的数据库引擎是InnoDB引擎MySQL，官方对InnoDB是这样解释的：InnoDB给MySQL提供了具有提交、回滚和崩溃恢复能力的事务安全（ACID兼容）存储引擎。InnoDB锁定在行级并且也在SELECT语句提供一个Oracle风格一致的非锁定读，这些特色增加了多用户部署的性能。没有在InnoDB中扩大锁定的需要，因为在InnoDB中行级锁定适合非常小的空间。InnoDB也支持FOREIGN KEY强制。在SQL查询中，你可以自由地将InnoDB类型的表与其它MySQL的表的类型混合起来，甚至在同一个查询中也可以混合。\n",
    "\n",
    "- 优点：\n",
    "    遵循ACID模式设计，具有事务，回滚和保护用户数据的崩溃恢复能力，InnoDB为大数据量发挥最大性能而设计的，针对提升CPU的效率而生，其它任何基于磁盘的关系数据库引擎都不能和它做比较。\n",
    "- 缺点：\n",
    "    没有MyISAM、ISAM查询速度来的快。\n",
    "\n",
    "\n",
    "## InnoDB与Myisam对比\n",
    "    1.InnoDB支持事务，MyISAM不支持，对于InnoDB每一条SQL语言都默认封装成事务，自动提交，这样会影响速度，所以最好把多条SQL语言放在begin transaction和commit之间，组成一个事务；\n",
    "    2.InnoDB支持外键，而MyISAM不支持。对一个包含外键的InnoDB表转为MYISAM会失败；\n",
    "    3.InnoDB是聚集索引，数据文件是和索引绑在一起的，必须要有主键，通过主键索引效率很高。但是辅助索引需要两次查询，先查询到主键，然后再通过主键查询到数据。因此，主键不应该过大，因为主键太大，其他索引也都会很大。而MyISAM是非聚集索引，数据文件是分离的，索引保存的是数据文件的指针。主键索引和辅助索引是独立的。\n",
    "    4.InnoDB不保存表的具体行数，执行select count(*) from table时需要全表扫描。而MyISAM用一个变量保存了整个表的行数，执行上述语句时只需要读出该变量即可，速度很快；\n",
    "    5.Innodb不支持全文索引，而支持全文索引，查询效率上MyISAM要高；\n",
    "    主要就是：\n",
    "                            myisam          InnoDB\n",
    "                事务支持      不支持           支持\n",
    "                数据行锁定     不支持          支持\n",
    "                外键约束       不支持          支持\n",
    "                全文索引       不支持          支持\n",
    "                表空间大小      较小            它的2倍\n",
    "    生成文件的对比：\n",
    "                myisam\n",
    "                        .frm:表结构的定义文件\n",
    "                        .MYD:数据文件\n",
    "                        .MYI:表的索引信息\n",
    "                InnoDB\n",
    "                        只有一个.frm文件和上级目录下的ibdata1文件\n",
    "作者：陈_志鹏\n",
    "链接：https://www.jianshu.com/p/10bd74ab7cbe"
   ]
  },
  {
   "cell_type": "code",
   "execution_count": null,
   "id": "0b1682a7",
   "metadata": {},
   "outputs": [],
   "source": []
  }
 ],
 "metadata": {
  "kernelspec": {
   "display_name": "Python 3",
   "language": "python",
   "name": "python3"
  },
  "language_info": {
   "codemirror_mode": {
    "name": "ipython",
    "version": 3
   },
   "file_extension": ".py",
   "mimetype": "text/x-python",
   "name": "python",
   "nbconvert_exporter": "python",
   "pygments_lexer": "ipython3",
   "version": "3.8.8"
  }
 },
 "nbformat": 4,
 "nbformat_minor": 5
}
