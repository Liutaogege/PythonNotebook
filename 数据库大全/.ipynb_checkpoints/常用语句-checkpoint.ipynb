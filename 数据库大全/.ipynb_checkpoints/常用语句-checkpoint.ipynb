{
 "cells": [
  {
   "cell_type": "markdown",
   "metadata": {},
   "source": [
    "# 常用sql语句\n",
    "- 查看表的列名及类型\n",
    "    - select column_name,data_type from information_schema.columns where table_name = '表名'\n",
    "- 连接两个表并筛选\n",
    "    - select * from construction_dispatch c left join manager_people_manager_people m on c.p_principal=m.id where out_name='陈敏'\n",
    "    - select * from construction_dispatch c left join manager_people_manager_people m on c.p_principal=m.id and out_name='陈敏'\n",
    "    - 用where才有过滤效果，and没有\n",
    "- 转换类型\n",
    "    - select to_char(date_record, 'yyyy/mm/dd hh24:mi:ss') from action_record\n",
    "    - 同样可以转换数字"
   ]
  }
 ],
 "metadata": {
  "kernelspec": {
   "display_name": "Python 3",
   "language": "python",
   "name": "python3"
  },
  "language_info": {
   "codemirror_mode": {
    "name": "ipython",
    "version": 3
   },
   "file_extension": ".py",
   "mimetype": "text/x-python",
   "name": "python",
   "nbconvert_exporter": "python",
   "pygments_lexer": "ipython3",
   "version": "3.8.5"
  }
 },
 "nbformat": 4,
 "nbformat_minor": 4
}
