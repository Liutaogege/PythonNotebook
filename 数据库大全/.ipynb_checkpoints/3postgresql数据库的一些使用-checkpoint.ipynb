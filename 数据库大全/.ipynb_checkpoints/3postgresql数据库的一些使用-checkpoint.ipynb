{
 "cells": [
  {
   "cell_type": "markdown",
   "id": "6be3aa37",
   "metadata": {},
   "source": [
    "## 进入postgresql指定的数据库\n",
    "以默认用户postgres登录：/Library/PostgreSQL/10/bin/psql\n",
    "进入某个数据库：/Library/PostgreSQL/10/bin/psql -U liutao -d km_2 -h 127.0.0.1 -p 5432（前提是要存在该用户和该数据库）\n",
    "\n",
    "如果没有用户和数据库，则创建用户和数据库：步骤如下：\n",
    "\n",
    "    第一种方式：使用postgresql命令行\n",
    "        1.新建一个Linux新用户：sudo adduser dbuser\n",
    "        2.切换到postgres用户：sudo su - postgres\n",
    "        3.以postgres用户登录psql控制台：/Library/PostgreSQL/11/bin/psql -U postgres（如果postgres用户没有设置密码就，使用password postgres 给它设置密码)\n",
    "        4.创建一个与刚才linux新用户同名的数据库用户：CREATE USER dbuser WITH PASSWORD 'password';\n",
    "        5.创建用户数据库并指定所有者为dbuser：CREATE DATABASE exampledb OWNER dbuser;\n",
    "        6.将exampledb数据库的所有权限都赋予dbuser，否则dbuser只能登录控制台，没有任何数据库操作权限：GRANT ALL PRIVILEGES ON DATABASE exampledb to dbuser;\n",
    "        然后就可以使用进入数据库的命令进入数据库了。\n",
    "        \n",
    "    第二种方式：使用shell\n",
    "        1.创建数据库用户dbuser，并指定其为超级用户：sudo -u postgres createuser --superuser dbuser\n",
    "        2.登录数据库控制台，设置dbuser用户的密码,然后又返回到shell：sudo -u postgres psql    \\password dbuser\n",
    "        3.创建数据库exampledb，并指定所有者为dbuser：sudo -u postgres createdb -O dbuser exampledb"
   ]
  },
  {
   "cell_type": "markdown",
   "id": "f50d4e2e",
   "metadata": {},
   "source": [
    "# postgresql控制台命令\n",
    "    除了前面已经用到的\\password命令（设置密码）和\\q命令（退出）以外，控制台还提供一系列其他命令。\n",
    "\n",
    "    \\h：查看SQL命令的解释，比如\\h select。\n",
    "\n",
    "    \\?：查看psql命令列表。\n",
    "\n",
    "    \\l：列出所有数据库。 相当于mysql的，mysql> show databases;\n",
    "\n",
    "    \\c [database_name]：连接其他数据库。\n",
    "\n",
    "    \\d：列出当前数据库的所有表格。\n",
    "\n",
    "    \\d [table_name]：列出某一张表格的结构。\n",
    "\n",
    "    \\du：列出所有用户。\n",
    "\n",
    "    \\e：打开文本编辑器。\n",
    "\n",
    "    \\conninfo：列出当前数据库和连接的信息。\n",
    "    \n",
    "    \\di:查看所有索引                   //相当于mysql的，mysql> show index from test;\n",
    "    \n",
    "    \\dt：查看所有表                     //相当于mysql的，mysql> show tables;\n",
    "    \n",
    "    \\d table_name;: 查看单表           //相当于mysql的，mysql> desc test;\n",
    "    \n",
    "    \n",
    "#### 一些比较重要的sql语句：\n",
    "    select pg_database_size('db_name');    //查看指定数据库的大小\n",
    "    select pg_database.datname, pg_database_size(pg_database.datname) AS size from pg_database;    //查看所有数据库的大小\n",
    "    select pg_size_pretty(pg_database_size('db_name'));      //以KB，MB，GB的方式来查看数据库大小\n",
    "    select pg_size_pretty(pg_relation_size('table_name'));   //以KB，MB，GB的方式来查看表大小\n",
    "    \n",
    "    查看索引：\n",
    "        \\di命令能查看所有索引，但不能指定具体是哪张表的索引，索引信息是全部放在pg_stat_user_indexes这张表里面的，可以使用\\d+ pg_stat_user_indexes;来查看它的具体用法。语法如下：\n",
    "        \n",
    "            select \n",
    "                relname, indexrelname, idx_scan, idx_tup_read, idx_tup_fetch \n",
    "            from \n",
    "                pg_stat_user_indexes \n",
    "            where\n",
    "                relname = 'table_name'\n",
    "            order by \n",
    "                idx_scan asc, idx_tup_read asc, idx_tup_fetch asc;"
   ]
  },
  {
   "cell_type": "code",
   "execution_count": null,
   "id": "7caa2b69",
   "metadata": {},
   "outputs": [],
   "source": []
  },
  {
   "cell_type": "code",
   "execution_count": null,
   "id": "e00f824a",
   "metadata": {},
   "outputs": [],
   "source": []
  },
  {
   "cell_type": "code",
   "execution_count": null,
   "id": "b2fc5ada",
   "metadata": {},
   "outputs": [],
   "source": []
  }
 ],
 "metadata": {
  "kernelspec": {
   "display_name": "Python 3",
   "language": "python",
   "name": "python3"
  },
  "language_info": {
   "codemirror_mode": {
    "name": "ipython",
    "version": 3
   },
   "file_extension": ".py",
   "mimetype": "text/x-python",
   "name": "python",
   "nbconvert_exporter": "python",
   "pygments_lexer": "ipython3",
   "version": "3.8.8"
  }
 },
 "nbformat": 4,
 "nbformat_minor": 5
}
