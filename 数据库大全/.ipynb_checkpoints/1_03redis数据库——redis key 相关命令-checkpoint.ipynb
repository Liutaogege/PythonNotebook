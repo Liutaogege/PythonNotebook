{
 "cells": [
  {
   "cell_type": "markdown",
   "metadata": {},
   "source": [
    "# redis键key相关命令\n",
    "#### 有关key的命令：\n",
    "- 1.keys：查找所有符合给定模式pattern的key\n",
    "    - 最常用的命令：keys * 匹配数据库中所有 的key\n",
    "    - keys h?llo , 问号代表一个任一字符\n",
    "    -  keys h*llo, *代表任意多个字符\n",
    "    - keys h[ae]llo， 匹配a和e中的任意一个\n",
    "- 2.del：del key[key...] 删除给定的一个或多个key\n",
    "    - 删除 任意数据类型的key\n",
    "    - 不存在的key会被忽略\n",
    "- 3.exists：exists key检查给定key是否存在\n",
    "- 4.type : type  key 返回key所存储的类别\n",
    "- 5.move：move key db：将当前数据库的key移动到指定的数据库db当中\n",
    "    - 默认数据库有16个，数据库名分别用0-15来表示\n",
    "    - 如果 目标db和当前数据库一样，则产生错误\n",
    "    - 如果当前数据库和目标数据库db有相同的名字的给定key，或者key不存在与当前数据库，那么move没有任何效果\n",
    "- 6.randomkey: randdomkey, 从当前数据库总随机返回（不删除）一个key\n",
    "    - 当数据库不为空时，返回一个key，当数据库为空时，返回特殊值nil\n",
    "- 7.rename： rename key newkey将key 改名为newkey\n",
    "    - 当key不存在时，返回一个错误\n",
    "    - 当newkey已经存在时，rename命令将覆盖旧值（不同类型也会覆盖）\n",
    "- 8.renamenx：rename key newkey\n",
    "    - 当前仅当newkey不存在时，将key 改名为newkey\n",
    "    -  当key不存在时 ，返回一个错误\n",
    "    \n",
    "- flushdb：清空当前数据库\n",
    "- flushall：清空整个数据库（慎用）"
   ]
  }
 ],
 "metadata": {
  "kernelspec": {
   "display_name": "Python 3",
   "language": "python",
   "name": "python3"
  },
  "language_info": {
   "codemirror_mode": {
    "name": "ipython",
    "version": 3
   },
   "file_extension": ".py",
   "mimetype": "text/x-python",
   "name": "python",
   "nbconvert_exporter": "python",
   "pygments_lexer": "ipython3",
   "version": "3.7.3"
  }
 },
 "nbformat": 4,
 "nbformat_minor": 2
}
