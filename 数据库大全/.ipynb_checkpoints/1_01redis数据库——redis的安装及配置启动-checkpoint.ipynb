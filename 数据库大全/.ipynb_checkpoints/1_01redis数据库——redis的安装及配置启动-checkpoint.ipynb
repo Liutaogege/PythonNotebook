{
 "cells": [
  {
   "cell_type": "markdown",
   "metadata": {},
   "source": [
    "#  NoSQL数据库\n",
    "- （Not only SQL）：not only struct query language\n",
    "- SQL：关系型数据库中的数据存储在被称为表的数据库对象中，表示相关的数据项的集合，它由列和行组成\n",
    "\n",
    "- NO SQL：它是以关系表以外的格式存储数据的数据库，存储和检索数据无需预先定义数据结构\n",
    "    - 代表：redis和MongoDB\n",
    "- NoSQL数据库类型有：\n",
    "    - 键值（key-value）数据库\n",
    "        - 比如redis，riak，Memcached\n",
    "        - 使用场景：用来存储用户信息，比如会员，配置文件，参数，购物车等\n",
    "    - 文档（Document-Oriented）数据库\n",
    "        - 比如MongoDB，CouchDB， RavenDB\n",
    "        - 使用场景：日志，分析数据，能够存储各种 类型的数据\n",
    "    - 列存储数据库\n",
    "        - 比如Hbase，Cassandra \n",
    "        - 使用场景：日志，博客平台，标签可以存储到一列，类别可以存储到另一列，文章可以存储在另外一列\n",
    "    - 图数据库 \n",
    "        - Neo4J， OrientDB\n",
    "        - 使用场景：在一些关系性强的数据库可以使用，作为推荐引擎的数据库\n",
    "    \n",
    "# Redis数据库\n",
    "- 它是用c语言开发的一个开源的高性能键值对（key-value）数据库，是现在最受欢迎的NoSQL数据库之一，其具备如下特性：\n",
    "    - 基于内存运行，性能高效\n",
    "    - 支持分布式，理论上可用无限扩展 \n",
    "        - 假如总共有1亿的爬虫任务，将任务分布又3台或3台以上机器搭建的redis分布式系统中，减小单机的内存压力\n",
    "    - key-value存储系统\n",
    "        - value类型：如字符串，散列，列表，集合，有序集合\n",
    "    - 开源遵守BSD协议，支持网络\n",
    "    - 可基于内存亦可持久化存储（AOF和RDB两种机制），提供多种语言的api（python，go， Java）\n",
    "    \n",
    "## redis安装\n",
    "- redis项目还没正式支持Windows，但由于其是开源的，微软开放技术小组开发并维护了针对win64的Windows接口程序，提供了一个Windows版本的redis分支\n",
    "- 注意：redis官网只有Linux版本\n",
    "- 下载地址：\n",
    "    - Linux版本：https://redis.io/download\n",
    "    - windows版本：（推荐下载使用更高版本5.0）\n",
    "        - https://github.com/tporadowski/redis/releases\n",
    "- windows安装：无非就是在安装时将路径添加到环境变量\n",
    "    - 验证是否安装成功\n",
    "    - home+R后输入powershell，然后输入redis-cli --version以及redis-cli若弹出版本信息以及端口号则安装成功\n",
    "- Linux安装：\n",
    "    - wget 安装包网址 或者下载安装包\n",
    "    - 解压：tar -vxf redis-6.0.6.tar.gz\n",
    "    - mv redis-6.0.6 /usr/local/redis\n",
    "        - 一般将软件安装在/usr/local/目录下，非必须，\n",
    "    - cd /usr/local/redis\n",
    "    - make\n",
    "        - 执行make命令，等待redis安装成功\n",
    "        - 之后建立软链接：ln -s /usr/local/redis6.0/src/redis-cli /usr/local/bin.然后输入redis-cli即可"
   ]
  },
  {
   "cell_type": "markdown",
   "metadata": {},
   "source": [
    "# redis配置文件与启动方式\n",
    "- 配置文件（redis.conf）\n",
    "    - bind 127.0.0.1\n",
    "        - 绑定ip，注释掉，就代表监听本机所有可用的ip（如192.169.2.10）\n",
    "    - protected-mode yes\n",
    "        - 保护模式，默认打开，关闭为no可用接受非本机连接、远程连接\n",
    "    - port 6379\n",
    "        - 默认监听端口6379，可以更改为6380， 6381， 8000, 8888等\n",
    "    - daemonize no\n",
    "        - 守护模式，yes为后台运行（windwos不支持此项设置 ）\n",
    "\n",
    "- 启动方式\n",
    "    - 服务端：\n",
    "        - redis-server 配置文件\n",
    "        - 比如：redis-server ~/confs/redis6379.conf\n",
    "            - 配置文件支持相对路径 ，也支持绝对路径\n",
    "    - 客户端：\n",
    "        - redis-cli -h <host> -p <port>\n",
    "            - 如：redis-cli -h 127.0.0.1 -p 6379\n",
    "            - ip和port 默认本机ip 127.0.0.1, 6379\n",
    "            - 因此，本机 可以直接使用redis-cli"
   ]
  },
  {
   "cell_type": "code",
   "execution_count": null,
   "metadata": {},
   "outputs": [],
   "source": []
  },
  {
   "cell_type": "code",
   "execution_count": null,
   "metadata": {},
   "outputs": [],
   "source": []
  },
  {
   "cell_type": "code",
   "execution_count": null,
   "metadata": {},
   "outputs": [],
   "source": []
  },
  {
   "cell_type": "code",
   "execution_count": null,
   "metadata": {},
   "outputs": [],
   "source": []
  },
  {
   "cell_type": "code",
   "execution_count": null,
   "metadata": {},
   "outputs": [],
   "source": []
  },
  {
   "cell_type": "code",
   "execution_count": null,
   "metadata": {},
   "outputs": [],
   "source": []
  },
  {
   "cell_type": "code",
   "execution_count": null,
   "metadata": {},
   "outputs": [],
   "source": []
  },
  {
   "cell_type": "code",
   "execution_count": null,
   "metadata": {},
   "outputs": [],
   "source": []
  },
  {
   "cell_type": "code",
   "execution_count": null,
   "metadata": {},
   "outputs": [],
   "source": []
  },
  {
   "cell_type": "code",
   "execution_count": null,
   "metadata": {},
   "outputs": [],
   "source": []
  }
 ],
 "metadata": {
  "kernelspec": {
   "display_name": "Python 3",
   "language": "python",
   "name": "python3"
  },
  "language_info": {
   "codemirror_mode": {
    "name": "ipython",
    "version": 3
   },
   "file_extension": ".py",
   "mimetype": "text/x-python",
   "name": "python",
   "nbconvert_exporter": "python",
   "pygments_lexer": "ipython3",
   "version": "3.7.3"
  }
 },
 "nbformat": 4,
 "nbformat_minor": 2
}
