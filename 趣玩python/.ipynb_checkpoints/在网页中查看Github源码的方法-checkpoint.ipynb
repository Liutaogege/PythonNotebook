{
 "cells": [
  {
   "cell_type": "markdown",
   "id": "5e95ed4b",
   "metadata": {},
   "source": [
    "# 1.安装sourcegraph插件\n",
    "- 插件地址在Chrome商店中查询安装\n",
    "- 有一个地址：https://chrome.google.com/webstore/detail/sourcegraph/dgjhfomjieaadpoljlnidmbgkdffpack/related\n",
    "\n",
    "# 2.在仓库地址的网址中github后面增加1s\n",
    "- 比如仓库地址为：https://github.com/yangshun/2048-python\n",
    "- 在github后面增加1s： https://github1s.com/yangshun/2048-python\n",
    "- 这是个人开发的\n",
    "\n",
    "# 3.官方开发的\n",
    "- 将网址中的com改为dev\n",
    "- 比如：https://github.com/yangshun/2048-python\n",
    "- 改为：https://github.dev/yangshun/2048-python\n",
    "- 或者直接在com页面中按一下.就可跳转到dev这个页面"
   ]
  },
  {
   "cell_type": "code",
   "execution_count": null,
   "id": "d98a8390",
   "metadata": {},
   "outputs": [],
   "source": []
  }
 ],
 "metadata": {
  "kernelspec": {
   "display_name": "Python 3",
   "language": "python",
   "name": "python3"
  },
  "language_info": {
   "codemirror_mode": {
    "name": "ipython",
    "version": 3
   },
   "file_extension": ".py",
   "mimetype": "text/x-python",
   "name": "python",
   "nbconvert_exporter": "python",
   "pygments_lexer": "ipython3",
   "version": "3.8.8"
  }
 },
 "nbformat": 4,
 "nbformat_minor": 5
}
