{
 "cells": [
  {
   "cell_type": "markdown",
   "id": "76c96d2e",
   "metadata": {},
   "source": [
    "# 生成水印的步骤\n",
    "1.在后端生成svg图片，这个图片可以引入你想设置的内容，包括偏移之类的参数。生成的图片要将她使用base64进行编码\n",
    "        \n",
    "        `def _generate_svg(self, user_name, job_number):\n",
    "        svg_content = \"\"\"\n",
    "                <svg xmlns=\"http://www.w3.org/2000/svg\" width=\"500\" height=\"500\">\n",
    "                    <text x=\"10%\" y=\"10%\"\n",
    "                        text-anchor=\"center\"\n",
    "                        fill=\"rgba(184, 184, 184, 0.5)\"\n",
    "                        transform=\"rotate(-20 150, 100)\"\n",
    "                        style=\"font-size: 16px; font-family: PingFang-SC,Tahoma,Verdana,STHeiTi,simsun,sans-serif;\">\n",
    "                        {user_name} {job_number}\n",
    "                    </text>\n",
    "                    <text x=\"45%\" y=\"80%\"\n",
    "                        text-anchor=\"center\"\n",
    "                        fill=\"rgba(184, 184, 184, 0.2)\"\n",
    "                        transform=\"rotate(-20 150, 100)\"\n",
    "                        style=\"font-size: 16px; font-family: PingFang-SC,Tahoma,Verdana,STHeiTi,simsun,sans-serif;\">\n",
    "                        {user_name} {job_number}\n",
    "                    </text>\n",
    "                </svg>\n",
    "                \"\"\".format(user_name=user_name, job_number=job_number)\n",
    "        encode_svg = base64.b64encode(svg_content.encode('utf-8'))\n",
    "        encode_svg_str = encode_svg.decode()\n",
    "        return encode_svg_str`\n",
    "2.生成图片的编码以后，再生成一个div标签，将生成的svg图片作为他的背景图进行填充。\n",
    "        \n",
    "        `_generate_div(self, svg_content):\n",
    "                div_content = \"\"\"<div style=\"position:absolute;top:0;left:0;width:100%;height:500%;z-index:9999;\\\n",
    "                            pointer-events:none;background-repeat:repeat;\\\n",
    "                            background-image:url('data:image/svg+xml;base64,{svg_content}');\"></div>\\\n",
    "                            <div style=\"position:absolute;bottom:-100px;left:0;width:100%;height:500%;z-index:9999;\\\n",
    "                            pointer-events:none;background-repeat:repeat;\\\n",
    "                            background-image:url('data:image/svg+xml;base64,{svg_content}');\"></div>\\\n",
    "                            \"\"\".format(svg_content=svg_content)\n",
    "                return div_content`\n",
    "                \n",
    "3.前端调用：\n",
    "    （1）如果是Python的html文件可以直接将数据传入某个关键字，直接进行渲染。{{data|safe}}\n",
    "    （2）也可以通过js方法调用获得生成的div标签内容，然后新建一个div标签进行渲染。\n",
    "        \n",
    "        `function get_checker_info(data) {\n",
    "            $.ajax({\n",
    "                type: 'get',\n",
    "                url: window.location.origin + '/construct_daily_report/get/info/',\n",
    "                data: data,\n",
    "                success: function (res) {\n",
    "                    if (res) {\n",
    "                        watermark(res);\n",
    "                    }\n",
    "                }\n",
    "            })\n",
    "        }\n",
    "        function watermark(wm_avatar) {\n",
    "            let div = document.createElement(\"div\");\n",
    "            document.body.appendChild(div);\n",
    "            div.innerHTML = wm_avatar;\n",
    "        }\n",
    "        get_checker_info(\" \");`"
   ]
  },
  {
   "cell_type": "code",
   "execution_count": null,
   "id": "caf75fe6",
   "metadata": {},
   "outputs": [],
   "source": []
  }
 ],
 "metadata": {
  "kernelspec": {
   "display_name": "Python 3",
   "language": "python",
   "name": "python3"
  },
  "language_info": {
   "codemirror_mode": {
    "name": "ipython",
    "version": 3
   },
   "file_extension": ".py",
   "mimetype": "text/x-python",
   "name": "python",
   "nbconvert_exporter": "python",
   "pygments_lexer": "ipython3",
   "version": "3.8.8"
  }
 },
 "nbformat": 4,
 "nbformat_minor": 5
}
