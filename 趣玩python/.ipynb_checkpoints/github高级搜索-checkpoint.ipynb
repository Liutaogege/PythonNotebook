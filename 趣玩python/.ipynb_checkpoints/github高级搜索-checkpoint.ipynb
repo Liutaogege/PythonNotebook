{
 "cells": [
  {
   "cell_type": "markdown",
   "id": "f81bd275",
   "metadata": {},
   "source": [
    "- 搜索网址：https://github.com/search/advanced\n",
    "- 搜中文书籍： 中文书籍 in:read.me\n",
    "- 搜索高星python： stars:>=5000 language:python\n",
    "- 搜索某作者： user:torvalds language:C\n",
    "- 搜索Awesome，就是别人整理好的资源：Awesome java\n",
    "- 搜索是某个组织的开源项目： org:google"
   ]
  },
  {
   "cell_type": "code",
   "execution_count": null,
   "id": "3ef06b30",
   "metadata": {},
   "outputs": [],
   "source": []
  }
 ],
 "metadata": {
  "kernelspec": {
   "display_name": "Python 3",
   "language": "python",
   "name": "python3"
  },
  "language_info": {
   "codemirror_mode": {
    "name": "ipython",
    "version": 3
   },
   "file_extension": ".py",
   "mimetype": "text/x-python",
   "name": "python",
   "nbconvert_exporter": "python",
   "pygments_lexer": "ipython3",
   "version": "3.8.8"
  }
 },
 "nbformat": 4,
 "nbformat_minor": 5
}
