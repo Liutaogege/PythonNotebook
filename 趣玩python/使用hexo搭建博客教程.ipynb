{
 "cells": [
  {
   "cell_type": "markdown",
   "metadata": {},
   "source": [
    "# 具体搭建步骤\n",
    "- 参见：https://zhuanlan.zhihu.com/p/102592286\n",
    "- hexo基于node框架，所以需要安装node，下载地址：https://nodejs.cn/\n",
    "- 安装完成之后使用node -v\n",
    "- 安装git：https://git-scm.com/，\n",
    "- 先新建一个Blog目录（随便在某个盘下建一个即可）\n",
    "- 进入Blog目录，然后右键使用git打开\n",
    "- 1.安装：hexo， npm install hexo-cli -g\n",
    "- 2.初始化博客目录hexo init Liutaogege.github.io(Liutaogege是在GitHub上注册的名字）\n",
    "- 3.进入目录：cd Liutaogege.github.io\n",
    "- 4.安装：npm install\n",
    "- 5.hexo clean && hexo g, clean一下，生成静态页面\n",
    "- 6.运行网站： hexo s\n",
    "- 7.打开浏览器输入localhost:4000即可\n",
    "- 8.优化hexo：hexo配置文档 https://hexo.io/docs/configuration.html。vim _config.yml\n",
    "        title: 刘涛博客 \n",
    "        subtitle: 个人网站\n",
    "        descriptoin: 刘涛的个人博客，主要涉及Python，Linux\n",
    "        keywords: python, linux, 教程\n",
    "        author: 刘涛\n",
    "        language: zh\n",
    "- 9.优化主题：主题大全 https://www.zhihu.com/question/24422335。下载next主题到themes的next目录下：git clone https:/github.com/iissnan/hexo-theme-next themes/next\n",
    "- 10.修改_config.yml，修改为theme: next\n",
    "- 11.运行hexo g && hexo s,若网页出现乱码，则使用npm i hexo-renderer-swig,这是版本导致的问题\n",
    "- 12.两种方式新建你的博文：\n",
    "    - 命令形式\n",
    "        - 在blog目录下使用：hexo new article (这里的article写上你的文章名称，这样就会在source/_posts下生成一个article.md文件，用Markdown的语法去写）\n",
    "    - 直接新建方式\n",
    "        - 直接在source/_posts新建一个Markdown文件\n",
    "- 13.hexo打开标签功能\n",
    "    - hexo new page tags,此时source/下生成tags/index.md文件，打开并修改为\n",
    "            type: \"tags\"\n",
    "            comments: false\n",
    "- 14.添加评论功能：第三方评论系统：changyan：https://changyan.kuaizhan.com， Valine：https://github.com/xcss/Valine , 进入官网注册成功后，获取APPID和appsecret\n",
    "- 15.进入themes/next文件夹，打开_config.yml配置文件，配置评论changyan（这里采用changyan）\n",
    "        changyan:\n",
    "            enable: true\n",
    "            appid: 你的appid\n",
    "            appkey: 你的appsecret\n",
    "- 15.配置完成后执行：hexo clean && hexo g && hexo s\n",
    "\n",
    "## 将博客注册为一个网站\n",
    "- \n",
    "- \n",
    "            "
   ]
  }
 ],
 "metadata": {
  "kernelspec": {
   "display_name": "Python 3",
   "language": "python",
   "name": "python3"
  },
  "language_info": {
   "codemirror_mode": {
    "name": "ipython",
    "version": 3
   },
   "file_extension": ".py",
   "mimetype": "text/x-python",
   "name": "python",
   "nbconvert_exporter": "python",
   "pygments_lexer": "ipython3",
   "version": "3.7.3"
  }
 },
 "nbformat": 4,
 "nbformat_minor": 2
}
