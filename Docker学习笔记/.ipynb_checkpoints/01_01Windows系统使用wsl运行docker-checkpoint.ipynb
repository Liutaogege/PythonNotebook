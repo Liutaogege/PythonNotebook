{
 "cells": [
  {
   "cell_type": "markdown",
   "metadata": {},
   "source": [
    "# Windows系统使用wsl运行docker\n",
    "- 1.开启wsl：Windows版本需要满足一定的要求：Windows10 18917及以上。win+R：winver查看。以管理员权限运行Powershell，然后执行下面两条命令\n",
    "    -  dism.exe /online /enable-feature /featurename:Microsoft-Windows-Subsystem-Linux /all /norestart\n",
    "    - dism.exe /online /enable-feature /featurename:VirtualMachinePlatform /all /norestart\n",
    "- 2.安装子Linux系统：\n",
    "    - 在Windows应用商店搜索Linux系统安装：比如Ubuntu\n",
    "- 3.win+R查看wsl版本：\n",
    "    - wsl -l, wsl -l -v\n",
    "    - 如果版本为1，切换版本为2：wsl --set-version Ubuntu-18.04 2\n",
    "- 4.启动Linux子系统\n",
    "    - 方式一：命令行输入wsl命令\n",
    "    - 方式二：程序菜单启动\n",
    "- 5.安装docker\n",
    "    - curl -skSL https://mirror.azure.cn/repo/install-docker-ce.sh | sh -s -- --mirror AzureChinaCloud\n",
    "    - 通过命令启动docker：\n",
    "        - sudo su\n",
    "        - service start docker"
   ]
  }
 ],
 "metadata": {
  "kernelspec": {
   "display_name": "Python 3",
   "language": "python",
   "name": "python3"
  },
  "language_info": {
   "codemirror_mode": {
    "name": "ipython",
    "version": 3
   },
   "file_extension": ".py",
   "mimetype": "text/x-python",
   "name": "python",
   "nbconvert_exporter": "python",
   "pygments_lexer": "ipython3",
   "version": "3.8.5"
  }
 },
 "nbformat": 4,
 "nbformat_minor": 4
}
