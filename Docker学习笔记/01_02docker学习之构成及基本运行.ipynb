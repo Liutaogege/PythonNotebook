{
 "cells": [
  {
   "cell_type": "markdown",
   "metadata": {},
   "source": [
    "# docker的框架构成\n",
    "- docker系统有两个程序：docker服务端和docker客户端。其中docker服务端是一个服务进程，管理着所有的容器。docker客户端则扮演着docker服务端的远程控制器，可以用来控制docker的服务端进程。大部分情况下，docker服务端和客户端运行在一台机器上\n",
    "- docker包括三个基本概念：\n",
    "    - 镜像（image）：Docker 镜像（Image），就相当于是一个 root 文件系统。用于创建容器\n",
    "    - 容器（container）：镜像（Image）和容器（Container）的关系，就像是面向对象程序设计中的类和实例一样。容器只是应用了附加配置的普通Linux进程\n",
    "    - 仓库（repository）：仓库可看成一个代码控制中心，用来保存镜像。"
   ]
  },
  {
   "cell_type": "markdown",
   "metadata": {},
   "source": [
    "# docker容器运行\n",
    "- docker run 镜像:版本 命令 （表示以镜像新建一个容器并在容器内执行命令）\n",
    "    - 例：docker run ubuntu:15.10 /bin/echo \"Hello world\"\n",
    "    - 表示：Docker 以 ubuntu15.10 镜像创建一个新容器，然后在容器里执行 bin/echo \"Hello world\"，然后输出结果。\n",
    "- docker run可以加入参数：\n",
    "    - -i：在新容器内指定一个伪终端或终端\n",
    "    - -t：允许你对容器内的标准输入进行交互\n",
    "    - -d:表示以进程方式运行容器\n",
    "    - --name=xx:表示给容器命名为xx\n",
    "    - 比如：docker run -i -t ubuntu:15.10 /bin/bash\n",
    "- docker ps：\n",
    "    - 查看正在运行的容器\n",
    "    - docker ps -a：查看所有的容器，包括没运行的\n",
    "    - 结果：\n",
    "        - CONTAINER ID: 容器 ID。\n",
    "        - IMAGE: 使用的镜像。\n",
    "        - COMMAND: 启动容器时运行的命令。\n",
    "        - CREATED: 容器的创建时间。\n",
    "        - STATUS: 容器状态。\n",
    "        - 状态有7种：\n",
    "            - created（已创建）\n",
    "            - restarting（重启中）\n",
    "            - running 或 Up（运行中）\n",
    "            - removing（迁移中）\n",
    "            - paused（暂停）\n",
    "            - exited（停止）\n",
    "            - dead（死亡）\n",
    "        - PORTS: 容器的端口信息和使用的连接类型（tcp\\udp）。\n",
    "\n",
    "        - NAMES: 自动分配的容器名称。\n",
    "\n",
    "        - 在宿主主机内使用 docker logs 命令，查看容器内的标准输出：\n",
    "- docker top ID/容器别名：\n",
    "    - 识别进程的信息，包括PID（进程id）和PPID（父进程ID)\n",
    "    - ps aux | grep ppid:用来查看父进程\n",
    "- pstree -c -p -A $(pgrep dockerd):$\n",
    "    - 列出docker运行的所有子进程为一棵进程树\n",
    "- docker start ID/容器别名\n",
    "    - 启动容器\n",
    "- docker stop ID/容器别名\n",
    "    - 停止容器"
   ]
  },
  {
   "cell_type": "code",
   "execution_count": null,
   "metadata": {},
   "outputs": [],
   "source": []
  },
  {
   "cell_type": "code",
   "execution_count": null,
   "metadata": {},
   "outputs": [],
   "source": []
  }
 ],
 "metadata": {
  "kernelspec": {
   "display_name": "Python 3",
   "language": "python",
   "name": "python3"
  },
  "language_info": {
   "codemirror_mode": {
    "name": "ipython",
    "version": 3
   },
   "file_extension": ".py",
   "mimetype": "text/x-python",
   "name": "python",
   "nbconvert_exporter": "python",
   "pygments_lexer": "ipython3",
   "version": "3.8.8"
  }
 },
 "nbformat": 4,
 "nbformat_minor": 4
}
