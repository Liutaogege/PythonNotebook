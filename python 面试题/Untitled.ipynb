{
 "cells": [
  {
   "cell_type": "code",
   "execution_count": 1,
   "metadata": {},
   "outputs": [
    {
     "ename": "ModuleNotFoundError",
     "evalue": "No module named 'xx'",
     "output_type": "error",
     "traceback": [
      "\u001b[1;31m---------------------------------------------------------------------------\u001b[0m",
      "\u001b[1;31mModuleNotFoundError\u001b[0m                       Traceback (most recent call last)",
      "\u001b[1;32m<ipython-input-1-ec2447fc034d>\u001b[0m in \u001b[0;36m<module>\u001b[1;34m\u001b[0m\n\u001b[0;32m      4\u001b[0m         \u001b[0mself\u001b[0m\u001b[1;33m.\u001b[0m\u001b[0mname\u001b[0m \u001b[1;33m=\u001b[0m \u001b[0mname\u001b[0m\u001b[1;33m\u001b[0m\u001b[1;33m\u001b[0m\u001b[0m\n\u001b[0;32m      5\u001b[0m \u001b[1;33m\u001b[0m\u001b[0m\n\u001b[1;32m----> 6\u001b[1;33m \u001b[1;32mfrom\u001b[0m \u001b[0mxx\u001b[0m\u001b[1;33m.\u001b[0m\u001b[0mpy\u001b[0m \u001b[1;32mimport\u001b[0m \u001b[0mSingleton\u001b[0m\u001b[1;33m\u001b[0m\u001b[1;33m\u001b[0m\u001b[0m\n\u001b[0m",
      "\u001b[1;31mModuleNotFoundError\u001b[0m: No module named 'xx'"
     ]
    }
   ],
   "source": [
    "# 实现方法一：设计为模块\n",
    "class Singleton(object):\n",
    "    def foo(self):\n",
    "        pass\n",
    "singleton = Singleton()\n",
    "\n",
    "from a import singleton"
   ]
  },
  {
   "cell_type": "code",
   "execution_count": 4,
   "metadata": {},
   "outputs": [
    {
     "name": "stdout",
     "output_type": "stream",
     "text": [
      "小西 小西\n"
     ]
    }
   ],
   "source": [
    "# 实现方法二：__new__方法\n",
    "class Singleton():\n",
    "    def __new__(cls, *args, **kwargs):\n",
    "        if not hasattr(cls, \"_instance\"):\n",
    "            cls._instance = super().__new__(cls)\n",
    "        return cls._instance\n",
    "        \n",
    "class First(Singleton):\n",
    "    def __init__(self, name):\n",
    "        self.name = name\n",
    "\n",
    "a = First(\"小米\")\n",
    "b = First(\"小西\")\n",
    "print(a.name, b.name)"
   ]
  },
  {
   "cell_type": "code",
   "execution_count": 19,
   "metadata": {},
   "outputs": [
    {
     "name": "stdout",
     "output_type": "stream",
     "text": [
      "熊爱红 熊爱红\n"
     ]
    }
   ],
   "source": [
    "# 实现方法三：装饰器\n",
    "from functools import wraps\n",
    "\n",
    "def singleton(cls):\n",
    "    _instance = {}\n",
    "    @wraps(cls)\n",
    "    def _singleton(*args, **kwargs):\n",
    "        if cls not in _instance:\n",
    "            _instance[cls] = cls(*args, **kwargs)\n",
    "        return _instance[cls]\n",
    "    return _singleton\n",
    "\n",
    "@singleton\n",
    "class NewClass():\n",
    "    def __init__(self, name):\n",
    "        self.name = name\n",
    "        \n",
    "c = NewClass(\"熊爱红\")\n",
    "d = NewClass(\"熊爱明\")\n",
    "print(c.name, d.name)"
   ]
  },
  {
   "cell_type": "code",
   "execution_count": 28,
   "metadata": {},
   "outputs": [
    {
     "ename": "AttributeError",
     "evalue": "'super' object has no attribute '__call___'",
     "output_type": "error",
     "traceback": [
      "\u001b[1;31m---------------------------------------------------------------------------\u001b[0m",
      "\u001b[1;31mAttributeError\u001b[0m                            Traceback (most recent call last)",
      "\u001b[1;32m<ipython-input-28-d3ae292bb1ee>\u001b[0m in \u001b[0;36m<module>\u001b[1;34m\u001b[0m\n\u001b[0;32m     24\u001b[0m         \u001b[0mself\u001b[0m\u001b[1;33m.\u001b[0m\u001b[0mname\u001b[0m \u001b[1;33m=\u001b[0m \u001b[0mname\u001b[0m\u001b[1;33m\u001b[0m\u001b[1;33m\u001b[0m\u001b[0m\n\u001b[0;32m     25\u001b[0m \u001b[1;33m\u001b[0m\u001b[0m\n\u001b[1;32m---> 26\u001b[1;33m \u001b[0maa\u001b[0m \u001b[1;33m=\u001b[0m \u001b[0mAnother\u001b[0m\u001b[1;33m(\u001b[0m\u001b[1;34m\"小米\"\u001b[0m\u001b[1;33m)\u001b[0m\u001b[1;33m\u001b[0m\u001b[1;33m\u001b[0m\u001b[0m\n\u001b[0m\u001b[0;32m     27\u001b[0m \u001b[0mbb\u001b[0m \u001b[1;33m=\u001b[0m \u001b[0mAnother\u001b[0m\u001b[1;33m(\u001b[0m\u001b[1;34m\"小红\"\u001b[0m\u001b[1;33m)\u001b[0m\u001b[1;33m\u001b[0m\u001b[1;33m\u001b[0m\u001b[0m\n\u001b[0;32m     28\u001b[0m \u001b[0mprint\u001b[0m\u001b[1;33m(\u001b[0m\u001b[0maa\u001b[0m\u001b[1;33m.\u001b[0m\u001b[0mname\u001b[0m\u001b[1;33m,\u001b[0m \u001b[0mbb\u001b[0m\u001b[1;33m.\u001b[0m\u001b[0mname\u001b[0m\u001b[1;33m)\u001b[0m\u001b[1;33m\u001b[0m\u001b[1;33m\u001b[0m\u001b[0m\n",
      "\u001b[1;32m<ipython-input-28-d3ae292bb1ee>\u001b[0m in \u001b[0;36m__call__\u001b[1;34m(cls, *args, **kwargs)\u001b[0m\n\u001b[0;32m     10\u001b[0m             \u001b[1;32mwith\u001b[0m \u001b[0mcls\u001b[0m\u001b[1;33m.\u001b[0m\u001b[0m_instance_lock\u001b[0m\u001b[1;33m:\u001b[0m\u001b[1;33m\u001b[0m\u001b[1;33m\u001b[0m\u001b[0m\n\u001b[0;32m     11\u001b[0m                 \u001b[1;32mif\u001b[0m \u001b[0mcls\u001b[0m \u001b[1;32mnot\u001b[0m \u001b[1;32min\u001b[0m \u001b[0mcls\u001b[0m\u001b[1;33m.\u001b[0m\u001b[0m_instance\u001b[0m\u001b[1;33m:\u001b[0m\u001b[1;33m\u001b[0m\u001b[1;33m\u001b[0m\u001b[0m\n\u001b[1;32m---> 12\u001b[1;33m                     \u001b[0mcls\u001b[0m\u001b[1;33m.\u001b[0m\u001b[0m_instance\u001b[0m\u001b[1;33m[\u001b[0m\u001b[0mcls\u001b[0m\u001b[1;33m]\u001b[0m \u001b[1;33m=\u001b[0m \u001b[0msuper\u001b[0m\u001b[1;33m(\u001b[0m\u001b[0mSingleton_new\u001b[0m\u001b[1;33m,\u001b[0m \u001b[0mcls\u001b[0m\u001b[1;33m)\u001b[0m\u001b[1;33m.\u001b[0m\u001b[0m__call___\u001b[0m\u001b[1;33m(\u001b[0m\u001b[1;33m*\u001b[0m\u001b[0margs\u001b[0m\u001b[1;33m,\u001b[0m \u001b[1;33m**\u001b[0m\u001b[0mkwargs\u001b[0m\u001b[1;33m)\u001b[0m\u001b[1;33m\u001b[0m\u001b[1;33m\u001b[0m\u001b[0m\n\u001b[0m\u001b[0;32m     13\u001b[0m         \u001b[1;32mreturn\u001b[0m \u001b[0mcls\u001b[0m\u001b[1;33m.\u001b[0m\u001b[0m_instance\u001b[0m\u001b[1;33m[\u001b[0m\u001b[0mcls\u001b[0m\u001b[1;33m]\u001b[0m\u001b[1;33m\u001b[0m\u001b[1;33m\u001b[0m\u001b[0m\n\u001b[0;32m     14\u001b[0m \u001b[1;33m\u001b[0m\u001b[0m\n",
      "\u001b[1;31mAttributeError\u001b[0m: 'super' object has no attribute '__call___'"
     ]
    }
   ],
   "source": [
    "# 方法四。使用元类实现单例模式\n",
    "import threading\n",
    "\n",
    "# 要继承type类\n",
    "class Singleton_new(type):\n",
    "    _instance = {}\n",
    "    _instance_lock = threading.Lock()  #加锁\n",
    "    \n",
    "    def __call__(cls, *args, **kwargs):\n",
    "        if cls not in cls._instance:\n",
    "            with cls._instance_lock:  # 加锁就多了这句和下面这句以及上面加锁那句\n",
    "                if cls not in cls._instance:\n",
    "                    cls._instance[cls] = super(Singleton_new, cls).__call__(*args, **kwargs)\n",
    "        return cls._instance[cls]\n",
    "    \n",
    "class MyClass(metaclass=Singleton_new):\n",
    "    def __init__(self, name):\n",
    "        self.name = name\n",
    "        \n",
    "xiao = MyClass(\"小明\")\n",
    "hong = MyClass(\"小红\")\n",
    "print(xiao.name, hong.name)"
   ]
  },
  {
   "cell_type": "code",
   "execution_count": null,
   "metadata": {},
   "outputs": [],
   "source": []
  },
  {
   "cell_type": "code",
   "execution_count": 11,
   "metadata": {},
   "outputs": [
    {
     "name": "stdout",
     "output_type": "stream",
     "text": [
      "hello被装饰了\n",
      "哈哈\n"
     ]
    }
   ],
   "source": [
    "# 自定义装饰器\n",
    "from functools import wraps\n",
    "\n",
    "\n",
    "def wrapper(funcs):\n",
    "    @wraps(funcs)\n",
    "    def _wrapper(*args, **kwargs):\n",
    "        print(\"{}被装饰了\".format(funcs.__name__))\n",
    "        funcs(*args, **kwargs)\n",
    "    return _wrapper\n",
    "\n",
    "@wrapper\n",
    "def hello():\n",
    "    print(\"哈哈\")\n",
    "    \n",
    "    \n",
    "\n",
    "hello()"
   ]
  },
  {
   "cell_type": "code",
   "execution_count": 14,
   "metadata": {},
   "outputs": [
    {
     "name": "stdout",
     "output_type": "stream",
     "text": [
      "参数arg1, arg2分别是2, 3\n",
      "say_hello被装饰了\n",
      "hello everyone\n"
     ]
    }
   ],
   "source": [
    "# 给装饰器传递参数\n",
    "def out_wrapper(arg1, arg2):\n",
    "    def wrapper(funcs):\n",
    "        @wraps(funcs)\n",
    "        def _wrapper(*args, **kwargs):\n",
    "            print(\"参数arg1, arg2分别是{}, {}\".format(arg1, arg2))\n",
    "            print(\"{}被装饰了\".format(funcs.__name__))\n",
    "            funcs(*args, **kwargs)\n",
    "        return _wrapper\n",
    "    return wrapper\n",
    "\n",
    "@out_wrapper(2, 3)\n",
    "def say_hello():\n",
    "    print(\"hello everyone\")\n",
    "    \n",
    "say_hello()"
   ]
  },
  {
   "cell_type": "code",
   "execution_count": null,
   "metadata": {},
   "outputs": [
    {
     "name": "stdout",
     "output_type": "stream",
     "text": [
      "请输一个整数：s\n",
      "你输入的数有问题，请重新输入\n",
      "请输一个整数：35.2\n",
      "你输入的数有问题，请重新输入\n"
     ]
    }
   ],
   "source": [
    "# 判断一个数是否是质数\n",
    "import math\n",
    "\n",
    "def prime_or_not():\n",
    "    while True:\n",
    "        try:\n",
    "            num = int(input(\"请输一个整数：\"))\n",
    "        except:\n",
    "            print(\"你输入的数有问题，请重新输入\")\n",
    "        else:\n",
    "            break\n",
    "    num_sq = math.sqrt(num)\n",
    "    flag = 0\n",
    "    for i in range(2, int(num_sq)+1):\n",
    "        if num % i == 0:\n",
    "            flag = 1\n",
    "            break\n",
    "    if flag == 1 or num == 1:\n",
    "        print(\"该数不是质数\")\n",
    "    else:\n",
    "        print(\"该数是质数\")\n",
    "\n",
    "prime_or_not()"
   ]
  },
  {
   "cell_type": "code",
   "execution_count": 5,
   "metadata": {},
   "outputs": [
    {
     "name": "stdout",
     "output_type": "stream",
     "text": [
      "2\n",
      "3\n",
      "5\n",
      "7\n",
      "11\n",
      "13\n",
      "17\n",
      "19\n",
      "23\n",
      "29\n",
      "31\n",
      "37\n",
      "41\n",
      "43\n",
      "47\n",
      "53\n",
      "59\n",
      "61\n",
      "67\n",
      "71\n",
      "73\n",
      "79\n",
      "83\n",
      "89\n",
      "97\n"
     ]
    }
   ],
   "source": [
    "# 求 1到100之间的素数\n",
    "import math\n",
    "def prime_jihe():\n",
    "    for num in range(2, 101):\n",
    "        num_sq = math.sqrt(num)\n",
    "        flag = 0\n",
    "        for i in range(2, int(num_sq)+1):\n",
    "            if num % i == 0:\n",
    "                flag = 1\n",
    "                break\n",
    "        if flag == 1:\n",
    "            continue\n",
    "        else:\n",
    "            print(num)\n",
    "\n",
    "prime_jihe()"
   ]
  },
  {
   "cell_type": "code",
   "execution_count": null,
   "metadata": {},
   "outputs": [],
   "source": []
  },
  {
   "cell_type": "code",
   "execution_count": null,
   "metadata": {},
   "outputs": [],
   "source": []
  }
 ],
 "metadata": {
  "kernelspec": {
   "display_name": "Python 3",
   "language": "python",
   "name": "python3"
  },
  "language_info": {
   "codemirror_mode": {
    "name": "ipython",
    "version": 3
   },
   "file_extension": ".py",
   "mimetype": "text/x-python",
   "name": "python",
   "nbconvert_exporter": "python",
   "pygments_lexer": "ipython3",
   "version": "3.7.3"
  }
 },
 "nbformat": 4,
 "nbformat_minor": 2
}
