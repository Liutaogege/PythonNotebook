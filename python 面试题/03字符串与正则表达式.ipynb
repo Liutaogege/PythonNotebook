{
 "cells": [
  {
   "cell_type": "markdown",
   "metadata": {},
   "source": [
    "# 格式化字符串的方式有哪些？\n",
    "- 1.%格式化\n",
    "- 2.字符串的format方法\n",
    "- 3.模板字符串\n",
    "    - 通过Template对象封装，$放置一些占位符，并通过substitute方法来用实际的值替换这些占位符\n",
    "- 4.fstring（3.6以后加上去的）\n",
    "\n",
    "# python中有哪种格式化方式可以直接使用变量\n",
    "    - fstring方法\n",
    "\n",
    "#  请用代码描述如何使用fstring格式化字符串"
   ]
  },
  {
   "cell_type": "code",
   "execution_count": 3,
   "metadata": {},
   "outputs": [
    {
     "data": {
      "text/plain": [
       "'my name is liutao, I am from China, 23-years-old, we don\"t use $ as our payment'"
      ]
     },
     "execution_count": 3,
     "metadata": {},
     "output_type": "execute_result"
    }
   ],
   "source": [
    "# 模板字符串格式化\n",
    "from string import Template\n",
    "# 如果使用的变量会会与其他字母挨着，那么使用大括号表示他是一个变量\n",
    "template = Template('my name is $name, I am from $country, ${age}-years-old, we don\"t use $$ as our payment')\n",
    "template.substitute(name=\"liutao\", country=\"China\", age=23)"
   ]
  },
  {
   "cell_type": "code",
   "execution_count": 4,
   "metadata": {},
   "outputs": [
    {
     "name": "stdout",
     "output_type": "stream",
     "text": [
      "my name is jiaojiao, age 23 years old\n"
     ]
    }
   ],
   "source": [
    "# fstring的使用\n",
    "name = \"jiaojiao\"\n",
    "age = 23\n",
    "print(f\"my name is {name}, age {age} years old\")"
   ]
  },
  {
   "cell_type": "markdown",
   "metadata": {},
   "source": [
    "# 详细描述python字符串的基本操作\n",
    "- 1.支持通过索引获取字符串中的某个字符串\n",
    "- 2.支持 切片操作\n",
    "- 3.支持乘法操作\n",
    "- 4.支持in和not in判断 \n",
    "- 5.支持几个函数方法\n",
    "    - 用len判断长度\n",
    "    - 用min和max获取字符串中最大ASCII码值的字符"
   ]
  },
  {
   "cell_type": "code",
   "execution_count": 10,
   "metadata": {},
   "outputs": [
    {
     "name": "stdout",
     "output_type": "stream",
     "text": [
      "y\n",
      "I\n"
     ]
    }
   ],
   "source": [
    "s = \"Iloveyousomuch\"\n",
    "print(max(s))\n",
    "print(min(s))"
   ]
  },
  {
   "cell_type": "markdown",
   "metadata": {},
   "source": [
    "# 字符串的format方法有几种指定参数的方式\n",
    "- 有三种方式\n",
    "    - 默认方式，即一一对应\n",
    "    - 命名参数\n",
    "    - 位置参数\n",
    "\n",
    "\n",
    "# 请详细描述字符串的format方法如何格式化字符串\n",
    "- "
   ]
  },
  {
   "cell_type": "code",
   "execution_count": 13,
   "metadata": {},
   "outputs": [
    {
     "name": "stdout",
     "output_type": "stream",
     "text": [
      "my home is chengdu, my salary is 8000 yuan\n",
      "my home is chengdu, my salary is 8000 yuan\n",
      "my home is chengdu, my salary is 8000\n"
     ]
    }
   ],
   "source": [
    "home = \"chengdu\"\n",
    "money = \"8000\"\n",
    "print(\"my home is {}, my salary is {} yuan\".format(home, money))\n",
    "print(\"my home is {1}, my salary is {0} yuan\".format(money, home))\n",
    "print(\"my home is {home}, my salary is {money}\".format(home=home, money=money))"
   ]
  },
  {
   "cell_type": "markdown",
   "metadata": {},
   "source": [
    "# 让字符串居中的方法有哪些\n",
    "- center方法\n",
    "- format方法"
   ]
  },
  {
   "cell_type": "code",
   "execution_count": 19,
   "metadata": {},
   "outputs": [
    {
     "name": "stdout",
     "output_type": "stream",
     "text": [
      "######I love you so much######\n",
      "######I love you so much######\n",
      "######I love you so much######\n",
      "############I love you so much\n"
     ]
    }
   ],
   "source": [
    "s = \"I love you so much\"\n",
    "print(s.center(30, \"#\"))\n",
    "print(format(s, \"#^30\"))\n",
    "print(\"{:#^30}\".format(s))\n",
    "print(\"{:#>30}\".format(s))"
   ]
  },
  {
   "cell_type": "markdown",
   "metadata": {},
   "source": [
    "# 如何将列表中的元素（字符串类型的值）连接在一起，首尾相接\n",
    "- 使用join方法\n",
    "- 使用print方法中的sep参数\n",
    "\n",
    "# 字符串join方法的作用是什么，使用join应该注意些什么，举例说明\n",
    "- 连接的必须是字符串类型，否则报错"
   ]
  },
  {
   "cell_type": "code",
   "execution_count": 22,
   "metadata": {},
   "outputs": [
    {
     "name": "stdout",
     "output_type": "stream",
     "text": [
      "Ihateyoubutloveyou\n",
      "Ihateyoubutloveyou\n"
     ]
    }
   ],
   "source": [
    "s = ['I', 'hate', 'you', 'but', 'love', 'you']\n",
    "print(*s, sep=\"\")\n",
    "print(\"\".join(s))"
   ]
  },
  {
   "cell_type": "code",
   "execution_count": 23,
   "metadata": {},
   "outputs": [
    {
     "name": "stdout",
     "output_type": "stream",
     "text": [
      "Ihateyoubutloveyou\n",
      "\n"
     ]
    }
   ],
   "source": [
    "from io import StringIO\n",
    "import sys\n",
    "old_stdout = sys.stdout\n",
    "result = StringIO()\n",
    "print(*s, sep=\"\")\n",
    "sys.stdout = old_stdout\n",
    "print(result.getvalue())"
   ]
  },
  {
   "cell_type": "markdown",
   "metadata": {},
   "source": [
    "# 请简要描述python正则表达式中match函数的作用\n",
    "- 来匹配一个字符串是否符合正则表达式\n",
    "\n",
    "# 如何使用正则表达式判断一个字符串中是否包含日期"
   ]
  },
  {
   "cell_type": "code",
   "execution_count": 28,
   "metadata": {},
   "outputs": [
    {
     "name": "stdout",
     "output_type": "stream",
     "text": [
      "I was born at 1997-09-03\n"
     ]
    }
   ],
   "source": [
    "import re\n",
    "\n",
    "s = \"I was born at 1997-09-03, so I am 23 years old this year\"\n",
    "m = re.match(\".*?\\d{4}-\\d{2}-\\d{2}.*?\", s)\n",
    "if m:\n",
    "    print(m.group())"
   ]
  },
  {
   "cell_type": "markdown",
   "metadata": {},
   "source": [
    "# 请描述python正则表达式中的match和search的区别\n",
    "- match用于匹配，匹配符合某个条件的整个句子，search用于搜索，搜索单个结果"
   ]
  },
  {
   "cell_type": "code",
   "execution_count": 37,
   "metadata": {},
   "outputs": [
    {
     "name": "stdout",
     "output_type": "stream",
     "text": [
      "<re.Match object; span=(0, 56), match='I was born at 1997-09-03, so I am 23 years old th>\n",
      "(0, 56)\n",
      "<re.Match object; span=(14, 18), match='1997'>\n",
      "(14, 18)\n",
      "14\n",
      "18\n"
     ]
    }
   ],
   "source": [
    "import re\n",
    "s = \"I was born at 1997-09-03, so I am 23 years old this year\"\n",
    "m1 = re.match(\"\\d{4}\", s)   # 这样就匹配不到\n",
    "m1 = re.match(\".*\\d{4}.*\", s)  # 这样就能找到\n",
    "m2 = re.search(\"\\d{4}\", s)\n",
    "print(m1)\n",
    "print(m1.span())\n",
    "print(m2)\n",
    "print(m2.span())\n",
    "print(m2.start())\n",
    "print(m2.end())"
   ]
  },
  {
   "cell_type": "code",
   "execution_count": 40,
   "metadata": {},
   "outputs": [
    {
     "name": "stdout",
     "output_type": "stream",
     "text": [
      "085-23983923-2932\n",
      "('085', '23983923', '2932')\n",
      "085\n",
      "23983923\n",
      "2932\n"
     ]
    }
   ],
   "source": [
    "# 正则表达式中的分组\n",
    "import re\n",
    "words = \"我的座机号是085-23983923-2932\"\n",
    "m = re.search(r\"(\\d{3})-(\\d{7,})-(\\d{3,})\", words)  #逗号表示至少是几位\n",
    "if m:\n",
    "    print(m.group())\n",
    "    print(m.groups())\n",
    "    print(m.groups()[0])\n",
    "    print(m.groups()[1])\n",
    "    print(m.groups()[2])"
   ]
  },
  {
   "cell_type": "code",
   "execution_count": 49,
   "metadata": {},
   "outputs": [
    {
     "name": "stdout",
     "output_type": "stream",
     "text": [
      "['198@qq.Com', '163@gmail.net']\n"
     ]
    }
   ],
   "source": [
    "# 使用正则表达式查找email\n",
    "import re\n",
    "words = \"my email is 198@qq.Com,  I know your email is 163@gmail.net\"\n",
    "m = re.findall(\"[0-9a-zA-Z]+@[0-9a-zA-Z]+\\.[cn]..\", words, re.I)\n",
    "print(m)"
   ]
  },
  {
   "cell_type": "code",
   "execution_count": 59,
   "metadata": {},
   "outputs": [
    {
     "name": "stdout",
     "output_type": "stream",
     "text": [
      "this appel is 9.89 yuan/jin, and orange is cheaper than it, is 8.89 yuan/jin， berry is 8.00 yuan jin\n"
     ]
    }
   ],
   "source": [
    "# 正则表达式中的替换\n",
    "import re\n",
    "def func(matched):\n",
    "    return format(float(matched.group()), \".2f\")\n",
    "\n",
    "words = \"this appel is 9.888 yuan/jin, and orange is cheaper than it, is 8.8888 yuan/jin， berry is 8 yuan jin\"\n",
    "# sub可以使用函数\n",
    "m = re.sub(r\"\\d+(\\.\\d+)?\", func, words)\n",
    "print(m)"
   ]
  },
  {
   "cell_type": "code",
   "execution_count": null,
   "metadata": {},
   "outputs": [],
   "source": []
  }
 ],
 "metadata": {
  "kernelspec": {
   "display_name": "Python 3",
   "language": "python",
   "name": "python3"
  },
  "language_info": {
   "codemirror_mode": {
    "name": "ipython",
    "version": 3
   },
   "file_extension": ".py",
   "mimetype": "text/x-python",
   "name": "python",
   "nbconvert_exporter": "python",
   "pygments_lexer": "ipython3",
   "version": "3.7.3"
  }
 },
 "nbformat": 4,
 "nbformat_minor": 2
}
