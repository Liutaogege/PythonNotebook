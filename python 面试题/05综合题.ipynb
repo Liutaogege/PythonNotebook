{
 "cells": [
  {
   "cell_type": "markdown",
   "metadata": {},
   "source": [
    "## 如何打开和读取文本文件的内容\n",
    "- 使用open函数或者with open\n",
    "- 然后调用以下几个方法\n",
    "    - read():读取文件的全部内容，如果指定参数n，会读取前n个字符\n",
    "    - readline():按行读取，如果指定参数n，如果当前行字符个数比n大，那么返回当前行的n个字符，如果比n小，返回所有字符\n",
    "    - readlines():返回所有行组成的一个列表，如果指定参数n，该n表示行与行加起来的字符数，如果n大于第一行的数且小于第二行+第一行的字符数，那么返回结果是第一行和第二行组成的列表\n",
    "\n",
    "## 使用open函数打开文件，并返回一个IO对象，，，该对象有3个读取文件的方法，read，readline和readlines。请用代码描述。三个方法的区别"
   ]
  },
  {
   "cell_type": "code",
   "execution_count": 23,
   "metadata": {},
   "outputs": [
    {
     "name": "stdout",
     "output_type": "stream",
     "text": [
      "写入完成\n",
      "['我喜欢你\\n', '不过也许没那么喜欢\\n', '我也不知道我是不是真的还有\\n']\n"
     ]
    }
   ],
   "source": [
    "with open(\"test.txt\", \"w\", encoding=\"utf-8\") as fp:\n",
    "    fp.write(\"我喜欢你\\n\")\n",
    "    fp.write(\"不过也许没那么喜欢\\n\")\n",
    "    fp.write(\"我也不知道我是不是真的还有\\n\")\n",
    "    fp.write(\"一颗心来喜欢一个人\\n\")\n",
    "    fp.write(\"也许我的心早就死了\")\n",
    "    print(\"写入完成\")\n",
    "    \n",
    "    \n",
    "with open(\"test.txt\", \"r\", encoding=\"utf-8\") as fp:\n",
    "# #     con = fp.read()\n",
    "#     con = fp.read(10)  # \\n换行符也算一个字符\n",
    "#     print(con)\n",
    "\n",
    "#     con = fp.readline()\n",
    "#     print(con, end=\"\")\n",
    "#     con1 = fp.readline()\n",
    "#     con2 = fp.readline(3)\n",
    "#     con3 = fp.readline(20)  # 当n很大时，只返回改行的所有字符\n",
    "#     print(con1, end=\"\")\n",
    "#     print(con2, end=\"\")\n",
    "#     print(con3, end=\"\")\n",
    "    \n",
    "#     con =  fp.readlines()\n",
    "#     print(con)\n",
    "    con1 = fp.readlines(15)  #15大于了第一行和第二行字符数之和，所以返回到第三行\n",
    "    print(con1)"
   ]
  },
  {
   "cell_type": "markdown",
   "metadata": {},
   "source": [
    "## 在json序列化时，可以自动处理哪些数据类型\n",
    "- str, int, tuple, list, dict, bool, None\n",
    "- 但datetime不支持json序列化\n",
    "\n",
    "\n",
    "## 在json序列化时，如何处理日期类型\n",
    "- 需要在转换类的default方法中手工完成对日期类型值的处理"
   ]
  },
  {
   "cell_type": "code",
   "execution_count": 32,
   "metadata": {},
   "outputs": [
    {
     "name": "stdout",
     "output_type": "stream",
     "text": [
      "{\"name\": \"jioajioa\", \"date\": \"2021-02-21 12:39:19\"}\n"
     ]
    }
   ],
   "source": [
    "# json序列化处理日期类型，需要自定义类来解决\n",
    "import json\n",
    "from datetime import datetime, date\n",
    "\n",
    "\n",
    "class DateToJson(json.JSONEncoder):\n",
    "    # 有一个default函数\n",
    "    def default(self, obj):\n",
    "        if isinstance(obj, datetime):\n",
    "            return obj.strftime(\"%Y-%m-%d %H:%M:%S\")  # 如果使用年月日会报错\n",
    "        elif isinstance(obj, date):\n",
    "            return obj.strftime(\"%Y-%m-%d\")\n",
    "        else:\n",
    "            return json.JSONEncoder.default(self, obj)\n",
    "\n",
    "\n",
    "d = {'name': 'jioajioa', 'date': datetime.now()}\n",
    "print(json.dumps(d, cls=DateToJson, ensure_ascii=False))"
   ]
  },
  {
   "cell_type": "markdown",
   "metadata": {},
   "source": [
    "## with语句有什么用，请用代码解释\n",
    "- with语句可以确保不管是否抛出异常，都会释放资源\n",
    "\n",
    "## 如何将with语句用于一个自定义类\n",
    "- 需要在类中实现两个魔法函数，__enter__和__exit__，否则会抛出异常"
   ]
  },
  {
   "cell_type": "code",
   "execution_count": 33,
   "metadata": {},
   "outputs": [
    {
     "name": "stdout",
     "output_type": "stream",
     "text": [
      "<class 'ZeroDivisionError'> | division by zero | <traceback object at 0x0000017043191848>\n"
     ]
    }
   ],
   "source": [
    "class FileOpen():\n",
    "    def __init__(self, filename, mode):\n",
    "        self.filename = filename\n",
    "        self.mode = mode\n",
    "\n",
    "    def __enter__(self):\n",
    "        self.fp = open(self.filename, self.mode)\n",
    "        return self.fp\n",
    "\n",
    "    def __exit__(self, exc_type, exc_val, exc_tb):\n",
    "        print(exc_type, \"|\", exc_val, \"|\", exc_tb)\n",
    "        self.fp.close()\n",
    "        # 如果返回True，则会自动吸收异常，不会向外界抛出\n",
    "        return True\n",
    "\n",
    "# 注意：如果代码执行成功，没有任何异常，那么exception_type、exception_value以及trackback将会是None，\n",
    "# 否则的话你可选择处理这个异常或者是直接交给用户处理。如果你想处理这个异常的话，那么必须在__exit__所有结束之后返回True\n",
    "    \n",
    "with FileOpen(\"test.txt\", \"w\") as fp:\n",
    "    fp.write(\"hello world\")\n",
    "    a = 1\n",
    "    b = 0\n",
    "    c = a / b"
   ]
  },
  {
   "cell_type": "code",
   "execution_count": 42,
   "metadata": {},
   "outputs": [
    {
     "name": "stdout",
     "output_type": "stream",
     "text": [
      "{'I': 2, 'l': 2, 'o': 6, 'v': 1, 'e': 4, 'y': 2, 'u': 3, 's': 2, 'm': 1, 'c': 1, 'h': 2, 'p': 1, 'f': 1}\n",
      "o\n",
      "6\n"
     ]
    }
   ],
   "source": [
    "p = \"I love you so much \\n I hope you feel so\"\n",
    "d = {}\n",
    "maxChar = \"\"\n",
    "for w in p:\n",
    "    if w.isspace():\n",
    "        continue\n",
    "    if d.get(w) is None:\n",
    "        d[w] = 1\n",
    "        if maxChar == \"\":\n",
    "            maxChar = w\n",
    "    else:\n",
    "        d[w] += 1\n",
    "        if d[maxChar] < d[w]:\n",
    "            maxChar = w\n",
    "            \n",
    "print(d)\n",
    "print(maxChar)\n",
    "print(d[maxChar])"
   ]
  },
  {
   "cell_type": "markdown",
   "metadata": {},
   "source": [
    "## 请简要描述装饰器的作用\n",
    "- 它本身就是一个函数，主要用于为函数添加额外功能，如插入日志，性能测试\n",
    "\n",
    "## 如何自定义装饰器"
   ]
  },
  {
   "cell_type": "code",
   "execution_count": 50,
   "metadata": {},
   "outputs": [
    {
     "name": "stdout",
     "output_type": "stream",
     "text": [
      "执行\n",
      "2+3 = 5\n",
      "name: add\n"
     ]
    }
   ],
   "source": [
    "# 定义装饰器\n",
    "\n",
    "from functools import wraps\n",
    "\n",
    "# 给装饰器传递参数\n",
    "def log(flag):\n",
    "    def decorate(func):\n",
    "        @wraps(func) #  保证函数签名正确\n",
    "        # 这里是被装饰的函数传递的参数\n",
    "        def _wrap(*args, **kwargs):\n",
    "            try:\n",
    "                if flag:\n",
    "                    func(*args, **kwargs)\n",
    "                    print(\"name:\", func.__name__)\n",
    "            except Exception as e:\n",
    "                print(e.args)\n",
    "        return _wrap\n",
    "    return decorate\n",
    "\n",
    "@log(True)\n",
    "def add(a, b):\n",
    "    print(f\"{a}+{b} = {a+b}\")\n",
    "    \n",
    "add(2, 3)"
   ]
  },
  {
   "cell_type": "markdown",
   "metadata": {},
   "source": [
    "## 如何区分调用的是函数还是方法\n",
    "- 使用type\n",
    "- 使用isinstance函数，types.MethodType, types.FunctionType"
   ]
  },
  {
   "cell_type": "code",
   "execution_count": 57,
   "metadata": {},
   "outputs": [
    {
     "name": "stdout",
     "output_type": "stream",
     "text": [
      "<class 'method'>\n",
      "True\n",
      "<class 'function'>\n",
      "True\n",
      "False\n",
      "True\n",
      "True\n",
      "False\n"
     ]
    }
   ],
   "source": [
    "class Person():\n",
    "    def eat(self):\n",
    "        pass\n",
    "    \n",
    "def eat():\n",
    "    pass\n",
    "\n",
    "print(type(Person().eat))\n",
    "print((type(Person().eat).__name__ == \"method\"))\n",
    "print(type(eat))\n",
    "print((type(eat)).__name__ == \"function\")\n",
    "\n",
    "\n",
    "from types import FunctionType, MethodType\n",
    "\n",
    "print(isinstance(Person().eat,  FunctionType))\n",
    "print(isinstance(Person().eat,  MethodType))\n",
    "print(isinstance(eat,  FunctionType))\n",
    "print(isinstance(eat,  MethodType))"
   ]
  },
  {
   "cell_type": "markdown",
   "metadata": {},
   "source": [
    "## 什么是元类，请用代码解释如何使用元类\n",
    "- 元类，类似于创建类的模板，所有的类都是通过它来创建的，可以自由控制住类的创建过程\n",
    "    - 比如单例模式，ORM模式\n"
   ]
  },
  {
   "cell_type": "code",
   "execution_count": 13,
   "metadata": {},
   "outputs": [
    {
     "name": "stdout",
     "output_type": "stream",
     "text": [
      "大米\n",
      "大米\n"
     ]
    }
   ],
   "source": [
    "# 单例模式的实现\n",
    "# 方法一：使用__new__实现,不要使用__instance\n",
    "\n",
    "class Myclass():\n",
    "    def __new__(cls, *args, **kwargs):\n",
    "        if not hasattr(cls, \"_instance\"):\n",
    "            cls._instance = super().__new__(cls)\n",
    "            # 或者如下的写法\n",
    "#             Myclass._instance = object.__new__(cls)\n",
    "        return cls._instance\n",
    "    \n",
    "    \n",
    "\n",
    "class Ano(Myclass):\n",
    "    def __init__(self, name):\n",
    "        self.name = name\n",
    "x = Ano(\"小米\")\n",
    "m = Ano(\"大米\")\n",
    "\n",
    "print(x.name)\n",
    "print(m.name)\n"
   ]
  },
  {
   "cell_type": "code",
   "execution_count": 15,
   "metadata": {},
   "outputs": [
    {
     "ename": "TypeError",
     "evalue": "object.__new__() takes exactly one argument (the type to instantiate)",
     "output_type": "error",
     "traceback": [
      "\u001b[1;31m---------------------------------------------------------------------------\u001b[0m",
      "\u001b[1;31mTypeError\u001b[0m                                 Traceback (most recent call last)",
      "\u001b[1;32m<ipython-input-15-df29f64b4e9e>\u001b[0m in \u001b[0;36m<module>\u001b[1;34m\u001b[0m\n\u001b[0;32m      9\u001b[0m         \u001b[0mself\u001b[0m\u001b[1;33m.\u001b[0m\u001b[0mname\u001b[0m \u001b[1;33m=\u001b[0m \u001b[0mname\u001b[0m\u001b[1;33m\u001b[0m\u001b[1;33m\u001b[0m\u001b[0m\n\u001b[0;32m     10\u001b[0m \u001b[1;33m\u001b[0m\u001b[0m\n\u001b[1;32m---> 11\u001b[1;33m \u001b[0ma\u001b[0m \u001b[1;33m=\u001b[0m \u001b[0mMyClass\u001b[0m\u001b[1;33m(\u001b[0m\u001b[1;34m\"熊爱红\"\u001b[0m\u001b[1;33m)\u001b[0m\u001b[1;33m\u001b[0m\u001b[1;33m\u001b[0m\u001b[0m\n\u001b[0m\u001b[0;32m     12\u001b[0m \u001b[0mb\u001b[0m \u001b[1;33m=\u001b[0m \u001b[0mMyClass\u001b[0m\u001b[1;33m(\u001b[0m\u001b[1;34m\"哈哈\"\u001b[0m\u001b[1;33m)\u001b[0m\u001b[1;33m\u001b[0m\u001b[1;33m\u001b[0m\u001b[0m\n\u001b[0;32m     13\u001b[0m \u001b[0mprint\u001b[0m\u001b[1;33m(\u001b[0m\u001b[0ma\u001b[0m\u001b[1;33m.\u001b[0m\u001b[0mname\u001b[0m\u001b[1;33m)\u001b[0m\u001b[1;33m\u001b[0m\u001b[1;33m\u001b[0m\u001b[0m\n",
      "\u001b[1;32m<ipython-input-15-df29f64b4e9e>\u001b[0m in \u001b[0;36m__new__\u001b[1;34m(cls, *args, **kw)\u001b[0m\n\u001b[0;32m      2\u001b[0m     \u001b[1;32mdef\u001b[0m \u001b[0m__new__\u001b[0m\u001b[1;33m(\u001b[0m\u001b[0mcls\u001b[0m\u001b[1;33m,\u001b[0m \u001b[1;33m*\u001b[0m\u001b[0margs\u001b[0m\u001b[1;33m,\u001b[0m \u001b[1;33m**\u001b[0m\u001b[0mkw\u001b[0m\u001b[1;33m)\u001b[0m\u001b[1;33m:\u001b[0m\u001b[1;33m\u001b[0m\u001b[1;33m\u001b[0m\u001b[0m\n\u001b[0;32m      3\u001b[0m         \u001b[1;32mif\u001b[0m \u001b[1;32mnot\u001b[0m \u001b[0mhasattr\u001b[0m\u001b[1;33m(\u001b[0m\u001b[0mcls\u001b[0m\u001b[1;33m,\u001b[0m \u001b[1;34m'_instance'\u001b[0m\u001b[1;33m)\u001b[0m\u001b[1;33m:\u001b[0m\u001b[1;33m\u001b[0m\u001b[1;33m\u001b[0m\u001b[0m\n\u001b[1;32m----> 4\u001b[1;33m             \u001b[0mcls\u001b[0m\u001b[1;33m.\u001b[0m\u001b[0m_instance\u001b[0m \u001b[1;33m=\u001b[0m \u001b[0msuper\u001b[0m\u001b[1;33m(\u001b[0m\u001b[0mSingleton\u001b[0m\u001b[1;33m,\u001b[0m \u001b[0mcls\u001b[0m\u001b[1;33m)\u001b[0m\u001b[1;33m.\u001b[0m\u001b[0m__new__\u001b[0m\u001b[1;33m(\u001b[0m\u001b[0mcls\u001b[0m\u001b[1;33m,\u001b[0m \u001b[1;33m*\u001b[0m\u001b[0margs\u001b[0m\u001b[1;33m,\u001b[0m \u001b[1;33m**\u001b[0m\u001b[0mkw\u001b[0m\u001b[1;33m)\u001b[0m\u001b[1;33m\u001b[0m\u001b[1;33m\u001b[0m\u001b[0m\n\u001b[0m\u001b[0;32m      5\u001b[0m         \u001b[1;32mreturn\u001b[0m \u001b[0mcls\u001b[0m\u001b[1;33m.\u001b[0m\u001b[0m_instance\u001b[0m\u001b[1;33m\u001b[0m\u001b[1;33m\u001b[0m\u001b[0m\n\u001b[0;32m      6\u001b[0m \u001b[1;33m\u001b[0m\u001b[0m\n",
      "\u001b[1;31mTypeError\u001b[0m: object.__new__() takes exactly one argument (the type to instantiate)"
     ]
    }
   ],
   "source": [
    "class Singleton(object):\n",
    "    def __new__(cls, *args, **kw):\n",
    "        if not hasattr(cls, '_instance'):\n",
    "            orig = super(Singleton, cls)\n",
    "            cls._instance = orig.__new__(cls, *args, **kw)\n",
    "        return cls._instance\n",
    "\n",
    "class MyClass(Singleton):\n",
    "    a = 1\n"
   ]
  },
  {
   "cell_type": "code",
   "execution_count": 10,
   "metadata": {},
   "outputs": [
    {
     "name": "stdout",
     "output_type": "stream",
     "text": [
      "小红\n",
      "小红\n"
     ]
    }
   ],
   "source": [
    "# 方法一加锁的写法\n",
    "import threading\n",
    "class Singleton(object):\n",
    "    _instance_lock = threading.Lock()\n",
    "\n",
    "    def __init__(self, name):\n",
    "        self.name = name\n",
    "\n",
    "\n",
    "    def __new__(cls, *args, **kwargs):\n",
    "        if not hasattr(Singleton, \"_instance\"):\n",
    "            with Singleton._instance_lock:\n",
    "                if not hasattr(Singleton, \"_instance\"):\n",
    "                    Singleton._instance = object.__new__(cls)  \n",
    "        return Singleton._instance\n",
    "\n",
    "obj1 = Singleton(\"小明\")\n",
    "obj2 = Singleton(\"小红\")\n",
    "print(obj1.name)\n",
    "print(obj2.name)"
   ]
  },
  {
   "cell_type": "code",
   "execution_count": 21,
   "metadata": {},
   "outputs": [
    {
     "name": "stdout",
     "output_type": "stream",
     "text": [
      "小白 小白\n"
     ]
    }
   ],
   "source": [
    "# 方法二：__new__的另一种写法\n",
    "class Myclass():\n",
    "    _instance = None\n",
    "    \n",
    "    def __new__(cls, *args, **kwargs):\n",
    "        if not cls._instance:\n",
    "            cls._instance = super().__new__(cls)\n",
    "        return cls._instance\n",
    "    \n",
    "    def __init__(self, name):\n",
    "        self.name = name\n",
    "    \n",
    "class HisClass(Myclass):\n",
    "    pass\n",
    "\n",
    "\n",
    "# a = Myclass(\"小强\")\n",
    "# aa = Myclass(\"小白\")\n",
    "# print(a.name, aa.name)\n",
    "# 上面的代码依然会出现那种问题\n",
    "\n",
    "c = Myclass(\"小丑\")\n",
    "# print(a.name, b.name)\n",
    "a = HisClass(\"小强\")\n",
    "b = HisClass(\"小帅\")\n",
    "print(a.name, b.name)\n"
   ]
  },
  {
   "cell_type": "code",
   "execution_count": 1,
   "metadata": {},
   "outputs": [
    {
     "name": "stdout",
     "output_type": "stream",
     "text": [
      "小丑 小丑\n"
     ]
    }
   ],
   "source": [
    "# 方法三。使用装饰器\n",
    "from functools import wraps\n",
    "def Singleton(cls):\n",
    "    _instance = {}\n",
    "    @wraps(cls)\n",
    "    def _singleton(*args, **kwargs):\n",
    "        if cls not in _instance:\n",
    "            _instance[cls] = cls(*args, **kwargs)\n",
    "        return _instance[cls]\n",
    "    return _singleton\n",
    "\n",
    "@Singleton\n",
    "class NewClass():\n",
    "    def __init__(self, name):\n",
    "        self.name = name\n",
    "        \n",
    "# 使用继承的方法就会和原来的类得到不一样的结果\n",
    "new_a = NewClass(\"小丑\")\n",
    "new_b = NewClass(\"小天\")\n",
    "print(new_a.name, new_b.name)"
   ]
  },
  {
   "cell_type": "code",
   "execution_count": 20,
   "metadata": {},
   "outputs": [
    {
     "name": "stdout",
     "output_type": "stream",
     "text": [
      "xiaohong xiaohong\n"
     ]
    }
   ],
   "source": [
    "import threading\n",
    "class Singleton(object):\n",
    "    _instance_lock = threading.Lock()\n",
    "\n",
    "    def __init__(self, name):\n",
    "        self.name = name\n",
    "\n",
    "\n",
    "    def __new__(cls, *args, **kwargs):\n",
    "        if not hasattr(Singleton, \"_instance\"):\n",
    "            with Singleton._instance_lock:\n",
    "                if not hasattr(Singleton, \"_instance\"):\n",
    "                    Singleton._instance = object.__new__(cls)  \n",
    "        return Singleton._instance\n",
    "\n",
    "obj1 = Singleton(\"xioamnig\")\n",
    "obj2 = Singleton(\"xiaohong\")\n",
    "print(obj1.name,obj2.name)"
   ]
  },
  {
   "cell_type": "code",
   "execution_count": 2,
   "metadata": {},
   "outputs": [
    {
     "name": "stdout",
     "output_type": "stream",
     "text": [
      "小明 小明\n"
     ]
    }
   ],
   "source": [
    "# 方法四。使用元类实现单例模式\n",
    "import threading\n",
    "\n",
    "# 要继承type类\n",
    "class Singleton_new(type):\n",
    "    _instance = {}\n",
    "    _instance_lock = threading.Lock()  #加锁\n",
    "    \n",
    "    def __call__(cls, *args, **kwargs):\n",
    "        if cls not in cls._instance:\n",
    "            with cls._instance_lock:  # 加锁就多了这句和下面这句以及上面加锁那句\n",
    "                if cls not in cls._instance:\n",
    "                    cls._instance[cls] = super(Singleton_new, cls).__call__(*args, **kwargs)\n",
    "        return cls._instance[cls]\n",
    "    \n",
    "class MyClass(metaclass=Singleton_new):\n",
    "    def __init__(self, name):\n",
    "        self.name = name\n",
    "        \n",
    "xiao = MyClass(\"小明\")\n",
    "hong = MyClass(\"小红\")\n",
    "print(xiao.name, hong.name)"
   ]
  },
  {
   "cell_type": "markdown",
   "metadata": {},
   "source": [
    "# 请用代码说明hasattr，getattr， setattr的作用\n",
    "- hasattr：可以判断一个对象是否包含某个属性\n",
    "- getattr：可以获取对象中某一个属性\n",
    "- setattr：设置对象中某个属性"
   ]
  },
  {
   "cell_type": "code",
   "execution_count": 43,
   "metadata": {},
   "outputs": [
    {
     "name": "stdout",
     "output_type": "stream",
     "text": [
      "True\n",
      "False\n",
      "小明\n"
     ]
    }
   ],
   "source": [
    "class Person:\n",
    "#     name = \"人\"\n",
    "    def __init__(self, name, age):\n",
    "        self.name = name\n",
    "        self.age =age\n",
    "    \n",
    "    def eat(self):\n",
    "        print(\"people can eat\")\n",
    "        \n",
    "person = Person(\"xiaoming\", 23)\n",
    "print(hasattr(person, \"name\"))\n",
    "print(hasattr(Person, \"name\"))\n",
    "setattr(person, \"name\", \"小明\")\n",
    "print(getattr(person, \"name\"))"
   ]
  },
  {
   "cell_type": "markdown",
   "metadata": {},
   "source": [
    "# 请阐述 什么是lambda表达式？并用代码描述lambda表达式的应用场景？\n",
    "- 就是匿名函数 ，一般可以作为函数或方法的参数值使用"
   ]
  },
  {
   "cell_type": "code",
   "execution_count": null,
   "metadata": {},
   "outputs": [],
   "source": [
    "# lambda的使用\n",
    "a = [('a', 1), ('b', 2), ('c', 3),  ('d', 4)]\n",
    "a_list = list(map(lambda x: x[0], a))\n",
    "b_list = list(map(lambda x: x[1], a))\n",
    "print(a_list)\n",
    "print(b_list)"
   ]
  },
  {
   "cell_type": "markdown",
   "metadata": {},
   "source": [
    "# 请描述浅拷贝和深拷贝的区别，请用代码描述？\n",
    "- 浅拷贝copy：只复制深层对象引用\n",
    "- 深拷贝deepcopy：复制深层对象本身\n",
    "\n"
   ]
  },
  {
   "cell_type": "code",
   "execution_count": 48,
   "metadata": {},
   "outputs": [
    {
     "name": "stdout",
     "output_type": "stream",
     "text": [
      "[1, 2, 3, ['ab', 'c'], 5]\n",
      "[1, 2, 3, ['ab', 'c']]\n",
      "[1, 2, 3, ['ab', 'c']]\n",
      "========================================\n",
      "[1, 2, 3, ['ab', 'c', 3]]\n",
      "[1, 2, 3, ['ab', 'c', 3]]\n",
      "[1, 2, 3, ['ab', 'c']]\n"
     ]
    }
   ],
   "source": [
    "import copy\n",
    "\n",
    "a = [1, 2, 3, ['ab', 'c']]\n",
    "\n",
    "a1 = copy.copy(a)\n",
    "a2 = copy.deepcopy(a)\n",
    "a.append(5)\n",
    "print(a)\n",
    "print(a1)\n",
    "print(a2)\n",
    "print(\"=\" * 40)\n",
    "\n",
    "a.remove(5)\n",
    "a[3].append(3)\n",
    "print(a)\n",
    "print(a1)  # 浅拷贝深层对象也会随之改变\n",
    "print(a2)"
   ]
  },
  {
   "cell_type": "markdown",
   "metadata": {},
   "source": [
    "# 编写一个生成器，将二维表转换为一维表\n",
    "- python生成器：\n",
    "    - yield\n",
    "- 递归生成器的编写方法与递归函数类似，只是需要处理元素值的时候需要使用yield个关键字"
   ]
  },
  {
   "cell_type": "code",
   "execution_count": 55,
   "metadata": {},
   "outputs": [
    {
     "name": "stdout",
     "output_type": "stream",
     "text": [
      "a b c d e f "
     ]
    }
   ],
   "source": [
    "a = [['a', 'b'], ['c', 'd'], ['e', 'f']]\n",
    "\n",
    "def result(erWeiList):\n",
    "#     for yiWeiList in erWeiList:\n",
    "#         yield from yiWeiList\n",
    "\n",
    "     # 等价于上面的语句\n",
    "    for yiWeiList in erWeiList:\n",
    "        for ele in yiWeiList:\n",
    "            yield ele\n",
    "       \n",
    "        \n",
    "for res in result(a):\n",
    "    print(res, end=\" \")"
   ]
  },
  {
   "cell_type": "code",
   "execution_count": 61,
   "metadata": {},
   "outputs": [
    {
     "name": "stdout",
     "output_type": "stream",
     "text": [
      "[2, 3, 4, 23, 34, 2, 3, 3, 5]\n"
     ]
    }
   ],
   "source": [
    "# 使用生成器将任意多维的列转换成一维\n",
    "a = [2,3,4, [23, 34, [2, 3, [3,5]]]]\n",
    "\n",
    "def enumList(nestedList):\n",
    "    try:\n",
    "        for sublist in nestedList:\n",
    "            for ele in enumList(sublist):\n",
    "                yield ele\n",
    "    except TypeError:\n",
    "        yield nestedList\n",
    "\n",
    "res = list(enumList(a))\n",
    "print(res)"
   ]
  },
  {
   "cell_type": "markdown",
   "metadata": {},
   "source": [
    "# 如何获取当前日期的年月日以及是一年中的第几天\n",
    "- 使用time模块"
   ]
  },
  {
   "cell_type": "code",
   "execution_count": 71,
   "metadata": {},
   "outputs": [
    {
     "name": "stdout",
     "output_type": "stream",
     "text": [
      "2021-02-21 22:54:33.937118\n",
      "time.struct_time(tm_year=2021, tm_mon=2, tm_mday=21, tm_hour=22, tm_min=54, tm_sec=33, tm_wday=6, tm_yday=52, tm_isdst=0)\n",
      "2021\n",
      "2\n",
      "21\n",
      "52\n"
     ]
    }
   ],
   "source": [
    "from datetime import datetime\n",
    "import time\n",
    "\n",
    "print(datetime.today())\n",
    "localtime = time.localtime()\n",
    "print(localtime)\n",
    "print(localtime.tm_year)\n",
    "print(localtime.tm_mon)\n",
    "print(localtime.tm_mday)\n",
    "print(localtime.tm_yday)"
   ]
  },
  {
   "cell_type": "markdown",
   "metadata": {},
   "source": [
    "# python中进程如何通信\n",
    "-  进程间通信主要包括管道, 系统IPC(包括消息队列,信号量,共享存储), SOCKET"
   ]
  },
  {
   "cell_type": "code",
   "execution_count": 73,
   "metadata": {},
   "outputs": [
    {
     "name": "stdout",
     "output_type": "stream",
     "text": [
      "完成\n"
     ]
    }
   ],
   "source": [
    "from multiprocessing import Process, Queue\n",
    "import time, random\n",
    "import multiprocessing\n",
    "\n",
    "content = ['java', 'python', 'C语言']\n",
    "\n",
    "\n",
    "def write(queue):\n",
    "    for c in content:\n",
    "        print(f\"正在写入==》{c}\")\n",
    "        queue.put_nowait(c)\n",
    "        time.sleep(random.random())\n",
    "\n",
    "\n",
    "def read(queue):\n",
    "    while True:\n",
    "        if not queue.empty():\n",
    "            value = queue.get_nowait()\n",
    "            print(f\"正在读取==》{value}\")\n",
    "            time.sleep(random.random())\n",
    "        else:\n",
    "            break\n",
    "\n",
    "# 代码需要在pycharm上运行，且需要使用freeze_support(),否则报错\n",
    "if __name__ == \"__main__\":\n",
    "    multiprocessing.freeze_support()\n",
    "    queue = Queue()\n",
    "    write_data = Process(target=write, args=(queue,))\n",
    "    read_data = Process(target=read, args=(queue,))\n",
    "    \n",
    "    write_data.start()\n",
    "    write_data.join()\n",
    "    read_data.start()\n",
    "    read_data.join()\n",
    "    print(\"完成\")"
   ]
  },
  {
   "cell_type": "markdown",
   "metadata": {},
   "source": [
    "# 当运行一个线程函数时，如何为该函数传递参数\n",
    "- 通过Thread类中的args参数传递参数"
   ]
  },
  {
   "cell_type": "markdown",
   "metadata": {},
   "source": [
    "# 如何创建和使用在线程内部用的全局对象\n",
    "- threading.local()，local类用于创建一个全局对象，不过该对象只能在线程内部使用，也就是说，全局是针对一个线程而言的"
   ]
  },
  {
   "cell_type": "code",
   "execution_count": null,
   "metadata": {},
   "outputs": [],
   "source": [
    "import threading\n",
    "import time\n",
    "\n",
    "# 创建一个全局变量，不过仅针对一个线程而言\n",
    "a = threading.local()\n",
    "\n",
    "# 定义一个线程函数\n",
    "def worker():\n",
    "    a.x = 0\n",
    "    for i in range(20):\n",
    "        time.sleep(0.01)\n",
    "        a.x += 1\n",
    "    print(\"线程正在工作：\", threading.currentThread(), \"a.x的值是\", a.x)\n",
    "    print()\n",
    "\n",
    "for i in range(10):\n",
    "    working = threading.Thread(target=worker)\n",
    "    working.start()\n"
   ]
  },
  {
   "cell_type": "markdown",
   "metadata": {},
   "source": [
    "## 请描述一下什么是协程，请举例说明\n",
    "- 协程：又称为微线程，纤程，\n",
    "- 通过async/await语法进行声明，是编写异步应用的推荐方式\n",
    "- 使用async修饰要运行的函数，在运行协程函数时，需要使用await\n",
    "\n",
    "## 协程中有哪两个运行任务的函数，如何使用\n",
    "- run和create_task"
   ]
  },
  {
   "cell_type": "code",
   "execution_count": 74,
   "metadata": {},
   "outputs": [
    {
     "ename": "RuntimeError",
     "evalue": "asyncio.run() cannot be called from a running event loop",
     "output_type": "error",
     "traceback": [
      "\u001b[1;31m---------------------------------------------------------------------------\u001b[0m",
      "\u001b[1;31mRuntimeError\u001b[0m                              Traceback (most recent call last)",
      "\u001b[1;32m<ipython-input-74-6eca122a2372>\u001b[0m in \u001b[0;36m<module>\u001b[1;34m\u001b[0m\n\u001b[0;32m      7\u001b[0m     \u001b[0mprint\u001b[0m\u001b[1;33m(\u001b[0m\u001b[1;34m\"world\"\u001b[0m\u001b[1;33m)\u001b[0m\u001b[1;33m\u001b[0m\u001b[1;33m\u001b[0m\u001b[0m\n\u001b[0;32m      8\u001b[0m \u001b[1;33m\u001b[0m\u001b[0m\n\u001b[1;32m----> 9\u001b[1;33m \u001b[0masyncio\u001b[0m\u001b[1;33m.\u001b[0m\u001b[0mrun\u001b[0m\u001b[1;33m(\u001b[0m\u001b[0mmain\u001b[0m\u001b[1;33m(\u001b[0m\u001b[1;33m)\u001b[0m\u001b[1;33m)\u001b[0m\u001b[1;33m\u001b[0m\u001b[1;33m\u001b[0m\u001b[0m\n\u001b[0m",
      "\u001b[1;32me:\\Users\\acer\\Anaconda3\\lib\\asyncio\\runners.py\u001b[0m in \u001b[0;36mrun\u001b[1;34m(main, debug)\u001b[0m\n\u001b[0;32m     32\u001b[0m     \u001b[1;32mif\u001b[0m \u001b[0mevents\u001b[0m\u001b[1;33m.\u001b[0m\u001b[0m_get_running_loop\u001b[0m\u001b[1;33m(\u001b[0m\u001b[1;33m)\u001b[0m \u001b[1;32mis\u001b[0m \u001b[1;32mnot\u001b[0m \u001b[1;32mNone\u001b[0m\u001b[1;33m:\u001b[0m\u001b[1;33m\u001b[0m\u001b[1;33m\u001b[0m\u001b[0m\n\u001b[0;32m     33\u001b[0m         raise RuntimeError(\n\u001b[1;32m---> 34\u001b[1;33m             \"asyncio.run() cannot be called from a running event loop\")\n\u001b[0m\u001b[0;32m     35\u001b[0m \u001b[1;33m\u001b[0m\u001b[0m\n\u001b[0;32m     36\u001b[0m     \u001b[1;32mif\u001b[0m \u001b[1;32mnot\u001b[0m \u001b[0mcoroutines\u001b[0m\u001b[1;33m.\u001b[0m\u001b[0miscoroutine\u001b[0m\u001b[1;33m(\u001b[0m\u001b[0mmain\u001b[0m\u001b[1;33m)\u001b[0m\u001b[1;33m:\u001b[0m\u001b[1;33m\u001b[0m\u001b[1;33m\u001b[0m\u001b[0m\n",
      "\u001b[1;31mRuntimeError\u001b[0m: asyncio.run() cannot be called from a running event loop"
     ]
    }
   ],
   "source": [
    "# 协程示例(需要在pycharm上运行)\n",
    "import asyncio\n",
    "\n",
    "async def main():\n",
    "    print(\"hello\")\n",
    "    await asyncio.sleep(1)\n",
    "    print(\"world\")\n",
    "    \n",
    "asyncio.run(main())"
   ]
  },
  {
   "cell_type": "code",
   "execution_count": null,
   "metadata": {},
   "outputs": [],
   "source": [
    "# 使用run运行任务\n",
    "import asyncio\n",
    "import time\n",
    "\n",
    "async def say_after(delay_time, words):\n",
    "    await asyncio.sleep(delay_time)\n",
    "    print(words)\n",
    "\n",
    "async def func():\n",
    "    print(f\"开始时间为：{time.strftime('%X')}\")\n",
    "    await say_after(1, 'hell0')\n",
    "    await say_after(2, 'world')\n",
    "    print(f\"结束时间为: {time.strftime('%X')}\")\n",
    "\n",
    "asyncio.run(func())"
   ]
  },
  {
   "cell_type": "code",
   "execution_count": null,
   "metadata": {},
   "outputs": [],
   "source": [
    "# 使用create_task运行任务\n",
    "# 协程示例\n",
    "import asyncio\n",
    "import time\n",
    "\n",
    "async def say_after(delay_time, words):\n",
    "    await asyncio.sleep(delay_time)\n",
    "    print(words)\n",
    "\n",
    "async def func1():\n",
    "    task1 = asyncio.create_task(say_after(1, 'hello'))\n",
    "    task2 = asyncio.create_task(say_after(2, 'world'))\n",
    "    print(f\"开始时间为：{time.strftime('%X')}\")\n",
    "    await task1\n",
    "    await task2\n",
    "    print(f\"结束时间为: {time.strftime('%X')}\")\n",
    "\n",
    "asyncio.run(func1())"
   ]
  },
  {
   "cell_type": "markdown",
   "metadata": {},
   "source": [
    "# 请解释什么是线程锁，并举例说明如何使用\n",
    "- 线程锁：目的是将一段代码锁住，，一旦获得锁权限，除非释放线程锁，否则其他任何代码都无法获得锁权限\n",
    "- 为什么需要线程锁：由于多线程同时在完成特定的操作时，由于并不是原子操作，所以在完成操作的过程中可能会被打断，去做其他的操作。可能会产生脏数据"
   ]
  },
  {
   "cell_type": "code",
   "execution_count": null,
   "metadata": {},
   "outputs": [],
   "source": [
    "from atexit import register\n",
    "from time import sleep, ctime\n",
    "import random\n",
    "from threading import Thread, Lock, currentThread\n",
    "\n",
    "lock = Lock()\n",
    "\n",
    "def func():\n",
    "    lock.acquire()  # 申请锁\n",
    "    for i in range(5):\n",
    "        print(\"Thread Name\", \"=\", currentThread().name, 'i', '=', i)\n",
    "        sleep(random.randint(1, 2))\n",
    "    lock.release()\n",
    "\n",
    "def main():\n",
    "    for i in range(3):\n",
    "        Thread(target=func).start()\n",
    "\n",
    "# register用于在 python 解释器中注册一个退出函数，这个函数在解释器正常终止时自动执行,一般用来做一些资源清理的操作\n",
    "@register\n",
    "def exit():\n",
    "    print(\"线程运行完毕\", ctime())\n",
    "\n",
    "main()"
   ]
  },
  {
   "cell_type": "markdown",
   "metadata": {},
   "source": [
    "# 描述一下什么是信号量，如何使用信号量，请举例说明\n",
    "- 信号量是一个计数器，用于记录资源的消耗情况，当资源消耗时递减，当资源释放时递增，可以认为信号量代表资源是否可用\n",
    "- 最古老的同步语言之一\n"
   ]
  },
  {
   "cell_type": "code",
   "execution_count": 75,
   "metadata": {},
   "outputs": [
    {
     "name": "stdout",
     "output_type": "stream",
     "text": [
      "3\n",
      "2\n",
      "3\n"
     ]
    }
   ],
   "source": [
    "# 信号量的使用\n",
    "from threading import BoundedSemaphore\n",
    "MAX = 3\n",
    "\n",
    "seampphore = BoundedSemaphore(MAX)\n",
    "# 查看剩余的信号量个数\n",
    "print(seampphore._value)\n",
    "\n",
    "# 申请资源，即申请信号量,信号量减去1\n",
    "seampphore.acquire()\n",
    "print(seampphore._value)\n",
    "# 若信号量为0，继续申请但又又没释放，那么就会进入阻塞状态\n",
    "# 可以设置参数blocking=False,那么继续申请就会返回False，申请失败\n",
    "\n",
    "# 释放信号量，信号量加1\n",
    "seampphore.release()\n",
    "print(seampphore._value)\n",
    "# 若信号量已达到最大的释放值，继续释放就会报错\n"
   ]
  },
  {
   "cell_type": "markdown",
   "metadata": {},
   "source": [
    "### 在urls.txt文件中包含了若干个图像url，一行一个url，使用多线程下载这些图像文件，并按url出现的顺序保存为0.jpg, 1.jpb,2.jpg..."
   ]
  },
  {
   "cell_type": "code",
   "execution_count": 85,
   "metadata": {},
   "outputs": [
    {
     "name": "stdout",
     "output_type": "stream",
     "text": [
      "5\n"
     ]
    }
   ],
   "source": [
    "from urllib.request import urlretrieve\n",
    "import threading\n",
    "import os\n",
    "\n",
    "\n",
    "with open(\"图片链接.txt\", \"r\", encoding=\"utf-8\", newline=None) as fp:\n",
    "    # None表示不输入函数，即相当于 [x for x in your_list if x]，所以空字符会被过滤掉\n",
    "    # splitlines()会根据换行符进行分割字符串\n",
    "    pic_url_list = list(filter(None, map(lambda x: x.splitlines()[0], fp.readlines())))\n",
    "\n",
    "\n",
    "class DownloadThread(threading.Thread):\n",
    "    def __init__(self, func, args):\n",
    "        super(DownloadThread, self).__init__(target=func, args=args)\n",
    "\n",
    "os.chdir(\"pictures\")\n",
    "def downlaoding(num, url):\n",
    "    # urlretrieve根据图片url地址进行下载，第二个参数表示保存的文件名\n",
    "    urlretrieve(url, str(num) + \".jpeg\")\n",
    "    print(\"图片下载成功\")\n",
    "\n",
    "\n",
    "for i, url in enumerate(pic_url_list):\n",
    "    try:\n",
    "        thread = DownloadThread(downlaoding, args=(i, url))\n",
    "        thread.start()\n",
    "    except Exception as e:\n",
    "        print(e.args)\n"
   ]
  },
  {
   "cell_type": "markdown",
   "metadata": {},
   "source": [
    "# 自定义异常类\n",
    "- 需要继承Exception\n"
   ]
  },
  {
   "cell_type": "code",
   "execution_count": 1,
   "metadata": {},
   "outputs": [
    {
     "name": "stdout",
     "output_type": "stream",
     "text": [
      "发生了自定义异常\n"
     ]
    }
   ],
   "source": [
    "class MyException(Exception):\n",
    "    pass\n",
    "\n",
    "num = 0\n",
    "try:\n",
    "    if num == 0:\n",
    "        raise MyException\n",
    "except MyException:\n",
    "    print(\"发生了自定义异常\")"
   ]
  },
  {
   "cell_type": "markdown",
   "metadata": {},
   "source": [
    "## python是否支持多继承，举例说明 \n",
    "- 支持\n",
    "\n",
    "## 如果python类的多个父类存在相同的成员，按什么规则处理\n",
    "- 按MRO列表中的顺序来处理"
   ]
  },
  {
   "cell_type": "code",
   "execution_count": 3,
   "metadata": {},
   "outputs": [
    {
     "name": "stdout",
     "output_type": "stream",
     "text": [
      "(<class '__main__.Per'>, <class '__main__.Father'>, <class '__main__.Mother'>, <class 'object'>)\n"
     ]
    }
   ],
   "source": [
    "class Father():\n",
    "    pass\n",
    "class Mother():\n",
    "    pass\n",
    "class Per(Father, Mother):\n",
    "    pass\n",
    "\n",
    "print(Per.__mro__)"
   ]
  },
  {
   "cell_type": "markdown",
   "metadata": {},
   "source": [
    "# 请描述异常捕捉语句中else的作用\n",
    "- except会在发生异常时执行，而else会在代码正常执行时执行"
   ]
  },
  {
   "cell_type": "code",
   "execution_count": null,
   "metadata": {},
   "outputs": [],
   "source": []
  },
  {
   "cell_type": "code",
   "execution_count": null,
   "metadata": {},
   "outputs": [],
   "source": []
  }
 ],
 "metadata": {
  "kernelspec": {
   "display_name": "Python 3",
   "language": "python",
   "name": "python3"
  },
  "language_info": {
   "codemirror_mode": {
    "name": "ipython",
    "version": 3
   },
   "file_extension": ".py",
   "mimetype": "text/x-python",
   "name": "python",
   "nbconvert_exporter": "python",
   "pygments_lexer": "ipython3",
   "version": "3.7.3"
  }
 },
 "nbformat": 4,
 "nbformat_minor": 2
}
