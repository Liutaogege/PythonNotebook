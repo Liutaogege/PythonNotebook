{
 "cells": [
  {
   "cell_type": "markdown",
   "metadata": {},
   "source": [
    "# 返回乱序元素列表"
   ]
  },
  {
   "cell_type": "code",
   "execution_count": null,
   "metadata": {},
   "outputs": [],
   "source": [
    "# 自定义函数返回乱序元素列表\n",
    "# 方法一\n",
    "import random\n",
    "def random_list(a):\n",
    "    length = len(a)\n",
    "    for i in range(100):\n",
    "        index1 = random.randint(0, length - 1)\n",
    "        index2 = random.randint(0, length - 1)\n",
    "        a[index1], a[index2] = a[index2], a[index1]\n",
    "    return a\n",
    "a = [1, 2, 3, 4, 5, 6, 7, 8]\n",
    "b = random_list(a)\n",
    "print(b)\n",
    "\n",
    "# 方法二\n",
    "def random_list2(a):\n",
    "    a_copy = a.copy()\n",
    "    length = len(a)\n",
    "    result = []\n",
    "    for i in range(length):\n",
    "        index = random.randint(0, len(a_copy) - 1)\n",
    "        result.append(a_copy[index])\n",
    "        del a_copy[index]\n",
    "    return result\n",
    "\n",
    "b = random_list2(a)\n",
    "print(b)\n",
    "\n",
    "# 方法三：使用random.shuffle()\n",
    "random.shuffle(a)\n",
    "print(a)"
   ]
  },
  {
   "cell_type": "code",
   "execution_count": null,
   "metadata": {},
   "outputs": [],
   "source": [
    "a = [1, 2, 3, 4, 5, 6, 7, 8, [1,2]]\n",
    "b = a.copy()\n",
    "# b = a\n",
    "a[-1] = [1,2,3]\n",
    "a[-1].remove(1)\n",
    "\n",
    "print(b,a)"
   ]
  },
  {
   "cell_type": "markdown",
   "metadata": {},
   "source": [
    "# 列表的合并\n",
    "- 有三种方法\n",
    "    - 加号\n",
    "    - extend()\n",
    "    - 单*号"
   ]
  },
  {
   "cell_type": "code",
   "execution_count": 2,
   "metadata": {},
   "outputs": [
    {
     "name": "stdout",
     "output_type": "stream",
     "text": [
      "[1, 3, 4, 2, 5, 8]===[1, 3, 4, 2, 5, 8]===[1, 3, 4, 2, 5, 8, 2, 5, 8]\n"
     ]
    }
   ],
   "source": [
    "s1 = [1, 3, 4]\n",
    "s2 = [2, 5, 8]\n",
    "s = s1 + s2\n",
    "s1.extend(s2)\n",
    "s4 = [*s1, *s2]\n",
    "print(s, s1, s4, sep=\"===\")"
   ]
  },
  {
   "cell_type": "code",
   "execution_count": 4,
   "metadata": {},
   "outputs": [
    {
     "name": "stdout",
     "output_type": "stream",
     "text": [
      "{1: 'a', 2: 'b'}\n"
     ]
    }
   ],
   "source": [
    "# 快速调换字典的key和value\n",
    "d = {'a': 1, 'b': 2}\n",
    "print({v:k for k,v in d.items()})"
   ]
  },
  {
   "cell_type": "code",
   "execution_count": 6,
   "metadata": {},
   "outputs": [
    {
     "name": "stdout",
     "output_type": "stream",
     "text": [
      "{'a': 123, 'b': 345}\n",
      "('a', 123) ('b', 345)\n"
     ]
    }
   ],
   "source": [
    "# 将两个列表或元组合并成一个字典\n",
    "a = ['a', 'b']\n",
    "b = [123, 345]\n",
    "c = dict(zip(a,b))\n",
    "print(c)\n",
    "print(*zip(a, b))"
   ]
  },
  {
   "cell_type": "markdown",
   "metadata": {},
   "source": [
    "# 详细描述列表与元组的区别\n",
    "- 1.语法不同\n",
    "- 2.元组是只读的，列表是可读写的\n",
    "- 3.使用tuple函数后，元组仍然为自身，而使用list函数后，会复制一个新的列表，即一个是可变对象，一个是不可变对象\n",
    "        a = [1, 2, 3]\n",
    "        b = list(a)\n",
    "        t = (1, 3, 4)\n",
    "        p = tuple(t)\n",
    "        print(p is t)\n",
    "        print(a is b)\n",
    "- 4.元组比列表占用的空间更小，当元素较多时，元组速度更快\n",
    "    - 因为列表是可变的，所以内存分配更小的内存块，而元组是不可变的，分配更大的内存块。所以列表占用的空间更大\n",
    "    "
   ]
  },
  {
   "cell_type": "code",
   "execution_count": 14,
   "metadata": {},
   "outputs": [
    {
     "name": "stdout",
     "output_type": "stream",
     "text": [
      "True\n",
      "False\n",
      "64\n",
      "48\n"
     ]
    }
   ],
   "source": [
    "a = [1, 2, 3]\n",
    "b = list(a)\n",
    "t = (1, 3, 4)\n",
    "p = tuple(t)\n",
    "print(p is t)\n",
    "print(a is b)\n",
    "\n",
    "print(a.__sizeof__())\n",
    "print(t.__sizeof__())"
   ]
  },
  {
   "cell_type": "markdown",
   "metadata": {},
   "source": [
    "# 列表排序\n",
    "- 1.对列表排序有哪几种方法\n",
    "    - python自带的sort方法和sorted()\n",
    "- 2.sort和sorted的区别\n",
    "    - sort属于列表。sorted是一个独立函数\n",
    "    - sort方法修改列表本身，而sorted返回一个新的列表\n",
    "- 3.如何实现倒序？\n",
    "    - 将reverse参数设置为True"
   ]
  },
  {
   "cell_type": "code",
   "execution_count": 18,
   "metadata": {},
   "outputs": [
    {
     "name": "stdout",
     "output_type": "stream",
     "text": [
      "[-38, -13, 1, 4, 5, 9]\n",
      "[-38, -13, 1, 4, 5, 9]\n"
     ]
    }
   ],
   "source": [
    "a = [1, -13, -38, 9, 4, 5]\n",
    "b = sorted(a)\n",
    "print(b)\n",
    "a.sort()\n",
    "print(a)"
   ]
  },
  {
   "cell_type": "markdown",
   "metadata": {},
   "source": [
    "# 给类对象进行排序\n",
    "- 如果排序的对象是类对象，如何进行排序？\n",
    "    - 方法一：给类实现__gt__或__lt__方法\n",
    "    - 方法二：使用sort中的参数key"
   ]
  },
  {
   "cell_type": "code",
   "execution_count": 11,
   "metadata": {},
   "outputs": [
    {
     "name": "stdout",
     "output_type": "stream",
     "text": [
      "10\n",
      "10\n",
      "15\n",
      "20\n"
     ]
    }
   ],
   "source": [
    "# 方法一：类对象实现__gt__方法\n",
    "class MyClass():\n",
    "    def __init__(self, value):\n",
    "        self.value = value\n",
    "        \n",
    "    def __gt__(self, other):\n",
    "        return self.value > other.value\n",
    "    \n",
    "    def __str__(self):\n",
    "        return str(self.value)\n",
    "    \n",
    "    def __repr__(self):\n",
    "        return str(self.value)\n",
    "    \n",
    "num1 = MyClass(10)\n",
    "num2 = MyClass(20)\n",
    "num3 = MyClass(15)\n",
    "print(num1)\n",
    "b = sorted([num1, num2, num3])\n",
    "print(b[0].value)\n",
    "print(b[1].value)\n",
    "print(b[2].value)"
   ]
  },
  {
   "cell_type": "code",
   "execution_count": 12,
   "metadata": {},
   "outputs": [
    {
     "name": "stdout",
     "output_type": "stream",
     "text": [
      "[10, 15, 20]\n"
     ]
    }
   ],
   "source": [
    "# 方法二：使用key参数与operator的结合使用\n",
    "import operator\n",
    "num1 = MyClass(10)\n",
    "num2 = MyClass(20)\n",
    "num3 = MyClass(15)\n",
    "a = [MyClass(10), MyClass(20), MyClass(15)]\n",
    "b = sorted(a, key=operator.attrgetter(\"value\"))\n",
    "print(b)"
   ]
  },
  {
   "cell_type": "markdown",
   "metadata": {},
   "source": [
    "# del和pop在删除列表元素上有什么区别\n",
    "- del根据索引删除列表中的元素，没有返回值\n",
    "- pop是列表的一个方法，有返回值"
   ]
  },
  {
   "cell_type": "code",
   "execution_count": 20,
   "metadata": {},
   "outputs": [
    {
     "name": "stdout",
     "output_type": "stream",
     "text": [
      "[1, 4, 'haha']\n",
      "[1, 'haha'] 4\n"
     ]
    }
   ],
   "source": [
    "a = [1, 2, 4, \"haha\"]\n",
    "del a[1]\n",
    "print(a)\n",
    "pop_value = a.pop(1)\n",
    "print(a, pop_value)\n"
   ]
  },
  {
   "cell_type": "markdown",
   "metadata": {},
   "source": [
    "# 如何利用lambda表达式对列表进行升序降序排列\n",
    "- 使用参数key,然后使用lambda表示式或者operator.itemgetter()\n"
   ]
  },
  {
   "cell_type": "code",
   "execution_count": 33,
   "metadata": {},
   "outputs": [
    {
     "name": "stdout",
     "output_type": "stream",
     "text": [
      "[{'name': 'jiaojiao', 'age': 21}, {'name': 'xiaoxiao', 'age': 22}, {'name': 'liutao', 'age': 23}, {'name': 'shasha', 'age': 23}]\n",
      "[{'name': 'jiaojiao', 'age': 21}, {'name': 'xiaoxiao', 'age': 22}, {'name': 'liutao', 'age': 23}, {'name': 'shasha', 'age': 23}]\n"
     ]
    }
   ],
   "source": [
    "import operator\n",
    "# 方法一：使用lambda\n",
    "l = [{\"name\": \"liutao\", \"age\": 23}, {\"name\": \"shasha\", \"age\": 23}, {\"name\": \"jiaojiao\", \"age\": 21}, {\"name\": \"xiaoxiao\", \"age\": 22}]\n",
    "ll = sorted(l, key=lambda d: d['age'])\n",
    "print(ll)\n",
    "\n",
    "# 方法二：使用itemgetter()\n",
    "ll = sorted(l, key=operator.itemgetter('age', 'name'))\n",
    "print(ll)"
   ]
  },
  {
   "cell_type": "markdown",
   "metadata": {},
   "source": [
    "# 字典键值支持哪些数据类型\n",
    "- 由于列表和字典的元素是可变的，所以不能作为字典键值使用"
   ]
  },
  {
   "cell_type": "markdown",
   "metadata": {},
   "source": [
    "# 对生成器对象使用切片\n",
    "- 使用itertools中的islice\n",
    "\n",
    "# python字典与json字符串的转换\n",
    "- json.dumps(dict)将字典转换成json字符串，json.loads()相反"
   ]
  },
  {
   "cell_type": "code",
   "execution_count": 41,
   "metadata": {},
   "outputs": [
    {
     "name": "stdout",
     "output_type": "stream",
     "text": [
      "<class 'range_iterator'>\n",
      "<class 'generator'>\n",
      "[0, 1]\n"
     ]
    }
   ],
   "source": [
    "import itertools\n",
    "g  =(i for i in range(5))\n",
    "gen = iter(range(5))\n",
    "print(type(gen))\n",
    "print(type(g))\n",
    "print(list(itertools.islice(g, 0, 2)))"
   ]
  },
  {
   "cell_type": "code",
   "execution_count": 42,
   "metadata": {},
   "outputs": [
    {
     "name": "stdout",
     "output_type": "stream",
     "text": [
      "{\"name\": \"taotao\", \"age\": 23, \"home\": \"zunyi\"}\n"
     ]
    }
   ],
   "source": [
    "import json\n",
    "a = {\"name\": \"taotao\", \"age\": 23, 'home': \"zunyi\"}\n",
    "json_str = json.dumps(a)\n",
    "print(json_str)"
   ]
  },
  {
   "cell_type": "code",
   "execution_count": null,
   "metadata": {},
   "outputs": [],
   "source": []
  },
  {
   "cell_type": "code",
   "execution_count": null,
   "metadata": {},
   "outputs": [],
   "source": []
  }
 ],
 "metadata": {
  "kernelspec": {
   "display_name": "Python 3",
   "language": "python",
   "name": "python3"
  },
  "language_info": {
   "codemirror_mode": {
    "name": "ipython",
    "version": 3
   },
   "file_extension": ".py",
   "mimetype": "text/x-python",
   "name": "python",
   "nbconvert_exporter": "python",
   "pygments_lexer": "ipython3",
   "version": "3.7.3"
  }
 },
 "nbformat": 4,
 "nbformat_minor": 2
}
