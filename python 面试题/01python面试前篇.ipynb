{
 "cells": [
  {
   "cell_type": "code",
   "execution_count": 5,
   "metadata": {},
   "outputs": [
    {
     "name": "stdout",
     "output_type": "stream",
     "text": [
      "0.8414709848078965\n",
      "0.8414709848078965\n"
     ]
    }
   ],
   "source": [
    "# 导入模块的方法\n",
    "import math\n",
    "from math import sin, cos\n",
    "from math import *\n",
    "import math as mt\n",
    "print(sin(1))\n",
    "print(mt.sin(1))"
   ]
  },
  {
   "cell_type": "markdown",
   "metadata": {},
   "source": [
    "# 设置模块搜索路径\n",
    "- 1.设置模块搜索路径的方式有几种？：一共有4种\n",
    "    - a.设置PYTHON PATH环境变量\n",
    "    - b.添加.pth文件 \n",
    "            是在sys.path的某个目录下添加路径配置文件，最常见的就是在…/site-package/目录下。路径配置文件的扩展名是”.pth”，其中的每一行包含一个单独的路径，该路径会添加到sys.path列表中（已验证）。”.pth”中的路径既可以是绝对路径，也可以是相对路径，如果是相对路径，则是相对于包含”.pth”文件的路径而言的。\n",
    "    - c.通过sys.path设置路径\n",
    "    - d.如果使用pycharm，可以直接设置搜索路径\n",
    "\n",
    "- 2.永久设置python模块搜索路径的方式有几种？\n",
    "    - 有3种，分别对应上面的abd\n",
    "- 3.临时设置python模块搜索路径方式\n",
    "        import sys\n",
    "        sys.path.append(\"路径\")"
   ]
  },
  {
   "cell_type": "markdown",
   "metadata": {},
   "source": [
    "# 字符串的连接\n",
    "- 有以下几种方法\n",
    "- 1.+号连接\n",
    "- 2.直接连接\n",
    "- 3.逗号连接，标准输出重定向\n",
    "- 4.格式化\n",
    "- 5.join\n",
    "\n",
    "# 字符串与非字符串的链接\n",
    "- 加号\n",
    "- 格式化\n",
    "- 逗号连接，标准输出重定向\n",
    "- join"
   ]
  },
  {
   "cell_type": "code",
   "execution_count": 21,
   "metadata": {},
   "outputs": [
    {
     "name": "stdout",
     "output_type": "stream",
     "text": [
      "Ilove\n",
      "Ilove\n",
      "hello kid\n",
      "用逗号连接 \n",
      "Ilove\n"
     ]
    }
   ],
   "source": [
    "# 字符串的连接\n",
    "# 1.使用+号\n",
    "s1 = \"I\"\n",
    "s2 = \"love\"\n",
    "s = s1 + s2\n",
    "# 2.直接拼接\n",
    "s3 = \"I\"\"love\"\n",
    "print(s)\n",
    "print(s3)\n",
    "# 其实print和sys.stdout.write(\"hello\")等价\n",
    "\n",
    "# 3.使用逗号,标准输出重定向\n",
    "import sys\n",
    "from io import StringIO\n",
    "old_stdout = sys.stdout\n",
    "result = StringIO()\n",
    "print(\"hello\", \"kid\")\n",
    "sys.stdout = old_stdout  #恢复标准输出\n",
    "result_str = result.getvalue()\n",
    "print(\"用逗号连接\", result_str)\n",
    "\n",
    "# 4.格式化。比如format\n",
    "s = \"{}{}\".format(s1, s2)\n",
    "print(s)\n",
    "\n",
    "# 5.join\n",
    "s = \"\".join((s1, s2))\n",
    "print(s)"
   ]
  },
  {
   "cell_type": "markdown",
   "metadata": {},
   "source": [
    "# 进制的表示及转换\n",
    "- 二进制，八进制、十六进制的表示？\n",
    "    - 二进制： 0b1101\n",
    "    - 八进制： 0o276\n",
    "    - 十六进制：0xF23\n",
    "    - 注：box不区分大小写\n",
    "- 进制之间的相互转换？\n",
    "    - bin():将十进制转换为二进制,二进制你以Ob开头\n",
    "    - oct():将十进制转换为八进制字符串输出，八进制以Oo开头\n",
    "    - hex():将十进制转换为十六进制字符串输出，十六进制以Ox开头\n",
    "    - 二进制转八进制，十六进制等都可以使用以上的函数相互转换，只是在转换的时候要加上前缀\n",
    "        - 二进制转十六进制：print(hex(0b1101))\n",
    "        - 二进制转八进制：print(oct(0b1101))\n",
    "        - 十六进制转八进制：print(oct(0xFA3))\n",
    "    - 二进制、八进制、十六进制转十进制\n",
    "        - 使用int函数\n",
    "        - int(\"1101\", 2), int(\"267\", 8), int(\"FA3\", 16)"
   ]
  },
  {
   "cell_type": "code",
   "execution_count": 38,
   "metadata": {},
   "outputs": [
    {
     "name": "stdout",
     "output_type": "stream",
     "text": [
      "0xd\n",
      "0o15\n"
     ]
    }
   ],
   "source": [
    "a = 0b1101\n",
    "# 二进制转十六进制，如果不加前缀则表示为十进制转十六进制\n",
    "print(hex(a))\n",
    "print(oct(a))"
   ]
  },
  {
   "cell_type": "markdown",
   "metadata": {},
   "source": [
    "# 改变字符串的首字母为大写"
   ]
  },
  {
   "cell_type": "code",
   "execution_count": 37,
   "metadata": {},
   "outputs": [
    {
     "name": "stdout",
     "output_type": "stream",
     "text": [
      "I love you so much\n",
      "I love you so much\n",
      "I Really Love You So Much\n",
      "I Really Love You So Much \n"
     ]
    }
   ],
   "source": [
    "# 改变字符串首字母的大小写\n",
    "a = \"i love you so much\"\n",
    "\n",
    "# 方法一：直接使用capitalize\n",
    "print(a.capitalize())\n",
    "\n",
    "# 方法二：切片方法\n",
    "b = a[0].upper() + a[1:]\n",
    "print(b)\n",
    "\n",
    "# 如何使得字符串中的每个单词的首字母都变成大写\n",
    "a = \"i really love you so much\"\n",
    "\n",
    "# 方法一：使用title\n",
    "print(a.title())\n",
    "\n",
    "# 方法二：使用split\n",
    "b = a.split(\" \")\n",
    "c = \"\"\n",
    "for i in range(len(b)):\n",
    "    c += b[i].capitalize() + \" \"\n",
    "print(c)"
   ]
  },
  {
   "cell_type": "markdown",
   "metadata": {},
   "source": [
    "# 反转字符串"
   ]
  },
  {
   "cell_type": "code",
   "execution_count": 46,
   "metadata": {},
   "outputs": [
    {
     "name": "stdout",
     "output_type": "stream",
     "text": [
      "uoy evol I\n",
      "uoy evol I\n"
     ]
    }
   ],
   "source": [
    "# 反转字符串\n",
    "# 方法一：使用切片\n",
    "a = \"I love you\"\n",
    "print(a[::-1])\n",
    "\n",
    "# 方法二：使用list+reverse+join\n",
    "b = list(a)\n",
    "b.reverse()\n",
    "print(\"\".join(b))"
   ]
  },
  {
   "cell_type": "markdown",
   "metadata": {},
   "source": [
    "# 格式化整数和浮点数\n"
   ]
  },
  {
   "cell_type": "code",
   "execution_count": 72,
   "metadata": {},
   "outputs": [
    {
     "name": "stdout",
     "output_type": "stream",
     "text": [
      "0000002233\n",
      "0000002233\n",
      "2233000000\n",
      "0000002233\n",
      "22.35\n",
      "22.35\n",
      "0000022.35\n",
      "23\n"
     ]
    }
   ],
   "source": [
    "# 格式化一个整数，按10位输出，不足的补0\n",
    "# 方法一：使用format\n",
    "a = 2233\n",
    "print(\"{:0>10}\".format(a))\n",
    "print(format(a, \"0>10\"))\n",
    "print(\"{:0<10}\".format(a))\n",
    "\n",
    "# 方法二：使用字符方法rjust\n",
    "print(str(a).rjust(10, \"0\"))\n",
    "\n",
    "\n",
    "# 格式化一个浮点数，保留两位小数\n",
    "# 方法一：使用format\n",
    "b = 22.3456\n",
    "print(\"{:.2f}\".format(b))\n",
    "print(format(b, \".2f\"))\n",
    "print(format(b, \"0>10.2f\"))\n",
    "\n",
    "# 方法二：使用floor\n",
    "import math\n",
    "print(math.ceil(b))"
   ]
  },
  {
   "cell_type": "markdown",
   "metadata": {},
   "source": [
    "# 让转义符失效\n",
    "- 三种方法\n",
    "    - 使用r和repr以及转义符\\自身"
   ]
  },
  {
   "cell_type": "code",
   "execution_count": 150,
   "metadata": {},
   "outputs": [
    {
     "name": "stdout",
     "output_type": "stream",
     "text": [
      "hello \\\\n world\n",
      "hello \\n world\n",
      "'hello \\n world'\n"
     ]
    }
   ],
   "source": [
    "print(r\"hello \\\\n world\")\n",
    "print(r\"hello \\n world\")\n",
    "a = \"hello \\n world\"\n",
    "print(repr(a))"
   ]
  },
  {
   "cell_type": "markdown",
   "metadata": {},
   "source": []
  },
  {
   "cell_type": "code",
   "execution_count": 153,
   "metadata": {},
   "outputs": [
    {
     "name": "stdout",
     "output_type": "stream",
     "text": [
      "[7, 1, 5, 4, 2, 6, 3, 8]\n",
      "[2, 4, 1, 6, 8, 7, 3, 5]\n",
      "[4, 8, 6, 5, 2, 3, 1, 7]\n"
     ]
    }
   ],
   "source": []
  },
  {
   "cell_type": "code",
   "execution_count": 140,
   "metadata": {},
   "outputs": [
    {
     "name": "stdout",
     "output_type": "stream",
     "text": [
      "[1, 2, 3, 4, 5, 6, 7, 8, [1, 2]] [1, 2, 3, 4, 5, 6, 7, 8, [2, 3]]\n"
     ]
    }
   ],
   "source": []
  },
  {
   "cell_type": "code",
   "execution_count": null,
   "metadata": {},
   "outputs": [],
   "source": []
  }
 ],
 "metadata": {
  "kernelspec": {
   "display_name": "Python 3",
   "language": "python",
   "name": "python3"
  },
  "language_info": {
   "codemirror_mode": {
    "name": "ipython",
    "version": 3
   },
   "file_extension": ".py",
   "mimetype": "text/x-python",
   "name": "python",
   "nbconvert_exporter": "python",
   "pygments_lexer": "ipython3",
   "version": "3.7.3"
  }
 },
 "nbformat": 4,
 "nbformat_minor": 2
}
